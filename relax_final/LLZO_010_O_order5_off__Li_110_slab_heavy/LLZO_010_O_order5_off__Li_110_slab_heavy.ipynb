{
 "cells": [
  {
   "cell_type": "markdown",
   "id": "d7833af9",
   "metadata": {},
   "source": [
    "This notebook follows from the tutorials of CHGNet to relax LLZO-Li slabs that have been made in `llzo_li_balanced_sliced` directory."
   ]
  },
  {
   "cell_type": "markdown",
   "id": "3d234e1d",
   "metadata": {},
   "source": [
    "\n",
    "LLZO‖Li Interface Relaxation Notebook\n",
    "========================================\n",
    "\n",
    "Each notebook handles only one structure.\n",
    "1. Purpose: (This keeps updating)\n",
    "- Relax a single LLZO‖Li (in this notebook LLZO_001_Zr_code93_sto__Li_110_slab_heavy) heterostructure using CHGNet\n",
    "- Perform multi-stage optimization (in this notebook, CG → FIRE)\n",
    "- Freeze bulk-like regions (15 Å at both ends)\n",
    "- after all this, Relax lattice vectors to relieve interface strain\n",
    "\n",
    "2. This notebook handles:\n",
    "- Structure: LLZO_110_Li_order17_off__Li_100_slab_heavy\n",
    "- Initial lattice height: 86.02 Å\n",
    "- Number of atoms: 738\n",
    "\n",
    "3. Method:\n",
    "- CHGNet (v0.4.0) + ASE interface\n",
    "- Stage 1: SciPyFminCG (no cell relaxation) → fmax target ~0.15 eV/Å\n",
    "- Stage 2: FIRE (with optional cell relaxation) → fmax target ~0.05 eV/Å\n",
    "- FrechetCellFilter used for combined force + stress minimization\n",
    "\n",
    "4. Constraints:\n",
    "- LLZO base: frozen bottom 14.25 Å\n",
    "- Li top: frozen top 14.25 Å\n",
    "- Only interfacial region relaxed\n",
    "- Cell relaxation via `relax_cell=True` and `relax_cell_atoms=\"unconstrained\"`\n",
    "\n",
    "5. Outputs: (This will be decided later)\n",
    "- relaxed_[structure_name].cif\n",
    "- relaxed_[structure_name].traj\n",
    "- (Optional) relaxation_log.pkl with energies, forces\n",
    "\n",
    "6. Visual checks:\n",
    "- Compare pre- and post-relaxation structures\n",
    "- Ensure no Li diffusion into LLZO (via z-analysis)\n",
    "- Confirm convergence (fmax < 0.05 eV/Å)\n",
    "\n",
    "Author: Mehul Darak\n",
    "\n",
    "Date: 15-07-2025\n"
   ]
  },
  {
   "cell_type": "code",
   "execution_count": 1,
   "id": "bcf59eaf",
   "metadata": {},
   "outputs": [],
   "source": [
    "structure_name = \"LLZO_010_O_order5_off__Li_110_slab_heavy\""
   ]
  },
  {
   "cell_type": "code",
   "execution_count": 2,
   "id": "955e570d",
   "metadata": {},
   "outputs": [
    {
     "name": "stdout",
     "output_type": "stream",
     "text": [
      "- Structure: LLZO_010_O_order5_off__Li_110_slab_heavy\n",
      "- Initial lattice height: 71.85 Å\n",
      "- Number of atoms: 842\n"
     ]
    }
   ],
   "source": [
    "from pymatgen.core import Structure\n",
    "import os\n",
    "\n",
    "# Load structure\n",
    "structure_path = (f\"/home/mehuldarak/summer/llzo_li_balanced_sliced/{structure_name}.cif\")  # replace with your file\n",
    "structure = Structure.from_file(structure_path)\n",
    "\n",
    "# Extract info\n",
    "structure_name = os.path.basename(structure_path).replace(\".cif\", \"\")\n",
    "lattice_height = structure.lattice.c\n",
    "num_atoms = len(structure)\n",
    "\n",
    "# Print output\n",
    "print(f\"- Structure: {structure_name}\")\n",
    "print(f\"- Initial lattice height: {lattice_height:.2f} Å\")\n",
    "print(f\"- Number of atoms: {num_atoms}\")\n"
   ]
  },
  {
   "cell_type": "code",
   "execution_count": 3,
   "id": "1846f174",
   "metadata": {},
   "outputs": [
    {
     "name": "stdout",
     "output_type": "stream",
     "text": [
      "Li slab thickness: 22.63 Å\n",
      "Lowest Li slab atom: 34.22 Å\n",
      "LLZO top z: 34.21 Å\n",
      "Li penetration into LLZO: -0.01 Å\n"
     ]
    }
   ],
   "source": [
    "from pymatgen.core import Structure\n",
    "import numpy as np\n",
    "\n",
    "s = Structure.from_file(f\"/home/mehuldarak/summer/llzo_li_balanced_sliced/{structure_name}.cif\")\n",
    "\n",
    "# Get all atoms\n",
    "z_coords = np.array([site.z for site in s.sites])\n",
    "species = np.array([site.species_string for site in s.sites])\n",
    "\n",
    "# Estimate LLZO top (non-Li atoms)\n",
    "llzo_z = z_coords[species != \"Li\"]\n",
    "llzo_top = llzo_z.max()\n",
    "\n",
    "# Now isolate Li slab: Li atoms ABOVE LLZO\n",
    "li_slab_z = np.array([site.z for site in s.sites if site.species_string == \"Li\" and site.z > llzo_top])\n",
    "\n",
    "print(f\"Li slab thickness: {li_slab_z.ptp():.2f} Å\")\n",
    "print(f\"Lowest Li slab atom: {li_slab_z.min():.2f} Å\")\n",
    "print(f\"LLZO top z: {llzo_top:.2f} Å\")\n",
    "print(f\"Li penetration into LLZO: {llzo_top - li_slab_z.min():.2f} Å\")\n"
   ]
  },
  {
   "cell_type": "code",
   "execution_count": 4,
   "id": "ad50b778",
   "metadata": {},
   "outputs": [
    {
     "name": "stdout",
     "output_type": "stream",
     "text": [
      "LLZO slab thickness: 19.21 Å\n",
      "Li slab thickness:   22.63 Å\n",
      "LLZO top z:          34.21 Å\n",
      "Lowest Li atom z:    34.22 Å\n",
      "Li penetration into LLZO: -0.01 Å\n"
     ]
    }
   ],
   "source": [
    "from pymatgen.core import Structure\n",
    "import numpy as np\n",
    "\n",
    "# Load structure\n",
    "structure = Structure.from_file(f\"/home/mehuldarak/summer/llzo_li_balanced_sliced/{structure_name}.cif\")\n",
    "\n",
    "# Get z-coordinates and element types\n",
    "z_coords = np.array([site.z for site in structure.sites])\n",
    "species = np.array([site.species_string for site in structure.sites])\n",
    "\n",
    "# LLZO: non-Li atoms (La, Zr, O)\n",
    "llzo_z = z_coords[species != \"Li\"]\n",
    "llzo_top = llzo_z.max()\n",
    "llzo_bottom = llzo_z.min()\n",
    "llzo_thickness = llzo_top - llzo_bottom\n",
    "\n",
    "# Li slab: Li atoms ABOVE LLZO (i.e. in metallic Li layer)\n",
    "li_slab_z = np.array([\n",
    "    site.z for site in structure.sites\n",
    "    if site.species_string == \"Li\" and site.z > llzo_top\n",
    "])\n",
    "li_thickness = li_slab_z.ptp() if len(li_slab_z) > 0 else 0\n",
    "li_bottom = li_slab_z.min() if len(li_slab_z) > 0 else None\n",
    "\n",
    "# Penetration check\n",
    "penetration = llzo_top - li_bottom if li_bottom is not None else 0\n",
    "\n",
    "# Report\n",
    "print(f\"LLZO slab thickness: {llzo_thickness:.2f} Å\")\n",
    "print(f\"Li slab thickness:   {li_thickness:.2f} Å\")\n",
    "print(f\"LLZO top z:          {llzo_top:.2f} Å\")\n",
    "print(f\"Lowest Li atom z:    {li_bottom:.2f} Å\" if li_bottom else \"No Li slab atoms found\")\n",
    "print(f\"Li penetration into LLZO: {penetration:.2f} Å\")\n"
   ]
  },
  {
   "cell_type": "code",
   "execution_count": 5,
   "id": "9df87ad4",
   "metadata": {},
   "outputs": [
    {
     "name": "stdout",
     "output_type": "stream",
     "text": [
      "Freezing 636 atoms out of 842\n",
      "CHGNet v0.3.0 initialized with 412,525 parameters\n",
      "CHGNet will run on cuda\n"
     ]
    },
    {
     "name": "stderr",
     "output_type": "stream",
     "text": [
      "/tmp/ipykernel_175549/3870098642.py:27: FutureWarning: Please use atoms.calc = calc\n",
      "  structure.set_calculator(calc)\n"
     ]
    }
   ],
   "source": [
    "from pymatgen.io.ase import AseAtomsAdaptor\n",
    "from ase.constraints import FixAtoms\n",
    "from chgnet.model.dynamics import CHGNetCalculator, StructOptimizer\n",
    "from ase.io import read, write\n",
    "import numpy as np\n",
    "\n",
    "# --- Load structure ---\n",
    "structure = read(f\"/home/mehuldarak/summer/llzo_li_balanced_sliced/{structure_name}.cif\")\n",
    "\n",
    "# --- Get z coordinates ---\n",
    "z_coords = structure.get_positions()[:, 2]\n",
    "z_min, z_max = z_coords.min(), z_coords.max()\n",
    "\n",
    "# --- Define freeze zones ---\n",
    "freeze_thickness_llzo = 0.75 * (llzo_thickness)  # in Å\n",
    "freeze_thickness_li = 0.75 * (llzo_thickness)  # in Å\n",
    "llzo_z_threshold = z_min + freeze_thickness_llzo\n",
    "li_z_threshold = z_max - freeze_thickness_li\n",
    "\n",
    "# --- Freeze LLZO base and Li top ---\n",
    "freeze_mask = (z_coords < llzo_z_threshold) | (z_coords > li_z_threshold)\n",
    "structure.set_constraint(FixAtoms(mask=freeze_mask))\n",
    "print(f\"Freezing {np.sum(freeze_mask)} atoms out of {len(structure)}\")\n",
    "\n",
    "# --- Attach CHGNet calculator ---\n",
    "calc = CHGNetCalculator(use_device=\"cuda\")\n",
    "structure.set_calculator(calc)"
   ]
  },
  {
   "cell_type": "code",
   "execution_count": 6,
   "id": "7579efc8",
   "metadata": {},
   "outputs": [
    {
     "name": "stdout",
     "output_type": "stream",
     "text": [
      "             Step     Time          Energy          fmax\n",
      "SciPyFminCG:    0 20:51:00    -1949.906570        3.904140\n",
      "SciPyFminCG:    1 20:51:04    -1996.707457        5.475148\n",
      "SciPyFminCG:    2 20:51:08    -2098.390157        8.169750\n",
      "SciPyFminCG:    3 20:51:10    -2185.039007        3.123722\n",
      "SciPyFminCG:    4 20:51:13    -2200.514905        3.430855\n",
      "SciPyFminCG:    5 20:51:15    -2203.158561        2.002467\n",
      "SciPyFminCG:    6 20:51:18    -2207.089015        1.659509\n",
      "SciPyFminCG:    7 20:51:20    -2209.961725        1.495383\n",
      "SciPyFminCG:    8 20:51:22    -2213.401751        1.387777\n",
      "SciPyFminCG:    9 20:51:24    -2215.719191        1.385055\n",
      "SciPyFminCG:   10 20:51:26    -2217.280612        1.877819\n",
      "SciPyFminCG:   11 20:51:28    -2219.633384        1.906680\n",
      "SciPyFminCG:   12 20:51:30    -2221.706111        2.654606\n",
      "SciPyFminCG:   13 20:51:32    -2223.906114        1.691359\n",
      "SciPyFminCG:   14 20:51:34    -2226.048100        3.265497\n",
      "SciPyFminCG:   15 20:51:36    -2228.238064        1.726318\n",
      "SciPyFminCG:   16 20:51:38    -2230.219451        1.508631\n",
      "SciPyFminCG:   17 20:51:40    -2231.975800        1.174058\n",
      "SciPyFminCG:   18 20:51:42    -2233.578776        0.977908\n",
      "SciPyFminCG:   19 20:51:44    -2234.887455        0.934653\n",
      "SciPyFminCG:   20 20:51:47    -2236.007631        1.198394\n",
      "SciPyFminCG:   21 20:51:49    -2237.400826        1.146083\n",
      "SciPyFminCG:   22 20:51:51    -2238.566371        0.948584\n",
      "SciPyFminCG:   23 20:51:53    -2239.658041        1.265518\n",
      "SciPyFminCG:   24 20:51:55    -2240.705948        1.070085\n",
      "SciPyFminCG:   25 20:51:57    -2241.800027        1.242552\n",
      "SciPyFminCG:   26 20:51:59    -2242.983840        1.154615\n",
      "SciPyFminCG:   27 20:52:01    -2243.994810        1.491072\n",
      "SciPyFminCG:   28 20:52:03    -2244.784755        1.235092\n",
      "SciPyFminCG:   29 20:52:05    -2245.307905        1.535551\n",
      "SciPyFminCG:   30 20:52:07    -2246.277520        1.450960\n",
      "SciPyFminCG:   31 20:52:09    -2247.193937        1.474818\n",
      "SciPyFminCG:   32 20:52:11    -2247.865641        1.255381\n",
      "SciPyFminCG:   33 20:52:13    -2248.633102        1.227293\n",
      "SciPyFminCG:   34 20:52:15    -2249.342146        0.914632\n",
      "SciPyFminCG:   35 20:52:17    -2249.867705        1.049829\n",
      "SciPyFminCG:   36 20:52:19    -2250.453489        1.114073\n",
      "SciPyFminCG:   37 20:52:21    -2250.809015        0.970078\n",
      "SciPyFminCG:   38 20:52:23    -2251.211114        0.831158\n",
      "SciPyFminCG:   39 20:52:25    -2251.618433        0.801832\n",
      "SciPyFminCG:   40 20:52:27    -2251.919756        0.783317\n",
      "SciPyFminCG:   41 20:52:29    -2252.138170        0.666438\n",
      "SciPyFminCG:   42 20:52:31    -2252.380273        1.007051\n",
      "SciPyFminCG:   43 20:52:33    -2252.627193        0.548488\n",
      "SciPyFminCG:   44 20:52:35    -2252.780565        0.853534\n",
      "SciPyFminCG:   45 20:52:37    -2252.940763        0.828167\n",
      "SciPyFminCG:   46 20:52:39    -2253.145727        0.888540\n",
      "SciPyFminCG:   47 20:52:41    -2253.327806        0.720682\n",
      "SciPyFminCG:   48 20:52:43    -2253.518115        0.750475\n",
      "SciPyFminCG:   49 20:52:45    -2253.710031        0.840073\n",
      "SciPyFminCG:   50 20:52:47    -2253.926839        0.958369\n",
      "SciPyFminCG:   51 20:52:49    -2254.101089        0.778953\n",
      "SciPyFminCG:   52 20:52:51    -2254.282565        1.283659\n",
      "SciPyFminCG:   53 20:52:53    -2254.485723        0.791738\n",
      "SciPyFminCG:   54 20:52:55    -2254.606573        0.985276\n",
      "SciPyFminCG:   55 20:52:57    -2254.739067        0.959213\n",
      "SciPyFminCG:   56 20:52:59    -2254.977958        0.997431\n",
      "SciPyFminCG:   57 20:53:01    -2255.137151        1.135717\n",
      "SciPyFminCG:   58 20:53:03    -2255.311602        0.721694\n",
      "SciPyFminCG:   59 20:53:05    -2255.439077        0.722407\n",
      "SciPyFminCG:   60 20:53:07    -2255.575184        1.282073\n",
      "SciPyFminCG:   61 20:53:09    -2255.723337        0.773367\n",
      "SciPyFminCG:   62 20:53:12    -2255.826321        0.513477\n",
      "SciPyFminCG:   63 20:53:14    -2255.911237        0.693722\n",
      "SciPyFminCG:   64 20:53:16    -2256.003983        0.706427\n",
      "SciPyFminCG:   65 20:53:18    -2256.099339        0.489503\n",
      "SciPyFminCG:   66 20:53:20    -2256.177831        0.567716\n",
      "SciPyFminCG:   67 20:53:23    -2256.233438        0.549662\n",
      "SciPyFminCG:   68 20:53:25    -2256.290451        0.465079\n",
      "SciPyFminCG:   69 20:53:27    -2256.353486        0.525668\n",
      "SciPyFminCG:   70 20:53:29    -2256.401063        0.548809\n",
      "SciPyFminCG:   71 20:53:31    -2256.445630        0.308614\n",
      "SciPyFminCG:   72 20:53:34    -2256.475140        0.489347\n",
      "SciPyFminCG:   73 20:53:36    -2256.507059        0.496184\n",
      "SciPyFminCG:   74 20:53:38    -2256.527133        0.317857\n",
      "SciPyFminCG:   75 20:53:40    -2256.554435        0.277360\n",
      "SciPyFminCG:   76 20:53:42    -2256.571700        0.413431\n",
      "SciPyFminCG:   77 20:53:44    -2256.588763        0.343352\n",
      "SciPyFminCG:   78 20:53:46    -2256.601611        0.412757\n",
      "SciPyFminCG:   79 20:53:49    -2256.612251        0.396449\n",
      "SciPyFminCG:   80 20:53:52    -2256.628110        0.202536\n",
      "SciPyFminCG:   81 20:53:54    -2256.636943        0.190800\n",
      "SciPyFminCG:   82 20:53:57    -2256.644170        0.223501\n",
      "SciPyFminCG:   83 20:53:59    -2256.654207        0.257591\n",
      "SciPyFminCG:   84 20:54:01    -2256.668260        0.301324\n",
      "SciPyFminCG:   85 20:54:03    -2256.687531        0.370063\n",
      "SciPyFminCG:   86 20:54:05    -2256.708409        0.297346\n",
      "SciPyFminCG:   87 20:54:08    -2256.723465        0.238647\n",
      "SciPyFminCG:   88 20:54:10    -2256.746552        0.361923\n",
      "SciPyFminCG:   89 20:54:13    -2256.762210        0.242780\n",
      "SciPyFminCG:   90 20:54:15    -2256.773452        0.403235\n",
      "SciPyFminCG:   91 20:54:18    -2256.781682        0.309419\n",
      "SciPyFminCG:   92 20:54:20    -2256.796739        0.238093\n",
      "SciPyFminCG:   93 20:54:22    -2256.804769        0.238956\n",
      "SciPyFminCG:   94 20:54:24    -2256.813200        0.179787\n",
      "SciPyFminCG:   95 20:54:26    -2256.821230        0.198943\n",
      "SciPyFminCG:   96 20:54:28    -2256.830866        0.229156\n",
      "SciPyFminCG:   97 20:54:30    -2256.844517        0.355997\n",
      "SciPyFminCG:   98 20:54:32    -2256.862183        0.261112\n",
      "SciPyFminCG:   99 20:54:34    -2256.887075        0.399951\n",
      "SciPyFminCG:  100 20:54:36    -2256.913976        0.535706\n",
      "SciPyFminCG:  101 20:54:38    -2256.941679        0.415724\n",
      "SciPyFminCG:  102 20:54:40    -2256.971791        0.474180\n",
      "SciPyFminCG:  103 20:54:43    -2257.004714        0.465640\n",
      "SciPyFminCG:  104 20:54:45    -2257.036031        0.597410\n",
      "SciPyFminCG:  105 20:54:47    -2257.058113        0.323105\n",
      "SciPyFminCG:  106 20:54:50    -2257.080798        0.421440\n",
      "SciPyFminCG:  107 20:54:52    -2257.104887        0.212269\n",
      "SciPyFminCG:  108 20:54:54    -2257.121148        0.287123\n",
      "SciPyFminCG:  109 20:54:56    -2257.137409        0.559090\n",
      "SciPyFminCG:  110 20:54:59    -2257.157283        0.316686\n",
      "SciPyFminCG:  111 20:55:01    -2257.172138        0.262658\n",
      "SciPyFminCG:  112 20:55:03    -2257.187395        0.313781\n",
      "SciPyFminCG:  113 20:55:06    -2257.200644        0.329647\n",
      "SciPyFminCG:  114 20:55:09    -2257.213894        0.287947\n",
      "SciPyFminCG:  115 20:55:12    -2257.227545        0.327452\n",
      "SciPyFminCG:  116 20:55:14    -2257.252036        0.331426\n",
      "SciPyFminCG:  117 20:55:16    -2257.282148        0.630989\n",
      "SciPyFminCG:  118 20:55:17    -2257.323904        0.559231\n",
      "SciPyFminCG:  119 20:55:20    -2257.391356        0.770318\n",
      "SciPyFminCG:  120 20:55:23    -2257.502972        0.961265\n",
      "SciPyFminCG:  121 20:55:25    -2257.673809        0.824910\n",
      "SciPyFminCG:  122 20:55:27    -2257.823768        0.762406\n",
      "SciPyFminCG:  123 20:55:29    -2257.945020        0.535618\n",
      "SciPyFminCG:  124 20:55:31    -2258.058643        0.985637\n",
      "SciPyFminCG:  125 20:55:33    -2258.139143        0.855063\n",
      "SciPyFminCG:  126 20:55:35    -2258.273243        0.483766\n",
      "SciPyFminCG:  127 20:55:37    -2258.336479        0.458865\n",
      "SciPyFminCG:  128 20:55:39    -2258.396302        0.814524\n",
      "SciPyFminCG:  129 20:55:41    -2258.453516        0.512880\n",
      "SciPyFminCG:  130 20:55:43    -2258.507316        0.321133\n",
      "SciPyFminCG:  131 20:55:45    -2258.543652        0.517377\n",
      "SciPyFminCG:  132 20:55:48    -2258.572961        0.404759\n",
      "SciPyFminCG:  133 20:55:50    -2258.604278        0.508979\n",
      "SciPyFminCG:  134 20:55:52    -2258.624955        0.344765\n",
      "SciPyFminCG:  135 20:55:55    -2258.642018        0.263150\n",
      "SciPyFminCG:  136 20:55:57    -2258.663900        0.322486\n",
      "SciPyFminCG:  137 20:55:59    -2258.690599        0.370126\n",
      "SciPyFminCG:  138 20:56:01    -2258.718303        0.385919\n",
      "SciPyFminCG:  139 20:56:03    -2258.740586        0.364366\n",
      "SciPyFminCG:  140 20:56:05    -2258.754437        0.197314\n",
      "SciPyFminCG:  141 20:56:08    -2258.766482        0.210429\n",
      "SciPyFminCG:  142 20:56:11    -2258.775315        0.328400\n",
      "SciPyFminCG:  143 20:56:13    -2258.786156        0.396984\n",
      "SciPyFminCG:  144 20:56:15    -2258.802216        0.336570\n",
      "SciPyFminCG:  145 20:56:18    -2258.817874        0.389830\n",
      "SciPyFminCG:  146 20:56:20    -2258.827510        0.266158\n",
      "SciPyFminCG:  147 20:56:23    -2258.839153        0.187743\n",
      "SciPyFminCG:  148 20:56:27    -2258.845176        0.436174\n",
      "SciPyFminCG:  149 20:56:28    -2258.852603        0.233846\n",
      "SciPyFminCG:  150 20:56:30    -2258.861637        0.294466\n",
      "SciPyFminCG:  151 20:56:32    -2258.868864        0.361488\n",
      "SciPyFminCG:  152 20:56:35    -2258.879303        0.217960\n",
      "SciPyFminCG:  153 20:56:37    -2258.889742        0.257800\n",
      "SciPyFminCG:  154 20:56:40    -2258.898976        0.336996\n",
      "SciPyFminCG:  155 20:56:42    -2258.914835        0.305376\n",
      "SciPyFminCG:  156 20:56:45    -2258.929089        0.346244\n",
      "SciPyFminCG:  157 20:56:47    -2258.938524        0.300706\n",
      "SciPyFminCG:  158 20:56:49    -2258.946754        0.416061\n",
      "SciPyFminCG:  159 20:56:52    -2258.959201        0.209433\n",
      "SciPyFminCG:  160 20:56:54    -2258.967632        0.181703\n",
      "SciPyFminCG:  161 20:56:57    -2258.972049        0.294256\n",
      "SciPyFminCG:  162 20:56:59    -2258.976867        0.154806\n",
      "SciPyFminCG:  163 20:57:01    -2258.982889        0.281614\n",
      "SciPyFminCG:  164 20:57:04    -2258.988109        0.216481\n",
      "SciPyFminCG:  165 20:57:06    -2258.993328        0.237337\n",
      "SciPyFminCG:  166 20:57:08    -2258.999351        0.196039\n",
      "SciPyFminCG:  167 20:57:10    -2259.004169        0.221116\n",
      "SciPyFminCG:  168 20:57:13    -2259.007983        0.185269\n",
      "SciPyFminCG:  169 20:57:15    -2259.014607        0.172774\n",
      "SciPyFminCG:  170 20:57:17    -2259.020630        0.244190\n",
      "SciPyFminCG:  171 20:57:19    -2259.028258        0.188148\n",
      "SciPyFminCG:  172 20:57:21    -2259.035084        0.277578\n",
      "SciPyFminCG:  173 20:57:24    -2259.042712        0.235634\n",
      "SciPyFminCG:  174 20:57:26    -2259.049136        0.270249\n",
      "SciPyFminCG:  175 20:57:28    -2259.055962        0.244853\n",
      "SciPyFminCG:  176 20:57:31    -2259.063389        0.217553\n",
      "SciPyFminCG:  177 20:57:34    -2259.068207        0.227777\n",
      "SciPyFminCG:  178 20:57:36    -2259.075635        0.191210\n",
      "SciPyFminCG:  179 20:57:38    -2259.084669        0.200747\n",
      "SciPyFminCG:  180 20:57:40    -2259.090290        0.189077\n",
      "SciPyFminCG:  181 20:57:43    -2259.096111        0.203215\n",
      "SciPyFminCG:  182 20:57:46    -2259.099725        0.124851\n"
     ]
    }
   ],
   "source": [
    "# Stage 1: CG\n",
    "opt1 = StructOptimizer(model=calc, optimizer_class=\"SciPyFminCG\", use_device=\"cuda\")\n",
    "result1 = opt1.relax(structure, fmax=0.15, steps=300, relax_cell=False, verbose=True)"
   ]
  },
  {
   "cell_type": "code",
   "execution_count": 7,
   "id": "9900c903",
   "metadata": {},
   "outputs": [
    {
     "name": "stderr",
     "output_type": "stream",
     "text": [
      "/tmp/ipykernel_175549/3154571052.py:3: FutureWarning: Please use atoms.calc = calc\n",
      "  structure_1.set_calculator(calc)\n"
     ]
    },
    {
     "name": "stdout",
     "output_type": "stream",
     "text": [
      "      Step     Time          Energy          fmax\n",
      "FIRE:    0 20:57:47    -2259.100126        0.124850\n",
      "FIRE:    1 20:57:48    -2259.100528        0.063184\n",
      "FIRE:    2 20:57:49    -2259.101732        0.074450\n",
      "FIRE:    3 20:57:50    -2259.102134        0.099953\n",
      "FIRE:    4 20:57:51    -2259.103539        0.080351\n",
      "FIRE:    5 20:57:52    -2259.104141        0.059828\n",
      "FIRE:    6 20:57:53    -2259.105346        0.081979\n",
      "FIRE:    7 20:57:54    -2259.106149        0.049537\n"
     ]
    }
   ],
   "source": [
    "# Convert back, assign calculator + constraint\n",
    "structure_1 = AseAtomsAdaptor.get_atoms(result1[\"final_structure\"])\n",
    "structure_1.set_calculator(calc)\n",
    "structure_1.set_constraint(FixAtoms(mask=freeze_mask))\n",
    "\n",
    "# Stage 2: FIRE\n",
    "opt2 = StructOptimizer(model=calc, optimizer_class=\"FIRE\", use_device=\"cuda\")\n",
    "result2 = opt2.relax(structure_1, fmax=0.05, steps=400, relax_cell=False, verbose=True)"
   ]
  },
  {
   "cell_type": "code",
   "execution_count": 8,
   "id": "02e25f8e",
   "metadata": {},
   "outputs": [
    {
     "name": "stdout",
     "output_type": "stream",
     "text": [
      "✅ Final structure saved successfully.\n"
     ]
    }
   ],
   "source": [
    "from pymatgen.io.ase import AseAtomsAdaptor\n",
    "from ase.io import write\n",
    "\n",
    "# Extract final structure from result3 (FIRE)\n",
    "final_structure_pmg = result2[\"final_structure\"]  # assuming result2 = FIRE\n",
    "final_structure_ase = AseAtomsAdaptor.get_atoms(final_structure_pmg)\n",
    "\n",
    "# Save as CIF and ASE trajectory\n",
    "write(f\"relaxed_{structure_name}.cif\", final_structure_ase)\n",
    "write(f\"relaxed_{structure_name}.traj\", final_structure_ase)\n",
    "\n",
    "print(\"✅ Final structure saved successfully.\")"
   ]
  },
  {
   "cell_type": "code",
   "execution_count": 9,
   "id": "179da561",
   "metadata": {},
   "outputs": [
    {
     "name": "stdout",
     "output_type": "stream",
     "text": [
      "Li slab thickness: 22.39 Å\n",
      "Lowest Li slab atom: 34.46 Å\n",
      "LLZO top z: 33.84 Å\n",
      "Li penetration into LLZO: -0.62 Å\n"
     ]
    }
   ],
   "source": [
    "from pymatgen.core import Structure\n",
    "import numpy as np\n",
    "\n",
    "s = Structure.from_file(f\"/home/mehuldarak/summer/relax_final/{structure_name}/relaxed_{structure_name}.cif\")\n",
    "\n",
    "# Get all atoms\n",
    "z_coords = np.array([site.z for site in s.sites])\n",
    "species = np.array([site.species_string for site in s.sites])\n",
    "\n",
    "# Estimate LLZO top (non-Li atoms)\n",
    "llzo_z = z_coords[species != \"Li\"]\n",
    "llzo_top = llzo_z.max()\n",
    "\n",
    "# Now isolate Li slab: Li atoms ABOVE LLZO\n",
    "li_slab_z = np.array([site.z for site in s.sites if site.species_string == \"Li\" and site.z > llzo_top])\n",
    "\n",
    "print(f\"Li slab thickness: {li_slab_z.ptp():.2f} Å\")\n",
    "print(f\"Lowest Li slab atom: {li_slab_z.min():.2f} Å\")\n",
    "print(f\"LLZO top z: {llzo_top:.2f} Å\")\n",
    "print(f\"Li penetration into LLZO: {llzo_top - li_slab_z.min():.2f} Å\")\n"
   ]
  },
  {
   "cell_type": "code",
   "execution_count": 10,
   "id": "5d3853c1",
   "metadata": {},
   "outputs": [
    {
     "name": "stdout",
     "output_type": "stream",
     "text": [
      "             Step     Time          Energy          fmax\n",
      "SciPyFminCG:    0 20:57:56    -2259.106149        3.949832\n",
      "SciPyFminCG:    1 20:58:01    -2388.129382        8.104365\n",
      "SciPyFminCG:    2 20:58:02    -2472.115504        2.708677\n",
      "SciPyFminCG:    3 20:58:06    -2526.615093        5.898533\n",
      "SciPyFminCG:    4 20:58:06    -2532.515893        3.716974\n",
      "SciPyFminCG:    5 20:58:08    -2541.176984        1.602665\n",
      "SciPyFminCG:    6 20:58:11    -2545.358172        2.127158\n",
      "SciPyFminCG:    7 20:58:13    -2548.305762        1.086239\n",
      "SciPyFminCG:    8 20:58:15    -2550.619588        3.268270\n",
      "SciPyFminCG:    9 20:58:17    -2554.514309        1.172537\n",
      "SciPyFminCG:   10 20:58:19    -2556.692229        1.390015\n",
      "SciPyFminCG:   11 20:58:21    -2558.968716        2.021119\n",
      "SciPyFminCG:   12 20:58:22    -2562.791569        1.233201\n",
      "SciPyFminCG:   13 20:58:24    -2568.500654        2.190122\n",
      "SciPyFminCG:   14 20:58:25    -2571.229628        2.040364\n",
      "SciPyFminCG:   15 20:58:27    -2575.209064        1.183284\n",
      "SciPyFminCG:   16 20:58:29    -2576.939115        1.363391\n",
      "SciPyFminCG:   17 20:58:31    -2579.873254        1.960380\n",
      "SciPyFminCG:   18 20:58:33    -2583.275137        1.076441\n",
      "SciPyFminCG:   19 20:58:35    -2585.606027        1.337412\n",
      "SciPyFminCG:   20 20:58:38    -2588.094706        1.471383\n",
      "SciPyFminCG:   21 20:58:40    -2590.284670        1.008359\n",
      "SciPyFminCG:   22 20:58:41    -2591.072206        0.993041\n",
      "SciPyFminCG:   23 20:58:43    -2592.400960        0.748737\n",
      "SciPyFminCG:   24 20:58:45    -2593.245509        0.751910\n",
      "SciPyFminCG:   25 20:58:47    -2595.009686        1.182540\n",
      "SciPyFminCG:   26 20:58:49    -2596.822646        1.578683\n",
      "SciPyFminCG:   27 20:58:51    -2598.637412        1.509535\n",
      "SciPyFminCG:   28 20:58:53    -2601.986899        1.778662\n",
      "SciPyFminCG:   29 20:58:55    -2605.135237        1.529895\n",
      "SciPyFminCG:   30 20:58:57    -2607.080490        1.153560\n",
      "SciPyFminCG:   31 20:58:58    -2609.292537        1.346744\n",
      "SciPyFminCG:   32 20:59:00    -2611.254652        1.219927\n",
      "SciPyFminCG:   33 20:59:02    -2613.283617        1.717866\n",
      "SciPyFminCG:   34 20:59:04    -2614.861901        1.379998\n",
      "SciPyFminCG:   35 20:59:06    -2616.141672        1.516630\n",
      "SciPyFminCG:   36 20:59:08    -2617.393740        0.990610\n",
      "SciPyFminCG:   37 20:59:10    -2618.687765        1.310261\n",
      "SciPyFminCG:   38 20:59:11    -2619.859935        0.948243\n",
      "SciPyFminCG:   39 20:59:13    -2621.188890        1.181396\n",
      "SciPyFminCG:   40 20:59:15    -2622.572046        1.469730\n",
      "SciPyFminCG:   41 20:59:17    -2624.033495        0.860758\n",
      "SciPyFminCG:   42 20:59:19    -2625.407217        1.117381\n",
      "SciPyFminCG:   43 20:59:20    -2627.100329        1.098521\n",
      "SciPyFminCG:   44 20:59:22    -2628.593697        0.859697\n",
      "SciPyFminCG:   45 20:59:24    -2630.303873        1.198554\n",
      "SciPyFminCG:   46 20:59:26    -2632.137509        0.871329\n",
      "SciPyFminCG:   47 20:59:28    -2634.321853        1.935402\n",
      "SciPyFminCG:   48 20:59:29    -2637.124301        1.432269\n",
      "SciPyFminCG:   49 20:59:31    -2640.151587        1.543697\n",
      "SciPyFminCG:   50 20:59:33    -2643.822875        1.440637\n",
      "SciPyFminCG:   51 20:59:35    -2647.900076        1.536325\n",
      "SciPyFminCG:   52 20:59:36    -2652.026661        1.728316\n",
      "SciPyFminCG:   53 20:59:38    -2656.434695        2.030179\n",
      "SciPyFminCG:   54 20:59:40    -2660.686748        1.325048\n",
      "SciPyFminCG:   55 20:59:42    -2665.276259        1.737166\n",
      "SciPyFminCG:   56 20:59:43    -2669.417298        1.643887\n",
      "SciPyFminCG:   57 20:59:45    -2673.259824        2.482778\n",
      "SciPyFminCG:   58 20:59:47    -2676.848202        1.736347\n",
      "SciPyFminCG:   59 20:59:49    -2680.775645        1.374457\n",
      "SciPyFminCG:   60 20:59:50    -2684.833373        1.862073\n",
      "SciPyFminCG:   61 20:59:52    -2687.914460        1.988858\n",
      "SciPyFminCG:   62 20:59:54    -2690.883730        1.453767\n",
      "SciPyFminCG:   63 20:59:56    -2693.825900        1.343957\n",
      "SciPyFminCG:   64 20:59:57    -2696.657456        2.738753\n",
      "SciPyFminCG:   65 20:59:59    -2698.941572        1.360254\n",
      "SciPyFminCG:   66 21:00:00    -2701.310404        1.466163\n",
      "SciPyFminCG:   67 21:00:02    -2703.480093        1.240501\n",
      "SciPyFminCG:   68 21:00:04    -2705.392021        1.448643\n",
      "SciPyFminCG:   69 21:00:05    -2706.963881        1.467586\n",
      "SciPyFminCG:   70 21:00:07    -2708.381366        1.374310\n",
      "SciPyFminCG:   71 21:00:09    -2709.662744        1.480626\n",
      "SciPyFminCG:   72 21:00:10    -2710.915815        1.626416\n",
      "SciPyFminCG:   73 21:00:12    -2712.009091        1.160420\n",
      "SciPyFminCG:   74 21:00:14    -2713.086910        1.682650\n",
      "SciPyFminCG:   75 21:00:15    -2714.106310        1.347547\n",
      "SciPyFminCG:   76 21:00:17    -2715.196174        0.911919\n",
      "SciPyFminCG:   77 21:00:19    -2716.305309        1.138257\n",
      "SciPyFminCG:   78 21:00:21    -2717.309051        0.926653\n",
      "SciPyFminCG:   79 21:00:22    -2718.358162        0.964328\n",
      "SciPyFminCG:   80 21:00:24    -2719.586341        0.929162\n",
      "SciPyFminCG:   81 21:00:26    -2720.800869        1.072836\n",
      "SciPyFminCG:   82 21:00:27    -2721.984482        1.043541\n",
      "SciPyFminCG:   83 21:00:29    -2723.245383        1.348468\n",
      "SciPyFminCG:   84 21:00:31    -2724.372385        0.960917\n",
      "SciPyFminCG:   85 21:00:32    -2725.282578        0.814549\n",
      "SciPyFminCG:   86 21:00:34    -2726.193976        0.933058\n",
      "SciPyFminCG:   87 21:00:36    -2727.092928        0.961701\n",
      "SciPyFminCG:   88 21:00:37    -2727.982043        0.994484\n",
      "SciPyFminCG:   89 21:00:39    -2728.924356        1.073979\n",
      "SciPyFminCG:   90 21:00:40    -2729.728554        1.083701\n",
      "SciPyFminCG:   91 21:00:42    -2730.514484        0.864288\n",
      "SciPyFminCG:   92 21:00:44    -2731.333940        0.718406\n",
      "SciPyFminCG:   93 21:00:45    -2732.200370        0.749207\n",
      "SciPyFminCG:   94 21:00:47    -2733.220975        1.068541\n",
      "SciPyFminCG:   95 21:00:49    -2734.445139        1.058282\n",
      "SciPyFminCG:   96 21:00:50    -2735.644812        1.135842\n",
      "SciPyFminCG:   97 21:00:52    -2736.762780        1.555945\n",
      "SciPyFminCG:   98 21:00:53    -2737.875528        1.427513\n",
      "SciPyFminCG:   99 21:00:55    -2739.157106        1.247993\n",
      "SciPyFminCG:  100 21:00:57    -2740.713308        1.370388\n",
      "SciPyFminCG:  101 21:00:58    -2742.171344        1.425265\n",
      "SciPyFminCG:  102 21:01:00    -2743.575580        1.473682\n",
      "SciPyFminCG:  103 21:01:01    -2744.802353        0.875534\n",
      "SciPyFminCG:  104 21:01:03    -2746.062050        1.158432\n",
      "SciPyFminCG:  105 21:01:04    -2747.181222        1.041488\n",
      "SciPyFminCG:  106 21:01:06    -2748.200021        1.317277\n",
      "SciPyFminCG:  107 21:01:08    -2749.183487        0.887919\n",
      "SciPyFminCG:  108 21:01:09    -2750.091071        0.953229\n",
      "SciPyFminCG:  109 21:01:11    -2751.009295        0.894230\n",
      "SciPyFminCG:  110 21:01:12    -2751.806467        1.017345\n",
      "SciPyFminCG:  111 21:01:14    -2752.595609        0.804721\n",
      "SciPyFminCG:  112 21:01:15    -2753.285983        1.053844\n",
      "SciPyFminCG:  113 21:01:17    -2754.069905        0.778078\n",
      "SciPyFminCG:  114 21:01:18    -2754.835560        0.980738\n",
      "SciPyFminCG:  115 21:01:20    -2755.612456        1.142775\n",
      "SciPyFminCG:  116 21:01:21    -2756.256457        0.898132\n",
      "SciPyFminCG:  117 21:01:23    -2756.901663        0.814040\n",
      "SciPyFminCG:  118 21:01:24    -2757.646038        1.119674\n",
      "SciPyFminCG:  119 21:01:26    -2758.380777        1.086485\n",
      "SciPyFminCG:  120 21:01:27    -2759.091226        0.958129\n",
      "SciPyFminCG:  121 21:01:29    -2759.740848        0.897313\n",
      "SciPyFminCG:  122 21:01:30    -2760.414761        1.071448\n",
      "SciPyFminCG:  123 21:01:32    -2761.078435        0.836084\n",
      "SciPyFminCG:  124 21:01:34    -2761.804944        1.162098\n",
      "SciPyFminCG:  125 21:01:35    -2762.660734        0.909376\n",
      "SciPyFminCG:  126 21:01:36    -2763.603449        0.955455\n",
      "SciPyFminCG:  127 21:01:38    -2764.583503        1.286747\n",
      "SciPyFminCG:  128 21:01:39    -2765.575200        1.114264\n",
      "SciPyFminCG:  129 21:01:41    -2766.656833        1.067486\n",
      "SciPyFminCG:  130 21:01:42    -2767.797686        1.305850\n",
      "SciPyFminCG:  131 21:01:44    -2769.062201        1.045195\n",
      "SciPyFminCG:  132 21:01:45    -2770.303830        1.335473\n",
      "SciPyFminCG:  133 21:01:47    -2771.589423        1.302621\n",
      "SciPyFminCG:  134 21:01:48    -2772.625084        0.936878\n",
      "SciPyFminCG:  135 21:01:50    -2773.595502        0.960973\n",
      "SciPyFminCG:  136 21:01:51    -2774.527778        0.992690\n",
      "SciPyFminCG:  137 21:01:52    -2775.389390        1.214337\n",
      "SciPyFminCG:  138 21:01:54    -2776.189774        1.130237\n",
      "SciPyFminCG:  139 21:01:55    -2777.006017        0.889085\n",
      "SciPyFminCG:  140 21:01:57    -2777.645401        0.938662\n",
      "SciPyFminCG:  141 21:01:58    -2778.231586        0.878672\n",
      "SciPyFminCG:  142 21:02:00    -2778.904094        0.820439\n",
      "SciPyFminCG:  143 21:02:01    -2779.478837        0.938190\n",
      "SciPyFminCG:  144 21:02:03    -2780.029891        0.952742\n",
      "SciPyFminCG:  145 21:02:04    -2780.455879        0.929880\n",
      "SciPyFminCG:  146 21:02:06    -2780.910374        0.653244\n",
      "SciPyFminCG:  147 21:02:07    -2781.449986        0.793475\n",
      "SciPyFminCG:  148 21:02:08    -2781.960890        1.304485\n",
      "SciPyFminCG:  149 21:02:10    -2782.522584        1.146718\n",
      "SciPyFminCG:  150 21:02:11    -2783.325177        1.058491\n",
      "SciPyFminCG:  151 21:02:12    -2784.193012        1.001968\n",
      "SciPyFminCG:  152 21:02:14    -2785.014475        0.947164\n",
      "SciPyFminCG:  153 21:02:15    -2785.720306        0.791527\n",
      "SciPyFminCG:  154 21:02:17    -2786.435774        0.825991\n",
      "SciPyFminCG:  155 21:02:18    -2787.052875        0.990570\n",
      "SciPyFminCG:  156 21:02:19    -2787.657127        0.954076\n",
      "SciPyFminCG:  157 21:02:21    -2788.152173        1.113517\n",
      "SciPyFminCG:  158 21:02:22    -2788.579165        0.668798\n",
      "SciPyFminCG:  159 21:02:24    -2789.094888        1.053556\n",
      "SciPyFminCG:  160 21:02:25    -2789.545367        0.720722\n",
      "SciPyFminCG:  161 21:02:26    -2789.978783        0.872123\n",
      "SciPyFminCG:  162 21:02:28    -2790.352376        0.528091\n",
      "SciPyFminCG:  163 21:02:29    -2790.758892        0.774972\n",
      "SciPyFminCG:  164 21:02:31    -2791.144730        0.746664\n",
      "SciPyFminCG:  165 21:02:32    -2791.563692        0.798569\n",
      "SciPyFminCG:  166 21:02:33    -2792.015577        0.712973\n",
      "SciPyFminCG:  167 21:02:35    -2792.430524        1.346195\n",
      "SciPyFminCG:  168 21:02:36    -2792.821983        0.953994\n",
      "SciPyFminCG:  169 21:02:38    -2793.485055        1.398423\n",
      "SciPyFminCG:  170 21:02:39    -2794.022660        0.776994\n",
      "SciPyFminCG:  171 21:02:40    -2794.511884        0.785754\n",
      "SciPyFminCG:  172 21:02:42    -2794.929641        0.916583\n",
      "SciPyFminCG:  173 21:02:43    -2795.442353        0.817481\n",
      "SciPyFminCG:  174 21:02:44    -2795.943822        1.149962\n",
      "SciPyFminCG:  175 21:02:46    -2796.470787        1.141835\n",
      "SciPyFminCG:  176 21:02:47    -2797.017626        0.945253\n",
      "SciPyFminCG:  177 21:02:48    -2797.447629        1.041649\n",
      "SciPyFminCG:  178 21:02:50    -2797.828248        0.833955\n",
      "SciPyFminCG:  179 21:02:51    -2798.259456        0.829141\n",
      "SciPyFminCG:  180 21:02:52    -2798.625822        0.652042\n",
      "SciPyFminCG:  181 21:02:54    -2798.929554        0.781368\n",
      "SciPyFminCG:  182 21:02:55    -2799.283273        1.004756\n",
      "SciPyFminCG:  183 21:02:57    -2799.683565        0.706559\n",
      "SciPyFminCG:  184 21:02:58    -2800.213140        1.065689\n",
      "SciPyFminCG:  185 21:02:59    -2800.595164        0.910670\n",
      "SciPyFminCG:  186 21:03:01    -2801.065317        0.760756\n",
      "SciPyFminCG:  187 21:03:02    -2801.436501        0.817145\n",
      "SciPyFminCG:  188 21:03:03    -2801.720359        0.693258\n",
      "SciPyFminCG:  189 21:03:04    -2801.959852        0.511077\n",
      "SciPyFminCG:  190 21:03:06    -2802.139120        0.561377\n",
      "SciPyFminCG:  191 21:03:07    -2802.364962        0.860590\n",
      "SciPyFminCG:  192 21:03:08    -2802.767463        0.800591\n",
      "SciPyFminCG:  193 21:03:10    -2803.258293        0.813719\n",
      "SciPyFminCG:  194 21:03:11    -2803.629075        0.768863\n",
      "SciPyFminCG:  195 21:03:12    -2803.974563        0.737415\n",
      "SciPyFminCG:  196 21:03:14    -2804.521201        0.890978\n",
      "SciPyFminCG:  197 21:03:15    -2805.127060        1.238062\n",
      "SciPyFminCG:  198 21:03:16    -2805.701000        0.970758\n",
      "SciPyFminCG:  199 21:03:18    -2806.352027        0.966571\n",
      "SciPyFminCG:  200 21:03:19    -2806.940621        0.831961\n",
      "SciPyFminCG:  201 21:03:20    -2807.321843        1.186980\n",
      "SciPyFminCG:  202 21:03:22    -2807.631397        1.191793\n",
      "SciPyFminCG:  203 21:03:23    -2808.126242        1.043992\n",
      "SciPyFminCG:  204 21:03:24    -2808.556646        0.733837\n",
      "SciPyFminCG:  205 21:03:25    -2808.869011        0.677846\n",
      "SciPyFminCG:  206 21:03:27    -2809.103887        0.796315\n",
      "SciPyFminCG:  207 21:03:28    -2809.320494        0.793810\n",
      "SciPyFminCG:  208 21:03:29    -2809.563601        0.534822\n",
      "SciPyFminCG:  209 21:03:31    -2809.779606        0.698864\n",
      "SciPyFminCG:  210 21:03:32    -2810.034556        0.597624\n",
      "SciPyFminCG:  211 21:03:33    -2810.333672        0.707747\n",
      "SciPyFminCG:  212 21:03:35    -2810.652460        0.660035\n",
      "SciPyFminCG:  213 21:03:36    -2811.026655        0.868590\n",
      "SciPyFminCG:  214 21:03:37    -2811.527924        0.826593\n",
      "SciPyFminCG:  215 21:03:38    -2812.153456        1.126863\n",
      "SciPyFminCG:  216 21:03:40    -2812.844432        0.952729\n",
      "SciPyFminCG:  217 21:03:41    -2813.492649        0.878117\n",
      "SciPyFminCG:  218 21:03:42    -2814.114568        0.946094\n",
      "SciPyFminCG:  219 21:03:44    -2814.730464        1.647659\n",
      "SciPyFminCG:  220 21:03:45    -2815.358405        0.906662\n",
      "SciPyFminCG:  221 21:03:46    -2816.020875        1.072172\n",
      "SciPyFminCG:  222 21:03:47    -2816.799377        1.429885\n",
      "SciPyFminCG:  223 21:03:49    -2817.547567        1.047339\n",
      "SciPyFminCG:  224 21:03:50    -2818.317036        1.149279\n",
      "SciPyFminCG:  225 21:03:51    -2819.143517        1.375152\n",
      "SciPyFminCG:  226 21:03:52    -2819.936674        1.366386\n",
      "SciPyFminCG:  227 21:03:53    -2820.766167        1.249400\n",
      "SciPyFminCG:  228 21:03:55    -2821.603890        2.119605\n",
      "SciPyFminCG:  229 21:03:56    -2822.162774        1.359243\n",
      "SciPyFminCG:  230 21:03:57    -2823.054097        1.028226\n",
      "SciPyFminCG:  231 21:03:59    -2823.708537        1.098871\n",
      "SciPyFminCG:  232 21:04:00    -2824.339890        0.828664\n",
      "SciPyFminCG:  233 21:04:01    -2824.829917        1.041400\n",
      "SciPyFminCG:  234 21:04:02    -2825.502625        1.214240\n",
      "SciPyFminCG:  235 21:04:04    -2826.227127        1.358530\n",
      "SciPyFminCG:  236 21:04:05    -2826.959658        1.096500\n",
      "SciPyFminCG:  237 21:04:06    -2827.853992        1.539795\n",
      "SciPyFminCG:  238 21:04:07    -2828.616033        1.466469\n",
      "SciPyFminCG:  239 21:04:08    -2829.273283        1.105343\n",
      "SciPyFminCG:  240 21:04:10    -2829.785794        0.840713\n",
      "SciPyFminCG:  241 21:04:11    -2830.269397        0.699021\n",
      "SciPyFminCG:  242 21:04:12    -2830.862007        1.180108\n",
      "SciPyFminCG:  243 21:04:13    -2831.388771        1.106341\n",
      "SciPyFminCG:  244 21:04:14    -2831.998042        1.515318\n",
      "SciPyFminCG:  245 21:04:16    -2832.583826        1.478827\n",
      "SciPyFminCG:  246 21:04:17    -2833.305115        1.723186\n",
      "SciPyFminCG:  247 21:04:18    -2834.289786        0.984641\n",
      "SciPyFminCG:  248 21:04:19    -2835.423413        1.262004\n",
      "SciPyFminCG:  249 21:04:21    -2836.558846        1.107803\n",
      "SciPyFminCG:  250 21:04:22    -2837.444347        1.065926\n",
      "SciPyFminCG:  251 21:04:23    -2838.692601        1.428869\n",
      "SciPyFminCG:  252 21:04:24    -2840.033601        1.765329\n",
      "SciPyFminCG:  253 21:04:25    -2841.348503        1.381017\n",
      "SciPyFminCG:  254 21:04:27    -2843.152429        2.536621\n",
      "SciPyFminCG:  255 21:04:28    -2845.145861        2.211806\n",
      "SciPyFminCG:  256 21:04:29    -2846.496295        1.329304\n",
      "SciPyFminCG:  257 21:04:30    -2847.814209        1.562924\n",
      "SciPyFminCG:  258 21:04:31    -2848.811527        2.210411\n",
      "SciPyFminCG:  259 21:04:32    -2849.654671        1.315493\n",
      "SciPyFminCG:  260 21:04:33    -2850.893690        2.364602\n",
      "SciPyFminCG:  261 21:04:35    -2852.155796        1.727473\n",
      "SciPyFminCG:  262 21:04:36    -2853.282998        1.393332\n",
      "SciPyFminCG:  263 21:04:37    -2854.176329        1.331701\n",
      "SciPyFminCG:  264 21:04:38    -2855.100374        1.683534\n",
      "SciPyFminCG:  265 21:04:39    -2856.046702        1.283413\n",
      "SciPyFminCG:  266 21:04:40    -2856.918552        1.247509\n",
      "SciPyFminCG:  267 21:04:42    -2857.868293        1.011163\n",
      "SciPyFminCG:  268 21:04:43    -2858.706820        1.284743\n",
      "SciPyFminCG:  269 21:04:44    -2859.543338        1.091313\n",
      "SciPyFminCG:  270 21:04:45    -2860.146989        1.202210\n",
      "SciPyFminCG:  271 21:04:46    -2860.949581        1.107259\n",
      "SciPyFminCG:  272 21:04:47    -2861.722463        1.073608\n",
      "SciPyFminCG:  273 21:04:48    -2862.614990        1.642621\n",
      "SciPyFminCG:  274 21:04:49    -2863.616926        1.558377\n",
      "SciPyFminCG:  275 21:04:50    -2864.653390        1.378134\n",
      "SciPyFminCG:  276 21:04:51    -2865.708925        1.438717\n",
      "SciPyFminCG:  277 21:04:52    -2866.937907        1.207075\n",
      "SciPyFminCG:  278 21:04:54    -2867.957509        1.600878\n",
      "SciPyFminCG:  279 21:04:55    -2869.158787        1.921050\n",
      "SciPyFminCG:  280 21:04:56    -2870.611202        1.631613\n",
      "SciPyFminCG:  281 21:04:57    -2872.031096        1.624684\n",
      "SciPyFminCG:  282 21:04:58    -2873.605165        1.215531\n",
      "SciPyFminCG:  283 21:04:59    -2875.304902        1.005117\n",
      "SciPyFminCG:  284 21:05:00    -2876.753101        1.092191\n",
      "SciPyFminCG:  285 21:05:01    -2878.126622        0.953126\n",
      "SciPyFminCG:  286 21:05:02    -2879.043841        1.711581\n",
      "SciPyFminCG:  287 21:05:03    -2880.241707        1.004392\n",
      "SciPyFminCG:  288 21:05:05    -2881.109141        1.124599\n",
      "SciPyFminCG:  289 21:05:06    -2882.303193        1.310512\n",
      "SciPyFminCG:  290 21:05:07    -2883.475965        1.052717\n",
      "SciPyFminCG:  291 21:05:08    -2884.429721        1.488171\n",
      "SciPyFminCG:  292 21:05:09    -2885.679782        1.398364\n",
      "SciPyFminCG:  293 21:05:10    -2887.060530        0.993203\n",
      "SciPyFminCG:  294 21:05:11    -2888.192149        1.288622\n",
      "SciPyFminCG:  295 21:05:12    -2889.351872        0.978809\n",
      "SciPyFminCG:  296 21:05:13    -2890.080790        1.360593\n",
      "SciPyFminCG:  297 21:05:14    -2890.923131        1.095205\n",
      "SciPyFminCG:  298 21:05:15    -2891.532603        1.314784\n",
      "SciPyFminCG:  299 21:05:17    -2892.505229        1.554741\n",
      "SciPyFminCG:  300 21:05:18    -2893.624201        0.948838\n",
      "SciPyFminCG:  301 21:05:20    -2895.400825        1.936989\n",
      "SciPyFminCG:  302 21:05:21    -2896.651889        1.350768\n",
      "SciPyFminCG:  303 21:05:23    -2899.084558        1.767113\n",
      "SciPyFminCG:  304 21:05:24    -2900.180444        1.428581\n",
      "SciPyFminCG:  305 21:05:26    -2902.235506        2.009800\n",
      "SciPyFminCG:  306 21:05:27    -2902.867462        1.466780\n",
      "SciPyFminCG:  307 21:05:29    -2904.451769        1.892314\n",
      "SciPyFminCG:  308 21:05:30    -2905.132708        1.339568\n",
      "SciPyFminCG:  309 21:05:32    -2906.906119        2.560040\n",
      "SciPyFminCG:  310 21:05:33    -2907.860678        0.958104\n",
      "SciPyFminCG:  311 21:05:35    -2909.791878        3.334327\n",
      "SciPyFminCG:  312 21:05:35    -2910.838380        1.020738\n",
      "SciPyFminCG:  313 21:05:37    -2912.247634        2.670619\n",
      "SciPyFminCG:  314 21:05:38    -2913.081944        1.312996\n",
      "SciPyFminCG:  315 21:05:39    -2913.879920        1.043849\n",
      "SciPyFminCG:  316 21:05:40    -2914.532954        1.315493\n",
      "SciPyFminCG:  317 21:05:41    -2915.080997        0.804751\n",
      "SciPyFminCG:  318 21:05:43    -2915.657146        1.681282\n",
      "SciPyFminCG:  319 21:05:44    -2915.929762        0.801880\n",
      "SciPyFminCG:  320 21:05:45    -2916.324634        0.857675\n",
      "SciPyFminCG:  321 21:05:46    -2916.922864        0.799694\n",
      "SciPyFminCG:  322 21:05:47    -2917.373143        0.955993\n",
      "SciPyFminCG:  323 21:05:48    -2917.720037        0.622780\n",
      "SciPyFminCG:  324 21:05:49    -2917.970972        2.227357\n",
      "SciPyFminCG:  325 21:05:50    -2918.275708        2.553427\n",
      "SciPyFminCG:  326 21:05:52    -2918.632840        1.387449\n",
      "SciPyFminCG:  327 21:05:53    -2919.036143        0.812867\n",
      "SciPyFminCG:  328 21:05:54    -2919.501679        1.383181\n",
      "SciPyFminCG:  329 21:05:55    -2919.882699        1.337221\n",
      "SciPyFminCG:  330 21:05:56    -2920.192856        0.990046\n",
      "SciPyFminCG:  331 21:05:57    -2920.622458        1.270315\n",
      "SciPyFminCG:  332 21:05:58    -2920.878412        1.989577\n",
      "SciPyFminCG:  333 21:05:59    -2921.109072        3.517940\n",
      "SciPyFminCG:  334 21:06:00    -2922.169024        2.167436\n",
      "SciPyFminCG:  335 21:06:01    -2922.802987        1.310263\n",
      "SciPyFminCG:  336 21:06:02    -2923.555794        1.699575\n",
      "SciPyFminCG:  337 21:06:03    -2924.208628        1.775899\n",
      "SciPyFminCG:  338 21:06:04    -2924.801237        1.858358\n",
      "SciPyFminCG:  339 21:06:05    -2925.348879        1.933554\n",
      "SciPyFminCG:  340 21:06:06    -2925.788518        1.967521\n",
      "SciPyFminCG:  341 21:06:07    -2926.538514        2.524303\n",
      "SciPyFminCG:  342 21:06:08    -2927.195765        1.715773\n",
      "SciPyFminCG:  343 21:06:09    -2927.765890        1.724169\n",
      "SciPyFminCG:  344 21:06:10    -2928.356693        4.320063\n",
      "SciPyFminCG:  345 21:06:11    -2929.143627        1.947990\n",
      "SciPyFminCG:  346 21:06:12    -2930.114446        2.357311\n",
      "SciPyFminCG:  347 21:06:13    -2930.961002        2.597527\n",
      "SciPyFminCG:  348 21:06:14    -2931.794309        2.848344\n",
      "SciPyFminCG:  349 21:06:15    -2932.426667        1.888997\n",
      "SciPyFminCG:  350 21:06:16    -2932.981134        1.586986\n",
      "SciPyFminCG:  351 21:06:17    -2933.561698        2.076289\n",
      "SciPyFminCG:  352 21:06:18    -2934.066179        1.649423\n",
      "SciPyFminCG:  353 21:06:19    -2934.556206        1.102349\n",
      "SciPyFminCG:  354 21:06:20    -2935.002069        2.366239\n",
      "SciPyFminCG:  355 21:06:21    -2935.552119        1.501831\n",
      "SciPyFminCG:  356 21:06:22    -2936.252129        1.932548\n",
      "SciPyFminCG:  357 21:06:23    -2936.816433        1.400507\n",
      "SciPyFminCG:  358 21:06:24    -2937.460032        1.730660\n",
      "SciPyFminCG:  359 21:06:25    -2938.086568        1.671356\n",
      "SciPyFminCG:  360 21:06:26    -2938.614336        1.956201\n",
      "SciPyFminCG:  361 21:06:27    -2939.240872        2.031154\n",
      "SciPyFminCG:  362 21:06:28    -2939.826857        2.172657\n",
      "SciPyFminCG:  363 21:06:29    -2940.463631        1.552342\n",
      "SciPyFminCG:  364 21:06:30    -2941.229486        1.771634\n",
      "SciPyFminCG:  365 21:06:31    -2941.825910        1.988035\n",
      "SciPyFminCG:  366 21:06:31    -2942.494603        2.107675\n",
      "SciPyFminCG:  367 21:06:32    -2943.264874        1.860542\n",
      "SciPyFminCG:  368 21:06:33    -2943.843431        2.471109\n",
      "SciPyFminCG:  369 21:06:34    -2944.593026        2.315122\n",
      "SciPyFminCG:  370 21:06:35    -2945.568262        2.041010\n",
      "SciPyFminCG:  371 21:06:36    -2946.293566        2.847470\n",
      "SciPyFminCG:  372 21:06:37    -2947.097564        1.467447\n",
      "SciPyFminCG:  373 21:06:38    -2947.943919        2.150913\n",
      "SciPyFminCG:  374 21:06:39    -2948.479918        2.229695\n",
      "SciPyFminCG:  375 21:06:40    -2949.232122        1.944150\n",
      "SciPyFminCG:  376 21:06:41    -2949.923700        2.253489\n",
      "SciPyFminCG:  377 21:06:42    -2950.359726        1.261560\n",
      "SciPyFminCG:  378 21:06:43    -2950.714448        2.161839\n",
      "SciPyFminCG:  379 21:06:43    -2951.089447        2.106920\n",
      "SciPyFminCG:  380 21:06:45    -2951.490341        1.446604\n",
      "SciPyFminCG:  381 21:06:45    -2951.904887        1.507288\n",
      "SciPyFminCG:  382 21:06:46    -2952.236122        1.423520\n",
      "SciPyFminCG:  383 21:06:47    -2952.512352        1.397727\n",
      "SciPyFminCG:  384 21:06:48    -2952.875104        1.055097\n",
      "SciPyFminCG:  385 21:06:49    -2953.200919        1.922457\n",
      "SciPyFminCG:  386 21:06:50    -2953.384604        0.977449\n",
      "SciPyFminCG:  387 21:06:51    -2953.630922        1.035903\n",
      "SciPyFminCG:  388 21:06:52    -2953.783491        0.910304\n",
      "SciPyFminCG:  389 21:06:52    -2953.934253        0.809955\n",
      "SciPyFminCG:  390 21:06:54    -2954.143232        1.159298\n",
      "SciPyFminCG:  391 21:06:54    -2954.256052        0.890296\n",
      "SciPyFminCG:  392 21:06:55    -2954.372888        0.776706\n",
      "SciPyFminCG:  393 21:06:56    -2954.572031        1.205705\n",
      "SciPyFminCG:  394 21:06:57    -2954.705930        0.712222\n",
      "SciPyFminCG:  395 21:06:58    -2954.864923        0.877447\n",
      "SciPyFminCG:  396 21:06:59    -2955.070890        1.205199\n",
      "SciPyFminCG:  397 21:07:00    -2955.234300        1.091577\n",
      "SciPyFminCG:  398 21:07:01    -2955.411761        1.211912\n",
      "SciPyFminCG:  399 21:07:01    -2955.647239        1.194762\n",
      "SciPyFminCG:  400 21:07:02    -2955.890546        1.819303\n"
     ]
    }
   ],
   "source": [
    "import os\n",
    "from chgnet.model import StructOptimizer\n",
    "from pymatgen.core import Structure\n",
    "from chgnet.model.dynamics import CHGNetCalculator\n",
    "\n",
    "structure_path = f\"/home/mehuldarak/summer/relax_final/{structure_name}/relaxed_{structure_name}.cif\"\n",
    "structure = Structure.from_file(structure_path)\n",
    "\n",
    "# Output path\n",
    "output_dir = f\"/home/mehuldarak/summer/relax_final\"\n",
    "os.makedirs(output_dir, exist_ok=True)\n",
    "output_path = os.path.join(output_dir, f\"cellrelaxed_{structure_name}.cif\")\n",
    "\n",
    "# Run CHGNet relaxation\n",
    "opt1 = StructOptimizer(model=calc, optimizer_class=\"SciPyFminCG\", use_device=\"cuda\")\n",
    "result = opt1.relax(\n",
    "    structure,\n",
    "    fmax=0.15,           # You can adjust depending on accuracy/speed tradeoff\n",
    "    steps=400,\n",
    "    relax_cell=True,\n",
    "    verbose=True\n",
    ")"
   ]
  },
  {
   "cell_type": "code",
   "execution_count": 11,
   "id": "41fd0c4a",
   "metadata": {},
   "outputs": [
    {
     "name": "stderr",
     "output_type": "stream",
     "text": [
      "/tmp/ipykernel_175549/1077038773.py:3: FutureWarning: Please use atoms.calc = calc\n",
      "  structure_1.set_calculator(calc)\n"
     ]
    },
    {
     "name": "stdout",
     "output_type": "stream",
     "text": [
      "      Step     Time          Energy          fmax\n",
      "FIRE:    0 21:07:03    -2955.890747        0.196524\n",
      "FIRE:    1 21:07:03    -2955.893156        0.196461\n"
     ]
    },
    {
     "name": "stderr",
     "output_type": "stream",
     "text": [
      "/home/mehuldarak/anaconda3/envs/mace/lib/python3.13/site-packages/ase/filters.py:606: RuntimeWarning: logm result may be inaccurate, approximate err = 2.6769436736622497e-13\n",
      "  pos[natoms:] = self.logm(pos[natoms:]) * self.exp_cell_factor\n"
     ]
    },
    {
     "name": "stdout",
     "output_type": "stream",
     "text": [
      "FIRE:    2 21:07:04    -2955.897573        0.196340\n"
     ]
    },
    {
     "name": "stderr",
     "output_type": "stream",
     "text": [
      "/home/mehuldarak/anaconda3/envs/mace/lib/python3.13/site-packages/ase/filters.py:606: RuntimeWarning: logm result may be inaccurate, approximate err = 2.748425776693973e-13\n",
      "  pos[natoms:] = self.logm(pos[natoms:]) * self.exp_cell_factor\n"
     ]
    },
    {
     "name": "stdout",
     "output_type": "stream",
     "text": [
      "FIRE:    3 21:07:04    -2955.903796        0.196186\n"
     ]
    },
    {
     "name": "stderr",
     "output_type": "stream",
     "text": [
      "/home/mehuldarak/anaconda3/envs/mace/lib/python3.13/site-packages/ase/filters.py:606: RuntimeWarning: logm result may be inaccurate, approximate err = 2.625675129803429e-13\n",
      "  pos[natoms:] = self.logm(pos[natoms:]) * self.exp_cell_factor\n"
     ]
    },
    {
     "name": "stdout",
     "output_type": "stream",
     "text": [
      "FIRE:    4 21:07:05    -2955.910822        0.196021\n"
     ]
    },
    {
     "name": "stderr",
     "output_type": "stream",
     "text": [
      "/home/mehuldarak/anaconda3/envs/mace/lib/python3.13/site-packages/ase/filters.py:606: RuntimeWarning: logm result may be inaccurate, approximate err = 2.7140026590411553e-13\n",
      "  pos[natoms:] = self.logm(pos[natoms:]) * self.exp_cell_factor\n"
     ]
    },
    {
     "name": "stdout",
     "output_type": "stream",
     "text": [
      "FIRE:    5 21:07:05    -2955.918049        0.195864\n"
     ]
    },
    {
     "name": "stderr",
     "output_type": "stream",
     "text": [
      "/home/mehuldarak/anaconda3/envs/mace/lib/python3.13/site-packages/ase/filters.py:606: RuntimeWarning: logm result may be inaccurate, approximate err = 2.736481522226218e-13\n",
      "  pos[natoms:] = self.logm(pos[natoms:]) * self.exp_cell_factor\n"
     ]
    },
    {
     "name": "stdout",
     "output_type": "stream",
     "text": [
      "FIRE:    6 21:07:06    -2955.924473        0.195722\n"
     ]
    },
    {
     "name": "stderr",
     "output_type": "stream",
     "text": [
      "/home/mehuldarak/anaconda3/envs/mace/lib/python3.13/site-packages/ase/filters.py:606: RuntimeWarning: logm result may be inaccurate, approximate err = 2.6559124388275955e-13\n",
      "  pos[natoms:] = self.logm(pos[natoms:]) * self.exp_cell_factor\n"
     ]
    },
    {
     "name": "stdout",
     "output_type": "stream",
     "text": [
      "FIRE:    7 21:07:06    -2955.931700        0.195589\n"
     ]
    },
    {
     "name": "stderr",
     "output_type": "stream",
     "text": [
      "/home/mehuldarak/anaconda3/envs/mace/lib/python3.13/site-packages/ase/filters.py:606: RuntimeWarning: logm result may be inaccurate, approximate err = 2.759732563626591e-13\n",
      "  pos[natoms:] = self.logm(pos[natoms:]) * self.exp_cell_factor\n"
     ]
    },
    {
     "name": "stdout",
     "output_type": "stream",
     "text": [
      "FIRE:    8 21:07:06    -2955.940533        0.195451\n"
     ]
    },
    {
     "name": "stderr",
     "output_type": "stream",
     "text": [
      "/home/mehuldarak/anaconda3/envs/mace/lib/python3.13/site-packages/ase/filters.py:606: RuntimeWarning: logm result may be inaccurate, approximate err = 2.758681654704305e-13\n",
      "  pos[natoms:] = self.logm(pos[natoms:]) * self.exp_cell_factor\n"
     ]
    },
    {
     "name": "stdout",
     "output_type": "stream",
     "text": [
      "FIRE:    9 21:07:07    -2955.950369        0.195310\n"
     ]
    },
    {
     "name": "stderr",
     "output_type": "stream",
     "text": [
      "/home/mehuldarak/anaconda3/envs/mace/lib/python3.13/site-packages/ase/filters.py:606: RuntimeWarning: logm result may be inaccurate, approximate err = 2.788558938428619e-13\n",
      "  pos[natoms:] = self.logm(pos[natoms:]) * self.exp_cell_factor\n"
     ]
    },
    {
     "name": "stdout",
     "output_type": "stream",
     "text": [
      "FIRE:   10 21:07:07    -2955.961812        0.195142\n"
     ]
    },
    {
     "name": "stderr",
     "output_type": "stream",
     "text": [
      "/home/mehuldarak/anaconda3/envs/mace/lib/python3.13/site-packages/ase/filters.py:606: RuntimeWarning: logm result may be inaccurate, approximate err = 2.7538166647294917e-13\n",
      "  pos[natoms:] = self.logm(pos[natoms:]) * self.exp_cell_factor\n"
     ]
    },
    {
     "name": "stdout",
     "output_type": "stream",
     "text": [
      "FIRE:   11 21:07:08    -2955.975262        0.194903\n"
     ]
    },
    {
     "name": "stderr",
     "output_type": "stream",
     "text": [
      "/home/mehuldarak/anaconda3/envs/mace/lib/python3.13/site-packages/ase/filters.py:606: RuntimeWarning: logm result may be inaccurate, approximate err = 2.6671199253045156e-13\n",
      "  pos[natoms:] = self.logm(pos[natoms:]) * self.exp_cell_factor\n"
     ]
    },
    {
     "name": "stdout",
     "output_type": "stream",
     "text": [
      "FIRE:   12 21:07:08    -2955.990921        0.194554\n"
     ]
    },
    {
     "name": "stderr",
     "output_type": "stream",
     "text": [
      "/home/mehuldarak/anaconda3/envs/mace/lib/python3.13/site-packages/ase/filters.py:606: RuntimeWarning: logm result may be inaccurate, approximate err = 2.6653829758254373e-13\n",
      "  pos[natoms:] = self.logm(pos[natoms:]) * self.exp_cell_factor\n"
     ]
    },
    {
     "name": "stdout",
     "output_type": "stream",
     "text": [
      "FIRE:   13 21:07:09    -2956.009389        0.194074\n"
     ]
    },
    {
     "name": "stderr",
     "output_type": "stream",
     "text": [
      "/home/mehuldarak/anaconda3/envs/mace/lib/python3.13/site-packages/ase/filters.py:606: RuntimeWarning: logm result may be inaccurate, approximate err = 2.673176573479248e-13\n",
      "  pos[natoms:] = self.logm(pos[natoms:]) * self.exp_cell_factor\n"
     ]
    },
    {
     "name": "stdout",
     "output_type": "stream",
     "text": [
      "FIRE:   14 21:07:09    -2956.031070        0.193454\n"
     ]
    },
    {
     "name": "stderr",
     "output_type": "stream",
     "text": [
      "/home/mehuldarak/anaconda3/envs/mace/lib/python3.13/site-packages/ase/filters.py:606: RuntimeWarning: logm result may be inaccurate, approximate err = 2.7245857213579364e-13\n",
      "  pos[natoms:] = self.logm(pos[natoms:]) * self.exp_cell_factor\n"
     ]
    },
    {
     "name": "stdout",
     "output_type": "stream",
     "text": [
      "FIRE:   15 21:07:10    -2956.057368        0.192666\n"
     ]
    },
    {
     "name": "stderr",
     "output_type": "stream",
     "text": [
      "/home/mehuldarak/anaconda3/envs/mace/lib/python3.13/site-packages/ase/filters.py:606: RuntimeWarning: logm result may be inaccurate, approximate err = 2.732030920534264e-13\n",
      "  pos[natoms:] = self.logm(pos[natoms:]) * self.exp_cell_factor\n"
     ]
    },
    {
     "name": "stdout",
     "output_type": "stream",
     "text": [
      "FIRE:   16 21:07:10    -2956.089087        0.191668\n"
     ]
    },
    {
     "name": "stderr",
     "output_type": "stream",
     "text": [
      "/home/mehuldarak/anaconda3/envs/mace/lib/python3.13/site-packages/ase/filters.py:606: RuntimeWarning: logm result may be inaccurate, approximate err = 2.780197460938488e-13\n",
      "  pos[natoms:] = self.logm(pos[natoms:]) * self.exp_cell_factor\n"
     ]
    },
    {
     "name": "stdout",
     "output_type": "stream",
     "text": [
      "FIRE:   17 21:07:11    -2956.126426        0.190444\n"
     ]
    },
    {
     "name": "stderr",
     "output_type": "stream",
     "text": [
      "/home/mehuldarak/anaconda3/envs/mace/lib/python3.13/site-packages/ase/filters.py:606: RuntimeWarning: logm result may be inaccurate, approximate err = 2.8019721446196237e-13\n",
      "  pos[natoms:] = self.logm(pos[natoms:]) * self.exp_cell_factor\n"
     ]
    },
    {
     "name": "stdout",
     "output_type": "stream",
     "text": [
      "FIRE:   18 21:07:11    -2956.171594        0.189112\n"
     ]
    },
    {
     "name": "stderr",
     "output_type": "stream",
     "text": [
      "/home/mehuldarak/anaconda3/envs/mace/lib/python3.13/site-packages/ase/filters.py:606: RuntimeWarning: logm result may be inaccurate, approximate err = 2.6817142350121025e-13\n",
      "  pos[natoms:] = self.logm(pos[natoms:]) * self.exp_cell_factor\n"
     ]
    },
    {
     "name": "stdout",
     "output_type": "stream",
     "text": [
      "FIRE:   19 21:07:12    -2956.217365        0.187782\n"
     ]
    },
    {
     "name": "stderr",
     "output_type": "stream",
     "text": [
      "/home/mehuldarak/anaconda3/envs/mace/lib/python3.13/site-packages/ase/filters.py:606: RuntimeWarning: logm result may be inaccurate, approximate err = 2.773394233444948e-13\n",
      "  pos[natoms:] = self.logm(pos[natoms:]) * self.exp_cell_factor\n"
     ]
    },
    {
     "name": "stdout",
     "output_type": "stream",
     "text": [
      "FIRE:   20 21:07:12    -2956.263336        0.186230\n"
     ]
    },
    {
     "name": "stderr",
     "output_type": "stream",
     "text": [
      "/home/mehuldarak/anaconda3/envs/mace/lib/python3.13/site-packages/ase/filters.py:606: RuntimeWarning: logm result may be inaccurate, approximate err = 2.793789392391715e-13\n",
      "  pos[natoms:] = self.logm(pos[natoms:]) * self.exp_cell_factor\n"
     ]
    },
    {
     "name": "stdout",
     "output_type": "stream",
     "text": [
      "FIRE:   21 21:07:12    -2956.308505        0.184602\n"
     ]
    },
    {
     "name": "stderr",
     "output_type": "stream",
     "text": [
      "/home/mehuldarak/anaconda3/envs/mace/lib/python3.13/site-packages/ase/filters.py:606: RuntimeWarning: logm result may be inaccurate, approximate err = 2.707204132800599e-13\n",
      "  pos[natoms:] = self.logm(pos[natoms:]) * self.exp_cell_factor\n"
     ]
    },
    {
     "name": "stdout",
     "output_type": "stream",
     "text": [
      "FIRE:   22 21:07:13    -2956.354074        0.183130\n"
     ]
    },
    {
     "name": "stderr",
     "output_type": "stream",
     "text": [
      "/home/mehuldarak/anaconda3/envs/mace/lib/python3.13/site-packages/ase/filters.py:606: RuntimeWarning: logm result may be inaccurate, approximate err = 2.751492496218352e-13\n",
      "  pos[natoms:] = self.logm(pos[natoms:]) * self.exp_cell_factor\n"
     ]
    },
    {
     "name": "stdout",
     "output_type": "stream",
     "text": [
      "FIRE:   23 21:07:13    -2956.398239        0.181679\n"
     ]
    },
    {
     "name": "stderr",
     "output_type": "stream",
     "text": [
      "/home/mehuldarak/anaconda3/envs/mace/lib/python3.13/site-packages/ase/filters.py:606: RuntimeWarning: logm result may be inaccurate, approximate err = 2.6685945197637856e-13\n",
      "  pos[natoms:] = self.logm(pos[natoms:]) * self.exp_cell_factor\n"
     ]
    },
    {
     "name": "stdout",
     "output_type": "stream",
     "text": [
      "FIRE:   24 21:07:14    -2956.443006        0.180155\n"
     ]
    },
    {
     "name": "stderr",
     "output_type": "stream",
     "text": [
      "/home/mehuldarak/anaconda3/envs/mace/lib/python3.13/site-packages/ase/filters.py:606: RuntimeWarning: logm result may be inaccurate, approximate err = 2.7400664938601206e-13\n",
      "  pos[natoms:] = self.logm(pos[natoms:]) * self.exp_cell_factor\n"
     ]
    },
    {
     "name": "stdout",
     "output_type": "stream",
     "text": [
      "FIRE:   25 21:07:14    -2956.486568        0.178667\n"
     ]
    },
    {
     "name": "stderr",
     "output_type": "stream",
     "text": [
      "/home/mehuldarak/anaconda3/envs/mace/lib/python3.13/site-packages/ase/filters.py:606: RuntimeWarning: logm result may be inaccurate, approximate err = 2.8173065783024316e-13\n",
      "  pos[natoms:] = self.logm(pos[natoms:]) * self.exp_cell_factor\n"
     ]
    },
    {
     "name": "stdout",
     "output_type": "stream",
     "text": [
      "FIRE:   26 21:07:15    -2956.529930        0.177190\n"
     ]
    },
    {
     "name": "stderr",
     "output_type": "stream",
     "text": [
      "/home/mehuldarak/anaconda3/envs/mace/lib/python3.13/site-packages/ase/filters.py:606: RuntimeWarning: logm result may be inaccurate, approximate err = 2.7284267452957203e-13\n",
      "  pos[natoms:] = self.logm(pos[natoms:]) * self.exp_cell_factor\n"
     ]
    },
    {
     "name": "stdout",
     "output_type": "stream",
     "text": [
      "FIRE:   27 21:07:15    -2956.572087        0.175705\n"
     ]
    },
    {
     "name": "stderr",
     "output_type": "stream",
     "text": [
      "/home/mehuldarak/anaconda3/envs/mace/lib/python3.13/site-packages/ase/filters.py:606: RuntimeWarning: logm result may be inaccurate, approximate err = 2.685510797940396e-13\n",
      "  pos[natoms:] = self.logm(pos[natoms:]) * self.exp_cell_factor\n"
     ]
    },
    {
     "name": "stdout",
     "output_type": "stream",
     "text": [
      "FIRE:   28 21:07:15    -2956.615449        0.174267\n"
     ]
    },
    {
     "name": "stderr",
     "output_type": "stream",
     "text": [
      "/home/mehuldarak/anaconda3/envs/mace/lib/python3.13/site-packages/ase/filters.py:606: RuntimeWarning: logm result may be inaccurate, approximate err = 2.741899844012421e-13\n",
      "  pos[natoms:] = self.logm(pos[natoms:]) * self.exp_cell_factor\n"
     ]
    },
    {
     "name": "stdout",
     "output_type": "stream",
     "text": [
      "FIRE:   29 21:07:16    -2956.656803        0.172806\n"
     ]
    },
    {
     "name": "stderr",
     "output_type": "stream",
     "text": [
      "/home/mehuldarak/anaconda3/envs/mace/lib/python3.13/site-packages/ase/filters.py:606: RuntimeWarning: logm result may be inaccurate, approximate err = 2.7453791724448107e-13\n",
      "  pos[natoms:] = self.logm(pos[natoms:]) * self.exp_cell_factor\n"
     ]
    },
    {
     "name": "stdout",
     "output_type": "stream",
     "text": [
      "FIRE:   30 21:07:17    -2956.698157        0.171285\n"
     ]
    },
    {
     "name": "stderr",
     "output_type": "stream",
     "text": [
      "/home/mehuldarak/anaconda3/envs/mace/lib/python3.13/site-packages/ase/filters.py:606: RuntimeWarning: logm result may be inaccurate, approximate err = 2.6886601164955146e-13\n",
      "  pos[natoms:] = self.logm(pos[natoms:]) * self.exp_cell_factor\n"
     ]
    },
    {
     "name": "stdout",
     "output_type": "stream",
     "text": [
      "FIRE:   31 21:07:17    -2956.739511        0.169771\n"
     ]
    },
    {
     "name": "stderr",
     "output_type": "stream",
     "text": [
      "/home/mehuldarak/anaconda3/envs/mace/lib/python3.13/site-packages/ase/filters.py:606: RuntimeWarning: logm result may be inaccurate, approximate err = 2.660585351409197e-13\n",
      "  pos[natoms:] = self.logm(pos[natoms:]) * self.exp_cell_factor\n"
     ]
    },
    {
     "name": "stdout",
     "output_type": "stream",
     "text": [
      "FIRE:   32 21:07:17    -2956.780263        0.168252\n"
     ]
    },
    {
     "name": "stderr",
     "output_type": "stream",
     "text": [
      "/home/mehuldarak/anaconda3/envs/mace/lib/python3.13/site-packages/ase/filters.py:606: RuntimeWarning: logm result may be inaccurate, approximate err = 2.7257149000615755e-13\n",
      "  pos[natoms:] = self.logm(pos[natoms:]) * self.exp_cell_factor\n"
     ]
    },
    {
     "name": "stdout",
     "output_type": "stream",
     "text": [
      "FIRE:   33 21:07:18    -2956.820413        0.166714\n"
     ]
    },
    {
     "name": "stderr",
     "output_type": "stream",
     "text": [
      "/home/mehuldarak/anaconda3/envs/mace/lib/python3.13/site-packages/ase/filters.py:606: RuntimeWarning: logm result may be inaccurate, approximate err = 2.7410916207556774e-13\n",
      "  pos[natoms:] = self.logm(pos[natoms:]) * self.exp_cell_factor\n"
     ]
    },
    {
     "name": "stdout",
     "output_type": "stream",
     "text": [
      "FIRE:   34 21:07:18    -2956.860362        0.165195\n"
     ]
    },
    {
     "name": "stderr",
     "output_type": "stream",
     "text": [
      "/home/mehuldarak/anaconda3/envs/mace/lib/python3.13/site-packages/ase/filters.py:606: RuntimeWarning: logm result may be inaccurate, approximate err = 2.754417020806827e-13\n",
      "  pos[natoms:] = self.logm(pos[natoms:]) * self.exp_cell_factor\n"
     ]
    },
    {
     "name": "stdout",
     "output_type": "stream",
     "text": [
      "FIRE:   35 21:07:19    -2956.899307        0.163679\n"
     ]
    },
    {
     "name": "stderr",
     "output_type": "stream",
     "text": [
      "/home/mehuldarak/anaconda3/envs/mace/lib/python3.13/site-packages/ase/filters.py:606: RuntimeWarning: logm result may be inaccurate, approximate err = 2.7805447143580155e-13\n",
      "  pos[natoms:] = self.logm(pos[natoms:]) * self.exp_cell_factor\n"
     ]
    },
    {
     "name": "stdout",
     "output_type": "stream",
     "text": [
      "FIRE:   36 21:07:19    -2956.938252        0.162125\n"
     ]
    },
    {
     "name": "stderr",
     "output_type": "stream",
     "text": [
      "/home/mehuldarak/anaconda3/envs/mace/lib/python3.13/site-packages/ase/filters.py:606: RuntimeWarning: logm result may be inaccurate, approximate err = 2.692329416679622e-13\n",
      "  pos[natoms:] = self.logm(pos[natoms:]) * self.exp_cell_factor\n"
     ]
    },
    {
     "name": "stdout",
     "output_type": "stream",
     "text": [
      "FIRE:   37 21:07:20    -2956.976796        0.160570\n"
     ]
    },
    {
     "name": "stderr",
     "output_type": "stream",
     "text": [
      "/home/mehuldarak/anaconda3/envs/mace/lib/python3.13/site-packages/ase/filters.py:606: RuntimeWarning: logm result may be inaccurate, approximate err = 2.7435391614093253e-13\n",
      "  pos[natoms:] = self.logm(pos[natoms:]) * self.exp_cell_factor\n"
     ]
    },
    {
     "name": "stdout",
     "output_type": "stream",
     "text": [
      "FIRE:   38 21:07:20    -2957.014537        0.159031\n"
     ]
    },
    {
     "name": "stderr",
     "output_type": "stream",
     "text": [
      "/home/mehuldarak/anaconda3/envs/mace/lib/python3.13/site-packages/ase/filters.py:606: RuntimeWarning: logm result may be inaccurate, approximate err = 2.6970119615288353e-13\n",
      "  pos[natoms:] = self.logm(pos[natoms:]) * self.exp_cell_factor\n"
     ]
    },
    {
     "name": "stdout",
     "output_type": "stream",
     "text": [
      "FIRE:   39 21:07:21    -2957.052077        0.157505\n"
     ]
    },
    {
     "name": "stderr",
     "output_type": "stream",
     "text": [
      "/home/mehuldarak/anaconda3/envs/mace/lib/python3.13/site-packages/ase/filters.py:606: RuntimeWarning: logm result may be inaccurate, approximate err = 2.6724241177717073e-13\n",
      "  pos[natoms:] = self.logm(pos[natoms:]) * self.exp_cell_factor\n"
     ]
    },
    {
     "name": "stdout",
     "output_type": "stream",
     "text": [
      "FIRE:   40 21:07:21    -2957.089416        0.155971\n"
     ]
    },
    {
     "name": "stderr",
     "output_type": "stream",
     "text": [
      "/home/mehuldarak/anaconda3/envs/mace/lib/python3.13/site-packages/ase/filters.py:606: RuntimeWarning: logm result may be inaccurate, approximate err = 2.6866390346920934e-13\n",
      "  pos[natoms:] = self.logm(pos[natoms:]) * self.exp_cell_factor\n"
     ]
    },
    {
     "name": "stdout",
     "output_type": "stream",
     "text": [
      "FIRE:   41 21:07:21    -2957.125751        0.154432\n"
     ]
    },
    {
     "name": "stderr",
     "output_type": "stream",
     "text": [
      "/home/mehuldarak/anaconda3/envs/mace/lib/python3.13/site-packages/ase/filters.py:606: RuntimeWarning: logm result may be inaccurate, approximate err = 2.660006424670703e-13\n",
      "  pos[natoms:] = self.logm(pos[natoms:]) * self.exp_cell_factor\n"
     ]
    },
    {
     "name": "stdout",
     "output_type": "stream",
     "text": [
      "FIRE:   42 21:07:22    -2957.161485        0.152886\n"
     ]
    },
    {
     "name": "stderr",
     "output_type": "stream",
     "text": [
      "/home/mehuldarak/anaconda3/envs/mace/lib/python3.13/site-packages/ase/filters.py:606: RuntimeWarning: logm result may be inaccurate, approximate err = 2.7412764552856385e-13\n",
      "  pos[natoms:] = self.logm(pos[natoms:]) * self.exp_cell_factor\n"
     ]
    },
    {
     "name": "stdout",
     "output_type": "stream",
     "text": [
      "FIRE:   43 21:07:22    -2957.197017        0.151348\n"
     ]
    },
    {
     "name": "stderr",
     "output_type": "stream",
     "text": [
      "/home/mehuldarak/anaconda3/envs/mace/lib/python3.13/site-packages/ase/filters.py:606: RuntimeWarning: logm result may be inaccurate, approximate err = 2.717496599920736e-13\n",
      "  pos[natoms:] = self.logm(pos[natoms:]) * self.exp_cell_factor\n"
     ]
    },
    {
     "name": "stdout",
     "output_type": "stream",
     "text": [
      "FIRE:   44 21:07:23    -2957.232148        0.149832\n"
     ]
    },
    {
     "name": "stderr",
     "output_type": "stream",
     "text": [
      "/home/mehuldarak/anaconda3/envs/mace/lib/python3.13/site-packages/ase/filters.py:606: RuntimeWarning: logm result may be inaccurate, approximate err = 2.8052522011252276e-13\n",
      "  pos[natoms:] = self.logm(pos[natoms:]) * self.exp_cell_factor\n"
     ]
    },
    {
     "name": "stdout",
     "output_type": "stream",
     "text": [
      "FIRE:   45 21:07:23    -2957.266476        0.148325\n"
     ]
    },
    {
     "name": "stderr",
     "output_type": "stream",
     "text": [
      "/home/mehuldarak/anaconda3/envs/mace/lib/python3.13/site-packages/ase/filters.py:606: RuntimeWarning: logm result may be inaccurate, approximate err = 2.690622453416421e-13\n",
      "  pos[natoms:] = self.logm(pos[natoms:]) * self.exp_cell_factor\n"
     ]
    },
    {
     "name": "stdout",
     "output_type": "stream",
     "text": [
      "FIRE:   46 21:07:24    -2957.300804        0.146812\n"
     ]
    },
    {
     "name": "stderr",
     "output_type": "stream",
     "text": [
      "/home/mehuldarak/anaconda3/envs/mace/lib/python3.13/site-packages/ase/filters.py:606: RuntimeWarning: logm result may be inaccurate, approximate err = 2.7079177558843754e-13\n",
      "  pos[natoms:] = self.logm(pos[natoms:]) * self.exp_cell_factor\n"
     ]
    },
    {
     "name": "stdout",
     "output_type": "stream",
     "text": [
      "FIRE:   47 21:07:24    -2957.334329        0.145290\n"
     ]
    },
    {
     "name": "stderr",
     "output_type": "stream",
     "text": [
      "/home/mehuldarak/anaconda3/envs/mace/lib/python3.13/site-packages/ase/filters.py:606: RuntimeWarning: logm result may be inaccurate, approximate err = 2.720976940372375e-13\n",
      "  pos[natoms:] = self.logm(pos[natoms:]) * self.exp_cell_factor\n"
     ]
    },
    {
     "name": "stdout",
     "output_type": "stream",
     "text": [
      "FIRE:   48 21:07:24    -2957.367854        0.143777\n"
     ]
    },
    {
     "name": "stderr",
     "output_type": "stream",
     "text": [
      "/home/mehuldarak/anaconda3/envs/mace/lib/python3.13/site-packages/ase/filters.py:606: RuntimeWarning: logm result may be inaccurate, approximate err = 2.731303084066062e-13\n",
      "  pos[natoms:] = self.logm(pos[natoms:]) * self.exp_cell_factor\n"
     ]
    },
    {
     "name": "stdout",
     "output_type": "stream",
     "text": [
      "FIRE:   49 21:07:25    -2957.400777        0.142264\n"
     ]
    },
    {
     "name": "stderr",
     "output_type": "stream",
     "text": [
      "/home/mehuldarak/anaconda3/envs/mace/lib/python3.13/site-packages/ase/filters.py:606: RuntimeWarning: logm result may be inaccurate, approximate err = 2.763005751385109e-13\n",
      "  pos[natoms:] = self.logm(pos[natoms:]) * self.exp_cell_factor\n"
     ]
    },
    {
     "name": "stdout",
     "output_type": "stream",
     "text": [
      "FIRE:   50 21:07:25    -2957.433097        0.140739\n"
     ]
    },
    {
     "name": "stderr",
     "output_type": "stream",
     "text": [
      "/home/mehuldarak/anaconda3/envs/mace/lib/python3.13/site-packages/ase/filters.py:606: RuntimeWarning: logm result may be inaccurate, approximate err = 2.7375995273718377e-13\n",
      "  pos[natoms:] = self.logm(pos[natoms:]) * self.exp_cell_factor\n"
     ]
    },
    {
     "name": "stdout",
     "output_type": "stream",
     "text": [
      "FIRE:   51 21:07:26    -2957.465016        0.139208\n"
     ]
    },
    {
     "name": "stderr",
     "output_type": "stream",
     "text": [
      "/home/mehuldarak/anaconda3/envs/mace/lib/python3.13/site-packages/ase/filters.py:606: RuntimeWarning: logm result may be inaccurate, approximate err = 2.664205798558181e-13\n",
      "  pos[natoms:] = self.logm(pos[natoms:]) * self.exp_cell_factor\n"
     ]
    },
    {
     "name": "stdout",
     "output_type": "stream",
     "text": [
      "FIRE:   52 21:07:26    -2957.496935        0.137691\n"
     ]
    },
    {
     "name": "stderr",
     "output_type": "stream",
     "text": [
      "/home/mehuldarak/anaconda3/envs/mace/lib/python3.13/site-packages/ase/filters.py:606: RuntimeWarning: logm result may be inaccurate, approximate err = 2.7112121036961986e-13\n",
      "  pos[natoms:] = self.logm(pos[natoms:]) * self.exp_cell_factor\n"
     ]
    },
    {
     "name": "stdout",
     "output_type": "stream",
     "text": [
      "FIRE:   53 21:07:27    -2957.527851        0.136187\n"
     ]
    },
    {
     "name": "stderr",
     "output_type": "stream",
     "text": [
      "/home/mehuldarak/anaconda3/envs/mace/lib/python3.13/site-packages/ase/filters.py:606: RuntimeWarning: logm result may be inaccurate, approximate err = 2.7682580980264844e-13\n",
      "  pos[natoms:] = self.logm(pos[natoms:]) * self.exp_cell_factor\n"
     ]
    },
    {
     "name": "stdout",
     "output_type": "stream",
     "text": [
      "FIRE:   54 21:07:27    -2957.558967        0.134683\n"
     ]
    },
    {
     "name": "stderr",
     "output_type": "stream",
     "text": [
      "/home/mehuldarak/anaconda3/envs/mace/lib/python3.13/site-packages/ase/filters.py:606: RuntimeWarning: logm result may be inaccurate, approximate err = 2.666153942956938e-13\n",
      "  pos[natoms:] = self.logm(pos[natoms:]) * self.exp_cell_factor\n"
     ]
    },
    {
     "name": "stdout",
     "output_type": "stream",
     "text": [
      "FIRE:   55 21:07:28    -2957.589079        0.133173\n"
     ]
    },
    {
     "name": "stderr",
     "output_type": "stream",
     "text": [
      "/home/mehuldarak/anaconda3/envs/mace/lib/python3.13/site-packages/ase/filters.py:606: RuntimeWarning: logm result may be inaccurate, approximate err = 2.6675357075613577e-13\n",
      "  pos[natoms:] = self.logm(pos[natoms:]) * self.exp_cell_factor\n"
     ]
    },
    {
     "name": "stdout",
     "output_type": "stream",
     "text": [
      "FIRE:   56 21:07:28    -2957.619191        0.131661\n"
     ]
    },
    {
     "name": "stderr",
     "output_type": "stream",
     "text": [
      "/home/mehuldarak/anaconda3/envs/mace/lib/python3.13/site-packages/ase/filters.py:606: RuntimeWarning: logm result may be inaccurate, approximate err = 2.647379361398631e-13\n",
      "  pos[natoms:] = self.logm(pos[natoms:]) * self.exp_cell_factor\n"
     ]
    },
    {
     "name": "stdout",
     "output_type": "stream",
     "text": [
      "FIRE:   57 21:07:29    -2957.648701        0.130151\n"
     ]
    },
    {
     "name": "stderr",
     "output_type": "stream",
     "text": [
      "/home/mehuldarak/anaconda3/envs/mace/lib/python3.13/site-packages/ase/filters.py:606: RuntimeWarning: logm result may be inaccurate, approximate err = 2.7011998374300877e-13\n",
      "  pos[natoms:] = self.logm(pos[natoms:]) * self.exp_cell_factor\n"
     ]
    },
    {
     "name": "stdout",
     "output_type": "stream",
     "text": [
      "FIRE:   58 21:07:29    -2957.677609        0.128639\n"
     ]
    },
    {
     "name": "stderr",
     "output_type": "stream",
     "text": [
      "/home/mehuldarak/anaconda3/envs/mace/lib/python3.13/site-packages/ase/filters.py:606: RuntimeWarning: logm result may be inaccurate, approximate err = 2.70884188564575e-13\n",
      "  pos[natoms:] = self.logm(pos[natoms:]) * self.exp_cell_factor\n"
     ]
    },
    {
     "name": "stdout",
     "output_type": "stream",
     "text": [
      "FIRE:   59 21:07:29    -2957.706115        0.127133\n"
     ]
    },
    {
     "name": "stderr",
     "output_type": "stream",
     "text": [
      "/home/mehuldarak/anaconda3/envs/mace/lib/python3.13/site-packages/ase/filters.py:606: RuntimeWarning: logm result may be inaccurate, approximate err = 2.6961265487857207e-13\n",
      "  pos[natoms:] = self.logm(pos[natoms:]) * self.exp_cell_factor\n"
     ]
    },
    {
     "name": "stdout",
     "output_type": "stream",
     "text": [
      "FIRE:   60 21:07:30    -2957.734822        0.125634\n"
     ]
    },
    {
     "name": "stderr",
     "output_type": "stream",
     "text": [
      "/home/mehuldarak/anaconda3/envs/mace/lib/python3.13/site-packages/ase/filters.py:606: RuntimeWarning: logm result may be inaccurate, approximate err = 2.6845789123100597e-13\n",
      "  pos[natoms:] = self.logm(pos[natoms:]) * self.exp_cell_factor\n"
     ]
    },
    {
     "name": "stdout",
     "output_type": "stream",
     "text": [
      "FIRE:   61 21:07:30    -2957.762526        0.124135\n"
     ]
    },
    {
     "name": "stderr",
     "output_type": "stream",
     "text": [
      "/home/mehuldarak/anaconda3/envs/mace/lib/python3.13/site-packages/ase/filters.py:606: RuntimeWarning: logm result may be inaccurate, approximate err = 2.7433577921014293e-13\n",
      "  pos[natoms:] = self.logm(pos[natoms:]) * self.exp_cell_factor\n"
     ]
    },
    {
     "name": "stdout",
     "output_type": "stream",
     "text": [
      "FIRE:   62 21:07:31    -2957.790028        0.122627\n"
     ]
    },
    {
     "name": "stderr",
     "output_type": "stream",
     "text": [
      "/home/mehuldarak/anaconda3/envs/mace/lib/python3.13/site-packages/ase/filters.py:606: RuntimeWarning: logm result may be inaccurate, approximate err = 2.7346062232522307e-13\n",
      "  pos[natoms:] = self.logm(pos[natoms:]) * self.exp_cell_factor\n"
     ]
    },
    {
     "name": "stdout",
     "output_type": "stream",
     "text": [
      "FIRE:   63 21:07:31    -2957.816928        0.121111\n"
     ]
    },
    {
     "name": "stderr",
     "output_type": "stream",
     "text": [
      "/home/mehuldarak/anaconda3/envs/mace/lib/python3.13/site-packages/ase/filters.py:606: RuntimeWarning: logm result may be inaccurate, approximate err = 2.7607202058808913e-13\n",
      "  pos[natoms:] = self.logm(pos[natoms:]) * self.exp_cell_factor\n"
     ]
    },
    {
     "name": "stdout",
     "output_type": "stream",
     "text": [
      "FIRE:   64 21:07:32    -2957.843226        0.119604\n"
     ]
    },
    {
     "name": "stderr",
     "output_type": "stream",
     "text": [
      "/home/mehuldarak/anaconda3/envs/mace/lib/python3.13/site-packages/ase/filters.py:606: RuntimeWarning: logm result may be inaccurate, approximate err = 2.733172660364203e-13\n",
      "  pos[natoms:] = self.logm(pos[natoms:]) * self.exp_cell_factor\n"
     ]
    },
    {
     "name": "stdout",
     "output_type": "stream",
     "text": [
      "FIRE:   65 21:07:32    -2957.870327        0.118105\n"
     ]
    },
    {
     "name": "stderr",
     "output_type": "stream",
     "text": [
      "/home/mehuldarak/anaconda3/envs/mace/lib/python3.13/site-packages/ase/filters.py:606: RuntimeWarning: logm result may be inaccurate, approximate err = 2.736699344255201e-13\n",
      "  pos[natoms:] = self.logm(pos[natoms:]) * self.exp_cell_factor\n"
     ]
    },
    {
     "name": "stdout",
     "output_type": "stream",
     "text": [
      "FIRE:   66 21:07:33    -2957.895622        0.116607\n"
     ]
    },
    {
     "name": "stderr",
     "output_type": "stream",
     "text": [
      "/home/mehuldarak/anaconda3/envs/mace/lib/python3.13/site-packages/ase/filters.py:606: RuntimeWarning: logm result may be inaccurate, approximate err = 2.759487835829351e-13\n",
      "  pos[natoms:] = self.logm(pos[natoms:]) * self.exp_cell_factor\n"
     ]
    },
    {
     "name": "stdout",
     "output_type": "stream",
     "text": [
      "FIRE:   67 21:07:33    -2957.921318        0.115105\n"
     ]
    },
    {
     "name": "stderr",
     "output_type": "stream",
     "text": [
      "/home/mehuldarak/anaconda3/envs/mace/lib/python3.13/site-packages/ase/filters.py:606: RuntimeWarning: logm result may be inaccurate, approximate err = 2.6764886671312825e-13\n",
      "  pos[natoms:] = self.logm(pos[natoms:]) * self.exp_cell_factor\n"
     ]
    },
    {
     "name": "stdout",
     "output_type": "stream",
     "text": [
      "FIRE:   68 21:07:33    -2957.946010        0.113599\n"
     ]
    },
    {
     "name": "stderr",
     "output_type": "stream",
     "text": [
      "/home/mehuldarak/anaconda3/envs/mace/lib/python3.13/site-packages/ase/filters.py:606: RuntimeWarning: logm result may be inaccurate, approximate err = 2.665519937983239e-13\n",
      "  pos[natoms:] = self.logm(pos[natoms:]) * self.exp_cell_factor\n"
     ]
    },
    {
     "name": "stdout",
     "output_type": "stream",
     "text": [
      "FIRE:   69 21:07:34    -2957.970702        0.112089\n"
     ]
    },
    {
     "name": "stderr",
     "output_type": "stream",
     "text": [
      "/home/mehuldarak/anaconda3/envs/mace/lib/python3.13/site-packages/ase/filters.py:606: RuntimeWarning: logm result may be inaccurate, approximate err = 2.7555252922160947e-13\n",
      "  pos[natoms:] = self.logm(pos[natoms:]) * self.exp_cell_factor\n"
     ]
    },
    {
     "name": "stdout",
     "output_type": "stream",
     "text": [
      "FIRE:   70 21:07:34    -2957.994792        0.110578\n"
     ]
    },
    {
     "name": "stderr",
     "output_type": "stream",
     "text": [
      "/home/mehuldarak/anaconda3/envs/mace/lib/python3.13/site-packages/ase/filters.py:606: RuntimeWarning: logm result may be inaccurate, approximate err = 2.686632523378888e-13\n",
      "  pos[natoms:] = self.logm(pos[natoms:]) * self.exp_cell_factor\n"
     ]
    },
    {
     "name": "stdout",
     "output_type": "stream",
     "text": [
      "FIRE:   71 21:07:35    -2958.018681        0.109066\n"
     ]
    },
    {
     "name": "stderr",
     "output_type": "stream",
     "text": [
      "/home/mehuldarak/anaconda3/envs/mace/lib/python3.13/site-packages/ase/filters.py:606: RuntimeWarning: logm result may be inaccurate, approximate err = 2.728645157282441e-13\n",
      "  pos[natoms:] = self.logm(pos[natoms:]) * self.exp_cell_factor\n"
     ]
    },
    {
     "name": "stdout",
     "output_type": "stream",
     "text": [
      "FIRE:   72 21:07:35    -2958.041767        0.107555\n"
     ]
    },
    {
     "name": "stderr",
     "output_type": "stream",
     "text": [
      "/home/mehuldarak/anaconda3/envs/mace/lib/python3.13/site-packages/ase/filters.py:606: RuntimeWarning: logm result may be inaccurate, approximate err = 2.709612322680309e-13\n",
      "  pos[natoms:] = self.logm(pos[natoms:]) * self.exp_cell_factor\n"
     ]
    },
    {
     "name": "stdout",
     "output_type": "stream",
     "text": [
      "FIRE:   73 21:07:36    -2958.065254        0.106052\n"
     ]
    },
    {
     "name": "stderr",
     "output_type": "stream",
     "text": [
      "/home/mehuldarak/anaconda3/envs/mace/lib/python3.13/site-packages/ase/filters.py:606: RuntimeWarning: logm result may be inaccurate, approximate err = 2.7067295254486935e-13\n",
      "  pos[natoms:] = self.logm(pos[natoms:]) * self.exp_cell_factor\n"
     ]
    },
    {
     "name": "stdout",
     "output_type": "stream",
     "text": [
      "FIRE:   74 21:07:36    -2958.087738        0.104551\n"
     ]
    },
    {
     "name": "stderr",
     "output_type": "stream",
     "text": [
      "/home/mehuldarak/anaconda3/envs/mace/lib/python3.13/site-packages/ase/filters.py:606: RuntimeWarning: logm result may be inaccurate, approximate err = 2.7571541430501623e-13\n",
      "  pos[natoms:] = self.logm(pos[natoms:]) * self.exp_cell_factor\n"
     ]
    },
    {
     "name": "stdout",
     "output_type": "stream",
     "text": [
      "FIRE:   75 21:07:36    -2958.109820        0.103054\n"
     ]
    },
    {
     "name": "stderr",
     "output_type": "stream",
     "text": [
      "/home/mehuldarak/anaconda3/envs/mace/lib/python3.13/site-packages/ase/filters.py:606: RuntimeWarning: logm result may be inaccurate, approximate err = 2.7124549889247984e-13\n",
      "  pos[natoms:] = self.logm(pos[natoms:]) * self.exp_cell_factor\n"
     ]
    },
    {
     "name": "stdout",
     "output_type": "stream",
     "text": [
      "FIRE:   76 21:07:37    -2958.131501        0.101559\n"
     ]
    },
    {
     "name": "stderr",
     "output_type": "stream",
     "text": [
      "/home/mehuldarak/anaconda3/envs/mace/lib/python3.13/site-packages/ase/filters.py:606: RuntimeWarning: logm result may be inaccurate, approximate err = 2.6827452919203615e-13\n",
      "  pos[natoms:] = self.logm(pos[natoms:]) * self.exp_cell_factor\n"
     ]
    },
    {
     "name": "stdout",
     "output_type": "stream",
     "text": [
      "FIRE:   77 21:07:37    -2958.153182        0.100071\n"
     ]
    },
    {
     "name": "stderr",
     "output_type": "stream",
     "text": [
      "/home/mehuldarak/anaconda3/envs/mace/lib/python3.13/site-packages/ase/filters.py:606: RuntimeWarning: logm result may be inaccurate, approximate err = 2.7208361989759416e-13\n",
      "  pos[natoms:] = self.logm(pos[natoms:]) * self.exp_cell_factor\n"
     ]
    },
    {
     "name": "stdout",
     "output_type": "stream",
     "text": [
      "FIRE:   78 21:07:38    -2958.174662        0.098583\n"
     ]
    },
    {
     "name": "stderr",
     "output_type": "stream",
     "text": [
      "/home/mehuldarak/anaconda3/envs/mace/lib/python3.13/site-packages/ase/filters.py:606: RuntimeWarning: logm result may be inaccurate, approximate err = 2.6644078456290033e-13\n",
      "  pos[natoms:] = self.logm(pos[natoms:]) * self.exp_cell_factor\n"
     ]
    },
    {
     "name": "stdout",
     "output_type": "stream",
     "text": [
      "FIRE:   79 21:07:38    -2958.194938        0.097095\n"
     ]
    },
    {
     "name": "stderr",
     "output_type": "stream",
     "text": [
      "/home/mehuldarak/anaconda3/envs/mace/lib/python3.13/site-packages/ase/filters.py:606: RuntimeWarning: logm result may be inaccurate, approximate err = 2.729915360213507e-13\n",
      "  pos[natoms:] = self.logm(pos[natoms:]) * self.exp_cell_factor\n"
     ]
    },
    {
     "name": "stdout",
     "output_type": "stream",
     "text": [
      "FIRE:   80 21:07:39    -2958.215615        0.095608\n"
     ]
    },
    {
     "name": "stderr",
     "output_type": "stream",
     "text": [
      "/home/mehuldarak/anaconda3/envs/mace/lib/python3.13/site-packages/ase/filters.py:606: RuntimeWarning: logm result may be inaccurate, approximate err = 2.734718011696283e-13\n",
      "  pos[natoms:] = self.logm(pos[natoms:]) * self.exp_cell_factor\n"
     ]
    },
    {
     "name": "stdout",
     "output_type": "stream",
     "text": [
      "FIRE:   81 21:07:39    -2958.235489        0.094125\n"
     ]
    },
    {
     "name": "stderr",
     "output_type": "stream",
     "text": [
      "/home/mehuldarak/anaconda3/envs/mace/lib/python3.13/site-packages/ase/filters.py:606: RuntimeWarning: logm result may be inaccurate, approximate err = 2.7358990458620117e-13\n",
      "  pos[natoms:] = self.logm(pos[natoms:]) * self.exp_cell_factor\n"
     ]
    },
    {
     "name": "stdout",
     "output_type": "stream",
     "text": [
      "FIRE:   82 21:07:40    -2958.254761        0.092645\n"
     ]
    },
    {
     "name": "stderr",
     "output_type": "stream",
     "text": [
      "/home/mehuldarak/anaconda3/envs/mace/lib/python3.13/site-packages/ase/filters.py:606: RuntimeWarning: logm result may be inaccurate, approximate err = 2.7874857197687406e-13\n",
      "  pos[natoms:] = self.logm(pos[natoms:]) * self.exp_cell_factor\n"
     ]
    },
    {
     "name": "stdout",
     "output_type": "stream",
     "text": [
      "FIRE:   83 21:07:40    -2958.274233        0.091167\n"
     ]
    },
    {
     "name": "stderr",
     "output_type": "stream",
     "text": [
      "/home/mehuldarak/anaconda3/envs/mace/lib/python3.13/site-packages/ase/filters.py:606: RuntimeWarning: logm result may be inaccurate, approximate err = 2.7364137839532587e-13\n",
      "  pos[natoms:] = self.logm(pos[natoms:]) * self.exp_cell_factor\n"
     ]
    },
    {
     "name": "stdout",
     "output_type": "stream",
     "text": [
      "FIRE:   84 21:07:40    -2958.292903        0.089690\n"
     ]
    },
    {
     "name": "stderr",
     "output_type": "stream",
     "text": [
      "/home/mehuldarak/anaconda3/envs/mace/lib/python3.13/site-packages/ase/filters.py:606: RuntimeWarning: logm result may be inaccurate, approximate err = 2.6977926458146836e-13\n",
      "  pos[natoms:] = self.logm(pos[natoms:]) * self.exp_cell_factor\n"
     ]
    },
    {
     "name": "stdout",
     "output_type": "stream",
     "text": [
      "FIRE:   85 21:07:41    -2958.311573        0.088217\n"
     ]
    },
    {
     "name": "stderr",
     "output_type": "stream",
     "text": [
      "/home/mehuldarak/anaconda3/envs/mace/lib/python3.13/site-packages/ase/filters.py:606: RuntimeWarning: logm result may be inaccurate, approximate err = 2.709812488723242e-13\n",
      "  pos[natoms:] = self.logm(pos[natoms:]) * self.exp_cell_factor\n"
     ]
    },
    {
     "name": "stdout",
     "output_type": "stream",
     "text": [
      "FIRE:   86 21:07:42    -2958.330041        0.086750\n"
     ]
    },
    {
     "name": "stderr",
     "output_type": "stream",
     "text": [
      "/home/mehuldarak/anaconda3/envs/mace/lib/python3.13/site-packages/ase/filters.py:606: RuntimeWarning: logm result may be inaccurate, approximate err = 2.666143041257594e-13\n",
      "  pos[natoms:] = self.logm(pos[natoms:]) * self.exp_cell_factor\n"
     ]
    },
    {
     "name": "stdout",
     "output_type": "stream",
     "text": [
      "FIRE:   87 21:07:42    -2958.347306        0.085288\n"
     ]
    },
    {
     "name": "stderr",
     "output_type": "stream",
     "text": [
      "/home/mehuldarak/anaconda3/envs/mace/lib/python3.13/site-packages/ase/filters.py:606: RuntimeWarning: logm result may be inaccurate, approximate err = 2.700338238464983e-13\n",
      "  pos[natoms:] = self.logm(pos[natoms:]) * self.exp_cell_factor\n"
     ]
    },
    {
     "name": "stdout",
     "output_type": "stream",
     "text": [
      "FIRE:   88 21:07:42    -2958.364972        0.083832\n"
     ]
    },
    {
     "name": "stderr",
     "output_type": "stream",
     "text": [
      "/home/mehuldarak/anaconda3/envs/mace/lib/python3.13/site-packages/ase/filters.py:606: RuntimeWarning: logm result may be inaccurate, approximate err = 2.661039706381217e-13\n",
      "  pos[natoms:] = self.logm(pos[natoms:]) * self.exp_cell_factor\n"
     ]
    },
    {
     "name": "stdout",
     "output_type": "stream",
     "text": [
      "FIRE:   89 21:07:43    -2958.382035        0.082382\n"
     ]
    },
    {
     "name": "stderr",
     "output_type": "stream",
     "text": [
      "/home/mehuldarak/anaconda3/envs/mace/lib/python3.13/site-packages/ase/filters.py:606: RuntimeWarning: logm result may be inaccurate, approximate err = 2.694275498164382e-13\n",
      "  pos[natoms:] = self.logm(pos[natoms:]) * self.exp_cell_factor\n"
     ]
    },
    {
     "name": "stdout",
     "output_type": "stream",
     "text": [
      "FIRE:   90 21:07:43    -2958.398497        0.080937\n"
     ]
    },
    {
     "name": "stderr",
     "output_type": "stream",
     "text": [
      "/home/mehuldarak/anaconda3/envs/mace/lib/python3.13/site-packages/ase/filters.py:606: RuntimeWarning: logm result may be inaccurate, approximate err = 2.657179871477844e-13\n",
      "  pos[natoms:] = self.logm(pos[natoms:]) * self.exp_cell_factor\n"
     ]
    },
    {
     "name": "stdout",
     "output_type": "stream",
     "text": [
      "FIRE:   91 21:07:44    -2958.414757        0.079498\n"
     ]
    },
    {
     "name": "stderr",
     "output_type": "stream",
     "text": [
      "/home/mehuldarak/anaconda3/envs/mace/lib/python3.13/site-packages/ase/filters.py:606: RuntimeWarning: logm result may be inaccurate, approximate err = 2.727033669788184e-13\n",
      "  pos[natoms:] = self.logm(pos[natoms:]) * self.exp_cell_factor\n"
     ]
    },
    {
     "name": "stdout",
     "output_type": "stream",
     "text": [
      "FIRE:   92 21:07:44    -2958.430817        0.078068\n"
     ]
    },
    {
     "name": "stderr",
     "output_type": "stream",
     "text": [
      "/home/mehuldarak/anaconda3/envs/mace/lib/python3.13/site-packages/ase/filters.py:606: RuntimeWarning: logm result may be inaccurate, approximate err = 2.7165020983136926e-13\n",
      "  pos[natoms:] = self.logm(pos[natoms:]) * self.exp_cell_factor\n"
     ]
    },
    {
     "name": "stdout",
     "output_type": "stream",
     "text": [
      "FIRE:   93 21:07:45    -2958.446676        0.076646\n"
     ]
    },
    {
     "name": "stderr",
     "output_type": "stream",
     "text": [
      "/home/mehuldarak/anaconda3/envs/mace/lib/python3.13/site-packages/ase/filters.py:606: RuntimeWarning: logm result may be inaccurate, approximate err = 2.7181516802382936e-13\n",
      "  pos[natoms:] = self.logm(pos[natoms:]) * self.exp_cell_factor\n"
     ]
    },
    {
     "name": "stdout",
     "output_type": "stream",
     "text": [
      "FIRE:   94 21:07:45    -2958.462335        0.075230\n"
     ]
    },
    {
     "name": "stderr",
     "output_type": "stream",
     "text": [
      "/home/mehuldarak/anaconda3/envs/mace/lib/python3.13/site-packages/ase/filters.py:606: RuntimeWarning: logm result may be inaccurate, approximate err = 2.7665169562891896e-13\n",
      "  pos[natoms:] = self.logm(pos[natoms:]) * self.exp_cell_factor\n"
     ]
    },
    {
     "name": "stdout",
     "output_type": "stream",
     "text": [
      "FIRE:   95 21:07:45    -2958.476989        0.073818\n"
     ]
    },
    {
     "name": "stderr",
     "output_type": "stream",
     "text": [
      "/home/mehuldarak/anaconda3/envs/mace/lib/python3.13/site-packages/ase/filters.py:606: RuntimeWarning: logm result may be inaccurate, approximate err = 2.7034118449339307e-13\n",
      "  pos[natoms:] = self.logm(pos[natoms:]) * self.exp_cell_factor\n"
     ]
    },
    {
     "name": "stdout",
     "output_type": "stream",
     "text": [
      "FIRE:   96 21:07:46    -2958.491845        0.072407\n"
     ]
    },
    {
     "name": "stderr",
     "output_type": "stream",
     "text": [
      "/home/mehuldarak/anaconda3/envs/mace/lib/python3.13/site-packages/ase/filters.py:606: RuntimeWarning: logm result may be inaccurate, approximate err = 2.6723509697503405e-13\n",
      "  pos[natoms:] = self.logm(pos[natoms:]) * self.exp_cell_factor\n"
     ]
    },
    {
     "name": "stdout",
     "output_type": "stream",
     "text": [
      "FIRE:   97 21:07:46    -2958.506499        0.071001\n"
     ]
    },
    {
     "name": "stderr",
     "output_type": "stream",
     "text": [
      "/home/mehuldarak/anaconda3/envs/mace/lib/python3.13/site-packages/ase/filters.py:606: RuntimeWarning: logm result may be inaccurate, approximate err = 2.6997892971657165e-13\n",
      "  pos[natoms:] = self.logm(pos[natoms:]) * self.exp_cell_factor\n"
     ]
    },
    {
     "name": "stdout",
     "output_type": "stream",
     "text": [
      "FIRE:   98 21:07:47    -2958.520552        0.069594\n"
     ]
    },
    {
     "name": "stderr",
     "output_type": "stream",
     "text": [
      "/home/mehuldarak/anaconda3/envs/mace/lib/python3.13/site-packages/ase/filters.py:606: RuntimeWarning: logm result may be inaccurate, approximate err = 2.7186271137706906e-13\n",
      "  pos[natoms:] = self.logm(pos[natoms:]) * self.exp_cell_factor\n"
     ]
    },
    {
     "name": "stdout",
     "output_type": "stream",
     "text": [
      "FIRE:   99 21:07:47    -2958.533600        0.068186\n"
     ]
    },
    {
     "name": "stderr",
     "output_type": "stream",
     "text": [
      "/home/mehuldarak/anaconda3/envs/mace/lib/python3.13/site-packages/ase/filters.py:606: RuntimeWarning: logm result may be inaccurate, approximate err = 2.7627325752550685e-13\n",
      "  pos[natoms:] = self.logm(pos[natoms:]) * self.exp_cell_factor\n"
     ]
    },
    {
     "name": "stdout",
     "output_type": "stream",
     "text": [
      "FIRE:  100 21:07:48    -2958.547050        0.066783\n"
     ]
    },
    {
     "name": "stderr",
     "output_type": "stream",
     "text": [
      "/home/mehuldarak/anaconda3/envs/mace/lib/python3.13/site-packages/ase/filters.py:606: RuntimeWarning: logm result may be inaccurate, approximate err = 2.676519758511098e-13\n",
      "  pos[natoms:] = self.logm(pos[natoms:]) * self.exp_cell_factor\n"
     ]
    },
    {
     "name": "stdout",
     "output_type": "stream",
     "text": [
      "FIRE:  101 21:07:48    -2958.560501        0.065385\n"
     ]
    },
    {
     "name": "stderr",
     "output_type": "stream",
     "text": [
      "/home/mehuldarak/anaconda3/envs/mace/lib/python3.13/site-packages/ase/filters.py:606: RuntimeWarning: logm result may be inaccurate, approximate err = 2.7427408075270293e-13\n",
      "  pos[natoms:] = self.logm(pos[natoms:]) * self.exp_cell_factor\n"
     ]
    },
    {
     "name": "stdout",
     "output_type": "stream",
     "text": [
      "FIRE:  102 21:07:49    -2958.573349        0.063991\n"
     ]
    },
    {
     "name": "stderr",
     "output_type": "stream",
     "text": [
      "/home/mehuldarak/anaconda3/envs/mace/lib/python3.13/site-packages/ase/filters.py:606: RuntimeWarning: logm result may be inaccurate, approximate err = 2.705924654158345e-13\n",
      "  pos[natoms:] = self.logm(pos[natoms:]) * self.exp_cell_factor\n"
     ]
    },
    {
     "name": "stdout",
     "output_type": "stream",
     "text": [
      "FIRE:  103 21:07:49    -2958.585594        0.062594\n"
     ]
    },
    {
     "name": "stderr",
     "output_type": "stream",
     "text": [
      "/home/mehuldarak/anaconda3/envs/mace/lib/python3.13/site-packages/ase/filters.py:606: RuntimeWarning: logm result may be inaccurate, approximate err = 2.7267304440569076e-13\n",
      "  pos[natoms:] = self.logm(pos[natoms:]) * self.exp_cell_factor\n"
     ]
    },
    {
     "name": "stdout",
     "output_type": "stream",
     "text": [
      "FIRE:  104 21:07:49    -2958.598041        0.061201\n"
     ]
    },
    {
     "name": "stderr",
     "output_type": "stream",
     "text": [
      "/home/mehuldarak/anaconda3/envs/mace/lib/python3.13/site-packages/ase/filters.py:606: RuntimeWarning: logm result may be inaccurate, approximate err = 2.6839580335777046e-13\n",
      "  pos[natoms:] = self.logm(pos[natoms:]) * self.exp_cell_factor\n"
     ]
    },
    {
     "name": "stdout",
     "output_type": "stream",
     "text": [
      "FIRE:  105 21:07:50    -2958.609885        0.059812\n"
     ]
    },
    {
     "name": "stderr",
     "output_type": "stream",
     "text": [
      "/home/mehuldarak/anaconda3/envs/mace/lib/python3.13/site-packages/ase/filters.py:606: RuntimeWarning: logm result may be inaccurate, approximate err = 2.6921446698835463e-13\n",
      "  pos[natoms:] = self.logm(pos[natoms:]) * self.exp_cell_factor\n"
     ]
    },
    {
     "name": "stdout",
     "output_type": "stream",
     "text": [
      "FIRE:  106 21:07:50    -2958.621127        0.058431\n"
     ]
    },
    {
     "name": "stderr",
     "output_type": "stream",
     "text": [
      "/home/mehuldarak/anaconda3/envs/mace/lib/python3.13/site-packages/ase/filters.py:606: RuntimeWarning: logm result may be inaccurate, approximate err = 2.673859689982497e-13\n",
      "  pos[natoms:] = self.logm(pos[natoms:]) * self.exp_cell_factor\n"
     ]
    },
    {
     "name": "stdout",
     "output_type": "stream",
     "text": [
      "FIRE:  107 21:07:51    -2958.632569        0.057058\n"
     ]
    },
    {
     "name": "stderr",
     "output_type": "stream",
     "text": [
      "/home/mehuldarak/anaconda3/envs/mace/lib/python3.13/site-packages/ase/filters.py:606: RuntimeWarning: logm result may be inaccurate, approximate err = 2.7390490635736004e-13\n",
      "  pos[natoms:] = self.logm(pos[natoms:]) * self.exp_cell_factor\n"
     ]
    },
    {
     "name": "stdout",
     "output_type": "stream",
     "text": [
      "FIRE:  108 21:07:51    -2958.643410        0.055693\n"
     ]
    },
    {
     "name": "stderr",
     "output_type": "stream",
     "text": [
      "/home/mehuldarak/anaconda3/envs/mace/lib/python3.13/site-packages/ase/filters.py:606: RuntimeWarning: logm result may be inaccurate, approximate err = 2.6827421656277213e-13\n",
      "  pos[natoms:] = self.logm(pos[natoms:]) * self.exp_cell_factor\n"
     ]
    },
    {
     "name": "stdout",
     "output_type": "stream",
     "text": [
      "FIRE:  109 21:07:52    -2958.653849        0.054333\n"
     ]
    },
    {
     "name": "stderr",
     "output_type": "stream",
     "text": [
      "/home/mehuldarak/anaconda3/envs/mace/lib/python3.13/site-packages/ase/filters.py:606: RuntimeWarning: logm result may be inaccurate, approximate err = 2.690844959197729e-13\n",
      "  pos[natoms:] = self.logm(pos[natoms:]) * self.exp_cell_factor\n"
     ]
    },
    {
     "name": "stdout",
     "output_type": "stream",
     "text": [
      "FIRE:  110 21:07:52    -2958.664890        0.052979\n"
     ]
    },
    {
     "name": "stderr",
     "output_type": "stream",
     "text": [
      "/home/mehuldarak/anaconda3/envs/mace/lib/python3.13/site-packages/ase/filters.py:606: RuntimeWarning: logm result may be inaccurate, approximate err = 2.6717592131053874e-13\n",
      "  pos[natoms:] = self.logm(pos[natoms:]) * self.exp_cell_factor\n"
     ]
    },
    {
     "name": "stdout",
     "output_type": "stream",
     "text": [
      "FIRE:  111 21:07:52    -2958.674927        0.051631\n"
     ]
    },
    {
     "name": "stderr",
     "output_type": "stream",
     "text": [
      "/home/mehuldarak/anaconda3/envs/mace/lib/python3.13/site-packages/ase/filters.py:606: RuntimeWarning: logm result may be inaccurate, approximate err = 2.735299817702863e-13\n",
      "  pos[natoms:] = self.logm(pos[natoms:]) * self.exp_cell_factor\n"
     ]
    },
    {
     "name": "stdout",
     "output_type": "stream",
     "text": [
      "FIRE:  112 21:07:53    -2958.684362        0.050291\n"
     ]
    },
    {
     "name": "stderr",
     "output_type": "stream",
     "text": [
      "/home/mehuldarak/anaconda3/envs/mace/lib/python3.13/site-packages/ase/filters.py:606: RuntimeWarning: logm result may be inaccurate, approximate err = 2.639969520929463e-13\n",
      "  pos[natoms:] = self.logm(pos[natoms:]) * self.exp_cell_factor\n"
     ]
    },
    {
     "name": "stdout",
     "output_type": "stream",
     "text": [
      "FIRE:  113 21:07:53    -2958.694400        0.048952\n"
     ]
    }
   ],
   "source": [
    "# Convert back, assign calculator + constraint\n",
    "structure_1 = AseAtomsAdaptor.get_atoms(result[\"final_structure\"])\n",
    "structure_1.set_calculator(calc)\n",
    "structure_1.set_constraint(FixAtoms(mask=freeze_mask))\n",
    "\n",
    "# Stage 2: FIRE\n",
    "opt2 = StructOptimizer(model=calc, optimizer_class=\"FIRE\", use_device=\"cuda\")\n",
    "result2 = opt2.relax(structure_1, fmax=0.05, steps=400, relax_cell=True, verbose=True)"
   ]
  },
  {
   "cell_type": "code",
   "execution_count": null,
   "id": "c976904a",
   "metadata": {},
   "outputs": [
    {
     "name": "stdout",
     "output_type": "stream",
     "text": [
      "✅ Relaxed structure saved to: /home/mehuldarak/summer/relax_final/cellrelaxed_LLZO_010_O_order5_off__Li_110_slab_heavy.cif\n"
     ]
    },
    {
     "name": "stderr",
     "output_type": "stream",
     "text": [
      "/home/mehuldarak/anaconda3/envs/mace/lib/python3.13/site-packages/pymatgen/io/cif.py:1724: FutureWarning: We strongly discourage using implicit binary/text `mode`, and this would not be allowed after 2025-06-01. I.e. you should pass t/b in `mode`.\n",
      "  with zopen(filename, mode=mode) as file:\n"
     ]
    },
    {
     "ename": "",
     "evalue": "",
     "output_type": "error",
     "traceback": [
      "\u001b[1;31mThe Kernel crashed while executing code in the current cell or a previous cell. \n",
      "\u001b[1;31mPlease review the code in the cell(s) to identify a possible cause of the failure. \n",
      "\u001b[1;31mClick <a href='https://aka.ms/vscodeJupyterKernelCrash'>here</a> for more info. \n",
      "\u001b[1;31mView Jupyter <a href='command:jupyter.viewOutput'>log</a> for further details."
     ]
    }
   ],
   "source": [
    "# Save relaxed structure\n",
    "relaxed_structure = result[\"final_structure\"]\n",
    "relaxed_structure.to(filename=output_path)\n",
    "\n",
    "print(f\"✅ Relaxed structure saved to: {output_path}\")"
   ]
  }
 ],
 "metadata": {
  "kernelspec": {
   "display_name": "mace",
   "language": "python",
   "name": "python3"
  },
  "language_info": {
   "codemirror_mode": {
    "name": "ipython",
    "version": 3
   },
   "file_extension": ".py",
   "mimetype": "text/x-python",
   "name": "python",
   "nbconvert_exporter": "python",
   "pygments_lexer": "ipython3",
   "version": "3.13.5"
  }
 },
 "nbformat": 4,
 "nbformat_minor": 5
}
