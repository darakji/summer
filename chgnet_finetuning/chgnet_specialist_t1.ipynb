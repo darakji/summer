{
 "cells": [
  {
   "cell_type": "code",
   "execution_count": 4,
   "id": "7ed8df76-1b97-438b-ab72-89aa521963ad",
   "metadata": {
    "scrolled": true
   },
   "outputs": [
    {
     "name": "stdout",
     "output_type": "stream",
     "text": [
      "✅ Loaded 6337 training structures\n",
      "✅ Loaded 705 validation structures\n",
      "CrystalGraphConverter(algorithm='fast', atom_graph_cutoff=6.0, bond_graph_cutoff=3.0)\n"
     ]
    },
    {
     "ename": "AttributeError",
     "evalue": "'CrystalGraphConverter' object has no attribute 'convert'",
     "output_type": "error",
     "traceback": [
      "\u001b[0;31m---------------------------------------------------------------------------\u001b[0m",
      "\u001b[0;31mAttributeError\u001b[0m                            Traceback (most recent call last)",
      "Cell \u001b[0;32mIn[4], line 24\u001b[0m\n\u001b[1;32m     15\u001b[0m converter \u001b[38;5;241m=\u001b[39m CrystalGraphConverter(\n\u001b[1;32m     16\u001b[0m     atom_graph_cutoff\u001b[38;5;241m=\u001b[39m\u001b[38;5;241m6.0\u001b[39m,\n\u001b[1;32m     17\u001b[0m     bond_graph_cutoff\u001b[38;5;241m=\u001b[39m\u001b[38;5;241m3.0\u001b[39m,\n\u001b[0;32m   (...)\u001b[0m\n\u001b[1;32m     20\u001b[0m     verbose\u001b[38;5;241m=\u001b[39m\u001b[38;5;28;01mTrue\u001b[39;00m\n\u001b[1;32m     21\u001b[0m )\n\u001b[1;32m     23\u001b[0m \u001b[38;5;66;03m# === Convert to GraphData ===\u001b[39;00m\n\u001b[0;32m---> 24\u001b[0m train_graphs \u001b[38;5;241m=\u001b[39m [converter\u001b[38;5;241m.\u001b[39mconvert(atom) \u001b[38;5;28;01mfor\u001b[39;00m atom \u001b[38;5;129;01min\u001b[39;00m train_atoms]\n\u001b[1;32m     25\u001b[0m valid_graphs \u001b[38;5;241m=\u001b[39m [converter\u001b[38;5;241m.\u001b[39mconvert(atom) \u001b[38;5;28;01mfor\u001b[39;00m atom \u001b[38;5;129;01min\u001b[39;00m valid_atoms]\n",
      "Cell \u001b[0;32mIn[4], line 24\u001b[0m, in \u001b[0;36m<listcomp>\u001b[0;34m(.0)\u001b[0m\n\u001b[1;32m     15\u001b[0m converter \u001b[38;5;241m=\u001b[39m CrystalGraphConverter(\n\u001b[1;32m     16\u001b[0m     atom_graph_cutoff\u001b[38;5;241m=\u001b[39m\u001b[38;5;241m6.0\u001b[39m,\n\u001b[1;32m     17\u001b[0m     bond_graph_cutoff\u001b[38;5;241m=\u001b[39m\u001b[38;5;241m3.0\u001b[39m,\n\u001b[0;32m   (...)\u001b[0m\n\u001b[1;32m     20\u001b[0m     verbose\u001b[38;5;241m=\u001b[39m\u001b[38;5;28;01mTrue\u001b[39;00m\n\u001b[1;32m     21\u001b[0m )\n\u001b[1;32m     23\u001b[0m \u001b[38;5;66;03m# === Convert to GraphData ===\u001b[39;00m\n\u001b[0;32m---> 24\u001b[0m train_graphs \u001b[38;5;241m=\u001b[39m [\u001b[43mconverter\u001b[49m\u001b[38;5;241;43m.\u001b[39;49m\u001b[43mconvert\u001b[49m(atom) \u001b[38;5;28;01mfor\u001b[39;00m atom \u001b[38;5;129;01min\u001b[39;00m train_atoms]\n\u001b[1;32m     25\u001b[0m valid_graphs \u001b[38;5;241m=\u001b[39m [converter\u001b[38;5;241m.\u001b[39mconvert(atom) \u001b[38;5;28;01mfor\u001b[39;00m atom \u001b[38;5;129;01min\u001b[39;00m valid_atoms]\n",
      "File \u001b[0;32m~/miniconda3/envs/mace_0.3.8/lib/python3.10/site-packages/torch/nn/modules/module.py:1931\u001b[0m, in \u001b[0;36mModule.__getattr__\u001b[0;34m(self, name)\u001b[0m\n\u001b[1;32m   1929\u001b[0m     \u001b[38;5;28;01mif\u001b[39;00m name \u001b[38;5;129;01min\u001b[39;00m modules:\n\u001b[1;32m   1930\u001b[0m         \u001b[38;5;28;01mreturn\u001b[39;00m modules[name]\n\u001b[0;32m-> 1931\u001b[0m \u001b[38;5;28;01mraise\u001b[39;00m \u001b[38;5;167;01mAttributeError\u001b[39;00m(\n\u001b[1;32m   1932\u001b[0m     \u001b[38;5;124mf\u001b[39m\u001b[38;5;124m\"\u001b[39m\u001b[38;5;124m'\u001b[39m\u001b[38;5;132;01m{\u001b[39;00m\u001b[38;5;28mtype\u001b[39m(\u001b[38;5;28mself\u001b[39m)\u001b[38;5;241m.\u001b[39m\u001b[38;5;18m__name__\u001b[39m\u001b[38;5;132;01m}\u001b[39;00m\u001b[38;5;124m'\u001b[39m\u001b[38;5;124m object has no attribute \u001b[39m\u001b[38;5;124m'\u001b[39m\u001b[38;5;132;01m{\u001b[39;00mname\u001b[38;5;132;01m}\u001b[39;00m\u001b[38;5;124m'\u001b[39m\u001b[38;5;124m\"\u001b[39m\n\u001b[1;32m   1933\u001b[0m )\n",
      "\u001b[0;31mAttributeError\u001b[0m: 'CrystalGraphConverter' object has no attribute 'convert'"
     ]
    }
   ],
   "source": [
    "from ase.io import read\n",
    "from chgnet.graph.converter import CrystalGraphConverter\n",
    "\n",
    "# === Load .extxyz files ===\n",
    "train_extxyz = \"/home/phanim/harshitrawat/summer/final_work/T1_chgnet_labeled.extxyz\"\n",
    "valid_extxyz = \"/home/phanim/harshitrawat/summer/final_work/T2_chgnet_labeled.extxyz\"\n",
    "\n",
    "train_atoms = read(train_extxyz, index=\":\")\n",
    "valid_atoms = read(valid_extxyz, index=\":\")\n",
    "\n",
    "print(f\"✅ Loaded {len(train_atoms)} training structures\")\n",
    "print(f\"✅ Loaded {len(valid_atoms)} validation structures\")\n",
    "\n",
    "# === Initialize Converter ===\n",
    "converter = CrystalGraphConverter(\n",
    "    atom_graph_cutoff=6.0,\n",
    "    bond_graph_cutoff=3.0,\n",
    "    algorithm=\"fast\",\n",
    "    on_isolated_atoms=\"warn\",\n",
    "    verbose=True\n",
    ")"
   ]
  },
  {
   "cell_type": "code",
   "execution_count": 7,
   "id": "d070a5fb-b37d-41e6-857d-281956bd234a",
   "metadata": {
    "scrolled": true
   },
   "outputs": [
    {
     "name": "stdout",
     "output_type": "stream",
     "text": [
      "CrystalGraphConverter(algorithm='fast', atom_graph_cutoff=6.0, bond_graph_cutoff=3.0)\n"
     ]
    }
   ],
   "source": [
    "from joblib import Parallel, delayed\n",
    "from pymatgen.io.ase import AseAtomsAdaptor\n",
    "from chgnet.graph.converter import CrystalGraphConverter\n",
    "\n",
    "# === Setup ===\n",
    "ase_adaptor = AseAtomsAdaptor()\n",
    "converter = CrystalGraphConverter(atom_graph_cutoff=6.0, bond_graph_cutoff=3.0,algorithm=\"fast\",\n",
    "    on_isolated_atoms=\"warn\",\n",
    "    verbose=True)\n",
    "\n",
    "# === Function for one graph ===\n",
    "def convert_atom(atom):\n",
    "    structure = ase_adaptor.get_structure(atom)\n",
    "    return converter(structure)\n"
   ]
  },
  {
   "cell_type": "code",
   "execution_count": 8,
   "id": "6cc1a87e-529e-448b-905e-f39739c74161",
   "metadata": {},
   "outputs": [],
   "source": [
    "\n",
    "# === Parallel Execution ===\n",
    "train_graphs = Parallel(n_jobs=32)(delayed(convert_atom)(atom) for atom in train_atoms)\n",
    "valid_graphs = Parallel(n_jobs=32)(delayed(convert_atom)(atom) for atom in valid_atoms)\n"
   ]
  },
  {
   "cell_type": "code",
   "execution_count": 9,
   "id": "767b0382-665e-4e91-86d8-73d03315c32e",
   "metadata": {},
   "outputs": [
    {
     "name": "stdout",
     "output_type": "stream",
     "text": [
      "✅ Saved graphs to disk.\n"
     ]
    }
   ],
   "source": [
    "import torch\n",
    "\n",
    "torch.save(train_graphs, \"t1_chgnet_graphs.pt\")\n",
    "torch.save(valid_graphs, \"t2_chgnet_graphs.pt\")\n",
    "\n",
    "print(\"✅ Saved graphs to disk.\")\n"
   ]
  },
  {
   "cell_type": "code",
   "execution_count": 10,
   "id": "815d657d-7100-4d96-8a92-12c0643d6867",
   "metadata": {},
   "outputs": [],
   "source": [
    "from torch.utils.data import Dataset, DataLoader\n",
    "\n",
    "class GraphDataset(Dataset):\n",
    "    def __init__(self, graphs):\n",
    "        self.graphs = graphs\n",
    "\n",
    "    def __len__(self):\n",
    "        return len(self.graphs)\n",
    "\n",
    "    def __getitem__(self, idx):\n",
    "        return self.graphs[idx]\n",
    "\n",
    "# === Wrap datasets ===\n",
    "train_dataset = GraphDataset(train_graphs)\n",
    "valid_dataset = GraphDataset(valid_graphs)\n",
    "\n",
    "\n"
   ]
  },
  {
   "cell_type": "code",
   "execution_count": 44,
   "id": "3e9c2904-2c63-4e9f-a75f-ffc6f410eadd",
   "metadata": {},
   "outputs": [],
   "source": [
    "# === Create loaders ===\n",
    "train_loader = DataLoader(train_dataset, batch_size=16, shuffle=True)\n",
    "valid_loader = DataLoader(valid_dataset, batch_size=16, shuffle=False)"
   ]
  },
  {
   "cell_type": "code",
   "execution_count": 15,
   "id": "f9b6a633-0d71-4b7f-b7e3-1e85cbd99fd3",
   "metadata": {
    "scrolled": true
   },
   "outputs": [
    {
     "name": "stdout",
     "output_type": "stream",
     "text": [
      "CHGNet v0.3.0 initialized with 412,525 parameters\n",
      "CHGNet will run on cpu\n",
      "✅ CHGNet loaded on cuda:0\n"
     ]
    }
   ],
   "source": [
    "import torch\n",
    "from chgnet.model.model import CHGNet\n",
    "\n",
    "# === Force load on CPU first ===\n",
    "device = torch.device(\"cuda:0\")\n",
    "\n",
    "# Load the model safely on CPU first\n",
    "model = CHGNet.load(use_device=\"cpu\", verbose=True)\n",
    "\n",
    "# Then move manually to the MIG GPU\n",
    "model = model.to(device)\n",
    "\n",
    "# === Set to train mode ===\n",
    "model.train()\n",
    "\n",
    "# === Optional: Check model arch ===\n",
    "print(\"✅ CHGNet loaded on\", device)\n"
   ]
  },
  {
   "cell_type": "code",
   "execution_count": 40,
   "id": "73055cb7-3e82-4397-9fae-08bc49540a6b",
   "metadata": {
    "scrolled": true
   },
   "outputs": [
    {
     "name": "stdout",
     "output_type": "stream",
     "text": [
      "StructureData imported 6,337 structures\n",
      "StructureData imported 705 structures\n",
      "✅ Created StructureData for training and validation\n"
     ]
    }
   ],
   "source": [
    "from chgnet.data.dataset import StructureData\n",
    "import numpy as np\n",
    "def atoms_to_structuredata(atoms_list):\n",
    "    structures = []\n",
    "    energies = []\n",
    "    forces = []\n",
    "\n",
    "    for atoms in atoms_list:\n",
    "        structures.append(ase_adaptor.get_structure(atoms))\n",
    "\n",
    "        energy = atoms.info.get(\"REF_energy\", None)\n",
    "        force = atoms.arrays.get(\"REF_forces\", None)\n",
    "\n",
    "        if energy is None or force is None:\n",
    "            raise ValueError(\"Missing REF_energy or REF_forces\")\n",
    "\n",
    "        energies.append(energy)\n",
    "        forces.append(np.array(force, dtype=np.float32))\n",
    "\n",
    "\n",
    "    return StructureData(structures=structures, energies=energies, forces=forces)\n",
    "\n",
    "train_data = atoms_to_structuredata(train_atoms)\n",
    "valid_data = atoms_to_structuredata(valid_atoms)\n",
    "\n",
    "print(\"✅ Created StructureData for training and validation\")\n"
   ]
  },
  {
   "cell_type": "code",
   "execution_count": 41,
   "id": "dd099f6d-4d34-49ab-ad6e-538910b12dfa",
   "metadata": {},
   "outputs": [
    {
     "name": "stdout",
     "output_type": "stream",
     "text": [
      "✅ Saved graphs, atoms, and structured datasets\n"
     ]
    }
   ],
   "source": [
    "import torch\n",
    "from ase.io import write\n",
    "import joblib\n",
    "\n",
    "# === Atoms ===\n",
    "write(\"t1_atoms.extxyz\", train_atoms)\n",
    "write(\"t2_atoms.extxyz\", valid_atoms)\n",
    "\n",
    "# === StructureData ===\n",
    "joblib.dump(train_data, \"t1_structure_data.pkl\")\n",
    "joblib.dump(valid_data, \"t2_structure_data.pkl\")\n",
    "\n",
    "print(\"✅ Saved graphs, atoms, and structured datasets\")\n"
   ]
  },
  {
   "cell_type": "code",
   "execution_count": 1,
   "id": "d94618e1-010f-410b-b5b7-92e77665fca6",
   "metadata": {
    "scrolled": true
   },
   "outputs": [
    {
     "ename": "NameError",
     "evalue": "name 'train_data' is not defined",
     "output_type": "error",
     "traceback": [
      "\u001b[0;31m---------------------------------------------------------------------------\u001b[0m",
      "\u001b[0;31mNameError\u001b[0m                                 Traceback (most recent call last)",
      "Cell \u001b[0;32mIn[1], line 5\u001b[0m\n\u001b[1;32m      1\u001b[0m \u001b[38;5;28;01mfrom\u001b[39;00m \u001b[38;5;21;01mchgnet\u001b[39;00m\u001b[38;5;21;01m.\u001b[39;00m\u001b[38;5;21;01mdata\u001b[39;00m\u001b[38;5;21;01m.\u001b[39;00m\u001b[38;5;21;01mdataset\u001b[39;00m \u001b[38;5;28;01mimport\u001b[39;00m StructureData\n\u001b[1;32m      3\u001b[0m \u001b[38;5;66;03m# Merge two StructureData objects\u001b[39;00m\n\u001b[1;32m      4\u001b[0m full_data \u001b[38;5;241m=\u001b[39m StructureData(\n\u001b[0;32m----> 5\u001b[0m     structures\u001b[38;5;241m=\u001b[39m\u001b[43mtrain_data\u001b[49m\u001b[38;5;241m.\u001b[39mstructures \u001b[38;5;241m+\u001b[39m valid_data\u001b[38;5;241m.\u001b[39mstructures,\n\u001b[1;32m      6\u001b[0m     energies\u001b[38;5;241m=\u001b[39mtrain_data\u001b[38;5;241m.\u001b[39menergies \u001b[38;5;241m+\u001b[39m valid_data\u001b[38;5;241m.\u001b[39menergies,\n\u001b[1;32m      7\u001b[0m     forces\u001b[38;5;241m=\u001b[39mtrain_data\u001b[38;5;241m.\u001b[39mforces \u001b[38;5;241m+\u001b[39m valid_data\u001b[38;5;241m.\u001b[39mforces,\n\u001b[1;32m      8\u001b[0m )\n\u001b[1;32m     10\u001b[0m train_loader, val_loader, _ \u001b[38;5;241m=\u001b[39m get_train_val_test_loader(\n\u001b[1;32m     11\u001b[0m     dataset\u001b[38;5;241m=\u001b[39mfull_data,\n\u001b[1;32m     12\u001b[0m     batch_size\u001b[38;5;241m=\u001b[39m\u001b[38;5;241m4\u001b[39m,\n\u001b[0;32m   (...)\u001b[0m\n\u001b[1;32m     16\u001b[0m     pin_memory\u001b[38;5;241m=\u001b[39m\u001b[38;5;28;01mTrue\u001b[39;00m\n\u001b[1;32m     17\u001b[0m )\n\u001b[1;32m     18\u001b[0m trainer\u001b[38;5;241m.\u001b[39mtrain(train_loader, val_loader)\n",
      "\u001b[0;31mNameError\u001b[0m: name 'train_data' is not defined"
     ]
    }
   ],
   "source": [
    "from chgnet.data.dataset import StructureData\n",
    "\n",
    "# Merge two StructureData objects\n",
    "full_data = StructureData(\n",
    "    structures=train_data.structures + valid_data.structures,\n",
    "    energies=train_data.energies + valid_data.energies,\n",
    "    forces=train_data.forces + valid_data.forces,\n",
    ")\n",
    "\n",
    "train_loader, val_loader, _ = get_train_val_test_loader(\n",
    "    dataset=full_data,\n",
    "    batch_size=4,\n",
    "    train_ratio=len(train_data) / (len(train_data) + len(valid_data)),\n",
    "    val_ratio=len(valid_data) / (len(train_data) + len(valid_data)),\n",
    "    num_workers=4,\n",
    "    pin_memory=True\n",
    ")\n",
    "trainer.train(train_loader, val_loader)\n"
   ]
  },
  {
   "cell_type": "code",
   "execution_count": 75,
   "id": "a9823552-0551-4014-85e2-5d8b27324bc1",
   "metadata": {
    "scrolled": true
   },
   "outputs": [
    {
     "name": "stdout",
     "output_type": "stream",
     "text": [
      "Begin Training: using cuda:0 device\n",
      "training targets: ef\n",
      "Epoch: [0][1/1585] | Time (0.517)(0.334) | Loss 7803296.0000(7803296.0000) | MAE e 2787.727(2787.727)  f 0.903(0.903)  \n",
      "Epoch: [0][100/1585] | Time (1.411)(1.188) | Loss 8018614.5000(7901433.4750) | MAE e 2831.121(2802.089)  f 1.391(1.161)  \n",
      "Epoch: [0][200/1585] | Time (1.416)(1.193) | Loss 7980509.0000(7858899.1875) | MAE e 2819.000(2793.824)  f 1.819(1.481)  \n",
      "Epoch: [0][300/1585] | Time (1.422)(1.197) | Loss 7629134.0000(7856701.1150) | MAE e 2759.278(2793.441)  f 2.367(1.764)  \n",
      "Epoch: [0][400/1585] | Time (1.431)(1.205) | Loss 6995093.5000(7828456.3388) | MAE e 2633.226(2788.328)  f 3.773(2.018)  \n",
      "Epoch: [0][500/1585] | Time (1.436)(1.210) | Loss 7683388.0000(7836931.0820) | MAE e 2764.686(2790.037)  f 2.207(2.228)  \n",
      "Epoch: [0][600/1585] | Time (1.476)(1.252) | Loss 7284473.0000(7812712.5967) | MAE e 2694.810(2785.631)  f 3.673(2.416)  \n",
      "Epoch: [0][700/1585] | Time (1.469)(1.245) | Loss 6999699.0000(7796330.0343) | MAE e 2641.729(2782.591)  f 3.314(2.555)  \n",
      "Epoch: [0][800/1585] | Time (1.469)(1.246) | Loss 8313034.0000(7777848.3144) | MAE e 2872.554(2779.272)  f 3.667(2.711)  \n",
      "Epoch: [0][900/1585] | Time (1.468)(1.245) | Loss 8214394.0000(7773702.3817) | MAE e 2852.136(2778.514)  f 4.228(2.859)  \n",
      "Epoch: [0][1000/1585] | Time (1.469)(1.245) | Loss 8151042.0000(7775643.2720) | MAE e 2851.573(2778.974)  f 4.155(3.015)  \n",
      "Epoch: [0][1100/1585] | Time (1.467)(1.244) | Loss 7357611.0000(7759366.2673) | MAE e 2707.591(2775.947)  f 4.156(3.155)  \n",
      "Epoch: [0][1200/1585] | Time (1.468)(1.245) | Loss 8102971.0000(7747076.9492) | MAE e 2844.164(2773.705)  f 4.087(3.298)  \n",
      "Epoch: [0][1300/1585] | Time (1.487)(1.263) | Loss 7096237.0000(7734357.4908) | MAE e 2656.964(2771.347)  f 6.296(3.454)  \n",
      "Epoch: [0][1400/1585] | Time (1.487)(1.263) | Loss 7957479.0000(7717536.9261) | MAE e 2819.149(2768.249)  f 7.292(3.671)  \n",
      "Epoch: [0][1500/1585] | Time (1.493)(1.269) | Loss 7571009.0000(7700247.2763) | MAE e 2742.916(2765.079)  f 6.386(3.893)  \n"
     ]
    },
    {
     "ename": "TypeError",
     "evalue": "default_collate: batch must contain tensors, numpy arrays, numbers, dicts or lists; found <class 'chgnet.graph.crystalgraph.CrystalGraph'>",
     "output_type": "error",
     "traceback": [
      "\u001b[0;31m---------------------------------------------------------------------------\u001b[0m",
      "\u001b[0;31mTypeError\u001b[0m                                 Traceback (most recent call last)",
      "Cell \u001b[0;32mIn[75], line 14\u001b[0m\n\u001b[1;32m      3\u001b[0m os\u001b[38;5;241m.\u001b[39menviron[\u001b[38;5;124m\"\u001b[39m\u001b[38;5;124mPYTORCH_CUDA_ALLOC_CONF\u001b[39m\u001b[38;5;124m\"\u001b[39m] \u001b[38;5;241m=\u001b[39m \u001b[38;5;124m\"\u001b[39m\u001b[38;5;124mexpandable_segments:True\u001b[39m\u001b[38;5;124m\"\u001b[39m\n\u001b[1;32m      4\u001b[0m trainer \u001b[38;5;241m=\u001b[39m Trainer(\n\u001b[1;32m      5\u001b[0m     model\u001b[38;5;241m=\u001b[39mmodel,\n\u001b[1;32m      6\u001b[0m     targets\u001b[38;5;241m=\u001b[39m\u001b[38;5;124m\"\u001b[39m\u001b[38;5;124mef\u001b[39m\u001b[38;5;124m\"\u001b[39m,           \u001b[38;5;66;03m# energy + forces\u001b[39;00m\n\u001b[0;32m   (...)\u001b[0m\n\u001b[1;32m     11\u001b[0m     use_device\u001b[38;5;241m=\u001b[39mdevice\n\u001b[1;32m     12\u001b[0m )\n\u001b[0;32m---> 14\u001b[0m \u001b[43mtrainer\u001b[49m\u001b[38;5;241;43m.\u001b[39;49m\u001b[43mtrain\u001b[49m\u001b[43m(\u001b[49m\u001b[43mtrain_loader\u001b[49m\u001b[43m,\u001b[49m\u001b[43m \u001b[49m\u001b[43mvalid_loader\u001b[49m\u001b[43m)\u001b[49m\n",
      "File \u001b[0;32m~/miniconda3/envs/mace_0.3.8/lib/python3.10/site-packages/chgnet/trainer/trainer.py:249\u001b[0m, in \u001b[0;36mTrainer.train\u001b[0;34m(self, train_loader, val_loader, test_loader, save_dir, save_test_result, train_composition_model)\u001b[0m\n\u001b[1;32m    246\u001b[0m     \u001b[38;5;28;01mbreak\u001b[39;00m\n\u001b[1;32m    248\u001b[0m \u001b[38;5;66;03m# val\u001b[39;00m\n\u001b[0;32m--> 249\u001b[0m val_mae \u001b[38;5;241m=\u001b[39m \u001b[38;5;28;43mself\u001b[39;49m\u001b[38;5;241;43m.\u001b[39;49m\u001b[43m_validate\u001b[49m\u001b[43m(\u001b[49m\u001b[43mval_loader\u001b[49m\u001b[43m)\u001b[49m\n\u001b[1;32m    250\u001b[0m \u001b[38;5;28;01mfor\u001b[39;00m key \u001b[38;5;129;01min\u001b[39;00m \u001b[38;5;28mself\u001b[39m\u001b[38;5;241m.\u001b[39mtargets:\n\u001b[1;32m    251\u001b[0m     \u001b[38;5;28mself\u001b[39m\u001b[38;5;241m.\u001b[39mtraining_history[key][\u001b[38;5;124m\"\u001b[39m\u001b[38;5;124mtrain\u001b[39m\u001b[38;5;124m\"\u001b[39m]\u001b[38;5;241m.\u001b[39mappend(train_mae[key])\n",
      "File \u001b[0;32m~/miniconda3/envs/mace_0.3.8/lib/python3.10/site-packages/chgnet/trainer/trainer.py:385\u001b[0m, in \u001b[0;36mTrainer._validate\u001b[0;34m(self, val_loader, is_test, test_result_save_path)\u001b[0m\n\u001b[1;32m    382\u001b[0m     test_pred \u001b[38;5;241m=\u001b[39m []\n\u001b[1;32m    384\u001b[0m end \u001b[38;5;241m=\u001b[39m time\u001b[38;5;241m.\u001b[39mperf_counter()\n\u001b[0;32m--> 385\u001b[0m \u001b[38;5;28;01mfor\u001b[39;00m ii, (graphs, targets) \u001b[38;5;129;01min\u001b[39;00m \u001b[38;5;28menumerate\u001b[39m(val_loader):\n\u001b[1;32m    386\u001b[0m     \u001b[38;5;28;01mif\u001b[39;00m \u001b[38;5;124m\"\u001b[39m\u001b[38;5;124mf\u001b[39m\u001b[38;5;124m\"\u001b[39m \u001b[38;5;129;01min\u001b[39;00m \u001b[38;5;28mself\u001b[39m\u001b[38;5;241m.\u001b[39mtargets \u001b[38;5;129;01mor\u001b[39;00m \u001b[38;5;124m\"\u001b[39m\u001b[38;5;124ms\u001b[39m\u001b[38;5;124m\"\u001b[39m \u001b[38;5;129;01min\u001b[39;00m \u001b[38;5;28mself\u001b[39m\u001b[38;5;241m.\u001b[39mtargets:\n\u001b[1;32m    387\u001b[0m         \u001b[38;5;28;01mfor\u001b[39;00m graph \u001b[38;5;129;01min\u001b[39;00m graphs:\n",
      "File \u001b[0;32m~/miniconda3/envs/mace_0.3.8/lib/python3.10/site-packages/torch/utils/data/dataloader.py:701\u001b[0m, in \u001b[0;36m_BaseDataLoaderIter.__next__\u001b[0;34m(self)\u001b[0m\n\u001b[1;32m    698\u001b[0m \u001b[38;5;28;01mif\u001b[39;00m \u001b[38;5;28mself\u001b[39m\u001b[38;5;241m.\u001b[39m_sampler_iter \u001b[38;5;129;01mis\u001b[39;00m \u001b[38;5;28;01mNone\u001b[39;00m:\n\u001b[1;32m    699\u001b[0m     \u001b[38;5;66;03m# TODO(https://github.com/pytorch/pytorch/issues/76750)\u001b[39;00m\n\u001b[1;32m    700\u001b[0m     \u001b[38;5;28mself\u001b[39m\u001b[38;5;241m.\u001b[39m_reset()  \u001b[38;5;66;03m# type: ignore[call-arg]\u001b[39;00m\n\u001b[0;32m--> 701\u001b[0m data \u001b[38;5;241m=\u001b[39m \u001b[38;5;28;43mself\u001b[39;49m\u001b[38;5;241;43m.\u001b[39;49m\u001b[43m_next_data\u001b[49m\u001b[43m(\u001b[49m\u001b[43m)\u001b[49m\n\u001b[1;32m    702\u001b[0m \u001b[38;5;28mself\u001b[39m\u001b[38;5;241m.\u001b[39m_num_yielded \u001b[38;5;241m+\u001b[39m\u001b[38;5;241m=\u001b[39m \u001b[38;5;241m1\u001b[39m\n\u001b[1;32m    703\u001b[0m \u001b[38;5;28;01mif\u001b[39;00m (\n\u001b[1;32m    704\u001b[0m     \u001b[38;5;28mself\u001b[39m\u001b[38;5;241m.\u001b[39m_dataset_kind \u001b[38;5;241m==\u001b[39m _DatasetKind\u001b[38;5;241m.\u001b[39mIterable\n\u001b[1;32m    705\u001b[0m     \u001b[38;5;129;01mand\u001b[39;00m \u001b[38;5;28mself\u001b[39m\u001b[38;5;241m.\u001b[39m_IterableDataset_len_called \u001b[38;5;129;01mis\u001b[39;00m \u001b[38;5;129;01mnot\u001b[39;00m \u001b[38;5;28;01mNone\u001b[39;00m\n\u001b[1;32m    706\u001b[0m     \u001b[38;5;129;01mand\u001b[39;00m \u001b[38;5;28mself\u001b[39m\u001b[38;5;241m.\u001b[39m_num_yielded \u001b[38;5;241m>\u001b[39m \u001b[38;5;28mself\u001b[39m\u001b[38;5;241m.\u001b[39m_IterableDataset_len_called\n\u001b[1;32m    707\u001b[0m ):\n",
      "File \u001b[0;32m~/miniconda3/envs/mace_0.3.8/lib/python3.10/site-packages/torch/utils/data/dataloader.py:757\u001b[0m, in \u001b[0;36m_SingleProcessDataLoaderIter._next_data\u001b[0;34m(self)\u001b[0m\n\u001b[1;32m    755\u001b[0m \u001b[38;5;28;01mdef\u001b[39;00m \u001b[38;5;21m_next_data\u001b[39m(\u001b[38;5;28mself\u001b[39m):\n\u001b[1;32m    756\u001b[0m     index \u001b[38;5;241m=\u001b[39m \u001b[38;5;28mself\u001b[39m\u001b[38;5;241m.\u001b[39m_next_index()  \u001b[38;5;66;03m# may raise StopIteration\u001b[39;00m\n\u001b[0;32m--> 757\u001b[0m     data \u001b[38;5;241m=\u001b[39m \u001b[38;5;28;43mself\u001b[39;49m\u001b[38;5;241;43m.\u001b[39;49m\u001b[43m_dataset_fetcher\u001b[49m\u001b[38;5;241;43m.\u001b[39;49m\u001b[43mfetch\u001b[49m\u001b[43m(\u001b[49m\u001b[43mindex\u001b[49m\u001b[43m)\u001b[49m  \u001b[38;5;66;03m# may raise StopIteration\u001b[39;00m\n\u001b[1;32m    758\u001b[0m     \u001b[38;5;28;01mif\u001b[39;00m \u001b[38;5;28mself\u001b[39m\u001b[38;5;241m.\u001b[39m_pin_memory:\n\u001b[1;32m    759\u001b[0m         data \u001b[38;5;241m=\u001b[39m _utils\u001b[38;5;241m.\u001b[39mpin_memory\u001b[38;5;241m.\u001b[39mpin_memory(data, \u001b[38;5;28mself\u001b[39m\u001b[38;5;241m.\u001b[39m_pin_memory_device)\n",
      "File \u001b[0;32m~/miniconda3/envs/mace_0.3.8/lib/python3.10/site-packages/torch/utils/data/_utils/fetch.py:55\u001b[0m, in \u001b[0;36m_MapDatasetFetcher.fetch\u001b[0;34m(self, possibly_batched_index)\u001b[0m\n\u001b[1;32m     53\u001b[0m \u001b[38;5;28;01melse\u001b[39;00m:\n\u001b[1;32m     54\u001b[0m     data \u001b[38;5;241m=\u001b[39m \u001b[38;5;28mself\u001b[39m\u001b[38;5;241m.\u001b[39mdataset[possibly_batched_index]\n\u001b[0;32m---> 55\u001b[0m \u001b[38;5;28;01mreturn\u001b[39;00m \u001b[38;5;28;43mself\u001b[39;49m\u001b[38;5;241;43m.\u001b[39;49m\u001b[43mcollate_fn\u001b[49m\u001b[43m(\u001b[49m\u001b[43mdata\u001b[49m\u001b[43m)\u001b[49m\n",
      "File \u001b[0;32m~/miniconda3/envs/mace_0.3.8/lib/python3.10/site-packages/torch/utils/data/_utils/collate.py:398\u001b[0m, in \u001b[0;36mdefault_collate\u001b[0;34m(batch)\u001b[0m\n\u001b[1;32m    337\u001b[0m \u001b[38;5;28;01mdef\u001b[39;00m \u001b[38;5;21mdefault_collate\u001b[39m(batch):\n\u001b[1;32m    338\u001b[0m \u001b[38;5;250m    \u001b[39m\u001b[38;5;124mr\u001b[39m\u001b[38;5;124;03m\"\"\"\u001b[39;00m\n\u001b[1;32m    339\u001b[0m \u001b[38;5;124;03m    Take in a batch of data and put the elements within the batch into a tensor with an additional outer dimension - batch size.\u001b[39;00m\n\u001b[1;32m    340\u001b[0m \n\u001b[0;32m   (...)\u001b[0m\n\u001b[1;32m    396\u001b[0m \u001b[38;5;124;03m        >>> default_collate(batch)  # Handle `CustomType` automatically\u001b[39;00m\n\u001b[1;32m    397\u001b[0m \u001b[38;5;124;03m    \"\"\"\u001b[39;00m\n\u001b[0;32m--> 398\u001b[0m     \u001b[38;5;28;01mreturn\u001b[39;00m \u001b[43mcollate\u001b[49m\u001b[43m(\u001b[49m\u001b[43mbatch\u001b[49m\u001b[43m,\u001b[49m\u001b[43m \u001b[49m\u001b[43mcollate_fn_map\u001b[49m\u001b[38;5;241;43m=\u001b[39;49m\u001b[43mdefault_collate_fn_map\u001b[49m\u001b[43m)\u001b[49m\n",
      "File \u001b[0;32m~/miniconda3/envs/mace_0.3.8/lib/python3.10/site-packages/torch/utils/data/_utils/collate.py:240\u001b[0m, in \u001b[0;36mcollate\u001b[0;34m(batch, collate_fn_map)\u001b[0m\n\u001b[1;32m    232\u001b[0m         \u001b[38;5;28;01mexcept\u001b[39;00m \u001b[38;5;167;01mTypeError\u001b[39;00m:\n\u001b[1;32m    233\u001b[0m             \u001b[38;5;66;03m# The sequence type may not support `copy()` / `__setitem__(index, item)`\u001b[39;00m\n\u001b[1;32m    234\u001b[0m             \u001b[38;5;66;03m# or `__init__(iterable)` (e.g., `range`).\u001b[39;00m\n\u001b[1;32m    235\u001b[0m             \u001b[38;5;28;01mreturn\u001b[39;00m [\n\u001b[1;32m    236\u001b[0m                 collate(samples, collate_fn_map\u001b[38;5;241m=\u001b[39mcollate_fn_map)\n\u001b[1;32m    237\u001b[0m                 \u001b[38;5;28;01mfor\u001b[39;00m samples \u001b[38;5;129;01min\u001b[39;00m transposed\n\u001b[1;32m    238\u001b[0m             ]\n\u001b[0;32m--> 240\u001b[0m \u001b[38;5;28;01mraise\u001b[39;00m \u001b[38;5;167;01mTypeError\u001b[39;00m(default_collate_err_msg_format\u001b[38;5;241m.\u001b[39mformat(elem_type))\n",
      "\u001b[0;31mTypeError\u001b[0m: default_collate: batch must contain tensors, numpy arrays, numbers, dicts or lists; found <class 'chgnet.graph.crystalgraph.CrystalGraph'>"
     ]
    }
   ],
   "source": [
    "import os\n",
    "from chgnet.trainer import Trainer\n",
    "os.environ[\"PYTORCH_CUDA_ALLOC_CONF\"] = \"expandable_segments:True\"\n",
    "trainer = Trainer(\n",
    "    model=model,\n",
    "    targets=\"ef\",           # energy + forces\n",
    "    optimizer=\"Adam\",\n",
    "    criterion=\"MSE\",\n",
    "    learning_rate=1e-4,\n",
    "    epochs=10,              # you can reduce to 10 for testing\n",
    "    use_device=device\n",
    ")\n"
   ]
  },
  {
   "cell_type": "code",
   "execution_count": 37,
   "id": "90c596a1-db6b-46f3-ba93-6c4f9a4b9f51",
   "metadata": {},
   "outputs": [
    {
     "name": "stdout",
     "output_type": "stream",
     "text": [
      "<class 'numpy.ndarray'> (900, 3)\n",
      "[[ 0.0230214   0.0311501  -0.34367013]\n",
      " [-0.04187635 -0.10079677 -0.40870938]\n",
      " [ 0.31012675  0.05631611 -0.21161802]\n",
      " [ 0.3888652  -0.5531863  -0.31374961]\n",
      " [ 1.6905961  -0.74202549  0.22162393]]\n"
     ]
    }
   ],
   "source": [
    "print(len(train_data.forces), len(train_data.structures))\n"
   ]
  },
  {
   "cell_type": "code",
   "execution_count": 69,
   "id": "a2e6f253-d8e1-4477-b470-69d2823b532b",
   "metadata": {},
   "outputs": [],
   "source": [
    "import torch\n",
    "torch.cuda.empty_cache()"
   ]
  },
  {
   "cell_type": "code",
   "execution_count": 38,
   "id": "7a8070ee-7825-47f0-832e-57541dc6e569",
   "metadata": {},
   "outputs": [
    {
     "name": "stdout",
     "output_type": "stream",
     "text": [
      "(CrystalGraph(composition='Li840 La36 Zr24 O144', atom_graph_cutoff=6, bond_graph_cutoff=3, n_atoms=1044, atom_graph_len=109644, bond_graph_len=189152), {'e': tensor(-3105.4402), 'f': tensor([[ 0.2227,  0.8111, -0.1087],\n",
      "        [-0.1613, -0.0363,  0.2550],\n",
      "        [-0.1942,  0.1892, -0.2813],\n",
      "        ...,\n",
      "        [ 0.4923,  0.0141, -0.3031],\n",
      "        [-0.6534, -0.2593,  0.5196],\n",
      "        [-0.2980, -0.4079, -0.0297]])})\n"
     ]
    }
   ],
   "source": [
    "print(train_data[0])\n"
   ]
  },
  {
   "cell_type": "code",
   "execution_count": 39,
   "id": "08c6f9b2-1869-45a2-b4e8-f7aa0b2d9a36",
   "metadata": {},
   "outputs": [
    {
     "name": "stdout",
     "output_type": "stream",
     "text": [
      "ef\n"
     ]
    }
   ],
   "source": [
    "print(trainer.targets)  # should be \"ef\"\n"
   ]
  },
  {
   "cell_type": "code",
   "execution_count": null,
   "id": "9283d433-86eb-4b96-9386-b48046e8dc3f",
   "metadata": {},
   "outputs": [],
   "source": [
    "trainer.save_model(\"T1_finetuned_chgnet.pt\")\n"
   ]
  }
 ],
 "metadata": {
  "kernelspec": {
   "display_name": "Python (GPU mace_0.3.8)",
   "language": "python",
   "name": "mace_0.3.8"
  },
  "language_info": {
   "codemirror_mode": {
    "name": "ipython",
    "version": 3
   },
   "file_extension": ".py",
   "mimetype": "text/x-python",
   "name": "python",
   "nbconvert_exporter": "python",
   "pygments_lexer": "ipython3",
   "version": "3.10.14"
  }
 },
 "nbformat": 4,
 "nbformat_minor": 5
}
