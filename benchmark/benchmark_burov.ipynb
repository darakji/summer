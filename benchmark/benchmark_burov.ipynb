{
 "cells": [
  {
   "cell_type": "code",
   "execution_count": 1,
   "id": "e5ee686c-c021-4dd5-9ced-440c250dd68d",
   "metadata": {},
   "outputs": [],
   "source": [
    "from ase.build import surface, bulk, add_vacuum\n",
    "from ase.io import read, write\n",
    "from ase.visualize import view\n",
    "from ase.build import make_supercell, stack\n",
    "import numpy as np\n"
   ]
  },
  {
   "cell_type": "code",
   "execution_count": null,
   "id": "5e5fc2c1-bd27-4106-93b5-d4414e71eab7",
   "metadata": {},
   "outputs": [],
   "source": []
  }
 ],
 "metadata": {
  "kernelspec": {
   "display_name": "mace_0.3.8",
   "language": "python",
   "name": "python3"
  },
  "language_info": {
   "codemirror_mode": {
    "name": "ipython",
    "version": 3
   },
   "file_extension": ".py",
   "mimetype": "text/x-python",
   "name": "python",
   "nbconvert_exporter": "python",
   "pygments_lexer": "ipython3",
   "version": "3.10.14"
  }
 },
 "nbformat": 4,
 "nbformat_minor": 5
}
