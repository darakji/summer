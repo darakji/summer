{
 "cells": [
  {
   "cell_type": "code",
   "execution_count": 1,
   "id": "5687ba38-8657-4126-9697-4ee9a0fe77f7",
   "metadata": {},
   "outputs": [
    {
     "ename": "NameError",
     "evalue": "name 'home' is not defined",
     "output_type": "error",
     "traceback": [
      "\u001b[0;31m---------------------------------------------------------------------------\u001b[0m",
      "\u001b[0;31mNameError\u001b[0m                                 Traceback (most recent call last)",
      "Cell \u001b[0;32mIn[1], line 1\u001b[0m\n\u001b[0;32m----> 1\u001b[0m \u001b[43mhome\u001b[49m\u001b[38;5;241m/\u001b[39mphanim\u001b[38;5;241m/\u001b[39mharshitrawat\u001b[38;5;241m/\u001b[39msummer\u001b[38;5;241m/\u001b[39mT1_T2_T3_data\u001b[38;5;241m/\u001b[39mmp_traj_combinedxyz()\n",
      "\u001b[0;31mNameError\u001b[0m: name 'home' is not defined"
     ]
    }
   ],
   "source": [
    "/home/phanim/harshitrawat/summer/T1_T2_T3_data/mp_traj_combinedxyz"
   ]
  },
  {
   "cell_type": "code",
   "execution_count": 9,
   "id": "d419afb9-6556-4716-8bc1-0a3da79cea01",
   "metadata": {
    "scrolled": true
   },
   "outputs": [
    {
     "name": "stderr",
     "output_type": "stream",
     "text": [
      "Running: torchrun \\\n",
      "    --standalone \\\n",
      "    --nnodes=1 \\\n",
      "    --nproc_per_node=1 \\\n",
      "    /home/phanim/harshitrawat/mace/mace/cli/run_train.py \\\n",
      "    --name \\\n",
      "    mace_T2_mp_replay_avg \\\n",
      "    --model \\\n",
      "    MACE \\\n",
      "    --num_interactions \\\n",
      "    2 \\\n",
      "    --foundation_model \\\n",
      "    /home/phanim/harshitrawat/summer/mace_models/universal/2024-01-07-mace-128-L2_epoch-199.model \\\n",
      "    --foundation_model_readout \\\n",
      "    --pt_train_file \\\n",
      "    /home/phanim/harshitrawat/summer/T1_T2_T3_data/mp_traj_LiOZrLa_10k.extxyz \\\n",
      "    --atomic_numbers \\\n",
      "    [3,8,40,57] \\\n",
      "    --multiheads_finetuning \\\n",
      "    True \\\n",
      "    --train_file \\\n",
      "    /home/phanim/harshitrawat/summer/T1_T2_T3_data/T2_it_2.extxyz \\\n",
      "    --valid_file \\\n",
      "    /home/phanim/harshitrawat/summer/T1_T2_T3_data/val_it2.extxyz \\\n",
      "    --batch_size \\\n",
      "    2 \\\n",
      "    --valid_batch_size \\\n",
      "    1 \\\n",
      "    --device \\\n",
      "    cuda \\\n",
      "    --forces_weight \\\n",
      "    40 \\\n",
      "    --energy_weight \\\n",
      "    10 \\\n",
      "    --lr \\\n",
      "    0.001 \\\n",
      "    --scheduler_patience \\\n",
      "    4 \\\n",
      "    --clip_grad \\\n",
      "    2 \\\n",
      "    --weight_decay \\\n",
      "    1e-8 \\\n",
      "    --ema_decay \\\n",
      "    0.999 \\\n",
      "    --r_max \\\n",
      "    5.0 \\\n",
      "    --max_num_epochs \\\n",
      "    130 \\\n",
      "    --E0s \\\n",
      "    average \\\n",
      "    --seed \\\n",
      "    42 \\\n",
      "    --patience \\\n",
      "    8 \\\n",
      "    --restart_latest\n",
      "/home/phanim/harshitrawat/miniconda3/lib/python3.13/site-packages/e3nn/o3/_wigner.py:10: UserWarning: Environment variable TORCH_FORCE_NO_WEIGHTS_ONLY_LOAD detected, since the`weights_only` argument was not explicitly passed to `torch.load`, forcing weights_only=False.\n",
      "  _Jd, _W3j_flat, _W3j_indices = torch.load(os.path.join(os.path.dirname(__file__), 'constants.pt'))\n"
     ]
    },
    {
     "name": "stdout",
     "output_type": "stream",
     "text": [
      "2025-08-18 10:07:07.114 INFO: ===========VERIFYING SETTINGS===========\n",
      "2025-08-18 10:07:07.115 INFO: MACE version: 0.3.14\n",
      "2025-08-18 10:07:07.704 INFO: CUDA version: 12.6, CUDA device: 0\n"
     ]
    },
    {
     "name": "stderr",
     "output_type": "stream",
     "text": [
      "/home/phanim/harshitrawat/mace/mace/cli/run_train.py:146: UserWarning: Environment variable TORCH_FORCE_NO_WEIGHTS_ONLY_LOAD detected, since the`weights_only` argument was not explicitly passed to `torch.load`, forcing weights_only=False.\n",
      "  model_foundation = torch.load(\n"
     ]
    },
    {
     "name": "stdout",
     "output_type": "stream",
     "text": [
      "2025-08-18 10:07:08.189 INFO: Using foundation model /home/phanim/harshitrawat/summer/mace_models/universal/2024-01-07-mace-128-L2_epoch-199.model as initial checkpoint.\n"
     ]
    },
    {
     "name": "stderr",
     "output_type": "stream",
     "text": [
      "Traceback (most recent call last):\n",
      "  File \u001b[35m\"/home/phanim/harshitrawat/mace/mace/cli/run_train.py\"\u001b[0m, line \u001b[35m996\u001b[0m, in \u001b[35m<module>\u001b[0m\n",
      "    \u001b[31mmain\u001b[0m\u001b[1;31m()\u001b[0m\n",
      "    \u001b[31m~~~~\u001b[0m\u001b[1;31m^^\u001b[0m\n",
      "  File \u001b[35m\"/home/phanim/harshitrawat/mace/mace/cli/run_train.py\"\u001b[0m, line \u001b[35m77\u001b[0m, in \u001b[35mmain\u001b[0m\n",
      "    \u001b[31mrun\u001b[0m\u001b[1;31m(args)\u001b[0m\n",
      "    \u001b[31m~~~\u001b[0m\u001b[1;31m^^^^^^\u001b[0m\n",
      "  File \u001b[35m\"/home/phanim/harshitrawat/mace/mace/cli/run_train.py\"\u001b[0m, line \u001b[35m166\u001b[0m, in \u001b[35mrun\u001b[0m\n",
      "    args.E0s != \"average\"\n",
      "\u001b[1;35mAssertionError\u001b[0m: \u001b[35maverage atomic energies cannot be used for multiheads finetuning\u001b[0m\n",
      "E0818 10:07:09.017000 1098002 site-packages/torch/distributed/elastic/multiprocessing/api.py:874] failed (exitcode: 1) local_rank: 0 (pid: 1098035) of binary: /home/phanim/harshitrawat/miniconda3/bin/python\n",
      "Traceback (most recent call last):\n",
      "  File \u001b[35m\"/home/phanim/harshitrawat/miniconda3/bin/torchrun\"\u001b[0m, line \u001b[35m8\u001b[0m, in \u001b[35m<module>\u001b[0m\n",
      "    sys.exit(\u001b[31mmain\u001b[0m\u001b[1;31m()\u001b[0m)\n",
      "             \u001b[31m~~~~\u001b[0m\u001b[1;31m^^\u001b[0m\n",
      "  File \u001b[35m\"/home/phanim/harshitrawat/miniconda3/lib/python3.13/site-packages/torch/distributed/elastic/multiprocessing/errors/__init__.py\"\u001b[0m, line \u001b[35m355\u001b[0m, in \u001b[35mwrapper\u001b[0m\n",
      "    return f(*args, **kwargs)\n",
      "  File \u001b[35m\"/home/phanim/harshitrawat/miniconda3/lib/python3.13/site-packages/torch/distributed/run.py\"\u001b[0m, line \u001b[35m892\u001b[0m, in \u001b[35mmain\u001b[0m\n",
      "    \u001b[31mrun\u001b[0m\u001b[1;31m(args)\u001b[0m\n",
      "    \u001b[31m~~~\u001b[0m\u001b[1;31m^^^^^^\u001b[0m\n",
      "  File \u001b[35m\"/home/phanim/harshitrawat/miniconda3/lib/python3.13/site-packages/torch/distributed/run.py\"\u001b[0m, line \u001b[35m883\u001b[0m, in \u001b[35mrun\u001b[0m\n",
      "    \u001b[31melastic_launch(\u001b[0m\n",
      "    \u001b[31m~~~~~~~~~~~~~~~\u001b[0m\n",
      "        \u001b[31mconfig=config,\u001b[0m\n",
      "        \u001b[31m~~~~~~~~~~~~~~\u001b[0m\n",
      "        \u001b[31mentrypoint=cmd,\u001b[0m\n",
      "        \u001b[31m~~~~~~~~~~~~~~~\u001b[0m\n",
      "    \u001b[31m)\u001b[0m\u001b[1;31m(*cmd_args)\u001b[0m\n",
      "    \u001b[31m~\u001b[0m\u001b[1;31m^^^^^^^^^^^\u001b[0m\n",
      "  File \u001b[35m\"/home/phanim/harshitrawat/miniconda3/lib/python3.13/site-packages/torch/distributed/launcher/api.py\"\u001b[0m, line \u001b[35m139\u001b[0m, in \u001b[35m__call__\u001b[0m\n",
      "    return launch_agent(self._config, self._entrypoint, list(args))\n",
      "  File \u001b[35m\"/home/phanim/harshitrawat/miniconda3/lib/python3.13/site-packages/torch/distributed/launcher/api.py\"\u001b[0m, line \u001b[35m270\u001b[0m, in \u001b[35mlaunch_agent\u001b[0m\n",
      "    raise ChildFailedError(\n",
      "    ...<2 lines>...\n",
      "    )\n",
      "\u001b[1;35mtorch.distributed.elastic.multiprocessing.errors.ChildFailedError\u001b[0m: \u001b[35m\n",
      "============================================================\n",
      "/home/phanim/harshitrawat/mace/mace/cli/run_train.py FAILED\n",
      "------------------------------------------------------------\n",
      "Failures:\n",
      "  <NO_OTHER_FAILURES>\n",
      "------------------------------------------------------------\n",
      "Root Cause (first observed failure):\n",
      "[0]:\n",
      "  time      : 2025-08-18_10:07:09\n",
      "  host      : cn10.cds.iisc.in\n",
      "  rank      : 0 (local_rank: 0)\n",
      "  exitcode  : 1 (pid: 1098035)\n",
      "  error_file: <N/A>\n",
      "  traceback : To enable traceback see: https://pytorch.org/docs/stable/elastic/errors.html\n",
      "============================================================\u001b[0m\n"
     ]
    },
    {
     "ename": "CalledProcessError",
     "evalue": "Command '['torchrun', '--standalone', '--nnodes=1', '--nproc_per_node=1', '/home/phanim/harshitrawat/mace/mace/cli/run_train.py', '--name', 'mace_T2_mp_replay_avg', '--model', 'MACE', '--num_interactions', '2', '--foundation_model', '/home/phanim/harshitrawat/summer/mace_models/universal/2024-01-07-mace-128-L2_epoch-199.model', '--foundation_model_readout', '--pt_train_file', '/home/phanim/harshitrawat/summer/T1_T2_T3_data/mp_traj_LiOZrLa_10k.extxyz', '--atomic_numbers', '[3,8,40,57]', '--multiheads_finetuning', 'True', '--train_file', '/home/phanim/harshitrawat/summer/T1_T2_T3_data/T2_it_2.extxyz', '--valid_file', '/home/phanim/harshitrawat/summer/T1_T2_T3_data/val_it2.extxyz', '--batch_size', '2', '--valid_batch_size', '1', '--device', 'cuda', '--forces_weight', '40', '--energy_weight', '10', '--lr', '0.001', '--scheduler_patience', '4', '--clip_grad', '2', '--weight_decay', '1e-8', '--ema_decay', '0.999', '--r_max', '5.0', '--max_num_epochs', '130', '--E0s', 'average', '--seed', '42', '--patience', '8', '--restart_latest']' returned non-zero exit status 1.",
     "output_type": "error",
     "traceback": [
      "\u001b[0;31m---------------------------------------------------------------------------\u001b[0m",
      "\u001b[0;31mCalledProcessError\u001b[0m                        Traceback (most recent call last)",
      "Cell \u001b[0;32mIn[9], line 63\u001b[0m\n\u001b[1;32m     60\u001b[0m     subprocess\u001b[38;5;241m.\u001b[39mrun(cmd, check\u001b[38;5;241m=\u001b[39m\u001b[38;5;28;01mTrue\u001b[39;00m)\n\u001b[1;32m     62\u001b[0m \u001b[38;5;28;01mif\u001b[39;00m \u001b[38;5;18m__name__\u001b[39m \u001b[38;5;241m==\u001b[39m \u001b[38;5;124m\"\u001b[39m\u001b[38;5;124m__main__\u001b[39m\u001b[38;5;124m\"\u001b[39m:\n\u001b[0;32m---> 63\u001b[0m     \u001b[43mmain\u001b[49m\u001b[43m(\u001b[49m\u001b[43m)\u001b[49m\n",
      "Cell \u001b[0;32mIn[9], line 60\u001b[0m, in \u001b[0;36mmain\u001b[0;34m()\u001b[0m\n\u001b[1;32m     12\u001b[0m cmd \u001b[38;5;241m=\u001b[39m [\n\u001b[1;32m     13\u001b[0m     \u001b[38;5;124m\"\u001b[39m\u001b[38;5;124mtorchrun\u001b[39m\u001b[38;5;124m\"\u001b[39m,\n\u001b[1;32m     14\u001b[0m     \u001b[38;5;124m\"\u001b[39m\u001b[38;5;124m--standalone\u001b[39m\u001b[38;5;124m\"\u001b[39m, \n\u001b[0;32m   (...)\u001b[0m\n\u001b[1;32m     56\u001b[0m     \u001b[38;5;124m\"\u001b[39m\u001b[38;5;124m--restart_latest\u001b[39m\u001b[38;5;124m\"\u001b[39m,                   \u001b[38;5;66;03m# Resumes from checkpoint if available\u001b[39;00m\n\u001b[1;32m     57\u001b[0m ]\n\u001b[1;32m     59\u001b[0m \u001b[38;5;28mprint\u001b[39m(\u001b[38;5;124m\"\u001b[39m\u001b[38;5;124mRunning:\u001b[39m\u001b[38;5;124m\"\u001b[39m, \u001b[38;5;124m\"\u001b[39m\u001b[38;5;124m \u001b[39m\u001b[38;5;130;01m\\\\\u001b[39;00m\u001b[38;5;130;01m\\n\u001b[39;00m\u001b[38;5;124m    \u001b[39m\u001b[38;5;124m\"\u001b[39m\u001b[38;5;241m.\u001b[39mjoin(cmd), file\u001b[38;5;241m=\u001b[39msys\u001b[38;5;241m.\u001b[39mstderr)\n\u001b[0;32m---> 60\u001b[0m \u001b[43msubprocess\u001b[49m\u001b[38;5;241;43m.\u001b[39;49m\u001b[43mrun\u001b[49m\u001b[43m(\u001b[49m\u001b[43mcmd\u001b[49m\u001b[43m,\u001b[49m\u001b[43m \u001b[49m\u001b[43mcheck\u001b[49m\u001b[38;5;241;43m=\u001b[39;49m\u001b[38;5;28;43;01mTrue\u001b[39;49;00m\u001b[43m)\u001b[49m\n",
      "File \u001b[0;32m~/miniconda3/envs/mace_0.3.8/lib/python3.10/subprocess.py:526\u001b[0m, in \u001b[0;36mrun\u001b[0;34m(input, capture_output, timeout, check, *popenargs, **kwargs)\u001b[0m\n\u001b[1;32m    524\u001b[0m     retcode \u001b[38;5;241m=\u001b[39m process\u001b[38;5;241m.\u001b[39mpoll()\n\u001b[1;32m    525\u001b[0m     \u001b[38;5;28;01mif\u001b[39;00m check \u001b[38;5;129;01mand\u001b[39;00m retcode:\n\u001b[0;32m--> 526\u001b[0m         \u001b[38;5;28;01mraise\u001b[39;00m CalledProcessError(retcode, process\u001b[38;5;241m.\u001b[39margs,\n\u001b[1;32m    527\u001b[0m                                  output\u001b[38;5;241m=\u001b[39mstdout, stderr\u001b[38;5;241m=\u001b[39mstderr)\n\u001b[1;32m    528\u001b[0m \u001b[38;5;28;01mreturn\u001b[39;00m CompletedProcess(process\u001b[38;5;241m.\u001b[39margs, retcode, stdout, stderr)\n",
      "\u001b[0;31mCalledProcessError\u001b[0m: Command '['torchrun', '--standalone', '--nnodes=1', '--nproc_per_node=1', '/home/phanim/harshitrawat/mace/mace/cli/run_train.py', '--name', 'mace_T2_mp_replay_avg', '--model', 'MACE', '--num_interactions', '2', '--foundation_model', '/home/phanim/harshitrawat/summer/mace_models/universal/2024-01-07-mace-128-L2_epoch-199.model', '--foundation_model_readout', '--pt_train_file', '/home/phanim/harshitrawat/summer/T1_T2_T3_data/mp_traj_LiOZrLa_10k.extxyz', '--atomic_numbers', '[3,8,40,57]', '--multiheads_finetuning', 'True', '--train_file', '/home/phanim/harshitrawat/summer/T1_T2_T3_data/T2_it_2.extxyz', '--valid_file', '/home/phanim/harshitrawat/summer/T1_T2_T3_data/val_it2.extxyz', '--batch_size', '2', '--valid_batch_size', '1', '--device', 'cuda', '--forces_weight', '40', '--energy_weight', '10', '--lr', '0.001', '--scheduler_patience', '4', '--clip_grad', '2', '--weight_decay', '1e-8', '--ema_decay', '0.999', '--r_max', '5.0', '--max_num_epochs', '130', '--E0s', 'average', '--seed', '42', '--patience', '8', '--restart_latest']' returned non-zero exit status 1."
     ]
    }
   ],
   "source": [
    "# Now universal MACE finetuning on T2\n",
    "#!/usr/bin/env python3\n",
    "import os\n",
    "import subprocess\n",
    "import sys\n",
    "\n",
    "def main():\n",
    "    # ——— Environment setup ———\n",
    "    os.environ[\"PYTORCH_CUDA_ALLOC_CONF\"] = \"expandable_segments:True\"\n",
    "    os.environ[\"PYTHONPATH\"] = \"/home/phanim/harshitrawat/mace/mace\"\n",
    "\n",
    "    cmd = [\n",
    "        \"torchrun\",\n",
    "        \"--standalone\", \n",
    "        \"--nnodes=1\", \n",
    "        \"--nproc_per_node=1\", \n",
    "        \"/home/phanim/harshitrawat/mace/mace/cli/run_train.py\",\n",
    "        \"--name\",              \"mace_T2_mp_replay_avg\",\n",
    "        \"--model\",             \"MACE\",\n",
    "        \"--num_interactions\",  \"2\",\n",
    "        \"--foundation_model\",  \"/home/phanim/harshitrawat/summer/mace_models/universal/2024-01-07-mace-128-L2_epoch-199.model\",\n",
    "        \"--foundation_model_readout\",\n",
    "        \"--pt_train_file\",\"/home/phanim/harshitrawat/summer/T1_T2_T3_data/mp_traj_LiOZrLa_10k.extxyz\",              # <- MP replay shortcut\n",
    "        \"--atomic_numbers\",\"[3,8,40,57]\",    # Li, O, Zr, La\n",
    "        \"--multiheads_finetuning\",\"True\",\n",
    "\n",
    "        \"--train_file\",\"/home/phanim/harshitrawat/summer/T1_T2_T3_data/T2_it_2.extxyz\",\n",
    "        \"--valid_file\",\"/home/phanim/harshitrawat/summer/T1_T2_T3_data/val_it2.extxyz\",\n",
    "\n",
    "\n",
    "        \"--batch_size\",        \"2\",\n",
    "        \"--valid_batch_size\",  \"1\",\n",
    "\n",
    "        \"--device\",            \"cuda\",\n",
    "\n",
    "        # === Loss function weights ===\n",
    "        \"--forces_weight\",     \"40\",         # Increased force weight to balance energy better\n",
    "        \"--energy_weight\",     \"10\",         # Reduced from 100 → avoid dominance + stabilize energy RMSE\n",
    "\n",
    "        # === Learning setup ===\n",
    "        \"--lr\",                \"0.001\",      # Explicit learning rate (0.0001 is too low → stagnation)\n",
    "        \"--scheduler_patience\",\"4\",          # Reduce LR if val loss doesn’t improve in 3 epochs\n",
    "        \"--clip_grad\",         \"2\",        # Avoid exploding gradients — essential when energy_weight is high\n",
    "        \"--weight_decay\",      \"1e-8\",       # Mild regularization to prevent overfitting\n",
    "\n",
    "        # === EMA helps smooth loss curve ===\n",
    "        \"--ema_decay\",         \"0.999\",     # Smooths validation loss and helps final convergence\n",
    "\n",
    "        # === Domain + training settings ===\n",
    "        \"--r_max\",             \"5.0\",\n",
    "        \"--max_num_epochs\",    \"130\",\n",
    "        \"--E0s\",               \"average\",    # Still allowed — could optionally be replaced by manual E0s\n",
    "        \"--seed\",              \"42\",\n",
    "        \"--patience\",     \"8\",\n",
    "\n",
    "        \"--restart_latest\",                   # Resumes from checkpoint if available\n",
    "    ]\n",
    "\n",
    "    print(\"Running:\", \" \\\\\\n    \".join(cmd), file=sys.stderr)\n",
    "    subprocess.run(cmd, check=True)\n",
    "\n",
    "if __name__ == \"__main__\":\n",
    "    main()\n"
   ]
  },
  {
   "cell_type": "code",
   "execution_count": 6,
   "id": "9405993e-53c3-4bda-a217-439c35133fa2",
   "metadata": {},
   "outputs": [
    {
     "name": "stdout",
     "output_type": "stream",
     "text": [
      "scanned=145923, kept_allowed=142, written=142 -> /home/phanim/harshitrawat/summer/T1_T2_T3_data/mp_traj_LiOZrLa_10k.extxyz\n"
     ]
    }
   ],
   "source": [
    "from ase.io import iread, write\n",
    "import random\n",
    "\n",
    "# Input / Output\n",
    "in_path  = \"/home/phanim/harshitrawat/summer/T1_T2_T3_data/mp_traj_combinedxyz\"\n",
    "out_path = \"/home/phanim/harshitrawat/summer/T1_T2_T3_data/mp_traj_LiOZrLa_10k.extxyz\"\n",
    "\n",
    "ALLOWED = {3, 8, 40, 57}  # Li, O, Zr, La\n",
    "K = 10000                 # target subsample size\n",
    "\n",
    "reservoir = []\n",
    "kept = 0\n",
    "i = -1\n",
    "\n",
    "# Reservoir sampling over stream\n",
    "for i, at in enumerate(iread(in_path, \":\")):\n",
    "    zs = {a.number for a in at}\n",
    "    if not zs.issubset(ALLOWED):\n",
    "        continue\n",
    "    kept += 1\n",
    "    if len(reservoir) < K:\n",
    "        reservoir.append(at)\n",
    "    else:\n",
    "        j = random.randint(0, kept - 1)\n",
    "        if j < K:\n",
    "            reservoir[j] = at\n",
    "\n",
    "print(f\"scanned={i+1}, kept_allowed={kept}, written={len(reservoir)} -> {out_path}\")\n",
    "write(out_path, reservoir)\n"
   ]
  },
  {
   "cell_type": "code",
   "execution_count": 5,
   "id": "dbcc7bd6-7678-4a9f-bf0c-fb9c4af8daee",
   "metadata": {},
   "outputs": [
    {
     "name": "stdout",
     "output_type": "stream",
     "text": [
      "File: /home/phanim/harshitrawat/summer/T1_T2_T3_data/mp_traj_combinedxyz\n",
      "Frames: 145923\n",
      "Unique Z: [1, 2, 3, 4, 5, 6, 7, 8, 9, 10, 11, 12, 13, 14, 15, 16, 17, 18, 19, 20, 21, 22, 23, 24, 25, 26, 27, 28, 29, 30, 31, 32, 33, 34, 35, 36, 37, 38, 39, 40, 41, 42, 43, 44, 45, 46, 47, 48, 49, 50, 51, 52, 53, 54, 55, 56, 57, 58, 59, 60, 61, 62, 63, 64, 65, 66, 67, 68, 69, 70, 71, 72, 73, 74, 75, 76, 77, 78, 79, 80, 81, 82, 83, 89, 90, 91, 92, 93, 94]\n",
      "Counts per Z: {83: 23906, 74: 18002, 8: 1520796, 20: 36708, 78: 9371, 7: 110283, 3: 127038, 12: 108165, 31: 26490, 73: 12543, 27: 50278, 16: 127700, 11: 48631, 14: 76839, 5: 59881, 25: 61445, 9: 156375, 38: 31429, 24: 27749, 68: 9326, 30: 31255, 19: 37916, 62: 11413, 15: 112799, 58: 12640, 1: 225974, 29: 38990, 52: 27776, 79: 8836, 34: 58621, 17: 67895, 48: 14870, 39: 16657, 66: 9056, 47: 16178, 65: 9224, 57: 23620, 67: 8927, 41: 20056, 56: 35329, 55: 16296, 32: 30773, 71: 6263, 75: 6755, 51: 26709, 35: 28462, 76: 4547, 63: 7071, 40: 15436, 61: 1162, 44: 9275, 82: 14116, 6: 90465, 22: 31813, 13: 51790, 26: 68381, 53: 29135, 72: 8691, 50: 26144, 70: 8538, 23: 43406, 37: 19848, 21: 9167, 80: 10788, 81: 10622, 69: 6780, 42: 26803, 33: 22047, 28: 42065, 4: 7096, 49: 16453, 90: 3377, 45: 10890, 77: 7694, 54: 932, 94: 1489, 93: 1168, 46: 12139, 60: 13420, 59: 12020, 43: 1762, 92: 9152, 64: 5782, 91: 481, 89: 660, 36: 78, 18: 3, 10: 1, 2: 29}\n"
     ]
    }
   ],
   "source": [
    "from ase.io import iread\n",
    "from collections import Counter\n",
    "\n",
    "def list_unique_elements(path: str):\n",
    "    Zcnt = Counter()\n",
    "    frames = 0\n",
    "    for at in iread(path, \":\"):\n",
    "        Zcnt.update(a.number for a in at)\n",
    "        frames += 1\n",
    "    print(\"File:\", path)\n",
    "    print(\"Frames:\", frames)\n",
    "    print(\"Unique Z:\", sorted(Zcnt))\n",
    "    print(\"Counts per Z:\", dict(Zcnt))\n",
    "\n",
    "# Example: scan the replay file before filtering\n",
    "list_unique_elements(REPLAY_IN)\n"
   ]
  },
  {
   "cell_type": "code",
   "execution_count": null,
   "id": "bf0dd94a-abf0-4a4d-9048-c3e96d03dc74",
   "metadata": {},
   "outputs": [],
   "source": []
  }
 ],
 "metadata": {
  "kernelspec": {
   "display_name": "Python (GPU mace_0.3.8)",
   "language": "python",
   "name": "mace_0.3.8"
  },
  "language_info": {
   "codemirror_mode": {
    "name": "ipython",
    "version": 3
   },
   "file_extension": ".py",
   "mimetype": "text/x-python",
   "name": "python",
   "nbconvert_exporter": "python",
   "pygments_lexer": "ipython3",
   "version": "3.10.14"
  }
 },
 "nbformat": 4,
 "nbformat_minor": 5
}
