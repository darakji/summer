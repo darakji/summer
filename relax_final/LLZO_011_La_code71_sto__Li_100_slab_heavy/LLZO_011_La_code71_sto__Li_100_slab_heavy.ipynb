{
 "cells": [
  {
   "cell_type": "markdown",
   "id": "d7833af9",
   "metadata": {},
   "source": [
    "This notebook follows from the tutorials of CHGNet to relax LLZO-Li slabs that have been made in `llzo_li_balanced_sliced` directory."
   ]
  },
  {
   "cell_type": "markdown",
   "id": "3d234e1d",
   "metadata": {},
   "source": [
    "\n",
    "LLZO‖Li Interface Relaxation Notebook\n",
    "========================================\n",
    "\n",
    "Each notebook handles only one structure.\n",
    "1. Purpose: (This keeps updating)\n",
    "- Relax a single LLZO‖Li (in this notebook LLZO_001_Zr_code93_sto__Li_110_slab_heavy) heterostructure using CHGNet\n",
    "- Perform multi-stage optimization (in this notebook, CG → FIRE)\n",
    "- Freeze bulk-like regions (15 Å at both ends)\n",
    "- after all this, Relax lattice vectors to relieve interface strain\n",
    "\n",
    "2. This notebook handles:\n",
    "- Structure: LLZO_110_Li_order17_off__Li_100_slab_heavy\n",
    "- Initial lattice height: 86.02 Å\n",
    "- Number of atoms: 738\n",
    "\n",
    "3. Method:\n",
    "- CHGNet (v0.4.0) + ASE interface\n",
    "- Stage 1: SciPyFminCG (no cell relaxation) → fmax target ~0.15 eV/Å\n",
    "- Stage 2: FIRE (with optional cell relaxation) → fmax target ~0.05 eV/Å\n",
    "- FrechetCellFilter used for combined force + stress minimization\n",
    "\n",
    "4. Constraints:\n",
    "- LLZO base: frozen bottom 14.25 Å\n",
    "- Li top: frozen top 14.25 Å\n",
    "- Only interfacial region relaxed\n",
    "- Cell relaxation via `relax_cell=True` and `relax_cell_atoms=\"unconstrained\"`\n",
    "\n",
    "5. Outputs: (This will be decided later)\n",
    "- relaxed_[structure_name].cif\n",
    "- relaxed_[structure_name].traj\n",
    "- (Optional) relaxation_log.pkl with energies, forces\n",
    "\n",
    "6. Visual checks:\n",
    "- Compare pre- and post-relaxation structures\n",
    "- Ensure no Li diffusion into LLZO (via z-analysis)\n",
    "- Confirm convergence (fmax < 0.05 eV/Å)\n",
    "\n",
    "Author: Mehul Darak\n",
    "\n",
    "Date: 15-07-2025\n"
   ]
  },
  {
   "cell_type": "code",
   "execution_count": null,
   "id": "b5ba0a1b",
   "metadata": {},
   "outputs": [],
   "source": [
    "structure_name = \"LLZO_011_La_code71_sto__Li_100_slab_heavy\""
   ]
  },
  {
   "cell_type": "code",
   "execution_count": null,
   "id": "955e570d",
   "metadata": {},
   "outputs": [
    {
     "name": "stdout",
     "output_type": "stream",
     "text": [
      "- Structure: LLZO_110_Li_order17_off__Li_100_slab_heavy\n",
      "- Initial lattice height: 86.02 Å\n",
      "- Number of atoms: 738\n"
     ]
    },
    {
     "name": "stderr",
     "output_type": "stream",
     "text": [
      "/home/mehuldarak/anaconda3/envs/mace/lib/python3.13/site-packages/pymatgen/io/cif.py:1290: UserWarning: Issues encountered while parsing CIF: 1 fractional coordinates rounded to ideal values to avoid issues with finite precision.\n",
      "  warnings.warn(\"Issues encountered while parsing CIF: \" + \"\\n\".join(self.warnings))\n"
     ]
    }
   ],
   "source": [
    "from pymatgen.core import Structure\n",
    "import os\n",
    "\n",
    "# Load structure\n",
    "structure_path = (f\"/home/mehuldarak/summer/llzo_li_balanced_sliced/{structure_name}.cif\")  # replace with your file\n",
    "structure = Structure.from_file(structure_path)\n",
    "\n",
    "# Extract info\n",
    "structure_name = os.path.basename(structure_path).replace(\".cif\", \"\")\n",
    "lattice_height = structure.lattice.c\n",
    "num_atoms = len(structure)\n",
    "\n",
    "# Print output\n",
    "print(f\"- Structure: {structure_name}\")\n",
    "print(f\"- Initial lattice height: {lattice_height:.2f} Å\")\n",
    "print(f\"- Number of atoms: {num_atoms}\")\n"
   ]
  },
  {
   "cell_type": "code",
   "execution_count": null,
   "id": "1846f174",
   "metadata": {},
   "outputs": [
    {
     "name": "stdout",
     "output_type": "stream",
     "text": [
      "Li slab thickness: 28.82 Å\n",
      "Lowest Li slab atom: 42.20 Å\n",
      "LLZO top z: 41.68 Å\n",
      "Li penetration into LLZO: -0.52 Å\n"
     ]
    }
   ],
   "source": [
    "from pymatgen.core import Structure\n",
    "import numpy as np\n",
    "\n",
    "s = Structure.from_file(f\"/home/mehuldarak/summer/llzo_li_balanced_sliced/{structure_name}.cif\")\n",
    "\n",
    "# Get all atoms\n",
    "z_coords = np.array([site.z for site in s.sites])\n",
    "species = np.array([site.species_string for site in s.sites])\n",
    "\n",
    "# Estimate LLZO top (non-Li atoms)\n",
    "llzo_z = z_coords[species != \"Li\"]\n",
    "llzo_top = llzo_z.max()\n",
    "\n",
    "# Now isolate Li slab: Li atoms ABOVE LLZO\n",
    "li_slab_z = np.array([site.z for site in s.sites if site.species_string == \"Li\" and site.z > llzo_top])\n",
    "\n",
    "print(f\"Li slab thickness: {li_slab_z.ptp():.2f} Å\")\n",
    "print(f\"Lowest Li slab atom: {li_slab_z.min():.2f} Å\")\n",
    "print(f\"LLZO top z: {llzo_top:.2f} Å\")\n",
    "print(f\"Li penetration into LLZO: {llzo_top - li_slab_z.min():.2f} Å\")\n"
   ]
  },
  {
   "cell_type": "code",
   "execution_count": null,
   "id": "ad50b778",
   "metadata": {},
   "outputs": [
    {
     "name": "stdout",
     "output_type": "stream",
     "text": [
      "LLZO slab thickness: 26.15 Å\n",
      "Li slab thickness:   28.82 Å\n",
      "LLZO top z:          41.68 Å\n",
      "Lowest Li atom z:    42.20 Å\n",
      "Li penetration into LLZO: -0.52 Å\n"
     ]
    }
   ],
   "source": [
    "from pymatgen.core import Structure\n",
    "import numpy as np\n",
    "\n",
    "# Load structure\n",
    "structure = Structure.from_file(f\"/home/mehuldarak/summer/llzo_li_balanced_sliced/{structure_name}.cif\")\n",
    "\n",
    "# Get z-coordinates and element types\n",
    "z_coords = np.array([site.z for site in structure.sites])\n",
    "species = np.array([site.species_string for site in structure.sites])\n",
    "\n",
    "# LLZO: non-Li atoms (La, Zr, O)\n",
    "llzo_z = z_coords[species != \"Li\"]\n",
    "llzo_top = llzo_z.max()\n",
    "llzo_bottom = llzo_z.min()\n",
    "llzo_thickness = llzo_top - llzo_bottom\n",
    "\n",
    "# Li slab: Li atoms ABOVE LLZO (i.e. in metallic Li layer)\n",
    "li_slab_z = np.array([\n",
    "    site.z for site in structure.sites\n",
    "    if site.species_string == \"Li\" and site.z > llzo_top\n",
    "])\n",
    "li_thickness = li_slab_z.ptp() if len(li_slab_z) > 0 else 0\n",
    "li_bottom = li_slab_z.min() if len(li_slab_z) > 0 else None\n",
    "\n",
    "# Penetration check\n",
    "penetration = llzo_top - li_bottom if li_bottom is not None else 0\n",
    "\n",
    "# Report\n",
    "print(f\"LLZO slab thickness: {llzo_thickness:.2f} Å\")\n",
    "print(f\"Li slab thickness:   {li_thickness:.2f} Å\")\n",
    "print(f\"LLZO top z:          {llzo_top:.2f} Å\")\n",
    "print(f\"Lowest Li atom z:    {li_bottom:.2f} Å\" if li_bottom else \"No Li slab atoms found\")\n",
    "print(f\"Li penetration into LLZO: {penetration:.2f} Å\")\n"
   ]
  },
  {
   "cell_type": "code",
   "execution_count": null,
   "id": "9df87ad4",
   "metadata": {},
   "outputs": [
    {
     "name": "stdout",
     "output_type": "stream",
     "text": [
      "Freezing 617 atoms out of 738\n",
      "CHGNet v0.3.0 initialized with 412,525 parameters\n",
      "CHGNet will run on cuda\n"
     ]
    },
    {
     "name": "stderr",
     "output_type": "stream",
     "text": [
      "/tmp/ipykernel_78018/1947634833.py:27: FutureWarning: Please use atoms.calc = calc\n",
      "  structure.set_calculator(calc)\n"
     ]
    }
   ],
   "source": [
    "from pymatgen.io.ase import AseAtomsAdaptor\n",
    "from ase.constraints import FixAtoms\n",
    "from chgnet.model.dynamics import CHGNetCalculator, StructOptimizer\n",
    "from ase.io import read, write\n",
    "import numpy as np\n",
    "\n",
    "# --- Load structure ---\n",
    "structure = read(f\"/home/mehuldarak/summer/llzo_li_balanced_sliced/{structure_name}.cif\")\n",
    "\n",
    "# --- Get z coordinates ---\n",
    "z_coords = structure.get_positions()[:, 2]\n",
    "z_min, z_max = z_coords.min(), z_coords.max()\n",
    "\n",
    "# --- Define freeze zones ---\n",
    "freeze_thickness_llzo = 0.75 * (llzo_thickness)  # in Å\n",
    "freeze_thickness_li = 0.75 * (llzo_thickness)  # in Å\n",
    "llzo_z_threshold = z_min + freeze_thickness_llzo\n",
    "li_z_threshold = z_max - freeze_thickness_li\n",
    "\n",
    "# --- Freeze LLZO base and Li top ---\n",
    "freeze_mask = (z_coords < llzo_z_threshold) | (z_coords > li_z_threshold)\n",
    "structure.set_constraint(FixAtoms(mask=freeze_mask))\n",
    "print(f\"Freezing {np.sum(freeze_mask)} atoms out of {len(structure)}\")\n",
    "\n",
    "# --- Attach CHGNet calculator ---\n",
    "calc = CHGNetCalculator(use_device=\"cuda\")\n",
    "structure.set_calculator(calc)"
   ]
  },
  {
   "cell_type": "code",
   "execution_count": null,
   "id": "7579efc8",
   "metadata": {},
   "outputs": [],
   "source": [
    "# Stage 1: CG\n",
    "opt1 = StructOptimizer(model=calc, optimizer_class=\"SciPyFminCG\", use_device=\"cuda\")\n",
    "result1 = opt1.relax(structure, fmax=0.15, steps=300, relax_cell=False, verbose=True)"
   ]
  },
  {
   "cell_type": "code",
   "execution_count": 16,
   "id": "9900c903",
   "metadata": {},
   "outputs": [
    {
     "name": "stderr",
     "output_type": "stream",
     "text": [
      "/tmp/ipykernel_56255/3154571052.py:3: FutureWarning: Please use atoms.calc = calc\n",
      "  structure_1.set_calculator(calc)\n"
     ]
    },
    {
     "name": "stdout",
     "output_type": "stream",
     "text": [
      "      Step     Time          Energy          fmax\n",
      "FIRE:    0 20:48:52    -2692.110083        0.136644\n",
      "FIRE:    1 20:48:53    -2692.114134        0.134898\n",
      "FIRE:    2 20:48:53    -2692.121899        0.131163\n",
      "FIRE:    3 20:48:54    -2692.131689        0.127374\n",
      "FIRE:    4 20:48:54    -2692.143505        0.118269\n",
      "FIRE:    5 20:48:54    -2692.156503        0.111001\n",
      "FIRE:    6 20:48:55    -2692.169332        0.103045\n",
      "FIRE:    7 20:48:55    -2692.183511        0.093833\n",
      "FIRE:    8 20:48:56    -2692.198703        0.089371\n",
      "FIRE:    9 20:48:56    -2692.215414        0.088418\n",
      "FIRE:   10 20:48:56    -2692.234826        0.092469\n",
      "FIRE:   11 20:48:57    -2692.256939        0.100811\n",
      "FIRE:   12 20:48:57    -2692.283272        0.097430\n",
      "FIRE:   13 20:48:58    -2692.312812        0.083648\n",
      "FIRE:   14 20:48:58    -2692.347078        0.082827\n",
      "FIRE:   15 20:48:59    -2692.386071        0.076299\n",
      "FIRE:   16 20:48:59    -2692.431647        0.071338\n",
      "FIRE:   17 20:48:59    -2692.484819        0.076280\n",
      "FIRE:   18 20:49:00    -2692.535628        0.074962\n",
      "FIRE:   19 20:49:00    -2692.583399        0.062234\n",
      "FIRE:   20 20:49:01    -2692.627118        0.060507\n",
      "FIRE:   21 20:49:01    -2692.668812        0.068958\n",
      "FIRE:   22 20:49:01    -2692.710337        0.087348\n",
      "FIRE:   23 20:49:02    -2692.754394        0.104299\n",
      "FIRE:   24 20:49:02    -2692.800814        0.119953\n",
      "FIRE:   25 20:49:02    -2692.848753        0.141097\n",
      "FIRE:   26 20:49:03    -2692.897367        0.115358\n",
      "FIRE:   27 20:49:03    -2692.946320        0.130539\n",
      "FIRE:   28 20:49:04    -2692.995272        0.181497\n",
      "FIRE:   29 20:49:04    -2693.047262        0.225675\n",
      "FIRE:   30 20:49:04    -2693.096214        0.243800\n",
      "FIRE:   31 20:49:05    -2693.143816        0.250773\n",
      "FIRE:   32 20:49:05    -2693.195469        0.172656\n",
      "FIRE:   33 20:49:06    -2693.246615        0.133436\n",
      "FIRE:   34 20:49:06    -2693.296412        0.108509\n",
      "FIRE:   35 20:49:06    -2693.345364        0.127842\n",
      "FIRE:   36 20:49:07    -2693.394316        0.133414\n",
      "FIRE:   37 20:49:07    -2693.444618        0.113896\n",
      "FIRE:   38 20:49:08    -2693.492558        0.118590\n",
      "FIRE:   39 20:49:08    -2693.541003        0.121681\n",
      "FIRE:   40 20:49:09    -2693.592150        0.139421\n",
      "FIRE:   41 20:49:09    -2693.644478        0.142039\n",
      "FIRE:   42 20:49:09    -2693.696637        0.107066\n",
      "FIRE:   43 20:49:10    -2693.746264        0.087650\n",
      "FIRE:   44 20:49:10    -2693.793529        0.092087\n",
      "FIRE:   45 20:49:11    -2693.840624        0.085823\n",
      "FIRE:   46 20:49:11    -2693.882993        0.069628\n",
      "FIRE:   47 20:49:11    -2693.922492        0.077553\n",
      "FIRE:   48 20:49:12    -2693.961485        0.101313\n",
      "FIRE:   49 20:49:12    -2693.998959        0.127498\n",
      "FIRE:   50 20:49:13    -2694.037445        0.145150\n",
      "FIRE:   51 20:49:13    -2694.080152        0.155487\n",
      "FIRE:   52 20:49:13    -2694.125052        0.151119\n",
      "FIRE:   53 20:49:14    -2694.173667        0.138784\n",
      "FIRE:   54 20:49:14    -2694.222281        0.123556\n",
      "FIRE:   55 20:49:15    -2694.271571        0.147630\n",
      "FIRE:   56 20:49:15    -2694.321367        0.161353\n",
      "FIRE:   57 20:49:15    -2694.369138        0.142438\n",
      "FIRE:   58 20:49:16    -2694.413870        0.150526\n",
      "FIRE:   59 20:49:16    -2694.455901        0.144020\n",
      "FIRE:   60 20:49:17    -2694.496244        0.164887\n",
      "FIRE:   61 20:49:17    -2694.536419        0.155095\n",
      "FIRE:   62 20:49:18    -2694.575918        0.124027\n",
      "FIRE:   63 20:49:18    -2694.613898        0.105735\n",
      "FIRE:   64 20:49:18    -2694.653904        0.098924\n",
      "FIRE:   65 20:49:19    -2694.690027        0.110284\n",
      "FIRE:   66 20:49:19    -2694.718048        0.218239\n",
      "FIRE:   67 20:49:20    -2694.737460        0.454387\n",
      "FIRE:   68 20:49:20    -2694.767844        0.515683\n",
      "FIRE:   69 20:49:20    -2694.813589        0.298825\n",
      "FIRE:   70 20:49:21    -2694.857984        0.187738\n",
      "FIRE:   71 20:49:21    -2694.898664        0.182773\n",
      "FIRE:   72 20:49:22    -2694.940358        0.161332\n",
      "FIRE:   73 20:49:22    -2694.982221        0.175539\n",
      "FIRE:   74 20:49:22    -2695.024927        0.210901\n",
      "FIRE:   75 20:49:23    -2695.070672        0.164398\n",
      "FIRE:   76 20:49:23    -2695.111691        0.166729\n",
      "FIRE:   77 20:49:24    -2695.144607        0.141005\n",
      "FIRE:   78 20:49:24    -2695.163175        0.120629\n",
      "FIRE:   79 20:49:24    -2695.163512        0.230136\n",
      "FIRE:   80 20:49:25    -2695.223268        0.289263\n",
      "FIRE:   81 20:49:25    -2695.217360        0.785196\n",
      "FIRE:   82 20:49:26    -2695.261248        0.450130\n",
      "FIRE:   83 20:49:26    -2695.268506        0.283463\n",
      "FIRE:   84 20:49:26    -2695.275596        0.081783\n",
      "FIRE:   85 20:49:27    -2695.277115        0.263159\n",
      "FIRE:   86 20:49:27    -2695.277790        0.234187\n",
      "FIRE:   87 20:49:28    -2695.278972        0.181675\n",
      "FIRE:   88 20:49:28    -2695.280491        0.111195\n",
      "FIRE:   89 20:49:29    -2695.282010        0.058117\n",
      "FIRE:   90 20:49:29    -2695.283192        0.055628\n",
      "FIRE:   91 20:49:29    -2695.284373        0.104333\n",
      "FIRE:   92 20:49:30    -2695.285386        0.136855\n",
      "FIRE:   93 20:49:30    -2695.287412        0.144656\n",
      "FIRE:   94 20:49:31    -2695.289775        0.122116\n",
      "FIRE:   95 20:49:31    -2695.292982        0.067068\n",
      "FIRE:   96 20:49:31    -2695.295852        0.048604\n"
     ]
    }
   ],
   "source": [
    "# Convert back, assign calculator + constraint\n",
    "structure_1 = AseAtomsAdaptor.get_atoms(result1[\"final_structure\"])\n",
    "structure_1.set_calculator(calc)\n",
    "structure_1.set_constraint(FixAtoms(mask=freeze_mask))\n",
    "\n",
    "# Stage 2: FIRE\n",
    "opt2 = StructOptimizer(model=calc, optimizer_class=\"FIRE\", use_device=\"cuda\")\n",
    "result2 = opt2.relax(structure_1, fmax=0.05, steps=400, relax_cell=False, verbose=True)"
   ]
  },
  {
   "cell_type": "code",
   "execution_count": null,
   "id": "02e25f8e",
   "metadata": {},
   "outputs": [
    {
     "name": "stdout",
     "output_type": "stream",
     "text": [
      "✅ Final structure saved successfully.\n"
     ]
    }
   ],
   "source": [
    "from pymatgen.io.ase import AseAtomsAdaptor\n",
    "from ase.io import write\n",
    "\n",
    "# Extract final structure from result3 (FIRE)\n",
    "final_structure_pmg = result2[\"final_structure\"]  # assuming result2 = FIRE\n",
    "final_structure_ase = AseAtomsAdaptor.get_atoms(final_structure_pmg)\n",
    "\n",
    "# Save as CIF and ASE trajectory\n",
    "write(f\"relaxed_{structure_name}.cif\", final_structure_ase)\n",
    "write(f\"relaxed_{structure_name}.traj\", final_structure_ase)\n",
    "\n",
    "print(\"✅ Final structure saved successfully.\")"
   ]
  },
  {
   "cell_type": "code",
   "execution_count": 3,
   "id": "179da561",
   "metadata": {},
   "outputs": [
    {
     "name": "stdout",
     "output_type": "stream",
     "text": [
      "Li slab thickness: 14.62 Å\n",
      "Lowest Li slab atom: 25.05 Å\n",
      "LLZO top z: 25.01 Å\n",
      "Li penetration into LLZO: -0.04 Å\n"
     ]
    }
   ],
   "source": [
    "from pymatgen.core import Structure\n",
    "import numpy as np\n",
    "\n",
    "s = Structure.from_file(f\"/home/mehuldarak/summer/relax/{structure_name}/{structure_name}.cif\")\n",
    "\n",
    "# Get all atoms\n",
    "z_coords = np.array([site.z for site in s.sites])\n",
    "species = np.array([site.species_string for site in s.sites])\n",
    "\n",
    "# Estimate LLZO top (non-Li atoms)\n",
    "llzo_z = z_coords[species != \"Li\"]\n",
    "llzo_top = llzo_z.max()\n",
    "\n",
    "# Now isolate Li slab: Li atoms ABOVE LLZO\n",
    "li_slab_z = np.array([site.z for site in s.sites if site.species_string == \"Li\" and site.z > llzo_top])\n",
    "\n",
    "print(f\"Li slab thickness: {li_slab_z.ptp():.2f} Å\")\n",
    "print(f\"Lowest Li slab atom: {li_slab_z.min():.2f} Å\")\n",
    "print(f\"LLZO top z: {llzo_top:.2f} Å\")\n",
    "print(f\"Li penetration into LLZO: {llzo_top - li_slab_z.min():.2f} Å\")\n"
   ]
  },
  {
   "cell_type": "code",
   "execution_count": null,
   "id": "5d3853c1",
   "metadata": {},
   "outputs": [],
   "source": []
  }
 ],
 "metadata": {
  "kernelspec": {
   "display_name": "mace",
   "language": "python",
   "name": "python3"
  },
  "language_info": {
   "codemirror_mode": {
    "name": "ipython",
    "version": 3
   },
   "file_extension": ".py",
   "mimetype": "text/x-python",
   "name": "python",
   "nbconvert_exporter": "python",
   "pygments_lexer": "ipython3",
   "version": "3.13.5"
  }
 },
 "nbformat": 4,
 "nbformat_minor": 5
}
