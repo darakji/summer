{
 "cells": [
  {
   "cell_type": "code",
   "execution_count": null,
   "id": "40bbc3e7",
   "metadata": {},
   "outputs": [
    {
     "name": "stdout",
     "output_type": "stream",
     "text": [
      "Li slab thickness: 51.96 Å\n",
      "Lowest Li slab atom: 39.85 Å\n",
      "LLZO top z: 39.34 Å\n",
      "Li penetration into LLZO: -0.52 Å\n"
     ]
    }
   ],
   "source": [
    "/home/phanim/harshitrawat/summer/La_terminatedLLZO_2x2x1_LiclusterFRAC.vasp"
   ]
  },
  {
   "cell_type": "code",
   "execution_count": 2,
   "id": "8bee9060-48b6-4c32-a5e3-29dae8453ab9",
   "metadata": {},
   "outputs": [
    {
     "name": "stdout",
     "output_type": "stream",
     "text": [
      "- Structure: La_terminatedLLZO_2x2x1_LiclusterFRAC\n",
      "- Initial lattice height: 72.47 Å\n",
      "- Number of atoms: 1177\n"
     ]
    }
   ],
   "source": [
    "from pymatgen.core import Structure\n",
    "import os\n",
    "\n",
    "# Load structure\n",
    "structure_path = (\"/home/phanim/harshitrawat/summer/La_terminatedLLZO_2x2x1_LiclusterFRAC.vasp\")  # replace with your file\n",
    "structure = Structure.from_file(structure_path)\n",
    "\n",
    "# Extract info\n",
    "structure_name = os.path.basename(structure_path).replace(\".vasp\", \"\")\n",
    "lattice_height = structure.lattice.c\n",
    "num_atoms = len(structure)\n",
    "\n",
    "# Print output\n",
    "print(f\"- Structure: {structure_name}\")\n",
    "print(f\"- Initial lattice height: {lattice_height:.2f} Å\")\n",
    "print(f\"- Number of atoms: {num_atoms}\")\n"
   ]
  },
  {
   "cell_type": "code",
   "execution_count": 5,
   "id": "1d4b0b48-fc52-4a8a-a09d-d3ef02d256ce",
   "metadata": {},
   "outputs": [
    {
     "name": "stdout",
     "output_type": "stream",
     "text": [
      "CHGNet v0.3.0 initialized with 412,525 parameters\n",
      "CHGNet will run on cuda\n"
     ]
    },
    {
     "name": "stderr",
     "output_type": "stream",
     "text": [
      "/tmp/ipykernel_3897929/1151572240.py:12: FutureWarning: Please use atoms.calc = calc\n",
      "  structure.set_calculator(calc)\n"
     ]
    }
   ],
   "source": [
    "from pymatgen.io.ase import AseAtomsAdaptor\n",
    "from ase.constraints import FixAtoms\n",
    "from chgnet.model.dynamics import CHGNetCalculator, StructOptimizer\n",
    "from ase.io import read, write\n",
    "import numpy as np\n",
    "\n",
    "# --- Load structure ---\n",
    "structure = read(\"/home/phanim/harshitrawat/summer/La_terminatedLLZO_2x2x1_LiclusterFRAC.vasp\")\n",
    "\n",
    "# --- Attach CHGNet calculator ---\n",
    "calc = CHGNetCalculator(use_device=\"cuda\")\n",
    "structure.set_calculator(calc)"
   ]
  },
  {
   "cell_type": "code",
   "execution_count": 6,
   "id": "8eb1d55e-3cc4-46d8-9adf-240ce2b2f498",
   "metadata": {
    "scrolled": true
   },
   "outputs": [
    {
     "name": "stdout",
     "output_type": "stream",
     "text": [
      "             Step     Time          Energy          fmax\n",
      "SciPyFminCG:    0 16:19:48    -8564.435153        2.765748\n",
      "SciPyFminCG:    1 16:19:50    -8566.758675        1.598613\n",
      "SciPyFminCG:    2 16:19:51    -8567.699870        1.687444\n",
      "SciPyFminCG:    3 16:19:52    -8568.252128        1.682960\n",
      "SciPyFminCG:    4 16:19:53    -8569.151791        1.140801\n",
      "SciPyFminCG:    5 16:19:54    -8569.661956        0.795266\n",
      "SciPyFminCG:    6 16:19:55    -8570.031811        0.587696\n",
      "SciPyFminCG:    7 16:19:56    -8570.469015        0.677790\n",
      "SciPyFminCG:    8 16:19:57    -8571.086376        0.804428\n",
      "SciPyFminCG:    9 16:19:58    -8571.714962        0.590722\n",
      "SciPyFminCG:   10 16:20:00    -8572.648861        1.454376\n",
      "SciPyFminCG:   11 16:20:01    -8572.990654        1.779607\n",
      "SciPyFminCG:   12 16:20:02    -8573.729243        1.026349\n",
      "SciPyFminCG:   13 16:20:03    -8574.245581        0.790098\n",
      "SciPyFminCG:   14 16:20:04    -8574.792788        0.913680\n",
      "SciPyFminCG:   15 16:20:05    -8575.403414        0.918591\n",
      "SciPyFminCG:   16 16:20:06    -8575.950620        0.696795\n",
      "SciPyFminCG:   17 16:20:07    -8576.405222        0.670408\n",
      "SciPyFminCG:   18 16:20:08    -8576.986664        1.230982\n",
      "SciPyFminCG:   19 16:20:09    -8577.183659        1.162843\n",
      "SciPyFminCG:   20 16:20:10    -8577.637700        0.690046\n",
      "SciPyFminCG:   21 16:20:11    -8577.978371        0.597238\n",
      "SciPyFminCG:   22 16:20:12    -8578.175926        0.519393\n",
      "SciPyFminCG:   23 16:20:13    -8578.383023        0.535412\n",
      "SciPyFminCG:   24 16:20:14    -8578.692826        0.547338\n",
      "SciPyFminCG:   25 16:20:15    -8578.974567        0.580459\n",
      "SciPyFminCG:   26 16:20:16    -8579.169316        0.428878\n",
      "SciPyFminCG:   27 16:20:17    -8579.366311        0.484193\n",
      "SciPyFminCG:   28 16:20:18    -8579.496518        0.423896\n",
      "SciPyFminCG:   29 16:20:19    -8579.586877        0.440741\n",
      "SciPyFminCG:   30 16:20:20    -8579.722696        0.506929\n",
      "SciPyFminCG:   31 16:20:21    -8579.836066        0.360649\n",
      "SciPyFminCG:   32 16:20:22    -8579.907905        0.260863\n",
      "SciPyFminCG:   33 16:20:24    -8579.992651        0.217933\n",
      "SciPyFminCG:   34 16:20:24    -8580.039234        0.319821\n",
      "SciPyFminCG:   35 16:20:26    -8580.087501        0.324968\n",
      "SciPyFminCG:   36 16:20:27    -8580.157094        0.282993\n",
      "SciPyFminCG:   37 16:20:28    -8580.221075        0.418242\n",
      "SciPyFminCG:   38 16:20:29    -8580.267658        0.266944\n",
      "SciPyFminCG:   39 16:20:30    -8580.327149        0.269810\n",
      "SciPyFminCG:   40 16:20:32    -8580.364191        0.487132\n",
      "SciPyFminCG:   41 16:20:32    -8580.385518        0.474411\n",
      "SciPyFminCG:   42 16:20:34    -8580.434906        0.245845\n",
      "SciPyFminCG:   43 16:20:35    -8580.464652        0.185725\n",
      "SciPyFminCG:   44 16:20:36    -8580.487102        0.191887\n",
      "SciPyFminCG:   45 16:20:37    -8580.521337        0.289041\n",
      "SciPyFminCG:   46 16:20:38    -8580.548838        0.186209\n",
      "SciPyFminCG:   47 16:20:39    -8580.575777        0.164047\n",
      "SciPyFminCG:   48 16:20:40    -8580.597665        0.283750\n",
      "SciPyFminCG:   49 16:20:41    -8580.617309        0.225581\n",
      "SciPyFminCG:   50 16:20:42    -8580.644809        0.283227\n",
      "SciPyFminCG:   51 16:20:43    -8580.671187        0.212227\n",
      "SciPyFminCG:   52 16:20:44    -8580.687463        0.259868\n",
      "SciPyFminCG:   53 16:20:45    -8580.709913        0.172501\n",
      "SciPyFminCG:   54 16:20:46    -8580.727872        0.200137\n",
      "SciPyFminCG:   55 16:20:48    -8580.747516        0.124084\n"
     ]
    }
   ],
   "source": [
    "# Stage 1: CG\n",
    "opt1 = StructOptimizer(model=calc, optimizer_class=\"SciPyFminCG\", use_device=\"cuda\")\n",
    "result1 = opt1.relax(structure, fmax=0.15, steps=300, relax_cell=False, verbose=True)"
   ]
  },
  {
   "cell_type": "code",
   "execution_count": 10,
   "id": "f7e7a48c-709d-4578-8240-75dc040e4152",
   "metadata": {
    "scrolled": true
   },
   "outputs": [
    {
     "name": "stderr",
     "output_type": "stream",
     "text": [
      "/tmp/ipykernel_3897929/1323273715.py:2: FutureWarning: Please use atoms.calc = calc\n",
      "  structure_1.set_calculator(calc)\n"
     ]
    },
    {
     "name": "stdout",
     "output_type": "stream",
     "text": [
      "      Step     Time          Energy          fmax\n",
      "FIRE:    0 16:22:33    -8580.746954        0.124083\n",
      "FIRE:    1 16:22:34    -8580.750322        0.123237\n",
      "FIRE:    2 16:22:34    -8580.756495        0.122747\n",
      "FIRE:    3 16:22:35    -8580.758740        0.122002\n",
      "FIRE:    4 16:22:35    -8580.759863        0.120629\n",
      "FIRE:    5 16:22:36    -8580.763230        0.119154\n",
      "FIRE:    6 16:22:36    -8580.767720        0.117821\n",
      "FIRE:    7 16:22:37    -8580.772771        0.117077\n",
      "FIRE:    8 16:22:38    -8580.778384        0.117310\n",
      "FIRE:    9 16:22:38    -8580.784557        0.118239\n",
      "FIRE:   10 16:22:38    -8580.792415        0.120218\n",
      "FIRE:   11 16:22:39    -8580.800272        0.124217\n",
      "FIRE:   12 16:22:40    -8580.812619        0.128596\n",
      "FIRE:   13 16:22:40    -8580.827773        0.126865\n",
      "FIRE:   14 16:22:41    -8580.845171        0.118567\n",
      "FIRE:   15 16:22:41    -8580.866498        0.104191\n",
      "FIRE:   16 16:22:42    -8580.888386        0.098543\n",
      "FIRE:   17 16:22:42    -8580.915326        0.157316\n",
      "FIRE:   18 16:22:43    -8580.935530        0.400007\n",
      "FIRE:   19 16:22:43    -8580.948439        0.094577\n",
      "FIRE:   20 16:22:44    -8580.941704        0.348971\n",
      "FIRE:   21 16:22:44    -8580.945632        0.269027\n",
      "FIRE:   22 16:22:45    -8580.950684        0.120652\n",
      "FIRE:   23 16:22:46    -8580.952929        0.091000\n",
      "FIRE:   24 16:22:46    -8580.952929        0.091005\n",
      "FIRE:   25 16:22:46    -8580.952929        0.090991\n",
      "FIRE:   26 16:22:47    -8580.952929        0.090946\n",
      "FIRE:   27 16:22:48    -8580.952929        0.090916\n",
      "FIRE:   28 16:22:48    -8580.953490        0.090895\n",
      "FIRE:   29 16:22:49    -8580.954612        0.090840\n",
      "FIRE:   30 16:22:49    -8580.954612        0.090755\n",
      "FIRE:   31 16:22:50    -8580.954612        0.090543\n",
      "FIRE:   32 16:22:50    -8580.955735        0.090096\n",
      "FIRE:   33 16:22:51    -8580.957418        0.089645\n",
      "FIRE:   34 16:22:51    -8580.957980        0.089196\n",
      "FIRE:   35 16:22:52    -8580.959102        0.088935\n",
      "FIRE:   36 16:22:52    -8580.960786        0.089367\n",
      "FIRE:   37 16:22:53    -8580.963031        0.089001\n",
      "FIRE:   38 16:22:53    -8580.965276        0.088769\n",
      "FIRE:   39 16:22:54    -8580.967521        0.089504\n",
      "FIRE:   40 16:22:54    -8580.972011        0.089286\n",
      "FIRE:   41 16:22:55    -8580.975378        0.089713\n",
      "FIRE:   42 16:22:55    -8580.981552        0.092914\n",
      "FIRE:   43 16:22:56    -8580.988286        0.093709\n",
      "FIRE:   44 16:22:56    -8580.995021        0.100874\n",
      "FIRE:   45 16:22:57    -8581.004562        0.107135\n",
      "FIRE:   46 16:22:57    -8581.016910        0.104144\n",
      "FIRE:   47 16:22:58    -8581.032624        0.098740\n",
      "FIRE:   48 16:22:58    -8581.050584        0.110485\n",
      "FIRE:   49 16:22:59    -8581.071350        0.102813\n",
      "FIRE:   50 16:22:59    -8581.094360        0.089420\n",
      "FIRE:   51 16:23:00    -8581.118494        0.087481\n",
      "FIRE:   52 16:23:00    -8581.135892        0.346507\n",
      "FIRE:   53 16:23:01    -8581.074717        1.301715\n",
      "FIRE:   54 16:23:01    -8581.158341        0.426483\n",
      "FIRE:   55 16:23:02    -8581.163954        0.304356\n",
      "FIRE:   56 16:23:02    -8581.169566        0.086273\n",
      "FIRE:   57 16:23:03    -8581.169005        0.175889\n",
      "FIRE:   58 16:23:03    -8581.169566        0.161361\n",
      "FIRE:   59 16:23:04    -8581.170127        0.133750\n",
      "FIRE:   60 16:23:04    -8581.170127        0.095309\n",
      "FIRE:   61 16:23:05    -8581.170689        0.062957\n",
      "FIRE:   62 16:23:05    -8581.171250        0.062772\n",
      "FIRE:   63 16:23:06    -8581.171811        0.062545\n",
      "FIRE:   64 16:23:06    -8581.171811        0.071600\n",
      "FIRE:   65 16:23:07    -8581.171811        0.091259\n",
      "FIRE:   66 16:23:08    -8581.172372        0.094687\n",
      "FIRE:   67 16:23:08    -8581.173495        0.078944\n",
      "FIRE:   68 16:23:08    -8581.174617        0.060592\n",
      "FIRE:   69 16:23:09    -8581.175740        0.059967\n",
      "FIRE:   70 16:23:10    -8581.177423        0.059234\n",
      "FIRE:   71 16:23:10    -8581.177423        0.077478\n",
      "FIRE:   72 16:23:11    -8581.180791        0.057581\n",
      "FIRE:   73 16:23:11    -8581.181913        0.056726\n",
      "FIRE:   74 16:23:12    -8581.185281        0.062100\n",
      "FIRE:   75 16:23:12    -8581.186965        0.055710\n",
      "FIRE:   76 16:23:13    -8581.191454        0.055994\n",
      "FIRE:   77 16:23:13    -8581.195383        0.060392\n",
      "FIRE:   78 16:23:14    -8581.199873        0.058977\n",
      "FIRE:   79 16:23:14    -8581.206047        0.060758\n",
      "FIRE:   80 16:23:15    -8581.213904        0.062492\n",
      "FIRE:   81 16:23:15    -8581.222322        0.063957\n",
      "FIRE:   82 16:23:16    -8581.233547        0.061824\n",
      "FIRE:   83 16:23:16    -8581.246456        0.080911\n",
      "FIRE:   84 16:23:17    -8581.257680        0.229652\n",
      "FIRE:   85 16:23:17    -8581.252629        0.639757\n",
      "FIRE:   86 16:23:18    -8581.278446        0.072595\n",
      "FIRE:   87 16:23:18    -8581.279007        0.068041\n",
      "FIRE:   88 16:23:19    -8581.279007        0.067793\n",
      "FIRE:   89 16:23:19    -8581.279007        0.067422\n",
      "FIRE:   90 16:23:20    -8581.279569        0.066917\n",
      "FIRE:   91 16:23:20    -8581.280130        0.066311\n",
      "FIRE:   92 16:23:21    -8581.281252        0.065619\n",
      "FIRE:   93 16:23:21    -8581.282936        0.064832\n",
      "FIRE:   94 16:23:22    -8581.283497        0.064447\n",
      "FIRE:   95 16:23:22    -8581.285181        0.064837\n",
      "FIRE:   96 16:23:23    -8581.287426        0.065209\n",
      "FIRE:   97 16:23:23    -8581.289110        0.065604\n",
      "FIRE:   98 16:23:24    -8581.291916        0.066177\n",
      "FIRE:   99 16:23:24    -8581.295845        0.067405\n",
      "FIRE:  100 16:23:25    -8581.300334        0.069398\n",
      "FIRE:  101 16:23:25    -8581.305947        0.070714\n",
      "FIRE:  102 16:23:26    -8581.312682        0.070210\n",
      "FIRE:  103 16:23:26    -8581.321100        0.065190\n",
      "FIRE:  104 16:23:27    -8581.328958        0.056813\n",
      "FIRE:  105 16:23:28    -8581.339621        0.055213\n",
      "FIRE:  106 16:23:28    -8581.348040        0.120629\n",
      "FIRE:  107 16:23:28    -8581.352530        0.330038\n",
      "FIRE:  108 16:23:29    -8581.359264        0.044458\n"
     ]
    }
   ],
   "source": [
    "structure_1 = AseAtomsAdaptor.get_atoms(result1[\"final_structure\"])\n",
    "structure_1.set_calculator(calc)\n",
    "# Stage 2: FIRE\n",
    "opt2 = StructOptimizer(model=calc, optimizer_class=\"FIRE\", use_device=\"cuda\")\n",
    "result2 = opt2.relax(structure_1, fmax=0.05, steps=400, relax_cell=False, verbose=True)"
   ]
  },
  {
   "cell_type": "code",
   "execution_count": 11,
   "id": "5366977b-8add-4435-a513-dd9966f19a94",
   "metadata": {},
   "outputs": [
    {
     "name": "stdout",
     "output_type": "stream",
     "text": [
      "✅ Final structure saved successfully.\n"
     ]
    }
   ],
   "source": [
    "from pymatgen.io.ase import AseAtomsAdaptor\n",
    "from ase.io import write\n",
    "\n",
    "# Extract final structure from result3 (FIRE)\n",
    "final_structure_pmg = result2[\"final_structure\"]  # assuming result2 = FIRE\n",
    "final_structure_ase = AseAtomsAdaptor.get_atoms(final_structure_pmg)\n",
    "\n",
    "# Save as CIF and ASE trajectory\n",
    "write(f\"relaxed_La_terminatedLLZO_2x2x1_LiclusterFRAC.vasp\", final_structure_ase)\n",
    "write(f\"relaxed_La_terminatedLLZO_2x2x1_LiclusterFRAC.traj\", final_structure_ase)\n",
    "\n",
    "print(\"✅ Final structure saved successfully.\")"
   ]
  },
  {
   "cell_type": "code",
   "execution_count": 19,
   "id": "af426dc9-1e83-427e-90d3-0d66ed00c1a0",
   "metadata": {},
   "outputs": [
    {
     "ename": "ModuleNotFoundError",
     "evalue": "No module named 'ase.optimize.cg'",
     "output_type": "error",
     "traceback": [
      "\u001b[31m---------------------------------------------------------------------------\u001b[39m",
      "\u001b[31mModuleNotFoundError\u001b[39m                       Traceback (most recent call last)",
      "\u001b[36mCell\u001b[39m\u001b[36m \u001b[39m\u001b[32mIn[19]\u001b[39m\u001b[32m, line 3\u001b[39m\n\u001b[32m      1\u001b[39m \u001b[38;5;28;01mfrom\u001b[39;00m\u001b[38;5;250m \u001b[39m\u001b[34;01mase\u001b[39;00m\u001b[34;01m.\u001b[39;00m\u001b[34;01mio\u001b[39;00m\u001b[38;5;250m \u001b[39m\u001b[38;5;28;01mimport\u001b[39;00m read, write\n\u001b[32m      2\u001b[39m \u001b[38;5;28;01mfrom\u001b[39;00m\u001b[38;5;250m \u001b[39m\u001b[34;01mase\u001b[39;00m\u001b[34;01m.\u001b[39;00m\u001b[34;01moptimize\u001b[39;00m\u001b[38;5;250m \u001b[39m\u001b[38;5;28;01mimport\u001b[39;00m FIRE\n\u001b[32m----> \u001b[39m\u001b[32m3\u001b[39m \u001b[38;5;28;01mfrom\u001b[39;00m\u001b[38;5;250m \u001b[39m\u001b[34;01mase\u001b[39;00m\u001b[34;01m.\u001b[39;00m\u001b[34;01moptimize\u001b[39;00m\u001b[34;01m.\u001b[39;00m\u001b[34;01mcg\u001b[39;00m\u001b[38;5;250m \u001b[39m\u001b[38;5;28;01mimport\u001b[39;00m CG\n\u001b[32m      5\u001b[39m \u001b[38;5;28;01mfrom\u001b[39;00m\u001b[38;5;250m \u001b[39m\u001b[34;01mmace\u001b[39;00m\u001b[34;01m.\u001b[39;00m\u001b[34;01mcalculators\u001b[39;00m\u001b[38;5;250m \u001b[39m\u001b[38;5;28;01mimport\u001b[39;00m MACECalculator\n",
      "\u001b[31mModuleNotFoundError\u001b[39m: No module named 'ase.optimize.cg'"
     ]
    }
   ],
   "source": [
    "from ase.io import read, write\n",
    "from ase.optimize import QuasiNewton, FIRE\n",
    "from mace.calculators import MACECalculator\n",
    "\n",
    "atoms = read(\"/home/phanim/harshitrawat/summer/La_terminatedLLZO_2x2x1_LiclusterFRAC.vasp\")\n",
    "atoms.calc = MACECalculator(model_path=\"/home/phanim/harshitrawat/summer/checkpoints/mace_T1_finetune_h200_cn10_run-21.model\", device=\"cuda\")\n",
    "\n",
    "# Stage 1: coarse relaxation using QuasiNewton (similar to BFGS)\n",
    "qn = QuasiNewton(atoms, trajectory=\"qn_relax.traj\", logfile=\"qn.log\")\n",
    "qn.run(fmax=0.15)\n",
    "\n",
    "# Stage 2: refine relaxation using FIRE\n",
    "fire = FIRE(atoms, trajectory=\"fire_relax.traj\", logfile=\"fire.log\")\n",
    "fire.run(fmax=0.05)\n",
    "\n",
    "write(\"relaxed_final.xyz\", atoms)\n"
   ]
  },
  {
   "cell_type": "code",
   "execution_count": null,
   "id": "e89792d5-806f-482b-82a4-3f23874a9f85",
   "metadata": {},
   "outputs": [],
   "source": [
    "from pymatgen.core import Structure\n",
    "import numpy as np\n",
    "\n",
    "s = Structure.from_file(f\"/home/phanim/harshitrawat/summer/md/mdcifs_strained_perturbed/cellrelaxed_LLZO_001_Zr_code93_sto__Li_100_slab_heavy_T300_0022_strain-2_perturbed.cif\")\n",
    "\n",
    "# Get all atoms\n",
    "z_coords = np.array([site.z for site in s.sites])\n",
    "species = np.array([site.species_string for site in s.sites])\n",
    "\n",
    "# Estimate LLZO top (non-Li atoms)\n",
    "llzo_z = z_coords[species != \"Li\"]\n",
    "llzo_top = llzo_z.max()\n",
    "\n",
    "# Now isolate Li slab: Li atoms ABOVE LLZO\n",
    "li_slab_z = np.array([site.z for site in s.sites if site.species_string == \"Li\" and site.z > llzo_top])\n",
    "\n",
    "print(f\"Li slab thickness: {li_slab_z.ptp():.2f} Å\")\n",
    "print(f\"Lowest Li slab atom: {li_slab_z.min():.2f} Å\")\n",
    "print(f\"LLZO top z: {llzo_top:.2f} Å\")\n",
    "print(f\"Li penetration into LLZO: {llzo_top - li_slab_z.min():.2f} Å\")\n"
   ]
  },
  {
   "cell_type": "code",
   "execution_count": null,
   "id": "dc48f9d7",
   "metadata": {},
   "outputs": [],
   "source": []
  }
 ],
 "metadata": {
  "kernelspec": {
   "display_name": "Python 3 (ipykernel)",
   "language": "python",
   "name": "python3"
  },
  "language_info": {
   "codemirror_mode": {
    "name": "ipython",
    "version": 3
   },
   "file_extension": ".py",
   "mimetype": "text/x-python",
   "name": "python",
   "nbconvert_exporter": "python",
   "pygments_lexer": "ipython3",
   "version": "3.13.2"
  }
 },
 "nbformat": 4,
 "nbformat_minor": 5
}
