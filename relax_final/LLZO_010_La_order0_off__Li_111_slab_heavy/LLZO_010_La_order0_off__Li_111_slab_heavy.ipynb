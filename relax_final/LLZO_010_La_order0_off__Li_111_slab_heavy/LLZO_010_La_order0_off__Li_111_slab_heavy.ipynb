{
 "cells": [
  {
   "cell_type": "markdown",
   "id": "d7833af9",
   "metadata": {},
   "source": [
    "This notebook follows from the tutorials of CHGNet to relax LLZO-Li slabs that have been made in `llzo_li_balanced_sliced` directory."
   ]
  },
  {
   "cell_type": "markdown",
   "id": "3d234e1d",
   "metadata": {},
   "source": [
    "\n",
    "LLZO‖Li Interface Relaxation Notebook\n",
    "========================================\n",
    "\n",
    "Each notebook handles only one structure.\n",
    "1. Purpose: (This keeps updating)\n",
    "- Relax a single LLZO‖Li (in this notebook LLZO_001_Zr_code93_sto__Li_110_slab_heavy) heterostructure using CHGNet\n",
    "- Perform multi-stage optimization (in this notebook, CG → FIRE)\n",
    "- Freeze bulk-like regions (15 Å at both ends)\n",
    "- after all this, Relax lattice vectors to relieve interface strain\n",
    "\n",
    "2. This notebook handles:\n",
    "- Structure: LLZO_110_Li_order17_off__Li_100_slab_heavy\n",
    "- Initial lattice height: 86.02 Å\n",
    "- Number of atoms: 738\n",
    "\n",
    "3. Method:\n",
    "- CHGNet (v0.4.0) + ASE interface\n",
    "- Stage 1: SciPyFminCG (no cell relaxation) → fmax target ~0.15 eV/Å\n",
    "- Stage 2: FIRE (with optional cell relaxation) → fmax target ~0.05 eV/Å\n",
    "- FrechetCellFilter used for combined force + stress minimization\n",
    "\n",
    "4. Constraints:\n",
    "- LLZO base: frozen bottom 14.25 Å\n",
    "- Li top: frozen top 14.25 Å\n",
    "- Only interfacial region relaxed\n",
    "- Cell relaxation via `relax_cell=True` and `relax_cell_atoms=\"unconstrained\"`\n",
    "\n",
    "5. Outputs: (This will be decided later)\n",
    "- relaxed_[structure_name].cif\n",
    "- relaxed_[structure_name].traj\n",
    "- (Optional) relaxation_log.pkl with energies, forces\n",
    "\n",
    "6. Visual checks:\n",
    "- Compare pre- and post-relaxation structures\n",
    "- Ensure no Li diffusion into LLZO (via z-analysis)\n",
    "- Confirm convergence (fmax < 0.05 eV/Å)\n",
    "\n",
    "Author: Mehul Darak\n",
    "\n",
    "Date: 15-07-2025\n"
   ]
  },
  {
   "cell_type": "code",
   "execution_count": 2,
   "id": "b5ac03dd",
   "metadata": {},
   "outputs": [],
   "source": [
    "structure_name = \"LLZO_010_La_order0_off__Li_111_slab_heavy\""
   ]
  },
  {
   "cell_type": "code",
   "execution_count": 2,
   "id": "955e570d",
   "metadata": {},
   "outputs": [
    {
     "name": "stdout",
     "output_type": "stream",
     "text": [
      "- Structure: LLZO_010_La_order0_off__Li_111_slab_heavy\n",
      "- Initial lattice height: 73.06 Å\n",
      "- Number of atoms: 996\n"
     ]
    }
   ],
   "source": [
    "from pymatgen.core import Structure\n",
    "import os\n",
    "\n",
    "# Load structure\n",
    "structure_path = (f\"/home/mehuldarak/summer/llzo_li_balanced_sliced/{structure_name}.cif\")  # replace with your file\n",
    "structure = Structure.from_file(structure_path)\n",
    "\n",
    "# Extract info\n",
    "structure_name = os.path.basename(structure_path).replace(\".cif\", \"\")\n",
    "lattice_height = structure.lattice.c\n",
    "num_atoms = len(structure)\n",
    "\n",
    "# Print output\n",
    "print(f\"- Structure: {structure_name}\")\n",
    "print(f\"- Initial lattice height: {lattice_height:.2f} Å\")\n",
    "print(f\"- Number of atoms: {num_atoms}\")\n"
   ]
  },
  {
   "cell_type": "code",
   "execution_count": 3,
   "id": "1846f174",
   "metadata": {},
   "outputs": [
    {
     "name": "stdout",
     "output_type": "stream",
     "text": [
      "Li slab thickness: 19.25 Å\n",
      "Lowest Li slab atom: 38.81 Å\n",
      "LLZO top z: 34.81 Å\n",
      "Li penetration into LLZO: -4.00 Å\n"
     ]
    }
   ],
   "source": [
    "from pymatgen.core import Structure\n",
    "import numpy as np\n",
    "\n",
    "s = Structure.from_file(f\"/home/mehuldarak/summer/llzo_li_balanced_sliced/{structure_name}.cif\")\n",
    "\n",
    "# Get all atoms\n",
    "z_coords = np.array([site.z for site in s.sites])\n",
    "species = np.array([site.species_string for site in s.sites])\n",
    "\n",
    "# Estimate LLZO top (non-Li atoms)\n",
    "llzo_z = z_coords[species != \"Li\"]\n",
    "llzo_top = llzo_z.max()\n",
    "\n",
    "# Now isolate Li slab: Li atoms ABOVE LLZO\n",
    "li_slab_z = np.array([site.z for site in s.sites if site.species_string == \"Li\" and site.z > llzo_top])\n",
    "\n",
    "print(f\"Li slab thickness: {li_slab_z.ptp():.2f} Å\")\n",
    "print(f\"Lowest Li slab atom: {li_slab_z.min():.2f} Å\")\n",
    "print(f\"LLZO top z: {llzo_top:.2f} Å\")\n",
    "print(f\"Li penetration into LLZO: {llzo_top - li_slab_z.min():.2f} Å\")\n"
   ]
  },
  {
   "cell_type": "code",
   "execution_count": 3,
   "id": "ad50b778",
   "metadata": {},
   "outputs": [
    {
     "name": "stdout",
     "output_type": "stream",
     "text": [
      "LLZO slab thickness: 19.81 Å\n",
      "Li slab thickness:   19.25 Å\n",
      "LLZO top z:          34.81 Å\n",
      "Lowest Li atom z:    38.81 Å\n",
      "Li penetration into LLZO: -4.00 Å\n"
     ]
    }
   ],
   "source": [
    "from pymatgen.core import Structure\n",
    "import numpy as np\n",
    "\n",
    "# Load structure\n",
    "structure = Structure.from_file(f\"/home/mehuldarak/summer/llzo_li_balanced_sliced/{structure_name}.cif\")\n",
    "\n",
    "# Get z-coordinates and element types\n",
    "z_coords = np.array([site.z for site in structure.sites])\n",
    "species = np.array([site.species_string for site in structure.sites])\n",
    "\n",
    "# LLZO: non-Li atoms (La, Zr, O)\n",
    "llzo_z = z_coords[species != \"Li\"]\n",
    "llzo_top = llzo_z.max()\n",
    "llzo_bottom = llzo_z.min()\n",
    "llzo_thickness = llzo_top - llzo_bottom\n",
    "\n",
    "# Li slab: Li atoms ABOVE LLZO (i.e. in metallic Li layer)\n",
    "li_slab_z = np.array([\n",
    "    site.z for site in structure.sites\n",
    "    if site.species_string == \"Li\" and site.z > llzo_top\n",
    "])\n",
    "li_thickness = li_slab_z.ptp() if len(li_slab_z) > 0 else 0\n",
    "li_bottom = li_slab_z.min() if len(li_slab_z) > 0 else None\n",
    "\n",
    "# Penetration check\n",
    "penetration = llzo_top - li_bottom if li_bottom is not None else 0\n",
    "\n",
    "# Report\n",
    "print(f\"LLZO slab thickness: {llzo_thickness:.2f} Å\")\n",
    "print(f\"Li slab thickness:   {li_thickness:.2f} Å\")\n",
    "print(f\"LLZO top z:          {llzo_top:.2f} Å\")\n",
    "print(f\"Lowest Li atom z:    {li_bottom:.2f} Å\" if li_bottom else \"No Li slab atoms found\")\n",
    "print(f\"Li penetration into LLZO: {penetration:.2f} Å\")\n"
   ]
  },
  {
   "cell_type": "code",
   "execution_count": 4,
   "id": "9df87ad4",
   "metadata": {},
   "outputs": [
    {
     "name": "stdout",
     "output_type": "stream",
     "text": [
      "Freezing 751 atoms out of 996\n",
      "CHGNet v0.3.0 initialized with 412,525 parameters\n",
      "CHGNet will run on cuda\n"
     ]
    },
    {
     "name": "stderr",
     "output_type": "stream",
     "text": [
      "/tmp/ipykernel_167692/3870098642.py:27: FutureWarning: Please use atoms.calc = calc\n",
      "  structure.set_calculator(calc)\n"
     ]
    }
   ],
   "source": [
    "from pymatgen.io.ase import AseAtomsAdaptor\n",
    "from ase.constraints import FixAtoms\n",
    "from chgnet.model.dynamics import CHGNetCalculator, StructOptimizer\n",
    "from ase.io import read, write\n",
    "import numpy as np\n",
    "\n",
    "# --- Load structure ---\n",
    "structure = read(f\"/home/mehuldarak/summer/llzo_li_balanced_sliced/{structure_name}.cif\")\n",
    "\n",
    "# --- Get z coordinates ---\n",
    "z_coords = structure.get_positions()[:, 2]\n",
    "z_min, z_max = z_coords.min(), z_coords.max()\n",
    "\n",
    "# --- Define freeze zones ---\n",
    "freeze_thickness_llzo = 0.75 * (llzo_thickness)  # in Å\n",
    "freeze_thickness_li = 0.75 * (llzo_thickness)  # in Å\n",
    "llzo_z_threshold = z_min + freeze_thickness_llzo\n",
    "li_z_threshold = z_max - freeze_thickness_li\n",
    "\n",
    "# --- Freeze LLZO base and Li top ---\n",
    "freeze_mask = (z_coords < llzo_z_threshold) | (z_coords > li_z_threshold)\n",
    "structure.set_constraint(FixAtoms(mask=freeze_mask))\n",
    "print(f\"Freezing {np.sum(freeze_mask)} atoms out of {len(structure)}\")\n",
    "\n",
    "# --- Attach CHGNet calculator ---\n",
    "calc = CHGNetCalculator(use_device=\"cuda\")\n",
    "structure.set_calculator(calc)"
   ]
  },
  {
   "cell_type": "code",
   "execution_count": 6,
   "id": "7579efc8",
   "metadata": {},
   "outputs": [
    {
     "name": "stdout",
     "output_type": "stream",
     "text": [
      "             Step     Time          Energy          fmax\n",
      "SciPyFminCG:    0 15:47:46    -2439.515436        3.883504\n",
      "SciPyFminCG:    1 15:47:50    -2456.116370        2.844161\n",
      "SciPyFminCG:    2 15:47:55    -2479.030071        2.189074\n",
      "SciPyFminCG:    3 15:48:00    -2501.377419        1.884531\n",
      "SciPyFminCG:    4 15:48:04    -2506.587161        2.320475\n",
      "SciPyFminCG:    5 15:48:07    -2508.593502        1.340279\n",
      "SciPyFminCG:    6 15:48:10    -2509.449326        1.061292\n",
      "SciPyFminCG:    7 15:48:15    -2510.251007        0.782037\n",
      "SciPyFminCG:    8 15:48:19    -2511.021818        0.926525\n",
      "SciPyFminCG:    9 15:48:22    -2511.984026        1.812991\n",
      "SciPyFminCG:   10 15:48:26    -2512.788082        1.862383\n",
      "SciPyFminCG:   11 15:48:29    -2513.975882        1.267841\n",
      "SciPyFminCG:   12 15:48:34    -2515.067508        1.042040\n",
      "SciPyFminCG:   13 15:48:38    -2515.776815        1.506717\n",
      "SciPyFminCG:   14 15:48:41    -2516.713377        1.505249\n",
      "SciPyFminCG:   15 15:48:45    -2517.157436        1.281138\n",
      "SciPyFminCG:   16 15:48:48    -2518.439984        1.218212\n",
      "SciPyFminCG:   17 15:48:52    -2519.337839        1.102125\n",
      "SciPyFminCG:   18 15:48:55    -2520.258253        1.194459\n",
      "SciPyFminCG:   19 15:48:58    -2521.467424        1.393634\n",
      "SciPyFminCG:   20 15:49:01    -2522.181244        2.967208\n",
      "SciPyFminCG:   21 15:49:05    -2523.469016        2.205702\n",
      "SciPyFminCG:   22 15:49:08    -2524.967657        1.483967\n",
      "SciPyFminCG:   23 15:49:12    -2526.082317        1.200501\n",
      "SciPyFminCG:   24 15:49:15    -2527.047375        1.376915\n",
      "SciPyFminCG:   25 15:49:19    -2527.826735        1.684030\n",
      "SciPyFminCG:   26 15:49:22    -2528.676384        1.776002\n",
      "SciPyFminCG:   27 15:49:26    -2530.030409        1.463446\n",
      "SciPyFminCG:   28 15:49:29    -2531.540686        1.478496\n",
      "SciPyFminCG:   29 15:49:33    -2533.284390        1.763796\n",
      "SciPyFminCG:   30 15:49:36    -2535.074163        2.130613\n",
      "SciPyFminCG:   31 15:49:40    -2536.448610        2.041860\n",
      "SciPyFminCG:   32 15:49:43    -2538.761044        1.394492\n",
      "SciPyFminCG:   33 15:49:46    -2540.434934        1.151112\n",
      "SciPyFminCG:   34 15:49:50    -2541.851412        1.362635\n",
      "SciPyFminCG:   35 15:49:53    -2543.025913        1.247412\n",
      "SciPyFminCG:   36 15:49:57    -2544.155296        1.009583\n",
      "SciPyFminCG:   37 15:50:00    -2545.309376        1.462602\n",
      "SciPyFminCG:   38 15:50:04    -2546.611158        1.618070\n",
      "SciPyFminCG:   39 15:50:07    -2547.964233        1.414381\n",
      "SciPyFminCG:   40 15:50:11    -2548.901745        1.407911\n",
      "SciPyFminCG:   41 15:50:14    -2549.831895        1.549966\n",
      "SciPyFminCG:   42 15:50:18    -2550.639038        1.261536\n",
      "SciPyFminCG:   43 15:50:21    -2551.324362        1.071457\n",
      "SciPyFminCG:   44 15:50:25    -2552.049580        1.008338\n",
      "SciPyFminCG:   45 15:50:28    -2552.686698        1.264892\n",
      "SciPyFminCG:   46 15:50:31    -2553.341626        1.224518\n",
      "SciPyFminCG:   47 15:50:35    -2553.879009        0.895217\n",
      "SciPyFminCG:   48 15:50:38    -2554.451775        0.828045\n",
      "SciPyFminCG:   49 15:50:41    -2554.969923        1.157070\n",
      "SciPyFminCG:   50 15:50:45    -2555.522266        1.081059\n",
      "SciPyFminCG:   51 15:50:48    -2555.997196        1.044250\n",
      "SciPyFminCG:   52 15:50:52    -2556.515820        1.188180\n",
      "SciPyFminCG:   53 15:50:55    -2557.020195        1.055583\n",
      "SciPyFminCG:   54 15:50:58    -2557.405838        0.793859\n",
      "SciPyFminCG:   55 15:51:02    -2557.778658        0.849991\n",
      "SciPyFminCG:   56 15:51:05    -2558.138180        0.863029\n",
      "SciPyFminCG:   57 15:51:09    -2558.538546        1.266983\n",
      "SciPyFminCG:   58 15:51:12    -2558.898542        0.920879\n",
      "SciPyFminCG:   59 15:51:16    -2559.341177        0.794012\n",
      "SciPyFminCG:   60 15:51:19    -2559.776688        1.398370\n",
      "SciPyFminCG:   61 15:51:23    -2560.100827        1.031720\n",
      "SciPyFminCG:   62 15:51:25    -2560.440639        0.917099\n",
      "SciPyFminCG:   63 15:51:29    -2560.826283        1.338116\n",
      "SciPyFminCG:   64 15:51:32    -2561.076808        0.615375\n",
      "SciPyFminCG:   65 15:51:36    -2561.249920        0.690566\n",
      "SciPyFminCG:   66 15:51:39    -2561.402610        0.755416\n",
      "SciPyFminCG:   67 15:51:43    -2561.528704        0.613374\n",
      "SciPyFminCG:   68 15:51:46    -2561.669283        0.866585\n",
      "SciPyFminCG:   69 15:51:49    -2561.786116        0.596041\n",
      "SciPyFminCG:   70 15:51:53    -2561.961365        0.557332\n",
      "SciPyFminCG:   71 15:51:56    -2562.122841        0.875279\n",
      "SciPyFminCG:   72 15:52:00    -2562.305451        0.611578\n",
      "SciPyFminCG:   73 15:52:03    -2562.475239        0.567725\n",
      "SciPyFminCG:   74 15:52:07    -2562.692994        0.864049\n",
      "SciPyFminCG:   75 15:52:10    -2562.890090        0.642986\n",
      "SciPyFminCG:   76 15:52:13    -2563.088848        0.657307\n",
      "SciPyFminCG:   77 15:52:18    -2563.246287        0.601725\n",
      "SciPyFminCG:   78 15:52:22    -2563.454544        0.731261\n",
      "SciPyFminCG:   79 15:52:25    -2563.773222        0.517807\n",
      "SciPyFminCG:   80 15:52:29    -2563.984566        0.861277\n",
      "SciPyFminCG:   81 15:52:32    -2564.125857        0.588526\n",
      "SciPyFminCG:   82 15:52:35    -2564.316542        0.435200\n",
      "SciPyFminCG:   83 15:52:39    -2564.456171        0.646154\n",
      "SciPyFminCG:   84 15:52:42    -2564.587964        0.420160\n",
      "SciPyFminCG:   85 15:52:46    -2564.705509        0.564262\n",
      "SciPyFminCG:   86 15:52:49    -2564.798358        0.655820\n",
      "SciPyFminCG:   87 15:52:53    -2564.872684        0.630240\n",
      "SciPyFminCG:   88 15:52:56    -2565.029886        0.671353\n",
      "SciPyFminCG:   89 15:52:59    -2565.153843        0.724435\n",
      "SciPyFminCG:   90 15:53:02    -2565.240755        0.577765\n",
      "SciPyFminCG:   91 15:53:06    -2565.321018        0.435568\n",
      "SciPyFminCG:   92 15:53:09    -2565.388933        0.281569\n",
      "SciPyFminCG:   93 15:53:13    -2565.443550        0.475510\n",
      "SciPyFminCG:   94 15:53:18    -2565.493418        0.418688\n",
      "SciPyFminCG:   95 15:53:21    -2565.549934        0.306762\n",
      "SciPyFminCG:   96 15:53:24    -2565.604789        0.534232\n",
      "SciPyFminCG:   97 15:53:28    -2565.656319        0.537730\n",
      "SciPyFminCG:   98 15:53:31    -2565.705711        0.429179\n",
      "SciPyFminCG:   99 15:53:35    -2565.778376        0.530947\n",
      "SciPyFminCG:  100 15:53:38    -2565.844391        0.388464\n",
      "SciPyFminCG:  101 15:53:41    -2565.889272        0.368606\n",
      "SciPyFminCG:  102 15:53:45    -2565.960749        0.341951\n",
      "SciPyFminCG:  103 15:53:48    -2566.021065        0.269126\n",
      "SciPyFminCG:  104 15:53:52    -2566.069033        0.364678\n",
      "SciPyFminCG:  105 15:53:55    -2566.121275        0.282988\n",
      "SciPyFminCG:  106 15:54:00    -2566.178267        0.254927\n",
      "SciPyFminCG:  107 15:54:04    -2566.235733        0.291146\n",
      "SciPyFminCG:  108 15:54:07    -2566.288925        0.332096\n",
      "SciPyFminCG:  109 15:54:11    -2566.340693        0.445240\n",
      "SciPyFminCG:  110 15:54:16    -2566.373938        0.343644\n",
      "SciPyFminCG:  111 15:54:19    -2566.432591        0.363546\n",
      "SciPyFminCG:  112 15:54:23    -2566.470586        0.250593\n",
      "SciPyFminCG:  113 15:54:25    -2566.503593        0.278420\n",
      "SciPyFminCG:  114 15:54:31    -2566.527340        0.177497\n",
      "SciPyFminCG:  115 15:54:34    -2566.545862        0.264059\n",
      "SciPyFminCG:  116 15:54:37    -2566.561535        0.193237\n",
      "SciPyFminCG:  117 15:54:42    -2566.583382        0.192945\n",
      "SciPyFminCG:  118 15:54:46    -2566.602141        0.225719\n",
      "SciPyFminCG:  119 15:54:49    -2566.621851        0.373727\n",
      "SciPyFminCG:  120 15:54:53    -2566.636574        0.256329\n",
      "SciPyFminCG:  121 15:54:56    -2566.665070        0.325831\n",
      "SciPyFminCG:  122 15:55:00    -2566.682642        0.285327\n",
      "SciPyFminCG:  123 15:55:05    -2566.697602        0.146931\n"
     ]
    }
   ],
   "source": [
    "# Stage 1: CG\n",
    "opt1 = StructOptimizer(model=calc, optimizer_class=\"SciPyFminCG\", use_device=\"cuda\")\n",
    "result1 = opt1.relax(structure, fmax=0.15, steps=300, relax_cell=False, verbose=True)"
   ]
  },
  {
   "cell_type": "code",
   "execution_count": 7,
   "id": "9900c903",
   "metadata": {},
   "outputs": [
    {
     "name": "stderr",
     "output_type": "stream",
     "text": [
      "/tmp/ipykernel_160920/3154571052.py:3: FutureWarning: Please use atoms.calc = calc\n",
      "  structure_1.set_calculator(calc)\n"
     ]
    },
    {
     "name": "stdout",
     "output_type": "stream",
     "text": [
      "      Step     Time          Energy          fmax\n",
      "FIRE:    0 15:55:06    -2566.698077        0.146926\n",
      "FIRE:    1 15:55:08    -2566.702114        0.121293\n",
      "FIRE:    2 15:55:10    -2566.708763        0.128965\n",
      "FIRE:    3 15:55:11    -2566.711613        0.149593\n",
      "FIRE:    4 15:55:13    -2566.716362        0.161427\n",
      "FIRE:    5 15:55:15    -2566.721586        0.173094\n",
      "FIRE:    6 15:55:16    -2566.726336        0.149902\n",
      "FIRE:    7 15:55:18    -2566.734884        0.108679\n",
      "FIRE:    8 15:55:20    -2566.743196        0.096343\n",
      "FIRE:    9 15:55:21    -2566.754356        0.091307\n",
      "FIRE:   10 15:55:23    -2566.765280        0.122842\n",
      "FIRE:   11 15:55:25    -2566.781902        0.186422\n",
      "FIRE:   12 15:55:27    -2566.801374        0.141012\n",
      "FIRE:   13 15:55:28    -2566.823934        0.106652\n",
      "FIRE:   14 15:55:30    -2566.849817        0.182550\n",
      "FIRE:   15 15:55:32    -2566.885912        0.243914\n",
      "FIRE:   16 15:55:33    -2566.927706        0.293732\n",
      "FIRE:   17 15:55:35    -2566.961426        0.429017\n",
      "FIRE:   18 15:55:37    -2566.983035        0.297899\n",
      "FIRE:   19 15:55:39    -2566.990159        0.381711\n",
      "FIRE:   20 15:55:40    -2566.993721        0.358297\n",
      "FIRE:   21 15:55:42    -2566.998945        0.230666\n",
      "FIRE:   22 15:55:44    -2567.002270        0.139451\n",
      "FIRE:   23 15:55:45    -2567.003695        0.244876\n",
      "FIRE:   24 15:55:47    -2567.006544        0.288975\n",
      "FIRE:   25 15:55:49    -2567.010818        0.270782\n",
      "FIRE:   26 15:55:51    -2567.016518        0.184491\n",
      "FIRE:   27 15:55:52    -2567.023167        0.106489\n",
      "FIRE:   28 15:55:54    -2567.027916        0.262784\n",
      "FIRE:   29 15:55:56    -2567.034565        0.252012\n",
      "FIRE:   30 15:55:57    -2567.043114        0.108822\n",
      "FIRE:   31 15:55:59    -2567.052137        0.192109\n",
      "FIRE:   32 15:56:01    -2567.061636        0.133129\n",
      "FIRE:   33 15:56:02    -2567.073509        0.169910\n",
      "FIRE:   34 15:56:04    -2567.087757        0.148610\n",
      "FIRE:   35 15:56:06    -2567.101293        0.194432\n",
      "FIRE:   36 15:56:07    -2567.121477        0.117947\n",
      "FIRE:   37 15:56:09    -2567.141424        0.254243\n",
      "FIRE:   38 15:56:11    -2567.164933        0.350435\n",
      "FIRE:   39 15:56:13    -2567.192242        0.369261\n",
      "FIRE:   40 15:56:14    -2567.211239        0.460560\n",
      "FIRE:   41 15:56:16    -2567.222637        0.186817\n",
      "FIRE:   42 15:56:18    -2567.222162        0.409171\n",
      "FIRE:   43 15:56:20    -2567.225249        0.324397\n",
      "FIRE:   44 15:56:21    -2567.228336        0.149932\n",
      "FIRE:   45 15:56:23    -2567.230711        0.086854\n",
      "FIRE:   46 15:56:25    -2567.229999        0.225423\n",
      "FIRE:   47 15:56:26    -2567.231661        0.213485\n",
      "FIRE:   48 15:56:28    -2567.231661        0.189613\n",
      "FIRE:   49 15:56:30    -2567.232611        0.153728\n",
      "FIRE:   50 15:56:32    -2567.232136        0.108190\n",
      "FIRE:   51 15:56:33    -2567.233561        0.079809\n",
      "FIRE:   52 15:56:35    -2567.233798        0.079624\n",
      "FIRE:   53 15:56:36    -2567.234985        0.079435\n",
      "FIRE:   54 15:56:38    -2567.235460        0.097662\n",
      "FIRE:   55 15:56:40    -2567.236648        0.128088\n",
      "FIRE:   56 15:56:41    -2567.236885        0.135974\n",
      "FIRE:   57 15:56:43    -2567.238785        0.116205\n",
      "FIRE:   58 15:56:45    -2567.240447        0.079388\n",
      "FIRE:   59 15:56:47    -2567.242109        0.079678\n",
      "FIRE:   60 15:56:48    -2567.244484        0.080381\n",
      "FIRE:   61 15:56:50    -2567.246859        0.103418\n",
      "FIRE:   62 15:56:52    -2567.250896        0.084112\n",
      "FIRE:   63 15:56:54    -2567.254932        0.086104\n",
      "FIRE:   64 15:56:55    -2567.259207        0.093082\n",
      "FIRE:   65 15:56:57    -2567.263006        0.088410\n",
      "FIRE:   66 15:56:59    -2567.269180        0.108281\n",
      "FIRE:   67 15:57:00    -2567.275117        0.090563\n",
      "FIRE:   68 15:57:02    -2567.283428        0.092425\n",
      "FIRE:   69 15:57:04    -2567.292214        0.092195\n",
      "FIRE:   70 15:57:06    -2567.305275        0.092665\n",
      "FIRE:   71 15:57:07    -2567.318098        0.083538\n",
      "FIRE:   72 15:57:09    -2567.332821        0.099273\n",
      "FIRE:   73 15:57:11    -2567.349681        0.147909\n",
      "FIRE:   74 15:57:12    -2567.365354        0.315373\n",
      "FIRE:   75 15:57:14    -2567.370815        0.748224\n",
      "FIRE:   76 15:57:16    -2567.391237        0.137566\n",
      "FIRE:   77 15:57:17    -2567.381739        0.571625\n",
      "FIRE:   78 15:57:19    -2567.386013        0.470530\n",
      "FIRE:   79 15:57:21    -2567.392425        0.287038\n",
      "FIRE:   80 15:57:22    -2567.395512        0.101430\n",
      "FIRE:   81 15:57:24    -2567.395274        0.094990\n",
      "FIRE:   82 15:57:26    -2567.395987        0.082630\n",
      "FIRE:   83 15:57:28    -2567.395987        0.079621\n",
      "FIRE:   84 15:57:29    -2567.395512        0.081599\n",
      "FIRE:   85 15:57:31    -2567.396936        0.084026\n",
      "FIRE:   86 15:57:33    -2567.396936        0.086494\n",
      "FIRE:   87 15:57:35    -2567.397411        0.088631\n",
      "FIRE:   88 15:57:36    -2567.398361        0.090062\n",
      "FIRE:   89 15:57:38    -2567.399074        0.090552\n",
      "FIRE:   90 15:57:40    -2567.400261        0.091471\n",
      "FIRE:   91 15:57:41    -2567.400736        0.095610\n",
      "FIRE:   92 15:57:43    -2567.402636        0.101980\n",
      "FIRE:   93 15:57:45    -2567.403111        0.101537\n",
      "FIRE:   94 15:57:47    -2567.405485        0.085151\n",
      "FIRE:   95 15:57:48    -2567.407860        0.067606\n",
      "FIRE:   96 15:57:50    -2567.410709        0.058911\n",
      "FIRE:   97 15:57:52    -2567.413084        0.051674\n",
      "FIRE:   98 15:57:53    -2567.417358        0.049629\n"
     ]
    }
   ],
   "source": [
    "# Convert back, assign calculator + constraint\n",
    "structure_1 = AseAtomsAdaptor.get_atoms(result1[\"final_structure\"])\n",
    "structure_1.set_calculator(calc)\n",
    "structure_1.set_constraint(FixAtoms(mask=freeze_mask))\n",
    "\n",
    "# Stage 2: FIRE\n",
    "opt2 = StructOptimizer(model=calc, optimizer_class=\"FIRE\", use_device=\"cuda\")\n",
    "result2 = opt2.relax(structure_1, fmax=0.05, steps=400, relax_cell=False, verbose=True)"
   ]
  },
  {
   "cell_type": "code",
   "execution_count": 8,
   "id": "02e25f8e",
   "metadata": {},
   "outputs": [
    {
     "name": "stdout",
     "output_type": "stream",
     "text": [
      "✅ Final structure saved successfully.\n"
     ]
    }
   ],
   "source": [
    "from pymatgen.io.ase import AseAtomsAdaptor\n",
    "from ase.io import write\n",
    "\n",
    "# Extract final structure from result3 (FIRE)\n",
    "final_structure_pmg = result2[\"final_structure\"]  # assuming result2 = FIRE\n",
    "final_structure_ase = AseAtomsAdaptor.get_atoms(final_structure_pmg)\n",
    "\n",
    "# Save as CIF and ASE trajectory\n",
    "write(f\"relaxed_{structure_name}.cif\", final_structure_ase)\n",
    "write(f\"relaxed_{structure_name}.traj\", final_structure_ase)\n",
    "\n",
    "print(\"✅ Final structure saved successfully.\")"
   ]
  },
  {
   "cell_type": "code",
   "execution_count": 9,
   "id": "179da561",
   "metadata": {},
   "outputs": [
    {
     "name": "stdout",
     "output_type": "stream",
     "text": [
      "Li slab thickness: 23.29 Å\n",
      "Lowest Li slab atom: 34.77 Å\n",
      "LLZO top z: 34.45 Å\n",
      "Li penetration into LLZO: -0.32 Å\n"
     ]
    }
   ],
   "source": [
    "from pymatgen.core import Structure\n",
    "import numpy as np\n",
    "\n",
    "s = Structure.from_file(f\"/home/mehuldarak/summer/relax_final/{structure_name}/relaxed_{structure_name}.cif\")\n",
    "\n",
    "# Get all atoms\n",
    "z_coords = np.array([site.z for site in s.sites])\n",
    "species = np.array([site.species_string for site in s.sites])\n",
    "\n",
    "# Estimate LLZO top (non-Li atoms)\n",
    "llzo_z = z_coords[species != \"Li\"]\n",
    "llzo_top = llzo_z.max()\n",
    "\n",
    "# Now isolate Li slab: Li atoms ABOVE LLZO\n",
    "li_slab_z = np.array([site.z for site in s.sites if site.species_string == \"Li\" and site.z > llzo_top])\n",
    "\n",
    "print(f\"Li slab thickness: {li_slab_z.ptp():.2f} Å\")\n",
    "print(f\"Lowest Li slab atom: {li_slab_z.min():.2f} Å\")\n",
    "print(f\"LLZO top z: {llzo_top:.2f} Å\")\n",
    "print(f\"Li penetration into LLZO: {llzo_top - li_slab_z.min():.2f} Å\")\n"
   ]
  },
  {
   "cell_type": "code",
   "execution_count": 5,
   "id": "5d3853c1",
   "metadata": {},
   "outputs": [
    {
     "name": "stdout",
     "output_type": "stream",
     "text": [
      "             Step     Time          Energy          fmax\n",
      "SciPyFminCG:    0 16:45:03    -2567.417358        3.865265\n",
      "SciPyFminCG:    1 16:45:07    -2593.323830        4.884127\n",
      "SciPyFminCG:    2 16:45:10    -2619.233625        5.405836\n",
      "SciPyFminCG:    3 16:45:13    -2649.069428        5.895391\n",
      "SciPyFminCG:    4 16:45:17    -2673.479633        5.511427\n",
      "SciPyFminCG:    5 16:45:20    -2696.921219        3.401116\n",
      "SciPyFminCG:    6 16:45:23    -2712.229156        2.519426\n",
      "SciPyFminCG:    7 16:45:26    -2720.459215        3.598322\n",
      "SciPyFminCG:    8 16:45:29    -2730.370050        3.113131\n",
      "SciPyFminCG:    9 16:45:33    -2740.961935        4.450985\n",
      "SciPyFminCG:   10 16:45:34    -2745.326065        3.581830\n",
      "SciPyFminCG:   11 16:45:37    -2753.624039        2.391411\n",
      "SciPyFminCG:   12 16:45:40    -2757.822893        1.691708\n",
      "SciPyFminCG:   13 16:45:44    -2761.221491        2.470535\n",
      "SciPyFminCG:   14 16:45:47    -2764.899822        1.550924\n",
      "SciPyFminCG:   15 16:45:50    -2768.414065        1.736087\n",
      "SciPyFminCG:   16 16:45:53    -2771.371928        1.633727\n",
      "SciPyFminCG:   17 16:45:56    -2774.720896        1.734455\n",
      "SciPyFminCG:   18 16:45:59    -2778.178622        1.370904\n",
      "SciPyFminCG:   19 16:46:04    -2782.338770        1.273086\n",
      "SciPyFminCG:   20 16:46:07    -2785.454784        2.008879\n",
      "SciPyFminCG:   21 16:46:10    -2789.531582        1.776518\n",
      "SciPyFminCG:   22 16:46:13    -2793.326746        1.291214\n",
      "SciPyFminCG:   23 16:46:16    -2795.877357        0.922281\n",
      "SciPyFminCG:   24 16:46:19    -2797.797260        1.036134\n",
      "SciPyFminCG:   25 16:46:22    -2799.340782        0.914670\n",
      "SciPyFminCG:   26 16:46:25    -2800.804041        0.757024\n",
      "SciPyFminCG:   27 16:46:28    -2802.105586        0.845912\n",
      "SciPyFminCG:   28 16:46:31    -2803.257528        0.945785\n",
      "SciPyFminCG:   29 16:46:34    -2804.419682        0.804928\n",
      "SciPyFminCG:   30 16:46:37    -2805.527218        0.908397\n",
      "SciPyFminCG:   31 16:46:40    -2806.614807        1.513354\n",
      "SciPyFminCG:   32 16:46:43    -2807.917065        0.993180\n",
      "SciPyFminCG:   33 16:46:46    -2809.112938        1.037168\n",
      "SciPyFminCG:   34 16:46:49    -2810.487385        1.185271\n",
      "SciPyFminCG:   35 16:46:52    -2811.939720        1.159599\n",
      "SciPyFminCG:   36 16:46:55    -2813.492266        1.016423\n",
      "SciPyFminCG:   37 16:46:58    -2815.075682        1.041272\n",
      "SciPyFminCG:   38 16:47:01    -2816.294352        1.051103\n",
      "SciPyFminCG:   39 16:47:04    -2817.224264        1.167068\n",
      "SciPyFminCG:   40 16:47:07    -2818.259136        0.795706\n",
      "SciPyFminCG:   41 16:47:10    -2819.081715        1.003020\n",
      "SciPyFminCG:   42 16:47:13    -2819.787223        0.761455\n",
      "SciPyFminCG:   43 16:47:16    -2820.582968        0.787901\n",
      "SciPyFminCG:   44 16:47:19    -2821.276365        0.683714\n",
      "SciPyFminCG:   45 16:47:22    -2821.930106        0.780376\n",
      "SciPyFminCG:   46 16:47:25    -2822.640364        0.699555\n",
      "SciPyFminCG:   47 16:47:28    -2823.537981        0.828796\n",
      "SciPyFminCG:   48 16:47:32    -2824.942111        1.260413\n",
      "SciPyFminCG:   49 16:47:35    -2826.766079        1.383107\n",
      "SciPyFminCG:   50 16:47:38    -2828.977352        1.431121\n",
      "SciPyFminCG:   51 16:47:41    -2832.199276        1.335566\n",
      "SciPyFminCG:   52 16:47:44    -2835.588375        1.421946\n",
      "SciPyFminCG:   53 16:47:47    -2838.412308        1.145577\n",
      "SciPyFminCG:   54 16:47:50    -2840.577988        0.960401\n",
      "SciPyFminCG:   55 16:47:53    -2842.342827        1.030320\n",
      "SciPyFminCG:   56 16:47:56    -2843.767616        0.894527\n",
      "SciPyFminCG:   57 16:47:59    -2844.875153        0.779973\n",
      "SciPyFminCG:   58 16:48:02    -2845.826437        0.668305\n",
      "SciPyFminCG:   59 16:48:05    -2846.625269        0.834679\n",
      "SciPyFminCG:   60 16:48:08    -2847.346450        0.686871\n",
      "SciPyFminCG:   61 16:48:11    -2847.998291        0.763779\n",
      "SciPyFminCG:   62 16:48:14    -2848.603352        0.745794\n",
      "SciPyFminCG:   63 16:48:17    -2849.178967        0.594858\n",
      "SciPyFminCG:   64 16:48:20    -2849.755769        0.620268\n",
      "SciPyFminCG:   65 16:48:23    -2850.234735        0.566928\n",
      "SciPyFminCG:   66 16:48:26    -2850.676895        0.481763\n",
      "SciPyFminCG:   67 16:48:28    -2851.054939        0.864668\n",
      "SciPyFminCG:   68 16:48:32    -2851.408762        0.559707\n",
      "SciPyFminCG:   69 16:48:35    -2851.879417        0.808392\n",
      "SciPyFminCG:   70 16:48:38    -2852.376431        0.843550\n",
      "SciPyFminCG:   71 16:48:40    -2852.860385        0.770516\n",
      "SciPyFminCG:   72 16:48:44    -2853.560194        1.368849\n",
      "SciPyFminCG:   73 16:48:47    -2854.167154        1.120736\n",
      "SciPyFminCG:   74 16:48:49    -2854.933928        1.045060\n",
      "SciPyFminCG:   75 16:48:53    -2855.612841        0.809547\n",
      "SciPyFminCG:   76 16:48:56    -2856.246872        0.735436\n",
      "SciPyFminCG:   77 16:48:58    -2856.786630        0.640392\n",
      "SciPyFminCG:   78 16:49:01    -2857.295042        0.691728\n",
      "SciPyFminCG:   79 16:49:04    -2857.774246        0.785711\n",
      "SciPyFminCG:   80 16:49:07    -2858.278859        0.788956\n",
      "SciPyFminCG:   81 16:49:10    -2858.755214        0.906474\n",
      "SciPyFminCG:   82 16:49:13    -2859.234180        0.843603\n",
      "SciPyFminCG:   83 16:49:16    -2859.650694        0.729789\n",
      "SciPyFminCG:   84 16:49:19    -2860.137497        0.981805\n",
      "SciPyFminCG:   85 16:49:22    -2860.729497        1.084391\n",
      "SciPyFminCG:   86 16:49:25    -2861.204427        0.968176\n",
      "SciPyFminCG:   87 16:49:28    -2862.056688        1.297484\n",
      "SciPyFminCG:   88 16:49:31    -2862.903013        1.120899\n",
      "SciPyFminCG:   89 16:49:34    -2863.743402        1.046647\n",
      "SciPyFminCG:   90 16:49:37    -2864.477880        0.849071\n",
      "SciPyFminCG:   91 16:49:40    -2865.067031        1.151794\n",
      "SciPyFminCG:   92 16:49:42    -2865.800797        1.281433\n",
      "SciPyFminCG:   93 16:49:45    -2866.479710        1.641984\n",
      "SciPyFminCG:   94 16:49:48    -2867.246246        1.102867\n",
      "SciPyFminCG:   95 16:49:51    -2868.034155        1.656544\n",
      "SciPyFminCG:   96 16:49:54    -2868.771483        1.316965\n",
      "SciPyFminCG:   97 16:49:57    -2869.635856        1.159162\n",
      "SciPyFminCG:   98 16:50:00    -2870.361786        1.094606\n",
      "SciPyFminCG:   99 16:50:03    -2871.141621        1.319604\n",
      "SciPyFminCG:  100 16:50:06    -2871.879662        1.275158\n",
      "SciPyFminCG:  101 16:50:09    -2872.527941        0.885820\n",
      "SciPyFminCG:  102 16:50:12    -2873.055350        0.831375\n",
      "SciPyFminCG:  103 16:50:15    -2873.649013        0.638874\n",
      "SciPyFminCG:  104 16:50:17    -2874.201118        0.734735\n",
      "SciPyFminCG:  105 16:50:20    -2874.773884        0.840374\n",
      "SciPyFminCG:  106 16:50:23    -2875.377045        0.823513\n",
      "SciPyFminCG:  107 16:50:26    -2875.971894        0.846185\n",
      "SciPyFminCG:  108 16:50:29    -2876.523050        1.027652\n",
      "SciPyFminCG:  109 16:50:32    -2877.016027        0.939584\n",
      "SciPyFminCG:  110 16:50:35    -2877.563859        0.896399\n",
      "SciPyFminCG:  111 16:50:38    -2878.081532        0.733623\n",
      "SciPyFminCG:  112 16:50:41    -2878.552425        0.804564\n",
      "SciPyFminCG:  113 16:50:44    -2878.943293        0.836122\n",
      "SciPyFminCG:  114 16:50:47    -2879.291891        0.746279\n",
      "SciPyFminCG:  115 16:50:49    -2879.572575        0.739946\n",
      "SciPyFminCG:  116 16:50:52    -2879.886503        1.122682\n",
      "SciPyFminCG:  117 16:50:55    -2880.273808        1.001548\n",
      "SciPyFminCG:  118 16:50:58    -2880.821403        0.930724\n",
      "SciPyFminCG:  119 16:51:01    -2881.248602        1.176097\n",
      "SciPyFminCG:  120 16:51:04    -2881.768650        0.976560\n",
      "SciPyFminCG:  121 16:51:07    -2882.311970        1.132523\n",
      "SciPyFminCG:  122 16:51:10    -2882.785237        1.263255\n",
      "SciPyFminCG:  123 16:51:12    -2883.287951        0.817334\n",
      "SciPyFminCG:  124 16:51:15    -2883.750295        0.800339\n",
      "SciPyFminCG:  125 16:51:18    -2884.090344        0.984410\n",
      "SciPyFminCG:  126 16:51:21    -2884.527042        0.828058\n",
      "SciPyFminCG:  127 16:51:24    -2884.963265        0.770104\n",
      "SciPyFminCG:  128 16:51:26    -2885.358170        1.151867\n",
      "SciPyFminCG:  129 16:51:29    -2885.715079        0.690196\n",
      "SciPyFminCG:  130 16:51:33    -2886.005736        0.733435\n",
      "SciPyFminCG:  131 16:51:36    -2886.307792        0.876361\n",
      "SciPyFminCG:  132 16:51:39    -2886.618396        0.677535\n",
      "SciPyFminCG:  133 16:51:42    -2886.983142        1.011886\n",
      "SciPyFminCG:  134 16:51:45    -2887.375434        0.847708\n",
      "SciPyFminCG:  135 16:51:48    -2887.749916        0.920213\n",
      "SciPyFminCG:  136 16:51:51    -2888.132947        0.788442\n",
      "SciPyFminCG:  137 16:51:54    -2888.426454        1.173920\n",
      "SciPyFminCG:  138 16:51:56    -2888.746556        0.688750\n",
      "SciPyFminCG:  139 16:51:59    -2889.082094        1.017222\n",
      "SciPyFminCG:  140 16:52:02    -2889.429030        1.220407\n",
      "SciPyFminCG:  141 16:52:05    -2889.739397        0.948145\n",
      "SciPyFminCG:  142 16:52:08    -2890.098444        0.879461\n",
      "SciPyFminCG:  143 16:52:10    -2890.428045        1.077792\n",
      "SciPyFminCG:  144 16:52:13    -2890.754797        0.876498\n",
      "SciPyFminCG:  145 16:52:16    -2891.092947        0.806017\n",
      "SciPyFminCG:  146 16:52:19    -2891.404976        1.055077\n",
      "SciPyFminCG:  147 16:52:21    -2891.733627        0.695303\n",
      "SciPyFminCG:  148 16:52:24    -2892.025709        0.961987\n",
      "SciPyFminCG:  149 16:52:27    -2892.301643        1.093338\n",
      "SciPyFminCG:  150 16:52:30    -2892.586126        0.827108\n",
      "SciPyFminCG:  151 16:52:33    -2892.899580        0.954799\n",
      "SciPyFminCG:  152 16:52:35    -2893.127546        0.932101\n",
      "SciPyFminCG:  153 16:52:38    -2893.357175        0.736394\n",
      "SciPyFminCG:  154 16:52:41    -2893.665167        1.062009\n",
      "SciPyFminCG:  155 16:52:44    -2894.042736        0.897533\n",
      "SciPyFminCG:  156 16:52:47    -2894.470648        1.079915\n",
      "SciPyFminCG:  157 16:52:49    -2894.959826        0.738933\n",
      "SciPyFminCG:  158 16:52:52    -2895.341432        1.060062\n",
      "SciPyFminCG:  159 16:52:55    -2895.708790        0.934797\n",
      "SciPyFminCG:  160 16:52:58    -2896.059763        0.552891\n",
      "SciPyFminCG:  161 16:53:01    -2896.342821        0.913067\n",
      "SciPyFminCG:  162 16:53:03    -2896.643214        0.734349\n",
      "SciPyFminCG:  163 16:53:06    -2896.975428        0.689446\n",
      "SciPyFminCG:  164 16:53:09    -2897.288644        0.962799\n",
      "SciPyFminCG:  165 16:53:12    -2897.538457        0.633655\n",
      "SciPyFminCG:  166 16:53:15    -2897.802280        0.691043\n",
      "SciPyFminCG:  167 16:53:17    -2898.108373        0.723359\n",
      "SciPyFminCG:  168 16:53:20    -2898.400929        0.805114\n",
      "SciPyFminCG:  169 16:53:23    -2898.735518        0.709309\n",
      "SciPyFminCG:  170 16:53:26    -2899.031874        0.989640\n",
      "SciPyFminCG:  171 16:53:28    -2899.231819        0.826143\n",
      "SciPyFminCG:  172 16:53:31    -2899.683002        1.055125\n",
      "SciPyFminCG:  173 16:53:34    -2900.114239        0.934825\n",
      "SciPyFminCG:  174 16:53:36    -2900.546425        1.184225\n",
      "SciPyFminCG:  175 16:53:39    -2901.021355        0.830310\n",
      "SciPyFminCG:  176 16:53:42    -2901.367104        0.722824\n",
      "SciPyFminCG:  177 16:53:45    -2901.661323        0.824602\n",
      "SciPyFminCG:  178 16:53:48    -2901.906624        1.177459\n",
      "SciPyFminCG:  179 16:53:50    -2902.077599        0.937589\n",
      "SciPyFminCG:  180 16:53:53    -2902.377279        1.199855\n",
      "SciPyFminCG:  181 16:53:56    -2902.639678        0.856417\n",
      "SciPyFminCG:  182 16:53:59    -2902.880705        0.812723\n",
      "SciPyFminCG:  183 16:54:01    -2903.142629        0.555515\n",
      "SciPyFminCG:  184 16:54:04    -2903.420225        1.211305\n",
      "SciPyFminCG:  185 16:54:06    -2903.556055        0.704518\n",
      "SciPyFminCG:  186 16:54:08    -2903.862385        0.779023\n",
      "SciPyFminCG:  187 16:54:11    -2904.129295        1.077241\n",
      "SciPyFminCG:  188 16:54:14    -2904.344913        0.633888\n",
      "SciPyFminCG:  189 16:54:17    -2904.510427        0.594670\n",
      "SciPyFminCG:  190 16:54:19    -2904.650293        0.695384\n",
      "SciPyFminCG:  191 16:54:22    -2904.792772        0.646335\n",
      "SciPyFminCG:  192 16:54:25    -2904.977520        0.747189\n",
      "SciPyFminCG:  193 16:54:28    -2905.172479        1.083493\n",
      "SciPyFminCG:  194 16:54:32    -2905.373374        0.685147\n",
      "SciPyFminCG:  195 16:54:34    -2905.620575        1.205366\n",
      "SciPyFminCG:  196 16:54:37    -2905.933316        1.125851\n",
      "SciPyFminCG:  197 16:54:40    -2906.297112        0.619012\n",
      "SciPyFminCG:  198 16:54:43    -2906.556899        0.611791\n",
      "SciPyFminCG:  199 16:54:45    -2906.843994        0.960745\n",
      "SciPyFminCG:  200 16:54:48    -2907.203516        1.223166\n",
      "SciPyFminCG:  201 16:54:51    -2907.521482        0.586931\n",
      "SciPyFminCG:  202 16:54:54    -2907.817125        0.975256\n",
      "SciPyFminCG:  203 16:54:56    -2908.053640        0.810175\n",
      "SciPyFminCG:  204 16:54:59    -2908.283744        0.937105\n",
      "SciPyFminCG:  205 16:55:02    -2908.479177        0.605633\n",
      "SciPyFminCG:  206 16:55:04    -2908.752262        0.666522\n",
      "SciPyFminCG:  207 16:55:07    -2908.994951        0.704249\n",
      "SciPyFminCG:  208 16:55:10    -2909.205583        0.528710\n",
      "SciPyFminCG:  209 16:55:13    -2909.461332        0.717407\n",
      "SciPyFminCG:  210 16:55:15    -2909.652729        0.867416\n",
      "SciPyFminCG:  211 16:55:18    -2909.848638        0.725091\n",
      "SciPyFminCG:  212 16:55:21    -2910.051195        0.743638\n",
      "SciPyFminCG:  213 16:55:25    -2910.225732        0.624307\n",
      "SciPyFminCG:  214 16:55:28    -2910.417129        0.676687\n",
      "SciPyFminCG:  215 16:55:30    -2910.614699        0.654155\n",
      "SciPyFminCG:  216 16:55:33    -2910.869737        1.281221\n",
      "SciPyFminCG:  217 16:55:36    -2911.036437        1.097096\n",
      "SciPyFminCG:  218 16:55:38    -2911.358677        0.931908\n",
      "SciPyFminCG:  219 16:55:43    -2911.598991        0.439721\n",
      "SciPyFminCG:  220 16:55:45    -2911.776378        0.527466\n",
      "SciPyFminCG:  221 16:55:48    -2911.925981        0.628343\n",
      "SciPyFminCG:  222 16:55:51    -2912.132812        0.654740\n",
      "SciPyFminCG:  223 16:55:54    -2912.371227        0.508445\n",
      "SciPyFminCG:  224 16:55:56    -2912.606792        0.663932\n",
      "SciPyFminCG:  225 16:55:59    -2912.852806        0.806628\n",
      "SciPyFminCG:  226 16:56:02    -2913.074836        0.463010\n",
      "SciPyFminCG:  227 16:56:04    -2913.283330        0.543998\n",
      "SciPyFminCG:  228 16:56:07    -2913.457867        0.688162\n",
      "SciPyFminCG:  229 16:56:11    -2913.644277        0.399694\n",
      "SciPyFminCG:  230 16:56:14    -2913.874380        0.575121\n",
      "SciPyFminCG:  231 16:56:17    -2914.059840        0.510274\n",
      "SciPyFminCG:  232 16:56:19    -2914.246488        0.635487\n",
      "SciPyFminCG:  233 16:56:22    -2914.483953        0.842872\n",
      "SciPyFminCG:  234 16:56:25    -2914.775084        0.657836\n",
      "SciPyFminCG:  235 16:56:27    -2915.100174        0.823868\n",
      "SciPyFminCG:  236 16:56:30    -2915.407928        0.672042\n",
      "SciPyFminCG:  237 16:56:33    -2915.680063        0.733957\n",
      "SciPyFminCG:  238 16:56:35    -2915.932963        0.582405\n",
      "SciPyFminCG:  239 16:56:38    -2916.178027        0.690863\n",
      "SciPyFminCG:  240 16:56:41    -2916.464172        0.497001\n",
      "SciPyFminCG:  241 16:56:44    -2916.767890        0.810115\n",
      "SciPyFminCG:  242 16:56:47    -2917.020078        0.635844\n",
      "SciPyFminCG:  243 16:56:49    -2917.383162        0.648067\n",
      "SciPyFminCG:  244 16:56:52    -2917.654584        0.518159\n",
      "SciPyFminCG:  245 16:56:54    -2917.905584        0.587162\n",
      "SciPyFminCG:  246 16:56:57    -2918.158010        0.513045\n",
      "SciPyFminCG:  247 16:57:00    -2918.387401        0.563062\n",
      "SciPyFminCG:  248 16:57:02    -2918.594470        0.538525\n",
      "SciPyFminCG:  249 16:57:05    -2918.832172        0.542137\n",
      "SciPyFminCG:  250 16:57:08    -2919.144676        0.855393\n",
      "SciPyFminCG:  251 16:57:12    -2919.613432        0.844203\n",
      "SciPyFminCG:  252 16:57:14    -2920.141554        1.009025\n",
      "SciPyFminCG:  253 16:57:17    -2920.558542        0.827987\n",
      "SciPyFminCG:  254 16:57:20    -2921.047720        1.058374\n",
      "SciPyFminCG:  255 16:57:23    -2921.640907        0.835457\n",
      "SciPyFminCG:  256 16:57:25    -2922.159531        0.768260\n",
      "SciPyFminCG:  257 16:57:28    -2922.566783        0.854002\n",
      "SciPyFminCG:  258 16:57:30    -2922.896859        0.574147\n",
      "SciPyFminCG:  259 16:57:33    -2923.204139        0.833568\n",
      "SciPyFminCG:  260 16:57:36    -2923.527328        0.893542\n",
      "SciPyFminCG:  261 16:57:39    -2923.837220        0.525304\n",
      "SciPyFminCG:  262 16:57:41    -2924.153286        0.692875\n",
      "SciPyFminCG:  263 16:57:44    -2924.429220        0.605907\n",
      "SciPyFminCG:  264 16:57:46    -2924.803465        0.874459\n",
      "SciPyFminCG:  265 16:57:49    -2925.038318        0.866723\n",
      "SciPyFminCG:  266 16:57:52    -2925.246574        0.543657\n",
      "SciPyFminCG:  267 16:57:55    -2925.529633        0.994738\n",
      "SciPyFminCG:  268 16:57:57    -2925.727203        0.479885\n",
      "SciPyFminCG:  269 16:58:00    -2925.927624        0.553671\n",
      "SciPyFminCG:  270 16:58:03    -2926.116883        0.442336\n",
      "SciPyFminCG:  271 16:58:05    -2926.286908        0.493166\n",
      "SciPyFminCG:  272 16:58:08    -2926.467381        0.910667\n",
      "SciPyFminCG:  273 16:58:11    -2926.620309        0.484828\n",
      "SciPyFminCG:  274 16:58:13    -2926.835927        1.085233\n",
      "SciPyFminCG:  275 16:58:16    -2926.967720        0.530621\n",
      "SciPyFminCG:  276 16:58:18    -2927.201385        0.493572\n",
      "SciPyFminCG:  277 16:58:22    -2927.337215        0.395130\n",
      "SciPyFminCG:  278 16:58:25    -2927.471621        0.994334\n",
      "SciPyFminCG:  279 16:58:28    -2927.643070        0.697590\n",
      "SciPyFminCG:  280 16:58:30    -2927.924941        0.546355\n",
      "SciPyFminCG:  281 16:58:33    -2928.176654        0.654510\n",
      "SciPyFminCG:  282 16:58:36    -2928.380874        0.400236\n",
      "SciPyFminCG:  283 16:58:38    -2928.546862        0.424905\n",
      "SciPyFminCG:  284 16:58:41    -2928.729235        0.820620\n",
      "SciPyFminCG:  285 16:58:44    -2928.948652        0.905652\n",
      "SciPyFminCG:  286 16:58:48    -2929.184217        0.556867\n",
      "SciPyFminCG:  287 16:58:50    -2929.504795        0.650773\n",
      "SciPyFminCG:  288 16:58:53    -2929.683844        0.496829\n",
      "SciPyFminCG:  289 16:58:56    -2929.834871        0.433792\n",
      "SciPyFminCG:  290 16:58:59    -2929.996822        0.507555\n",
      "SciPyFminCG:  291 16:59:02    -2930.132652        0.324201\n",
      "SciPyFminCG:  292 16:59:06    -2930.267532        0.423920\n",
      "SciPyFminCG:  293 16:59:09    -2930.431383        0.532273\n",
      "SciPyFminCG:  294 16:59:11    -2930.616843        0.877289\n",
      "SciPyFminCG:  295 16:59:14    -2930.906313        0.560369\n",
      "SciPyFminCG:  296 16:59:17    -2931.215017        0.579913\n",
      "SciPyFminCG:  297 16:59:19    -2931.520397        0.595732\n",
      "SciPyFminCG:  298 16:59:22    -2931.843349        0.683540\n",
      "SciPyFminCG:  299 16:59:24    -2932.145880        0.697713\n",
      "SciPyFminCG:  300 16:59:27    -2932.448885        0.745657\n",
      "SciPyFminCG:  301 16:59:30    -2932.733368        0.517415\n",
      "SciPyFminCG:  302 16:59:32    -2933.024975        0.623615\n",
      "SciPyFminCG:  303 16:59:35    -2933.322281        0.603881\n",
      "SciPyFminCG:  304 16:59:38    -2933.661856        0.743363\n",
      "SciPyFminCG:  305 16:59:40    -2933.957262        0.527144\n",
      "SciPyFminCG:  306 16:59:43    -2934.266916        0.731256\n",
      "SciPyFminCG:  307 16:59:45    -2934.579895        0.623250\n",
      "SciPyFminCG:  308 16:59:48    -2934.920895        0.573722\n",
      "SciPyFminCG:  309 16:59:51    -2935.257145        0.850229\n",
      "SciPyFminCG:  310 16:59:54    -2935.604081        0.673801\n",
      "SciPyFminCG:  311 16:59:56    -2935.915398        0.764439\n",
      "SciPyFminCG:  312 16:59:59    -2936.201305        0.581766\n",
      "SciPyFminCG:  313 17:00:01    -2936.466791        0.790406\n",
      "SciPyFminCG:  314 17:00:04    -2936.678135        0.726981\n",
      "SciPyFminCG:  315 17:00:07    -2936.982802        0.645520\n",
      "SciPyFminCG:  316 17:00:09    -2937.265861        0.658635\n",
      "SciPyFminCG:  317 17:00:12    -2937.591425        0.876447\n",
      "SciPyFminCG:  318 17:00:14    -2937.934324        0.609573\n",
      "SciPyFminCG:  319 17:00:17    -2938.308569        0.672729\n",
      "SciPyFminCG:  320 17:00:19    -2938.627722        0.789595\n",
      "SciPyFminCG:  321 17:00:22    -2938.954948        0.560731\n",
      "SciPyFminCG:  322 17:00:24    -2939.266502        0.757744\n",
      "SciPyFminCG:  323 17:00:27    -2939.572357        0.706869\n",
      "SciPyFminCG:  324 17:00:30    -2939.857790        0.672204\n",
      "SciPyFminCG:  325 17:00:32    -2940.128975        0.694857\n",
      "SciPyFminCG:  326 17:00:35    -2940.399210        0.637720\n",
      "SciPyFminCG:  327 17:00:37    -2940.663271        0.589763\n",
      "SciPyFminCG:  328 17:00:41    -2940.955828        0.629073\n",
      "SciPyFminCG:  329 17:00:44    -2941.270944        0.554798\n",
      "SciPyFminCG:  330 17:00:46    -2941.624054        0.793234\n",
      "SciPyFminCG:  331 17:00:49    -2941.936795        0.606191\n",
      "SciPyFminCG:  332 17:00:51    -2942.255948        0.552543\n",
      "SciPyFminCG:  333 17:00:54    -2942.543043        0.739667\n",
      "SciPyFminCG:  334 17:00:56    -2942.819452        0.586627\n",
      "SciPyFminCG:  335 17:00:59    -2943.045044        0.807807\n",
      "SciPyFminCG:  336 17:01:02    -2943.221005        0.542316\n",
      "SciPyFminCG:  337 17:01:04    -2943.520924        0.600789\n",
      "SciPyFminCG:  338 17:01:07    -2943.760051        0.621022\n",
      "SciPyFminCG:  339 17:01:09    -2943.948360        0.449639\n",
      "SciPyFminCG:  340 17:01:12    -2944.100813        0.519615\n",
      "SciPyFminCG:  341 17:01:14    -2944.240917        0.777521\n",
      "SciPyFminCG:  342 17:01:17    -2944.339465        0.653264\n",
      "SciPyFminCG:  343 17:01:19    -2944.570518        0.730693\n",
      "SciPyFminCG:  344 17:01:22    -2944.734844        0.680460\n",
      "SciPyFminCG:  345 17:01:25    -2944.855001        0.488105\n",
      "SciPyFminCG:  346 17:01:27    -2944.975159        0.733672\n",
      "SciPyFminCG:  347 17:01:30    -2945.111226        0.963147\n",
      "SciPyFminCG:  348 17:01:32    -2945.284813        1.020534\n",
      "SciPyFminCG:  349 17:01:35    -2945.526790        0.936903\n",
      "SciPyFminCG:  350 17:01:37    -2945.782539        0.824389\n",
      "SciPyFminCG:  351 17:01:40    -2945.945678        0.971198\n",
      "SciPyFminCG:  352 17:01:42    -2946.070347        0.793175\n",
      "SciPyFminCG:  353 17:01:45    -2946.267918        0.720258\n",
      "SciPyFminCG:  354 17:01:48    -2946.423932        0.504175\n",
      "SciPyFminCG:  355 17:01:50    -2946.533166        0.725760\n",
      "SciPyFminCG:  356 17:01:53    -2946.628389        0.717848\n",
      "SciPyFminCG:  357 17:01:55    -2946.787016        0.637350\n",
      "SciPyFminCG:  358 17:01:59    -2946.924033        0.771517\n",
      "SciPyFminCG:  359 17:02:03    -2947.071024        0.713748\n",
      "SciPyFminCG:  360 17:02:05    -2947.260996        0.689922\n",
      "SciPyFminCG:  361 17:02:08    -2947.521020        1.187526\n",
      "SciPyFminCG:  362 17:02:11    -2947.711704        0.876066\n",
      "SciPyFminCG:  363 17:02:13    -2948.030620        1.208097\n",
      "SciPyFminCG:  364 17:02:16    -2948.355947        0.832662\n",
      "SciPyFminCG:  365 17:02:18    -2948.560404        0.497298\n",
      "SciPyFminCG:  366 17:02:20    -2948.711669        0.546541\n",
      "SciPyFminCG:  367 17:02:23    -2948.873857        0.940432\n",
      "SciPyFminCG:  368 17:02:26    -2948.998527        0.673001\n",
      "SciPyFminCG:  369 17:02:28    -2949.276835        0.937522\n",
      "SciPyFminCG:  370 17:02:31    -2949.523799        0.839096\n",
      "SciPyFminCG:  371 17:02:33    -2949.714483        0.742298\n",
      "SciPyFminCG:  372 17:02:36    -2949.908492        0.655983\n",
      "SciPyFminCG:  373 17:02:38    -2950.073055        0.644678\n",
      "SciPyFminCG:  374 17:02:41    -2950.194162        0.581770\n",
      "SciPyFminCG:  375 17:02:43    -2950.307196        0.544199\n",
      "SciPyFminCG:  376 17:02:46    -2950.445400        0.569856\n",
      "SciPyFminCG:  377 17:02:48    -2950.582892        0.690796\n",
      "SciPyFminCG:  378 17:02:51    -2950.721809        0.856646\n",
      "SciPyFminCG:  379 17:02:54    -2950.884473        0.450452\n",
      "SciPyFminCG:  380 17:02:57    -2951.048561        0.581895\n",
      "SciPyFminCG:  381 17:03:00    -2951.235446        0.938358\n",
      "SciPyFminCG:  382 17:03:02    -2951.441803        1.160345\n",
      "SciPyFminCG:  383 17:03:05    -2951.639849        0.923464\n",
      "SciPyFminCG:  384 17:03:08    -2951.939292        1.090897\n",
      "SciPyFminCG:  385 17:03:10    -2952.236598        0.686058\n",
      "SciPyFminCG:  386 17:03:12    -2952.461240        0.823432\n",
      "SciPyFminCG:  387 17:03:15    -2952.729338        1.051552\n",
      "SciPyFminCG:  388 17:03:17    -2952.991499        0.732354\n",
      "SciPyFminCG:  389 17:03:20    -2953.222790        0.847234\n",
      "SciPyFminCG:  390 17:03:22    -2953.515347        1.065426\n",
      "SciPyFminCG:  391 17:03:25    -2953.779882        0.955419\n",
      "SciPyFminCG:  392 17:03:29    -2953.982440        0.728296\n",
      "SciPyFminCG:  393 17:03:31    -2954.209456        0.851839\n",
      "SciPyFminCG:  394 17:03:35    -2954.435048        0.952640\n",
      "SciPyFminCG:  395 17:03:38    -2954.647579        0.718486\n",
      "SciPyFminCG:  396 17:03:40    -2954.879820        0.605334\n",
      "SciPyFminCG:  397 17:03:42    -2955.118947        0.682889\n",
      "SciPyFminCG:  398 17:03:45    -2955.384670        0.851481\n",
      "SciPyFminCG:  399 17:03:47    -2955.644694        1.112058\n",
      "SciPyFminCG:  400 17:03:50    -2955.874323        0.646632\n"
     ]
    }
   ],
   "source": [
    "import os\n",
    "from chgnet.model import StructOptimizer\n",
    "from pymatgen.core import Structure\n",
    "from chgnet.model.dynamics import CHGNetCalculator\n",
    "\n",
    "structure_path = f\"/home/mehuldarak/summer/relax_final/{structure_name}/relaxed_{structure_name}.cif\"\n",
    "structure = Structure.from_file(structure_path)\n",
    "\n",
    "# Output path\n",
    "output_dir = f\"/home/mehuldarak/summer/relax_final\"\n",
    "os.makedirs(output_dir, exist_ok=True)\n",
    "output_path = os.path.join(output_dir, f\"cellrelaxed_{structure_name}.cif\")\n",
    "\n",
    "# Run CHGNet relaxation\n",
    "opt1 = StructOptimizer(model=calc, optimizer_class=\"SciPyFminCG\", use_device=\"cuda\")\n",
    "result = opt1.relax(\n",
    "    structure,\n",
    "    fmax=0.15,           # You can adjust depending on accuracy/speed tradeoff\n",
    "    steps=400,\n",
    "    relax_cell=True,\n",
    "    verbose=True\n",
    ")"
   ]
  },
  {
   "cell_type": "code",
   "execution_count": 6,
   "id": "d939c711",
   "metadata": {},
   "outputs": [
    {
     "name": "stderr",
     "output_type": "stream",
     "text": [
      "/tmp/ipykernel_167692/1077038773.py:3: FutureWarning: Please use atoms.calc = calc\n",
      "  structure_1.set_calculator(calc)\n"
     ]
    },
    {
     "name": "stdout",
     "output_type": "stream",
     "text": [
      "      Step     Time          Energy          fmax\n",
      "FIRE:    0 17:03:51    -2955.874323        0.251994\n",
      "FIRE:    1 17:03:53    -2955.887146        0.206771\n"
     ]
    },
    {
     "name": "stderr",
     "output_type": "stream",
     "text": [
      "/home/mehuldarak/anaconda3/envs/mace/lib/python3.13/site-packages/ase/filters.py:606: RuntimeWarning: logm result may be inaccurate, approximate err = 3.281904852979847e-13\n",
      "  pos[natoms:] = self.logm(pos[natoms:]) * self.exp_cell_factor\n"
     ]
    },
    {
     "name": "stdout",
     "output_type": "stream",
     "text": [
      "FIRE:    2 17:03:54    -2955.903056        0.172076\n"
     ]
    },
    {
     "name": "stderr",
     "output_type": "stream",
     "text": [
      "/home/mehuldarak/anaconda3/envs/mace/lib/python3.13/site-packages/ase/filters.py:606: RuntimeWarning: logm result may be inaccurate, approximate err = 3.35358779783127e-13\n",
      "  pos[natoms:] = self.logm(pos[natoms:]) * self.exp_cell_factor\n"
     ]
    },
    {
     "name": "stdout",
     "output_type": "stream",
     "text": [
      "FIRE:    3 17:03:55    -2955.917067        0.162023\n"
     ]
    },
    {
     "name": "stderr",
     "output_type": "stream",
     "text": [
      "/home/mehuldarak/anaconda3/envs/mace/lib/python3.13/site-packages/ase/filters.py:606: RuntimeWarning: logm result may be inaccurate, approximate err = 3.325304156063249e-13\n",
      "  pos[natoms:] = self.logm(pos[natoms:]) * self.exp_cell_factor\n"
     ]
    },
    {
     "name": "stdout",
     "output_type": "stream",
     "text": [
      "FIRE:    4 17:03:56    -2955.930365        0.162223\n"
     ]
    },
    {
     "name": "stderr",
     "output_type": "stream",
     "text": [
      "/home/mehuldarak/anaconda3/envs/mace/lib/python3.13/site-packages/ase/filters.py:606: RuntimeWarning: logm result may be inaccurate, approximate err = 3.3610796919538345e-13\n",
      "  pos[natoms:] = self.logm(pos[natoms:]) * self.exp_cell_factor\n"
     ]
    },
    {
     "name": "stdout",
     "output_type": "stream",
     "text": [
      "FIRE:    5 17:03:58    -2955.942475        0.186045\n"
     ]
    },
    {
     "name": "stderr",
     "output_type": "stream",
     "text": [
      "/home/mehuldarak/anaconda3/envs/mace/lib/python3.13/site-packages/ase/filters.py:606: RuntimeWarning: logm result may be inaccurate, approximate err = 3.327605358471026e-13\n",
      "  pos[natoms:] = self.logm(pos[natoms:]) * self.exp_cell_factor\n"
     ]
    },
    {
     "name": "stdout",
     "output_type": "stream",
     "text": [
      "FIRE:    6 17:03:59    -2955.956248        0.162485\n"
     ]
    },
    {
     "name": "stderr",
     "output_type": "stream",
     "text": [
      "/home/mehuldarak/anaconda3/envs/mace/lib/python3.13/site-packages/ase/filters.py:606: RuntimeWarning: logm result may be inaccurate, approximate err = 3.2770865607111513e-13\n",
      "  pos[natoms:] = self.logm(pos[natoms:]) * self.exp_cell_factor\n"
     ]
    },
    {
     "name": "stdout",
     "output_type": "stream",
     "text": [
      "FIRE:    7 17:04:00    -2955.966222        0.162738\n"
     ]
    },
    {
     "name": "stderr",
     "output_type": "stream",
     "text": [
      "/home/mehuldarak/anaconda3/envs/mace/lib/python3.13/site-packages/ase/filters.py:606: RuntimeWarning: logm result may be inaccurate, approximate err = 3.2885755811219866e-13\n",
      "  pos[natoms:] = self.logm(pos[natoms:]) * self.exp_cell_factor\n"
     ]
    },
    {
     "name": "stdout",
     "output_type": "stream",
     "text": [
      "FIRE:    8 17:04:01    -2955.981182        0.162853\n"
     ]
    },
    {
     "name": "stderr",
     "output_type": "stream",
     "text": [
      "/home/mehuldarak/anaconda3/envs/mace/lib/python3.13/site-packages/ase/filters.py:606: RuntimeWarning: logm result may be inaccurate, approximate err = 3.296955275428813e-13\n",
      "  pos[natoms:] = self.logm(pos[natoms:]) * self.exp_cell_factor\n"
     ]
    },
    {
     "name": "stdout",
     "output_type": "stream",
     "text": [
      "FIRE:    9 17:04:03    -2955.997330        0.294354\n"
     ]
    },
    {
     "name": "stderr",
     "output_type": "stream",
     "text": [
      "/home/mehuldarak/anaconda3/envs/mace/lib/python3.13/site-packages/ase/filters.py:606: RuntimeWarning: logm result may be inaccurate, approximate err = 3.2927387083006004e-13\n",
      "  pos[natoms:] = self.logm(pos[natoms:]) * self.exp_cell_factor\n"
     ]
    },
    {
     "name": "stdout",
     "output_type": "stream",
     "text": [
      "FIRE:   10 17:04:04    -2956.020839        0.314385\n"
     ]
    },
    {
     "name": "stderr",
     "output_type": "stream",
     "text": [
      "/home/mehuldarak/anaconda3/envs/mace/lib/python3.13/site-packages/ase/filters.py:606: RuntimeWarning: logm result may be inaccurate, approximate err = 3.300313227703222e-13\n",
      "  pos[natoms:] = self.logm(pos[natoms:]) * self.exp_cell_factor\n"
     ]
    },
    {
     "name": "stdout",
     "output_type": "stream",
     "text": [
      "FIRE:   11 17:04:05    -2956.052184        0.278750\n"
     ]
    },
    {
     "name": "stderr",
     "output_type": "stream",
     "text": [
      "/home/mehuldarak/anaconda3/envs/mace/lib/python3.13/site-packages/ase/filters.py:606: RuntimeWarning: logm result may be inaccurate, approximate err = 3.2835747884964256e-13\n",
      "  pos[natoms:] = self.logm(pos[natoms:]) * self.exp_cell_factor\n"
     ]
    },
    {
     "name": "stdout",
     "output_type": "stream",
     "text": [
      "FIRE:   12 17:04:06    -2956.083529        0.205517\n"
     ]
    },
    {
     "name": "stderr",
     "output_type": "stream",
     "text": [
      "/home/mehuldarak/anaconda3/envs/mace/lib/python3.13/site-packages/ase/filters.py:606: RuntimeWarning: logm result may be inaccurate, approximate err = 3.2936145883507826e-13\n",
      "  pos[natoms:] = self.logm(pos[natoms:]) * self.exp_cell_factor\n"
     ]
    },
    {
     "name": "stdout",
     "output_type": "stream",
     "text": [
      "FIRE:   13 17:04:07    -2956.112738        0.300531\n"
     ]
    },
    {
     "name": "stderr",
     "output_type": "stream",
     "text": [
      "/home/mehuldarak/anaconda3/envs/mace/lib/python3.13/site-packages/ase/filters.py:606: RuntimeWarning: logm result may be inaccurate, approximate err = 3.3083795556644717e-13\n",
      "  pos[natoms:] = self.logm(pos[natoms:]) * self.exp_cell_factor\n"
     ]
    },
    {
     "name": "stdout",
     "output_type": "stream",
     "text": [
      "FIRE:   14 17:04:09    -2956.147882        0.162035\n"
     ]
    },
    {
     "name": "stderr",
     "output_type": "stream",
     "text": [
      "/home/mehuldarak/anaconda3/envs/mace/lib/python3.13/site-packages/ase/filters.py:606: RuntimeWarning: logm result may be inaccurate, approximate err = 3.3034256194154055e-13\n",
      "  pos[natoms:] = self.logm(pos[natoms:]) * self.exp_cell_factor\n"
     ]
    },
    {
     "name": "stdout",
     "output_type": "stream",
     "text": [
      "FIRE:   15 17:04:10    -2956.183740        0.200762\n"
     ]
    },
    {
     "name": "stderr",
     "output_type": "stream",
     "text": [
      "/home/mehuldarak/anaconda3/envs/mace/lib/python3.13/site-packages/ase/filters.py:606: RuntimeWarning: logm result may be inaccurate, approximate err = 3.250172554411669e-13\n",
      "  pos[natoms:] = self.logm(pos[natoms:]) * self.exp_cell_factor\n"
     ]
    },
    {
     "name": "stdout",
     "output_type": "stream",
     "text": [
      "FIRE:   16 17:04:12    -2956.226008        0.294094\n"
     ]
    },
    {
     "name": "stderr",
     "output_type": "stream",
     "text": [
      "/home/mehuldarak/anaconda3/envs/mace/lib/python3.13/site-packages/ase/filters.py:606: RuntimeWarning: logm result may be inaccurate, approximate err = 3.209841358461834e-13\n",
      "  pos[natoms:] = self.logm(pos[natoms:]) * self.exp_cell_factor\n"
     ]
    },
    {
     "name": "stdout",
     "output_type": "stream",
     "text": [
      "FIRE:   17 17:04:13    -2956.306984        0.759564\n"
     ]
    },
    {
     "name": "stderr",
     "output_type": "stream",
     "text": [
      "/home/mehuldarak/anaconda3/envs/mace/lib/python3.13/site-packages/ase/filters.py:606: RuntimeWarning: logm result may be inaccurate, approximate err = 3.236636659307801e-13\n",
      "  pos[natoms:] = self.logm(pos[natoms:]) * self.exp_cell_factor\n"
     ]
    },
    {
     "name": "stdout",
     "output_type": "stream",
     "text": [
      "FIRE:   18 17:04:14    -2956.453737        0.844652\n"
     ]
    },
    {
     "name": "stderr",
     "output_type": "stream",
     "text": [
      "/home/mehuldarak/anaconda3/envs/mace/lib/python3.13/site-packages/ase/filters.py:606: RuntimeWarning: logm result may be inaccurate, approximate err = 3.286768423256486e-13\n",
      "  pos[natoms:] = self.logm(pos[natoms:]) * self.exp_cell_factor\n"
     ]
    },
    {
     "name": "stdout",
     "output_type": "stream",
     "text": [
      "FIRE:   19 17:04:15    -2956.551573        0.930536\n"
     ]
    },
    {
     "name": "stderr",
     "output_type": "stream",
     "text": [
      "/home/mehuldarak/anaconda3/envs/mace/lib/python3.13/site-packages/ase/filters.py:606: RuntimeWarning: logm result may be inaccurate, approximate err = 3.335155217105703e-13\n",
      "  pos[natoms:] = self.logm(pos[natoms:]) * self.exp_cell_factor\n"
     ]
    },
    {
     "name": "stdout",
     "output_type": "stream",
     "text": [
      "FIRE:   20 17:04:16    -2956.597641        0.203931\n"
     ]
    },
    {
     "name": "stderr",
     "output_type": "stream",
     "text": [
      "/home/mehuldarak/anaconda3/envs/mace/lib/python3.13/site-packages/ase/filters.py:606: RuntimeWarning: logm result may be inaccurate, approximate err = 3.3554324522809553e-13\n",
      "  pos[natoms:] = self.logm(pos[natoms:]) * self.exp_cell_factor\n"
     ]
    },
    {
     "name": "stdout",
     "output_type": "stream",
     "text": [
      "FIRE:   21 17:04:18    -2956.600728        0.201296\n"
     ]
    },
    {
     "name": "stderr",
     "output_type": "stream",
     "text": [
      "/home/mehuldarak/anaconda3/envs/mace/lib/python3.13/site-packages/ase/filters.py:606: RuntimeWarning: logm result may be inaccurate, approximate err = 3.3456886258281854e-13\n",
      "  pos[natoms:] = self.logm(pos[natoms:]) * self.exp_cell_factor\n"
     ]
    },
    {
     "name": "stdout",
     "output_type": "stream",
     "text": [
      "FIRE:   22 17:04:19    -2956.605240        0.196511\n"
     ]
    },
    {
     "name": "stderr",
     "output_type": "stream",
     "text": [
      "/home/mehuldarak/anaconda3/envs/mace/lib/python3.13/site-packages/ase/filters.py:606: RuntimeWarning: logm result may be inaccurate, approximate err = 3.2813423005823636e-13\n",
      "  pos[natoms:] = self.logm(pos[natoms:]) * self.exp_cell_factor\n"
     ]
    },
    {
     "name": "stdout",
     "output_type": "stream",
     "text": [
      "FIRE:   23 17:04:20    -2956.612126        0.189744\n"
     ]
    },
    {
     "name": "stderr",
     "output_type": "stream",
     "text": [
      "/home/mehuldarak/anaconda3/envs/mace/lib/python3.13/site-packages/ase/filters.py:606: RuntimeWarning: logm result may be inaccurate, approximate err = 3.2868318813870676e-13\n",
      "  pos[natoms:] = self.logm(pos[natoms:]) * self.exp_cell_factor\n"
     ]
    },
    {
     "name": "stdout",
     "output_type": "stream",
     "text": [
      "FIRE:   24 17:04:21    -2956.619250        0.181354\n"
     ]
    },
    {
     "name": "stderr",
     "output_type": "stream",
     "text": [
      "/home/mehuldarak/anaconda3/envs/mace/lib/python3.13/site-packages/ase/filters.py:606: RuntimeWarning: logm result may be inaccurate, approximate err = 3.2000413345501806e-13\n",
      "  pos[natoms:] = self.logm(pos[natoms:]) * self.exp_cell_factor\n"
     ]
    },
    {
     "name": "stdout",
     "output_type": "stream",
     "text": [
      "FIRE:   25 17:04:23    -2956.628749        0.172794\n"
     ]
    },
    {
     "name": "stderr",
     "output_type": "stream",
     "text": [
      "/home/mehuldarak/anaconda3/envs/mace/lib/python3.13/site-packages/ase/filters.py:606: RuntimeWarning: logm result may be inaccurate, approximate err = 3.383301495158097e-13\n",
      "  pos[natoms:] = self.logm(pos[natoms:]) * self.exp_cell_factor\n"
     ]
    },
    {
     "name": "stdout",
     "output_type": "stream",
     "text": [
      "FIRE:   26 17:04:24    -2956.638960        0.166253\n"
     ]
    },
    {
     "name": "stderr",
     "output_type": "stream",
     "text": [
      "/home/mehuldarak/anaconda3/envs/mace/lib/python3.13/site-packages/ase/filters.py:606: RuntimeWarning: logm result may be inaccurate, approximate err = 3.2814436505891745e-13\n",
      "  pos[natoms:] = self.logm(pos[natoms:]) * self.exp_cell_factor\n"
     ]
    },
    {
     "name": "stdout",
     "output_type": "stream",
     "text": [
      "FIRE:   27 17:04:25    -2956.648933        0.162761\n"
     ]
    },
    {
     "name": "stderr",
     "output_type": "stream",
     "text": [
      "/home/mehuldarak/anaconda3/envs/mace/lib/python3.13/site-packages/ase/filters.py:606: RuntimeWarning: logm result may be inaccurate, approximate err = 3.390773167826522e-13\n",
      "  pos[natoms:] = self.logm(pos[natoms:]) * self.exp_cell_factor\n"
     ]
    },
    {
     "name": "stdout",
     "output_type": "stream",
     "text": [
      "FIRE:   28 17:04:27    -2956.662231        0.155203\n"
     ]
    },
    {
     "name": "stderr",
     "output_type": "stream",
     "text": [
      "/home/mehuldarak/anaconda3/envs/mace/lib/python3.13/site-packages/ase/filters.py:606: RuntimeWarning: logm result may be inaccurate, approximate err = 3.289215844518632e-13\n",
      "  pos[natoms:] = self.logm(pos[natoms:]) * self.exp_cell_factor\n"
     ]
    },
    {
     "name": "stdout",
     "output_type": "stream",
     "text": [
      "FIRE:   29 17:04:28    -2956.676479        0.154980\n"
     ]
    },
    {
     "name": "stderr",
     "output_type": "stream",
     "text": [
      "/home/mehuldarak/anaconda3/envs/mace/lib/python3.13/site-packages/ase/filters.py:606: RuntimeWarning: logm result may be inaccurate, approximate err = 3.293853940318688e-13\n",
      "  pos[natoms:] = self.logm(pos[natoms:]) * self.exp_cell_factor\n"
     ]
    },
    {
     "name": "stdout",
     "output_type": "stream",
     "text": [
      "FIRE:   30 17:04:29    -2956.691677        0.154744\n"
     ]
    },
    {
     "name": "stderr",
     "output_type": "stream",
     "text": [
      "/home/mehuldarak/anaconda3/envs/mace/lib/python3.13/site-packages/ase/filters.py:606: RuntimeWarning: logm result may be inaccurate, approximate err = 3.3039431812762397e-13\n",
      "  pos[natoms:] = self.logm(pos[natoms:]) * self.exp_cell_factor\n"
     ]
    },
    {
     "name": "stdout",
     "output_type": "stream",
     "text": [
      "FIRE:   31 17:04:30    -2956.709012        0.154467\n"
     ]
    },
    {
     "name": "stderr",
     "output_type": "stream",
     "text": [
      "/home/mehuldarak/anaconda3/envs/mace/lib/python3.13/site-packages/ase/filters.py:606: RuntimeWarning: logm result may be inaccurate, approximate err = 3.28150024192147e-13\n",
      "  pos[natoms:] = self.logm(pos[natoms:]) * self.exp_cell_factor\n"
     ]
    },
    {
     "name": "stdout",
     "output_type": "stream",
     "text": [
      "FIRE:   32 17:04:32    -2956.726110        0.154039\n"
     ]
    },
    {
     "name": "stderr",
     "output_type": "stream",
     "text": [
      "/home/mehuldarak/anaconda3/envs/mace/lib/python3.13/site-packages/ase/filters.py:606: RuntimeWarning: logm result may be inaccurate, approximate err = 3.2876924917205435e-13\n",
      "  pos[natoms:] = self.logm(pos[natoms:]) * self.exp_cell_factor\n"
     ]
    },
    {
     "name": "stdout",
     "output_type": "stream",
     "text": [
      "FIRE:   33 17:04:33    -2956.744157        0.153604\n"
     ]
    },
    {
     "name": "stderr",
     "output_type": "stream",
     "text": [
      "/home/mehuldarak/anaconda3/envs/mace/lib/python3.13/site-packages/ase/filters.py:606: RuntimeWarning: logm result may be inaccurate, approximate err = 3.2722646567117014e-13\n",
      "  pos[natoms:] = self.logm(pos[natoms:]) * self.exp_cell_factor\n"
     ]
    },
    {
     "name": "stdout",
     "output_type": "stream",
     "text": [
      "FIRE:   34 17:04:34    -2956.766241        0.153102\n"
     ]
    },
    {
     "name": "stderr",
     "output_type": "stream",
     "text": [
      "/home/mehuldarak/anaconda3/envs/mace/lib/python3.13/site-packages/ase/filters.py:606: RuntimeWarning: logm result may be inaccurate, approximate err = 3.2527926146748945e-13\n",
      "  pos[natoms:] = self.logm(pos[natoms:]) * self.exp_cell_factor\n"
     ]
    },
    {
     "name": "stdout",
     "output_type": "stream",
     "text": [
      "FIRE:   35 17:04:35    -2956.789513        0.152276\n"
     ]
    },
    {
     "name": "stderr",
     "output_type": "stream",
     "text": [
      "/home/mehuldarak/anaconda3/envs/mace/lib/python3.13/site-packages/ase/filters.py:606: RuntimeWarning: logm result may be inaccurate, approximate err = 3.282982006902724e-13\n",
      "  pos[natoms:] = self.logm(pos[natoms:]) * self.exp_cell_factor\n"
     ]
    },
    {
     "name": "stdout",
     "output_type": "stream",
     "text": [
      "FIRE:   36 17:04:37    -2956.818008        0.151209\n"
     ]
    },
    {
     "name": "stderr",
     "output_type": "stream",
     "text": [
      "/home/mehuldarak/anaconda3/envs/mace/lib/python3.13/site-packages/ase/filters.py:606: RuntimeWarning: logm result may be inaccurate, approximate err = 3.2725420794389227e-13\n",
      "  pos[natoms:] = self.logm(pos[natoms:]) * self.exp_cell_factor\n"
     ]
    },
    {
     "name": "stdout",
     "output_type": "stream",
     "text": [
      "FIRE:   37 17:04:38    -2956.846267        0.149922\n"
     ]
    },
    {
     "name": "stderr",
     "output_type": "stream",
     "text": [
      "/home/mehuldarak/anaconda3/envs/mace/lib/python3.13/site-packages/ase/filters.py:606: RuntimeWarning: logm result may be inaccurate, approximate err = 3.3144551751624826e-13\n",
      "  pos[natoms:] = self.logm(pos[natoms:]) * self.exp_cell_factor\n"
     ]
    },
    {
     "name": "stdout",
     "output_type": "stream",
     "text": [
      "FIRE:   38 17:04:39    -2956.872388        0.231713\n"
     ]
    },
    {
     "name": "stderr",
     "output_type": "stream",
     "text": [
      "/home/mehuldarak/anaconda3/envs/mace/lib/python3.13/site-packages/ase/filters.py:606: RuntimeWarning: logm result may be inaccurate, approximate err = 3.1993401351413704e-13\n",
      "  pos[natoms:] = self.logm(pos[natoms:]) * self.exp_cell_factor\n"
     ]
    },
    {
     "name": "stdout",
     "output_type": "stream",
     "text": [
      "FIRE:   39 17:04:40    -2956.894710        0.440460\n"
     ]
    },
    {
     "name": "stderr",
     "output_type": "stream",
     "text": [
      "/home/mehuldarak/anaconda3/envs/mace/lib/python3.13/site-packages/ase/filters.py:606: RuntimeWarning: logm result may be inaccurate, approximate err = 3.288988520165644e-13\n",
      "  pos[natoms:] = self.logm(pos[natoms:]) * self.exp_cell_factor\n"
     ]
    },
    {
     "name": "stdout",
     "output_type": "stream",
     "text": [
      "FIRE:   40 17:04:41    -2956.908483        0.146332\n"
     ]
    },
    {
     "name": "stderr",
     "output_type": "stream",
     "text": [
      "/home/mehuldarak/anaconda3/envs/mace/lib/python3.13/site-packages/ase/filters.py:606: RuntimeWarning: logm result may be inaccurate, approximate err = 3.280535890496743e-13\n",
      "  pos[natoms:] = self.logm(pos[natoms:]) * self.exp_cell_factor\n"
     ]
    },
    {
     "name": "stdout",
     "output_type": "stream",
     "text": [
      "FIRE:   41 17:04:43    -2956.906108        0.358935\n"
     ]
    },
    {
     "name": "stderr",
     "output_type": "stream",
     "text": [
      "/home/mehuldarak/anaconda3/envs/mace/lib/python3.13/site-packages/ase/filters.py:606: RuntimeWarning: logm result may be inaccurate, approximate err = 3.316353626580306e-13\n",
      "  pos[natoms:] = self.logm(pos[natoms:]) * self.exp_cell_factor\n"
     ]
    },
    {
     "name": "stdout",
     "output_type": "stream",
     "text": [
      "FIRE:   42 17:04:44    -2956.908483        0.282102\n"
     ]
    },
    {
     "name": "stderr",
     "output_type": "stream",
     "text": [
      "/home/mehuldarak/anaconda3/envs/mace/lib/python3.13/site-packages/ase/filters.py:606: RuntimeWarning: logm result may be inaccurate, approximate err = 3.2808181771902533e-13\n",
      "  pos[natoms:] = self.logm(pos[natoms:]) * self.exp_cell_factor\n"
     ]
    },
    {
     "name": "stdout",
     "output_type": "stream",
     "text": [
      "FIRE:   43 17:04:45    -2956.912994        0.172977\n"
     ]
    },
    {
     "name": "stderr",
     "output_type": "stream",
     "text": [
      "/home/mehuldarak/anaconda3/envs/mace/lib/python3.13/site-packages/ase/filters.py:606: RuntimeWarning: logm result may be inaccurate, approximate err = 3.2840510008487427e-13\n",
      "  pos[natoms:] = self.logm(pos[natoms:]) * self.exp_cell_factor\n"
     ]
    },
    {
     "name": "stdout",
     "output_type": "stream",
     "text": [
      "FIRE:   44 17:04:46    -2956.915844        0.146238\n"
     ]
    },
    {
     "name": "stderr",
     "output_type": "stream",
     "text": [
      "/home/mehuldarak/anaconda3/envs/mace/lib/python3.13/site-packages/ase/filters.py:606: RuntimeWarning: logm result may be inaccurate, approximate err = 3.2700401002754686e-13\n",
      "  pos[natoms:] = self.logm(pos[natoms:]) * self.exp_cell_factor\n"
     ]
    },
    {
     "name": "stdout",
     "output_type": "stream",
     "text": [
      "FIRE:   45 17:04:48    -2956.915844        0.163114\n"
     ]
    },
    {
     "name": "stderr",
     "output_type": "stream",
     "text": [
      "/home/mehuldarak/anaconda3/envs/mace/lib/python3.13/site-packages/ase/filters.py:606: RuntimeWarning: logm result may be inaccurate, approximate err = 3.220000165628049e-13\n",
      "  pos[natoms:] = self.logm(pos[natoms:]) * self.exp_cell_factor\n"
     ]
    },
    {
     "name": "stdout",
     "output_type": "stream",
     "text": [
      "FIRE:   46 17:04:49    -2956.915844        0.154444\n"
     ]
    },
    {
     "name": "stderr",
     "output_type": "stream",
     "text": [
      "/home/mehuldarak/anaconda3/envs/mace/lib/python3.13/site-packages/ase/filters.py:606: RuntimeWarning: logm result may be inaccurate, approximate err = 3.315289616650342e-13\n",
      "  pos[natoms:] = self.logm(pos[natoms:]) * self.exp_cell_factor\n"
     ]
    },
    {
     "name": "stdout",
     "output_type": "stream",
     "text": [
      "FIRE:   47 17:04:50    -2956.916556        0.146214\n"
     ]
    },
    {
     "name": "stderr",
     "output_type": "stream",
     "text": [
      "/home/mehuldarak/anaconda3/envs/mace/lib/python3.13/site-packages/ase/filters.py:606: RuntimeWarning: logm result may be inaccurate, approximate err = 3.237675431838522e-13\n",
      "  pos[natoms:] = self.logm(pos[natoms:]) * self.exp_cell_factor\n"
     ]
    },
    {
     "name": "stdout",
     "output_type": "stream",
     "text": [
      "FIRE:   48 17:04:52    -2956.916794        0.146214\n"
     ]
    },
    {
     "name": "stderr",
     "output_type": "stream",
     "text": [
      "/home/mehuldarak/anaconda3/envs/mace/lib/python3.13/site-packages/ase/filters.py:606: RuntimeWarning: logm result may be inaccurate, approximate err = 3.272265313152346e-13\n",
      "  pos[natoms:] = self.logm(pos[natoms:]) * self.exp_cell_factor\n"
     ]
    },
    {
     "name": "stdout",
     "output_type": "stream",
     "text": [
      "FIRE:   49 17:04:53    -2956.918219        0.146213\n"
     ]
    },
    {
     "name": "stderr",
     "output_type": "stream",
     "text": [
      "/home/mehuldarak/anaconda3/envs/mace/lib/python3.13/site-packages/ase/filters.py:606: RuntimeWarning: logm result may be inaccurate, approximate err = 3.20052560775392e-13\n",
      "  pos[natoms:] = self.logm(pos[natoms:]) * self.exp_cell_factor\n"
     ]
    },
    {
     "name": "stdout",
     "output_type": "stream",
     "text": [
      "FIRE:   50 17:04:54    -2956.918931        0.146208\n"
     ]
    },
    {
     "name": "stderr",
     "output_type": "stream",
     "text": [
      "/home/mehuldarak/anaconda3/envs/mace/lib/python3.13/site-packages/ase/filters.py:606: RuntimeWarning: logm result may be inaccurate, approximate err = 3.29342184759353e-13\n",
      "  pos[natoms:] = self.logm(pos[natoms:]) * self.exp_cell_factor\n"
     ]
    },
    {
     "name": "stdout",
     "output_type": "stream",
     "text": [
      "FIRE:   51 17:04:55    -2956.919406        0.146201\n"
     ]
    },
    {
     "name": "stderr",
     "output_type": "stream",
     "text": [
      "/home/mehuldarak/anaconda3/envs/mace/lib/python3.13/site-packages/ase/filters.py:606: RuntimeWarning: logm result may be inaccurate, approximate err = 3.2753639237086795e-13\n",
      "  pos[natoms:] = self.logm(pos[natoms:]) * self.exp_cell_factor\n"
     ]
    },
    {
     "name": "stdout",
     "output_type": "stream",
     "text": [
      "FIRE:   52 17:04:57    -2956.920593        0.146194\n"
     ]
    },
    {
     "name": "stderr",
     "output_type": "stream",
     "text": [
      "/home/mehuldarak/anaconda3/envs/mace/lib/python3.13/site-packages/ase/filters.py:606: RuntimeWarning: logm result may be inaccurate, approximate err = 3.253353448127159e-13\n",
      "  pos[natoms:] = self.logm(pos[natoms:]) * self.exp_cell_factor\n"
     ]
    },
    {
     "name": "stdout",
     "output_type": "stream",
     "text": [
      "FIRE:   53 17:04:58    -2956.920593        0.146183\n"
     ]
    },
    {
     "name": "stderr",
     "output_type": "stream",
     "text": [
      "/home/mehuldarak/anaconda3/envs/mace/lib/python3.13/site-packages/ase/filters.py:606: RuntimeWarning: logm result may be inaccurate, approximate err = 3.3436453368402196e-13\n",
      "  pos[natoms:] = self.logm(pos[natoms:]) * self.exp_cell_factor\n"
     ]
    },
    {
     "name": "stdout",
     "output_type": "stream",
     "text": [
      "FIRE:   54 17:04:59    -2956.921068        0.146171\n"
     ]
    },
    {
     "name": "stderr",
     "output_type": "stream",
     "text": [
      "/home/mehuldarak/anaconda3/envs/mace/lib/python3.13/site-packages/ase/filters.py:606: RuntimeWarning: logm result may be inaccurate, approximate err = 3.2698294266317204e-13\n",
      "  pos[natoms:] = self.logm(pos[natoms:]) * self.exp_cell_factor\n"
     ]
    },
    {
     "name": "stdout",
     "output_type": "stream",
     "text": [
      "FIRE:   55 17:05:00    -2956.922493        0.146147\n"
     ]
    },
    {
     "name": "stderr",
     "output_type": "stream",
     "text": [
      "/home/mehuldarak/anaconda3/envs/mace/lib/python3.13/site-packages/ase/filters.py:606: RuntimeWarning: logm result may be inaccurate, approximate err = 3.2051153324295026e-13\n",
      "  pos[natoms:] = self.logm(pos[natoms:]) * self.exp_cell_factor\n"
     ]
    },
    {
     "name": "stdout",
     "output_type": "stream",
     "text": [
      "FIRE:   56 17:05:02    -2956.924155        0.146118\n"
     ]
    },
    {
     "name": "stderr",
     "output_type": "stream",
     "text": [
      "/home/mehuldarak/anaconda3/envs/mace/lib/python3.13/site-packages/ase/filters.py:606: RuntimeWarning: logm result may be inaccurate, approximate err = 3.302212231463948e-13\n",
      "  pos[natoms:] = self.logm(pos[natoms:]) * self.exp_cell_factor\n"
     ]
    },
    {
     "name": "stdout",
     "output_type": "stream",
     "text": [
      "FIRE:   57 17:05:03    -2956.926530        0.146078\n"
     ]
    },
    {
     "name": "stderr",
     "output_type": "stream",
     "text": [
      "/home/mehuldarak/anaconda3/envs/mace/lib/python3.13/site-packages/ase/filters.py:606: RuntimeWarning: logm result may be inaccurate, approximate err = 3.350888698874715e-13\n",
      "  pos[natoms:] = self.logm(pos[natoms:]) * self.exp_cell_factor\n"
     ]
    },
    {
     "name": "stdout",
     "output_type": "stream",
     "text": [
      "FIRE:   58 17:05:04    -2956.929617        0.146031\n"
     ]
    },
    {
     "name": "stderr",
     "output_type": "stream",
     "text": [
      "/home/mehuldarak/anaconda3/envs/mace/lib/python3.13/site-packages/ase/filters.py:606: RuntimeWarning: logm result may be inaccurate, approximate err = 3.2786618286768226e-13\n",
      "  pos[natoms:] = self.logm(pos[natoms:]) * self.exp_cell_factor\n"
     ]
    },
    {
     "name": "stdout",
     "output_type": "stream",
     "text": [
      "FIRE:   59 17:05:05    -2956.931517        0.145977\n"
     ]
    },
    {
     "name": "stderr",
     "output_type": "stream",
     "text": [
      "/home/mehuldarak/anaconda3/envs/mace/lib/python3.13/site-packages/ase/filters.py:606: RuntimeWarning: logm result may be inaccurate, approximate err = 3.289338586918805e-13\n",
      "  pos[natoms:] = self.logm(pos[natoms:]) * self.exp_cell_factor\n"
     ]
    },
    {
     "name": "stdout",
     "output_type": "stream",
     "text": [
      "FIRE:   60 17:05:06    -2956.935316        0.145919\n"
     ]
    },
    {
     "name": "stderr",
     "output_type": "stream",
     "text": [
      "/home/mehuldarak/anaconda3/envs/mace/lib/python3.13/site-packages/ase/filters.py:606: RuntimeWarning: logm result may be inaccurate, approximate err = 3.304783767059139e-13\n",
      "  pos[natoms:] = self.logm(pos[natoms:]) * self.exp_cell_factor\n"
     ]
    },
    {
     "name": "stdout",
     "output_type": "stream",
     "text": [
      "FIRE:   61 17:05:08    -2956.939590        0.172938\n"
     ]
    },
    {
     "name": "stderr",
     "output_type": "stream",
     "text": [
      "/home/mehuldarak/anaconda3/envs/mace/lib/python3.13/site-packages/ase/filters.py:606: RuntimeWarning: logm result may be inaccurate, approximate err = 3.2697163407231375e-13\n",
      "  pos[natoms:] = self.logm(pos[natoms:]) * self.exp_cell_factor\n"
     ]
    },
    {
     "name": "stdout",
     "output_type": "stream",
     "text": [
      "FIRE:   62 17:05:09    -2956.945290        0.199958\n"
     ]
    },
    {
     "name": "stderr",
     "output_type": "stream",
     "text": [
      "/home/mehuldarak/anaconda3/envs/mace/lib/python3.13/site-packages/ase/filters.py:606: RuntimeWarning: logm result may be inaccurate, approximate err = 3.3703348744268727e-13\n",
      "  pos[natoms:] = self.logm(pos[natoms:]) * self.exp_cell_factor\n"
     ]
    },
    {
     "name": "stdout",
     "output_type": "stream",
     "text": [
      "FIRE:   63 17:05:11    -2956.950989        0.246417\n"
     ]
    },
    {
     "name": "stderr",
     "output_type": "stream",
     "text": [
      "/home/mehuldarak/anaconda3/envs/mace/lib/python3.13/site-packages/ase/filters.py:606: RuntimeWarning: logm result may be inaccurate, approximate err = 3.297653725840034e-13\n",
      "  pos[natoms:] = self.logm(pos[natoms:]) * self.exp_cell_factor\n"
     ]
    },
    {
     "name": "stdout",
     "output_type": "stream",
     "text": [
      "FIRE:   64 17:05:12    -2956.960962        0.303737\n"
     ]
    },
    {
     "name": "stderr",
     "output_type": "stream",
     "text": [
      "/home/mehuldarak/anaconda3/envs/mace/lib/python3.13/site-packages/ase/filters.py:606: RuntimeWarning: logm result may be inaccurate, approximate err = 3.301358823775836e-13\n",
      "  pos[natoms:] = self.logm(pos[natoms:]) * self.exp_cell_factor\n"
     ]
    },
    {
     "name": "stdout",
     "output_type": "stream",
     "text": [
      "FIRE:   65 17:05:13    -2956.974735        0.427003\n"
     ]
    },
    {
     "name": "stderr",
     "output_type": "stream",
     "text": [
      "/home/mehuldarak/anaconda3/envs/mace/lib/python3.13/site-packages/ase/filters.py:606: RuntimeWarning: logm result may be inaccurate, approximate err = 3.3972491101642693e-13\n",
      "  pos[natoms:] = self.logm(pos[natoms:]) * self.exp_cell_factor\n"
     ]
    },
    {
     "name": "stdout",
     "output_type": "stream",
     "text": [
      "FIRE:   66 17:05:14    -2956.996107        0.497611\n"
     ]
    },
    {
     "name": "stderr",
     "output_type": "stream",
     "text": [
      "/home/mehuldarak/anaconda3/envs/mace/lib/python3.13/site-packages/ase/filters.py:606: RuntimeWarning: logm result may be inaccurate, approximate err = 3.2932715840198685e-13\n",
      "  pos[natoms:] = self.logm(pos[natoms:]) * self.exp_cell_factor\n"
     ]
    },
    {
     "name": "stdout",
     "output_type": "stream",
     "text": [
      "FIRE:   67 17:05:15    -2957.023890        0.346026\n"
     ]
    },
    {
     "name": "stderr",
     "output_type": "stream",
     "text": [
      "/home/mehuldarak/anaconda3/envs/mace/lib/python3.13/site-packages/ase/filters.py:606: RuntimeWarning: logm result may be inaccurate, approximate err = 3.326397790013412e-13\n",
      "  pos[natoms:] = self.logm(pos[natoms:]) * self.exp_cell_factor\n"
     ]
    },
    {
     "name": "stdout",
     "output_type": "stream",
     "text": [
      "FIRE:   68 17:05:17    -2957.044550        0.369419\n"
     ]
    },
    {
     "name": "stderr",
     "output_type": "stream",
     "text": [
      "/home/mehuldarak/anaconda3/envs/mace/lib/python3.13/site-packages/ase/filters.py:606: RuntimeWarning: logm result may be inaccurate, approximate err = 3.3040366318495273e-13\n",
      "  pos[natoms:] = self.logm(pos[natoms:]) * self.exp_cell_factor\n"
     ]
    },
    {
     "name": "stdout",
     "output_type": "stream",
     "text": [
      "FIRE:   69 17:05:18    -2957.063072        0.253131\n"
     ]
    },
    {
     "name": "stderr",
     "output_type": "stream",
     "text": [
      "/home/mehuldarak/anaconda3/envs/mace/lib/python3.13/site-packages/ase/filters.py:606: RuntimeWarning: logm result may be inaccurate, approximate err = 3.332025132369722e-13\n",
      "  pos[natoms:] = self.logm(pos[natoms:]) * self.exp_cell_factor\n"
     ]
    },
    {
     "name": "stdout",
     "output_type": "stream",
     "text": [
      "FIRE:   70 17:05:19    -2957.081120        0.191314\n"
     ]
    },
    {
     "name": "stderr",
     "output_type": "stream",
     "text": [
      "/home/mehuldarak/anaconda3/envs/mace/lib/python3.13/site-packages/ase/filters.py:606: RuntimeWarning: logm result may be inaccurate, approximate err = 3.2916835034104833e-13\n",
      "  pos[natoms:] = self.logm(pos[natoms:]) * self.exp_cell_factor\n"
     ]
    },
    {
     "name": "stdout",
     "output_type": "stream",
     "text": [
      "FIRE:   71 17:05:20    -2957.098692        0.226437\n"
     ]
    },
    {
     "name": "stderr",
     "output_type": "stream",
     "text": [
      "/home/mehuldarak/anaconda3/envs/mace/lib/python3.13/site-packages/ase/filters.py:606: RuntimeWarning: logm result may be inaccurate, approximate err = 3.327503121887602e-13\n",
      "  pos[natoms:] = self.logm(pos[natoms:]) * self.exp_cell_factor\n"
     ]
    },
    {
     "name": "stdout",
     "output_type": "stream",
     "text": [
      "FIRE:   72 17:05:22    -2957.119826        0.316868\n"
     ]
    },
    {
     "name": "stderr",
     "output_type": "stream",
     "text": [
      "/home/mehuldarak/anaconda3/envs/mace/lib/python3.13/site-packages/ase/filters.py:606: RuntimeWarning: logm result may be inaccurate, approximate err = 3.313691064419545e-13\n",
      "  pos[natoms:] = self.logm(pos[natoms:]) * self.exp_cell_factor\n"
     ]
    },
    {
     "name": "stdout",
     "output_type": "stream",
     "text": [
      "FIRE:   73 17:05:23    -2957.145235        0.225687\n"
     ]
    },
    {
     "name": "stderr",
     "output_type": "stream",
     "text": [
      "/home/mehuldarak/anaconda3/envs/mace/lib/python3.13/site-packages/ase/filters.py:606: RuntimeWarning: logm result may be inaccurate, approximate err = 3.2265928546555565e-13\n",
      "  pos[natoms:] = self.logm(pos[natoms:]) * self.exp_cell_factor\n"
     ]
    },
    {
     "name": "stdout",
     "output_type": "stream",
     "text": [
      "FIRE:   74 17:05:24    -2957.176580        0.494396\n"
     ]
    },
    {
     "name": "stderr",
     "output_type": "stream",
     "text": [
      "/home/mehuldarak/anaconda3/envs/mace/lib/python3.13/site-packages/ase/filters.py:606: RuntimeWarning: logm result may be inaccurate, approximate err = 3.335662936624164e-13\n",
      "  pos[natoms:] = self.logm(pos[natoms:]) * self.exp_cell_factor\n"
     ]
    },
    {
     "name": "stdout",
     "output_type": "stream",
     "text": [
      "FIRE:   75 17:05:25    -2957.268242        0.769245\n"
     ]
    },
    {
     "name": "stderr",
     "output_type": "stream",
     "text": [
      "/home/mehuldarak/anaconda3/envs/mace/lib/python3.13/site-packages/ase/filters.py:606: RuntimeWarning: logm result may be inaccurate, approximate err = 3.37464201129754e-13\n",
      "  pos[natoms:] = self.logm(pos[natoms:]) * self.exp_cell_factor\n"
     ]
    },
    {
     "name": "stdout",
     "output_type": "stream",
     "text": [
      "FIRE:   76 17:05:27    -2957.339006        1.195513\n"
     ]
    },
    {
     "name": "stderr",
     "output_type": "stream",
     "text": [
      "/home/mehuldarak/anaconda3/envs/mace/lib/python3.13/site-packages/ase/filters.py:606: RuntimeWarning: logm result may be inaccurate, approximate err = 3.2617845522071913e-13\n",
      "  pos[natoms:] = self.logm(pos[natoms:]) * self.exp_cell_factor\n"
     ]
    },
    {
     "name": "stdout",
     "output_type": "stream",
     "text": [
      "FIRE:   77 17:05:28    -2957.396948        0.258369\n"
     ]
    },
    {
     "name": "stderr",
     "output_type": "stream",
     "text": [
      "/home/mehuldarak/anaconda3/envs/mace/lib/python3.13/site-packages/ase/filters.py:606: RuntimeWarning: logm result may be inaccurate, approximate err = 3.313533164081921e-13\n",
      "  pos[natoms:] = self.logm(pos[natoms:]) * self.exp_cell_factor\n"
     ]
    },
    {
     "name": "stdout",
     "output_type": "stream",
     "text": [
      "FIRE:   78 17:05:29    -2957.400510        0.255457\n"
     ]
    },
    {
     "name": "stderr",
     "output_type": "stream",
     "text": [
      "/home/mehuldarak/anaconda3/envs/mace/lib/python3.13/site-packages/ase/filters.py:606: RuntimeWarning: logm result may be inaccurate, approximate err = 3.1847270773578294e-13\n",
      "  pos[natoms:] = self.logm(pos[natoms:]) * self.exp_cell_factor\n"
     ]
    },
    {
     "name": "stdout",
     "output_type": "stream",
     "text": [
      "FIRE:   79 17:05:30    -2957.405022        0.249516\n"
     ]
    },
    {
     "name": "stderr",
     "output_type": "stream",
     "text": [
      "/home/mehuldarak/anaconda3/envs/mace/lib/python3.13/site-packages/ase/filters.py:606: RuntimeWarning: logm result may be inaccurate, approximate err = 3.3652850955563716e-13\n",
      "  pos[natoms:] = self.logm(pos[natoms:]) * self.exp_cell_factor\n"
     ]
    },
    {
     "name": "stdout",
     "output_type": "stream",
     "text": [
      "FIRE:   80 17:05:32    -2957.410483        0.240025\n"
     ]
    },
    {
     "name": "stderr",
     "output_type": "stream",
     "text": [
      "/home/mehuldarak/anaconda3/envs/mace/lib/python3.13/site-packages/ase/filters.py:606: RuntimeWarning: logm result may be inaccurate, approximate err = 3.350229524303428e-13\n",
      "  pos[natoms:] = self.logm(pos[natoms:]) * self.exp_cell_factor\n"
     ]
    },
    {
     "name": "stdout",
     "output_type": "stream",
     "text": [
      "FIRE:   81 17:05:33    -2957.416895        0.235654\n"
     ]
    },
    {
     "name": "stderr",
     "output_type": "stream",
     "text": [
      "/home/mehuldarak/anaconda3/envs/mace/lib/python3.13/site-packages/ase/filters.py:606: RuntimeWarning: logm result may be inaccurate, approximate err = 3.2579276013793517e-13\n",
      "  pos[natoms:] = self.logm(pos[natoms:]) * self.exp_cell_factor\n"
     ]
    },
    {
     "name": "stdout",
     "output_type": "stream",
     "text": [
      "FIRE:   82 17:05:34    -2957.425444        0.249755\n"
     ]
    },
    {
     "name": "stderr",
     "output_type": "stream",
     "text": [
      "/home/mehuldarak/anaconda3/envs/mace/lib/python3.13/site-packages/ase/filters.py:606: RuntimeWarning: logm result may be inaccurate, approximate err = 3.3235423082256064e-13\n",
      "  pos[natoms:] = self.logm(pos[natoms:]) * self.exp_cell_factor\n"
     ]
    },
    {
     "name": "stdout",
     "output_type": "stream",
     "text": [
      "FIRE:   83 17:05:36    -2957.434467        0.244472\n"
     ]
    },
    {
     "name": "stderr",
     "output_type": "stream",
     "text": [
      "/home/mehuldarak/anaconda3/envs/mace/lib/python3.13/site-packages/ase/filters.py:606: RuntimeWarning: logm result may be inaccurate, approximate err = 3.21570596421695e-13\n",
      "  pos[natoms:] = self.logm(pos[natoms:]) * self.exp_cell_factor\n"
     ]
    },
    {
     "name": "stdout",
     "output_type": "stream",
     "text": [
      "FIRE:   84 17:05:37    -2957.443491        0.205168\n"
     ]
    },
    {
     "name": "stderr",
     "output_type": "stream",
     "text": [
      "/home/mehuldarak/anaconda3/envs/mace/lib/python3.13/site-packages/ase/filters.py:606: RuntimeWarning: logm result may be inaccurate, approximate err = 3.2816103058190315e-13\n",
      "  pos[natoms:] = self.logm(pos[natoms:]) * self.exp_cell_factor\n"
     ]
    },
    {
     "name": "stdout",
     "output_type": "stream",
     "text": [
      "FIRE:   85 17:05:38    -2957.454177        0.183290\n"
     ]
    },
    {
     "name": "stderr",
     "output_type": "stream",
     "text": [
      "/home/mehuldarak/anaconda3/envs/mace/lib/python3.13/site-packages/ase/filters.py:606: RuntimeWarning: logm result may be inaccurate, approximate err = 3.242908566374349e-13\n",
      "  pos[natoms:] = self.logm(pos[natoms:]) * self.exp_cell_factor\n"
     ]
    },
    {
     "name": "stdout",
     "output_type": "stream",
     "text": [
      "FIRE:   86 17:05:39    -2957.465338        0.158550\n"
     ]
    },
    {
     "name": "stderr",
     "output_type": "stream",
     "text": [
      "/home/mehuldarak/anaconda3/envs/mace/lib/python3.13/site-packages/ase/filters.py:606: RuntimeWarning: logm result may be inaccurate, approximate err = 3.3131235613899914e-13\n",
      "  pos[natoms:] = self.logm(pos[natoms:]) * self.exp_cell_factor\n"
     ]
    },
    {
     "name": "stdout",
     "output_type": "stream",
     "text": [
      "FIRE:   87 17:05:40    -2957.477686        0.138193\n"
     ]
    },
    {
     "name": "stderr",
     "output_type": "stream",
     "text": [
      "/home/mehuldarak/anaconda3/envs/mace/lib/python3.13/site-packages/ase/filters.py:606: RuntimeWarning: logm result may be inaccurate, approximate err = 3.3820494184100305e-13\n",
      "  pos[natoms:] = self.logm(pos[natoms:]) * self.exp_cell_factor\n"
     ]
    },
    {
     "name": "stdout",
     "output_type": "stream",
     "text": [
      "FIRE:   88 17:05:42    -2957.490984        0.137836\n"
     ]
    },
    {
     "name": "stderr",
     "output_type": "stream",
     "text": [
      "/home/mehuldarak/anaconda3/envs/mace/lib/python3.13/site-packages/ase/filters.py:606: RuntimeWarning: logm result may be inaccurate, approximate err = 3.27050493650656e-13\n",
      "  pos[natoms:] = self.logm(pos[natoms:]) * self.exp_cell_factor\n"
     ]
    },
    {
     "name": "stdout",
     "output_type": "stream",
     "text": [
      "FIRE:   89 17:05:43    -2957.502145        0.137244\n"
     ]
    },
    {
     "name": "stderr",
     "output_type": "stream",
     "text": [
      "/home/mehuldarak/anaconda3/envs/mace/lib/python3.13/site-packages/ase/filters.py:606: RuntimeWarning: logm result may be inaccurate, approximate err = 3.2778414757864794e-13\n",
      "  pos[natoms:] = self.logm(pos[natoms:]) * self.exp_cell_factor\n"
     ]
    },
    {
     "name": "stdout",
     "output_type": "stream",
     "text": [
      "FIRE:   90 17:05:44    -2957.513306        0.136534\n"
     ]
    },
    {
     "name": "stderr",
     "output_type": "stream",
     "text": [
      "/home/mehuldarak/anaconda3/envs/mace/lib/python3.13/site-packages/ase/filters.py:606: RuntimeWarning: logm result may be inaccurate, approximate err = 3.3021274877983835e-13\n",
      "  pos[natoms:] = self.logm(pos[natoms:]) * self.exp_cell_factor\n"
     ]
    },
    {
     "name": "stdout",
     "output_type": "stream",
     "text": [
      "FIRE:   91 17:05:46    -2957.523992        0.135722\n"
     ]
    },
    {
     "name": "stderr",
     "output_type": "stream",
     "text": [
      "/home/mehuldarak/anaconda3/envs/mace/lib/python3.13/site-packages/ase/filters.py:606: RuntimeWarning: logm result may be inaccurate, approximate err = 3.2831486866008735e-13\n",
      "  pos[natoms:] = self.logm(pos[natoms:]) * self.exp_cell_factor\n"
     ]
    },
    {
     "name": "stdout",
     "output_type": "stream",
     "text": [
      "FIRE:   92 17:05:47    -2957.536340        0.151879\n"
     ]
    },
    {
     "name": "stderr",
     "output_type": "stream",
     "text": [
      "/home/mehuldarak/anaconda3/envs/mace/lib/python3.13/site-packages/ase/filters.py:606: RuntimeWarning: logm result may be inaccurate, approximate err = 3.278507561346733e-13\n",
      "  pos[natoms:] = self.logm(pos[natoms:]) * self.exp_cell_factor\n"
     ]
    },
    {
     "name": "stdout",
     "output_type": "stream",
     "text": [
      "FIRE:   93 17:05:48    -2957.549875        0.135011\n"
     ]
    },
    {
     "name": "stderr",
     "output_type": "stream",
     "text": [
      "/home/mehuldarak/anaconda3/envs/mace/lib/python3.13/site-packages/ase/filters.py:606: RuntimeWarning: logm result may be inaccurate, approximate err = 3.273845079880875e-13\n",
      "  pos[natoms:] = self.logm(pos[natoms:]) * self.exp_cell_factor\n"
     ]
    },
    {
     "name": "stdout",
     "output_type": "stream",
     "text": [
      "FIRE:   94 17:05:49    -2957.566260        0.132614\n"
     ]
    },
    {
     "name": "stderr",
     "output_type": "stream",
     "text": [
      "/home/mehuldarak/anaconda3/envs/mace/lib/python3.13/site-packages/ase/filters.py:606: RuntimeWarning: logm result may be inaccurate, approximate err = 3.271909493030498e-13\n",
      "  pos[natoms:] = self.logm(pos[natoms:]) * self.exp_cell_factor\n"
     ]
    },
    {
     "name": "stdout",
     "output_type": "stream",
     "text": [
      "FIRE:   95 17:05:51    -2957.585732        0.198090\n"
     ]
    },
    {
     "name": "stderr",
     "output_type": "stream",
     "text": [
      "/home/mehuldarak/anaconda3/envs/mace/lib/python3.13/site-packages/ase/filters.py:606: RuntimeWarning: logm result may be inaccurate, approximate err = 3.380253898969868e-13\n",
      "  pos[natoms:] = self.logm(pos[natoms:]) * self.exp_cell_factor\n"
     ]
    },
    {
     "name": "stdout",
     "output_type": "stream",
     "text": [
      "FIRE:   96 17:05:52    -2957.603067        0.352057\n"
     ]
    },
    {
     "name": "stderr",
     "output_type": "stream",
     "text": [
      "/home/mehuldarak/anaconda3/envs/mace/lib/python3.13/site-packages/ase/filters.py:606: RuntimeWarning: logm result may be inaccurate, approximate err = 3.2859247923466277e-13\n",
      "  pos[natoms:] = self.logm(pos[natoms:]) * self.exp_cell_factor\n"
     ]
    },
    {
     "name": "stdout",
     "output_type": "stream",
     "text": [
      "FIRE:   97 17:05:53    -2957.616603        0.580407\n"
     ]
    },
    {
     "name": "stderr",
     "output_type": "stream",
     "text": [
      "/home/mehuldarak/anaconda3/envs/mace/lib/python3.13/site-packages/ase/filters.py:606: RuntimeWarning: logm result may be inaccurate, approximate err = 3.205394245845445e-13\n",
      "  pos[natoms:] = self.logm(pos[natoms:]) * self.exp_cell_factor\n"
     ]
    },
    {
     "name": "stdout",
     "output_type": "stream",
     "text": [
      "FIRE:   98 17:05:54    -2957.630851        0.175919\n"
     ]
    },
    {
     "name": "stderr",
     "output_type": "stream",
     "text": [
      "/home/mehuldarak/anaconda3/envs/mace/lib/python3.13/site-packages/ase/filters.py:606: RuntimeWarning: logm result may be inaccurate, approximate err = 3.247373476759449e-13\n",
      "  pos[natoms:] = self.logm(pos[natoms:]) * self.exp_cell_factor\n"
     ]
    },
    {
     "name": "stdout",
     "output_type": "stream",
     "text": [
      "FIRE:   99 17:05:56    -2957.626339        0.557773\n"
     ]
    },
    {
     "name": "stderr",
     "output_type": "stream",
     "text": [
      "/home/mehuldarak/anaconda3/envs/mace/lib/python3.13/site-packages/ase/filters.py:606: RuntimeWarning: logm result may be inaccurate, approximate err = 3.358192560998567e-13\n",
      "  pos[natoms:] = self.logm(pos[natoms:]) * self.exp_cell_factor\n"
     ]
    },
    {
     "name": "stdout",
     "output_type": "stream",
     "text": [
      "FIRE:  100 17:05:57    -2957.630138        0.410933\n"
     ]
    },
    {
     "name": "stderr",
     "output_type": "stream",
     "text": [
      "/home/mehuldarak/anaconda3/envs/mace/lib/python3.13/site-packages/ase/filters.py:606: RuntimeWarning: logm result may be inaccurate, approximate err = 3.2641292092613123e-13\n",
      "  pos[natoms:] = self.logm(pos[natoms:]) * self.exp_cell_factor\n"
     ]
    },
    {
     "name": "stdout",
     "output_type": "stream",
     "text": [
      "FIRE:  101 17:05:58    -2957.634888        0.212122\n"
     ]
    },
    {
     "name": "stderr",
     "output_type": "stream",
     "text": [
      "/home/mehuldarak/anaconda3/envs/mace/lib/python3.13/site-packages/ase/filters.py:606: RuntimeWarning: logm result may be inaccurate, approximate err = 3.233631423412852e-13\n",
      "  pos[natoms:] = self.logm(pos[natoms:]) * self.exp_cell_factor\n"
     ]
    },
    {
     "name": "stdout",
     "output_type": "stream",
     "text": [
      "FIRE:  102 17:05:59    -2957.637025        0.128627\n"
     ]
    },
    {
     "name": "stderr",
     "output_type": "stream",
     "text": [
      "/home/mehuldarak/anaconda3/envs/mace/lib/python3.13/site-packages/ase/filters.py:606: RuntimeWarning: logm result may be inaccurate, approximate err = 3.2764098167596133e-13\n",
      "  pos[natoms:] = self.logm(pos[natoms:]) * self.exp_cell_factor\n"
     ]
    },
    {
     "name": "stdout",
     "output_type": "stream",
     "text": [
      "FIRE:  103 17:06:00    -2957.637025        0.128624\n"
     ]
    },
    {
     "name": "stderr",
     "output_type": "stream",
     "text": [
      "/home/mehuldarak/anaconda3/envs/mace/lib/python3.13/site-packages/ase/filters.py:606: RuntimeWarning: logm result may be inaccurate, approximate err = 3.296445858991783e-13\n",
      "  pos[natoms:] = self.logm(pos[natoms:]) * self.exp_cell_factor\n"
     ]
    },
    {
     "name": "stdout",
     "output_type": "stream",
     "text": [
      "FIRE:  104 17:06:02    -2957.637262        0.128618\n"
     ]
    },
    {
     "name": "stderr",
     "output_type": "stream",
     "text": [
      "/home/mehuldarak/anaconda3/envs/mace/lib/python3.13/site-packages/ase/filters.py:606: RuntimeWarning: logm result may be inaccurate, approximate err = 3.250924252572016e-13\n",
      "  pos[natoms:] = self.logm(pos[natoms:]) * self.exp_cell_factor\n"
     ]
    },
    {
     "name": "stdout",
     "output_type": "stream",
     "text": [
      "FIRE:  105 17:06:03    -2957.637975        0.128612\n"
     ]
    },
    {
     "name": "stderr",
     "output_type": "stream",
     "text": [
      "/home/mehuldarak/anaconda3/envs/mace/lib/python3.13/site-packages/ase/filters.py:606: RuntimeWarning: logm result may be inaccurate, approximate err = 3.30899714188563e-13\n",
      "  pos[natoms:] = self.logm(pos[natoms:]) * self.exp_cell_factor\n"
     ]
    },
    {
     "name": "stdout",
     "output_type": "stream",
     "text": [
      "FIRE:  106 17:06:05    -2957.637737        0.128601\n"
     ]
    },
    {
     "name": "stderr",
     "output_type": "stream",
     "text": [
      "/home/mehuldarak/anaconda3/envs/mace/lib/python3.13/site-packages/ase/filters.py:606: RuntimeWarning: logm result may be inaccurate, approximate err = 3.2975838817172925e-13\n",
      "  pos[natoms:] = self.logm(pos[natoms:]) * self.exp_cell_factor\n"
     ]
    },
    {
     "name": "stdout",
     "output_type": "stream",
     "text": [
      "FIRE:  107 17:06:06    -2957.638450        0.128594\n"
     ]
    },
    {
     "name": "stderr",
     "output_type": "stream",
     "text": [
      "/home/mehuldarak/anaconda3/envs/mace/lib/python3.13/site-packages/ase/filters.py:606: RuntimeWarning: logm result may be inaccurate, approximate err = 3.3129080814116455e-13\n",
      "  pos[natoms:] = self.logm(pos[natoms:]) * self.exp_cell_factor\n"
     ]
    },
    {
     "name": "stdout",
     "output_type": "stream",
     "text": [
      "FIRE:  108 17:06:07    -2957.638925        0.128586\n"
     ]
    },
    {
     "name": "stderr",
     "output_type": "stream",
     "text": [
      "/home/mehuldarak/anaconda3/envs/mace/lib/python3.13/site-packages/ase/filters.py:606: RuntimeWarning: logm result may be inaccurate, approximate err = 3.2984146459941885e-13\n",
      "  pos[natoms:] = self.logm(pos[natoms:]) * self.exp_cell_factor\n"
     ]
    },
    {
     "name": "stdout",
     "output_type": "stream",
     "text": [
      "FIRE:  109 17:06:08    -2957.639162        0.128576\n"
     ]
    },
    {
     "name": "stderr",
     "output_type": "stream",
     "text": [
      "/home/mehuldarak/anaconda3/envs/mace/lib/python3.13/site-packages/ase/filters.py:606: RuntimeWarning: logm result may be inaccurate, approximate err = 3.3411372984647823e-13\n",
      "  pos[natoms:] = self.logm(pos[natoms:]) * self.exp_cell_factor\n"
     ]
    },
    {
     "name": "stdout",
     "output_type": "stream",
     "text": [
      "FIRE:  110 17:06:09    -2957.639637        0.128563\n"
     ]
    },
    {
     "name": "stderr",
     "output_type": "stream",
     "text": [
      "/home/mehuldarak/anaconda3/envs/mace/lib/python3.13/site-packages/ase/filters.py:606: RuntimeWarning: logm result may be inaccurate, approximate err = 3.3111168093595465e-13\n",
      "  pos[natoms:] = self.logm(pos[natoms:]) * self.exp_cell_factor\n"
     ]
    },
    {
     "name": "stdout",
     "output_type": "stream",
     "text": [
      "FIRE:  111 17:06:11    -2957.640112        0.128544\n"
     ]
    },
    {
     "name": "stderr",
     "output_type": "stream",
     "text": [
      "/home/mehuldarak/anaconda3/envs/mace/lib/python3.13/site-packages/ase/filters.py:606: RuntimeWarning: logm result may be inaccurate, approximate err = 3.225467109065589e-13\n",
      "  pos[natoms:] = self.logm(pos[natoms:]) * self.exp_cell_factor\n"
     ]
    },
    {
     "name": "stdout",
     "output_type": "stream",
     "text": [
      "FIRE:  112 17:06:12    -2957.641537        0.128519\n"
     ]
    },
    {
     "name": "stderr",
     "output_type": "stream",
     "text": [
      "/home/mehuldarak/anaconda3/envs/mace/lib/python3.13/site-packages/ase/filters.py:606: RuntimeWarning: logm result may be inaccurate, approximate err = 3.3108325332151143e-13\n",
      "  pos[natoms:] = self.logm(pos[natoms:]) * self.exp_cell_factor\n"
     ]
    },
    {
     "name": "stdout",
     "output_type": "stream",
     "text": [
      "FIRE:  113 17:06:13    -2957.642249        0.128489\n"
     ]
    },
    {
     "name": "stderr",
     "output_type": "stream",
     "text": [
      "/home/mehuldarak/anaconda3/envs/mace/lib/python3.13/site-packages/ase/filters.py:606: RuntimeWarning: logm result may be inaccurate, approximate err = 3.3335100079286904e-13\n",
      "  pos[natoms:] = self.logm(pos[natoms:]) * self.exp_cell_factor\n"
     ]
    },
    {
     "name": "stdout",
     "output_type": "stream",
     "text": [
      "FIRE:  114 17:06:14    -2957.644149        0.128451\n"
     ]
    },
    {
     "name": "stderr",
     "output_type": "stream",
     "text": [
      "/home/mehuldarak/anaconda3/envs/mace/lib/python3.13/site-packages/ase/filters.py:606: RuntimeWarning: logm result may be inaccurate, approximate err = 3.35875671815672e-13\n",
      "  pos[natoms:] = self.logm(pos[natoms:]) * self.exp_cell_factor\n"
     ]
    },
    {
     "name": "stdout",
     "output_type": "stream",
     "text": [
      "FIRE:  115 17:06:16    -2957.646049        0.128407\n"
     ]
    },
    {
     "name": "stderr",
     "output_type": "stream",
     "text": [
      "/home/mehuldarak/anaconda3/envs/mace/lib/python3.13/site-packages/ase/filters.py:606: RuntimeWarning: logm result may be inaccurate, approximate err = 3.239290029464966e-13\n",
      "  pos[natoms:] = self.logm(pos[natoms:]) * self.exp_cell_factor\n"
     ]
    },
    {
     "name": "stdout",
     "output_type": "stream",
     "text": [
      "FIRE:  116 17:06:17    -2957.648186        0.128353\n"
     ]
    },
    {
     "name": "stderr",
     "output_type": "stream",
     "text": [
      "/home/mehuldarak/anaconda3/envs/mace/lib/python3.13/site-packages/ase/filters.py:606: RuntimeWarning: logm result may be inaccurate, approximate err = 3.277452148543602e-13\n",
      "  pos[natoms:] = self.logm(pos[natoms:]) * self.exp_cell_factor\n"
     ]
    },
    {
     "name": "stdout",
     "output_type": "stream",
     "text": [
      "FIRE:  117 17:06:18    -2957.650085        0.128284\n"
     ]
    },
    {
     "name": "stderr",
     "output_type": "stream",
     "text": [
      "/home/mehuldarak/anaconda3/envs/mace/lib/python3.13/site-packages/ase/filters.py:606: RuntimeWarning: logm result may be inaccurate, approximate err = 3.2377730122033063e-13\n",
      "  pos[natoms:] = self.logm(pos[natoms:]) * self.exp_cell_factor\n"
     ]
    },
    {
     "name": "stdout",
     "output_type": "stream",
     "text": [
      "FIRE:  118 17:06:19    -2957.652935        0.128196\n"
     ]
    },
    {
     "name": "stderr",
     "output_type": "stream",
     "text": [
      "/home/mehuldarak/anaconda3/envs/mace/lib/python3.13/site-packages/ase/filters.py:606: RuntimeWarning: logm result may be inaccurate, approximate err = 3.286273762748768e-13\n",
      "  pos[natoms:] = self.logm(pos[natoms:]) * self.exp_cell_factor\n"
     ]
    },
    {
     "name": "stdout",
     "output_type": "stream",
     "text": [
      "FIRE:  119 17:06:21    -2957.656260        0.128085\n"
     ]
    },
    {
     "name": "stderr",
     "output_type": "stream",
     "text": [
      "/home/mehuldarak/anaconda3/envs/mace/lib/python3.13/site-packages/ase/filters.py:606: RuntimeWarning: logm result may be inaccurate, approximate err = 3.296478228306896e-13\n",
      "  pos[natoms:] = self.logm(pos[natoms:]) * self.exp_cell_factor\n"
     ]
    },
    {
     "name": "stdout",
     "output_type": "stream",
     "text": [
      "FIRE:  120 17:06:22    -2957.659584        0.127937\n"
     ]
    },
    {
     "name": "stderr",
     "output_type": "stream",
     "text": [
      "/home/mehuldarak/anaconda3/envs/mace/lib/python3.13/site-packages/ase/filters.py:606: RuntimeWarning: logm result may be inaccurate, approximate err = 3.3963627274344965e-13\n",
      "  pos[natoms:] = self.logm(pos[natoms:]) * self.exp_cell_factor\n"
     ]
    },
    {
     "name": "stdout",
     "output_type": "stream",
     "text": [
      "FIRE:  121 17:06:23    -2957.663383        0.127741\n"
     ]
    },
    {
     "name": "stderr",
     "output_type": "stream",
     "text": [
      "/home/mehuldarak/anaconda3/envs/mace/lib/python3.13/site-packages/ase/filters.py:606: RuntimeWarning: logm result may be inaccurate, approximate err = 3.266103976581568e-13\n",
      "  pos[natoms:] = self.logm(pos[natoms:]) * self.exp_cell_factor\n"
     ]
    },
    {
     "name": "stdout",
     "output_type": "stream",
     "text": [
      "FIRE:  122 17:06:25    -2957.668133        0.127494\n"
     ]
    },
    {
     "name": "stderr",
     "output_type": "stream",
     "text": [
      "/home/mehuldarak/anaconda3/envs/mace/lib/python3.13/site-packages/ase/filters.py:606: RuntimeWarning: logm result may be inaccurate, approximate err = 3.2414940325881524e-13\n",
      "  pos[natoms:] = self.logm(pos[natoms:]) * self.exp_cell_factor\n"
     ]
    },
    {
     "name": "stdout",
     "output_type": "stream",
     "text": [
      "FIRE:  123 17:06:26    -2957.674782        0.127181\n"
     ]
    },
    {
     "name": "stderr",
     "output_type": "stream",
     "text": [
      "/home/mehuldarak/anaconda3/envs/mace/lib/python3.13/site-packages/ase/filters.py:606: RuntimeWarning: logm result may be inaccurate, approximate err = 3.258824611017941e-13\n",
      "  pos[natoms:] = self.logm(pos[natoms:]) * self.exp_cell_factor\n"
     ]
    },
    {
     "name": "stdout",
     "output_type": "stream",
     "text": [
      "FIRE:  124 17:06:27    -2957.681431        0.126762\n"
     ]
    },
    {
     "name": "stderr",
     "output_type": "stream",
     "text": [
      "/home/mehuldarak/anaconda3/envs/mace/lib/python3.13/site-packages/ase/filters.py:606: RuntimeWarning: logm result may be inaccurate, approximate err = 3.211307968266099e-13\n",
      "  pos[natoms:] = self.logm(pos[natoms:]) * self.exp_cell_factor\n"
     ]
    },
    {
     "name": "stdout",
     "output_type": "stream",
     "text": [
      "FIRE:  125 17:06:28    -2957.689030        0.126205\n"
     ]
    },
    {
     "name": "stderr",
     "output_type": "stream",
     "text": [
      "/home/mehuldarak/anaconda3/envs/mace/lib/python3.13/site-packages/ase/filters.py:606: RuntimeWarning: logm result may be inaccurate, approximate err = 3.291168595416701e-13\n",
      "  pos[natoms:] = self.logm(pos[natoms:]) * self.exp_cell_factor\n"
     ]
    },
    {
     "name": "stdout",
     "output_type": "stream",
     "text": [
      "FIRE:  126 17:06:29    -2957.698766        0.125532\n"
     ]
    },
    {
     "name": "stderr",
     "output_type": "stream",
     "text": [
      "/home/mehuldarak/anaconda3/envs/mace/lib/python3.13/site-packages/ase/filters.py:606: RuntimeWarning: logm result may be inaccurate, approximate err = 3.372575088136862e-13\n",
      "  pos[natoms:] = self.logm(pos[natoms:]) * self.exp_cell_factor\n"
     ]
    },
    {
     "name": "stdout",
     "output_type": "stream",
     "text": [
      "FIRE:  127 17:06:31    -2957.708977        0.124683\n"
     ]
    },
    {
     "name": "stderr",
     "output_type": "stream",
     "text": [
      "/home/mehuldarak/anaconda3/envs/mace/lib/python3.13/site-packages/ase/filters.py:606: RuntimeWarning: logm result may be inaccurate, approximate err = 3.3575417674175146e-13\n",
      "  pos[natoms:] = self.logm(pos[natoms:]) * self.exp_cell_factor\n"
     ]
    },
    {
     "name": "stdout",
     "output_type": "stream",
     "text": [
      "FIRE:  128 17:06:32    -2957.721562        0.123720\n"
     ]
    },
    {
     "name": "stderr",
     "output_type": "stream",
     "text": [
      "/home/mehuldarak/anaconda3/envs/mace/lib/python3.13/site-packages/ase/filters.py:606: RuntimeWarning: logm result may be inaccurate, approximate err = 3.3061062607830243e-13\n",
      "  pos[natoms:] = self.logm(pos[natoms:]) * self.exp_cell_factor\n"
     ]
    },
    {
     "name": "stdout",
     "output_type": "stream",
     "text": [
      "FIRE:  129 17:06:33    -2957.736760        0.122445\n"
     ]
    },
    {
     "name": "stderr",
     "output_type": "stream",
     "text": [
      "/home/mehuldarak/anaconda3/envs/mace/lib/python3.13/site-packages/ase/filters.py:606: RuntimeWarning: logm result may be inaccurate, approximate err = 3.3336686458682773e-13\n",
      "  pos[natoms:] = self.logm(pos[natoms:]) * self.exp_cell_factor\n"
     ]
    },
    {
     "name": "stdout",
     "output_type": "stream",
     "text": [
      "FIRE:  130 17:06:34    -2957.751245        0.254798\n"
     ]
    },
    {
     "name": "stderr",
     "output_type": "stream",
     "text": [
      "/home/mehuldarak/anaconda3/envs/mace/lib/python3.13/site-packages/ase/filters.py:606: RuntimeWarning: logm result may be inaccurate, approximate err = 3.3310097164237683e-13\n",
      "  pos[natoms:] = self.logm(pos[natoms:]) * self.exp_cell_factor\n"
     ]
    },
    {
     "name": "stdout",
     "output_type": "stream",
     "text": [
      "FIRE:  131 17:06:36    -2957.761219        0.520336\n"
     ]
    },
    {
     "name": "stderr",
     "output_type": "stream",
     "text": [
      "/home/mehuldarak/anaconda3/envs/mace/lib/python3.13/site-packages/ase/filters.py:606: RuntimeWarning: logm result may be inaccurate, approximate err = 3.298143025263533e-13\n",
      "  pos[natoms:] = self.logm(pos[natoms:]) * self.exp_cell_factor\n"
     ]
    },
    {
     "name": "stdout",
     "output_type": "stream",
     "text": [
      "FIRE:  132 17:06:37    -2957.774280        0.141222\n"
     ]
    },
    {
     "name": "stderr",
     "output_type": "stream",
     "text": [
      "/home/mehuldarak/anaconda3/envs/mace/lib/python3.13/site-packages/ase/filters.py:606: RuntimeWarning: logm result may be inaccurate, approximate err = 3.3026498125783075e-13\n",
      "  pos[natoms:] = self.logm(pos[natoms:]) * self.exp_cell_factor\n"
     ]
    },
    {
     "name": "stdout",
     "output_type": "stream",
     "text": [
      "FIRE:  133 17:06:38    -2957.766918        0.386844\n"
     ]
    },
    {
     "name": "stderr",
     "output_type": "stream",
     "text": [
      "/home/mehuldarak/anaconda3/envs/mace/lib/python3.13/site-packages/ase/filters.py:606: RuntimeWarning: logm result may be inaccurate, approximate err = 3.2860578949391543e-13\n",
      "  pos[natoms:] = self.logm(pos[natoms:]) * self.exp_cell_factor\n"
     ]
    },
    {
     "name": "stdout",
     "output_type": "stream",
     "text": [
      "FIRE:  134 17:06:40    -2957.770243        0.311096\n"
     ]
    },
    {
     "name": "stderr",
     "output_type": "stream",
     "text": [
      "/home/mehuldarak/anaconda3/envs/mace/lib/python3.13/site-packages/ase/filters.py:606: RuntimeWarning: logm result may be inaccurate, approximate err = 3.3349609646990355e-13\n",
      "  pos[natoms:] = self.logm(pos[natoms:]) * self.exp_cell_factor\n"
     ]
    },
    {
     "name": "stdout",
     "output_type": "stream",
     "text": [
      "FIRE:  135 17:06:41    -2957.774992        0.175657\n"
     ]
    },
    {
     "name": "stderr",
     "output_type": "stream",
     "text": [
      "/home/mehuldarak/anaconda3/envs/mace/lib/python3.13/site-packages/ase/filters.py:606: RuntimeWarning: logm result may be inaccurate, approximate err = 3.240677237822101e-13\n",
      "  pos[natoms:] = self.logm(pos[natoms:]) * self.exp_cell_factor\n"
     ]
    },
    {
     "name": "stdout",
     "output_type": "stream",
     "text": [
      "FIRE:  136 17:06:42    -2957.775942        0.119493\n"
     ]
    },
    {
     "name": "stderr",
     "output_type": "stream",
     "text": [
      "/home/mehuldarak/anaconda3/envs/mace/lib/python3.13/site-packages/ase/filters.py:606: RuntimeWarning: logm result may be inaccurate, approximate err = 3.316891750383639e-13\n",
      "  pos[natoms:] = self.logm(pos[natoms:]) * self.exp_cell_factor\n"
     ]
    },
    {
     "name": "stdout",
     "output_type": "stream",
     "text": [
      "FIRE:  137 17:06:43    -2957.776179        0.119488\n"
     ]
    },
    {
     "name": "stderr",
     "output_type": "stream",
     "text": [
      "/home/mehuldarak/anaconda3/envs/mace/lib/python3.13/site-packages/ase/filters.py:606: RuntimeWarning: logm result may be inaccurate, approximate err = 3.252508032297945e-13\n",
      "  pos[natoms:] = self.logm(pos[natoms:]) * self.exp_cell_factor\n"
     ]
    },
    {
     "name": "stdout",
     "output_type": "stream",
     "text": [
      "FIRE:  138 17:06:45    -2957.776417        0.119484\n"
     ]
    },
    {
     "name": "stderr",
     "output_type": "stream",
     "text": [
      "/home/mehuldarak/anaconda3/envs/mace/lib/python3.13/site-packages/ase/filters.py:606: RuntimeWarning: logm result may be inaccurate, approximate err = 3.232216936319473e-13\n",
      "  pos[natoms:] = self.logm(pos[natoms:]) * self.exp_cell_factor\n"
     ]
    },
    {
     "name": "stdout",
     "output_type": "stream",
     "text": [
      "FIRE:  139 17:06:46    -2957.776654        0.119477\n"
     ]
    },
    {
     "name": "stderr",
     "output_type": "stream",
     "text": [
      "/home/mehuldarak/anaconda3/envs/mace/lib/python3.13/site-packages/ase/filters.py:606: RuntimeWarning: logm result may be inaccurate, approximate err = 3.233691330211908e-13\n",
      "  pos[natoms:] = self.logm(pos[natoms:]) * self.exp_cell_factor\n"
     ]
    },
    {
     "name": "stdout",
     "output_type": "stream",
     "text": [
      "FIRE:  140 17:06:47    -2957.777367        0.119466\n"
     ]
    },
    {
     "name": "stderr",
     "output_type": "stream",
     "text": [
      "/home/mehuldarak/anaconda3/envs/mace/lib/python3.13/site-packages/ase/filters.py:606: RuntimeWarning: logm result may be inaccurate, approximate err = 3.235985860357747e-13\n",
      "  pos[natoms:] = self.logm(pos[natoms:]) * self.exp_cell_factor\n"
     ]
    },
    {
     "name": "stdout",
     "output_type": "stream",
     "text": [
      "FIRE:  141 17:06:48    -2957.777604        0.119455\n"
     ]
    },
    {
     "name": "stderr",
     "output_type": "stream",
     "text": [
      "/home/mehuldarak/anaconda3/envs/mace/lib/python3.13/site-packages/ase/filters.py:606: RuntimeWarning: logm result may be inaccurate, approximate err = 3.1857694325773484e-13\n",
      "  pos[natoms:] = self.logm(pos[natoms:]) * self.exp_cell_factor\n"
     ]
    },
    {
     "name": "stdout",
     "output_type": "stream",
     "text": [
      "FIRE:  142 17:06:49    -2957.778079        0.119442\n"
     ]
    },
    {
     "name": "stderr",
     "output_type": "stream",
     "text": [
      "/home/mehuldarak/anaconda3/envs/mace/lib/python3.13/site-packages/ase/filters.py:606: RuntimeWarning: logm result may be inaccurate, approximate err = 3.2385402225656677e-13\n",
      "  pos[natoms:] = self.logm(pos[natoms:]) * self.exp_cell_factor\n"
     ]
    },
    {
     "name": "stdout",
     "output_type": "stream",
     "text": [
      "FIRE:  143 17:06:51    -2957.777842        0.119425\n"
     ]
    },
    {
     "name": "stderr",
     "output_type": "stream",
     "text": [
      "/home/mehuldarak/anaconda3/envs/mace/lib/python3.13/site-packages/ase/filters.py:606: RuntimeWarning: logm result may be inaccurate, approximate err = 3.3199139860559723e-13\n",
      "  pos[natoms:] = self.logm(pos[natoms:]) * self.exp_cell_factor\n"
     ]
    },
    {
     "name": "stdout",
     "output_type": "stream",
     "text": [
      "FIRE:  144 17:06:52    -2957.778079        0.119405\n"
     ]
    },
    {
     "name": "stderr",
     "output_type": "stream",
     "text": [
      "/home/mehuldarak/anaconda3/envs/mace/lib/python3.13/site-packages/ase/filters.py:606: RuntimeWarning: logm result may be inaccurate, approximate err = 3.34218459181859e-13\n",
      "  pos[natoms:] = self.logm(pos[natoms:]) * self.exp_cell_factor\n"
     ]
    },
    {
     "name": "stdout",
     "output_type": "stream",
     "text": [
      "FIRE:  145 17:06:54    -2957.778554        0.119380\n"
     ]
    },
    {
     "name": "stderr",
     "output_type": "stream",
     "text": [
      "/home/mehuldarak/anaconda3/envs/mace/lib/python3.13/site-packages/ase/filters.py:606: RuntimeWarning: logm result may be inaccurate, approximate err = 3.26855567205551e-13\n",
      "  pos[natoms:] = self.logm(pos[natoms:]) * self.exp_cell_factor\n"
     ]
    },
    {
     "name": "stdout",
     "output_type": "stream",
     "text": [
      "FIRE:  146 17:06:55    -2957.778554        0.119350\n"
     ]
    },
    {
     "name": "stderr",
     "output_type": "stream",
     "text": [
      "/home/mehuldarak/anaconda3/envs/mace/lib/python3.13/site-packages/ase/filters.py:606: RuntimeWarning: logm result may be inaccurate, approximate err = 3.3132095178888363e-13\n",
      "  pos[natoms:] = self.logm(pos[natoms:]) * self.exp_cell_factor\n"
     ]
    },
    {
     "name": "stdout",
     "output_type": "stream",
     "text": [
      "FIRE:  147 17:06:56    -2957.779029        0.119316\n"
     ]
    },
    {
     "name": "stderr",
     "output_type": "stream",
     "text": [
      "/home/mehuldarak/anaconda3/envs/mace/lib/python3.13/site-packages/ase/filters.py:606: RuntimeWarning: logm result may be inaccurate, approximate err = 3.278723186768372e-13\n",
      "  pos[natoms:] = self.logm(pos[natoms:]) * self.exp_cell_factor\n"
     ]
    },
    {
     "name": "stdout",
     "output_type": "stream",
     "text": [
      "FIRE:  148 17:06:57    -2957.780216        0.119276\n"
     ]
    },
    {
     "name": "stderr",
     "output_type": "stream",
     "text": [
      "/home/mehuldarak/anaconda3/envs/mace/lib/python3.13/site-packages/ase/filters.py:606: RuntimeWarning: logm result may be inaccurate, approximate err = 3.2956917251696395e-13\n",
      "  pos[natoms:] = self.logm(pos[natoms:]) * self.exp_cell_factor\n"
     ]
    },
    {
     "name": "stdout",
     "output_type": "stream",
     "text": [
      "FIRE:  149 17:06:58    -2957.781166        0.119226\n"
     ]
    },
    {
     "name": "stderr",
     "output_type": "stream",
     "text": [
      "/home/mehuldarak/anaconda3/envs/mace/lib/python3.13/site-packages/ase/filters.py:606: RuntimeWarning: logm result may be inaccurate, approximate err = 3.257522881029342e-13\n",
      "  pos[natoms:] = self.logm(pos[natoms:]) * self.exp_cell_factor\n"
     ]
    },
    {
     "name": "stdout",
     "output_type": "stream",
     "text": [
      "FIRE:  150 17:07:00    -2957.782116        0.119167\n"
     ]
    },
    {
     "name": "stderr",
     "output_type": "stream",
     "text": [
      "/home/mehuldarak/anaconda3/envs/mace/lib/python3.13/site-packages/ase/filters.py:606: RuntimeWarning: logm result may be inaccurate, approximate err = 3.2480461259000025e-13\n",
      "  pos[natoms:] = self.logm(pos[natoms:]) * self.exp_cell_factor\n"
     ]
    },
    {
     "name": "stdout",
     "output_type": "stream",
     "text": [
      "FIRE:  151 17:07:01    -2957.783066        0.119090\n"
     ]
    },
    {
     "name": "stderr",
     "output_type": "stream",
     "text": [
      "/home/mehuldarak/anaconda3/envs/mace/lib/python3.13/site-packages/ase/filters.py:606: RuntimeWarning: logm result may be inaccurate, approximate err = 3.27813062800936e-13\n",
      "  pos[natoms:] = self.logm(pos[natoms:]) * self.exp_cell_factor\n"
     ]
    },
    {
     "name": "stdout",
     "output_type": "stream",
     "text": [
      "FIRE:  152 17:07:02    -2957.784491        0.118989\n"
     ]
    },
    {
     "name": "stderr",
     "output_type": "stream",
     "text": [
      "/home/mehuldarak/anaconda3/envs/mace/lib/python3.13/site-packages/ase/filters.py:606: RuntimeWarning: logm result may be inaccurate, approximate err = 3.263482603850197e-13\n",
      "  pos[natoms:] = self.logm(pos[natoms:]) * self.exp_cell_factor\n"
     ]
    },
    {
     "name": "stdout",
     "output_type": "stream",
     "text": [
      "FIRE:  153 17:07:03    -2957.787103        0.118857\n"
     ]
    },
    {
     "name": "stderr",
     "output_type": "stream",
     "text": [
      "/home/mehuldarak/anaconda3/envs/mace/lib/python3.13/site-packages/ase/filters.py:606: RuntimeWarning: logm result may be inaccurate, approximate err = 3.219566464086861e-13\n",
      "  pos[natoms:] = self.logm(pos[natoms:]) * self.exp_cell_factor\n"
     ]
    },
    {
     "name": "stdout",
     "output_type": "stream",
     "text": [
      "FIRE:  154 17:07:05    -2957.789715        0.118698\n"
     ]
    },
    {
     "name": "stderr",
     "output_type": "stream",
     "text": [
      "/home/mehuldarak/anaconda3/envs/mace/lib/python3.13/site-packages/ase/filters.py:606: RuntimeWarning: logm result may be inaccurate, approximate err = 3.212711055670953e-13\n",
      "  pos[natoms:] = self.logm(pos[natoms:]) * self.exp_cell_factor\n"
     ]
    },
    {
     "name": "stdout",
     "output_type": "stream",
     "text": [
      "FIRE:  155 17:07:06    -2957.792802        0.118521\n"
     ]
    },
    {
     "name": "stderr",
     "output_type": "stream",
     "text": [
      "/home/mehuldarak/anaconda3/envs/mace/lib/python3.13/site-packages/ase/filters.py:606: RuntimeWarning: logm result may be inaccurate, approximate err = 3.237344890630437e-13\n",
      "  pos[natoms:] = self.logm(pos[natoms:]) * self.exp_cell_factor\n"
     ]
    },
    {
     "name": "stdout",
     "output_type": "stream",
     "text": [
      "FIRE:  156 17:07:07    -2957.797076        0.118331\n"
     ]
    },
    {
     "name": "stderr",
     "output_type": "stream",
     "text": [
      "/home/mehuldarak/anaconda3/envs/mace/lib/python3.13/site-packages/ase/filters.py:606: RuntimeWarning: logm result may be inaccurate, approximate err = 3.298873808767723e-13\n",
      "  pos[natoms:] = self.logm(pos[natoms:]) * self.exp_cell_factor\n"
     ]
    },
    {
     "name": "stdout",
     "output_type": "stream",
     "text": [
      "FIRE:  157 17:07:09    -2957.802300        0.124328\n"
     ]
    },
    {
     "name": "stderr",
     "output_type": "stream",
     "text": [
      "/home/mehuldarak/anaconda3/envs/mace/lib/python3.13/site-packages/ase/filters.py:606: RuntimeWarning: logm result may be inaccurate, approximate err = 3.2682255869576696e-13\n",
      "  pos[natoms:] = self.logm(pos[natoms:]) * self.exp_cell_factor\n"
     ]
    },
    {
     "name": "stdout",
     "output_type": "stream",
     "text": [
      "FIRE:  158 17:07:10    -2957.810137        0.261212\n"
     ]
    },
    {
     "name": "stderr",
     "output_type": "stream",
     "text": [
      "/home/mehuldarak/anaconda3/envs/mace/lib/python3.13/site-packages/ase/filters.py:606: RuntimeWarning: logm result may be inaccurate, approximate err = 3.29964215193888e-13\n",
      "  pos[natoms:] = self.logm(pos[natoms:]) * self.exp_cell_factor\n"
     ]
    },
    {
     "name": "stdout",
     "output_type": "stream",
     "text": [
      "FIRE:  159 17:07:11    -2957.827472        0.506528\n"
     ]
    },
    {
     "name": "stderr",
     "output_type": "stream",
     "text": [
      "/home/mehuldarak/anaconda3/envs/mace/lib/python3.13/site-packages/ase/filters.py:606: RuntimeWarning: logm result may be inaccurate, approximate err = 3.310913816021199e-13\n",
      "  pos[natoms:] = self.logm(pos[natoms:]) * self.exp_cell_factor\n"
     ]
    },
    {
     "name": "stdout",
     "output_type": "stream",
     "text": [
      "FIRE:  160 17:07:12    -2957.868553        0.725537\n"
     ]
    },
    {
     "name": "stderr",
     "output_type": "stream",
     "text": [
      "/home/mehuldarak/anaconda3/envs/mace/lib/python3.13/site-packages/ase/filters.py:606: RuntimeWarning: logm result may be inaccurate, approximate err = 3.3152767824406496e-13\n",
      "  pos[natoms:] = self.logm(pos[natoms:]) * self.exp_cell_factor\n"
     ]
    },
    {
     "name": "stdout",
     "output_type": "stream",
     "text": [
      "FIRE:  161 17:07:14    -2957.939318        0.504495\n"
     ]
    },
    {
     "name": "stderr",
     "output_type": "stream",
     "text": [
      "/home/mehuldarak/anaconda3/envs/mace/lib/python3.13/site-packages/ase/filters.py:606: RuntimeWarning: logm result may be inaccurate, approximate err = 3.3798891397813524e-13\n",
      "  pos[natoms:] = self.logm(pos[natoms:]) * self.exp_cell_factor\n"
     ]
    },
    {
     "name": "stdout",
     "output_type": "stream",
     "text": [
      "FIRE:  162 17:07:15    -2957.989898        0.317664\n"
     ]
    },
    {
     "name": "stderr",
     "output_type": "stream",
     "text": [
      "/home/mehuldarak/anaconda3/envs/mace/lib/python3.13/site-packages/ase/filters.py:606: RuntimeWarning: logm result may be inaccurate, approximate err = 3.350680745352856e-13\n",
      "  pos[natoms:] = self.logm(pos[natoms:]) * self.exp_cell_factor\n"
     ]
    },
    {
     "name": "stdout",
     "output_type": "stream",
     "text": [
      "FIRE:  163 17:07:16    -2958.006995        0.447301\n"
     ]
    },
    {
     "name": "stderr",
     "output_type": "stream",
     "text": [
      "/home/mehuldarak/anaconda3/envs/mace/lib/python3.13/site-packages/ase/filters.py:606: RuntimeWarning: logm result may be inaccurate, approximate err = 3.320403109850783e-13\n",
      "  pos[natoms:] = self.logm(pos[natoms:]) * self.exp_cell_factor\n"
     ]
    },
    {
     "name": "stdout",
     "output_type": "stream",
     "text": [
      "FIRE:  164 17:07:17    -2958.012932        0.302621\n"
     ]
    },
    {
     "name": "stderr",
     "output_type": "stream",
     "text": [
      "/home/mehuldarak/anaconda3/envs/mace/lib/python3.13/site-packages/ase/filters.py:606: RuntimeWarning: logm result may be inaccurate, approximate err = 3.320606365590755e-13\n",
      "  pos[natoms:] = self.logm(pos[natoms:]) * self.exp_cell_factor\n"
     ]
    },
    {
     "name": "stdout",
     "output_type": "stream",
     "text": [
      "FIRE:  165 17:07:19    -2958.022193        0.281883\n"
     ]
    },
    {
     "name": "stderr",
     "output_type": "stream",
     "text": [
      "/home/mehuldarak/anaconda3/envs/mace/lib/python3.13/site-packages/ase/filters.py:606: RuntimeWarning: logm result may be inaccurate, approximate err = 3.352781525267291e-13\n",
      "  pos[natoms:] = self.logm(pos[natoms:]) * self.exp_cell_factor\n"
     ]
    },
    {
     "name": "stdout",
     "output_type": "stream",
     "text": [
      "FIRE:  166 17:07:20    -2958.030029        0.236527\n"
     ]
    },
    {
     "name": "stderr",
     "output_type": "stream",
     "text": [
      "/home/mehuldarak/anaconda3/envs/mace/lib/python3.13/site-packages/ase/filters.py:606: RuntimeWarning: logm result may be inaccurate, approximate err = 3.3331978341255836e-13\n",
      "  pos[natoms:] = self.logm(pos[natoms:]) * self.exp_cell_factor\n"
     ]
    },
    {
     "name": "stdout",
     "output_type": "stream",
     "text": [
      "FIRE:  167 17:07:21    -2958.038103        0.140678\n"
     ]
    },
    {
     "name": "stderr",
     "output_type": "stream",
     "text": [
      "/home/mehuldarak/anaconda3/envs/mace/lib/python3.13/site-packages/ase/filters.py:606: RuntimeWarning: logm result may be inaccurate, approximate err = 3.286175148216989e-13\n",
      "  pos[natoms:] = self.logm(pos[natoms:]) * self.exp_cell_factor\n"
     ]
    },
    {
     "name": "stdout",
     "output_type": "stream",
     "text": [
      "FIRE:  168 17:07:22    -2958.043802        0.116307\n"
     ]
    },
    {
     "name": "stderr",
     "output_type": "stream",
     "text": [
      "/home/mehuldarak/anaconda3/envs/mace/lib/python3.13/site-packages/ase/filters.py:606: RuntimeWarning: logm result may be inaccurate, approximate err = 3.3780337260204204e-13\n",
      "  pos[natoms:] = self.logm(pos[natoms:]) * self.exp_cell_factor\n"
     ]
    },
    {
     "name": "stdout",
     "output_type": "stream",
     "text": [
      "FIRE:  169 17:07:24    -2958.049264        0.116054\n"
     ]
    },
    {
     "name": "stderr",
     "output_type": "stream",
     "text": [
      "/home/mehuldarak/anaconda3/envs/mace/lib/python3.13/site-packages/ase/filters.py:606: RuntimeWarning: logm result may be inaccurate, approximate err = 3.3425830492453643e-13\n",
      "  pos[natoms:] = self.logm(pos[natoms:]) * self.exp_cell_factor\n"
     ]
    },
    {
     "name": "stdout",
     "output_type": "stream",
     "text": [
      "FIRE:  170 17:07:25    -2958.051876        0.201517\n"
     ]
    },
    {
     "name": "stderr",
     "output_type": "stream",
     "text": [
      "/home/mehuldarak/anaconda3/envs/mace/lib/python3.13/site-packages/ase/filters.py:606: RuntimeWarning: logm result may be inaccurate, approximate err = 3.2530123391275386e-13\n",
      "  pos[natoms:] = self.logm(pos[natoms:]) * self.exp_cell_factor\n"
     ]
    },
    {
     "name": "stdout",
     "output_type": "stream",
     "text": [
      "FIRE:  171 17:07:26    -2958.055201        0.236489\n"
     ]
    },
    {
     "name": "stderr",
     "output_type": "stream",
     "text": [
      "/home/mehuldarak/anaconda3/envs/mace/lib/python3.13/site-packages/ase/filters.py:606: RuntimeWarning: logm result may be inaccurate, approximate err = 3.322974833955651e-13\n",
      "  pos[natoms:] = self.logm(pos[natoms:]) * self.exp_cell_factor\n"
     ]
    },
    {
     "name": "stdout",
     "output_type": "stream",
     "text": [
      "FIRE:  172 17:07:27    -2958.061850        0.172679\n"
     ]
    },
    {
     "name": "stderr",
     "output_type": "stream",
     "text": [
      "/home/mehuldarak/anaconda3/envs/mace/lib/python3.13/site-packages/ase/filters.py:606: RuntimeWarning: logm result may be inaccurate, approximate err = 3.354497350809998e-13\n",
      "  pos[natoms:] = self.logm(pos[natoms:]) * self.exp_cell_factor\n"
     ]
    },
    {
     "name": "stdout",
     "output_type": "stream",
     "text": [
      "FIRE:  173 17:07:29    -2958.071823        0.150866\n"
     ]
    },
    {
     "name": "stderr",
     "output_type": "stream",
     "text": [
      "/home/mehuldarak/anaconda3/envs/mace/lib/python3.13/site-packages/ase/filters.py:606: RuntimeWarning: logm result may be inaccurate, approximate err = 3.3769009590584043e-13\n",
      "  pos[natoms:] = self.logm(pos[natoms:]) * self.exp_cell_factor\n"
     ]
    },
    {
     "name": "stdout",
     "output_type": "stream",
     "text": [
      "FIRE:  174 17:07:30    -2958.082984        0.119399\n"
     ]
    },
    {
     "name": "stderr",
     "output_type": "stream",
     "text": [
      "/home/mehuldarak/anaconda3/envs/mace/lib/python3.13/site-packages/ase/filters.py:606: RuntimeWarning: logm result may be inaccurate, approximate err = 3.3289801979969355e-13\n",
      "  pos[natoms:] = self.logm(pos[natoms:]) * self.exp_cell_factor\n"
     ]
    },
    {
     "name": "stdout",
     "output_type": "stream",
     "text": [
      "FIRE:  175 17:07:31    -2958.094857        0.113838\n"
     ]
    },
    {
     "name": "stderr",
     "output_type": "stream",
     "text": [
      "/home/mehuldarak/anaconda3/envs/mace/lib/python3.13/site-packages/ase/filters.py:606: RuntimeWarning: logm result may be inaccurate, approximate err = 3.2511229015422485e-13\n",
      "  pos[natoms:] = self.logm(pos[natoms:]) * self.exp_cell_factor\n"
     ]
    },
    {
     "name": "stdout",
     "output_type": "stream",
     "text": [
      "FIRE:  176 17:07:32    -2958.106018        0.151256\n"
     ]
    },
    {
     "name": "stderr",
     "output_type": "stream",
     "text": [
      "/home/mehuldarak/anaconda3/envs/mace/lib/python3.13/site-packages/ase/filters.py:606: RuntimeWarning: logm result may be inaccurate, approximate err = 3.3017832435304637e-13\n",
      "  pos[natoms:] = self.logm(pos[natoms:]) * self.exp_cell_factor\n"
     ]
    },
    {
     "name": "stdout",
     "output_type": "stream",
     "text": [
      "FIRE:  177 17:07:34    -2958.116467        0.132654\n"
     ]
    },
    {
     "name": "stderr",
     "output_type": "stream",
     "text": [
      "/home/mehuldarak/anaconda3/envs/mace/lib/python3.13/site-packages/ase/filters.py:606: RuntimeWarning: logm result may be inaccurate, approximate err = 3.349244777417535e-13\n",
      "  pos[natoms:] = self.logm(pos[natoms:]) * self.exp_cell_factor\n"
     ]
    },
    {
     "name": "stdout",
     "output_type": "stream",
     "text": [
      "FIRE:  178 17:07:35    -2958.128815        0.224197\n"
     ]
    },
    {
     "name": "stderr",
     "output_type": "stream",
     "text": [
      "/home/mehuldarak/anaconda3/envs/mace/lib/python3.13/site-packages/ase/filters.py:606: RuntimeWarning: logm result may be inaccurate, approximate err = 3.241099155344942e-13\n",
      "  pos[natoms:] = self.logm(pos[natoms:]) * self.exp_cell_factor\n"
     ]
    },
    {
     "name": "stdout",
     "output_type": "stream",
     "text": [
      "FIRE:  179 17:07:36    -2958.139738        0.394469\n"
     ]
    },
    {
     "name": "stderr",
     "output_type": "stream",
     "text": [
      "/home/mehuldarak/anaconda3/envs/mace/lib/python3.13/site-packages/ase/filters.py:606: RuntimeWarning: logm result may be inaccurate, approximate err = 3.325758132198173e-13\n",
      "  pos[natoms:] = self.logm(pos[natoms:]) * self.exp_cell_factor\n"
     ]
    },
    {
     "name": "stdout",
     "output_type": "stream",
     "text": [
      "FIRE:  180 17:07:38    -2958.148762        0.146456\n"
     ]
    },
    {
     "name": "stderr",
     "output_type": "stream",
     "text": [
      "/home/mehuldarak/anaconda3/envs/mace/lib/python3.13/site-packages/ase/filters.py:606: RuntimeWarning: logm result may be inaccurate, approximate err = 3.255152952408981e-13\n",
      "  pos[natoms:] = self.logm(pos[natoms:]) * self.exp_cell_factor\n"
     ]
    },
    {
     "name": "stdout",
     "output_type": "stream",
     "text": [
      "FIRE:  181 17:07:39    -2958.146150        0.272782\n"
     ]
    },
    {
     "name": "stderr",
     "output_type": "stream",
     "text": [
      "/home/mehuldarak/anaconda3/envs/mace/lib/python3.13/site-packages/ase/filters.py:606: RuntimeWarning: logm result may be inaccurate, approximate err = 3.315239281360327e-13\n",
      "  pos[natoms:] = self.logm(pos[natoms:]) * self.exp_cell_factor\n"
     ]
    },
    {
     "name": "stdout",
     "output_type": "stream",
     "text": [
      "FIRE:  182 17:07:40    -2958.147812        0.219252\n"
     ]
    },
    {
     "name": "stderr",
     "output_type": "stream",
     "text": [
      "/home/mehuldarak/anaconda3/envs/mace/lib/python3.13/site-packages/ase/filters.py:606: RuntimeWarning: logm result may be inaccurate, approximate err = 3.26442583046229e-13\n",
      "  pos[natoms:] = self.logm(pos[natoms:]) * self.exp_cell_factor\n"
     ]
    },
    {
     "name": "stdout",
     "output_type": "stream",
     "text": [
      "FIRE:  183 17:07:41    -2958.150187        0.133442\n"
     ]
    },
    {
     "name": "stderr",
     "output_type": "stream",
     "text": [
      "/home/mehuldarak/anaconda3/envs/mace/lib/python3.13/site-packages/ase/filters.py:606: RuntimeWarning: logm result may be inaccurate, approximate err = 3.31223371392302e-13\n",
      "  pos[natoms:] = self.logm(pos[natoms:]) * self.exp_cell_factor\n"
     ]
    },
    {
     "name": "stdout",
     "output_type": "stream",
     "text": [
      "FIRE:  184 17:07:43    -2958.152324        0.110167\n"
     ]
    },
    {
     "name": "stderr",
     "output_type": "stream",
     "text": [
      "/home/mehuldarak/anaconda3/envs/mace/lib/python3.13/site-packages/ase/filters.py:606: RuntimeWarning: logm result may be inaccurate, approximate err = 3.282723544820418e-13\n",
      "  pos[natoms:] = self.logm(pos[natoms:]) * self.exp_cell_factor\n"
     ]
    },
    {
     "name": "stdout",
     "output_type": "stream",
     "text": [
      "FIRE:  185 17:07:44    -2958.152324        0.110162\n"
     ]
    },
    {
     "name": "stderr",
     "output_type": "stream",
     "text": [
      "/home/mehuldarak/anaconda3/envs/mace/lib/python3.13/site-packages/ase/filters.py:606: RuntimeWarning: logm result may be inaccurate, approximate err = 3.3708294859420953e-13\n",
      "  pos[natoms:] = self.logm(pos[natoms:]) * self.exp_cell_factor\n"
     ]
    },
    {
     "name": "stdout",
     "output_type": "stream",
     "text": [
      "FIRE:  186 17:07:45    -2958.152799        0.110156\n"
     ]
    },
    {
     "name": "stderr",
     "output_type": "stream",
     "text": [
      "/home/mehuldarak/anaconda3/envs/mace/lib/python3.13/site-packages/ase/filters.py:606: RuntimeWarning: logm result may be inaccurate, approximate err = 3.347494328388683e-13\n",
      "  pos[natoms:] = self.logm(pos[natoms:]) * self.exp_cell_factor\n"
     ]
    },
    {
     "name": "stdout",
     "output_type": "stream",
     "text": [
      "FIRE:  187 17:07:46    -2958.152799        0.110144\n"
     ]
    },
    {
     "name": "stderr",
     "output_type": "stream",
     "text": [
      "/home/mehuldarak/anaconda3/envs/mace/lib/python3.13/site-packages/ase/filters.py:606: RuntimeWarning: logm result may be inaccurate, approximate err = 3.3491443427252403e-13\n",
      "  pos[natoms:] = self.logm(pos[natoms:]) * self.exp_cell_factor\n"
     ]
    },
    {
     "name": "stdout",
     "output_type": "stream",
     "text": [
      "FIRE:  188 17:07:48    -2958.153036        0.110130\n"
     ]
    },
    {
     "name": "stderr",
     "output_type": "stream",
     "text": [
      "/home/mehuldarak/anaconda3/envs/mace/lib/python3.13/site-packages/ase/filters.py:606: RuntimeWarning: logm result may be inaccurate, approximate err = 3.3149695739554944e-13\n",
      "  pos[natoms:] = self.logm(pos[natoms:]) * self.exp_cell_factor\n"
     ]
    },
    {
     "name": "stdout",
     "output_type": "stream",
     "text": [
      "FIRE:  189 17:07:49    -2958.153511        0.110115\n"
     ]
    },
    {
     "name": "stderr",
     "output_type": "stream",
     "text": [
      "/home/mehuldarak/anaconda3/envs/mace/lib/python3.13/site-packages/ase/filters.py:606: RuntimeWarning: logm result may be inaccurate, approximate err = 3.279190857254121e-13\n",
      "  pos[natoms:] = self.logm(pos[natoms:]) * self.exp_cell_factor\n"
     ]
    },
    {
     "name": "stdout",
     "output_type": "stream",
     "text": [
      "FIRE:  190 17:07:50    -2958.153511        0.110095\n"
     ]
    },
    {
     "name": "stderr",
     "output_type": "stream",
     "text": [
      "/home/mehuldarak/anaconda3/envs/mace/lib/python3.13/site-packages/ase/filters.py:606: RuntimeWarning: logm result may be inaccurate, approximate err = 3.158566795902271e-13\n",
      "  pos[natoms:] = self.logm(pos[natoms:]) * self.exp_cell_factor\n"
     ]
    },
    {
     "name": "stdout",
     "output_type": "stream",
     "text": [
      "FIRE:  191 17:07:51    -2958.153749        0.110077\n"
     ]
    },
    {
     "name": "stderr",
     "output_type": "stream",
     "text": [
      "/home/mehuldarak/anaconda3/envs/mace/lib/python3.13/site-packages/ase/filters.py:606: RuntimeWarning: logm result may be inaccurate, approximate err = 3.2446458891206035e-13\n",
      "  pos[natoms:] = self.logm(pos[natoms:]) * self.exp_cell_factor\n"
     ]
    },
    {
     "name": "stdout",
     "output_type": "stream",
     "text": [
      "FIRE:  192 17:07:53    -2958.154461        0.110055\n"
     ]
    },
    {
     "name": "stderr",
     "output_type": "stream",
     "text": [
      "/home/mehuldarak/anaconda3/envs/mace/lib/python3.13/site-packages/ase/filters.py:606: RuntimeWarning: logm result may be inaccurate, approximate err = 3.35342819752414e-13\n",
      "  pos[natoms:] = self.logm(pos[natoms:]) * self.exp_cell_factor\n"
     ]
    },
    {
     "name": "stdout",
     "output_type": "stream",
     "text": [
      "FIRE:  193 17:07:54    -2958.154698        0.110030\n"
     ]
    },
    {
     "name": "stderr",
     "output_type": "stream",
     "text": [
      "/home/mehuldarak/anaconda3/envs/mace/lib/python3.13/site-packages/ase/filters.py:606: RuntimeWarning: logm result may be inaccurate, approximate err = 3.2481036858657555e-13\n",
      "  pos[natoms:] = self.logm(pos[natoms:]) * self.exp_cell_factor\n"
     ]
    },
    {
     "name": "stdout",
     "output_type": "stream",
     "text": [
      "FIRE:  194 17:07:55    -2958.155886        0.109999\n"
     ]
    },
    {
     "name": "stderr",
     "output_type": "stream",
     "text": [
      "/home/mehuldarak/anaconda3/envs/mace/lib/python3.13/site-packages/ase/filters.py:606: RuntimeWarning: logm result may be inaccurate, approximate err = 3.2781569058437045e-13\n",
      "  pos[natoms:] = self.logm(pos[natoms:]) * self.exp_cell_factor\n"
     ]
    },
    {
     "name": "stdout",
     "output_type": "stream",
     "text": [
      "FIRE:  195 17:07:56    -2958.155648        0.109962\n"
     ]
    },
    {
     "name": "stderr",
     "output_type": "stream",
     "text": [
      "/home/mehuldarak/anaconda3/envs/mace/lib/python3.13/site-packages/ase/filters.py:606: RuntimeWarning: logm result may be inaccurate, approximate err = 3.26580010878552e-13\n",
      "  pos[natoms:] = self.logm(pos[natoms:]) * self.exp_cell_factor\n"
     ]
    },
    {
     "name": "stdout",
     "output_type": "stream",
     "text": [
      "FIRE:  196 17:07:58    -2958.156836        0.109920\n"
     ]
    },
    {
     "name": "stderr",
     "output_type": "stream",
     "text": [
      "/home/mehuldarak/anaconda3/envs/mace/lib/python3.13/site-packages/ase/filters.py:606: RuntimeWarning: logm result may be inaccurate, approximate err = 3.316277435730618e-13\n",
      "  pos[natoms:] = self.logm(pos[natoms:]) * self.exp_cell_factor\n"
     ]
    },
    {
     "name": "stdout",
     "output_type": "stream",
     "text": [
      "FIRE:  197 17:07:59    -2958.157785        0.109866\n"
     ]
    },
    {
     "name": "stderr",
     "output_type": "stream",
     "text": [
      "/home/mehuldarak/anaconda3/envs/mace/lib/python3.13/site-packages/ase/filters.py:606: RuntimeWarning: logm result may be inaccurate, approximate err = 3.2848407136898267e-13\n",
      "  pos[natoms:] = self.logm(pos[natoms:]) * self.exp_cell_factor\n"
     ]
    },
    {
     "name": "stdout",
     "output_type": "stream",
     "text": [
      "FIRE:  198 17:08:00    -2958.158735        0.109791\n"
     ]
    },
    {
     "name": "stderr",
     "output_type": "stream",
     "text": [
      "/home/mehuldarak/anaconda3/envs/mace/lib/python3.13/site-packages/ase/filters.py:606: RuntimeWarning: logm result may be inaccurate, approximate err = 3.2027034686139096e-13\n",
      "  pos[natoms:] = self.logm(pos[natoms:]) * self.exp_cell_factor\n"
     ]
    },
    {
     "name": "stdout",
     "output_type": "stream",
     "text": [
      "FIRE:  199 17:08:01    -2958.161110        0.109694\n"
     ]
    },
    {
     "name": "stderr",
     "output_type": "stream",
     "text": [
      "/home/mehuldarak/anaconda3/envs/mace/lib/python3.13/site-packages/ase/filters.py:606: RuntimeWarning: logm result may be inaccurate, approximate err = 3.196855542503365e-13\n",
      "  pos[natoms:] = self.logm(pos[natoms:]) * self.exp_cell_factor\n"
     ]
    },
    {
     "name": "stdout",
     "output_type": "stream",
     "text": [
      "FIRE:  200 17:08:03    -2958.161585        0.109572\n"
     ]
    },
    {
     "name": "stderr",
     "output_type": "stream",
     "text": [
      "/home/mehuldarak/anaconda3/envs/mace/lib/python3.13/site-packages/ase/filters.py:606: RuntimeWarning: logm result may be inaccurate, approximate err = 3.2744560903389197e-13\n",
      "  pos[natoms:] = self.logm(pos[natoms:]) * self.exp_cell_factor\n"
     ]
    },
    {
     "name": "stdout",
     "output_type": "stream",
     "text": [
      "FIRE:  201 17:08:04    -2958.164197        0.109428\n"
     ]
    },
    {
     "name": "stderr",
     "output_type": "stream",
     "text": [
      "/home/mehuldarak/anaconda3/envs/mace/lib/python3.13/site-packages/ase/filters.py:606: RuntimeWarning: logm result may be inaccurate, approximate err = 3.315074215421459e-13\n",
      "  pos[natoms:] = self.logm(pos[natoms:]) * self.exp_cell_factor\n"
     ]
    },
    {
     "name": "stdout",
     "output_type": "stream",
     "text": [
      "FIRE:  202 17:08:05    -2958.165384        0.109250\n"
     ]
    },
    {
     "name": "stderr",
     "output_type": "stream",
     "text": [
      "/home/mehuldarak/anaconda3/envs/mace/lib/python3.13/site-packages/ase/filters.py:606: RuntimeWarning: logm result may be inaccurate, approximate err = 3.3214522429421847e-13\n",
      "  pos[natoms:] = self.logm(pos[natoms:]) * self.exp_cell_factor\n"
     ]
    },
    {
     "name": "stdout",
     "output_type": "stream",
     "text": [
      "FIRE:  203 17:08:06    -2958.169659        0.109033\n"
     ]
    },
    {
     "name": "stderr",
     "output_type": "stream",
     "text": [
      "/home/mehuldarak/anaconda3/envs/mace/lib/python3.13/site-packages/ase/filters.py:606: RuntimeWarning: logm result may be inaccurate, approximate err = 3.2902012084207393e-13\n",
      "  pos[natoms:] = self.logm(pos[natoms:]) * self.exp_cell_factor\n"
     ]
    },
    {
     "name": "stdout",
     "output_type": "stream",
     "text": [
      "FIRE:  204 17:08:07    -2958.172746        0.108757\n"
     ]
    },
    {
     "name": "stderr",
     "output_type": "stream",
     "text": [
      "/home/mehuldarak/anaconda3/envs/mace/lib/python3.13/site-packages/ase/filters.py:606: RuntimeWarning: logm result may be inaccurate, approximate err = 3.3611597153559744e-13\n",
      "  pos[natoms:] = self.logm(pos[natoms:]) * self.exp_cell_factor\n"
     ]
    },
    {
     "name": "stdout",
     "output_type": "stream",
     "text": [
      "FIRE:  205 17:08:09    -2958.177258        0.108428\n"
     ]
    },
    {
     "name": "stderr",
     "output_type": "stream",
     "text": [
      "/home/mehuldarak/anaconda3/envs/mace/lib/python3.13/site-packages/ase/filters.py:606: RuntimeWarning: logm result may be inaccurate, approximate err = 3.2773156461876114e-13\n",
      "  pos[natoms:] = self.logm(pos[natoms:]) * self.exp_cell_factor\n"
     ]
    },
    {
     "name": "stdout",
     "output_type": "stream",
     "text": [
      "FIRE:  206 17:08:10    -2958.183194        0.108048\n"
     ]
    },
    {
     "name": "stderr",
     "output_type": "stream",
     "text": [
      "/home/mehuldarak/anaconda3/envs/mace/lib/python3.13/site-packages/ase/filters.py:606: RuntimeWarning: logm result may be inaccurate, approximate err = 3.226000363336617e-13\n",
      "  pos[natoms:] = self.logm(pos[natoms:]) * self.exp_cell_factor\n"
     ]
    },
    {
     "name": "stdout",
     "output_type": "stream",
     "text": [
      "FIRE:  207 17:08:11    -2958.189368        0.107586\n"
     ]
    },
    {
     "name": "stderr",
     "output_type": "stream",
     "text": [
      "/home/mehuldarak/anaconda3/envs/mace/lib/python3.13/site-packages/ase/filters.py:606: RuntimeWarning: logm result may be inaccurate, approximate err = 3.290353921222821e-13\n",
      "  pos[natoms:] = self.logm(pos[natoms:]) * self.exp_cell_factor\n"
     ]
    },
    {
     "name": "stdout",
     "output_type": "stream",
     "text": [
      "FIRE:  208 17:08:13    -2958.196730        0.107001\n"
     ]
    },
    {
     "name": "stderr",
     "output_type": "stream",
     "text": [
      "/home/mehuldarak/anaconda3/envs/mace/lib/python3.13/site-packages/ase/filters.py:606: RuntimeWarning: logm result may be inaccurate, approximate err = 3.261947048499923e-13\n",
      "  pos[natoms:] = self.logm(pos[natoms:]) * self.exp_cell_factor\n"
     ]
    },
    {
     "name": "stdout",
     "output_type": "stream",
     "text": [
      "FIRE:  209 17:08:14    -2958.206703        0.106323\n"
     ]
    },
    {
     "name": "stderr",
     "output_type": "stream",
     "text": [
      "/home/mehuldarak/anaconda3/envs/mace/lib/python3.13/site-packages/ase/filters.py:606: RuntimeWarning: logm result may be inaccurate, approximate err = 3.334807765722016e-13\n",
      "  pos[natoms:] = self.logm(pos[natoms:]) * self.exp_cell_factor\n"
     ]
    },
    {
     "name": "stdout",
     "output_type": "stream",
     "text": [
      "FIRE:  210 17:08:15    -2958.216677        0.105476\n"
     ]
    },
    {
     "name": "stderr",
     "output_type": "stream",
     "text": [
      "/home/mehuldarak/anaconda3/envs/mace/lib/python3.13/site-packages/ase/filters.py:606: RuntimeWarning: logm result may be inaccurate, approximate err = 3.263205941748901e-13\n",
      "  pos[natoms:] = self.logm(pos[natoms:]) * self.exp_cell_factor\n"
     ]
    },
    {
     "name": "stdout",
     "output_type": "stream",
     "text": [
      "FIRE:  211 17:08:16    -2958.228075        0.149557\n"
     ]
    },
    {
     "name": "stderr",
     "output_type": "stream",
     "text": [
      "/home/mehuldarak/anaconda3/envs/mace/lib/python3.13/site-packages/ase/filters.py:606: RuntimeWarning: logm result may be inaccurate, approximate err = 3.3309284147650703e-13\n",
      "  pos[natoms:] = self.logm(pos[natoms:]) * self.exp_cell_factor\n"
     ]
    },
    {
     "name": "stdout",
     "output_type": "stream",
     "text": [
      "FIRE:  212 17:08:18    -2958.239948        0.327890\n"
     ]
    },
    {
     "name": "stderr",
     "output_type": "stream",
     "text": [
      "/home/mehuldarak/anaconda3/envs/mace/lib/python3.13/site-packages/ase/filters.py:606: RuntimeWarning: logm result may be inaccurate, approximate err = 3.362727524335365e-13\n",
      "  pos[natoms:] = self.logm(pos[natoms:]) * self.exp_cell_factor\n"
     ]
    },
    {
     "name": "stdout",
     "output_type": "stream",
     "text": [
      "FIRE:  213 17:08:19    -2958.244698        0.634521\n"
     ]
    },
    {
     "name": "stderr",
     "output_type": "stream",
     "text": [
      "/home/mehuldarak/anaconda3/envs/mace/lib/python3.13/site-packages/ase/filters.py:606: RuntimeWarning: logm result may be inaccurate, approximate err = 3.3020000218931347e-13\n",
      "  pos[natoms:] = self.logm(pos[natoms:]) * self.exp_cell_factor\n"
     ]
    },
    {
     "name": "stdout",
     "output_type": "stream",
     "text": [
      "FIRE:  214 17:08:20    -2958.261083        0.151520\n"
     ]
    },
    {
     "name": "stderr",
     "output_type": "stream",
     "text": [
      "/home/mehuldarak/anaconda3/envs/mace/lib/python3.13/site-packages/ase/filters.py:606: RuntimeWarning: logm result may be inaccurate, approximate err = 3.341123015453276e-13\n",
      "  pos[natoms:] = self.logm(pos[natoms:]) * self.exp_cell_factor\n"
     ]
    },
    {
     "name": "stdout",
     "output_type": "stream",
     "text": [
      "FIRE:  215 17:08:21    -2958.252296        0.473880\n"
     ]
    },
    {
     "name": "stderr",
     "output_type": "stream",
     "text": [
      "/home/mehuldarak/anaconda3/envs/mace/lib/python3.13/site-packages/ase/filters.py:606: RuntimeWarning: logm result may be inaccurate, approximate err = 3.266739222421698e-13\n",
      "  pos[natoms:] = self.logm(pos[natoms:]) * self.exp_cell_factor\n"
     ]
    },
    {
     "name": "stdout",
     "output_type": "stream",
     "text": [
      "FIRE:  216 17:08:23    -2958.256096        0.400759\n"
     ]
    },
    {
     "name": "stderr",
     "output_type": "stream",
     "text": [
      "/home/mehuldarak/anaconda3/envs/mace/lib/python3.13/site-packages/ase/filters.py:606: RuntimeWarning: logm result may be inaccurate, approximate err = 3.361144076071353e-13\n",
      "  pos[natoms:] = self.logm(pos[natoms:]) * self.exp_cell_factor\n"
     ]
    },
    {
     "name": "stdout",
     "output_type": "stream",
     "text": [
      "FIRE:  217 17:08:24    -2958.261795        0.231758\n"
     ]
    },
    {
     "name": "stderr",
     "output_type": "stream",
     "text": [
      "/home/mehuldarak/anaconda3/envs/mace/lib/python3.13/site-packages/ase/filters.py:606: RuntimeWarning: logm result may be inaccurate, approximate err = 3.397348241011474e-13\n",
      "  pos[natoms:] = self.logm(pos[natoms:]) * self.exp_cell_factor\n"
     ]
    },
    {
     "name": "stdout",
     "output_type": "stream",
     "text": [
      "FIRE:  218 17:08:25    -2958.264170        0.112895\n"
     ]
    },
    {
     "name": "stderr",
     "output_type": "stream",
     "text": [
      "/home/mehuldarak/anaconda3/envs/mace/lib/python3.13/site-packages/ase/filters.py:606: RuntimeWarning: logm result may be inaccurate, approximate err = 3.2078316676344325e-13\n",
      "  pos[natoms:] = self.logm(pos[natoms:]) * self.exp_cell_factor\n"
     ]
    },
    {
     "name": "stdout",
     "output_type": "stream",
     "text": [
      "FIRE:  219 17:08:26    -2958.264645        0.114065\n"
     ]
    },
    {
     "name": "stderr",
     "output_type": "stream",
     "text": [
      "/home/mehuldarak/anaconda3/envs/mace/lib/python3.13/site-packages/ase/filters.py:606: RuntimeWarning: logm result may be inaccurate, approximate err = 3.297276939031918e-13\n",
      "  pos[natoms:] = self.logm(pos[natoms:]) * self.exp_cell_factor\n"
     ]
    },
    {
     "name": "stdout",
     "output_type": "stream",
     "text": [
      "FIRE:  220 17:08:28    -2958.264407        0.116383\n"
     ]
    },
    {
     "name": "stderr",
     "output_type": "stream",
     "text": [
      "/home/mehuldarak/anaconda3/envs/mace/lib/python3.13/site-packages/ase/filters.py:606: RuntimeWarning: logm result may be inaccurate, approximate err = 3.297988157622303e-13\n",
      "  pos[natoms:] = self.logm(pos[natoms:]) * self.exp_cell_factor\n"
     ]
    },
    {
     "name": "stdout",
     "output_type": "stream",
     "text": [
      "FIRE:  221 17:08:29    -2958.264645        0.119552\n"
     ]
    },
    {
     "name": "stderr",
     "output_type": "stream",
     "text": [
      "/home/mehuldarak/anaconda3/envs/mace/lib/python3.13/site-packages/ase/filters.py:606: RuntimeWarning: logm result may be inaccurate, approximate err = 3.333819845116068e-13\n",
      "  pos[natoms:] = self.logm(pos[natoms:]) * self.exp_cell_factor\n"
     ]
    },
    {
     "name": "stdout",
     "output_type": "stream",
     "text": [
      "FIRE:  222 17:08:30    -2958.264407        0.123461\n"
     ]
    },
    {
     "name": "stderr",
     "output_type": "stream",
     "text": [
      "/home/mehuldarak/anaconda3/envs/mace/lib/python3.13/site-packages/ase/filters.py:606: RuntimeWarning: logm result may be inaccurate, approximate err = 3.2762269052147924e-13\n",
      "  pos[natoms:] = self.logm(pos[natoms:]) * self.exp_cell_factor\n"
     ]
    },
    {
     "name": "stdout",
     "output_type": "stream",
     "text": [
      "FIRE:  223 17:08:31    -2958.264882        0.127950\n"
     ]
    },
    {
     "name": "stderr",
     "output_type": "stream",
     "text": [
      "/home/mehuldarak/anaconda3/envs/mace/lib/python3.13/site-packages/ase/filters.py:606: RuntimeWarning: logm result may be inaccurate, approximate err = 3.322606992409551e-13\n",
      "  pos[natoms:] = self.logm(pos[natoms:]) * self.exp_cell_factor\n"
     ]
    },
    {
     "name": "stdout",
     "output_type": "stream",
     "text": [
      "FIRE:  224 17:08:32    -2958.265120        0.133274\n"
     ]
    },
    {
     "name": "stderr",
     "output_type": "stream",
     "text": [
      "/home/mehuldarak/anaconda3/envs/mace/lib/python3.13/site-packages/ase/filters.py:606: RuntimeWarning: logm result may be inaccurate, approximate err = 3.3618403740081375e-13\n",
      "  pos[natoms:] = self.logm(pos[natoms:]) * self.exp_cell_factor\n"
     ]
    },
    {
     "name": "stdout",
     "output_type": "stream",
     "text": [
      "FIRE:  225 17:08:34    -2958.265594        0.140173\n"
     ]
    },
    {
     "name": "stderr",
     "output_type": "stream",
     "text": [
      "/home/mehuldarak/anaconda3/envs/mace/lib/python3.13/site-packages/ase/filters.py:606: RuntimeWarning: logm result may be inaccurate, approximate err = 3.2958142232652925e-13\n",
      "  pos[natoms:] = self.logm(pos[natoms:]) * self.exp_cell_factor\n"
     ]
    },
    {
     "name": "stdout",
     "output_type": "stream",
     "text": [
      "FIRE:  226 17:08:35    -2958.266544        0.151776\n"
     ]
    },
    {
     "name": "stderr",
     "output_type": "stream",
     "text": [
      "/home/mehuldarak/anaconda3/envs/mace/lib/python3.13/site-packages/ase/filters.py:606: RuntimeWarning: logm result may be inaccurate, approximate err = 3.304328966323303e-13\n",
      "  pos[natoms:] = self.logm(pos[natoms:]) * self.exp_cell_factor\n"
     ]
    },
    {
     "name": "stdout",
     "output_type": "stream",
     "text": [
      "FIRE:  227 17:08:36    -2958.267019        0.167683\n"
     ]
    },
    {
     "name": "stderr",
     "output_type": "stream",
     "text": [
      "/home/mehuldarak/anaconda3/envs/mace/lib/python3.13/site-packages/ase/filters.py:606: RuntimeWarning: logm result may be inaccurate, approximate err = 3.286982613963931e-13\n",
      "  pos[natoms:] = self.logm(pos[natoms:]) * self.exp_cell_factor\n"
     ]
    },
    {
     "name": "stdout",
     "output_type": "stream",
     "text": [
      "FIRE:  228 17:08:38    -2958.268444        0.186773\n"
     ]
    },
    {
     "name": "stderr",
     "output_type": "stream",
     "text": [
      "/home/mehuldarak/anaconda3/envs/mace/lib/python3.13/site-packages/ase/filters.py:606: RuntimeWarning: logm result may be inaccurate, approximate err = 3.2233055252357176e-13\n",
      "  pos[natoms:] = self.logm(pos[natoms:]) * self.exp_cell_factor\n"
     ]
    },
    {
     "name": "stdout",
     "output_type": "stream",
     "text": [
      "FIRE:  229 17:08:39    -2958.268919        0.207016\n"
     ]
    },
    {
     "name": "stderr",
     "output_type": "stream",
     "text": [
      "/home/mehuldarak/anaconda3/envs/mace/lib/python3.13/site-packages/ase/filters.py:606: RuntimeWarning: logm result may be inaccurate, approximate err = 3.3789020740955304e-13\n",
      "  pos[natoms:] = self.logm(pos[natoms:]) * self.exp_cell_factor\n"
     ]
    },
    {
     "name": "stdout",
     "output_type": "stream",
     "text": [
      "FIRE:  230 17:08:40    -2958.271294        0.247673\n"
     ]
    },
    {
     "name": "stderr",
     "output_type": "stream",
     "text": [
      "/home/mehuldarak/anaconda3/envs/mace/lib/python3.13/site-packages/ase/filters.py:606: RuntimeWarning: logm result may be inaccurate, approximate err = 3.2777171765869917e-13\n",
      "  pos[natoms:] = self.logm(pos[natoms:]) * self.exp_cell_factor\n"
     ]
    },
    {
     "name": "stdout",
     "output_type": "stream",
     "text": [
      "FIRE:  231 17:08:41    -2958.274381        0.315107\n"
     ]
    },
    {
     "name": "stderr",
     "output_type": "stream",
     "text": [
      "/home/mehuldarak/anaconda3/envs/mace/lib/python3.13/site-packages/ase/filters.py:606: RuntimeWarning: logm result may be inaccurate, approximate err = 3.328346739889701e-13\n",
      "  pos[natoms:] = self.logm(pos[natoms:]) * self.exp_cell_factor\n"
     ]
    },
    {
     "name": "stdout",
     "output_type": "stream",
     "text": [
      "FIRE:  232 17:08:43    -2958.279367        0.413673\n"
     ]
    },
    {
     "name": "stderr",
     "output_type": "stream",
     "text": [
      "/home/mehuldarak/anaconda3/envs/mace/lib/python3.13/site-packages/ase/filters.py:606: RuntimeWarning: logm result may be inaccurate, approximate err = 3.3020945124549444e-13\n",
      "  pos[natoms:] = self.logm(pos[natoms:]) * self.exp_cell_factor\n"
     ]
    },
    {
     "name": "stdout",
     "output_type": "stream",
     "text": [
      "FIRE:  233 17:08:44    -2958.287916        0.558764\n"
     ]
    },
    {
     "name": "stderr",
     "output_type": "stream",
     "text": [
      "/home/mehuldarak/anaconda3/envs/mace/lib/python3.13/site-packages/ase/filters.py:606: RuntimeWarning: logm result may be inaccurate, approximate err = 3.314531681813689e-13\n",
      "  pos[natoms:] = self.logm(pos[natoms:]) * self.exp_cell_factor\n"
     ]
    },
    {
     "name": "stdout",
     "output_type": "stream",
     "text": [
      "FIRE:  234 17:08:45    -2958.304539        0.713452\n"
     ]
    },
    {
     "name": "stderr",
     "output_type": "stream",
     "text": [
      "/home/mehuldarak/anaconda3/envs/mace/lib/python3.13/site-packages/ase/filters.py:606: RuntimeWarning: logm result may be inaccurate, approximate err = 3.3094514474347324e-13\n",
      "  pos[natoms:] = self.logm(pos[natoms:]) * self.exp_cell_factor\n"
     ]
    },
    {
     "name": "stdout",
     "output_type": "stream",
     "text": [
      "FIRE:  235 17:08:47    -2958.331610        0.747120\n"
     ]
    },
    {
     "name": "stderr",
     "output_type": "stream",
     "text": [
      "/home/mehuldarak/anaconda3/envs/mace/lib/python3.13/site-packages/ase/filters.py:606: RuntimeWarning: logm result may be inaccurate, approximate err = 3.2784887546361774e-13\n",
      "  pos[natoms:] = self.logm(pos[natoms:]) * self.exp_cell_factor\n"
     ]
    },
    {
     "name": "stdout",
     "output_type": "stream",
     "text": [
      "FIRE:  236 17:08:48    -2958.366280        0.632718\n"
     ]
    },
    {
     "name": "stderr",
     "output_type": "stream",
     "text": [
      "/home/mehuldarak/anaconda3/envs/mace/lib/python3.13/site-packages/ase/filters.py:606: RuntimeWarning: logm result may be inaccurate, approximate err = 3.300011636446515e-13\n",
      "  pos[natoms:] = self.logm(pos[natoms:]) * self.exp_cell_factor\n"
     ]
    },
    {
     "name": "stdout",
     "output_type": "stream",
     "text": [
      "FIRE:  237 17:08:49    -2958.399287        0.473499\n"
     ]
    },
    {
     "name": "stderr",
     "output_type": "stream",
     "text": [
      "/home/mehuldarak/anaconda3/envs/mace/lib/python3.13/site-packages/ase/filters.py:606: RuntimeWarning: logm result may be inaccurate, approximate err = 3.267732411347303e-13\n",
      "  pos[natoms:] = self.logm(pos[natoms:]) * self.exp_cell_factor\n"
     ]
    },
    {
     "name": "stdout",
     "output_type": "stream",
     "text": [
      "FIRE:  238 17:08:50    -2958.431820        0.379613\n"
     ]
    },
    {
     "name": "stderr",
     "output_type": "stream",
     "text": [
      "/home/mehuldarak/anaconda3/envs/mace/lib/python3.13/site-packages/ase/filters.py:606: RuntimeWarning: logm result may be inaccurate, approximate err = 3.276030194087986e-13\n",
      "  pos[natoms:] = self.logm(pos[natoms:]) * self.exp_cell_factor\n"
     ]
    },
    {
     "name": "stdout",
     "output_type": "stream",
     "text": [
      "FIRE:  239 17:08:52    -2958.468864        0.268960\n"
     ]
    },
    {
     "name": "stderr",
     "output_type": "stream",
     "text": [
      "/home/mehuldarak/anaconda3/envs/mace/lib/python3.13/site-packages/ase/filters.py:606: RuntimeWarning: logm result may be inaccurate, approximate err = 3.2970617769592654e-13\n",
      "  pos[natoms:] = self.logm(pos[natoms:]) * self.exp_cell_factor\n"
     ]
    },
    {
     "name": "stdout",
     "output_type": "stream",
     "text": [
      "FIRE:  240 17:08:53    -2958.500685        0.224572\n"
     ]
    },
    {
     "name": "stderr",
     "output_type": "stream",
     "text": [
      "/home/mehuldarak/anaconda3/envs/mace/lib/python3.13/site-packages/ase/filters.py:606: RuntimeWarning: logm result may be inaccurate, approximate err = 3.2952412005187575e-13\n",
      "  pos[natoms:] = self.logm(pos[natoms:]) * self.exp_cell_factor\n"
     ]
    },
    {
     "name": "stdout",
     "output_type": "stream",
     "text": [
      "FIRE:  241 17:08:54    -2958.525381        0.395224\n"
     ]
    },
    {
     "name": "stderr",
     "output_type": "stream",
     "text": [
      "/home/mehuldarak/anaconda3/envs/mace/lib/python3.13/site-packages/ase/filters.py:606: RuntimeWarning: logm result may be inaccurate, approximate err = 3.2694557521615516e-13\n",
      "  pos[natoms:] = self.logm(pos[natoms:]) * self.exp_cell_factor\n"
     ]
    },
    {
     "name": "stdout",
     "output_type": "stream",
     "text": [
      "FIRE:  242 17:08:55    -2958.541054        0.332291\n"
     ]
    },
    {
     "name": "stderr",
     "output_type": "stream",
     "text": [
      "/home/mehuldarak/anaconda3/envs/mace/lib/python3.13/site-packages/ase/filters.py:606: RuntimeWarning: logm result may be inaccurate, approximate err = 3.310959295044692e-13\n",
      "  pos[natoms:] = self.logm(pos[natoms:]) * self.exp_cell_factor\n"
     ]
    },
    {
     "name": "stdout",
     "output_type": "stream",
     "text": [
      "FIRE:  243 17:08:56    -2958.548653        0.522185\n"
     ]
    },
    {
     "name": "stderr",
     "output_type": "stream",
     "text": [
      "/home/mehuldarak/anaconda3/envs/mace/lib/python3.13/site-packages/ase/filters.py:606: RuntimeWarning: logm result may be inaccurate, approximate err = 3.3364355694869384e-13\n",
      "  pos[natoms:] = self.logm(pos[natoms:]) * self.exp_cell_factor\n"
     ]
    },
    {
     "name": "stdout",
     "output_type": "stream",
     "text": [
      "FIRE:  244 17:08:58    -2958.553164        0.446511\n"
     ]
    },
    {
     "name": "stderr",
     "output_type": "stream",
     "text": [
      "/home/mehuldarak/anaconda3/envs/mace/lib/python3.13/site-packages/ase/filters.py:606: RuntimeWarning: logm result may be inaccurate, approximate err = 3.2524983895978775e-13\n",
      "  pos[natoms:] = self.logm(pos[natoms:]) * self.exp_cell_factor\n"
     ]
    },
    {
     "name": "stdout",
     "output_type": "stream",
     "text": [
      "FIRE:  245 17:08:59    -2958.561001        0.268509\n"
     ]
    },
    {
     "name": "stderr",
     "output_type": "stream",
     "text": [
      "/home/mehuldarak/anaconda3/envs/mace/lib/python3.13/site-packages/ase/filters.py:606: RuntimeWarning: logm result may be inaccurate, approximate err = 3.232655180203629e-13\n",
      "  pos[natoms:] = self.logm(pos[natoms:]) * self.exp_cell_factor\n"
     ]
    },
    {
     "name": "stdout",
     "output_type": "stream",
     "text": [
      "FIRE:  246 17:09:00    -2958.567887        0.336890\n"
     ]
    },
    {
     "name": "stderr",
     "output_type": "stream",
     "text": [
      "/home/mehuldarak/anaconda3/envs/mace/lib/python3.13/site-packages/ase/filters.py:606: RuntimeWarning: logm result may be inaccurate, approximate err = 3.24892067253357e-13\n",
      "  pos[natoms:] = self.logm(pos[natoms:]) * self.exp_cell_factor\n"
     ]
    },
    {
     "name": "stdout",
     "output_type": "stream",
     "text": [
      "FIRE:  247 17:09:02    -2958.575724        0.364419\n"
     ]
    },
    {
     "name": "stderr",
     "output_type": "stream",
     "text": [
      "/home/mehuldarak/anaconda3/envs/mace/lib/python3.13/site-packages/ase/filters.py:606: RuntimeWarning: logm result may be inaccurate, approximate err = 3.2753975661001607e-13\n",
      "  pos[natoms:] = self.logm(pos[natoms:]) * self.exp_cell_factor\n"
     ]
    },
    {
     "name": "stdout",
     "output_type": "stream",
     "text": [
      "FIRE:  248 17:09:03    -2958.583323        0.283932\n"
     ]
    },
    {
     "name": "stderr",
     "output_type": "stream",
     "text": [
      "/home/mehuldarak/anaconda3/envs/mace/lib/python3.13/site-packages/ase/filters.py:606: RuntimeWarning: logm result may be inaccurate, approximate err = 3.249633509483935e-13\n",
      "  pos[natoms:] = self.logm(pos[natoms:]) * self.exp_cell_factor\n"
     ]
    },
    {
     "name": "stdout",
     "output_type": "stream",
     "text": [
      "FIRE:  249 17:09:04    -2958.590921        0.166663\n"
     ]
    },
    {
     "name": "stderr",
     "output_type": "stream",
     "text": [
      "/home/mehuldarak/anaconda3/envs/mace/lib/python3.13/site-packages/ase/filters.py:606: RuntimeWarning: logm result may be inaccurate, approximate err = 3.3235471288968975e-13\n",
      "  pos[natoms:] = self.logm(pos[natoms:]) * self.exp_cell_factor\n"
     ]
    },
    {
     "name": "stdout",
     "output_type": "stream",
     "text": [
      "FIRE:  250 17:09:05    -2958.597095        0.104687\n"
     ]
    },
    {
     "name": "stderr",
     "output_type": "stream",
     "text": [
      "/home/mehuldarak/anaconda3/envs/mace/lib/python3.13/site-packages/ase/filters.py:606: RuntimeWarning: logm result may be inaccurate, approximate err = 3.216560533645257e-13\n",
      "  pos[natoms:] = self.logm(pos[natoms:]) * self.exp_cell_factor\n"
     ]
    },
    {
     "name": "stdout",
     "output_type": "stream",
     "text": [
      "FIRE:  251 17:09:07    -2958.600657        0.253932\n"
     ]
    },
    {
     "name": "stderr",
     "output_type": "stream",
     "text": [
      "/home/mehuldarak/anaconda3/envs/mace/lib/python3.13/site-packages/ase/filters.py:606: RuntimeWarning: logm result may be inaccurate, approximate err = 3.28651387570996e-13\n",
      "  pos[natoms:] = self.logm(pos[natoms:]) * self.exp_cell_factor\n"
     ]
    },
    {
     "name": "stdout",
     "output_type": "stream",
     "text": [
      "FIRE:  252 17:09:08    -2958.604457        0.197201\n"
     ]
    },
    {
     "name": "stderr",
     "output_type": "stream",
     "text": [
      "/home/mehuldarak/anaconda3/envs/mace/lib/python3.13/site-packages/ase/filters.py:606: RuntimeWarning: logm result may be inaccurate, approximate err = 3.256981603331437e-13\n",
      "  pos[natoms:] = self.logm(pos[natoms:]) * self.exp_cell_factor\n"
     ]
    },
    {
     "name": "stdout",
     "output_type": "stream",
     "text": [
      "FIRE:  253 17:09:09    -2958.609206        0.153962\n"
     ]
    },
    {
     "name": "stderr",
     "output_type": "stream",
     "text": [
      "/home/mehuldarak/anaconda3/envs/mace/lib/python3.13/site-packages/ase/filters.py:606: RuntimeWarning: logm result may be inaccurate, approximate err = 3.199656787201384e-13\n",
      "  pos[natoms:] = self.logm(pos[natoms:]) * self.exp_cell_factor\n"
     ]
    },
    {
     "name": "stdout",
     "output_type": "stream",
     "text": [
      "FIRE:  254 17:09:11    -2958.614905        0.229891\n"
     ]
    },
    {
     "name": "stderr",
     "output_type": "stream",
     "text": [
      "/home/mehuldarak/anaconda3/envs/mace/lib/python3.13/site-packages/ase/filters.py:606: RuntimeWarning: logm result may be inaccurate, approximate err = 3.337595959702568e-13\n",
      "  pos[natoms:] = self.logm(pos[natoms:]) * self.exp_cell_factor\n"
     ]
    },
    {
     "name": "stdout",
     "output_type": "stream",
     "text": [
      "FIRE:  255 17:09:12    -2958.629866        0.303782\n"
     ]
    },
    {
     "name": "stderr",
     "output_type": "stream",
     "text": [
      "/home/mehuldarak/anaconda3/envs/mace/lib/python3.13/site-packages/ase/filters.py:606: RuntimeWarning: logm result may be inaccurate, approximate err = 3.2863291901990716e-13\n",
      "  pos[natoms:] = self.logm(pos[natoms:]) * self.exp_cell_factor\n"
     ]
    },
    {
     "name": "stdout",
     "output_type": "stream",
     "text": [
      "FIRE:  256 17:09:13    -2958.655274        0.590347\n"
     ]
    },
    {
     "name": "stderr",
     "output_type": "stream",
     "text": [
      "/home/mehuldarak/anaconda3/envs/mace/lib/python3.13/site-packages/ase/filters.py:606: RuntimeWarning: logm result may be inaccurate, approximate err = 3.2535319420816057e-13\n",
      "  pos[natoms:] = self.logm(pos[natoms:]) * self.exp_cell_factor\n"
     ]
    },
    {
     "name": "stdout",
     "output_type": "stream",
     "text": [
      "FIRE:  257 17:09:14    -2958.718440        0.719752\n"
     ]
    },
    {
     "name": "stderr",
     "output_type": "stream",
     "text": [
      "/home/mehuldarak/anaconda3/envs/mace/lib/python3.13/site-packages/ase/filters.py:606: RuntimeWarning: logm result may be inaccurate, approximate err = 3.166266251741781e-13\n",
      "  pos[natoms:] = self.logm(pos[natoms:]) * self.exp_cell_factor\n"
     ]
    },
    {
     "name": "stdout",
     "output_type": "stream",
     "text": [
      "FIRE:  258 17:09:16    -2958.792292        0.381869\n"
     ]
    },
    {
     "name": "stderr",
     "output_type": "stream",
     "text": [
      "/home/mehuldarak/anaconda3/envs/mace/lib/python3.13/site-packages/ase/filters.py:606: RuntimeWarning: logm result may be inaccurate, approximate err = 3.240296987187749e-13\n",
      "  pos[natoms:] = self.logm(pos[natoms:]) * self.exp_cell_factor\n"
     ]
    },
    {
     "name": "stdout",
     "output_type": "stream",
     "text": [
      "FIRE:  259 17:09:17    -2958.838360        0.252558\n"
     ]
    },
    {
     "name": "stderr",
     "output_type": "stream",
     "text": [
      "/home/mehuldarak/anaconda3/envs/mace/lib/python3.13/site-packages/ase/filters.py:606: RuntimeWarning: logm result may be inaccurate, approximate err = 3.2384498091395703e-13\n",
      "  pos[natoms:] = self.logm(pos[natoms:]) * self.exp_cell_factor\n"
     ]
    },
    {
     "name": "stdout",
     "output_type": "stream",
     "text": [
      "FIRE:  260 17:09:18    -2958.844296        0.392115\n"
     ]
    },
    {
     "name": "stderr",
     "output_type": "stream",
     "text": [
      "/home/mehuldarak/anaconda3/envs/mace/lib/python3.13/site-packages/ase/filters.py:606: RuntimeWarning: logm result may be inaccurate, approximate err = 3.2828558202138993e-13\n",
      "  pos[natoms:] = self.logm(pos[natoms:]) * self.exp_cell_factor\n"
     ]
    },
    {
     "name": "stdout",
     "output_type": "stream",
     "text": [
      "FIRE:  261 17:09:19    -2958.854982        0.342218\n"
     ]
    },
    {
     "name": "stderr",
     "output_type": "stream",
     "text": [
      "/home/mehuldarak/anaconda3/envs/mace/lib/python3.13/site-packages/ase/filters.py:606: RuntimeWarning: logm result may be inaccurate, approximate err = 3.230250891418e-13\n",
      "  pos[natoms:] = self.logm(pos[natoms:]) * self.exp_cell_factor\n"
     ]
    },
    {
     "name": "stdout",
     "output_type": "stream",
     "text": [
      "FIRE:  262 17:09:20    -2958.868755        0.300844\n"
     ]
    },
    {
     "name": "stderr",
     "output_type": "stream",
     "text": [
      "/home/mehuldarak/anaconda3/envs/mace/lib/python3.13/site-packages/ase/filters.py:606: RuntimeWarning: logm result may be inaccurate, approximate err = 3.305919135994316e-13\n",
      "  pos[natoms:] = self.logm(pos[natoms:]) * self.exp_cell_factor\n"
     ]
    },
    {
     "name": "stdout",
     "output_type": "stream",
     "text": [
      "FIRE:  263 17:09:22    -2958.882291        0.283761\n"
     ]
    },
    {
     "name": "stderr",
     "output_type": "stream",
     "text": [
      "/home/mehuldarak/anaconda3/envs/mace/lib/python3.13/site-packages/ase/filters.py:606: RuntimeWarning: logm result may be inaccurate, approximate err = 3.2827095779192693e-13\n",
      "  pos[natoms:] = self.logm(pos[natoms:]) * self.exp_cell_factor\n"
     ]
    },
    {
     "name": "stdout",
     "output_type": "stream",
     "text": [
      "FIRE:  264 17:09:23    -2958.894876        0.167510\n"
     ]
    },
    {
     "name": "stderr",
     "output_type": "stream",
     "text": [
      "/home/mehuldarak/anaconda3/envs/mace/lib/python3.13/site-packages/ase/filters.py:606: RuntimeWarning: logm result may be inaccurate, approximate err = 3.203937290495192e-13\n",
      "  pos[natoms:] = self.logm(pos[natoms:]) * self.exp_cell_factor\n"
     ]
    },
    {
     "name": "stdout",
     "output_type": "stream",
     "text": [
      "FIRE:  265 17:09:24    -2958.902475        0.151711\n"
     ]
    },
    {
     "name": "stderr",
     "output_type": "stream",
     "text": [
      "/home/mehuldarak/anaconda3/envs/mace/lib/python3.13/site-packages/ase/filters.py:606: RuntimeWarning: logm result may be inaccurate, approximate err = 3.243543556961215e-13\n",
      "  pos[natoms:] = self.logm(pos[natoms:]) * self.exp_cell_factor\n"
     ]
    },
    {
     "name": "stdout",
     "output_type": "stream",
     "text": [
      "FIRE:  266 17:09:25    -2958.906275        0.208786\n"
     ]
    },
    {
     "name": "stderr",
     "output_type": "stream",
     "text": [
      "/home/mehuldarak/anaconda3/envs/mace/lib/python3.13/site-packages/ase/filters.py:606: RuntimeWarning: logm result may be inaccurate, approximate err = 3.285947760397371e-13\n",
      "  pos[natoms:] = self.logm(pos[natoms:]) * self.exp_cell_factor\n"
     ]
    },
    {
     "name": "stdout",
     "output_type": "stream",
     "text": [
      "FIRE:  267 17:09:27    -2958.908887        0.239588\n"
     ]
    },
    {
     "name": "stderr",
     "output_type": "stream",
     "text": [
      "/home/mehuldarak/anaconda3/envs/mace/lib/python3.13/site-packages/ase/filters.py:606: RuntimeWarning: logm result may be inaccurate, approximate err = 3.261096642836406e-13\n",
      "  pos[natoms:] = self.logm(pos[natoms:]) * self.exp_cell_factor\n"
     ]
    },
    {
     "name": "stdout",
     "output_type": "stream",
     "text": [
      "FIRE:  268 17:09:28    -2958.909837        0.234144\n"
     ]
    },
    {
     "name": "stderr",
     "output_type": "stream",
     "text": [
      "/home/mehuldarak/anaconda3/envs/mace/lib/python3.13/site-packages/ase/filters.py:606: RuntimeWarning: logm result may be inaccurate, approximate err = 3.2422772544851786e-13\n",
      "  pos[natoms:] = self.logm(pos[natoms:]) * self.exp_cell_factor\n"
     ]
    },
    {
     "name": "stdout",
     "output_type": "stream",
     "text": [
      "FIRE:  269 17:09:29    -2958.911024        0.223748\n"
     ]
    },
    {
     "name": "stderr",
     "output_type": "stream",
     "text": [
      "/home/mehuldarak/anaconda3/envs/mace/lib/python3.13/site-packages/ase/filters.py:606: RuntimeWarning: logm result may be inaccurate, approximate err = 3.361674441267732e-13\n",
      "  pos[natoms:] = self.logm(pos[natoms:]) * self.exp_cell_factor\n"
     ]
    },
    {
     "name": "stdout",
     "output_type": "stream",
     "text": [
      "FIRE:  270 17:09:31    -2958.912686        0.209107\n"
     ]
    },
    {
     "name": "stderr",
     "output_type": "stream",
     "text": [
      "/home/mehuldarak/anaconda3/envs/mace/lib/python3.13/site-packages/ase/filters.py:606: RuntimeWarning: logm result may be inaccurate, approximate err = 3.249301602166507e-13\n",
      "  pos[natoms:] = self.logm(pos[natoms:]) * self.exp_cell_factor\n"
     ]
    },
    {
     "name": "stdout",
     "output_type": "stream",
     "text": [
      "FIRE:  271 17:09:32    -2958.915536        0.193690\n"
     ]
    },
    {
     "name": "stderr",
     "output_type": "stream",
     "text": [
      "/home/mehuldarak/anaconda3/envs/mace/lib/python3.13/site-packages/ase/filters.py:606: RuntimeWarning: logm result may be inaccurate, approximate err = 3.2527717023273895e-13\n",
      "  pos[natoms:] = self.logm(pos[natoms:]) * self.exp_cell_factor\n"
     ]
    },
    {
     "name": "stdout",
     "output_type": "stream",
     "text": [
      "FIRE:  272 17:09:33    -2958.917198        0.178328\n"
     ]
    },
    {
     "name": "stderr",
     "output_type": "stream",
     "text": [
      "/home/mehuldarak/anaconda3/envs/mace/lib/python3.13/site-packages/ase/filters.py:606: RuntimeWarning: logm result may be inaccurate, approximate err = 3.2785327488144027e-13\n",
      "  pos[natoms:] = self.logm(pos[natoms:]) * self.exp_cell_factor\n"
     ]
    },
    {
     "name": "stdout",
     "output_type": "stream",
     "text": [
      "FIRE:  273 17:09:35    -2958.920048        0.159757\n"
     ]
    },
    {
     "name": "stderr",
     "output_type": "stream",
     "text": [
      "/home/mehuldarak/anaconda3/envs/mace/lib/python3.13/site-packages/ase/filters.py:606: RuntimeWarning: logm result may be inaccurate, approximate err = 3.368555823269532e-13\n",
      "  pos[natoms:] = self.logm(pos[natoms:]) * self.exp_cell_factor\n"
     ]
    },
    {
     "name": "stdout",
     "output_type": "stream",
     "text": [
      "FIRE:  274 17:09:36    -2958.922185        0.140945\n"
     ]
    },
    {
     "name": "stderr",
     "output_type": "stream",
     "text": [
      "/home/mehuldarak/anaconda3/envs/mace/lib/python3.13/site-packages/ase/filters.py:606: RuntimeWarning: logm result may be inaccurate, approximate err = 3.2722327695102787e-13\n",
      "  pos[natoms:] = self.logm(pos[natoms:]) * self.exp_cell_factor\n"
     ]
    },
    {
     "name": "stdout",
     "output_type": "stream",
     "text": [
      "FIRE:  275 17:09:37    -2958.925272        0.122297\n"
     ]
    },
    {
     "name": "stderr",
     "output_type": "stream",
     "text": [
      "/home/mehuldarak/anaconda3/envs/mace/lib/python3.13/site-packages/ase/filters.py:606: RuntimeWarning: logm result may be inaccurate, approximate err = 3.294623073618325e-13\n",
      "  pos[natoms:] = self.logm(pos[natoms:]) * self.exp_cell_factor\n"
     ]
    },
    {
     "name": "stdout",
     "output_type": "stream",
     "text": [
      "FIRE:  276 17:09:38    -2958.926934        0.099804\n"
     ]
    },
    {
     "name": "stderr",
     "output_type": "stream",
     "text": [
      "/home/mehuldarak/anaconda3/envs/mace/lib/python3.13/site-packages/ase/filters.py:606: RuntimeWarning: logm result may be inaccurate, approximate err = 3.248835331041734e-13\n",
      "  pos[natoms:] = self.logm(pos[natoms:]) * self.exp_cell_factor\n"
     ]
    },
    {
     "name": "stdout",
     "output_type": "stream",
     "text": [
      "FIRE:  277 17:09:40    -2958.929546        0.099746\n"
     ]
    },
    {
     "name": "stderr",
     "output_type": "stream",
     "text": [
      "/home/mehuldarak/anaconda3/envs/mace/lib/python3.13/site-packages/ase/filters.py:606: RuntimeWarning: logm result may be inaccurate, approximate err = 3.3358207898868745e-13\n",
      "  pos[natoms:] = self.logm(pos[natoms:]) * self.exp_cell_factor\n"
     ]
    },
    {
     "name": "stdout",
     "output_type": "stream",
     "text": [
      "FIRE:  278 17:09:41    -2958.932871        0.099690\n"
     ]
    },
    {
     "name": "stderr",
     "output_type": "stream",
     "text": [
      "/home/mehuldarak/anaconda3/envs/mace/lib/python3.13/site-packages/ase/filters.py:606: RuntimeWarning: logm result may be inaccurate, approximate err = 3.252208132977125e-13\n",
      "  pos[natoms:] = self.logm(pos[natoms:]) * self.exp_cell_factor\n"
     ]
    },
    {
     "name": "stdout",
     "output_type": "stream",
     "text": [
      "FIRE:  279 17:09:42    -2958.935958        0.119398\n"
     ]
    },
    {
     "name": "stderr",
     "output_type": "stream",
     "text": [
      "/home/mehuldarak/anaconda3/envs/mace/lib/python3.13/site-packages/ase/filters.py:606: RuntimeWarning: logm result may be inaccurate, approximate err = 3.374912747165834e-13\n",
      "  pos[natoms:] = self.logm(pos[natoms:]) * self.exp_cell_factor\n"
     ]
    },
    {
     "name": "stdout",
     "output_type": "stream",
     "text": [
      "FIRE:  280 17:09:44    -2958.940470        0.114675\n"
     ]
    },
    {
     "name": "stderr",
     "output_type": "stream",
     "text": [
      "/home/mehuldarak/anaconda3/envs/mace/lib/python3.13/site-packages/ase/filters.py:606: RuntimeWarning: logm result may be inaccurate, approximate err = 3.260883010727167e-13\n",
      "  pos[natoms:] = self.logm(pos[natoms:]) * self.exp_cell_factor\n"
     ]
    },
    {
     "name": "stdout",
     "output_type": "stream",
     "text": [
      "FIRE:  281 17:09:45    -2958.946169        0.102276\n"
     ]
    },
    {
     "name": "stderr",
     "output_type": "stream",
     "text": [
      "/home/mehuldarak/anaconda3/envs/mace/lib/python3.13/site-packages/ase/filters.py:606: RuntimeWarning: logm result may be inaccurate, approximate err = 3.2651016322899e-13\n",
      "  pos[natoms:] = self.logm(pos[natoms:]) * self.exp_cell_factor\n"
     ]
    },
    {
     "name": "stdout",
     "output_type": "stream",
     "text": [
      "FIRE:  282 17:09:46    -2958.953055        0.098541\n"
     ]
    },
    {
     "name": "stderr",
     "output_type": "stream",
     "text": [
      "/home/mehuldarak/anaconda3/envs/mace/lib/python3.13/site-packages/ase/filters.py:606: RuntimeWarning: logm result may be inaccurate, approximate err = 3.276587771057866e-13\n",
      "  pos[natoms:] = self.logm(pos[natoms:]) * self.exp_cell_factor\n"
     ]
    },
    {
     "name": "stdout",
     "output_type": "stream",
     "text": [
      "FIRE:  283 17:09:47    -2958.959942        0.098019\n"
     ]
    },
    {
     "name": "stderr",
     "output_type": "stream",
     "text": [
      "/home/mehuldarak/anaconda3/envs/mace/lib/python3.13/site-packages/ase/filters.py:606: RuntimeWarning: logm result may be inaccurate, approximate err = 3.282724243444213e-13\n",
      "  pos[natoms:] = self.logm(pos[natoms:]) * self.exp_cell_factor\n"
     ]
    },
    {
     "name": "stdout",
     "output_type": "stream",
     "text": [
      "FIRE:  284 17:09:49    -2958.968728        0.097420\n"
     ]
    },
    {
     "name": "stderr",
     "output_type": "stream",
     "text": [
      "/home/mehuldarak/anaconda3/envs/mace/lib/python3.13/site-packages/ase/filters.py:606: RuntimeWarning: logm result may be inaccurate, approximate err = 3.2873156575921227e-13\n",
      "  pos[natoms:] = self.logm(pos[natoms:]) * self.exp_cell_factor\n"
     ]
    },
    {
     "name": "stdout",
     "output_type": "stream",
     "text": [
      "FIRE:  285 17:09:50    -2958.977989        0.102443\n"
     ]
    },
    {
     "name": "stderr",
     "output_type": "stream",
     "text": [
      "/home/mehuldarak/anaconda3/envs/mace/lib/python3.13/site-packages/ase/filters.py:606: RuntimeWarning: logm result may be inaccurate, approximate err = 3.2400411316236804e-13\n",
      "  pos[natoms:] = self.logm(pos[natoms:]) * self.exp_cell_factor\n"
     ]
    },
    {
     "name": "stdout",
     "output_type": "stream",
     "text": [
      "FIRE:  286 17:09:51    -2958.989150        0.096373\n"
     ]
    },
    {
     "name": "stderr",
     "output_type": "stream",
     "text": [
      "/home/mehuldarak/anaconda3/envs/mace/lib/python3.13/site-packages/ase/filters.py:606: RuntimeWarning: logm result may be inaccurate, approximate err = 3.1882295111711906e-13\n",
      "  pos[natoms:] = self.logm(pos[natoms:]) * self.exp_cell_factor\n"
     ]
    },
    {
     "name": "stdout",
     "output_type": "stream",
     "text": [
      "FIRE:  287 17:09:52    -2959.001261        0.096673\n"
     ]
    },
    {
     "name": "stderr",
     "output_type": "stream",
     "text": [
      "/home/mehuldarak/anaconda3/envs/mace/lib/python3.13/site-packages/ase/filters.py:606: RuntimeWarning: logm result may be inaccurate, approximate err = 3.2344392263559275e-13\n",
      "  pos[natoms:] = self.logm(pos[natoms:]) * self.exp_cell_factor\n"
     ]
    },
    {
     "name": "stdout",
     "output_type": "stream",
     "text": [
      "FIRE:  288 17:09:53    -2959.011947        0.304016\n"
     ]
    },
    {
     "name": "stderr",
     "output_type": "stream",
     "text": [
      "/home/mehuldarak/anaconda3/envs/mace/lib/python3.13/site-packages/ase/filters.py:606: RuntimeWarning: logm result may be inaccurate, approximate err = 3.252272920623852e-13\n",
      "  pos[natoms:] = self.logm(pos[natoms:]) * self.exp_cell_factor\n"
     ]
    },
    {
     "name": "stdout",
     "output_type": "stream",
     "text": [
      "FIRE:  289 17:09:55    -2959.013134        0.618306\n"
     ]
    },
    {
     "name": "stderr",
     "output_type": "stream",
     "text": [
      "/home/mehuldarak/anaconda3/envs/mace/lib/python3.13/site-packages/ase/filters.py:606: RuntimeWarning: logm result may be inaccurate, approximate err = 3.225652332455128e-13\n",
      "  pos[natoms:] = self.logm(pos[natoms:]) * self.exp_cell_factor\n"
     ]
    },
    {
     "name": "stdout",
     "output_type": "stream",
     "text": [
      "FIRE:  290 17:09:56    -2959.027144        0.188162\n"
     ]
    },
    {
     "name": "stderr",
     "output_type": "stream",
     "text": [
      "/home/mehuldarak/anaconda3/envs/mace/lib/python3.13/site-packages/ase/filters.py:606: RuntimeWarning: logm result may be inaccurate, approximate err = 3.2248577934491456e-13\n",
      "  pos[natoms:] = self.logm(pos[natoms:]) * self.exp_cell_factor\n"
     ]
    },
    {
     "name": "stdout",
     "output_type": "stream",
     "text": [
      "FIRE:  291 17:09:58    -2959.019783        0.519514\n"
     ]
    },
    {
     "name": "stderr",
     "output_type": "stream",
     "text": [
      "/home/mehuldarak/anaconda3/envs/mace/lib/python3.13/site-packages/ase/filters.py:606: RuntimeWarning: logm result may be inaccurate, approximate err = 3.291264399071389e-13\n",
      "  pos[natoms:] = self.logm(pos[natoms:]) * self.exp_cell_factor\n"
     ]
    },
    {
     "name": "stdout",
     "output_type": "stream",
     "text": [
      "FIRE:  292 17:09:59    -2959.023582        0.438163\n"
     ]
    },
    {
     "name": "stderr",
     "output_type": "stream",
     "text": [
      "/home/mehuldarak/anaconda3/envs/mace/lib/python3.13/site-packages/ase/filters.py:606: RuntimeWarning: logm result may be inaccurate, approximate err = 3.319888455939761e-13\n",
      "  pos[natoms:] = self.logm(pos[natoms:]) * self.exp_cell_factor\n"
     ]
    },
    {
     "name": "stdout",
     "output_type": "stream",
     "text": [
      "FIRE:  293 17:10:00    -2959.028332        0.249429\n"
     ]
    },
    {
     "name": "stderr",
     "output_type": "stream",
     "text": [
      "/home/mehuldarak/anaconda3/envs/mace/lib/python3.13/site-packages/ase/filters.py:606: RuntimeWarning: logm result may be inaccurate, approximate err = 3.2798356868430666e-13\n",
      "  pos[natoms:] = self.logm(pos[natoms:]) * self.exp_cell_factor\n"
     ]
    },
    {
     "name": "stdout",
     "output_type": "stream",
     "text": [
      "FIRE:  294 17:10:01    -2959.029994        0.121248\n"
     ]
    },
    {
     "name": "stderr",
     "output_type": "stream",
     "text": [
      "/home/mehuldarak/anaconda3/envs/mace/lib/python3.13/site-packages/ase/filters.py:606: RuntimeWarning: logm result may be inaccurate, approximate err = 3.280992413174914e-13\n",
      "  pos[natoms:] = self.logm(pos[natoms:]) * self.exp_cell_factor\n"
     ]
    },
    {
     "name": "stdout",
     "output_type": "stream",
     "text": [
      "FIRE:  295 17:10:02    -2959.029994        0.113320\n"
     ]
    },
    {
     "name": "stderr",
     "output_type": "stream",
     "text": [
      "/home/mehuldarak/anaconda3/envs/mace/lib/python3.13/site-packages/ase/filters.py:606: RuntimeWarning: logm result may be inaccurate, approximate err = 3.3184957427625316e-13\n",
      "  pos[natoms:] = self.logm(pos[natoms:]) * self.exp_cell_factor\n"
     ]
    },
    {
     "name": "stdout",
     "output_type": "stream",
     "text": [
      "FIRE:  296 17:10:04    -2959.029994        0.097386\n"
     ]
    },
    {
     "name": "stderr",
     "output_type": "stream",
     "text": [
      "/home/mehuldarak/anaconda3/envs/mace/lib/python3.13/site-packages/ase/filters.py:606: RuntimeWarning: logm result may be inaccurate, approximate err = 3.3065426476234407e-13\n",
      "  pos[natoms:] = self.logm(pos[natoms:]) * self.exp_cell_factor\n"
     ]
    },
    {
     "name": "stdout",
     "output_type": "stream",
     "text": [
      "FIRE:  297 17:10:05    -2959.030231        0.093698\n"
     ]
    },
    {
     "name": "stderr",
     "output_type": "stream",
     "text": [
      "/home/mehuldarak/anaconda3/envs/mace/lib/python3.13/site-packages/ase/filters.py:606: RuntimeWarning: logm result may be inaccurate, approximate err = 3.2485895883537536e-13\n",
      "  pos[natoms:] = self.logm(pos[natoms:]) * self.exp_cell_factor\n"
     ]
    },
    {
     "name": "stdout",
     "output_type": "stream",
     "text": [
      "FIRE:  298 17:10:06    -2959.030469        0.093695\n"
     ]
    },
    {
     "name": "stderr",
     "output_type": "stream",
     "text": [
      "/home/mehuldarak/anaconda3/envs/mace/lib/python3.13/site-packages/ase/filters.py:606: RuntimeWarning: logm result may be inaccurate, approximate err = 3.274067348283034e-13\n",
      "  pos[natoms:] = self.logm(pos[natoms:]) * self.exp_cell_factor\n"
     ]
    },
    {
     "name": "stdout",
     "output_type": "stream",
     "text": [
      "FIRE:  299 17:10:08    -2959.030469        0.093689\n"
     ]
    },
    {
     "name": "stderr",
     "output_type": "stream",
     "text": [
      "/home/mehuldarak/anaconda3/envs/mace/lib/python3.13/site-packages/ase/filters.py:606: RuntimeWarning: logm result may be inaccurate, approximate err = 3.272374571893675e-13\n",
      "  pos[natoms:] = self.logm(pos[natoms:]) * self.exp_cell_factor\n"
     ]
    },
    {
     "name": "stdout",
     "output_type": "stream",
     "text": [
      "FIRE:  300 17:10:09    -2959.030944        0.093681\n"
     ]
    },
    {
     "name": "stderr",
     "output_type": "stream",
     "text": [
      "/home/mehuldarak/anaconda3/envs/mace/lib/python3.13/site-packages/ase/filters.py:606: RuntimeWarning: logm result may be inaccurate, approximate err = 3.282187781486138e-13\n",
      "  pos[natoms:] = self.logm(pos[natoms:]) * self.exp_cell_factor\n"
     ]
    },
    {
     "name": "stdout",
     "output_type": "stream",
     "text": [
      "FIRE:  301 17:10:10    -2959.031656        0.093670\n"
     ]
    },
    {
     "name": "stderr",
     "output_type": "stream",
     "text": [
      "/home/mehuldarak/anaconda3/envs/mace/lib/python3.13/site-packages/ase/filters.py:606: RuntimeWarning: logm result may be inaccurate, approximate err = 3.3491234307367385e-13\n",
      "  pos[natoms:] = self.logm(pos[natoms:]) * self.exp_cell_factor\n"
     ]
    },
    {
     "name": "stdout",
     "output_type": "stream",
     "text": [
      "FIRE:  302 17:10:11    -2959.032131        0.093655\n"
     ]
    },
    {
     "name": "stderr",
     "output_type": "stream",
     "text": [
      "/home/mehuldarak/anaconda3/envs/mace/lib/python3.13/site-packages/ase/filters.py:606: RuntimeWarning: logm result may be inaccurate, approximate err = 3.247032269399709e-13\n",
      "  pos[natoms:] = self.logm(pos[natoms:]) * self.exp_cell_factor\n"
     ]
    },
    {
     "name": "stdout",
     "output_type": "stream",
     "text": [
      "FIRE:  303 17:10:13    -2959.031894        0.093637\n"
     ]
    },
    {
     "name": "stderr",
     "output_type": "stream",
     "text": [
      "/home/mehuldarak/anaconda3/envs/mace/lib/python3.13/site-packages/ase/filters.py:606: RuntimeWarning: logm result may be inaccurate, approximate err = 3.260164648291474e-13\n",
      "  pos[natoms:] = self.logm(pos[natoms:]) * self.exp_cell_factor\n"
     ]
    },
    {
     "name": "stdout",
     "output_type": "stream",
     "text": [
      "FIRE:  304 17:10:14    -2959.032131        0.093613\n"
     ]
    },
    {
     "name": "stderr",
     "output_type": "stream",
     "text": [
      "/home/mehuldarak/anaconda3/envs/mace/lib/python3.13/site-packages/ase/filters.py:606: RuntimeWarning: logm result may be inaccurate, approximate err = 3.2766247412783443e-13\n",
      "  pos[natoms:] = self.logm(pos[natoms:]) * self.exp_cell_factor\n"
     ]
    },
    {
     "name": "stdout",
     "output_type": "stream",
     "text": [
      "FIRE:  305 17:10:15    -2959.032606        0.093585\n"
     ]
    },
    {
     "name": "stderr",
     "output_type": "stream",
     "text": [
      "/home/mehuldarak/anaconda3/envs/mace/lib/python3.13/site-packages/ase/filters.py:606: RuntimeWarning: logm result may be inaccurate, approximate err = 3.257424160084767e-13\n",
      "  pos[natoms:] = self.logm(pos[natoms:]) * self.exp_cell_factor\n"
     ]
    },
    {
     "name": "stdout",
     "output_type": "stream",
     "text": [
      "FIRE:  306 17:10:17    -2959.033793        0.093546\n"
     ]
    },
    {
     "name": "stderr",
     "output_type": "stream",
     "text": [
      "/home/mehuldarak/anaconda3/envs/mace/lib/python3.13/site-packages/ase/filters.py:606: RuntimeWarning: logm result may be inaccurate, approximate err = 3.323888107025531e-13\n",
      "  pos[natoms:] = self.logm(pos[natoms:]) * self.exp_cell_factor\n"
     ]
    },
    {
     "name": "stdout",
     "output_type": "stream",
     "text": [
      "FIRE:  307 17:10:18    -2959.034031        0.093496\n"
     ]
    },
    {
     "name": "stderr",
     "output_type": "stream",
     "text": [
      "/home/mehuldarak/anaconda3/envs/mace/lib/python3.13/site-packages/ase/filters.py:606: RuntimeWarning: logm result may be inaccurate, approximate err = 3.300371763424722e-13\n",
      "  pos[natoms:] = self.logm(pos[natoms:]) * self.exp_cell_factor\n"
     ]
    },
    {
     "name": "stdout",
     "output_type": "stream",
     "text": [
      "FIRE:  308 17:10:19    -2959.034506        0.093435\n"
     ]
    },
    {
     "name": "stderr",
     "output_type": "stream",
     "text": [
      "/home/mehuldarak/anaconda3/envs/mace/lib/python3.13/site-packages/ase/filters.py:606: RuntimeWarning: logm result may be inaccurate, approximate err = 3.266052584430927e-13\n",
      "  pos[natoms:] = self.logm(pos[natoms:]) * self.exp_cell_factor\n"
     ]
    },
    {
     "name": "stdout",
     "output_type": "stream",
     "text": [
      "FIRE:  309 17:10:20    -2959.034981        0.093368\n"
     ]
    },
    {
     "name": "stderr",
     "output_type": "stream",
     "text": [
      "/home/mehuldarak/anaconda3/envs/mace/lib/python3.13/site-packages/ase/filters.py:606: RuntimeWarning: logm result may be inaccurate, approximate err = 3.3118536498741573e-13\n",
      "  pos[natoms:] = self.logm(pos[natoms:]) * self.exp_cell_factor\n"
     ]
    },
    {
     "name": "stdout",
     "output_type": "stream",
     "text": [
      "FIRE:  310 17:10:22    -2959.035931        0.093291\n"
     ]
    },
    {
     "name": "stderr",
     "output_type": "stream",
     "text": [
      "/home/mehuldarak/anaconda3/envs/mace/lib/python3.13/site-packages/ase/filters.py:606: RuntimeWarning: logm result may be inaccurate, approximate err = 3.258919090606402e-13\n",
      "  pos[natoms:] = self.logm(pos[natoms:]) * self.exp_cell_factor\n"
     ]
    },
    {
     "name": "stdout",
     "output_type": "stream",
     "text": [
      "FIRE:  311 17:10:23    -2959.037355        0.093195\n"
     ]
    },
    {
     "name": "stderr",
     "output_type": "stream",
     "text": [
      "/home/mehuldarak/anaconda3/envs/mace/lib/python3.13/site-packages/ase/filters.py:606: RuntimeWarning: logm result may be inaccurate, approximate err = 3.294179779586129e-13\n",
      "  pos[natoms:] = self.logm(pos[natoms:]) * self.exp_cell_factor\n"
     ]
    },
    {
     "name": "stdout",
     "output_type": "stream",
     "text": [
      "FIRE:  312 17:10:24    -2959.039255        0.093080\n"
     ]
    },
    {
     "name": "stderr",
     "output_type": "stream",
     "text": [
      "/home/mehuldarak/anaconda3/envs/mace/lib/python3.13/site-packages/ase/filters.py:606: RuntimeWarning: logm result may be inaccurate, approximate err = 3.2209979571648654e-13\n",
      "  pos[natoms:] = self.logm(pos[natoms:]) * self.exp_cell_factor\n"
     ]
    },
    {
     "name": "stdout",
     "output_type": "stream",
     "text": [
      "FIRE:  313 17:10:26    -2959.041392        0.092942\n"
     ]
    },
    {
     "name": "stderr",
     "output_type": "stream",
     "text": [
      "/home/mehuldarak/anaconda3/envs/mace/lib/python3.13/site-packages/ase/filters.py:606: RuntimeWarning: logm result may be inaccurate, approximate err = 3.241159681777332e-13\n",
      "  pos[natoms:] = self.logm(pos[natoms:]) * self.exp_cell_factor\n"
     ]
    },
    {
     "name": "stdout",
     "output_type": "stream",
     "text": [
      "FIRE:  314 17:10:27    -2959.044004        0.092771\n"
     ]
    },
    {
     "name": "stderr",
     "output_type": "stream",
     "text": [
      "/home/mehuldarak/anaconda3/envs/mace/lib/python3.13/site-packages/ase/filters.py:606: RuntimeWarning: logm result may be inaccurate, approximate err = 3.3197828796713666e-13\n",
      "  pos[natoms:] = self.logm(pos[natoms:]) * self.exp_cell_factor\n"
     ]
    },
    {
     "name": "stdout",
     "output_type": "stream",
     "text": [
      "FIRE:  315 17:10:28    -2959.046379        0.092575\n"
     ]
    },
    {
     "name": "stderr",
     "output_type": "stream",
     "text": [
      "/home/mehuldarak/anaconda3/envs/mace/lib/python3.13/site-packages/ase/filters.py:606: RuntimeWarning: logm result may be inaccurate, approximate err = 3.2915863495294424e-13\n",
      "  pos[natoms:] = self.logm(pos[natoms:]) * self.exp_cell_factor\n"
     ]
    },
    {
     "name": "stdout",
     "output_type": "stream",
     "text": [
      "FIRE:  316 17:10:29    -2959.049704        0.092334\n"
     ]
    },
    {
     "name": "stderr",
     "output_type": "stream",
     "text": [
      "/home/mehuldarak/anaconda3/envs/mace/lib/python3.13/site-packages/ase/filters.py:606: RuntimeWarning: logm result may be inaccurate, approximate err = 3.2941968650978397e-13\n",
      "  pos[natoms:] = self.logm(pos[natoms:]) * self.exp_cell_factor\n"
     ]
    },
    {
     "name": "stdout",
     "output_type": "stream",
     "text": [
      "FIRE:  317 17:10:30    -2959.052553        0.092024\n"
     ]
    },
    {
     "name": "stderr",
     "output_type": "stream",
     "text": [
      "/home/mehuldarak/anaconda3/envs/mace/lib/python3.13/site-packages/ase/filters.py:606: RuntimeWarning: logm result may be inaccurate, approximate err = 3.2963354311014546e-13\n",
      "  pos[natoms:] = self.logm(pos[natoms:]) * self.exp_cell_factor\n"
     ]
    },
    {
     "name": "stdout",
     "output_type": "stream",
     "text": [
      "FIRE:  318 17:10:32    -2959.057777        0.091628\n"
     ]
    },
    {
     "name": "stderr",
     "output_type": "stream",
     "text": [
      "/home/mehuldarak/anaconda3/envs/mace/lib/python3.13/site-packages/ase/filters.py:606: RuntimeWarning: logm result may be inaccurate, approximate err = 3.403788330026115e-13\n",
      "  pos[natoms:] = self.logm(pos[natoms:]) * self.exp_cell_factor\n"
     ]
    },
    {
     "name": "stdout",
     "output_type": "stream",
     "text": [
      "FIRE:  319 17:10:33    -2959.062527        0.091143\n"
     ]
    },
    {
     "name": "stderr",
     "output_type": "stream",
     "text": [
      "/home/mehuldarak/anaconda3/envs/mace/lib/python3.13/site-packages/ase/filters.py:606: RuntimeWarning: logm result may be inaccurate, approximate err = 3.323984005331669e-13\n",
      "  pos[natoms:] = self.logm(pos[natoms:]) * self.exp_cell_factor\n"
     ]
    },
    {
     "name": "stdout",
     "output_type": "stream",
     "text": [
      "FIRE:  320 17:10:34    -2959.069888        0.090546\n"
     ]
    },
    {
     "name": "stderr",
     "output_type": "stream",
     "text": [
      "/home/mehuldarak/anaconda3/envs/mace/lib/python3.13/site-packages/ase/filters.py:606: RuntimeWarning: logm result may be inaccurate, approximate err = 3.2761041684900213e-13\n",
      "  pos[natoms:] = self.logm(pos[natoms:]) * self.exp_cell_factor\n"
     ]
    },
    {
     "name": "stdout",
     "output_type": "stream",
     "text": [
      "FIRE:  321 17:10:35    -2959.077487        0.147884\n"
     ]
    },
    {
     "name": "stderr",
     "output_type": "stream",
     "text": [
      "/home/mehuldarak/anaconda3/envs/mace/lib/python3.13/site-packages/ase/filters.py:606: RuntimeWarning: logm result may be inaccurate, approximate err = 3.272712888399655e-13\n",
      "  pos[natoms:] = self.logm(pos[natoms:]) * self.exp_cell_factor\n"
     ]
    },
    {
     "name": "stdout",
     "output_type": "stream",
     "text": [
      "FIRE:  322 17:10:37    -2959.082711        0.343498\n"
     ]
    },
    {
     "name": "stderr",
     "output_type": "stream",
     "text": [
      "/home/mehuldarak/anaconda3/envs/mace/lib/python3.13/site-packages/ase/filters.py:606: RuntimeWarning: logm result may be inaccurate, approximate err = 3.237038052148987e-13\n",
      "  pos[natoms:] = self.logm(pos[natoms:]) * self.exp_cell_factor\n"
     ]
    },
    {
     "name": "stdout",
     "output_type": "stream",
     "text": [
      "FIRE:  323 17:10:38    -2959.086748        0.098110\n"
     ]
    },
    {
     "name": "stderr",
     "output_type": "stream",
     "text": [
      "/home/mehuldarak/anaconda3/envs/mace/lib/python3.13/site-packages/ase/filters.py:606: RuntimeWarning: logm result may be inaccurate, approximate err = 3.2470690296101106e-13\n",
      "  pos[natoms:] = self.logm(pos[natoms:]) * self.exp_cell_factor\n"
     ]
    },
    {
     "name": "stdout",
     "output_type": "stream",
     "text": [
      "FIRE:  324 17:10:39    -2959.085323        0.310821\n"
     ]
    },
    {
     "name": "stderr",
     "output_type": "stream",
     "text": [
      "/home/mehuldarak/anaconda3/envs/mace/lib/python3.13/site-packages/ase/filters.py:606: RuntimeWarning: logm result may be inaccurate, approximate err = 3.4351175138767017e-13\n",
      "  pos[natoms:] = self.logm(pos[natoms:]) * self.exp_cell_factor\n"
     ]
    },
    {
     "name": "stdout",
     "output_type": "stream",
     "text": [
      "FIRE:  325 17:10:41    -2959.086511        0.240818\n"
     ]
    },
    {
     "name": "stderr",
     "output_type": "stream",
     "text": [
      "/home/mehuldarak/anaconda3/envs/mace/lib/python3.13/site-packages/ase/filters.py:606: RuntimeWarning: logm result may be inaccurate, approximate err = 3.1750539525626706e-13\n",
      "  pos[natoms:] = self.logm(pos[natoms:]) * self.exp_cell_factor\n"
     ]
    },
    {
     "name": "stdout",
     "output_type": "stream",
     "text": [
      "FIRE:  326 17:10:42    -2959.087223        0.123266\n"
     ]
    },
    {
     "name": "stderr",
     "output_type": "stream",
     "text": [
      "/home/mehuldarak/anaconda3/envs/mace/lib/python3.13/site-packages/ase/filters.py:606: RuntimeWarning: logm result may be inaccurate, approximate err = 3.3240097825496564e-13\n",
      "  pos[natoms:] = self.logm(pos[natoms:]) * self.exp_cell_factor\n"
     ]
    },
    {
     "name": "stdout",
     "output_type": "stream",
     "text": [
      "FIRE:  327 17:10:43    -2959.087461        0.088977\n"
     ]
    },
    {
     "name": "stderr",
     "output_type": "stream",
     "text": [
      "/home/mehuldarak/anaconda3/envs/mace/lib/python3.13/site-packages/ase/filters.py:606: RuntimeWarning: logm result may be inaccurate, approximate err = 3.258236224518672e-13\n",
      "  pos[natoms:] = self.logm(pos[natoms:]) * self.exp_cell_factor\n"
     ]
    },
    {
     "name": "stdout",
     "output_type": "stream",
     "text": [
      "FIRE:  328 17:10:44    -2959.087698        0.088978\n"
     ]
    },
    {
     "name": "stderr",
     "output_type": "stream",
     "text": [
      "/home/mehuldarak/anaconda3/envs/mace/lib/python3.13/site-packages/ase/filters.py:606: RuntimeWarning: logm result may be inaccurate, approximate err = 3.2609992841424245e-13\n",
      "  pos[natoms:] = self.logm(pos[natoms:]) * self.exp_cell_factor\n"
     ]
    },
    {
     "name": "stdout",
     "output_type": "stream",
     "text": [
      "FIRE:  329 17:10:46    -2959.087698        0.088977\n"
     ]
    },
    {
     "name": "stderr",
     "output_type": "stream",
     "text": [
      "/home/mehuldarak/anaconda3/envs/mace/lib/python3.13/site-packages/ase/filters.py:606: RuntimeWarning: logm result may be inaccurate, approximate err = 3.312485490437645e-13\n",
      "  pos[natoms:] = self.logm(pos[natoms:]) * self.exp_cell_factor\n"
     ]
    },
    {
     "name": "stdout",
     "output_type": "stream",
     "text": [
      "FIRE:  330 17:10:47    -2959.087698        0.088973\n"
     ]
    },
    {
     "name": "stderr",
     "output_type": "stream",
     "text": [
      "/home/mehuldarak/anaconda3/envs/mace/lib/python3.13/site-packages/ase/filters.py:606: RuntimeWarning: logm result may be inaccurate, approximate err = 3.29034232376086e-13\n",
      "  pos[natoms:] = self.logm(pos[natoms:]) * self.exp_cell_factor\n"
     ]
    },
    {
     "name": "stdout",
     "output_type": "stream",
     "text": [
      "FIRE:  331 17:10:48    -2959.087935        0.088970\n"
     ]
    },
    {
     "name": "stderr",
     "output_type": "stream",
     "text": [
      "/home/mehuldarak/anaconda3/envs/mace/lib/python3.13/site-packages/ase/filters.py:606: RuntimeWarning: logm result may be inaccurate, approximate err = 3.333779250543235e-13\n",
      "  pos[natoms:] = self.logm(pos[natoms:]) * self.exp_cell_factor\n"
     ]
    },
    {
     "name": "stdout",
     "output_type": "stream",
     "text": [
      "FIRE:  332 17:10:49    -2959.087698        0.088967\n"
     ]
    },
    {
     "name": "stderr",
     "output_type": "stream",
     "text": [
      "/home/mehuldarak/anaconda3/envs/mace/lib/python3.13/site-packages/ase/filters.py:606: RuntimeWarning: logm result may be inaccurate, approximate err = 3.155407190525575e-13\n",
      "  pos[natoms:] = self.logm(pos[natoms:]) * self.exp_cell_factor\n"
     ]
    },
    {
     "name": "stdout",
     "output_type": "stream",
     "text": [
      "FIRE:  333 17:10:51    -2959.088173        0.088961\n"
     ]
    },
    {
     "name": "stderr",
     "output_type": "stream",
     "text": [
      "/home/mehuldarak/anaconda3/envs/mace/lib/python3.13/site-packages/ase/filters.py:606: RuntimeWarning: logm result may be inaccurate, approximate err = 3.231903784037245e-13\n",
      "  pos[natoms:] = self.logm(pos[natoms:]) * self.exp_cell_factor\n"
     ]
    },
    {
     "name": "stdout",
     "output_type": "stream",
     "text": [
      "FIRE:  334 17:10:52    -2959.087698        0.088955\n"
     ]
    },
    {
     "name": "stderr",
     "output_type": "stream",
     "text": [
      "/home/mehuldarak/anaconda3/envs/mace/lib/python3.13/site-packages/ase/filters.py:606: RuntimeWarning: logm result may be inaccurate, approximate err = 3.3101593514730574e-13\n",
      "  pos[natoms:] = self.logm(pos[natoms:]) * self.exp_cell_factor\n"
     ]
    },
    {
     "name": "stdout",
     "output_type": "stream",
     "text": [
      "FIRE:  335 17:10:53    -2959.088173        0.088947\n"
     ]
    },
    {
     "name": "stderr",
     "output_type": "stream",
     "text": [
      "/home/mehuldarak/anaconda3/envs/mace/lib/python3.13/site-packages/ase/filters.py:606: RuntimeWarning: logm result may be inaccurate, approximate err = 3.249026544274976e-13\n",
      "  pos[natoms:] = self.logm(pos[natoms:]) * self.exp_cell_factor\n"
     ]
    },
    {
     "name": "stdout",
     "output_type": "stream",
     "text": [
      "FIRE:  336 17:10:54    -2959.088173        0.088935\n"
     ]
    },
    {
     "name": "stderr",
     "output_type": "stream",
     "text": [
      "/home/mehuldarak/anaconda3/envs/mace/lib/python3.13/site-packages/ase/filters.py:606: RuntimeWarning: logm result may be inaccurate, approximate err = 3.252521990817345e-13\n",
      "  pos[natoms:] = self.logm(pos[natoms:]) * self.exp_cell_factor\n"
     ]
    },
    {
     "name": "stdout",
     "output_type": "stream",
     "text": [
      "FIRE:  337 17:10:56    -2959.088173        0.088918\n"
     ]
    },
    {
     "name": "stderr",
     "output_type": "stream",
     "text": [
      "/home/mehuldarak/anaconda3/envs/mace/lib/python3.13/site-packages/ase/filters.py:606: RuntimeWarning: logm result may be inaccurate, approximate err = 3.2939917075036023e-13\n",
      "  pos[natoms:] = self.logm(pos[natoms:]) * self.exp_cell_factor\n"
     ]
    },
    {
     "name": "stdout",
     "output_type": "stream",
     "text": [
      "FIRE:  338 17:10:57    -2959.088648        0.088898\n"
     ]
    },
    {
     "name": "stderr",
     "output_type": "stream",
     "text": [
      "/home/mehuldarak/anaconda3/envs/mace/lib/python3.13/site-packages/ase/filters.py:606: RuntimeWarning: logm result may be inaccurate, approximate err = 3.269313251747434e-13\n",
      "  pos[natoms:] = self.logm(pos[natoms:]) * self.exp_cell_factor\n"
     ]
    },
    {
     "name": "stdout",
     "output_type": "stream",
     "text": [
      "FIRE:  339 17:10:58    -2959.088885        0.088870\n"
     ]
    },
    {
     "name": "stderr",
     "output_type": "stream",
     "text": [
      "/home/mehuldarak/anaconda3/envs/mace/lib/python3.13/site-packages/ase/filters.py:606: RuntimeWarning: logm result may be inaccurate, approximate err = 3.2682071775363573e-13\n",
      "  pos[natoms:] = self.logm(pos[natoms:]) * self.exp_cell_factor\n"
     ]
    },
    {
     "name": "stdout",
     "output_type": "stream",
     "text": [
      "FIRE:  340 17:10:59    -2959.089360        0.088832\n"
     ]
    },
    {
     "name": "stderr",
     "output_type": "stream",
     "text": [
      "/home/mehuldarak/anaconda3/envs/mace/lib/python3.13/site-packages/ase/filters.py:606: RuntimeWarning: logm result may be inaccurate, approximate err = 3.3166343372719306e-13\n",
      "  pos[natoms:] = self.logm(pos[natoms:]) * self.exp_cell_factor\n"
     ]
    },
    {
     "name": "stdout",
     "output_type": "stream",
     "text": [
      "FIRE:  341 17:11:01    -2959.090073        0.088785\n"
     ]
    },
    {
     "name": "stderr",
     "output_type": "stream",
     "text": [
      "/home/mehuldarak/anaconda3/envs/mace/lib/python3.13/site-packages/ase/filters.py:606: RuntimeWarning: logm result may be inaccurate, approximate err = 3.2339945758483975e-13\n",
      "  pos[natoms:] = self.logm(pos[natoms:]) * self.exp_cell_factor\n"
     ]
    },
    {
     "name": "stdout",
     "output_type": "stream",
     "text": [
      "FIRE:  342 17:11:02    -2959.090073        0.088723\n"
     ]
    },
    {
     "name": "stderr",
     "output_type": "stream",
     "text": [
      "/home/mehuldarak/anaconda3/envs/mace/lib/python3.13/site-packages/ase/filters.py:606: RuntimeWarning: logm result may be inaccurate, approximate err = 3.266534521506138e-13\n",
      "  pos[natoms:] = self.logm(pos[natoms:]) * self.exp_cell_factor\n"
     ]
    },
    {
     "name": "stdout",
     "output_type": "stream",
     "text": [
      "FIRE:  343 17:11:03    -2959.090785        0.088647\n"
     ]
    },
    {
     "name": "stderr",
     "output_type": "stream",
     "text": [
      "/home/mehuldarak/anaconda3/envs/mace/lib/python3.13/site-packages/ase/filters.py:606: RuntimeWarning: logm result may be inaccurate, approximate err = 3.329751319936824e-13\n",
      "  pos[natoms:] = self.logm(pos[natoms:]) * self.exp_cell_factor\n"
     ]
    },
    {
     "name": "stdout",
     "output_type": "stream",
     "text": [
      "FIRE:  344 17:11:05    -2959.092210        0.088559\n"
     ]
    },
    {
     "name": "stderr",
     "output_type": "stream",
     "text": [
      "/home/mehuldarak/anaconda3/envs/mace/lib/python3.13/site-packages/ase/filters.py:606: RuntimeWarning: logm result may be inaccurate, approximate err = 3.3007924844981876e-13\n",
      "  pos[natoms:] = self.logm(pos[natoms:]) * self.exp_cell_factor\n"
     ]
    },
    {
     "name": "stdout",
     "output_type": "stream",
     "text": [
      "FIRE:  345 17:11:06    -2959.093397        0.088462\n"
     ]
    },
    {
     "name": "stderr",
     "output_type": "stream",
     "text": [
      "/home/mehuldarak/anaconda3/envs/mace/lib/python3.13/site-packages/ase/filters.py:606: RuntimeWarning: logm result may be inaccurate, approximate err = 3.2935270803137874e-13\n",
      "  pos[natoms:] = self.logm(pos[natoms:]) * self.exp_cell_factor\n"
     ]
    },
    {
     "name": "stdout",
     "output_type": "stream",
     "text": [
      "FIRE:  346 17:11:07    -2959.094584        0.088353\n"
     ]
    },
    {
     "name": "stderr",
     "output_type": "stream",
     "text": [
      "/home/mehuldarak/anaconda3/envs/mace/lib/python3.13/site-packages/ase/filters.py:606: RuntimeWarning: logm result may be inaccurate, approximate err = 3.2550721970139836e-13\n",
      "  pos[natoms:] = self.logm(pos[natoms:]) * self.exp_cell_factor\n"
     ]
    },
    {
     "name": "stdout",
     "output_type": "stream",
     "text": [
      "FIRE:  347 17:11:08    -2959.096247        0.088230\n"
     ]
    },
    {
     "name": "stderr",
     "output_type": "stream",
     "text": [
      "/home/mehuldarak/anaconda3/envs/mace/lib/python3.13/site-packages/ase/filters.py:606: RuntimeWarning: logm result may be inaccurate, approximate err = 3.263059906029588e-13\n",
      "  pos[natoms:] = self.logm(pos[natoms:]) * self.exp_cell_factor\n"
     ]
    },
    {
     "name": "stdout",
     "output_type": "stream",
     "text": [
      "FIRE:  348 17:11:10    -2959.098146        0.088080\n"
     ]
    },
    {
     "name": "stderr",
     "output_type": "stream",
     "text": [
      "/home/mehuldarak/anaconda3/envs/mace/lib/python3.13/site-packages/ase/filters.py:606: RuntimeWarning: logm result may be inaccurate, approximate err = 3.1970313785555613e-13\n",
      "  pos[natoms:] = self.logm(pos[natoms:]) * self.exp_cell_factor\n"
     ]
    },
    {
     "name": "stdout",
     "output_type": "stream",
     "text": [
      "FIRE:  349 17:11:11    -2959.100046        0.087887\n"
     ]
    },
    {
     "name": "stderr",
     "output_type": "stream",
     "text": [
      "/home/mehuldarak/anaconda3/envs/mace/lib/python3.13/site-packages/ase/filters.py:606: RuntimeWarning: logm result may be inaccurate, approximate err = 3.2595424872002446e-13\n",
      "  pos[natoms:] = self.logm(pos[natoms:]) * self.exp_cell_factor\n"
     ]
    },
    {
     "name": "stdout",
     "output_type": "stream",
     "text": [
      "FIRE:  350 17:11:12    -2959.102896        0.087637\n"
     ]
    },
    {
     "name": "stderr",
     "output_type": "stream",
     "text": [
      "/home/mehuldarak/anaconda3/envs/mace/lib/python3.13/site-packages/ase/filters.py:606: RuntimeWarning: logm result may be inaccurate, approximate err = 3.219591812918016e-13\n",
      "  pos[natoms:] = self.logm(pos[natoms:]) * self.exp_cell_factor\n"
     ]
    },
    {
     "name": "stdout",
     "output_type": "stream",
     "text": [
      "FIRE:  351 17:11:14    -2959.105983        0.087306\n"
     ]
    },
    {
     "name": "stderr",
     "output_type": "stream",
     "text": [
      "/home/mehuldarak/anaconda3/envs/mace/lib/python3.13/site-packages/ase/filters.py:606: RuntimeWarning: logm result may be inaccurate, approximate err = 3.2896010073567436e-13\n",
      "  pos[natoms:] = self.logm(pos[natoms:]) * self.exp_cell_factor\n"
     ]
    },
    {
     "name": "stdout",
     "output_type": "stream",
     "text": [
      "FIRE:  352 17:11:15    -2959.110020        0.086893\n"
     ]
    },
    {
     "name": "stderr",
     "output_type": "stream",
     "text": [
      "/home/mehuldarak/anaconda3/envs/mace/lib/python3.13/site-packages/ase/filters.py:606: RuntimeWarning: logm result may be inaccurate, approximate err = 3.238621089365899e-13\n",
      "  pos[natoms:] = self.logm(pos[natoms:]) * self.exp_cell_factor\n"
     ]
    },
    {
     "name": "stdout",
     "output_type": "stream",
     "text": [
      "FIRE:  353 17:11:16    -2959.114532        0.086404\n"
     ]
    },
    {
     "name": "stderr",
     "output_type": "stream",
     "text": [
      "/home/mehuldarak/anaconda3/envs/mace/lib/python3.13/site-packages/ase/filters.py:606: RuntimeWarning: logm result may be inaccurate, approximate err = 3.261767622742933e-13\n",
      "  pos[natoms:] = self.logm(pos[natoms:]) * self.exp_cell_factor\n"
     ]
    },
    {
     "name": "stdout",
     "output_type": "stream",
     "text": [
      "FIRE:  354 17:11:17    -2959.119993        0.104213\n"
     ]
    },
    {
     "name": "stderr",
     "output_type": "stream",
     "text": [
      "/home/mehuldarak/anaconda3/envs/mace/lib/python3.13/site-packages/ase/filters.py:606: RuntimeWarning: logm result may be inaccurate, approximate err = 3.222806558880295e-13\n",
      "  pos[natoms:] = self.logm(pos[natoms:]) * self.exp_cell_factor\n"
     ]
    },
    {
     "name": "stdout",
     "output_type": "stream",
     "text": [
      "FIRE:  355 17:11:18    -2959.125930        0.247900\n"
     ]
    },
    {
     "name": "stderr",
     "output_type": "stream",
     "text": [
      "/home/mehuldarak/anaconda3/envs/mace/lib/python3.13/site-packages/ase/filters.py:606: RuntimeWarning: logm result may be inaccurate, approximate err = 3.330727076566189e-13\n",
      "  pos[natoms:] = self.logm(pos[natoms:]) * self.exp_cell_factor\n"
     ]
    },
    {
     "name": "stdout",
     "output_type": "stream",
     "text": [
      "FIRE:  356 17:11:20    -2959.129017        0.510292\n"
     ]
    },
    {
     "name": "stderr",
     "output_type": "stream",
     "text": [
      "/home/mehuldarak/anaconda3/envs/mace/lib/python3.13/site-packages/ase/filters.py:606: RuntimeWarning: logm result may be inaccurate, approximate err = 3.31630774766294e-13\n",
      "  pos[natoms:] = self.logm(pos[natoms:]) * self.exp_cell_factor\n"
     ]
    },
    {
     "name": "stdout",
     "output_type": "stream",
     "text": [
      "FIRE:  357 17:11:21    -2959.134241        0.097105\n"
     ]
    },
    {
     "name": "stderr",
     "output_type": "stream",
     "text": [
      "/home/mehuldarak/anaconda3/envs/mace/lib/python3.13/site-packages/ase/filters.py:606: RuntimeWarning: logm result may be inaccurate, approximate err = 3.380366232936509e-13\n",
      "  pos[natoms:] = self.logm(pos[natoms:]) * self.exp_cell_factor\n"
     ]
    },
    {
     "name": "stdout",
     "output_type": "stream",
     "text": [
      "FIRE:  358 17:11:22    -2959.131392        0.390693\n"
     ]
    },
    {
     "name": "stderr",
     "output_type": "stream",
     "text": [
      "/home/mehuldarak/anaconda3/envs/mace/lib/python3.13/site-packages/ase/filters.py:606: RuntimeWarning: logm result may be inaccurate, approximate err = 3.2388913136308443e-13\n",
      "  pos[natoms:] = self.logm(pos[natoms:]) * self.exp_cell_factor\n"
     ]
    },
    {
     "name": "stdout",
     "output_type": "stream",
     "text": [
      "FIRE:  359 17:11:23    -2959.132579        0.334601\n"
     ]
    },
    {
     "name": "stderr",
     "output_type": "stream",
     "text": [
      "/home/mehuldarak/anaconda3/envs/mace/lib/python3.13/site-packages/ase/filters.py:606: RuntimeWarning: logm result may be inaccurate, approximate err = 3.29336341598489e-13\n",
      "  pos[natoms:] = self.logm(pos[natoms:]) * self.exp_cell_factor\n"
     ]
    },
    {
     "name": "stdout",
     "output_type": "stream",
     "text": [
      "FIRE:  360 17:11:25    -2959.134004        0.217992\n"
     ]
    },
    {
     "name": "stderr",
     "output_type": "stream",
     "text": [
      "/home/mehuldarak/anaconda3/envs/mace/lib/python3.13/site-packages/ase/filters.py:606: RuntimeWarning: logm result may be inaccurate, approximate err = 3.2766125807339587e-13\n",
      "  pos[natoms:] = self.logm(pos[natoms:]) * self.exp_cell_factor\n"
     ]
    },
    {
     "name": "stdout",
     "output_type": "stream",
     "text": [
      "FIRE:  361 17:11:26    -2959.134716        0.084336\n"
     ]
    },
    {
     "name": "stderr",
     "output_type": "stream",
     "text": [
      "/home/mehuldarak/anaconda3/envs/mace/lib/python3.13/site-packages/ase/filters.py:606: RuntimeWarning: logm result may be inaccurate, approximate err = 3.290784216274484e-13\n",
      "  pos[natoms:] = self.logm(pos[natoms:]) * self.exp_cell_factor\n"
     ]
    },
    {
     "name": "stdout",
     "output_type": "stream",
     "text": [
      "FIRE:  362 17:11:27    -2959.135191        0.205753\n"
     ]
    },
    {
     "name": "stderr",
     "output_type": "stream",
     "text": [
      "/home/mehuldarak/anaconda3/envs/mace/lib/python3.13/site-packages/ase/filters.py:606: RuntimeWarning: logm result may be inaccurate, approximate err = 3.2167627672212175e-13\n",
      "  pos[natoms:] = self.logm(pos[natoms:]) * self.exp_cell_factor\n"
     ]
    },
    {
     "name": "stdout",
     "output_type": "stream",
     "text": [
      "FIRE:  363 17:11:29    -2959.135191        0.194650\n"
     ]
    },
    {
     "name": "stderr",
     "output_type": "stream",
     "text": [
      "/home/mehuldarak/anaconda3/envs/mace/lib/python3.13/site-packages/ase/filters.py:606: RuntimeWarning: logm result may be inaccurate, approximate err = 3.2929714203118996e-13\n",
      "  pos[natoms:] = self.logm(pos[natoms:]) * self.exp_cell_factor\n"
     ]
    },
    {
     "name": "stdout",
     "output_type": "stream",
     "text": [
      "FIRE:  364 17:11:30    -2959.135191        0.173231\n"
     ]
    },
    {
     "name": "stderr",
     "output_type": "stream",
     "text": [
      "/home/mehuldarak/anaconda3/envs/mace/lib/python3.13/site-packages/ase/filters.py:606: RuntimeWarning: logm result may be inaccurate, approximate err = 3.3064423585800076e-13\n",
      "  pos[natoms:] = self.logm(pos[natoms:]) * self.exp_cell_factor\n"
     ]
    },
    {
     "name": "stdout",
     "output_type": "stream",
     "text": [
      "FIRE:  365 17:11:31    -2959.135191        0.142697\n"
     ]
    },
    {
     "name": "stderr",
     "output_type": "stream",
     "text": [
      "/home/mehuldarak/anaconda3/envs/mace/lib/python3.13/site-packages/ase/filters.py:606: RuntimeWarning: logm result may be inaccurate, approximate err = 3.317401461049937e-13\n",
      "  pos[natoms:] = self.logm(pos[natoms:]) * self.exp_cell_factor\n"
     ]
    },
    {
     "name": "stdout",
     "output_type": "stream",
     "text": [
      "FIRE:  366 17:11:33    -2959.135191        0.103066\n"
     ]
    },
    {
     "name": "stderr",
     "output_type": "stream",
     "text": [
      "/home/mehuldarak/anaconda3/envs/mace/lib/python3.13/site-packages/ase/filters.py:606: RuntimeWarning: logm result may be inaccurate, approximate err = 3.285477663624306e-13\n",
      "  pos[natoms:] = self.logm(pos[natoms:]) * self.exp_cell_factor\n"
     ]
    },
    {
     "name": "stdout",
     "output_type": "stream",
     "text": [
      "FIRE:  367 17:11:34    -2959.135903        0.084303\n"
     ]
    },
    {
     "name": "stderr",
     "output_type": "stream",
     "text": [
      "/home/mehuldarak/anaconda3/envs/mace/lib/python3.13/site-packages/ase/filters.py:606: RuntimeWarning: logm result may be inaccurate, approximate err = 3.2390171637956416e-13\n",
      "  pos[natoms:] = self.logm(pos[natoms:]) * self.exp_cell_factor\n"
     ]
    },
    {
     "name": "stdout",
     "output_type": "stream",
     "text": [
      "FIRE:  368 17:11:35    -2959.135666        0.084294\n"
     ]
    },
    {
     "name": "stderr",
     "output_type": "stream",
     "text": [
      "/home/mehuldarak/anaconda3/envs/mace/lib/python3.13/site-packages/ase/filters.py:606: RuntimeWarning: logm result may be inaccurate, approximate err = 3.284661681957378e-13\n",
      "  pos[natoms:] = self.logm(pos[natoms:]) * self.exp_cell_factor\n"
     ]
    },
    {
     "name": "stdout",
     "output_type": "stream",
     "text": [
      "FIRE:  369 17:11:36    -2959.135666        0.084286\n"
     ]
    },
    {
     "name": "stderr",
     "output_type": "stream",
     "text": [
      "/home/mehuldarak/anaconda3/envs/mace/lib/python3.13/site-packages/ase/filters.py:606: RuntimeWarning: logm result may be inaccurate, approximate err = 3.306126911800047e-13\n",
      "  pos[natoms:] = self.logm(pos[natoms:]) * self.exp_cell_factor\n"
     ]
    },
    {
     "name": "stdout",
     "output_type": "stream",
     "text": [
      "FIRE:  370 17:11:38    -2959.135666        0.096165\n"
     ]
    },
    {
     "name": "stderr",
     "output_type": "stream",
     "text": [
      "/home/mehuldarak/anaconda3/envs/mace/lib/python3.13/site-packages/ase/filters.py:606: RuntimeWarning: logm result may be inaccurate, approximate err = 3.246785440865435e-13\n",
      "  pos[natoms:] = self.logm(pos[natoms:]) * self.exp_cell_factor\n"
     ]
    },
    {
     "name": "stdout",
     "output_type": "stream",
     "text": [
      "FIRE:  371 17:11:39    -2959.135666        0.116094\n"
     ]
    },
    {
     "name": "stderr",
     "output_type": "stream",
     "text": [
      "/home/mehuldarak/anaconda3/envs/mace/lib/python3.13/site-packages/ase/filters.py:606: RuntimeWarning: logm result may be inaccurate, approximate err = 3.217959976152431e-13\n",
      "  pos[natoms:] = self.logm(pos[natoms:]) * self.exp_cell_factor\n"
     ]
    },
    {
     "name": "stdout",
     "output_type": "stream",
     "text": [
      "FIRE:  372 17:11:40    -2959.135903        0.118212\n"
     ]
    },
    {
     "name": "stderr",
     "output_type": "stream",
     "text": [
      "/home/mehuldarak/anaconda3/envs/mace/lib/python3.13/site-packages/ase/filters.py:606: RuntimeWarning: logm result may be inaccurate, approximate err = 3.228291057169715e-13\n",
      "  pos[natoms:] = self.logm(pos[natoms:]) * self.exp_cell_factor\n"
     ]
    },
    {
     "name": "stdout",
     "output_type": "stream",
     "text": [
      "FIRE:  373 17:11:41    -2959.136378        0.098933\n"
     ]
    },
    {
     "name": "stderr",
     "output_type": "stream",
     "text": [
      "/home/mehuldarak/anaconda3/envs/mace/lib/python3.13/site-packages/ase/filters.py:606: RuntimeWarning: logm result may be inaccurate, approximate err = 3.3063130565426176e-13\n",
      "  pos[natoms:] = self.logm(pos[natoms:]) * self.exp_cell_factor\n"
     ]
    },
    {
     "name": "stdout",
     "output_type": "stream",
     "text": [
      "FIRE:  374 17:11:43    -2959.136616        0.084208\n"
     ]
    },
    {
     "name": "stderr",
     "output_type": "stream",
     "text": [
      "/home/mehuldarak/anaconda3/envs/mace/lib/python3.13/site-packages/ase/filters.py:606: RuntimeWarning: logm result may be inaccurate, approximate err = 3.277762712064581e-13\n",
      "  pos[natoms:] = self.logm(pos[natoms:]) * self.exp_cell_factor\n"
     ]
    },
    {
     "name": "stdout",
     "output_type": "stream",
     "text": [
      "FIRE:  375 17:11:44    -2959.137091        0.084181\n"
     ]
    },
    {
     "name": "stderr",
     "output_type": "stream",
     "text": [
      "/home/mehuldarak/anaconda3/envs/mace/lib/python3.13/site-packages/ase/filters.py:606: RuntimeWarning: logm result may be inaccurate, approximate err = 3.281883512421244e-13\n",
      "  pos[natoms:] = self.logm(pos[natoms:]) * self.exp_cell_factor\n"
     ]
    },
    {
     "name": "stdout",
     "output_type": "stream",
     "text": [
      "FIRE:  376 17:11:45    -2959.137566        0.084142\n"
     ]
    },
    {
     "name": "stderr",
     "output_type": "stream",
     "text": [
      "/home/mehuldarak/anaconda3/envs/mace/lib/python3.13/site-packages/ase/filters.py:606: RuntimeWarning: logm result may be inaccurate, approximate err = 3.283828011108356e-13\n",
      "  pos[natoms:] = self.logm(pos[natoms:]) * self.exp_cell_factor\n"
     ]
    },
    {
     "name": "stdout",
     "output_type": "stream",
     "text": [
      "FIRE:  377 17:11:47    -2959.137566        0.099105\n"
     ]
    },
    {
     "name": "stderr",
     "output_type": "stream",
     "text": [
      "/home/mehuldarak/anaconda3/envs/mace/lib/python3.13/site-packages/ase/filters.py:606: RuntimeWarning: logm result may be inaccurate, approximate err = 3.258489562916754e-13\n",
      "  pos[natoms:] = self.logm(pos[natoms:]) * self.exp_cell_factor\n"
     ]
    },
    {
     "name": "stdout",
     "output_type": "stream",
     "text": [
      "FIRE:  378 17:11:48    -2959.139465        0.084042\n"
     ]
    },
    {
     "name": "stderr",
     "output_type": "stream",
     "text": [
      "/home/mehuldarak/anaconda3/envs/mace/lib/python3.13/site-packages/ase/filters.py:606: RuntimeWarning: logm result may be inaccurate, approximate err = 3.2220778303849346e-13\n",
      "  pos[natoms:] = self.logm(pos[natoms:]) * self.exp_cell_factor\n"
     ]
    },
    {
     "name": "stdout",
     "output_type": "stream",
     "text": [
      "FIRE:  379 17:11:49    -2959.139465        0.083973\n"
     ]
    },
    {
     "name": "stderr",
     "output_type": "stream",
     "text": [
      "/home/mehuldarak/anaconda3/envs/mace/lib/python3.13/site-packages/ase/filters.py:606: RuntimeWarning: logm result may be inaccurate, approximate err = 3.2685377208037245e-13\n",
      "  pos[natoms:] = self.logm(pos[natoms:]) * self.exp_cell_factor\n"
     ]
    },
    {
     "name": "stdout",
     "output_type": "stream",
     "text": [
      "FIRE:  380 17:11:50    -2959.139940        0.083886\n"
     ]
    },
    {
     "name": "stderr",
     "output_type": "stream",
     "text": [
      "/home/mehuldarak/anaconda3/envs/mace/lib/python3.13/site-packages/ase/filters.py:606: RuntimeWarning: logm result may be inaccurate, approximate err = 3.2828565928634665e-13\n",
      "  pos[natoms:] = self.logm(pos[natoms:]) * self.exp_cell_factor\n"
     ]
    },
    {
     "name": "stdout",
     "output_type": "stream",
     "text": [
      "FIRE:  381 17:11:51    -2959.141365        0.083785\n"
     ]
    },
    {
     "name": "stderr",
     "output_type": "stream",
     "text": [
      "/home/mehuldarak/anaconda3/envs/mace/lib/python3.13/site-packages/ase/filters.py:606: RuntimeWarning: logm result may be inaccurate, approximate err = 3.2925859796811837e-13\n",
      "  pos[natoms:] = self.logm(pos[natoms:]) * self.exp_cell_factor\n"
     ]
    },
    {
     "name": "stdout",
     "output_type": "stream",
     "text": [
      "FIRE:  382 17:11:53    -2959.143027        0.083668\n"
     ]
    },
    {
     "name": "stderr",
     "output_type": "stream",
     "text": [
      "/home/mehuldarak/anaconda3/envs/mace/lib/python3.13/site-packages/ase/filters.py:606: RuntimeWarning: logm result may be inaccurate, approximate err = 3.242249460033075e-13\n",
      "  pos[natoms:] = self.logm(pos[natoms:]) * self.exp_cell_factor\n"
     ]
    },
    {
     "name": "stdout",
     "output_type": "stream",
     "text": [
      "FIRE:  383 17:11:54    -2959.143977        0.083522\n"
     ]
    },
    {
     "name": "stderr",
     "output_type": "stream",
     "text": [
      "/home/mehuldarak/anaconda3/envs/mace/lib/python3.13/site-packages/ase/filters.py:606: RuntimeWarning: logm result may be inaccurate, approximate err = 3.275741240891224e-13\n",
      "  pos[natoms:] = self.logm(pos[natoms:]) * self.exp_cell_factor\n"
     ]
    },
    {
     "name": "stdout",
     "output_type": "stream",
     "text": [
      "FIRE:  384 17:11:55    -2959.146352        0.083350\n"
     ]
    },
    {
     "name": "stderr",
     "output_type": "stream",
     "text": [
      "/home/mehuldarak/anaconda3/envs/mace/lib/python3.13/site-packages/ase/filters.py:606: RuntimeWarning: logm result may be inaccurate, approximate err = 3.2588588049918934e-13\n",
      "  pos[natoms:] = self.logm(pos[natoms:]) * self.exp_cell_factor\n"
     ]
    },
    {
     "name": "stdout",
     "output_type": "stream",
     "text": [
      "FIRE:  385 17:11:57    -2959.148014        0.083136\n"
     ]
    },
    {
     "name": "stderr",
     "output_type": "stream",
     "text": [
      "/home/mehuldarak/anaconda3/envs/mace/lib/python3.13/site-packages/ase/filters.py:606: RuntimeWarning: logm result may be inaccurate, approximate err = 3.2439726038754106e-13\n",
      "  pos[natoms:] = self.logm(pos[natoms:]) * self.exp_cell_factor\n"
     ]
    },
    {
     "name": "stdout",
     "output_type": "stream",
     "text": [
      "FIRE:  386 17:11:58    -2959.150389        0.082869\n"
     ]
    },
    {
     "name": "stderr",
     "output_type": "stream",
     "text": [
      "/home/mehuldarak/anaconda3/envs/mace/lib/python3.13/site-packages/ase/filters.py:606: RuntimeWarning: logm result may be inaccurate, approximate err = 3.298010533746158e-13\n",
      "  pos[natoms:] = self.logm(pos[natoms:]) * self.exp_cell_factor\n"
     ]
    },
    {
     "name": "stdout",
     "output_type": "stream",
     "text": [
      "FIRE:  387 17:11:59    -2959.154901        0.082547\n"
     ]
    },
    {
     "name": "stderr",
     "output_type": "stream",
     "text": [
      "/home/mehuldarak/anaconda3/envs/mace/lib/python3.13/site-packages/ase/filters.py:606: RuntimeWarning: logm result may be inaccurate, approximate err = 3.226184113273187e-13\n",
      "  pos[natoms:] = self.logm(pos[natoms:]) * self.exp_cell_factor\n"
     ]
    },
    {
     "name": "stdout",
     "output_type": "stream",
     "text": [
      "FIRE:  388 17:12:00    -2959.159175        0.082156\n"
     ]
    },
    {
     "name": "stderr",
     "output_type": "stream",
     "text": [
      "/home/mehuldarak/anaconda3/envs/mace/lib/python3.13/site-packages/ase/filters.py:606: RuntimeWarning: logm result may be inaccurate, approximate err = 3.206891535491651e-13\n",
      "  pos[natoms:] = self.logm(pos[natoms:]) * self.exp_cell_factor\n"
     ]
    },
    {
     "name": "stdout",
     "output_type": "stream",
     "text": [
      "FIRE:  389 17:12:02    -2959.163212        0.104434\n"
     ]
    },
    {
     "name": "stderr",
     "output_type": "stream",
     "text": [
      "/home/mehuldarak/anaconda3/envs/mace/lib/python3.13/site-packages/ase/filters.py:606: RuntimeWarning: logm result may be inaccurate, approximate err = 3.3007211493840363e-13\n",
      "  pos[natoms:] = self.logm(pos[natoms:]) * self.exp_cell_factor\n"
     ]
    },
    {
     "name": "stdout",
     "output_type": "stream",
     "text": [
      "FIRE:  390 17:12:03    -2959.169386        0.253612\n"
     ]
    },
    {
     "name": "stderr",
     "output_type": "stream",
     "text": [
      "/home/mehuldarak/anaconda3/envs/mace/lib/python3.13/site-packages/ase/filters.py:606: RuntimeWarning: logm result may be inaccurate, approximate err = 3.266702047020769e-13\n",
      "  pos[natoms:] = self.logm(pos[natoms:]) * self.exp_cell_factor\n"
     ]
    },
    {
     "name": "stdout",
     "output_type": "stream",
     "text": [
      "FIRE:  391 17:12:04    -2959.170811        0.526900\n"
     ]
    },
    {
     "name": "stderr",
     "output_type": "stream",
     "text": [
      "/home/mehuldarak/anaconda3/envs/mace/lib/python3.13/site-packages/ase/filters.py:606: RuntimeWarning: logm result may be inaccurate, approximate err = 3.217472492895232e-13\n",
      "  pos[natoms:] = self.logm(pos[natoms:]) * self.exp_cell_factor\n"
     ]
    },
    {
     "name": "stdout",
     "output_type": "stream",
     "text": [
      "FIRE:  392 17:12:06    -2959.176747        0.091398\n"
     ]
    },
    {
     "name": "stderr",
     "output_type": "stream",
     "text": [
      "/home/mehuldarak/anaconda3/envs/mace/lib/python3.13/site-packages/ase/filters.py:606: RuntimeWarning: logm result may be inaccurate, approximate err = 3.3148275560479397e-13\n",
      "  pos[natoms:] = self.logm(pos[natoms:]) * self.exp_cell_factor\n"
     ]
    },
    {
     "name": "stdout",
     "output_type": "stream",
     "text": [
      "FIRE:  393 17:12:07    -2959.173423        0.408768\n"
     ]
    },
    {
     "name": "stderr",
     "output_type": "stream",
     "text": [
      "/home/mehuldarak/anaconda3/envs/mace/lib/python3.13/site-packages/ase/filters.py:606: RuntimeWarning: logm result may be inaccurate, approximate err = 3.2049515681494384e-13\n",
      "  pos[natoms:] = self.logm(pos[natoms:]) * self.exp_cell_factor\n"
     ]
    },
    {
     "name": "stdout",
     "output_type": "stream",
     "text": [
      "FIRE:  394 17:12:08    -2959.174610        0.349135\n"
     ]
    },
    {
     "name": "stderr",
     "output_type": "stream",
     "text": [
      "/home/mehuldarak/anaconda3/envs/mace/lib/python3.13/site-packages/ase/filters.py:606: RuntimeWarning: logm result may be inaccurate, approximate err = 3.3050370182359203e-13\n",
      "  pos[natoms:] = self.logm(pos[natoms:]) * self.exp_cell_factor\n"
     ]
    },
    {
     "name": "stdout",
     "output_type": "stream",
     "text": [
      "FIRE:  395 17:12:09    -2959.175797        0.228633\n"
     ]
    },
    {
     "name": "stderr",
     "output_type": "stream",
     "text": [
      "/home/mehuldarak/anaconda3/envs/mace/lib/python3.13/site-packages/ase/filters.py:606: RuntimeWarning: logm result may be inaccurate, approximate err = 3.266166768922515e-13\n",
      "  pos[natoms:] = self.logm(pos[natoms:]) * self.exp_cell_factor\n"
     ]
    },
    {
     "name": "stdout",
     "output_type": "stream",
     "text": [
      "FIRE:  396 17:12:11    -2959.177460        0.080373\n"
     ]
    },
    {
     "name": "stderr",
     "output_type": "stream",
     "text": [
      "/home/mehuldarak/anaconda3/envs/mace/lib/python3.13/site-packages/ase/filters.py:606: RuntimeWarning: logm result may be inaccurate, approximate err = 3.2977602350626046e-13\n",
      "  pos[natoms:] = self.logm(pos[natoms:]) * self.exp_cell_factor\n"
     ]
    },
    {
     "name": "stdout",
     "output_type": "stream",
     "text": [
      "FIRE:  397 17:12:12    -2959.177222        0.224661\n"
     ]
    },
    {
     "name": "stderr",
     "output_type": "stream",
     "text": [
      "/home/mehuldarak/anaconda3/envs/mace/lib/python3.13/site-packages/ase/filters.py:606: RuntimeWarning: logm result may be inaccurate, approximate err = 3.239722985729038e-13\n",
      "  pos[natoms:] = self.logm(pos[natoms:]) * self.exp_cell_factor\n"
     ]
    },
    {
     "name": "stdout",
     "output_type": "stream",
     "text": [
      "FIRE:  398 17:12:13    -2959.177222        0.211638\n"
     ]
    },
    {
     "name": "stderr",
     "output_type": "stream",
     "text": [
      "/home/mehuldarak/anaconda3/envs/mace/lib/python3.13/site-packages/ase/filters.py:606: RuntimeWarning: logm result may be inaccurate, approximate err = 3.3113848503046437e-13\n",
      "  pos[natoms:] = self.logm(pos[natoms:]) * self.exp_cell_factor\n"
     ]
    },
    {
     "name": "stdout",
     "output_type": "stream",
     "text": [
      "FIRE:  399 17:12:15    -2959.177222        0.187024\n"
     ]
    },
    {
     "name": "stderr",
     "output_type": "stream",
     "text": [
      "/home/mehuldarak/anaconda3/envs/mace/lib/python3.13/site-packages/ase/filters.py:606: RuntimeWarning: logm result may be inaccurate, approximate err = 3.3715061653558155e-13\n",
      "  pos[natoms:] = self.logm(pos[natoms:]) * self.exp_cell_factor\n"
     ]
    },
    {
     "name": "stdout",
     "output_type": "stream",
     "text": [
      "FIRE:  400 17:12:16    -2959.176985        0.152636\n"
     ]
    }
   ],
   "source": [
    "# Convert back, assign calculator + constraint\n",
    "structure_1 = AseAtomsAdaptor.get_atoms(result[\"final_structure\"])\n",
    "structure_1.set_calculator(calc)\n",
    "structure_1.set_constraint(FixAtoms(mask=freeze_mask))\n",
    "\n",
    "# Stage 2: FIRE\n",
    "opt2 = StructOptimizer(model=calc, optimizer_class=\"FIRE\", use_device=\"cuda\")\n",
    "result2 = opt2.relax(structure_1, fmax=0.05, steps=400, relax_cell=True, verbose=True)"
   ]
  },
  {
   "cell_type": "code",
   "execution_count": null,
   "id": "f4ade0d8",
   "metadata": {},
   "outputs": [
    {
     "name": "stdout",
     "output_type": "stream",
     "text": [
      "✅ Relaxed structure saved to: /home/mehuldarak/summer/relax_final/cellrelaxed_LLZO_010_La_order0_off__Li_111_slab_heavy.cif\n"
     ]
    },
    {
     "name": "stderr",
     "output_type": "stream",
     "text": [
      "/home/mehuldarak/anaconda3/envs/mace/lib/python3.13/site-packages/pymatgen/io/cif.py:1724: FutureWarning: We strongly discourage using implicit binary/text `mode`, and this would not be allowed after 2025-06-01. I.e. you should pass t/b in `mode`.\n",
      "  with zopen(filename, mode=mode) as file:\n"
     ]
    },
    {
     "ename": "",
     "evalue": "",
     "output_type": "error",
     "traceback": [
      "\u001b[1;31mThe Kernel crashed while executing code in the current cell or a previous cell. \n",
      "\u001b[1;31mPlease review the code in the cell(s) to identify a possible cause of the failure. \n",
      "\u001b[1;31mClick <a href='https://aka.ms/vscodeJupyterKernelCrash'>here</a> for more info. \n",
      "\u001b[1;31mView Jupyter <a href='command:jupyter.viewOutput'>log</a> for further details."
     ]
    }
   ],
   "source": [
    "# Save relaxed structure\n",
    "relaxed_structure = result[\"final_structure\"]\n",
    "relaxed_structure.to(filename=output_path)\n",
    "\n",
    "print(f\"✅ Relaxed structure saved to: {output_path}\")"
   ]
  }
 ],
 "metadata": {
  "kernelspec": {
   "display_name": "mace",
   "language": "python",
   "name": "python3"
  },
  "language_info": {
   "codemirror_mode": {
    "name": "ipython",
    "version": 3
   },
   "file_extension": ".py",
   "mimetype": "text/x-python",
   "name": "python",
   "nbconvert_exporter": "python",
   "pygments_lexer": "ipython3",
   "version": "3.13.5"
  }
 },
 "nbformat": 4,
 "nbformat_minor": 5
}
