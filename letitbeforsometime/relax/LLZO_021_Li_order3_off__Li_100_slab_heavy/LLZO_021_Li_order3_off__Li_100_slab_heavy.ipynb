{
 "cells": [
  {
   "cell_type": "markdown",
   "id": "d7833af9",
   "metadata": {},
   "source": [
    "This notebook follows from the tutorials of CHGNet to relax LLZO-Li slabs that have been made in `llzo_li_balanced_sliced` directory."
   ]
  },
  {
   "cell_type": "markdown",
   "id": "3d234e1d",
   "metadata": {},
   "source": [
    "\n",
    "LLZO‖Li Interface Relaxation Notebook\n",
    "========================================\n",
    "\n",
    "Each notebook handles only one structure.\n",
    "1. Purpose: (This keeps updating)\n",
    "- Relax a single LLZO‖Li (in this notebook LLZO_001_Zr_code93_sto__Li_110_slab_heavy) heterostructure using CHGNet\n",
    "- Perform multi-stage optimization (in this notebook, CG → FIRE)\n",
    "- Freeze bulk-like regions (15 Å at both ends)\n",
    "- after all this, Relax lattice vectors to relieve interface strain\n",
    "\n",
    "2. This notebook handles:\n",
    "- Structure: LLZO_010_Li_order4_off__Li_100_slab_heavy\n",
    "- Initial lattice height: 66.24 Å\n",
    "- Number of atoms: 536\n",
    "\n",
    "3. Method:\n",
    "- CHGNet (v0.4.0) + ASE interface\n",
    "- Stage 1: SciPyFminCG (no cell relaxation) → fmax target ~0.15 eV/Å\n",
    "- Stage 2: FIRE (with optional cell relaxation) → fmax target ~0.05 eV/Å\n",
    "- FrechetCellFilter used for combined force + stress minimization\n",
    "\n",
    "4. Constraints:\n",
    "- LLZO base: frozen bottom 13.5 Å\n",
    "- Li top: frozen top 13.5 Å\n",
    "- Only interfacial region relaxed\n",
    "- Cell relaxation via `relax_cell=True` and `relax_cell_atoms=\"unconstrained\"`\n",
    "\n",
    "5. Outputs: (This will be decided later)\n",
    "- relaxed_[structure_name].cif\n",
    "- relaxed_[structure_name].traj\n",
    "- (Optional) relaxation_log.pkl with energies, forces\n",
    "\n",
    "6. Visual checks:\n",
    "- Compare pre- and post-relaxation structures\n",
    "- Ensure no Li diffusion into LLZO (via z-analysis)\n",
    "- Confirm convergence (fmax < 0.05 eV/Å)\n",
    "\n",
    "Author: Mehul Darak\n",
    "\n",
    "Date: 14-07-2025\n"
   ]
  },
  {
   "cell_type": "code",
   "execution_count": 5,
   "id": "955e570d",
   "metadata": {},
   "outputs": [
    {
     "name": "stdout",
     "output_type": "stream",
     "text": [
      "- Structure: LLZO_010_Li_order4_off__Li_110_slab_heavy\n",
      "- Initial lattice height: 68.54 Å\n",
      "- Number of atoms: 788\n"
     ]
    }
   ],
   "source": [
    "from pymatgen.core import Structure\n",
    "import os\n",
    "\n",
    "# Load structure\n",
    "structure_path = \"/home/mehuldarak/summer/llzo_li_balanced_sliced/LLZO_010_Li_order4_off__Li_110_slab_heavy.cif\"  # replace with your file\n",
    "structure = Structure.from_file(structure_path)\n",
    "\n",
    "# Extract info\n",
    "structure_name = os.path.basename(structure_path).replace(\".cif\", \"\")\n",
    "lattice_height = structure.lattice.c\n",
    "num_atoms = len(structure)\n",
    "\n",
    "# Print output\n",
    "print(f\"- Structure: {structure_name}\")\n",
    "print(f\"- Initial lattice height: {lattice_height:.2f} Å\")\n",
    "print(f\"- Number of atoms: {num_atoms}\")\n"
   ]
  },
  {
   "cell_type": "code",
   "execution_count": 6,
   "id": "1846f174",
   "metadata": {},
   "outputs": [
    {
     "name": "stdout",
     "output_type": "stream",
     "text": [
      "Li slab thickness: 21.20 Å\n",
      "Lowest Li slab atom: 32.35 Å\n",
      "LLZO top z: 32.20 Å\n",
      "Li penetration into LLZO: -0.15 Å\n"
     ]
    }
   ],
   "source": [
    "from pymatgen.core import Structure\n",
    "import numpy as np\n",
    "\n",
    "s = Structure.from_file(\"/home/mehuldarak/summer/llzo_li_balanced_sliced/LLZO_010_Li_order4_off__Li_110_slab_heavy.cif\")\n",
    "\n",
    "# Get all atoms\n",
    "z_coords = np.array([site.z for site in s.sites])\n",
    "species = np.array([site.species_string for site in s.sites])\n",
    "\n",
    "# Estimate LLZO top (non-Li atoms)\n",
    "llzo_z = z_coords[species != \"Li\"]\n",
    "llzo_top = llzo_z.max()\n",
    "\n",
    "# Now isolate Li slab: Li atoms ABOVE LLZO\n",
    "li_slab_z = np.array([site.z for site in s.sites if site.species_string == \"Li\" and site.z > llzo_top])\n",
    "\n",
    "print(f\"Li slab thickness: {li_slab_z.ptp():.2f} Å\")\n",
    "print(f\"Lowest Li slab atom: {li_slab_z.min():.2f} Å\")\n",
    "print(f\"LLZO top z: {llzo_top:.2f} Å\")\n",
    "print(f\"Li penetration into LLZO: {llzo_top - li_slab_z.min():.2f} Å\")\n"
   ]
  },
  {
   "cell_type": "code",
   "execution_count": 7,
   "id": "9df87ad4",
   "metadata": {},
   "outputs": [
    {
     "name": "stdout",
     "output_type": "stream",
     "text": [
      "Freezing 590 atoms out of 788\n",
      "CHGNet v0.3.0 initialized with 412,525 parameters\n",
      "CHGNet will run on cuda\n"
     ]
    },
    {
     "name": "stderr",
     "output_type": "stream",
     "text": [
      "/tmp/ipykernel_84441/1159115033.py:26: FutureWarning: Please use atoms.calc = calc\n",
      "  structure.set_calculator(calc)\n"
     ]
    }
   ],
   "source": [
    "from pymatgen.io.ase import AseAtomsAdaptor\n",
    "from ase.constraints import FixAtoms\n",
    "from chgnet.model.dynamics import CHGNetCalculator, StructOptimizer\n",
    "from ase.io import read, write\n",
    "import numpy as np\n",
    "\n",
    "# --- Load structure ---\n",
    "structure = read(\"/home/mehuldarak/summer/llzo_li_balanced_sliced/LLZO_010_Li_order4_off__Li_110_slab_heavy.cif\")\n",
    "\n",
    "# --- Get z coordinates ---\n",
    "z_coords = structure.get_positions()[:, 2]\n",
    "z_min, z_max = z_coords.min(), z_coords.max()\n",
    "\n",
    "# --- Define freeze zones ---\n",
    "freeze_thickness = 13.5  # in Å\n",
    "llzo_z_threshold = z_min + freeze_thickness\n",
    "li_z_threshold = z_max - freeze_thickness\n",
    "\n",
    "# --- Freeze LLZO base and Li top ---\n",
    "freeze_mask = (z_coords < llzo_z_threshold) | (z_coords > li_z_threshold)\n",
    "structure.set_constraint(FixAtoms(mask=freeze_mask))\n",
    "print(f\"Freezing {np.sum(freeze_mask)} atoms out of {len(structure)}\")\n",
    "\n",
    "# --- Attach CHGNet calculator ---\n",
    "calc = CHGNetCalculator(use_device=\"cuda\")\n",
    "structure.set_calculator(calc)\n",
    "\n"
   ]
  },
  {
   "cell_type": "code",
   "execution_count": null,
   "id": "7579efc8",
   "metadata": {},
   "outputs": [
    {
     "ename": "OutOfMemoryError",
     "evalue": "CUDA out of memory. Tried to allocate 36.00 MiB. GPU 0 has a total capacity of 47.53 GiB of which 16.75 MiB is free. Process 56255 has 12.42 GiB memory in use. Process 80750 has 18.26 GiB memory in use. Including non-PyTorch memory, this process has 16.74 GiB memory in use. Of the allocated memory 16.18 GiB is allocated by PyTorch, and 253.04 MiB is reserved by PyTorch but unallocated. If reserved but unallocated memory is large try setting PYTORCH_CUDA_ALLOC_CONF=expandable_segments:True to avoid fragmentation.  See documentation for Memory Management  (https://pytorch.org/docs/stable/notes/cuda.html#environment-variables)",
     "output_type": "error",
     "traceback": [
      "\u001b[31m---------------------------------------------------------------------------\u001b[39m",
      "\u001b[31mOutOfMemoryError\u001b[39m                          Traceback (most recent call last)",
      "\u001b[36mCell\u001b[39m\u001b[36m \u001b[39m\u001b[32mIn[8]\u001b[39m\u001b[32m, line 3\u001b[39m\n\u001b[32m      1\u001b[39m \u001b[38;5;66;03m# Stage 1: CG\u001b[39;00m\n\u001b[32m      2\u001b[39m opt1 = StructOptimizer(model=calc, optimizer_class=\u001b[33m\"\u001b[39m\u001b[33mSciPyFminCG\u001b[39m\u001b[33m\"\u001b[39m, use_device=\u001b[33m\"\u001b[39m\u001b[33mcuda\u001b[39m\u001b[33m\"\u001b[39m)\n\u001b[32m----> \u001b[39m\u001b[32m3\u001b[39m result1 = opt1.relax(structure, fmax=\u001b[32m0.15\u001b[39m, steps=\u001b[32m300\u001b[39m, relax_cell=\u001b[38;5;28;01mFalse\u001b[39;00m, verbose=\u001b[38;5;28;01mTrue\u001b[39;00m)\n",
      "\u001b[36mFile \u001b[39m\u001b[32m~/anaconda3/envs/mace/lib/python3.13/site-packages/chgnet/model/dynamics.py:327\u001b[39m, in \u001b[36mStructOptimizer.relax\u001b[39m\u001b[34m(self, atoms, fmax, steps, relax_cell, ase_filter, save_path, loginterval, crystal_feas_save_path, verbose, assign_magmoms, **kwargs)\u001b[39m\n\u001b[32m    324\u001b[39m     \u001b[38;5;28;01mif\u001b[39;00m crystal_feas_save_path:\n\u001b[32m    325\u001b[39m         optimizer.attach(cry_obs, interval=loginterval)\n\u001b[32m--> \u001b[39m\u001b[32m327\u001b[39m     optimizer.run(fmax=fmax, steps=steps)\n\u001b[32m    328\u001b[39m     obs()\n\u001b[32m    330\u001b[39m \u001b[38;5;28;01mif\u001b[39;00m save_path \u001b[38;5;129;01mis\u001b[39;00m \u001b[38;5;129;01mnot\u001b[39;00m \u001b[38;5;28;01mNone\u001b[39;00m:\n",
      "\u001b[36mFile \u001b[39m\u001b[32m~/anaconda3/envs/mace/lib/python3.13/site-packages/ase/optimize/sciopt.py:121\u001b[39m, in \u001b[36mSciPyOptimizer.run\u001b[39m\u001b[34m(self, fmax, steps)\u001b[39m\n\u001b[32m    118\u001b[39m \u001b[38;5;28;01mtry\u001b[39;00m:\n\u001b[32m    119\u001b[39m     \u001b[38;5;66;03m# As SciPy does not log the zeroth iteration, we do that manually\u001b[39;00m\n\u001b[32m    120\u001b[39m     \u001b[38;5;28;01mif\u001b[39;00m \u001b[38;5;28mself\u001b[39m.nsteps == \u001b[32m0\u001b[39m:\n\u001b[32m--> \u001b[39m\u001b[32m121\u001b[39m         \u001b[38;5;28mself\u001b[39m.log()\n\u001b[32m    122\u001b[39m         \u001b[38;5;28mself\u001b[39m.call_observers()\n\u001b[32m    124\u001b[39m     \u001b[38;5;28mself\u001b[39m.max_steps = steps + \u001b[38;5;28mself\u001b[39m.nsteps\n",
      "\u001b[36mFile \u001b[39m\u001b[32m~/anaconda3/envs/mace/lib/python3.13/site-packages/ase/optimize/optimize.py:427\u001b[39m, in \u001b[36mOptimizer.log\u001b[39m\u001b[34m(self, forces)\u001b[39m\n\u001b[32m    425\u001b[39m \u001b[38;5;28;01mdef\u001b[39;00m\u001b[38;5;250m \u001b[39m\u001b[34mlog\u001b[39m(\u001b[38;5;28mself\u001b[39m, forces=\u001b[38;5;28;01mNone\u001b[39;00m):\n\u001b[32m    426\u001b[39m     \u001b[38;5;28;01mif\u001b[39;00m forces \u001b[38;5;129;01mis\u001b[39;00m \u001b[38;5;28;01mNone\u001b[39;00m:\n\u001b[32m--> \u001b[39m\u001b[32m427\u001b[39m         forces = \u001b[38;5;28mself\u001b[39m.optimizable.get_forces()\n\u001b[32m    428\u001b[39m     fmax = sqrt((forces ** \u001b[32m2\u001b[39m).sum(axis=\u001b[32m1\u001b[39m).max())\n\u001b[32m    429\u001b[39m     e = \u001b[38;5;28mself\u001b[39m.optimizable.get_potential_energy()\n",
      "\u001b[36mFile \u001b[39m\u001b[32m~/anaconda3/envs/mace/lib/python3.13/site-packages/ase/optimize/optimize.py:37\u001b[39m, in \u001b[36mOptimizableAtoms.get_forces\u001b[39m\u001b[34m(self)\u001b[39m\n\u001b[32m     36\u001b[39m \u001b[38;5;28;01mdef\u001b[39;00m\u001b[38;5;250m \u001b[39m\u001b[34mget_forces\u001b[39m(\u001b[38;5;28mself\u001b[39m):\n\u001b[32m---> \u001b[39m\u001b[32m37\u001b[39m     \u001b[38;5;28;01mreturn\u001b[39;00m \u001b[38;5;28mself\u001b[39m.atoms.get_forces()\n",
      "\u001b[36mFile \u001b[39m\u001b[32m~/anaconda3/envs/mace/lib/python3.13/site-packages/ase/atoms.py:829\u001b[39m, in \u001b[36mAtoms.get_forces\u001b[39m\u001b[34m(self, apply_constraint, md)\u001b[39m\n\u001b[32m    827\u001b[39m \u001b[38;5;28;01mif\u001b[39;00m \u001b[38;5;28mself\u001b[39m._calc \u001b[38;5;129;01mis\u001b[39;00m \u001b[38;5;28;01mNone\u001b[39;00m:\n\u001b[32m    828\u001b[39m     \u001b[38;5;28;01mraise\u001b[39;00m \u001b[38;5;167;01mRuntimeError\u001b[39;00m(\u001b[33m'\u001b[39m\u001b[33mAtoms object has no calculator.\u001b[39m\u001b[33m'\u001b[39m)\n\u001b[32m--> \u001b[39m\u001b[32m829\u001b[39m forces = \u001b[38;5;28mself\u001b[39m._calc.get_forces(\u001b[38;5;28mself\u001b[39m)\n\u001b[32m    831\u001b[39m \u001b[38;5;28;01mif\u001b[39;00m apply_constraint:\n\u001b[32m    832\u001b[39m     \u001b[38;5;66;03m# We need a special md flag here because for MD we want\u001b[39;00m\n\u001b[32m    833\u001b[39m     \u001b[38;5;66;03m# to skip real constraints but include special \"constraints\"\u001b[39;00m\n\u001b[32m    834\u001b[39m     \u001b[38;5;66;03m# Like Hookean.\u001b[39;00m\n\u001b[32m    835\u001b[39m     \u001b[38;5;28;01mfor\u001b[39;00m constraint \u001b[38;5;129;01min\u001b[39;00m \u001b[38;5;28mself\u001b[39m.constraints:\n",
      "\u001b[36mFile \u001b[39m\u001b[32m~/anaconda3/envs/mace/lib/python3.13/site-packages/ase/calculators/abc.py:32\u001b[39m, in \u001b[36mGetPropertiesMixin.get_forces\u001b[39m\u001b[34m(self, atoms)\u001b[39m\n\u001b[32m     31\u001b[39m \u001b[38;5;28;01mdef\u001b[39;00m\u001b[38;5;250m \u001b[39m\u001b[34mget_forces\u001b[39m(\u001b[38;5;28mself\u001b[39m, atoms=\u001b[38;5;28;01mNone\u001b[39;00m):\n\u001b[32m---> \u001b[39m\u001b[32m32\u001b[39m     \u001b[38;5;28;01mreturn\u001b[39;00m \u001b[38;5;28mself\u001b[39m.get_property(\u001b[33m'\u001b[39m\u001b[33mforces\u001b[39m\u001b[33m'\u001b[39m, atoms)\n",
      "\u001b[36mFile \u001b[39m\u001b[32m~/anaconda3/envs/mace/lib/python3.13/site-packages/ase/calculators/calculator.py:515\u001b[39m, in \u001b[36mBaseCalculator.get_property\u001b[39m\u001b[34m(self, name, atoms, allow_calculation)\u001b[39m\n\u001b[32m    512\u001b[39m     \u001b[38;5;28;01mif\u001b[39;00m \u001b[38;5;28mself\u001b[39m.use_cache:\n\u001b[32m    513\u001b[39m         \u001b[38;5;28mself\u001b[39m.atoms = atoms.copy()\n\u001b[32m--> \u001b[39m\u001b[32m515\u001b[39m     \u001b[38;5;28mself\u001b[39m.calculate(atoms, [name], system_changes)\n\u001b[32m    517\u001b[39m \u001b[38;5;28;01mif\u001b[39;00m name \u001b[38;5;129;01mnot\u001b[39;00m \u001b[38;5;129;01min\u001b[39;00m \u001b[38;5;28mself\u001b[39m.results:\n\u001b[32m    518\u001b[39m     \u001b[38;5;66;03m# For some reason the calculator was not able to do what we want,\u001b[39;00m\n\u001b[32m    519\u001b[39m     \u001b[38;5;66;03m# and that is OK.\u001b[39;00m\n\u001b[32m    520\u001b[39m     \u001b[38;5;28;01mraise\u001b[39;00m PropertyNotImplementedError(\n\u001b[32m    521\u001b[39m         \u001b[33m'\u001b[39m\u001b[38;5;132;01m{}\u001b[39;00m\u001b[33m not present in this \u001b[39m\u001b[33m'\u001b[39m \u001b[33m'\u001b[39m\u001b[33mcalculation\u001b[39m\u001b[33m'\u001b[39m.format(name)\n\u001b[32m    522\u001b[39m     )\n",
      "\u001b[36mFile \u001b[39m\u001b[32m~/anaconda3/envs/mace/lib/python3.13/site-packages/chgnet/model/dynamics.py:158\u001b[39m, in \u001b[36mCHGNetCalculator.calculate\u001b[39m\u001b[34m(self, atoms, properties, system_changes, task)\u001b[39m\n\u001b[32m    156\u001b[39m structure = AseAtomsAdaptor.get_structure(atoms)\n\u001b[32m    157\u001b[39m graph = \u001b[38;5;28mself\u001b[39m.model.graph_converter(structure)\n\u001b[32m--> \u001b[39m\u001b[32m158\u001b[39m model_prediction = \u001b[38;5;28mself\u001b[39m.model.predict_graph(\n\u001b[32m    159\u001b[39m     graph.to(\u001b[38;5;28mself\u001b[39m.device),\n\u001b[32m    160\u001b[39m     task=task,\n\u001b[32m    161\u001b[39m     return_crystal_feas=\u001b[38;5;28;01mTrue\u001b[39;00m,\n\u001b[32m    162\u001b[39m     return_site_energies=\u001b[38;5;28mself\u001b[39m.return_site_energies,\n\u001b[32m    163\u001b[39m )\n\u001b[32m    165\u001b[39m \u001b[38;5;66;03m# Convert Result\u001b[39;00m\n\u001b[32m    166\u001b[39m extensive_factor = \u001b[38;5;28mlen\u001b[39m(structure) \u001b[38;5;28;01mif\u001b[39;00m \u001b[38;5;28mself\u001b[39m.model.is_intensive \u001b[38;5;28;01melse\u001b[39;00m \u001b[32m1\u001b[39m\n",
      "\u001b[36mFile \u001b[39m\u001b[32m~/anaconda3/envs/mace/lib/python3.13/site-packages/chgnet/model/model.py:640\u001b[39m, in \u001b[36mCHGNet.predict_graph\u001b[39m\u001b[34m(self, graph, task, return_site_energies, return_atom_feas, return_crystal_feas, batch_size)\u001b[39m\n\u001b[32m    638\u001b[39m n_steps = math.ceil(\u001b[38;5;28mlen\u001b[39m(graphs) / batch_size)\n\u001b[32m    639\u001b[39m \u001b[38;5;28;01mfor\u001b[39;00m step \u001b[38;5;129;01min\u001b[39;00m \u001b[38;5;28mrange\u001b[39m(n_steps):\n\u001b[32m--> \u001b[39m\u001b[32m640\u001b[39m     prediction = \u001b[38;5;28mself\u001b[39m.forward(\n\u001b[32m    641\u001b[39m         [\n\u001b[32m    642\u001b[39m             g.to(model_device)\n\u001b[32m    643\u001b[39m             \u001b[38;5;28;01mfor\u001b[39;00m g \u001b[38;5;129;01min\u001b[39;00m graphs[batch_size * step : batch_size * (step + \u001b[32m1\u001b[39m)]\n\u001b[32m    644\u001b[39m         ],\n\u001b[32m    645\u001b[39m         task=task,\n\u001b[32m    646\u001b[39m         return_site_energies=return_site_energies,\n\u001b[32m    647\u001b[39m         return_atom_feas=return_atom_feas,\n\u001b[32m    648\u001b[39m         return_crystal_feas=return_crystal_feas,\n\u001b[32m    649\u001b[39m     )\n\u001b[32m    650\u001b[39m     \u001b[38;5;28;01mfor\u001b[39;00m key \u001b[38;5;129;01min\u001b[39;00m {\n\u001b[32m    651\u001b[39m         \u001b[33m\"\u001b[39m\u001b[33me\u001b[39m\u001b[33m\"\u001b[39m,\n\u001b[32m    652\u001b[39m         \u001b[33m\"\u001b[39m\u001b[33mf\u001b[39m\u001b[33m\"\u001b[39m,\n\u001b[32m   (...)\u001b[39m\u001b[32m    657\u001b[39m         \u001b[33m\"\u001b[39m\u001b[33mcrystal_fea\u001b[39m\u001b[33m\"\u001b[39m,\n\u001b[32m    658\u001b[39m     } & {*prediction}:\n\u001b[32m    659\u001b[39m         \u001b[38;5;28;01mfor\u001b[39;00m idx, tensor \u001b[38;5;129;01min\u001b[39;00m \u001b[38;5;28menumerate\u001b[39m(prediction[key]):\n",
      "\u001b[36mFile \u001b[39m\u001b[32m~/anaconda3/envs/mace/lib/python3.13/site-packages/chgnet/model/model.py:369\u001b[39m, in \u001b[36mCHGNet.forward\u001b[39m\u001b[34m(self, graphs, task, return_site_energies, return_atom_feas, return_crystal_feas)\u001b[39m\n\u001b[32m    361\u001b[39m batched_graph = BatchedGraph.from_graphs(\n\u001b[32m    362\u001b[39m     graphs,\n\u001b[32m    363\u001b[39m     bond_basis_expansion=\u001b[38;5;28mself\u001b[39m.bond_basis_expansion,\n\u001b[32m    364\u001b[39m     angle_basis_expansion=\u001b[38;5;28mself\u001b[39m.angle_basis_expansion,\n\u001b[32m    365\u001b[39m     compute_stress=\u001b[33m\"\u001b[39m\u001b[33ms\u001b[39m\u001b[33m\"\u001b[39m \u001b[38;5;129;01min\u001b[39;00m task,\n\u001b[32m    366\u001b[39m )\n\u001b[32m    368\u001b[39m \u001b[38;5;66;03m# Pass to model\u001b[39;00m\n\u001b[32m--> \u001b[39m\u001b[32m369\u001b[39m prediction = \u001b[38;5;28mself\u001b[39m._compute(\n\u001b[32m    370\u001b[39m     batched_graph,\n\u001b[32m    371\u001b[39m     compute_force=\u001b[33m\"\u001b[39m\u001b[33mf\u001b[39m\u001b[33m\"\u001b[39m \u001b[38;5;129;01min\u001b[39;00m task,\n\u001b[32m    372\u001b[39m     compute_stress=\u001b[33m\"\u001b[39m\u001b[33ms\u001b[39m\u001b[33m\"\u001b[39m \u001b[38;5;129;01min\u001b[39;00m task,\n\u001b[32m    373\u001b[39m     compute_magmom=\u001b[33m\"\u001b[39m\u001b[33mm\u001b[39m\u001b[33m\"\u001b[39m \u001b[38;5;129;01min\u001b[39;00m task,\n\u001b[32m    374\u001b[39m     return_site_energies=return_site_energies,\n\u001b[32m    375\u001b[39m     return_atom_feas=return_atom_feas,\n\u001b[32m    376\u001b[39m     return_crystal_feas=return_crystal_feas,\n\u001b[32m    377\u001b[39m )\n\u001b[32m    378\u001b[39m prediction[\u001b[33m\"\u001b[39m\u001b[33me\u001b[39m\u001b[33m\"\u001b[39m] += comp_energy\n\u001b[32m    379\u001b[39m \u001b[38;5;28;01mif\u001b[39;00m return_site_energies \u001b[38;5;129;01mand\u001b[39;00m \u001b[38;5;28mself\u001b[39m.composition_model \u001b[38;5;129;01mis\u001b[39;00m \u001b[38;5;129;01mnot\u001b[39;00m \u001b[38;5;28;01mNone\u001b[39;00m:\n",
      "\u001b[36mFile \u001b[39m\u001b[32m~/anaconda3/envs/mace/lib/python3.13/site-packages/chgnet/model/model.py:528\u001b[39m, in \u001b[36mCHGNet._compute\u001b[39m\u001b[34m(self, g, compute_force, compute_stress, compute_magmom, return_site_energies, return_atom_feas, return_crystal_feas)\u001b[39m\n\u001b[32m    526\u001b[39m \u001b[38;5;66;03m# Compute stress\u001b[39;00m\n\u001b[32m    527\u001b[39m \u001b[38;5;28;01mif\u001b[39;00m compute_stress:\n\u001b[32m--> \u001b[39m\u001b[32m528\u001b[39m     stress = torch.autograd.grad(\n\u001b[32m    529\u001b[39m         energy.sum(), g.strains, create_graph=\u001b[38;5;28;01mTrue\u001b[39;00m, retain_graph=\u001b[38;5;28;01mTrue\u001b[39;00m\n\u001b[32m    530\u001b[39m     )\n\u001b[32m    531\u001b[39m     \u001b[38;5;66;03m# Convert Stress unit from eV/A^3 to GPa\u001b[39;00m\n\u001b[32m    532\u001b[39m     scale = \u001b[32m1\u001b[39m / g.volumes * \u001b[32m160.21766208\u001b[39m\n",
      "\u001b[36mFile \u001b[39m\u001b[32m~/anaconda3/envs/mace/lib/python3.13/site-packages/torch/autograd/__init__.py:496\u001b[39m, in \u001b[36mgrad\u001b[39m\u001b[34m(outputs, inputs, grad_outputs, retain_graph, create_graph, only_inputs, allow_unused, is_grads_batched, materialize_grads)\u001b[39m\n\u001b[32m    492\u001b[39m     result = _vmap_internals._vmap(vjp, \u001b[32m0\u001b[39m, \u001b[32m0\u001b[39m, allow_none_pass_through=\u001b[38;5;28;01mTrue\u001b[39;00m)(\n\u001b[32m    493\u001b[39m         grad_outputs_\n\u001b[32m    494\u001b[39m     )\n\u001b[32m    495\u001b[39m \u001b[38;5;28;01melse\u001b[39;00m:\n\u001b[32m--> \u001b[39m\u001b[32m496\u001b[39m     result = _engine_run_backward(\n\u001b[32m    497\u001b[39m         outputs,\n\u001b[32m    498\u001b[39m         grad_outputs_,\n\u001b[32m    499\u001b[39m         retain_graph,\n\u001b[32m    500\u001b[39m         create_graph,\n\u001b[32m    501\u001b[39m         inputs,\n\u001b[32m    502\u001b[39m         allow_unused,\n\u001b[32m    503\u001b[39m         accumulate_grad=\u001b[38;5;28;01mFalse\u001b[39;00m,\n\u001b[32m    504\u001b[39m     )\n\u001b[32m    505\u001b[39m \u001b[38;5;28;01mif\u001b[39;00m materialize_grads:\n\u001b[32m    506\u001b[39m     \u001b[38;5;28;01mif\u001b[39;00m \u001b[38;5;28many\u001b[39m(\n\u001b[32m    507\u001b[39m         result[i] \u001b[38;5;129;01mis\u001b[39;00m \u001b[38;5;28;01mNone\u001b[39;00m \u001b[38;5;129;01mand\u001b[39;00m \u001b[38;5;129;01mnot\u001b[39;00m is_tensor_like(inputs[i])\n\u001b[32m    508\u001b[39m         \u001b[38;5;28;01mfor\u001b[39;00m i \u001b[38;5;129;01min\u001b[39;00m \u001b[38;5;28mrange\u001b[39m(\u001b[38;5;28mlen\u001b[39m(inputs))\n\u001b[32m    509\u001b[39m     ):\n",
      "\u001b[36mFile \u001b[39m\u001b[32m~/anaconda3/envs/mace/lib/python3.13/site-packages/torch/autograd/graph.py:825\u001b[39m, in \u001b[36m_engine_run_backward\u001b[39m\u001b[34m(t_outputs, *args, **kwargs)\u001b[39m\n\u001b[32m    823\u001b[39m     unregister_hooks = _register_logging_hooks_on_whole_graph(t_outputs)\n\u001b[32m    824\u001b[39m \u001b[38;5;28;01mtry\u001b[39;00m:\n\u001b[32m--> \u001b[39m\u001b[32m825\u001b[39m     \u001b[38;5;28;01mreturn\u001b[39;00m Variable._execution_engine.run_backward(  \u001b[38;5;66;03m# Calls into the C++ engine to run the backward pass\u001b[39;00m\n\u001b[32m    826\u001b[39m         t_outputs, *args, **kwargs\n\u001b[32m    827\u001b[39m     )  \u001b[38;5;66;03m# Calls into the C++ engine to run the backward pass\u001b[39;00m\n\u001b[32m    828\u001b[39m \u001b[38;5;28;01mfinally\u001b[39;00m:\n\u001b[32m    829\u001b[39m     \u001b[38;5;28;01mif\u001b[39;00m attach_logging_hooks:\n",
      "\u001b[31mOutOfMemoryError\u001b[39m: CUDA out of memory. Tried to allocate 36.00 MiB. GPU 0 has a total capacity of 47.53 GiB of which 16.75 MiB is free. Process 56255 has 12.42 GiB memory in use. Process 80750 has 18.26 GiB memory in use. Including non-PyTorch memory, this process has 16.74 GiB memory in use. Of the allocated memory 16.18 GiB is allocated by PyTorch, and 253.04 MiB is reserved by PyTorch but unallocated. If reserved but unallocated memory is large try setting PYTORCH_CUDA_ALLOC_CONF=expandable_segments:True to avoid fragmentation.  See documentation for Memory Management  (https://pytorch.org/docs/stable/notes/cuda.html#environment-variables)"
     ]
    },
    {
     "ename": "",
     "evalue": "",
     "output_type": "error",
     "traceback": [
      "\u001b[1;31mThe Kernel crashed while executing code in the current cell or a previous cell. \n",
      "\u001b[1;31mPlease review the code in the cell(s) to identify a possible cause of the failure. \n",
      "\u001b[1;31mClick <a href='https://aka.ms/vscodeJupyterKernelCrash'>here</a> for more info. \n",
      "\u001b[1;31mView Jupyter <a href='command:jupyter.viewOutput'>log</a> for further details."
     ]
    }
   ],
   "source": [
    "# Stage 1: CG\n",
    "opt1 = StructOptimizer(model=calc, optimizer_class=\"SciPyFminCG\", use_device=\"cuda\")\n",
    "result1 = opt1.relax(structure, fmax=0.15, steps=300, relax_cell=False, verbose=True)"
   ]
  },
  {
   "cell_type": "code",
   "execution_count": null,
   "id": "9900c903",
   "metadata": {},
   "outputs": [],
   "source": [
    "# Convert back, assign calculator + constraint\n",
    "structure_1 = AseAtomsAdaptor.get_atoms(result1[\"final_structure\"])\n",
    "structure_1.set_calculator(calc)\n",
    "structure_1.set_constraint(FixAtoms(mask=freeze_mask))\n",
    "\n",
    "# Stage 2: FIRE\n",
    "opt2 = StructOptimizer(model=calc, optimizer_class=\"FIRE\", use_device=\"cuda\")\n",
    "result2 = opt2.relax(structure_1, fmax=0.05, steps=400, relax_cell=False, verbose=True)"
   ]
  },
  {
   "cell_type": "code",
   "execution_count": null,
   "id": "02e25f8e",
   "metadata": {},
   "outputs": [],
   "source": [
    "from pymatgen.io.ase import AseAtomsAdaptor\n",
    "from ase.io import write\n",
    "\n",
    "# Extract final structure from result3 (FIRE)\n",
    "final_structure_pmg = result2[\"final_structure\"]  # assuming result2 = FIRE\n",
    "final_structure_ase = AseAtomsAdaptor.get_atoms(final_structure_pmg)\n",
    "\n",
    "# Save as CIF and ASE trajectory\n",
    "write(f\"{structure_name}.cif\", final_structure_ase)\n",
    "write(f\"{structure_name}.traj\", final_structure_ase)\n",
    "\n",
    "print(\"✅ Final structure saved successfully.\")"
   ]
  },
  {
   "cell_type": "code",
   "execution_count": null,
   "id": "179da561",
   "metadata": {},
   "outputs": [],
   "source": [
    "from pymatgen.core import Structure\n",
    "import numpy as np\n",
    "\n",
    "s = Structure.from_file(\"/home/mehuldarak/summer/relax/LLZO_010_Li_order4_off__Li_110_slab_heavy/LLZO_010_Li_order4_off__Li_110_slab_heavy.cif\")\n",
    "\n",
    "# Get all atoms\n",
    "z_coords = np.array([site.z for site in s.sites])\n",
    "species = np.array([site.species_string for site in s.sites])\n",
    "\n",
    "# Estimate LLZO top (non-Li atoms)\n",
    "llzo_z = z_coords[species != \"Li\"]\n",
    "llzo_top = llzo_z.max()\n",
    "\n",
    "# Now isolate Li slab: Li atoms ABOVE LLZO\n",
    "li_slab_z = np.array([site.z for site in s.sites if site.species_string == \"Li\" and site.z > llzo_top])\n",
    "\n",
    "print(f\"Li slab thickness: {li_slab_z.ptp():.2f} Å\")\n",
    "print(f\"Lowest Li slab atom: {li_slab_z.min():.2f} Å\")\n",
    "print(f\"LLZO top z: {llzo_top:.2f} Å\")\n",
    "print(f\"Li penetration into LLZO: {llzo_top - li_slab_z.min():.2f} Å\")\n"
   ]
  }
 ],
 "metadata": {
  "kernelspec": {
   "display_name": "mace",
   "language": "python",
   "name": "python3"
  },
  "language_info": {
   "codemirror_mode": {
    "name": "ipython",
    "version": 3
   },
   "file_extension": ".py",
   "mimetype": "text/x-python",
   "name": "python",
   "nbconvert_exporter": "python",
   "pygments_lexer": "ipython3",
   "version": "3.13.5"
  }
 },
 "nbformat": 4,
 "nbformat_minor": 5
}
