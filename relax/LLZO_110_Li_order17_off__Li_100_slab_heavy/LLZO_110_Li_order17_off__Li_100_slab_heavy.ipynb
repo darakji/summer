{
 "cells": [
  {
   "cell_type": "markdown",
   "id": "d7833af9",
   "metadata": {},
   "source": [
    "This notebook follows from the tutorials of CHGNet to relax LLZO-Li slabs that have been made in `llzo_li_balanced_sliced` directory."
   ]
  },
  {
   "cell_type": "markdown",
   "id": "3d234e1d",
   "metadata": {},
   "source": [
    "\n",
    "LLZO‖Li Interface Relaxation Notebook\n",
    "========================================\n",
    "\n",
    "Each notebook handles only one structure.\n",
    "1. Purpose: (This keeps updating)\n",
    "- Relax a single LLZO‖Li (in this notebook LLZO_001_Zr_code93_sto__Li_110_slab_heavy) heterostructure using CHGNet\n",
    "- Perform multi-stage optimization (in this notebook, CG → FIRE)\n",
    "- Freeze bulk-like regions (15 Å at both ends)\n",
    "- after all this, Relax lattice vectors to relieve interface strain\n",
    "\n",
    "2. This notebook handles:\n",
    "- Structure: LLZO_110_Li_order17_off__Li_100_slab_heavy\n",
    "- Initial lattice height: 86.02 Å\n",
    "- Number of atoms: 738\n",
    "\n",
    "3. Method:\n",
    "- CHGNet (v0.4.0) + ASE interface\n",
    "- Stage 1: SciPyFminCG (no cell relaxation) → fmax target ~0.15 eV/Å\n",
    "- Stage 2: FIRE (with optional cell relaxation) → fmax target ~0.05 eV/Å\n",
    "- FrechetCellFilter used for combined force + stress minimization\n",
    "\n",
    "4. Constraints:\n",
    "- LLZO base: frozen bottom 14.25 Å\n",
    "- Li top: frozen top 14.25 Å\n",
    "- Only interfacial region relaxed\n",
    "- Cell relaxation via `relax_cell=True` and `relax_cell_atoms=\"unconstrained\"`\n",
    "\n",
    "5. Outputs: (This will be decided later)\n",
    "- relaxed_[structure_name].cif\n",
    "- relaxed_[structure_name].traj\n",
    "- (Optional) relaxation_log.pkl with energies, forces\n",
    "\n",
    "6. Visual checks:\n",
    "- Compare pre- and post-relaxation structures\n",
    "- Ensure no Li diffusion into LLZO (via z-analysis)\n",
    "- Confirm convergence (fmax < 0.05 eV/Å)\n",
    "\n",
    "Author: Mehul Darak\n",
    "\n",
    "Date: 15-07-2025\n"
   ]
  },
  {
   "cell_type": "code",
   "execution_count": 2,
   "id": "955e570d",
   "metadata": {},
   "outputs": [
    {
     "name": "stdout",
     "output_type": "stream",
     "text": [
      "- Structure: LLZO_110_Li_order17_off__Li_100_slab_heavy\n",
      "- Initial lattice height: 86.02 Å\n",
      "- Number of atoms: 738\n"
     ]
    },
    {
     "name": "stderr",
     "output_type": "stream",
     "text": [
      "/home/mehuldarak/anaconda3/envs/mace/lib/python3.13/site-packages/pymatgen/io/cif.py:1290: UserWarning: Issues encountered while parsing CIF: 1 fractional coordinates rounded to ideal values to avoid issues with finite precision.\n",
      "  warnings.warn(\"Issues encountered while parsing CIF: \" + \"\\n\".join(self.warnings))\n"
     ]
    }
   ],
   "source": [
    "from pymatgen.core import Structure\n",
    "import os\n",
    "\n",
    "# Load structure\n",
    "structure_path = \"/home/mehuldarak/summer/llzo_li_balanced_sliced/LLZO_110_Li_order17_off__Li_100_slab_heavy.cif\"  # replace with your file\n",
    "structure = Structure.from_file(structure_path)\n",
    "\n",
    "# Extract info\n",
    "structure_name = os.path.basename(structure_path).replace(\".cif\", \"\")\n",
    "lattice_height = structure.lattice.c\n",
    "num_atoms = len(structure)\n",
    "\n",
    "# Print output\n",
    "print(f\"- Structure: {structure_name}\")\n",
    "print(f\"- Initial lattice height: {lattice_height:.2f} Å\")\n",
    "print(f\"- Number of atoms: {num_atoms}\")\n"
   ]
  },
  {
   "cell_type": "code",
   "execution_count": 3,
   "id": "1846f174",
   "metadata": {},
   "outputs": [
    {
     "name": "stdout",
     "output_type": "stream",
     "text": [
      "Li slab thickness: 28.82 Å\n",
      "Lowest Li slab atom: 42.20 Å\n",
      "LLZO top z: 41.68 Å\n",
      "Li penetration into LLZO: -0.52 Å\n"
     ]
    }
   ],
   "source": [
    "from pymatgen.core import Structure\n",
    "import numpy as np\n",
    "\n",
    "s = Structure.from_file(\"/home/mehuldarak/summer/llzo_li_balanced_sliced/LLZO_110_Li_order17_off__Li_100_slab_heavy.cif\")\n",
    "\n",
    "# Get all atoms\n",
    "z_coords = np.array([site.z for site in s.sites])\n",
    "species = np.array([site.species_string for site in s.sites])\n",
    "\n",
    "# Estimate LLZO top (non-Li atoms)\n",
    "llzo_z = z_coords[species != \"Li\"]\n",
    "llzo_top = llzo_z.max()\n",
    "\n",
    "# Now isolate Li slab: Li atoms ABOVE LLZO\n",
    "li_slab_z = np.array([site.z for site in s.sites if site.species_string == \"Li\" and site.z > llzo_top])\n",
    "\n",
    "print(f\"Li slab thickness: {li_slab_z.ptp():.2f} Å\")\n",
    "print(f\"Lowest Li slab atom: {li_slab_z.min():.2f} Å\")\n",
    "print(f\"LLZO top z: {llzo_top:.2f} Å\")\n",
    "print(f\"Li penetration into LLZO: {llzo_top - li_slab_z.min():.2f} Å\")\n"
   ]
  },
  {
   "cell_type": "code",
   "execution_count": 4,
   "id": "ad50b778",
   "metadata": {},
   "outputs": [
    {
     "name": "stdout",
     "output_type": "stream",
     "text": [
      "LLZO slab thickness: 26.15 Å\n",
      "Li slab thickness:   28.82 Å\n",
      "LLZO top z:          41.68 Å\n",
      "Lowest Li atom z:    42.20 Å\n",
      "Li penetration into LLZO: -0.52 Å\n"
     ]
    }
   ],
   "source": [
    "from pymatgen.core import Structure\n",
    "import numpy as np\n",
    "\n",
    "# Load structure\n",
    "structure = Structure.from_file(\"/home/mehuldarak/summer/llzo_li_balanced_sliced/LLZO_110_Li_order17_off__Li_100_slab_heavy.cif\")\n",
    "\n",
    "# Get z-coordinates and element types\n",
    "z_coords = np.array([site.z for site in structure.sites])\n",
    "species = np.array([site.species_string for site in structure.sites])\n",
    "\n",
    "# LLZO: non-Li atoms (La, Zr, O)\n",
    "llzo_z = z_coords[species != \"Li\"]\n",
    "llzo_top = llzo_z.max()\n",
    "llzo_bottom = llzo_z.min()\n",
    "llzo_thickness = llzo_top - llzo_bottom\n",
    "\n",
    "# Li slab: Li atoms ABOVE LLZO (i.e. in metallic Li layer)\n",
    "li_slab_z = np.array([\n",
    "    site.z for site in structure.sites\n",
    "    if site.species_string == \"Li\" and site.z > llzo_top\n",
    "])\n",
    "li_thickness = li_slab_z.ptp() if len(li_slab_z) > 0 else 0\n",
    "li_bottom = li_slab_z.min() if len(li_slab_z) > 0 else None\n",
    "\n",
    "# Penetration check\n",
    "penetration = llzo_top - li_bottom if li_bottom is not None else 0\n",
    "\n",
    "# Report\n",
    "print(f\"LLZO slab thickness: {llzo_thickness:.2f} Å\")\n",
    "print(f\"Li slab thickness:   {li_thickness:.2f} Å\")\n",
    "print(f\"LLZO top z:          {llzo_top:.2f} Å\")\n",
    "print(f\"Lowest Li atom z:    {li_bottom:.2f} Å\" if li_bottom else \"No Li slab atoms found\")\n",
    "print(f\"Li penetration into LLZO: {penetration:.2f} Å\")\n"
   ]
  },
  {
   "cell_type": "code",
   "execution_count": 5,
   "id": "9df87ad4",
   "metadata": {},
   "outputs": [
    {
     "name": "stdout",
     "output_type": "stream",
     "text": [
      "Freezing 617 atoms out of 738\n",
      "CHGNet v0.3.0 initialized with 412,525 parameters\n",
      "CHGNet will run on cuda\n"
     ]
    },
    {
     "name": "stderr",
     "output_type": "stream",
     "text": [
      "/tmp/ipykernel_78018/1947634833.py:27: FutureWarning: Please use atoms.calc = calc\n",
      "  structure.set_calculator(calc)\n"
     ]
    }
   ],
   "source": [
    "from pymatgen.io.ase import AseAtomsAdaptor\n",
    "from ase.constraints import FixAtoms\n",
    "from chgnet.model.dynamics import CHGNetCalculator, StructOptimizer\n",
    "from ase.io import read, write\n",
    "import numpy as np\n",
    "\n",
    "# --- Load structure ---\n",
    "structure = read(\"/home/mehuldarak/summer/llzo_li_balanced_sliced/LLZO_110_Li_order17_off__Li_100_slab_heavy.cif\")\n",
    "\n",
    "# --- Get z coordinates ---\n",
    "z_coords = structure.get_positions()[:, 2]\n",
    "z_min, z_max = z_coords.min(), z_coords.max()\n",
    "\n",
    "# --- Define freeze zones ---\n",
    "freeze_thickness_llzo = 22  # in Å\n",
    "freeze_thickness_li = 23.5  # in Å\n",
    "llzo_z_threshold = z_min + freeze_thickness_llzo\n",
    "li_z_threshold = z_max - freeze_thickness_li\n",
    "\n",
    "# --- Freeze LLZO base and Li top ---\n",
    "freeze_mask = (z_coords < llzo_z_threshold) | (z_coords > li_z_threshold)\n",
    "structure.set_constraint(FixAtoms(mask=freeze_mask))\n",
    "print(f\"Freezing {np.sum(freeze_mask)} atoms out of {len(structure)}\")\n",
    "\n",
    "# --- Attach CHGNet calculator ---\n",
    "calc = CHGNetCalculator(use_device=\"cuda\")\n",
    "structure.set_calculator(calc)"
   ]
  },
  {
   "cell_type": "code",
   "execution_count": null,
   "id": "7579efc8",
   "metadata": {},
   "outputs": [
    {
     "name": "stdout",
     "output_type": "stream",
     "text": [
      "       Step     Time          Energy          fmax\n",
      "LBFGS:    0 13:46:06    -2102.366323       96.252349\n",
      "LBFGS:    1 13:46:07    -2116.626955       19.428857\n",
      "LBFGS:    2 13:46:07    -2108.005790       71.445104\n",
      "LBFGS:    3 13:46:08    -2115.141561       62.364928\n",
      "LBFGS:    4 13:46:09    -2109.486082       64.854754\n",
      "LBFGS:    5 13:46:09    -2115.794346      183.815847\n",
      "LBFGS:    6 13:46:10    -2113.561327       77.601713\n",
      "LBFGS:    7 13:46:11    -2123.959969       17.941534\n",
      "LBFGS:    8 13:46:11    -2117.833640       55.053694\n",
      "LBFGS:    9 13:46:12    -2118.908536       20.350999\n",
      "LBFGS:   10 13:46:13    -2128.121255       14.466719\n",
      "LBFGS:   11 13:46:13    -2127.382253       20.116459\n",
      "LBFGS:   12 13:46:14    -2119.340501       44.849492\n",
      "LBFGS:   13 13:46:14    -2123.749529       48.148810\n",
      "LBFGS:   14 13:46:15    -2121.197156       52.211552\n",
      "LBFGS:   15 13:46:16    -2122.010762       55.738895\n",
      "LBFGS:   16 13:46:16    -2128.210111       44.132544\n",
      "LBFGS:   17 13:46:17    -2120.241732       48.743234\n",
      "LBFGS:   18 13:46:18    -2091.585865       91.672289\n",
      "LBFGS:   19 13:46:18    -2094.240466       52.800588\n"
     ]
    },
    {
     "ename": "KeyboardInterrupt",
     "evalue": "",
     "output_type": "error",
     "traceback": [
      "\u001b[31m---------------------------------------------------------------------------\u001b[39m",
      "\u001b[31mKeyboardInterrupt\u001b[39m                         Traceback (most recent call last)",
      "\u001b[36mCell\u001b[39m\u001b[36m \u001b[39m\u001b[32mIn[10]\u001b[39m\u001b[32m, line 3\u001b[39m\n\u001b[32m      1\u001b[39m \u001b[38;5;66;03m# Stage 1: CG\u001b[39;00m\n\u001b[32m      2\u001b[39m opt1 = StructOptimizer(model=calc, optimizer_class=\u001b[33m\"\u001b[39m\u001b[33mLBFGS\u001b[39m\u001b[33m\"\u001b[39m, use_device=\u001b[33m\"\u001b[39m\u001b[33mcuda\u001b[39m\u001b[33m\"\u001b[39m)\n\u001b[32m----> \u001b[39m\u001b[32m3\u001b[39m result1 = opt1.relax(structure, fmax=\u001b[32m0.15\u001b[39m, steps=\u001b[32m300\u001b[39m, relax_cell=\u001b[38;5;28;01mFalse\u001b[39;00m, verbose=\u001b[38;5;28;01mTrue\u001b[39;00m)\n",
      "\u001b[36mFile \u001b[39m\u001b[32m~/anaconda3/envs/mace/lib/python3.13/site-packages/chgnet/model/dynamics.py:327\u001b[39m, in \u001b[36mStructOptimizer.relax\u001b[39m\u001b[34m(self, atoms, fmax, steps, relax_cell, ase_filter, save_path, loginterval, crystal_feas_save_path, verbose, assign_magmoms, **kwargs)\u001b[39m\n\u001b[32m    324\u001b[39m     \u001b[38;5;28;01mif\u001b[39;00m crystal_feas_save_path:\n\u001b[32m    325\u001b[39m         optimizer.attach(cry_obs, interval=loginterval)\n\u001b[32m--> \u001b[39m\u001b[32m327\u001b[39m     optimizer.run(fmax=fmax, steps=steps)\n\u001b[32m    328\u001b[39m     obs()\n\u001b[32m    330\u001b[39m \u001b[38;5;28;01mif\u001b[39;00m save_path \u001b[38;5;129;01mis\u001b[39;00m \u001b[38;5;129;01mnot\u001b[39;00m \u001b[38;5;28;01mNone\u001b[39;00m:\n",
      "\u001b[36mFile \u001b[39m\u001b[32m~/anaconda3/envs/mace/lib/python3.13/site-packages/ase/optimize/optimize.py:417\u001b[39m, in \u001b[36mOptimizer.run\u001b[39m\u001b[34m(self, fmax, steps)\u001b[39m\n\u001b[32m    402\u001b[39m \u001b[38;5;250m\u001b[39m\u001b[33;03m\"\"\"Run optimizer.\u001b[39;00m\n\u001b[32m    403\u001b[39m \n\u001b[32m    404\u001b[39m \u001b[33;03mParameters\u001b[39;00m\n\u001b[32m   (...)\u001b[39m\u001b[32m    414\u001b[39m \u001b[33;03m    True if the forces on atoms are converged.\u001b[39;00m\n\u001b[32m    415\u001b[39m \u001b[33;03m\"\"\"\u001b[39;00m\n\u001b[32m    416\u001b[39m \u001b[38;5;28mself\u001b[39m.fmax = fmax\n\u001b[32m--> \u001b[39m\u001b[32m417\u001b[39m \u001b[38;5;28;01mreturn\u001b[39;00m Dynamics.run(\u001b[38;5;28mself\u001b[39m, steps=steps)\n",
      "\u001b[36mFile \u001b[39m\u001b[32m~/anaconda3/envs/mace/lib/python3.13/site-packages/ase/optimize/optimize.py:286\u001b[39m, in \u001b[36mDynamics.run\u001b[39m\u001b[34m(self, steps)\u001b[39m\n\u001b[32m    268\u001b[39m \u001b[38;5;28;01mdef\u001b[39;00m\u001b[38;5;250m \u001b[39m\u001b[34mrun\u001b[39m(\u001b[38;5;28mself\u001b[39m, steps=DEFAULT_MAX_STEPS):\n\u001b[32m    269\u001b[39m \u001b[38;5;250m    \u001b[39m\u001b[33;03m\"\"\"Run dynamics algorithm.\u001b[39;00m\n\u001b[32m    270\u001b[39m \n\u001b[32m    271\u001b[39m \u001b[33;03m    This method will return when the forces on all individual\u001b[39;00m\n\u001b[32m   (...)\u001b[39m\u001b[32m    283\u001b[39m \u001b[33;03m        True if the forces on atoms are converged.\u001b[39;00m\n\u001b[32m    284\u001b[39m \u001b[33;03m    \"\"\"\u001b[39;00m\n\u001b[32m--> \u001b[39m\u001b[32m286\u001b[39m     \u001b[38;5;28;01mfor\u001b[39;00m converged \u001b[38;5;129;01min\u001b[39;00m Dynamics.irun(\u001b[38;5;28mself\u001b[39m, steps=steps):\n\u001b[32m    287\u001b[39m         \u001b[38;5;28;01mpass\u001b[39;00m\n\u001b[32m    288\u001b[39m     \u001b[38;5;28;01mreturn\u001b[39;00m converged\n",
      "\u001b[36mFile \u001b[39m\u001b[32m~/anaconda3/envs/mace/lib/python3.13/site-packages/ase/optimize/optimize.py:261\u001b[39m, in \u001b[36mDynamics.irun\u001b[39m\u001b[34m(self, steps)\u001b[39m\n\u001b[32m    258\u001b[39m \u001b[38;5;28mself\u001b[39m.nsteps += \u001b[32m1\u001b[39m\n\u001b[32m    260\u001b[39m \u001b[38;5;66;03m# log the step\u001b[39;00m\n\u001b[32m--> \u001b[39m\u001b[32m261\u001b[39m \u001b[38;5;28mself\u001b[39m.log()\n\u001b[32m    262\u001b[39m \u001b[38;5;28mself\u001b[39m.call_observers()\n\u001b[32m    264\u001b[39m \u001b[38;5;66;03m# check convergence\u001b[39;00m\n",
      "\u001b[36mFile \u001b[39m\u001b[32m~/anaconda3/envs/mace/lib/python3.13/site-packages/ase/optimize/optimize.py:427\u001b[39m, in \u001b[36mOptimizer.log\u001b[39m\u001b[34m(self, forces)\u001b[39m\n\u001b[32m    425\u001b[39m \u001b[38;5;28;01mdef\u001b[39;00m\u001b[38;5;250m \u001b[39m\u001b[34mlog\u001b[39m(\u001b[38;5;28mself\u001b[39m, forces=\u001b[38;5;28;01mNone\u001b[39;00m):\n\u001b[32m    426\u001b[39m     \u001b[38;5;28;01mif\u001b[39;00m forces \u001b[38;5;129;01mis\u001b[39;00m \u001b[38;5;28;01mNone\u001b[39;00m:\n\u001b[32m--> \u001b[39m\u001b[32m427\u001b[39m         forces = \u001b[38;5;28mself\u001b[39m.optimizable.get_forces()\n\u001b[32m    428\u001b[39m     fmax = sqrt((forces ** \u001b[32m2\u001b[39m).sum(axis=\u001b[32m1\u001b[39m).max())\n\u001b[32m    429\u001b[39m     e = \u001b[38;5;28mself\u001b[39m.optimizable.get_potential_energy()\n",
      "\u001b[36mFile \u001b[39m\u001b[32m~/anaconda3/envs/mace/lib/python3.13/site-packages/ase/optimize/optimize.py:37\u001b[39m, in \u001b[36mOptimizableAtoms.get_forces\u001b[39m\u001b[34m(self)\u001b[39m\n\u001b[32m     36\u001b[39m \u001b[38;5;28;01mdef\u001b[39;00m\u001b[38;5;250m \u001b[39m\u001b[34mget_forces\u001b[39m(\u001b[38;5;28mself\u001b[39m):\n\u001b[32m---> \u001b[39m\u001b[32m37\u001b[39m     \u001b[38;5;28;01mreturn\u001b[39;00m \u001b[38;5;28mself\u001b[39m.atoms.get_forces()\n",
      "\u001b[36mFile \u001b[39m\u001b[32m~/anaconda3/envs/mace/lib/python3.13/site-packages/ase/atoms.py:829\u001b[39m, in \u001b[36mAtoms.get_forces\u001b[39m\u001b[34m(self, apply_constraint, md)\u001b[39m\n\u001b[32m    827\u001b[39m \u001b[38;5;28;01mif\u001b[39;00m \u001b[38;5;28mself\u001b[39m._calc \u001b[38;5;129;01mis\u001b[39;00m \u001b[38;5;28;01mNone\u001b[39;00m:\n\u001b[32m    828\u001b[39m     \u001b[38;5;28;01mraise\u001b[39;00m \u001b[38;5;167;01mRuntimeError\u001b[39;00m(\u001b[33m'\u001b[39m\u001b[33mAtoms object has no calculator.\u001b[39m\u001b[33m'\u001b[39m)\n\u001b[32m--> \u001b[39m\u001b[32m829\u001b[39m forces = \u001b[38;5;28mself\u001b[39m._calc.get_forces(\u001b[38;5;28mself\u001b[39m)\n\u001b[32m    831\u001b[39m \u001b[38;5;28;01mif\u001b[39;00m apply_constraint:\n\u001b[32m    832\u001b[39m     \u001b[38;5;66;03m# We need a special md flag here because for MD we want\u001b[39;00m\n\u001b[32m    833\u001b[39m     \u001b[38;5;66;03m# to skip real constraints but include special \"constraints\"\u001b[39;00m\n\u001b[32m    834\u001b[39m     \u001b[38;5;66;03m# Like Hookean.\u001b[39;00m\n\u001b[32m    835\u001b[39m     \u001b[38;5;28;01mfor\u001b[39;00m constraint \u001b[38;5;129;01min\u001b[39;00m \u001b[38;5;28mself\u001b[39m.constraints:\n",
      "\u001b[36mFile \u001b[39m\u001b[32m~/anaconda3/envs/mace/lib/python3.13/site-packages/ase/calculators/abc.py:32\u001b[39m, in \u001b[36mGetPropertiesMixin.get_forces\u001b[39m\u001b[34m(self, atoms)\u001b[39m\n\u001b[32m     31\u001b[39m \u001b[38;5;28;01mdef\u001b[39;00m\u001b[38;5;250m \u001b[39m\u001b[34mget_forces\u001b[39m(\u001b[38;5;28mself\u001b[39m, atoms=\u001b[38;5;28;01mNone\u001b[39;00m):\n\u001b[32m---> \u001b[39m\u001b[32m32\u001b[39m     \u001b[38;5;28;01mreturn\u001b[39;00m \u001b[38;5;28mself\u001b[39m.get_property(\u001b[33m'\u001b[39m\u001b[33mforces\u001b[39m\u001b[33m'\u001b[39m, atoms)\n",
      "\u001b[36mFile \u001b[39m\u001b[32m~/anaconda3/envs/mace/lib/python3.13/site-packages/ase/calculators/calculator.py:515\u001b[39m, in \u001b[36mBaseCalculator.get_property\u001b[39m\u001b[34m(self, name, atoms, allow_calculation)\u001b[39m\n\u001b[32m    512\u001b[39m     \u001b[38;5;28;01mif\u001b[39;00m \u001b[38;5;28mself\u001b[39m.use_cache:\n\u001b[32m    513\u001b[39m         \u001b[38;5;28mself\u001b[39m.atoms = atoms.copy()\n\u001b[32m--> \u001b[39m\u001b[32m515\u001b[39m     \u001b[38;5;28mself\u001b[39m.calculate(atoms, [name], system_changes)\n\u001b[32m    517\u001b[39m \u001b[38;5;28;01mif\u001b[39;00m name \u001b[38;5;129;01mnot\u001b[39;00m \u001b[38;5;129;01min\u001b[39;00m \u001b[38;5;28mself\u001b[39m.results:\n\u001b[32m    518\u001b[39m     \u001b[38;5;66;03m# For some reason the calculator was not able to do what we want,\u001b[39;00m\n\u001b[32m    519\u001b[39m     \u001b[38;5;66;03m# and that is OK.\u001b[39;00m\n\u001b[32m    520\u001b[39m     \u001b[38;5;28;01mraise\u001b[39;00m PropertyNotImplementedError(\n\u001b[32m    521\u001b[39m         \u001b[33m'\u001b[39m\u001b[38;5;132;01m{}\u001b[39;00m\u001b[33m not present in this \u001b[39m\u001b[33m'\u001b[39m \u001b[33m'\u001b[39m\u001b[33mcalculation\u001b[39m\u001b[33m'\u001b[39m.format(name)\n\u001b[32m    522\u001b[39m     )\n",
      "\u001b[36mFile \u001b[39m\u001b[32m~/anaconda3/envs/mace/lib/python3.13/site-packages/chgnet/model/dynamics.py:157\u001b[39m, in \u001b[36mCHGNetCalculator.calculate\u001b[39m\u001b[34m(self, atoms, properties, system_changes, task)\u001b[39m\n\u001b[32m    155\u001b[39m \u001b[38;5;66;03m# Run CHGNet\u001b[39;00m\n\u001b[32m    156\u001b[39m structure = AseAtomsAdaptor.get_structure(atoms)\n\u001b[32m--> \u001b[39m\u001b[32m157\u001b[39m graph = \u001b[38;5;28mself\u001b[39m.model.graph_converter(structure)\n\u001b[32m    158\u001b[39m model_prediction = \u001b[38;5;28mself\u001b[39m.model.predict_graph(\n\u001b[32m    159\u001b[39m     graph.to(\u001b[38;5;28mself\u001b[39m.device),\n\u001b[32m    160\u001b[39m     task=task,\n\u001b[32m    161\u001b[39m     return_crystal_feas=\u001b[38;5;28;01mTrue\u001b[39;00m,\n\u001b[32m    162\u001b[39m     return_site_energies=\u001b[38;5;28mself\u001b[39m.return_site_energies,\n\u001b[32m    163\u001b[39m )\n\u001b[32m    165\u001b[39m \u001b[38;5;66;03m# Convert Result\u001b[39;00m\n",
      "\u001b[36mFile \u001b[39m\u001b[32m~/anaconda3/envs/mace/lib/python3.13/site-packages/torch/nn/modules/module.py:1736\u001b[39m, in \u001b[36mModule._wrapped_call_impl\u001b[39m\u001b[34m(self, *args, **kwargs)\u001b[39m\n\u001b[32m   1734\u001b[39m     \u001b[38;5;28;01mreturn\u001b[39;00m \u001b[38;5;28mself\u001b[39m._compiled_call_impl(*args, **kwargs)  \u001b[38;5;66;03m# type: ignore[misc]\u001b[39;00m\n\u001b[32m   1735\u001b[39m \u001b[38;5;28;01melse\u001b[39;00m:\n\u001b[32m-> \u001b[39m\u001b[32m1736\u001b[39m     \u001b[38;5;28;01mreturn\u001b[39;00m \u001b[38;5;28mself\u001b[39m._call_impl(*args, **kwargs)\n",
      "\u001b[36mFile \u001b[39m\u001b[32m~/anaconda3/envs/mace/lib/python3.13/site-packages/torch/nn/modules/module.py:1747\u001b[39m, in \u001b[36mModule._call_impl\u001b[39m\u001b[34m(self, *args, **kwargs)\u001b[39m\n\u001b[32m   1742\u001b[39m \u001b[38;5;66;03m# If we don't have any hooks, we want to skip the rest of the logic in\u001b[39;00m\n\u001b[32m   1743\u001b[39m \u001b[38;5;66;03m# this function, and just call forward.\u001b[39;00m\n\u001b[32m   1744\u001b[39m \u001b[38;5;28;01mif\u001b[39;00m \u001b[38;5;129;01mnot\u001b[39;00m (\u001b[38;5;28mself\u001b[39m._backward_hooks \u001b[38;5;129;01mor\u001b[39;00m \u001b[38;5;28mself\u001b[39m._backward_pre_hooks \u001b[38;5;129;01mor\u001b[39;00m \u001b[38;5;28mself\u001b[39m._forward_hooks \u001b[38;5;129;01mor\u001b[39;00m \u001b[38;5;28mself\u001b[39m._forward_pre_hooks\n\u001b[32m   1745\u001b[39m         \u001b[38;5;129;01mor\u001b[39;00m _global_backward_pre_hooks \u001b[38;5;129;01mor\u001b[39;00m _global_backward_hooks\n\u001b[32m   1746\u001b[39m         \u001b[38;5;129;01mor\u001b[39;00m _global_forward_hooks \u001b[38;5;129;01mor\u001b[39;00m _global_forward_pre_hooks):\n\u001b[32m-> \u001b[39m\u001b[32m1747\u001b[39m     \u001b[38;5;28;01mreturn\u001b[39;00m forward_call(*args, **kwargs)\n\u001b[32m   1749\u001b[39m result = \u001b[38;5;28;01mNone\u001b[39;00m\n\u001b[32m   1750\u001b[39m called_always_called_hooks = \u001b[38;5;28mset\u001b[39m()\n",
      "\u001b[36mFile \u001b[39m\u001b[32m~/anaconda3/envs/mace/lib/python3.13/site-packages/chgnet/graph/converter.py:142\u001b[39m, in \u001b[36mCrystalGraphConverter.forward\u001b[39m\u001b[34m(self, structure, graph_id, mp_id)\u001b[39m\n\u001b[32m    137\u001b[39m graph = \u001b[38;5;28mself\u001b[39m.create_graph(\n\u001b[32m    138\u001b[39m     n_atoms, center_index, neighbor_index, image, distance\n\u001b[32m    139\u001b[39m )\n\u001b[32m    141\u001b[39m \u001b[38;5;66;03m# Atom Graph\u001b[39;00m\n\u001b[32m--> \u001b[39m\u001b[32m142\u001b[39m atom_graph, directed2undirected = graph.adjacency_list()\n\u001b[32m    143\u001b[39m atom_graph = torch.tensor(atom_graph, dtype=torch.int32)\n\u001b[32m    144\u001b[39m directed2undirected = torch.tensor(directed2undirected, dtype=torch.int32)\n",
      "\u001b[36mFile \u001b[39m\u001b[32m~/anaconda3/envs/mace/lib/python3.13/site-packages/chgnet/graph/graph.py:243\u001b[39m, in \u001b[36mGraph.adjacency_list\u001b[39m\u001b[34m(self)\u001b[39m\n\u001b[32m    226\u001b[39m \u001b[38;5;28;01mdef\u001b[39;00m\u001b[38;5;250m \u001b[39m\u001b[34madjacency_list\u001b[39m(\u001b[38;5;28mself\u001b[39m) -> \u001b[38;5;28mtuple\u001b[39m[\u001b[38;5;28mlist\u001b[39m[\u001b[38;5;28mlist\u001b[39m[\u001b[38;5;28mint\u001b[39m]], \u001b[38;5;28mlist\u001b[39m[\u001b[38;5;28mint\u001b[39m]]:\n\u001b[32m    227\u001b[39m \u001b[38;5;250m    \u001b[39m\u001b[33;03m\"\"\"Get the adjacency list\u001b[39;00m\n\u001b[32m    228\u001b[39m \u001b[33;03m    Return:\u001b[39;00m\n\u001b[32m    229\u001b[39m \u001b[33;03m        graph: the adjacency list\u001b[39;00m\n\u001b[32m   (...)\u001b[39m\u001b[32m    241\u001b[39m \u001b[33;03m            represented in each row in the graph adjacency list.\u001b[39;00m\n\u001b[32m    242\u001b[39m \u001b[33;03m    \"\"\"\u001b[39;00m\n\u001b[32m--> \u001b[39m\u001b[32m243\u001b[39m     graph = [edge.nodes \u001b[38;5;28;01mfor\u001b[39;00m edge \u001b[38;5;129;01min\u001b[39;00m \u001b[38;5;28mself\u001b[39m.directed_edges_list]\n\u001b[32m    244\u001b[39m     directed2undirected = [\n\u001b[32m    245\u001b[39m         edge.info[\u001b[33m\"\u001b[39m\u001b[33mundirected_edge_index\u001b[39m\u001b[33m\"\u001b[39m] \u001b[38;5;28;01mfor\u001b[39;00m edge \u001b[38;5;129;01min\u001b[39;00m \u001b[38;5;28mself\u001b[39m.directed_edges_list\n\u001b[32m    246\u001b[39m     ]\n\u001b[32m    247\u001b[39m     \u001b[38;5;28;01mreturn\u001b[39;00m graph, directed2undirected\n",
      "\u001b[31mKeyboardInterrupt\u001b[39m: "
     ]
    },
    {
     "ename": "",
     "evalue": "",
     "output_type": "error",
     "traceback": [
      "\u001b[1;31mThe Kernel crashed while executing code in the current cell or a previous cell. \n",
      "\u001b[1;31mPlease review the code in the cell(s) to identify a possible cause of the failure. \n",
      "\u001b[1;31mClick <a href='https://aka.ms/vscodeJupyterKernelCrash'>here</a> for more info. \n",
      "\u001b[1;31mView Jupyter <a href='command:jupyter.viewOutput'>log</a> for further details."
     ]
    }
   ],
   "source": [
    "# Stage 1: CG\n",
    "opt1 = StructOptimizer(model=calc, optimizer_class=\"LBFGS\", use_device=\"cuda\")\n",
    "result1 = opt1.relax(structure, fmax=0.15, steps=300, relax_cell=False, verbose=True)"
   ]
  },
  {
   "cell_type": "code",
   "execution_count": 16,
   "id": "9900c903",
   "metadata": {},
   "outputs": [
    {
     "name": "stderr",
     "output_type": "stream",
     "text": [
      "/tmp/ipykernel_56255/3154571052.py:3: FutureWarning: Please use atoms.calc = calc\n",
      "  structure_1.set_calculator(calc)\n"
     ]
    },
    {
     "name": "stdout",
     "output_type": "stream",
     "text": [
      "      Step     Time          Energy          fmax\n",
      "FIRE:    0 20:48:52    -2692.110083        0.136644\n",
      "FIRE:    1 20:48:53    -2692.114134        0.134898\n",
      "FIRE:    2 20:48:53    -2692.121899        0.131163\n",
      "FIRE:    3 20:48:54    -2692.131689        0.127374\n",
      "FIRE:    4 20:48:54    -2692.143505        0.118269\n",
      "FIRE:    5 20:48:54    -2692.156503        0.111001\n",
      "FIRE:    6 20:48:55    -2692.169332        0.103045\n",
      "FIRE:    7 20:48:55    -2692.183511        0.093833\n",
      "FIRE:    8 20:48:56    -2692.198703        0.089371\n",
      "FIRE:    9 20:48:56    -2692.215414        0.088418\n",
      "FIRE:   10 20:48:56    -2692.234826        0.092469\n",
      "FIRE:   11 20:48:57    -2692.256939        0.100811\n",
      "FIRE:   12 20:48:57    -2692.283272        0.097430\n",
      "FIRE:   13 20:48:58    -2692.312812        0.083648\n",
      "FIRE:   14 20:48:58    -2692.347078        0.082827\n",
      "FIRE:   15 20:48:59    -2692.386071        0.076299\n",
      "FIRE:   16 20:48:59    -2692.431647        0.071338\n",
      "FIRE:   17 20:48:59    -2692.484819        0.076280\n",
      "FIRE:   18 20:49:00    -2692.535628        0.074962\n",
      "FIRE:   19 20:49:00    -2692.583399        0.062234\n",
      "FIRE:   20 20:49:01    -2692.627118        0.060507\n",
      "FIRE:   21 20:49:01    -2692.668812        0.068958\n",
      "FIRE:   22 20:49:01    -2692.710337        0.087348\n",
      "FIRE:   23 20:49:02    -2692.754394        0.104299\n",
      "FIRE:   24 20:49:02    -2692.800814        0.119953\n",
      "FIRE:   25 20:49:02    -2692.848753        0.141097\n",
      "FIRE:   26 20:49:03    -2692.897367        0.115358\n",
      "FIRE:   27 20:49:03    -2692.946320        0.130539\n",
      "FIRE:   28 20:49:04    -2692.995272        0.181497\n",
      "FIRE:   29 20:49:04    -2693.047262        0.225675\n",
      "FIRE:   30 20:49:04    -2693.096214        0.243800\n",
      "FIRE:   31 20:49:05    -2693.143816        0.250773\n",
      "FIRE:   32 20:49:05    -2693.195469        0.172656\n",
      "FIRE:   33 20:49:06    -2693.246615        0.133436\n",
      "FIRE:   34 20:49:06    -2693.296412        0.108509\n",
      "FIRE:   35 20:49:06    -2693.345364        0.127842\n",
      "FIRE:   36 20:49:07    -2693.394316        0.133414\n",
      "FIRE:   37 20:49:07    -2693.444618        0.113896\n",
      "FIRE:   38 20:49:08    -2693.492558        0.118590\n",
      "FIRE:   39 20:49:08    -2693.541003        0.121681\n",
      "FIRE:   40 20:49:09    -2693.592150        0.139421\n",
      "FIRE:   41 20:49:09    -2693.644478        0.142039\n",
      "FIRE:   42 20:49:09    -2693.696637        0.107066\n",
      "FIRE:   43 20:49:10    -2693.746264        0.087650\n",
      "FIRE:   44 20:49:10    -2693.793529        0.092087\n",
      "FIRE:   45 20:49:11    -2693.840624        0.085823\n",
      "FIRE:   46 20:49:11    -2693.882993        0.069628\n",
      "FIRE:   47 20:49:11    -2693.922492        0.077553\n",
      "FIRE:   48 20:49:12    -2693.961485        0.101313\n",
      "FIRE:   49 20:49:12    -2693.998959        0.127498\n",
      "FIRE:   50 20:49:13    -2694.037445        0.145150\n",
      "FIRE:   51 20:49:13    -2694.080152        0.155487\n",
      "FIRE:   52 20:49:13    -2694.125052        0.151119\n",
      "FIRE:   53 20:49:14    -2694.173667        0.138784\n",
      "FIRE:   54 20:49:14    -2694.222281        0.123556\n",
      "FIRE:   55 20:49:15    -2694.271571        0.147630\n",
      "FIRE:   56 20:49:15    -2694.321367        0.161353\n",
      "FIRE:   57 20:49:15    -2694.369138        0.142438\n",
      "FIRE:   58 20:49:16    -2694.413870        0.150526\n",
      "FIRE:   59 20:49:16    -2694.455901        0.144020\n",
      "FIRE:   60 20:49:17    -2694.496244        0.164887\n",
      "FIRE:   61 20:49:17    -2694.536419        0.155095\n",
      "FIRE:   62 20:49:18    -2694.575918        0.124027\n",
      "FIRE:   63 20:49:18    -2694.613898        0.105735\n",
      "FIRE:   64 20:49:18    -2694.653904        0.098924\n",
      "FIRE:   65 20:49:19    -2694.690027        0.110284\n",
      "FIRE:   66 20:49:19    -2694.718048        0.218239\n",
      "FIRE:   67 20:49:20    -2694.737460        0.454387\n",
      "FIRE:   68 20:49:20    -2694.767844        0.515683\n",
      "FIRE:   69 20:49:20    -2694.813589        0.298825\n",
      "FIRE:   70 20:49:21    -2694.857984        0.187738\n",
      "FIRE:   71 20:49:21    -2694.898664        0.182773\n",
      "FIRE:   72 20:49:22    -2694.940358        0.161332\n",
      "FIRE:   73 20:49:22    -2694.982221        0.175539\n",
      "FIRE:   74 20:49:22    -2695.024927        0.210901\n",
      "FIRE:   75 20:49:23    -2695.070672        0.164398\n",
      "FIRE:   76 20:49:23    -2695.111691        0.166729\n",
      "FIRE:   77 20:49:24    -2695.144607        0.141005\n",
      "FIRE:   78 20:49:24    -2695.163175        0.120629\n",
      "FIRE:   79 20:49:24    -2695.163512        0.230136\n",
      "FIRE:   80 20:49:25    -2695.223268        0.289263\n",
      "FIRE:   81 20:49:25    -2695.217360        0.785196\n",
      "FIRE:   82 20:49:26    -2695.261248        0.450130\n",
      "FIRE:   83 20:49:26    -2695.268506        0.283463\n",
      "FIRE:   84 20:49:26    -2695.275596        0.081783\n",
      "FIRE:   85 20:49:27    -2695.277115        0.263159\n",
      "FIRE:   86 20:49:27    -2695.277790        0.234187\n",
      "FIRE:   87 20:49:28    -2695.278972        0.181675\n",
      "FIRE:   88 20:49:28    -2695.280491        0.111195\n",
      "FIRE:   89 20:49:29    -2695.282010        0.058117\n",
      "FIRE:   90 20:49:29    -2695.283192        0.055628\n",
      "FIRE:   91 20:49:29    -2695.284373        0.104333\n",
      "FIRE:   92 20:49:30    -2695.285386        0.136855\n",
      "FIRE:   93 20:49:30    -2695.287412        0.144656\n",
      "FIRE:   94 20:49:31    -2695.289775        0.122116\n",
      "FIRE:   95 20:49:31    -2695.292982        0.067068\n",
      "FIRE:   96 20:49:31    -2695.295852        0.048604\n"
     ]
    }
   ],
   "source": [
    "# Convert back, assign calculator + constraint\n",
    "structure_1 = AseAtomsAdaptor.get_atoms(result1[\"final_structure\"])\n",
    "structure_1.set_calculator(calc)\n",
    "structure_1.set_constraint(FixAtoms(mask=freeze_mask))\n",
    "\n",
    "# Stage 2: FIRE\n",
    "opt2 = StructOptimizer(model=calc, optimizer_class=\"FIRE\", use_device=\"cuda\")\n",
    "result2 = opt2.relax(structure_1, fmax=0.05, steps=400, relax_cell=False, verbose=True)"
   ]
  },
  {
   "cell_type": "code",
   "execution_count": 17,
   "id": "02e25f8e",
   "metadata": {},
   "outputs": [
    {
     "name": "stdout",
     "output_type": "stream",
     "text": [
      "✅ Final structure saved successfully.\n"
     ]
    }
   ],
   "source": [
    "from pymatgen.io.ase import AseAtomsAdaptor\n",
    "from ase.io import write\n",
    "\n",
    "# Extract final structure from result3 (FIRE)\n",
    "final_structure_pmg = result2[\"final_structure\"]  # assuming result2 = FIRE\n",
    "final_structure_ase = AseAtomsAdaptor.get_atoms(final_structure_pmg)\n",
    "\n",
    "# Save as CIF and ASE trajectory\n",
    "write(f\"{structure_name}.cif\", final_structure_ase)\n",
    "write(f\"{structure_name}.traj\", final_structure_ase)\n",
    "\n",
    "print(\"✅ Final structure saved successfully.\")"
   ]
  },
  {
   "cell_type": "code",
   "execution_count": null,
   "id": "179da561",
   "metadata": {},
   "outputs": [
    {
     "name": "stdout",
     "output_type": "stream",
     "text": [
      "Li slab thickness: 14.28 Å\n",
      "Lowest Li slab atom: 25.28 Å\n",
      "LLZO top z: 25.17 Å\n",
      "Li penetration into LLZO: -0.12 Å\n"
     ]
    }
   ],
   "source": [
    "from pymatgen.core import Structure\n",
    "import numpy as np\n",
    "\n",
    "s = Structure.from_file(\"/home/mehuldarak/summer/relax/LLZO_021_Li_order3_off__Li_100_slab_heavy/LLZO_021_Li_order3_off__Li_100_slab_heavy.cif\")\n",
    "\n",
    "# Get all atoms\n",
    "z_coords = np.array([site.z for site in s.sites])\n",
    "species = np.array([site.species_string for site in s.sites])\n",
    "\n",
    "# Estimate LLZO top (non-Li atoms)\n",
    "llzo_z = z_coords[species != \"Li\"]\n",
    "llzo_top = llzo_z.max()\n",
    "\n",
    "# Now isolate Li slab: Li atoms ABOVE LLZO\n",
    "li_slab_z = np.array([site.z for site in s.sites if site.species_string == \"Li\" and site.z > llzo_top])\n",
    "\n",
    "print(f\"Li slab thickness: {li_slab_z.ptp():.2f} Å\")\n",
    "print(f\"Lowest Li slab atom: {li_slab_z.min():.2f} Å\")\n",
    "print(f\"LLZO top z: {llzo_top:.2f} Å\")\n",
    "print(f\"Li penetration into LLZO: {llzo_top - li_slab_z.min():.2f} Å\")\n"
   ]
  },
  {
   "cell_type": "code",
   "execution_count": 13,
   "id": "dcbc517a",
   "metadata": {},
   "outputs": [
    {
     "name": "stdout",
     "output_type": "stream",
     "text": [
      "/bin/bash: /home/mehuldarak/anaconda3/lib/libtinfo.so.6: no version information available (required by /bin/bash)\n",
      "Mon Jul 14 20:45:54 2025       \n",
      "+---------------------------------------------------------------------------------------+\n",
      "| NVIDIA-SMI 535.183.01             Driver Version: 535.183.01   CUDA Version: 12.2     |\n",
      "|-----------------------------------------+----------------------+----------------------+\n",
      "| GPU  Name                 Persistence-M | Bus-Id        Disp.A | Volatile Uncorr. ECC |\n",
      "| Fan  Temp   Perf          Pwr:Usage/Cap |         Memory-Usage | GPU-Util  Compute M. |\n",
      "|                                         |                      |               MIG M. |\n",
      "|=========================================+======================+======================|\n",
      "|   0  NVIDIA RTX A6000               Off | 00000000:65:00.0 Off |                  Off |\n",
      "| 30%   48C    P8              18W / 300W |  48654MiB / 49140MiB |      0%      Default |\n",
      "|                                         |                      |                  N/A |\n",
      "+-----------------------------------------+----------------------+----------------------+\n",
      "                                                                                         \n",
      "+---------------------------------------------------------------------------------------+\n",
      "| Processes:                                                                            |\n",
      "|  GPU   GI   CI        PID   Type   Process name                            GPU Memory |\n",
      "|        ID   ID                                                             Usage      |\n",
      "|=======================================================================================|\n",
      "|    0   N/A  N/A      1884      G   /usr/lib/xorg/Xorg                           64MiB |\n",
      "|    0   N/A  N/A      2061      G   /usr/bin/gnome-shell                          7MiB |\n",
      "|    0   N/A  N/A     52973      C   ...arak/anaconda3/envs/mace/bin/python    10704MiB |\n",
      "|    0   N/A  N/A     54570      C   ...arak/anaconda3/envs/mace/bin/python     9666MiB |\n",
      "|    0   N/A  N/A     55374      C   ...arak/anaconda3/envs/mace/bin/python    19786MiB |\n",
      "|    0   N/A  N/A     56255      C   ...arak/anaconda3/envs/mace/bin/python     8404MiB |\n",
      "+---------------------------------------------------------------------------------------+\n"
     ]
    }
   ],
   "source": [
    "!nvidia-smi"
   ]
  },
  {
   "cell_type": "code",
   "execution_count": 14,
   "id": "d33696c2",
   "metadata": {},
   "outputs": [
    {
     "name": "stdout",
     "output_type": "stream",
     "text": [
      "/bin/bash: /home/mehuldarak/anaconda3/lib/libtinfo.so.6: no version information available (required by /bin/bash)\n",
      "[sudo] password for mehuldarak: \n",
      "sudo: a password is required\n",
      "^C\n"
     ]
    }
   ],
   "source": [
    "!sudo kill 52973"
   ]
  },
  {
   "cell_type": "code",
   "execution_count": null,
   "id": "8c79e3b5",
   "metadata": {},
   "outputs": [],
   "source": []
  }
 ],
 "metadata": {
  "kernelspec": {
   "display_name": "mace",
   "language": "python",
   "name": "python3"
  },
  "language_info": {
   "codemirror_mode": {
    "name": "ipython",
    "version": 3
   },
   "file_extension": ".py",
   "mimetype": "text/x-python",
   "name": "python",
   "nbconvert_exporter": "python",
   "pygments_lexer": "ipython3",
   "version": "3.13.5"
  }
 },
 "nbformat": 4,
 "nbformat_minor": 5
}
