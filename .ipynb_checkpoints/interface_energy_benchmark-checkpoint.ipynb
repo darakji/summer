{
 "cells": [
  {
   "cell_type": "code",
   "execution_count": 1,
   "id": "e5ee686c-c021-4dd5-9ced-440c250dd68d",
   "metadata": {},
   "outputs": [
    {
     "name": "stdout",
     "output_type": "stream",
     "text": [
      "\n",
      "Fitted atomic energies (E0s):\n",
      "3: -1.230262 eV\n",
      "8: -23.049111 eV\n",
      "40: 23.367646 eV\n",
      "57: 15.192898 eV\n",
      "\n",
      "--E0s \"{3:-1.230262, 8:-23.049111, 40:23.367646, 57:15.192898}\"\n"
     ]
    }
   ],
   "source": [
    "from ase.io import read\n",
    "import numpy as np\n",
    "from collections import defaultdict\n",
    "\n",
    "# === Load all structures ===\n",
    "filename = \"/home/phanim/harshitrawat/summer/final_work/T1_chgnet_labeled.extxyz\"\n",
    "structures = read(filename, index=\":\")\n",
    "\n",
    "# === Count atoms and energies ===\n",
    "species_set = set()\n",
    "X, y = [], []\n",
    "\n",
    "for atoms in structures:\n",
    "    energy = atoms.info[\"REF_energy\"]  # total energy in eV\n",
    "    counts = defaultdict(int)\n",
    "    for s in atoms:\n",
    "        counts[s.number] += 1  # atomic number\n",
    "\n",
    "    species_set.update(counts.keys())\n",
    "    row = [counts[z] for z in sorted(species_set)]\n",
    "    X.append(row)\n",
    "    y.append(energy)\n",
    "\n",
    "species_list = sorted(species_set)\n",
    "X = np.array(X)\n",
    "y = np.array(y)\n",
    "\n",
    "# === Solve least squares ===\n",
    "E0s, residuals, rank, s = np.linalg.lstsq(X, y, rcond=None)\n",
    "\n",
    "# === Output E0s ===\n",
    "print(\"\\nFitted atomic energies (E0s):\")\n",
    "for Z, e0 in zip(species_list, E0s):\n",
    "    print(f\"{Z}: {e0:.6f} eV\")\n",
    "\n",
    "# === Pasteable for MACE CLI ===\n",
    "e0_str = \", \".join([f\"{Z}:{e0:.6f}\" for Z, e0 in zip(species_list, E0s)])\n",
    "print(f\"\\n--E0s \\\"{{{e0_str}}}\\\"\")\n"
   ]
  },
  {
   "cell_type": "code",
   "execution_count": null,
   "id": "5e5fc2c1-bd27-4106-93b5-d4414e71eab7",
   "metadata": {},
   "outputs": [],
   "source": [
    "2025-07-25 11:36:31.226 INFO: Atomic Energies used (z: eV) for head Default: {3: -1.2302615750354944, 8: -23.049110738413006, 40: 23.367646191010394, 57: 15.192898072498549}\n"
   ]
  }
 ],
 "metadata": {
  "kernelspec": {
   "display_name": "Python (GPU mace_0.3.8)",
   "language": "python",
   "name": "mace_0.3.8"
  },
  "language_info": {
   "codemirror_mode": {
    "name": "ipython",
    "version": 3
   },
   "file_extension": ".py",
   "mimetype": "text/x-python",
   "name": "python",
   "nbconvert_exporter": "python",
   "pygments_lexer": "ipython3",
   "version": "3.10.14"
  }
 },
 "nbformat": 4,
 "nbformat_minor": 5
}
