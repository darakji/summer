{
 "cells": [
  {
   "cell_type": "markdown",
   "id": "d7833af9",
   "metadata": {},
   "source": [
    "This notebook follows from the tutorials of CHGNet to relax LLZO-Li slabs that have been made in `llzo_li_balanced_sliced` directory."
   ]
  },
  {
   "cell_type": "markdown",
   "id": "3d234e1d",
   "metadata": {},
   "source": [
    "\n",
    "LLZO‖Li Interface Relaxation Notebook\n",
    "========================================\n",
    "\n",
    "Each notebook handles only one structure.\n",
    "1. Purpose: (This keeps updating)\n",
    "- Relax a single LLZO‖Li (in this notebook LLZO_001_Zr_code93_sto__Li_110_slab_heavy) heterostructure using CHGNet\n",
    "- Perform multi-stage optimization (in this notebook, CG → FIRE)\n",
    "- Freeze bulk-like regions (15 Å at both ends)\n",
    "- after all this, Relax lattice vectors to relieve interface strain\n",
    "\n",
    "2. This notebook handles:\n",
    "- Structure: LLZO_110_Li_order17_off__Li_100_slab_heavy\n",
    "- Initial lattice height: 86.02 Å\n",
    "- Number of atoms: 738\n",
    "\n",
    "3. Method:\n",
    "- CHGNet (v0.4.0) + ASE interface\n",
    "- Stage 1: SciPyFminCG (no cell relaxation) → fmax target ~0.15 eV/Å\n",
    "- Stage 2: FIRE (with optional cell relaxation) → fmax target ~0.05 eV/Å\n",
    "- FrechetCellFilter used for combined force + stress minimization\n",
    "\n",
    "4. Constraints:\n",
    "- LLZO base: frozen bottom 14.25 Å\n",
    "- Li top: frozen top 14.25 Å\n",
    "- Only interfacial region relaxed\n",
    "- Cell relaxation via `relax_cell=True` and `relax_cell_atoms=\"unconstrained\"`\n",
    "\n",
    "5. Outputs: (This will be decided later)\n",
    "- relaxed_[structure_name].cif\n",
    "- relaxed_[structure_name].traj\n",
    "- (Optional) relaxation_log.pkl with energies, forces\n",
    "\n",
    "6. Visual checks:\n",
    "- Compare pre- and post-relaxation structures\n",
    "- Ensure no Li diffusion into LLZO (via z-analysis)\n",
    "- Confirm convergence (fmax < 0.05 eV/Å)\n",
    "\n",
    "Author: Mehul Darak\n",
    "\n",
    "Date: 15-07-2025\n"
   ]
  },
  {
   "cell_type": "code",
   "execution_count": 1,
   "id": "ee294b9f",
   "metadata": {},
   "outputs": [],
   "source": [
    "structure_name = \"LLZO_010_Li_order0_off__Li_110_slab_heavy\""
   ]
  },
  {
   "cell_type": "code",
   "execution_count": 2,
   "id": "955e570d",
   "metadata": {},
   "outputs": [
    {
     "name": "stdout",
     "output_type": "stream",
     "text": [
      "- Structure: LLZO_010_Li_order0_off__Li_110_slab_heavy\n",
      "- Initial lattice height: 69.38 Å\n",
      "- Number of atoms: 800\n"
     ]
    }
   ],
   "source": [
    "from pymatgen.core import Structure\n",
    "import os\n",
    "\n",
    "# Load structure\n",
    "structure_path = (f\"/home/mehuldarak/summer/llzo_li_balanced_sliced/{structure_name}.cif\")  # replace with your file\n",
    "structure = Structure.from_file(structure_path)\n",
    "\n",
    "# Extract info\n",
    "structure_name = os.path.basename(structure_path).replace(\".cif\", \"\")\n",
    "lattice_height = structure.lattice.c\n",
    "num_atoms = len(structure)\n",
    "\n",
    "# Print output\n",
    "print(f\"- Structure: {structure_name}\")\n",
    "print(f\"- Initial lattice height: {lattice_height:.2f} Å\")\n",
    "print(f\"- Number of atoms: {num_atoms}\")\n"
   ]
  },
  {
   "cell_type": "code",
   "execution_count": 3,
   "id": "1846f174",
   "metadata": {},
   "outputs": [
    {
     "name": "stdout",
     "output_type": "stream",
     "text": [
      "Li slab thickness: 21.23 Å\n",
      "Lowest Li slab atom: 33.16 Å\n",
      "LLZO top z: 32.79 Å\n",
      "Li penetration into LLZO: -0.36 Å\n"
     ]
    }
   ],
   "source": [
    "from pymatgen.core import Structure\n",
    "import numpy as np\n",
    "\n",
    "s = Structure.from_file(f\"/home/mehuldarak/summer/llzo_li_balanced_sliced/{structure_name}.cif\")\n",
    "\n",
    "# Get all atoms\n",
    "z_coords = np.array([site.z for site in s.sites])\n",
    "species = np.array([site.species_string for site in s.sites])\n",
    "\n",
    "# Estimate LLZO top (non-Li atoms)\n",
    "llzo_z = z_coords[species != \"Li\"]\n",
    "llzo_top = llzo_z.max()\n",
    "\n",
    "# Now isolate Li slab: Li atoms ABOVE LLZO\n",
    "li_slab_z = np.array([site.z for site in s.sites if site.species_string == \"Li\" and site.z > llzo_top])\n",
    "\n",
    "print(f\"Li slab thickness: {li_slab_z.ptp():.2f} Å\")\n",
    "print(f\"Lowest Li slab atom: {li_slab_z.min():.2f} Å\")\n",
    "print(f\"LLZO top z: {llzo_top:.2f} Å\")\n",
    "print(f\"Li penetration into LLZO: {llzo_top - li_slab_z.min():.2f} Å\")\n"
   ]
  },
  {
   "cell_type": "code",
   "execution_count": 4,
   "id": "ad50b778",
   "metadata": {},
   "outputs": [
    {
     "name": "stdout",
     "output_type": "stream",
     "text": [
      "LLZO slab thickness: 17.39 Å\n",
      "Li slab thickness:   21.23 Å\n",
      "LLZO top z:          32.79 Å\n",
      "Lowest Li atom z:    33.16 Å\n",
      "Li penetration into LLZO: -0.36 Å\n"
     ]
    }
   ],
   "source": [
    "from pymatgen.core import Structure\n",
    "import numpy as np\n",
    "\n",
    "# Load structure\n",
    "structure = Structure.from_file(f\"/home/mehuldarak/summer/llzo_li_balanced_sliced/{structure_name}.cif\")\n",
    "\n",
    "# Get z-coordinates and element types\n",
    "z_coords = np.array([site.z for site in structure.sites])\n",
    "species = np.array([site.species_string for site in structure.sites])\n",
    "\n",
    "# LLZO: non-Li atoms (La, Zr, O)\n",
    "llzo_z = z_coords[species != \"Li\"]\n",
    "llzo_top = llzo_z.max()\n",
    "llzo_bottom = llzo_z.min()\n",
    "llzo_thickness = llzo_top - llzo_bottom\n",
    "\n",
    "# Li slab: Li atoms ABOVE LLZO (i.e. in metallic Li layer)\n",
    "li_slab_z = np.array([\n",
    "    site.z for site in structure.sites\n",
    "    if site.species_string == \"Li\" and site.z > llzo_top\n",
    "])\n",
    "li_thickness = li_slab_z.ptp() if len(li_slab_z) > 0 else 0\n",
    "li_bottom = li_slab_z.min() if len(li_slab_z) > 0 else None\n",
    "\n",
    "# Penetration check\n",
    "penetration = llzo_top - li_bottom if li_bottom is not None else 0\n",
    "\n",
    "# Report\n",
    "print(f\"LLZO slab thickness: {llzo_thickness:.2f} Å\")\n",
    "print(f\"Li slab thickness:   {li_thickness:.2f} Å\")\n",
    "print(f\"LLZO top z:          {llzo_top:.2f} Å\")\n",
    "print(f\"Lowest Li atom z:    {li_bottom:.2f} Å\" if li_bottom else \"No Li slab atoms found\")\n",
    "print(f\"Li penetration into LLZO: {penetration:.2f} Å\")\n"
   ]
  },
  {
   "cell_type": "code",
   "execution_count": 5,
   "id": "9df87ad4",
   "metadata": {},
   "outputs": [
    {
     "name": "stdout",
     "output_type": "stream",
     "text": [
      "Freezing 582 atoms out of 800\n",
      "CHGNet v0.3.0 initialized with 412,525 parameters\n",
      "CHGNet will run on cuda\n"
     ]
    },
    {
     "name": "stderr",
     "output_type": "stream",
     "text": [
      "/tmp/ipykernel_169655/3870098642.py:27: FutureWarning: Please use atoms.calc = calc\n",
      "  structure.set_calculator(calc)\n"
     ]
    }
   ],
   "source": [
    "from pymatgen.io.ase import AseAtomsAdaptor\n",
    "from ase.constraints import FixAtoms\n",
    "from chgnet.model.dynamics import CHGNetCalculator, StructOptimizer\n",
    "from ase.io import read, write\n",
    "import numpy as np\n",
    "\n",
    "# --- Load structure ---\n",
    "structure = read(f\"/home/mehuldarak/summer/llzo_li_balanced_sliced/{structure_name}.cif\")\n",
    "\n",
    "# --- Get z coordinates ---\n",
    "z_coords = structure.get_positions()[:, 2]\n",
    "z_min, z_max = z_coords.min(), z_coords.max()\n",
    "\n",
    "# --- Define freeze zones ---\n",
    "freeze_thickness_llzo = 0.75 * (llzo_thickness)  # in Å\n",
    "freeze_thickness_li = 0.75 * (llzo_thickness)  # in Å\n",
    "llzo_z_threshold = z_min + freeze_thickness_llzo\n",
    "li_z_threshold = z_max - freeze_thickness_li\n",
    "\n",
    "# --- Freeze LLZO base and Li top ---\n",
    "freeze_mask = (z_coords < llzo_z_threshold) | (z_coords > li_z_threshold)\n",
    "structure.set_constraint(FixAtoms(mask=freeze_mask))\n",
    "print(f\"Freezing {np.sum(freeze_mask)} atoms out of {len(structure)}\")\n",
    "\n",
    "# --- Attach CHGNet calculator ---\n",
    "calc = CHGNetCalculator(use_device=\"cuda\")\n",
    "structure.set_calculator(calc)"
   ]
  },
  {
   "cell_type": "code",
   "execution_count": 6,
   "id": "7579efc8",
   "metadata": {},
   "outputs": [
    {
     "name": "stdout",
     "output_type": "stream",
     "text": [
      "             Step     Time          Energy          fmax\n",
      "SciPyFminCG:    0 18:17:03    -1885.810852        3.892890\n",
      "SciPyFminCG:    1 18:17:07    -1932.223701        5.428735\n",
      "SciPyFminCG:    2 18:17:10    -1953.943634        6.508347\n",
      "SciPyFminCG:    3 18:17:13    -2109.922028        6.467212\n",
      "SciPyFminCG:    4 18:17:15    -2131.794548        1.819725\n",
      "SciPyFminCG:    5 18:17:18    -2140.815353        3.070883\n",
      "SciPyFminCG:    6 18:17:20    -2146.908951        1.708593\n",
      "SciPyFminCG:    7 18:17:21    -2148.596954        1.568955\n",
      "SciPyFminCG:    8 18:17:23    -2151.270676        1.246794\n",
      "SciPyFminCG:    9 18:17:25    -2153.502655        1.223599\n",
      "SciPyFminCG:   10 18:17:27    -2155.457306        1.349022\n",
      "SciPyFminCG:   11 18:17:30    -2157.441711        1.290737\n",
      "SciPyFminCG:   12 18:17:31    -2159.788895        1.602387\n",
      "SciPyFminCG:   13 18:17:33    -2162.082863        1.279983\n",
      "SciPyFminCG:   14 18:17:35    -2163.495636        1.139877\n",
      "SciPyFminCG:   15 18:17:37    -2164.897156        0.847010\n",
      "SciPyFminCG:   16 18:17:39    -2165.875626        1.608512\n",
      "SciPyFminCG:   17 18:17:41    -2167.065811        1.247514\n",
      "SciPyFminCG:   18 18:17:43    -2168.316269        1.259366\n",
      "SciPyFminCG:   19 18:17:46    -2170.141983        1.433062\n",
      "SciPyFminCG:   20 18:17:48    -2171.320724        1.374866\n",
      "SciPyFminCG:   21 18:17:50    -2172.595406        1.573593\n",
      "SciPyFminCG:   22 18:17:51    -2173.896217        2.340094\n",
      "SciPyFminCG:   23 18:17:53    -2175.276566        1.522528\n",
      "SciPyFminCG:   24 18:17:55    -2176.396942        1.074417\n",
      "SciPyFminCG:   25 18:17:57    -2177.234268        1.664936\n",
      "SciPyFminCG:   26 18:17:59    -2177.897263        1.560201\n",
      "SciPyFminCG:   27 18:18:01    -2178.522301        0.877943\n",
      "SciPyFminCG:   28 18:18:03    -2179.111290        1.664651\n",
      "SciPyFminCG:   29 18:18:05    -2179.829025        1.216145\n",
      "SciPyFminCG:   30 18:18:07    -2180.542946        1.337022\n",
      "SciPyFminCG:   31 18:18:09    -2181.218147        1.455753\n",
      "SciPyFminCG:   32 18:18:11    -2181.732178        1.369622\n",
      "SciPyFminCG:   33 18:18:12    -2182.222366        1.590369\n",
      "SciPyFminCG:   34 18:18:14    -2182.687569        1.330928\n",
      "SciPyFminCG:   35 18:18:16    -2183.099556        1.133717\n",
      "SciPyFminCG:   36 18:18:18    -2183.451462        1.023628\n",
      "SciPyFminCG:   37 18:18:20    -2183.748627        1.381646\n",
      "SciPyFminCG:   38 18:18:22    -2183.981133        0.737844\n",
      "SciPyFminCG:   39 18:18:24    -2184.188843        0.897219\n",
      "SciPyFminCG:   40 18:18:26    -2184.457207        0.913706\n",
      "SciPyFminCG:   41 18:18:28    -2184.670258        0.857106\n",
      "SciPyFminCG:   42 18:18:30    -2184.733582        1.009880\n",
      "SciPyFminCG:   43 18:18:32    -2184.917831        0.720364\n",
      "SciPyFminCG:   44 18:18:34    -2185.030746        0.601688\n",
      "SciPyFminCG:   45 18:18:35    -2185.081673        0.714332\n",
      "SciPyFminCG:   46 18:18:37    -2185.153961        0.303141\n",
      "SciPyFminCG:   47 18:18:39    -2185.212517        0.406038\n",
      "SciPyFminCG:   48 18:18:41    -2185.259628        0.861300\n",
      "SciPyFminCG:   49 18:18:43    -2185.337639        0.765301\n",
      "SciPyFminCG:   50 18:18:45    -2185.457993        1.004549\n",
      "SciPyFminCG:   51 18:18:47    -2185.527420        0.938994\n",
      "SciPyFminCG:   52 18:18:49    -2185.695076        0.615716\n",
      "SciPyFminCG:   53 18:18:51    -2185.800171        0.505024\n",
      "SciPyFminCG:   54 18:18:53    -2185.880661        0.748744\n",
      "SciPyFminCG:   55 18:18:55    -2185.987663        0.562662\n",
      "SciPyFminCG:   56 18:18:57    -2186.074066        0.421046\n",
      "SciPyFminCG:   57 18:18:58    -2186.162186        0.477770\n",
      "SciPyFminCG:   58 18:19:00    -2186.220169        0.494214\n",
      "SciPyFminCG:   59 18:19:02    -2186.302185        0.578884\n",
      "SciPyFminCG:   60 18:19:04    -2186.430359        1.116803\n",
      "SciPyFminCG:   61 18:19:06    -2186.584854        0.724117\n",
      "SciPyFminCG:   62 18:19:08    -2186.716461        0.563136\n",
      "SciPyFminCG:   63 18:19:10    -2186.804962        0.951343\n",
      "SciPyFminCG:   64 18:19:12    -2186.852646        0.806070\n",
      "SciPyFminCG:   65 18:19:15    -2186.940002        0.392194\n",
      "SciPyFminCG:   66 18:19:16    -2186.998367        0.543499\n",
      "SciPyFminCG:   67 18:19:18    -2187.033081        0.988549\n",
      "SciPyFminCG:   68 18:19:20    -2187.105560        0.758076\n",
      "SciPyFminCG:   69 18:19:23    -2187.217331        0.737416\n",
      "SciPyFminCG:   70 18:19:25    -2187.330818        0.523656\n",
      "SciPyFminCG:   71 18:19:27    -2187.409973        0.497809\n",
      "SciPyFminCG:   72 18:19:29    -2187.490082        0.509189\n",
      "SciPyFminCG:   73 18:19:31    -2187.568283        0.524777\n",
      "SciPyFminCG:   74 18:19:33    -2187.623405        0.583533\n",
      "SciPyFminCG:   75 18:19:36    -2187.676811        0.533559\n",
      "SciPyFminCG:   76 18:19:38    -2187.722778        0.359062\n",
      "SciPyFminCG:   77 18:19:40    -2187.762833        0.543344\n",
      "SciPyFminCG:   78 18:19:42    -2187.799835        0.472014\n",
      "SciPyFminCG:   79 18:19:44    -2187.834358        0.365286\n",
      "SciPyFminCG:   80 18:19:47    -2187.865067        0.400343\n",
      "SciPyFminCG:   81 18:19:50    -2187.895584        0.471684\n",
      "SciPyFminCG:   82 18:19:52    -2187.922478        0.336205\n",
      "SciPyFminCG:   83 18:19:54    -2187.949371        0.574500\n",
      "SciPyFminCG:   84 18:19:56    -2187.969208        0.281187\n",
      "SciPyFminCG:   85 18:19:58    -2187.986374        0.263273\n",
      "SciPyFminCG:   86 18:20:00    -2188.007736        0.256692\n",
      "SciPyFminCG:   87 18:20:02    -2188.024521        0.309497\n",
      "SciPyFminCG:   88 18:20:04    -2188.051224        0.350391\n",
      "SciPyFminCG:   89 18:20:06    -2188.072205        0.392292\n",
      "SciPyFminCG:   90 18:20:08    -2188.092422        0.228572\n",
      "SciPyFminCG:   91 18:20:10    -2188.109207        0.510783\n",
      "SciPyFminCG:   92 18:20:12    -2188.124466        0.385376\n",
      "SciPyFminCG:   93 18:20:14    -2188.162231        0.352768\n",
      "SciPyFminCG:   94 18:20:16    -2188.209152        0.648038\n",
      "SciPyFminCG:   95 18:20:19    -2188.308334        0.723641\n",
      "SciPyFminCG:   96 18:20:21    -2188.412666        0.440468\n",
      "SciPyFminCG:   97 18:20:22    -2188.478851        0.574204\n",
      "SciPyFminCG:   98 18:20:24    -2188.539314        0.713928\n",
      "SciPyFminCG:   99 18:20:26    -2188.570786        0.454016\n",
      "SciPyFminCG:  100 18:20:28    -2188.608742        0.382490\n",
      "SciPyFminCG:  101 18:20:30    -2188.636208        0.286075\n",
      "SciPyFminCG:  102 18:20:33    -2188.646698        0.221815\n",
      "SciPyFminCG:  103 18:20:35    -2188.660049        0.390107\n",
      "SciPyFminCG:  104 18:20:37    -2188.675308        0.267547\n",
      "SciPyFminCG:  105 18:20:40    -2188.686752        0.303778\n",
      "SciPyFminCG:  106 18:20:41    -2188.701057        0.496328\n",
      "SciPyFminCG:  107 18:20:44    -2188.711548        0.348528\n",
      "SciPyFminCG:  108 18:20:47    -2188.726807        0.367880\n",
      "SciPyFminCG:  109 18:20:49    -2188.742065        0.267237\n",
      "SciPyFminCG:  110 18:20:52    -2188.748169        0.226830\n",
      "SciPyFminCG:  111 18:20:54    -2188.757896        0.252817\n",
      "SciPyFminCG:  112 18:20:56    -2188.764381        0.149985\n"
     ]
    }
   ],
   "source": [
    "# Stage 1: CG\n",
    "opt1 = StructOptimizer(model=calc, optimizer_class=\"SciPyFminCG\", use_device=\"cuda\")\n",
    "result1 = opt1.relax(structure, fmax=0.15, steps=300, relax_cell=False, verbose=True)"
   ]
  },
  {
   "cell_type": "code",
   "execution_count": 7,
   "id": "9900c903",
   "metadata": {},
   "outputs": [
    {
     "name": "stderr",
     "output_type": "stream",
     "text": [
      "/tmp/ipykernel_169655/3154571052.py:3: FutureWarning: Please use atoms.calc = calc\n",
      "  structure_1.set_calculator(calc)\n"
     ]
    },
    {
     "name": "stdout",
     "output_type": "stream",
     "text": [
      "      Step     Time          Energy          fmax\n",
      "FIRE:    0 18:20:58    -2188.764191        0.149993\n",
      "FIRE:    1 18:20:59    -2188.765717        0.086875\n",
      "FIRE:    2 18:20:59    -2188.767624        0.083547\n",
      "FIRE:    3 18:21:00    -2188.769531        0.124944\n",
      "FIRE:    4 18:21:01    -2188.771057        0.083262\n",
      "FIRE:    5 18:21:02    -2188.772964        0.120500\n",
      "FIRE:    6 18:21:03    -2188.775253        0.099212\n",
      "FIRE:    7 18:21:04    -2188.777924        0.070393\n",
      "FIRE:    8 18:21:05    -2188.781357        0.069157\n",
      "FIRE:    9 18:21:06    -2188.785172        0.097777\n",
      "FIRE:   10 18:21:07    -2188.790512        0.054072\n",
      "FIRE:   11 18:21:08    -2188.794899        0.077123\n",
      "FIRE:   12 18:21:09    -2188.801956        0.091071\n",
      "FIRE:   13 18:21:10    -2188.809586        0.067428\n",
      "FIRE:   14 18:21:11    -2188.817596        0.132061\n",
      "FIRE:   15 18:21:12    -2188.826752        0.237362\n",
      "FIRE:   16 18:21:13    -2188.830948        0.543554\n",
      "FIRE:   17 18:21:14    -2188.838005        0.162570\n",
      "FIRE:   18 18:21:15    -2188.835907        0.382182\n",
      "FIRE:   19 18:21:16    -2188.837433        0.298631\n",
      "FIRE:   20 18:21:17    -2188.840294        0.148305\n",
      "FIRE:   21 18:21:17    -2188.840103        0.092727\n",
      "FIRE:   22 18:21:18    -2188.840103        0.088085\n",
      "FIRE:   23 18:21:19    -2188.840485        0.078852\n",
      "FIRE:   24 18:21:20    -2188.840294        0.064935\n",
      "FIRE:   25 18:21:21    -2188.840485        0.050061\n",
      "FIRE:   26 18:21:22    -2188.841057        0.049841\n"
     ]
    }
   ],
   "source": [
    "# Convert back, assign calculator + constraint\n",
    "structure_1 = AseAtomsAdaptor.get_atoms(result1[\"final_structure\"])\n",
    "structure_1.set_calculator(calc)\n",
    "structure_1.set_constraint(FixAtoms(mask=freeze_mask))\n",
    "\n",
    "# Stage 2: FIRE\n",
    "opt2 = StructOptimizer(model=calc, optimizer_class=\"FIRE\", use_device=\"cuda\")\n",
    "result2 = opt2.relax(structure_1, fmax=0.05, steps=400, relax_cell=False, verbose=True)"
   ]
  },
  {
   "cell_type": "code",
   "execution_count": 8,
   "id": "02e25f8e",
   "metadata": {},
   "outputs": [
    {
     "name": "stdout",
     "output_type": "stream",
     "text": [
      "✅ Final structure saved successfully.\n"
     ]
    }
   ],
   "source": [
    "from pymatgen.io.ase import AseAtomsAdaptor\n",
    "from ase.io import write\n",
    "\n",
    "# Extract final structure from result3 (FIRE)\n",
    "final_structure_pmg = result2[\"final_structure\"]  # assuming result2 = FIRE\n",
    "final_structure_ase = AseAtomsAdaptor.get_atoms(final_structure_pmg)\n",
    "\n",
    "# Save as CIF and ASE trajectory\n",
    "write(f\"relaxed_{structure_name}.cif\", final_structure_ase)\n",
    "write(f\"relaxed_{structure_name}.traj\", final_structure_ase)\n",
    "\n",
    "print(\"✅ Final structure saved successfully.\")"
   ]
  },
  {
   "cell_type": "code",
   "execution_count": 9,
   "id": "179da561",
   "metadata": {},
   "outputs": [
    {
     "name": "stdout",
     "output_type": "stream",
     "text": [
      "Li slab thickness: 21.70 Å\n",
      "Lowest Li slab atom: 32.69 Å\n",
      "LLZO top z: 32.58 Å\n",
      "Li penetration into LLZO: -0.11 Å\n"
     ]
    }
   ],
   "source": [
    "from pymatgen.core import Structure\n",
    "import numpy as np\n",
    "\n",
    "s = Structure.from_file(f\"/home/mehuldarak/summer/relax_final/{structure_name}/relaxed_{structure_name}.cif\")\n",
    "\n",
    "# Get all atoms\n",
    "z_coords = np.array([site.z for site in s.sites])\n",
    "species = np.array([site.species_string for site in s.sites])\n",
    "\n",
    "# Estimate LLZO top (non-Li atoms)\n",
    "llzo_z = z_coords[species != \"Li\"]\n",
    "llzo_top = llzo_z.max()\n",
    "\n",
    "# Now isolate Li slab: Li atoms ABOVE LLZO\n",
    "li_slab_z = np.array([site.z for site in s.sites if site.species_string == \"Li\" and site.z > llzo_top])\n",
    "\n",
    "print(f\"Li slab thickness: {li_slab_z.ptp():.2f} Å\")\n",
    "print(f\"Lowest Li slab atom: {li_slab_z.min():.2f} Å\")\n",
    "print(f\"LLZO top z: {llzo_top:.2f} Å\")\n",
    "print(f\"Li penetration into LLZO: {llzo_top - li_slab_z.min():.2f} Å\")\n"
   ]
  },
  {
   "cell_type": "code",
   "execution_count": 10,
   "id": "5d3853c1",
   "metadata": {},
   "outputs": [
    {
     "name": "stdout",
     "output_type": "stream",
     "text": [
      "             Step     Time          Energy          fmax\n",
      "SciPyFminCG:    0 18:21:24    -2188.840675        3.911260\n",
      "SciPyFminCG:    1 18:21:28    -2313.483429        6.329154\n",
      "SciPyFminCG:    2 18:21:31    -2407.718849        2.819954\n",
      "SciPyFminCG:    3 18:21:35    -2442.204285        3.579629\n",
      "SciPyFminCG:    4 18:21:37    -2448.106766        2.765037\n",
      "SciPyFminCG:    5 18:21:39    -2459.481430        1.157712\n",
      "SciPyFminCG:    6 18:21:41    -2464.581680        3.140646\n",
      "SciPyFminCG:    7 18:21:43    -2470.615196        3.051029\n",
      "SciPyFminCG:    8 18:21:45    -2480.724335        1.178622\n",
      "SciPyFminCG:    9 18:21:47    -2483.155823        0.905599\n",
      "SciPyFminCG:   10 18:21:50    -2484.209633        0.800409\n",
      "SciPyFminCG:   11 18:21:55    -2488.172150        1.473581\n",
      "SciPyFminCG:   12 18:21:57    -2489.007568        1.242586\n",
      "SciPyFminCG:   13 18:21:59    -2491.971588        1.494797\n",
      "SciPyFminCG:   14 18:22:01    -2494.394875        1.448885\n",
      "SciPyFminCG:   15 18:22:02    -2496.437263        1.094076\n",
      "SciPyFminCG:   16 18:22:04    -2498.039818        1.322317\n",
      "SciPyFminCG:   17 18:22:06    -2499.106026        0.778768\n",
      "SciPyFminCG:   18 18:22:07    -2500.241470        1.078948\n",
      "SciPyFminCG:   19 18:22:09    -2501.462936        1.159181\n",
      "SciPyFminCG:   20 18:22:12    -2504.523468        1.807683\n",
      "SciPyFminCG:   21 18:22:14    -2507.730484        1.309008\n",
      "SciPyFminCG:   22 18:22:15    -2511.745834        1.769174\n",
      "SciPyFminCG:   23 18:22:17    -2514.890480        1.132699\n",
      "SciPyFminCG:   24 18:22:18    -2517.170715        1.178379\n",
      "SciPyFminCG:   25 18:22:20    -2519.237518        1.461569\n",
      "SciPyFminCG:   26 18:22:22    -2520.930862        0.935519\n",
      "SciPyFminCG:   27 18:22:24    -2522.208023        1.379568\n",
      "SciPyFminCG:   28 18:22:26    -2523.759079        1.135614\n",
      "SciPyFminCG:   29 18:22:27    -2525.056839        1.243224\n",
      "SciPyFminCG:   30 18:22:29    -2526.629257        1.523009\n",
      "SciPyFminCG:   31 18:22:31    -2528.001976        1.572699\n",
      "SciPyFminCG:   32 18:22:33    -2529.776382        1.227491\n",
      "SciPyFminCG:   33 18:22:35    -2531.136703        0.978757\n",
      "SciPyFminCG:   34 18:22:36    -2532.018661        0.724038\n",
      "SciPyFminCG:   35 18:22:38    -2532.833099        1.045758\n",
      "SciPyFminCG:   36 18:22:40    -2533.644295        0.832021\n",
      "SciPyFminCG:   37 18:22:42    -2534.484863        1.022312\n",
      "SciPyFminCG:   38 18:22:44    -2535.433960        1.213734\n",
      "SciPyFminCG:   39 18:22:45    -2536.473656        1.667162\n",
      "SciPyFminCG:   40 18:22:47    -2537.725258        1.591336\n",
      "SciPyFminCG:   41 18:22:49    -2539.162064        1.436286\n",
      "SciPyFminCG:   42 18:22:51    -2540.841103        1.656734\n",
      "SciPyFminCG:   43 18:22:53    -2542.590904        1.999925\n",
      "SciPyFminCG:   44 18:22:55    -2544.939995        1.962421\n",
      "SciPyFminCG:   45 18:22:56    -2547.504425        1.833076\n",
      "SciPyFminCG:   46 18:22:59    -2550.748444        2.348723\n",
      "SciPyFminCG:   47 18:23:00    -2554.411316        3.242390\n",
      "SciPyFminCG:   48 18:23:02    -2557.799911        2.645863\n",
      "SciPyFminCG:   49 18:23:04    -2561.569595        1.571239\n",
      "SciPyFminCG:   50 18:23:06    -2565.155983        1.630184\n",
      "SciPyFminCG:   51 18:23:08    -2568.883324        2.998131\n",
      "SciPyFminCG:   52 18:23:09    -2571.669769        1.999833\n",
      "SciPyFminCG:   53 18:23:11    -2574.498367        1.487213\n",
      "SciPyFminCG:   54 18:23:13    -2576.863098        2.306044\n",
      "SciPyFminCG:   55 18:23:15    -2578.595543        1.579435\n",
      "SciPyFminCG:   56 18:23:17    -2581.061172        1.247899\n",
      "SciPyFminCG:   57 18:23:18    -2583.272934        1.555783\n",
      "SciPyFminCG:   58 18:23:20    -2584.929085        1.296918\n",
      "SciPyFminCG:   59 18:23:22    -2586.749840        1.363065\n",
      "SciPyFminCG:   60 18:23:24    -2588.433266        1.260893\n",
      "SciPyFminCG:   61 18:23:25    -2589.608955        1.466219\n",
      "SciPyFminCG:   62 18:23:27    -2590.915680        1.247839\n",
      "SciPyFminCG:   63 18:23:29    -2592.234230        1.541371\n",
      "SciPyFminCG:   64 18:23:31    -2593.248749        1.042564\n",
      "SciPyFminCG:   65 18:23:33    -2594.199562        0.941364\n",
      "SciPyFminCG:   66 18:23:34    -2595.023727        1.027681\n",
      "SciPyFminCG:   67 18:23:36    -2595.915604        1.371928\n",
      "SciPyFminCG:   68 18:23:38    -2596.988678        1.224434\n",
      "SciPyFminCG:   69 18:23:39    -2597.882462        1.320982\n",
      "SciPyFminCG:   70 18:23:41    -2599.078751        1.155823\n",
      "SciPyFminCG:   71 18:23:43    -2600.355530        1.131389\n",
      "SciPyFminCG:   72 18:23:45    -2601.438332        1.310892\n",
      "SciPyFminCG:   73 18:23:46    -2602.369308        1.371458\n",
      "SciPyFminCG:   74 18:23:48    -2603.231812        1.099107\n",
      "SciPyFminCG:   75 18:23:50    -2604.025459        0.822085\n",
      "SciPyFminCG:   76 18:23:52    -2604.807472        1.014002\n",
      "SciPyFminCG:   77 18:23:53    -2605.560493        0.853022\n",
      "SciPyFminCG:   78 18:23:55    -2606.313133        0.904218\n",
      "SciPyFminCG:   79 18:23:57    -2607.035446        1.152325\n",
      "SciPyFminCG:   80 18:23:58    -2607.804298        1.201731\n",
      "SciPyFminCG:   81 18:24:00    -2608.614159        1.030016\n",
      "SciPyFminCG:   82 18:24:02    -2609.544182        1.091966\n",
      "SciPyFminCG:   83 18:24:03    -2610.561180        1.082428\n",
      "SciPyFminCG:   84 18:24:05    -2611.670876        1.078170\n",
      "SciPyFminCG:   85 18:24:07    -2612.845993        0.996057\n",
      "SciPyFminCG:   86 18:24:08    -2613.823128        0.899952\n",
      "SciPyFminCG:   87 18:24:10    -2614.774513        0.878562\n",
      "SciPyFminCG:   88 18:24:12    -2615.824699        0.969104\n",
      "SciPyFminCG:   89 18:24:13    -2616.901398        1.012782\n",
      "SciPyFminCG:   90 18:24:15    -2618.092346        1.401645\n",
      "SciPyFminCG:   91 18:24:17    -2619.365120        1.711189\n",
      "SciPyFminCG:   92 18:24:18    -2620.677567        1.249488\n",
      "SciPyFminCG:   93 18:24:20    -2621.971703        1.099048\n",
      "SciPyFminCG:   94 18:24:22    -2623.537445        1.076987\n",
      "SciPyFminCG:   95 18:24:23    -2625.012207        1.590082\n",
      "SciPyFminCG:   96 18:24:25    -2626.308441        1.071853\n",
      "SciPyFminCG:   97 18:24:26    -2628.077316        1.077370\n",
      "SciPyFminCG:   98 18:24:28    -2629.671669        1.382581\n",
      "SciPyFminCG:   99 18:24:29    -2630.924606        1.121745\n",
      "SciPyFminCG:  100 18:24:31    -2632.120895        1.221892\n",
      "SciPyFminCG:  101 18:24:33    -2633.387756        0.827124\n",
      "SciPyFminCG:  102 18:24:34    -2634.612465        1.209456\n",
      "SciPyFminCG:  103 18:24:36    -2635.867882        1.294218\n",
      "SciPyFminCG:  104 18:24:37    -2637.103653        0.997402\n",
      "SciPyFminCG:  105 18:24:39    -2638.329315        1.290181\n",
      "SciPyFminCG:  106 18:24:40    -2639.605713        1.542285\n",
      "SciPyFminCG:  107 18:24:42    -2640.567589        1.313275\n",
      "SciPyFminCG:  108 18:24:43    -2641.515350        0.966768\n",
      "SciPyFminCG:  109 18:24:45    -2642.388153        1.492681\n",
      "SciPyFminCG:  110 18:24:47    -2643.177605        1.714094\n",
      "SciPyFminCG:  111 18:24:48    -2644.065475        1.382168\n",
      "SciPyFminCG:  112 18:24:50    -2644.922638        0.954276\n",
      "SciPyFminCG:  113 18:24:51    -2645.814133        2.012858\n",
      "SciPyFminCG:  114 18:24:53    -2646.850395        1.290827\n",
      "SciPyFminCG:  115 18:24:54    -2647.908401        1.030789\n",
      "SciPyFminCG:  116 18:24:56    -2648.865700        1.206543\n",
      "SciPyFminCG:  117 18:24:57    -2649.589920        1.148889\n",
      "SciPyFminCG:  118 18:24:59    -2650.292206        0.751520\n",
      "SciPyFminCG:  119 18:25:00    -2651.083755        0.849987\n",
      "SciPyFminCG:  120 18:25:02    -2652.009010        1.051051\n",
      "SciPyFminCG:  121 18:25:04    -2652.958298        0.982630\n",
      "SciPyFminCG:  122 18:25:05    -2654.081535        1.029959\n",
      "SciPyFminCG:  123 18:25:07    -2655.080605        1.080396\n",
      "SciPyFminCG:  124 18:25:08    -2655.976105        0.864592\n",
      "SciPyFminCG:  125 18:25:10    -2656.921768        0.817670\n",
      "SciPyFminCG:  126 18:25:11    -2657.710266        0.902751\n",
      "SciPyFminCG:  127 18:25:13    -2658.453941        1.055613\n",
      "SciPyFminCG:  128 18:25:14    -2659.288216        1.208812\n",
      "SciPyFminCG:  129 18:25:16    -2660.446167        1.298514\n",
      "SciPyFminCG:  130 18:25:17    -2661.732292        1.159650\n",
      "SciPyFminCG:  131 18:25:19    -2662.817574        1.345021\n",
      "SciPyFminCG:  132 18:25:20    -2663.784409        0.869936\n",
      "SciPyFminCG:  133 18:25:22    -2664.858627        1.143895\n",
      "SciPyFminCG:  134 18:25:23    -2665.969849        1.192169\n",
      "SciPyFminCG:  135 18:25:25    -2666.880035        0.856777\n",
      "SciPyFminCG:  136 18:25:26    -2667.701721        1.050768\n",
      "SciPyFminCG:  137 18:25:28    -2668.599510        0.994340\n",
      "SciPyFminCG:  138 18:25:29    -2669.518280        1.279337\n",
      "SciPyFminCG:  139 18:25:31    -2670.433235        1.009885\n",
      "SciPyFminCG:  140 18:25:32    -2671.203995        1.154344\n",
      "SciPyFminCG:  141 18:25:34    -2672.159386        1.239539\n",
      "SciPyFminCG:  142 18:25:35    -2673.240280        1.044870\n",
      "SciPyFminCG:  143 18:25:37    -2674.141884        1.045451\n",
      "SciPyFminCG:  144 18:25:38    -2675.145912        1.019414\n",
      "SciPyFminCG:  145 18:25:39    -2676.251793        1.244493\n",
      "SciPyFminCG:  146 18:25:41    -2677.391243        1.047272\n",
      "SciPyFminCG:  147 18:25:42    -2678.456306        1.691416\n",
      "SciPyFminCG:  148 18:25:44    -2679.417419        1.055902\n",
      "SciPyFminCG:  149 18:25:45    -2680.408287        0.812913\n",
      "SciPyFminCG:  150 18:25:47    -2681.422043        0.862798\n",
      "SciPyFminCG:  151 18:25:48    -2682.256889        1.127712\n",
      "SciPyFminCG:  152 18:25:49    -2682.923889        1.006713\n",
      "SciPyFminCG:  153 18:25:51    -2683.561516        1.035605\n",
      "SciPyFminCG:  154 18:25:52    -2684.183121        1.186104\n",
      "SciPyFminCG:  155 18:25:54    -2684.743118        0.902176\n",
      "SciPyFminCG:  156 18:25:55    -2685.216713        1.300521\n",
      "SciPyFminCG:  157 18:25:57    -2685.708237        0.758102\n",
      "SciPyFminCG:  158 18:25:58    -2686.340714        1.015021\n",
      "SciPyFminCG:  159 18:25:59    -2686.992645        0.809366\n",
      "SciPyFminCG:  160 18:26:01    -2687.673187        1.239944\n",
      "SciPyFminCG:  161 18:26:02    -2688.310242        0.900105\n",
      "SciPyFminCG:  162 18:26:04    -2689.026451        1.027313\n",
      "SciPyFminCG:  163 18:26:05    -2689.783096        0.932897\n",
      "SciPyFminCG:  164 18:26:07    -2690.648460        1.234282\n",
      "SciPyFminCG:  165 18:26:08    -2691.496277        1.036598\n",
      "SciPyFminCG:  166 18:26:09    -2692.346954        1.439075\n",
      "SciPyFminCG:  167 18:26:11    -2693.310165        1.374911\n",
      "SciPyFminCG:  168 18:26:12    -2694.309235        0.910815\n",
      "SciPyFminCG:  169 18:26:13    -2695.145607        1.300235\n",
      "SciPyFminCG:  170 18:26:15    -2695.997238        1.201118\n",
      "SciPyFminCG:  171 18:26:16    -2696.605301        0.984835\n",
      "SciPyFminCG:  172 18:26:17    -2697.477722        1.354471\n",
      "SciPyFminCG:  173 18:26:19    -2698.342896        1.042549\n",
      "SciPyFminCG:  174 18:26:20    -2698.999023        0.991123\n",
      "SciPyFminCG:  175 18:26:22    -2699.630928        0.879869\n",
      "SciPyFminCG:  176 18:26:23    -2700.304222        1.108473\n",
      "SciPyFminCG:  177 18:26:24    -2700.902176        1.232992\n",
      "SciPyFminCG:  178 18:26:26    -2701.612854        1.153133\n",
      "SciPyFminCG:  179 18:26:27    -2702.277565        0.912599\n",
      "SciPyFminCG:  180 18:26:28    -2702.844238        1.113624\n",
      "SciPyFminCG:  181 18:26:30    -2703.380013        0.932375\n",
      "SciPyFminCG:  182 18:26:31    -2703.811073        0.688093\n",
      "SciPyFminCG:  183 18:26:32    -2704.281044        0.712894\n",
      "SciPyFminCG:  184 18:26:34    -2704.845619        0.759996\n",
      "SciPyFminCG:  185 18:26:35    -2705.307388        0.744808\n",
      "SciPyFminCG:  186 18:26:36    -2705.816269        1.148763\n",
      "SciPyFminCG:  187 18:26:38    -2706.283569        0.913859\n",
      "SciPyFminCG:  188 18:26:39    -2706.771660        0.683946\n",
      "SciPyFminCG:  189 18:26:40    -2707.246017        0.626319\n",
      "SciPyFminCG:  190 18:26:42    -2707.661819        0.948671\n",
      "SciPyFminCG:  191 18:26:43    -2708.179855        1.073571\n",
      "SciPyFminCG:  192 18:26:44    -2708.738136        1.130314\n",
      "SciPyFminCG:  193 18:26:46    -2709.319496        1.040842\n",
      "SciPyFminCG:  194 18:26:47    -2710.062599        0.913061\n",
      "SciPyFminCG:  195 18:26:48    -2710.759926        0.997305\n",
      "SciPyFminCG:  196 18:26:50    -2711.487007        1.133139\n",
      "SciPyFminCG:  197 18:26:51    -2712.178421        1.233433\n",
      "SciPyFminCG:  198 18:26:52    -2712.992096        1.120584\n",
      "SciPyFminCG:  199 18:26:54    -2713.776779        1.332954\n",
      "SciPyFminCG:  200 18:26:55    -2714.651871        1.122378\n",
      "SciPyFminCG:  201 18:26:56    -2715.528297        1.335666\n",
      "SciPyFminCG:  202 18:26:58    -2716.347885        1.178524\n",
      "SciPyFminCG:  203 18:26:59    -2717.305374        1.241767\n",
      "SciPyFminCG:  204 18:27:00    -2718.269157        1.783387\n",
      "SciPyFminCG:  205 18:27:01    -2719.263840        1.245886\n",
      "SciPyFminCG:  206 18:27:03    -2720.163345        1.024202\n",
      "SciPyFminCG:  207 18:27:04    -2721.099091        1.165481\n",
      "SciPyFminCG:  208 18:27:05    -2721.842575        1.022350\n",
      "SciPyFminCG:  209 18:27:07    -2722.649193        0.905723\n",
      "SciPyFminCG:  210 18:27:08    -2723.545456        1.149293\n",
      "SciPyFminCG:  211 18:27:09    -2724.328423        1.412854\n",
      "SciPyFminCG:  212 18:27:10    -2725.249672        1.165420\n",
      "SciPyFminCG:  213 18:27:12    -2726.176071        1.031592\n",
      "SciPyFminCG:  214 18:27:13    -2727.007675        1.125068\n",
      "SciPyFminCG:  215 18:27:14    -2727.719116        0.903736\n",
      "SciPyFminCG:  216 18:27:15    -2728.446960        1.851921\n",
      "SciPyFminCG:  217 18:27:17    -2729.203606        0.924284\n",
      "SciPyFminCG:  218 18:27:18    -2730.283737        1.296056\n",
      "SciPyFminCG:  219 18:27:19    -2731.277847        1.056379\n",
      "SciPyFminCG:  220 18:27:20    -2732.106972        1.139130\n",
      "SciPyFminCG:  221 18:27:21    -2732.730293        1.566002\n",
      "SciPyFminCG:  222 18:27:23    -2733.648491        0.945484\n",
      "SciPyFminCG:  223 18:27:24    -2734.407997        1.137404\n",
      "SciPyFminCG:  224 18:27:25    -2735.147476        0.805373\n",
      "SciPyFminCG:  225 18:27:26    -2735.749817        0.977943\n",
      "SciPyFminCG:  226 18:27:28    -2736.407471        1.100546\n",
      "SciPyFminCG:  227 18:27:29    -2737.059212        0.902965\n",
      "SciPyFminCG:  228 18:27:30    -2737.565231        0.855426\n",
      "SciPyFminCG:  229 18:27:31    -2738.100243        0.932066\n",
      "SciPyFminCG:  230 18:27:32    -2738.608932        1.010643\n",
      "SciPyFminCG:  231 18:27:33    -2739.099884        1.167669\n",
      "SciPyFminCG:  232 18:27:35    -2739.536667        1.367864\n",
      "SciPyFminCG:  233 18:27:36    -2739.960098        0.964001\n",
      "SciPyFminCG:  234 18:27:37    -2740.379143        1.556700\n",
      "SciPyFminCG:  235 18:27:38    -2740.746117        1.221890\n",
      "SciPyFminCG:  236 18:27:39    -2741.433907        0.887815\n",
      "SciPyFminCG:  237 18:27:41    -2741.942406        1.175795\n",
      "SciPyFminCG:  238 18:27:42    -2742.391586        0.994300\n",
      "SciPyFminCG:  239 18:27:43    -2742.811394        1.024729\n",
      "SciPyFminCG:  240 18:27:44    -2743.132210        1.043415\n",
      "SciPyFminCG:  241 18:27:45    -2743.456459        0.739497\n",
      "SciPyFminCG:  242 18:27:46    -2743.706322        0.867777\n",
      "SciPyFminCG:  243 18:27:48    -2743.934822        0.970108\n",
      "SciPyFminCG:  244 18:27:49    -2744.176674        0.913349\n",
      "SciPyFminCG:  245 18:27:50    -2744.492912        0.786116\n",
      "SciPyFminCG:  246 18:27:51    -2744.792747        1.197781\n",
      "SciPyFminCG:  247 18:27:52    -2745.195007        0.818227\n",
      "SciPyFminCG:  248 18:27:54    -2745.604324        0.866282\n",
      "SciPyFminCG:  249 18:27:55    -2746.119690        1.691527\n",
      "SciPyFminCG:  250 18:27:56    -2746.796227        1.473049\n",
      "SciPyFminCG:  251 18:27:57    -2747.715950        1.305165\n",
      "SciPyFminCG:  252 18:27:58    -2748.501015        1.783420\n",
      "SciPyFminCG:  253 18:27:59    -2749.675751        1.417764\n",
      "SciPyFminCG:  254 18:28:01    -2750.965881        1.826760\n",
      "SciPyFminCG:  255 18:28:02    -2752.288246        2.417369\n",
      "SciPyFminCG:  256 18:28:03    -2753.587914        1.297019\n",
      "SciPyFminCG:  257 18:28:04    -2755.042458        1.524777\n",
      "SciPyFminCG:  258 18:28:05    -2756.538010        1.315453\n",
      "SciPyFminCG:  259 18:28:06    -2757.646561        1.218755\n",
      "SciPyFminCG:  260 18:28:07    -2758.699226        1.469078\n",
      "SciPyFminCG:  261 18:28:08    -2759.811020        1.253054\n",
      "SciPyFminCG:  262 18:28:10    -2761.058426        1.293215\n",
      "SciPyFminCG:  263 18:28:11    -2762.021255        1.798198\n",
      "SciPyFminCG:  264 18:28:12    -2762.772751        1.472192\n",
      "SciPyFminCG:  265 18:28:13    -2763.557243        1.434102\n",
      "SciPyFminCG:  266 18:28:14    -2764.325523        1.490549\n",
      "SciPyFminCG:  267 18:28:15    -2765.052414        1.671389\n",
      "SciPyFminCG:  268 18:28:16    -2765.706253        1.350924\n",
      "SciPyFminCG:  269 18:28:17    -2766.538048        1.176196\n",
      "SciPyFminCG:  270 18:28:18    -2767.160797        1.953018\n",
      "SciPyFminCG:  271 18:28:19    -2767.530632        1.458002\n",
      "SciPyFminCG:  272 18:28:21    -2768.180656        0.938195\n",
      "SciPyFminCG:  273 18:28:22    -2768.700409        1.313094\n",
      "SciPyFminCG:  274 18:28:23    -2769.223404        1.250663\n",
      "SciPyFminCG:  275 18:28:24    -2769.678116        1.491032\n",
      "SciPyFminCG:  276 18:28:25    -2770.157814        1.072145\n",
      "SciPyFminCG:  277 18:28:26    -2770.756912        1.009170\n",
      "SciPyFminCG:  278 18:28:27    -2771.363831        0.945035\n",
      "SciPyFminCG:  279 18:28:28    -2772.013474        1.444447\n",
      "SciPyFminCG:  280 18:28:29    -2772.669983        1.641765\n",
      "SciPyFminCG:  281 18:28:30    -2773.526192        1.332996\n",
      "SciPyFminCG:  282 18:28:31    -2774.597168        1.623912\n",
      "SciPyFminCG:  283 18:28:32    -2775.701523        1.368396\n",
      "SciPyFminCG:  284 18:28:33    -2776.697159        1.342106\n",
      "SciPyFminCG:  285 18:28:34    -2777.925491        1.855212\n",
      "SciPyFminCG:  286 18:28:35    -2778.891373        1.876342\n",
      "SciPyFminCG:  287 18:28:37    -2779.987144        1.582236\n",
      "SciPyFminCG:  288 18:28:38    -2781.222916        2.363330\n",
      "SciPyFminCG:  289 18:28:39    -2782.722855        1.831198\n",
      "SciPyFminCG:  290 18:28:40    -2784.643173        1.891748\n",
      "SciPyFminCG:  291 18:28:41    -2787.188339        1.847995\n",
      "SciPyFminCG:  292 18:28:42    -2789.386368        1.879186\n",
      "SciPyFminCG:  293 18:28:43    -2791.108513        1.248304\n",
      "SciPyFminCG:  294 18:28:44    -2792.932701        1.651851\n",
      "SciPyFminCG:  295 18:28:45    -2794.186783        1.609945\n",
      "SciPyFminCG:  296 18:28:46    -2795.405579        1.310217\n",
      "SciPyFminCG:  297 18:28:47    -2796.360779        1.065834\n",
      "SciPyFminCG:  298 18:28:48    -2797.276115        1.744435\n",
      "SciPyFminCG:  299 18:28:49    -2798.666000        0.876844\n",
      "SciPyFminCG:  300 18:28:50    -2799.678421        1.087927\n",
      "SciPyFminCG:  301 18:28:51    -2800.717163        1.338341\n",
      "SciPyFminCG:  302 18:28:52    -2801.552582        0.971101\n",
      "SciPyFminCG:  303 18:28:54    -2802.682877        1.089590\n",
      "SciPyFminCG:  304 18:28:55    -2803.666306        1.036287\n",
      "SciPyFminCG:  305 18:28:56    -2804.604149        1.531170\n",
      "SciPyFminCG:  306 18:28:57    -2806.159019        1.546575\n",
      "SciPyFminCG:  307 18:28:58    -2806.921005        0.934146\n",
      "SciPyFminCG:  308 18:29:00    -2808.397102        1.801128\n",
      "SciPyFminCG:  309 18:29:01    -2809.286308        1.019057\n",
      "SciPyFminCG:  310 18:29:02    -2810.684395        2.657419\n",
      "SciPyFminCG:  311 18:29:03    -2811.017799        1.067391\n",
      "SciPyFminCG:  312 18:29:05    -2813.723564        0.788754\n",
      "SciPyFminCG:  313 18:29:06    -2814.500999        1.714573\n",
      "SciPyFminCG:  314 18:29:07    -2815.312767        1.680478\n",
      "SciPyFminCG:  315 18:29:08    -2816.122246        0.733576\n",
      "SciPyFminCG:  316 18:29:09    -2816.607094        0.845862\n",
      "SciPyFminCG:  317 18:29:11    -2817.193222        1.221371\n",
      "SciPyFminCG:  318 18:29:12    -2817.552567        1.943649\n",
      "SciPyFminCG:  319 18:29:13    -2818.075180        1.036428\n",
      "SciPyFminCG:  320 18:29:14    -2819.015503        1.549650\n",
      "SciPyFminCG:  321 18:29:15    -2819.532394        0.888640\n",
      "SciPyFminCG:  322 18:29:16    -2820.227814        1.193756\n",
      "SciPyFminCG:  323 18:29:17    -2821.100426        0.325644\n",
      "SciPyFminCG:  324 18:29:19    -2821.496582        0.859168\n",
      "SciPyFminCG:  325 18:29:20    -2822.037697        0.940457\n",
      "SciPyFminCG:  326 18:29:21    -2822.492981        0.631978\n",
      "SciPyFminCG:  327 18:29:22    -2822.959328        0.651634\n",
      "SciPyFminCG:  328 18:29:23    -2823.205948        0.625595\n",
      "SciPyFminCG:  329 18:29:24    -2823.497009        1.001209\n",
      "SciPyFminCG:  330 18:29:25    -2824.000740        0.525505\n",
      "SciPyFminCG:  331 18:29:26    -2824.380684        0.465702\n",
      "SciPyFminCG:  332 18:29:28    -2824.868584        1.105420\n",
      "SciPyFminCG:  333 18:29:29    -2825.404549        0.584596\n",
      "SciPyFminCG:  334 18:29:30    -2825.904274        0.530290\n",
      "SciPyFminCG:  335 18:29:31    -2826.514053        1.103010\n",
      "SciPyFminCG:  336 18:29:32    -2827.025604        0.619434\n",
      "SciPyFminCG:  337 18:29:33    -2827.650833        0.611131\n",
      "SciPyFminCG:  338 18:29:34    -2828.150177        0.466382\n",
      "SciPyFminCG:  339 18:29:36    -2828.503227        1.133315\n",
      "SciPyFminCG:  340 18:29:36    -2828.754807        0.687415\n",
      "SciPyFminCG:  341 18:29:37    -2829.173470        0.913478\n",
      "SciPyFminCG:  342 18:29:39    -2830.083466        0.977172\n",
      "SciPyFminCG:  343 18:29:40    -2830.751419        0.965377\n",
      "SciPyFminCG:  344 18:29:41    -2831.296921        1.220891\n",
      "SciPyFminCG:  345 18:29:42    -2831.774712        0.538856\n",
      "SciPyFminCG:  346 18:29:43    -2832.085800        0.386911\n",
      "SciPyFminCG:  347 18:29:44    -2832.281876        0.365845\n",
      "SciPyFminCG:  348 18:29:45    -2832.693100        1.379353\n",
      "SciPyFminCG:  349 18:29:46    -2833.155060        1.151203\n",
      "SciPyFminCG:  350 18:29:47    -2833.974838        1.727578\n",
      "SciPyFminCG:  351 18:29:48    -2834.947586        1.003984\n",
      "SciPyFminCG:  352 18:29:49    -2835.772324        0.950540\n",
      "SciPyFminCG:  353 18:29:50    -2836.290550        0.665213\n",
      "SciPyFminCG:  354 18:29:51    -2836.886978        0.948470\n",
      "SciPyFminCG:  355 18:29:53    -2837.365150        0.713484\n",
      "SciPyFminCG:  356 18:29:53    -2837.921333        0.773559\n",
      "SciPyFminCG:  357 18:29:54    -2838.362694        0.769922\n",
      "SciPyFminCG:  358 18:29:56    -2838.825989        1.486349\n",
      "SciPyFminCG:  359 18:29:57    -2839.136887        0.877748\n",
      "SciPyFminCG:  360 18:29:58    -2839.478302        1.138424\n",
      "SciPyFminCG:  361 18:29:59    -2839.836502        0.429247\n",
      "SciPyFminCG:  362 18:30:00    -2840.067482        0.565842\n",
      "SciPyFminCG:  363 18:30:01    -2840.218353        0.452050\n",
      "SciPyFminCG:  364 18:30:02    -2840.455055        0.691317\n",
      "SciPyFminCG:  365 18:30:03    -2840.715790        0.508221\n",
      "SciPyFminCG:  366 18:30:04    -2841.073799        0.566434\n",
      "SciPyFminCG:  367 18:30:05    -2841.373825        1.355278\n",
      "SciPyFminCG:  368 18:30:06    -2841.640854        1.145451\n",
      "SciPyFminCG:  369 18:30:07    -2841.979599        1.171999\n",
      "SciPyFminCG:  370 18:30:08    -2842.350578        0.845142\n",
      "SciPyFminCG:  371 18:30:09    -2842.503548        1.045818\n",
      "SciPyFminCG:  372 18:30:10    -2842.647743        0.971578\n",
      "SciPyFminCG:  373 18:30:11    -2842.845345        1.120850\n",
      "SciPyFminCG:  374 18:30:12    -2842.949867        0.923440\n",
      "SciPyFminCG:  375 18:30:13    -2843.241501        0.956752\n",
      "SciPyFminCG:  376 18:30:14    -2843.469429        0.588171\n",
      "SciPyFminCG:  377 18:30:15    -2843.676376        0.793599\n",
      "SciPyFminCG:  378 18:30:16    -2843.917274        0.949944\n",
      "SciPyFminCG:  379 18:30:17    -2844.458961        0.663337\n",
      "SciPyFminCG:  380 18:30:18    -2844.948959        0.677417\n",
      "SciPyFminCG:  381 18:30:20    -2845.355988        1.077139\n",
      "SciPyFminCG:  382 18:30:21    -2846.132088        0.583900\n",
      "SciPyFminCG:  383 18:30:21    -2846.641922        0.559959\n",
      "SciPyFminCG:  384 18:30:22    -2846.952438        0.418276\n",
      "SciPyFminCG:  385 18:30:23    -2847.153664        0.311583\n",
      "SciPyFminCG:  386 18:30:25    -2847.385597        0.575336\n",
      "SciPyFminCG:  387 18:30:26    -2847.682190        0.369848\n",
      "SciPyFminCG:  388 18:30:27    -2847.994423        0.371233\n",
      "SciPyFminCG:  389 18:30:27    -2848.200989        0.303671\n",
      "SciPyFminCG:  390 18:30:28    -2848.341751        0.338001\n",
      "SciPyFminCG:  391 18:30:30    -2848.487854        0.941542\n",
      "SciPyFminCG:  392 18:30:31    -2848.666573        0.674024\n",
      "SciPyFminCG:  393 18:30:32    -2848.991776        1.178037\n",
      "SciPyFminCG:  394 18:30:33    -2849.404907        0.568024\n",
      "SciPyFminCG:  395 18:30:34    -2849.790192        0.758665\n",
      "SciPyFminCG:  396 18:30:34    -2850.172615        0.448216\n",
      "SciPyFminCG:  397 18:30:35    -2850.381851        0.576341\n",
      "SciPyFminCG:  398 18:30:36    -2850.582504        0.519816\n",
      "SciPyFminCG:  399 18:30:37    -2850.783730        0.649572\n",
      "SciPyFminCG:  400 18:30:38    -2851.000023        0.676069\n"
     ]
    }
   ],
   "source": [
    "import os\n",
    "from chgnet.model import StructOptimizer\n",
    "from pymatgen.core import Structure\n",
    "from chgnet.model.dynamics import CHGNetCalculator\n",
    "\n",
    "structure_path = f\"/home/mehuldarak/summer/relax_final/{structure_name}/relaxed_{structure_name}.cif\"\n",
    "structure = Structure.from_file(structure_path)\n",
    "\n",
    "# Output path\n",
    "output_dir = f\"/home/mehuldarak/summer/relax_final\"\n",
    "os.makedirs(output_dir, exist_ok=True)\n",
    "output_path = os.path.join(output_dir, f\"cellrelaxed_{structure_name}.cif\")\n",
    "\n",
    "# Run CHGNet relaxation\n",
    "opt1 = StructOptimizer(model=calc, optimizer_class=\"SciPyFminCG\", use_device=\"cuda\")\n",
    "result = opt1.relax(\n",
    "    structure,\n",
    "    fmax=0.15,           # You can adjust depending on accuracy/speed tradeoff\n",
    "    steps=400,\n",
    "    relax_cell=True,\n",
    "    verbose=True\n",
    ")"
   ]
  },
  {
   "cell_type": "code",
   "execution_count": 11,
   "id": "7b759623",
   "metadata": {},
   "outputs": [
    {
     "name": "stderr",
     "output_type": "stream",
     "text": [
      "/tmp/ipykernel_169655/1077038773.py:3: FutureWarning: Please use atoms.calc = calc\n",
      "  structure_1.set_calculator(calc)\n"
     ]
    },
    {
     "name": "stdout",
     "output_type": "stream",
     "text": [
      "      Step     Time          Energy          fmax\n",
      "FIRE:    0 18:30:39    -2850.999832        0.367188\n"
     ]
    },
    {
     "name": "stderr",
     "output_type": "stream",
     "text": [
      "/home/mehuldarak/anaconda3/envs/mace/lib/python3.13/site-packages/ase/filters.py:606: RuntimeWarning: logm result may be inaccurate, approximate err = 2.592153774348158e-13\n",
      "  pos[natoms:] = self.logm(pos[natoms:]) * self.exp_cell_factor\n"
     ]
    },
    {
     "name": "stdout",
     "output_type": "stream",
     "text": [
      "FIRE:    1 18:30:39    -2851.008606        0.316375\n"
     ]
    },
    {
     "name": "stderr",
     "output_type": "stream",
     "text": [
      "/home/mehuldarak/anaconda3/envs/mace/lib/python3.13/site-packages/ase/filters.py:606: RuntimeWarning: logm result may be inaccurate, approximate err = 2.6076597458677896e-13\n",
      "  pos[natoms:] = self.logm(pos[natoms:]) * self.exp_cell_factor\n"
     ]
    },
    {
     "name": "stdout",
     "output_type": "stream",
     "text": [
      "FIRE:    2 18:30:39    -2851.023483        0.256182\n"
     ]
    },
    {
     "name": "stderr",
     "output_type": "stream",
     "text": [
      "/home/mehuldarak/anaconda3/envs/mace/lib/python3.13/site-packages/ase/filters.py:606: RuntimeWarning: logm result may be inaccurate, approximate err = 2.6307245070884124e-13\n",
      "  pos[natoms:] = self.logm(pos[natoms:]) * self.exp_cell_factor\n"
     ]
    },
    {
     "name": "stdout",
     "output_type": "stream",
     "text": [
      "FIRE:    3 18:30:40    -2851.038742        0.255943\n"
     ]
    },
    {
     "name": "stderr",
     "output_type": "stream",
     "text": [
      "/home/mehuldarak/anaconda3/envs/mace/lib/python3.13/site-packages/ase/filters.py:606: RuntimeWarning: logm result may be inaccurate, approximate err = 2.571020564378796e-13\n",
      "  pos[natoms:] = self.logm(pos[natoms:]) * self.exp_cell_factor\n"
     ]
    },
    {
     "name": "stdout",
     "output_type": "stream",
     "text": [
      "FIRE:    4 18:30:40    -2851.051140        0.255708\n"
     ]
    },
    {
     "name": "stderr",
     "output_type": "stream",
     "text": [
      "/home/mehuldarak/anaconda3/envs/mace/lib/python3.13/site-packages/ase/filters.py:606: RuntimeWarning: logm result may be inaccurate, approximate err = 2.540580738701134e-13\n",
      "  pos[natoms:] = self.logm(pos[natoms:]) * self.exp_cell_factor\n"
     ]
    },
    {
     "name": "stdout",
     "output_type": "stream",
     "text": [
      "FIRE:    5 18:30:41    -2851.060486        0.255457\n"
     ]
    },
    {
     "name": "stderr",
     "output_type": "stream",
     "text": [
      "/home/mehuldarak/anaconda3/envs/mace/lib/python3.13/site-packages/ase/filters.py:606: RuntimeWarning: logm result may be inaccurate, approximate err = 2.549674450509139e-13\n",
      "  pos[natoms:] = self.logm(pos[natoms:]) * self.exp_cell_factor\n"
     ]
    },
    {
     "name": "stdout",
     "output_type": "stream",
     "text": [
      "FIRE:    6 18:30:41    -2851.069641        0.255168\n"
     ]
    },
    {
     "name": "stderr",
     "output_type": "stream",
     "text": [
      "/home/mehuldarak/anaconda3/envs/mace/lib/python3.13/site-packages/ase/filters.py:606: RuntimeWarning: logm result may be inaccurate, approximate err = 2.6201747537751443e-13\n",
      "  pos[natoms:] = self.logm(pos[natoms:]) * self.exp_cell_factor\n"
     ]
    },
    {
     "name": "stdout",
     "output_type": "stream",
     "text": [
      "FIRE:    7 18:30:42    -2851.081467        0.254838\n"
     ]
    },
    {
     "name": "stderr",
     "output_type": "stream",
     "text": [
      "/home/mehuldarak/anaconda3/envs/mace/lib/python3.13/site-packages/ase/filters.py:606: RuntimeWarning: logm result may be inaccurate, approximate err = 2.6093056550150846e-13\n",
      "  pos[natoms:] = self.logm(pos[natoms:]) * self.exp_cell_factor\n"
     ]
    },
    {
     "name": "stdout",
     "output_type": "stream",
     "text": [
      "FIRE:    8 18:30:42    -2851.097298        0.254478\n"
     ]
    },
    {
     "name": "stderr",
     "output_type": "stream",
     "text": [
      "/home/mehuldarak/anaconda3/envs/mace/lib/python3.13/site-packages/ase/filters.py:606: RuntimeWarning: logm result may be inaccurate, approximate err = 2.604527020024931e-13\n",
      "  pos[natoms:] = self.logm(pos[natoms:]) * self.exp_cell_factor\n"
     ]
    },
    {
     "name": "stdout",
     "output_type": "stream",
     "text": [
      "FIRE:    9 18:30:43    -2851.117706        0.254075\n"
     ]
    },
    {
     "name": "stderr",
     "output_type": "stream",
     "text": [
      "/home/mehuldarak/anaconda3/envs/mace/lib/python3.13/site-packages/ase/filters.py:606: RuntimeWarning: logm result may be inaccurate, approximate err = 2.59994994820592e-13\n",
      "  pos[natoms:] = self.logm(pos[natoms:]) * self.exp_cell_factor\n"
     ]
    },
    {
     "name": "stdout",
     "output_type": "stream",
     "text": [
      "FIRE:   10 18:30:43    -2851.140976        0.253642\n"
     ]
    },
    {
     "name": "stderr",
     "output_type": "stream",
     "text": [
      "/home/mehuldarak/anaconda3/envs/mace/lib/python3.13/site-packages/ase/filters.py:606: RuntimeWarning: logm result may be inaccurate, approximate err = 2.544352392162548e-13\n",
      "  pos[natoms:] = self.logm(pos[natoms:]) * self.exp_cell_factor\n"
     ]
    },
    {
     "name": "stdout",
     "output_type": "stream",
     "text": [
      "FIRE:   11 18:30:44    -2851.168251        0.253215\n"
     ]
    },
    {
     "name": "stderr",
     "output_type": "stream",
     "text": [
      "/home/mehuldarak/anaconda3/envs/mace/lib/python3.13/site-packages/ase/filters.py:606: RuntimeWarning: logm result may be inaccurate, approximate err = 2.5582213796182e-13\n",
      "  pos[natoms:] = self.logm(pos[natoms:]) * self.exp_cell_factor\n"
     ]
    },
    {
     "name": "stdout",
     "output_type": "stream",
     "text": [
      "FIRE:   12 18:30:44    -2851.201057        0.252737\n"
     ]
    },
    {
     "name": "stderr",
     "output_type": "stream",
     "text": [
      "/home/mehuldarak/anaconda3/envs/mace/lib/python3.13/site-packages/ase/filters.py:606: RuntimeWarning: logm result may be inaccurate, approximate err = 2.598350286718463e-13\n",
      "  pos[natoms:] = self.logm(pos[natoms:]) * self.exp_cell_factor\n"
     ]
    },
    {
     "name": "stdout",
     "output_type": "stream",
     "text": [
      "FIRE:   13 18:30:45    -2851.239777        0.252094\n"
     ]
    },
    {
     "name": "stderr",
     "output_type": "stream",
     "text": [
      "/home/mehuldarak/anaconda3/envs/mace/lib/python3.13/site-packages/ase/filters.py:606: RuntimeWarning: logm result may be inaccurate, approximate err = 2.579548061630048e-13\n",
      "  pos[natoms:] = self.logm(pos[natoms:]) * self.exp_cell_factor\n"
     ]
    },
    {
     "name": "stdout",
     "output_type": "stream",
     "text": [
      "FIRE:   14 18:30:45    -2851.287460        0.251150\n"
     ]
    },
    {
     "name": "stderr",
     "output_type": "stream",
     "text": [
      "/home/mehuldarak/anaconda3/envs/mace/lib/python3.13/site-packages/ase/filters.py:606: RuntimeWarning: logm result may be inaccurate, approximate err = 2.6067910178236085e-13\n",
      "  pos[natoms:] = self.logm(pos[natoms:]) * self.exp_cell_factor\n"
     ]
    },
    {
     "name": "stdout",
     "output_type": "stream",
     "text": [
      "FIRE:   15 18:30:46    -2851.346207        0.249929\n"
     ]
    },
    {
     "name": "stderr",
     "output_type": "stream",
     "text": [
      "/home/mehuldarak/anaconda3/envs/mace/lib/python3.13/site-packages/ase/filters.py:606: RuntimeWarning: logm result may be inaccurate, approximate err = 2.5859539781171656e-13\n",
      "  pos[natoms:] = self.logm(pos[natoms:]) * self.exp_cell_factor\n"
     ]
    },
    {
     "name": "stdout",
     "output_type": "stream",
     "text": [
      "FIRE:   16 18:30:46    -2851.413155        0.248527\n"
     ]
    },
    {
     "name": "stderr",
     "output_type": "stream",
     "text": [
      "/home/mehuldarak/anaconda3/envs/mace/lib/python3.13/site-packages/ase/filters.py:606: RuntimeWarning: logm result may be inaccurate, approximate err = 2.6064466776936886e-13\n",
      "  pos[natoms:] = self.logm(pos[natoms:]) * self.exp_cell_factor\n"
     ]
    },
    {
     "name": "stdout",
     "output_type": "stream",
     "text": [
      "FIRE:   17 18:30:47    -2851.486969        0.247196\n"
     ]
    },
    {
     "name": "stderr",
     "output_type": "stream",
     "text": [
      "/home/mehuldarak/anaconda3/envs/mace/lib/python3.13/site-packages/ase/filters.py:606: RuntimeWarning: logm result may be inaccurate, approximate err = 2.6161632424380324e-13\n",
      "  pos[natoms:] = self.logm(pos[natoms:]) * self.exp_cell_factor\n"
     ]
    },
    {
     "name": "stdout",
     "output_type": "stream",
     "text": [
      "FIRE:   18 18:30:47    -2851.558685        0.245733\n"
     ]
    },
    {
     "name": "stderr",
     "output_type": "stream",
     "text": [
      "/home/mehuldarak/anaconda3/envs/mace/lib/python3.13/site-packages/ase/filters.py:606: RuntimeWarning: logm result may be inaccurate, approximate err = 2.5189304494370007e-13\n",
      "  pos[natoms:] = self.logm(pos[natoms:]) * self.exp_cell_factor\n"
     ]
    },
    {
     "name": "stdout",
     "output_type": "stream",
     "text": [
      "FIRE:   19 18:30:47    -2851.629639        0.244022\n"
     ]
    },
    {
     "name": "stderr",
     "output_type": "stream",
     "text": [
      "/home/mehuldarak/anaconda3/envs/mace/lib/python3.13/site-packages/ase/filters.py:606: RuntimeWarning: logm result may be inaccurate, approximate err = 2.58865024152044e-13\n",
      "  pos[natoms:] = self.logm(pos[natoms:]) * self.exp_cell_factor\n"
     ]
    },
    {
     "name": "stdout",
     "output_type": "stream",
     "text": [
      "FIRE:   20 18:30:48    -2851.699829        0.242440\n"
     ]
    },
    {
     "name": "stderr",
     "output_type": "stream",
     "text": [
      "/home/mehuldarak/anaconda3/envs/mace/lib/python3.13/site-packages/ase/filters.py:606: RuntimeWarning: logm result may be inaccurate, approximate err = 2.661622575644298e-13\n",
      "  pos[natoms:] = self.logm(pos[natoms:]) * self.exp_cell_factor\n"
     ]
    },
    {
     "name": "stdout",
     "output_type": "stream",
     "text": [
      "FIRE:   21 18:30:49    -2851.769447        0.241037\n"
     ]
    },
    {
     "name": "stderr",
     "output_type": "stream",
     "text": [
      "/home/mehuldarak/anaconda3/envs/mace/lib/python3.13/site-packages/ase/filters.py:606: RuntimeWarning: logm result may be inaccurate, approximate err = 2.6605833999188925e-13\n",
      "  pos[natoms:] = self.logm(pos[natoms:]) * self.exp_cell_factor\n"
     ]
    },
    {
     "name": "stdout",
     "output_type": "stream",
     "text": [
      "FIRE:   22 18:30:49    -2851.839256        0.239473\n"
     ]
    },
    {
     "name": "stderr",
     "output_type": "stream",
     "text": [
      "/home/mehuldarak/anaconda3/envs/mace/lib/python3.13/site-packages/ase/filters.py:606: RuntimeWarning: logm result may be inaccurate, approximate err = 2.581412084953431e-13\n",
      "  pos[natoms:] = self.logm(pos[natoms:]) * self.exp_cell_factor\n"
     ]
    },
    {
     "name": "stdout",
     "output_type": "stream",
     "text": [
      "FIRE:   23 18:30:49    -2851.907730        0.237700\n"
     ]
    },
    {
     "name": "stderr",
     "output_type": "stream",
     "text": [
      "/home/mehuldarak/anaconda3/envs/mace/lib/python3.13/site-packages/ase/filters.py:606: RuntimeWarning: logm result may be inaccurate, approximate err = 2.638658010327437e-13\n",
      "  pos[natoms:] = self.logm(pos[natoms:]) * self.exp_cell_factor\n"
     ]
    },
    {
     "name": "stdout",
     "output_type": "stream",
     "text": [
      "FIRE:   24 18:30:50    -2851.976395        0.236061\n"
     ]
    },
    {
     "name": "stderr",
     "output_type": "stream",
     "text": [
      "/home/mehuldarak/anaconda3/envs/mace/lib/python3.13/site-packages/ase/filters.py:606: RuntimeWarning: logm result may be inaccurate, approximate err = 2.571640178254106e-13\n",
      "  pos[natoms:] = self.logm(pos[natoms:]) * self.exp_cell_factor\n"
     ]
    },
    {
     "name": "stdout",
     "output_type": "stream",
     "text": [
      "FIRE:   25 18:30:50    -2852.044678        0.234762\n"
     ]
    },
    {
     "name": "stderr",
     "output_type": "stream",
     "text": [
      "/home/mehuldarak/anaconda3/envs/mace/lib/python3.13/site-packages/ase/filters.py:606: RuntimeWarning: logm result may be inaccurate, approximate err = 2.5395995328038917e-13\n",
      "  pos[natoms:] = self.logm(pos[natoms:]) * self.exp_cell_factor\n"
     ]
    },
    {
     "name": "stdout",
     "output_type": "stream",
     "text": [
      "FIRE:   26 18:30:51    -2852.111626        0.233454\n"
     ]
    },
    {
     "name": "stderr",
     "output_type": "stream",
     "text": [
      "/home/mehuldarak/anaconda3/envs/mace/lib/python3.13/site-packages/ase/filters.py:606: RuntimeWarning: logm result may be inaccurate, approximate err = 2.586396417690854e-13\n",
      "  pos[natoms:] = self.logm(pos[natoms:]) * self.exp_cell_factor\n"
     ]
    },
    {
     "name": "stdout",
     "output_type": "stream",
     "text": [
      "FIRE:   27 18:30:51    -2852.178574        0.231814\n"
     ]
    },
    {
     "name": "stderr",
     "output_type": "stream",
     "text": [
      "/home/mehuldarak/anaconda3/envs/mace/lib/python3.13/site-packages/ase/filters.py:606: RuntimeWarning: logm result may be inaccurate, approximate err = 2.6024378734608516e-13\n",
      "  pos[natoms:] = self.logm(pos[natoms:]) * self.exp_cell_factor\n"
     ]
    },
    {
     "name": "stdout",
     "output_type": "stream",
     "text": [
      "FIRE:   28 18:30:52    -2852.244759        0.230100\n"
     ]
    },
    {
     "name": "stderr",
     "output_type": "stream",
     "text": [
      "/home/mehuldarak/anaconda3/envs/mace/lib/python3.13/site-packages/ase/filters.py:606: RuntimeWarning: logm result may be inaccurate, approximate err = 2.6610605681734877e-13\n",
      "  pos[natoms:] = self.logm(pos[natoms:]) * self.exp_cell_factor\n"
     ]
    },
    {
     "name": "stdout",
     "output_type": "stream",
     "text": [
      "FIRE:   29 18:30:52    -2852.310562        0.228659\n"
     ]
    },
    {
     "name": "stderr",
     "output_type": "stream",
     "text": [
      "/home/mehuldarak/anaconda3/envs/mace/lib/python3.13/site-packages/ase/filters.py:606: RuntimeWarning: logm result may be inaccurate, approximate err = 2.5404890270386393e-13\n",
      "  pos[natoms:] = self.logm(pos[natoms:]) * self.exp_cell_factor\n"
     ]
    },
    {
     "name": "stdout",
     "output_type": "stream",
     "text": [
      "FIRE:   30 18:30:53    -2852.375984        0.227361\n"
     ]
    },
    {
     "name": "stderr",
     "output_type": "stream",
     "text": [
      "/home/mehuldarak/anaconda3/envs/mace/lib/python3.13/site-packages/ase/filters.py:606: RuntimeWarning: logm result may be inaccurate, approximate err = 2.5755486494245814e-13\n",
      "  pos[natoms:] = self.logm(pos[natoms:]) * self.exp_cell_factor\n"
     ]
    },
    {
     "name": "stdout",
     "output_type": "stream",
     "text": [
      "FIRE:   31 18:30:53    -2852.440262        0.225908\n"
     ]
    },
    {
     "name": "stderr",
     "output_type": "stream",
     "text": [
      "/home/mehuldarak/anaconda3/envs/mace/lib/python3.13/site-packages/ase/filters.py:606: RuntimeWarning: logm result may be inaccurate, approximate err = 2.539534314756769e-13\n",
      "  pos[natoms:] = self.logm(pos[natoms:]) * self.exp_cell_factor\n"
     ]
    },
    {
     "name": "stdout",
     "output_type": "stream",
     "text": [
      "FIRE:   32 18:30:54    -2852.504539        0.224304\n"
     ]
    },
    {
     "name": "stderr",
     "output_type": "stream",
     "text": [
      "/home/mehuldarak/anaconda3/envs/mace/lib/python3.13/site-packages/ase/filters.py:606: RuntimeWarning: logm result may be inaccurate, approximate err = 2.5946576080942365e-13\n",
      "  pos[natoms:] = self.logm(pos[natoms:]) * self.exp_cell_factor\n"
     ]
    },
    {
     "name": "stdout",
     "output_type": "stream",
     "text": [
      "FIRE:   33 18:30:54    -2852.568436        0.222772\n"
     ]
    },
    {
     "name": "stderr",
     "output_type": "stream",
     "text": [
      "/home/mehuldarak/anaconda3/envs/mace/lib/python3.13/site-packages/ase/filters.py:606: RuntimeWarning: logm result may be inaccurate, approximate err = 2.593507707525192e-13\n",
      "  pos[natoms:] = self.logm(pos[natoms:]) * self.exp_cell_factor\n"
     ]
    },
    {
     "name": "stdout",
     "output_type": "stream",
     "text": [
      "FIRE:   34 18:30:55    -2852.631760        0.221369\n"
     ]
    },
    {
     "name": "stderr",
     "output_type": "stream",
     "text": [
      "/home/mehuldarak/anaconda3/envs/mace/lib/python3.13/site-packages/ase/filters.py:606: RuntimeWarning: logm result may be inaccurate, approximate err = 2.6189667281614405e-13\n",
      "  pos[natoms:] = self.logm(pos[natoms:]) * self.exp_cell_factor\n"
     ]
    },
    {
     "name": "stdout",
     "output_type": "stream",
     "text": [
      "FIRE:   35 18:30:55    -2852.694130        0.219947\n"
     ]
    },
    {
     "name": "stderr",
     "output_type": "stream",
     "text": [
      "/home/mehuldarak/anaconda3/envs/mace/lib/python3.13/site-packages/ase/filters.py:606: RuntimeWarning: logm result may be inaccurate, approximate err = 2.647463046355671e-13\n",
      "  pos[natoms:] = self.logm(pos[natoms:]) * self.exp_cell_factor\n"
     ]
    },
    {
     "name": "stdout",
     "output_type": "stream",
     "text": [
      "FIRE:   36 18:30:56    -2852.755928        0.218430\n"
     ]
    },
    {
     "name": "stderr",
     "output_type": "stream",
     "text": [
      "/home/mehuldarak/anaconda3/envs/mace/lib/python3.13/site-packages/ase/filters.py:606: RuntimeWarning: logm result may be inaccurate, approximate err = 2.643635488167936e-13\n",
      "  pos[natoms:] = self.logm(pos[natoms:]) * self.exp_cell_factor\n"
     ]
    },
    {
     "name": "stdout",
     "output_type": "stream",
     "text": [
      "FIRE:   37 18:30:56    -2852.817154        0.216893\n"
     ]
    },
    {
     "name": "stderr",
     "output_type": "stream",
     "text": [
      "/home/mehuldarak/anaconda3/envs/mace/lib/python3.13/site-packages/ase/filters.py:606: RuntimeWarning: logm result may be inaccurate, approximate err = 2.5547490811453985e-13\n",
      "  pos[natoms:] = self.logm(pos[natoms:]) * self.exp_cell_factor\n"
     ]
    },
    {
     "name": "stdout",
     "output_type": "stream",
     "text": [
      "FIRE:   38 18:30:57    -2852.878189        0.215407\n"
     ]
    },
    {
     "name": "stderr",
     "output_type": "stream",
     "text": [
      "/home/mehuldarak/anaconda3/envs/mace/lib/python3.13/site-packages/ase/filters.py:606: RuntimeWarning: logm result may be inaccurate, approximate err = 2.5651706716423194e-13\n",
      "  pos[natoms:] = self.logm(pos[natoms:]) * self.exp_cell_factor\n"
     ]
    },
    {
     "name": "stdout",
     "output_type": "stream",
     "text": [
      "FIRE:   39 18:30:57    -2852.938271        0.213951\n"
     ]
    },
    {
     "name": "stderr",
     "output_type": "stream",
     "text": [
      "/home/mehuldarak/anaconda3/envs/mace/lib/python3.13/site-packages/ase/filters.py:606: RuntimeWarning: logm result may be inaccurate, approximate err = 2.5675740230316393e-13\n",
      "  pos[natoms:] = self.logm(pos[natoms:]) * self.exp_cell_factor\n"
     ]
    },
    {
     "name": "stdout",
     "output_type": "stream",
     "text": [
      "FIRE:   40 18:30:57    -2852.997971        0.212466\n"
     ]
    },
    {
     "name": "stderr",
     "output_type": "stream",
     "text": [
      "/home/mehuldarak/anaconda3/envs/mace/lib/python3.13/site-packages/ase/filters.py:606: RuntimeWarning: logm result may be inaccurate, approximate err = 2.542828847090756e-13\n",
      "  pos[natoms:] = self.logm(pos[natoms:]) * self.exp_cell_factor\n"
     ]
    },
    {
     "name": "stdout",
     "output_type": "stream",
     "text": [
      "FIRE:   41 18:30:58    -2853.057098        0.210939\n"
     ]
    },
    {
     "name": "stderr",
     "output_type": "stream",
     "text": [
      "/home/mehuldarak/anaconda3/envs/mace/lib/python3.13/site-packages/ase/filters.py:606: RuntimeWarning: logm result may be inaccurate, approximate err = 2.6130198700335897e-13\n",
      "  pos[natoms:] = self.logm(pos[natoms:]) * self.exp_cell_factor\n"
     ]
    },
    {
     "name": "stdout",
     "output_type": "stream",
     "text": [
      "FIRE:   42 18:30:58    -2853.116226        0.209428\n"
     ]
    },
    {
     "name": "stderr",
     "output_type": "stream",
     "text": [
      "/home/mehuldarak/anaconda3/envs/mace/lib/python3.13/site-packages/ase/filters.py:606: RuntimeWarning: logm result may be inaccurate, approximate err = 2.5065915599598086e-13\n",
      "  pos[natoms:] = self.logm(pos[natoms:]) * self.exp_cell_factor\n"
     ]
    },
    {
     "name": "stdout",
     "output_type": "stream",
     "text": [
      "FIRE:   43 18:30:59    -2853.174782        0.207955\n"
     ]
    },
    {
     "name": "stderr",
     "output_type": "stream",
     "text": [
      "/home/mehuldarak/anaconda3/envs/mace/lib/python3.13/site-packages/ase/filters.py:606: RuntimeWarning: logm result may be inaccurate, approximate err = 2.6237738675252296e-13\n",
      "  pos[natoms:] = self.logm(pos[natoms:]) * self.exp_cell_factor\n"
     ]
    },
    {
     "name": "stdout",
     "output_type": "stream",
     "text": [
      "FIRE:   44 18:30:59    -2853.232956        0.206515\n"
     ]
    },
    {
     "name": "stderr",
     "output_type": "stream",
     "text": [
      "/home/mehuldarak/anaconda3/envs/mace/lib/python3.13/site-packages/ase/filters.py:606: RuntimeWarning: logm result may be inaccurate, approximate err = 2.627774389104099e-13\n",
      "  pos[natoms:] = self.logm(pos[natoms:]) * self.exp_cell_factor\n"
     ]
    },
    {
     "name": "stdout",
     "output_type": "stream",
     "text": [
      "FIRE:   45 18:31:00    -2853.290749        0.205068\n"
     ]
    },
    {
     "name": "stderr",
     "output_type": "stream",
     "text": [
      "/home/mehuldarak/anaconda3/envs/mace/lib/python3.13/site-packages/ase/filters.py:606: RuntimeWarning: logm result may be inaccurate, approximate err = 2.58998619020804e-13\n",
      "  pos[natoms:] = self.logm(pos[natoms:]) * self.exp_cell_factor\n"
     ]
    },
    {
     "name": "stdout",
     "output_type": "stream",
     "text": [
      "FIRE:   46 18:31:00    -2853.347969        0.203584\n"
     ]
    },
    {
     "name": "stderr",
     "output_type": "stream",
     "text": [
      "/home/mehuldarak/anaconda3/envs/mace/lib/python3.13/site-packages/ase/filters.py:606: RuntimeWarning: logm result may be inaccurate, approximate err = 2.5673906797181256e-13\n",
      "  pos[natoms:] = self.logm(pos[natoms:]) * self.exp_cell_factor\n"
     ]
    },
    {
     "name": "stdout",
     "output_type": "stream",
     "text": [
      "FIRE:   47 18:31:01    -2853.404999        0.202087\n"
     ]
    },
    {
     "name": "stderr",
     "output_type": "stream",
     "text": [
      "/home/mehuldarak/anaconda3/envs/mace/lib/python3.13/site-packages/ase/filters.py:606: RuntimeWarning: logm result may be inaccurate, approximate err = 2.5780634354815773e-13\n",
      "  pos[natoms:] = self.logm(pos[natoms:]) * self.exp_cell_factor\n"
     ]
    },
    {
     "name": "stdout",
     "output_type": "stream",
     "text": [
      "FIRE:   48 18:31:01    -2853.461075        0.200610\n"
     ]
    },
    {
     "name": "stderr",
     "output_type": "stream",
     "text": [
      "/home/mehuldarak/anaconda3/envs/mace/lib/python3.13/site-packages/ase/filters.py:606: RuntimeWarning: logm result may be inaccurate, approximate err = 2.5404192556946276e-13\n",
      "  pos[natoms:] = self.logm(pos[natoms:]) * self.exp_cell_factor\n"
     ]
    },
    {
     "name": "stdout",
     "output_type": "stream",
     "text": [
      "FIRE:   49 18:31:02    -2853.517151        0.199160\n"
     ]
    },
    {
     "name": "stderr",
     "output_type": "stream",
     "text": [
      "/home/mehuldarak/anaconda3/envs/mace/lib/python3.13/site-packages/ase/filters.py:606: RuntimeWarning: logm result may be inaccurate, approximate err = 2.5880394220950114e-13\n",
      "  pos[natoms:] = self.logm(pos[natoms:]) * self.exp_cell_factor\n"
     ]
    },
    {
     "name": "stdout",
     "output_type": "stream",
     "text": [
      "FIRE:   50 18:31:02    -2853.572083        0.197697\n"
     ]
    },
    {
     "name": "stderr",
     "output_type": "stream",
     "text": [
      "/home/mehuldarak/anaconda3/envs/mace/lib/python3.13/site-packages/ase/filters.py:606: RuntimeWarning: logm result may be inaccurate, approximate err = 2.609793490376187e-13\n",
      "  pos[natoms:] = self.logm(pos[natoms:]) * self.exp_cell_factor\n"
     ]
    },
    {
     "name": "stdout",
     "output_type": "stream",
     "text": [
      "FIRE:   51 18:31:02    -2853.626633        0.196215\n"
     ]
    },
    {
     "name": "stderr",
     "output_type": "stream",
     "text": [
      "/home/mehuldarak/anaconda3/envs/mace/lib/python3.13/site-packages/ase/filters.py:606: RuntimeWarning: logm result may be inaccurate, approximate err = 2.5850239576157423e-13\n",
      "  pos[natoms:] = self.logm(pos[natoms:]) * self.exp_cell_factor\n"
     ]
    },
    {
     "name": "stdout",
     "output_type": "stream",
     "text": [
      "FIRE:   52 18:31:03    -2853.680611        0.194690\n"
     ]
    },
    {
     "name": "stderr",
     "output_type": "stream",
     "text": [
      "/home/mehuldarak/anaconda3/envs/mace/lib/python3.13/site-packages/ase/filters.py:606: RuntimeWarning: logm result may be inaccurate, approximate err = 2.6036488309154573e-13\n",
      "  pos[natoms:] = self.logm(pos[natoms:]) * self.exp_cell_factor\n"
     ]
    },
    {
     "name": "stdout",
     "output_type": "stream",
     "text": [
      "FIRE:   53 18:31:03    -2853.733444        0.193167\n"
     ]
    },
    {
     "name": "stderr",
     "output_type": "stream",
     "text": [
      "/home/mehuldarak/anaconda3/envs/mace/lib/python3.13/site-packages/ase/filters.py:606: RuntimeWarning: logm result may be inaccurate, approximate err = 2.536275373729248e-13\n",
      "  pos[natoms:] = self.logm(pos[natoms:]) * self.exp_cell_factor\n"
     ]
    },
    {
     "name": "stdout",
     "output_type": "stream",
     "text": [
      "FIRE:   54 18:31:04    -2853.786087        0.191661\n"
     ]
    },
    {
     "name": "stderr",
     "output_type": "stream",
     "text": [
      "/home/mehuldarak/anaconda3/envs/mace/lib/python3.13/site-packages/ase/filters.py:606: RuntimeWarning: logm result may be inaccurate, approximate err = 2.5926231312360524e-13\n",
      "  pos[natoms:] = self.logm(pos[natoms:]) * self.exp_cell_factor\n"
     ]
    },
    {
     "name": "stdout",
     "output_type": "stream",
     "text": [
      "FIRE:   55 18:31:04    -2853.837967        0.190165\n"
     ]
    },
    {
     "name": "stderr",
     "output_type": "stream",
     "text": [
      "/home/mehuldarak/anaconda3/envs/mace/lib/python3.13/site-packages/ase/filters.py:606: RuntimeWarning: logm result may be inaccurate, approximate err = 2.6804957578819444e-13\n",
      "  pos[natoms:] = self.logm(pos[natoms:]) * self.exp_cell_factor\n"
     ]
    },
    {
     "name": "stdout",
     "output_type": "stream",
     "text": [
      "FIRE:   56 18:31:05    -2853.889465        0.188674\n"
     ]
    },
    {
     "name": "stderr",
     "output_type": "stream",
     "text": [
      "/home/mehuldarak/anaconda3/envs/mace/lib/python3.13/site-packages/ase/filters.py:606: RuntimeWarning: logm result may be inaccurate, approximate err = 2.641683694256817e-13\n",
      "  pos[natoms:] = self.logm(pos[natoms:]) * self.exp_cell_factor\n"
     ]
    },
    {
     "name": "stdout",
     "output_type": "stream",
     "text": [
      "FIRE:   57 18:31:05    -2853.940201        0.187182\n"
     ]
    },
    {
     "name": "stderr",
     "output_type": "stream",
     "text": [
      "/home/mehuldarak/anaconda3/envs/mace/lib/python3.13/site-packages/ase/filters.py:606: RuntimeWarning: logm result may be inaccurate, approximate err = 2.570209785231589e-13\n",
      "  pos[natoms:] = self.logm(pos[natoms:]) * self.exp_cell_factor\n"
     ]
    },
    {
     "name": "stdout",
     "output_type": "stream",
     "text": [
      "FIRE:   58 18:31:06    -2853.990555        0.185690\n"
     ]
    },
    {
     "name": "stderr",
     "output_type": "stream",
     "text": [
      "/home/mehuldarak/anaconda3/envs/mace/lib/python3.13/site-packages/ase/filters.py:606: RuntimeWarning: logm result may be inaccurate, approximate err = 2.542984608708633e-13\n",
      "  pos[natoms:] = self.logm(pos[natoms:]) * self.exp_cell_factor\n"
     ]
    },
    {
     "name": "stdout",
     "output_type": "stream",
     "text": [
      "FIRE:   59 18:31:06    -2854.040337        0.184200\n"
     ]
    },
    {
     "name": "stderr",
     "output_type": "stream",
     "text": [
      "/home/mehuldarak/anaconda3/envs/mace/lib/python3.13/site-packages/ase/filters.py:606: RuntimeWarning: logm result may be inaccurate, approximate err = 2.561372151487593e-13\n",
      "  pos[natoms:] = self.logm(pos[natoms:]) * self.exp_cell_factor\n"
     ]
    },
    {
     "name": "stdout",
     "output_type": "stream",
     "text": [
      "FIRE:   60 18:31:07    -2854.090118        0.182723\n"
     ]
    },
    {
     "name": "stderr",
     "output_type": "stream",
     "text": [
      "/home/mehuldarak/anaconda3/envs/mace/lib/python3.13/site-packages/ase/filters.py:606: RuntimeWarning: logm result may be inaccurate, approximate err = 2.6163643366953237e-13\n",
      "  pos[natoms:] = self.logm(pos[natoms:]) * self.exp_cell_factor\n"
     ]
    },
    {
     "name": "stdout",
     "output_type": "stream",
     "text": [
      "FIRE:   61 18:31:07    -2854.138947        0.181253\n"
     ]
    },
    {
     "name": "stderr",
     "output_type": "stream",
     "text": [
      "/home/mehuldarak/anaconda3/envs/mace/lib/python3.13/site-packages/ase/filters.py:606: RuntimeWarning: logm result may be inaccurate, approximate err = 2.5556158592056307e-13\n",
      "  pos[natoms:] = self.logm(pos[natoms:]) * self.exp_cell_factor\n"
     ]
    },
    {
     "name": "stdout",
     "output_type": "stream",
     "text": [
      "FIRE:   62 18:31:08    -2854.187775        0.179785\n"
     ]
    },
    {
     "name": "stderr",
     "output_type": "stream",
     "text": [
      "/home/mehuldarak/anaconda3/envs/mace/lib/python3.13/site-packages/ase/filters.py:606: RuntimeWarning: logm result may be inaccurate, approximate err = 2.588255079764294e-13\n",
      "  pos[natoms:] = self.logm(pos[natoms:]) * self.exp_cell_factor\n"
     ]
    },
    {
     "name": "stdout",
     "output_type": "stream",
     "text": [
      "FIRE:   63 18:31:08    -2854.235840        0.178316\n"
     ]
    },
    {
     "name": "stderr",
     "output_type": "stream",
     "text": [
      "/home/mehuldarak/anaconda3/envs/mace/lib/python3.13/site-packages/ase/filters.py:606: RuntimeWarning: logm result may be inaccurate, approximate err = 2.633602090196559e-13\n",
      "  pos[natoms:] = self.logm(pos[natoms:]) * self.exp_cell_factor\n"
     ]
    },
    {
     "name": "stdout",
     "output_type": "stream",
     "text": [
      "FIRE:   64 18:31:08    -2854.283714        0.176844\n"
     ]
    },
    {
     "name": "stderr",
     "output_type": "stream",
     "text": [
      "/home/mehuldarak/anaconda3/envs/mace/lib/python3.13/site-packages/ase/filters.py:606: RuntimeWarning: logm result may be inaccurate, approximate err = 2.5972972004786807e-13\n",
      "  pos[natoms:] = self.logm(pos[natoms:]) * self.exp_cell_factor\n"
     ]
    },
    {
     "name": "stdout",
     "output_type": "stream",
     "text": [
      "FIRE:   65 18:31:09    -2854.331207        0.175364\n"
     ]
    },
    {
     "name": "stderr",
     "output_type": "stream",
     "text": [
      "/home/mehuldarak/anaconda3/envs/mace/lib/python3.13/site-packages/ase/filters.py:606: RuntimeWarning: logm result may be inaccurate, approximate err = 2.558149509853155e-13\n",
      "  pos[natoms:] = self.logm(pos[natoms:]) * self.exp_cell_factor\n"
     ]
    },
    {
     "name": "stdout",
     "output_type": "stream",
     "text": [
      "FIRE:   66 18:31:10    -2854.377937        0.173877\n"
     ]
    },
    {
     "name": "stderr",
     "output_type": "stream",
     "text": [
      "/home/mehuldarak/anaconda3/envs/mace/lib/python3.13/site-packages/ase/filters.py:606: RuntimeWarning: logm result may be inaccurate, approximate err = 2.5699812283925267e-13\n",
      "  pos[natoms:] = self.logm(pos[natoms:]) * self.exp_cell_factor\n"
     ]
    },
    {
     "name": "stdout",
     "output_type": "stream",
     "text": [
      "FIRE:   67 18:31:10    -2854.424286        0.172388\n"
     ]
    },
    {
     "name": "stderr",
     "output_type": "stream",
     "text": [
      "/home/mehuldarak/anaconda3/envs/mace/lib/python3.13/site-packages/ase/filters.py:606: RuntimeWarning: logm result may be inaccurate, approximate err = 2.6339005169280314e-13\n",
      "  pos[natoms:] = self.logm(pos[natoms:]) * self.exp_cell_factor\n"
     ]
    },
    {
     "name": "stdout",
     "output_type": "stream",
     "text": [
      "FIRE:   68 18:31:10    -2854.469872        0.170905\n"
     ]
    },
    {
     "name": "stderr",
     "output_type": "stream",
     "text": [
      "/home/mehuldarak/anaconda3/envs/mace/lib/python3.13/site-packages/ase/filters.py:606: RuntimeWarning: logm result may be inaccurate, approximate err = 2.5218766990116776e-13\n",
      "  pos[natoms:] = self.logm(pos[natoms:]) * self.exp_cell_factor\n"
     ]
    },
    {
     "name": "stdout",
     "output_type": "stream",
     "text": [
      "FIRE:   69 18:31:11    -2854.515457        0.169425\n"
     ]
    },
    {
     "name": "stderr",
     "output_type": "stream",
     "text": [
      "/home/mehuldarak/anaconda3/envs/mace/lib/python3.13/site-packages/ase/filters.py:606: RuntimeWarning: logm result may be inaccurate, approximate err = 2.50162679658891e-13\n",
      "  pos[natoms:] = self.logm(pos[natoms:]) * self.exp_cell_factor\n"
     ]
    },
    {
     "name": "stdout",
     "output_type": "stream",
     "text": [
      "FIRE:   70 18:31:11    -2854.560089        0.167941\n"
     ]
    },
    {
     "name": "stderr",
     "output_type": "stream",
     "text": [
      "/home/mehuldarak/anaconda3/envs/mace/lib/python3.13/site-packages/ase/filters.py:606: RuntimeWarning: logm result may be inaccurate, approximate err = 2.5529516441286887e-13\n",
      "  pos[natoms:] = self.logm(pos[natoms:]) * self.exp_cell_factor\n"
     ]
    },
    {
     "name": "stdout",
     "output_type": "stream",
     "text": [
      "FIRE:   71 18:31:12    -2854.604530        0.166457\n"
     ]
    },
    {
     "name": "stderr",
     "output_type": "stream",
     "text": [
      "/home/mehuldarak/anaconda3/envs/mace/lib/python3.13/site-packages/ase/filters.py:606: RuntimeWarning: logm result may be inaccurate, approximate err = 2.6244919262388735e-13\n",
      "  pos[natoms:] = self.logm(pos[natoms:]) * self.exp_cell_factor\n"
     ]
    },
    {
     "name": "stdout",
     "output_type": "stream",
     "text": [
      "FIRE:   72 18:31:12    -2854.648399        0.164967\n"
     ]
    },
    {
     "name": "stderr",
     "output_type": "stream",
     "text": [
      "/home/mehuldarak/anaconda3/envs/mace/lib/python3.13/site-packages/ase/filters.py:606: RuntimeWarning: logm result may be inaccurate, approximate err = 2.663941462840924e-13\n",
      "  pos[natoms:] = self.logm(pos[natoms:]) * self.exp_cell_factor\n"
     ]
    },
    {
     "name": "stdout",
     "output_type": "stream",
     "text": [
      "FIRE:   73 18:31:13    -2854.691887        0.163480\n"
     ]
    },
    {
     "name": "stderr",
     "output_type": "stream",
     "text": [
      "/home/mehuldarak/anaconda3/envs/mace/lib/python3.13/site-packages/ase/filters.py:606: RuntimeWarning: logm result may be inaccurate, approximate err = 2.5208366533003713e-13\n",
      "  pos[natoms:] = self.logm(pos[natoms:]) * self.exp_cell_factor\n"
     ]
    },
    {
     "name": "stdout",
     "output_type": "stream",
     "text": [
      "FIRE:   74 18:31:13    -2854.734993        0.161996\n"
     ]
    },
    {
     "name": "stderr",
     "output_type": "stream",
     "text": [
      "/home/mehuldarak/anaconda3/envs/mace/lib/python3.13/site-packages/ase/filters.py:606: RuntimeWarning: logm result may be inaccurate, approximate err = 2.5985845695887504e-13\n",
      "  pos[natoms:] = self.logm(pos[natoms:]) * self.exp_cell_factor\n"
     ]
    },
    {
     "name": "stdout",
     "output_type": "stream",
     "text": [
      "FIRE:   75 18:31:14    -2854.777336        0.160511\n"
     ]
    },
    {
     "name": "stderr",
     "output_type": "stream",
     "text": [
      "/home/mehuldarak/anaconda3/envs/mace/lib/python3.13/site-packages/ase/filters.py:606: RuntimeWarning: logm result may be inaccurate, approximate err = 2.566763338559521e-13\n",
      "  pos[natoms:] = self.logm(pos[natoms:]) * self.exp_cell_factor\n"
     ]
    },
    {
     "name": "stdout",
     "output_type": "stream",
     "text": [
      "FIRE:   76 18:31:14    -2854.819489        0.159011\n"
     ]
    },
    {
     "name": "stderr",
     "output_type": "stream",
     "text": [
      "/home/mehuldarak/anaconda3/envs/mace/lib/python3.13/site-packages/ase/filters.py:606: RuntimeWarning: logm result may be inaccurate, approximate err = 2.6212742816913905e-13\n",
      "  pos[natoms:] = self.logm(pos[natoms:]) * self.exp_cell_factor\n"
     ]
    },
    {
     "name": "stdout",
     "output_type": "stream",
     "text": [
      "FIRE:   77 18:31:14    -2854.860687        0.157503\n"
     ]
    },
    {
     "name": "stderr",
     "output_type": "stream",
     "text": [
      "/home/mehuldarak/anaconda3/envs/mace/lib/python3.13/site-packages/ase/filters.py:606: RuntimeWarning: logm result may be inaccurate, approximate err = 2.5865879402755594e-13\n",
      "  pos[natoms:] = self.logm(pos[natoms:]) * self.exp_cell_factor\n"
     ]
    },
    {
     "name": "stdout",
     "output_type": "stream",
     "text": [
      "FIRE:   78 18:31:15    -2854.901505        0.155999\n"
     ]
    },
    {
     "name": "stderr",
     "output_type": "stream",
     "text": [
      "/home/mehuldarak/anaconda3/envs/mace/lib/python3.13/site-packages/ase/filters.py:606: RuntimeWarning: logm result may be inaccurate, approximate err = 2.625186769291722e-13\n",
      "  pos[natoms:] = self.logm(pos[natoms:]) * self.exp_cell_factor\n"
     ]
    },
    {
     "name": "stdout",
     "output_type": "stream",
     "text": [
      "FIRE:   79 18:31:16    -2854.942131        0.154510\n"
     ]
    },
    {
     "name": "stderr",
     "output_type": "stream",
     "text": [
      "/home/mehuldarak/anaconda3/envs/mace/lib/python3.13/site-packages/ase/filters.py:606: RuntimeWarning: logm result may be inaccurate, approximate err = 2.615931626052332e-13\n",
      "  pos[natoms:] = self.logm(pos[natoms:]) * self.exp_cell_factor\n"
     ]
    },
    {
     "name": "stdout",
     "output_type": "stream",
     "text": [
      "FIRE:   80 18:31:16    -2854.981995        0.153033\n"
     ]
    },
    {
     "name": "stderr",
     "output_type": "stream",
     "text": [
      "/home/mehuldarak/anaconda3/envs/mace/lib/python3.13/site-packages/ase/filters.py:606: RuntimeWarning: logm result may be inaccurate, approximate err = 2.62328601328038e-13\n",
      "  pos[natoms:] = self.logm(pos[natoms:]) * self.exp_cell_factor\n"
     ]
    },
    {
     "name": "stdout",
     "output_type": "stream",
     "text": [
      "FIRE:   81 18:31:16    -2855.021286        0.151558\n"
     ]
    },
    {
     "name": "stderr",
     "output_type": "stream",
     "text": [
      "/home/mehuldarak/anaconda3/envs/mace/lib/python3.13/site-packages/ase/filters.py:606: RuntimeWarning: logm result may be inaccurate, approximate err = 2.5571493360378504e-13\n",
      "  pos[natoms:] = self.logm(pos[natoms:]) * self.exp_cell_factor\n"
     ]
    },
    {
     "name": "stdout",
     "output_type": "stream",
     "text": [
      "FIRE:   82 18:31:17    -2855.060577        0.150076\n"
     ]
    },
    {
     "name": "stderr",
     "output_type": "stream",
     "text": [
      "/home/mehuldarak/anaconda3/envs/mace/lib/python3.13/site-packages/ase/filters.py:606: RuntimeWarning: logm result may be inaccurate, approximate err = 2.5614214431962056e-13\n",
      "  pos[natoms:] = self.logm(pos[natoms:]) * self.exp_cell_factor\n"
     ]
    },
    {
     "name": "stdout",
     "output_type": "stream",
     "text": [
      "FIRE:   83 18:31:17    -2855.099106        0.148591\n"
     ]
    },
    {
     "name": "stderr",
     "output_type": "stream",
     "text": [
      "/home/mehuldarak/anaconda3/envs/mace/lib/python3.13/site-packages/ase/filters.py:606: RuntimeWarning: logm result may be inaccurate, approximate err = 2.6353016290168033e-13\n",
      "  pos[natoms:] = self.logm(pos[natoms:]) * self.exp_cell_factor\n"
     ]
    },
    {
     "name": "stdout",
     "output_type": "stream",
     "text": [
      "FIRE:   84 18:31:18    -2855.137253        0.147113\n"
     ]
    },
    {
     "name": "stderr",
     "output_type": "stream",
     "text": [
      "/home/mehuldarak/anaconda3/envs/mace/lib/python3.13/site-packages/ase/filters.py:606: RuntimeWarning: logm result may be inaccurate, approximate err = 2.601824033508158e-13\n",
      "  pos[natoms:] = self.logm(pos[natoms:]) * self.exp_cell_factor\n"
     ]
    },
    {
     "name": "stdout",
     "output_type": "stream",
     "text": [
      "FIRE:   85 18:31:18    -2855.175018        0.145651\n"
     ]
    },
    {
     "name": "stderr",
     "output_type": "stream",
     "text": [
      "/home/mehuldarak/anaconda3/envs/mace/lib/python3.13/site-packages/ase/filters.py:606: RuntimeWarning: logm result may be inaccurate, approximate err = 2.598859229088161e-13\n",
      "  pos[natoms:] = self.logm(pos[natoms:]) * self.exp_cell_factor\n"
     ]
    },
    {
     "name": "stdout",
     "output_type": "stream",
     "text": [
      "FIRE:   86 18:31:19    -2855.212593        0.144206\n"
     ]
    },
    {
     "name": "stderr",
     "output_type": "stream",
     "text": [
      "/home/mehuldarak/anaconda3/envs/mace/lib/python3.13/site-packages/ase/filters.py:606: RuntimeWarning: logm result may be inaccurate, approximate err = 2.597424733644631e-13\n",
      "  pos[natoms:] = self.logm(pos[natoms:]) * self.exp_cell_factor\n"
     ]
    },
    {
     "name": "stdout",
     "output_type": "stream",
     "text": [
      "FIRE:   87 18:31:19    -2855.249596        0.142766\n"
     ]
    },
    {
     "name": "stderr",
     "output_type": "stream",
     "text": [
      "/home/mehuldarak/anaconda3/envs/mace/lib/python3.13/site-packages/ase/filters.py:606: RuntimeWarning: logm result may be inaccurate, approximate err = 2.5908308790177855e-13\n",
      "  pos[natoms:] = self.logm(pos[natoms:]) * self.exp_cell_factor\n"
     ]
    },
    {
     "name": "stdout",
     "output_type": "stream",
     "text": [
      "FIRE:   88 18:31:20    -2855.285645        0.141316\n"
     ]
    },
    {
     "name": "stderr",
     "output_type": "stream",
     "text": [
      "/home/mehuldarak/anaconda3/envs/mace/lib/python3.13/site-packages/ase/filters.py:606: RuntimeWarning: logm result may be inaccurate, approximate err = 2.5990002873692847e-13\n",
      "  pos[natoms:] = self.logm(pos[natoms:]) * self.exp_cell_factor\n"
     ]
    },
    {
     "name": "stdout",
     "output_type": "stream",
     "text": [
      "FIRE:   89 18:31:20    -2855.321503        0.139849\n"
     ]
    },
    {
     "name": "stderr",
     "output_type": "stream",
     "text": [
      "/home/mehuldarak/anaconda3/envs/mace/lib/python3.13/site-packages/ase/filters.py:606: RuntimeWarning: logm result may be inaccurate, approximate err = 2.545887776205159e-13\n",
      "  pos[natoms:] = self.logm(pos[natoms:]) * self.exp_cell_factor\n"
     ]
    },
    {
     "name": "stdout",
     "output_type": "stream",
     "text": [
      "FIRE:   90 18:31:21    -2855.357361        0.138369\n"
     ]
    },
    {
     "name": "stderr",
     "output_type": "stream",
     "text": [
      "/home/mehuldarak/anaconda3/envs/mace/lib/python3.13/site-packages/ase/filters.py:606: RuntimeWarning: logm result may be inaccurate, approximate err = 2.535990951948681e-13\n",
      "  pos[natoms:] = self.logm(pos[natoms:]) * self.exp_cell_factor\n"
     ]
    },
    {
     "name": "stdout",
     "output_type": "stream",
     "text": [
      "FIRE:   91 18:31:21    -2855.392265        0.136879\n"
     ]
    },
    {
     "name": "stderr",
     "output_type": "stream",
     "text": [
      "/home/mehuldarak/anaconda3/envs/mace/lib/python3.13/site-packages/ase/filters.py:606: RuntimeWarning: logm result may be inaccurate, approximate err = 2.5952310369348514e-13\n",
      "  pos[natoms:] = self.logm(pos[natoms:]) * self.exp_cell_factor\n"
     ]
    },
    {
     "name": "stdout",
     "output_type": "stream",
     "text": [
      "FIRE:   92 18:31:21    -2855.426788        0.135385\n"
     ]
    },
    {
     "name": "stderr",
     "output_type": "stream",
     "text": [
      "/home/mehuldarak/anaconda3/envs/mace/lib/python3.13/site-packages/ase/filters.py:606: RuntimeWarning: logm result may be inaccurate, approximate err = 2.5581446530011537e-13\n",
      "  pos[natoms:] = self.logm(pos[natoms:]) * self.exp_cell_factor\n"
     ]
    },
    {
     "name": "stdout",
     "output_type": "stream",
     "text": [
      "FIRE:   93 18:31:22    -2855.461121        0.133889\n"
     ]
    },
    {
     "name": "stderr",
     "output_type": "stream",
     "text": [
      "/home/mehuldarak/anaconda3/envs/mace/lib/python3.13/site-packages/ase/filters.py:606: RuntimeWarning: logm result may be inaccurate, approximate err = 2.556949010675793e-13\n",
      "  pos[natoms:] = self.logm(pos[natoms:]) * self.exp_cell_factor\n"
     ]
    },
    {
     "name": "stdout",
     "output_type": "stream",
     "text": [
      "FIRE:   94 18:31:22    -2855.494118        0.132389\n"
     ]
    },
    {
     "name": "stderr",
     "output_type": "stream",
     "text": [
      "/home/mehuldarak/anaconda3/envs/mace/lib/python3.13/site-packages/ase/filters.py:606: RuntimeWarning: logm result may be inaccurate, approximate err = 2.5822354711868866e-13\n",
      "  pos[natoms:] = self.logm(pos[natoms:]) * self.exp_cell_factor\n"
     ]
    },
    {
     "name": "stdout",
     "output_type": "stream",
     "text": [
      "FIRE:   95 18:31:23    -2855.527687        0.130879\n"
     ]
    },
    {
     "name": "stderr",
     "output_type": "stream",
     "text": [
      "/home/mehuldarak/anaconda3/envs/mace/lib/python3.13/site-packages/ase/filters.py:606: RuntimeWarning: logm result may be inaccurate, approximate err = 2.6047006107784836e-13\n",
      "  pos[natoms:] = self.logm(pos[natoms:]) * self.exp_cell_factor\n"
     ]
    },
    {
     "name": "stdout",
     "output_type": "stream",
     "text": [
      "FIRE:   96 18:31:23    -2855.559921        0.129373\n"
     ]
    },
    {
     "name": "stderr",
     "output_type": "stream",
     "text": [
      "/home/mehuldarak/anaconda3/envs/mace/lib/python3.13/site-packages/ase/filters.py:606: RuntimeWarning: logm result may be inaccurate, approximate err = 2.556083997222159e-13\n",
      "  pos[natoms:] = self.logm(pos[natoms:]) * self.exp_cell_factor\n"
     ]
    },
    {
     "name": "stdout",
     "output_type": "stream",
     "text": [
      "FIRE:   97 18:31:24    -2855.591965        0.127881\n"
     ]
    },
    {
     "name": "stderr",
     "output_type": "stream",
     "text": [
      "/home/mehuldarak/anaconda3/envs/mace/lib/python3.13/site-packages/ase/filters.py:606: RuntimeWarning: logm result may be inaccurate, approximate err = 2.5960633449667224e-13\n",
      "  pos[natoms:] = self.logm(pos[natoms:]) * self.exp_cell_factor\n"
     ]
    },
    {
     "name": "stdout",
     "output_type": "stream",
     "text": [
      "FIRE:   98 18:31:24    -2855.623245        0.126401\n"
     ]
    },
    {
     "name": "stderr",
     "output_type": "stream",
     "text": [
      "/home/mehuldarak/anaconda3/envs/mace/lib/python3.13/site-packages/ase/filters.py:606: RuntimeWarning: logm result may be inaccurate, approximate err = 2.5444341705462485e-13\n",
      "  pos[natoms:] = self.logm(pos[natoms:]) * self.exp_cell_factor\n"
     ]
    },
    {
     "name": "stdout",
     "output_type": "stream",
     "text": [
      "FIRE:   99 18:31:25    -2855.654526        0.124925\n"
     ]
    },
    {
     "name": "stderr",
     "output_type": "stream",
     "text": [
      "/home/mehuldarak/anaconda3/envs/mace/lib/python3.13/site-packages/ase/filters.py:606: RuntimeWarning: logm result may be inaccurate, approximate err = 2.5873050690220757e-13\n",
      "  pos[natoms:] = self.logm(pos[natoms:]) * self.exp_cell_factor\n"
     ]
    },
    {
     "name": "stdout",
     "output_type": "stream",
     "text": [
      "FIRE:  100 18:31:25    -2855.685234        0.123443\n"
     ]
    },
    {
     "name": "stderr",
     "output_type": "stream",
     "text": [
      "/home/mehuldarak/anaconda3/envs/mace/lib/python3.13/site-packages/ase/filters.py:606: RuntimeWarning: logm result may be inaccurate, approximate err = 2.5380959114767417e-13\n",
      "  pos[natoms:] = self.logm(pos[natoms:]) * self.exp_cell_factor\n"
     ]
    },
    {
     "name": "stdout",
     "output_type": "stream",
     "text": [
      "FIRE:  101 18:31:26    -2855.715179        0.121951\n"
     ]
    },
    {
     "name": "stderr",
     "output_type": "stream",
     "text": [
      "/home/mehuldarak/anaconda3/envs/mace/lib/python3.13/site-packages/ase/filters.py:606: RuntimeWarning: logm result may be inaccurate, approximate err = 2.6232136147067053e-13\n",
      "  pos[natoms:] = self.logm(pos[natoms:]) * self.exp_cell_factor\n"
     ]
    },
    {
     "name": "stdout",
     "output_type": "stream",
     "text": [
      "FIRE:  102 18:31:26    -2855.744934        0.120437\n"
     ]
    },
    {
     "name": "stderr",
     "output_type": "stream",
     "text": [
      "/home/mehuldarak/anaconda3/envs/mace/lib/python3.13/site-packages/ase/filters.py:606: RuntimeWarning: logm result may be inaccurate, approximate err = 2.5715714939909843e-13\n",
      "  pos[natoms:] = self.logm(pos[natoms:]) * self.exp_cell_factor\n"
     ]
    },
    {
     "name": "stdout",
     "output_type": "stream",
     "text": [
      "FIRE:  103 18:31:27    -2855.773926        0.118929\n"
     ]
    },
    {
     "name": "stderr",
     "output_type": "stream",
     "text": [
      "/home/mehuldarak/anaconda3/envs/mace/lib/python3.13/site-packages/ase/filters.py:606: RuntimeWarning: logm result may be inaccurate, approximate err = 2.667226485195198e-13\n",
      "  pos[natoms:] = self.logm(pos[natoms:]) * self.exp_cell_factor\n"
     ]
    },
    {
     "name": "stdout",
     "output_type": "stream",
     "text": [
      "FIRE:  104 18:31:27    -2855.802917        0.117430\n"
     ]
    },
    {
     "name": "stderr",
     "output_type": "stream",
     "text": [
      "/home/mehuldarak/anaconda3/envs/mace/lib/python3.13/site-packages/ase/filters.py:606: RuntimeWarning: logm result may be inaccurate, approximate err = 2.6352444611967764e-13\n",
      "  pos[natoms:] = self.logm(pos[natoms:]) * self.exp_cell_factor\n"
     ]
    },
    {
     "name": "stdout",
     "output_type": "stream",
     "text": [
      "FIRE:  105 18:31:27    -2855.831337        0.115933\n"
     ]
    },
    {
     "name": "stderr",
     "output_type": "stream",
     "text": [
      "/home/mehuldarak/anaconda3/envs/mace/lib/python3.13/site-packages/ase/filters.py:606: RuntimeWarning: logm result may be inaccurate, approximate err = 2.636229721445239e-13\n",
      "  pos[natoms:] = self.logm(pos[natoms:]) * self.exp_cell_factor\n"
     ]
    },
    {
     "name": "stdout",
     "output_type": "stream",
     "text": [
      "FIRE:  106 18:31:28    -2855.859184        0.114441\n"
     ]
    },
    {
     "name": "stderr",
     "output_type": "stream",
     "text": [
      "/home/mehuldarak/anaconda3/envs/mace/lib/python3.13/site-packages/ase/filters.py:606: RuntimeWarning: logm result may be inaccurate, approximate err = 2.5660591003761006e-13\n",
      "  pos[natoms:] = self.logm(pos[natoms:]) * self.exp_cell_factor\n"
     ]
    },
    {
     "name": "stdout",
     "output_type": "stream",
     "text": [
      "FIRE:  107 18:31:28    -2855.886078        0.112948\n"
     ]
    },
    {
     "name": "stderr",
     "output_type": "stream",
     "text": [
      "/home/mehuldarak/anaconda3/envs/mace/lib/python3.13/site-packages/ase/filters.py:606: RuntimeWarning: logm result may be inaccurate, approximate err = 2.538902151976085e-13\n",
      "  pos[natoms:] = self.logm(pos[natoms:]) * self.exp_cell_factor\n"
     ]
    },
    {
     "name": "stdout",
     "output_type": "stream",
     "text": [
      "FIRE:  108 18:31:29    -2855.912590        0.111461\n"
     ]
    },
    {
     "name": "stderr",
     "output_type": "stream",
     "text": [
      "/home/mehuldarak/anaconda3/envs/mace/lib/python3.13/site-packages/ase/filters.py:606: RuntimeWarning: logm result may be inaccurate, approximate err = 2.565025288584081e-13\n",
      "  pos[natoms:] = self.logm(pos[natoms:]) * self.exp_cell_factor\n"
     ]
    },
    {
     "name": "stdout",
     "output_type": "stream",
     "text": [
      "FIRE:  109 18:31:29    -2855.938911        0.109982\n"
     ]
    },
    {
     "name": "stderr",
     "output_type": "stream",
     "text": [
      "/home/mehuldarak/anaconda3/envs/mace/lib/python3.13/site-packages/ase/filters.py:606: RuntimeWarning: logm result may be inaccurate, approximate err = 2.623878555515573e-13\n",
      "  pos[natoms:] = self.logm(pos[natoms:]) * self.exp_cell_factor\n"
     ]
    },
    {
     "name": "stdout",
     "output_type": "stream",
     "text": [
      "FIRE:  110 18:31:30    -2855.965042        0.108510\n"
     ]
    },
    {
     "name": "stderr",
     "output_type": "stream",
     "text": [
      "/home/mehuldarak/anaconda3/envs/mace/lib/python3.13/site-packages/ase/filters.py:606: RuntimeWarning: logm result may be inaccurate, approximate err = 2.5765071265678796e-13\n",
      "  pos[natoms:] = self.logm(pos[natoms:]) * self.exp_cell_factor\n"
     ]
    },
    {
     "name": "stdout",
     "output_type": "stream",
     "text": [
      "FIRE:  111 18:31:30    -2855.990219        0.107039\n"
     ]
    },
    {
     "name": "stderr",
     "output_type": "stream",
     "text": [
      "/home/mehuldarak/anaconda3/envs/mace/lib/python3.13/site-packages/ase/filters.py:606: RuntimeWarning: logm result may be inaccurate, approximate err = 2.5895944408559963e-13\n",
      "  pos[natoms:] = self.logm(pos[natoms:]) * self.exp_cell_factor\n"
     ]
    },
    {
     "name": "stdout",
     "output_type": "stream",
     "text": [
      "FIRE:  112 18:31:31    -2856.015396        0.105564\n"
     ]
    },
    {
     "name": "stderr",
     "output_type": "stream",
     "text": [
      "/home/mehuldarak/anaconda3/envs/mace/lib/python3.13/site-packages/ase/filters.py:606: RuntimeWarning: logm result may be inaccurate, approximate err = 2.5688702765157055e-13\n",
      "  pos[natoms:] = self.logm(pos[natoms:]) * self.exp_cell_factor\n"
     ]
    },
    {
     "name": "stdout",
     "output_type": "stream",
     "text": [
      "FIRE:  113 18:31:31    -2856.039810        0.104091\n"
     ]
    },
    {
     "name": "stderr",
     "output_type": "stream",
     "text": [
      "/home/mehuldarak/anaconda3/envs/mace/lib/python3.13/site-packages/ase/filters.py:606: RuntimeWarning: logm result may be inaccurate, approximate err = 2.5753418773406324e-13\n",
      "  pos[natoms:] = self.logm(pos[natoms:]) * self.exp_cell_factor\n"
     ]
    },
    {
     "name": "stdout",
     "output_type": "stream",
     "text": [
      "FIRE:  114 18:31:32    -2856.064034        0.102617\n"
     ]
    },
    {
     "name": "stderr",
     "output_type": "stream",
     "text": [
      "/home/mehuldarak/anaconda3/envs/mace/lib/python3.13/site-packages/ase/filters.py:606: RuntimeWarning: logm result may be inaccurate, approximate err = 2.593478590866251e-13\n",
      "  pos[natoms:] = self.logm(pos[natoms:]) * self.exp_cell_factor\n"
     ]
    },
    {
     "name": "stdout",
     "output_type": "stream",
     "text": [
      "FIRE:  115 18:31:32    -2856.087685        0.101138\n"
     ]
    },
    {
     "name": "stderr",
     "output_type": "stream",
     "text": [
      "/home/mehuldarak/anaconda3/envs/mace/lib/python3.13/site-packages/ase/filters.py:606: RuntimeWarning: logm result may be inaccurate, approximate err = 2.6754221517945823e-13\n",
      "  pos[natoms:] = self.logm(pos[natoms:]) * self.exp_cell_factor\n"
     ]
    },
    {
     "name": "stdout",
     "output_type": "stream",
     "text": [
      "FIRE:  116 18:31:32    -2856.110764        0.099659\n"
     ]
    },
    {
     "name": "stderr",
     "output_type": "stream",
     "text": [
      "/home/mehuldarak/anaconda3/envs/mace/lib/python3.13/site-packages/ase/filters.py:606: RuntimeWarning: logm result may be inaccurate, approximate err = 2.586881903742267e-13\n",
      "  pos[natoms:] = self.logm(pos[natoms:]) * self.exp_cell_factor\n"
     ]
    },
    {
     "name": "stdout",
     "output_type": "stream",
     "text": [
      "FIRE:  117 18:31:33    -2856.133652        0.098177\n"
     ]
    },
    {
     "name": "stderr",
     "output_type": "stream",
     "text": [
      "/home/mehuldarak/anaconda3/envs/mace/lib/python3.13/site-packages/ase/filters.py:606: RuntimeWarning: logm result may be inaccurate, approximate err = 2.5995400957895915e-13\n",
      "  pos[natoms:] = self.logm(pos[natoms:]) * self.exp_cell_factor\n"
     ]
    },
    {
     "name": "stdout",
     "output_type": "stream",
     "text": [
      "FIRE:  118 18:31:33    -2856.155968        0.096692\n"
     ]
    },
    {
     "name": "stderr",
     "output_type": "stream",
     "text": [
      "/home/mehuldarak/anaconda3/envs/mace/lib/python3.13/site-packages/ase/filters.py:606: RuntimeWarning: logm result may be inaccurate, approximate err = 2.606369673775801e-13\n",
      "  pos[natoms:] = self.logm(pos[natoms:]) * self.exp_cell_factor\n"
     ]
    },
    {
     "name": "stdout",
     "output_type": "stream",
     "text": [
      "FIRE:  119 18:31:34    -2856.178474        0.095207\n"
     ]
    },
    {
     "name": "stderr",
     "output_type": "stream",
     "text": [
      "/home/mehuldarak/anaconda3/envs/mace/lib/python3.13/site-packages/ase/filters.py:606: RuntimeWarning: logm result may be inaccurate, approximate err = 2.649377853036035e-13\n",
      "  pos[natoms:] = self.logm(pos[natoms:]) * self.exp_cell_factor\n"
     ]
    },
    {
     "name": "stdout",
     "output_type": "stream",
     "text": [
      "FIRE:  120 18:31:34    -2856.199837        0.093709\n"
     ]
    },
    {
     "name": "stderr",
     "output_type": "stream",
     "text": [
      "/home/mehuldarak/anaconda3/envs/mace/lib/python3.13/site-packages/ase/filters.py:606: RuntimeWarning: logm result may be inaccurate, approximate err = 2.546875828687111e-13\n",
      "  pos[natoms:] = self.logm(pos[natoms:]) * self.exp_cell_factor\n"
     ]
    },
    {
     "name": "stdout",
     "output_type": "stream",
     "text": [
      "FIRE:  121 18:31:35    -2856.221199        0.092203\n"
     ]
    },
    {
     "name": "stderr",
     "output_type": "stream",
     "text": [
      "/home/mehuldarak/anaconda3/envs/mace/lib/python3.13/site-packages/ase/filters.py:606: RuntimeWarning: logm result may be inaccurate, approximate err = 2.5799538732900083e-13\n",
      "  pos[natoms:] = self.logm(pos[natoms:]) * self.exp_cell_factor\n"
     ]
    },
    {
     "name": "stdout",
     "output_type": "stream",
     "text": [
      "FIRE:  122 18:31:35    -2856.241989        0.090693\n"
     ]
    },
    {
     "name": "stderr",
     "output_type": "stream",
     "text": [
      "/home/mehuldarak/anaconda3/envs/mace/lib/python3.13/site-packages/ase/filters.py:606: RuntimeWarning: logm result may be inaccurate, approximate err = 2.6250150515072665e-13\n",
      "  pos[natoms:] = self.logm(pos[natoms:]) * self.exp_cell_factor\n"
     ]
    },
    {
     "name": "stdout",
     "output_type": "stream",
     "text": [
      "FIRE:  123 18:31:36    -2856.261826        0.089178\n"
     ]
    },
    {
     "name": "stderr",
     "output_type": "stream",
     "text": [
      "/home/mehuldarak/anaconda3/envs/mace/lib/python3.13/site-packages/ase/filters.py:606: RuntimeWarning: logm result may be inaccurate, approximate err = 2.5391159643674906e-13\n",
      "  pos[natoms:] = self.logm(pos[natoms:]) * self.exp_cell_factor\n"
     ]
    },
    {
     "name": "stdout",
     "output_type": "stream",
     "text": [
      "FIRE:  124 18:31:36    -2856.281281        0.087655\n"
     ]
    },
    {
     "name": "stderr",
     "output_type": "stream",
     "text": [
      "/home/mehuldarak/anaconda3/envs/mace/lib/python3.13/site-packages/ase/filters.py:606: RuntimeWarning: logm result may be inaccurate, approximate err = 2.611199604600086e-13\n",
      "  pos[natoms:] = self.logm(pos[natoms:]) * self.exp_cell_factor\n"
     ]
    },
    {
     "name": "stdout",
     "output_type": "stream",
     "text": [
      "FIRE:  125 18:31:37    -2856.300735        0.086141\n"
     ]
    },
    {
     "name": "stderr",
     "output_type": "stream",
     "text": [
      "/home/mehuldarak/anaconda3/envs/mace/lib/python3.13/site-packages/ase/filters.py:606: RuntimeWarning: logm result may be inaccurate, approximate err = 2.5979419393033274e-13\n",
      "  pos[natoms:] = self.logm(pos[natoms:]) * self.exp_cell_factor\n"
     ]
    },
    {
     "name": "stdout",
     "output_type": "stream",
     "text": [
      "FIRE:  126 18:31:37    -2856.319618        0.084640\n"
     ]
    },
    {
     "name": "stderr",
     "output_type": "stream",
     "text": [
      "/home/mehuldarak/anaconda3/envs/mace/lib/python3.13/site-packages/ase/filters.py:606: RuntimeWarning: logm result may be inaccurate, approximate err = 2.602977586335592e-13\n",
      "  pos[natoms:] = self.logm(pos[natoms:]) * self.exp_cell_factor\n"
     ]
    },
    {
     "name": "stdout",
     "output_type": "stream",
     "text": [
      "FIRE:  127 18:31:38    -2856.338501        0.083153\n"
     ]
    },
    {
     "name": "stderr",
     "output_type": "stream",
     "text": [
      "/home/mehuldarak/anaconda3/envs/mace/lib/python3.13/site-packages/ase/filters.py:606: RuntimeWarning: logm result may be inaccurate, approximate err = 2.619249815559301e-13\n",
      "  pos[natoms:] = self.logm(pos[natoms:]) * self.exp_cell_factor\n"
     ]
    },
    {
     "name": "stdout",
     "output_type": "stream",
     "text": [
      "FIRE:  128 18:31:38    -2856.356239        0.081686\n"
     ]
    },
    {
     "name": "stderr",
     "output_type": "stream",
     "text": [
      "/home/mehuldarak/anaconda3/envs/mace/lib/python3.13/site-packages/ase/filters.py:606: RuntimeWarning: logm result may be inaccurate, approximate err = 2.664497862062816e-13\n",
      "  pos[natoms:] = self.logm(pos[natoms:]) * self.exp_cell_factor\n"
     ]
    },
    {
     "name": "stdout",
     "output_type": "stream",
     "text": [
      "FIRE:  129 18:31:38    -2856.374168        0.080231\n"
     ]
    },
    {
     "name": "stderr",
     "output_type": "stream",
     "text": [
      "/home/mehuldarak/anaconda3/envs/mace/lib/python3.13/site-packages/ase/filters.py:606: RuntimeWarning: logm result may be inaccurate, approximate err = 2.6005954591461054e-13\n",
      "  pos[natoms:] = self.logm(pos[natoms:]) * self.exp_cell_factor\n"
     ]
    },
    {
     "name": "stdout",
     "output_type": "stream",
     "text": [
      "FIRE:  130 18:31:39    -2856.391716        0.078783\n"
     ]
    },
    {
     "name": "stderr",
     "output_type": "stream",
     "text": [
      "/home/mehuldarak/anaconda3/envs/mace/lib/python3.13/site-packages/ase/filters.py:606: RuntimeWarning: logm result may be inaccurate, approximate err = 2.6428930116077454e-13\n",
      "  pos[natoms:] = self.logm(pos[natoms:]) * self.exp_cell_factor\n"
     ]
    },
    {
     "name": "stdout",
     "output_type": "stream",
     "text": [
      "FIRE:  131 18:31:39    -2856.408691        0.077325\n"
     ]
    },
    {
     "name": "stderr",
     "output_type": "stream",
     "text": [
      "/home/mehuldarak/anaconda3/envs/mace/lib/python3.13/site-packages/ase/filters.py:606: RuntimeWarning: logm result may be inaccurate, approximate err = 2.5738377492302926e-13\n",
      "  pos[natoms:] = self.logm(pos[natoms:]) * self.exp_cell_factor\n"
     ]
    },
    {
     "name": "stdout",
     "output_type": "stream",
     "text": [
      "FIRE:  132 18:31:40    -2856.425095        0.075861\n"
     ]
    },
    {
     "name": "stderr",
     "output_type": "stream",
     "text": [
      "/home/mehuldarak/anaconda3/envs/mace/lib/python3.13/site-packages/ase/filters.py:606: RuntimeWarning: logm result may be inaccurate, approximate err = 2.5354223437564146e-13\n",
      "  pos[natoms:] = self.logm(pos[natoms:]) * self.exp_cell_factor\n"
     ]
    },
    {
     "name": "stdout",
     "output_type": "stream",
     "text": [
      "FIRE:  133 18:31:40    -2856.441116        0.074396\n"
     ]
    },
    {
     "name": "stderr",
     "output_type": "stream",
     "text": [
      "/home/mehuldarak/anaconda3/envs/mace/lib/python3.13/site-packages/ase/filters.py:606: RuntimeWarning: logm result may be inaccurate, approximate err = 2.6102981073371473e-13\n",
      "  pos[natoms:] = self.logm(pos[natoms:]) * self.exp_cell_factor\n"
     ]
    },
    {
     "name": "stdout",
     "output_type": "stream",
     "text": [
      "FIRE:  134 18:31:41    -2856.456566        0.072930\n"
     ]
    },
    {
     "name": "stderr",
     "output_type": "stream",
     "text": [
      "/home/mehuldarak/anaconda3/envs/mace/lib/python3.13/site-packages/ase/filters.py:606: RuntimeWarning: logm result may be inaccurate, approximate err = 2.6416526838094145e-13\n",
      "  pos[natoms:] = self.logm(pos[natoms:]) * self.exp_cell_factor\n"
     ]
    },
    {
     "name": "stdout",
     "output_type": "stream",
     "text": [
      "FIRE:  135 18:31:41    -2856.471634        0.071462\n"
     ]
    },
    {
     "name": "stderr",
     "output_type": "stream",
     "text": [
      "/home/mehuldarak/anaconda3/envs/mace/lib/python3.13/site-packages/ase/filters.py:606: RuntimeWarning: logm result may be inaccurate, approximate err = 2.521313498715975e-13\n",
      "  pos[natoms:] = self.logm(pos[natoms:]) * self.exp_cell_factor\n"
     ]
    },
    {
     "name": "stdout",
     "output_type": "stream",
     "text": [
      "FIRE:  136 18:31:41    -2856.486130        0.069993\n"
     ]
    },
    {
     "name": "stderr",
     "output_type": "stream",
     "text": [
      "/home/mehuldarak/anaconda3/envs/mace/lib/python3.13/site-packages/ase/filters.py:606: RuntimeWarning: logm result may be inaccurate, approximate err = 2.571906700923802e-13\n",
      "  pos[natoms:] = self.logm(pos[natoms:]) * self.exp_cell_factor\n"
     ]
    },
    {
     "name": "stdout",
     "output_type": "stream",
     "text": [
      "FIRE:  137 18:31:42    -2856.500435        0.068525\n"
     ]
    },
    {
     "name": "stderr",
     "output_type": "stream",
     "text": [
      "/home/mehuldarak/anaconda3/envs/mace/lib/python3.13/site-packages/ase/filters.py:606: RuntimeWarning: logm result may be inaccurate, approximate err = 2.6016583498237666e-13\n",
      "  pos[natoms:] = self.logm(pos[natoms:]) * self.exp_cell_factor\n"
     ]
    },
    {
     "name": "stdout",
     "output_type": "stream",
     "text": [
      "FIRE:  138 18:31:43    -2856.514740        0.067059\n"
     ]
    },
    {
     "name": "stderr",
     "output_type": "stream",
     "text": [
      "/home/mehuldarak/anaconda3/envs/mace/lib/python3.13/site-packages/ase/filters.py:606: RuntimeWarning: logm result may be inaccurate, approximate err = 2.6753922660765525e-13\n",
      "  pos[natoms:] = self.logm(pos[natoms:]) * self.exp_cell_factor\n"
     ]
    },
    {
     "name": "stdout",
     "output_type": "stream",
     "text": [
      "FIRE:  139 18:31:43    -2856.527519        0.065598\n"
     ]
    },
    {
     "name": "stderr",
     "output_type": "stream",
     "text": [
      "/home/mehuldarak/anaconda3/envs/mace/lib/python3.13/site-packages/ase/filters.py:606: RuntimeWarning: logm result may be inaccurate, approximate err = 2.672332790208127e-13\n",
      "  pos[natoms:] = self.logm(pos[natoms:]) * self.exp_cell_factor\n"
     ]
    },
    {
     "name": "stdout",
     "output_type": "stream",
     "text": [
      "FIRE:  140 18:31:43    -2856.540680        0.064147\n"
     ]
    },
    {
     "name": "stderr",
     "output_type": "stream",
     "text": [
      "/home/mehuldarak/anaconda3/envs/mace/lib/python3.13/site-packages/ase/filters.py:606: RuntimeWarning: logm result may be inaccurate, approximate err = 2.6302264770207634e-13\n",
      "  pos[natoms:] = self.logm(pos[natoms:]) * self.exp_cell_factor\n"
     ]
    },
    {
     "name": "stdout",
     "output_type": "stream",
     "text": [
      "FIRE:  141 18:31:44    -2856.553459        0.062706\n"
     ]
    },
    {
     "name": "stderr",
     "output_type": "stream",
     "text": [
      "/home/mehuldarak/anaconda3/envs/mace/lib/python3.13/site-packages/ase/filters.py:606: RuntimeWarning: logm result may be inaccurate, approximate err = 2.623898110239568e-13\n",
      "  pos[natoms:] = self.logm(pos[natoms:]) * self.exp_cell_factor\n"
     ]
    },
    {
     "name": "stdout",
     "output_type": "stream",
     "text": [
      "FIRE:  142 18:31:44    -2856.565475        0.061274\n"
     ]
    },
    {
     "name": "stderr",
     "output_type": "stream",
     "text": [
      "/home/mehuldarak/anaconda3/envs/mace/lib/python3.13/site-packages/ase/filters.py:606: RuntimeWarning: logm result may be inaccurate, approximate err = 2.7192862582947646e-13\n",
      "  pos[natoms:] = self.logm(pos[natoms:]) * self.exp_cell_factor\n"
     ]
    },
    {
     "name": "stdout",
     "output_type": "stream",
     "text": [
      "FIRE:  143 18:31:45    -2856.577873        0.059843\n"
     ]
    },
    {
     "name": "stderr",
     "output_type": "stream",
     "text": [
      "/home/mehuldarak/anaconda3/envs/mace/lib/python3.13/site-packages/ase/filters.py:606: RuntimeWarning: logm result may be inaccurate, approximate err = 2.7358527706699303e-13\n",
      "  pos[natoms:] = self.logm(pos[natoms:]) * self.exp_cell_factor\n"
     ]
    },
    {
     "name": "stdout",
     "output_type": "stream",
     "text": [
      "FIRE:  144 18:31:45    -2856.588745        0.058403\n"
     ]
    },
    {
     "name": "stderr",
     "output_type": "stream",
     "text": [
      "/home/mehuldarak/anaconda3/envs/mace/lib/python3.13/site-packages/ase/filters.py:606: RuntimeWarning: logm result may be inaccurate, approximate err = 2.693529842864272e-13\n",
      "  pos[natoms:] = self.logm(pos[natoms:]) * self.exp_cell_factor\n"
     ]
    },
    {
     "name": "stdout",
     "output_type": "stream",
     "text": [
      "FIRE:  145 18:31:46    -2856.599998        0.056951\n"
     ]
    },
    {
     "name": "stderr",
     "output_type": "stream",
     "text": [
      "/home/mehuldarak/anaconda3/envs/mace/lib/python3.13/site-packages/ase/filters.py:606: RuntimeWarning: logm result may be inaccurate, approximate err = 2.690731241787645e-13\n",
      "  pos[natoms:] = self.logm(pos[natoms:]) * self.exp_cell_factor\n"
     ]
    },
    {
     "name": "stdout",
     "output_type": "stream",
     "text": [
      "FIRE:  146 18:31:46    -2856.610298        0.055487\n"
     ]
    },
    {
     "name": "stderr",
     "output_type": "stream",
     "text": [
      "/home/mehuldarak/anaconda3/envs/mace/lib/python3.13/site-packages/ase/filters.py:606: RuntimeWarning: logm result may be inaccurate, approximate err = 2.692425594329669e-13\n",
      "  pos[natoms:] = self.logm(pos[natoms:]) * self.exp_cell_factor\n"
     ]
    },
    {
     "name": "stdout",
     "output_type": "stream",
     "text": [
      "FIRE:  147 18:31:47    -2856.620407        0.054020\n"
     ]
    },
    {
     "name": "stderr",
     "output_type": "stream",
     "text": [
      "/home/mehuldarak/anaconda3/envs/mace/lib/python3.13/site-packages/ase/filters.py:606: RuntimeWarning: logm result may be inaccurate, approximate err = 2.641508671929652e-13\n",
      "  pos[natoms:] = self.logm(pos[natoms:]) * self.exp_cell_factor\n"
     ]
    },
    {
     "name": "stdout",
     "output_type": "stream",
     "text": [
      "FIRE:  148 18:31:47    -2856.630707        0.052548\n"
     ]
    },
    {
     "name": "stderr",
     "output_type": "stream",
     "text": [
      "/home/mehuldarak/anaconda3/envs/mace/lib/python3.13/site-packages/ase/filters.py:606: RuntimeWarning: logm result may be inaccurate, approximate err = 2.60128690817374e-13\n",
      "  pos[natoms:] = self.logm(pos[natoms:]) * self.exp_cell_factor\n"
     ]
    },
    {
     "name": "stdout",
     "output_type": "stream",
     "text": [
      "FIRE:  149 18:31:47    -2856.640053        0.051076\n"
     ]
    },
    {
     "name": "stderr",
     "output_type": "stream",
     "text": [
      "/home/mehuldarak/anaconda3/envs/mace/lib/python3.13/site-packages/ase/filters.py:606: RuntimeWarning: logm result may be inaccurate, approximate err = 2.5819901047856636e-13\n",
      "  pos[natoms:] = self.logm(pos[natoms:]) * self.exp_cell_factor\n"
     ]
    },
    {
     "name": "stdout",
     "output_type": "stream",
     "text": [
      "FIRE:  150 18:31:48    -2856.649208        0.049615\n"
     ]
    }
   ],
   "source": [
    "# Convert back, assign calculator + constraint\n",
    "structure_1 = AseAtomsAdaptor.get_atoms(result[\"final_structure\"])\n",
    "structure_1.set_calculator(calc)\n",
    "structure_1.set_constraint(FixAtoms(mask=freeze_mask))\n",
    "\n",
    "# Stage 2: FIRE\n",
    "opt2 = StructOptimizer(model=calc, optimizer_class=\"FIRE\", use_device=\"cuda\")\n",
    "result2 = opt2.relax(structure_1, fmax=0.05, steps=400, relax_cell=True, verbose=True)"
   ]
  },
  {
   "cell_type": "code",
   "execution_count": null,
   "id": "aaac346d",
   "metadata": {},
   "outputs": [
    {
     "name": "stdout",
     "output_type": "stream",
     "text": [
      "✅ Relaxed structure saved to: /home/mehuldarak/summer/relax_final/cellrelaxed_LLZO_010_Li_order0_off__Li_110_slab_heavy.cif\n"
     ]
    },
    {
     "name": "stderr",
     "output_type": "stream",
     "text": [
      "/home/mehuldarak/anaconda3/envs/mace/lib/python3.13/site-packages/pymatgen/io/cif.py:1724: FutureWarning: We strongly discourage using implicit binary/text `mode`, and this would not be allowed after 2025-06-01. I.e. you should pass t/b in `mode`.\n",
      "  with zopen(filename, mode=mode) as file:\n"
     ]
    },
    {
     "ename": "",
     "evalue": "",
     "output_type": "error",
     "traceback": [
      "\u001b[1;31mThe Kernel crashed while executing code in the current cell or a previous cell. \n",
      "\u001b[1;31mPlease review the code in the cell(s) to identify a possible cause of the failure. \n",
      "\u001b[1;31mClick <a href='https://aka.ms/vscodeJupyterKernelCrash'>here</a> for more info. \n",
      "\u001b[1;31mView Jupyter <a href='command:jupyter.viewOutput'>log</a> for further details."
     ]
    }
   ],
   "source": [
    "# Save relaxed structure\n",
    "relaxed_structure = result[\"final_structure\"]\n",
    "relaxed_structure.to(filename=output_path)\n",
    "\n",
    "print(f\"✅ Relaxed structure saved to: {output_path}\")"
   ]
  }
 ],
 "metadata": {
  "kernelspec": {
   "display_name": "mace",
   "language": "python",
   "name": "python3"
  },
  "language_info": {
   "codemirror_mode": {
    "name": "ipython",
    "version": 3
   },
   "file_extension": ".py",
   "mimetype": "text/x-python",
   "name": "python",
   "nbconvert_exporter": "python",
   "pygments_lexer": "ipython3",
   "version": "3.13.5"
  }
 },
 "nbformat": 4,
 "nbformat_minor": 5
}
