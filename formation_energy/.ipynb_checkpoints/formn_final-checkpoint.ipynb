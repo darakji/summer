{
 "cells": [
  {
   "cell_type": "code",
   "execution_count": 1,
   "id": "b61e904d",
   "metadata": {},
   "outputs": [
    {
     "name": "stderr",
     "output_type": "stream",
     "text": [
      "/home/mehuldarak/anaconda3/envs/mace/lib/python3.13/site-packages/tqdm/auto.py:21: TqdmWarning: IProgress not found. Please update jupyter and ipywidgets. See https://ipywidgets.readthedocs.io/en/stable/user_install.html\n",
      "  from .autonotebook import tqdm as notebook_tqdm\n",
      "/tmp/ipykernel_1681958/3682464946.py:10: DeprecationWarning: Accessing summary data through MPRester.summary is deprecated. Please use MPRester.materials.summary instead.\n",
      "  summaries = mpr.summary.search(material_ids=mp_ids)\n",
      "Retrieving SummaryDoc documents: 100%|██████████| 5/5 [00:00<00:00, 38550.59it/s]"
     ]
    },
    {
     "name": "stdout",
     "output_type": "stream",
     "text": [
      "mp-841       Li2O2                Formation Energy (eV/atom): -1.650170\n",
      "mp-1960      Li2O                 Formation Energy (eV/atom): -2.061598\n",
      "mp-942733    Li7La3Zr2O12         Formation Energy (eV/atom): -3.124117\n",
      "mp-2858      ZrO2                 Formation Energy (eV/atom): -3.813618\n",
      "mp-1968      La2O3                Formation Energy (eV/atom): -3.875929\n"
     ]
    },
    {
     "name": "stderr",
     "output_type": "stream",
     "text": [
      "\n"
     ]
    }
   ],
   "source": [
    "from pymatgen.ext.matproj import MPRester\n",
    "\n",
    "API_KEY = \"Yoa1b2uiwwxd5fpoSFS9aaTg7qSuvnF1\"  # Replace with your real key\n",
    "mpr = MPRester(API_KEY)\n",
    "\n",
    "# List of MP material IDs\n",
    "mp_ids = [\"mp-1960\", \"mp-841\", \"mp-942733\", \"mp-2858\", \"mp-1968\"]\n",
    "\n",
    "# Query summaries\n",
    "summaries = mpr.summary.search(material_ids=mp_ids)\n",
    "\n",
    "# Print formation energies per atom\n",
    "for s in summaries:\n",
    "    print(f\"{s.material_id:<12} {s.formula_pretty:<20} Formation Energy (eV/atom): {s.formation_energy_per_atom:.6f}\")\n"
   ]
  },
  {
   "cell_type": "code",
   "execution_count": 11,
   "id": "4540e2c4",
   "metadata": {},
   "outputs": [
    {
     "name": "stdout",
     "output_type": "stream",
     "text": [
      "CHGNet v0.3.0 initialized with 412,525 parameters\n",
      "CHGNet will run on cuda\n",
      "Li2O2          :  E_form (CHGNet) = -1.627611 eV/atom\n",
      "Li2O           :  E_form (CHGNet) = -2.034650 eV/atom\n",
      "Li7La3Zr2O12   :  E_form (CHGNet) = -3.121807 eV/atom\n",
      "ZrO2           :  E_form (CHGNet) = -3.813102 eV/atom\n",
      "La2O3          :  E_form (CHGNet) = -3.871564 eV/atom\n"
     ]
    },
    {
     "name": "stderr",
     "output_type": "stream",
     "text": [
      "/home/mehuldarak/anaconda3/envs/mace/lib/python3.13/site-packages/pymatgen/io/cif.py:1290: UserWarning: Issues encountered while parsing CIF: 8 fractional coordinates rounded to ideal values to avoid issues with finite precision.\n",
      "  warnings.warn(\"Issues encountered while parsing CIF: \" + \"\\n\".join(self.warnings))\n"
     ]
    }
   ],
   "source": [
    "import os\n",
    "from pymatgen.core import Structure\n",
    "from chgnet.model import CHGNet\n",
    "\n",
    "# ---- 1. CHGNet model -------------------------------------------------\n",
    "model = CHGNet.load()   # e_pred is eV/atom !\n",
    "\n",
    "# ---- 2. elemental chemical potentials (CHGNet column) ----------------\n",
    "mu = {\"Li\": -1.882, \"La\": -4.894, \"Zr\": -8.509, \"O\": -4.913}\n",
    "\n",
    "# ---- 3. CIFs ----------------------------------------------------------\n",
    "cif_dir = \"./cifs\"\n",
    "files = {\n",
    "    \"mp-841.cif\": \"Li2O2\",\n",
    "    \"mp-1960.cif\": \"Li2O\",\n",
    "    \"mp-942733.cif\": \"Li7La3Zr2O12\",\n",
    "    \"mp-2858.cif\": \"ZrO2\",\n",
    "    \"mp-1968.cif\": \"La2O3\",\n",
    "}\n",
    "\n",
    "for fname, label in files.items():\n",
    "    struct = Structure.from_file(os.path.join(cif_dir, fname))\n",
    "    n_atoms = struct.composition.num_atoms\n",
    "    \n",
    "    # ------- CHGNet prediction (already per atom) ----------------------\n",
    "    e_pred_atom = model.predict_structure(struct)[\"e\"]\n",
    "    \n",
    "    # ------- reference energy per atom ---------------------------------\n",
    "    ref_per_atom = sum(struct.composition[el] * mu[str(el)] for el in struct.elements) / n_atoms\n",
    "    \n",
    "    # ------- formation energy per atom ---------------------------------\n",
    "    e_form = e_pred_atom - ref_per_atom\n",
    "    \n",
    "    print(f\"{label:15s}:  E_form (CHGNet) = {e_form: .6f} eV/atom\")\n"
   ]
  },
  {
   "cell_type": "code",
   "execution_count": 12,
   "id": "359bfe56",
   "metadata": {},
   "outputs": [
    {
     "name": "stderr",
     "output_type": "stream",
     "text": [
      "/home/mehuldarak/anaconda3/envs/mace/lib/python3.13/site-packages/e3nn/o3/_wigner.py:10: FutureWarning: You are using `torch.load` with `weights_only=False` (the current default value), which uses the default pickle module implicitly. It is possible to construct malicious pickle data which will execute arbitrary code during unpickling (See https://github.com/pytorch/pytorch/blob/main/SECURITY.md#untrusted-models for more details). In a future release, the default value for `weights_only` will be flipped to `True`. This limits the functions that could be executed during unpickling. Arbitrary objects will no longer be allowed to be loaded via this mode unless they are explicitly allowlisted by the user via `torch.serialization.add_safe_globals`. We recommend you start setting `weights_only=True` for any use case where you don't have full control of the loaded file. Please open an issue on GitHub for any issues related to this experimental feature.\n",
      "  _Jd, _W3j_flat, _W3j_indices = torch.load(os.path.join(os.path.dirname(__file__), 'constants.pt'))\n"
     ]
    },
    {
     "name": "stdout",
     "output_type": "stream",
     "text": [
      "cuequivariance or cuequivariance_torch is not available. Cuequivariance acceleration will be disabled.\n"
     ]
    },
    {
     "name": "stderr",
     "output_type": "stream",
     "text": [
      "/home/mehuldarak/anaconda3/envs/mace/lib/python3.13/site-packages/mace/calculators/mace.py:143: FutureWarning: You are using `torch.load` with `weights_only=False` (the current default value), which uses the default pickle module implicitly. It is possible to construct malicious pickle data which will execute arbitrary code during unpickling (See https://github.com/pytorch/pytorch/blob/main/SECURITY.md#untrusted-models for more details). In a future release, the default value for `weights_only` will be flipped to `True`. This limits the functions that could be executed during unpickling. Arbitrary objects will no longer be allowed to be loaded via this mode unless they are explicitly allowlisted by the user via `torch.serialization.add_safe_globals`. We recommend you start setting `weights_only=True` for any use case where you don't have full control of the loaded file. Please open an issue on GitHub for any issues related to this experimental feature.\n",
      "  torch.load(f=model_path, map_location=device)\n",
      "/home/mehuldarak/anaconda3/envs/mace/lib/python3.13/site-packages/pymatgen/io/cif.py:1290: UserWarning: Issues encountered while parsing CIF: 12 fractional coordinates rounded to ideal values to avoid issues with finite precision.\n",
      "  warnings.warn(\"Issues encountered while parsing CIF: \" + \"\\n\".join(self.warnings))\n"
     ]
    },
    {
     "name": "stdout",
     "output_type": "stream",
     "text": [
      "Using head Default out of ['Default']\n",
      "No dtype selected, switching to float64 to match model dtype.\n",
      "Li2O2          :  E_form (MACE) = -1.351434 eV/atom\n",
      "Li2O           :  E_form (MACE) = -1.854707 eV/atom\n",
      "Li7La3Zr2O12   :  E_form (MACE) = -2.825235 eV/atom\n",
      "ZrO2           :  E_form (MACE) = -3.395213 eV/atom\n"
     ]
    },
    {
     "name": "stderr",
     "output_type": "stream",
     "text": [
      "/home/mehuldarak/anaconda3/envs/mace/lib/python3.13/site-packages/pymatgen/io/cif.py:1290: UserWarning: Issues encountered while parsing CIF: 8 fractional coordinates rounded to ideal values to avoid issues with finite precision.\n",
      "  warnings.warn(\"Issues encountered while parsing CIF: \" + \"\\n\".join(self.warnings))\n"
     ]
    },
    {
     "name": "stdout",
     "output_type": "stream",
     "text": [
      "La2O3          :  E_form (MACE) = -3.504901 eV/atom\n"
     ]
    }
   ],
   "source": [
    "import os\n",
    "import torch\n",
    "from pymatgen.core import Structure\n",
    "from ase import Atoms\n",
    "from pymatgen.io.ase import AseAtomsAdaptor\n",
    "from mace.calculators import MACECalculator\n",
    "\n",
    "# ---- 1. Load the MACE model -------------------------------------------\n",
    "model_path = \"2024-07-12-mace-128-L1_epoch-199.model\"\n",
    "calculator = MACECalculator(model_paths=model_path, device='cuda')\n",
    "\n",
    "# ---- 2. Reference μ_model from MACE -----------------------------------\n",
    "mu_mace = {\n",
    "    \"Li\": -1.884929,\n",
    "    \"La\": -4.898304,\n",
    "    \"Zr\": -8.523547,\n",
    "    \"O\":  -4.850042,\n",
    "}\n",
    "\n",
    "# ---- 3. CIF files ------------------------------------------------------\n",
    "cif_dir = \"./cifs\"\n",
    "compounds = {\n",
    "    \"mp-841.cif\": \"Li2O2\",\n",
    "    \"mp-1960.cif\": \"Li2O\",\n",
    "    \"mp-942733.cif\": \"Li7La3Zr2O12\",\n",
    "    \"mp-2858.cif\": \"ZrO2\",\n",
    "    \"mp-1968.cif\": \"La2O3\",\n",
    "}\n",
    "\n",
    "# ---- 4. Predict formation energy per atom -----------------------------\n",
    "for fname, label in compounds.items():\n",
    "    struct = Structure.from_file(os.path.join(cif_dir, fname))\n",
    "    comp = struct.composition\n",
    "    n_atoms = comp.num_atoms\n",
    "\n",
    "    # Convert to ASE\n",
    "    ase_atoms = AseAtomsAdaptor.get_atoms(struct)\n",
    "\n",
    "    # Assign calculator and predict energy\n",
    "    ase_atoms.calc = calculator\n",
    "    energy_total = ase_atoms.get_potential_energy()  # eV (total)\n",
    "\n",
    "    # Reference energy from MACE chemical potentials\n",
    "    ref_total = sum(comp[el] * mu_mace[str(el)] for el in comp.elements)\n",
    "\n",
    "    # Formation energy per atom\n",
    "    e_form = (energy_total - ref_total) / n_atoms\n",
    "\n",
    "    print(f\"{label:15s}:  E_form (MACE) = {e_form: .6f} eV/atom\")\n"
   ]
  },
  {
   "cell_type": "code",
   "execution_count": 14,
   "id": "ede74fe5",
   "metadata": {},
   "outputs": [
    {
     "name": "stdout",
     "output_type": "stream",
     "text": [
      "       Compound  E_form_MP  E_form_CHGNet  E_form_MACE  CHGNet_Error  \\\n",
      "0         Li2O2   -1.65017        -1.6276      -1.3514       0.02257   \n",
      "1          Li2O   -2.06160        -2.0347      -1.8547       0.02690   \n",
      "2  Li7La3Zr2O12   -3.12412        -3.1218      -2.8252       0.00232   \n",
      "3          ZrO2   -3.81362        -3.8131      -3.3952       0.00052   \n",
      "4         La2O3   -3.87593        -3.8716      -3.5049       0.00433   \n",
      "\n",
      "   MACE_Error  \n",
      "0     0.29877  \n",
      "1     0.20690  \n",
      "2     0.29892  \n",
      "3     0.41842  \n",
      "4     0.37103  \n"
     ]
    }
   ],
   "source": [
    "import pandas as pd\n",
    "\n",
    "# Energies\n",
    "data = {\n",
    "    \"Compound\": [\"Li2O2\", \"Li2O\", \"Li7La3Zr2O12\", \"ZrO2\", \"La2O3\"],\n",
    "    \"E_form_MP\":     [-1.65017, -2.06160, -3.12412, -3.81362, -3.87593],\n",
    "    \"E_form_CHGNet\": [-1.6276,  -2.0347,  -3.1218,  -3.8131,  -3.8716],\n",
    "    \"E_form_MACE\":   [-1.3514,  -1.8547,  -2.8252,  -3.3952,  -3.5049],\n",
    "}\n",
    "\n",
    "df = pd.DataFrame(data)\n",
    "\n",
    "# Errors\n",
    "df[\"CHGNet_Error\"] = df[\"E_form_CHGNet\"] - df[\"E_form_MP\"]\n",
    "df[\"MACE_Error\"] = df[\"E_form_MACE\"] - df[\"E_form_MP\"]\n",
    "\n",
    "# Save to Excel\n",
    "df.to_excel(\"final_formation_energy_with_errors.xlsx\", index=False)\n",
    "\n",
    "# Print to confirm\n",
    "print(df)\n"
   ]
  },
  {
   "cell_type": "markdown",
   "id": "61f78ab1",
   "metadata": {},
   "source": [
    "## Multiple MACE models comparision\n",
    "We first go with MACE-MP-0a\tmedium.\n",
    "1. Chemical potentials predictions using cif files ->"
   ]
  },
  {
   "cell_type": "code",
   "execution_count": null,
   "id": "31e7b2cc",
   "metadata": {},
   "outputs": [
    {
     "name": "stderr",
     "output_type": "stream",
     "text": [
      "/home/mehuldarak/anaconda3/envs/mace/lib/python3.13/site-packages/mace/calculators/mace.py:143: FutureWarning: You are using `torch.load` with `weights_only=False` (the current default value), which uses the default pickle module implicitly. It is possible to construct malicious pickle data which will execute arbitrary code during unpickling (See https://github.com/pytorch/pytorch/blob/main/SECURITY.md#untrusted-models for more details). In a future release, the default value for `weights_only` will be flipped to `True`. This limits the functions that could be executed during unpickling. Arbitrary objects will no longer be allowed to be loaded via this mode unless they are explicitly allowlisted by the user via `torch.serialization.add_safe_globals`. We recommend you start setting `weights_only=True` for any use case where you don't have full control of the loaded file. Please open an issue on GitHub for any issues related to this experimental feature.\n",
      "  torch.load(f=model_path, map_location=device)\n",
      "/home/mehuldarak/anaconda3/envs/mace/lib/python3.13/site-packages/pymatgen/io/cif.py:1290: UserWarning: Issues encountered while parsing CIF: 4 fractional coordinates rounded to ideal values to avoid issues with finite precision.\n",
      "  warnings.warn(\"Issues encountered while parsing CIF: \" + \"\\n\".join(self.warnings))\n"
     ]
    },
    {
     "name": "stdout",
     "output_type": "stream",
     "text": [
      "Using head Default out of ['Default']\n",
      "No dtype selected, switching to float64 to match model dtype.\n",
      "Li: μ_model = -1.905607 eV/atom\n",
      "La: μ_model = -4.902058 eV/atom\n",
      "Zr: μ_model = -8.530130 eV/atom\n",
      "O: μ_model = -4.925096 eV/atom\n"
     ]
    }
   ],
   "source": [
    "from mace.calculators import MACECalculator\n",
    "mace_calc = MACECalculator(model_paths=[\"/home/mehuldarak/MACE_models/universal_09072025/2023-12-03-mace-128-L1_epoch-199.model\"], device=\"cuda\")  # or \"cpu\"\n",
    "from pymatgen.io.ase import AseAtomsAdaptor\n",
    "from pymatgen.core import Structure\n",
    "adaptor = AseAtomsAdaptor()\n",
    "\n",
    "pmg_structure = Structure.from_file(\"Li.cif\") \n",
    "ase_atoms = adaptor.get_atoms(pmg_structure)\n",
    "ase_atoms.calc = mace_calc\n",
    "total_energy = ase_atoms.get_potential_energy()\n",
    "mu_model_Li = total_energy / len(ase_atoms)\n",
    "print(f\"Li: μ_model = {mu_model_Li:.6f} eV/atom\")\n",
    "# Let us do this for La, Zr, and O as well\n",
    "pmg_structure = Structure.from_file(\"La.cif\")\n",
    "ase_atoms = adaptor.get_atoms(pmg_structure)\n",
    "ase_atoms.calc = mace_calc\n",
    "total_energy = ase_atoms.get_potential_energy()\n",
    "mu_model_La = total_energy / len(ase_atoms)\n",
    "print(f\"La: μ_model = {mu_model_La:.6f} eV/atom\")\n",
    "pmg_structure = Structure.from_file(\"Zr.cif\")\n",
    "ase_atoms = adaptor.get_atoms(pmg_structure)\n",
    "ase_atoms.calc = mace_calc\n",
    "total_energy = ase_atoms.get_potential_energy()\n",
    "mu_model_Zr = total_energy / len(ase_atoms)\n",
    "print(f\"Zr: μ_model = {mu_model_Zr:.6f} eV/atom\")\n",
    "pmg_structure = Structure.from_file(\"O2.cif\")  # Needs to be a periodic solid O2 structure\n",
    "ase_atoms = adaptor.get_atoms(pmg_structure)\n",
    "ase_atoms.calc = mace_calc\n",
    "total_energy = ase_atoms.get_potential_energy()\n",
    "mu_model_O = total_energy / len(ase_atoms)\n",
    "print(f\"O: μ_model = {mu_model_O:.6f} eV/atom\")"
   ]
  },
  {
   "cell_type": "markdown",
   "id": "e354a1dc",
   "metadata": {},
   "source": [
    "Now we predict the formation energies"
   ]
  },
  {
   "cell_type": "code",
   "execution_count": 11,
   "id": "7313c08b",
   "metadata": {},
   "outputs": [
    {
     "name": "stderr",
     "output_type": "stream",
     "text": [
      "/home/mehuldarak/anaconda3/envs/mace/lib/python3.13/site-packages/mace/calculators/mace.py:143: FutureWarning: You are using `torch.load` with `weights_only=False` (the current default value), which uses the default pickle module implicitly. It is possible to construct malicious pickle data which will execute arbitrary code during unpickling (See https://github.com/pytorch/pytorch/blob/main/SECURITY.md#untrusted-models for more details). In a future release, the default value for `weights_only` will be flipped to `True`. This limits the functions that could be executed during unpickling. Arbitrary objects will no longer be allowed to be loaded via this mode unless they are explicitly allowlisted by the user via `torch.serialization.add_safe_globals`. We recommend you start setting `weights_only=True` for any use case where you don't have full control of the loaded file. Please open an issue on GitHub for any issues related to this experimental feature.\n",
      "  torch.load(f=model_path, map_location=device)\n",
      "/home/mehuldarak/anaconda3/envs/mace/lib/python3.13/site-packages/pymatgen/io/cif.py:1290: UserWarning: Issues encountered while parsing CIF: 12 fractional coordinates rounded to ideal values to avoid issues with finite precision.\n",
      "  warnings.warn(\"Issues encountered while parsing CIF: \" + \"\\n\".join(self.warnings))\n"
     ]
    },
    {
     "name": "stdout",
     "output_type": "stream",
     "text": [
      "Using head Default out of ['Default']\n",
      "No dtype selected, switching to float64 to match model dtype.\n",
      "Li2O2          :  E_form (MACE-MP-0a-medium) = -1.366339 eV/atom\n",
      "Li2O           :  E_form (MACE-MP-0a-medium) = -1.832991 eV/atom\n",
      "Li7La3Zr2O12   :  E_form (MACE-MP-0a-medium) = -2.791143 eV/atom\n",
      "ZrO2           :  E_form (MACE-MP-0a-medium) = -3.354554 eV/atom\n",
      "La2O3          :  E_form (MACE-MP-0a-medium) = -3.467417 eV/atom\n"
     ]
    },
    {
     "name": "stderr",
     "output_type": "stream",
     "text": [
      "/home/mehuldarak/anaconda3/envs/mace/lib/python3.13/site-packages/pymatgen/io/cif.py:1290: UserWarning: Issues encountered while parsing CIF: 8 fractional coordinates rounded to ideal values to avoid issues with finite precision.\n",
      "  warnings.warn(\"Issues encountered while parsing CIF: \" + \"\\n\".join(self.warnings))\n"
     ]
    }
   ],
   "source": [
    "import os\n",
    "import torch\n",
    "from pymatgen.core import Structure\n",
    "from ase import Atoms\n",
    "from pymatgen.io.ase import AseAtomsAdaptor\n",
    "from mace.calculators import MACECalculator\n",
    "\n",
    "# ---- 1. Load the MACE model -------------------------------------------\n",
    "calculator = MACECalculator(model_paths=[\"/home/mehuldarak/MACE_models/universal_09072025/2023-12-03-mace-128-L1_epoch-199.model\"], device=\"cuda\")  # or \"cpu\"\n",
    "\n",
    "# ---- 2. Reference μ_model from MACE -----------------------------------\n",
    "mu_mace = {\n",
    "    \"Li\": -1.905607,\n",
    "    \"La\": -4.902058,\n",
    "    \"Zr\": -8.530130,\n",
    "    \"O\":  -4.925096 ,\n",
    "}\n",
    "\n",
    "# ---- 3. CIF files ------------------------------------------------------\n",
    "cif_dir = \"./cifs\"\n",
    "compounds = {\n",
    "    \"mp-841.cif\": \"Li2O2\",\n",
    "    \"mp-1960.cif\": \"Li2O\",\n",
    "    \"mp-942733.cif\": \"Li7La3Zr2O12\",\n",
    "    \"mp-2858.cif\": \"ZrO2\",\n",
    "    \"mp-1968.cif\": \"La2O3\",\n",
    "}\n",
    "\n",
    "# ---- 4. Predict formation energy per atom -----------------------------\n",
    "for fname, label in compounds.items():\n",
    "    struct = Structure.from_file(os.path.join(cif_dir, fname))\n",
    "    comp = struct.composition\n",
    "    n_atoms = comp.num_atoms\n",
    "\n",
    "    # Convert to ASE\n",
    "    ase_atoms = AseAtomsAdaptor.get_atoms(struct)\n",
    "\n",
    "    # Assign calculator and predict energy\n",
    "    ase_atoms.calc = calculator\n",
    "    energy_total = ase_atoms.get_potential_energy()  # eV (total)\n",
    "\n",
    "    # Reference energy from MACE chemical potentials\n",
    "    ref_total = sum(comp[el] * mu_mace[str(el)] for el in comp.elements)\n",
    "\n",
    "    # Formation energy per atom\n",
    "    e_form = (energy_total - ref_total) / n_atoms\n",
    "\n",
    "    print(f\"{label:15s}:  E_form (MACE-MP-0a-medium) = {e_form: .6f} eV/atom\")"
   ]
  },
  {
   "cell_type": "markdown",
   "id": "a16c8f6b",
   "metadata": {},
   "source": [
    "## MACE-MP-0a Small\n",
    "1. Chemical potentials  "
   ]
  },
  {
   "cell_type": "code",
   "execution_count": 12,
   "id": "46d94957",
   "metadata": {},
   "outputs": [
    {
     "name": "stderr",
     "output_type": "stream",
     "text": [
      "/home/mehuldarak/anaconda3/envs/mace/lib/python3.13/site-packages/mace/calculators/mace.py:143: FutureWarning: You are using `torch.load` with `weights_only=False` (the current default value), which uses the default pickle module implicitly. It is possible to construct malicious pickle data which will execute arbitrary code during unpickling (See https://github.com/pytorch/pytorch/blob/main/SECURITY.md#untrusted-models for more details). In a future release, the default value for `weights_only` will be flipped to `True`. This limits the functions that could be executed during unpickling. Arbitrary objects will no longer be allowed to be loaded via this mode unless they are explicitly allowlisted by the user via `torch.serialization.add_safe_globals`. We recommend you start setting `weights_only=True` for any use case where you don't have full control of the loaded file. Please open an issue on GitHub for any issues related to this experimental feature.\n",
      "  torch.load(f=model_path, map_location=device)\n",
      "/home/mehuldarak/anaconda3/envs/mace/lib/python3.13/site-packages/pymatgen/io/cif.py:1290: UserWarning: Issues encountered while parsing CIF: 4 fractional coordinates rounded to ideal values to avoid issues with finite precision.\n",
      "  warnings.warn(\"Issues encountered while parsing CIF: \" + \"\\n\".join(self.warnings))\n"
     ]
    },
    {
     "name": "stdout",
     "output_type": "stream",
     "text": [
      "Using head Default out of ['Default']\n",
      "No dtype selected, switching to float64 to match model dtype.\n",
      "Li: μ_model = -1.905902 eV/atom\n",
      "La: μ_model = -4.919243 eV/atom\n",
      "Zr: μ_model = -8.594373 eV/atom\n",
      "O: μ_model = -4.930625 eV/atom\n"
     ]
    }
   ],
   "source": [
    "from mace.calculators import MACECalculator\n",
    "mace_calc = MACECalculator(model_paths=[\"/home/mehuldarak/MACE_models/universal_09072025/2023-12-10-mace-128-L0_energy_epoch-249.model\"], device=\"cuda\")  # or \"cpu\"\n",
    "from pymatgen.io.ase import AseAtomsAdaptor\n",
    "from pymatgen.core import Structure\n",
    "adaptor = AseAtomsAdaptor()\n",
    "\n",
    "pmg_structure = Structure.from_file(\"Li.cif\")  # e.g. for Li\n",
    "ase_atoms = adaptor.get_atoms(pmg_structure)\n",
    "ase_atoms.calc = mace_calc\n",
    "total_energy = ase_atoms.get_potential_energy()\n",
    "mu_model_Li = total_energy / len(ase_atoms)\n",
    "print(f\"Li: μ_model = {mu_model_Li:.6f} eV/atom\")\n",
    "# Let us do this for La, Zr, and O as well\n",
    "pmg_structure = Structure.from_file(\"La.cif\")\n",
    "ase_atoms = adaptor.get_atoms(pmg_structure)\n",
    "ase_atoms.calc = mace_calc\n",
    "total_energy = ase_atoms.get_potential_energy()\n",
    "mu_model_La = total_energy / len(ase_atoms)\n",
    "print(f\"La: μ_model = {mu_model_La:.6f} eV/atom\")\n",
    "pmg_structure = Structure.from_file(\"Zr.cif\")\n",
    "ase_atoms = adaptor.get_atoms(pmg_structure)\n",
    "ase_atoms.calc = mace_calc\n",
    "total_energy = ase_atoms.get_potential_energy()\n",
    "mu_model_Zr = total_energy / len(ase_atoms)\n",
    "print(f\"Zr: μ_model = {mu_model_Zr:.6f} eV/atom\")\n",
    "pmg_structure = Structure.from_file(\"O2.cif\")  # Needs to be a periodic solid O2 structure\n",
    "ase_atoms = adaptor.get_atoms(pmg_structure)\n",
    "ase_atoms.calc = mace_calc\n",
    "total_energy = ase_atoms.get_potential_energy()\n",
    "mu_model_O = total_energy / len(ase_atoms)\n",
    "print(f\"O: μ_model = {mu_model_O:.6f} eV/atom\")"
   ]
  },
  {
   "cell_type": "markdown",
   "id": "ade00eeb",
   "metadata": {},
   "source": [
    "2. Now comes the formation energy part"
   ]
  },
  {
   "cell_type": "code",
   "execution_count": 13,
   "id": "15563cb0",
   "metadata": {},
   "outputs": [
    {
     "name": "stderr",
     "output_type": "stream",
     "text": [
      "/home/mehuldarak/anaconda3/envs/mace/lib/python3.13/site-packages/mace/calculators/mace.py:143: FutureWarning: You are using `torch.load` with `weights_only=False` (the current default value), which uses the default pickle module implicitly. It is possible to construct malicious pickle data which will execute arbitrary code during unpickling (See https://github.com/pytorch/pytorch/blob/main/SECURITY.md#untrusted-models for more details). In a future release, the default value for `weights_only` will be flipped to `True`. This limits the functions that could be executed during unpickling. Arbitrary objects will no longer be allowed to be loaded via this mode unless they are explicitly allowlisted by the user via `torch.serialization.add_safe_globals`. We recommend you start setting `weights_only=True` for any use case where you don't have full control of the loaded file. Please open an issue on GitHub for any issues related to this experimental feature.\n",
      "  torch.load(f=model_path, map_location=device)\n",
      "/home/mehuldarak/anaconda3/envs/mace/lib/python3.13/site-packages/pymatgen/io/cif.py:1290: UserWarning: Issues encountered while parsing CIF: 12 fractional coordinates rounded to ideal values to avoid issues with finite precision.\n",
      "  warnings.warn(\"Issues encountered while parsing CIF: \" + \"\\n\".join(self.warnings))\n"
     ]
    },
    {
     "name": "stdout",
     "output_type": "stream",
     "text": [
      "Using head Default out of ['Default']\n",
      "No dtype selected, switching to float64 to match model dtype.\n",
      "Li2O2          :  E_form (MACE-MP-0a-small) = -1.378085 eV/atom\n",
      "Li2O           :  E_form (MACE-MP-0a-small) = -1.828398 eV/atom\n",
      "Li7La3Zr2O12   :  E_form (MACE-MP-0a-small) = -2.787109 eV/atom\n",
      "ZrO2           :  E_form (MACE-MP-0a-small) = -3.339057 eV/atom\n",
      "La2O3          :  E_form (MACE-MP-0a-small) = -3.450940 eV/atom\n"
     ]
    },
    {
     "name": "stderr",
     "output_type": "stream",
     "text": [
      "/home/mehuldarak/anaconda3/envs/mace/lib/python3.13/site-packages/pymatgen/io/cif.py:1290: UserWarning: Issues encountered while parsing CIF: 8 fractional coordinates rounded to ideal values to avoid issues with finite precision.\n",
      "  warnings.warn(\"Issues encountered while parsing CIF: \" + \"\\n\".join(self.warnings))\n"
     ]
    }
   ],
   "source": [
    "# ---- 1. Load the MACE model -------------------------------------------\n",
    "calculator = MACECalculator(model_paths=[\"/home/mehuldarak/MACE_models/universal_09072025/2023-12-10-mace-128-L0_energy_epoch-249.model\"], device=\"cuda\")  # or \"cpu\"\n",
    "\n",
    "# ---- 2. Reference μ_model from MACE -----------------------------------\n",
    "mu_mace = {\n",
    "    \"Li\": -1.905902,\n",
    "    \"La\": -4.919243,\n",
    "    \"Zr\": -8.594373,\n",
    "    \"O\":  -4.930625 ,\n",
    "}\n",
    "\n",
    "# ---- 3. CIF files ------------------------------------------------------\n",
    "cif_dir = \"./cifs\"\n",
    "compounds = {\n",
    "    \"mp-841.cif\": \"Li2O2\",\n",
    "    \"mp-1960.cif\": \"Li2O\",\n",
    "    \"mp-942733.cif\": \"Li7La3Zr2O12\",\n",
    "    \"mp-2858.cif\": \"ZrO2\",\n",
    "    \"mp-1968.cif\": \"La2O3\",\n",
    "}\n",
    "\n",
    "# ---- 4. Predict formation energy per atom -----------------------------\n",
    "for fname, label in compounds.items():\n",
    "    struct = Structure.from_file(os.path.join(cif_dir, fname))\n",
    "    comp = struct.composition\n",
    "    n_atoms = comp.num_atoms\n",
    "\n",
    "    # Convert to ASE\n",
    "    ase_atoms = AseAtomsAdaptor.get_atoms(struct)\n",
    "\n",
    "    # Assign calculator and predict energy\n",
    "    ase_atoms.calc = calculator\n",
    "    energy_total = ase_atoms.get_potential_energy()  # eV (total)\n",
    "\n",
    "    # Reference energy from MACE chemical potentials\n",
    "    ref_total = sum(comp[el] * mu_mace[str(el)] for el in comp.elements)\n",
    "\n",
    "    # Formation energy per atom\n",
    "    e_form = (energy_total - ref_total) / n_atoms\n",
    "\n",
    "    print(f\"{label:15s}:  E_form (MACE-MP-0a-small) = {e_form: .6f} eV/atom\")"
   ]
  },
  {
   "cell_type": "markdown",
   "id": "8a933318",
   "metadata": {},
   "source": [
    "Now we do for MACE-MP-0a-large\n",
    "1. Chemical potentials"
   ]
  },
  {
   "cell_type": "code",
   "execution_count": 14,
   "id": "27b6d731",
   "metadata": {},
   "outputs": [
    {
     "name": "stderr",
     "output_type": "stream",
     "text": [
      "/home/mehuldarak/anaconda3/envs/mace/lib/python3.13/site-packages/mace/calculators/mace.py:143: FutureWarning: You are using `torch.load` with `weights_only=False` (the current default value), which uses the default pickle module implicitly. It is possible to construct malicious pickle data which will execute arbitrary code during unpickling (See https://github.com/pytorch/pytorch/blob/main/SECURITY.md#untrusted-models for more details). In a future release, the default value for `weights_only` will be flipped to `True`. This limits the functions that could be executed during unpickling. Arbitrary objects will no longer be allowed to be loaded via this mode unless they are explicitly allowlisted by the user via `torch.serialization.add_safe_globals`. We recommend you start setting `weights_only=True` for any use case where you don't have full control of the loaded file. Please open an issue on GitHub for any issues related to this experimental feature.\n",
      "  torch.load(f=model_path, map_location=device)\n",
      "/home/mehuldarak/anaconda3/envs/mace/lib/python3.13/site-packages/pymatgen/io/cif.py:1290: UserWarning: Issues encountered while parsing CIF: 4 fractional coordinates rounded to ideal values to avoid issues with finite precision.\n",
      "  warnings.warn(\"Issues encountered while parsing CIF: \" + \"\\n\".join(self.warnings))\n"
     ]
    },
    {
     "name": "stdout",
     "output_type": "stream",
     "text": [
      "Using head Default out of ['Default']\n",
      "No dtype selected, switching to float64 to match model dtype.\n",
      "Li: μ_model = -1.894110 eV/atom\n",
      "La: μ_model = -4.891070 eV/atom\n",
      "Zr: μ_model = -8.539969 eV/atom\n",
      "O: μ_model = -4.870034 eV/atom\n"
     ]
    }
   ],
   "source": [
    "from mace.calculators import MACECalculator\n",
    "mace_calc = MACECalculator(model_paths=[\"/home/mehuldarak/MACE_models/universal_09072025/2024-01-07-mace-128-L2_epoch-199.model\"], device=\"cuda\")  # or \"cpu\"\n",
    "from pymatgen.io.ase import AseAtomsAdaptor\n",
    "from pymatgen.core import Structure\n",
    "adaptor = AseAtomsAdaptor()\n",
    "\n",
    "pmg_structure = Structure.from_file(\"Li.cif\")  # e.g. for Li\n",
    "ase_atoms = adaptor.get_atoms(pmg_structure)\n",
    "ase_atoms.calc = mace_calc\n",
    "total_energy = ase_atoms.get_potential_energy()\n",
    "mu_model_Li = total_energy / len(ase_atoms)\n",
    "print(f\"Li: μ_model = {mu_model_Li:.6f} eV/atom\")\n",
    "# Let us do this for La, Zr, and O as well\n",
    "pmg_structure = Structure.from_file(\"La.cif\")\n",
    "ase_atoms = adaptor.get_atoms(pmg_structure)\n",
    "ase_atoms.calc = mace_calc\n",
    "total_energy = ase_atoms.get_potential_energy()\n",
    "mu_model_La = total_energy / len(ase_atoms)\n",
    "print(f\"La: μ_model = {mu_model_La:.6f} eV/atom\")\n",
    "pmg_structure = Structure.from_file(\"Zr.cif\")\n",
    "ase_atoms = adaptor.get_atoms(pmg_structure)\n",
    "ase_atoms.calc = mace_calc\n",
    "total_energy = ase_atoms.get_potential_energy()\n",
    "mu_model_Zr = total_energy / len(ase_atoms)\n",
    "print(f\"Zr: μ_model = {mu_model_Zr:.6f} eV/atom\")\n",
    "pmg_structure = Structure.from_file(\"O2.cif\")  # Needs to be a periodic solid O2 structure\n",
    "ase_atoms = adaptor.get_atoms(pmg_structure)\n",
    "ase_atoms.calc = mace_calc\n",
    "total_energy = ase_atoms.get_potential_energy()\n",
    "mu_model_O = total_energy / len(ase_atoms)\n",
    "print(f\"O: μ_model = {mu_model_O:.6f} eV/atom\")"
   ]
  },
  {
   "cell_type": "markdown",
   "id": "a1d03a69",
   "metadata": {},
   "source": [
    "2. Formation energies"
   ]
  },
  {
   "cell_type": "code",
   "execution_count": 15,
   "id": "0e0de67e",
   "metadata": {},
   "outputs": [
    {
     "name": "stderr",
     "output_type": "stream",
     "text": [
      "/home/mehuldarak/anaconda3/envs/mace/lib/python3.13/site-packages/mace/calculators/mace.py:143: FutureWarning: You are using `torch.load` with `weights_only=False` (the current default value), which uses the default pickle module implicitly. It is possible to construct malicious pickle data which will execute arbitrary code during unpickling (See https://github.com/pytorch/pytorch/blob/main/SECURITY.md#untrusted-models for more details). In a future release, the default value for `weights_only` will be flipped to `True`. This limits the functions that could be executed during unpickling. Arbitrary objects will no longer be allowed to be loaded via this mode unless they are explicitly allowlisted by the user via `torch.serialization.add_safe_globals`. We recommend you start setting `weights_only=True` for any use case where you don't have full control of the loaded file. Please open an issue on GitHub for any issues related to this experimental feature.\n",
      "  torch.load(f=model_path, map_location=device)\n",
      "/home/mehuldarak/anaconda3/envs/mace/lib/python3.13/site-packages/pymatgen/io/cif.py:1290: UserWarning: Issues encountered while parsing CIF: 12 fractional coordinates rounded to ideal values to avoid issues with finite precision.\n",
      "  warnings.warn(\"Issues encountered while parsing CIF: \" + \"\\n\".join(self.warnings))\n"
     ]
    },
    {
     "name": "stdout",
     "output_type": "stream",
     "text": [
      "Using head Default out of ['Default']\n",
      "No dtype selected, switching to float64 to match model dtype.\n",
      "Li2O2          :  E_form (MACE-MP-0a-large) = -1.414277 eV/atom\n",
      "Li2O           :  E_form (MACE-MP-0a-large) = -1.856457 eV/atom\n",
      "Li7La3Zr2O12   :  E_form (MACE-MP-0a-large) = -2.828900 eV/atom\n",
      "ZrO2           :  E_form (MACE-MP-0a-large) = -3.397586 eV/atom\n",
      "La2O3          :  E_form (MACE-MP-0a-large) = -3.498564 eV/atom\n"
     ]
    },
    {
     "name": "stderr",
     "output_type": "stream",
     "text": [
      "/home/mehuldarak/anaconda3/envs/mace/lib/python3.13/site-packages/pymatgen/io/cif.py:1290: UserWarning: Issues encountered while parsing CIF: 8 fractional coordinates rounded to ideal values to avoid issues with finite precision.\n",
      "  warnings.warn(\"Issues encountered while parsing CIF: \" + \"\\n\".join(self.warnings))\n"
     ]
    }
   ],
   "source": [
    "# ---- 1. Load the MACE model -------------------------------------------\n",
    "calculator = MACECalculator(model_paths=[\"/home/mehuldarak/MACE_models/universal_09072025/2023-12-10-mace-128-L0_energy_epoch-249.model\"], device=\"cuda\")  # or \"cpu\"\n",
    "\n",
    "# ---- 2. Reference μ_model from MACE -----------------------------------\n",
    "# We use Li: μ_model = -1.894110 eV/atom\n",
    "# La: μ_model = -4.891070 eV/atom\n",
    "# Zr: μ_model = -8.539969 eV/atom\n",
    "# O: μ_model = -4.870034 eV/atom\n",
    "mu_mace = {\n",
    "    \"Li\": -1.894110,\n",
    "    \"La\": -4.891070,\n",
    "    \"Zr\": -8.539969,\n",
    "    \"O\":  -4.870034,\n",
    "}\n",
    "\n",
    "# ---- 3. CIF files ------------------------------------------------------\n",
    "cif_dir = \"./cifs\"\n",
    "compounds = {\n",
    "    \"mp-841.cif\": \"Li2O2\",\n",
    "    \"mp-1960.cif\": \"Li2O\",\n",
    "    \"mp-942733.cif\": \"Li7La3Zr2O12\",\n",
    "    \"mp-2858.cif\": \"ZrO2\",\n",
    "    \"mp-1968.cif\": \"La2O3\",\n",
    "}\n",
    "\n",
    "# ---- 4. Predict formation energy per atom -----------------------------\n",
    "for fname, label in compounds.items():\n",
    "    struct = Structure.from_file(os.path.join(cif_dir, fname))\n",
    "    comp = struct.composition\n",
    "    n_atoms = comp.num_atoms\n",
    "\n",
    "    # Convert to ASE\n",
    "    ase_atoms = AseAtomsAdaptor.get_atoms(struct)\n",
    "\n",
    "    # Assign calculator and predict energy\n",
    "    ase_atoms.calc = calculator\n",
    "    energy_total = ase_atoms.get_potential_energy()  # eV (total)\n",
    "\n",
    "    # Reference energy from MACE chemical potentials\n",
    "    ref_total = sum(comp[el] * mu_mace[str(el)] for el in comp.elements)\n",
    "\n",
    "    # Formation energy per atom\n",
    "    e_form = (energy_total - ref_total) / n_atoms\n",
    "\n",
    "    print(f\"{label:15s}:  E_form (MACE-MP-0a-large) = {e_form: .6f} eV/atom\")"
   ]
  },
  {
   "cell_type": "markdown",
   "id": "0eb3caa2",
   "metadata": {},
   "source": [
    "## MACE-mp-0b3-medium\n",
    "1. Chemical potential"
   ]
  },
  {
   "cell_type": "code",
   "execution_count": 16,
   "id": "16c44994",
   "metadata": {},
   "outputs": [
    {
     "name": "stderr",
     "output_type": "stream",
     "text": [
      "/home/mehuldarak/anaconda3/envs/mace/lib/python3.13/site-packages/mace/calculators/mace.py:143: FutureWarning: You are using `torch.load` with `weights_only=False` (the current default value), which uses the default pickle module implicitly. It is possible to construct malicious pickle data which will execute arbitrary code during unpickling (See https://github.com/pytorch/pytorch/blob/main/SECURITY.md#untrusted-models for more details). In a future release, the default value for `weights_only` will be flipped to `True`. This limits the functions that could be executed during unpickling. Arbitrary objects will no longer be allowed to be loaded via this mode unless they are explicitly allowlisted by the user via `torch.serialization.add_safe_globals`. We recommend you start setting `weights_only=True` for any use case where you don't have full control of the loaded file. Please open an issue on GitHub for any issues related to this experimental feature.\n",
      "  torch.load(f=model_path, map_location=device)\n"
     ]
    },
    {
     "name": "stdout",
     "output_type": "stream",
     "text": [
      "Using head default out of ['default']\n",
      "No dtype selected, switching to float64 to match model dtype.\n",
      "Li: μ_model = -1.906338 eV/atom\n",
      "La: μ_model = -4.895953 eV/atom\n"
     ]
    },
    {
     "name": "stderr",
     "output_type": "stream",
     "text": [
      "/home/mehuldarak/anaconda3/envs/mace/lib/python3.13/site-packages/pymatgen/io/cif.py:1290: UserWarning: Issues encountered while parsing CIF: 4 fractional coordinates rounded to ideal values to avoid issues with finite precision.\n",
      "  warnings.warn(\"Issues encountered while parsing CIF: \" + \"\\n\".join(self.warnings))\n"
     ]
    },
    {
     "name": "stdout",
     "output_type": "stream",
     "text": [
      "Zr: μ_model = -8.559929 eV/atom\n",
      "O: μ_model = -4.901506 eV/atom\n"
     ]
    }
   ],
   "source": [
    "from mace.calculators import MACECalculator\n",
    "mace_calc = MACECalculator(model_paths=[\"/home/mehuldarak/MACE_models/universal_09072025/mace-mp-0b3-medium.model\"], device=\"cuda\")  # or \"cpu\"\n",
    "from pymatgen.io.ase import AseAtomsAdaptor\n",
    "from pymatgen.core import Structure\n",
    "adaptor = AseAtomsAdaptor()\n",
    "\n",
    "pmg_structure = Structure.from_file(\"Li.cif\")  # e.g. for Li\n",
    "ase_atoms = adaptor.get_atoms(pmg_structure)\n",
    "ase_atoms.calc = mace_calc\n",
    "total_energy = ase_atoms.get_potential_energy()\n",
    "mu_model_Li = total_energy / len(ase_atoms)\n",
    "print(f\"Li: μ_model = {mu_model_Li:.6f} eV/atom\")\n",
    "# Let us do this for La, Zr, and O as well\n",
    "pmg_structure = Structure.from_file(\"La.cif\")\n",
    "ase_atoms = adaptor.get_atoms(pmg_structure)\n",
    "ase_atoms.calc = mace_calc\n",
    "total_energy = ase_atoms.get_potential_energy()\n",
    "mu_model_La = total_energy / len(ase_atoms)\n",
    "print(f\"La: μ_model = {mu_model_La:.6f} eV/atom\")\n",
    "pmg_structure = Structure.from_file(\"Zr.cif\")\n",
    "ase_atoms = adaptor.get_atoms(pmg_structure)\n",
    "ase_atoms.calc = mace_calc\n",
    "total_energy = ase_atoms.get_potential_energy()\n",
    "mu_model_Zr = total_energy / len(ase_atoms)\n",
    "print(f\"Zr: μ_model = {mu_model_Zr:.6f} eV/atom\")\n",
    "pmg_structure = Structure.from_file(\"O2.cif\")  # Needs to be a periodic solid O2 structure\n",
    "ase_atoms = adaptor.get_atoms(pmg_structure)\n",
    "ase_atoms.calc = mace_calc\n",
    "total_energy = ase_atoms.get_potential_energy()\n",
    "mu_model_O = total_energy / len(ase_atoms)\n",
    "print(f\"O: μ_model = {mu_model_O:.6f} eV/atom\")"
   ]
  },
  {
   "cell_type": "markdown",
   "id": "f13cbc01",
   "metadata": {},
   "source": [
    "2. Formn energies"
   ]
  },
  {
   "cell_type": "code",
   "execution_count": 17,
   "id": "a38efe90",
   "metadata": {},
   "outputs": [
    {
     "name": "stderr",
     "output_type": "stream",
     "text": [
      "/home/mehuldarak/anaconda3/envs/mace/lib/python3.13/site-packages/mace/calculators/mace.py:143: FutureWarning: You are using `torch.load` with `weights_only=False` (the current default value), which uses the default pickle module implicitly. It is possible to construct malicious pickle data which will execute arbitrary code during unpickling (See https://github.com/pytorch/pytorch/blob/main/SECURITY.md#untrusted-models for more details). In a future release, the default value for `weights_only` will be flipped to `True`. This limits the functions that could be executed during unpickling. Arbitrary objects will no longer be allowed to be loaded via this mode unless they are explicitly allowlisted by the user via `torch.serialization.add_safe_globals`. We recommend you start setting `weights_only=True` for any use case where you don't have full control of the loaded file. Please open an issue on GitHub for any issues related to this experimental feature.\n",
      "  torch.load(f=model_path, map_location=device)\n",
      "/home/mehuldarak/anaconda3/envs/mace/lib/python3.13/site-packages/pymatgen/io/cif.py:1290: UserWarning: Issues encountered while parsing CIF: 12 fractional coordinates rounded to ideal values to avoid issues with finite precision.\n",
      "  warnings.warn(\"Issues encountered while parsing CIF: \" + \"\\n\".join(self.warnings))\n"
     ]
    },
    {
     "name": "stdout",
     "output_type": "stream",
     "text": [
      "Using head default out of ['default']\n",
      "No dtype selected, switching to float64 to match model dtype.\n",
      "Li2O2          :  E_form (mace-mp-0b3-medium) = -1.371885 eV/atom\n",
      "Li2O           :  E_form (mace-mp-0b3-medium) = -1.840339 eV/atom\n",
      "Li7La3Zr2O12   :  E_form (mace-mp-0b3-medium) = -2.815677 eV/atom\n",
      "ZrO2           :  E_form (mace-mp-0b3-medium) = -3.376098 eV/atom\n",
      "La2O3          :  E_form (mace-mp-0b3-medium) = -3.492873 eV/atom\n"
     ]
    },
    {
     "name": "stderr",
     "output_type": "stream",
     "text": [
      "/home/mehuldarak/anaconda3/envs/mace/lib/python3.13/site-packages/pymatgen/io/cif.py:1290: UserWarning: Issues encountered while parsing CIF: 8 fractional coordinates rounded to ideal values to avoid issues with finite precision.\n",
      "  warnings.warn(\"Issues encountered while parsing CIF: \" + \"\\n\".join(self.warnings))\n"
     ]
    }
   ],
   "source": [
    "# ---- 1. Load the MACE model -------------------------------------------\n",
    "calculator = MACECalculator(model_paths=[\"/home/mehuldarak/MACE_models/universal_09072025/mace-mp-0b3-medium.model\"], device=\"cuda\")  # or \"cpu\"\n",
    "\n",
    "# ---- 2. Reference μ_model from MACE -----------------------------------\n",
    "# We use Li: μ_model = -1.894110 eV/atom\n",
    "# La: μ_model = -4.891070 eV/atom\n",
    "# Zr: μ_model = -8.539969 eV/atom\n",
    "# O: μ_model = -4.870034 eV/atom\n",
    "mu_mace = {\n",
    "    \"Li\": -1.894110,\n",
    "    \"La\": -4.891070,\n",
    "    \"Zr\": -8.539969,\n",
    "    \"O\":  -4.870034,\n",
    "}\n",
    "\n",
    "# ---- 3. CIF files ------------------------------------------------------\n",
    "cif_dir = \"./cifs\"\n",
    "compounds = {\n",
    "    \"mp-841.cif\": \"Li2O2\",\n",
    "    \"mp-1960.cif\": \"Li2O\",\n",
    "    \"mp-942733.cif\": \"Li7La3Zr2O12\",\n",
    "    \"mp-2858.cif\": \"ZrO2\",\n",
    "    \"mp-1968.cif\": \"La2O3\",\n",
    "}\n",
    "\n",
    "# ---- 4. Predict formation energy per atom -----------------------------\n",
    "for fname, label in compounds.items():\n",
    "    struct = Structure.from_file(os.path.join(cif_dir, fname))\n",
    "    comp = struct.composition\n",
    "    n_atoms = comp.num_atoms\n",
    "\n",
    "    # Convert to ASE\n",
    "    ase_atoms = AseAtomsAdaptor.get_atoms(struct)\n",
    "\n",
    "    # Assign calculator and predict energy\n",
    "    ase_atoms.calc = calculator\n",
    "    energy_total = ase_atoms.get_potential_energy()  # eV (total)\n",
    "\n",
    "    # Reference energy from MACE chemical potentials\n",
    "    ref_total = sum(comp[el] * mu_mace[str(el)] for el in comp.elements)\n",
    "\n",
    "    # Formation energy per atom\n",
    "    e_form = (energy_total - ref_total) / n_atoms\n",
    "\n",
    "    print(f\"{label:15s}:  E_form (mace-mp-0b3-medium) = {e_form: .6f} eV/atom\")"
   ]
  },
  {
   "attachments": {},
   "cell_type": "markdown",
   "id": "62dd01d7-c615-4856-87d0-30bb6fa7fbca",
   "metadata": {},
   "source": [
    "# MACE T2\n"
   ]
  },
  {
   "cell_type": "code",
   "execution_count": 2,
   "id": "49b51c05-131e-4d43-8f85-b1aef281462e",
   "metadata": {},
   "outputs": [
    {
     "name": "stderr",
     "output_type": "stream",
     "text": [
      "/home/phanim/harshitrawat/miniconda3/lib/python3.13/site-packages/mace/calculators/mace.py:197: UserWarning: Environment variable TORCH_FORCE_NO_WEIGHTS_ONLY_LOAD detected, since the`weights_only` argument was not explicitly passed to `torch.load`, forcing weights_only=False.\n",
      "  torch.load(f=model_path, map_location=device)\n",
      "/home/phanim/harshitrawat/miniconda3/lib/python3.13/site-packages/torch/serialization.py:1488: UserWarning: 'torch.load' received a zip file that looks like a TorchScript archive dispatching to 'torch.jit.load' (call 'torch.jit.load' directly to silence this warning)\n",
      "  warnings.warn(\n"
     ]
    },
    {
     "name": "stdout",
     "output_type": "stream",
     "text": [
      "Using head Default out of ['Default']\n",
      "No dtype selected, switching to float64 to match model dtype.\n",
      "Li: μ_model = -1.871396 eV/atom\n"
     ]
    },
    {
     "name": "stderr",
     "output_type": "stream",
     "text": [
      "/home/phanim/harshitrawat/miniconda3/lib/python3.13/site-packages/pymatgen/core/structure.py:3107: UserWarning: Issues encountered while parsing CIF: 4 fractional coordinates rounded to ideal values to avoid issues with finite precision.\n",
      "  struct = parser.parse_structures(primitive=primitive)[0]\n"
     ]
    },
    {
     "name": "stdout",
     "output_type": "stream",
     "text": [
      "La: μ_model = -3.770203 eV/atom\n",
      "Zr: μ_model = -9.089273 eV/atom\n",
      "O: μ_model = 199.640698 eV/atom\n"
     ]
    }
   ],
   "source": [
    "from mace.calculators import MACECalculator\n",
    "mace_calc = MACECalculator(model_paths=[\"/home/phanim/harshitrawat/summer/mace_models/finetuned/mace_T1_finetune_h200_cn10_compiled.model\"], device=\"cuda\")  # or \"cpu\"\n",
    "from pymatgen.io.ase import AseAtomsAdaptor\n",
    "from pymatgen.core import Structure\n",
    "adaptor = AseAtomsAdaptor()\n",
    "\n",
    "pmg_structure = Structure.from_file(\"/home/phanim/harshitrawat/summer/formation_energy/cifs/Li.cif\")  # e.g. for Li\n",
    "ase_atoms = adaptor.get_atoms(pmg_structure)\n",
    "ase_atoms.calc = mace_calc\n",
    "total_energy = ase_atoms.get_potential_energy()\n",
    "mu_model_Li = total_energy / len(ase_atoms)\n",
    "print(f\"Li: μ_model = {mu_model_Li:.6f} eV/atom\")\n",
    "# Let us do this for La, Zr, and O as well\n",
    "pmg_structure = Structure.from_file(\"/home/phanim/harshitrawat/summer/formation_energy/cifs/La.cif\")\n",
    "ase_atoms = adaptor.get_atoms(pmg_structure)\n",
    "ase_atoms.calc = mace_calc\n",
    "total_energy = ase_atoms.get_potential_energy()\n",
    "mu_model_La = total_energy / len(ase_atoms)\n",
    "print(f\"La: μ_model = {mu_model_La:.6f} eV/atom\")\n",
    "pmg_structure = Structure.from_file(\"/home/phanim/harshitrawat/summer/formation_energy/cifs/Zr.cif\")\n",
    "ase_atoms = adaptor.get_atoms(pmg_structure)\n",
    "ase_atoms.calc = mace_calc\n",
    "total_energy = ase_atoms.get_potential_energy()\n",
    "mu_model_Zr = total_energy / len(ase_atoms)\n",
    "print(f\"Zr: μ_model = {mu_model_Zr:.6f} eV/atom\")\n",
    "pmg_structure = Structure.from_file(\"/home/phanim/harshitrawat/summer/formation_energy/cifs/O2.cif\")  # Needs to be a periodic solid O2 structure\n",
    "ase_atoms = adaptor.get_atoms(pmg_structure)\n",
    "ase_atoms.calc = mace_calc\n",
    "total_energy = ase_atoms.get_potential_energy()\n",
    "mu_model_O = total_energy / len(ase_atoms)\n",
    "print(f\"O: μ_model = {mu_model_O:.6f} eV/atom\")"
   ]
  },
  {
   "cell_type": "code",
   "execution_count": 7,
   "id": "81b08c1d-9a32-4f21-b0de-ff8b1263c7f4",
   "metadata": {},
   "outputs": [
    {
     "name": "stdout",
     "output_type": "stream",
     "text": [
      "Using head Default out of ['Default']\n",
      "No dtype selected, switching to float64 to match model dtype.\n",
      "Li2O2          :  E_form (MACE_T1) = -94.461143 eV/atom\n",
      "Li2O           :  E_form (MACE_T1) = -70.527496 eV/atom\n",
      "Li7La3Zr2O12   :  E_form (MACE_T1) = -105.484956 eV/atom\n",
      "ZrO2           :  E_form (MACE_T1) = -139.986869 eV/atom\n",
      "La2O3          :  E_form (MACE_T1) = -126.627813 eV/atom\n"
     ]
    }
   ],
   "source": [
    "import os\n",
    "# ---- 1. Load the MACE model -------------------------------------------\n",
    "calculator = MACECalculator(model_paths=[\"/home/phanim/harshitrawat/summer/mace_models/finetuned/mace_T1_finetune_h200_cn10_compiled.model\"], device=\"cuda\")  # or \"cpu\"\n",
    "\n",
    "# ---- 2. Reference μ_model from MACE -----------------------------------\n",
    "# We use Li: μ_model = -1.894110 eV/atom\n",
    "# La: μ_model = -4.891070 eV/atom\n",
    "# Zr: μ_model = -8.539969 eV/atom\n",
    "# O: μ_model = -4.870034 eV/atom\n",
    "mu_mace = {\n",
    "    \"Li\": -1.871396,\n",
    "    \"La\": -3.770203,\n",
    "    \"Zr\": -9.089273,\n",
    "    \"O\":  199.640698,\n",
    "}\n",
    "\n",
    "# ---- 3. CIF files ------------------------------------------------------\n",
    "cif_dir = \"./cifs\"\n",
    "compounds = {\n",
    "    \"mp-841.cif\": \"Li2O2\",\n",
    "    \"mp-1960.cif\": \"Li2O\",\n",
    "    \"mp-942733.cif\": \"Li7La3Zr2O12\",\n",
    "    \"mp-2858.cif\": \"ZrO2\",\n",
    "    \"mp-1968.cif\": \"La2O3\",\n",
    "}\n",
    "\n",
    "# ---- 4. Predict formation energy per atom -----------------------------\n",
    "for fname, label in compounds.items():\n",
    "    struct = Structure.from_file(os.path.join(cif_dir, fname))\n",
    "    comp = struct.composition\n",
    "    n_atoms = comp.num_atoms\n",
    "\n",
    "    # Convert to ASE\n",
    "    ase_atoms = AseAtomsAdaptor.get_atoms(struct)\n",
    "\n",
    "    # Assign calculator and predict energy\n",
    "    ase_atoms.calc = calculator\n",
    "    energy_total = ase_atoms.get_potential_energy()  # eV (total)\n",
    "\n",
    "    # Reference energy from MACE chemical potentials\n",
    "    ref_total = sum(comp[el] * mu_mace[el.symbol] for el in comp.elements)\n",
    "\n",
    "    # Formation energy per atom\n",
    "    e_form = (energy_total - ref_total) / n_atoms\n",
    "\n",
    "    print(f\"{label:15s}:  E_form (MACE_T1) = {e_form: .6f} eV/atom\")"
   ]
  },
  {
   "cell_type": "code",
   "execution_count": null,
   "id": "79162c54-ab8b-4802-ac17-21ef5e82261a",
   "metadata": {},
   "outputs": [],
   "source": [
    "/home/phanim/harshitrawat/summer/formation_energy/mace_T2_frozen.model"
   ]
  },
  {
   "cell_type": "code",
   "execution_count": null,
   "id": "47cdf2ae-de01-4ad7-926d-5b6914278a45",
   "metadata": {},
   "outputs": [],
   "source": [
    "from mace.calculators import MACECalculator\n",
    "mace_calc = MACECalculator(model_paths=[\"/home/phanim/harshitrawat/summer/formation_energy/mace_T2_frozen.model\"], device=\"cuda\")  # or \"cpu\"\n",
    "from pymatgen.io.ase import AseAtomsAdaptor\n",
    "from pymatgen.core import Structure\n",
    "adaptor = AseAtomsAdaptor()\n",
    "\n",
    "pmg_structure = Structure.from_file(\"/home/phanim/harshitrawat/summer/formation_energy/cifs/Li.cif\")  # e.g. for Li\n",
    "ase_atoms = adaptor.get_atoms(pmg_structure)\n",
    "ase_atoms.calc = mace_calc\n",
    "total_energy = ase_atoms.get_potential_energy()\n",
    "mu_model_Li = total_energy / len(ase_atoms)\n",
    "print(f\"Li: μ_model = {mu_model_Li:.6f} eV/atom\")\n",
    "# Let us do this for La, Zr, and O as well\n",
    "pmg_structure = Structure.from_file(\"/home/phanim/harshitrawat/summer/formation_energy/cifs/La.cif\")\n",
    "ase_atoms = adaptor.get_atoms(pmg_structure)\n",
    "ase_atoms.calc = mace_calc\n",
    "total_energy = ase_atoms.get_potential_energy()\n",
    "mu_model_La = total_energy / len(ase_atoms)\n",
    "print(f\"La: μ_model = {mu_model_La:.6f} eV/atom\")\n",
    "pmg_structure = Structure.from_file(\"/home/phanim/harshitrawat/summer/formation_energy/cifs/Zr.cif\")\n",
    "ase_atoms = adaptor.get_atoms(pmg_structure)\n",
    "ase_atoms.calc = mace_calc\n",
    "total_energy = ase_atoms.get_potential_energy()\n",
    "mu_model_Zr = total_energy / len(ase_atoms)\n",
    "print(f\"Zr: μ_model = {mu_model_Zr:.6f} eV/atom\")\n",
    "pmg_structure = Structure.from_file(\"/home/phanim/harshitrawat/summer/formation_energy/cifs/O2.cif\")  # Needs to be a periodic solid O2 structure\n",
    "ase_atoms = adaptor.get_atoms(pmg_structure)\n",
    "ase_atoms.calc = mace_calc\n",
    "total_energy = ase_atoms.get_potential_energy()\n",
    "mu_model_O = total_energy / len(ase_atoms)\n",
    "print(f\"O: μ_model = {mu_model_O:.6f} eV/atom\")"
   ]
  },
  {
   "cell_type": "code",
   "execution_count": 8,
   "id": "f96916f0-b1e4-4b16-81a4-6fe636d190c3",
   "metadata": {},
   "outputs": [
    {
     "name": "stdout",
     "output_type": "stream",
     "text": [
      "Li2O2          :  E_total (MACE_T1) =  35.388065 eV/atom\n",
      "Li2O           :  E_total (MACE_T1) = -62.738323 eV/atom\n",
      "Li7La3Zr2O12   :  E_total (MACE_T1) = -1428.315959 eV/atom\n",
      "ZrO2           :  E_total (MACE_T1) = -119.073932 eV/atom\n",
      "La2O3          :  E_total (MACE_T1) = -41.757378 eV/atom\n"
     ]
    }
   ],
   "source": [
    "\n",
    "# ---- 4. Predict formation energy per atom -----------------------------\n",
    "for fname, label in compounds.items():\n",
    "    struct = Structure.from_file(os.path.join(cif_dir, fname))\n",
    "    comp = struct.composition\n",
    "    n_atoms = comp.num_atoms\n",
    "\n",
    "    # Convert to ASE\n",
    "    ase_atoms = AseAtomsAdaptor.get_atoms(struct)\n",
    "\n",
    "    # Assign calculator and predict energy\n",
    "    ase_atoms.calc = calculator\n",
    "    energy_total = ase_atoms.get_potential_energy()  # eV (total)\n",
    "\n",
    "    print(f\"{label:15s}:  E_total (MACE_T1) = {energy_total: .6f} eV/atom\")"
   ]
  },
  {
   "cell_type": "markdown",
   "id": "7fe350ec",
   "metadata": {},
   "source": [
    "/home/phanim/harshitrawat/summer/formation_energy/mace_T2_frozen.model"
   ]
  },
  {
   "cell_type": "code",
   "execution_count": 11,
   "id": "8e1fbd37",
   "metadata": {},
   "outputs": [
    {
     "name": "stderr",
     "output_type": "stream",
     "text": [
      "/tmp/ipykernel_2116487/3528944021.py:8: FutureWarning: You are using `torch.load` with `weights_only=False` (the current default value), which uses the default pickle module implicitly. It is possible to construct malicious pickle data which will execute arbitrary code during unpickling (See https://github.com/pytorch/pytorch/blob/main/SECURITY.md#untrusted-models for more details). In a future release, the default value for `weights_only` will be flipped to `True`. This limits the functions that could be executed during unpickling. Arbitrary objects will no longer be allowed to be loaded via this mode unless they are explicitly allowlisted by the user via `torch.serialization.add_safe_globals`. We recommend you start setting `weights_only=True` for any use case where you don't have full control of the loaded file. Please open an issue on GitHub for any issues related to this experimental feature.\n",
      "  checkpoint = torch.load(ckpt_path, map_location=\"cpu\")\n"
     ]
    },
    {
     "ename": "KeyError",
     "evalue": "'model_kwargs'",
     "output_type": "error",
     "traceback": [
      "\u001b[0;31m---------------------------------------------------------------------------\u001b[0m",
      "\u001b[0;31mKeyError\u001b[0m                                  Traceback (most recent call last)",
      "Cell \u001b[0;32mIn[11], line 11\u001b[0m\n\u001b[1;32m      8\u001b[0m checkpoint \u001b[38;5;241m=\u001b[39m torch\u001b[38;5;241m.\u001b[39mload(ckpt_path, map_location\u001b[38;5;241m=\u001b[39m\u001b[38;5;124m\"\u001b[39m\u001b[38;5;124mcpu\u001b[39m\u001b[38;5;124m\"\u001b[39m)\n\u001b[1;32m     10\u001b[0m \u001b[38;5;66;03m# Recreate model from checkpoint hyperparameters\u001b[39;00m\n\u001b[0;32m---> 11\u001b[0m model \u001b[38;5;241m=\u001b[39m MACE(\u001b[38;5;241m*\u001b[39m\u001b[38;5;241m*\u001b[39m\u001b[43mcheckpoint\u001b[49m\u001b[43m[\u001b[49m\u001b[38;5;124;43m\"\u001b[39;49m\u001b[38;5;124;43mmodel_kwargs\u001b[39;49m\u001b[38;5;124;43m\"\u001b[39;49m\u001b[43m]\u001b[49m)\n\u001b[1;32m     12\u001b[0m model\u001b[38;5;241m.\u001b[39mload_state_dict(checkpoint[\u001b[38;5;124m\"\u001b[39m\u001b[38;5;124mstate_dict\u001b[39m\u001b[38;5;124m\"\u001b[39m], strict\u001b[38;5;241m=\u001b[39m\u001b[38;5;28;01mFalse\u001b[39;00m)\n\u001b[1;32m     14\u001b[0m \u001b[38;5;66;03m# Save in .model format\u001b[39;00m\n",
      "\u001b[0;31mKeyError\u001b[0m: 'model_kwargs'"
     ]
    }
   ],
   "source": [
    "import torch\n",
    "from mace.modules.models import MACE\n",
    "\n",
    "ckpt_path = \"/home/phanim/harshitrawat/summer/iteration_3/checkpoints/mace_T2_including_replay_w2_run-84_epoch-77.pt\"\n",
    "save_path = \"mace_T2_frozen.model\"\n",
    "\n",
    "# Load the checkpoint dict\n",
    "checkpoint = torch.load(ckpt_path, map_location=\"cpu\")\n",
    "\n",
    "# Recreate model from checkpoint hyperparameters\n",
    "model = MACE(**checkpoint[\"model_kwargs\"])\n",
    "model.load_state_dict(checkpoint[\"state_dict\"], strict=False)\n",
    "\n",
    "# Save in .model format\n",
    "torch.save(model, save_path)\n",
    "\n",
    "print(f\"Saved usable model to {save_path}\")\n"
   ]
  },
  {
   "cell_type": "code",
   "execution_count": 12,
   "id": "c5f4215b",
   "metadata": {},
   "outputs": [
    {
     "name": "stdout",
     "output_type": "stream",
     "text": [
      "dict_keys(['model', 'optimizer', 'lr_scheduler'])\n"
     ]
    },
    {
     "name": "stderr",
     "output_type": "stream",
     "text": [
      "/tmp/ipykernel_2116487/1439217437.py:3: FutureWarning: You are using `torch.load` with `weights_only=False` (the current default value), which uses the default pickle module implicitly. It is possible to construct malicious pickle data which will execute arbitrary code during unpickling (See https://github.com/pytorch/pytorch/blob/main/SECURITY.md#untrusted-models for more details). In a future release, the default value for `weights_only` will be flipped to `True`. This limits the functions that could be executed during unpickling. Arbitrary objects will no longer be allowed to be loaded via this mode unless they are explicitly allowlisted by the user via `torch.serialization.add_safe_globals`. We recommend you start setting `weights_only=True` for any use case where you don't have full control of the loaded file. Please open an issue on GitHub for any issues related to this experimental feature.\n",
      "  checkpoint = torch.load(ckpt_path, map_location=\"cpu\")\n"
     ]
    }
   ],
   "source": [
    "import torch\n",
    "ckpt_path = \"/home/phanim/harshitrawat/summer/iteration_3/checkpoints/mace_T2_including_replay_w2_run-84_epoch-77.pt\"\n",
    "checkpoint = torch.load(ckpt_path, map_location=\"cpu\")\n",
    "\n",
    "print(checkpoint.keys())\n"
   ]
  },
  {
   "cell_type": "code",
   "execution_count": 13,
   "id": "d3426781",
   "metadata": {},
   "outputs": [
    {
     "name": "stderr",
     "output_type": "stream",
     "text": [
      "/tmp/ipykernel_2116487/1474010441.py:6: FutureWarning: You are using `torch.load` with `weights_only=False` (the current default value), which uses the default pickle module implicitly. It is possible to construct malicious pickle data which will execute arbitrary code during unpickling (See https://github.com/pytorch/pytorch/blob/main/SECURITY.md#untrusted-models for more details). In a future release, the default value for `weights_only` will be flipped to `True`. This limits the functions that could be executed during unpickling. Arbitrary objects will no longer be allowed to be loaded via this mode unless they are explicitly allowlisted by the user via `torch.serialization.add_safe_globals`. We recommend you start setting `weights_only=True` for any use case where you don't have full control of the loaded file. Please open an issue on GitHub for any issues related to this experimental feature.\n",
      "  checkpoint = torch.load(ckpt_path, map_location=\"cpu\")\n"
     ]
    },
    {
     "name": "stdout",
     "output_type": "stream",
     "text": [
      "Saved as mace_T2_frozen.model\n"
     ]
    }
   ],
   "source": [
    "import torch\n",
    "\n",
    "ckpt_path = \"/home/phanim/harshitrawat/summer/iteration_3/checkpoints/mace_T2_including_replay_w2_run-84_epoch-77.pt\"\n",
    "\n",
    "# Load checkpoint\n",
    "checkpoint = torch.load(ckpt_path, map_location=\"cpu\")\n",
    "\n",
    "# Extract model object\n",
    "model = checkpoint[\"model\"]\n",
    "\n",
    "# Save in .model format (only the model, not optimizer/scheduler)\n",
    "torch.save(model, \"mace_T2_frozen.model\")\n",
    "\n",
    "print(\"Saved as mace_T2_frozen.model\")\n"
   ]
  },
  {
   "cell_type": "code",
   "execution_count": null,
   "id": "46c229ea",
   "metadata": {},
   "outputs": [],
   "source": []
  }
 ],
 "metadata": {
  "kernelspec": {
   "display_name": "Python 3 (ipykernel)",
   "language": "python",
   "name": "python3"
  },
  "language_info": {
   "codemirror_mode": {
    "name": "ipython",
    "version": 3
   },
   "file_extension": ".py",
   "mimetype": "text/x-python",
   "name": "python",
   "nbconvert_exporter": "python",
   "pygments_lexer": "ipython3",
   "version": "3.13.2"
  }
 },
 "nbformat": 4,
 "nbformat_minor": 5
}
