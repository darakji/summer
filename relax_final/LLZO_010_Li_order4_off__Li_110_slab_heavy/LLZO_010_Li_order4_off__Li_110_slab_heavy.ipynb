{
 "cells": [
  {
   "cell_type": "markdown",
   "id": "d7833af9",
   "metadata": {},
   "source": [
    "This notebook follows from the tutorials of CHGNet to relax LLZO-Li slabs that have been made in `llzo_li_balanced_sliced` directory."
   ]
  },
  {
   "cell_type": "markdown",
   "id": "3d234e1d",
   "metadata": {},
   "source": [
    "\n",
    "LLZO‖Li Interface Relaxation Notebook\n",
    "========================================\n",
    "\n",
    "Each notebook handles only one structure.\n",
    "1. Purpose: (This keeps updating)\n",
    "- Relax a single LLZO‖Li (in this notebook LLZO_001_Zr_code93_sto__Li_110_slab_heavy) heterostructure using CHGNet\n",
    "- Perform multi-stage optimization (in this notebook, CG → FIRE)\n",
    "- Freeze bulk-like regions (15 Å at both ends)\n",
    "- after all this, Relax lattice vectors to relieve interface strain\n",
    "\n",
    "2. This notebook handles:\n",
    "- Structure: LLZO_110_Li_order17_off__Li_100_slab_heavy\n",
    "- Initial lattice height: 86.02 Å\n",
    "- Number of atoms: 738\n",
    "\n",
    "3. Method:\n",
    "- CHGNet (v0.4.0) + ASE interface\n",
    "- Stage 1: SciPyFminCG (no cell relaxation) → fmax target ~0.15 eV/Å\n",
    "- Stage 2: FIRE (with optional cell relaxation) → fmax target ~0.05 eV/Å\n",
    "- FrechetCellFilter used for combined force + stress minimization\n",
    "\n",
    "4. Constraints:\n",
    "- LLZO base: frozen bottom 14.25 Å\n",
    "- Li top: frozen top 14.25 Å\n",
    "- Only interfacial region relaxed\n",
    "- Cell relaxation via `relax_cell=True` and `relax_cell_atoms=\"unconstrained\"`\n",
    "\n",
    "5. Outputs: (This will be decided later)\n",
    "- relaxed_[structure_name].cif\n",
    "- relaxed_[structure_name].traj\n",
    "- (Optional) relaxation_log.pkl with energies, forces\n",
    "\n",
    "6. Visual checks:\n",
    "- Compare pre- and post-relaxation structures\n",
    "- Ensure no Li diffusion into LLZO (via z-analysis)\n",
    "- Confirm convergence (fmax < 0.05 eV/Å)\n",
    "\n",
    "Author: Mehul Darak\n",
    "\n",
    "Date: 15-07-2025\n"
   ]
  },
  {
   "cell_type": "code",
   "execution_count": 1,
   "id": "bcf59eaf",
   "metadata": {},
   "outputs": [],
   "source": [
    "structure_name = \"LLZO_010_Li_order4_off__Li_110_slab_heavy\""
   ]
  },
  {
   "cell_type": "code",
   "execution_count": 2,
   "id": "955e570d",
   "metadata": {},
   "outputs": [
    {
     "name": "stdout",
     "output_type": "stream",
     "text": [
      "- Structure: LLZO_010_Li_order4_off__Li_110_slab_heavy\n",
      "- Initial lattice height: 68.54 Å\n",
      "- Number of atoms: 788\n"
     ]
    },
    {
     "name": "stderr",
     "output_type": "stream",
     "text": [
      "/home/mehuldarak/anaconda3/envs/mace/lib/python3.13/site-packages/pymatgen/io/cif.py:1290: UserWarning: Issues encountered while parsing CIF: 84 fractional coordinates rounded to ideal values to avoid issues with finite precision.\n",
      "  warnings.warn(\"Issues encountered while parsing CIF: \" + \"\\n\".join(self.warnings))\n"
     ]
    }
   ],
   "source": [
    "from pymatgen.core import Structure\n",
    "import os\n",
    "\n",
    "# Load structure\n",
    "structure_path = (f\"/home/mehuldarak/summer/llzo_li_balanced_sliced/{structure_name}.cif\")  # replace with your file\n",
    "structure = Structure.from_file(structure_path)\n",
    "\n",
    "# Extract info\n",
    "structure_name = os.path.basename(structure_path).replace(\".cif\", \"\")\n",
    "lattice_height = structure.lattice.c\n",
    "num_atoms = len(structure)\n",
    "\n",
    "# Print output\n",
    "print(f\"- Structure: {structure_name}\")\n",
    "print(f\"- Initial lattice height: {lattice_height:.2f} Å\")\n",
    "print(f\"- Number of atoms: {num_atoms}\")\n"
   ]
  },
  {
   "cell_type": "code",
   "execution_count": 3,
   "id": "1846f174",
   "metadata": {},
   "outputs": [
    {
     "name": "stdout",
     "output_type": "stream",
     "text": [
      "Li slab thickness: 21.20 Å\n",
      "Lowest Li slab atom: 32.35 Å\n",
      "LLZO top z: 32.20 Å\n",
      "Li penetration into LLZO: -0.15 Å\n"
     ]
    }
   ],
   "source": [
    "from pymatgen.core import Structure\n",
    "import numpy as np\n",
    "\n",
    "s = Structure.from_file(f\"/home/mehuldarak/summer/llzo_li_balanced_sliced/{structure_name}.cif\")\n",
    "\n",
    "# Get all atoms\n",
    "z_coords = np.array([site.z for site in s.sites])\n",
    "species = np.array([site.species_string for site in s.sites])\n",
    "\n",
    "# Estimate LLZO top (non-Li atoms)\n",
    "llzo_z = z_coords[species != \"Li\"]\n",
    "llzo_top = llzo_z.max()\n",
    "\n",
    "# Now isolate Li slab: Li atoms ABOVE LLZO\n",
    "li_slab_z = np.array([site.z for site in s.sites if site.species_string == \"Li\" and site.z > llzo_top])\n",
    "\n",
    "print(f\"Li slab thickness: {li_slab_z.ptp():.2f} Å\")\n",
    "print(f\"Lowest Li slab atom: {li_slab_z.min():.2f} Å\")\n",
    "print(f\"LLZO top z: {llzo_top:.2f} Å\")\n",
    "print(f\"Li penetration into LLZO: {llzo_top - li_slab_z.min():.2f} Å\")\n"
   ]
  },
  {
   "cell_type": "code",
   "execution_count": 4,
   "id": "ad50b778",
   "metadata": {},
   "outputs": [
    {
     "name": "stdout",
     "output_type": "stream",
     "text": [
      "LLZO slab thickness: 17.06 Å\n",
      "Li slab thickness:   21.20 Å\n",
      "LLZO top z:          32.20 Å\n",
      "Lowest Li atom z:    32.35 Å\n",
      "Li penetration into LLZO: -0.15 Å\n"
     ]
    }
   ],
   "source": [
    "from pymatgen.core import Structure\n",
    "import numpy as np\n",
    "\n",
    "# Load structure\n",
    "structure = Structure.from_file(f\"/home/mehuldarak/summer/llzo_li_balanced_sliced/{structure_name}.cif\")\n",
    "\n",
    "# Get z-coordinates and element types\n",
    "z_coords = np.array([site.z for site in structure.sites])\n",
    "species = np.array([site.species_string for site in structure.sites])\n",
    "\n",
    "# LLZO: non-Li atoms (La, Zr, O)\n",
    "llzo_z = z_coords[species != \"Li\"]\n",
    "llzo_top = llzo_z.max()\n",
    "llzo_bottom = llzo_z.min()\n",
    "llzo_thickness = llzo_top - llzo_bottom\n",
    "\n",
    "# Li slab: Li atoms ABOVE LLZO (i.e. in metallic Li layer)\n",
    "li_slab_z = np.array([\n",
    "    site.z for site in structure.sites\n",
    "    if site.species_string == \"Li\" and site.z > llzo_top\n",
    "])\n",
    "li_thickness = li_slab_z.ptp() if len(li_slab_z) > 0 else 0\n",
    "li_bottom = li_slab_z.min() if len(li_slab_z) > 0 else None\n",
    "\n",
    "# Penetration check\n",
    "penetration = llzo_top - li_bottom if li_bottom is not None else 0\n",
    "\n",
    "# Report\n",
    "print(f\"LLZO slab thickness: {llzo_thickness:.2f} Å\")\n",
    "print(f\"Li slab thickness:   {li_thickness:.2f} Å\")\n",
    "print(f\"LLZO top z:          {llzo_top:.2f} Å\")\n",
    "print(f\"Lowest Li atom z:    {li_bottom:.2f} Å\" if li_bottom else \"No Li slab atoms found\")\n",
    "print(f\"Li penetration into LLZO: {penetration:.2f} Å\")\n"
   ]
  },
  {
   "cell_type": "code",
   "execution_count": 5,
   "id": "9df87ad4",
   "metadata": {},
   "outputs": [
    {
     "name": "stdout",
     "output_type": "stream",
     "text": [
      "Freezing 543 atoms out of 788\n",
      "CHGNet v0.3.0 initialized with 412,525 parameters\n",
      "CHGNet will run on cuda\n"
     ]
    },
    {
     "name": "stderr",
     "output_type": "stream",
     "text": [
      "/tmp/ipykernel_171975/3870098642.py:27: FutureWarning: Please use atoms.calc = calc\n",
      "  structure.set_calculator(calc)\n"
     ]
    }
   ],
   "source": [
    "from pymatgen.io.ase import AseAtomsAdaptor\n",
    "from ase.constraints import FixAtoms\n",
    "from chgnet.model.dynamics import CHGNetCalculator, StructOptimizer\n",
    "from ase.io import read, write\n",
    "import numpy as np\n",
    "\n",
    "# --- Load structure ---\n",
    "structure = read(f\"/home/mehuldarak/summer/llzo_li_balanced_sliced/{structure_name}.cif\")\n",
    "\n",
    "# --- Get z coordinates ---\n",
    "z_coords = structure.get_positions()[:, 2]\n",
    "z_min, z_max = z_coords.min(), z_coords.max()\n",
    "\n",
    "# --- Define freeze zones ---\n",
    "freeze_thickness_llzo = 0.75 * (llzo_thickness)  # in Å\n",
    "freeze_thickness_li = 0.75 * (llzo_thickness)  # in Å\n",
    "llzo_z_threshold = z_min + freeze_thickness_llzo\n",
    "li_z_threshold = z_max - freeze_thickness_li\n",
    "\n",
    "# --- Freeze LLZO base and Li top ---\n",
    "freeze_mask = (z_coords < llzo_z_threshold) | (z_coords > li_z_threshold)\n",
    "structure.set_constraint(FixAtoms(mask=freeze_mask))\n",
    "print(f\"Freezing {np.sum(freeze_mask)} atoms out of {len(structure)}\")\n",
    "\n",
    "# --- Attach CHGNet calculator ---\n",
    "calc = CHGNetCalculator(use_device=\"cuda\")\n",
    "structure.set_calculator(calc)"
   ]
  },
  {
   "cell_type": "code",
   "execution_count": 6,
   "id": "7579efc8",
   "metadata": {},
   "outputs": [
    {
     "name": "stdout",
     "output_type": "stream",
     "text": [
      "             Step     Time          Energy          fmax\n",
      "SciPyFminCG:    0 19:45:33    -1827.438700        3.895588\n",
      "SciPyFminCG:    1 19:45:37    -1873.219046       10.146579\n",
      "SciPyFminCG:    2 19:45:38    -1885.767515       31.976165\n",
      "SciPyFminCG:    3 19:45:40    -1988.847504        5.712221\n",
      "SciPyFminCG:    4 19:45:42    -2059.965643        1.679900\n",
      "SciPyFminCG:    5 19:45:44    -2066.340390        1.543492\n",
      "SciPyFminCG:    6 19:45:47    -2077.873026        1.767677\n",
      "SciPyFminCG:    7 19:45:51    -2082.085533        2.722293\n",
      "SciPyFminCG:    8 19:45:53    -2083.371905        1.917028\n",
      "SciPyFminCG:    9 19:45:54    -2085.428936        1.422603\n",
      "SciPyFminCG:   10 19:45:56    -2087.621799        1.471505\n",
      "SciPyFminCG:   11 19:45:58    -2090.371897        2.085518\n",
      "SciPyFminCG:   12 19:46:00    -2092.426485        1.384917\n",
      "SciPyFminCG:   13 19:46:02    -2094.009698        1.161828\n",
      "SciPyFminCG:   14 19:46:04    -2096.059214        1.440674\n",
      "SciPyFminCG:   15 19:46:06    -2098.094263        1.819603\n",
      "SciPyFminCG:   16 19:46:08    -2100.113155        1.319491\n",
      "SciPyFminCG:   17 19:46:10    -2101.950937        2.067721\n",
      "SciPyFminCG:   18 19:46:12    -2103.445098        2.413269\n",
      "SciPyFminCG:   19 19:46:14    -2105.266911        1.648952\n",
      "SciPyFminCG:   20 19:46:16    -2106.698509        1.903193\n",
      "SciPyFminCG:   21 19:46:18    -2107.832516        2.036624\n",
      "SciPyFminCG:   22 19:46:19    -2109.275387        1.825231\n",
      "SciPyFminCG:   23 19:46:21    -2110.736294        1.017445\n",
      "SciPyFminCG:   24 19:46:23    -2111.953341        1.760863\n",
      "SciPyFminCG:   25 19:46:25    -2113.126801        1.531579\n",
      "SciPyFminCG:   26 19:46:27    -2114.249535        1.228581\n",
      "SciPyFminCG:   27 19:46:29    -2115.181765        1.389279\n",
      "SciPyFminCG:   28 19:46:31    -2115.813584        1.347827\n",
      "SciPyFminCG:   29 19:46:33    -2116.700161        0.915827\n",
      "SciPyFminCG:   30 19:46:35    -2117.450529        1.116080\n",
      "SciPyFminCG:   31 19:46:37    -2118.100197        1.372774\n",
      "SciPyFminCG:   32 19:46:38    -2118.868225        1.020549\n",
      "SciPyFminCG:   33 19:46:40    -2119.534050        1.203715\n",
      "SciPyFminCG:   34 19:46:42    -2120.076254        0.982714\n",
      "SciPyFminCG:   35 19:46:44    -2120.586143        1.075619\n",
      "SciPyFminCG:   36 19:46:46    -2121.083446        1.189621\n",
      "SciPyFminCG:   37 19:46:48    -2121.431952        0.907195\n",
      "SciPyFminCG:   38 19:46:50    -2121.763737        0.725668\n",
      "SciPyFminCG:   39 19:46:52    -2122.040287        0.841332\n",
      "SciPyFminCG:   40 19:46:54    -2122.336752        0.634756\n",
      "SciPyFminCG:   41 19:46:55    -2122.588879        0.978779\n",
      "SciPyFminCG:   42 19:46:57    -2122.794788        1.156163\n",
      "SciPyFminCG:   43 19:46:59    -2123.057436        0.560271\n",
      "SciPyFminCG:   44 19:47:01    -2123.228401        0.884550\n",
      "SciPyFminCG:   45 19:47:03    -2123.414960        0.842099\n",
      "SciPyFminCG:   46 19:47:05    -2123.570707        0.611815\n",
      "SciPyFminCG:   47 19:47:07    -2123.737727        0.581928\n",
      "SciPyFminCG:   48 19:47:09    -2123.853270        0.467504\n",
      "SciPyFminCG:   49 19:47:11    -2123.957915        0.503084\n",
      "SciPyFminCG:   50 19:47:13    -2124.067070        0.612144\n",
      "SciPyFminCG:   51 19:47:15    -2124.227702        0.845484\n",
      "SciPyFminCG:   52 19:47:17    -2124.414824        0.762872\n",
      "SciPyFminCG:   53 19:47:18    -2124.664509        0.677752\n",
      "SciPyFminCG:   54 19:47:21    -2124.920017        0.783026\n",
      "SciPyFminCG:   55 19:47:22    -2125.172332        0.950295\n",
      "SciPyFminCG:   56 19:47:25    -2125.423707        0.839626\n",
      "SciPyFminCG:   57 19:47:27    -2125.641077        0.579406\n",
      "SciPyFminCG:   58 19:47:29    -2125.892828        0.818711\n",
      "SciPyFminCG:   59 19:47:31    -2126.144203        0.898396\n",
      "SciPyFminCG:   60 19:47:32    -2126.391069        0.643862\n",
      "SciPyFminCG:   61 19:47:34    -2126.681147        0.698522\n",
      "SciPyFminCG:   62 19:47:36    -2127.006920        1.180465\n",
      "SciPyFminCG:   63 19:47:38    -2127.280840        0.634661\n",
      "SciPyFminCG:   64 19:47:40    -2127.479610        0.705310\n",
      "SciPyFminCG:   65 19:47:42    -2127.671805        0.754000\n",
      "SciPyFminCG:   66 19:47:44    -2127.823795        0.683806\n",
      "SciPyFminCG:   67 19:47:46    -2128.011293        0.662101\n",
      "SciPyFminCG:   68 19:47:48    -2128.132284        0.508508\n",
      "SciPyFminCG:   69 19:47:49    -2128.237494        0.600759\n",
      "SciPyFminCG:   70 19:47:52    -2128.348339        0.623291\n",
      "SciPyFminCG:   71 19:47:54    -2128.427246        0.530167\n",
      "SciPyFminCG:   72 19:47:56    -2128.504650        0.590185\n",
      "SciPyFminCG:   73 19:47:59    -2128.593327        0.744040\n",
      "SciPyFminCG:   74 19:48:01    -2128.687827        0.482043\n",
      "SciPyFminCG:   75 19:48:02    -2128.764668        0.489639\n",
      "SciPyFminCG:   76 19:48:04    -2128.830048        0.487611\n",
      "SciPyFminCG:   77 19:48:06    -2128.889979        0.549133\n",
      "SciPyFminCG:   78 19:48:08    -2128.935633        0.378815\n",
      "SciPyFminCG:   79 19:48:10    -2128.999510        0.757793\n",
      "SciPyFminCG:   80 19:48:13    -2129.064514        0.425184\n",
      "SciPyFminCG:   81 19:48:16    -2129.128016        0.423326\n",
      "SciPyFminCG:   82 19:48:17    -2129.168972        0.564930\n",
      "SciPyFminCG:   83 19:48:18    -2129.187384        0.516414\n",
      "SciPyFminCG:   84 19:48:21    -2129.229467        0.277721\n",
      "SciPyFminCG:   85 19:48:24    -2129.253139        0.229981\n",
      "SciPyFminCG:   86 19:48:26    -2129.270612        0.442949\n",
      "SciPyFminCG:   87 19:48:27    -2129.287333        0.431459\n",
      "SciPyFminCG:   88 19:48:30    -2129.314386        0.336793\n",
      "SciPyFminCG:   89 19:48:32    -2129.339186        0.443071\n",
      "SciPyFminCG:   90 19:48:34    -2129.359100        0.423178\n",
      "SciPyFminCG:   91 19:48:36    -2129.401560        0.458580\n",
      "SciPyFminCG:   92 19:48:38    -2129.429177        0.272947\n",
      "SciPyFminCG:   93 19:48:40    -2129.458486        0.349504\n",
      "SciPyFminCG:   94 19:48:41    -2129.489297        0.405394\n",
      "SciPyFminCG:   95 19:48:43    -2129.533635        0.555022\n",
      "SciPyFminCG:   96 19:48:45    -2129.599955        0.569632\n",
      "SciPyFminCG:   97 19:48:46    -2129.624754        0.575618\n",
      "SciPyFminCG:   98 19:48:48    -2129.688443        0.332959\n",
      "SciPyFminCG:   99 19:48:50    -2129.716436        0.297240\n",
      "SciPyFminCG:  100 19:48:52    -2129.735975        0.229839\n",
      "SciPyFminCG:  101 19:48:55    -2129.751569        0.223326\n",
      "SciPyFminCG:  102 19:48:57    -2129.763781        0.279484\n",
      "SciPyFminCG:  103 19:48:59    -2129.776180        0.207826\n",
      "SciPyFminCG:  104 19:49:02    -2129.788204        0.277184\n",
      "SciPyFminCG:  105 19:49:04    -2129.813379        0.480637\n",
      "SciPyFminCG:  106 19:49:07    -2129.846633        0.463005\n",
      "SciPyFminCG:  107 19:49:10    -2129.891911        0.286770\n",
      "SciPyFminCG:  108 19:49:11    -2129.920467        0.281959\n",
      "SciPyFminCG:  109 19:49:13    -2129.932867        0.411576\n",
      "SciPyFminCG:  110 19:49:14    -2129.940006        0.353389\n",
      "SciPyFminCG:  111 19:49:15    -2129.948648        0.173864\n",
      "SciPyFminCG:  112 19:49:18    -2129.954285        0.190290\n",
      "SciPyFminCG:  113 19:49:20    -2129.957103        0.140385\n"
     ]
    }
   ],
   "source": [
    "# Stage 1: CG\n",
    "opt1 = StructOptimizer(model=calc, optimizer_class=\"SciPyFminCG\", use_device=\"cuda\")\n",
    "result1 = opt1.relax(structure, fmax=0.15, steps=300, relax_cell=False, verbose=True)"
   ]
  },
  {
   "cell_type": "code",
   "execution_count": 7,
   "id": "9900c903",
   "metadata": {},
   "outputs": [
    {
     "name": "stderr",
     "output_type": "stream",
     "text": [
      "/tmp/ipykernel_171975/3154571052.py:3: FutureWarning: Please use atoms.calc = calc\n",
      "  structure_1.set_calculator(calc)\n"
     ]
    },
    {
     "name": "stdout",
     "output_type": "stream",
     "text": [
      "      Step     Time          Energy          fmax\n",
      "FIRE:    0 19:49:21    -2129.957479        0.140387\n",
      "FIRE:    1 19:49:22    -2129.959921        0.118653\n",
      "FIRE:    2 19:49:23    -2129.961612        0.112097\n",
      "FIRE:    3 19:49:24    -2129.962551        0.148958\n",
      "FIRE:    4 19:49:25    -2129.964054        0.166033\n",
      "FIRE:    5 19:49:25    -2129.965933        0.102060\n",
      "FIRE:    6 19:49:26    -2129.968939        0.093156\n",
      "FIRE:    7 19:49:27    -2129.971569        0.112859\n",
      "FIRE:    8 19:49:28    -2129.974951        0.131849\n",
      "FIRE:    9 19:49:29    -2129.977393        0.098645\n",
      "FIRE:   10 19:49:30    -2129.980587        0.111992\n",
      "FIRE:   11 19:49:31    -2129.984344        0.084584\n",
      "FIRE:   12 19:49:32    -2129.987914        0.123712\n",
      "FIRE:   13 19:49:33    -2129.991296        0.188511\n",
      "FIRE:   14 19:49:34    -2129.993362        0.338385\n",
      "FIRE:   15 19:49:35    -2129.996181        0.110488\n",
      "FIRE:   16 19:49:36    -2129.996181        0.250295\n",
      "FIRE:   17 19:49:36    -2129.996368        0.210038\n",
      "FIRE:   18 19:49:38    -2129.996744        0.120096\n",
      "FIRE:   19 19:49:38    -2129.997120        0.043074\n"
     ]
    }
   ],
   "source": [
    "# Convert back, assign calculator + constraint\n",
    "structure_1 = AseAtomsAdaptor.get_atoms(result1[\"final_structure\"])\n",
    "structure_1.set_calculator(calc)\n",
    "structure_1.set_constraint(FixAtoms(mask=freeze_mask))\n",
    "\n",
    "# Stage 2: FIRE\n",
    "opt2 = StructOptimizer(model=calc, optimizer_class=\"FIRE\", use_device=\"cuda\")\n",
    "result2 = opt2.relax(structure_1, fmax=0.05, steps=400, relax_cell=False, verbose=True)"
   ]
  },
  {
   "cell_type": "code",
   "execution_count": 8,
   "id": "02e25f8e",
   "metadata": {},
   "outputs": [
    {
     "name": "stdout",
     "output_type": "stream",
     "text": [
      "✅ Final structure saved successfully.\n"
     ]
    }
   ],
   "source": [
    "from pymatgen.io.ase import AseAtomsAdaptor\n",
    "from ase.io import write\n",
    "\n",
    "# Extract final structure from result3 (FIRE)\n",
    "final_structure_pmg = result2[\"final_structure\"]  # assuming result2 = FIRE\n",
    "final_structure_ase = AseAtomsAdaptor.get_atoms(final_structure_pmg)\n",
    "\n",
    "# Save as CIF and ASE trajectory\n",
    "write(f\"relaxed_{structure_name}.cif\", final_structure_ase)\n",
    "write(f\"relaxed_{structure_name}.traj\", final_structure_ase)\n",
    "\n",
    "print(\"✅ Final structure saved successfully.\")"
   ]
  },
  {
   "cell_type": "code",
   "execution_count": 9,
   "id": "179da561",
   "metadata": {},
   "outputs": [
    {
     "name": "stdout",
     "output_type": "stream",
     "text": [
      "Li slab thickness: 21.29 Å\n",
      "Lowest Li slab atom: 32.25 Å\n",
      "LLZO top z: 31.90 Å\n",
      "Li penetration into LLZO: -0.35 Å\n"
     ]
    },
    {
     "name": "stderr",
     "output_type": "stream",
     "text": [
      "/home/mehuldarak/anaconda3/envs/mace/lib/python3.13/site-packages/pymatgen/io/cif.py:1290: UserWarning: Issues encountered while parsing CIF: 48 fractional coordinates rounded to ideal values to avoid issues with finite precision.\n",
      "  warnings.warn(\"Issues encountered while parsing CIF: \" + \"\\n\".join(self.warnings))\n"
     ]
    }
   ],
   "source": [
    "from pymatgen.core import Structure\n",
    "import numpy as np\n",
    "\n",
    "s = Structure.from_file(f\"/home/mehuldarak/summer/relax_final/{structure_name}/relaxed_{structure_name}.cif\")\n",
    "\n",
    "# Get all atoms\n",
    "z_coords = np.array([site.z for site in s.sites])\n",
    "species = np.array([site.species_string for site in s.sites])\n",
    "\n",
    "# Estimate LLZO top (non-Li atoms)\n",
    "llzo_z = z_coords[species != \"Li\"]\n",
    "llzo_top = llzo_z.max()\n",
    "\n",
    "# Now isolate Li slab: Li atoms ABOVE LLZO\n",
    "li_slab_z = np.array([site.z for site in s.sites if site.species_string == \"Li\" and site.z > llzo_top])\n",
    "\n",
    "print(f\"Li slab thickness: {li_slab_z.ptp():.2f} Å\")\n",
    "print(f\"Lowest Li slab atom: {li_slab_z.min():.2f} Å\")\n",
    "print(f\"LLZO top z: {llzo_top:.2f} Å\")\n",
    "print(f\"Li penetration into LLZO: {llzo_top - li_slab_z.min():.2f} Å\")\n"
   ]
  },
  {
   "cell_type": "code",
   "execution_count": 10,
   "id": "5d3853c1",
   "metadata": {},
   "outputs": [
    {
     "name": "stdout",
     "output_type": "stream",
     "text": [
      "             Step     Time          Energy          fmax\n",
      "SciPyFminCG:    0 19:49:40    -2129.997496        3.909278\n",
      "SciPyFminCG:    1 19:49:45    -2255.705009        6.333000\n",
      "SciPyFminCG:    2 19:49:47    -2350.452417        2.803141\n",
      "SciPyFminCG:    3 19:49:51    -2388.504385        4.153439\n",
      "SciPyFminCG:    4 19:49:53    -2394.946955        2.365697\n",
      "SciPyFminCG:    5 19:49:55    -2407.454656        1.987063\n",
      "SciPyFminCG:    6 19:49:57    -2418.019929        2.106042\n",
      "SciPyFminCG:    7 19:49:59    -2424.066648        2.423225\n",
      "SciPyFminCG:    8 19:50:01    -2431.877128        1.062821\n",
      "SciPyFminCG:    9 19:50:02    -2433.224371        0.658445\n",
      "SciPyFminCG:   10 19:50:04    -2434.054773        0.617063\n",
      "SciPyFminCG:   11 19:50:07    -2435.227482        0.955698\n",
      "SciPyFminCG:   12 19:50:08    -2436.677680        0.954639\n",
      "SciPyFminCG:   13 19:50:10    -2438.152114        0.865981\n",
      "SciPyFminCG:   14 19:50:12    -2439.541817        1.111255\n",
      "SciPyFminCG:   15 19:50:14    -2441.035977        0.755690\n",
      "SciPyFminCG:   16 19:50:16    -2442.247764        1.209532\n",
      "SciPyFminCG:   17 19:50:17    -2444.099824        1.124554\n",
      "SciPyFminCG:   18 19:50:19    -2445.464915        0.863423\n",
      "SciPyFminCG:   19 19:50:21    -2446.816104        1.168539\n",
      "SciPyFminCG:   20 19:50:22    -2448.819966        1.222348\n",
      "SciPyFminCG:   21 19:50:24    -2450.945947        0.993040\n",
      "SciPyFminCG:   22 19:50:26    -2452.472234        1.138035\n",
      "SciPyFminCG:   23 19:50:28    -2453.957376        1.282455\n",
      "SciPyFminCG:   24 19:50:29    -2455.634151        1.228460\n",
      "SciPyFminCG:   25 19:50:31    -2457.867783        1.058795\n",
      "SciPyFminCG:   26 19:50:33    -2459.971782        1.716914\n",
      "SciPyFminCG:   27 19:50:35    -2460.857043        1.667797\n",
      "SciPyFminCG:   28 19:50:36    -2462.503570        1.252073\n",
      "SciPyFminCG:   29 19:50:38    -2463.894963        0.942514\n",
      "SciPyFminCG:   30 19:50:40    -2465.068611        1.002958\n",
      "SciPyFminCG:   31 19:50:42    -2466.091960        1.041551\n",
      "SciPyFminCG:   32 19:50:43    -2466.933259        0.968202\n",
      "SciPyFminCG:   33 19:50:45    -2467.694148        0.720309\n",
      "SciPyFminCG:   34 19:50:47    -2468.430238        0.767846\n",
      "SciPyFminCG:   35 19:50:49    -2469.251810        0.623589\n",
      "SciPyFminCG:   36 19:50:50    -2470.171453        0.954294\n",
      "SciPyFminCG:   37 19:50:52    -2471.253794        1.172678\n",
      "SciPyFminCG:   38 19:50:54    -2472.479483        2.362951\n",
      "SciPyFminCG:   39 19:50:56    -2474.514156        1.333950\n",
      "SciPyFminCG:   40 19:50:57    -2477.449685        1.499933\n",
      "SciPyFminCG:   41 19:50:59    -2480.916333        1.613692\n",
      "SciPyFminCG:   42 19:51:01    -2483.986004        3.103745\n",
      "SciPyFminCG:   43 19:51:03    -2486.637655        2.397203\n",
      "SciPyFminCG:   44 19:51:04    -2490.508796        1.441591\n",
      "SciPyFminCG:   45 19:51:06    -2494.649723        2.037300\n",
      "SciPyFminCG:   46 19:51:08    -2498.772239        1.805960\n",
      "SciPyFminCG:   47 19:51:10    -2502.635676        2.071168\n",
      "SciPyFminCG:   48 19:51:11    -2506.422086        1.212667\n",
      "SciPyFminCG:   49 19:51:13    -2509.760228        1.282598\n",
      "SciPyFminCG:   50 19:51:15    -2512.655364        1.474253\n",
      "SciPyFminCG:   51 19:51:16    -2515.050568        1.206939\n",
      "SciPyFminCG:   52 19:51:18    -2517.301108        1.332411\n",
      "SciPyFminCG:   53 19:51:20    -2519.169326        1.417979\n",
      "SciPyFminCG:   54 19:51:22    -2520.902086        0.886015\n",
      "SciPyFminCG:   55 19:51:23    -2522.465760        0.956868\n",
      "SciPyFminCG:   56 19:51:25    -2524.106275        1.163527\n",
      "SciPyFminCG:   57 19:51:26    -2525.426464        1.383718\n",
      "SciPyFminCG:   58 19:51:28    -2526.880608        1.042106\n",
      "SciPyFminCG:   59 19:51:30    -2528.292855        1.019598\n",
      "SciPyFminCG:   60 19:51:31    -2529.480782        0.961707\n",
      "SciPyFminCG:   61 19:51:33    -2530.544899        1.060227\n",
      "SciPyFminCG:   62 19:51:35    -2531.699947        0.823038\n",
      "SciPyFminCG:   63 19:51:37    -2532.922630        0.991006\n",
      "SciPyFminCG:   64 19:51:38    -2534.036910        1.196674\n",
      "SciPyFminCG:   65 19:51:40    -2535.199098        1.127823\n",
      "SciPyFminCG:   66 19:51:41    -2536.366170        1.328895\n",
      "SciPyFminCG:   67 19:51:43    -2537.587914        1.042759\n",
      "SciPyFminCG:   68 19:51:45    -2538.920503        1.152318\n",
      "SciPyFminCG:   69 19:51:47    -2540.138865        1.045630\n",
      "SciPyFminCG:   70 19:51:48    -2541.333930        0.938448\n",
      "SciPyFminCG:   71 19:51:50    -2542.667834        0.854856\n",
      "SciPyFminCG:   72 19:51:51    -2543.935419        0.993055\n",
      "SciPyFminCG:   73 19:51:53    -2545.094413        0.987571\n",
      "SciPyFminCG:   74 19:51:55    -2546.429256        1.360596\n",
      "SciPyFminCG:   75 19:51:56    -2547.824783        0.922370\n",
      "SciPyFminCG:   76 19:51:58    -2549.277612        1.491964\n",
      "SciPyFminCG:   77 19:52:00    -2550.676896        1.308346\n",
      "SciPyFminCG:   78 19:52:01    -2551.940348        1.436809\n",
      "SciPyFminCG:   79 19:52:03    -2553.254901        0.795892\n",
      "SciPyFminCG:   80 19:52:04    -2554.279189        1.038349\n",
      "SciPyFminCG:   81 19:52:06    -2555.276987        1.412536\n",
      "SciPyFminCG:   82 19:52:07    -2556.425836        1.908621\n",
      "SciPyFminCG:   83 19:52:09    -2557.416682        1.025860\n",
      "SciPyFminCG:   84 19:52:11    -2558.618887        1.057193\n",
      "SciPyFminCG:   85 19:52:12    -2559.829734        1.255559\n",
      "SciPyFminCG:   86 19:52:14    -2560.830162        1.886562\n",
      "SciPyFminCG:   87 19:52:16    -2561.794706        1.725692\n",
      "SciPyFminCG:   88 19:52:17    -2562.728439        1.222251\n",
      "SciPyFminCG:   89 19:52:18    -2563.736570        1.024298\n",
      "SciPyFminCG:   90 19:52:20    -2564.815342        1.013509\n",
      "SciPyFminCG:   91 19:52:22    -2565.923985        1.246520\n",
      "SciPyFminCG:   92 19:52:23    -2566.772048        1.031249\n",
      "SciPyFminCG:   93 19:52:25    -2567.649231        1.180352\n",
      "SciPyFminCG:   94 19:52:26    -2568.719360        1.274279\n",
      "SciPyFminCG:   95 19:52:28    -2569.621155        1.281635\n",
      "SciPyFminCG:   96 19:52:30    -2570.467902        1.492483\n",
      "SciPyFminCG:   97 19:52:31    -2571.337570        0.957810\n",
      "SciPyFminCG:   98 19:52:32    -2572.423669        1.043662\n",
      "SciPyFminCG:   99 19:52:34    -2573.466932        0.959154\n",
      "SciPyFminCG:  100 19:52:36    -2574.530110        1.045311\n",
      "SciPyFminCG:  101 19:52:37    -2575.801453        1.322625\n",
      "SciPyFminCG:  102 19:52:39    -2576.899575        1.556989\n",
      "SciPyFminCG:  103 19:52:40    -2578.032830        0.921851\n",
      "SciPyFminCG:  104 19:52:42    -2579.539391        1.313934\n",
      "SciPyFminCG:  105 19:52:43    -2581.524466        1.500203\n",
      "SciPyFminCG:  106 19:52:45    -2582.840898        1.782666\n",
      "SciPyFminCG:  107 19:52:46    -2583.960062        0.871365\n",
      "SciPyFminCG:  108 19:52:48    -2584.949594        0.994986\n",
      "SciPyFminCG:  109 19:52:49    -2586.299655        1.171606\n",
      "SciPyFminCG:  110 19:52:51    -2587.527598        1.218762\n",
      "SciPyFminCG:  111 19:52:52    -2588.516378        1.004207\n",
      "SciPyFminCG:  112 19:52:53    -2589.432451        0.899345\n",
      "SciPyFminCG:  113 19:52:55    -2590.274502        1.263793\n",
      "SciPyFminCG:  114 19:52:56    -2591.122189        0.791761\n",
      "SciPyFminCG:  115 19:52:58    -2591.897356        0.906983\n",
      "SciPyFminCG:  116 19:52:59    -2592.686802        1.003246\n",
      "SciPyFminCG:  117 19:53:01    -2593.446188        1.015904\n",
      "SciPyFminCG:  118 19:53:02    -2594.213840        0.854776\n",
      "SciPyFminCG:  119 19:53:04    -2595.078060        0.909876\n",
      "SciPyFminCG:  120 19:53:05    -2595.883287        1.182055\n",
      "SciPyFminCG:  121 19:53:07    -2596.672733        1.037171\n",
      "SciPyFminCG:  122 19:53:08    -2597.449028        0.828246\n",
      "SciPyFminCG:  123 19:53:09    -2598.410942        1.201194\n",
      "SciPyFminCG:  124 19:53:11    -2599.444624        1.194588\n",
      "SciPyFminCG:  125 19:53:12    -2600.423635        1.042299\n",
      "SciPyFminCG:  126 19:53:14    -2601.307957        1.238256\n",
      "SciPyFminCG:  127 19:53:15    -2602.348590        1.383913\n",
      "SciPyFminCG:  128 19:53:17    -2603.712742        1.350641\n",
      "SciPyFminCG:  129 19:53:18    -2604.920583        0.879250\n",
      "SciPyFminCG:  130 19:53:20    -2606.111703        1.023484\n",
      "SciPyFminCG:  131 19:53:21    -2607.348852        1.130978\n",
      "SciPyFminCG:  132 19:53:22    -2608.562893        1.227122\n",
      "SciPyFminCG:  133 19:53:24    -2609.818454        1.210440\n",
      "SciPyFminCG:  134 19:53:25    -2610.935927        1.220955\n",
      "SciPyFminCG:  135 19:53:27    -2612.007372        1.058527\n",
      "SciPyFminCG:  136 19:53:28    -2612.992019        1.295022\n",
      "SciPyFminCG:  137 19:53:29    -2614.043549        1.275412\n",
      "SciPyFminCG:  138 19:53:31    -2615.082115        0.985212\n",
      "SciPyFminCG:  139 19:53:32    -2615.976770        1.224535\n",
      "SciPyFminCG:  140 19:53:34    -2616.921964        1.854779\n",
      "SciPyFminCG:  141 19:53:35    -2617.924083        0.868005\n",
      "SciPyFminCG:  142 19:53:36    -2618.970728        1.348110\n",
      "SciPyFminCG:  143 19:53:38    -2620.028833        0.888352\n",
      "SciPyFminCG:  144 19:53:39    -2620.948100        1.339611\n",
      "SciPyFminCG:  145 19:53:40    -2621.600586        1.284081\n",
      "SciPyFminCG:  146 19:53:42    -2622.558179        1.549347\n",
      "SciPyFminCG:  147 19:53:43    -2623.555601        1.004613\n",
      "SciPyFminCG:  148 19:53:44    -2624.265013        0.776389\n",
      "SciPyFminCG:  149 19:53:46    -2624.736576        1.104950\n",
      "SciPyFminCG:  150 19:53:47    -2625.241957        0.883621\n",
      "SciPyFminCG:  151 19:53:48    -2625.798063        1.062116\n",
      "SciPyFminCG:  152 19:53:50    -2626.398508        1.012589\n",
      "SciPyFminCG:  153 19:53:51    -2627.164658        0.740448\n",
      "SciPyFminCG:  154 19:53:52    -2627.973267        0.978332\n",
      "SciPyFminCG:  155 19:53:54    -2628.661824        0.758040\n",
      "SciPyFminCG:  156 19:53:55    -2629.154242        0.817706\n",
      "SciPyFminCG:  157 19:53:57    -2629.700203        0.785202\n",
      "SciPyFminCG:  158 19:53:58    -2630.177027        0.704773\n",
      "SciPyFminCG:  159 19:53:59    -2630.650469        0.781214\n",
      "SciPyFminCG:  160 19:54:01    -2631.076567        0.829104\n",
      "SciPyFminCG:  161 19:54:02    -2631.604680        0.916262\n",
      "SciPyFminCG:  162 19:54:03    -2632.091461        0.943462\n",
      "SciPyFminCG:  163 19:54:05    -2632.798994        1.115120\n",
      "SciPyFminCG:  164 19:54:06    -2633.756775        1.249601\n",
      "SciPyFminCG:  165 19:54:07    -2634.719816        1.209371\n",
      "SciPyFminCG:  166 19:54:09    -2635.571448        1.104189\n",
      "SciPyFminCG:  167 19:54:10    -2636.753926        1.094764\n",
      "SciPyFminCG:  168 19:54:11    -2637.871024        1.235987\n",
      "SciPyFminCG:  169 19:54:13    -2638.763801        1.021081\n",
      "SciPyFminCG:  170 19:54:14    -2639.599276        1.158354\n",
      "SciPyFminCG:  171 19:54:15    -2640.438508        1.176535\n",
      "SciPyFminCG:  172 19:54:17    -2641.237911        1.455052\n",
      "SciPyFminCG:  173 19:54:18    -2641.855640        0.814057\n",
      "SciPyFminCG:  174 19:54:19    -2642.469612        1.043920\n",
      "SciPyFminCG:  175 19:54:20    -2643.223738        0.997359\n",
      "SciPyFminCG:  176 19:54:22    -2643.903277        0.952755\n",
      "SciPyFminCG:  177 19:54:23    -2644.388931        0.881835\n",
      "SciPyFminCG:  178 19:54:24    -2644.959128        1.062051\n",
      "SciPyFminCG:  179 19:54:25    -2645.593390        1.045552\n",
      "SciPyFminCG:  180 19:54:27    -2646.192896        1.237373\n",
      "SciPyFminCG:  181 19:54:28    -2646.809498        1.197917\n",
      "SciPyFminCG:  182 19:54:29    -2647.458790        0.978453\n",
      "SciPyFminCG:  183 19:54:31    -2648.052659        0.941786\n",
      "SciPyFminCG:  184 19:54:32    -2648.743659        1.242949\n",
      "SciPyFminCG:  185 19:54:33    -2649.358382        1.405057\n",
      "SciPyFminCG:  186 19:54:34    -2650.046564        0.846943\n",
      "SciPyFminCG:  187 19:54:35    -2650.960195        1.233563\n",
      "SciPyFminCG:  188 19:54:37    -2651.786276        0.975909\n",
      "SciPyFminCG:  189 19:54:38    -2652.626448        0.979193\n",
      "SciPyFminCG:  190 19:54:39    -2653.408191        0.940732\n",
      "SciPyFminCG:  191 19:54:40    -2654.114033        0.895779\n",
      "SciPyFminCG:  192 19:54:42    -2654.767458        1.331344\n",
      "SciPyFminCG:  193 19:54:43    -2655.285050        1.104592\n",
      "SciPyFminCG:  194 19:54:44    -2656.003668        1.021663\n",
      "SciPyFminCG:  195 19:54:45    -2656.531969        0.964376\n",
      "SciPyFminCG:  196 19:54:47    -2657.028332        0.789894\n",
      "SciPyFminCG:  197 19:54:48    -2657.472090        0.957851\n",
      "SciPyFminCG:  198 19:54:49    -2657.907206        0.965665\n",
      "SciPyFminCG:  199 19:54:50    -2658.428931        0.815002\n",
      "SciPyFminCG:  200 19:54:52    -2659.003637        1.237256\n",
      "SciPyFminCG:  201 19:54:53    -2659.578531        1.096523\n",
      "SciPyFminCG:  202 19:54:54    -2660.122238        1.168347\n",
      "SciPyFminCG:  203 19:54:55    -2660.748234        1.181676\n",
      "SciPyFminCG:  204 19:54:56    -2661.374605        0.833827\n",
      "SciPyFminCG:  205 19:54:58    -2661.994025        1.102004\n",
      "SciPyFminCG:  206 19:54:59    -2662.615324        0.811175\n",
      "SciPyFminCG:  207 19:55:00    -2663.234744        1.123109\n",
      "SciPyFminCG:  208 19:55:01    -2663.792729        1.016007\n",
      "SciPyFminCG:  209 19:55:03    -2664.460621        1.274946\n",
      "SciPyFminCG:  210 19:55:04    -2665.047915        1.026566\n",
      "SciPyFminCG:  211 19:55:05    -2665.578470        1.141023\n",
      "SciPyFminCG:  212 19:55:06    -2666.180794        0.808643\n",
      "SciPyFminCG:  213 19:55:07    -2666.596746        0.972790\n",
      "SciPyFminCG:  214 19:55:09    -2667.076764        0.938771\n",
      "SciPyFminCG:  215 19:55:10    -2667.647149        1.295062\n",
      "SciPyFminCG:  216 19:55:11    -2668.257551        1.030435\n",
      "SciPyFminCG:  217 19:55:12    -2668.955878        0.932859\n",
      "SciPyFminCG:  218 19:55:13    -2669.694035        1.194327\n",
      "SciPyFminCG:  219 19:55:15    -2670.457554        0.810317\n",
      "SciPyFminCG:  220 19:55:16    -2671.290211        1.061206\n",
      "SciPyFminCG:  221 19:55:17    -2672.135831        1.037588\n",
      "SciPyFminCG:  222 19:55:18    -2672.976566        1.337385\n",
      "SciPyFminCG:  223 19:55:19    -2673.757746        1.098687\n",
      "SciPyFminCG:  224 19:55:20    -2674.734314        1.150191\n",
      "SciPyFminCG:  225 19:55:22    -2675.709755        1.339761\n",
      "SciPyFminCG:  226 19:55:23    -2676.872506        1.707132\n",
      "SciPyFminCG:  227 19:55:24    -2677.969689        1.309343\n",
      "SciPyFminCG:  228 19:55:25    -2679.126804        1.329468\n",
      "SciPyFminCG:  229 19:55:26    -2680.368463        1.289061\n",
      "SciPyFminCG:  230 19:55:27    -2681.594339        1.149227\n",
      "SciPyFminCG:  231 19:55:28    -2682.802744        1.475526\n",
      "SciPyFminCG:  232 19:55:29    -2683.917775        1.296354\n",
      "SciPyFminCG:  233 19:55:31    -2685.150603        1.540342\n",
      "SciPyFminCG:  234 19:55:32    -2686.201006        1.437502\n",
      "SciPyFminCG:  235 19:55:33    -2687.174192        1.706061\n",
      "SciPyFminCG:  236 19:55:34    -2688.090265        1.312986\n",
      "SciPyFminCG:  237 19:55:35    -2689.201915        1.233009\n",
      "SciPyFminCG:  238 19:55:36    -2690.537134        1.481738\n",
      "SciPyFminCG:  239 19:55:37    -2691.957460        1.107048\n",
      "SciPyFminCG:  240 19:55:38    -2692.954507        0.983314\n",
      "SciPyFminCG:  241 19:55:39    -2694.096028        1.137001\n",
      "SciPyFminCG:  242 19:55:40    -2695.221768        1.315609\n",
      "SciPyFminCG:  243 19:55:42    -2696.025681        1.789538\n",
      "SciPyFminCG:  244 19:55:43    -2696.801224        1.646761\n",
      "SciPyFminCG:  245 19:55:44    -2697.947066        2.942714\n",
      "SciPyFminCG:  246 19:55:45    -2699.159040        1.419469\n",
      "SciPyFminCG:  247 19:55:46    -2700.290605        1.458388\n",
      "SciPyFminCG:  248 19:55:47    -2701.354346        2.064493\n",
      "SciPyFminCG:  249 19:55:48    -2702.202785        1.321844\n",
      "SciPyFminCG:  250 19:55:49    -2703.218618        1.026503\n",
      "SciPyFminCG:  251 19:55:50    -2704.199696        1.297535\n",
      "SciPyFminCG:  252 19:55:51    -2705.395137        1.702854\n",
      "SciPyFminCG:  253 19:55:52    -2706.261047        1.785071\n",
      "SciPyFminCG:  254 19:55:53    -2707.425114        1.079765\n",
      "SciPyFminCG:  255 19:55:55    -2708.595568        1.257187\n",
      "SciPyFminCG:  256 19:55:55    -2709.857516        1.728451\n",
      "SciPyFminCG:  257 19:55:57    -2711.160609        1.283091\n",
      "SciPyFminCG:  258 19:55:57    -2712.677127        1.334676\n",
      "SciPyFminCG:  259 19:55:59    -2714.053679        1.674156\n",
      "SciPyFminCG:  260 19:56:00    -2715.387395        1.686407\n",
      "SciPyFminCG:  261 19:56:01    -2716.590727        1.408518\n",
      "SciPyFminCG:  262 19:56:02    -2717.809277        2.044220\n",
      "SciPyFminCG:  263 19:56:03    -2719.328049        1.724900\n",
      "SciPyFminCG:  264 19:56:04    -2720.880450        2.175591\n",
      "SciPyFminCG:  265 19:56:05    -2722.346993        1.638508\n",
      "SciPyFminCG:  266 19:56:06    -2723.859190        1.873126\n",
      "SciPyFminCG:  267 19:56:07    -2725.583872        2.205241\n",
      "SciPyFminCG:  268 19:56:08    -2726.965684        2.272899\n",
      "SciPyFminCG:  269 19:56:09    -2728.413440        3.291488\n",
      "SciPyFminCG:  270 19:56:10    -2729.663364        1.432272\n",
      "SciPyFminCG:  271 19:56:11    -2731.123896        2.113663\n",
      "SciPyFminCG:  272 19:56:12    -2732.857408        2.870960\n",
      "SciPyFminCG:  273 19:56:13    -2733.780432        2.293059\n",
      "SciPyFminCG:  274 19:56:14    -2735.045762        1.306420\n",
      "SciPyFminCG:  275 19:56:15    -2736.039051        1.463536\n",
      "SciPyFminCG:  276 19:56:16    -2736.965457        0.961014\n",
      "SciPyFminCG:  277 19:56:17    -2737.776133        1.267948\n",
      "SciPyFminCG:  278 19:56:18    -2738.666655        1.209234\n",
      "SciPyFminCG:  279 19:56:19    -2739.489542        1.776955\n",
      "SciPyFminCG:  280 19:56:20    -2740.340047        1.448747\n",
      "SciPyFminCG:  281 19:56:21    -2741.096991        1.011455\n",
      "SciPyFminCG:  282 19:56:22    -2742.215779        1.575979\n",
      "SciPyFminCG:  283 19:56:23    -2742.948299        1.050633\n",
      "SciPyFminCG:  284 19:56:25    -2744.142801        2.265518\n",
      "SciPyFminCG:  285 19:56:26    -2745.241300        1.011135\n",
      "SciPyFminCG:  286 19:56:28    -2746.711788        1.805136\n",
      "SciPyFminCG:  287 19:56:29    -2748.183968        2.728778\n",
      "SciPyFminCG:  288 19:56:31    -2750.311827        1.773204\n",
      "SciPyFminCG:  289 19:56:32    -2751.962862        1.645504\n",
      "SciPyFminCG:  290 19:56:34    -2754.068928        2.747094\n",
      "SciPyFminCG:  291 19:56:35    -2755.257042        1.359899\n",
      "SciPyFminCG:  292 19:56:36    -2757.179555        4.492392\n",
      "SciPyFminCG:  293 19:56:37    -2758.001879        1.234946\n",
      "SciPyFminCG:  294 19:56:38    -2759.181726        2.259081\n",
      "SciPyFminCG:  295 19:56:39    -2760.193427        1.850217\n",
      "SciPyFminCG:  296 19:56:40    -2760.724734        0.566789\n",
      "SciPyFminCG:  297 19:56:41    -2761.301319        1.836615\n",
      "SciPyFminCG:  298 19:56:42    -2761.906837        1.319391\n",
      "SciPyFminCG:  299 19:56:43    -2762.302311        1.566434\n",
      "SciPyFminCG:  300 19:56:45    -2763.448529        1.826493\n",
      "SciPyFminCG:  301 19:56:45    -2764.112851        0.725738\n",
      "SciPyFminCG:  302 19:56:47    -2765.052032        1.197242\n",
      "SciPyFminCG:  303 19:56:48    -2765.620914        0.829290\n",
      "SciPyFminCG:  304 19:56:49    -2766.139071        0.636933\n",
      "SciPyFminCG:  305 19:56:50    -2766.474425        0.835848\n",
      "SciPyFminCG:  306 19:56:51    -2766.829883        0.600904\n",
      "SciPyFminCG:  307 19:56:52    -2767.259362        1.590085\n",
      "SciPyFminCG:  308 19:56:53    -2767.876152        1.534108\n",
      "SciPyFminCG:  309 19:56:54    -2768.719330        1.207098\n",
      "SciPyFminCG:  310 19:56:55    -2769.508964        1.079384\n",
      "SciPyFminCG:  311 19:56:56    -2770.103960        0.907968\n",
      "SciPyFminCG:  312 19:56:57    -2770.664763        0.605256\n",
      "SciPyFminCG:  313 19:56:58    -2770.977198        0.613493\n",
      "SciPyFminCG:  314 19:56:59    -2771.375490        1.119229\n",
      "SciPyFminCG:  315 19:57:00    -2771.940990        1.033362\n",
      "SciPyFminCG:  316 19:57:01    -2772.414057        1.038485\n",
      "SciPyFminCG:  317 19:57:02    -2772.936158        0.596371\n",
      "SciPyFminCG:  318 19:57:03    -2773.213648        0.543116\n",
      "SciPyFminCG:  319 19:57:04    -2773.692726        1.066281\n",
      "SciPyFminCG:  320 19:57:05    -2774.137424        0.983522\n",
      "SciPyFminCG:  321 19:57:06    -2774.774504        0.766222\n",
      "SciPyFminCG:  322 19:57:08    -2775.540090        1.054068\n",
      "SciPyFminCG:  323 19:57:08    -2776.158007        0.910920\n",
      "SciPyFminCG:  324 19:57:09    -2776.696265        0.911711\n",
      "SciPyFminCG:  325 19:57:10    -2777.129127        0.937696\n",
      "SciPyFminCG:  326 19:57:11    -2777.477633        1.129214\n",
      "SciPyFminCG:  327 19:57:12    -2777.842859        0.300848\n",
      "SciPyFminCG:  328 19:57:14    -2778.071502        0.509757\n",
      "SciPyFminCG:  329 19:57:14    -2778.361955        0.712394\n",
      "SciPyFminCG:  330 19:57:15    -2778.758181        0.547102\n",
      "SciPyFminCG:  331 19:57:17    -2779.085833        0.737319\n",
      "SciPyFminCG:  332 19:57:18    -2779.454629        1.072603\n",
      "SciPyFminCG:  333 19:57:18    -2780.010548        0.956016\n",
      "SciPyFminCG:  334 19:57:20    -2780.330497        0.855482\n",
      "SciPyFminCG:  335 19:57:20    -2780.595399        0.670949\n",
      "SciPyFminCG:  336 19:57:21    -2780.924178        0.436259\n",
      "SciPyFminCG:  337 19:57:23    -2781.320404        0.663260\n",
      "SciPyFminCG:  338 19:57:24    -2781.622881        0.956387\n",
      "SciPyFminCG:  339 19:57:24    -2782.222950        0.923595\n",
      "SciPyFminCG:  340 19:57:26    -2782.725700        0.822603\n",
      "SciPyFminCG:  341 19:57:26    -2782.924471        1.028969\n",
      "SciPyFminCG:  342 19:57:28    -2783.216990        0.862124\n",
      "SciPyFminCG:  343 19:57:28    -2783.782679        1.183912\n",
      "SciPyFminCG:  344 19:57:30    -2784.431031        1.682672\n",
      "SciPyFminCG:  345 19:57:30    -2784.867274        1.018149\n",
      "SciPyFminCG:  346 19:57:31    -2785.174636        0.704178\n",
      "SciPyFminCG:  347 19:57:32    -2785.532348        0.658182\n",
      "SciPyFminCG:  348 19:57:33    -2785.795371        0.989725\n",
      "SciPyFminCG:  349 19:57:34    -2785.975730        0.929742\n",
      "SciPyFminCG:  350 19:57:35    -2786.184646        0.541468\n",
      "SciPyFminCG:  351 19:57:36    -2786.398634        0.795037\n",
      "SciPyFminCG:  352 19:57:37    -2786.624834        0.612021\n",
      "SciPyFminCG:  353 19:57:37    -2786.790163        0.456839\n",
      "SciPyFminCG:  354 19:57:39    -2787.084749        1.317382\n",
      "SciPyFminCG:  355 19:57:40    -2787.531889        1.490979\n",
      "SciPyFminCG:  356 19:57:40    -2788.369431        1.363936\n",
      "SciPyFminCG:  357 19:57:41    -2789.440124        1.243203\n",
      "SciPyFminCG:  358 19:57:42    -2789.869603        1.089737\n",
      "SciPyFminCG:  359 19:57:43    -2790.252678        1.058900\n",
      "SciPyFminCG:  360 19:57:44    -2790.539937        0.999224\n",
      "SciPyFminCG:  361 19:57:45    -2790.772901        0.725885\n",
      "SciPyFminCG:  362 19:57:46    -2791.005676        0.677314\n",
      "SciPyFminCG:  363 19:57:47    -2791.207077        0.889664\n",
      "SciPyFminCG:  364 19:57:47    -2791.408478        0.749199\n",
      "SciPyFminCG:  365 19:57:48    -2791.678265        0.754863\n",
      "SciPyFminCG:  366 19:57:49    -2791.847727        0.919368\n",
      "SciPyFminCG:  367 19:57:50    -2792.007044        0.994512\n",
      "SciPyFminCG:  368 19:57:51    -2792.275140        1.108829\n",
      "SciPyFminCG:  369 19:57:52    -2792.493637        0.617911\n",
      "SciPyFminCG:  370 19:57:53    -2792.766994        1.016246\n",
      "SciPyFminCG:  371 19:57:53    -2793.011793        1.188470\n",
      "SciPyFminCG:  372 19:57:54    -2793.288343        0.812960\n",
      "SciPyFminCG:  373 19:57:55    -2793.623322        1.603380\n",
      "SciPyFminCG:  374 19:57:56    -2793.986858        1.117435\n",
      "SciPyFminCG:  375 19:57:57    -2794.502008        1.491166\n",
      "SciPyFminCG:  376 19:57:58    -2795.007953        1.095964\n",
      "SciPyFminCG:  377 19:57:59    -2795.615349        1.540201\n",
      "SciPyFminCG:  378 19:57:59    -2796.100251        1.458706\n",
      "SciPyFminCG:  379 19:58:00    -2796.511319        1.221525\n",
      "SciPyFminCG:  380 19:58:01    -2797.086213        1.406895\n",
      "SciPyFminCG:  381 19:58:02    -2797.479809        0.770528\n",
      "SciPyFminCG:  382 19:58:03    -2797.860817        1.540390\n",
      "SciPyFminCG:  383 19:58:04    -2798.218153        1.010604\n",
      "SciPyFminCG:  384 19:58:05    -2798.554635        0.668281\n",
      "SciPyFminCG:  385 19:58:05    -2798.858051        1.391056\n",
      "SciPyFminCG:  386 19:58:06    -2799.180443        1.061299\n",
      "SciPyFminCG:  387 19:58:07    -2799.674739        1.194266\n",
      "SciPyFminCG:  388 19:58:08    -2800.071904        0.937248\n",
      "SciPyFminCG:  389 19:58:09    -2800.409889        0.655024\n",
      "SciPyFminCG:  390 19:58:10    -2800.786388        1.383859\n",
      "SciPyFminCG:  391 19:58:10    -2801.155560        1.039134\n",
      "SciPyFminCG:  392 19:58:11    -2801.561180        0.927402\n",
      "SciPyFminCG:  393 19:58:12    -2801.897099        1.412683\n",
      "SciPyFminCG:  394 19:58:13    -2802.310797        1.104179\n",
      "SciPyFminCG:  395 19:58:14    -2802.770712        1.590728\n",
      "SciPyFminCG:  396 19:58:15    -2803.122975        0.927960\n",
      "SciPyFminCG:  397 19:58:16    -2803.469227        0.926718\n",
      "SciPyFminCG:  398 19:58:16    -2803.821678        1.519312\n",
      "SciPyFminCG:  399 19:58:17    -2804.136743        0.821836\n",
      "SciPyFminCG:  400 19:58:18    -2804.489382        0.892273\n"
     ]
    }
   ],
   "source": [
    "import os\n",
    "from chgnet.model import StructOptimizer\n",
    "from pymatgen.core import Structure\n",
    "from chgnet.model.dynamics import CHGNetCalculator\n",
    "\n",
    "structure_path = f\"/home/mehuldarak/summer/relax_final/{structure_name}/relaxed_{structure_name}.cif\"\n",
    "structure = Structure.from_file(structure_path)\n",
    "\n",
    "# Output path\n",
    "output_dir = f\"/home/mehuldarak/summer/relax_final\"\n",
    "os.makedirs(output_dir, exist_ok=True)\n",
    "output_path = os.path.join(output_dir, f\"cellrelaxed_{structure_name}.cif\")\n",
    "\n",
    "# Run CHGNet relaxation\n",
    "opt1 = StructOptimizer(model=calc, optimizer_class=\"SciPyFminCG\", use_device=\"cuda\")\n",
    "result = opt1.relax(\n",
    "    structure,\n",
    "    fmax=0.15,           # You can adjust depending on accuracy/speed tradeoff\n",
    "    steps=400,\n",
    "    relax_cell=True,\n",
    "    verbose=True\n",
    ")"
   ]
  },
  {
   "cell_type": "code",
   "execution_count": 11,
   "id": "41fd0c4a",
   "metadata": {},
   "outputs": [
    {
     "name": "stderr",
     "output_type": "stream",
     "text": [
      "/tmp/ipykernel_171975/1077038773.py:3: FutureWarning: Please use atoms.calc = calc\n",
      "  structure_1.set_calculator(calc)\n"
     ]
    },
    {
     "name": "stdout",
     "output_type": "stream",
     "text": [
      "      Step     Time          Energy          fmax\n",
      "FIRE:    0 19:58:18    -2804.489382        0.159020\n",
      "FIRE:    1 19:58:19    -2804.494642        0.158923\n"
     ]
    },
    {
     "name": "stderr",
     "output_type": "stream",
     "text": [
      "/home/mehuldarak/anaconda3/envs/mace/lib/python3.13/site-packages/ase/filters.py:606: RuntimeWarning: logm result may be inaccurate, approximate err = 2.491224120496366e-13\n",
      "  pos[natoms:] = self.logm(pos[natoms:]) * self.exp_cell_factor\n"
     ]
    },
    {
     "name": "stdout",
     "output_type": "stream",
     "text": [
      "FIRE:    2 19:58:19    -2804.504036        0.158742\n"
     ]
    },
    {
     "name": "stderr",
     "output_type": "stream",
     "text": [
      "/home/mehuldarak/anaconda3/envs/mace/lib/python3.13/site-packages/ase/filters.py:606: RuntimeWarning: logm result may be inaccurate, approximate err = 2.5175914164823543e-13\n",
      "  pos[natoms:] = self.logm(pos[natoms:]) * self.exp_cell_factor\n"
     ]
    },
    {
     "name": "stdout",
     "output_type": "stream",
     "text": [
      "FIRE:    3 19:58:20    -2804.515684        0.158510\n"
     ]
    },
    {
     "name": "stderr",
     "output_type": "stream",
     "text": [
      "/home/mehuldarak/anaconda3/envs/mace/lib/python3.13/site-packages/ase/filters.py:606: RuntimeWarning: logm result may be inaccurate, approximate err = 2.5087126478479967e-13\n",
      "  pos[natoms:] = self.logm(pos[natoms:]) * self.exp_cell_factor\n"
     ]
    },
    {
     "name": "stdout",
     "output_type": "stream",
     "text": [
      "FIRE:    4 19:58:20    -2804.529023        0.158256\n"
     ]
    },
    {
     "name": "stderr",
     "output_type": "stream",
     "text": [
      "/home/mehuldarak/anaconda3/envs/mace/lib/python3.13/site-packages/ase/filters.py:606: RuntimeWarning: logm result may be inaccurate, approximate err = 2.5618177741794394e-13\n",
      "  pos[natoms:] = self.logm(pos[natoms:]) * self.exp_cell_factor\n"
     ]
    },
    {
     "name": "stdout",
     "output_type": "stream",
     "text": [
      "FIRE:    5 19:58:20    -2804.541986        0.158004\n"
     ]
    },
    {
     "name": "stderr",
     "output_type": "stream",
     "text": [
      "/home/mehuldarak/anaconda3/envs/mace/lib/python3.13/site-packages/ase/filters.py:606: RuntimeWarning: logm result may be inaccurate, approximate err = 2.508456624834234e-13\n",
      "  pos[natoms:] = self.logm(pos[natoms:]) * self.exp_cell_factor\n"
     ]
    },
    {
     "name": "stdout",
     "output_type": "stream",
     "text": [
      "FIRE:    6 19:58:21    -2804.554762        0.157764\n"
     ]
    },
    {
     "name": "stderr",
     "output_type": "stream",
     "text": [
      "/home/mehuldarak/anaconda3/envs/mace/lib/python3.13/site-packages/ase/filters.py:606: RuntimeWarning: logm result may be inaccurate, approximate err = 2.5228798040956715e-13\n",
      "  pos[natoms:] = self.logm(pos[natoms:]) * self.exp_cell_factor\n"
     ]
    },
    {
     "name": "stdout",
     "output_type": "stream",
     "text": [
      "FIRE:    7 19:58:21    -2804.566974        0.157562\n"
     ]
    },
    {
     "name": "stderr",
     "output_type": "stream",
     "text": [
      "/home/mehuldarak/anaconda3/envs/mace/lib/python3.13/site-packages/ase/filters.py:606: RuntimeWarning: logm result may be inaccurate, approximate err = 2.483014945947754e-13\n",
      "  pos[natoms:] = self.logm(pos[natoms:]) * self.exp_cell_factor\n"
     ]
    },
    {
     "name": "stdout",
     "output_type": "stream",
     "text": [
      "FIRE:    8 19:58:22    -2804.581252        0.157396\n"
     ]
    },
    {
     "name": "stderr",
     "output_type": "stream",
     "text": [
      "/home/mehuldarak/anaconda3/envs/mace/lib/python3.13/site-packages/ase/filters.py:606: RuntimeWarning: logm result may be inaccurate, approximate err = 2.5843345001852923e-13\n",
      "  pos[natoms:] = self.logm(pos[natoms:]) * self.exp_cell_factor\n"
     ]
    },
    {
     "name": "stdout",
     "output_type": "stream",
     "text": [
      "FIRE:    9 19:58:22    -2804.596470        0.157260\n"
     ]
    },
    {
     "name": "stderr",
     "output_type": "stream",
     "text": [
      "/home/mehuldarak/anaconda3/envs/mace/lib/python3.13/site-packages/ase/filters.py:606: RuntimeWarning: logm result may be inaccurate, approximate err = 2.4955848325076106e-13\n",
      "  pos[natoms:] = self.logm(pos[natoms:]) * self.exp_cell_factor\n"
     ]
    },
    {
     "name": "stdout",
     "output_type": "stream",
     "text": [
      "FIRE:   10 19:58:23    -2804.612439        0.157135\n"
     ]
    },
    {
     "name": "stderr",
     "output_type": "stream",
     "text": [
      "/home/mehuldarak/anaconda3/envs/mace/lib/python3.13/site-packages/ase/filters.py:606: RuntimeWarning: logm result may be inaccurate, approximate err = 2.505677942702021e-13\n",
      "  pos[natoms:] = self.logm(pos[natoms:]) * self.exp_cell_factor\n"
     ]
    },
    {
     "name": "stdout",
     "output_type": "stream",
     "text": [
      "FIRE:   11 19:58:23    -2804.629348        0.156972\n"
     ]
    },
    {
     "name": "stderr",
     "output_type": "stream",
     "text": [
      "/home/mehuldarak/anaconda3/envs/mace/lib/python3.13/site-packages/ase/filters.py:606: RuntimeWarning: logm result may be inaccurate, approximate err = 2.561463927177519e-13\n",
      "  pos[natoms:] = self.logm(pos[natoms:]) * self.exp_cell_factor\n"
     ]
    },
    {
     "name": "stdout",
     "output_type": "stream",
     "text": [
      "FIRE:   12 19:58:23    -2804.648135        0.156721\n"
     ]
    },
    {
     "name": "stderr",
     "output_type": "stream",
     "text": [
      "/home/mehuldarak/anaconda3/envs/mace/lib/python3.13/site-packages/ase/filters.py:606: RuntimeWarning: logm result may be inaccurate, approximate err = 2.4933263951838024e-13\n",
      "  pos[natoms:] = self.logm(pos[natoms:]) * self.exp_cell_factor\n"
     ]
    },
    {
     "name": "stdout",
     "output_type": "stream",
     "text": [
      "FIRE:   13 19:58:24    -2804.668801        0.156341\n"
     ]
    },
    {
     "name": "stderr",
     "output_type": "stream",
     "text": [
      "/home/mehuldarak/anaconda3/envs/mace/lib/python3.13/site-packages/ase/filters.py:606: RuntimeWarning: logm result may be inaccurate, approximate err = 2.5082366111318266e-13\n",
      "  pos[natoms:] = self.logm(pos[natoms:]) * self.exp_cell_factor\n"
     ]
    },
    {
     "name": "stdout",
     "output_type": "stream",
     "text": [
      "FIRE:   14 19:58:24    -2804.692473        0.155795\n"
     ]
    },
    {
     "name": "stderr",
     "output_type": "stream",
     "text": [
      "/home/mehuldarak/anaconda3/envs/mace/lib/python3.13/site-packages/ase/filters.py:606: RuntimeWarning: logm result may be inaccurate, approximate err = 2.549813848102305e-13\n",
      "  pos[natoms:] = self.logm(pos[natoms:]) * self.exp_cell_factor\n"
     ]
    },
    {
     "name": "stdout",
     "output_type": "stream",
     "text": [
      "FIRE:   15 19:58:25    -2804.719715        0.155032\n"
     ]
    },
    {
     "name": "stderr",
     "output_type": "stream",
     "text": [
      "/home/mehuldarak/anaconda3/envs/mace/lib/python3.13/site-packages/ase/filters.py:606: RuntimeWarning: logm result may be inaccurate, approximate err = 2.454231266184163e-13\n",
      "  pos[natoms:] = self.logm(pos[natoms:]) * self.exp_cell_factor\n"
     ]
    },
    {
     "name": "stdout",
     "output_type": "stream",
     "text": [
      "FIRE:   16 19:58:25    -2804.749775        0.154176\n"
     ]
    },
    {
     "name": "stderr",
     "output_type": "stream",
     "text": [
      "/home/mehuldarak/anaconda3/envs/mace/lib/python3.13/site-packages/ase/filters.py:606: RuntimeWarning: logm result may be inaccurate, approximate err = 2.523963549097611e-13\n",
      "  pos[natoms:] = self.logm(pos[natoms:]) * self.exp_cell_factor\n"
     ]
    },
    {
     "name": "stdout",
     "output_type": "stream",
     "text": [
      "FIRE:   17 19:58:25    -2804.783780        0.153287\n"
     ]
    },
    {
     "name": "stderr",
     "output_type": "stream",
     "text": [
      "/home/mehuldarak/anaconda3/envs/mace/lib/python3.13/site-packages/ase/filters.py:606: RuntimeWarning: logm result may be inaccurate, approximate err = 2.557025181128002e-13\n",
      "  pos[natoms:] = self.logm(pos[natoms:]) * self.exp_cell_factor\n"
     ]
    },
    {
     "name": "stdout",
     "output_type": "stream",
     "text": [
      "FIRE:   18 19:58:26    -2804.823234        0.152478\n"
     ]
    },
    {
     "name": "stderr",
     "output_type": "stream",
     "text": [
      "/home/mehuldarak/anaconda3/envs/mace/lib/python3.13/site-packages/ase/filters.py:606: RuntimeWarning: logm result may be inaccurate, approximate err = 2.4952391055051384e-13\n",
      "  pos[natoms:] = self.logm(pos[natoms:]) * self.exp_cell_factor\n"
     ]
    },
    {
     "name": "stdout",
     "output_type": "stream",
     "text": [
      "FIRE:   19 19:58:26    -2804.864566        0.151569\n"
     ]
    },
    {
     "name": "stderr",
     "output_type": "stream",
     "text": [
      "/home/mehuldarak/anaconda3/envs/mace/lib/python3.13/site-packages/ase/filters.py:606: RuntimeWarning: logm result may be inaccurate, approximate err = 2.511137153723672e-13\n",
      "  pos[natoms:] = self.logm(pos[natoms:]) * self.exp_cell_factor\n"
     ]
    },
    {
     "name": "stdout",
     "output_type": "stream",
     "text": [
      "FIRE:   20 19:58:27    -2804.906274        0.150161\n"
     ]
    },
    {
     "name": "stderr",
     "output_type": "stream",
     "text": [
      "/home/mehuldarak/anaconda3/envs/mace/lib/python3.13/site-packages/ase/filters.py:606: RuntimeWarning: logm result may be inaccurate, approximate err = 2.5619847135252077e-13\n",
      "  pos[natoms:] = self.logm(pos[natoms:]) * self.exp_cell_factor\n"
     ]
    },
    {
     "name": "stdout",
     "output_type": "stream",
     "text": [
      "FIRE:   21 19:58:27    -2804.946291        0.148634\n"
     ]
    },
    {
     "name": "stderr",
     "output_type": "stream",
     "text": [
      "/home/mehuldarak/anaconda3/envs/mace/lib/python3.13/site-packages/ase/filters.py:606: RuntimeWarning: logm result may be inaccurate, approximate err = 2.50072152509836e-13\n",
      "  pos[natoms:] = self.logm(pos[natoms:]) * self.exp_cell_factor\n"
     ]
    },
    {
     "name": "stdout",
     "output_type": "stream",
     "text": [
      "FIRE:   22 19:58:28    -2804.986496        0.147478\n"
     ]
    },
    {
     "name": "stderr",
     "output_type": "stream",
     "text": [
      "/home/mehuldarak/anaconda3/envs/mace/lib/python3.13/site-packages/ase/filters.py:606: RuntimeWarning: logm result may be inaccurate, approximate err = 2.5168372279642566e-13\n",
      "  pos[natoms:] = self.logm(pos[natoms:]) * self.exp_cell_factor\n"
     ]
    },
    {
     "name": "stdout",
     "output_type": "stream",
     "text": [
      "FIRE:   23 19:58:28    -2805.026325        0.146257\n"
     ]
    },
    {
     "name": "stderr",
     "output_type": "stream",
     "text": [
      "/home/mehuldarak/anaconda3/envs/mace/lib/python3.13/site-packages/ase/filters.py:606: RuntimeWarning: logm result may be inaccurate, approximate err = 2.57531476713551e-13\n",
      "  pos[natoms:] = self.logm(pos[natoms:]) * self.exp_cell_factor\n"
     ]
    },
    {
     "name": "stdout",
     "output_type": "stream",
     "text": [
      "FIRE:   24 19:58:28    -2805.065779        0.144803\n"
     ]
    },
    {
     "name": "stderr",
     "output_type": "stream",
     "text": [
      "/home/mehuldarak/anaconda3/envs/mace/lib/python3.13/site-packages/ase/filters.py:606: RuntimeWarning: logm result may be inaccurate, approximate err = 2.581938174185944e-13\n",
      "  pos[natoms:] = self.logm(pos[natoms:]) * self.exp_cell_factor\n"
     ]
    },
    {
     "name": "stdout",
     "output_type": "stream",
     "text": [
      "FIRE:   25 19:58:29    -2805.104481        0.143347\n"
     ]
    },
    {
     "name": "stderr",
     "output_type": "stream",
     "text": [
      "/home/mehuldarak/anaconda3/envs/mace/lib/python3.13/site-packages/ase/filters.py:606: RuntimeWarning: logm result may be inaccurate, approximate err = 2.4810687867044317e-13\n",
      "  pos[natoms:] = self.logm(pos[natoms:]) * self.exp_cell_factor\n"
     ]
    },
    {
     "name": "stdout",
     "output_type": "stream",
     "text": [
      "FIRE:   26 19:58:29    -2805.142056        0.141891\n"
     ]
    },
    {
     "name": "stderr",
     "output_type": "stream",
     "text": [
      "/home/mehuldarak/anaconda3/envs/mace/lib/python3.13/site-packages/ase/filters.py:606: RuntimeWarning: logm result may be inaccurate, approximate err = 2.5469774394458947e-13\n",
      "  pos[natoms:] = self.logm(pos[natoms:]) * self.exp_cell_factor\n"
     ]
    },
    {
     "name": "stdout",
     "output_type": "stream",
     "text": [
      "FIRE:   27 19:58:30    -2805.178879        0.140468\n"
     ]
    },
    {
     "name": "stderr",
     "output_type": "stream",
     "text": [
      "/home/mehuldarak/anaconda3/envs/mace/lib/python3.13/site-packages/ase/filters.py:606: RuntimeWarning: logm result may be inaccurate, approximate err = 2.489009807836556e-13\n",
      "  pos[natoms:] = self.logm(pos[natoms:]) * self.exp_cell_factor\n"
     ]
    },
    {
     "name": "stdout",
     "output_type": "stream",
     "text": [
      "FIRE:   28 19:58:30    -2805.215702        0.139103\n"
     ]
    },
    {
     "name": "stderr",
     "output_type": "stream",
     "text": [
      "/home/mehuldarak/anaconda3/envs/mace/lib/python3.13/site-packages/ase/filters.py:606: RuntimeWarning: logm result may be inaccurate, approximate err = 2.558739147129214e-13\n",
      "  pos[natoms:] = self.logm(pos[natoms:]) * self.exp_cell_factor\n"
     ]
    },
    {
     "name": "stdout",
     "output_type": "stream",
     "text": [
      "FIRE:   29 19:58:30    -2805.252337        0.137553\n"
     ]
    },
    {
     "name": "stderr",
     "output_type": "stream",
     "text": [
      "/home/mehuldarak/anaconda3/envs/mace/lib/python3.13/site-packages/ase/filters.py:606: RuntimeWarning: logm result may be inaccurate, approximate err = 2.431671834307438e-13\n",
      "  pos[natoms:] = self.logm(pos[natoms:]) * self.exp_cell_factor\n"
     ]
    },
    {
     "name": "stdout",
     "output_type": "stream",
     "text": [
      "FIRE:   30 19:58:31    -2805.288221        0.135961\n"
     ]
    },
    {
     "name": "stderr",
     "output_type": "stream",
     "text": [
      "/home/mehuldarak/anaconda3/envs/mace/lib/python3.13/site-packages/ase/filters.py:606: RuntimeWarning: logm result may be inaccurate, approximate err = 2.475354633971729e-13\n",
      "  pos[natoms:] = self.logm(pos[natoms:]) * self.exp_cell_factor\n"
     ]
    },
    {
     "name": "stdout",
     "output_type": "stream",
     "text": [
      "FIRE:   31 19:58:31    -2805.324105        0.134555\n"
     ]
    },
    {
     "name": "stderr",
     "output_type": "stream",
     "text": [
      "/home/mehuldarak/anaconda3/envs/mace/lib/python3.13/site-packages/ase/filters.py:606: RuntimeWarning: logm result may be inaccurate, approximate err = 2.4934848725099736e-13\n",
      "  pos[natoms:] = self.logm(pos[natoms:]) * self.exp_cell_factor\n"
     ]
    },
    {
     "name": "stdout",
     "output_type": "stream",
     "text": [
      "FIRE:   32 19:58:32    -2805.358298        0.133045\n"
     ]
    },
    {
     "name": "stderr",
     "output_type": "stream",
     "text": [
      "/home/mehuldarak/anaconda3/envs/mace/lib/python3.13/site-packages/ase/filters.py:606: RuntimeWarning: logm result may be inaccurate, approximate err = 2.452662588494115e-13\n",
      "  pos[natoms:] = self.logm(pos[natoms:]) * self.exp_cell_factor\n"
     ]
    },
    {
     "name": "stdout",
     "output_type": "stream",
     "text": [
      "FIRE:   33 19:58:32    -2805.391552        0.131475\n"
     ]
    },
    {
     "name": "stderr",
     "output_type": "stream",
     "text": [
      "/home/mehuldarak/anaconda3/envs/mace/lib/python3.13/site-packages/ase/filters.py:606: RuntimeWarning: logm result may be inaccurate, approximate err = 2.585745256936852e-13\n",
      "  pos[natoms:] = self.logm(pos[natoms:]) * self.exp_cell_factor\n"
     ]
    },
    {
     "name": "stdout",
     "output_type": "stream",
     "text": [
      "FIRE:   34 19:58:33    -2805.424618        0.130000\n"
     ]
    },
    {
     "name": "stderr",
     "output_type": "stream",
     "text": [
      "/home/mehuldarak/anaconda3/envs/mace/lib/python3.13/site-packages/ase/filters.py:606: RuntimeWarning: logm result may be inaccurate, approximate err = 2.555502915628923e-13\n",
      "  pos[natoms:] = self.logm(pos[natoms:]) * self.exp_cell_factor\n"
     ]
    },
    {
     "name": "stdout",
     "output_type": "stream",
     "text": [
      "FIRE:   35 19:58:33    -2805.457120        0.128515\n"
     ]
    },
    {
     "name": "stderr",
     "output_type": "stream",
     "text": [
      "/home/mehuldarak/anaconda3/envs/mace/lib/python3.13/site-packages/ase/filters.py:606: RuntimeWarning: logm result may be inaccurate, approximate err = 2.591088030451006e-13\n",
      "  pos[natoms:] = self.logm(pos[natoms:]) * self.exp_cell_factor\n"
     ]
    },
    {
     "name": "stdout",
     "output_type": "stream",
     "text": [
      "FIRE:   36 19:58:33    -2805.489622        0.127017\n"
     ]
    },
    {
     "name": "stderr",
     "output_type": "stream",
     "text": [
      "/home/mehuldarak/anaconda3/envs/mace/lib/python3.13/site-packages/ase/filters.py:606: RuntimeWarning: logm result may be inaccurate, approximate err = 2.48140734601349e-13\n",
      "  pos[natoms:] = self.logm(pos[natoms:]) * self.exp_cell_factor\n"
     ]
    },
    {
     "name": "stdout",
     "output_type": "stream",
     "text": [
      "FIRE:   37 19:58:34    -2805.521373        0.125577\n"
     ]
    },
    {
     "name": "stderr",
     "output_type": "stream",
     "text": [
      "/home/mehuldarak/anaconda3/envs/mace/lib/python3.13/site-packages/ase/filters.py:606: RuntimeWarning: logm result may be inaccurate, approximate err = 2.4802696936119526e-13\n",
      "  pos[natoms:] = self.logm(pos[natoms:]) * self.exp_cell_factor\n"
     ]
    },
    {
     "name": "stdout",
     "output_type": "stream",
     "text": [
      "FIRE:   38 19:58:34    -2805.553123        0.124125\n"
     ]
    },
    {
     "name": "stderr",
     "output_type": "stream",
     "text": [
      "/home/mehuldarak/anaconda3/envs/mace/lib/python3.13/site-packages/ase/filters.py:606: RuntimeWarning: logm result may be inaccurate, approximate err = 2.5326584967272245e-13\n",
      "  pos[natoms:] = self.logm(pos[natoms:]) * self.exp_cell_factor\n"
     ]
    },
    {
     "name": "stdout",
     "output_type": "stream",
     "text": [
      "FIRE:   39 19:58:35    -2805.584311        0.122605\n"
     ]
    },
    {
     "name": "stderr",
     "output_type": "stream",
     "text": [
      "/home/mehuldarak/anaconda3/envs/mace/lib/python3.13/site-packages/ase/filters.py:606: RuntimeWarning: logm result may be inaccurate, approximate err = 2.570404194038641e-13\n",
      "  pos[natoms:] = self.logm(pos[natoms:]) * self.exp_cell_factor\n"
     ]
    },
    {
     "name": "stdout",
     "output_type": "stream",
     "text": [
      "FIRE:   40 19:58:35    -2805.615498        0.121104\n"
     ]
    },
    {
     "name": "stderr",
     "output_type": "stream",
     "text": [
      "/home/mehuldarak/anaconda3/envs/mace/lib/python3.13/site-packages/ase/filters.py:606: RuntimeWarning: logm result may be inaccurate, approximate err = 2.5435454013554436e-13\n",
      "  pos[natoms:] = self.logm(pos[natoms:]) * self.exp_cell_factor\n"
     ]
    },
    {
     "name": "stdout",
     "output_type": "stream",
     "text": [
      "FIRE:   41 19:58:35    -2805.646121        0.119608\n"
     ]
    },
    {
     "name": "stderr",
     "output_type": "stream",
     "text": [
      "/home/mehuldarak/anaconda3/envs/mace/lib/python3.13/site-packages/ase/filters.py:606: RuntimeWarning: logm result may be inaccurate, approximate err = 2.4403618909981906e-13\n",
      "  pos[natoms:] = self.logm(pos[natoms:]) * self.exp_cell_factor\n"
     ]
    },
    {
     "name": "stdout",
     "output_type": "stream",
     "text": [
      "FIRE:   42 19:58:36    -2805.676369        0.118032\n"
     ]
    },
    {
     "name": "stderr",
     "output_type": "stream",
     "text": [
      "/home/mehuldarak/anaconda3/envs/mace/lib/python3.13/site-packages/ase/filters.py:606: RuntimeWarning: logm result may be inaccurate, approximate err = 2.5056965682675104e-13\n",
      "  pos[natoms:] = self.logm(pos[natoms:]) * self.exp_cell_factor\n"
     ]
    },
    {
     "name": "stdout",
     "output_type": "stream",
     "text": [
      "FIRE:   43 19:58:36    -2805.706241        0.116423\n"
     ]
    },
    {
     "name": "stderr",
     "output_type": "stream",
     "text": [
      "/home/mehuldarak/anaconda3/envs/mace/lib/python3.13/site-packages/ase/filters.py:606: RuntimeWarning: logm result may be inaccurate, approximate err = 2.525988673140808e-13\n",
      "  pos[natoms:] = self.logm(pos[natoms:]) * self.exp_cell_factor\n"
     ]
    },
    {
     "name": "stdout",
     "output_type": "stream",
     "text": [
      "FIRE:   44 19:58:37    -2805.735361        0.114892\n"
     ]
    },
    {
     "name": "stderr",
     "output_type": "stream",
     "text": [
      "/home/mehuldarak/anaconda3/envs/mace/lib/python3.13/site-packages/ase/filters.py:606: RuntimeWarning: logm result may be inaccurate, approximate err = 2.543143313903043e-13\n",
      "  pos[natoms:] = self.logm(pos[natoms:]) * self.exp_cell_factor\n"
     ]
    },
    {
     "name": "stdout",
     "output_type": "stream",
     "text": [
      "FIRE:   45 19:58:37    -2805.764294        0.113380\n"
     ]
    },
    {
     "name": "stderr",
     "output_type": "stream",
     "text": [
      "/home/mehuldarak/anaconda3/envs/mace/lib/python3.13/site-packages/ase/filters.py:606: RuntimeWarning: logm result may be inaccurate, approximate err = 2.5728157642510107e-13\n",
      "  pos[natoms:] = self.logm(pos[natoms:]) * self.exp_cell_factor\n"
     ]
    },
    {
     "name": "stdout",
     "output_type": "stream",
     "text": [
      "FIRE:   46 19:58:37    -2805.793038        0.111819\n"
     ]
    },
    {
     "name": "stderr",
     "output_type": "stream",
     "text": [
      "/home/mehuldarak/anaconda3/envs/mace/lib/python3.13/site-packages/ase/filters.py:606: RuntimeWarning: logm result may be inaccurate, approximate err = 2.573022738601792e-13\n",
      "  pos[natoms:] = self.logm(pos[natoms:]) * self.exp_cell_factor\n"
     ]
    },
    {
     "name": "stdout",
     "output_type": "stream",
     "text": [
      "FIRE:   47 19:58:38    -2805.820280        0.110260\n"
     ]
    },
    {
     "name": "stderr",
     "output_type": "stream",
     "text": [
      "/home/mehuldarak/anaconda3/envs/mace/lib/python3.13/site-packages/ase/filters.py:606: RuntimeWarning: logm result may be inaccurate, approximate err = 2.4988939296124523e-13\n",
      "  pos[natoms:] = self.logm(pos[natoms:]) * self.exp_cell_factor\n"
     ]
    },
    {
     "name": "stdout",
     "output_type": "stream",
     "text": [
      "FIRE:   48 19:58:38    -2805.847898        0.108766\n"
     ]
    },
    {
     "name": "stderr",
     "output_type": "stream",
     "text": [
      "/home/mehuldarak/anaconda3/envs/mace/lib/python3.13/site-packages/ase/filters.py:606: RuntimeWarning: logm result may be inaccurate, approximate err = 2.540005556442919e-13\n",
      "  pos[natoms:] = self.logm(pos[natoms:]) * self.exp_cell_factor\n"
     ]
    },
    {
     "name": "stdout",
     "output_type": "stream",
     "text": [
      "FIRE:   49 19:58:39    -2805.874576        0.107307\n"
     ]
    },
    {
     "name": "stderr",
     "output_type": "stream",
     "text": [
      "/home/mehuldarak/anaconda3/envs/mace/lib/python3.13/site-packages/ase/filters.py:606: RuntimeWarning: logm result may be inaccurate, approximate err = 2.4998160192725644e-13\n",
      "  pos[natoms:] = self.logm(pos[natoms:]) * self.exp_cell_factor\n"
     ]
    },
    {
     "name": "stdout",
     "output_type": "stream",
     "text": [
      "FIRE:   50 19:58:39    -2805.900690        0.105828\n"
     ]
    },
    {
     "name": "stderr",
     "output_type": "stream",
     "text": [
      "/home/mehuldarak/anaconda3/envs/mace/lib/python3.13/site-packages/ase/filters.py:606: RuntimeWarning: logm result may be inaccurate, approximate err = 2.6436118284863975e-13\n",
      "  pos[natoms:] = self.logm(pos[natoms:]) * self.exp_cell_factor\n"
     ]
    },
    {
     "name": "stdout",
     "output_type": "stream",
     "text": [
      "FIRE:   51 19:58:40    -2805.926241        0.104325\n"
     ]
    },
    {
     "name": "stderr",
     "output_type": "stream",
     "text": [
      "/home/mehuldarak/anaconda3/envs/mace/lib/python3.13/site-packages/ase/filters.py:606: RuntimeWarning: logm result may be inaccurate, approximate err = 2.5763767773897386e-13\n",
      "  pos[natoms:] = self.logm(pos[natoms:]) * self.exp_cell_factor\n"
     ]
    },
    {
     "name": "stdout",
     "output_type": "stream",
     "text": [
      "FIRE:   52 19:58:40    -2805.951416        0.102825\n"
     ]
    },
    {
     "name": "stderr",
     "output_type": "stream",
     "text": [
      "/home/mehuldarak/anaconda3/envs/mace/lib/python3.13/site-packages/ase/filters.py:606: RuntimeWarning: logm result may be inaccurate, approximate err = 2.4537629532838823e-13\n",
      "  pos[natoms:] = self.logm(pos[natoms:]) * self.exp_cell_factor\n"
     ]
    },
    {
     "name": "stdout",
     "output_type": "stream",
     "text": [
      "FIRE:   53 19:58:40    -2805.975840        0.101318\n"
     ]
    },
    {
     "name": "stderr",
     "output_type": "stream",
     "text": [
      "/home/mehuldarak/anaconda3/envs/mace/lib/python3.13/site-packages/ase/filters.py:606: RuntimeWarning: logm result may be inaccurate, approximate err = 2.4390540948785385e-13\n",
      "  pos[natoms:] = self.logm(pos[natoms:]) * self.exp_cell_factor\n"
     ]
    },
    {
     "name": "stdout",
     "output_type": "stream",
     "text": [
      "FIRE:   54 19:58:41    -2805.999887        0.099805\n"
     ]
    },
    {
     "name": "stderr",
     "output_type": "stream",
     "text": [
      "/home/mehuldarak/anaconda3/envs/mace/lib/python3.13/site-packages/ase/filters.py:606: RuntimeWarning: logm result may be inaccurate, approximate err = 2.4523185881555027e-13\n",
      "  pos[natoms:] = self.logm(pos[natoms:]) * self.exp_cell_factor\n"
     ]
    },
    {
     "name": "stdout",
     "output_type": "stream",
     "text": [
      "FIRE:   55 19:58:41    -2806.023935        0.098307\n"
     ]
    },
    {
     "name": "stderr",
     "output_type": "stream",
     "text": [
      "/home/mehuldarak/anaconda3/envs/mace/lib/python3.13/site-packages/ase/filters.py:606: RuntimeWarning: logm result may be inaccurate, approximate err = 2.497513838292576e-13\n",
      "  pos[natoms:] = self.logm(pos[natoms:]) * self.exp_cell_factor\n"
     ]
    },
    {
     "name": "stdout",
     "output_type": "stream",
     "text": [
      "FIRE:   56 19:58:42    -2806.047983        0.096836\n"
     ]
    },
    {
     "name": "stderr",
     "output_type": "stream",
     "text": [
      "/home/mehuldarak/anaconda3/envs/mace/lib/python3.13/site-packages/ase/filters.py:606: RuntimeWarning: logm result may be inaccurate, approximate err = 2.612266949400742e-13\n",
      "  pos[natoms:] = self.logm(pos[natoms:]) * self.exp_cell_factor\n"
     ]
    },
    {
     "name": "stdout",
     "output_type": "stream",
     "text": [
      "FIRE:   57 19:58:42    -2806.070904        0.095357\n"
     ]
    },
    {
     "name": "stderr",
     "output_type": "stream",
     "text": [
      "/home/mehuldarak/anaconda3/envs/mace/lib/python3.13/site-packages/ase/filters.py:606: RuntimeWarning: logm result may be inaccurate, approximate err = 2.505772435001971e-13\n",
      "  pos[natoms:] = self.logm(pos[natoms:]) * self.exp_cell_factor\n"
     ]
    },
    {
     "name": "stdout",
     "output_type": "stream",
     "text": [
      "FIRE:   58 19:58:42    -2806.093449        0.093847\n"
     ]
    },
    {
     "name": "stderr",
     "output_type": "stream",
     "text": [
      "/home/mehuldarak/anaconda3/envs/mace/lib/python3.13/site-packages/ase/filters.py:606: RuntimeWarning: logm result may be inaccurate, approximate err = 2.486683787873727e-13\n",
      "  pos[natoms:] = self.logm(pos[natoms:]) * self.exp_cell_factor\n"
     ]
    },
    {
     "name": "stdout",
     "output_type": "stream",
     "text": [
      "FIRE:   59 19:58:43    -2806.116745        0.092333\n"
     ]
    },
    {
     "name": "stderr",
     "output_type": "stream",
     "text": [
      "/home/mehuldarak/anaconda3/envs/mace/lib/python3.13/site-packages/ase/filters.py:606: RuntimeWarning: logm result may be inaccurate, approximate err = 2.6096192942210834e-13\n",
      "  pos[natoms:] = self.logm(pos[natoms:]) * self.exp_cell_factor\n"
     ]
    },
    {
     "name": "stdout",
     "output_type": "stream",
     "text": [
      "FIRE:   60 19:58:43    -2806.138350        0.090824\n"
     ]
    },
    {
     "name": "stderr",
     "output_type": "stream",
     "text": [
      "/home/mehuldarak/anaconda3/envs/mace/lib/python3.13/site-packages/ase/filters.py:606: RuntimeWarning: logm result may be inaccurate, approximate err = 2.511759646142494e-13\n",
      "  pos[natoms:] = self.logm(pos[natoms:]) * self.exp_cell_factor\n"
     ]
    },
    {
     "name": "stdout",
     "output_type": "stream",
     "text": [
      "FIRE:   61 19:58:44    -2806.160144        0.089289\n"
     ]
    },
    {
     "name": "stderr",
     "output_type": "stream",
     "text": [
      "/home/mehuldarak/anaconda3/envs/mace/lib/python3.13/site-packages/ase/filters.py:606: RuntimeWarning: logm result may be inaccurate, approximate err = 2.4876277636306867e-13\n",
      "  pos[natoms:] = self.logm(pos[natoms:]) * self.exp_cell_factor\n"
     ]
    },
    {
     "name": "stdout",
     "output_type": "stream",
     "text": [
      "FIRE:   62 19:58:44    -2806.181749        0.087711\n"
     ]
    },
    {
     "name": "stderr",
     "output_type": "stream",
     "text": [
      "/home/mehuldarak/anaconda3/envs/mace/lib/python3.13/site-packages/ase/filters.py:606: RuntimeWarning: logm result may be inaccurate, approximate err = 2.6574875149531423e-13\n",
      "  pos[natoms:] = self.logm(pos[natoms:]) * self.exp_cell_factor\n"
     ]
    },
    {
     "name": "stdout",
     "output_type": "stream",
     "text": [
      "FIRE:   63 19:58:44    -2806.202415        0.086148\n"
     ]
    },
    {
     "name": "stderr",
     "output_type": "stream",
     "text": [
      "/home/mehuldarak/anaconda3/envs/mace/lib/python3.13/site-packages/ase/filters.py:606: RuntimeWarning: logm result may be inaccurate, approximate err = 2.511044997873576e-13\n",
      "  pos[natoms:] = self.logm(pos[natoms:]) * self.exp_cell_factor\n"
     ]
    },
    {
     "name": "stdout",
     "output_type": "stream",
     "text": [
      "FIRE:   64 19:58:45    -2806.222330        0.084622\n"
     ]
    },
    {
     "name": "stderr",
     "output_type": "stream",
     "text": [
      "/home/mehuldarak/anaconda3/envs/mace/lib/python3.13/site-packages/ase/filters.py:606: RuntimeWarning: logm result may be inaccurate, approximate err = 2.4892086149334695e-13\n",
      "  pos[natoms:] = self.logm(pos[natoms:]) * self.exp_cell_factor\n"
     ]
    },
    {
     "name": "stdout",
     "output_type": "stream",
     "text": [
      "FIRE:   65 19:58:45    -2806.242808        0.083120\n"
     ]
    },
    {
     "name": "stderr",
     "output_type": "stream",
     "text": [
      "/home/mehuldarak/anaconda3/envs/mace/lib/python3.13/site-packages/ase/filters.py:606: RuntimeWarning: logm result may be inaccurate, approximate err = 2.5269910481964994e-13\n",
      "  pos[natoms:] = self.logm(pos[natoms:]) * self.exp_cell_factor\n"
     ]
    },
    {
     "name": "stdout",
     "output_type": "stream",
     "text": [
      "FIRE:   66 19:58:46    -2806.261971        0.081650\n"
     ]
    },
    {
     "name": "stderr",
     "output_type": "stream",
     "text": [
      "/home/mehuldarak/anaconda3/envs/mace/lib/python3.13/site-packages/ase/filters.py:606: RuntimeWarning: logm result may be inaccurate, approximate err = 2.4825169732535536e-13\n",
      "  pos[natoms:] = self.logm(pos[natoms:]) * self.exp_cell_factor\n"
     ]
    },
    {
     "name": "stdout",
     "output_type": "stream",
     "text": [
      "FIRE:   67 19:58:46    -2806.281886        0.080201\n"
     ]
    },
    {
     "name": "stderr",
     "output_type": "stream",
     "text": [
      "/home/mehuldarak/anaconda3/envs/mace/lib/python3.13/site-packages/ase/filters.py:606: RuntimeWarning: logm result may be inaccurate, approximate err = 2.5193457414383397e-13\n",
      "  pos[natoms:] = self.logm(pos[natoms:]) * self.exp_cell_factor\n"
     ]
    },
    {
     "name": "stdout",
     "output_type": "stream",
     "text": [
      "FIRE:   68 19:58:47    -2806.300298        0.078770\n"
     ]
    },
    {
     "name": "stderr",
     "output_type": "stream",
     "text": [
      "/home/mehuldarak/anaconda3/envs/mace/lib/python3.13/site-packages/ase/filters.py:606: RuntimeWarning: logm result may be inaccurate, approximate err = 2.56659220446998e-13\n",
      "  pos[natoms:] = self.logm(pos[natoms:]) * self.exp_cell_factor\n"
     ]
    },
    {
     "name": "stdout",
     "output_type": "stream",
     "text": [
      "FIRE:   69 19:58:47    -2806.318897        0.077353\n"
     ]
    },
    {
     "name": "stderr",
     "output_type": "stream",
     "text": [
      "/home/mehuldarak/anaconda3/envs/mace/lib/python3.13/site-packages/ase/filters.py:606: RuntimeWarning: logm result may be inaccurate, approximate err = 2.670981545246788e-13\n",
      "  pos[natoms:] = self.logm(pos[natoms:]) * self.exp_cell_factor\n"
     ]
    },
    {
     "name": "stdout",
     "output_type": "stream",
     "text": [
      "FIRE:   70 19:58:47    -2806.337309        0.075950\n"
     ]
    },
    {
     "name": "stderr",
     "output_type": "stream",
     "text": [
      "/home/mehuldarak/anaconda3/envs/mace/lib/python3.13/site-packages/ase/filters.py:606: RuntimeWarning: logm result may be inaccurate, approximate err = 2.4951275033723477e-13\n",
      "  pos[natoms:] = self.logm(pos[natoms:]) * self.exp_cell_factor\n"
     ]
    },
    {
     "name": "stdout",
     "output_type": "stream",
     "text": [
      "FIRE:   71 19:58:48    -2806.355533        0.074542\n"
     ]
    },
    {
     "name": "stderr",
     "output_type": "stream",
     "text": [
      "/home/mehuldarak/anaconda3/envs/mace/lib/python3.13/site-packages/ase/filters.py:606: RuntimeWarning: logm result may be inaccurate, approximate err = 2.5341801317604027e-13\n",
      "  pos[natoms:] = self.logm(pos[natoms:]) * self.exp_cell_factor\n"
     ]
    },
    {
     "name": "stdout",
     "output_type": "stream",
     "text": [
      "FIRE:   72 19:58:48    -2806.373381        0.073114\n"
     ]
    },
    {
     "name": "stderr",
     "output_type": "stream",
     "text": [
      "/home/mehuldarak/anaconda3/envs/mace/lib/python3.13/site-packages/ase/filters.py:606: RuntimeWarning: logm result may be inaccurate, approximate err = 2.519153761958758e-13\n",
      "  pos[natoms:] = self.logm(pos[natoms:]) * self.exp_cell_factor\n"
     ]
    },
    {
     "name": "stdout",
     "output_type": "stream",
     "text": [
      "FIRE:   73 19:58:49    -2806.390101        0.071681\n"
     ]
    },
    {
     "name": "stderr",
     "output_type": "stream",
     "text": [
      "/home/mehuldarak/anaconda3/envs/mace/lib/python3.13/site-packages/ase/filters.py:606: RuntimeWarning: logm result may be inaccurate, approximate err = 2.5017924704823186e-13\n",
      "  pos[natoms:] = self.logm(pos[natoms:]) * self.exp_cell_factor\n"
     ]
    },
    {
     "name": "stdout",
     "output_type": "stream",
     "text": [
      "FIRE:   74 19:58:49    -2806.407198        0.070279\n"
     ]
    },
    {
     "name": "stderr",
     "output_type": "stream",
     "text": [
      "/home/mehuldarak/anaconda3/envs/mace/lib/python3.13/site-packages/ase/filters.py:606: RuntimeWarning: logm result may be inaccurate, approximate err = 2.479418963266848e-13\n",
      "  pos[natoms:] = self.logm(pos[natoms:]) * self.exp_cell_factor\n"
     ]
    },
    {
     "name": "stdout",
     "output_type": "stream",
     "text": [
      "FIRE:   75 19:58:49    -2806.424482        0.068887\n"
     ]
    },
    {
     "name": "stderr",
     "output_type": "stream",
     "text": [
      "/home/mehuldarak/anaconda3/envs/mace/lib/python3.13/site-packages/ase/filters.py:606: RuntimeWarning: logm result may be inaccurate, approximate err = 2.5109371883097774e-13\n",
      "  pos[natoms:] = self.logm(pos[natoms:]) * self.exp_cell_factor\n"
     ]
    },
    {
     "name": "stdout",
     "output_type": "stream",
     "text": [
      "FIRE:   76 19:58:50    -2806.441203        0.067508\n"
     ]
    },
    {
     "name": "stderr",
     "output_type": "stream",
     "text": [
      "/home/mehuldarak/anaconda3/envs/mace/lib/python3.13/site-packages/ase/filters.py:606: RuntimeWarning: logm result may be inaccurate, approximate err = 2.5996721338745474e-13\n",
      "  pos[natoms:] = self.logm(pos[natoms:]) * self.exp_cell_factor\n"
     ]
    },
    {
     "name": "stdout",
     "output_type": "stream",
     "text": [
      "FIRE:   77 19:58:50    -2806.458300        0.066112\n"
     ]
    },
    {
     "name": "stderr",
     "output_type": "stream",
     "text": [
      "/home/mehuldarak/anaconda3/envs/mace/lib/python3.13/site-packages/ase/filters.py:606: RuntimeWarning: logm result may be inaccurate, approximate err = 2.4943979075374627e-13\n",
      "  pos[natoms:] = self.logm(pos[natoms:]) * self.exp_cell_factor\n"
     ]
    },
    {
     "name": "stdout",
     "output_type": "stream",
     "text": [
      "FIRE:   78 19:58:51    -2806.475020        0.064702\n"
     ]
    },
    {
     "name": "stderr",
     "output_type": "stream",
     "text": [
      "/home/mehuldarak/anaconda3/envs/mace/lib/python3.13/site-packages/ase/filters.py:606: RuntimeWarning: logm result may be inaccurate, approximate err = 2.5237903604456933e-13\n",
      "  pos[natoms:] = self.logm(pos[natoms:]) * self.exp_cell_factor\n"
     ]
    },
    {
     "name": "stdout",
     "output_type": "stream",
     "text": [
      "FIRE:   79 19:58:51    -2806.491365        0.063290\n"
     ]
    },
    {
     "name": "stderr",
     "output_type": "stream",
     "text": [
      "/home/mehuldarak/anaconda3/envs/mace/lib/python3.13/site-packages/ase/filters.py:606: RuntimeWarning: logm result may be inaccurate, approximate err = 2.5323341575921584e-13\n",
      "  pos[natoms:] = self.logm(pos[natoms:]) * self.exp_cell_factor\n"
     ]
    },
    {
     "name": "stdout",
     "output_type": "stream",
     "text": [
      "FIRE:   80 19:58:52    -2806.507898        0.061867\n"
     ]
    },
    {
     "name": "stderr",
     "output_type": "stream",
     "text": [
      "/home/mehuldarak/anaconda3/envs/mace/lib/python3.13/site-packages/ase/filters.py:606: RuntimeWarning: logm result may be inaccurate, approximate err = 2.4915910830367566e-13\n",
      "  pos[natoms:] = self.logm(pos[natoms:]) * self.exp_cell_factor\n"
     ]
    },
    {
     "name": "stdout",
     "output_type": "stream",
     "text": [
      "FIRE:   81 19:58:52    -2806.523304        0.060464\n"
     ]
    },
    {
     "name": "stderr",
     "output_type": "stream",
     "text": [
      "/home/mehuldarak/anaconda3/envs/mace/lib/python3.13/site-packages/ase/filters.py:606: RuntimeWarning: logm result may be inaccurate, approximate err = 2.522607281383554e-13\n",
      "  pos[natoms:] = self.logm(pos[natoms:]) * self.exp_cell_factor\n"
     ]
    },
    {
     "name": "stdout",
     "output_type": "stream",
     "text": [
      "FIRE:   82 19:58:52    -2806.539085        0.059113\n"
     ]
    },
    {
     "name": "stderr",
     "output_type": "stream",
     "text": [
      "/home/mehuldarak/anaconda3/envs/mace/lib/python3.13/site-packages/ase/filters.py:606: RuntimeWarning: logm result may be inaccurate, approximate err = 2.555539921382216e-13\n",
      "  pos[natoms:] = self.logm(pos[natoms:]) * self.exp_cell_factor\n"
     ]
    },
    {
     "name": "stdout",
     "output_type": "stream",
     "text": [
      "FIRE:   83 19:58:53    -2806.554115        0.057801\n"
     ]
    },
    {
     "name": "stderr",
     "output_type": "stream",
     "text": [
      "/home/mehuldarak/anaconda3/envs/mace/lib/python3.13/site-packages/ase/filters.py:606: RuntimeWarning: logm result may be inaccurate, approximate err = 2.506202362649085e-13\n",
      "  pos[natoms:] = self.logm(pos[natoms:]) * self.exp_cell_factor\n"
     ]
    },
    {
     "name": "stdout",
     "output_type": "stream",
     "text": [
      "FIRE:   84 19:58:53    -2806.568394        0.056511\n"
     ]
    },
    {
     "name": "stderr",
     "output_type": "stream",
     "text": [
      "/home/mehuldarak/anaconda3/envs/mace/lib/python3.13/site-packages/ase/filters.py:606: RuntimeWarning: logm result may be inaccurate, approximate err = 2.572557987035516e-13\n",
      "  pos[natoms:] = self.logm(pos[natoms:]) * self.exp_cell_factor\n"
     ]
    },
    {
     "name": "stdout",
     "output_type": "stream",
     "text": [
      "FIRE:   85 19:58:54    -2806.583424        0.055237\n"
     ]
    },
    {
     "name": "stderr",
     "output_type": "stream",
     "text": [
      "/home/mehuldarak/anaconda3/envs/mace/lib/python3.13/site-packages/ase/filters.py:606: RuntimeWarning: logm result may be inaccurate, approximate err = 2.625465943474258e-13\n",
      "  pos[natoms:] = self.logm(pos[natoms:]) * self.exp_cell_factor\n"
     ]
    },
    {
     "name": "stdout",
     "output_type": "stream",
     "text": [
      "FIRE:   86 19:58:54    -2806.598266        0.053935\n"
     ]
    },
    {
     "name": "stderr",
     "output_type": "stream",
     "text": [
      "/home/mehuldarak/anaconda3/envs/mace/lib/python3.13/site-packages/ase/filters.py:606: RuntimeWarning: logm result may be inaccurate, approximate err = 2.634811618271966e-13\n",
      "  pos[natoms:] = self.logm(pos[natoms:]) * self.exp_cell_factor\n"
     ]
    },
    {
     "name": "stdout",
     "output_type": "stream",
     "text": [
      "FIRE:   87 19:58:54    -2806.613671        0.052597\n"
     ]
    },
    {
     "name": "stderr",
     "output_type": "stream",
     "text": [
      "/home/mehuldarak/anaconda3/envs/mace/lib/python3.13/site-packages/ase/filters.py:606: RuntimeWarning: logm result may be inaccurate, approximate err = 2.632791697726472e-13\n",
      "  pos[natoms:] = self.logm(pos[natoms:]) * self.exp_cell_factor\n"
     ]
    },
    {
     "name": "stdout",
     "output_type": "stream",
     "text": [
      "FIRE:   88 19:58:55    -2806.628889        0.051226\n"
     ]
    },
    {
     "name": "stderr",
     "output_type": "stream",
     "text": [
      "/home/mehuldarak/anaconda3/envs/mace/lib/python3.13/site-packages/ase/filters.py:606: RuntimeWarning: logm result may be inaccurate, approximate err = 2.559895623278734e-13\n",
      "  pos[natoms:] = self.logm(pos[natoms:]) * self.exp_cell_factor\n"
     ]
    },
    {
     "name": "stdout",
     "output_type": "stream",
     "text": [
      "FIRE:   89 19:58:55    -2806.644295        0.049864\n"
     ]
    }
   ],
   "source": [
    "# Convert back, assign calculator + constraint\n",
    "structure_1 = AseAtomsAdaptor.get_atoms(result[\"final_structure\"])\n",
    "structure_1.set_calculator(calc)\n",
    "structure_1.set_constraint(FixAtoms(mask=freeze_mask))\n",
    "\n",
    "# Stage 2: FIRE\n",
    "opt2 = StructOptimizer(model=calc, optimizer_class=\"FIRE\", use_device=\"cuda\")\n",
    "result2 = opt2.relax(structure_1, fmax=0.05, steps=400, relax_cell=True, verbose=True)"
   ]
  },
  {
   "cell_type": "code",
   "execution_count": 12,
   "id": "c976904a",
   "metadata": {},
   "outputs": [
    {
     "name": "stdout",
     "output_type": "stream",
     "text": [
      "✅ Relaxed structure saved to: /home/mehuldarak/summer/relax_final/cellrelaxed_LLZO_010_Li_order4_off__Li_110_slab_heavy.cif\n"
     ]
    },
    {
     "name": "stderr",
     "output_type": "stream",
     "text": [
      "/home/mehuldarak/anaconda3/envs/mace/lib/python3.13/site-packages/pymatgen/io/cif.py:1724: FutureWarning: We strongly discourage using implicit binary/text `mode`, and this would not be allowed after 2025-06-01. I.e. you should pass t/b in `mode`.\n",
      "  with zopen(filename, mode=mode) as file:\n"
     ]
    }
   ],
   "source": [
    "# Save relaxed structure\n",
    "relaxed_structure = result[\"final_structure\"]\n",
    "relaxed_structure.to(filename=output_path)\n",
    "\n",
    "print(f\"✅ Relaxed structure saved to: {output_path}\")"
   ]
  },
  {
   "cell_type": "code",
   "execution_count": 2,
   "id": "96ca94ac",
   "metadata": {},
   "outputs": [
    {
     "name": "stdout",
     "output_type": "stream",
     "text": [
      "Li slab thickness: 46.39 Å\n",
      "Lowest Li slab atom: 28.62 Å\n",
      "LLZO top z: 28.36 Å\n",
      "Li penetration into LLZO: -0.26 Å\n"
     ]
    }
   ],
   "source": [
    "from pymatgen.core import Structure\n",
    "import numpy as np\n",
    "\n",
    "s = Structure.from_file(f\"/home/mehuldarak/summer/relax_final/cellrelaxed_{structure_name}.cif\")\n",
    "\n",
    "# Get all atoms\n",
    "z_coords = np.array([site.z for site in s.sites])\n",
    "species = np.array([site.species_string for site in s.sites])\n",
    "\n",
    "# Estimate LLZO top (non-Li atoms)\n",
    "llzo_z = z_coords[species != \"Li\"]\n",
    "llzo_top = llzo_z.max()\n",
    "\n",
    "# Now isolate Li slab: Li atoms ABOVE LLZO\n",
    "li_slab_z = np.array([site.z for site in s.sites if site.species_string == \"Li\" and site.z > llzo_top])\n",
    "\n",
    "print(f\"Li slab thickness: {li_slab_z.ptp():.2f} Å\")\n",
    "print(f\"Lowest Li slab atom: {li_slab_z.min():.2f} Å\")\n",
    "print(f\"LLZO top z: {llzo_top:.2f} Å\")\n",
    "print(f\"Li penetration into LLZO: {llzo_top - li_slab_z.min():.2f} Å\")\n"
   ]
  }
 ],
 "metadata": {
  "kernelspec": {
   "display_name": "mace",
   "language": "python",
   "name": "python3"
  },
  "language_info": {
   "codemirror_mode": {
    "name": "ipython",
    "version": 3
   },
   "file_extension": ".py",
   "mimetype": "text/x-python",
   "name": "python",
   "nbconvert_exporter": "python",
   "pygments_lexer": "ipython3",
   "version": "3.13.5"
  }
 },
 "nbformat": 4,
 "nbformat_minor": 5
}
