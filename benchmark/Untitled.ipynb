{
 "cells": [
  {
   "cell_type": "code",
   "execution_count": 2,
   "id": "6e82ddf6-3e75-43e9-9252-d2bbe8482bc9",
   "metadata": {},
   "outputs": [
    {
     "name": "stdout",
     "output_type": "stream",
     "text": [
      "Step 1 complete: LLZO unit cell saved as 'LLZO_tetragonal_unit_cell.cif'\n"
     ]
    }
   ],
   "source": [
    "# Step 1: Generate conventional tetragonal LLZO unit cell\n",
    "from pymatgen.core import Lattice, Structure\n",
    "\n",
    "# Define lattice parameters (Å)\n",
    "a = b = 13.236\n",
    "c = 12.702\n",
    "lattice = Lattice.from_parameters(a, b, c, 90, 90, 90)\n",
    "\n",
    "# Define atomic species and fractional coordinates (from Wyckoff positions)\n",
    "species = [\n",
    "    \"La\",  # 8b\n",
    "    \"La\",  # 16e\n",
    "    \"Zr\",  # 16c\n",
    "    \"Li\",  # 8a\n",
    "    \"Li\",  # 16f\n",
    "    \"Li\",  # 32g\n",
    "    \"O\",   # 32g\n",
    "    \"O\",   # 32g\n",
    "    \"O\"    # 32g\n",
    "]\n",
    "coords = [\n",
    "    [0.0000, 0.2500, 0.1250],   # La (8b)\n",
    "    [0.12716, 0.0000, 0.2500],  # La (16e)\n",
    "    [0.0000, 0.0000, 0.0000],   # Zr  (16c)\n",
    "    [0.0000, 0.2500, 0.3750],   # Li  (8a)\n",
    "    [0.1813,  0.4313, 0.1250],   # Li  (16f)\n",
    "    [0.0796,  0.0863, 0.8099],   # Li  (32g)\n",
    "    [-0.0335, 0.0546, 0.1528],   # O   (32g)\n",
    "    [0.0534,  0.8525, 0.5366],   # O   (32g)\n",
    "    [0.1499,  0.0273, 0.4454]    # O   (32g)\n",
    "]\n",
    "\n",
    "# Build the structure\n",
    "unit_cell = Structure(lattice, species, coords, coords_are_cartesian=False)\n",
    "\n",
    "# Write to CIF for verification\n",
    "unit_cell.to(\"LLZO_tetragonal_unit_cell.cif\", \"cif\")\n",
    "print(\"Step 1 complete: LLZO unit cell saved as 'LLZO_tetragonal_unit_cell.cif'\")\n"
   ]
  },
  {
   "cell_type": "code",
   "execution_count": 3,
   "id": "dfccae9e-9c3b-4de6-9a11-8f270ebfa8d3",
   "metadata": {},
   "outputs": [
    {
     "name": "stdout",
     "output_type": "stream",
     "text": [
      "Step 2 complete: Saved 1×1×2 supercell as 'LLZO_slab_supercell_1x1x2.cif'\n"
     ]
    }
   ],
   "source": [
    "# Step 2: Replicate the LLZO unit cell in the z-direction using ASE\n",
    "\n",
    "from ase.io import read, write\n",
    "from ase.build import make_supercell\n",
    "import numpy as np\n",
    "\n",
    "# Load the unit cell CIF\n",
    "unit = read(\"LLZO_tetragonal_unit_cell.cif\")\n",
    "\n",
    "# Determine replication factor: ceil(15 Å / 12.702 Å) = 2\n",
    "rep_z = 2\n",
    "\n",
    "# Build supercell matrix: 1×1×2\n",
    "supercell_mat = np.diag([1, 1, rep_z])\n",
    "\n",
    "# Create supercell\n",
    "slab_supercell = make_supercell(unit, supercell_mat)\n",
    "\n",
    "# Write out the new CIF\n",
    "write(\"LLZO_slab_supercell_1x1x2.cif\", slab_supercell)\n",
    "print(\"Step 2 complete: Saved 1×1×2 supercell as 'LLZO_slab_supercell_1x1x2.cif'\")\n"
   ]
  },
  {
   "cell_type": "code",
   "execution_count": 4,
   "id": "524a96c5-6f8f-4955-9c89-a9fd77216b9b",
   "metadata": {},
   "outputs": [
    {
     "name": "stdout",
     "output_type": "stream",
     "text": [
      "Step 3 complete: Saved centered slab as 'LLZO_slab_centered.cif'\n"
     ]
    }
   ],
   "source": [
    "# Step 3: Center the slab within the cell along the z-axis for symmetric surfaces\n",
    "\n",
    "from ase.io import read, write\n",
    "\n",
    "# Load the replicated slab\n",
    "slab = read(\"LLZO_slab_supercell_1x1x2.cif\")\n",
    "\n",
    "# Center atoms along z without adding vacuum (align slab mid-point at half cell height)\n",
    "slab.center(vacuum=0, axis=2)\n",
    "\n",
    "# Wrap any atoms outside [0,1] fractional coordinates back into the cell\n",
    "slab.wrap()\n",
    "\n",
    "# Save the centered slab\n",
    "write(\"LLZO_slab_centered.cif\", slab)\n",
    "print(\"Step 3 complete: Saved centered slab as 'LLZO_slab_centered.cif'\")\n"
   ]
  },
  {
   "cell_type": "code",
   "execution_count": 9,
   "id": "09d493a3-d831-448e-b445-d66f546f957d",
   "metadata": {
    "scrolled": true
   },
   "outputs": [
    {
     "ename": "IndexError",
     "evalue": "tuple index out of range",
     "output_type": "error",
     "traceback": [
      "\u001b[0;31m---------------------------------------------------------------------------\u001b[0m",
      "\u001b[0;31mIndexError\u001b[0m                                Traceback (most recent call last)",
      "Cell \u001b[0;32mIn[9], line 28\u001b[0m\n\u001b[1;32m     20\u001b[0m trimmed_slab \u001b[38;5;241m=\u001b[39m Structure(\n\u001b[1;32m     21\u001b[0m     lattice\u001b[38;5;241m=\u001b[39mslab\u001b[38;5;241m.\u001b[39mlattice,\n\u001b[1;32m     22\u001b[0m     species\u001b[38;5;241m=\u001b[39m[site\u001b[38;5;241m.\u001b[39mspecie \u001b[38;5;28;01mfor\u001b[39;00m site \u001b[38;5;129;01min\u001b[39;00m trimmed_sites],\n\u001b[1;32m     23\u001b[0m     coords\u001b[38;5;241m=\u001b[39m[site\u001b[38;5;241m.\u001b[39mfrac_coords \u001b[38;5;28;01mfor\u001b[39;00m site \u001b[38;5;129;01min\u001b[39;00m trimmed_sites],\n\u001b[1;32m     24\u001b[0m     coords_are_cartesian\u001b[38;5;241m=\u001b[39m\u001b[38;5;28;01mFalse\u001b[39;00m\n\u001b[1;32m     25\u001b[0m )\n\u001b[1;32m     27\u001b[0m \u001b[38;5;66;03m# Write to CIF\u001b[39;00m\n\u001b[0;32m---> 28\u001b[0m \u001b[43mtrimmed_slab\u001b[49m\u001b[38;5;241;43m.\u001b[39;49m\u001b[43mto\u001b[49m\u001b[43m(\u001b[49m\u001b[38;5;124;43m\"\u001b[39;49m\u001b[38;5;124;43mLLZO_slab_trimmed.cif\u001b[39;49m\u001b[38;5;124;43m\"\u001b[39;49m\u001b[43m,\u001b[49m\u001b[43m \u001b[49m\u001b[38;5;124;43m\"\u001b[39;49m\u001b[38;5;124;43mcif\u001b[39;49m\u001b[38;5;124;43m\"\u001b[39;49m\u001b[43m)\u001b[49m\n\u001b[1;32m     29\u001b[0m \u001b[38;5;28mprint\u001b[39m(\u001b[38;5;124m\"\u001b[39m\u001b[38;5;124mStep 4 complete: Trimmed symmetric slab saved as \u001b[39m\u001b[38;5;124m'\u001b[39m\u001b[38;5;124mLLZO_slab_trimmed.cif\u001b[39m\u001b[38;5;124m'\u001b[39m\u001b[38;5;124m\"\u001b[39m)\n",
      "File \u001b[0;32m~/miniconda3/envs/mace_0.3.8/lib/python3.10/site-packages/pymatgen/core/structure.py:2949\u001b[0m, in \u001b[0;36mIStructure.to\u001b[0;34m(self, filename, fmt, **kwargs)\u001b[0m\n\u001b[1;32m   2946\u001b[0m \u001b[38;5;28;01mif\u001b[39;00m fmt \u001b[38;5;241m==\u001b[39m \u001b[38;5;124m\"\u001b[39m\u001b[38;5;124mcif\u001b[39m\u001b[38;5;124m\"\u001b[39m \u001b[38;5;129;01mor\u001b[39;00m fnmatch(filename\u001b[38;5;241m.\u001b[39mlower(), \u001b[38;5;124m\"\u001b[39m\u001b[38;5;124m*.cif*\u001b[39m\u001b[38;5;124m\"\u001b[39m):\n\u001b[1;32m   2947\u001b[0m     \u001b[38;5;28;01mfrom\u001b[39;00m \u001b[38;5;21;01mpymatgen\u001b[39;00m\u001b[38;5;21;01m.\u001b[39;00m\u001b[38;5;21;01mio\u001b[39;00m\u001b[38;5;21;01m.\u001b[39;00m\u001b[38;5;21;01mcif\u001b[39;00m \u001b[38;5;28;01mimport\u001b[39;00m CifWriter\n\u001b[0;32m-> 2949\u001b[0m     writer: Any \u001b[38;5;241m=\u001b[39m \u001b[43mCifWriter\u001b[49m\u001b[43m(\u001b[49m\u001b[38;5;28;43mself\u001b[39;49m\u001b[43m,\u001b[49m\u001b[43m \u001b[49m\u001b[38;5;241;43m*\u001b[39;49m\u001b[38;5;241;43m*\u001b[39;49m\u001b[43mkwargs\u001b[49m\u001b[43m)\u001b[49m\n\u001b[1;32m   2951\u001b[0m \u001b[38;5;28;01melif\u001b[39;00m fmt \u001b[38;5;241m==\u001b[39m \u001b[38;5;124m\"\u001b[39m\u001b[38;5;124mmcif\u001b[39m\u001b[38;5;124m\"\u001b[39m \u001b[38;5;129;01mor\u001b[39;00m fnmatch(filename\u001b[38;5;241m.\u001b[39mlower(), \u001b[38;5;124m\"\u001b[39m\u001b[38;5;124m*.mcif*\u001b[39m\u001b[38;5;124m\"\u001b[39m):\n\u001b[1;32m   2952\u001b[0m     \u001b[38;5;28;01mfrom\u001b[39;00m \u001b[38;5;21;01mpymatgen\u001b[39;00m\u001b[38;5;21;01m.\u001b[39;00m\u001b[38;5;21;01mio\u001b[39;00m\u001b[38;5;21;01m.\u001b[39;00m\u001b[38;5;21;01mcif\u001b[39;00m \u001b[38;5;28;01mimport\u001b[39;00m CifWriter\n",
      "File \u001b[0;32m~/miniconda3/envs/mace_0.3.8/lib/python3.10/site-packages/pymatgen/io/cif.py:1594\u001b[0m, in \u001b[0;36mCifWriter.__init__\u001b[0;34m(self, struct, symprec, write_magmoms, significant_figures, angle_tolerance, refine_struct, write_site_properties)\u001b[0m\n\u001b[1;32m   1592\u001b[0m     blocks[\u001b[38;5;124mf\u001b[39m\u001b[38;5;124m\"\u001b[39m\u001b[38;5;124m_cell_angle_\u001b[39m\u001b[38;5;132;01m{\u001b[39;00mcell_attr\u001b[38;5;132;01m}\u001b[39;00m\u001b[38;5;124m\"\u001b[39m] \u001b[38;5;241m=\u001b[39m format_str\u001b[38;5;241m.\u001b[39mformat(\u001b[38;5;28mgetattr\u001b[39m(lattice, cell_attr))\n\u001b[1;32m   1593\u001b[0m blocks[\u001b[38;5;124m\"\u001b[39m\u001b[38;5;124m_symmetry_Int_Tables_number\u001b[39m\u001b[38;5;124m\"\u001b[39m] \u001b[38;5;241m=\u001b[39m spacegroup[\u001b[38;5;241m1\u001b[39m]\n\u001b[0;32m-> 1594\u001b[0m blocks[\u001b[38;5;124m\"\u001b[39m\u001b[38;5;124m_chemical_formula_structural\u001b[39m\u001b[38;5;124m\"\u001b[39m] \u001b[38;5;241m=\u001b[39m \u001b[43mno_oxi_comp\u001b[49m\u001b[38;5;241;43m.\u001b[39;49m\u001b[43mreduced_formula\u001b[49m\n\u001b[1;32m   1595\u001b[0m blocks[\u001b[38;5;124m\"\u001b[39m\u001b[38;5;124m_chemical_formula_sum\u001b[39m\u001b[38;5;124m\"\u001b[39m] \u001b[38;5;241m=\u001b[39m no_oxi_comp\u001b[38;5;241m.\u001b[39mformula\n\u001b[1;32m   1596\u001b[0m blocks[\u001b[38;5;124m\"\u001b[39m\u001b[38;5;124m_cell_volume\u001b[39m\u001b[38;5;124m\"\u001b[39m] \u001b[38;5;241m=\u001b[39m format_str\u001b[38;5;241m.\u001b[39mformat(lattice\u001b[38;5;241m.\u001b[39mvolume)\n",
      "File \u001b[0;32m~/miniconda3/envs/mace_0.3.8/lib/python3.10/site-packages/pymatgen/core/composition.py:497\u001b[0m, in \u001b[0;36mComposition.reduced_formula\u001b[0;34m(self)\u001b[0m\n\u001b[1;32m    492\u001b[0m \u001b[38;5;129m@property\u001b[39m\n\u001b[1;32m    493\u001b[0m \u001b[38;5;28;01mdef\u001b[39;00m \u001b[38;5;21mreduced_formula\u001b[39m(\u001b[38;5;28mself\u001b[39m) \u001b[38;5;241m-\u001b[39m\u001b[38;5;241m>\u001b[39m \u001b[38;5;28mstr\u001b[39m:\n\u001b[1;32m    494\u001b[0m \u001b[38;5;250m    \u001b[39m\u001b[38;5;124;03m\"\"\"A normalized formula, i.e., \"LiFePO4\" instead of\u001b[39;00m\n\u001b[1;32m    495\u001b[0m \u001b[38;5;124;03m    \"Li4Fe4P4O16\".\u001b[39;00m\n\u001b[1;32m    496\u001b[0m \u001b[38;5;124;03m    \"\"\"\u001b[39;00m\n\u001b[0;32m--> 497\u001b[0m     \u001b[38;5;28;01mreturn\u001b[39;00m \u001b[38;5;28;43mself\u001b[39;49m\u001b[38;5;241;43m.\u001b[39;49m\u001b[43mget_reduced_formula_and_factor\u001b[49m\u001b[43m(\u001b[49m\u001b[43m)\u001b[49m[\u001b[38;5;241m0\u001b[39m]\n",
      "File \u001b[0;32m~/miniconda3/envs/mace_0.3.8/lib/python3.10/site-packages/pymatgen/core/composition.py:451\u001b[0m, in \u001b[0;36mComposition.get_reduced_formula_and_factor\u001b[0;34m(self, iupac_ordering)\u001b[0m\n\u001b[1;32m    449\u001b[0m el_amt_dict: \u001b[38;5;28mdict\u001b[39m[\u001b[38;5;28mstr\u001b[39m, \u001b[38;5;28mint\u001b[39m] \u001b[38;5;241m=\u001b[39m {key: \u001b[38;5;28mround\u001b[39m(val) \u001b[38;5;28;01mfor\u001b[39;00m key, val \u001b[38;5;129;01min\u001b[39;00m \u001b[38;5;28mself\u001b[39m\u001b[38;5;241m.\u001b[39mget_el_amt_dict()\u001b[38;5;241m.\u001b[39mitems()}\n\u001b[1;32m    450\u001b[0m factor: \u001b[38;5;28mfloat\u001b[39m\n\u001b[0;32m--> 451\u001b[0m formula, factor \u001b[38;5;241m=\u001b[39m \u001b[43mreduce_formula\u001b[49m\u001b[43m(\u001b[49m\u001b[43mel_amt_dict\u001b[49m\u001b[43m,\u001b[49m\u001b[43m \u001b[49m\u001b[43miupac_ordering\u001b[49m\u001b[38;5;241;43m=\u001b[39;49m\u001b[43miupac_ordering\u001b[49m\u001b[43m)\u001b[49m\n\u001b[1;32m    453\u001b[0m \u001b[38;5;66;03m# Do not \"completely reduce\" certain formulas\u001b[39;00m\n\u001b[1;32m    454\u001b[0m \u001b[38;5;28;01mif\u001b[39;00m formula \u001b[38;5;129;01min\u001b[39;00m \u001b[38;5;28mtype\u001b[39m(\u001b[38;5;28mself\u001b[39m)\u001b[38;5;241m.\u001b[39mspecial_formulas:\n",
      "File \u001b[0;32m~/miniconda3/envs/mace_0.3.8/lib/python3.10/site-packages/pymatgen/core/composition.py:1372\u001b[0m, in \u001b[0;36mreduce_formula\u001b[0;34m(sym_amt, iupac_ordering)\u001b[0m\n\u001b[1;32m   1370\u001b[0m factor: \u001b[38;5;28mint\u001b[39m \u001b[38;5;241m=\u001b[39m \u001b[38;5;241m1\u001b[39m\n\u001b[1;32m   1371\u001b[0m \u001b[38;5;28;01mif\u001b[39;00m \u001b[38;5;28mall\u001b[39m(\u001b[38;5;28mint\u001b[39m(i) \u001b[38;5;241m==\u001b[39m i \u001b[38;5;28;01mfor\u001b[39;00m i \u001b[38;5;129;01min\u001b[39;00m sym_amt\u001b[38;5;241m.\u001b[39mvalues()):\n\u001b[0;32m-> 1372\u001b[0m     factor \u001b[38;5;241m=\u001b[39m \u001b[38;5;28mabs\u001b[39m(\u001b[43mgcd\u001b[49m\u001b[43m(\u001b[49m\u001b[38;5;241;43m*\u001b[39;49m\u001b[43m(\u001b[49m\u001b[38;5;28;43mint\u001b[39;49m\u001b[43m(\u001b[49m\u001b[43mi\u001b[49m\u001b[43m)\u001b[49m\u001b[43m \u001b[49m\u001b[38;5;28;43;01mfor\u001b[39;49;00m\u001b[43m \u001b[49m\u001b[43mi\u001b[49m\u001b[43m \u001b[49m\u001b[38;5;129;43;01min\u001b[39;49;00m\u001b[43m \u001b[49m\u001b[43msym_amt\u001b[49m\u001b[38;5;241;43m.\u001b[39;49m\u001b[43mvalues\u001b[49m\u001b[43m(\u001b[49m\u001b[43m)\u001b[49m\u001b[43m)\u001b[49m\u001b[43m)\u001b[49m)\n\u001b[1;32m   1374\u001b[0m \u001b[38;5;66;03m# If the composition contains polyanion\u001b[39;00m\n\u001b[1;32m   1375\u001b[0m poly_anions: \u001b[38;5;28mlist\u001b[39m[\u001b[38;5;28mstr\u001b[39m] \u001b[38;5;241m=\u001b[39m []\n",
      "File \u001b[0;32m~/miniconda3/envs/mace_0.3.8/lib/python3.10/site-packages/monty/fractions.py:24\u001b[0m, in \u001b[0;36mgcd\u001b[0;34m(*numbers)\u001b[0m\n\u001b[1;32m     14\u001b[0m \u001b[38;5;28;01mdef\u001b[39;00m \u001b[38;5;21mgcd\u001b[39m(\u001b[38;5;241m*\u001b[39mnumbers: \u001b[38;5;28mint\u001b[39m) \u001b[38;5;241m-\u001b[39m\u001b[38;5;241m>\u001b[39m \u001b[38;5;28mint\u001b[39m:\n\u001b[1;32m     15\u001b[0m \u001b[38;5;250m    \u001b[39m\u001b[38;5;124;03m\"\"\"\u001b[39;00m\n\u001b[1;32m     16\u001b[0m \u001b[38;5;124;03m    Returns the greatest common divisor for a sequence of numbers.\u001b[39;00m\n\u001b[1;32m     17\u001b[0m \n\u001b[0;32m   (...)\u001b[0m\n\u001b[1;32m     22\u001b[0m \u001b[38;5;124;03m        int: Greatest common divisor of numbers.\u001b[39;00m\n\u001b[1;32m     23\u001b[0m \u001b[38;5;124;03m    \"\"\"\u001b[39;00m\n\u001b[0;32m---> 24\u001b[0m     n: \u001b[38;5;28mint\u001b[39m \u001b[38;5;241m=\u001b[39m \u001b[43mnumbers\u001b[49m\u001b[43m[\u001b[49m\u001b[38;5;241;43m0\u001b[39;49m\u001b[43m]\u001b[49m\n\u001b[1;32m     25\u001b[0m     \u001b[38;5;28;01mfor\u001b[39;00m i \u001b[38;5;129;01min\u001b[39;00m numbers:\n\u001b[1;32m     26\u001b[0m         n \u001b[38;5;241m=\u001b[39m math\u001b[38;5;241m.\u001b[39mgcd(n, i)\n",
      "\u001b[0;31mIndexError\u001b[0m: tuple index out of range"
     ]
    }
   ],
   "source": [
    "# Step 4 (Pymatgen version): Trim slab to retain Li₀.₅La₀.₅ZrO₂-terminated surfaces\n",
    "\n",
    "from pymatgen.core import Structure\n",
    "import numpy as np\n",
    "\n",
    "# Load centered supercell from Step 3\n",
    "slab = Structure.from_file(\"LLZO_slab_centered.cif\")\n",
    "\n",
    "# Get all Zr atom z-coordinates (fractional)\n",
    "zr_z = sorted([site.frac_coords[2] for site in slab if site.specie.symbol == \"Zr\"])\n",
    "\n",
    "# Compute trim bounds: halfway between 1st–2nd and (n−2)–(n−1) Zr layers\n",
    "low_cut = (zr_z[0] + zr_z[1]) / 2\n",
    "high_cut = (zr_z[-2] + zr_z[-1]) / 2\n",
    "\n",
    "# Filter sites between those bounds\n",
    "trimmed_sites = [site for site in slab if low_cut <= site.frac_coords[2] <= high_cut]\n",
    "\n",
    "# Build new Structure\n",
    "trimmed_slab = Structure(\n",
    "    lattice=slab.lattice,\n",
    "    species=[site.specie for site in trimmed_sites],\n",
    "    coords=[site.frac_coords for site in trimmed_sites],\n",
    "    coords_are_cartesian=False\n",
    ")\n",
    "\n",
    "# Write to CIF\n",
    "trimmed_slab.to(\"LLZO_slab_trimmed.cif\", \"cif\")\n",
    "print(\"Step 4 complete: Trimmed symmetric slab saved as 'LLZO_slab_trimmed.cif'\")\n"
   ]
  },
  {
   "cell_type": "code",
   "execution_count": null,
   "id": "62390c67-00ec-4e78-bce7-e5882dc2fb57",
   "metadata": {},
   "outputs": [],
   "source": []
  }
 ],
 "metadata": {
  "kernelspec": {
   "display_name": "Python (GPU mace_0.3.8)",
   "language": "python",
   "name": "mace_0.3.8"
  },
  "language_info": {
   "codemirror_mode": {
    "name": "ipython",
    "version": 3
   },
   "file_extension": ".py",
   "mimetype": "text/x-python",
   "name": "python",
   "nbconvert_exporter": "python",
   "pygments_lexer": "ipython3",
   "version": "3.10.14"
  }
 },
 "nbformat": 4,
 "nbformat_minor": 5
}
