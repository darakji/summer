{
 "cells": [
  {
   "cell_type": "code",
   "execution_count": 4,
   "id": "f96a6068-636f-4f6a-8778-abade8be7707",
   "metadata": {},
   "outputs": [],
   "source": [
    "from ase.io import read\n",
    "from ase.data import atomic_numbers\n",
    "import numpy as np\n",
    "\n",
    "# Read CIF\n",
    "atoms = read(\"/home/phanim/harshitrawat/summer/md/mdcifs_strained_perturbed/cellrelaxed_LLZO_001_Zr_code93_sto__Li_100_slab_heavy_T300_0022_strain-3_perturbed.cif\")\n",
    "\n",
    "# Define valence charges manually or from a dict\n",
    "valence_lookup = {\n",
    "    'La': 11,  # adjust as per UPF\n",
    "    'Zr': 4,\n",
    "    'O': 6,\n",
    "    'Li': 1,\n",
    "}\n",
    "\n",
    "# Write fractional coordinates\n",
    "with open('/home/phanim/harshitrawat/summer/OOD_test/coordinates.inp', 'w') as f:\n",
    "    for atom in atoms:\n",
    "        symbol = atom.symbol\n",
    "        Z = atomic_numbers[symbol]\n",
    "        valence = valence_lookup[symbol]\n",
    "        frac = atoms.get_scaled_positions()[atom.index]\n",
    "        f.write(f\"{Z} {valence} {frac[0]:.8f} {frac[1]:.8f} {frac[2]:.8f}\\n\")\n"
   ]
  },
  {
   "cell_type": "code",
   "execution_count": 5,
   "id": "5b7136b3-e4d3-406b-b112-ce012d366452",
   "metadata": {},
   "outputs": [],
   "source": [
    "cell = atoms.cell.array  # 3x3 matrix\n",
    "bohr = 1.8897259886\n",
    "with open('/home/phanim/harshitrawat/summer/OOD_test/domainVectors.inp', 'w') as f:\n",
    "    for vec in cell:\n",
    "        f.write(f\"{vec[0]*bohr:.8f} {vec[1]*bohr:.8f} {vec[2]*bohr:.8f}\\n\")\n"
   ]
  },
  {
   "cell_type": "code",
   "execution_count": 8,
   "id": "9224e17e-d9a7-4b66-ac50-e68e235a3a03",
   "metadata": {},
   "outputs": [
    {
     "name": "stdout",
     "output_type": "stream",
     "text": [
      "🧪 DFT-FE slab summary:\n",
      "  - Total atoms (NATOMS): 648\n",
      "  - Unique atom types (NATOM TYPES): 4\n",
      "  - Species breakdown: {3: 444, 57: 36, 40: 24, 8: 144}\n",
      "  - Total valence electrons: 1800.0\n",
      "  - Recommended NUMBER OF KOHN-SHAM WAVEFUNCTIONS: 1080\n"
     ]
    }
   ],
   "source": [
    "from collections import defaultdict\n",
    "import math\n",
    "\n",
    "# Load coordinates.inp\n",
    "with open(\"/home/phanim/harshitrawat/summer/OOD_test/coordinates.inp\", \"r\") as f:\n",
    "    lines = [line.strip() for line in f if line.strip()]\n",
    "\n",
    "natoms = len(lines)\n",
    "species_set = set()\n",
    "valence_total = 0\n",
    "species_count = defaultdict(int)\n",
    "\n",
    "for line in lines:\n",
    "    tokens = line.split()\n",
    "    if len(tokens) < 5:\n",
    "        continue\n",
    "    atomic_number = int(tokens[0])\n",
    "    valence = float(tokens[1])\n",
    "    \n",
    "    species_set.add(atomic_number)\n",
    "    valence_total += valence\n",
    "    species_count[atomic_number] += 1\n",
    "\n",
    "natom_types = len(species_set)\n",
    "ks_wavefunctions = math.ceil(1.2 * valence_total / 2)\n",
    "\n",
    "print(\"🧪 DFT-FE slab summary:\")\n",
    "print(f\"  - Total atoms (NATOMS): {natoms}\")\n",
    "print(f\"  - Unique atom types (NATOM TYPES): {natom_types}\")\n",
    "print(f\"  - Species breakdown: {dict(species_count)}\")\n",
    "print(f\"  - Total valence electrons: {valence_total}\")\n",
    "print(f\"  - Recommended NUMBER OF KOHN-SHAM WAVEFUNCTIONS: {ks_wavefunctions}\")\n"
   ]
  },
  {
   "cell_type": "code",
   "execution_count": 1,
   "id": "160c4f80-d6c5-4f96-a2a6-75944593fc78",
   "metadata": {},
   "outputs": [
    {
     "name": "stdout",
     "output_type": "stream",
     "text": [
      "Likely periodic in x\n",
      "Likely periodic in y\n",
      "Likely non-periodic in z (vacuum slab present)\n"
     ]
    }
   ],
   "source": [
    "from ase.io import read\n",
    "\n",
    "atoms = read(\"/home/phanim/harshitrawat/summer/md/mdcifs_strained_perturbed/cellrelaxed_LLZO_001_Zr_code93_sto__Li_100_slab_heavy_T300_0022_strain-3_perturbed.cif\")\n",
    "cell = atoms.get_cell()\n",
    "\n",
    "# Heuristic: check if vacuum exists along any direction\n",
    "lengths = cell.lengths()\n",
    "angles = cell.angles()\n",
    "\n",
    "# Check vacuum-like behavior (e.g., >30 Å) to detect non-periodic axis\n",
    "for i, L in enumerate(lengths):\n",
    "    axis = ['x', 'y', 'z'][i]\n",
    "    if L > 30:\n",
    "        print(f\"Likely non-periodic in {axis} (vacuum slab present)\")\n",
    "    else:\n",
    "        print(f\"Likely periodic in {axis}\")\n"
   ]
  },
  {
   "cell_type": "code",
   "execution_count": null,
   "id": "26f3fe90-4aa5-494c-8c85-707c56214e98",
   "metadata": {},
   "outputs": [],
   "source": []
  },
  {
   "cell_type": "code",
   "execution_count": null,
   "id": "19201c8d-fdee-4b72-9a59-a06453a861ba",
   "metadata": {},
   "outputs": [],
   "source": []
  }
 ],
 "metadata": {
  "kernelspec": {
   "display_name": "Python (GPU mace_0.3.8)",
   "language": "python",
   "name": "mace_0.3.8"
  },
  "language_info": {
   "codemirror_mode": {
    "name": "ipython",
    "version": 3
   },
   "file_extension": ".py",
   "mimetype": "text/x-python",
   "name": "python",
   "nbconvert_exporter": "python",
   "pygments_lexer": "ipython3",
   "version": "3.10.14"
  }
 },
 "nbformat": 4,
 "nbformat_minor": 5
}
