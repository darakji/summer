{
 "cells": [
  {
   "cell_type": "code",
   "execution_count": 8,
   "id": "9b084316-e9af-4bda-bc68-dc45d14c07fc",
   "metadata": {},
   "outputs": [
    {
     "name": "stdout",
     "output_type": "stream",
     "text": [
      "Tue Jul 22 18:35:19 2025       \n",
      "+-----------------------------------------------------------------------------------------+\n",
      "| NVIDIA-SMI 550.90.07              Driver Version: 550.90.07      CUDA Version: 12.4     |\n",
      "|-----------------------------------------+------------------------+----------------------+\n",
      "| GPU  Name                 Persistence-M | Bus-Id          Disp.A | Volatile Uncorr. ECC |\n",
      "| Fan  Temp   Perf          Pwr:Usage/Cap |           Memory-Usage | GPU-Util  Compute M. |\n",
      "|                                         |                        |               MIG M. |\n",
      "|=========================================+========================+======================|\n",
      "|   0  NVIDIA H200                    On  |   00000000:1B:00.0 Off |                   On |\n",
      "| N/A   28C    P0            112W /  700W |     221MiB / 143771MiB |     N/A      Default |\n",
      "|                                         |                        |              Enabled |\n",
      "+-----------------------------------------+------------------------+----------------------+\n",
      "|   1  NVIDIA H200                    On  |   00000000:43:00.0 Off |                   On |\n",
      "| N/A   29C    P0            109W /  700W |   12972MiB / 143771MiB |     N/A      Default |\n",
      "|                                         |                        |              Enabled |\n",
      "+-----------------------------------------+------------------------+----------------------+\n",
      "|   2  NVIDIA H200                    On  |   00000000:52:00.0 Off |                   On |\n",
      "| N/A   29C    P0             76W /  700W |      90MiB / 143771MiB |     N/A      Default |\n",
      "|                                         |                        |              Enabled |\n",
      "+-----------------------------------------+------------------------+----------------------+\n",
      "|   3  NVIDIA H200                    On  |   00000000:61:00.0 Off |                   On |\n",
      "| N/A   28C    P0             75W /  700W |      89MiB / 143771MiB |     N/A      Default |\n",
      "|                                         |                        |              Enabled |\n",
      "+-----------------------------------------+------------------------+----------------------+\n",
      "|   4  NVIDIA H200                    On  |   00000000:9D:00.0 Off |                   On |\n",
      "| N/A   25C    P0             76W /  700W |      89MiB / 143771MiB |     N/A      Default |\n",
      "|                                         |                        |              Enabled |\n",
      "+-----------------------------------------+------------------------+----------------------+\n",
      "|   5  NVIDIA H200                    On  |   00000000:C3:00.0 Off |                   On |\n",
      "| N/A   26C    P0             76W /  700W |      89MiB / 143771MiB |     N/A      Default |\n",
      "|                                         |                        |              Enabled |\n",
      "+-----------------------------------------+------------------------+----------------------+\n",
      "\n",
      "+-----------------------------------------------------------------------------------------+\n",
      "| MIG devices:                                                                            |\n",
      "+------------------+----------------------------------+-----------+-----------------------+\n",
      "| GPU  GI  CI  MIG |                     Memory-Usage |        Vol|      Shared           |\n",
      "|      ID  ID  Dev |                       BAR1-Usage | SM     Unc| CE ENC DEC OFA JPG    |\n",
      "|                  |                                  |        ECC|                       |\n",
      "|==================+==================================+===========+=======================|\n",
      "|  0    6   0   0  |             145MiB / 33024MiB    | 26      0 |  1   0    1    0    1 |\n",
      "|                  |                 2MiB / 65535MiB  |           |                       |\n",
      "+------------------+----------------------------------+-----------+-----------------------+\n",
      "                                                                                         \n",
      "+-----------------------------------------------------------------------------------------+\n",
      "| Processes:                                                                              |\n",
      "|  GPU   GI   CI        PID   Type   Process name                              GPU Memory |\n",
      "|        ID   ID                                                               Usage      |\n",
      "|=========================================================================================|\n",
      "|    0    6    0    3155525      C   ...niconda3/envs/mace_0.3.8/bin/python        124MiB |\n",
      "|    1    1    0    3152266      C   python                                      13010MiB |\n",
      "+-----------------------------------------------------------------------------------------+\n"
     ]
    }
   ],
   "source": [
    "!nvidia-smi"
   ]
  },
  {
   "cell_type": "code",
   "execution_count": 1,
   "id": "41cb7d17-bd0d-4fb0-813a-c268317736e3",
   "metadata": {},
   "outputs": [
    {
     "name": "stdout",
     "output_type": "stream",
     "text": [
      "2.5.1+cu121\n",
      "True\n"
     ]
    }
   ],
   "source": [
    "import torch\n",
    "print(torch.__version__)\n",
    "print(torch.cuda.is_available())"
   ]
  },
  {
   "cell_type": "code",
   "execution_count": 1,
   "id": "f86c054e-261a-4b76-9110-543c90fa0819",
   "metadata": {},
   "outputs": [
    {
     "name": "stdout",
     "output_type": "stream",
     "text": [
      "1\n",
      "NVIDIA H200 MIG 1g.35gb\n"
     ]
    }
   ],
   "source": [
    "import torch\n",
    "print(torch.cuda.device_count())\n",
    "print(torch.cuda.get_device_name(0))  # Try this only if device_count > 0\n"
   ]
  },
  {
   "cell_type": "code",
   "execution_count": 3,
   "id": "7ab12be0-6b12-4284-aa87-9f76fb7972b0",
   "metadata": {},
   "outputs": [
    {
     "name": "stdout",
     "output_type": "stream",
     "text": [
      "📥 Starting... Loading Excel and preparing to write DB/XYZ\n",
      "📂 Total T2 entries: 3169\n",
      "✅ Good JSON: 0, ⚠️ Bad JSON entries: 3169\n",
      "\n",
      "▶️ Writing all valid entries to DB…\n",
      "\n",
      "▶️ Recomputing 3169 bad entries on cuda…\n"
     ]
    },
    {
     "ename": "NameError",
     "evalue": "name 'torch' is not defined",
     "output_type": "error",
     "traceback": [
      "\u001b[0;31m---------------------------------------------------------------------------\u001b[0m",
      "\u001b[0;31mNameError\u001b[0m                                 Traceback (most recent call last)",
      "Cell \u001b[0;32mIn[3], line 80\u001b[0m\n\u001b[1;32m     78\u001b[0m \u001b[38;5;28mprint\u001b[39m(\u001b[38;5;124mf\u001b[39m\u001b[38;5;124m\"\u001b[39m\u001b[38;5;130;01m\\n\u001b[39;00m\u001b[38;5;124m▶️ Recomputing \u001b[39m\u001b[38;5;132;01m{\u001b[39;00m\u001b[38;5;28mlen\u001b[39m(bad)\u001b[38;5;132;01m}\u001b[39;00m\u001b[38;5;124m bad entries on \u001b[39m\u001b[38;5;132;01m{\u001b[39;00mdevice\u001b[38;5;132;01m}\u001b[39;00m\u001b[38;5;124m…\u001b[39m\u001b[38;5;124m\"\u001b[39m)\n\u001b[1;32m     79\u001b[0m \u001b[38;5;66;03m# Explicit MIG workaround\u001b[39;00m\n\u001b[0;32m---> 80\u001b[0m device \u001b[38;5;241m=\u001b[39m \u001b[43mtorch\u001b[49m\u001b[38;5;241m.\u001b[39mdevice(\u001b[38;5;124m\"\u001b[39m\u001b[38;5;124mcuda:0\u001b[39m\u001b[38;5;124m\"\u001b[39m)\n\u001b[1;32m     82\u001b[0m \u001b[38;5;66;03m# Load model manually on CPU\u001b[39;00m\n\u001b[1;32m     83\u001b[0m model \u001b[38;5;241m=\u001b[39m CHGNet\u001b[38;5;241m.\u001b[39mload(use_device\u001b[38;5;241m=\u001b[39m\u001b[38;5;124m\"\u001b[39m\u001b[38;5;124mcpu\u001b[39m\u001b[38;5;124m\"\u001b[39m, verbose\u001b[38;5;241m=\u001b[39m\u001b[38;5;28;01mTrue\u001b[39;00m)\n",
      "\u001b[0;31mNameError\u001b[0m: name 'torch' is not defined"
     ]
    }
   ],
   "source": [
    "import os\n",
    "import torch\n",
    "import json\n",
    "import pandas as pd\n",
    "import numpy as np\n",
    "from ase.io import read\n",
    "from ase.db import connect\n",
    "from chgnet.model.dynamics import CHGNetCalculator\n",
    "from ase.calculators.calculator import CalculatorError\n",
    "print(\"📥 Starting... Loading Excel and preparing to write DB/XYZ\")\n",
    "\n",
    "# === Paths ===\n",
    "orig_excels = [\n",
    "    \"/home/phanim/harshitrawat/summer/md/mdinfo_chgnet_predictions_forces.xlsx\",\n",
    "    \"/home/phanim/harshitrawat/summer/md/strain_perturb_chgnet_predictions_forces.xlsx\"\n",
    "]\n",
    "t2_split = \"/home/phanim/harshitrawat/summer/md/T2_chgnet_labeled.xlsx\"\n",
    "base_dir   = \"/home/phanim/harshitrawat/summer/md\"\n",
    "db_path    = \"mace_train_T2.db\"\n",
    "\n",
    "# === Load & filter ===\n",
    "df_orig = pd.concat([pd.read_excel(x) for x in orig_excels], ignore_index=True)\n",
    "t2_files = set(pd.read_excel(t2_split)[\"file\"])\n",
    "df = df_orig[df_orig[\"file\"].isin(t2_files)].reset_index(drop=True)\n",
    "\n",
    "print(f\"📂 Total T2 entries: {len(df)}\")\n",
    "\n",
    "# === Prepare lists ===\n",
    "good = []   # tuples of (fname, E, F, S)\n",
    "bad  = []   # list of fnames needing CHGNet\n",
    "\n",
    "for row in df.itertuples(index=False):\n",
    "    fname = row.file\n",
    "    try:\n",
    "        E = float(row.energy_eV)\n",
    "        F = json.loads(row.forces_per_atom_eV_per_A)\n",
    "        S = json.loads(row.stress_tensor)\n",
    "        # quick length check\n",
    "        # we’ll verify atom count later\n",
    "        good.append((fname, E, F, S))\n",
    "    except Exception:\n",
    "        bad.append(fname)\n",
    "\n",
    "print(f\"✅ Good JSON: {len(good)}, ⚠️ Bad JSON entries: {len(bad)}\")\n",
    "\n",
    "# === Helper ===\n",
    "def resolve_cif(fname):\n",
    "    sub = \"mdcifs_strained_perturbed\" if \"perturbed\" in fname else \"mdcifs\"\n",
    "    return os.path.join(base_dir, sub, fname)\n",
    "\n",
    "# === Open DB ===\n",
    "n_ok = n_fail = n_recomputed = 0\n",
    "with connect(db_path, append=False) as db:\n",
    "\n",
    "    # 1) Write all good entries\n",
    "    print(\"\\n▶️ Writing all valid entries to DB…\")\n",
    "    for i, (fname, E, F, S) in enumerate(good, 1):\n",
    "        path = resolve_cif(fname)\n",
    "        if not os.path.exists(path):\n",
    "            print(f\"❌ [{i}/{len(good)}] Missing CIF: {fname}\")\n",
    "            n_fail += 1\n",
    "            continue\n",
    "        try:\n",
    "            atoms = read(path)\n",
    "            if len(F) != len(atoms):\n",
    "                raise ValueError(\"Atom/force count mismatch\")\n",
    "            atoms.info[\"energy\"]  = E\n",
    "            atoms.info[\"stress\"]  = S\n",
    "            atoms.arrays[\"forces\"] = F\n",
    "            db.write(atoms)\n",
    "            n_ok += 1\n",
    "            print(f\"✅ [{i}/{len(good)}] {fname}\")\n",
    "        except Exception as e:\n",
    "            print(f\"❌ [{i}/{len(good)}] {fname} — {e}\")\n",
    "            n_fail += 1\n",
    "\n",
    "    # 2) Recompute bad entries on GPU\n",
    "    if bad:\n",
    "        print(f\"\\n▶️ Recomputing {len(bad)} bad entries on {device}…\")\n",
    "        # Explicit MIG workaround\n",
    "        device = torch.device(\"cuda:0\")\n",
    "        \n",
    "        # Load model manually on CPU\n",
    "        model = CHGNet.load(use_device=\"cpu\", verbose=True)\n",
    "        \n",
    "        # Force move to device\n",
    "        model = model.to(device)\n",
    "        \n",
    "        # Build calculator manually\n",
    "        calc = CHGNetCalculator(model=model, use_device=device)\n",
    "\n",
    "        for j, fname in enumerate(bad, 1):\n",
    "            path = resolve_cif(fname)\n",
    "            if not os.path.exists(path):\n",
    "                print(f\"❌ [{j}/{len(bad)}] Missing CIF: {fname}\")\n",
    "                n_fail += 1\n",
    "                continue\n",
    "            try:\n",
    "                atoms = read(path)\n",
    "                atoms.calc = calc\n",
    "                E = atoms.get_potential_energy()\n",
    "                F = atoms.get_forces().tolist()\n",
    "                S = atoms.get_stress(voigt=False).tolist()\n",
    "                if len(F) != len(atoms):\n",
    "                    raise ValueError(\"Atom/force count mismatch\")\n",
    "                atoms.info[\"energy\"]  = float(E)\n",
    "                atoms.info[\"stress\"]  = S\n",
    "                atoms.arrays[\"forces\"] = F\n",
    "                db.write(atoms)\n",
    "                n_recomputed += 1\n",
    "                print(f\"🛠 [{j}/{len(bad)}] Recomputed {fname}\")\n",
    "            except CalculatorError as e:\n",
    "                print(f\"⚠️ [{j}/{len(bad)}] CHGNet failed: {fname} — {e}\")\n",
    "                n_fail += 1\n",
    "            except Exception as e:\n",
    "                print(f\"❌ [{j}/{len(bad)}] {fname} — {e}\")\n",
    "                n_fail += 1\n",
    "\n",
    "print(f\"\\n🎉 Done — OK: {n_ok}, Recomputed: {n_recomputed}, Failed: {n_fail}\")\n",
    "print(f\"📦 DB written to: {db_path}\")\n"
   ]
  },
  {
   "cell_type": "code",
   "execution_count": 3,
   "id": "f5039f4e-9272-4ed9-b4c3-cf220eaaf82f",
   "metadata": {},
   "outputs": [
    {
     "name": "stdout",
     "output_type": "stream",
     "text": [
      "CHGNet v0.3.0 initialized with 412,525 parameters\n",
      "CHGNet will run on cpu\n",
      "CHGNet will run on cuda:0\n"
     ]
    }
   ],
   "source": [
    "from chgnet.model.model import CHGNet\n",
    "\n",
    "device = torch.device(\"cuda:0\")\n",
    "\n",
    "# Manually load model on CPU\n",
    "model = CHGNet.load(use_device=\"cpu\", verbose=True)\n",
    "\n",
    "# Then manually move to your device (forces allocation)\n",
    "model = model.to(device)\n",
    "\n",
    "# Inject into calculator\n",
    "calc = CHGNetCalculator(model=model, use_device=device)\n"
   ]
  },
  {
   "cell_type": "code",
   "execution_count": 5,
   "id": "b363f904-8296-40ac-9b87-1a2b14a338cf",
   "metadata": {},
   "outputs": [
    {
     "name": "stdout",
     "output_type": "stream",
     "text": [
      "12.1\n",
      "True\n",
      "1\n",
      "NVIDIA H200 MIG 1g.35gb\n",
      "0\n"
     ]
    }
   ],
   "source": [
    "import torch\n",
    "print(torch.version.cuda)  # Should match CHGNet’s requirements (e.g., 12.1)\n",
    "print(torch.cuda.is_available())  # True\n",
    "print(torch.cuda.device_count())  # 1\n",
    "print(torch.cuda.get_device_name(0))  # Should be your MIG slice\n",
    "print(torch.cuda.current_device())  # Should be 0\n"
   ]
  },
  {
   "cell_type": "code",
   "execution_count": 6,
   "id": "467ee4b5-98e8-4c03-b108-97ce1cc0a30f",
   "metadata": {},
   "outputs": [],
   "source": [
    "!export CUDA_VISIBLE_DEVICES=0\n"
   ]
  },
  {
   "cell_type": "code",
   "execution_count": null,
   "id": "cdbf2df2-eeed-45b7-9d0c-90f593b40605",
   "metadata": {},
   "outputs": [],
   "source": []
  }
 ],
 "metadata": {
  "kernelspec": {
   "display_name": "Python (GPU mace_0.3.8)",
   "language": "python",
   "name": "mace_0.3.8"
  },
  "language_info": {
   "codemirror_mode": {
    "name": "ipython",
    "version": 3
   },
   "file_extension": ".py",
   "mimetype": "text/x-python",
   "name": "python",
   "nbconvert_exporter": "python",
   "pygments_lexer": "ipython3",
   "version": "3.10.14"
  }
 },
 "nbformat": 4,
 "nbformat_minor": 5
}
