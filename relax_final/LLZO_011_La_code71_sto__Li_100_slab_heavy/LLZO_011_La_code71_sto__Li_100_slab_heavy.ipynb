{
 "cells": [
  {
   "cell_type": "markdown",
   "id": "d7833af9",
   "metadata": {},
   "source": [
    "This notebook follows from the tutorials of CHGNet to relax LLZO-Li slabs that have been made in `llzo_li_balanced_sliced` directory."
   ]
  },
  {
   "cell_type": "markdown",
   "id": "3d234e1d",
   "metadata": {},
   "source": [
    "\n",
    "LLZO‖Li Interface Relaxation Notebook\n",
    "========================================\n",
    "\n",
    "Each notebook handles only one structure.\n",
    "1. Purpose: (This keeps updating)\n",
    "- Relax a single LLZO‖Li (in this notebook LLZO_001_Zr_code93_sto__Li_110_slab_heavy) heterostructure using CHGNet\n",
    "- Perform multi-stage optimization (in this notebook, CG → FIRE)\n",
    "- Freeze bulk-like regions (15 Å at both ends)\n",
    "- after all this, Relax lattice vectors to relieve interface strain\n",
    "\n",
    "2. This notebook handles:\n",
    "- Structure: LLZO_110_Li_order17_off__Li_100_slab_heavy\n",
    "- Initial lattice height: 86.02 Å\n",
    "- Number of atoms: 738\n",
    "\n",
    "3. Method:\n",
    "- CHGNet (v0.4.0) + ASE interface\n",
    "- Stage 1: SciPyFminCG (no cell relaxation) → fmax target ~0.15 eV/Å\n",
    "- Stage 2: FIRE (with optional cell relaxation) → fmax target ~0.05 eV/Å\n",
    "- FrechetCellFilter used for combined force + stress minimization\n",
    "\n",
    "4. Constraints:\n",
    "- LLZO base: frozen bottom 14.25 Å\n",
    "- Li top: frozen top 14.25 Å\n",
    "- Only interfacial region relaxed\n",
    "- Cell relaxation via `relax_cell=True` and `relax_cell_atoms=\"unconstrained\"`\n",
    "\n",
    "5. Outputs: (This will be decided later)\n",
    "- relaxed_[structure_name].cif\n",
    "- relaxed_[structure_name].traj\n",
    "- (Optional) relaxation_log.pkl with energies, forces\n",
    "\n",
    "6. Visual checks:\n",
    "- Compare pre- and post-relaxation structures\n",
    "- Ensure no Li diffusion into LLZO (via z-analysis)\n",
    "- Confirm convergence (fmax < 0.05 eV/Å)\n",
    "\n",
    "Author: Mehul Darak\n",
    "\n",
    "Date: 15-07-2025\n"
   ]
  },
  {
   "cell_type": "code",
   "execution_count": 1,
   "id": "bcf59eaf",
   "metadata": {},
   "outputs": [],
   "source": [
    "structure_name = \"LLZO_011_La_code71_sto__Li_100_slab_heavy\""
   ]
  },
  {
   "cell_type": "code",
   "execution_count": 2,
   "id": "955e570d",
   "metadata": {},
   "outputs": [
    {
     "name": "stdout",
     "output_type": "stream",
     "text": [
      "- Structure: LLZO_011_La_code71_sto__Li_100_slab_heavy\n",
      "- Initial lattice height: 85.95 Å\n",
      "- Number of atoms: 756\n"
     ]
    }
   ],
   "source": [
    "from pymatgen.core import Structure\n",
    "import os\n",
    "\n",
    "# Load structure\n",
    "structure_path = (f\"/home/mehuldarak/summer/llzo_li_balanced_sliced/{structure_name}.cif\")  # replace with your file\n",
    "structure = Structure.from_file(structure_path)\n",
    "\n",
    "# Extract info\n",
    "structure_name = os.path.basename(structure_path).replace(\".cif\", \"\")\n",
    "lattice_height = structure.lattice.c\n",
    "num_atoms = len(structure)\n",
    "\n",
    "# Print output\n",
    "print(f\"- Structure: {structure_name}\")\n",
    "print(f\"- Initial lattice height: {lattice_height:.2f} Å\")\n",
    "print(f\"- Number of atoms: {num_atoms}\")\n"
   ]
  },
  {
   "cell_type": "code",
   "execution_count": 3,
   "id": "1846f174",
   "metadata": {},
   "outputs": [
    {
     "name": "stdout",
     "output_type": "stream",
     "text": [
      "Li slab thickness: 24.82 Å\n",
      "Lowest Li slab atom: 46.13 Å\n",
      "LLZO top z: 42.13 Å\n",
      "Li penetration into LLZO: -4.00 Å\n"
     ]
    }
   ],
   "source": [
    "from pymatgen.core import Structure\n",
    "import numpy as np\n",
    "\n",
    "s = Structure.from_file(f\"/home/mehuldarak/summer/llzo_li_balanced_sliced/{structure_name}.cif\")\n",
    "\n",
    "# Get all atoms\n",
    "z_coords = np.array([site.z for site in s.sites])\n",
    "species = np.array([site.species_string for site in s.sites])\n",
    "\n",
    "# Estimate LLZO top (non-Li atoms)\n",
    "llzo_z = z_coords[species != \"Li\"]\n",
    "llzo_top = llzo_z.max()\n",
    "\n",
    "# Now isolate Li slab: Li atoms ABOVE LLZO\n",
    "li_slab_z = np.array([site.z for site in s.sites if site.species_string == \"Li\" and site.z > llzo_top])\n",
    "\n",
    "print(f\"Li slab thickness: {li_slab_z.ptp():.2f} Å\")\n",
    "print(f\"Lowest Li slab atom: {li_slab_z.min():.2f} Å\")\n",
    "print(f\"LLZO top z: {llzo_top:.2f} Å\")\n",
    "print(f\"Li penetration into LLZO: {llzo_top - li_slab_z.min():.2f} Å\")\n"
   ]
  },
  {
   "cell_type": "code",
   "execution_count": 4,
   "id": "ad50b778",
   "metadata": {},
   "outputs": [
    {
     "name": "stdout",
     "output_type": "stream",
     "text": [
      "LLZO slab thickness: 27.13 Å\n",
      "Li slab thickness:   24.82 Å\n",
      "LLZO top z:          42.13 Å\n",
      "Lowest Li atom z:    46.13 Å\n",
      "Li penetration into LLZO: -4.00 Å\n"
     ]
    }
   ],
   "source": [
    "from pymatgen.core import Structure\n",
    "import numpy as np\n",
    "\n",
    "# Load structure\n",
    "structure = Structure.from_file(f\"/home/mehuldarak/summer/llzo_li_balanced_sliced/{structure_name}.cif\")\n",
    "\n",
    "# Get z-coordinates and element types\n",
    "z_coords = np.array([site.z for site in structure.sites])\n",
    "species = np.array([site.species_string for site in structure.sites])\n",
    "\n",
    "# LLZO: non-Li atoms (La, Zr, O)\n",
    "llzo_z = z_coords[species != \"Li\"]\n",
    "llzo_top = llzo_z.max()\n",
    "llzo_bottom = llzo_z.min()\n",
    "llzo_thickness = llzo_top - llzo_bottom\n",
    "\n",
    "# Li slab: Li atoms ABOVE LLZO (i.e. in metallic Li layer)\n",
    "li_slab_z = np.array([\n",
    "    site.z for site in structure.sites\n",
    "    if site.species_string == \"Li\" and site.z > llzo_top\n",
    "])\n",
    "li_thickness = li_slab_z.ptp() if len(li_slab_z) > 0 else 0\n",
    "li_bottom = li_slab_z.min() if len(li_slab_z) > 0 else None\n",
    "\n",
    "# Penetration check\n",
    "penetration = llzo_top - li_bottom if li_bottom is not None else 0\n",
    "\n",
    "# Report\n",
    "print(f\"LLZO slab thickness: {llzo_thickness:.2f} Å\")\n",
    "print(f\"Li slab thickness:   {li_thickness:.2f} Å\")\n",
    "print(f\"LLZO top z:          {llzo_top:.2f} Å\")\n",
    "print(f\"Lowest Li atom z:    {li_bottom:.2f} Å\" if li_bottom else \"No Li slab atoms found\")\n",
    "print(f\"Li penetration into LLZO: {penetration:.2f} Å\")\n"
   ]
  },
  {
   "cell_type": "code",
   "execution_count": 5,
   "id": "9df87ad4",
   "metadata": {},
   "outputs": [
    {
     "name": "stdout",
     "output_type": "stream",
     "text": [
      "Freezing 574 atoms out of 756\n",
      "CHGNet v0.3.0 initialized with 412,525 parameters\n",
      "CHGNet will run on cuda\n"
     ]
    },
    {
     "name": "stderr",
     "output_type": "stream",
     "text": [
      "/tmp/ipykernel_177739/3870098642.py:27: FutureWarning: Please use atoms.calc = calc\n",
      "  structure.set_calculator(calc)\n"
     ]
    }
   ],
   "source": [
    "from pymatgen.io.ase import AseAtomsAdaptor\n",
    "from ase.constraints import FixAtoms\n",
    "from chgnet.model.dynamics import CHGNetCalculator, StructOptimizer\n",
    "from ase.io import read, write\n",
    "import numpy as np\n",
    "\n",
    "# --- Load structure ---\n",
    "structure = read(f\"/home/mehuldarak/summer/llzo_li_balanced_sliced/{structure_name}.cif\")\n",
    "\n",
    "# --- Get z coordinates ---\n",
    "z_coords = structure.get_positions()[:, 2]\n",
    "z_min, z_max = z_coords.min(), z_coords.max()\n",
    "\n",
    "# --- Define freeze zones ---\n",
    "freeze_thickness_llzo = 0.75 * (llzo_thickness)  # in Å\n",
    "freeze_thickness_li = 0.75 * (llzo_thickness)  # in Å\n",
    "llzo_z_threshold = z_min + freeze_thickness_llzo\n",
    "li_z_threshold = z_max - freeze_thickness_li\n",
    "\n",
    "# --- Freeze LLZO base and Li top ---\n",
    "freeze_mask = (z_coords < llzo_z_threshold) | (z_coords > li_z_threshold)\n",
    "structure.set_constraint(FixAtoms(mask=freeze_mask))\n",
    "print(f\"Freezing {np.sum(freeze_mask)} atoms out of {len(structure)}\")\n",
    "\n",
    "# --- Attach CHGNet calculator ---\n",
    "calc = CHGNetCalculator(use_device=\"cuda\")\n",
    "structure.set_calculator(calc)"
   ]
  },
  {
   "cell_type": "code",
   "execution_count": 6,
   "id": "7579efc8",
   "metadata": {},
   "outputs": [
    {
     "name": "stdout",
     "output_type": "stream",
     "text": [
      "             Step     Time          Energy          fmax\n",
      "SciPyFminCG:    0 21:26:48    -2038.897593       14.964495\n",
      "SciPyFminCG:    1 21:26:50    -2081.453127       20.672494\n",
      "SciPyFminCG:    2 21:26:52    -2087.338469        9.910303\n",
      "SciPyFminCG:    3 21:26:53    -2094.550770        8.691725\n",
      "SciPyFminCG:    4 21:26:55    -2098.123936        3.667784\n",
      "SciPyFminCG:    5 21:26:56    -2100.759650        2.162472\n",
      "SciPyFminCG:    6 21:26:59    -2102.608237        3.051497\n",
      "SciPyFminCG:    7 21:27:01    -2113.511765       11.739069\n",
      "SciPyFminCG:    8 21:27:03    -2119.737047       16.209556\n",
      "SciPyFminCG:    9 21:27:06    -2147.378975       11.918743\n",
      "SciPyFminCG:   10 21:27:06    -2177.471867       14.431657\n",
      "SciPyFminCG:   11 21:27:09    -2254.994823       18.144662\n",
      "SciPyFminCG:   12 21:27:09    -2266.237930        7.519126\n",
      "SciPyFminCG:   13 21:27:11    -2281.776083        2.935597\n",
      "SciPyFminCG:   14 21:27:13    -2285.563740        2.446669\n",
      "SciPyFminCG:   15 21:27:15    -2288.982977        2.210264\n",
      "SciPyFminCG:   16 21:27:17    -2291.636175        2.950007\n",
      "SciPyFminCG:   17 21:27:19    -2292.994858        2.894918\n",
      "SciPyFminCG:   18 21:27:20    -2295.545136        1.478828\n",
      "SciPyFminCG:   19 21:27:22    -2297.382548        1.383425\n",
      "SciPyFminCG:   20 21:27:24    -2299.007272        1.733497\n",
      "SciPyFminCG:   21 21:27:26    -2301.149117        2.067910\n",
      "SciPyFminCG:   22 21:27:28    -2303.731298        1.644377\n",
      "SciPyFminCG:   23 21:27:30    -2306.209119        2.295085\n",
      "SciPyFminCG:   24 21:27:31    -2308.421439        1.992674\n",
      "SciPyFminCG:   25 21:27:33    -2310.166926        2.104111\n",
      "SciPyFminCG:   26 21:27:35    -2312.255239        2.278616\n",
      "SciPyFminCG:   27 21:27:37    -2313.880503        2.326053\n",
      "SciPyFminCG:   28 21:27:39    -2315.166006        3.317914\n",
      "SciPyFminCG:   29 21:27:40    -2317.088674        3.070781\n",
      "SciPyFminCG:   30 21:27:42    -2318.341012        2.546919\n",
      "SciPyFminCG:   31 21:27:44    -2319.872369        1.379246\n",
      "SciPyFminCG:   32 21:27:46    -2321.389126        1.356917\n",
      "SciPyFminCG:   33 21:27:48    -2322.467709        1.564962\n",
      "SciPyFminCG:   34 21:27:49    -2323.610458        1.389738\n",
      "SciPyFminCG:   35 21:27:51    -2324.464096        1.119429\n",
      "SciPyFminCG:   36 21:27:53    -2325.285470        1.416113\n",
      "SciPyFminCG:   37 21:27:55    -2326.057998        1.478109\n",
      "SciPyFminCG:   38 21:27:57    -2326.701651        1.265589\n",
      "SciPyFminCG:   39 21:27:58    -2327.248152        1.015480\n",
      "SciPyFminCG:   40 21:28:00    -2327.704170        0.941739\n",
      "SciPyFminCG:   41 21:28:02    -2328.158206        1.205525\n",
      "SciPyFminCG:   42 21:28:04    -2328.555645        0.675406\n",
      "SciPyFminCG:   43 21:28:06    -2328.832861        1.008555\n",
      "SciPyFminCG:   44 21:28:07    -2329.136753        0.891740\n",
      "SciPyFminCG:   45 21:28:09    -2329.437942        0.898997\n",
      "SciPyFminCG:   46 21:28:11    -2329.620169        0.645014\n",
      "SciPyFminCG:   47 21:28:13    -2329.802576        0.846142\n",
      "SciPyFminCG:   48 21:28:14    -2330.013823        1.006139\n",
      "SciPyFminCG:   49 21:28:16    -2330.306179        1.080810\n",
      "SciPyFminCG:   50 21:28:18    -2330.553655        1.058622\n",
      "SciPyFminCG:   51 21:28:20    -2330.708485        0.929702\n",
      "SciPyFminCG:   52 21:28:21    -2330.990026        0.693739\n",
      "SciPyFminCG:   53 21:28:23    -2331.302570        0.811247\n",
      "SciPyFminCG:   54 21:28:25    -2331.545540        0.609646\n",
      "SciPyFminCG:   55 21:28:27    -2331.755344        0.767362\n",
      "SciPyFminCG:   56 21:28:29    -2331.963707        1.059470\n",
      "SciPyFminCG:   57 21:28:30    -2332.112589        1.188796\n",
      "SciPyFminCG:   58 21:28:32    -2332.426575        0.790265\n",
      "SciPyFminCG:   59 21:28:34    -2332.636920        0.895511\n",
      "SciPyFminCG:   60 21:28:37    -2332.838614        0.838640\n",
      "SciPyFminCG:   61 21:28:38    -2333.037423        0.581363\n",
      "SciPyFminCG:   62 21:28:40    -2333.176392        0.948772\n",
      "SciPyFminCG:   63 21:28:43    -2333.326535        1.229167\n",
      "SciPyFminCG:   64 21:28:45    -2333.585186        0.903053\n",
      "SciPyFminCG:   65 21:28:46    -2333.772099        0.828080\n",
      "SciPyFminCG:   66 21:28:48    -2333.967665        1.151389\n",
      "SciPyFminCG:   67 21:28:50    -2334.133850        0.925449\n",
      "SciPyFminCG:   68 21:28:52    -2334.346539        0.489026\n",
      "SciPyFminCG:   69 21:28:54    -2334.531469        0.763517\n",
      "SciPyFminCG:   70 21:28:55    -2334.639256        0.640278\n",
      "SciPyFminCG:   71 21:28:57    -2334.756955        0.477426\n",
      "SciPyFminCG:   72 21:28:59    -2334.834641        0.366429\n",
      "SciPyFminCG:   73 21:29:01    -2334.903854        0.664618\n",
      "SciPyFminCG:   74 21:29:02    -2334.990372        0.500800\n",
      "SciPyFminCG:   75 21:29:04    -2335.080494        0.606643\n",
      "SciPyFminCG:   76 21:29:06    -2335.147545        0.465596\n",
      "SciPyFminCG:   77 21:29:08    -2335.187379        0.566394\n",
      "SciPyFminCG:   78 21:29:10    -2335.254971        0.458804\n",
      "SciPyFminCG:   79 21:29:11    -2335.287775        0.321055\n",
      "SciPyFminCG:   80 21:29:13    -2335.322923        0.554242\n",
      "SciPyFminCG:   81 21:29:16    -2335.393759        0.950743\n",
      "SciPyFminCG:   82 21:29:18    -2335.550932        0.806030\n",
      "SciPyFminCG:   83 21:29:20    -2335.693505        0.746913\n",
      "SciPyFminCG:   84 21:29:21    -2335.823462        0.818605\n",
      "SciPyFminCG:   85 21:29:23    -2335.961889        0.744338\n",
      "SciPyFminCG:   86 21:29:25    -2336.184852        0.713997\n",
      "SciPyFminCG:   87 21:29:27    -2336.386185        0.979447\n",
      "SciPyFminCG:   88 21:29:28    -2336.648621        0.974705\n",
      "SciPyFminCG:   89 21:29:31    -2336.877892        0.927506\n",
      "SciPyFminCG:   90 21:29:33    -2337.177458        1.152687\n",
      "SciPyFminCG:   91 21:29:34    -2337.412136        0.958571\n",
      "SciPyFminCG:   92 21:29:36    -2337.590578        0.557464\n",
      "SciPyFminCG:   93 21:29:38    -2337.659431        0.562474\n",
      "SciPyFminCG:   94 21:29:40    -2337.735134        0.743968\n",
      "SciPyFminCG:   95 21:29:42    -2337.784882        0.386316\n",
      "SciPyFminCG:   96 21:29:43    -2337.826879        0.562025\n",
      "SciPyFminCG:   97 21:29:45    -2337.855177        0.475435\n",
      "SciPyFminCG:   98 21:29:47    -2337.886539        0.514423\n",
      "SciPyFminCG:   99 21:29:50    -2337.916821        0.604795\n",
      "SciPyFminCG:  100 21:29:51    -2337.955934        0.387460\n",
      "SciPyFminCG:  101 21:29:53    -2337.982069        0.318974\n",
      "SciPyFminCG:  102 21:29:55    -2338.008745        0.366910\n",
      "SciPyFminCG:  103 21:29:57    -2338.026409        0.460194\n",
      "SciPyFminCG:  104 21:30:00    -2338.046236        0.307218\n",
      "SciPyFminCG:  105 21:30:02    -2338.062098        0.261096\n",
      "SciPyFminCG:  106 21:30:04    -2338.077959        0.410796\n",
      "SciPyFminCG:  107 21:30:06    -2338.090756        0.286453\n",
      "SciPyFminCG:  108 21:30:08    -2338.106618        0.297038\n",
      "SciPyFminCG:  109 21:30:10    -2338.120857        0.376719\n",
      "SciPyFminCG:  110 21:30:12    -2338.136719        0.275925\n",
      "SciPyFminCG:  111 21:30:14    -2338.152580        0.348323\n",
      "SciPyFminCG:  112 21:30:16    -2338.173489        0.493248\n",
      "SciPyFminCG:  113 21:30:18    -2338.191153        0.326520\n",
      "SciPyFminCG:  114 21:30:20    -2338.205031        0.239518\n",
      "SciPyFminCG:  115 21:30:22    -2338.217288        0.557645\n",
      "SciPyFminCG:  116 21:30:23    -2338.224858        0.307796\n",
      "SciPyFminCG:  117 21:30:24    -2338.233690        0.143413\n"
     ]
    }
   ],
   "source": [
    "# Stage 1: CG\n",
    "opt1 = StructOptimizer(model=calc, optimizer_class=\"SciPyFminCG\", use_device=\"cuda\")\n",
    "result1 = opt1.relax(structure, fmax=0.15, steps=300, relax_cell=False, verbose=True)"
   ]
  },
  {
   "cell_type": "code",
   "execution_count": 7,
   "id": "9900c903",
   "metadata": {},
   "outputs": [
    {
     "name": "stderr",
     "output_type": "stream",
     "text": [
      "/tmp/ipykernel_177739/3154571052.py:3: FutureWarning: Please use atoms.calc = calc\n",
      "  structure_1.set_calculator(calc)\n"
     ]
    },
    {
     "name": "stdout",
     "output_type": "stream",
     "text": [
      "      Step     Time          Energy          fmax\n",
      "FIRE:    0 21:30:25    -2338.234051        0.143408\n",
      "FIRE:    1 21:30:26    -2338.236394        0.091109\n",
      "FIRE:    2 21:30:27    -2338.239278        0.103939\n",
      "FIRE:    3 21:30:28    -2338.241621        0.123731\n",
      "FIRE:    4 21:30:29    -2338.243423        0.080435\n",
      "FIRE:    5 21:30:30    -2338.247028        0.098452\n",
      "FIRE:    6 21:30:31    -2338.250273        0.078605\n",
      "FIRE:    7 21:30:31    -2338.253517        0.080900\n",
      "FIRE:    8 21:30:32    -2338.257483        0.098804\n",
      "FIRE:    9 21:30:33    -2338.262169        0.086986\n",
      "FIRE:   10 21:30:34    -2338.267035        0.096682\n",
      "FIRE:   11 21:30:35    -2338.272803        0.106916\n",
      "FIRE:   12 21:30:36    -2338.279833        0.114806\n",
      "FIRE:   13 21:30:37    -2338.288665        0.109063\n",
      "FIRE:   14 21:30:38    -2338.298578        0.106991\n",
      "FIRE:   15 21:30:39    -2338.307230        0.226107\n",
      "FIRE:   16 21:30:40    -2338.307951        0.567607\n",
      "FIRE:   17 21:30:40    -2338.319126        0.088603\n",
      "FIRE:   18 21:30:41    -2338.312637        0.553251\n",
      "FIRE:   19 21:30:42    -2338.316062        0.439220\n",
      "FIRE:   20 21:30:43    -2338.319847        0.168877\n",
      "FIRE:   21 21:30:44    -2338.320568        0.147474\n",
      "FIRE:   22 21:30:45    -2338.320568        0.137157\n",
      "FIRE:   23 21:30:46    -2338.321289        0.117606\n",
      "FIRE:   24 21:30:47    -2338.321289        0.090562\n",
      "FIRE:   25 21:30:48    -2338.320929        0.058682\n",
      "FIRE:   26 21:30:48    -2338.321109        0.056743\n",
      "FIRE:   27 21:30:49    -2338.321830        0.056701\n",
      "FIRE:   28 21:30:50    -2338.322010        0.056655\n",
      "FIRE:   29 21:30:51    -2338.322190        0.062800\n",
      "FIRE:   30 21:30:52    -2338.322010        0.075060\n",
      "FIRE:   31 21:30:53    -2338.323092        0.071457\n",
      "FIRE:   32 21:30:54    -2338.323452        0.056107\n",
      "FIRE:   33 21:30:55    -2338.323812        0.055864\n",
      "FIRE:   34 21:30:55    -2338.324173        0.055571\n",
      "FIRE:   35 21:30:56    -2338.324894        0.069104\n",
      "FIRE:   36 21:30:57    -2338.325254        0.058985\n",
      "FIRE:   37 21:30:58    -2338.326696        0.053226\n",
      "FIRE:   38 21:30:59    -2338.327417        0.051196\n",
      "FIRE:   39 21:31:00    -2338.328679        0.048759\n"
     ]
    }
   ],
   "source": [
    "# Convert back, assign calculator + constraint\n",
    "structure_1 = AseAtomsAdaptor.get_atoms(result1[\"final_structure\"])\n",
    "structure_1.set_calculator(calc)\n",
    "structure_1.set_constraint(FixAtoms(mask=freeze_mask))\n",
    "\n",
    "# Stage 2: FIRE\n",
    "opt2 = StructOptimizer(model=calc, optimizer_class=\"FIRE\", use_device=\"cuda\")\n",
    "result2 = opt2.relax(structure_1, fmax=0.05, steps=400, relax_cell=False, verbose=True)"
   ]
  },
  {
   "cell_type": "code",
   "execution_count": 8,
   "id": "02e25f8e",
   "metadata": {},
   "outputs": [
    {
     "name": "stdout",
     "output_type": "stream",
     "text": [
      "✅ Final structure saved successfully.\n"
     ]
    }
   ],
   "source": [
    "from pymatgen.io.ase import AseAtomsAdaptor\n",
    "from ase.io import write\n",
    "\n",
    "# Extract final structure from result3 (FIRE)\n",
    "final_structure_pmg = result2[\"final_structure\"]  # assuming result2 = FIRE\n",
    "final_structure_ase = AseAtomsAdaptor.get_atoms(final_structure_pmg)\n",
    "\n",
    "# Save as CIF and ASE trajectory\n",
    "write(f\"relaxed_{structure_name}.cif\", final_structure_ase)\n",
    "write(f\"relaxed_{structure_name}.traj\", final_structure_ase)\n",
    "\n",
    "print(\"✅ Final structure saved successfully.\")"
   ]
  },
  {
   "cell_type": "code",
   "execution_count": 9,
   "id": "179da561",
   "metadata": {},
   "outputs": [
    {
     "name": "stdout",
     "output_type": "stream",
     "text": [
      "Li slab thickness: 29.13 Å\n",
      "Lowest Li slab atom: 41.82 Å\n",
      "LLZO top z: 41.79 Å\n",
      "Li penetration into LLZO: -0.02 Å\n"
     ]
    }
   ],
   "source": [
    "from pymatgen.core import Structure\n",
    "import numpy as np\n",
    "\n",
    "s = Structure.from_file(f\"/home/mehuldarak/summer/relax_final/{structure_name}/relaxed_{structure_name}.cif\")\n",
    "\n",
    "# Get all atoms\n",
    "z_coords = np.array([site.z for site in s.sites])\n",
    "species = np.array([site.species_string for site in s.sites])\n",
    "\n",
    "# Estimate LLZO top (non-Li atoms)\n",
    "llzo_z = z_coords[species != \"Li\"]\n",
    "llzo_top = llzo_z.max()\n",
    "\n",
    "# Now isolate Li slab: Li atoms ABOVE LLZO\n",
    "li_slab_z = np.array([site.z for site in s.sites if site.species_string == \"Li\" and site.z > llzo_top])\n",
    "\n",
    "print(f\"Li slab thickness: {li_slab_z.ptp():.2f} Å\")\n",
    "print(f\"Lowest Li slab atom: {li_slab_z.min():.2f} Å\")\n",
    "print(f\"LLZO top z: {llzo_top:.2f} Å\")\n",
    "print(f\"Li penetration into LLZO: {llzo_top - li_slab_z.min():.2f} Å\")\n"
   ]
  },
  {
   "cell_type": "code",
   "execution_count": 10,
   "id": "5d3853c1",
   "metadata": {},
   "outputs": [
    {
     "name": "stdout",
     "output_type": "stream",
     "text": [
      "             Step     Time          Energy          fmax\n",
      "SciPyFminCG:    0 21:31:01    -2338.328679       17.010397\n",
      "SciPyFminCG:    1 21:31:05    -2386.141222       18.743648\n",
      "SciPyFminCG:    2 21:31:07    -2394.817829       14.919392\n",
      "SciPyFminCG:    3 21:31:08    -2416.539989        8.393922\n",
      "SciPyFminCG:    4 21:31:09    -2424.589165       10.090632\n",
      "SciPyFminCG:    5 21:31:10    -2432.339676        8.785642\n",
      "SciPyFminCG:    6 21:31:11    -2440.057563        3.732340\n",
      "SciPyFminCG:    7 21:31:15    -2499.685850       23.046222\n",
      "SciPyFminCG:    8 21:31:17    -2510.750155       19.301120\n",
      "SciPyFminCG:    9 21:31:19    -2560.121813        6.549053\n",
      "SciPyFminCG:   10 21:31:21    -2596.078777        3.839109\n",
      "SciPyFminCG:   11 21:31:23    -2604.138047        2.028886\n",
      "SciPyFminCG:   12 21:31:24    -2609.715351        1.261736\n",
      "SciPyFminCG:   13 21:31:26    -2615.853035        1.438595\n",
      "SciPyFminCG:   14 21:31:28    -2621.133116        1.841346\n",
      "SciPyFminCG:   15 21:31:30    -2624.790456        2.604786\n",
      "SciPyFminCG:   16 21:31:32    -2626.999712        1.594633\n",
      "SciPyFminCG:   17 21:31:34    -2630.342886        1.700216\n",
      "SciPyFminCG:   18 21:31:35    -2633.135954        1.471493\n",
      "SciPyFminCG:   19 21:31:37    -2636.830605        1.659191\n",
      "SciPyFminCG:   20 21:31:39    -2641.059319        1.800629\n",
      "SciPyFminCG:   21 21:31:40    -2644.773617        1.398950\n",
      "SciPyFminCG:   22 21:31:42    -2648.144368        1.335795\n",
      "SciPyFminCG:   23 21:31:43    -2650.589564        1.995126\n",
      "SciPyFminCG:   24 21:31:45    -2652.250517        1.954561\n",
      "SciPyFminCG:   25 21:31:47    -2654.485188        1.386459\n",
      "SciPyFminCG:   26 21:31:48    -2657.253922        1.254749\n",
      "SciPyFminCG:   27 21:31:50    -2659.740214        1.015814\n",
      "SciPyFminCG:   28 21:31:51    -2662.041395        1.831137\n",
      "SciPyFminCG:   29 21:31:53    -2664.857715        1.193595\n",
      "SciPyFminCG:   30 21:31:55    -2667.035248        1.228878\n",
      "SciPyFminCG:   31 21:31:56    -2669.758381        1.074187\n",
      "SciPyFminCG:   32 21:31:58    -2672.274774        1.133606\n",
      "SciPyFminCG:   33 21:31:59    -2674.407426        1.285757\n",
      "SciPyFminCG:   34 21:32:01    -2676.005653        1.530907\n",
      "SciPyFminCG:   35 21:32:03    -2677.682287        1.123022\n",
      "SciPyFminCG:   36 21:32:04    -2679.079182        1.113705\n",
      "SciPyFminCG:   37 21:32:06    -2680.401996        1.581198\n",
      "SciPyFminCG:   38 21:32:07    -2681.641897        1.154046\n",
      "SciPyFminCG:   39 21:32:09    -2682.842686        1.306640\n",
      "SciPyFminCG:   40 21:32:11    -2684.130352        1.481957\n",
      "SciPyFminCG:   41 21:32:12    -2685.202806        0.888487\n",
      "SciPyFminCG:   42 21:32:14    -2686.171801        1.135919\n",
      "SciPyFminCG:   43 21:32:15    -2687.447030        1.037497\n",
      "SciPyFminCG:   44 21:32:17    -2688.596269        0.958369\n",
      "SciPyFminCG:   45 21:32:18    -2689.606899        1.222431\n",
      "SciPyFminCG:   46 21:32:20    -2690.514070        1.165192\n",
      "SciPyFminCG:   47 21:32:22    -2691.576611        1.492310\n",
      "SciPyFminCG:   48 21:32:23    -2692.769468        1.323431\n",
      "SciPyFminCG:   49 21:32:25    -2693.953674        1.203465\n",
      "SciPyFminCG:   50 21:32:26    -2695.244405        1.432763\n",
      "SciPyFminCG:   51 21:32:28    -2696.311452        2.238143\n",
      "SciPyFminCG:   52 21:32:29    -2697.254311        1.742106\n",
      "SciPyFminCG:   53 21:32:31    -2698.910757        1.694694\n",
      "SciPyFminCG:   54 21:32:33    -2700.570989        1.141118\n",
      "SciPyFminCG:   55 21:32:34    -2701.622895        1.097637\n",
      "SciPyFminCG:   56 21:32:35    -2702.527542        1.492598\n",
      "SciPyFminCG:   57 21:32:37    -2703.483378        1.509867\n",
      "SciPyFminCG:   58 21:32:39    -2704.641269        1.670536\n",
      "SciPyFminCG:   59 21:32:40    -2705.890723        0.953226\n",
      "SciPyFminCG:   60 21:32:42    -2706.872154        1.381277\n",
      "SciPyFminCG:   61 21:32:43    -2708.066814        1.408550\n",
      "SciPyFminCG:   62 21:32:45    -2709.249038        1.754036\n",
      "SciPyFminCG:   63 21:32:46    -2710.634577        1.568109\n",
      "SciPyFminCG:   64 21:32:48    -2712.634028        1.744896\n",
      "SciPyFminCG:   65 21:32:49    -2714.121586        1.771807\n",
      "SciPyFminCG:   66 21:32:51    -2715.756583        1.537307\n",
      "SciPyFminCG:   67 21:32:53    -2717.132750        1.609089\n",
      "SciPyFminCG:   68 21:32:54    -2718.553617        1.474486\n",
      "SciPyFminCG:   69 21:32:55    -2719.966192        1.649450\n",
      "SciPyFminCG:   70 21:32:57    -2721.190953        1.447088\n",
      "SciPyFminCG:   71 21:32:58    -2722.309550        1.497333\n",
      "SciPyFminCG:   72 21:33:00    -2723.376237        1.300848\n",
      "SciPyFminCG:   73 21:33:02    -2724.244294        1.411949\n",
      "SciPyFminCG:   74 21:33:03    -2725.260873        1.445913\n",
      "SciPyFminCG:   75 21:33:05    -2726.089997        1.271243\n",
      "SciPyFminCG:   76 21:33:06    -2726.991760        1.447058\n",
      "SciPyFminCG:   77 21:33:08    -2727.907763        1.266010\n",
      "SciPyFminCG:   78 21:33:09    -2728.824666        1.588969\n",
      "SciPyFminCG:   79 21:33:11    -2729.745535        1.534772\n",
      "SciPyFminCG:   80 21:33:12    -2730.830426        1.520049\n",
      "SciPyFminCG:   81 21:33:14    -2731.934243        1.755872\n",
      "SciPyFminCG:   82 21:33:15    -2732.840152        1.366567\n",
      "SciPyFminCG:   83 21:33:16    -2733.808425        1.457864\n",
      "SciPyFminCG:   84 21:33:18    -2734.661882        1.514151\n",
      "SciPyFminCG:   85 21:33:20    -2735.531021        1.255243\n",
      "SciPyFminCG:   86 21:33:21    -2736.368978        1.626704\n",
      "SciPyFminCG:   87 21:33:22    -2737.352391        1.354959\n",
      "SciPyFminCG:   88 21:33:24    -2738.359417        1.346479\n",
      "SciPyFminCG:   89 21:33:25    -2739.217921        1.603625\n",
      "SciPyFminCG:   90 21:33:27    -2740.422855        1.769286\n",
      "SciPyFminCG:   91 21:33:28    -2741.395454        1.891282\n",
      "SciPyFminCG:   92 21:33:30    -2742.682760        1.161290\n",
      "SciPyFminCG:   93 21:33:31    -2743.819382        1.356704\n",
      "SciPyFminCG:   94 21:33:33    -2745.209066        1.121495\n",
      "SciPyFminCG:   95 21:33:34    -2746.220057        1.117167\n",
      "SciPyFminCG:   96 21:33:36    -2747.362086        1.061966\n",
      "SciPyFminCG:   97 21:33:37    -2748.232667        1.358106\n",
      "SciPyFminCG:   98 21:33:38    -2749.276282        1.187931\n",
      "SciPyFminCG:   99 21:33:40    -2750.084679        0.979084\n",
      "SciPyFminCG:  100 21:33:41    -2750.985360        1.071514\n",
      "SciPyFminCG:  101 21:33:43    -2751.813944        1.362435\n",
      "SciPyFminCG:  102 21:33:44    -2752.764914        1.162213\n",
      "SciPyFminCG:  103 21:33:46    -2753.510765        0.991244\n",
      "SciPyFminCG:  104 21:33:47    -2754.056726        1.266685\n",
      "SciPyFminCG:  105 21:33:49    -2754.580696        1.402143\n",
      "SciPyFminCG:  106 21:33:50    -2755.115301        1.021893\n",
      "SciPyFminCG:  107 21:33:51    -2755.685054        1.338037\n",
      "SciPyFminCG:  108 21:33:53    -2756.192983        1.445101\n",
      "SciPyFminCG:  109 21:33:54    -2756.736059        1.094717\n",
      "SciPyFminCG:  110 21:33:56    -2757.234435        0.948267\n",
      "SciPyFminCG:  111 21:33:57    -2757.878088        1.052843\n",
      "SciPyFminCG:  112 21:33:59    -2758.434322        1.351888\n",
      "SciPyFminCG:  113 21:34:00    -2758.945856        0.821677\n",
      "SciPyFminCG:  114 21:34:01    -2759.506056        1.058579\n",
      "SciPyFminCG:  115 21:34:03    -2760.182153        0.987439\n",
      "SciPyFminCG:  116 21:34:04    -2760.767767        0.966957\n",
      "SciPyFminCG:  117 21:34:05    -2761.368702        1.001934\n",
      "SciPyFminCG:  118 21:34:07    -2761.967113        1.469791\n",
      "SciPyFminCG:  119 21:34:08    -2762.604278        1.017610\n",
      "SciPyFminCG:  120 21:34:10    -2763.269740        0.805276\n",
      "SciPyFminCG:  121 21:34:11    -2764.178352        1.131987\n",
      "SciPyFminCG:  122 21:34:12    -2765.050014        1.338809\n",
      "SciPyFminCG:  123 21:34:14    -2765.820560        1.051941\n",
      "SciPyFminCG:  124 21:34:15    -2766.498459        1.137895\n",
      "SciPyFminCG:  125 21:34:17    -2767.244310        0.946330\n",
      "SciPyFminCG:  126 21:34:18    -2767.854798        1.055119\n",
      "SciPyFminCG:  127 21:34:19    -2768.429958        0.866748\n",
      "SciPyFminCG:  128 21:34:21    -2768.971593        0.981916\n",
      "SciPyFminCG:  129 21:34:22    -2769.508181        0.941472\n",
      "SciPyFminCG:  130 21:34:23    -2770.055763        1.020941\n",
      "SciPyFminCG:  131 21:34:25    -2770.678688        0.819521\n",
      "SciPyFminCG:  132 21:34:26    -2771.365059        1.056739\n",
      "SciPyFminCG:  133 21:34:28    -2772.079908        0.936976\n",
      "SciPyFminCG:  134 21:34:29    -2772.729509        1.029058\n",
      "SciPyFminCG:  135 21:34:30    -2773.546377        1.368904\n",
      "SciPyFminCG:  136 21:34:32    -2774.381630        1.357728\n",
      "SciPyFminCG:  137 21:34:33    -2775.214359        1.968536\n",
      "SciPyFminCG:  138 21:34:34    -2776.063491        1.293975\n",
      "SciPyFminCG:  139 21:34:36    -2776.998239        1.414804\n",
      "SciPyFminCG:  140 21:34:37    -2778.095387        0.863179\n",
      "SciPyFminCG:  141 21:34:38    -2779.168382        1.232075\n",
      "SciPyFminCG:  142 21:34:40    -2780.400172        1.225685\n",
      "SciPyFminCG:  143 21:34:41    -2781.584198        1.340838\n",
      "SciPyFminCG:  144 21:34:42    -2782.670531        1.570489\n",
      "SciPyFminCG:  145 21:34:44    -2783.954412        1.254937\n",
      "SciPyFminCG:  146 21:34:45    -2784.901417        1.444237\n",
      "SciPyFminCG:  147 21:34:46    -2785.754153        1.630640\n",
      "SciPyFminCG:  148 21:34:47    -2786.730898        1.190943\n",
      "SciPyFminCG:  149 21:34:49    -2787.670332        1.712509\n",
      "SciPyFminCG:  150 21:34:50    -2788.512614        1.649287\n",
      "SciPyFminCG:  151 21:34:52    -2789.595523        1.371819\n",
      "SciPyFminCG:  152 21:34:53    -2790.362103        2.093203\n",
      "SciPyFminCG:  153 21:34:54    -2791.049194        0.817782\n",
      "SciPyFminCG:  154 21:34:55    -2791.577491        1.271527\n",
      "SciPyFminCG:  155 21:34:57    -2792.079472        1.927172\n",
      "SciPyFminCG:  156 21:34:58    -2792.563788        0.978757\n",
      "SciPyFminCG:  157 21:34:59    -2793.035668        1.168119\n",
      "SciPyFminCG:  158 21:35:00    -2793.521427        2.290630\n",
      "SciPyFminCG:  159 21:35:02    -2793.983754        1.037087\n",
      "SciPyFminCG:  160 21:35:03    -2794.388403        1.059873\n",
      "SciPyFminCG:  161 21:35:04    -2794.849108        0.955899\n",
      "SciPyFminCG:  162 21:35:06    -2795.291428        0.953390\n",
      "SciPyFminCG:  163 21:35:07    -2795.937964        1.185449\n",
      "SciPyFminCG:  164 21:35:08    -2796.636412        1.621427\n",
      "SciPyFminCG:  165 21:35:09    -2797.292862        0.899228\n",
      "SciPyFminCG:  166 21:35:11    -2798.159838        1.176047\n",
      "SciPyFminCG:  167 21:35:12    -2799.012754        0.857200\n",
      "SciPyFminCG:  168 21:35:13    -2799.762752        1.258707\n",
      "SciPyFminCG:  169 21:35:15    -2800.423528        0.833175\n",
      "SciPyFminCG:  170 21:35:16    -2801.069704        1.216710\n",
      "SciPyFminCG:  171 21:35:17    -2802.037256        1.170072\n",
      "SciPyFminCG:  172 21:35:18    -2803.079610        1.458433\n",
      "SciPyFminCG:  173 21:35:20    -2803.938475        1.107180\n",
      "SciPyFminCG:  174 21:35:21    -2804.897555        0.977386\n",
      "SciPyFminCG:  175 21:35:22    -2805.963521        1.390807\n",
      "SciPyFminCG:  176 21:35:23    -2806.867988        1.144390\n",
      "SciPyFminCG:  177 21:35:25    -2807.803276        1.207670\n",
      "SciPyFminCG:  178 21:35:26    -2809.093826        1.446792\n",
      "SciPyFminCG:  179 21:35:28    -2810.204312        1.370092\n",
      "SciPyFminCG:  180 21:35:29    -2811.052002        1.290918\n",
      "SciPyFminCG:  181 21:35:30    -2811.997925        1.732490\n",
      "SciPyFminCG:  182 21:35:31    -2812.705384        1.130336\n",
      "SciPyFminCG:  183 21:35:33    -2813.345793        1.123832\n",
      "SciPyFminCG:  184 21:35:34    -2814.119582        1.164557\n",
      "SciPyFminCG:  185 21:35:35    -2814.737460        0.887660\n",
      "SciPyFminCG:  186 21:35:36    -2815.225382        0.857708\n",
      "SciPyFminCG:  187 21:35:37    -2815.654904        1.225287\n",
      "SciPyFminCG:  188 21:35:39    -2816.082264        0.948876\n",
      "SciPyFminCG:  189 21:35:40    -2816.538102        0.837773\n",
      "SciPyFminCG:  190 21:35:41    -2817.075411        1.035163\n",
      "SciPyFminCG:  191 21:35:42    -2817.655077        1.161750\n",
      "SciPyFminCG:  192 21:35:44    -2818.263041        1.012297\n",
      "SciPyFminCG:  193 21:35:45    -2819.001503        1.433483\n",
      "SciPyFminCG:  194 21:35:46    -2819.852077        1.791732\n",
      "SciPyFminCG:  195 21:35:47    -2820.619377        2.107453\n",
      "SciPyFminCG:  196 21:35:48    -2821.535379        1.452392\n",
      "SciPyFminCG:  197 21:35:50    -2822.401634        1.153223\n",
      "SciPyFminCG:  198 21:35:51    -2823.402892        2.020039\n",
      "SciPyFminCG:  199 21:35:52    -2824.241570        2.070925\n",
      "SciPyFminCG:  200 21:35:53    -2825.163700        1.793507\n",
      "SciPyFminCG:  201 21:35:54    -2826.259406        1.016044\n",
      "SciPyFminCG:  202 21:35:56    -2827.025805        1.151607\n",
      "SciPyFminCG:  203 21:35:57    -2827.823027        2.745162\n",
      "SciPyFminCG:  204 21:35:58    -2828.550133        1.206426\n",
      "SciPyFminCG:  205 21:35:59    -2829.324283        1.314649\n",
      "SciPyFminCG:  206 21:36:00    -2830.107985        2.819884\n",
      "SciPyFminCG:  207 21:36:01    -2830.720997        1.266221\n",
      "SciPyFminCG:  208 21:36:03    -2831.489559        1.208335\n",
      "SciPyFminCG:  209 21:36:04    -2832.166918        1.638970\n",
      "SciPyFminCG:  210 21:36:05    -2832.714681        1.058769\n",
      "SciPyFminCG:  211 21:36:06    -2833.226755        0.925328\n",
      "SciPyFminCG:  212 21:36:07    -2833.672680        0.980977\n",
      "SciPyFminCG:  213 21:36:09    -2834.313809        1.127216\n",
      "SciPyFminCG:  214 21:36:10    -2835.051550        1.197622\n",
      "SciPyFminCG:  215 21:36:11    -2835.753422        0.969268\n",
      "SciPyFminCG:  216 21:36:12    -2836.392028        1.123296\n",
      "SciPyFminCG:  217 21:36:13    -2837.074253        1.103313\n",
      "SciPyFminCG:  218 21:36:14    -2837.706551        1.114619\n",
      "SciPyFminCG:  219 21:36:15    -2838.309288        1.117967\n",
      "SciPyFminCG:  220 21:36:17    -2838.959970        0.855313\n",
      "SciPyFminCG:  221 21:36:18    -2839.662563        0.967015\n",
      "SciPyFminCG:  222 21:36:19    -2840.310542        1.122609\n",
      "SciPyFminCG:  223 21:36:20    -2841.074058        1.564461\n",
      "SciPyFminCG:  224 21:36:21    -2841.669044        1.092717\n",
      "SciPyFminCG:  225 21:36:22    -2842.459597        0.863942\n",
      "SciPyFminCG:  226 21:36:24    -2843.090452        1.005267\n",
      "SciPyFminCG:  227 21:36:25    -2843.790341        1.367850\n",
      "SciPyFminCG:  228 21:36:26    -2844.817014        1.537543\n",
      "SciPyFminCG:  229 21:36:27    -2845.774112        1.104035\n",
      "SciPyFminCG:  230 21:36:28    -2846.547541        1.254561\n",
      "SciPyFminCG:  231 21:36:29    -2847.335930        1.681943\n",
      "SciPyFminCG:  232 21:36:30    -2848.360620        1.395306\n",
      "SciPyFminCG:  233 21:36:31    -2849.144683        1.284844\n",
      "SciPyFminCG:  234 21:36:32    -2849.937218        1.176244\n",
      "SciPyFminCG:  235 21:36:34    -2850.748137        0.925967\n",
      "SciPyFminCG:  236 21:36:35    -2851.548964        1.066331\n",
      "SciPyFminCG:  237 21:36:36    -2852.136200        0.972967\n",
      "SciPyFminCG:  238 21:36:37    -2852.653682        0.928342\n",
      "SciPyFminCG:  239 21:36:38    -2853.335186        1.209156\n",
      "SciPyFminCG:  240 21:36:40    -2853.826352        0.914455\n",
      "SciPyFminCG:  241 21:36:41    -2854.324007        0.957776\n",
      "SciPyFminCG:  242 21:36:42    -2854.771554        1.097923\n",
      "SciPyFminCG:  243 21:36:43    -2855.237846        0.749246\n",
      "SciPyFminCG:  244 21:36:44    -2855.553274        0.758168\n",
      "SciPyFminCG:  245 21:36:45    -2855.951795        0.929720\n",
      "SciPyFminCG:  246 21:36:47    -2856.386364        0.843651\n",
      "SciPyFminCG:  247 21:36:48    -2856.837155        1.066849\n",
      "SciPyFminCG:  248 21:36:49    -2857.277853        1.542068\n",
      "SciPyFminCG:  249 21:36:50    -2857.659070        1.168746\n",
      "SciPyFminCG:  250 21:36:51    -2858.232968        1.118800\n",
      "SciPyFminCG:  251 21:36:52    -2858.685562        1.400700\n",
      "SciPyFminCG:  252 21:36:53    -2859.243959        1.058069\n",
      "SciPyFminCG:  253 21:36:54    -2859.669517        0.608850\n",
      "SciPyFminCG:  254 21:36:55    -2860.150229        1.222705\n",
      "SciPyFminCG:  255 21:36:56    -2860.610753        1.191942\n",
      "SciPyFminCG:  256 21:36:57    -2861.068394        0.807970\n",
      "SciPyFminCG:  257 21:36:59    -2861.456100        0.972136\n",
      "SciPyFminCG:  258 21:37:00    -2861.804692        0.964251\n",
      "SciPyFminCG:  259 21:37:01    -2862.126609        1.154218\n",
      "SciPyFminCG:  260 21:37:02    -2862.425634        1.231389\n",
      "SciPyFminCG:  261 21:37:03    -2862.766296        1.114317\n",
      "SciPyFminCG:  262 21:37:04    -2863.235473        1.354769\n",
      "SciPyFminCG:  263 21:37:05    -2863.833704        1.735402\n",
      "SciPyFminCG:  264 21:37:06    -2864.428150        1.476955\n",
      "SciPyFminCG:  265 21:37:07    -2865.040621        1.393739\n",
      "SciPyFminCG:  266 21:37:08    -2865.588744        1.478697\n",
      "SciPyFminCG:  267 21:37:10    -2866.215094        1.176224\n",
      "SciPyFminCG:  268 21:37:11    -2866.829907        1.143629\n",
      "SciPyFminCG:  269 21:37:12    -2867.469775        1.402459\n",
      "SciPyFminCG:  270 21:37:13    -2868.171827        1.223447\n",
      "SciPyFminCG:  271 21:37:14    -2868.759064        0.857915\n",
      "SciPyFminCG:  272 21:37:15    -2869.482925        1.522559\n",
      "SciPyFminCG:  273 21:37:16    -2870.197054        2.386974\n",
      "SciPyFminCG:  274 21:37:17    -2870.768068        1.033913\n",
      "SciPyFminCG:  275 21:37:18    -2871.380359        1.287926\n",
      "SciPyFminCG:  276 21:37:19    -2872.204617        2.240656\n",
      "SciPyFminCG:  277 21:37:20    -2872.983994        1.079904\n",
      "SciPyFminCG:  278 21:37:21    -2873.692174        1.412220\n",
      "SciPyFminCG:  279 21:37:22    -2874.670721        1.302494\n",
      "SciPyFminCG:  280 21:37:24    -2875.378721        1.353742\n",
      "SciPyFminCG:  281 21:37:25    -2876.169994        1.366492\n",
      "SciPyFminCG:  282 21:37:26    -2876.666027        1.235696\n",
      "SciPyFminCG:  283 21:37:27    -2877.036069        1.211353\n",
      "SciPyFminCG:  284 21:37:28    -2877.496413        1.433798\n",
      "SciPyFminCG:  285 21:37:29    -2877.979649        1.278958\n",
      "SciPyFminCG:  286 21:37:30    -2878.219013        0.947757\n",
      "SciPyFminCG:  287 21:37:32    -2878.483612        0.700105\n",
      "SciPyFminCG:  288 21:37:33    -2878.748752        0.728102\n",
      "SciPyFminCG:  289 21:37:34    -2879.010106        0.885797\n",
      "SciPyFminCG:  290 21:37:35    -2879.299398        0.847981\n",
      "SciPyFminCG:  291 21:37:36    -2879.595180        0.789082\n",
      "SciPyFminCG:  292 21:37:37    -2879.837068        0.891827\n",
      "SciPyFminCG:  293 21:37:38    -2880.174485        0.880254\n",
      "SciPyFminCG:  294 21:37:39    -2880.631044        1.495899\n",
      "SciPyFminCG:  295 21:37:40    -2881.013523        1.082728\n",
      "SciPyFminCG:  296 21:37:41    -2881.608510        1.183195\n",
      "SciPyFminCG:  297 21:37:42    -2882.233418        1.622183\n",
      "SciPyFminCG:  298 21:37:43    -2883.072095        1.229646\n",
      "SciPyFminCG:  299 21:37:44    -2883.806411        1.179580\n",
      "SciPyFminCG:  300 21:37:45    -2884.682579        1.440021\n",
      "SciPyFminCG:  301 21:37:46    -2885.345158        1.340930\n",
      "SciPyFminCG:  302 21:37:47    -2885.973850        1.725212\n",
      "SciPyFminCG:  303 21:37:48    -2886.688339        1.509057\n",
      "SciPyFminCG:  304 21:37:49    -2887.488625        1.082019\n",
      "SciPyFminCG:  305 21:37:50    -2888.376689        0.937833\n",
      "SciPyFminCG:  306 21:37:51    -2888.907509        1.423618\n",
      "SciPyFminCG:  307 21:37:52    -2889.342979        1.191895\n",
      "SciPyFminCG:  308 21:37:53    -2889.745285        0.718876\n",
      "SciPyFminCG:  309 21:37:54    -2890.175529        1.312528\n",
      "SciPyFminCG:  310 21:37:55    -2890.563775        1.057629\n",
      "SciPyFminCG:  311 21:37:56    -2890.929852        0.880412\n",
      "SciPyFminCG:  312 21:37:57    -2891.242756        0.967500\n",
      "SciPyFminCG:  313 21:37:58    -2891.660563        1.202881\n",
      "SciPyFminCG:  314 21:38:00    -2892.052414        1.193784\n",
      "SciPyFminCG:  315 21:38:00    -2892.447330        0.919995\n",
      "SciPyFminCG:  316 21:38:02    -2893.128113        0.792393\n",
      "SciPyFminCG:  317 21:38:02    -2893.687411        1.190821\n",
      "SciPyFminCG:  318 21:38:04    -2894.272665        0.850637\n",
      "SciPyFminCG:  319 21:38:05    -2894.753737        0.957861\n",
      "SciPyFminCG:  320 21:38:06    -2895.387837        0.903813\n",
      "SciPyFminCG:  321 21:38:07    -2895.950200        0.999942\n",
      "SciPyFminCG:  322 21:38:08    -2896.415411        0.998375\n",
      "SciPyFminCG:  323 21:38:09    -2896.915770        0.989547\n",
      "SciPyFminCG:  324 21:38:10    -2897.433792        1.227780\n",
      "SciPyFminCG:  325 21:38:11    -2897.931447        0.566319\n",
      "SciPyFminCG:  326 21:38:12    -2898.321496        0.885389\n",
      "SciPyFminCG:  327 21:38:13    -2898.840961        0.828604\n",
      "SciPyFminCG:  328 21:38:14    -2899.271745        0.884585\n",
      "SciPyFminCG:  329 21:38:15    -2899.742543        0.959537\n",
      "SciPyFminCG:  330 21:38:16    -2900.244704        1.238024\n",
      "SciPyFminCG:  331 21:38:17    -2900.751552        1.175259\n",
      "SciPyFminCG:  332 21:38:18    -2901.441347        1.125865\n",
      "SciPyFminCG:  333 21:38:19    -2902.052917        1.251688\n",
      "SciPyFminCG:  334 21:38:20    -2902.555979        0.905031\n",
      "SciPyFminCG:  335 21:38:21    -2902.873750        0.809129\n",
      "SciPyFminCG:  336 21:38:22    -2903.331751        1.401887\n",
      "SciPyFminCG:  337 21:38:23    -2903.818771        0.726101\n",
      "SciPyFminCG:  338 21:38:24    -2904.288849        0.941169\n",
      "SciPyFminCG:  339 21:38:25    -2904.813000        1.149774\n",
      "SciPyFminCG:  340 21:38:26    -2905.367612        1.832343\n",
      "SciPyFminCG:  341 21:38:26    -2905.969088        0.803653\n",
      "SciPyFminCG:  342 21:38:28    -2906.630945        0.766126\n",
      "SciPyFminCG:  343 21:38:28    -2907.093272        1.252046\n",
      "SciPyFminCG:  344 21:38:30    -2907.718901        1.425517\n",
      "SciPyFminCG:  345 21:38:30    -2908.064249        0.874172\n",
      "SciPyFminCG:  346 21:38:31    -2908.422935        1.009795\n",
      "SciPyFminCG:  347 21:38:32    -2908.845789        0.791890\n",
      "SciPyFminCG:  348 21:38:33    -2909.346508        0.955236\n",
      "SciPyFminCG:  349 21:38:34    -2909.932122        0.819997\n",
      "SciPyFminCG:  350 21:38:35    -2910.508544        0.766037\n",
      "SciPyFminCG:  351 21:38:36    -2911.048917        0.727881\n",
      "SciPyFminCG:  352 21:38:37    -2911.677249        0.779942\n",
      "SciPyFminCG:  353 21:38:39    -2912.257456        1.516467\n",
      "SciPyFminCG:  354 21:38:40    -2912.757814        0.819317\n",
      "SciPyFminCG:  355 21:38:41    -2913.339643        0.951150\n",
      "SciPyFminCG:  356 21:38:42    -2913.980232        0.892026\n",
      "SciPyFminCG:  357 21:38:43    -2914.650381        0.702674\n",
      "SciPyFminCG:  358 21:38:44    -2915.130552        1.223298\n",
      "SciPyFminCG:  359 21:38:45    -2915.727522        0.716165\n",
      "SciPyFminCG:  360 21:38:46    -2916.375320        1.301049\n",
      "SciPyFminCG:  361 21:38:47    -2916.783033        0.755430\n",
      "SciPyFminCG:  362 21:38:49    -2917.775279        1.280764\n",
      "SciPyFminCG:  363 21:38:50    -2918.273294        0.655728\n",
      "SciPyFminCG:  364 21:38:51    -2919.086918        1.483412\n",
      "SciPyFminCG:  365 21:38:52    -2919.392252        0.822626\n",
      "SciPyFminCG:  366 21:38:54    -2919.944701        1.193501\n",
      "SciPyFminCG:  367 21:38:54    -2920.271845        0.734281\n",
      "SciPyFminCG:  368 21:38:56    -2920.991020        0.804065\n",
      "SciPyFminCG:  369 21:38:57    -2921.730743        1.760498\n",
      "SciPyFminCG:  370 21:38:58    -2922.197577        0.844462\n",
      "SciPyFminCG:  371 21:39:00    -2923.245878        0.902168\n",
      "SciPyFminCG:  372 21:39:01    -2923.701897        0.898210\n",
      "SciPyFminCG:  373 21:39:02    -2924.239386        0.639665\n",
      "SciPyFminCG:  374 21:39:04    -2924.704416        2.125999\n",
      "SciPyFminCG:  375 21:39:04    -2924.917105        1.345131\n",
      "SciPyFminCG:  376 21:39:06    -2925.296159        1.038055\n",
      "SciPyFminCG:  377 21:39:06    -2925.584009        0.983682\n",
      "SciPyFminCG:  378 21:39:07    -2925.806791        0.374417\n",
      "SciPyFminCG:  379 21:39:09    -2926.035341        1.335944\n",
      "SciPyFminCG:  380 21:39:10    -2926.401778        1.181007\n",
      "SciPyFminCG:  381 21:39:11    -2926.825172        0.661591\n",
      "SciPyFminCG:  382 21:39:12    -2927.321205        0.807940\n",
      "SciPyFminCG:  383 21:39:13    -2927.647087        1.028998\n",
      "SciPyFminCG:  384 21:39:14    -2928.006495        0.718976\n",
      "SciPyFminCG:  385 21:39:14    -2928.267669        0.579912\n",
      "SciPyFminCG:  386 21:39:16    -2928.604185        1.758243\n",
      "SciPyFminCG:  387 21:39:17    -2929.047226        0.974859\n",
      "SciPyFminCG:  388 21:39:18    -2929.510274        2.232052\n",
      "SciPyFminCG:  389 21:39:19    -2930.137525        1.153672\n",
      "SciPyFminCG:  390 21:39:20    -2930.716290        1.268139\n",
      "SciPyFminCG:  391 21:39:21    -2931.140224        0.968199\n",
      "SciPyFminCG:  392 21:39:22    -2931.619314        0.611603\n",
      "SciPyFminCG:  393 21:39:22    -2931.927532        0.839575\n",
      "SciPyFminCG:  394 21:39:24    -2932.207993        0.819238\n",
      "SciPyFminCG:  395 21:39:24    -2932.562714        0.404841\n",
      "SciPyFminCG:  396 21:39:25    -2932.769274        0.610803\n",
      "SciPyFminCG:  397 21:39:27    -2933.186179        1.301116\n",
      "SciPyFminCG:  398 21:39:28    -2933.750705        0.708113\n",
      "SciPyFminCG:  399 21:39:29    -2934.275937        1.025156\n",
      "SciPyFminCG:  400 21:39:30    -2934.861191        0.558897\n"
     ]
    }
   ],
   "source": [
    "import os\n",
    "from chgnet.model import StructOptimizer\n",
    "from pymatgen.core import Structure\n",
    "from chgnet.model.dynamics import CHGNetCalculator\n",
    "\n",
    "structure_path = f\"/home/mehuldarak/summer/relax_final/{structure_name}/relaxed_{structure_name}.cif\"\n",
    "structure = Structure.from_file(structure_path)\n",
    "\n",
    "# Output path\n",
    "output_dir = f\"/home/mehuldarak/summer/relax_final\"\n",
    "os.makedirs(output_dir, exist_ok=True)\n",
    "output_path = os.path.join(output_dir, f\"cellrelaxed_{structure_name}.cif\")\n",
    "\n",
    "# Run CHGNet relaxation\n",
    "opt1 = StructOptimizer(model=calc, optimizer_class=\"SciPyFminCG\", use_device=\"cuda\")\n",
    "result = opt1.relax(\n",
    "    structure,\n",
    "    fmax=0.15,           # You can adjust depending on accuracy/speed tradeoff\n",
    "    steps=400,\n",
    "    relax_cell=True,\n",
    "    verbose=True\n",
    ")"
   ]
  },
  {
   "cell_type": "code",
   "execution_count": 11,
   "id": "41fd0c4a",
   "metadata": {},
   "outputs": [
    {
     "name": "stderr",
     "output_type": "stream",
     "text": [
      "/tmp/ipykernel_177739/1077038773.py:3: FutureWarning: Please use atoms.calc = calc\n",
      "  structure_1.set_calculator(calc)\n"
     ]
    },
    {
     "name": "stdout",
     "output_type": "stream",
     "text": [
      "      Step     Time          Energy          fmax\n",
      "FIRE:    0 21:39:30    -2934.861011        0.332708\n",
      "FIRE:    1 21:39:30    -2934.873447        0.332709\n"
     ]
    },
    {
     "name": "stderr",
     "output_type": "stream",
     "text": [
      "/home/mehuldarak/anaconda3/envs/mace/lib/python3.13/site-packages/ase/filters.py:606: RuntimeWarning: logm result may be inaccurate, approximate err = 2.371768235590734e-13\n",
      "  pos[natoms:] = self.logm(pos[natoms:]) * self.exp_cell_factor\n"
     ]
    },
    {
     "name": "stdout",
     "output_type": "stream",
     "text": [
      "FIRE:    2 21:39:31    -2934.895077        0.332721\n"
     ]
    },
    {
     "name": "stderr",
     "output_type": "stream",
     "text": [
      "/home/mehuldarak/anaconda3/envs/mace/lib/python3.13/site-packages/ase/filters.py:606: RuntimeWarning: logm result may be inaccurate, approximate err = 2.3659783462516224e-13\n",
      "  pos[natoms:] = self.logm(pos[natoms:]) * self.exp_cell_factor\n"
     ]
    },
    {
     "name": "stdout",
     "output_type": "stream",
     "text": [
      "FIRE:    3 21:39:32    -2934.922654        0.332736\n"
     ]
    },
    {
     "name": "stderr",
     "output_type": "stream",
     "text": [
      "/home/mehuldarak/anaconda3/envs/mace/lib/python3.13/site-packages/ase/filters.py:606: RuntimeWarning: logm result may be inaccurate, approximate err = 2.409076677811369e-13\n",
      "  pos[natoms:] = self.logm(pos[natoms:]) * self.exp_cell_factor\n"
     ]
    },
    {
     "name": "stdout",
     "output_type": "stream",
     "text": [
      "FIRE:    4 21:39:32    -2934.952394        0.332735\n"
     ]
    },
    {
     "name": "stderr",
     "output_type": "stream",
     "text": [
      "/home/mehuldarak/anaconda3/envs/mace/lib/python3.13/site-packages/ase/filters.py:606: RuntimeWarning: logm result may be inaccurate, approximate err = 2.372049689315269e-13\n",
      "  pos[natoms:] = self.logm(pos[natoms:]) * self.exp_cell_factor\n"
     ]
    },
    {
     "name": "stdout",
     "output_type": "stream",
     "text": [
      "FIRE:    5 21:39:32    -2934.981955        0.332695\n"
     ]
    },
    {
     "name": "stderr",
     "output_type": "stream",
     "text": [
      "/home/mehuldarak/anaconda3/envs/mace/lib/python3.13/site-packages/ase/filters.py:606: RuntimeWarning: logm result may be inaccurate, approximate err = 2.4693768373365803e-13\n",
      "  pos[natoms:] = self.logm(pos[natoms:]) * self.exp_cell_factor\n"
     ]
    },
    {
     "name": "stdout",
     "output_type": "stream",
     "text": [
      "FIRE:    6 21:39:33    -2935.010433        0.332599\n"
     ]
    },
    {
     "name": "stderr",
     "output_type": "stream",
     "text": [
      "/home/mehuldarak/anaconda3/envs/mace/lib/python3.13/site-packages/ase/filters.py:606: RuntimeWarning: logm result may be inaccurate, approximate err = 2.400761623811309e-13\n",
      "  pos[natoms:] = self.logm(pos[natoms:]) * self.exp_cell_factor\n"
     ]
    },
    {
     "name": "stdout",
     "output_type": "stream",
     "text": [
      "FIRE:    7 21:39:33    -2935.039453        0.332439\n"
     ]
    },
    {
     "name": "stderr",
     "output_type": "stream",
     "text": [
      "/home/mehuldarak/anaconda3/envs/mace/lib/python3.13/site-packages/ase/filters.py:606: RuntimeWarning: logm result may be inaccurate, approximate err = 2.3438886713342057e-13\n",
      "  pos[natoms:] = self.logm(pos[natoms:]) * self.exp_cell_factor\n"
     ]
    },
    {
     "name": "stdout",
     "output_type": "stream",
     "text": [
      "FIRE:    8 21:39:34    -2935.071716        0.332197\n"
     ]
    },
    {
     "name": "stderr",
     "output_type": "stream",
     "text": [
      "/home/mehuldarak/anaconda3/envs/mace/lib/python3.13/site-packages/ase/filters.py:606: RuntimeWarning: logm result may be inaccurate, approximate err = 2.344001013015647e-13\n",
      "  pos[natoms:] = self.logm(pos[natoms:]) * self.exp_cell_factor\n"
     ]
    },
    {
     "name": "stdout",
     "output_type": "stream",
     "text": [
      "FIRE:    9 21:39:34    -2935.107585        0.331920\n"
     ]
    },
    {
     "name": "stderr",
     "output_type": "stream",
     "text": [
      "/home/mehuldarak/anaconda3/envs/mace/lib/python3.13/site-packages/ase/filters.py:606: RuntimeWarning: logm result may be inaccurate, approximate err = 2.354732667399405e-13\n",
      "  pos[natoms:] = self.logm(pos[natoms:]) * self.exp_cell_factor\n"
     ]
    },
    {
     "name": "stdout",
     "output_type": "stream",
     "text": [
      "FIRE:   10 21:39:35    -2935.146878        0.331552\n"
     ]
    },
    {
     "name": "stderr",
     "output_type": "stream",
     "text": [
      "/home/mehuldarak/anaconda3/envs/mace/lib/python3.13/site-packages/ase/filters.py:606: RuntimeWarning: logm result may be inaccurate, approximate err = 2.3790694642436887e-13\n",
      "  pos[natoms:] = self.logm(pos[natoms:]) * self.exp_cell_factor\n"
     ]
    },
    {
     "name": "stdout",
     "output_type": "stream",
     "text": [
      "FIRE:   11 21:39:35    -2935.188695        0.331133\n"
     ]
    },
    {
     "name": "stderr",
     "output_type": "stream",
     "text": [
      "/home/mehuldarak/anaconda3/envs/mace/lib/python3.13/site-packages/ase/filters.py:606: RuntimeWarning: logm result may be inaccurate, approximate err = 2.3877561206575755e-13\n",
      "  pos[natoms:] = self.logm(pos[natoms:]) * self.exp_cell_factor\n"
     ]
    },
    {
     "name": "stdout",
     "output_type": "stream",
     "text": [
      "FIRE:   12 21:39:36    -2935.235378        0.330508\n"
     ]
    },
    {
     "name": "stderr",
     "output_type": "stream",
     "text": [
      "/home/mehuldarak/anaconda3/envs/mace/lib/python3.13/site-packages/ase/filters.py:606: RuntimeWarning: logm result may be inaccurate, approximate err = 2.384135639208229e-13\n",
      "  pos[natoms:] = self.logm(pos[natoms:]) * self.exp_cell_factor\n"
     ]
    },
    {
     "name": "stdout",
     "output_type": "stream",
     "text": [
      "FIRE:   13 21:39:36    -2935.290353        0.329562\n"
     ]
    },
    {
     "name": "stderr",
     "output_type": "stream",
     "text": [
      "/home/mehuldarak/anaconda3/envs/mace/lib/python3.13/site-packages/ase/filters.py:606: RuntimeWarning: logm result may be inaccurate, approximate err = 2.3629844378681415e-13\n",
      "  pos[natoms:] = self.logm(pos[natoms:]) * self.exp_cell_factor\n"
     ]
    },
    {
     "name": "stdout",
     "output_type": "stream",
     "text": [
      "FIRE:   14 21:39:37    -2935.354520        0.328316\n"
     ]
    },
    {
     "name": "stderr",
     "output_type": "stream",
     "text": [
      "/home/mehuldarak/anaconda3/envs/mace/lib/python3.13/site-packages/ase/filters.py:606: RuntimeWarning: logm result may be inaccurate, approximate err = 2.430461520860561e-13\n",
      "  pos[natoms:] = self.logm(pos[natoms:]) * self.exp_cell_factor\n"
     ]
    },
    {
     "name": "stdout",
     "output_type": "stream",
     "text": [
      "FIRE:   15 21:39:37    -2935.428961        0.326825\n"
     ]
    },
    {
     "name": "stderr",
     "output_type": "stream",
     "text": [
      "/home/mehuldarak/anaconda3/envs/mace/lib/python3.13/site-packages/ase/filters.py:606: RuntimeWarning: logm result may be inaccurate, approximate err = 2.3983974754256603e-13\n",
      "  pos[natoms:] = self.logm(pos[natoms:]) * self.exp_cell_factor\n"
     ]
    },
    {
     "name": "stdout",
     "output_type": "stream",
     "text": [
      "FIRE:   16 21:39:38    -2935.507367        0.325436\n"
     ]
    },
    {
     "name": "stderr",
     "output_type": "stream",
     "text": [
      "/home/mehuldarak/anaconda3/envs/mace/lib/python3.13/site-packages/ase/filters.py:606: RuntimeWarning: logm result may be inaccurate, approximate err = 2.397199128502671e-13\n",
      "  pos[natoms:] = self.logm(pos[natoms:]) * self.exp_cell_factor\n"
     ]
    },
    {
     "name": "stdout",
     "output_type": "stream",
     "text": [
      "FIRE:   17 21:39:38    -2935.588117        0.324021\n"
     ]
    },
    {
     "name": "stderr",
     "output_type": "stream",
     "text": [
      "/home/mehuldarak/anaconda3/envs/mace/lib/python3.13/site-packages/ase/filters.py:606: RuntimeWarning: logm result may be inaccurate, approximate err = 2.348570176341597e-13\n",
      "  pos[natoms:] = self.logm(pos[natoms:]) * self.exp_cell_factor\n"
     ]
    },
    {
     "name": "stdout",
     "output_type": "stream",
     "text": [
      "FIRE:   18 21:39:39    -2935.667785        0.322492\n"
     ]
    },
    {
     "name": "stderr",
     "output_type": "stream",
     "text": [
      "/home/mehuldarak/anaconda3/envs/mace/lib/python3.13/site-packages/ase/filters.py:606: RuntimeWarning: logm result may be inaccurate, approximate err = 2.3669800939850165e-13\n",
      "  pos[natoms:] = self.logm(pos[natoms:]) * self.exp_cell_factor\n"
     ]
    },
    {
     "name": "stdout",
     "output_type": "stream",
     "text": [
      "FIRE:   19 21:39:39    -2935.746552        0.320785\n"
     ]
    },
    {
     "name": "stderr",
     "output_type": "stream",
     "text": [
      "/home/mehuldarak/anaconda3/envs/mace/lib/python3.13/site-packages/ase/filters.py:606: RuntimeWarning: logm result may be inaccurate, approximate err = 2.384956177752702e-13\n",
      "  pos[natoms:] = self.logm(pos[natoms:]) * self.exp_cell_factor\n"
     ]
    },
    {
     "name": "stdout",
     "output_type": "stream",
     "text": [
      "FIRE:   20 21:39:40    -2935.822975        0.318990\n"
     ]
    },
    {
     "name": "stderr",
     "output_type": "stream",
     "text": [
      "/home/mehuldarak/anaconda3/envs/mace/lib/python3.13/site-packages/ase/filters.py:606: RuntimeWarning: logm result may be inaccurate, approximate err = 2.3098789144016257e-13\n",
      "  pos[natoms:] = self.logm(pos[natoms:]) * self.exp_cell_factor\n"
     ]
    },
    {
     "name": "stdout",
     "output_type": "stream",
     "text": [
      "FIRE:   21 21:39:40    -2935.896515        0.317169\n"
     ]
    },
    {
     "name": "stderr",
     "output_type": "stream",
     "text": [
      "/home/mehuldarak/anaconda3/envs/mace/lib/python3.13/site-packages/ase/filters.py:606: RuntimeWarning: logm result may be inaccurate, approximate err = 2.337464398947334e-13\n",
      "  pos[natoms:] = self.logm(pos[natoms:]) * self.exp_cell_factor\n"
     ]
    },
    {
     "name": "stdout",
     "output_type": "stream",
     "text": [
      "FIRE:   22 21:39:40    -2935.970055        0.315395\n"
     ]
    },
    {
     "name": "stderr",
     "output_type": "stream",
     "text": [
      "/home/mehuldarak/anaconda3/envs/mace/lib/python3.13/site-packages/ase/filters.py:606: RuntimeWarning: logm result may be inaccurate, approximate err = 2.35356895158331e-13\n",
      "  pos[natoms:] = self.logm(pos[natoms:]) * self.exp_cell_factor\n"
     ]
    },
    {
     "name": "stdout",
     "output_type": "stream",
     "text": [
      "FIRE:   23 21:39:41    -2936.043234        0.313708\n"
     ]
    },
    {
     "name": "stderr",
     "output_type": "stream",
     "text": [
      "/home/mehuldarak/anaconda3/envs/mace/lib/python3.13/site-packages/ase/filters.py:606: RuntimeWarning: logm result may be inaccurate, approximate err = 2.257397329237752e-13\n",
      "  pos[natoms:] = self.logm(pos[natoms:]) * self.exp_cell_factor\n"
     ]
    },
    {
     "name": "stdout",
     "output_type": "stream",
     "text": [
      "FIRE:   24 21:39:41    -2936.117134        0.312233\n"
     ]
    },
    {
     "name": "stderr",
     "output_type": "stream",
     "text": [
      "/home/mehuldarak/anaconda3/envs/mace/lib/python3.13/site-packages/ase/filters.py:606: RuntimeWarning: logm result may be inaccurate, approximate err = 2.393726281565799e-13\n",
      "  pos[natoms:] = self.logm(pos[natoms:]) * self.exp_cell_factor\n"
     ]
    },
    {
     "name": "stdout",
     "output_type": "stream",
     "text": [
      "FIRE:   25 21:39:42    -2936.190494        0.310775\n"
     ]
    },
    {
     "name": "stderr",
     "output_type": "stream",
     "text": [
      "/home/mehuldarak/anaconda3/envs/mace/lib/python3.13/site-packages/ase/filters.py:606: RuntimeWarning: logm result may be inaccurate, approximate err = 2.4371159335564163e-13\n",
      "  pos[natoms:] = self.logm(pos[natoms:]) * self.exp_cell_factor\n"
     ]
    },
    {
     "name": "stdout",
     "output_type": "stream",
     "text": [
      "FIRE:   26 21:39:42    -2936.263853        0.309166\n"
     ]
    },
    {
     "name": "stderr",
     "output_type": "stream",
     "text": [
      "/home/mehuldarak/anaconda3/envs/mace/lib/python3.13/site-packages/ase/filters.py:606: RuntimeWarning: logm result may be inaccurate, approximate err = 2.482644923672721e-13\n",
      "  pos[natoms:] = self.logm(pos[natoms:]) * self.exp_cell_factor\n"
     ]
    },
    {
     "name": "stdout",
     "output_type": "stream",
     "text": [
      "FIRE:   27 21:39:43    -2936.336131        0.307456\n"
     ]
    },
    {
     "name": "stderr",
     "output_type": "stream",
     "text": [
      "/home/mehuldarak/anaconda3/envs/mace/lib/python3.13/site-packages/ase/filters.py:606: RuntimeWarning: logm result may be inaccurate, approximate err = 2.481273902504399e-13\n",
      "  pos[natoms:] = self.logm(pos[natoms:]) * self.exp_cell_factor\n"
     ]
    },
    {
     "name": "stdout",
     "output_type": "stream",
     "text": [
      "FIRE:   28 21:39:43    -2936.408409        0.305771\n"
     ]
    },
    {
     "name": "stderr",
     "output_type": "stream",
     "text": [
      "/home/mehuldarak/anaconda3/envs/mace/lib/python3.13/site-packages/ase/filters.py:606: RuntimeWarning: logm result may be inaccurate, approximate err = 2.354979900845864e-13\n",
      "  pos[natoms:] = self.logm(pos[natoms:]) * self.exp_cell_factor\n"
     ]
    },
    {
     "name": "stdout",
     "output_type": "stream",
     "text": [
      "FIRE:   29 21:39:44    -2936.479245        0.304164\n"
     ]
    },
    {
     "name": "stderr",
     "output_type": "stream",
     "text": [
      "/home/mehuldarak/anaconda3/envs/mace/lib/python3.13/site-packages/ase/filters.py:606: RuntimeWarning: logm result may be inaccurate, approximate err = 2.3664147310505915e-13\n",
      "  pos[natoms:] = self.logm(pos[natoms:]) * self.exp_cell_factor\n"
     ]
    },
    {
     "name": "stdout",
     "output_type": "stream",
     "text": [
      "FIRE:   30 21:39:44    -2936.549360        0.302530\n"
     ]
    },
    {
     "name": "stderr",
     "output_type": "stream",
     "text": [
      "/home/mehuldarak/anaconda3/envs/mace/lib/python3.13/site-packages/ase/filters.py:606: RuntimeWarning: logm result may be inaccurate, approximate err = 2.516222790269123e-13\n",
      "  pos[natoms:] = self.logm(pos[natoms:]) * self.exp_cell_factor\n"
     ]
    },
    {
     "name": "stdout",
     "output_type": "stream",
     "text": [
      "FIRE:   31 21:39:45    -2936.619475        0.300736\n"
     ]
    },
    {
     "name": "stderr",
     "output_type": "stream",
     "text": [
      "/home/mehuldarak/anaconda3/envs/mace/lib/python3.13/site-packages/ase/filters.py:606: RuntimeWarning: logm result may be inaccurate, approximate err = 2.3604422598313237e-13\n",
      "  pos[natoms:] = self.logm(pos[natoms:]) * self.exp_cell_factor\n"
     ]
    },
    {
     "name": "stdout",
     "output_type": "stream",
     "text": [
      "FIRE:   32 21:39:45    -2936.689230        0.298876\n"
     ]
    },
    {
     "name": "stderr",
     "output_type": "stream",
     "text": [
      "/home/mehuldarak/anaconda3/envs/mace/lib/python3.13/site-packages/ase/filters.py:606: RuntimeWarning: logm result may be inaccurate, approximate err = 2.4110173460940533e-13\n",
      "  pos[natoms:] = self.logm(pos[natoms:]) * self.exp_cell_factor\n"
     ]
    },
    {
     "name": "stdout",
     "output_type": "stream",
     "text": [
      "FIRE:   33 21:39:46    -2936.758624        0.297068\n"
     ]
    },
    {
     "name": "stderr",
     "output_type": "stream",
     "text": [
      "/home/mehuldarak/anaconda3/envs/mace/lib/python3.13/site-packages/ase/filters.py:606: RuntimeWarning: logm result may be inaccurate, approximate err = 2.409186995054437e-13\n",
      "  pos[natoms:] = self.logm(pos[natoms:]) * self.exp_cell_factor\n"
     ]
    },
    {
     "name": "stdout",
     "output_type": "stream",
     "text": [
      "FIRE:   34 21:39:46    -2936.827477        0.295299\n"
     ]
    },
    {
     "name": "stderr",
     "output_type": "stream",
     "text": [
      "/home/mehuldarak/anaconda3/envs/mace/lib/python3.13/site-packages/ase/filters.py:606: RuntimeWarning: logm result may be inaccurate, approximate err = 2.3723416379396157e-13\n",
      "  pos[natoms:] = self.logm(pos[natoms:]) * self.exp_cell_factor\n"
     ]
    },
    {
     "name": "stdout",
     "output_type": "stream",
     "text": [
      "FIRE:   35 21:39:47    -2936.895610        0.293527\n"
     ]
    },
    {
     "name": "stderr",
     "output_type": "stream",
     "text": [
      "/home/mehuldarak/anaconda3/envs/mace/lib/python3.13/site-packages/ase/filters.py:606: RuntimeWarning: logm result may be inaccurate, approximate err = 2.335940184847503e-13\n",
      "  pos[natoms:] = self.logm(pos[natoms:]) * self.exp_cell_factor\n"
     ]
    },
    {
     "name": "stdout",
     "output_type": "stream",
     "text": [
      "FIRE:   36 21:39:47    -2936.963021        0.291753\n"
     ]
    },
    {
     "name": "stderr",
     "output_type": "stream",
     "text": [
      "/home/mehuldarak/anaconda3/envs/mace/lib/python3.13/site-packages/ase/filters.py:606: RuntimeWarning: logm result may be inaccurate, approximate err = 2.385343185032191e-13\n",
      "  pos[natoms:] = self.logm(pos[natoms:]) * self.exp_cell_factor\n"
     ]
    },
    {
     "name": "stdout",
     "output_type": "stream",
     "text": [
      "FIRE:   37 21:39:47    -2937.030252        0.289970\n"
     ]
    },
    {
     "name": "stderr",
     "output_type": "stream",
     "text": [
      "/home/mehuldarak/anaconda3/envs/mace/lib/python3.13/site-packages/ase/filters.py:606: RuntimeWarning: logm result may be inaccurate, approximate err = 2.4333155150829854e-13\n",
      "  pos[natoms:] = self.logm(pos[natoms:]) * self.exp_cell_factor\n"
     ]
    },
    {
     "name": "stdout",
     "output_type": "stream",
     "text": [
      "FIRE:   38 21:39:48    -2937.096402        0.288198\n"
     ]
    },
    {
     "name": "stderr",
     "output_type": "stream",
     "text": [
      "/home/mehuldarak/anaconda3/envs/mace/lib/python3.13/site-packages/ase/filters.py:606: RuntimeWarning: logm result may be inaccurate, approximate err = 2.3742467338814667e-13\n",
      "  pos[natoms:] = self.logm(pos[natoms:]) * self.exp_cell_factor\n"
     ]
    },
    {
     "name": "stdout",
     "output_type": "stream",
     "text": [
      "FIRE:   39 21:39:49    -2937.162191        0.286461\n"
     ]
    },
    {
     "name": "stderr",
     "output_type": "stream",
     "text": [
      "/home/mehuldarak/anaconda3/envs/mace/lib/python3.13/site-packages/ase/filters.py:606: RuntimeWarning: logm result may be inaccurate, approximate err = 2.458246838714872e-13\n",
      "  pos[natoms:] = self.logm(pos[natoms:]) * self.exp_cell_factor\n"
     ]
    },
    {
     "name": "stdout",
     "output_type": "stream",
     "text": [
      "FIRE:   40 21:39:49    -2937.227620        0.284757\n"
     ]
    },
    {
     "name": "stderr",
     "output_type": "stream",
     "text": [
      "/home/mehuldarak/anaconda3/envs/mace/lib/python3.13/site-packages/ase/filters.py:606: RuntimeWarning: logm result may be inaccurate, approximate err = 2.3937977829116693e-13\n",
      "  pos[natoms:] = self.logm(pos[natoms:]) * self.exp_cell_factor\n"
     ]
    },
    {
     "name": "stdout",
     "output_type": "stream",
     "text": [
      "FIRE:   41 21:39:49    -2937.292508        0.283061\n"
     ]
    },
    {
     "name": "stderr",
     "output_type": "stream",
     "text": [
      "/home/mehuldarak/anaconda3/envs/mace/lib/python3.13/site-packages/ase/filters.py:606: RuntimeWarning: logm result may be inaccurate, approximate err = 2.4869689685750437e-13\n",
      "  pos[natoms:] = self.logm(pos[natoms:]) * self.exp_cell_factor\n"
     ]
    },
    {
     "name": "stdout",
     "output_type": "stream",
     "text": [
      "FIRE:   42 21:39:50    -2937.356855        0.281356\n"
     ]
    },
    {
     "name": "stderr",
     "output_type": "stream",
     "text": [
      "/home/mehuldarak/anaconda3/envs/mace/lib/python3.13/site-packages/ase/filters.py:606: RuntimeWarning: logm result may be inaccurate, approximate err = 2.5218195068792276e-13\n",
      "  pos[natoms:] = self.logm(pos[natoms:]) * self.exp_cell_factor\n"
     ]
    },
    {
     "name": "stdout",
     "output_type": "stream",
     "text": [
      "FIRE:   43 21:39:50    -2937.420482        0.279614\n"
     ]
    },
    {
     "name": "stderr",
     "output_type": "stream",
     "text": [
      "/home/mehuldarak/anaconda3/envs/mace/lib/python3.13/site-packages/ase/filters.py:606: RuntimeWarning: logm result may be inaccurate, approximate err = 2.403514217839601e-13\n",
      "  pos[natoms:] = self.logm(pos[natoms:]) * self.exp_cell_factor\n"
     ]
    },
    {
     "name": "stdout",
     "output_type": "stream",
     "text": [
      "FIRE:   44 21:39:51    -2937.483928        0.277868\n"
     ]
    },
    {
     "name": "stderr",
     "output_type": "stream",
     "text": [
      "/home/mehuldarak/anaconda3/envs/mace/lib/python3.13/site-packages/ase/filters.py:606: RuntimeWarning: logm result may be inaccurate, approximate err = 2.502335858834441e-13\n",
      "  pos[natoms:] = self.logm(pos[natoms:]) * self.exp_cell_factor\n"
     ]
    },
    {
     "name": "stdout",
     "output_type": "stream",
     "text": [
      "FIRE:   45 21:39:51    -2937.546112        0.276131\n"
     ]
    },
    {
     "name": "stderr",
     "output_type": "stream",
     "text": [
      "/home/mehuldarak/anaconda3/envs/mace/lib/python3.13/site-packages/ase/filters.py:606: RuntimeWarning: logm result may be inaccurate, approximate err = 2.4016392920802616e-13\n",
      "  pos[natoms:] = self.logm(pos[natoms:]) * self.exp_cell_factor\n"
     ]
    },
    {
     "name": "stdout",
     "output_type": "stream",
     "text": [
      "FIRE:   46 21:39:52    -2937.608657        0.274410\n"
     ]
    },
    {
     "name": "stderr",
     "output_type": "stream",
     "text": [
      "/home/mehuldarak/anaconda3/envs/mace/lib/python3.13/site-packages/ase/filters.py:606: RuntimeWarning: logm result may be inaccurate, approximate err = 2.4656466605733625e-13\n",
      "  pos[natoms:] = self.logm(pos[natoms:]) * self.exp_cell_factor\n"
     ]
    },
    {
     "name": "stdout",
     "output_type": "stream",
     "text": [
      "FIRE:   47 21:39:52    -2937.670481        0.272719\n"
     ]
    },
    {
     "name": "stderr",
     "output_type": "stream",
     "text": [
      "/home/mehuldarak/anaconda3/envs/mace/lib/python3.13/site-packages/ase/filters.py:606: RuntimeWarning: logm result may be inaccurate, approximate err = 2.387085120475817e-13\n",
      "  pos[natoms:] = self.logm(pos[natoms:]) * self.exp_cell_factor\n"
     ]
    },
    {
     "name": "stdout",
     "output_type": "stream",
     "text": [
      "FIRE:   48 21:39:53    -2937.731764        0.271050\n"
     ]
    },
    {
     "name": "stderr",
     "output_type": "stream",
     "text": [
      "/home/mehuldarak/anaconda3/envs/mace/lib/python3.13/site-packages/ase/filters.py:606: RuntimeWarning: logm result may be inaccurate, approximate err = 2.443000119588897e-13\n",
      "  pos[natoms:] = self.logm(pos[natoms:]) * self.exp_cell_factor\n"
     ]
    },
    {
     "name": "stdout",
     "output_type": "stream",
     "text": [
      "FIRE:   49 21:39:53    -2937.791965        0.269365\n"
     ]
    },
    {
     "name": "stderr",
     "output_type": "stream",
     "text": [
      "/home/mehuldarak/anaconda3/envs/mace/lib/python3.13/site-packages/ase/filters.py:606: RuntimeWarning: logm result may be inaccurate, approximate err = 2.455874730073946e-13\n",
      "  pos[natoms:] = self.logm(pos[natoms:]) * self.exp_cell_factor\n"
     ]
    },
    {
     "name": "stdout",
     "output_type": "stream",
     "text": [
      "FIRE:   50 21:39:54    -2937.852167        0.267647\n"
     ]
    },
    {
     "name": "stderr",
     "output_type": "stream",
     "text": [
      "/home/mehuldarak/anaconda3/envs/mace/lib/python3.13/site-packages/ase/filters.py:606: RuntimeWarning: logm result may be inaccurate, approximate err = 2.38228656766222e-13\n",
      "  pos[natoms:] = self.logm(pos[natoms:]) * self.exp_cell_factor\n"
     ]
    },
    {
     "name": "stdout",
     "output_type": "stream",
     "text": [
      "FIRE:   51 21:39:54    -2937.912189        0.265898\n"
     ]
    },
    {
     "name": "stderr",
     "output_type": "stream",
     "text": [
      "/home/mehuldarak/anaconda3/envs/mace/lib/python3.13/site-packages/ase/filters.py:606: RuntimeWarning: logm result may be inaccurate, approximate err = 2.434856273935018e-13\n",
      "  pos[natoms:] = self.logm(pos[natoms:]) * self.exp_cell_factor\n"
     ]
    },
    {
     "name": "stdout",
     "output_type": "stream",
     "text": [
      "FIRE:   52 21:39:55    -2937.971309        0.264134\n"
     ]
    },
    {
     "name": "stderr",
     "output_type": "stream",
     "text": [
      "/home/mehuldarak/anaconda3/envs/mace/lib/python3.13/site-packages/ase/filters.py:606: RuntimeWarning: logm result may be inaccurate, approximate err = 2.3723441233638526e-13\n",
      "  pos[natoms:] = self.logm(pos[natoms:]) * self.exp_cell_factor\n"
     ]
    },
    {
     "name": "stdout",
     "output_type": "stream",
     "text": [
      "FIRE:   53 21:39:55    -2938.030429        0.262371\n"
     ]
    },
    {
     "name": "stderr",
     "output_type": "stream",
     "text": [
      "/home/mehuldarak/anaconda3/envs/mace/lib/python3.13/site-packages/ase/filters.py:606: RuntimeWarning: logm result may be inaccurate, approximate err = 2.4000203654934723e-13\n",
      "  pos[natoms:] = self.logm(pos[natoms:]) * self.exp_cell_factor\n"
     ]
    },
    {
     "name": "stdout",
     "output_type": "stream",
     "text": [
      "FIRE:   54 21:39:55    -2938.089008        0.260612\n"
     ]
    },
    {
     "name": "stderr",
     "output_type": "stream",
     "text": [
      "/home/mehuldarak/anaconda3/envs/mace/lib/python3.13/site-packages/ase/filters.py:606: RuntimeWarning: logm result may be inaccurate, approximate err = 2.4176618852786835e-13\n",
      "  pos[natoms:] = self.logm(pos[natoms:]) * self.exp_cell_factor\n"
     ]
    },
    {
     "name": "stdout",
     "output_type": "stream",
     "text": [
      "FIRE:   55 21:39:56    -2938.146687        0.258869\n"
     ]
    },
    {
     "name": "stderr",
     "output_type": "stream",
     "text": [
      "/home/mehuldarak/anaconda3/envs/mace/lib/python3.13/site-packages/ase/filters.py:606: RuntimeWarning: logm result may be inaccurate, approximate err = 2.407691038123209e-13\n",
      "  pos[natoms:] = self.logm(pos[natoms:]) * self.exp_cell_factor\n"
     ]
    },
    {
     "name": "stdout",
     "output_type": "stream",
     "text": [
      "FIRE:   56 21:39:57    -2938.204004        0.257118\n"
     ]
    },
    {
     "name": "stderr",
     "output_type": "stream",
     "text": [
      "/home/mehuldarak/anaconda3/envs/mace/lib/python3.13/site-packages/ase/filters.py:606: RuntimeWarning: logm result may be inaccurate, approximate err = 2.423323677516344e-13\n",
      "  pos[natoms:] = self.logm(pos[natoms:]) * self.exp_cell_factor\n"
     ]
    },
    {
     "name": "stdout",
     "output_type": "stream",
     "text": [
      "FIRE:   57 21:39:57    -2938.261683        0.255352\n"
     ]
    },
    {
     "name": "stderr",
     "output_type": "stream",
     "text": [
      "/home/mehuldarak/anaconda3/envs/mace/lib/python3.13/site-packages/ase/filters.py:606: RuntimeWarning: logm result may be inaccurate, approximate err = 2.4342976345766277e-13\n",
      "  pos[natoms:] = self.logm(pos[natoms:]) * self.exp_cell_factor\n"
     ]
    },
    {
     "name": "stdout",
     "output_type": "stream",
     "text": [
      "FIRE:   58 21:39:57    -2938.319000        0.253555\n"
     ]
    },
    {
     "name": "stderr",
     "output_type": "stream",
     "text": [
      "/home/mehuldarak/anaconda3/envs/mace/lib/python3.13/site-packages/ase/filters.py:606: RuntimeWarning: logm result may be inaccurate, approximate err = 2.435277840915181e-13\n",
      "  pos[natoms:] = self.logm(pos[natoms:]) * self.exp_cell_factor\n"
     ]
    },
    {
     "name": "stdout",
     "output_type": "stream",
     "text": [
      "FIRE:   59 21:39:58    -2938.375597        0.251744\n"
     ]
    },
    {
     "name": "stderr",
     "output_type": "stream",
     "text": [
      "/home/mehuldarak/anaconda3/envs/mace/lib/python3.13/site-packages/ase/filters.py:606: RuntimeWarning: logm result may be inaccurate, approximate err = 2.4211104138697633e-13\n",
      "  pos[natoms:] = self.logm(pos[natoms:]) * self.exp_cell_factor\n"
     ]
    },
    {
     "name": "stdout",
     "output_type": "stream",
     "text": [
      "FIRE:   60 21:39:58    -2938.432014        0.249933\n"
     ]
    },
    {
     "name": "stderr",
     "output_type": "stream",
     "text": [
      "/home/mehuldarak/anaconda3/envs/mace/lib/python3.13/site-packages/ase/filters.py:606: RuntimeWarning: logm result may be inaccurate, approximate err = 2.362986165093319e-13\n",
      "  pos[natoms:] = self.logm(pos[natoms:]) * self.exp_cell_factor\n"
     ]
    },
    {
     "name": "stdout",
     "output_type": "stream",
     "text": [
      "FIRE:   61 21:39:59    -2938.488070        0.248149\n"
     ]
    },
    {
     "name": "stderr",
     "output_type": "stream",
     "text": [
      "/home/mehuldarak/anaconda3/envs/mace/lib/python3.13/site-packages/ase/filters.py:606: RuntimeWarning: logm result may be inaccurate, approximate err = 2.418657914318611e-13\n",
      "  pos[natoms:] = self.logm(pos[natoms:]) * self.exp_cell_factor\n"
     ]
    },
    {
     "name": "stdout",
     "output_type": "stream",
     "text": [
      "FIRE:   62 21:39:59    -2938.543044        0.246342\n"
     ]
    },
    {
     "name": "stderr",
     "output_type": "stream",
     "text": [
      "/home/mehuldarak/anaconda3/envs/mace/lib/python3.13/site-packages/ase/filters.py:606: RuntimeWarning: logm result may be inaccurate, approximate err = 2.4561503526979317e-13\n",
      "  pos[natoms:] = self.logm(pos[natoms:]) * self.exp_cell_factor\n"
     ]
    },
    {
     "name": "stdout",
     "output_type": "stream",
     "text": [
      "FIRE:   63 21:40:00    -2938.598019        0.244513\n"
     ]
    },
    {
     "name": "stderr",
     "output_type": "stream",
     "text": [
      "/home/mehuldarak/anaconda3/envs/mace/lib/python3.13/site-packages/ase/filters.py:606: RuntimeWarning: logm result may be inaccurate, approximate err = 2.42330070543125e-13\n",
      "  pos[natoms:] = self.logm(pos[natoms:]) * self.exp_cell_factor\n"
     ]
    },
    {
     "name": "stdout",
     "output_type": "stream",
     "text": [
      "FIRE:   64 21:40:00    -2938.652092        0.242682\n"
     ]
    },
    {
     "name": "stderr",
     "output_type": "stream",
     "text": [
      "/home/mehuldarak/anaconda3/envs/mace/lib/python3.13/site-packages/ase/filters.py:606: RuntimeWarning: logm result may be inaccurate, approximate err = 2.3888788855069053e-13\n",
      "  pos[natoms:] = self.logm(pos[natoms:]) * self.exp_cell_factor\n"
     ]
    },
    {
     "name": "stdout",
     "output_type": "stream",
     "text": [
      "FIRE:   65 21:40:01    -2938.705985        0.240874\n"
     ]
    },
    {
     "name": "stderr",
     "output_type": "stream",
     "text": [
      "/home/mehuldarak/anaconda3/envs/mace/lib/python3.13/site-packages/ase/filters.py:606: RuntimeWarning: logm result may be inaccurate, approximate err = 2.44202204915239e-13\n",
      "  pos[natoms:] = self.logm(pos[natoms:]) * self.exp_cell_factor\n"
     ]
    },
    {
     "name": "stdout",
     "output_type": "stream",
     "text": [
      "FIRE:   66 21:40:01    -2938.759157        0.239076\n"
     ]
    },
    {
     "name": "stderr",
     "output_type": "stream",
     "text": [
      "/home/mehuldarak/anaconda3/envs/mace/lib/python3.13/site-packages/ase/filters.py:606: RuntimeWarning: logm result may be inaccurate, approximate err = 2.5380636063639164e-13\n",
      "  pos[natoms:] = self.logm(pos[natoms:]) * self.exp_cell_factor\n"
     ]
    },
    {
     "name": "stdout",
     "output_type": "stream",
     "text": [
      "FIRE:   67 21:40:02    -2938.812149        0.237285\n"
     ]
    },
    {
     "name": "stderr",
     "output_type": "stream",
     "text": [
      "/home/mehuldarak/anaconda3/envs/mace/lib/python3.13/site-packages/ase/filters.py:606: RuntimeWarning: logm result may be inaccurate, approximate err = 2.4022905024357287e-13\n",
      "  pos[natoms:] = self.logm(pos[natoms:]) * self.exp_cell_factor\n"
     ]
    },
    {
     "name": "stdout",
     "output_type": "stream",
     "text": [
      "FIRE:   68 21:40:02    -2938.863699        0.235499\n"
     ]
    },
    {
     "name": "stderr",
     "output_type": "stream",
     "text": [
      "/home/mehuldarak/anaconda3/envs/mace/lib/python3.13/site-packages/ase/filters.py:606: RuntimeWarning: logm result may be inaccurate, approximate err = 2.4016650085260034e-13\n",
      "  pos[natoms:] = self.logm(pos[natoms:]) * self.exp_cell_factor\n"
     ]
    },
    {
     "name": "stdout",
     "output_type": "stream",
     "text": [
      "FIRE:   69 21:40:03    -2938.915429        0.233710\n"
     ]
    },
    {
     "name": "stderr",
     "output_type": "stream",
     "text": [
      "/home/mehuldarak/anaconda3/envs/mace/lib/python3.13/site-packages/ase/filters.py:606: RuntimeWarning: logm result may be inaccurate, approximate err = 2.373153403674689e-13\n",
      "  pos[natoms:] = self.logm(pos[natoms:]) * self.exp_cell_factor\n"
     ]
    },
    {
     "name": "stdout",
     "output_type": "stream",
     "text": [
      "FIRE:   70 21:40:03    -2938.966258        0.231907\n"
     ]
    },
    {
     "name": "stderr",
     "output_type": "stream",
     "text": [
      "/home/mehuldarak/anaconda3/envs/mace/lib/python3.13/site-packages/ase/filters.py:606: RuntimeWarning: logm result may be inaccurate, approximate err = 2.460668241961791e-13\n",
      "  pos[natoms:] = self.logm(pos[natoms:]) * self.exp_cell_factor\n"
     ]
    },
    {
     "name": "stdout",
     "output_type": "stream",
     "text": [
      "FIRE:   71 21:40:04    -2939.016186        0.230103\n"
     ]
    },
    {
     "name": "stderr",
     "output_type": "stream",
     "text": [
      "/home/mehuldarak/anaconda3/envs/mace/lib/python3.13/site-packages/ase/filters.py:606: RuntimeWarning: logm result may be inaccurate, approximate err = 2.371281513355862e-13\n",
      "  pos[natoms:] = self.logm(pos[natoms:]) * self.exp_cell_factor\n"
     ]
    },
    {
     "name": "stdout",
     "output_type": "stream",
     "text": [
      "FIRE:   72 21:40:04    -2939.065753        0.228317\n"
     ]
    },
    {
     "name": "stderr",
     "output_type": "stream",
     "text": [
      "/home/mehuldarak/anaconda3/envs/mace/lib/python3.13/site-packages/ase/filters.py:606: RuntimeWarning: logm result may be inaccurate, approximate err = 2.3837383389250623e-13\n",
      "  pos[natoms:] = self.logm(pos[natoms:]) * self.exp_cell_factor\n"
     ]
    },
    {
     "name": "stdout",
     "output_type": "stream",
     "text": [
      "FIRE:   73 21:40:04    -2939.114960        0.226548\n"
     ]
    },
    {
     "name": "stderr",
     "output_type": "stream",
     "text": [
      "/home/mehuldarak/anaconda3/envs/mace/lib/python3.13/site-packages/ase/filters.py:606: RuntimeWarning: logm result may be inaccurate, approximate err = 2.417561916473685e-13\n",
      "  pos[natoms:] = self.logm(pos[natoms:]) * self.exp_cell_factor\n"
     ]
    },
    {
     "name": "stdout",
     "output_type": "stream",
     "text": [
      "FIRE:   74 21:40:05    -2939.163626        0.224793\n"
     ]
    },
    {
     "name": "stderr",
     "output_type": "stream",
     "text": [
      "/home/mehuldarak/anaconda3/envs/mace/lib/python3.13/site-packages/ase/filters.py:606: RuntimeWarning: logm result may be inaccurate, approximate err = 2.3998023669318284e-13\n",
      "  pos[natoms:] = self.logm(pos[natoms:]) * self.exp_cell_factor\n"
     ]
    },
    {
     "name": "stdout",
     "output_type": "stream",
     "text": [
      "FIRE:   75 21:40:05    -2939.212111        0.223037\n"
     ]
    },
    {
     "name": "stderr",
     "output_type": "stream",
     "text": [
      "/home/mehuldarak/anaconda3/envs/mace/lib/python3.13/site-packages/ase/filters.py:606: RuntimeWarning: logm result may be inaccurate, approximate err = 2.4251991239952483e-13\n",
      "  pos[natoms:] = self.logm(pos[natoms:]) * self.exp_cell_factor\n"
     ]
    },
    {
     "name": "stdout",
     "output_type": "stream",
     "text": [
      "FIRE:   76 21:40:06    -2939.260417        0.221289\n"
     ]
    },
    {
     "name": "stderr",
     "output_type": "stream",
     "text": [
      "/home/mehuldarak/anaconda3/envs/mace/lib/python3.13/site-packages/ase/filters.py:606: RuntimeWarning: logm result may be inaccurate, approximate err = 2.4070265782655626e-13\n",
      "  pos[natoms:] = self.logm(pos[natoms:]) * self.exp_cell_factor\n"
     ]
    },
    {
     "name": "stdout",
     "output_type": "stream",
     "text": [
      "FIRE:   77 21:40:06    -2939.308182        0.219540\n"
     ]
    },
    {
     "name": "stderr",
     "output_type": "stream",
     "text": [
      "/home/mehuldarak/anaconda3/envs/mace/lib/python3.13/site-packages/ase/filters.py:606: RuntimeWarning: logm result may be inaccurate, approximate err = 2.438838006378554e-13\n",
      "  pos[natoms:] = self.logm(pos[natoms:]) * self.exp_cell_factor\n"
     ]
    },
    {
     "name": "stdout",
     "output_type": "stream",
     "text": [
      "FIRE:   78 21:40:07    -2939.355586        0.217788\n"
     ]
    },
    {
     "name": "stderr",
     "output_type": "stream",
     "text": [
      "/home/mehuldarak/anaconda3/envs/mace/lib/python3.13/site-packages/ase/filters.py:606: RuntimeWarning: logm result may be inaccurate, approximate err = 2.4368650077433465e-13\n",
      "  pos[natoms:] = self.logm(pos[natoms:]) * self.exp_cell_factor\n"
     ]
    },
    {
     "name": "stdout",
     "output_type": "stream",
     "text": [
      "FIRE:   79 21:40:07    -2939.402450        0.216042\n"
     ]
    },
    {
     "name": "stderr",
     "output_type": "stream",
     "text": [
      "/home/mehuldarak/anaconda3/envs/mace/lib/python3.13/site-packages/ase/filters.py:606: RuntimeWarning: logm result may be inaccurate, approximate err = 2.43687402522071e-13\n",
      "  pos[natoms:] = self.logm(pos[natoms:]) * self.exp_cell_factor\n"
     ]
    },
    {
     "name": "stdout",
     "output_type": "stream",
     "text": [
      "FIRE:   80 21:40:08    -2939.449133        0.214305\n"
     ]
    },
    {
     "name": "stderr",
     "output_type": "stream",
     "text": [
      "/home/mehuldarak/anaconda3/envs/mace/lib/python3.13/site-packages/ase/filters.py:606: RuntimeWarning: logm result may be inaccurate, approximate err = 2.42196680353392e-13\n",
      "  pos[natoms:] = self.logm(pos[natoms:]) * self.exp_cell_factor\n"
     ]
    },
    {
     "name": "stdout",
     "output_type": "stream",
     "text": [
      "FIRE:   81 21:40:08    -2939.494735        0.212577\n"
     ]
    },
    {
     "name": "stderr",
     "output_type": "stream",
     "text": [
      "/home/mehuldarak/anaconda3/envs/mace/lib/python3.13/site-packages/ase/filters.py:606: RuntimeWarning: logm result may be inaccurate, approximate err = 2.4186810437201246e-13\n",
      "  pos[natoms:] = self.logm(pos[natoms:]) * self.exp_cell_factor\n"
     ]
    },
    {
     "name": "stdout",
     "output_type": "stream",
     "text": [
      "FIRE:   82 21:40:09    -2939.540156        0.210852\n"
     ]
    },
    {
     "name": "stderr",
     "output_type": "stream",
     "text": [
      "/home/mehuldarak/anaconda3/envs/mace/lib/python3.13/site-packages/ase/filters.py:606: RuntimeWarning: logm result may be inaccurate, approximate err = 2.449663178892415e-13\n",
      "  pos[natoms:] = self.logm(pos[natoms:]) * self.exp_cell_factor\n"
     ]
    },
    {
     "name": "stdout",
     "output_type": "stream",
     "text": [
      "FIRE:   83 21:40:09    -2939.585398        0.209131\n"
     ]
    },
    {
     "name": "stderr",
     "output_type": "stream",
     "text": [
      "/home/mehuldarak/anaconda3/envs/mace/lib/python3.13/site-packages/ase/filters.py:606: RuntimeWarning: logm result may be inaccurate, approximate err = 2.455908440470262e-13\n",
      "  pos[natoms:] = self.logm(pos[natoms:]) * self.exp_cell_factor\n"
     ]
    },
    {
     "name": "stdout",
     "output_type": "stream",
     "text": [
      "FIRE:   84 21:40:10    -2939.630098        0.207411\n"
     ]
    },
    {
     "name": "stderr",
     "output_type": "stream",
     "text": [
      "/home/mehuldarak/anaconda3/envs/mace/lib/python3.13/site-packages/ase/filters.py:606: RuntimeWarning: logm result may be inaccurate, approximate err = 2.4690762136602704e-13\n",
      "  pos[natoms:] = self.logm(pos[natoms:]) * self.exp_cell_factor\n"
     ]
    },
    {
     "name": "stdout",
     "output_type": "stream",
     "text": [
      "FIRE:   85 21:40:10    -2939.674258        0.205700\n"
     ]
    },
    {
     "name": "stderr",
     "output_type": "stream",
     "text": [
      "/home/mehuldarak/anaconda3/envs/mace/lib/python3.13/site-packages/ase/filters.py:606: RuntimeWarning: logm result may be inaccurate, approximate err = 2.3835837014080163e-13\n",
      "  pos[natoms:] = self.logm(pos[natoms:]) * self.exp_cell_factor\n"
     ]
    },
    {
     "name": "stdout",
     "output_type": "stream",
     "text": [
      "FIRE:   86 21:40:10    -2939.718238        0.203989\n"
     ]
    },
    {
     "name": "stderr",
     "output_type": "stream",
     "text": [
      "/home/mehuldarak/anaconda3/envs/mace/lib/python3.13/site-packages/ase/filters.py:606: RuntimeWarning: logm result may be inaccurate, approximate err = 2.4422723085075856e-13\n",
      "  pos[natoms:] = self.logm(pos[natoms:]) * self.exp_cell_factor\n"
     ]
    },
    {
     "name": "stdout",
     "output_type": "stream",
     "text": [
      "FIRE:   87 21:40:11    -2939.761677        0.202267\n"
     ]
    },
    {
     "name": "stderr",
     "output_type": "stream",
     "text": [
      "/home/mehuldarak/anaconda3/envs/mace/lib/python3.13/site-packages/ase/filters.py:606: RuntimeWarning: logm result may be inaccurate, approximate err = 2.505310064890474e-13\n",
      "  pos[natoms:] = self.logm(pos[natoms:]) * self.exp_cell_factor\n"
     ]
    },
    {
     "name": "stdout",
     "output_type": "stream",
     "text": [
      "FIRE:   88 21:40:11    -2939.804575        0.200529\n"
     ]
    },
    {
     "name": "stderr",
     "output_type": "stream",
     "text": [
      "/home/mehuldarak/anaconda3/envs/mace/lib/python3.13/site-packages/ase/filters.py:606: RuntimeWarning: logm result may be inaccurate, approximate err = 2.406945439256665e-13\n",
      "  pos[natoms:] = self.logm(pos[natoms:]) * self.exp_cell_factor\n"
     ]
    },
    {
     "name": "stdout",
     "output_type": "stream",
     "text": [
      "FIRE:   89 21:40:12    -2939.847293        0.198804\n"
     ]
    },
    {
     "name": "stderr",
     "output_type": "stream",
     "text": [
      "/home/mehuldarak/anaconda3/envs/mace/lib/python3.13/site-packages/ase/filters.py:606: RuntimeWarning: logm result may be inaccurate, approximate err = 2.4229716537579883e-13\n",
      "  pos[natoms:] = self.logm(pos[natoms:]) * self.exp_cell_factor\n"
     ]
    },
    {
     "name": "stdout",
     "output_type": "stream",
     "text": [
      "FIRE:   90 21:40:12    -2939.889650        0.197085\n"
     ]
    },
    {
     "name": "stderr",
     "output_type": "stream",
     "text": [
      "/home/mehuldarak/anaconda3/envs/mace/lib/python3.13/site-packages/ase/filters.py:606: RuntimeWarning: logm result may be inaccurate, approximate err = 2.444768960918765e-13\n",
      "  pos[natoms:] = self.logm(pos[natoms:]) * self.exp_cell_factor\n"
     ]
    },
    {
     "name": "stdout",
     "output_type": "stream",
     "text": [
      "FIRE:   91 21:40:13    -2939.931828        0.195373\n"
     ]
    },
    {
     "name": "stderr",
     "output_type": "stream",
     "text": [
      "/home/mehuldarak/anaconda3/envs/mace/lib/python3.13/site-packages/ase/filters.py:606: RuntimeWarning: logm result may be inaccurate, approximate err = 2.4261083949931133e-13\n",
      "  pos[natoms:] = self.logm(pos[natoms:]) * self.exp_cell_factor\n"
     ]
    },
    {
     "name": "stdout",
     "output_type": "stream",
     "text": [
      "FIRE:   92 21:40:13    -2939.972743        0.193667\n"
     ]
    },
    {
     "name": "stderr",
     "output_type": "stream",
     "text": [
      "/home/mehuldarak/anaconda3/envs/mace/lib/python3.13/site-packages/ase/filters.py:606: RuntimeWarning: logm result may be inaccurate, approximate err = 2.451377609159682e-13\n",
      "  pos[natoms:] = self.logm(pos[natoms:]) * self.exp_cell_factor\n"
     ]
    },
    {
     "name": "stdout",
     "output_type": "stream",
     "text": [
      "FIRE:   93 21:40:14    -2940.014560        0.191962\n"
     ]
    },
    {
     "name": "stderr",
     "output_type": "stream",
     "text": [
      "/home/mehuldarak/anaconda3/envs/mace/lib/python3.13/site-packages/ase/filters.py:606: RuntimeWarning: logm result may be inaccurate, approximate err = 2.4615850338303943e-13\n",
      "  pos[natoms:] = self.logm(pos[natoms:]) * self.exp_cell_factor\n"
     ]
    },
    {
     "name": "stdout",
     "output_type": "stream",
     "text": [
      "FIRE:   94 21:40:14    -2940.055295        0.190264\n"
     ]
    },
    {
     "name": "stderr",
     "output_type": "stream",
     "text": [
      "/home/mehuldarak/anaconda3/envs/mace/lib/python3.13/site-packages/ase/filters.py:606: RuntimeWarning: logm result may be inaccurate, approximate err = 2.3989597464869165e-13\n",
      "  pos[natoms:] = self.logm(pos[natoms:]) * self.exp_cell_factor\n"
     ]
    },
    {
     "name": "stdout",
     "output_type": "stream",
     "text": [
      "FIRE:   95 21:40:15    -2940.096210        0.188574\n"
     ]
    },
    {
     "name": "stderr",
     "output_type": "stream",
     "text": [
      "/home/mehuldarak/anaconda3/envs/mace/lib/python3.13/site-packages/ase/filters.py:606: RuntimeWarning: logm result may be inaccurate, approximate err = 2.4050731389127656e-13\n",
      "  pos[natoms:] = self.logm(pos[natoms:]) * self.exp_cell_factor\n"
     ]
    },
    {
     "name": "stdout",
     "output_type": "stream",
     "text": [
      "FIRE:   96 21:40:15    -2940.136225        0.186895\n"
     ]
    },
    {
     "name": "stderr",
     "output_type": "stream",
     "text": [
      "/home/mehuldarak/anaconda3/envs/mace/lib/python3.13/site-packages/ase/filters.py:606: RuntimeWarning: logm result may be inaccurate, approximate err = 2.5341180394792804e-13\n",
      "  pos[natoms:] = self.logm(pos[natoms:]) * self.exp_cell_factor\n"
     ]
    },
    {
     "name": "stdout",
     "output_type": "stream",
     "text": [
      "FIRE:   97 21:40:16    -2940.175518        0.185239\n"
     ]
    },
    {
     "name": "stderr",
     "output_type": "stream",
     "text": [
      "/home/mehuldarak/anaconda3/envs/mace/lib/python3.13/site-packages/ase/filters.py:606: RuntimeWarning: logm result may be inaccurate, approximate err = 2.441524702408878e-13\n",
      "  pos[natoms:] = self.logm(pos[natoms:]) * self.exp_cell_factor\n"
     ]
    },
    {
     "name": "stdout",
     "output_type": "stream",
     "text": [
      "FIRE:   98 21:40:16    -2940.214992        0.183571\n"
     ]
    },
    {
     "name": "stderr",
     "output_type": "stream",
     "text": [
      "/home/mehuldarak/anaconda3/envs/mace/lib/python3.13/site-packages/ase/filters.py:606: RuntimeWarning: logm result may be inaccurate, approximate err = 2.3620493355861753e-13\n",
      "  pos[natoms:] = self.logm(pos[natoms:]) * self.exp_cell_factor\n"
     ]
    },
    {
     "name": "stdout",
     "output_type": "stream",
     "text": [
      "FIRE:   99 21:40:17    -2940.253744        0.181878\n"
     ]
    },
    {
     "name": "stderr",
     "output_type": "stream",
     "text": [
      "/home/mehuldarak/anaconda3/envs/mace/lib/python3.13/site-packages/ase/filters.py:606: RuntimeWarning: logm result may be inaccurate, approximate err = 2.434381585574523e-13\n",
      "  pos[natoms:] = self.logm(pos[natoms:]) * self.exp_cell_factor\n"
     ]
    },
    {
     "name": "stdout",
     "output_type": "stream",
     "text": [
      "FIRE:  100 21:40:17    -2940.292497        0.180189\n"
     ]
    },
    {
     "name": "stderr",
     "output_type": "stream",
     "text": [
      "/home/mehuldarak/anaconda3/envs/mace/lib/python3.13/site-packages/ase/filters.py:606: RuntimeWarning: logm result may be inaccurate, approximate err = 2.3740360627629125e-13\n",
      "  pos[natoms:] = self.logm(pos[natoms:]) * self.exp_cell_factor\n"
     ]
    },
    {
     "name": "stdout",
     "output_type": "stream",
     "text": [
      "FIRE:  101 21:40:18    -2940.331069        0.178509\n"
     ]
    },
    {
     "name": "stderr",
     "output_type": "stream",
     "text": [
      "/home/mehuldarak/anaconda3/envs/mace/lib/python3.13/site-packages/ase/filters.py:606: RuntimeWarning: logm result may be inaccurate, approximate err = 2.394114361851753e-13\n",
      "  pos[natoms:] = self.logm(pos[natoms:]) * self.exp_cell_factor\n"
     ]
    },
    {
     "name": "stdout",
     "output_type": "stream",
     "text": [
      "FIRE:  102 21:40:18    -2940.368920        0.176846\n"
     ]
    },
    {
     "name": "stderr",
     "output_type": "stream",
     "text": [
      "/home/mehuldarak/anaconda3/envs/mace/lib/python3.13/site-packages/ase/filters.py:606: RuntimeWarning: logm result may be inaccurate, approximate err = 2.456255508757039e-13\n",
      "  pos[natoms:] = self.logm(pos[natoms:]) * self.exp_cell_factor\n"
     ]
    },
    {
     "name": "stdout",
     "output_type": "stream",
     "text": [
      "FIRE:  103 21:40:18    -2940.406411        0.175189\n"
     ]
    },
    {
     "name": "stderr",
     "output_type": "stream",
     "text": [
      "/home/mehuldarak/anaconda3/envs/mace/lib/python3.13/site-packages/ase/filters.py:606: RuntimeWarning: logm result may be inaccurate, approximate err = 2.4540805789322513e-13\n",
      "  pos[natoms:] = self.logm(pos[natoms:]) * self.exp_cell_factor\n"
     ]
    },
    {
     "name": "stdout",
     "output_type": "stream",
     "text": [
      "FIRE:  104 21:40:19    -2940.443181        0.173534\n"
     ]
    },
    {
     "name": "stderr",
     "output_type": "stream",
     "text": [
      "/home/mehuldarak/anaconda3/envs/mace/lib/python3.13/site-packages/ase/filters.py:606: RuntimeWarning: logm result may be inaccurate, approximate err = 2.418963382713934e-13\n",
      "  pos[natoms:] = self.logm(pos[natoms:]) * self.exp_cell_factor\n"
     ]
    },
    {
     "name": "stdout",
     "output_type": "stream",
     "text": [
      "FIRE:  105 21:40:19    -2940.480492        0.171888\n"
     ]
    },
    {
     "name": "stderr",
     "output_type": "stream",
     "text": [
      "/home/mehuldarak/anaconda3/envs/mace/lib/python3.13/site-packages/ase/filters.py:606: RuntimeWarning: logm result may be inaccurate, approximate err = 2.4142161632241945e-13\n",
      "  pos[natoms:] = self.logm(pos[natoms:]) * self.exp_cell_factor\n"
     ]
    },
    {
     "name": "stdout",
     "output_type": "stream",
     "text": [
      "FIRE:  106 21:40:20    -2940.516180        0.170228\n"
     ]
    },
    {
     "name": "stderr",
     "output_type": "stream",
     "text": [
      "/home/mehuldarak/anaconda3/envs/mace/lib/python3.13/site-packages/ase/filters.py:606: RuntimeWarning: logm result may be inaccurate, approximate err = 2.4794524970489605e-13\n",
      "  pos[natoms:] = self.logm(pos[natoms:]) * self.exp_cell_factor\n"
     ]
    },
    {
     "name": "stdout",
     "output_type": "stream",
     "text": [
      "FIRE:  107 21:40:20    -2940.552229        0.168577\n"
     ]
    },
    {
     "name": "stderr",
     "output_type": "stream",
     "text": [
      "/home/mehuldarak/anaconda3/envs/mace/lib/python3.13/site-packages/ase/filters.py:606: RuntimeWarning: logm result may be inaccurate, approximate err = 2.492154896129558e-13\n",
      "  pos[natoms:] = self.logm(pos[natoms:]) * self.exp_cell_factor\n"
     ]
    },
    {
     "name": "stdout",
     "output_type": "stream",
     "text": [
      "FIRE:  108 21:40:21    -2940.587557        0.166938\n"
     ]
    },
    {
     "name": "stderr",
     "output_type": "stream",
     "text": [
      "/home/mehuldarak/anaconda3/envs/mace/lib/python3.13/site-packages/ase/filters.py:606: RuntimeWarning: logm result may be inaccurate, approximate err = 2.4595810066120893e-13\n",
      "  pos[natoms:] = self.logm(pos[natoms:]) * self.exp_cell_factor\n"
     ]
    },
    {
     "name": "stdout",
     "output_type": "stream",
     "text": [
      "FIRE:  109 21:40:21    -2940.623065        0.165304\n"
     ]
    },
    {
     "name": "stderr",
     "output_type": "stream",
     "text": [
      "/home/mehuldarak/anaconda3/envs/mace/lib/python3.13/site-packages/ase/filters.py:606: RuntimeWarning: logm result may be inaccurate, approximate err = 2.4294678485305526e-13\n",
      "  pos[natoms:] = self.logm(pos[natoms:]) * self.exp_cell_factor\n"
     ]
    },
    {
     "name": "stdout",
     "output_type": "stream",
     "text": [
      "FIRE:  110 21:40:22    -2940.658934        0.163674\n"
     ]
    },
    {
     "name": "stderr",
     "output_type": "stream",
     "text": [
      "/home/mehuldarak/anaconda3/envs/mace/lib/python3.13/site-packages/ase/filters.py:606: RuntimeWarning: logm result may be inaccurate, approximate err = 2.3991187222201676e-13\n",
      "  pos[natoms:] = self.logm(pos[natoms:]) * self.exp_cell_factor\n"
     ]
    },
    {
     "name": "stdout",
     "output_type": "stream",
     "text": [
      "FIRE:  111 21:40:22    -2940.693000        0.162083\n"
     ]
    },
    {
     "name": "stderr",
     "output_type": "stream",
     "text": [
      "/home/mehuldarak/anaconda3/envs/mace/lib/python3.13/site-packages/ase/filters.py:606: RuntimeWarning: logm result may be inaccurate, approximate err = 2.4519361728071176e-13\n",
      "  pos[natoms:] = self.logm(pos[natoms:]) * self.exp_cell_factor\n"
     ]
    },
    {
     "name": "stdout",
     "output_type": "stream",
     "text": [
      "FIRE:  112 21:40:23    -2940.727787        0.160516\n"
     ]
    },
    {
     "name": "stderr",
     "output_type": "stream",
     "text": [
      "/home/mehuldarak/anaconda3/envs/mace/lib/python3.13/site-packages/ase/filters.py:606: RuntimeWarning: logm result may be inaccurate, approximate err = 2.2914479272932987e-13\n",
      "  pos[natoms:] = self.logm(pos[natoms:]) * self.exp_cell_factor\n"
     ]
    },
    {
     "name": "stdout",
     "output_type": "stream",
     "text": [
      "FIRE:  113 21:40:23    -2940.761312        0.158960\n"
     ]
    },
    {
     "name": "stderr",
     "output_type": "stream",
     "text": [
      "/home/mehuldarak/anaconda3/envs/mace/lib/python3.13/site-packages/ase/filters.py:606: RuntimeWarning: logm result may be inaccurate, approximate err = 2.464134024213687e-13\n",
      "  pos[natoms:] = self.logm(pos[natoms:]) * self.exp_cell_factor\n"
     ]
    },
    {
     "name": "stdout",
     "output_type": "stream",
     "text": [
      "FIRE:  114 21:40:23    -2940.793937        0.157392\n"
     ]
    },
    {
     "name": "stderr",
     "output_type": "stream",
     "text": [
      "/home/mehuldarak/anaconda3/envs/mace/lib/python3.13/site-packages/ase/filters.py:606: RuntimeWarning: logm result may be inaccurate, approximate err = 2.436982539547898e-13\n",
      "  pos[natoms:] = self.logm(pos[natoms:]) * self.exp_cell_factor\n"
     ]
    },
    {
     "name": "stdout",
     "output_type": "stream",
     "text": [
      "FIRE:  115 21:40:24    -2940.826561        0.155784\n"
     ]
    },
    {
     "name": "stderr",
     "output_type": "stream",
     "text": [
      "/home/mehuldarak/anaconda3/envs/mace/lib/python3.13/site-packages/ase/filters.py:606: RuntimeWarning: logm result may be inaccurate, approximate err = 2.404910059961207e-13\n",
      "  pos[natoms:] = self.logm(pos[natoms:]) * self.exp_cell_factor\n"
     ]
    },
    {
     "name": "stdout",
     "output_type": "stream",
     "text": [
      "FIRE:  116 21:40:24    -2940.858464        0.154135\n"
     ]
    },
    {
     "name": "stderr",
     "output_type": "stream",
     "text": [
      "/home/mehuldarak/anaconda3/envs/mace/lib/python3.13/site-packages/ase/filters.py:606: RuntimeWarning: logm result may be inaccurate, approximate err = 2.4252596184308306e-13\n",
      "  pos[natoms:] = self.logm(pos[natoms:]) * self.exp_cell_factor\n"
     ]
    },
    {
     "name": "stdout",
     "output_type": "stream",
     "text": [
      "FIRE:  117 21:40:25    -2940.890007        0.152457\n"
     ]
    },
    {
     "name": "stderr",
     "output_type": "stream",
     "text": [
      "/home/mehuldarak/anaconda3/envs/mace/lib/python3.13/site-packages/ase/filters.py:606: RuntimeWarning: logm result may be inaccurate, approximate err = 2.472669697154481e-13\n",
      "  pos[natoms:] = self.logm(pos[natoms:]) * self.exp_cell_factor\n"
     ]
    },
    {
     "name": "stdout",
     "output_type": "stream",
     "text": [
      "FIRE:  118 21:40:25    -2940.920829        0.150738\n"
     ]
    },
    {
     "name": "stderr",
     "output_type": "stream",
     "text": [
      "/home/mehuldarak/anaconda3/envs/mace/lib/python3.13/site-packages/ase/filters.py:606: RuntimeWarning: logm result may be inaccurate, approximate err = 2.3824004709123203e-13\n",
      "  pos[natoms:] = self.logm(pos[natoms:]) * self.exp_cell_factor\n"
     ]
    },
    {
     "name": "stdout",
     "output_type": "stream",
     "text": [
      "FIRE:  119 21:40:26    -2940.951290        0.148972\n"
     ]
    },
    {
     "name": "stderr",
     "output_type": "stream",
     "text": [
      "/home/mehuldarak/anaconda3/envs/mace/lib/python3.13/site-packages/ase/filters.py:606: RuntimeWarning: logm result may be inaccurate, approximate err = 2.3787356375924416e-13\n",
      "  pos[natoms:] = self.logm(pos[natoms:]) * self.exp_cell_factor\n"
     ]
    },
    {
     "name": "stdout",
     "output_type": "stream",
     "text": [
      "FIRE:  120 21:40:26    -2940.981211        0.147206\n"
     ]
    },
    {
     "name": "stderr",
     "output_type": "stream",
     "text": [
      "/home/mehuldarak/anaconda3/envs/mace/lib/python3.13/site-packages/ase/filters.py:606: RuntimeWarning: logm result may be inaccurate, approximate err = 2.4944044981167823e-13\n",
      "  pos[natoms:] = self.logm(pos[natoms:]) * self.exp_cell_factor\n"
     ]
    },
    {
     "name": "stdout",
     "output_type": "stream",
     "text": [
      "FIRE:  121 21:40:27    -2941.010410        0.145454\n"
     ]
    },
    {
     "name": "stderr",
     "output_type": "stream",
     "text": [
      "/home/mehuldarak/anaconda3/envs/mace/lib/python3.13/site-packages/ase/filters.py:606: RuntimeWarning: logm result may be inaccurate, approximate err = 2.414111222191959e-13\n",
      "  pos[natoms:] = self.logm(pos[natoms:]) * self.exp_cell_factor\n"
     ]
    },
    {
     "name": "stdout",
     "output_type": "stream",
     "text": [
      "FIRE:  122 21:40:27    -2941.039790        0.143718\n"
     ]
    },
    {
     "name": "stderr",
     "output_type": "stream",
     "text": [
      "/home/mehuldarak/anaconda3/envs/mace/lib/python3.13/site-packages/ase/filters.py:606: RuntimeWarning: logm result may be inaccurate, approximate err = 2.397533319428869e-13\n",
      "  pos[natoms:] = self.logm(pos[natoms:]) * self.exp_cell_factor\n"
     ]
    },
    {
     "name": "stdout",
     "output_type": "stream",
     "text": [
      "FIRE:  123 21:40:28    -2941.068810        0.142017\n"
     ]
    },
    {
     "name": "stderr",
     "output_type": "stream",
     "text": [
      "/home/mehuldarak/anaconda3/envs/mace/lib/python3.13/site-packages/ase/filters.py:606: RuntimeWarning: logm result may be inaccurate, approximate err = 2.4247381146929065e-13\n",
      "  pos[natoms:] = self.logm(pos[natoms:]) * self.exp_cell_factor\n"
     ]
    },
    {
     "name": "stdout",
     "output_type": "stream",
     "text": [
      "FIRE:  124 21:40:28    -2941.097649        0.140368\n"
     ]
    },
    {
     "name": "stderr",
     "output_type": "stream",
     "text": [
      "/home/mehuldarak/anaconda3/envs/mace/lib/python3.13/site-packages/ase/filters.py:606: RuntimeWarning: logm result may be inaccurate, approximate err = 2.376371349837282e-13\n",
      "  pos[natoms:] = self.logm(pos[natoms:]) * self.exp_cell_factor\n"
     ]
    },
    {
     "name": "stdout",
     "output_type": "stream",
     "text": [
      "FIRE:  125 21:40:29    -2941.126848        0.138740\n"
     ]
    },
    {
     "name": "stderr",
     "output_type": "stream",
     "text": [
      "/home/mehuldarak/anaconda3/envs/mace/lib/python3.13/site-packages/ase/filters.py:606: RuntimeWarning: logm result may be inaccurate, approximate err = 2.413368347114277e-13\n",
      "  pos[natoms:] = self.logm(pos[natoms:]) * self.exp_cell_factor\n"
     ]
    },
    {
     "name": "stdout",
     "output_type": "stream",
     "text": [
      "FIRE:  126 21:40:29    -2941.155507        0.137119\n"
     ]
    },
    {
     "name": "stderr",
     "output_type": "stream",
     "text": [
      "/home/mehuldarak/anaconda3/envs/mace/lib/python3.13/site-packages/ase/filters.py:606: RuntimeWarning: logm result may be inaccurate, approximate err = 2.4147956695995056e-13\n",
      "  pos[natoms:] = self.logm(pos[natoms:]) * self.exp_cell_factor\n"
     ]
    },
    {
     "name": "stdout",
     "output_type": "stream",
     "text": [
      "FIRE:  127 21:40:30    -2941.183986        0.135504\n"
     ]
    },
    {
     "name": "stderr",
     "output_type": "stream",
     "text": [
      "/home/mehuldarak/anaconda3/envs/mace/lib/python3.13/site-packages/ase/filters.py:606: RuntimeWarning: logm result may be inaccurate, approximate err = 2.4375795309043304e-13\n",
      "  pos[natoms:] = self.logm(pos[natoms:]) * self.exp_cell_factor\n"
     ]
    },
    {
     "name": "stdout",
     "output_type": "stream",
     "text": [
      "FIRE:  128 21:40:30    -2941.211743        0.133859\n"
     ]
    },
    {
     "name": "stderr",
     "output_type": "stream",
     "text": [
      "/home/mehuldarak/anaconda3/envs/mace/lib/python3.13/site-packages/ase/filters.py:606: RuntimeWarning: logm result may be inaccurate, approximate err = 2.4715420126238683e-13\n",
      "  pos[natoms:] = self.logm(pos[natoms:]) * self.exp_cell_factor\n"
     ]
    },
    {
     "name": "stdout",
     "output_type": "stream",
     "text": [
      "FIRE:  129 21:40:31    -2941.239141        0.132204\n"
     ]
    },
    {
     "name": "stderr",
     "output_type": "stream",
     "text": [
      "/home/mehuldarak/anaconda3/envs/mace/lib/python3.13/site-packages/ase/filters.py:606: RuntimeWarning: logm result may be inaccurate, approximate err = 2.4383947287986884e-13\n",
      "  pos[natoms:] = self.logm(pos[natoms:]) * self.exp_cell_factor\n"
     ]
    },
    {
     "name": "stdout",
     "output_type": "stream",
     "text": [
      "FIRE:  130 21:40:31    -2941.266357        0.130541\n"
     ]
    },
    {
     "name": "stderr",
     "output_type": "stream",
     "text": [
      "/home/mehuldarak/anaconda3/envs/mace/lib/python3.13/site-packages/ase/filters.py:606: RuntimeWarning: logm result may be inaccurate, approximate err = 2.361210848115948e-13\n",
      "  pos[natoms:] = self.logm(pos[natoms:]) * self.exp_cell_factor\n"
     ]
    },
    {
     "name": "stdout",
     "output_type": "stream",
     "text": [
      "FIRE:  131 21:40:31    -2941.292673        0.128868\n"
     ]
    },
    {
     "name": "stderr",
     "output_type": "stream",
     "text": [
      "/home/mehuldarak/anaconda3/envs/mace/lib/python3.13/site-packages/ase/filters.py:606: RuntimeWarning: logm result may be inaccurate, approximate err = 2.3986851783718526e-13\n",
      "  pos[natoms:] = self.logm(pos[natoms:]) * self.exp_cell_factor\n"
     ]
    },
    {
     "name": "stdout",
     "output_type": "stream",
     "text": [
      "FIRE:  132 21:40:32    -2941.319169        0.127194\n"
     ]
    },
    {
     "name": "stderr",
     "output_type": "stream",
     "text": [
      "/home/mehuldarak/anaconda3/envs/mace/lib/python3.13/site-packages/ase/filters.py:606: RuntimeWarning: logm result may be inaccurate, approximate err = 2.362557735472513e-13\n",
      "  pos[natoms:] = self.logm(pos[natoms:]) * self.exp_cell_factor\n"
     ]
    },
    {
     "name": "stdout",
     "output_type": "stream",
     "text": [
      "FIRE:  133 21:40:32    -2941.344944        0.125534\n"
     ]
    },
    {
     "name": "stderr",
     "output_type": "stream",
     "text": [
      "/home/mehuldarak/anaconda3/envs/mace/lib/python3.13/site-packages/ase/filters.py:606: RuntimeWarning: logm result may be inaccurate, approximate err = 2.423236131264231e-13\n",
      "  pos[natoms:] = self.logm(pos[natoms:]) * self.exp_cell_factor\n"
     ]
    },
    {
     "name": "stdout",
     "output_type": "stream",
     "text": [
      "FIRE:  134 21:40:33    -2941.370178        0.123876\n"
     ]
    },
    {
     "name": "stderr",
     "output_type": "stream",
     "text": [
      "/home/mehuldarak/anaconda3/envs/mace/lib/python3.13/site-packages/ase/filters.py:606: RuntimeWarning: logm result may be inaccurate, approximate err = 2.408027543645836e-13\n",
      "  pos[natoms:] = self.logm(pos[natoms:]) * self.exp_cell_factor\n"
     ]
    },
    {
     "name": "stdout",
     "output_type": "stream",
     "text": [
      "FIRE:  135 21:40:33    -2941.395412        0.122196\n"
     ]
    },
    {
     "name": "stderr",
     "output_type": "stream",
     "text": [
      "/home/mehuldarak/anaconda3/envs/mace/lib/python3.13/site-packages/ase/filters.py:606: RuntimeWarning: logm result may be inaccurate, approximate err = 2.427751661045669e-13\n",
      "  pos[natoms:] = self.logm(pos[natoms:]) * self.exp_cell_factor\n"
     ]
    },
    {
     "name": "stdout",
     "output_type": "stream",
     "text": [
      "FIRE:  136 21:40:34    -2941.419565        0.120529\n"
     ]
    },
    {
     "name": "stderr",
     "output_type": "stream",
     "text": [
      "/home/mehuldarak/anaconda3/envs/mace/lib/python3.13/site-packages/ase/filters.py:606: RuntimeWarning: logm result may be inaccurate, approximate err = 2.447758051290833e-13\n",
      "  pos[natoms:] = self.logm(pos[natoms:]) * self.exp_cell_factor\n"
     ]
    },
    {
     "name": "stdout",
     "output_type": "stream",
     "text": [
      "FIRE:  137 21:40:34    -2941.443898        0.118871\n"
     ]
    },
    {
     "name": "stderr",
     "output_type": "stream",
     "text": [
      "/home/mehuldarak/anaconda3/envs/mace/lib/python3.13/site-packages/ase/filters.py:606: RuntimeWarning: logm result may be inaccurate, approximate err = 2.4422856671980655e-13\n",
      "  pos[natoms:] = self.logm(pos[natoms:]) * self.exp_cell_factor\n"
     ]
    },
    {
     "name": "stdout",
     "output_type": "stream",
     "text": [
      "FIRE:  138 21:40:34    -2941.467690        0.117216\n"
     ]
    },
    {
     "name": "stderr",
     "output_type": "stream",
     "text": [
      "/home/mehuldarak/anaconda3/envs/mace/lib/python3.13/site-packages/ase/filters.py:606: RuntimeWarning: logm result may be inaccurate, approximate err = 2.4936983903351413e-13\n",
      "  pos[natoms:] = self.logm(pos[natoms:]) * self.exp_cell_factor\n"
     ]
    },
    {
     "name": "stdout",
     "output_type": "stream",
     "text": [
      "FIRE:  139 21:40:35    -2941.491302        0.115531\n"
     ]
    },
    {
     "name": "stderr",
     "output_type": "stream",
     "text": [
      "/home/mehuldarak/anaconda3/envs/mace/lib/python3.13/site-packages/ase/filters.py:606: RuntimeWarning: logm result may be inaccurate, approximate err = 2.4701367181350644e-13\n",
      "  pos[natoms:] = self.logm(pos[natoms:]) * self.exp_cell_factor\n"
     ]
    },
    {
     "name": "stdout",
     "output_type": "stream",
     "text": [
      "FIRE:  140 21:40:36    -2941.514554        0.113845\n"
     ]
    },
    {
     "name": "stderr",
     "output_type": "stream",
     "text": [
      "/home/mehuldarak/anaconda3/envs/mace/lib/python3.13/site-packages/ase/filters.py:606: RuntimeWarning: logm result may be inaccurate, approximate err = 2.52801853917851e-13\n",
      "  pos[natoms:] = self.logm(pos[natoms:]) * self.exp_cell_factor\n"
     ]
    },
    {
     "name": "stdout",
     "output_type": "stream",
     "text": [
      "FIRE:  141 21:40:36    -2941.538527        0.112165\n"
     ]
    },
    {
     "name": "stderr",
     "output_type": "stream",
     "text": [
      "/home/mehuldarak/anaconda3/envs/mace/lib/python3.13/site-packages/ase/filters.py:606: RuntimeWarning: logm result may be inaccurate, approximate err = 2.4584434504548936e-13\n",
      "  pos[natoms:] = self.logm(pos[natoms:]) * self.exp_cell_factor\n"
     ]
    },
    {
     "name": "stdout",
     "output_type": "stream",
     "text": [
      "FIRE:  142 21:40:36    -2941.561237        0.110486\n"
     ]
    },
    {
     "name": "stderr",
     "output_type": "stream",
     "text": [
      "/home/mehuldarak/anaconda3/envs/mace/lib/python3.13/site-packages/ase/filters.py:606: RuntimeWarning: logm result may be inaccurate, approximate err = 2.502609476605441e-13\n",
      "  pos[natoms:] = self.logm(pos[natoms:]) * self.exp_cell_factor\n"
     ]
    },
    {
     "name": "stdout",
     "output_type": "stream",
     "text": [
      "FIRE:  143 21:40:37    -2941.584489        0.108826\n"
     ]
    },
    {
     "name": "stderr",
     "output_type": "stream",
     "text": [
      "/home/mehuldarak/anaconda3/envs/mace/lib/python3.13/site-packages/ase/filters.py:606: RuntimeWarning: logm result may be inaccurate, approximate err = 2.439449246215482e-13\n",
      "  pos[natoms:] = self.logm(pos[natoms:]) * self.exp_cell_factor\n"
     ]
    },
    {
     "name": "stdout",
     "output_type": "stream",
     "text": [
      "FIRE:  144 21:40:37    -2941.607560        0.107163\n"
     ]
    },
    {
     "name": "stderr",
     "output_type": "stream",
     "text": [
      "/home/mehuldarak/anaconda3/envs/mace/lib/python3.13/site-packages/ase/filters.py:606: RuntimeWarning: logm result may be inaccurate, approximate err = 2.5037522853455085e-13\n",
      "  pos[natoms:] = self.logm(pos[natoms:]) * self.exp_cell_factor\n"
     ]
    },
    {
     "name": "stdout",
     "output_type": "stream",
     "text": [
      "FIRE:  145 21:40:38    -2941.629910        0.105500\n"
     ]
    },
    {
     "name": "stderr",
     "output_type": "stream",
     "text": [
      "/home/mehuldarak/anaconda3/envs/mace/lib/python3.13/site-packages/ase/filters.py:606: RuntimeWarning: logm result may be inaccurate, approximate err = 2.476464829599873e-13\n",
      "  pos[natoms:] = self.logm(pos[natoms:]) * self.exp_cell_factor\n"
     ]
    },
    {
     "name": "stdout",
     "output_type": "stream",
     "text": [
      "FIRE:  146 21:40:38    -2941.652621        0.103826\n"
     ]
    },
    {
     "name": "stderr",
     "output_type": "stream",
     "text": [
      "/home/mehuldarak/anaconda3/envs/mace/lib/python3.13/site-packages/ase/filters.py:606: RuntimeWarning: logm result may be inaccurate, approximate err = 2.456772527632807e-13\n",
      "  pos[natoms:] = self.logm(pos[natoms:]) * self.exp_cell_factor\n"
     ]
    },
    {
     "name": "stdout",
     "output_type": "stream",
     "text": [
      "FIRE:  147 21:40:39    -2941.674070        0.102149\n"
     ]
    },
    {
     "name": "stderr",
     "output_type": "stream",
     "text": [
      "/home/mehuldarak/anaconda3/envs/mace/lib/python3.13/site-packages/ase/filters.py:606: RuntimeWarning: logm result may be inaccurate, approximate err = 2.483446144340911e-13\n",
      "  pos[natoms:] = self.logm(pos[natoms:]) * self.exp_cell_factor\n"
     ]
    },
    {
     "name": "stdout",
     "output_type": "stream",
     "text": [
      "FIRE:  148 21:40:39    -2941.695700        0.100485\n"
     ]
    },
    {
     "name": "stderr",
     "output_type": "stream",
     "text": [
      "/home/mehuldarak/anaconda3/envs/mace/lib/python3.13/site-packages/ase/filters.py:606: RuntimeWarning: logm result may be inaccurate, approximate err = 2.489731245284818e-13\n",
      "  pos[natoms:] = self.logm(pos[natoms:]) * self.exp_cell_factor\n"
     ]
    },
    {
     "name": "stdout",
     "output_type": "stream",
     "text": [
      "FIRE:  149 21:40:40    -2941.717149        0.098835\n"
     ]
    },
    {
     "name": "stderr",
     "output_type": "stream",
     "text": [
      "/home/mehuldarak/anaconda3/envs/mace/lib/python3.13/site-packages/ase/filters.py:606: RuntimeWarning: logm result may be inaccurate, approximate err = 2.5486682738520805e-13\n",
      "  pos[natoms:] = self.logm(pos[natoms:]) * self.exp_cell_factor\n"
     ]
    },
    {
     "name": "stdout",
     "output_type": "stream",
     "text": [
      "FIRE:  150 21:40:40    -2941.738237        0.097219\n"
     ]
    },
    {
     "name": "stderr",
     "output_type": "stream",
     "text": [
      "/home/mehuldarak/anaconda3/envs/mace/lib/python3.13/site-packages/ase/filters.py:606: RuntimeWarning: logm result may be inaccurate, approximate err = 2.555785702720466e-13\n",
      "  pos[natoms:] = self.logm(pos[natoms:]) * self.exp_cell_factor\n"
     ]
    },
    {
     "name": "stdout",
     "output_type": "stream",
     "text": [
      "FIRE:  151 21:40:41    -2941.758965        0.095644\n"
     ]
    },
    {
     "name": "stderr",
     "output_type": "stream",
     "text": [
      "/home/mehuldarak/anaconda3/envs/mace/lib/python3.13/site-packages/ase/filters.py:606: RuntimeWarning: logm result may be inaccurate, approximate err = 2.491560644578571e-13\n",
      "  pos[natoms:] = self.logm(pos[natoms:]) * self.exp_cell_factor\n"
     ]
    },
    {
     "name": "stdout",
     "output_type": "stream",
     "text": [
      "FIRE:  152 21:40:41    -2941.779513        0.094113\n"
     ]
    },
    {
     "name": "stderr",
     "output_type": "stream",
     "text": [
      "/home/mehuldarak/anaconda3/envs/mace/lib/python3.13/site-packages/ase/filters.py:606: RuntimeWarning: logm result may be inaccurate, approximate err = 2.4718380056134497e-13\n",
      "  pos[natoms:] = self.logm(pos[natoms:]) * self.exp_cell_factor\n"
     ]
    },
    {
     "name": "stdout",
     "output_type": "stream",
     "text": [
      "FIRE:  153 21:40:42    -2941.799701        0.092635\n"
     ]
    },
    {
     "name": "stderr",
     "output_type": "stream",
     "text": [
      "/home/mehuldarak/anaconda3/envs/mace/lib/python3.13/site-packages/ase/filters.py:606: RuntimeWarning: logm result may be inaccurate, approximate err = 2.494686702768046e-13\n",
      "  pos[natoms:] = self.logm(pos[natoms:]) * self.exp_cell_factor\n"
     ]
    },
    {
     "name": "stdout",
     "output_type": "stream",
     "text": [
      "FIRE:  154 21:40:42    -2941.820068        0.091147\n"
     ]
    },
    {
     "name": "stderr",
     "output_type": "stream",
     "text": [
      "/home/mehuldarak/anaconda3/envs/mace/lib/python3.13/site-packages/ase/filters.py:606: RuntimeWarning: logm result may be inaccurate, approximate err = 2.431050858848755e-13\n",
      "  pos[natoms:] = self.logm(pos[natoms:]) * self.exp_cell_factor\n"
     ]
    },
    {
     "name": "stdout",
     "output_type": "stream",
     "text": [
      "FIRE:  155 21:40:42    -2941.839174        0.089637\n"
     ]
    },
    {
     "name": "stderr",
     "output_type": "stream",
     "text": [
      "/home/mehuldarak/anaconda3/envs/mace/lib/python3.13/site-packages/ase/filters.py:606: RuntimeWarning: logm result may be inaccurate, approximate err = 2.4195941293148563e-13\n",
      "  pos[natoms:] = self.logm(pos[natoms:]) * self.exp_cell_factor\n"
     ]
    },
    {
     "name": "stdout",
     "output_type": "stream",
     "text": [
      "FIRE:  156 21:40:43    -2941.858100        0.088069\n"
     ]
    },
    {
     "name": "stderr",
     "output_type": "stream",
     "text": [
      "/home/mehuldarak/anaconda3/envs/mace/lib/python3.13/site-packages/ase/filters.py:606: RuntimeWarning: logm result may be inaccurate, approximate err = 2.456206340309431e-13\n",
      "  pos[natoms:] = self.logm(pos[natoms:]) * self.exp_cell_factor\n"
     ]
    },
    {
     "name": "stdout",
     "output_type": "stream",
     "text": [
      "FIRE:  157 21:40:43    -2941.877206        0.086505\n"
     ]
    },
    {
     "name": "stderr",
     "output_type": "stream",
     "text": [
      "/home/mehuldarak/anaconda3/envs/mace/lib/python3.13/site-packages/ase/filters.py:606: RuntimeWarning: logm result may be inaccurate, approximate err = 2.483105676797228e-13\n",
      "  pos[natoms:] = self.logm(pos[natoms:]) * self.exp_cell_factor\n"
     ]
    },
    {
     "name": "stdout",
     "output_type": "stream",
     "text": [
      "FIRE:  158 21:40:44    -2941.895771        0.084940\n"
     ]
    },
    {
     "name": "stderr",
     "output_type": "stream",
     "text": [
      "/home/mehuldarak/anaconda3/envs/mace/lib/python3.13/site-packages/ase/filters.py:606: RuntimeWarning: logm result may be inaccurate, approximate err = 2.501152443267639e-13\n",
      "  pos[natoms:] = self.logm(pos[natoms:]) * self.exp_cell_factor\n"
     ]
    },
    {
     "name": "stdout",
     "output_type": "stream",
     "text": [
      "FIRE:  159 21:40:44    -2941.914336        0.083362\n"
     ]
    },
    {
     "name": "stderr",
     "output_type": "stream",
     "text": [
      "/home/mehuldarak/anaconda3/envs/mace/lib/python3.13/site-packages/ase/filters.py:606: RuntimeWarning: logm result may be inaccurate, approximate err = 2.428311019488545e-13\n",
      "  pos[natoms:] = self.logm(pos[natoms:]) * self.exp_cell_factor\n"
     ]
    },
    {
     "name": "stdout",
     "output_type": "stream",
     "text": [
      "FIRE:  160 21:40:45    -2941.932901        0.081819\n"
     ]
    },
    {
     "name": "stderr",
     "output_type": "stream",
     "text": [
      "/home/mehuldarak/anaconda3/envs/mace/lib/python3.13/site-packages/ase/filters.py:606: RuntimeWarning: logm result may be inaccurate, approximate err = 2.5084912964683086e-13\n",
      "  pos[natoms:] = self.logm(pos[natoms:]) * self.exp_cell_factor\n"
     ]
    },
    {
     "name": "stdout",
     "output_type": "stream",
     "text": [
      "FIRE:  161 21:40:45    -2941.951467        0.080331\n"
     ]
    },
    {
     "name": "stderr",
     "output_type": "stream",
     "text": [
      "/home/mehuldarak/anaconda3/envs/mace/lib/python3.13/site-packages/ase/filters.py:606: RuntimeWarning: logm result may be inaccurate, approximate err = 2.4902826626380104e-13\n",
      "  pos[natoms:] = self.logm(pos[natoms:]) * self.exp_cell_factor\n"
     ]
    },
    {
     "name": "stdout",
     "output_type": "stream",
     "text": [
      "FIRE:  162 21:40:46    -2941.969851        0.078870\n"
     ]
    },
    {
     "name": "stderr",
     "output_type": "stream",
     "text": [
      "/home/mehuldarak/anaconda3/envs/mace/lib/python3.13/site-packages/ase/filters.py:606: RuntimeWarning: logm result may be inaccurate, approximate err = 2.4758402953140853e-13\n",
      "  pos[natoms:] = self.logm(pos[natoms:]) * self.exp_cell_factor\n"
     ]
    },
    {
     "name": "stdout",
     "output_type": "stream",
     "text": [
      "FIRE:  163 21:40:46    -2941.988236        0.077451\n"
     ]
    },
    {
     "name": "stderr",
     "output_type": "stream",
     "text": [
      "/home/mehuldarak/anaconda3/envs/mace/lib/python3.13/site-packages/ase/filters.py:606: RuntimeWarning: logm result may be inaccurate, approximate err = 2.419063396594205e-13\n",
      "  pos[natoms:] = self.logm(pos[natoms:]) * self.exp_cell_factor\n"
     ]
    },
    {
     "name": "stdout",
     "output_type": "stream",
     "text": [
      "FIRE:  164 21:40:47    -2942.006802        0.076057\n"
     ]
    },
    {
     "name": "stderr",
     "output_type": "stream",
     "text": [
      "/home/mehuldarak/anaconda3/envs/mace/lib/python3.13/site-packages/ase/filters.py:606: RuntimeWarning: logm result may be inaccurate, approximate err = 2.4616585543009517e-13\n",
      "  pos[natoms:] = self.logm(pos[natoms:]) * self.exp_cell_factor\n"
     ]
    },
    {
     "name": "stdout",
     "output_type": "stream",
     "text": [
      "FIRE:  165 21:40:47    -2942.024466        0.074682\n"
     ]
    },
    {
     "name": "stderr",
     "output_type": "stream",
     "text": [
      "/home/mehuldarak/anaconda3/envs/mace/lib/python3.13/site-packages/ase/filters.py:606: RuntimeWarning: logm result may be inaccurate, approximate err = 2.402351068760575e-13\n",
      "  pos[natoms:] = self.logm(pos[natoms:]) * self.exp_cell_factor\n"
     ]
    },
    {
     "name": "stdout",
     "output_type": "stream",
     "text": [
      "FIRE:  166 21:40:47    -2942.041769        0.073339\n"
     ]
    },
    {
     "name": "stderr",
     "output_type": "stream",
     "text": [
      "/home/mehuldarak/anaconda3/envs/mace/lib/python3.13/site-packages/ase/filters.py:606: RuntimeWarning: logm result may be inaccurate, approximate err = 2.477525090491237e-13\n",
      "  pos[natoms:] = self.logm(pos[natoms:]) * self.exp_cell_factor\n"
     ]
    },
    {
     "name": "stdout",
     "output_type": "stream",
     "text": [
      "FIRE:  167 21:40:48    -2942.058712        0.071996\n"
     ]
    },
    {
     "name": "stderr",
     "output_type": "stream",
     "text": [
      "/home/mehuldarak/anaconda3/envs/mace/lib/python3.13/site-packages/ase/filters.py:606: RuntimeWarning: logm result may be inaccurate, approximate err = 2.4091626944880405e-13\n",
      "  pos[natoms:] = self.logm(pos[natoms:]) * self.exp_cell_factor\n"
     ]
    },
    {
     "name": "stdout",
     "output_type": "stream",
     "text": [
      "FIRE:  168 21:40:48    -2942.075294        0.070622\n"
     ]
    },
    {
     "name": "stderr",
     "output_type": "stream",
     "text": [
      "/home/mehuldarak/anaconda3/envs/mace/lib/python3.13/site-packages/ase/filters.py:606: RuntimeWarning: logm result may be inaccurate, approximate err = 2.452341449157029e-13\n",
      "  pos[natoms:] = self.logm(pos[natoms:]) * self.exp_cell_factor\n"
     ]
    },
    {
     "name": "stdout",
     "output_type": "stream",
     "text": [
      "FIRE:  169 21:40:49    -2942.092057        0.069208\n"
     ]
    },
    {
     "name": "stderr",
     "output_type": "stream",
     "text": [
      "/home/mehuldarak/anaconda3/envs/mace/lib/python3.13/site-packages/ase/filters.py:606: RuntimeWarning: logm result may be inaccurate, approximate err = 2.540083547964112e-13\n",
      "  pos[natoms:] = self.logm(pos[natoms:]) * self.exp_cell_factor\n"
     ]
    },
    {
     "name": "stdout",
     "output_type": "stream",
     "text": [
      "FIRE:  170 21:40:49    -2942.108820        0.072870\n"
     ]
    },
    {
     "name": "stderr",
     "output_type": "stream",
     "text": [
      "/home/mehuldarak/anaconda3/envs/mace/lib/python3.13/site-packages/ase/filters.py:606: RuntimeWarning: logm result may be inaccurate, approximate err = 2.3838938392618233e-13\n",
      "  pos[natoms:] = self.logm(pos[natoms:]) * self.exp_cell_factor\n"
     ]
    },
    {
     "name": "stdout",
     "output_type": "stream",
     "text": [
      "FIRE:  171 21:40:50    -2942.125402        0.073423\n"
     ]
    },
    {
     "name": "stderr",
     "output_type": "stream",
     "text": [
      "/home/mehuldarak/anaconda3/envs/mace/lib/python3.13/site-packages/ase/filters.py:606: RuntimeWarning: logm result may be inaccurate, approximate err = 2.442212823770149e-13\n",
      "  pos[natoms:] = self.logm(pos[natoms:]) * self.exp_cell_factor\n"
     ]
    },
    {
     "name": "stdout",
     "output_type": "stream",
     "text": [
      "FIRE:  172 21:40:50    -2942.141264        0.068929\n"
     ]
    },
    {
     "name": "stderr",
     "output_type": "stream",
     "text": [
      "/home/mehuldarak/anaconda3/envs/mace/lib/python3.13/site-packages/ase/filters.py:606: RuntimeWarning: logm result may be inaccurate, approximate err = 2.436925228032867e-13\n",
      "  pos[natoms:] = self.logm(pos[natoms:]) * self.exp_cell_factor\n"
     ]
    },
    {
     "name": "stdout",
     "output_type": "stream",
     "text": [
      "FIRE:  173 21:40:51    -2942.157125        0.063615\n"
     ]
    },
    {
     "name": "stderr",
     "output_type": "stream",
     "text": [
      "/home/mehuldarak/anaconda3/envs/mace/lib/python3.13/site-packages/ase/filters.py:606: RuntimeWarning: logm result may be inaccurate, approximate err = 2.508203655735901e-13\n",
      "  pos[natoms:] = self.logm(pos[natoms:]) * self.exp_cell_factor\n"
     ]
    },
    {
     "name": "stdout",
     "output_type": "stream",
     "text": [
      "FIRE:  174 21:40:51    -2942.171906        0.070826\n"
     ]
    },
    {
     "name": "stderr",
     "output_type": "stream",
     "text": [
      "/home/mehuldarak/anaconda3/envs/mace/lib/python3.13/site-packages/ase/filters.py:606: RuntimeWarning: logm result may be inaccurate, approximate err = 2.4086747580783665e-13\n",
      "  pos[natoms:] = self.logm(pos[natoms:]) * self.exp_cell_factor\n"
     ]
    },
    {
     "name": "stdout",
     "output_type": "stream",
     "text": [
      "FIRE:  175 21:40:52    -2942.186686        0.072310\n"
     ]
    },
    {
     "name": "stderr",
     "output_type": "stream",
     "text": [
      "/home/mehuldarak/anaconda3/envs/mace/lib/python3.13/site-packages/ase/filters.py:606: RuntimeWarning: logm result may be inaccurate, approximate err = 2.490712437819383e-13\n",
      "  pos[natoms:] = self.logm(pos[natoms:]) * self.exp_cell_factor\n"
     ]
    },
    {
     "name": "stdout",
     "output_type": "stream",
     "text": [
      "FIRE:  176 21:40:52    -2942.200204        0.071709\n"
     ]
    },
    {
     "name": "stderr",
     "output_type": "stream",
     "text": [
      "/home/mehuldarak/anaconda3/envs/mace/lib/python3.13/site-packages/ase/filters.py:606: RuntimeWarning: logm result may be inaccurate, approximate err = 2.4168161559052373e-13\n",
      "  pos[natoms:] = self.logm(pos[natoms:]) * self.exp_cell_factor\n"
     ]
    },
    {
     "name": "stdout",
     "output_type": "stream",
     "text": [
      "FIRE:  177 21:40:53    -2942.214083        0.079169\n"
     ]
    },
    {
     "name": "stderr",
     "output_type": "stream",
     "text": [
      "/home/mehuldarak/anaconda3/envs/mace/lib/python3.13/site-packages/ase/filters.py:606: RuntimeWarning: logm result may be inaccurate, approximate err = 2.45980072011654e-13\n",
      "  pos[natoms:] = self.logm(pos[natoms:]) * self.exp_cell_factor\n"
     ]
    },
    {
     "name": "stdout",
     "output_type": "stream",
     "text": [
      "FIRE:  178 21:40:53    -2942.226700        0.085069\n"
     ]
    },
    {
     "name": "stderr",
     "output_type": "stream",
     "text": [
      "/home/mehuldarak/anaconda3/envs/mace/lib/python3.13/site-packages/ase/filters.py:606: RuntimeWarning: logm result may be inaccurate, approximate err = 2.493633193426079e-13\n",
      "  pos[natoms:] = self.logm(pos[natoms:]) * self.exp_cell_factor\n"
     ]
    },
    {
     "name": "stdout",
     "output_type": "stream",
     "text": [
      "FIRE:  179 21:40:53    -2942.239677        0.084487\n"
     ]
    },
    {
     "name": "stderr",
     "output_type": "stream",
     "text": [
      "/home/mehuldarak/anaconda3/envs/mace/lib/python3.13/site-packages/ase/filters.py:606: RuntimeWarning: logm result may be inaccurate, approximate err = 2.475487875954505e-13\n",
      "  pos[natoms:] = self.logm(pos[natoms:]) * self.exp_cell_factor\n"
     ]
    },
    {
     "name": "stdout",
     "output_type": "stream",
     "text": [
      "FIRE:  180 21:40:54    -2942.251934        0.079965\n"
     ]
    },
    {
     "name": "stderr",
     "output_type": "stream",
     "text": [
      "/home/mehuldarak/anaconda3/envs/mace/lib/python3.13/site-packages/ase/filters.py:606: RuntimeWarning: logm result may be inaccurate, approximate err = 2.5363462450211446e-13\n",
      "  pos[natoms:] = self.logm(pos[natoms:]) * self.exp_cell_factor\n"
     ]
    },
    {
     "name": "stdout",
     "output_type": "stream",
     "text": [
      "FIRE:  181 21:40:54    -2942.263830        0.075039\n"
     ]
    },
    {
     "name": "stderr",
     "output_type": "stream",
     "text": [
      "/home/mehuldarak/anaconda3/envs/mace/lib/python3.13/site-packages/ase/filters.py:606: RuntimeWarning: logm result may be inaccurate, approximate err = 2.4891213489461277e-13\n",
      "  pos[natoms:] = self.logm(pos[natoms:]) * self.exp_cell_factor\n"
     ]
    },
    {
     "name": "stdout",
     "output_type": "stream",
     "text": [
      "FIRE:  182 21:40:55    -2942.275907        0.079655\n"
     ]
    },
    {
     "name": "stderr",
     "output_type": "stream",
     "text": [
      "/home/mehuldarak/anaconda3/envs/mace/lib/python3.13/site-packages/ase/filters.py:606: RuntimeWarning: logm result may be inaccurate, approximate err = 2.465525707022371e-13\n",
      "  pos[natoms:] = self.logm(pos[natoms:]) * self.exp_cell_factor\n"
     ]
    },
    {
     "name": "stdout",
     "output_type": "stream",
     "text": [
      "FIRE:  183 21:40:55    -2942.288163        0.083160\n"
     ]
    },
    {
     "name": "stderr",
     "output_type": "stream",
     "text": [
      "/home/mehuldarak/anaconda3/envs/mace/lib/python3.13/site-packages/ase/filters.py:606: RuntimeWarning: logm result may be inaccurate, approximate err = 2.4762233677564307e-13\n",
      "  pos[natoms:] = self.logm(pos[natoms:]) * self.exp_cell_factor\n"
     ]
    },
    {
     "name": "stdout",
     "output_type": "stream",
     "text": [
      "FIRE:  184 21:40:56    -2942.300420        0.085216\n"
     ]
    },
    {
     "name": "stderr",
     "output_type": "stream",
     "text": [
      "/home/mehuldarak/anaconda3/envs/mace/lib/python3.13/site-packages/ase/filters.py:606: RuntimeWarning: logm result may be inaccurate, approximate err = 2.416700765764174e-13\n",
      "  pos[natoms:] = self.logm(pos[natoms:]) * self.exp_cell_factor\n"
     ]
    },
    {
     "name": "stdout",
     "output_type": "stream",
     "text": [
      "FIRE:  185 21:40:56    -2942.312496        0.088837\n"
     ]
    },
    {
     "name": "stderr",
     "output_type": "stream",
     "text": [
      "/home/mehuldarak/anaconda3/envs/mace/lib/python3.13/site-packages/ase/filters.py:606: RuntimeWarning: logm result may be inaccurate, approximate err = 2.542682031567119e-13\n",
      "  pos[natoms:] = self.logm(pos[natoms:]) * self.exp_cell_factor\n"
     ]
    },
    {
     "name": "stdout",
     "output_type": "stream",
     "text": [
      "FIRE:  186 21:40:57    -2942.324573        0.088843\n"
     ]
    },
    {
     "name": "stderr",
     "output_type": "stream",
     "text": [
      "/home/mehuldarak/anaconda3/envs/mace/lib/python3.13/site-packages/ase/filters.py:606: RuntimeWarning: logm result may be inaccurate, approximate err = 2.4152909774083254e-13\n",
      "  pos[natoms:] = self.logm(pos[natoms:]) * self.exp_cell_factor\n"
     ]
    },
    {
     "name": "stdout",
     "output_type": "stream",
     "text": [
      "FIRE:  187 21:40:57    -2942.336829        0.083711\n"
     ]
    },
    {
     "name": "stderr",
     "output_type": "stream",
     "text": [
      "/home/mehuldarak/anaconda3/envs/mace/lib/python3.13/site-packages/ase/filters.py:606: RuntimeWarning: logm result may be inaccurate, approximate err = 2.4803894300861627e-13\n",
      "  pos[natoms:] = self.logm(pos[natoms:]) * self.exp_cell_factor\n"
     ]
    },
    {
     "name": "stdout",
     "output_type": "stream",
     "text": [
      "FIRE:  188 21:40:58    -2942.348906        0.075369\n"
     ]
    },
    {
     "name": "stderr",
     "output_type": "stream",
     "text": [
      "/home/mehuldarak/anaconda3/envs/mace/lib/python3.13/site-packages/ase/filters.py:606: RuntimeWarning: logm result may be inaccurate, approximate err = 2.4553941523210935e-13\n",
      "  pos[natoms:] = self.logm(pos[natoms:]) * self.exp_cell_factor\n"
     ]
    },
    {
     "name": "stdout",
     "output_type": "stream",
     "text": [
      "FIRE:  189 21:40:58    -2942.360802        0.072772\n"
     ]
    },
    {
     "name": "stderr",
     "output_type": "stream",
     "text": [
      "/home/mehuldarak/anaconda3/envs/mace/lib/python3.13/site-packages/ase/filters.py:606: RuntimeWarning: logm result may be inaccurate, approximate err = 2.4955579438960584e-13\n",
      "  pos[natoms:] = self.logm(pos[natoms:]) * self.exp_cell_factor\n"
     ]
    },
    {
     "name": "stdout",
     "output_type": "stream",
     "text": [
      "FIRE:  190 21:40:58    -2942.373239        0.068455\n"
     ]
    },
    {
     "name": "stderr",
     "output_type": "stream",
     "text": [
      "/home/mehuldarak/anaconda3/envs/mace/lib/python3.13/site-packages/ase/filters.py:606: RuntimeWarning: logm result may be inaccurate, approximate err = 2.521033758381718e-13\n",
      "  pos[natoms:] = self.logm(pos[natoms:]) * self.exp_cell_factor\n"
     ]
    },
    {
     "name": "stdout",
     "output_type": "stream",
     "text": [
      "FIRE:  191 21:40:59    -2942.385135        0.069295\n"
     ]
    },
    {
     "name": "stderr",
     "output_type": "stream",
     "text": [
      "/home/mehuldarak/anaconda3/envs/mace/lib/python3.13/site-packages/ase/filters.py:606: RuntimeWarning: logm result may be inaccurate, approximate err = 2.5025989549056247e-13\n",
      "  pos[natoms:] = self.logm(pos[natoms:]) * self.exp_cell_factor\n"
     ]
    },
    {
     "name": "stdout",
     "output_type": "stream",
     "text": [
      "FIRE:  192 21:40:59    -2942.396851        0.074388\n"
     ]
    },
    {
     "name": "stderr",
     "output_type": "stream",
     "text": [
      "/home/mehuldarak/anaconda3/envs/mace/lib/python3.13/site-packages/ase/filters.py:606: RuntimeWarning: logm result may be inaccurate, approximate err = 2.5193177105426006e-13\n",
      "  pos[natoms:] = self.logm(pos[natoms:]) * self.exp_cell_factor\n"
     ]
    },
    {
     "name": "stdout",
     "output_type": "stream",
     "text": [
      "FIRE:  193 21:41:00    -2942.408386        0.079114\n"
     ]
    },
    {
     "name": "stderr",
     "output_type": "stream",
     "text": [
      "/home/mehuldarak/anaconda3/envs/mace/lib/python3.13/site-packages/ase/filters.py:606: RuntimeWarning: logm result may be inaccurate, approximate err = 2.536527790163161e-13\n",
      "  pos[natoms:] = self.logm(pos[natoms:]) * self.exp_cell_factor\n"
     ]
    },
    {
     "name": "stdout",
     "output_type": "stream",
     "text": [
      "FIRE:  194 21:41:00    -2942.419561        0.079580\n"
     ]
    },
    {
     "name": "stderr",
     "output_type": "stream",
     "text": [
      "/home/mehuldarak/anaconda3/envs/mace/lib/python3.13/site-packages/ase/filters.py:606: RuntimeWarning: logm result may be inaccurate, approximate err = 2.4777159510677793e-13\n",
      "  pos[natoms:] = self.logm(pos[natoms:]) * self.exp_cell_factor\n"
     ]
    },
    {
     "name": "stdout",
     "output_type": "stream",
     "text": [
      "FIRE:  195 21:41:01    -2942.430376        0.076497\n"
     ]
    },
    {
     "name": "stderr",
     "output_type": "stream",
     "text": [
      "/home/mehuldarak/anaconda3/envs/mace/lib/python3.13/site-packages/ase/filters.py:606: RuntimeWarning: logm result may be inaccurate, approximate err = 2.471621417073822e-13\n",
      "  pos[natoms:] = self.logm(pos[natoms:]) * self.exp_cell_factor\n"
     ]
    },
    {
     "name": "stdout",
     "output_type": "stream",
     "text": [
      "FIRE:  196 21:41:01    -2942.440289        0.077676\n"
     ]
    },
    {
     "name": "stderr",
     "output_type": "stream",
     "text": [
      "/home/mehuldarak/anaconda3/envs/mace/lib/python3.13/site-packages/ase/filters.py:606: RuntimeWarning: logm result may be inaccurate, approximate err = 2.423795189238476e-13\n",
      "  pos[natoms:] = self.logm(pos[natoms:]) * self.exp_cell_factor\n"
     ]
    },
    {
     "name": "stdout",
     "output_type": "stream",
     "text": [
      "FIRE:  197 21:41:02    -2942.449302        0.073933\n"
     ]
    },
    {
     "name": "stderr",
     "output_type": "stream",
     "text": [
      "/home/mehuldarak/anaconda3/envs/mace/lib/python3.13/site-packages/ase/filters.py:606: RuntimeWarning: logm result may be inaccurate, approximate err = 2.536839669430908e-13\n",
      "  pos[natoms:] = self.logm(pos[natoms:]) * self.exp_cell_factor\n"
     ]
    },
    {
     "name": "stdout",
     "output_type": "stream",
     "text": [
      "FIRE:  198 21:41:02    -2942.457773        0.076876\n"
     ]
    },
    {
     "name": "stderr",
     "output_type": "stream",
     "text": [
      "/home/mehuldarak/anaconda3/envs/mace/lib/python3.13/site-packages/ase/filters.py:606: RuntimeWarning: logm result may be inaccurate, approximate err = 2.552598371590827e-13\n",
      "  pos[natoms:] = self.logm(pos[natoms:]) * self.exp_cell_factor\n"
     ]
    },
    {
     "name": "stdout",
     "output_type": "stream",
     "text": [
      "FIRE:  199 21:41:03    -2942.465343        0.096890\n"
     ]
    },
    {
     "name": "stderr",
     "output_type": "stream",
     "text": [
      "/home/mehuldarak/anaconda3/envs/mace/lib/python3.13/site-packages/ase/filters.py:606: RuntimeWarning: logm result may be inaccurate, approximate err = 2.4262424761784884e-13\n",
      "  pos[natoms:] = self.logm(pos[natoms:]) * self.exp_cell_factor\n"
     ]
    },
    {
     "name": "stdout",
     "output_type": "stream",
     "text": [
      "FIRE:  200 21:41:03    -2942.472914        0.118228\n"
     ]
    },
    {
     "name": "stderr",
     "output_type": "stream",
     "text": [
      "/home/mehuldarak/anaconda3/envs/mace/lib/python3.13/site-packages/ase/filters.py:606: RuntimeWarning: logm result may be inaccurate, approximate err = 2.466022198341501e-13\n",
      "  pos[natoms:] = self.logm(pos[natoms:]) * self.exp_cell_factor\n"
     ]
    },
    {
     "name": "stdout",
     "output_type": "stream",
     "text": [
      "FIRE:  201 21:41:03    -2942.481205        0.129495\n"
     ]
    },
    {
     "name": "stderr",
     "output_type": "stream",
     "text": [
      "/home/mehuldarak/anaconda3/envs/mace/lib/python3.13/site-packages/ase/filters.py:606: RuntimeWarning: logm result may be inaccurate, approximate err = 2.5111872595635596e-13\n",
      "  pos[natoms:] = self.logm(pos[natoms:]) * self.exp_cell_factor\n"
     ]
    },
    {
     "name": "stdout",
     "output_type": "stream",
     "text": [
      "FIRE:  202 21:41:04    -2942.490217        0.130897\n"
     ]
    },
    {
     "name": "stderr",
     "output_type": "stream",
     "text": [
      "/home/mehuldarak/anaconda3/envs/mace/lib/python3.13/site-packages/ase/filters.py:606: RuntimeWarning: logm result may be inaccurate, approximate err = 2.4975936172079043e-13\n",
      "  pos[natoms:] = self.logm(pos[natoms:]) * self.exp_cell_factor\n"
     ]
    },
    {
     "name": "stdout",
     "output_type": "stream",
     "text": [
      "FIRE:  203 21:41:04    -2942.499049        0.121396\n"
     ]
    },
    {
     "name": "stderr",
     "output_type": "stream",
     "text": [
      "/home/mehuldarak/anaconda3/envs/mace/lib/python3.13/site-packages/ase/filters.py:606: RuntimeWarning: logm result may be inaccurate, approximate err = 2.388328276093068e-13\n",
      "  pos[natoms:] = self.logm(pos[natoms:]) * self.exp_cell_factor\n"
     ]
    },
    {
     "name": "stdout",
     "output_type": "stream",
     "text": [
      "FIRE:  204 21:41:05    -2942.507340        0.104162\n"
     ]
    },
    {
     "name": "stderr",
     "output_type": "stream",
     "text": [
      "/home/mehuldarak/anaconda3/envs/mace/lib/python3.13/site-packages/ase/filters.py:606: RuntimeWarning: logm result may be inaccurate, approximate err = 2.3864629739149127e-13\n",
      "  pos[natoms:] = self.logm(pos[natoms:]) * self.exp_cell_factor\n"
     ]
    },
    {
     "name": "stdout",
     "output_type": "stream",
     "text": [
      "FIRE:  205 21:41:05    -2942.514370        0.084817\n"
     ]
    },
    {
     "name": "stderr",
     "output_type": "stream",
     "text": [
      "/home/mehuldarak/anaconda3/envs/mace/lib/python3.13/site-packages/ase/filters.py:606: RuntimeWarning: logm result may be inaccurate, approximate err = 2.423926853513097e-13\n",
      "  pos[natoms:] = self.logm(pos[natoms:]) * self.exp_cell_factor\n"
     ]
    },
    {
     "name": "stdout",
     "output_type": "stream",
     "text": [
      "FIRE:  206 21:41:06    -2942.520859        0.086255\n"
     ]
    },
    {
     "name": "stderr",
     "output_type": "stream",
     "text": [
      "/home/mehuldarak/anaconda3/envs/mace/lib/python3.13/site-packages/ase/filters.py:606: RuntimeWarning: logm result may be inaccurate, approximate err = 2.4471592530619906e-13\n",
      "  pos[natoms:] = self.logm(pos[natoms:]) * self.exp_cell_factor\n"
     ]
    },
    {
     "name": "stdout",
     "output_type": "stream",
     "text": [
      "FIRE:  207 21:41:06    -2942.526807        0.095634\n"
     ]
    },
    {
     "name": "stderr",
     "output_type": "stream",
     "text": [
      "/home/mehuldarak/anaconda3/envs/mace/lib/python3.13/site-packages/ase/filters.py:606: RuntimeWarning: logm result may be inaccurate, approximate err = 2.4233926630607174e-13\n",
      "  pos[natoms:] = self.logm(pos[natoms:]) * self.exp_cell_factor\n"
     ]
    },
    {
     "name": "stdout",
     "output_type": "stream",
     "text": [
      "FIRE:  208 21:41:07    -2942.532394        0.103058\n"
     ]
    },
    {
     "name": "stderr",
     "output_type": "stream",
     "text": [
      "/home/mehuldarak/anaconda3/envs/mace/lib/python3.13/site-packages/ase/filters.py:606: RuntimeWarning: logm result may be inaccurate, approximate err = 2.5008074643310724e-13\n",
      "  pos[natoms:] = self.logm(pos[natoms:]) * self.exp_cell_factor\n"
     ]
    },
    {
     "name": "stdout",
     "output_type": "stream",
     "text": [
      "FIRE:  209 21:41:07    -2942.537621        0.109465\n"
     ]
    },
    {
     "name": "stderr",
     "output_type": "stream",
     "text": [
      "/home/mehuldarak/anaconda3/envs/mace/lib/python3.13/site-packages/ase/filters.py:606: RuntimeWarning: logm result may be inaccurate, approximate err = 2.467364082502097e-13\n",
      "  pos[natoms:] = self.logm(pos[natoms:]) * self.exp_cell_factor\n"
     ]
    },
    {
     "name": "stdout",
     "output_type": "stream",
     "text": [
      "FIRE:  210 21:41:07    -2942.542849        0.110805\n"
     ]
    },
    {
     "name": "stderr",
     "output_type": "stream",
     "text": [
      "/home/mehuldarak/anaconda3/envs/mace/lib/python3.13/site-packages/ase/filters.py:606: RuntimeWarning: logm result may be inaccurate, approximate err = 2.402105155956899e-13\n",
      "  pos[natoms:] = self.logm(pos[natoms:]) * self.exp_cell_factor\n"
     ]
    },
    {
     "name": "stdout",
     "output_type": "stream",
     "text": [
      "FIRE:  211 21:41:08    -2942.548797        0.106595\n"
     ]
    },
    {
     "name": "stderr",
     "output_type": "stream",
     "text": [
      "/home/mehuldarak/anaconda3/envs/mace/lib/python3.13/site-packages/ase/filters.py:606: RuntimeWarning: logm result may be inaccurate, approximate err = 2.461332953640992e-13\n",
      "  pos[natoms:] = self.logm(pos[natoms:]) * self.exp_cell_factor\n"
     ]
    },
    {
     "name": "stdout",
     "output_type": "stream",
     "text": [
      "FIRE:  212 21:41:08    -2942.554564        0.101298\n"
     ]
    },
    {
     "name": "stderr",
     "output_type": "stream",
     "text": [
      "/home/mehuldarak/anaconda3/envs/mace/lib/python3.13/site-packages/ase/filters.py:606: RuntimeWarning: logm result may be inaccurate, approximate err = 2.507075369754459e-13\n",
      "  pos[natoms:] = self.logm(pos[natoms:]) * self.exp_cell_factor\n"
     ]
    },
    {
     "name": "stdout",
     "output_type": "stream",
     "text": [
      "FIRE:  213 21:41:09    -2942.560332        0.095138\n"
     ]
    },
    {
     "name": "stderr",
     "output_type": "stream",
     "text": [
      "/home/mehuldarak/anaconda3/envs/mace/lib/python3.13/site-packages/ase/filters.py:606: RuntimeWarning: logm result may be inaccurate, approximate err = 2.4012680903246174e-13\n",
      "  pos[natoms:] = self.logm(pos[natoms:]) * self.exp_cell_factor\n"
     ]
    },
    {
     "name": "stdout",
     "output_type": "stream",
     "text": [
      "FIRE:  214 21:41:09    -2942.566100        0.080910\n"
     ]
    },
    {
     "name": "stderr",
     "output_type": "stream",
     "text": [
      "/home/mehuldarak/anaconda3/envs/mace/lib/python3.13/site-packages/ase/filters.py:606: RuntimeWarning: logm result may be inaccurate, approximate err = 2.5096268745760074e-13\n",
      "  pos[natoms:] = self.logm(pos[natoms:]) * self.exp_cell_factor\n"
     ]
    },
    {
     "name": "stdout",
     "output_type": "stream",
     "text": [
      "FIRE:  215 21:41:10    -2942.571868        0.079940\n"
     ]
    },
    {
     "name": "stderr",
     "output_type": "stream",
     "text": [
      "/home/mehuldarak/anaconda3/envs/mace/lib/python3.13/site-packages/ase/filters.py:606: RuntimeWarning: logm result may be inaccurate, approximate err = 2.432163822313493e-13\n",
      "  pos[natoms:] = self.logm(pos[natoms:]) * self.exp_cell_factor\n"
     ]
    },
    {
     "name": "stdout",
     "output_type": "stream",
     "text": [
      "FIRE:  216 21:41:10    -2942.577095        0.087505\n"
     ]
    },
    {
     "name": "stderr",
     "output_type": "stream",
     "text": [
      "/home/mehuldarak/anaconda3/envs/mace/lib/python3.13/site-packages/ase/filters.py:606: RuntimeWarning: logm result may be inaccurate, approximate err = 2.4467102339258596e-13\n",
      "  pos[natoms:] = self.logm(pos[natoms:]) * self.exp_cell_factor\n"
     ]
    },
    {
     "name": "stdout",
     "output_type": "stream",
     "text": [
      "FIRE:  217 21:41:11    -2942.582322        0.096244\n"
     ]
    },
    {
     "name": "stderr",
     "output_type": "stream",
     "text": [
      "/home/mehuldarak/anaconda3/envs/mace/lib/python3.13/site-packages/ase/filters.py:606: RuntimeWarning: logm result may be inaccurate, approximate err = 2.459809747134601e-13\n",
      "  pos[natoms:] = self.logm(pos[natoms:]) * self.exp_cell_factor\n"
     ]
    },
    {
     "name": "stdout",
     "output_type": "stream",
     "text": [
      "FIRE:  218 21:41:11    -2942.587008        0.101200\n"
     ]
    },
    {
     "name": "stderr",
     "output_type": "stream",
     "text": [
      "/home/mehuldarak/anaconda3/envs/mace/lib/python3.13/site-packages/ase/filters.py:606: RuntimeWarning: logm result may be inaccurate, approximate err = 2.4797647260329956e-13\n",
      "  pos[natoms:] = self.logm(pos[natoms:]) * self.exp_cell_factor\n"
     ]
    },
    {
     "name": "stdout",
     "output_type": "stream",
     "text": [
      "FIRE:  219 21:41:11    -2942.591334        0.100998\n"
     ]
    },
    {
     "name": "stderr",
     "output_type": "stream",
     "text": [
      "/home/mehuldarak/anaconda3/envs/mace/lib/python3.13/site-packages/ase/filters.py:606: RuntimeWarning: logm result may be inaccurate, approximate err = 2.466110288029852e-13\n",
      "  pos[natoms:] = self.logm(pos[natoms:]) * self.exp_cell_factor\n"
     ]
    },
    {
     "name": "stdout",
     "output_type": "stream",
     "text": [
      "FIRE:  220 21:41:12    -2942.595660        0.095994\n"
     ]
    },
    {
     "name": "stderr",
     "output_type": "stream",
     "text": [
      "/home/mehuldarak/anaconda3/envs/mace/lib/python3.13/site-packages/ase/filters.py:606: RuntimeWarning: logm result may be inaccurate, approximate err = 2.4790626972057994e-13\n",
      "  pos[natoms:] = self.logm(pos[natoms:]) * self.exp_cell_factor\n"
     ]
    },
    {
     "name": "stdout",
     "output_type": "stream",
     "text": [
      "FIRE:  221 21:41:13    -2942.600707        0.088182\n"
     ]
    },
    {
     "name": "stderr",
     "output_type": "stream",
     "text": [
      "/home/mehuldarak/anaconda3/envs/mace/lib/python3.13/site-packages/ase/filters.py:606: RuntimeWarning: logm result may be inaccurate, approximate err = 2.428627815963664e-13\n",
      "  pos[natoms:] = self.logm(pos[natoms:]) * self.exp_cell_factor\n"
     ]
    },
    {
     "name": "stdout",
     "output_type": "stream",
     "text": [
      "FIRE:  222 21:41:13    -2942.605393        0.086499\n"
     ]
    },
    {
     "name": "stderr",
     "output_type": "stream",
     "text": [
      "/home/mehuldarak/anaconda3/envs/mace/lib/python3.13/site-packages/ase/filters.py:606: RuntimeWarning: logm result may be inaccurate, approximate err = 2.5352603612760025e-13\n",
      "  pos[natoms:] = self.logm(pos[natoms:]) * self.exp_cell_factor\n"
     ]
    },
    {
     "name": "stdout",
     "output_type": "stream",
     "text": [
      "FIRE:  223 21:41:13    -2942.611341        0.080449\n"
     ]
    },
    {
     "name": "stderr",
     "output_type": "stream",
     "text": [
      "/home/mehuldarak/anaconda3/envs/mace/lib/python3.13/site-packages/ase/filters.py:606: RuntimeWarning: logm result may be inaccurate, approximate err = 2.444836564217313e-13\n",
      "  pos[natoms:] = self.logm(pos[natoms:]) * self.exp_cell_factor\n"
     ]
    },
    {
     "name": "stdout",
     "output_type": "stream",
     "text": [
      "FIRE:  224 21:41:14    -2942.617470        0.076914\n"
     ]
    },
    {
     "name": "stderr",
     "output_type": "stream",
     "text": [
      "/home/mehuldarak/anaconda3/envs/mace/lib/python3.13/site-packages/ase/filters.py:606: RuntimeWarning: logm result may be inaccurate, approximate err = 2.4804338513157285e-13\n",
      "  pos[natoms:] = self.logm(pos[natoms:]) * self.exp_cell_factor\n"
     ]
    },
    {
     "name": "stdout",
     "output_type": "stream",
     "text": [
      "FIRE:  225 21:41:14    -2942.623778        0.090631\n"
     ]
    },
    {
     "name": "stderr",
     "output_type": "stream",
     "text": [
      "/home/mehuldarak/anaconda3/envs/mace/lib/python3.13/site-packages/ase/filters.py:606: RuntimeWarning: logm result may be inaccurate, approximate err = 2.495701886614427e-13\n",
      "  pos[natoms:] = self.logm(pos[natoms:]) * self.exp_cell_factor\n"
     ]
    },
    {
     "name": "stdout",
     "output_type": "stream",
     "text": [
      "FIRE:  226 21:41:15    -2942.629366        0.103510\n"
     ]
    },
    {
     "name": "stderr",
     "output_type": "stream",
     "text": [
      "/home/mehuldarak/anaconda3/envs/mace/lib/python3.13/site-packages/ase/filters.py:606: RuntimeWarning: logm result may be inaccurate, approximate err = 2.4813141618822587e-13\n",
      "  pos[natoms:] = self.logm(pos[natoms:]) * self.exp_cell_factor\n"
     ]
    },
    {
     "name": "stdout",
     "output_type": "stream",
     "text": [
      "FIRE:  227 21:41:15    -2942.634233        0.109463\n"
     ]
    },
    {
     "name": "stderr",
     "output_type": "stream",
     "text": [
      "/home/mehuldarak/anaconda3/envs/mace/lib/python3.13/site-packages/ase/filters.py:606: RuntimeWarning: logm result may be inaccurate, approximate err = 2.5113213674444254e-13\n",
      "  pos[natoms:] = self.logm(pos[natoms:]) * self.exp_cell_factor\n"
     ]
    },
    {
     "name": "stdout",
     "output_type": "stream",
     "text": [
      "FIRE:  228 21:41:16    -2942.638739        0.105746\n"
     ]
    },
    {
     "name": "stderr",
     "output_type": "stream",
     "text": [
      "/home/mehuldarak/anaconda3/envs/mace/lib/python3.13/site-packages/ase/filters.py:606: RuntimeWarning: logm result may be inaccurate, approximate err = 2.3969995591635364e-13\n",
      "  pos[natoms:] = self.logm(pos[natoms:]) * self.exp_cell_factor\n"
     ]
    },
    {
     "name": "stdout",
     "output_type": "stream",
     "text": [
      "FIRE:  229 21:41:16    -2942.642704        0.094939\n"
     ]
    },
    {
     "name": "stderr",
     "output_type": "stream",
     "text": [
      "/home/mehuldarak/anaconda3/envs/mace/lib/python3.13/site-packages/ase/filters.py:606: RuntimeWarning: logm result may be inaccurate, approximate err = 2.4522755249682706e-13\n",
      "  pos[natoms:] = self.logm(pos[natoms:]) * self.exp_cell_factor\n"
     ]
    },
    {
     "name": "stdout",
     "output_type": "stream",
     "text": [
      "FIRE:  230 21:41:16    -2942.646669        0.096193\n"
     ]
    },
    {
     "name": "stderr",
     "output_type": "stream",
     "text": [
      "/home/mehuldarak/anaconda3/envs/mace/lib/python3.13/site-packages/ase/filters.py:606: RuntimeWarning: logm result may be inaccurate, approximate err = 2.4789212774377514e-13\n",
      "  pos[natoms:] = self.logm(pos[natoms:]) * self.exp_cell_factor\n"
     ]
    },
    {
     "name": "stdout",
     "output_type": "stream",
     "text": [
      "FIRE:  231 21:41:17    -2942.650635        0.096035\n"
     ]
    },
    {
     "name": "stderr",
     "output_type": "stream",
     "text": [
      "/home/mehuldarak/anaconda3/envs/mace/lib/python3.13/site-packages/ase/filters.py:606: RuntimeWarning: logm result may be inaccurate, approximate err = 2.4307375591556124e-13\n",
      "  pos[natoms:] = self.logm(pos[natoms:]) * self.exp_cell_factor\n"
     ]
    },
    {
     "name": "stdout",
     "output_type": "stream",
     "text": [
      "FIRE:  232 21:41:17    -2942.654961        0.092201\n"
     ]
    },
    {
     "name": "stderr",
     "output_type": "stream",
     "text": [
      "/home/mehuldarak/anaconda3/envs/mace/lib/python3.13/site-packages/ase/filters.py:606: RuntimeWarning: logm result may be inaccurate, approximate err = 2.5352749864987423e-13\n",
      "  pos[natoms:] = self.logm(pos[natoms:]) * self.exp_cell_factor\n"
     ]
    },
    {
     "name": "stdout",
     "output_type": "stream",
     "text": [
      "FIRE:  233 21:41:18    -2942.659647        0.082528\n"
     ]
    },
    {
     "name": "stderr",
     "output_type": "stream",
     "text": [
      "/home/mehuldarak/anaconda3/envs/mace/lib/python3.13/site-packages/ase/filters.py:606: RuntimeWarning: logm result may be inaccurate, approximate err = 2.4920669626616293e-13\n",
      "  pos[natoms:] = self.logm(pos[natoms:]) * self.exp_cell_factor\n"
     ]
    },
    {
     "name": "stdout",
     "output_type": "stream",
     "text": [
      "FIRE:  234 21:41:18    -2942.664153        0.077391\n"
     ]
    },
    {
     "name": "stderr",
     "output_type": "stream",
     "text": [
      "/home/mehuldarak/anaconda3/envs/mace/lib/python3.13/site-packages/ase/filters.py:606: RuntimeWarning: logm result may be inaccurate, approximate err = 2.5081627957150333e-13\n",
      "  pos[natoms:] = self.logm(pos[natoms:]) * self.exp_cell_factor\n"
     ]
    },
    {
     "name": "stdout",
     "output_type": "stream",
     "text": [
      "FIRE:  235 21:41:19    -2942.668299        0.086618\n"
     ]
    },
    {
     "name": "stderr",
     "output_type": "stream",
     "text": [
      "/home/mehuldarak/anaconda3/envs/mace/lib/python3.13/site-packages/ase/filters.py:606: RuntimeWarning: logm result may be inaccurate, approximate err = 2.4781632681498017e-13\n",
      "  pos[natoms:] = self.logm(pos[natoms:]) * self.exp_cell_factor\n"
     ]
    },
    {
     "name": "stdout",
     "output_type": "stream",
     "text": [
      "FIRE:  236 21:41:19    -2942.673165        0.089391\n"
     ]
    },
    {
     "name": "stderr",
     "output_type": "stream",
     "text": [
      "/home/mehuldarak/anaconda3/envs/mace/lib/python3.13/site-packages/ase/filters.py:606: RuntimeWarning: logm result may be inaccurate, approximate err = 2.478006736027436e-13\n",
      "  pos[natoms:] = self.logm(pos[natoms:]) * self.exp_cell_factor\n"
     ]
    },
    {
     "name": "stdout",
     "output_type": "stream",
     "text": [
      "FIRE:  237 21:41:20    -2942.677671        0.093765\n"
     ]
    },
    {
     "name": "stderr",
     "output_type": "stream",
     "text": [
      "/home/mehuldarak/anaconda3/envs/mace/lib/python3.13/site-packages/ase/filters.py:606: RuntimeWarning: logm result may be inaccurate, approximate err = 2.489989285669873e-13\n",
      "  pos[natoms:] = self.logm(pos[natoms:]) * self.exp_cell_factor\n"
     ]
    },
    {
     "name": "stdout",
     "output_type": "stream",
     "text": [
      "FIRE:  238 21:41:20    -2942.682178        0.094990\n"
     ]
    },
    {
     "name": "stderr",
     "output_type": "stream",
     "text": [
      "/home/mehuldarak/anaconda3/envs/mace/lib/python3.13/site-packages/ase/filters.py:606: RuntimeWarning: logm result may be inaccurate, approximate err = 2.5504650215534046e-13\n",
      "  pos[natoms:] = self.logm(pos[natoms:]) * self.exp_cell_factor\n"
     ]
    },
    {
     "name": "stdout",
     "output_type": "stream",
     "text": [
      "FIRE:  239 21:41:21    -2942.686864        0.090737\n"
     ]
    },
    {
     "name": "stderr",
     "output_type": "stream",
     "text": [
      "/home/mehuldarak/anaconda3/envs/mace/lib/python3.13/site-packages/ase/filters.py:606: RuntimeWarning: logm result may be inaccurate, approximate err = 2.457244057752295e-13\n",
      "  pos[natoms:] = self.logm(pos[natoms:]) * self.exp_cell_factor\n"
     ]
    },
    {
     "name": "stdout",
     "output_type": "stream",
     "text": [
      "FIRE:  240 21:41:21    -2942.690829        0.081105\n"
     ]
    },
    {
     "name": "stderr",
     "output_type": "stream",
     "text": [
      "/home/mehuldarak/anaconda3/envs/mace/lib/python3.13/site-packages/ase/filters.py:606: RuntimeWarning: logm result may be inaccurate, approximate err = 2.4823926042062186e-13\n",
      "  pos[natoms:] = self.logm(pos[natoms:]) * self.exp_cell_factor\n"
     ]
    },
    {
     "name": "stdout",
     "output_type": "stream",
     "text": [
      "FIRE:  241 21:41:22    -2942.694614        0.073470\n"
     ]
    },
    {
     "name": "stderr",
     "output_type": "stream",
     "text": [
      "/home/mehuldarak/anaconda3/envs/mace/lib/python3.13/site-packages/ase/filters.py:606: RuntimeWarning: logm result may be inaccurate, approximate err = 2.408074168668259e-13\n",
      "  pos[natoms:] = self.logm(pos[natoms:]) * self.exp_cell_factor\n"
     ]
    },
    {
     "name": "stdout",
     "output_type": "stream",
     "text": [
      "FIRE:  242 21:41:22    -2942.697138        0.080844\n"
     ]
    },
    {
     "name": "stderr",
     "output_type": "stream",
     "text": [
      "/home/mehuldarak/anaconda3/envs/mace/lib/python3.13/site-packages/ase/filters.py:606: RuntimeWarning: logm result may be inaccurate, approximate err = 2.467125110721083e-13\n",
      "  pos[natoms:] = self.logm(pos[natoms:]) * self.exp_cell_factor\n"
     ]
    },
    {
     "name": "stdout",
     "output_type": "stream",
     "text": [
      "FIRE:  243 21:41:22    -2942.725256        0.039957\n"
     ]
    }
   ],
   "source": [
    "# Convert back, assign calculator + constraint\n",
    "structure_1 = AseAtomsAdaptor.get_atoms(result[\"final_structure\"])\n",
    "structure_1.set_calculator(calc)\n",
    "structure_1.set_constraint(FixAtoms(mask=freeze_mask))\n",
    "\n",
    "# Stage 2: FIRE\n",
    "opt2 = StructOptimizer(model=calc, optimizer_class=\"FIRE\", use_device=\"cuda\")\n",
    "result2 = opt2.relax(structure_1, fmax=0.05, steps=400, relax_cell=True, verbose=True)"
   ]
  },
  {
   "cell_type": "code",
   "execution_count": null,
   "id": "c976904a",
   "metadata": {},
   "outputs": [
    {
     "name": "stdout",
     "output_type": "stream",
     "text": [
      "✅ Relaxed structure saved to: /home/mehuldarak/summer/relax_final/cellrelaxed_LLZO_011_La_code71_sto__Li_100_slab_heavy.cif\n"
     ]
    },
    {
     "name": "stderr",
     "output_type": "stream",
     "text": [
      "/home/mehuldarak/anaconda3/envs/mace/lib/python3.13/site-packages/pymatgen/io/cif.py:1724: FutureWarning: We strongly discourage using implicit binary/text `mode`, and this would not be allowed after 2025-06-01. I.e. you should pass t/b in `mode`.\n",
      "  with zopen(filename, mode=mode) as file:\n"
     ]
    },
    {
     "ename": "",
     "evalue": "",
     "output_type": "error",
     "traceback": [
      "\u001b[1;31mThe Kernel crashed while executing code in the current cell or a previous cell. \n",
      "\u001b[1;31mPlease review the code in the cell(s) to identify a possible cause of the failure. \n",
      "\u001b[1;31mClick <a href='https://aka.ms/vscodeJupyterKernelCrash'>here</a> for more info. \n",
      "\u001b[1;31mView Jupyter <a href='command:jupyter.viewOutput'>log</a> for further details."
     ]
    }
   ],
   "source": [
    "# Save relaxed structure\n",
    "relaxed_structure = result[\"final_structure\"]\n",
    "relaxed_structure.to(filename=output_path)\n",
    "\n",
    "print(f\"✅ Relaxed structure saved to: {output_path}\")"
   ]
  }
 ],
 "metadata": {
  "kernelspec": {
   "display_name": "mace",
   "language": "python",
   "name": "python3"
  },
  "language_info": {
   "codemirror_mode": {
    "name": "ipython",
    "version": 3
   },
   "file_extension": ".py",
   "mimetype": "text/x-python",
   "name": "python",
   "nbconvert_exporter": "python",
   "pygments_lexer": "ipython3",
   "version": "3.13.5"
  }
 },
 "nbformat": 4,
 "nbformat_minor": 5
}
