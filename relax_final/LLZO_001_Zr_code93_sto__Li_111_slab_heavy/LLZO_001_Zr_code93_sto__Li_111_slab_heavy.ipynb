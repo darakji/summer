{
 "cells": [
  {
   "cell_type": "markdown",
   "id": "d7833af9",
   "metadata": {},
   "source": [
    "This notebook follows from the tutorials of CHGNet to relax LLZO-Li slabs that have been made in `llzo_li_balanced_sliced` directory."
   ]
  },
  {
   "cell_type": "markdown",
   "id": "3d234e1d",
   "metadata": {},
   "source": [
    "\n",
    "LLZO‖Li Interface Relaxation Notebook\n",
    "========================================\n",
    "\n",
    "Each notebook handles only one structure.\n",
    "1. Purpose: (This keeps updating)\n",
    "- Relax a single LLZO‖Li (in this notebook LLZO_001_Zr_code93_sto__Li_110_slab_heavy) heterostructure using CHGNet\n",
    "- Perform multi-stage optimization (in this notebook, CG → FIRE)\n",
    "- Freeze bulk-like regions (15 Å at both ends)\n",
    "- after all this, Relax lattice vectors to relieve interface strain\n",
    "\n",
    "2. This notebook handles:\n",
    "- Structure: LLZO_110_Li_order17_off__Li_100_slab_heavy\n",
    "- Initial lattice height: 86.02 Å\n",
    "- Number of atoms: 738\n",
    "\n",
    "3. Method:\n",
    "- CHGNet (v0.4.0) + ASE interface\n",
    "- Stage 1: SciPyFminCG (no cell relaxation) → fmax target ~0.15 eV/Å\n",
    "- Stage 2: FIRE (with optional cell relaxation) → fmax target ~0.05 eV/Å\n",
    "- FrechetCellFilter used for combined force + stress minimization\n",
    "\n",
    "4. Constraints:\n",
    "- LLZO base: frozen bottom 14.25 Å\n",
    "- Li top: frozen top 14.25 Å\n",
    "- Only interfacial region relaxed\n",
    "- Cell relaxation via `relax_cell=True` and `relax_cell_atoms=\"unconstrained\"`\n",
    "\n",
    "5. Outputs: (This will be decided later)\n",
    "- relaxed_[structure_name].cif\n",
    "- relaxed_[structure_name].traj\n",
    "- (Optional) relaxation_log.pkl with energies, forces\n",
    "\n",
    "6. Visual checks:\n",
    "- Compare pre- and post-relaxation structures\n",
    "- Ensure no Li diffusion into LLZO (via z-analysis)\n",
    "- Confirm convergence (fmax < 0.05 eV/Å)\n",
    "\n",
    "Author: Mehul Darak\n",
    "\n",
    "Date: 15-07-2025\n"
   ]
  },
  {
   "cell_type": "code",
   "execution_count": 1,
   "id": "84a088c2",
   "metadata": {},
   "outputs": [],
   "source": [
    "structure_name = \"LLZO_001_Zr_code93_sto__Li_111_slab_heavy\""
   ]
  },
  {
   "cell_type": "code",
   "execution_count": 2,
   "id": "955e570d",
   "metadata": {},
   "outputs": [
    {
     "name": "stdout",
     "output_type": "stream",
     "text": [
      "- Structure: LLZO_001_Zr_code93_sto__Li_111_slab_heavy\n",
      "- Initial lattice height: 74.67 Å\n",
      "- Number of atoms: 1044\n"
     ]
    }
   ],
   "source": [
    "from pymatgen.core import Structure\n",
    "import os\n",
    "\n",
    "# Load structure\n",
    "structure_path = (f\"/home/mehuldarak/summer/llzo_li_balanced_sliced/{structure_name}.cif\")  # replace with your file\n",
    "structure = Structure.from_file(structure_path)\n",
    "\n",
    "# Extract info\n",
    "structure_name = os.path.basename(structure_path).replace(\".cif\", \"\")\n",
    "lattice_height = structure.lattice.c\n",
    "num_atoms = len(structure)\n",
    "\n",
    "# Print output\n",
    "print(f\"- Structure: {structure_name}\")\n",
    "print(f\"- Initial lattice height: {lattice_height:.2f} Å\")\n",
    "print(f\"- Number of atoms: {num_atoms}\")\n"
   ]
  },
  {
   "cell_type": "code",
   "execution_count": 3,
   "id": "1846f174",
   "metadata": {},
   "outputs": [
    {
     "name": "stdout",
     "output_type": "stream",
     "text": [
      "Li slab thickness: 20.26 Å\n",
      "Lowest Li slab atom: 39.40 Å\n",
      "LLZO top z: 35.40 Å\n",
      "Li penetration into LLZO: -4.00 Å\n"
     ]
    }
   ],
   "source": [
    "from pymatgen.core import Structure\n",
    "import numpy as np\n",
    "\n",
    "s = Structure.from_file(f\"/home/mehuldarak/summer/llzo_li_balanced_sliced/{structure_name}.cif\")\n",
    "\n",
    "# Get all atoms\n",
    "z_coords = np.array([site.z for site in s.sites])\n",
    "species = np.array([site.species_string for site in s.sites])\n",
    "\n",
    "# Estimate LLZO top (non-Li atoms)\n",
    "llzo_z = z_coords[species != \"Li\"]\n",
    "llzo_top = llzo_z.max()\n",
    "\n",
    "# Now isolate Li slab: Li atoms ABOVE LLZO\n",
    "li_slab_z = np.array([site.z for site in s.sites if site.species_string == \"Li\" and site.z > llzo_top])\n",
    "\n",
    "print(f\"Li slab thickness: {li_slab_z.ptp():.2f} Å\")\n",
    "print(f\"Lowest Li slab atom: {li_slab_z.min():.2f} Å\")\n",
    "print(f\"LLZO top z: {llzo_top:.2f} Å\")\n",
    "print(f\"Li penetration into LLZO: {llzo_top - li_slab_z.min():.2f} Å\")\n"
   ]
  },
  {
   "cell_type": "code",
   "execution_count": 4,
   "id": "ad50b778",
   "metadata": {},
   "outputs": [
    {
     "name": "stdout",
     "output_type": "stream",
     "text": [
      "LLZO slab thickness: 20.40 Å\n",
      "Li slab thickness:   20.26 Å\n",
      "LLZO top z:          35.40 Å\n",
      "Lowest Li atom z:    39.40 Å\n",
      "Li penetration into LLZO: -4.00 Å\n"
     ]
    }
   ],
   "source": [
    "from pymatgen.core import Structure\n",
    "import numpy as np\n",
    "\n",
    "# Load structure\n",
    "structure = Structure.from_file(f\"/home/mehuldarak/summer/llzo_li_balanced_sliced/{structure_name}.cif\")\n",
    "\n",
    "# Get z-coordinates and element types\n",
    "z_coords = np.array([site.z for site in structure.sites])\n",
    "species = np.array([site.species_string for site in structure.sites])\n",
    "\n",
    "# LLZO: non-Li atoms (La, Zr, O)\n",
    "llzo_z = z_coords[species != \"Li\"]\n",
    "llzo_top = llzo_z.max()\n",
    "llzo_bottom = llzo_z.min()\n",
    "llzo_thickness = llzo_top - llzo_bottom\n",
    "\n",
    "# Li slab: Li atoms ABOVE LLZO (i.e. in metallic Li layer)\n",
    "li_slab_z = np.array([\n",
    "    site.z for site in structure.sites\n",
    "    if site.species_string == \"Li\" and site.z > llzo_top\n",
    "])\n",
    "li_thickness = li_slab_z.ptp() if len(li_slab_z) > 0 else 0\n",
    "li_bottom = li_slab_z.min() if len(li_slab_z) > 0 else None\n",
    "\n",
    "# Penetration check\n",
    "penetration = llzo_top - li_bottom if li_bottom is not None else 0\n",
    "\n",
    "# Report\n",
    "print(f\"LLZO slab thickness: {llzo_thickness:.2f} Å\")\n",
    "print(f\"Li slab thickness:   {li_thickness:.2f} Å\")\n",
    "print(f\"LLZO top z:          {llzo_top:.2f} Å\")\n",
    "print(f\"Lowest Li atom z:    {li_bottom:.2f} Å\" if li_bottom else \"No Li slab atoms found\")\n",
    "print(f\"Li penetration into LLZO: {penetration:.2f} Å\")\n"
   ]
  },
  {
   "cell_type": "code",
   "execution_count": 5,
   "id": "9df87ad4",
   "metadata": {},
   "outputs": [
    {
     "name": "stdout",
     "output_type": "stream",
     "text": [
      "Freezing 794 atoms out of 1044\n",
      "CHGNet v0.3.0 initialized with 412,525 parameters\n",
      "CHGNet will run on cuda\n"
     ]
    },
    {
     "name": "stderr",
     "output_type": "stream",
     "text": [
      "/tmp/ipykernel_158292/3870098642.py:27: FutureWarning: Please use atoms.calc = calc\n",
      "  structure.set_calculator(calc)\n"
     ]
    }
   ],
   "source": [
    "from pymatgen.io.ase import AseAtomsAdaptor\n",
    "from ase.constraints import FixAtoms\n",
    "from chgnet.model.dynamics import CHGNetCalculator, StructOptimizer\n",
    "from ase.io import read, write\n",
    "import numpy as np\n",
    "\n",
    "# --- Load structure ---\n",
    "structure = read(f\"/home/mehuldarak/summer/llzo_li_balanced_sliced/{structure_name}.cif\")\n",
    "\n",
    "# --- Get z coordinates ---\n",
    "z_coords = structure.get_positions()[:, 2]\n",
    "z_min, z_max = z_coords.min(), z_coords.max()\n",
    "\n",
    "# --- Define freeze zones ---\n",
    "freeze_thickness_llzo = 0.75 * (llzo_thickness)  # in Å\n",
    "freeze_thickness_li = 0.75 * (llzo_thickness)  # in Å\n",
    "llzo_z_threshold = z_min + freeze_thickness_llzo\n",
    "li_z_threshold = z_max - freeze_thickness_li\n",
    "\n",
    "# --- Freeze LLZO base and Li top ---\n",
    "freeze_mask = (z_coords < llzo_z_threshold) | (z_coords > li_z_threshold)\n",
    "structure.set_constraint(FixAtoms(mask=freeze_mask))\n",
    "print(f\"Freezing {np.sum(freeze_mask)} atoms out of {len(structure)}\")\n",
    "\n",
    "# --- Attach CHGNet calculator ---\n",
    "calc = CHGNetCalculator(use_device=\"cuda\")\n",
    "structure.set_calculator(calc)"
   ]
  },
  {
   "cell_type": "code",
   "execution_count": 6,
   "id": "7579efc8",
   "metadata": {},
   "outputs": [
    {
     "name": "stdout",
     "output_type": "stream",
     "text": [
      "             Step     Time          Energy          fmax\n",
      "SciPyFminCG:    0 13:26:40    -2573.896995        3.907484\n",
      "SciPyFminCG:    1 13:26:44    -2590.718265        2.847568\n",
      "SciPyFminCG:    2 13:26:49    -2613.195743        4.846782\n",
      "SciPyFminCG:    3 13:26:53    -2629.035316        5.247977\n",
      "SciPyFminCG:    4 13:26:57    -2634.100863       12.449854\n",
      "SciPyFminCG:    5 13:27:00    -2635.199547       10.334740\n",
      "SciPyFminCG:    6 13:27:04    -2637.731449        4.662235\n",
      "SciPyFminCG:    7 13:27:11    -2641.486988        5.314781\n",
      "SciPyFminCG:    8 13:27:15    -2644.745207        2.657981\n",
      "SciPyFminCG:    9 13:27:18    -2647.174061        5.886053\n",
      "SciPyFminCG:   10 13:27:20    -2647.776172        3.052321\n",
      "SciPyFminCG:   11 13:27:24    -2648.505724        1.747678\n",
      "SciPyFminCG:   12 13:27:28    -2648.913935        1.687279\n",
      "SciPyFminCG:   13 13:27:31    -2649.962339        2.363280\n",
      "SciPyFminCG:   14 13:27:37    -2650.951753        1.183486\n",
      "SciPyFminCG:   15 13:27:40    -2651.428413        2.138244\n",
      "SciPyFminCG:   16 13:27:44    -2651.831148        1.646331\n",
      "SciPyFminCG:   17 13:27:48    -2652.525355        1.019219\n",
      "SciPyFminCG:   18 13:27:51    -2652.992558        1.263064\n",
      "SciPyFminCG:   19 13:27:55    -2653.465734        1.313383\n",
      "SciPyFminCG:   20 13:27:59    -2653.954840        1.710416\n",
      "SciPyFminCG:   21 13:28:02    -2654.605488        1.241149\n",
      "SciPyFminCG:   22 13:28:06    -2655.461735        1.249596\n",
      "SciPyFminCG:   23 13:28:09    -2656.359550        1.654943\n",
      "SciPyFminCG:   24 13:28:13    -2657.680510        1.730309\n",
      "SciPyFminCG:   25 13:28:17    -2659.358156        1.587462\n",
      "SciPyFminCG:   26 13:28:20    -2660.883222        3.013660\n",
      "SciPyFminCG:   27 13:28:24    -2662.973310        2.450777\n",
      "SciPyFminCG:   28 13:28:28    -2665.522636        1.813724\n",
      "SciPyFminCG:   29 13:28:31    -2667.858398        4.096887\n",
      "SciPyFminCG:   30 13:28:35    -2670.287750        2.113264\n",
      "SciPyFminCG:   31 13:28:39    -2672.763399        1.519891\n",
      "SciPyFminCG:   32 13:28:42    -2675.124052        2.071395\n",
      "SciPyFminCG:   33 13:28:46    -2677.250731        1.560278\n",
      "SciPyFminCG:   34 13:28:50    -2679.353763        1.525040\n",
      "SciPyFminCG:   35 13:28:53    -2681.518026        1.604075\n",
      "SciPyFminCG:   36 13:28:57    -2683.238983        1.528072\n",
      "SciPyFminCG:   37 13:29:00    -2684.605245        1.293005\n",
      "SciPyFminCG:   38 13:29:04    -2685.906790        1.600896\n",
      "SciPyFminCG:   39 13:29:08    -2686.780958        1.219763\n",
      "SciPyFminCG:   40 13:29:11    -2687.775599        1.156963\n",
      "SciPyFminCG:   41 13:29:15    -2688.594509        1.374674\n",
      "SciPyFminCG:   42 13:29:19    -2689.268057        1.237502\n",
      "SciPyFminCG:   43 13:29:22    -2689.914722        1.205260\n",
      "SciPyFminCG:   44 13:29:26    -2690.483977        1.184610\n",
      "SciPyFminCG:   45 13:29:30    -2691.173704        1.190207\n",
      "SciPyFminCG:   46 13:29:33    -2691.843020        1.324203\n",
      "SciPyFminCG:   47 13:29:37    -2692.525280        1.014629\n",
      "SciPyFminCG:   48 13:29:40    -2693.093290        1.324751\n",
      "SciPyFminCG:   49 13:29:44    -2693.661301        1.210157\n",
      "SciPyFminCG:   50 13:29:48    -2694.212883        1.205077\n",
      "SciPyFminCG:   51 13:29:51    -2694.707216        0.671823\n",
      "SciPyFminCG:   52 13:29:55    -2695.215488        1.313390\n",
      "SciPyFminCG:   53 13:29:58    -2695.653070        0.878271\n",
      "SciPyFminCG:   54 13:30:02    -2696.004281        0.837127\n",
      "SciPyFminCG:   55 13:30:06    -2696.348522        0.797623\n",
      "SciPyFminCG:   56 13:30:09    -2696.798052        1.087694\n",
      "SciPyFminCG:   57 13:30:13    -2697.176642        0.769510\n",
      "SciPyFminCG:   58 13:30:17    -2697.527853        0.885065\n",
      "SciPyFminCG:   59 13:30:20    -2697.825050        0.835302\n",
      "SciPyFminCG:   60 13:30:24    -2698.097855        0.930846\n",
      "SciPyFminCG:   61 13:30:27    -2698.215837        0.891730\n",
      "SciPyFminCG:   62 13:30:31    -2698.446825        0.590630\n",
      "SciPyFminCG:   63 13:30:35    -2698.580738        0.802808\n",
      "SciPyFminCG:   64 13:30:38    -2698.714153        0.571398\n",
      "SciPyFminCG:   65 13:30:42    -2698.831638        0.630139\n",
      "SciPyFminCG:   66 13:30:47    -2698.984220        0.592009\n",
      "SciPyFminCG:   67 13:30:53    -2699.179862        0.594626\n",
      "SciPyFminCG:   68 13:30:56    -2699.327963        0.817871\n",
      "SciPyFminCG:   69 13:31:00    -2699.446941        0.530659\n",
      "SciPyFminCG:   70 13:31:03    -2699.555964        0.464797\n",
      "SciPyFminCG:   71 13:31:07    -2699.688632        0.577370\n",
      "SciPyFminCG:   72 13:31:12    -2699.776497        0.470466\n",
      "SciPyFminCG:   73 13:31:16    -2699.881039        0.501896\n",
      "SciPyFminCG:   74 13:31:20    -2699.958698        0.290723\n",
      "SciPyFminCG:   75 13:31:23    -2700.017441        0.714602\n",
      "SciPyFminCG:   76 13:31:27    -2700.073196        0.459826\n",
      "SciPyFminCG:   77 13:31:30    -2700.148616        0.381099\n",
      "SciPyFminCG:   78 13:31:34    -2700.217564        0.573262\n",
      "SciPyFminCG:   79 13:31:38    -2700.283276        0.633053\n",
      "SciPyFminCG:   80 13:31:41    -2700.381844        0.722999\n",
      "SciPyFminCG:   81 13:31:47    -2700.477425        0.681707\n",
      "SciPyFminCG:   82 13:31:52    -2700.593416        0.797029\n",
      "SciPyFminCG:   83 13:31:56    -2700.696465        0.930541\n",
      "SciPyFminCG:   84 13:31:59    -2700.800508        0.491238\n",
      "SciPyFminCG:   85 13:32:05    -2700.901068        0.430654\n",
      "SciPyFminCG:   86 13:32:08    -2700.974745        0.767069\n",
      "SciPyFminCG:   87 13:32:12    -2701.063854        0.533876\n",
      "SciPyFminCG:   88 13:32:15    -2701.148234        0.382110\n",
      "SciPyFminCG:   89 13:32:19    -2701.254519        0.793907\n",
      "SciPyFminCG:   90 13:32:23    -2701.343628        0.525014\n",
      "SciPyFminCG:   91 13:32:28    -2701.455139        0.466109\n",
      "SciPyFminCG:   92 13:32:32    -2701.524087        0.554471\n",
      "SciPyFminCG:   93 13:32:35    -2701.588554        0.528286\n",
      "SciPyFminCG:   94 13:32:39    -2701.648790        0.415676\n",
      "SciPyFminCG:   95 13:32:42    -2701.693594        0.440453\n",
      "SciPyFminCG:   96 13:32:46    -2701.738895        0.348253\n",
      "SciPyFminCG:   97 13:32:51    -2701.778970        0.417437\n",
      "SciPyFminCG:   98 13:32:55    -2701.829000        0.377912\n",
      "SciPyFminCG:   99 13:33:00    -2701.879778        0.478732\n",
      "SciPyFminCG:  100 13:33:04    -2701.936031        0.459832\n",
      "SciPyFminCG:  101 13:33:08    -2701.985315        0.762034\n",
      "SciPyFminCG:  102 13:33:11    -2702.021407        0.524282\n",
      "SciPyFminCG:  103 13:33:15    -2702.072433        0.459206\n",
      "SciPyFminCG:  104 13:33:18    -2702.127193        0.667497\n",
      "SciPyFminCG:  105 13:33:22    -2702.171499        0.570158\n",
      "SciPyFminCG:  106 13:33:27    -2702.219041        0.302282\n",
      "SciPyFminCG:  107 13:33:33    -2702.254137        0.366411\n",
      "SciPyFminCG:  108 13:33:36    -2702.288486        0.368899\n",
      "SciPyFminCG:  109 13:33:40    -2702.317360        0.402161\n",
      "SciPyFminCG:  110 13:33:42    -2702.333788        0.398136\n",
      "SciPyFminCG:  111 13:33:45    -2702.363906        0.595876\n",
      "SciPyFminCG:  112 13:33:47    -2702.372120        0.520781\n",
      "SciPyFminCG:  113 13:33:51    -2702.394771        0.238853\n",
      "SciPyFminCG:  114 13:33:56    -2702.401989        0.189479\n",
      "SciPyFminCG:  115 13:34:00    -2702.419910        0.365282\n",
      "SciPyFminCG:  116 13:34:03    -2702.447539        0.606523\n",
      "SciPyFminCG:  117 13:34:07    -2702.476164        0.273748\n",
      "SciPyFminCG:  118 13:34:11    -2702.504042        0.501115\n",
      "SciPyFminCG:  119 13:34:14    -2702.540631        0.666827\n",
      "SciPyFminCG:  120 13:34:18    -2702.590164        0.268133\n",
      "SciPyFminCG:  121 13:34:21    -2702.634221        0.497621\n",
      "SciPyFminCG:  122 13:34:25    -2702.680767        0.437079\n",
      "SciPyFminCG:  123 13:34:29    -2702.741999        0.600440\n",
      "SciPyFminCG:  124 13:34:32    -2702.805719        0.387359\n",
      "SciPyFminCG:  125 13:34:35    -2702.900305        0.737924\n",
      "SciPyFminCG:  126 13:34:39    -2702.975475        0.597149\n",
      "SciPyFminCG:  127 13:34:42    -2703.120340        0.667149\n",
      "SciPyFminCG:  128 13:34:45    -2703.191031        0.432670\n",
      "SciPyFminCG:  129 13:34:49    -2703.253258        0.373031\n",
      "SciPyFminCG:  130 13:34:54    -2703.295323        0.337557\n",
      "SciPyFminCG:  131 13:34:57    -2703.345105        0.299326\n",
      "SciPyFminCG:  132 13:35:02    -2703.384184        0.262374\n",
      "SciPyFminCG:  133 13:35:05    -2703.421271        0.285032\n",
      "SciPyFminCG:  134 13:35:09    -2703.451887        0.389802\n",
      "SciPyFminCG:  135 13:35:12    -2703.474538        0.329607\n",
      "SciPyFminCG:  136 13:35:15    -2703.514612        0.367406\n",
      "SciPyFminCG:  137 13:35:19    -2703.555931        0.348838\n",
      "SciPyFminCG:  138 13:35:22    -2703.584307        0.301110\n",
      "SciPyFminCG:  139 13:35:26    -2703.608451        0.243592\n",
      "SciPyFminCG:  140 13:35:31    -2703.628613        0.224294\n",
      "SciPyFminCG:  141 13:35:34    -2703.650517        0.199939\n",
      "SciPyFminCG:  142 13:35:37    -2703.672421        0.246759\n",
      "SciPyFminCG:  143 13:35:41    -2703.692831        0.236495\n",
      "SciPyFminCG:  144 13:35:46    -2703.714237        0.215514\n",
      "SciPyFminCG:  145 13:35:49    -2703.741617        0.447961\n",
      "SciPyFminCG:  146 13:35:52    -2703.776464        0.359687\n",
      "SciPyFminCG:  147 13:35:56    -2703.814299        0.332969\n",
      "SciPyFminCG:  148 13:36:01    -2703.842674        0.307652\n",
      "SciPyFminCG:  149 13:36:07    -2703.881255        0.515826\n",
      "SciPyFminCG:  150 13:36:12    -2703.920583        0.392555\n",
      "SciPyFminCG:  151 13:36:16    -2703.950701        0.257510\n",
      "SciPyFminCG:  152 13:36:19    -2703.984552        0.297728\n",
      "SciPyFminCG:  153 13:36:23    -2704.009194        0.249863\n",
      "SciPyFminCG:  154 13:36:27    -2704.036823        0.319743\n",
      "SciPyFminCG:  155 13:36:30    -2704.056985        0.194932\n",
      "SciPyFminCG:  156 13:36:34    -2704.078889        0.230364\n",
      "SciPyFminCG:  157 13:36:39    -2704.098553        0.242707\n",
      "SciPyFminCG:  158 13:36:43    -2704.120955        0.338937\n",
      "SciPyFminCG:  159 13:36:48    -2704.143605        0.260536\n",
      "SciPyFminCG:  160 13:36:52    -2704.172230        0.397675\n",
      "SciPyFminCG:  161 13:36:57    -2704.195876        0.392747\n",
      "SciPyFminCG:  162 13:37:02    -2704.217531        0.351883\n",
      "SciPyFminCG:  163 13:37:06    -2704.245907        0.488954\n",
      "SciPyFminCG:  164 13:37:11    -2704.264575        0.331524\n",
      "SciPyFminCG:  165 13:37:17    -2704.296684        0.265499\n",
      "SciPyFminCG:  166 13:37:20    -2704.318837        0.354210\n",
      "SciPyFminCG:  167 13:37:26    -2704.336261        0.290662\n",
      "SciPyFminCG:  168 13:37:31    -2704.365881        0.340996\n",
      "SciPyFminCG:  169 13:37:35    -2704.387536        0.233986\n",
      "SciPyFminCG:  170 13:37:40    -2704.405209        0.272224\n",
      "SciPyFminCG:  171 13:37:44    -2704.422134        0.231086\n",
      "SciPyFminCG:  172 13:37:49    -2704.438562        0.168420\n",
      "SciPyFminCG:  173 13:37:53    -2704.456484        0.309869\n",
      "SciPyFminCG:  174 13:37:56    -2704.471418        0.355281\n",
      "SciPyFminCG:  175 13:38:00    -2704.499794        0.373143\n",
      "SciPyFminCG:  176 13:38:05    -2704.520205        0.334377\n",
      "SciPyFminCG:  177 13:38:09    -2704.547833        0.373548\n",
      "SciPyFminCG:  178 13:38:14    -2704.567995        0.306999\n",
      "SciPyFminCG:  179 13:38:20    -2704.593384        0.290324\n",
      "SciPyFminCG:  180 13:38:25    -2704.616283        0.301451\n",
      "SciPyFminCG:  181 13:38:31    -2704.638685        0.281889\n",
      "SciPyFminCG:  182 13:38:34    -2704.665318        0.502568\n",
      "SciPyFminCG:  183 13:38:36    -2704.675524        0.369646\n",
      "SciPyFminCG:  184 13:38:40    -2704.702157        0.310895\n",
      "SciPyFminCG:  185 13:38:43    -2704.721821        0.434776\n",
      "SciPyFminCG:  186 13:38:47    -2704.735760        0.201456\n",
      "SciPyFminCG:  187 13:38:50    -2704.751192        0.211890\n",
      "SciPyFminCG:  188 13:38:54    -2704.763638        0.233558\n",
      "SciPyFminCG:  189 13:38:58    -2704.773843        0.179443\n",
      "SciPyFminCG:  190 13:39:01    -2704.791018        0.265693\n",
      "SciPyFminCG:  191 13:39:05    -2704.812673        0.431389\n",
      "SciPyFminCG:  192 13:39:06    -2704.827358        0.379138\n",
      "SciPyFminCG:  193 13:39:10    -2704.854738        0.381914\n",
      "SciPyFminCG:  194 13:39:15    -2704.867184        0.204230\n",
      "SciPyFminCG:  195 13:39:19    -2704.878385        0.238858\n",
      "SciPyFminCG:  196 13:39:22    -2704.891826        0.308917\n",
      "SciPyFminCG:  197 13:39:26    -2704.901533        0.208679\n",
      "SciPyFminCG:  198 13:39:31    -2704.910494        0.270535\n",
      "SciPyFminCG:  199 13:39:35    -2704.920948        0.147027\n"
     ]
    }
   ],
   "source": [
    "# Stage 1: CG\n",
    "opt1 = StructOptimizer(model=calc, optimizer_class=\"SciPyFminCG\", use_device=\"cuda\")\n",
    "result1 = opt1.relax(structure, fmax=0.15, steps=300, relax_cell=False, verbose=True)"
   ]
  },
  {
   "cell_type": "code",
   "execution_count": 7,
   "id": "9900c903",
   "metadata": {},
   "outputs": [
    {
     "name": "stderr",
     "output_type": "stream",
     "text": [
      "/tmp/ipykernel_158292/3154571052.py:3: FutureWarning: Please use atoms.calc = calc\n",
      "  structure_1.set_calculator(calc)\n"
     ]
    },
    {
     "name": "stdout",
     "output_type": "stream",
     "text": [
      "      Step     Time          Energy          fmax\n",
      "FIRE:    0 13:39:37    -2704.920699        0.147028\n",
      "FIRE:    1 13:39:39    -2704.924184        0.116145\n",
      "FIRE:    2 13:39:40    -2704.928415        0.086095\n",
      "FIRE:    3 13:39:42    -2704.929909        0.128087\n",
      "FIRE:    4 13:39:44    -2704.931900        0.125998\n",
      "FIRE:    5 13:39:46    -2704.936131        0.102992\n",
      "FIRE:    6 13:39:48    -2704.940114        0.086363\n",
      "FIRE:    7 13:39:50    -2704.944843        0.083573\n",
      "FIRE:    8 13:39:51    -2704.949821        0.132418\n",
      "FIRE:    9 13:39:53    -2704.955795        0.098697\n",
      "FIRE:   10 13:39:55    -2704.962516        0.100816\n",
      "FIRE:   11 13:39:57    -2704.969236        0.092263\n",
      "FIRE:   12 13:39:58    -2704.978944        0.121644\n",
      "FIRE:   13 13:40:00    -2704.990394        0.147275\n",
      "FIRE:   14 13:40:02    -2705.004581        0.244054\n",
      "FIRE:   15 13:40:04    -2705.023250        0.274855\n",
      "FIRE:   16 13:40:06    -2705.049883        0.441872\n",
      "FIRE:   17 13:40:07    -2705.049385        0.892451\n",
      "FIRE:   18 13:40:09    -2705.099167        0.340264\n",
      "FIRE:   19 13:40:11    -2705.075769        1.177228\n",
      "FIRE:   20 13:40:13    -2705.095433        0.896043\n",
      "FIRE:   21 13:40:15    -2705.116093        0.332185\n",
      "FIRE:   22 13:40:17    -2705.118084        0.435232\n",
      "FIRE:   23 13:40:18    -2705.119080        0.413006\n",
      "FIRE:   24 13:40:20    -2705.121320        0.365089\n",
      "FIRE:   25 13:40:22    -2705.122315        0.319728\n",
      "FIRE:   26 13:40:24    -2705.125551        0.319048\n",
      "FIRE:   27 13:40:25    -2705.128040        0.330625\n",
      "FIRE:   28 13:40:27    -2705.131276        0.343268\n",
      "FIRE:   29 13:40:29    -2705.133267        0.351842\n",
      "FIRE:   30 13:40:31    -2705.137250        0.365182\n",
      "FIRE:   31 13:40:33    -2705.142477        0.409511\n",
      "FIRE:   32 13:40:35    -2705.148700        0.425033\n",
      "FIRE:   33 13:40:36    -2705.158407        0.444164\n",
      "FIRE:   34 13:40:38    -2705.168364        0.429005\n",
      "FIRE:   35 13:40:40    -2705.181307        0.426338\n",
      "FIRE:   36 13:40:42    -2705.195495        0.402764\n",
      "FIRE:   37 13:40:43    -2705.213167        0.300744\n",
      "FIRE:   38 13:40:45    -2705.230840        0.239305\n",
      "FIRE:   39 13:40:47    -2705.248014        0.248693\n",
      "FIRE:   40 13:40:49    -2705.266683        0.241416\n",
      "FIRE:   41 13:40:51    -2705.286346        0.261542\n",
      "FIRE:   42 13:40:53    -2705.305264        0.220912\n",
      "FIRE:   43 13:40:54    -2705.318705        0.355517\n",
      "FIRE:   44 13:40:56    -2705.329159        0.423575\n",
      "FIRE:   45 13:40:58    -2705.343844        0.364389\n",
      "FIRE:   46 13:41:00    -2705.349569        0.416220\n",
      "FIRE:   47 13:41:02    -2705.353054        0.345493\n",
      "FIRE:   48 13:41:03    -2705.358281        0.240781\n",
      "FIRE:   49 13:41:05    -2705.363010        0.148445\n",
      "FIRE:   50 13:41:07    -2705.365997        0.261974\n",
      "FIRE:   51 13:41:09    -2705.369980        0.240635\n",
      "FIRE:   52 13:41:11    -2705.372469        0.149537\n",
      "FIRE:   53 13:41:13    -2705.375207        0.107568\n",
      "FIRE:   54 13:41:14    -2705.376949        0.122061\n",
      "FIRE:   55 13:41:16    -2705.379189        0.121193\n",
      "FIRE:   56 13:41:18    -2705.383421        0.135792\n",
      "FIRE:   57 13:41:20    -2705.386657        0.122037\n",
      "FIRE:   58 13:41:21    -2705.389893        0.134661\n",
      "FIRE:   59 13:41:23    -2705.391884        0.131226\n",
      "FIRE:   60 13:41:25    -2705.396364        0.138784\n",
      "FIRE:   61 13:41:27    -2705.399351        0.118903\n",
      "FIRE:   62 13:41:29    -2705.401840        0.132268\n",
      "FIRE:   63 13:41:30    -2705.403334        0.093019\n",
      "FIRE:   64 13:41:32    -2705.403831        0.072171\n",
      "FIRE:   65 13:41:34    -2705.405823        0.107037\n",
      "FIRE:   66 13:41:36    -2705.406818        0.078363\n",
      "FIRE:   67 13:41:38    -2705.408063        0.087870\n",
      "FIRE:   68 13:41:40    -2705.408312        0.083464\n",
      "FIRE:   69 13:41:41    -2705.409556        0.059364\n",
      "FIRE:   70 13:41:43    -2705.410801        0.076521\n",
      "FIRE:   71 13:41:45    -2705.411797        0.066750\n",
      "FIRE:   72 13:41:47    -2705.414286        0.057622\n",
      "FIRE:   73 13:41:49    -2705.416277        0.073000\n",
      "FIRE:   74 13:41:50    -2705.417521        0.064491\n",
      "FIRE:   75 13:41:52    -2705.421255        0.060464\n",
      "FIRE:   76 13:41:54    -2705.424740        0.060445\n",
      "FIRE:   77 13:41:56    -2705.429469        0.092287\n",
      "FIRE:   78 13:41:58    -2705.434198        0.268123\n",
      "FIRE:   79 13:41:59    -2705.432705        0.522375\n",
      "FIRE:   80 13:42:01    -2705.442910        0.188430\n",
      "FIRE:   81 13:42:03    -2705.438181        0.495182\n",
      "FIRE:   82 13:42:05    -2705.441168        0.371221\n",
      "FIRE:   83 13:42:07    -2705.444653        0.174552\n",
      "FIRE:   84 13:42:08    -2705.445648        0.132081\n",
      "FIRE:   85 13:42:10    -2705.445648        0.125768\n",
      "FIRE:   86 13:42:12    -2705.446146        0.112826\n",
      "FIRE:   87 13:42:14    -2705.446146        0.092678\n",
      "FIRE:   88 13:42:16    -2705.446146        0.065211\n",
      "FIRE:   89 13:42:17    -2705.446146        0.055204\n",
      "FIRE:   90 13:42:19    -2705.446395        0.054080\n",
      "FIRE:   91 13:42:21    -2705.446644        0.053223\n",
      "FIRE:   92 13:42:23    -2705.447142        0.072690\n",
      "FIRE:   93 13:42:25    -2705.448137        0.090216\n",
      "FIRE:   94 13:42:27    -2705.447639        0.087735\n",
      "FIRE:   95 13:42:28    -2705.448884        0.062147\n",
      "FIRE:   96 13:42:30    -2705.449133        0.049578\n"
     ]
    }
   ],
   "source": [
    "# Convert back, assign calculator + constraint\n",
    "structure_1 = AseAtomsAdaptor.get_atoms(result1[\"final_structure\"])\n",
    "structure_1.set_calculator(calc)\n",
    "structure_1.set_constraint(FixAtoms(mask=freeze_mask))\n",
    "\n",
    "# Stage 2: FIRE\n",
    "opt2 = StructOptimizer(model=calc, optimizer_class=\"FIRE\", use_device=\"cuda\")\n",
    "result2 = opt2.relax(structure_1, fmax=0.05, steps=400, relax_cell=False, verbose=True)"
   ]
  },
  {
   "cell_type": "code",
   "execution_count": 8,
   "id": "02e25f8e",
   "metadata": {},
   "outputs": [
    {
     "name": "stdout",
     "output_type": "stream",
     "text": [
      "✅ Final structure saved successfully.\n"
     ]
    }
   ],
   "source": [
    "from pymatgen.io.ase import AseAtomsAdaptor\n",
    "from ase.io import write\n",
    "\n",
    "# Extract final structure from result3 (FIRE)\n",
    "final_structure_pmg = result2[\"final_structure\"]  # assuming result2 = FIRE\n",
    "final_structure_ase = AseAtomsAdaptor.get_atoms(final_structure_pmg)\n",
    "\n",
    "# Save as CIF and ASE trajectory\n",
    "write(f\"relaxed_{structure_name}.cif\", final_structure_ase)\n",
    "write(f\"relaxed_{structure_name}.traj\", final_structure_ase)\n",
    "\n",
    "print(\"✅ Final structure saved successfully.\")"
   ]
  },
  {
   "cell_type": "code",
   "execution_count": 9,
   "id": "179da561",
   "metadata": {},
   "outputs": [
    {
     "name": "stdout",
     "output_type": "stream",
     "text": [
      "Li slab thickness: 24.60 Å\n",
      "Lowest Li slab atom: 35.07 Å\n",
      "LLZO top z: 34.90 Å\n",
      "Li penetration into LLZO: -0.16 Å\n"
     ]
    }
   ],
   "source": [
    "from pymatgen.core import Structure\n",
    "import numpy as np\n",
    "\n",
    "s = Structure.from_file(f\"/home/mehuldarak/summer/relax_final/{structure_name}/relaxed_{structure_name}.cif\")\n",
    "# Get all atoms\n",
    "z_coords = np.array([site.z for site in s.sites])\n",
    "species = np.array([site.species_string for site in s.sites])\n",
    "\n",
    "# Estimate LLZO top (non-Li atoms)\n",
    "llzo_z = z_coords[species != \"Li\"]\n",
    "llzo_top = llzo_z.max()\n",
    "\n",
    "# Now isolate Li slab: Li atoms ABOVE LLZO\n",
    "li_slab_z = np.array([site.z for site in s.sites if site.species_string == \"Li\" and site.z > llzo_top])\n",
    "\n",
    "print(f\"Li slab thickness: {li_slab_z.ptp():.2f} Å\")\n",
    "print(f\"Lowest Li slab atom: {li_slab_z.min():.2f} Å\")\n",
    "print(f\"LLZO top z: {llzo_top:.2f} Å\")\n",
    "print(f\"Li penetration into LLZO: {llzo_top - li_slab_z.min():.2f} Å\")\n"
   ]
  },
  {
   "cell_type": "code",
   "execution_count": 10,
   "id": "5d3853c1",
   "metadata": {},
   "outputs": [
    {
     "name": "stdout",
     "output_type": "stream",
     "text": [
      "             Step     Time          Energy          fmax\n",
      "SciPyFminCG:    0 13:42:33    -2705.449382        3.865400\n",
      "SciPyFminCG:    1 13:42:38    -2730.148124        5.031102\n",
      "SciPyFminCG:    2 13:42:42    -2759.325485        5.310499\n",
      "SciPyFminCG:    3 13:42:45    -2788.753000        5.810030\n",
      "SciPyFminCG:    4 13:42:49    -2814.216391        3.796720\n",
      "SciPyFminCG:    5 13:42:52    -2837.162813        3.813039\n",
      "SciPyFminCG:    6 13:42:55    -2855.301807        3.149445\n",
      "SciPyFminCG:    7 13:42:59    -2865.304962        3.737618\n",
      "SciPyFminCG:    8 13:43:02    -2874.230839        4.510073\n",
      "SciPyFminCG:    9 13:43:05    -2884.193172        3.927371\n",
      "SciPyFminCG:   10 13:43:08    -2895.982000        1.848064\n",
      "SciPyFminCG:   11 13:43:12    -2903.225501        1.675083\n",
      "SciPyFminCG:   12 13:43:15    -2907.693169        2.077600\n",
      "SciPyFminCG:   13 13:43:18    -2913.053175        1.497651\n",
      "SciPyFminCG:   14 13:43:21    -2916.867456        1.798843\n",
      "SciPyFminCG:   15 13:43:25    -2920.655105        1.562932\n",
      "SciPyFminCG:   16 13:43:28    -2924.313818        1.447012\n",
      "SciPyFminCG:   17 13:43:31    -2927.014729        1.338253\n",
      "SciPyFminCG:   18 13:43:34    -2929.645449        1.246893\n",
      "SciPyFminCG:   19 13:43:38    -2932.944986        1.420934\n",
      "SciPyFminCG:   20 13:43:41    -2936.812783        1.901939\n",
      "SciPyFminCG:   21 13:43:44    -2939.670010        1.958261\n",
      "SciPyFminCG:   22 13:43:47    -2943.082801        1.346671\n",
      "SciPyFminCG:   23 13:43:50    -2945.693110        1.196593\n",
      "SciPyFminCG:   24 13:43:54    -2947.766521        1.052694\n",
      "SciPyFminCG:   25 13:43:56    -2949.296316        0.826109\n",
      "SciPyFminCG:   26 13:44:00    -2950.791264        0.900099\n",
      "SciPyFminCG:   27 13:44:03    -2952.144831        0.996241\n",
      "SciPyFminCG:   28 13:44:06    -2953.465542        0.870736\n",
      "SciPyFminCG:   29 13:44:09    -2954.896520        0.879816\n",
      "SciPyFminCG:   30 13:44:12    -2956.330235        1.081428\n",
      "SciPyFminCG:   31 13:44:16    -2957.674095        1.185016\n",
      "SciPyFminCG:   32 13:44:18    -2959.187960        1.322926\n",
      "SciPyFminCG:   33 13:44:22    -2960.644326        0.915991\n",
      "SciPyFminCG:   34 13:44:25    -2961.940893        0.829523\n",
      "SciPyFminCG:   35 13:44:28    -2963.306906        1.015076\n",
      "SciPyFminCG:   36 13:44:31    -2964.728176        0.909296\n",
      "SciPyFminCG:   37 13:44:34    -2965.879131        1.340365\n",
      "SciPyFminCG:   38 13:44:37    -2967.292437        0.910235\n",
      "SciPyFminCG:   39 13:44:41    -2968.447872        1.106607\n",
      "SciPyFminCG:   40 13:44:44    -2969.597832        1.269250\n",
      "SciPyFminCG:   41 13:44:47    -2970.644494        0.941576\n",
      "SciPyFminCG:   42 13:44:50    -2971.597318        1.305428\n",
      "SciPyFminCG:   43 13:44:53    -2972.564329        0.878064\n",
      "SciPyFminCG:   44 13:44:57    -2973.415100        0.836218\n",
      "SciPyFminCG:   45 13:44:59    -2974.219325        1.093119\n",
      "SciPyFminCG:   46 13:45:03    -2974.817951        0.902072\n",
      "SciPyFminCG:   47 13:45:06    -2975.426783        0.691670\n",
      "SciPyFminCG:   48 13:45:09    -2976.035863        0.713319\n",
      "SciPyFminCG:   49 13:45:13    -2976.593917        0.860932\n",
      "SciPyFminCG:   50 13:45:15    -2977.190552        0.824700\n",
      "SciPyFminCG:   51 13:45:19    -2977.843440        0.860371\n",
      "SciPyFminCG:   52 13:45:22    -2978.686495        0.862141\n",
      "SciPyFminCG:   53 13:45:25    -2979.886236        1.158082\n",
      "SciPyFminCG:   54 13:45:29    -2981.506634        1.311966\n",
      "SciPyFminCG:   55 13:45:32    -2983.710972        1.226018\n",
      "SciPyFminCG:   56 13:45:35    -2986.086808        1.534391\n",
      "SciPyFminCG:   57 13:45:38    -2988.970419        1.413399\n",
      "SciPyFminCG:   58 13:45:41    -2991.594915        1.311478\n",
      "SciPyFminCG:   59 13:45:45    -2994.076289        1.160788\n",
      "SciPyFminCG:   60 13:45:48    -2996.064823        1.184708\n",
      "SciPyFminCG:   61 13:45:50    -2997.908990        1.266491\n",
      "SciPyFminCG:   62 13:45:54    -2999.493545        1.063937\n",
      "SciPyFminCG:   63 13:45:57    -3000.924522        0.993729\n",
      "SciPyFminCG:   64 13:46:00    -3002.213373        1.237655\n",
      "SciPyFminCG:   65 13:46:03    -3003.632403        1.147672\n",
      "SciPyFminCG:   66 13:46:06    -3004.879935        1.035494\n",
      "SciPyFminCG:   67 13:46:09    -3005.986087        1.227424\n",
      "SciPyFminCG:   68 13:46:13    -3006.961561        1.298932\n",
      "SciPyFminCG:   69 13:46:16    -3007.896961        0.987155\n",
      "SciPyFminCG:   70 13:46:19    -3008.787558        0.934466\n",
      "SciPyFminCG:   71 13:46:22    -3009.717979        1.274015\n",
      "SciPyFminCG:   72 13:46:25    -3010.555309        0.955806\n",
      "SciPyFminCG:   73 13:46:28    -3011.404338        0.936326\n",
      "SciPyFminCG:   74 13:46:32    -3012.143349        0.801527\n",
      "SciPyFminCG:   75 13:46:35    -3012.842534        1.116192\n",
      "SciPyFminCG:   76 13:46:38    -3013.500898        0.775577\n",
      "SciPyFminCG:   77 13:46:41    -3014.215018        1.084934\n",
      "SciPyFminCG:   78 13:46:44    -3014.931627        1.205260\n",
      "SciPyFminCG:   79 13:46:47    -3015.654210        1.405013\n",
      "SciPyFminCG:   80 13:46:51    -3016.345181        0.925692\n",
      "SciPyFminCG:   81 13:46:53    -3017.013004        1.293465\n",
      "SciPyFminCG:   82 13:46:56    -3017.683565        0.914472\n",
      "SciPyFminCG:   83 13:47:00    -3018.294637        0.849416\n",
      "SciPyFminCG:   84 13:47:03    -3018.957481        1.181492\n",
      "SciPyFminCG:   85 13:47:06    -3019.616343        0.862575\n",
      "SciPyFminCG:   86 13:47:09    -3020.282175        1.015869\n",
      "SciPyFminCG:   87 13:47:12    -3020.950247        1.203592\n",
      "SciPyFminCG:   88 13:47:15    -3021.575008        1.195754\n",
      "SciPyFminCG:   89 13:47:18    -3022.161936        0.786541\n",
      "SciPyFminCG:   90 13:47:22    -3022.759317        0.864525\n",
      "SciPyFminCG:   91 13:47:24    -3023.361179        0.994440\n",
      "SciPyFminCG:   92 13:47:28    -3023.955823        1.049091\n",
      "SciPyFminCG:   93 13:47:31    -3024.644803        0.827439\n",
      "SciPyFminCG:   94 13:47:34    -3025.232726        0.883742\n",
      "SciPyFminCG:   95 13:47:37    -3025.914737        0.907400\n",
      "SciPyFminCG:   96 13:47:40    -3026.652503        1.087543\n",
      "SciPyFminCG:   97 13:47:43    -3027.342230        0.863105\n",
      "SciPyFminCG:   98 13:47:46    -3028.068297        1.250664\n",
      "SciPyFminCG:   99 13:47:50    -3028.806561        1.184858\n",
      "SciPyFminCG:  100 13:47:52    -3029.629704        1.103694\n",
      "SciPyFminCG:  101 13:47:56    -3030.445129        0.770967\n",
      "SciPyFminCG:  102 13:47:59    -3031.227201        0.928652\n",
      "SciPyFminCG:  103 13:48:02    -3031.973431        1.493693\n",
      "SciPyFminCG:  104 13:48:05    -3032.672367        0.880623\n",
      "SciPyFminCG:  105 13:48:08    -3033.510444        1.310420\n",
      "SciPyFminCG:  106 13:48:11    -3034.305210        1.200471\n",
      "SciPyFminCG:  107 13:48:14    -3035.017090        0.854698\n",
      "SciPyFminCG:  108 13:48:17    -3035.647825        0.965339\n",
      "SciPyFminCG:  109 13:48:20    -3036.063503        1.557127\n",
      "SciPyFminCG:  110 13:48:23    -3036.355722        1.151196\n",
      "SciPyFminCG:  111 13:48:26    -3036.764431        1.254838\n",
      "SciPyFminCG:  112 13:48:29    -3037.024790        0.685486\n",
      "SciPyFminCG:  113 13:48:32    -3037.242336        0.738915\n",
      "SciPyFminCG:  114 13:48:35    -3037.467848        0.639637\n",
      "SciPyFminCG:  115 13:48:38    -3037.691368        0.676763\n",
      "SciPyFminCG:  116 13:48:42    -3037.897714        0.816617\n",
      "SciPyFminCG:  117 13:48:44    -3038.158570        0.733377\n",
      "SciPyFminCG:  118 13:48:48    -3038.465475        0.960915\n",
      "SciPyFminCG:  119 13:48:51    -3038.832367        0.829967\n",
      "SciPyFminCG:  120 13:48:54    -3039.270447        0.769743\n",
      "SciPyFminCG:  121 13:48:57    -3039.641819        0.826857\n",
      "SciPyFminCG:  122 13:49:00    -3039.993776        0.926314\n",
      "SciPyFminCG:  123 13:49:03    -3040.287240        0.903005\n",
      "SciPyFminCG:  124 13:49:06    -3040.537394        0.752983\n",
      "SciPyFminCG:  125 13:49:09    -3040.790285        0.858529\n",
      "SciPyFminCG:  126 13:49:12    -3041.038198        0.884597\n",
      "SciPyFminCG:  127 13:49:14    -3041.159666        0.884066\n",
      "SciPyFminCG:  128 13:49:17    -3041.417038        0.683829\n",
      "SciPyFminCG:  129 13:49:20    -3041.584305        0.483766\n",
      "SciPyFminCG:  130 13:49:23    -3041.709008        0.451211\n",
      "SciPyFminCG:  131 13:49:26    -3041.840432        0.651312\n",
      "SciPyFminCG:  132 13:49:29    -3041.983057        0.495056\n",
      "SciPyFminCG:  133 13:49:32    -3042.116970        0.483669\n",
      "SciPyFminCG:  134 13:49:35    -3042.220267        0.499613\n",
      "SciPyFminCG:  135 13:49:38    -3042.334517        0.561202\n",
      "SciPyFminCG:  136 13:49:42    -3042.456482        0.493424\n",
      "SciPyFminCG:  137 13:49:45    -3042.585915        0.633644\n",
      "SciPyFminCG:  138 13:49:48    -3042.707631        0.532950\n",
      "SciPyFminCG:  139 13:49:52    -3042.834077        0.626803\n",
      "SciPyFminCG:  140 13:49:56    -3042.988649        0.849916\n",
      "SciPyFminCG:  141 13:49:59    -3043.161641        0.445911\n",
      "SciPyFminCG:  142 13:50:02    -3043.381926        0.889634\n",
      "SciPyFminCG:  143 13:50:05    -3043.680616        0.763113\n",
      "SciPyFminCG:  144 13:50:08    -3044.029587        0.812043\n",
      "SciPyFminCG:  145 13:50:11    -3044.462688        0.874743\n",
      "SciPyFminCG:  146 13:50:14    -3044.969467        0.725486\n",
      "SciPyFminCG:  147 13:50:17    -3045.391866        0.627052\n",
      "SciPyFminCG:  148 13:50:20    -3045.758011        0.886302\n",
      "SciPyFminCG:  149 13:50:23    -3046.081344        0.782782\n",
      "SciPyFminCG:  150 13:50:26    -3046.319052        0.627570\n",
      "SciPyFminCG:  151 13:50:29    -3046.706354        1.073012\n",
      "SciPyFminCG:  152 13:50:32    -3047.120788        0.807369\n",
      "SciPyFminCG:  153 13:50:35    -3047.470505        0.753862\n",
      "SciPyFminCG:  154 13:50:38    -3047.834908        0.877346\n",
      "SciPyFminCG:  155 13:50:41    -3048.099996        0.689289\n",
      "SciPyFminCG:  156 13:50:44    -3048.316795        0.870892\n",
      "SciPyFminCG:  157 13:50:47    -3048.532351        0.798675\n",
      "SciPyFminCG:  158 13:50:50    -3048.792709        0.713697\n",
      "SciPyFminCG:  159 13:50:53    -3049.044854        0.613323\n",
      "SciPyFminCG:  160 13:50:55    -3049.367440        0.974165\n",
      "SciPyFminCG:  161 13:50:59    -3049.779634        0.573352\n",
      "SciPyFminCG:  162 13:51:02    -3050.294128        0.741918\n",
      "SciPyFminCG:  163 13:51:04    -3050.743907        0.875265\n",
      "SciPyFminCG:  164 13:51:07    -3051.143406        0.646050\n",
      "SciPyFminCG:  165 13:51:10    -3051.536433        0.638348\n",
      "SciPyFminCG:  166 13:51:13    -3051.918260        0.833806\n",
      "SciPyFminCG:  167 13:51:16    -3052.308051        0.780312\n",
      "SciPyFminCG:  168 13:51:19    -3052.682659        0.534357\n",
      "SciPyFminCG:  169 13:51:22    -3053.032376        0.728550\n",
      "SciPyFminCG:  170 13:51:25    -3053.458011        0.719099\n",
      "SciPyFminCG:  171 13:51:28    -3053.847055        0.628713\n",
      "SciPyFminCG:  172 13:51:31    -3054.150724        0.889204\n",
      "SciPyFminCG:  173 13:51:34    -3054.460865        0.689649\n",
      "SciPyFminCG:  174 13:51:37    -3054.839207        1.031022\n",
      "SciPyFminCG:  175 13:51:40    -3055.188177        0.669755\n",
      "SciPyFminCG:  176 13:51:43    -3055.671061        0.840530\n",
      "SciPyFminCG:  177 13:51:46    -3056.092215        0.886713\n",
      "SciPyFminCG:  178 13:51:49    -3056.464334        0.926986\n",
      "SciPyFminCG:  179 13:51:52    -3056.867317        0.642070\n",
      "SciPyFminCG:  180 13:51:55    -3057.269305        0.969840\n",
      "SciPyFminCG:  181 13:51:58    -3057.611057        1.079033\n",
      "SciPyFminCG:  182 13:52:01    -3058.063076        0.682226\n",
      "SciPyFminCG:  183 13:52:04    -3058.565623        0.945665\n",
      "SciPyFminCG:  184 13:52:07    -3059.147821        1.030901\n",
      "SciPyFminCG:  185 13:52:10    -3059.764618        0.961111\n",
      "SciPyFminCG:  186 13:52:13    -3060.287576        0.744483\n",
      "SciPyFminCG:  187 13:52:16    -3060.755774        0.733573\n",
      "SciPyFminCG:  188 13:52:18    -3061.205801        0.825933\n",
      "SciPyFminCG:  189 13:52:21    -3061.658318        0.742978\n",
      "SciPyFminCG:  190 13:52:24    -3062.049851        0.586586\n",
      "SciPyFminCG:  191 13:52:27    -3062.441385        0.775224\n",
      "SciPyFminCG:  192 13:52:30    -3062.775919        0.603888\n",
      "SciPyFminCG:  193 13:52:33    -3063.105226        0.878858\n",
      "SciPyFminCG:  194 13:52:36    -3063.450711        0.574578\n",
      "SciPyFminCG:  195 13:52:39    -3063.850459        0.763591\n",
      "SciPyFminCG:  196 13:52:42    -3064.168565        0.532404\n",
      "SciPyFminCG:  197 13:52:45    -3064.478208        0.676186\n",
      "SciPyFminCG:  198 13:52:48    -3064.846095        0.772598\n",
      "SciPyFminCG:  199 13:52:50    -3065.280690        1.266790\n",
      "SciPyFminCG:  200 13:52:53    -3065.714539        0.711882\n",
      "SciPyFminCG:  201 13:52:56    -3066.193937        0.753092\n",
      "SciPyFminCG:  202 13:52:59    -3066.628532        0.716721\n",
      "SciPyFminCG:  203 13:53:02    -3067.008368        0.555311\n",
      "SciPyFminCG:  204 13:53:05    -3067.299591        0.647589\n",
      "SciPyFminCG:  205 13:53:08    -3067.631387        0.610312\n",
      "SciPyFminCG:  206 13:53:11    -3067.979113        0.892433\n",
      "SciPyFminCG:  207 13:53:14    -3068.345756        1.104926\n",
      "SciPyFminCG:  208 13:53:17    -3068.742765        0.787485\n",
      "SciPyFminCG:  209 13:53:20    -3069.161181        0.926975\n",
      "SciPyFminCG:  210 13:53:23    -3069.468335        0.895621\n",
      "SciPyFminCG:  211 13:53:25    -3069.861362        0.748010\n",
      "SciPyFminCG:  212 13:53:28    -3070.200377        0.683104\n",
      "SciPyFminCG:  213 13:53:33    -3070.566024        0.869647\n",
      "SciPyFminCG:  214 13:53:36    -3070.901055        0.687862\n",
      "SciPyFminCG:  215 13:53:39    -3071.274917        0.929937\n",
      "SciPyFminCG:  216 13:53:41    -3071.599743        0.701082\n",
      "SciPyFminCG:  217 13:53:44    -3071.955932        0.889877\n",
      "SciPyFminCG:  218 13:53:47    -3072.257609        0.781524\n",
      "SciPyFminCG:  219 13:53:50    -3072.550575        0.638829\n",
      "SciPyFminCG:  220 13:53:53    -3072.778078        0.667144\n",
      "SciPyFminCG:  221 13:53:56    -3072.973223        0.582759\n",
      "SciPyFminCG:  222 13:53:59    -3073.181311        0.477931\n",
      "SciPyFminCG:  223 13:54:02    -3073.415783        0.631967\n",
      "SciPyFminCG:  224 13:54:05    -3073.642290        0.658595\n",
      "SciPyFminCG:  225 13:54:08    -3073.881492        0.590533\n",
      "SciPyFminCG:  226 13:54:11    -3074.160270        0.839977\n",
      "SciPyFminCG:  227 13:54:13    -3074.384786        0.560843\n",
      "SciPyFminCG:  228 13:54:16    -3074.692686        0.679990\n",
      "SciPyFminCG:  229 13:54:19    -3074.938110        0.505558\n",
      "SciPyFminCG:  230 13:54:22    -3075.168600        0.444597\n",
      "SciPyFminCG:  231 13:54:27    -3075.382413        0.659969\n",
      "SciPyFminCG:  232 13:54:31    -3075.640034        0.977440\n",
      "SciPyFminCG:  233 13:54:35    -3075.969838        0.822963\n",
      "SciPyFminCG:  234 13:54:38    -3076.270271        0.636679\n",
      "SciPyFminCG:  235 13:54:41    -3076.515447        0.644617\n",
      "SciPyFminCG:  236 13:54:45    -3076.748177        0.772462\n",
      "SciPyFminCG:  237 13:54:48    -3077.001566        0.599031\n",
      "SciPyFminCG:  238 13:54:51    -3077.285571        0.620274\n",
      "SciPyFminCG:  239 13:54:54    -3077.590485        1.058683\n",
      "SciPyFminCG:  240 13:54:57    -3077.975298        0.728649\n",
      "SciPyFminCG:  241 13:54:59    -3078.394212        0.654724\n",
      "SciPyFminCG:  242 13:55:02    -3078.783754        0.622538\n",
      "SciPyFminCG:  243 13:55:05    -3079.126004        0.867107\n",
      "SciPyFminCG:  244 13:55:08    -3079.480451        0.725788\n",
      "SciPyFminCG:  245 13:55:11    -3079.815233        0.641589\n",
      "SciPyFminCG:  246 13:55:13    -3080.111684        0.879940\n",
      "SciPyFminCG:  247 13:55:16    -3080.412615        0.872255\n",
      "SciPyFminCG:  248 13:55:19    -3080.685917        1.180423\n",
      "SciPyFminCG:  249 13:55:20    -3080.835511        1.153560\n",
      "SciPyFminCG:  250 13:55:23    -3081.271102        1.003370\n",
      "SciPyFminCG:  251 13:55:26    -3081.584478        0.626199\n",
      "SciPyFminCG:  252 13:55:29    -3081.921003        0.662207\n",
      "SciPyFminCG:  253 13:55:32    -3082.212227        0.922402\n",
      "SciPyFminCG:  254 13:55:35    -3082.521123        0.966454\n",
      "SciPyFminCG:  255 13:55:38    -3082.917137        0.626831\n",
      "SciPyFminCG:  256 13:55:41    -3083.264116        0.714491\n",
      "SciPyFminCG:  257 13:55:43    -3083.603877        0.596689\n",
      "SciPyFminCG:  258 13:55:46    -3083.874939        0.780268\n",
      "SciPyFminCG:  259 13:55:49    -3084.127333        0.647077\n",
      "SciPyFminCG:  260 13:55:52    -3084.374748        0.972613\n",
      "SciPyFminCG:  261 13:55:55    -3084.556950        0.742588\n",
      "SciPyFminCG:  262 13:55:57    -3084.876549        0.672898\n",
      "SciPyFminCG:  263 13:56:00    -3085.138899        0.606721\n",
      "SciPyFminCG:  264 13:56:03    -3085.356694        0.454306\n",
      "SciPyFminCG:  265 13:56:06    -3085.533171        0.470351\n",
      "SciPyFminCG:  266 13:56:09    -3085.701433        0.408778\n",
      "SciPyFminCG:  267 13:56:11    -3085.883137        0.568595\n",
      "SciPyFminCG:  268 13:56:14    -3086.064342        0.477835\n",
      "SciPyFminCG:  269 13:56:17    -3086.309269        0.613344\n",
      "SciPyFminCG:  270 13:56:19    -3086.515615        0.411698\n",
      "SciPyFminCG:  271 13:56:22    -3086.721960        0.545873\n",
      "SciPyFminCG:  272 13:56:26    -3086.924074        0.504742\n",
      "SciPyFminCG:  273 13:56:29    -3087.166512        0.455405\n",
      "SciPyFminCG:  274 13:56:32    -3087.389285        0.525937\n",
      "SciPyFminCG:  275 13:56:35    -3087.631971        0.509761\n",
      "SciPyFminCG:  276 13:56:37    -3087.881627        0.704061\n",
      "SciPyFminCG:  277 13:56:40    -3088.128296        0.797174\n",
      "SciPyFminCG:  278 13:56:43    -3088.573843        0.734434\n",
      "SciPyFminCG:  279 13:56:46    -3088.930281        0.842728\n",
      "SciPyFminCG:  280 13:56:49    -3089.320072        0.654427\n",
      "SciPyFminCG:  281 13:56:51    -3089.700903        0.659509\n",
      "SciPyFminCG:  282 13:56:54    -3090.060576        0.687322\n",
      "SciPyFminCG:  283 13:56:57    -3090.444643        0.753511\n",
      "SciPyFminCG:  284 13:57:00    -3090.826221        0.585288\n",
      "SciPyFminCG:  285 13:57:03    -3091.158514        0.613550\n",
      "SciPyFminCG:  286 13:57:05    -3091.419620        0.681282\n",
      "SciPyFminCG:  287 13:57:08    -3091.674751        0.533788\n",
      "SciPyFminCG:  288 13:57:11    -3091.921171        0.635252\n",
      "SciPyFminCG:  289 13:57:14    -3092.177796        0.905006\n",
      "SciPyFminCG:  290 13:57:17    -3092.448360        0.595364\n",
      "SciPyFminCG:  291 13:57:21    -3092.710213        0.604713\n",
      "SciPyFminCG:  292 13:57:24    -3092.925519        1.023040\n",
      "SciPyFminCG:  293 13:57:26    -3093.094279        0.513580\n",
      "SciPyFminCG:  294 13:57:29    -3093.370319        0.832730\n",
      "SciPyFminCG:  295 13:57:32    -3093.684443        0.875847\n",
      "SciPyFminCG:  296 13:57:35    -3094.015243        0.720027\n",
      "SciPyFminCG:  297 13:57:37    -3094.345047        0.582255\n",
      "SciPyFminCG:  298 13:57:40    -3094.535213        0.618683\n",
      "SciPyFminCG:  299 13:57:43    -3094.742555        0.908854\n",
      "SciPyFminCG:  300 13:57:46    -3094.996442        0.762179\n",
      "SciPyFminCG:  301 13:57:49    -3095.180634        0.619620\n",
      "SciPyFminCG:  302 13:57:51    -3095.550264        0.704405\n",
      "SciPyFminCG:  303 13:57:54    -3095.859160        0.766892\n",
      "SciPyFminCG:  304 13:57:58    -3096.091641        0.618042\n",
      "SciPyFminCG:  305 13:58:01    -3096.291515        0.648113\n",
      "SciPyFminCG:  306 13:58:04    -3096.451315        0.531839\n",
      "SciPyFminCG:  307 13:58:08    -3096.587219        0.462969\n",
      "SciPyFminCG:  308 13:58:11    -3096.738307        0.404250\n",
      "SciPyFminCG:  309 13:58:13    -3096.901840        0.661190\n",
      "SciPyFminCG:  310 13:58:16    -3097.062387        0.588400\n",
      "SciPyFminCG:  311 13:58:19    -3097.378252        0.824700\n",
      "SciPyFminCG:  312 13:58:22    -3097.661013        0.694088\n",
      "SciPyFminCG:  313 13:58:25    -3097.926599        0.624493\n",
      "SciPyFminCG:  314 13:58:27    -3098.208861        0.982697\n",
      "SciPyFminCG:  315 13:58:30    -3098.481417        0.735386\n",
      "SciPyFminCG:  316 13:58:33    -3098.836859        0.920948\n",
      "SciPyFminCG:  317 13:58:36    -3099.155462        0.654101\n",
      "SciPyFminCG:  318 13:58:39    -3099.440961        0.812478\n",
      "SciPyFminCG:  319 13:58:41    -3099.683896        0.567508\n",
      "SciPyFminCG:  320 13:58:44    -3099.909408        0.549573\n",
      "SciPyFminCG:  321 13:58:47    -3100.109779        1.093735\n",
      "SciPyFminCG:  322 13:58:50    -3100.255391        0.688997\n",
      "SciPyFminCG:  323 13:58:53    -3100.510025        0.624343\n",
      "SciPyFminCG:  324 13:58:55    -3100.789799        1.123111\n",
      "SciPyFminCG:  325 13:58:58    -3101.090979        0.743018\n",
      "SciPyFminCG:  326 13:59:01    -3101.462102        0.671398\n",
      "SciPyFminCG:  327 13:59:03    -3101.790413        0.646269\n",
      "SciPyFminCG:  328 13:59:06    -3102.062470        0.654591\n",
      "SciPyFminCG:  329 13:59:09    -3102.341497        0.617007\n",
      "SciPyFminCG:  330 13:59:12    -3102.674787        0.950437\n",
      "SciPyFminCG:  331 13:59:14    -3103.015792        0.819943\n",
      "SciPyFminCG:  332 13:59:17    -3103.429728        0.953050\n",
      "SciPyFminCG:  333 13:59:20    -3103.914602        1.051800\n",
      "SciPyFminCG:  334 13:59:23    -3104.434075        0.755689\n",
      "SciPyFminCG:  335 13:59:25    -3104.999846        0.865613\n",
      "SciPyFminCG:  336 13:59:28    -3105.582293        0.903942\n",
      "SciPyFminCG:  337 13:59:31    -3106.104255        0.787932\n",
      "SciPyFminCG:  338 13:59:33    -3106.678488        0.986647\n",
      "SciPyFminCG:  339 13:59:36    -3107.388127        1.112820\n",
      "SciPyFminCG:  340 13:59:39    -3108.200566        1.160339\n",
      "SciPyFminCG:  341 13:59:42    -3108.815620        1.002889\n",
      "SciPyFminCG:  342 13:59:44    -3109.695265        1.545712\n",
      "SciPyFminCG:  343 13:59:47    -3110.482564        1.242410\n",
      "SciPyFminCG:  344 13:59:50    -3111.047090        0.944771\n",
      "SciPyFminCG:  345 13:59:53    -3111.470484        0.877133\n",
      "SciPyFminCG:  346 13:59:55    -3111.856293        1.018016\n",
      "SciPyFminCG:  347 13:59:58    -3112.220447        0.796229\n",
      "SciPyFminCG:  348 14:00:02    -3112.546517        0.783688\n",
      "SciPyFminCG:  349 14:00:05    -3112.799160        0.726821\n",
      "SciPyFminCG:  350 14:00:07    -3113.070969        0.872152\n",
      "SciPyFminCG:  351 14:00:10    -3113.406249        0.699903\n",
      "SciPyFminCG:  352 14:00:13    -3113.719128        0.878036\n",
      "SciPyFminCG:  353 14:00:16    -3114.011347        0.949370\n",
      "SciPyFminCG:  354 14:00:18    -3114.329453        1.041173\n",
      "SciPyFminCG:  355 14:00:21    -3114.689126        0.657326\n",
      "SciPyFminCG:  356 14:00:23    -3115.017935        0.979624\n",
      "SciPyFminCG:  357 14:00:26    -3115.229507        0.804791\n",
      "SciPyFminCG:  358 14:00:29    -3115.634482        0.708697\n",
      "SciPyFminCG:  359 14:00:31    -3115.980217        0.732253\n",
      "SciPyFminCG:  360 14:00:34    -3116.237838        0.566772\n",
      "SciPyFminCG:  361 14:00:38    -3116.487494        0.779410\n",
      "SciPyFminCG:  362 14:00:41    -3116.758058        0.610731\n",
      "SciPyFminCG:  363 14:00:45    -3117.017421        1.034531\n",
      "SciPyFminCG:  364 14:00:48    -3117.280766        0.610836\n",
      "SciPyFminCG:  365 14:00:51    -3117.509763        0.579200\n",
      "SciPyFminCG:  366 14:00:53    -3117.723078        0.644023\n",
      "SciPyFminCG:  367 14:00:56    -3117.979454        0.671053\n",
      "SciPyFminCG:  368 14:00:58    -3118.267193        0.544240\n",
      "SciPyFminCG:  369 14:01:01    -3118.554434        0.889138\n",
      "SciPyFminCG:  370 14:01:04    -3118.871544        0.729534\n",
      "SciPyFminCG:  371 14:01:07    -3119.258348        0.741868\n",
      "SciPyFminCG:  372 14:01:09    -3119.628725        0.765614\n",
      "SciPyFminCG:  373 14:01:12    -3120.052866        1.003757\n",
      "SciPyFminCG:  374 14:01:14    -3120.489950        1.099497\n",
      "SciPyFminCG:  375 14:01:17    -3120.951179        0.779352\n",
      "SciPyFminCG:  376 14:01:20    -3121.345699        0.809296\n",
      "SciPyFminCG:  377 14:01:23    -3121.756150        0.989757\n",
      "SciPyFminCG:  378 14:01:25    -3122.162868        0.737162\n",
      "SciPyFminCG:  379 14:01:28    -3122.554401        0.788830\n",
      "SciPyFminCG:  380 14:01:30    -3122.954398        0.916850\n",
      "SciPyFminCG:  381 14:01:33    -3123.363853        0.540981\n",
      "SciPyFminCG:  382 14:01:36    -3123.797453        0.672321\n",
      "SciPyFminCG:  383 14:01:39    -3124.171065        0.649211\n",
      "SciPyFminCG:  384 14:01:41    -3124.501119        1.165531\n",
      "SciPyFminCG:  385 14:01:44    -3124.722897        0.944362\n",
      "SciPyFminCG:  386 14:01:46    -3125.178400        0.775519\n",
      "SciPyFminCG:  387 14:01:49    -3125.575908        0.967895\n",
      "SciPyFminCG:  388 14:01:52    -3125.991586        0.731498\n",
      "SciPyFminCG:  389 14:01:54    -3126.282560        0.549117\n",
      "SciPyFminCG:  390 14:01:57    -3126.494133        0.664928\n",
      "SciPyFminCG:  391 14:01:59    -3126.729601        0.693179\n",
      "SciPyFminCG:  392 14:02:02    -3126.959344        0.697918\n",
      "SciPyFminCG:  393 14:02:05    -3127.204270        0.766777\n",
      "SciPyFminCG:  394 14:02:08    -3127.434262        0.571267\n",
      "SciPyFminCG:  395 14:02:10    -3127.661018        0.668530\n",
      "SciPyFminCG:  396 14:02:13    -3127.906443        0.742185\n",
      "SciPyFminCG:  397 14:02:15    -3128.116024        0.541739\n",
      "SciPyFminCG:  398 14:02:18    -3128.411977        0.937471\n",
      "SciPyFminCG:  399 14:02:21    -3128.794550        0.742036\n",
      "SciPyFminCG:  400 14:02:23    -3129.166669        0.789699\n"
     ]
    }
   ],
   "source": [
    "import os\n",
    "from chgnet.model import StructOptimizer\n",
    "from pymatgen.core import Structure\n",
    "from chgnet.model.dynamics import CHGNetCalculator\n",
    "\n",
    "structure_path = f\"/home/mehuldarak/summer/relax_final/{structure_name}/relaxed_{structure_name}.cif\"\n",
    "structure = Structure.from_file(structure_path)\n",
    "\n",
    "# Output path\n",
    "output_dir = f\"/home/mehuldarak/summer/relax_final\"\n",
    "os.makedirs(output_dir, exist_ok=True)\n",
    "output_path = os.path.join(output_dir, f\"cellrelaxed_{structure_name}.cif\")\n",
    "\n",
    "# Run CHGNet relaxation\n",
    "opt1 = StructOptimizer(model=calc, optimizer_class=\"SciPyFminCG\", use_device=\"cuda\")\n",
    "result = opt1.relax(\n",
    "    structure,\n",
    "    fmax=0.15,           # You can adjust depending on accuracy/speed tradeoff\n",
    "    steps=400,\n",
    "    relax_cell=True,\n",
    "    verbose=True\n",
    ")\n"
   ]
  },
  {
   "cell_type": "code",
   "execution_count": 11,
   "id": "4b2fc32d",
   "metadata": {},
   "outputs": [
    {
     "name": "stderr",
     "output_type": "stream",
     "text": [
      "/tmp/ipykernel_158292/1077038773.py:3: FutureWarning: Please use atoms.calc = calc\n",
      "  structure_1.set_calculator(calc)\n"
     ]
    },
    {
     "name": "stdout",
     "output_type": "stream",
     "text": [
      "      Step     Time          Energy          fmax\n",
      "FIRE:    0 14:02:24    -3129.166918        0.512466\n",
      "FIRE:    1 14:02:26    -3129.185835        0.367083\n"
     ]
    },
    {
     "name": "stderr",
     "output_type": "stream",
     "text": [
      "/home/mehuldarak/anaconda3/envs/mace/lib/python3.13/site-packages/ase/filters.py:606: RuntimeWarning: logm result may be inaccurate, approximate err = 3.419508199475576e-13\n",
      "  pos[natoms:] = self.logm(pos[natoms:]) * self.exp_cell_factor\n"
     ]
    },
    {
     "name": "stdout",
     "output_type": "stream",
     "text": [
      "FIRE:    2 14:02:27    -3129.207241        0.192829\n"
     ]
    },
    {
     "name": "stderr",
     "output_type": "stream",
     "text": [
      "/home/mehuldarak/anaconda3/envs/mace/lib/python3.13/site-packages/ase/filters.py:606: RuntimeWarning: logm result may be inaccurate, approximate err = 3.4448788625674685e-13\n",
      "  pos[natoms:] = self.logm(pos[natoms:]) * self.exp_cell_factor\n"
     ]
    },
    {
     "name": "stdout",
     "output_type": "stream",
     "text": [
      "FIRE:    3 14:02:29    -3129.219189        0.420564\n"
     ]
    },
    {
     "name": "stderr",
     "output_type": "stream",
     "text": [
      "/home/mehuldarak/anaconda3/envs/mace/lib/python3.13/site-packages/ase/filters.py:606: RuntimeWarning: logm result may be inaccurate, approximate err = 3.4550680029269736e-13\n",
      "  pos[natoms:] = self.logm(pos[natoms:]) * self.exp_cell_factor\n"
     ]
    },
    {
     "name": "stdout",
     "output_type": "stream",
     "text": [
      "FIRE:    4 14:02:30    -3129.235617        0.438392\n"
     ]
    },
    {
     "name": "stderr",
     "output_type": "stream",
     "text": [
      "/home/mehuldarak/anaconda3/envs/mace/lib/python3.13/site-packages/ase/filters.py:606: RuntimeWarning: logm result may be inaccurate, approximate err = 3.4512750451249045e-13\n",
      "  pos[natoms:] = self.logm(pos[natoms:]) * self.exp_cell_factor\n"
     ]
    },
    {
     "name": "stdout",
     "output_type": "stream",
     "text": [
      "FIRE:    5 14:02:31    -3129.255778        0.244043\n"
     ]
    },
    {
     "name": "stderr",
     "output_type": "stream",
     "text": [
      "/home/mehuldarak/anaconda3/envs/mace/lib/python3.13/site-packages/ase/filters.py:606: RuntimeWarning: logm result may be inaccurate, approximate err = 3.4842517091774993e-13\n",
      "  pos[natoms:] = self.logm(pos[natoms:]) * self.exp_cell_factor\n"
     ]
    },
    {
     "name": "stdout",
     "output_type": "stream",
     "text": [
      "FIRE:    6 14:02:33    -3129.267975        0.263438\n"
     ]
    },
    {
     "name": "stderr",
     "output_type": "stream",
     "text": [
      "/home/mehuldarak/anaconda3/envs/mace/lib/python3.13/site-packages/ase/filters.py:606: RuntimeWarning: logm result may be inaccurate, approximate err = 3.455517780353787e-13\n",
      "  pos[natoms:] = self.logm(pos[natoms:]) * self.exp_cell_factor\n"
     ]
    },
    {
     "name": "stdout",
     "output_type": "stream",
     "text": [
      "FIRE:    7 14:02:34    -3129.277682        0.334341\n"
     ]
    },
    {
     "name": "stderr",
     "output_type": "stream",
     "text": [
      "/home/mehuldarak/anaconda3/envs/mace/lib/python3.13/site-packages/ase/filters.py:606: RuntimeWarning: logm result may be inaccurate, approximate err = 3.386020072576788e-13\n",
      "  pos[natoms:] = self.logm(pos[natoms:]) * self.exp_cell_factor\n"
     ]
    },
    {
     "name": "stdout",
     "output_type": "stream",
     "text": [
      "FIRE:    8 14:02:35    -3129.292866        0.268520\n"
     ]
    },
    {
     "name": "stderr",
     "output_type": "stream",
     "text": [
      "/home/mehuldarak/anaconda3/envs/mace/lib/python3.13/site-packages/ase/filters.py:606: RuntimeWarning: logm result may be inaccurate, approximate err = 3.4281542203112537e-13\n",
      "  pos[natoms:] = self.logm(pos[natoms:]) * self.exp_cell_factor\n"
     ]
    },
    {
     "name": "stdout",
     "output_type": "stream",
     "text": [
      "FIRE:    9 14:02:37    -3129.305560        0.306036\n"
     ]
    },
    {
     "name": "stderr",
     "output_type": "stream",
     "text": [
      "/home/mehuldarak/anaconda3/envs/mace/lib/python3.13/site-packages/ase/filters.py:606: RuntimeWarning: logm result may be inaccurate, approximate err = 3.523226274451317e-13\n",
      "  pos[natoms:] = self.logm(pos[natoms:]) * self.exp_cell_factor\n"
     ]
    },
    {
     "name": "stdout",
     "output_type": "stream",
     "text": [
      "FIRE:   10 14:02:38    -3129.319001        0.426322\n"
     ]
    },
    {
     "name": "stderr",
     "output_type": "stream",
     "text": [
      "/home/mehuldarak/anaconda3/envs/mace/lib/python3.13/site-packages/ase/filters.py:606: RuntimeWarning: logm result may be inaccurate, approximate err = 3.487819066764953e-13\n",
      "  pos[natoms:] = self.logm(pos[natoms:]) * self.exp_cell_factor\n"
     ]
    },
    {
     "name": "stdout",
     "output_type": "stream",
     "text": [
      "FIRE:   11 14:02:39    -3129.336923        0.199537\n"
     ]
    },
    {
     "name": "stderr",
     "output_type": "stream",
     "text": [
      "/home/mehuldarak/anaconda3/envs/mace/lib/python3.13/site-packages/ase/filters.py:606: RuntimeWarning: logm result may be inaccurate, approximate err = 3.462469204487417e-13\n",
      "  pos[natoms:] = self.logm(pos[natoms:]) * self.exp_cell_factor\n"
     ]
    },
    {
     "name": "stdout",
     "output_type": "stream",
     "text": [
      "FIRE:   12 14:02:40    -3129.357333        0.298700\n"
     ]
    },
    {
     "name": "stderr",
     "output_type": "stream",
     "text": [
      "/home/mehuldarak/anaconda3/envs/mace/lib/python3.13/site-packages/ase/filters.py:606: RuntimeWarning: logm result may be inaccurate, approximate err = 3.465461387150918e-13\n",
      "  pos[natoms:] = self.logm(pos[natoms:]) * self.exp_cell_factor\n"
     ]
    },
    {
     "name": "stdout",
     "output_type": "stream",
     "text": [
      "FIRE:   13 14:02:42    -3129.383469        0.199469\n"
     ]
    },
    {
     "name": "stderr",
     "output_type": "stream",
     "text": [
      "/home/mehuldarak/anaconda3/envs/mace/lib/python3.13/site-packages/ase/filters.py:606: RuntimeWarning: logm result may be inaccurate, approximate err = 3.475362488510808e-13\n",
      "  pos[natoms:] = self.logm(pos[natoms:]) * self.exp_cell_factor\n"
     ]
    },
    {
     "name": "stdout",
     "output_type": "stream",
     "text": [
      "FIRE:   14 14:02:43    -3129.410849        0.429902\n"
     ]
    },
    {
     "name": "stderr",
     "output_type": "stream",
     "text": [
      "/home/mehuldarak/anaconda3/envs/mace/lib/python3.13/site-packages/ase/filters.py:606: RuntimeWarning: logm result may be inaccurate, approximate err = 3.4594807961287725e-13\n",
      "  pos[natoms:] = self.logm(pos[natoms:]) * self.exp_cell_factor\n"
     ]
    },
    {
     "name": "stdout",
     "output_type": "stream",
     "text": [
      "FIRE:   15 14:02:44    -3129.444202        0.238929\n"
     ]
    },
    {
     "name": "stderr",
     "output_type": "stream",
     "text": [
      "/home/mehuldarak/anaconda3/envs/mace/lib/python3.13/site-packages/ase/filters.py:606: RuntimeWarning: logm result may be inaccurate, approximate err = 3.5848096002308536e-13\n",
      "  pos[natoms:] = self.logm(pos[natoms:]) * self.exp_cell_factor\n"
     ]
    },
    {
     "name": "stdout",
     "output_type": "stream",
     "text": [
      "FIRE:   16 14:02:46    -3129.481539        0.308267\n"
     ]
    },
    {
     "name": "stderr",
     "output_type": "stream",
     "text": [
      "/home/mehuldarak/anaconda3/envs/mace/lib/python3.13/site-packages/ase/filters.py:606: RuntimeWarning: logm result may be inaccurate, approximate err = 3.47288243122686e-13\n",
      "  pos[natoms:] = self.logm(pos[natoms:]) * self.exp_cell_factor\n"
     ]
    },
    {
     "name": "stdout",
     "output_type": "stream",
     "text": [
      "FIRE:   17 14:02:47    -3129.516386        0.569539\n"
     ]
    },
    {
     "name": "stderr",
     "output_type": "stream",
     "text": [
      "/home/mehuldarak/anaconda3/envs/mace/lib/python3.13/site-packages/ase/filters.py:606: RuntimeWarning: logm result may be inaccurate, approximate err = 3.415901200566589e-13\n",
      "  pos[natoms:] = self.logm(pos[natoms:]) * self.exp_cell_factor\n"
     ]
    },
    {
     "name": "stdout",
     "output_type": "stream",
     "text": [
      "FIRE:   18 14:02:49    -3129.537543        0.184704\n"
     ]
    },
    {
     "name": "stderr",
     "output_type": "stream",
     "text": [
      "/home/mehuldarak/anaconda3/envs/mace/lib/python3.13/site-packages/ase/filters.py:606: RuntimeWarning: logm result may be inaccurate, approximate err = 3.444382936474713e-13\n",
      "  pos[natoms:] = self.logm(pos[natoms:]) * self.exp_cell_factor\n"
     ]
    },
    {
     "name": "stdout",
     "output_type": "stream",
     "text": [
      "FIRE:   19 14:02:50    -3129.534307        0.479970\n"
     ]
    },
    {
     "name": "stderr",
     "output_type": "stream",
     "text": [
      "/home/mehuldarak/anaconda3/envs/mace/lib/python3.13/site-packages/ase/filters.py:606: RuntimeWarning: logm result may be inaccurate, approximate err = 3.37338545028663e-13\n",
      "  pos[natoms:] = self.logm(pos[natoms:]) * self.exp_cell_factor\n"
     ]
    },
    {
     "name": "stdout",
     "output_type": "stream",
     "text": [
      "FIRE:   20 14:02:51    -3129.538290        0.383379\n"
     ]
    },
    {
     "name": "stderr",
     "output_type": "stream",
     "text": [
      "/home/mehuldarak/anaconda3/envs/mace/lib/python3.13/site-packages/ase/filters.py:606: RuntimeWarning: logm result may be inaccurate, approximate err = 3.433169466428442e-13\n",
      "  pos[natoms:] = self.logm(pos[natoms:]) * self.exp_cell_factor\n"
     ]
    },
    {
     "name": "stdout",
     "output_type": "stream",
     "text": [
      "FIRE:   21 14:02:52    -3129.544264        0.210795\n"
     ]
    },
    {
     "name": "stderr",
     "output_type": "stream",
     "text": [
      "/home/mehuldarak/anaconda3/envs/mace/lib/python3.13/site-packages/ase/filters.py:606: RuntimeWarning: logm result may be inaccurate, approximate err = 3.4476736158713783e-13\n",
      "  pos[natoms:] = self.logm(pos[natoms:]) * self.exp_cell_factor\n"
     ]
    },
    {
     "name": "stdout",
     "output_type": "stream",
     "text": [
      "FIRE:   22 14:02:53    -3129.547749        0.184632\n"
     ]
    },
    {
     "name": "stderr",
     "output_type": "stream",
     "text": [
      "/home/mehuldarak/anaconda3/envs/mace/lib/python3.13/site-packages/ase/filters.py:606: RuntimeWarning: logm result may be inaccurate, approximate err = 3.381432014489307e-13\n",
      "  pos[natoms:] = self.logm(pos[natoms:]) * self.exp_cell_factor\n"
     ]
    },
    {
     "name": "stdout",
     "output_type": "stream",
     "text": [
      "FIRE:   23 14:02:55    -3129.547749        0.273292\n"
     ]
    },
    {
     "name": "stderr",
     "output_type": "stream",
     "text": [
      "/home/mehuldarak/anaconda3/envs/mace/lib/python3.13/site-packages/ase/filters.py:606: RuntimeWarning: logm result may be inaccurate, approximate err = 3.4411345243693897e-13\n",
      "  pos[natoms:] = self.logm(pos[natoms:]) * self.exp_cell_factor\n"
     ]
    },
    {
     "name": "stdout",
     "output_type": "stream",
     "text": [
      "FIRE:   24 14:02:56    -3129.548744        0.260302\n"
     ]
    },
    {
     "name": "stderr",
     "output_type": "stream",
     "text": [
      "/home/mehuldarak/anaconda3/envs/mace/lib/python3.13/site-packages/ase/filters.py:606: RuntimeWarning: logm result may be inaccurate, approximate err = 3.4256556077379476e-13\n",
      "  pos[natoms:] = self.logm(pos[natoms:]) * self.exp_cell_factor\n"
     ]
    },
    {
     "name": "stdout",
     "output_type": "stream",
     "text": [
      "FIRE:   25 14:02:57    -3129.549242        0.233357\n"
     ]
    },
    {
     "name": "stderr",
     "output_type": "stream",
     "text": [
      "/home/mehuldarak/anaconda3/envs/mace/lib/python3.13/site-packages/ase/filters.py:606: RuntimeWarning: logm result may be inaccurate, approximate err = 3.379979860999207e-13\n",
      "  pos[natoms:] = self.logm(pos[natoms:]) * self.exp_cell_factor\n"
     ]
    },
    {
     "name": "stdout",
     "output_type": "stream",
     "text": [
      "FIRE:   26 14:02:58    -3129.550238        0.191030\n"
     ]
    },
    {
     "name": "stderr",
     "output_type": "stream",
     "text": [
      "/home/mehuldarak/anaconda3/envs/mace/lib/python3.13/site-packages/ase/filters.py:606: RuntimeWarning: logm result may be inaccurate, approximate err = 3.439477598213009e-13\n",
      "  pos[natoms:] = self.logm(pos[natoms:]) * self.exp_cell_factor\n"
     ]
    },
    {
     "name": "stdout",
     "output_type": "stream",
     "text": [
      "FIRE:   27 14:03:00    -3129.550735        0.184585\n"
     ]
    },
    {
     "name": "stderr",
     "output_type": "stream",
     "text": [
      "/home/mehuldarak/anaconda3/envs/mace/lib/python3.13/site-packages/ase/filters.py:606: RuntimeWarning: logm result may be inaccurate, approximate err = 3.410292957070545e-13\n",
      "  pos[natoms:] = self.logm(pos[natoms:]) * self.exp_cell_factor\n"
     ]
    },
    {
     "name": "stdout",
     "output_type": "stream",
     "text": [
      "FIRE:   28 14:03:01    -3129.552727        0.184603\n"
     ]
    },
    {
     "name": "stderr",
     "output_type": "stream",
     "text": [
      "/home/mehuldarak/anaconda3/envs/mace/lib/python3.13/site-packages/ase/filters.py:606: RuntimeWarning: logm result may be inaccurate, approximate err = 3.449524563838643e-13\n",
      "  pos[natoms:] = self.logm(pos[natoms:]) * self.exp_cell_factor\n"
     ]
    },
    {
     "name": "stdout",
     "output_type": "stream",
     "text": [
      "FIRE:   29 14:03:03    -3129.552976        0.184613\n"
     ]
    },
    {
     "name": "stderr",
     "output_type": "stream",
     "text": [
      "/home/mehuldarak/anaconda3/envs/mace/lib/python3.13/site-packages/ase/filters.py:606: RuntimeWarning: logm result may be inaccurate, approximate err = 3.4572113582597407e-13\n",
      "  pos[natoms:] = self.logm(pos[natoms:]) * self.exp_cell_factor\n"
     ]
    },
    {
     "name": "stdout",
     "output_type": "stream",
     "text": [
      "FIRE:   30 14:03:04    -3129.553971        0.184620\n"
     ]
    },
    {
     "name": "stderr",
     "output_type": "stream",
     "text": [
      "/home/mehuldarak/anaconda3/envs/mace/lib/python3.13/site-packages/ase/filters.py:606: RuntimeWarning: logm result may be inaccurate, approximate err = 3.399404050024046e-13\n",
      "  pos[natoms:] = self.logm(pos[natoms:]) * self.exp_cell_factor\n"
     ]
    },
    {
     "name": "stdout",
     "output_type": "stream",
     "text": [
      "FIRE:   31 14:03:05    -3129.554220        0.184615\n"
     ]
    },
    {
     "name": "stderr",
     "output_type": "stream",
     "text": [
      "/home/mehuldarak/anaconda3/envs/mace/lib/python3.13/site-packages/ase/filters.py:606: RuntimeWarning: logm result may be inaccurate, approximate err = 3.4764774922451166e-13\n",
      "  pos[natoms:] = self.logm(pos[natoms:]) * self.exp_cell_factor\n"
     ]
    },
    {
     "name": "stdout",
     "output_type": "stream",
     "text": [
      "FIRE:   32 14:03:07    -3129.556211        0.184603\n"
     ]
    },
    {
     "name": "stderr",
     "output_type": "stream",
     "text": [
      "/home/mehuldarak/anaconda3/envs/mace/lib/python3.13/site-packages/ase/filters.py:606: RuntimeWarning: logm result may be inaccurate, approximate err = 3.3820954022640433e-13\n",
      "  pos[natoms:] = self.logm(pos[natoms:]) * self.exp_cell_factor\n"
     ]
    },
    {
     "name": "stdout",
     "output_type": "stream",
     "text": [
      "FIRE:   33 14:03:08    -3129.557954        0.184576\n"
     ]
    },
    {
     "name": "stderr",
     "output_type": "stream",
     "text": [
      "/home/mehuldarak/anaconda3/envs/mace/lib/python3.13/site-packages/ase/filters.py:606: RuntimeWarning: logm result may be inaccurate, approximate err = 3.4850907623345566e-13\n",
      "  pos[natoms:] = self.logm(pos[natoms:]) * self.exp_cell_factor\n"
     ]
    },
    {
     "name": "stdout",
     "output_type": "stream",
     "text": [
      "FIRE:   34 14:03:09    -3129.560692        0.184535\n"
     ]
    },
    {
     "name": "stderr",
     "output_type": "stream",
     "text": [
      "/home/mehuldarak/anaconda3/envs/mace/lib/python3.13/site-packages/ase/filters.py:606: RuntimeWarning: logm result may be inaccurate, approximate err = 3.529009887526136e-13\n",
      "  pos[natoms:] = self.logm(pos[natoms:]) * self.exp_cell_factor\n"
     ]
    },
    {
     "name": "stdout",
     "output_type": "stream",
     "text": [
      "FIRE:   35 14:03:11    -3129.564177        0.184472\n"
     ]
    },
    {
     "name": "stderr",
     "output_type": "stream",
     "text": [
      "/home/mehuldarak/anaconda3/envs/mace/lib/python3.13/site-packages/ase/filters.py:606: RuntimeWarning: logm result may be inaccurate, approximate err = 3.392055856910169e-13\n",
      "  pos[natoms:] = self.logm(pos[natoms:]) * self.exp_cell_factor\n"
     ]
    },
    {
     "name": "stdout",
     "output_type": "stream",
     "text": [
      "FIRE:   36 14:03:12    -3129.567412        0.184395\n"
     ]
    },
    {
     "name": "stderr",
     "output_type": "stream",
     "text": [
      "/home/mehuldarak/anaconda3/envs/mace/lib/python3.13/site-packages/ase/filters.py:606: RuntimeWarning: logm result may be inaccurate, approximate err = 3.418332091218565e-13\n",
      "  pos[natoms:] = self.logm(pos[natoms:]) * self.exp_cell_factor\n"
     ]
    },
    {
     "name": "stdout",
     "output_type": "stream",
     "text": [
      "FIRE:   37 14:03:13    -3129.570648        0.184336\n"
     ]
    },
    {
     "name": "stderr",
     "output_type": "stream",
     "text": [
      "/home/mehuldarak/anaconda3/envs/mace/lib/python3.13/site-packages/ase/filters.py:606: RuntimeWarning: logm result may be inaccurate, approximate err = 3.3702297741164317e-13\n",
      "  pos[natoms:] = self.logm(pos[natoms:]) * self.exp_cell_factor\n"
     ]
    },
    {
     "name": "stdout",
     "output_type": "stream",
     "text": [
      "FIRE:   38 14:03:15    -3129.576124        0.184301\n"
     ]
    },
    {
     "name": "stderr",
     "output_type": "stream",
     "text": [
      "/home/mehuldarak/anaconda3/envs/mace/lib/python3.13/site-packages/ase/filters.py:606: RuntimeWarning: logm result may be inaccurate, approximate err = 3.4318156383787927e-13\n",
      "  pos[natoms:] = self.logm(pos[natoms:]) * self.exp_cell_factor\n"
     ]
    },
    {
     "name": "stdout",
     "output_type": "stream",
     "text": [
      "FIRE:   39 14:03:16    -3129.582347        0.184279\n"
     ]
    },
    {
     "name": "stderr",
     "output_type": "stream",
     "text": [
      "/home/mehuldarak/anaconda3/envs/mace/lib/python3.13/site-packages/ase/filters.py:606: RuntimeWarning: logm result may be inaccurate, approximate err = 3.400005385052661e-13\n",
      "  pos[natoms:] = self.logm(pos[natoms:]) * self.exp_cell_factor\n"
     ]
    },
    {
     "name": "stdout",
     "output_type": "stream",
     "text": [
      "FIRE:   40 14:03:17    -3129.589565        0.184224\n"
     ]
    },
    {
     "name": "stderr",
     "output_type": "stream",
     "text": [
      "/home/mehuldarak/anaconda3/envs/mace/lib/python3.13/site-packages/ase/filters.py:606: RuntimeWarning: logm result may be inaccurate, approximate err = 3.4133968928879353e-13\n",
      "  pos[natoms:] = self.logm(pos[natoms:]) * self.exp_cell_factor\n"
     ]
    },
    {
     "name": "stdout",
     "output_type": "stream",
     "text": [
      "FIRE:   41 14:03:18    -3129.598775        0.184089\n"
     ]
    },
    {
     "name": "stderr",
     "output_type": "stream",
     "text": [
      "/home/mehuldarak/anaconda3/envs/mace/lib/python3.13/site-packages/ase/filters.py:606: RuntimeWarning: logm result may be inaccurate, approximate err = 3.4457515028669236e-13\n",
      "  pos[natoms:] = self.logm(pos[natoms:]) * self.exp_cell_factor\n"
     ]
    },
    {
     "name": "stdout",
     "output_type": "stream",
     "text": [
      "FIRE:   42 14:03:20    -3129.609229        0.183830\n"
     ]
    },
    {
     "name": "stderr",
     "output_type": "stream",
     "text": [
      "/home/mehuldarak/anaconda3/envs/mace/lib/python3.13/site-packages/ase/filters.py:606: RuntimeWarning: logm result may be inaccurate, approximate err = 3.3573356002145383e-13\n",
      "  pos[natoms:] = self.logm(pos[natoms:]) * self.exp_cell_factor\n"
     ]
    },
    {
     "name": "stdout",
     "output_type": "stream",
     "text": [
      "FIRE:   43 14:03:21    -3129.622670        0.212943\n"
     ]
    },
    {
     "name": "stderr",
     "output_type": "stream",
     "text": [
      "/home/mehuldarak/anaconda3/envs/mace/lib/python3.13/site-packages/ase/filters.py:606: RuntimeWarning: logm result may be inaccurate, approximate err = 3.4330045062245474e-13\n",
      "  pos[natoms:] = self.logm(pos[natoms:]) * self.exp_cell_factor\n"
     ]
    },
    {
     "name": "stdout",
     "output_type": "stream",
     "text": [
      "FIRE:   44 14:03:23    -3129.641587        0.356936\n"
     ]
    },
    {
     "name": "stderr",
     "output_type": "stream",
     "text": [
      "/home/mehuldarak/anaconda3/envs/mace/lib/python3.13/site-packages/ase/filters.py:606: RuntimeWarning: logm result may be inaccurate, approximate err = 3.4736487673691685e-13\n",
      "  pos[natoms:] = self.logm(pos[natoms:]) * self.exp_cell_factor\n"
     ]
    },
    {
     "name": "stdout",
     "output_type": "stream",
     "text": [
      "FIRE:   45 14:03:24    -3129.672701        0.582198\n"
     ]
    },
    {
     "name": "stderr",
     "output_type": "stream",
     "text": [
      "/home/mehuldarak/anaconda3/envs/mace/lib/python3.13/site-packages/ase/filters.py:606: RuntimeWarning: logm result may be inaccurate, approximate err = 3.4412507558748004e-13\n",
      "  pos[natoms:] = self.logm(pos[natoms:]) * self.exp_cell_factor\n"
     ]
    },
    {
     "name": "stdout",
     "output_type": "stream",
     "text": [
      "FIRE:   46 14:03:25    -3129.727959        0.643678\n"
     ]
    },
    {
     "name": "stderr",
     "output_type": "stream",
     "text": [
      "/home/mehuldarak/anaconda3/envs/mace/lib/python3.13/site-packages/ase/filters.py:606: RuntimeWarning: logm result may be inaccurate, approximate err = 3.441447041855143e-13\n",
      "  pos[natoms:] = self.logm(pos[natoms:]) * self.exp_cell_factor\n"
     ]
    },
    {
     "name": "stdout",
     "output_type": "stream",
     "text": [
      "FIRE:   47 14:03:27    -3129.790435        0.506238\n"
     ]
    },
    {
     "name": "stderr",
     "output_type": "stream",
     "text": [
      "/home/mehuldarak/anaconda3/envs/mace/lib/python3.13/site-packages/ase/filters.py:606: RuntimeWarning: logm result may be inaccurate, approximate err = 3.4376880566799213e-13\n",
      "  pos[natoms:] = self.logm(pos[natoms:]) * self.exp_cell_factor\n"
     ]
    },
    {
     "name": "stdout",
     "output_type": "stream",
     "text": [
      "FIRE:   48 14:03:28    -3129.864859        0.451805\n"
     ]
    },
    {
     "name": "stderr",
     "output_type": "stream",
     "text": [
      "/home/mehuldarak/anaconda3/envs/mace/lib/python3.13/site-packages/ase/filters.py:606: RuntimeWarning: logm result may be inaccurate, approximate err = 3.421480712078652e-13\n",
      "  pos[natoms:] = self.logm(pos[natoms:]) * self.exp_cell_factor\n"
     ]
    },
    {
     "name": "stdout",
     "output_type": "stream",
     "text": [
      "FIRE:   49 14:03:29    -3129.955213        0.290146\n"
     ]
    },
    {
     "name": "stderr",
     "output_type": "stream",
     "text": [
      "/home/mehuldarak/anaconda3/envs/mace/lib/python3.13/site-packages/ase/filters.py:606: RuntimeWarning: logm result may be inaccurate, approximate err = 3.488883522833432e-13\n",
      "  pos[natoms:] = self.logm(pos[natoms:]) * self.exp_cell_factor\n"
     ]
    },
    {
     "name": "stdout",
     "output_type": "stream",
     "text": [
      "FIRE:   50 14:03:31    -3130.042082        0.420988\n"
     ]
    },
    {
     "name": "stderr",
     "output_type": "stream",
     "text": [
      "/home/mehuldarak/anaconda3/envs/mace/lib/python3.13/site-packages/ase/filters.py:606: RuntimeWarning: logm result may be inaccurate, approximate err = 3.438804293835652e-13\n",
      "  pos[natoms:] = self.logm(pos[natoms:]) * self.exp_cell_factor\n"
     ]
    },
    {
     "name": "stdout",
     "output_type": "stream",
     "text": [
      "FIRE:   51 14:03:32    -3130.098833        0.400336\n"
     ]
    },
    {
     "name": "stderr",
     "output_type": "stream",
     "text": [
      "/home/mehuldarak/anaconda3/envs/mace/lib/python3.13/site-packages/ase/filters.py:606: RuntimeWarning: logm result may be inaccurate, approximate err = 3.384547804471844e-13\n",
      "  pos[natoms:] = self.logm(pos[natoms:]) * self.exp_cell_factor\n"
     ]
    },
    {
     "name": "stdout",
     "output_type": "stream",
     "text": [
      "FIRE:   52 14:03:33    -3130.138161        0.619991\n"
     ]
    },
    {
     "name": "stderr",
     "output_type": "stream",
     "text": [
      "/home/mehuldarak/anaconda3/envs/mace/lib/python3.13/site-packages/ase/filters.py:606: RuntimeWarning: logm result may be inaccurate, approximate err = 3.4028098687770265e-13\n",
      "  pos[natoms:] = self.logm(pos[natoms:]) * self.exp_cell_factor\n"
     ]
    },
    {
     "name": "stdout",
     "output_type": "stream",
     "text": [
      "FIRE:   53 14:03:35    -3130.198646        0.428762\n"
     ]
    },
    {
     "name": "stderr",
     "output_type": "stream",
     "text": [
      "/home/mehuldarak/anaconda3/envs/mace/lib/python3.13/site-packages/ase/filters.py:606: RuntimeWarning: logm result may be inaccurate, approximate err = 3.595986445879748e-13\n",
      "  pos[natoms:] = self.logm(pos[natoms:]) * self.exp_cell_factor\n"
     ]
    },
    {
     "name": "stdout",
     "output_type": "stream",
     "text": [
      "FIRE:   54 14:03:36    -3130.270580        0.672138\n"
     ]
    },
    {
     "name": "stderr",
     "output_type": "stream",
     "text": [
      "/home/mehuldarak/anaconda3/envs/mace/lib/python3.13/site-packages/ase/filters.py:606: RuntimeWarning: logm result may be inaccurate, approximate err = 3.5807006370872867e-13\n",
      "  pos[natoms:] = self.logm(pos[natoms:]) * self.exp_cell_factor\n"
     ]
    },
    {
     "name": "stdout",
     "output_type": "stream",
     "text": [
      "FIRE:   55 14:03:37    -3130.390306        0.672367\n"
     ]
    },
    {
     "name": "stderr",
     "output_type": "stream",
     "text": [
      "/home/mehuldarak/anaconda3/envs/mace/lib/python3.13/site-packages/ase/filters.py:606: RuntimeWarning: logm result may be inaccurate, approximate err = 3.4317202355493703e-13\n",
      "  pos[natoms:] = self.logm(pos[natoms:]) * self.exp_cell_factor\n"
     ]
    },
    {
     "name": "stdout",
     "output_type": "stream",
     "text": [
      "FIRE:   56 14:03:38    -3130.513764        0.453328\n"
     ]
    },
    {
     "name": "stderr",
     "output_type": "stream",
     "text": [
      "/home/mehuldarak/anaconda3/envs/mace/lib/python3.13/site-packages/ase/filters.py:606: RuntimeWarning: logm result may be inaccurate, approximate err = 3.3582961280162595e-13\n",
      "  pos[natoms:] = self.logm(pos[natoms:]) * self.exp_cell_factor\n"
     ]
    },
    {
     "name": "stdout",
     "output_type": "stream",
     "text": [
      "FIRE:   57 14:03:40    -3130.585201        0.655361\n"
     ]
    },
    {
     "name": "stderr",
     "output_type": "stream",
     "text": [
      "/home/mehuldarak/anaconda3/envs/mace/lib/python3.13/site-packages/ase/filters.py:606: RuntimeWarning: logm result may be inaccurate, approximate err = 3.4039661474016697e-13\n",
      "  pos[natoms:] = self.logm(pos[natoms:]) * self.exp_cell_factor\n"
     ]
    },
    {
     "name": "stdout",
     "output_type": "stream",
     "text": [
      "FIRE:   58 14:03:41    -3130.607105        0.560906\n"
     ]
    },
    {
     "name": "stderr",
     "output_type": "stream",
     "text": [
      "/home/mehuldarak/anaconda3/envs/mace/lib/python3.13/site-packages/ase/filters.py:606: RuntimeWarning: logm result may be inaccurate, approximate err = 3.514827934758236e-13\n",
      "  pos[natoms:] = self.logm(pos[natoms:]) * self.exp_cell_factor\n"
     ]
    },
    {
     "name": "stdout",
     "output_type": "stream",
     "text": [
      "FIRE:   59 14:03:42    -3130.627765        0.403287\n"
     ]
    },
    {
     "name": "stderr",
     "output_type": "stream",
     "text": [
      "/home/mehuldarak/anaconda3/envs/mace/lib/python3.13/site-packages/ase/filters.py:606: RuntimeWarning: logm result may be inaccurate, approximate err = 3.4766103528547124e-13\n",
      "  pos[natoms:] = self.logm(pos[natoms:]) * self.exp_cell_factor\n"
     ]
    },
    {
     "name": "stdout",
     "output_type": "stream",
     "text": [
      "FIRE:   60 14:03:44    -3130.641704        0.245927\n"
     ]
    },
    {
     "name": "stderr",
     "output_type": "stream",
     "text": [
      "/home/mehuldarak/anaconda3/envs/mace/lib/python3.13/site-packages/ase/filters.py:606: RuntimeWarning: logm result may be inaccurate, approximate err = 3.515995625989868e-13\n",
      "  pos[natoms:] = self.logm(pos[natoms:]) * self.exp_cell_factor\n"
     ]
    },
    {
     "name": "stdout",
     "output_type": "stream",
     "text": [
      "FIRE:   61 14:03:45    -3130.642948        0.210755\n"
     ]
    },
    {
     "name": "stderr",
     "output_type": "stream",
     "text": [
      "/home/mehuldarak/anaconda3/envs/mace/lib/python3.13/site-packages/ase/filters.py:606: RuntimeWarning: logm result may be inaccurate, approximate err = 3.448178169836717e-13\n",
      "  pos[natoms:] = self.logm(pos[natoms:]) * self.exp_cell_factor\n"
     ]
    },
    {
     "name": "stdout",
     "output_type": "stream",
     "text": [
      "FIRE:   62 14:03:47    -3130.646433        0.176165\n"
     ]
    },
    {
     "name": "stderr",
     "output_type": "stream",
     "text": [
      "/home/mehuldarak/anaconda3/envs/mace/lib/python3.13/site-packages/ase/filters.py:606: RuntimeWarning: logm result may be inaccurate, approximate err = 3.4181820636813746e-13\n",
      "  pos[natoms:] = self.logm(pos[natoms:]) * self.exp_cell_factor\n"
     ]
    },
    {
     "name": "stdout",
     "output_type": "stream",
     "text": [
      "FIRE:   63 14:03:48    -3130.650913        0.174426\n"
     ]
    },
    {
     "name": "stderr",
     "output_type": "stream",
     "text": [
      "/home/mehuldarak/anaconda3/envs/mace/lib/python3.13/site-packages/ase/filters.py:606: RuntimeWarning: logm result may be inaccurate, approximate err = 3.443630910795769e-13\n",
      "  pos[natoms:] = self.logm(pos[natoms:]) * self.exp_cell_factor\n"
     ]
    },
    {
     "name": "stdout",
     "output_type": "stream",
     "text": [
      "FIRE:   64 14:03:49    -3130.654149        0.174358\n"
     ]
    },
    {
     "name": "stderr",
     "output_type": "stream",
     "text": [
      "/home/mehuldarak/anaconda3/envs/mace/lib/python3.13/site-packages/ase/filters.py:606: RuntimeWarning: logm result may be inaccurate, approximate err = 3.417117982130246e-13\n",
      "  pos[natoms:] = self.logm(pos[natoms:]) * self.exp_cell_factor\n"
     ]
    },
    {
     "name": "stdout",
     "output_type": "stream",
     "text": [
      "FIRE:   65 14:03:51    -3130.657385        0.174285\n"
     ]
    },
    {
     "name": "stderr",
     "output_type": "stream",
     "text": [
      "/home/mehuldarak/anaconda3/envs/mace/lib/python3.13/site-packages/ase/filters.py:606: RuntimeWarning: logm result may be inaccurate, approximate err = 3.439206067373783e-13\n",
      "  pos[natoms:] = self.logm(pos[natoms:]) * self.exp_cell_factor\n"
     ]
    },
    {
     "name": "stdout",
     "output_type": "stream",
     "text": [
      "FIRE:   66 14:03:52    -3130.662612        0.174188\n"
     ]
    },
    {
     "name": "stderr",
     "output_type": "stream",
     "text": [
      "/home/mehuldarak/anaconda3/envs/mace/lib/python3.13/site-packages/ase/filters.py:606: RuntimeWarning: logm result may be inaccurate, approximate err = 3.507371767526393e-13\n",
      "  pos[natoms:] = self.logm(pos[natoms:]) * self.exp_cell_factor\n"
     ]
    },
    {
     "name": "stdout",
     "output_type": "stream",
     "text": [
      "FIRE:   67 14:03:53    -3130.668337        0.174071\n"
     ]
    },
    {
     "name": "stderr",
     "output_type": "stream",
     "text": [
      "/home/mehuldarak/anaconda3/envs/mace/lib/python3.13/site-packages/ase/filters.py:606: RuntimeWarning: logm result may be inaccurate, approximate err = 3.4373613666996343e-13\n",
      "  pos[natoms:] = self.logm(pos[natoms:]) * self.exp_cell_factor\n"
     ]
    },
    {
     "name": "stdout",
     "output_type": "stream",
     "text": [
      "FIRE:   68 14:03:54    -3130.675057        0.173921\n"
     ]
    },
    {
     "name": "stderr",
     "output_type": "stream",
     "text": [
      "/home/mehuldarak/anaconda3/envs/mace/lib/python3.13/site-packages/ase/filters.py:606: RuntimeWarning: logm result may be inaccurate, approximate err = 3.478204563361091e-13\n",
      "  pos[natoms:] = self.logm(pos[natoms:]) * self.exp_cell_factor\n"
     ]
    },
    {
     "name": "stdout",
     "output_type": "stream",
     "text": [
      "FIRE:   69 14:03:56    -3130.683271        0.173753\n"
     ]
    },
    {
     "name": "stderr",
     "output_type": "stream",
     "text": [
      "/home/mehuldarak/anaconda3/envs/mace/lib/python3.13/site-packages/ase/filters.py:606: RuntimeWarning: logm result may be inaccurate, approximate err = 3.4172255715975175e-13\n",
      "  pos[natoms:] = self.logm(pos[natoms:]) * self.exp_cell_factor\n"
     ]
    },
    {
     "name": "stdout",
     "output_type": "stream",
     "text": [
      "FIRE:   70 14:03:57    -3130.691236        0.173525\n"
     ]
    },
    {
     "name": "stderr",
     "output_type": "stream",
     "text": [
      "/home/mehuldarak/anaconda3/envs/mace/lib/python3.13/site-packages/ase/filters.py:606: RuntimeWarning: logm result may be inaccurate, approximate err = 3.534135805662242e-13\n",
      "  pos[natoms:] = self.logm(pos[natoms:]) * self.exp_cell_factor\n"
     ]
    },
    {
     "name": "stdout",
     "output_type": "stream",
     "text": [
      "FIRE:   71 14:03:58    -3130.701442        0.173217\n"
     ]
    },
    {
     "name": "stderr",
     "output_type": "stream",
     "text": [
      "/home/mehuldarak/anaconda3/envs/mace/lib/python3.13/site-packages/ase/filters.py:606: RuntimeWarning: logm result may be inaccurate, approximate err = 3.406683673670486e-13\n",
      "  pos[natoms:] = self.logm(pos[natoms:]) * self.exp_cell_factor\n"
     ]
    },
    {
     "name": "stdout",
     "output_type": "stream",
     "text": [
      "FIRE:   72 14:04:00    -3130.713140        0.172804\n"
     ]
    },
    {
     "name": "stderr",
     "output_type": "stream",
     "text": [
      "/home/mehuldarak/anaconda3/envs/mace/lib/python3.13/site-packages/ase/filters.py:606: RuntimeWarning: logm result may be inaccurate, approximate err = 3.4256113249584326e-13\n",
      "  pos[natoms:] = self.logm(pos[natoms:]) * self.exp_cell_factor\n"
     ]
    },
    {
     "name": "stdout",
     "output_type": "stream",
     "text": [
      "FIRE:   73 14:04:01    -3130.725586        0.172354\n"
     ]
    },
    {
     "name": "stderr",
     "output_type": "stream",
     "text": [
      "/home/mehuldarak/anaconda3/envs/mace/lib/python3.13/site-packages/ase/filters.py:606: RuntimeWarning: logm result may be inaccurate, approximate err = 3.4472263306684494e-13\n",
      "  pos[natoms:] = self.logm(pos[natoms:]) * self.exp_cell_factor\n"
     ]
    },
    {
     "name": "stdout",
     "output_type": "stream",
     "text": [
      "FIRE:   74 14:04:02    -3130.740272        0.171969\n"
     ]
    },
    {
     "name": "stderr",
     "output_type": "stream",
     "text": [
      "/home/mehuldarak/anaconda3/envs/mace/lib/python3.13/site-packages/ase/filters.py:606: RuntimeWarning: logm result may be inaccurate, approximate err = 3.5373345076581927e-13\n",
      "  pos[natoms:] = self.logm(pos[natoms:]) * self.exp_cell_factor\n"
     ]
    },
    {
     "name": "stdout",
     "output_type": "stream",
     "text": [
      "FIRE:   75 14:04:04    -3130.757446        0.171557\n"
     ]
    },
    {
     "name": "stderr",
     "output_type": "stream",
     "text": [
      "/home/mehuldarak/anaconda3/envs/mace/lib/python3.13/site-packages/ase/filters.py:606: RuntimeWarning: logm result may be inaccurate, approximate err = 3.518184823535823e-13\n",
      "  pos[natoms:] = self.logm(pos[natoms:]) * self.exp_cell_factor\n"
     ]
    },
    {
     "name": "stdout",
     "output_type": "stream",
     "text": [
      "FIRE:   76 14:04:05    -3130.774870        0.170915\n"
     ]
    },
    {
     "name": "stderr",
     "output_type": "stream",
     "text": [
      "/home/mehuldarak/anaconda3/envs/mace/lib/python3.13/site-packages/ase/filters.py:606: RuntimeWarning: logm result may be inaccurate, approximate err = 3.417462637900212e-13\n",
      "  pos[natoms:] = self.logm(pos[natoms:]) * self.exp_cell_factor\n"
     ]
    },
    {
     "name": "stdout",
     "output_type": "stream",
     "text": [
      "FIRE:   77 14:04:06    -3130.795280        0.170046\n"
     ]
    },
    {
     "name": "stderr",
     "output_type": "stream",
     "text": [
      "/home/mehuldarak/anaconda3/envs/mace/lib/python3.13/site-packages/ase/filters.py:606: RuntimeWarning: logm result may be inaccurate, approximate err = 3.4614035937891415e-13\n",
      "  pos[natoms:] = self.logm(pos[natoms:]) * self.exp_cell_factor\n"
     ]
    },
    {
     "name": "stdout",
     "output_type": "stream",
     "text": [
      "FIRE:   78 14:04:07    -3130.818678        0.169426\n"
     ]
    },
    {
     "name": "stderr",
     "output_type": "stream",
     "text": [
      "/home/mehuldarak/anaconda3/envs/mace/lib/python3.13/site-packages/ase/filters.py:606: RuntimeWarning: logm result may be inaccurate, approximate err = 3.378328216679306e-13\n",
      "  pos[natoms:] = self.logm(pos[natoms:]) * self.exp_cell_factor\n"
     ]
    },
    {
     "name": "stdout",
     "output_type": "stream",
     "text": [
      "FIRE:   79 14:04:08    -3130.845560        0.172197\n"
     ]
    },
    {
     "name": "stderr",
     "output_type": "stream",
     "text": [
      "/home/mehuldarak/anaconda3/envs/mace/lib/python3.13/site-packages/ase/filters.py:606: RuntimeWarning: logm result may be inaccurate, approximate err = 3.447842207474611e-13\n",
      "  pos[natoms:] = self.logm(pos[natoms:]) * self.exp_cell_factor\n"
     ]
    },
    {
     "name": "stdout",
     "output_type": "stream",
     "text": [
      "FIRE:   80 14:04:10    -3130.875927        0.207542\n"
     ]
    },
    {
     "name": "stderr",
     "output_type": "stream",
     "text": [
      "/home/mehuldarak/anaconda3/envs/mace/lib/python3.13/site-packages/ase/filters.py:606: RuntimeWarning: logm result may be inaccurate, approximate err = 3.4744475799704004e-13\n",
      "  pos[natoms:] = self.logm(pos[natoms:]) * self.exp_cell_factor\n"
     ]
    },
    {
     "name": "stdout",
     "output_type": "stream",
     "text": [
      "FIRE:   81 14:04:11    -3130.909032        0.216417\n"
     ]
    },
    {
     "name": "stderr",
     "output_type": "stream",
     "text": [
      "/home/mehuldarak/anaconda3/envs/mace/lib/python3.13/site-packages/ase/filters.py:606: RuntimeWarning: logm result may be inaccurate, approximate err = 3.50012951985064e-13\n",
      "  pos[natoms:] = self.logm(pos[natoms:]) * self.exp_cell_factor\n"
     ]
    },
    {
     "name": "stdout",
     "output_type": "stream",
     "text": [
      "FIRE:   82 14:04:12    -3130.947613        0.289446\n"
     ]
    },
    {
     "name": "stderr",
     "output_type": "stream",
     "text": [
      "/home/mehuldarak/anaconda3/envs/mace/lib/python3.13/site-packages/ase/filters.py:606: RuntimeWarning: logm result may be inaccurate, approximate err = 3.4329771248337995e-13\n",
      "  pos[natoms:] = self.logm(pos[natoms:]) * self.exp_cell_factor\n"
     ]
    },
    {
     "name": "stdout",
     "output_type": "stream",
     "text": [
      "FIRE:   83 14:04:14    -3130.982211        0.560501\n"
     ]
    },
    {
     "name": "stderr",
     "output_type": "stream",
     "text": [
      "/home/mehuldarak/anaconda3/envs/mace/lib/python3.13/site-packages/ase/filters.py:606: RuntimeWarning: logm result may be inaccurate, approximate err = 3.430964099705753e-13\n",
      "  pos[natoms:] = self.logm(pos[natoms:]) * self.exp_cell_factor\n"
     ]
    },
    {
     "name": "stdout",
     "output_type": "stream",
     "text": [
      "FIRE:   84 14:04:15    -3130.994657        1.129832\n"
     ]
    },
    {
     "name": "stderr",
     "output_type": "stream",
     "text": [
      "/home/mehuldarak/anaconda3/envs/mace/lib/python3.13/site-packages/ase/filters.py:606: RuntimeWarning: logm result may be inaccurate, approximate err = 3.440852942898199e-13\n",
      "  pos[natoms:] = self.logm(pos[natoms:]) * self.exp_cell_factor\n"
     ]
    },
    {
     "name": "stdout",
     "output_type": "stream",
     "text": [
      "FIRE:   85 14:04:16    -3131.042198        0.289711\n"
     ]
    },
    {
     "name": "stderr",
     "output_type": "stream",
     "text": [
      "/home/mehuldarak/anaconda3/envs/mace/lib/python3.13/site-packages/ase/filters.py:606: RuntimeWarning: logm result may be inaccurate, approximate err = 3.384088786315473e-13\n",
      "  pos[natoms:] = self.logm(pos[natoms:]) * self.exp_cell_factor\n"
     ]
    },
    {
     "name": "stdout",
     "output_type": "stream",
     "text": [
      "FIRE:   86 14:04:18    -3131.016809        0.784712\n"
     ]
    },
    {
     "name": "stderr",
     "output_type": "stream",
     "text": [
      "/home/mehuldarak/anaconda3/envs/mace/lib/python3.13/site-packages/ase/filters.py:606: RuntimeWarning: logm result may be inaccurate, approximate err = 3.4171276660011467e-13\n",
      "  pos[natoms:] = self.logm(pos[natoms:]) * self.exp_cell_factor\n"
     ]
    },
    {
     "name": "stdout",
     "output_type": "stream",
     "text": [
      "FIRE:   87 14:04:19    -3131.029753        0.719933\n"
     ]
    },
    {
     "name": "stderr",
     "output_type": "stream",
     "text": [
      "/home/mehuldarak/anaconda3/envs/mace/lib/python3.13/site-packages/ase/filters.py:606: RuntimeWarning: logm result may be inaccurate, approximate err = 3.4645997249735517e-13\n",
      "  pos[natoms:] = self.logm(pos[natoms:]) * self.exp_cell_factor\n"
     ]
    },
    {
     "name": "stdout",
     "output_type": "stream",
     "text": [
      "FIRE:   88 14:04:21    -3131.045683        0.483116\n"
     ]
    },
    {
     "name": "stderr",
     "output_type": "stream",
     "text": [
      "/home/mehuldarak/anaconda3/envs/mace/lib/python3.13/site-packages/ase/filters.py:606: RuntimeWarning: logm result may be inaccurate, approximate err = 3.401542665566738e-13\n",
      "  pos[natoms:] = self.logm(pos[natoms:]) * self.exp_cell_factor\n"
     ]
    },
    {
     "name": "stdout",
     "output_type": "stream",
     "text": [
      "FIRE:   89 14:04:22    -3131.052901        0.161564\n"
     ]
    },
    {
     "name": "stderr",
     "output_type": "stream",
     "text": [
      "/home/mehuldarak/anaconda3/envs/mace/lib/python3.13/site-packages/ase/filters.py:606: RuntimeWarning: logm result may be inaccurate, approximate err = 3.497612671333796e-13\n",
      "  pos[natoms:] = self.logm(pos[natoms:]) * self.exp_cell_factor\n"
     ]
    },
    {
     "name": "stdout",
     "output_type": "stream",
     "text": [
      "FIRE:   90 14:04:23    -3131.052652        0.161564\n"
     ]
    },
    {
     "name": "stderr",
     "output_type": "stream",
     "text": [
      "/home/mehuldarak/anaconda3/envs/mace/lib/python3.13/site-packages/ase/filters.py:606: RuntimeWarning: logm result may be inaccurate, approximate err = 3.5284175791048773e-13\n",
      "  pos[natoms:] = self.logm(pos[natoms:]) * self.exp_cell_factor\n"
     ]
    },
    {
     "name": "stdout",
     "output_type": "stream",
     "text": [
      "FIRE:   91 14:04:25    -3131.053150        0.161563\n"
     ]
    },
    {
     "name": "stderr",
     "output_type": "stream",
     "text": [
      "/home/mehuldarak/anaconda3/envs/mace/lib/python3.13/site-packages/ase/filters.py:606: RuntimeWarning: logm result may be inaccurate, approximate err = 3.469263658089659e-13\n",
      "  pos[natoms:] = self.logm(pos[natoms:]) * self.exp_cell_factor\n"
     ]
    },
    {
     "name": "stdout",
     "output_type": "stream",
     "text": [
      "FIRE:   92 14:04:26    -3131.054146        0.161568\n"
     ]
    },
    {
     "name": "stderr",
     "output_type": "stream",
     "text": [
      "/home/mehuldarak/anaconda3/envs/mace/lib/python3.13/site-packages/ase/filters.py:606: RuntimeWarning: logm result may be inaccurate, approximate err = 3.430947635650859e-13\n",
      "  pos[natoms:] = self.logm(pos[natoms:]) * self.exp_cell_factor\n"
     ]
    },
    {
     "name": "stdout",
     "output_type": "stream",
     "text": [
      "FIRE:   93 14:04:27    -3131.054893        0.161575\n"
     ]
    },
    {
     "name": "stderr",
     "output_type": "stream",
     "text": [
      "/home/mehuldarak/anaconda3/envs/mace/lib/python3.13/site-packages/ase/filters.py:606: RuntimeWarning: logm result may be inaccurate, approximate err = 3.452856183624892e-13\n",
      "  pos[natoms:] = self.logm(pos[natoms:]) * self.exp_cell_factor\n"
     ]
    },
    {
     "name": "stdout",
     "output_type": "stream",
     "text": [
      "FIRE:   94 14:04:28    -3131.055888        0.161586\n"
     ]
    },
    {
     "name": "stderr",
     "output_type": "stream",
     "text": [
      "/home/mehuldarak/anaconda3/envs/mace/lib/python3.13/site-packages/ase/filters.py:606: RuntimeWarning: logm result may be inaccurate, approximate err = 3.4483793414107196e-13\n",
      "  pos[natoms:] = self.logm(pos[natoms:]) * self.exp_cell_factor\n"
     ]
    },
    {
     "name": "stdout",
     "output_type": "stream",
     "text": [
      "FIRE:   95 14:04:30    -3131.056884        0.161595\n"
     ]
    },
    {
     "name": "stderr",
     "output_type": "stream",
     "text": [
      "/home/mehuldarak/anaconda3/envs/mace/lib/python3.13/site-packages/ase/filters.py:606: RuntimeWarning: logm result may be inaccurate, approximate err = 3.386379118546171e-13\n",
      "  pos[natoms:] = self.logm(pos[natoms:]) * self.exp_cell_factor\n"
     ]
    },
    {
     "name": "stdout",
     "output_type": "stream",
     "text": [
      "FIRE:   96 14:04:31    -3131.057631        0.161599\n"
     ]
    },
    {
     "name": "stderr",
     "output_type": "stream",
     "text": [
      "/home/mehuldarak/anaconda3/envs/mace/lib/python3.13/site-packages/ase/filters.py:606: RuntimeWarning: logm result may be inaccurate, approximate err = 3.4412358820505823e-13\n",
      "  pos[natoms:] = self.logm(pos[natoms:]) * self.exp_cell_factor\n"
     ]
    },
    {
     "name": "stdout",
     "output_type": "stream",
     "text": [
      "FIRE:   97 14:04:32    -3131.059622        0.161589\n"
     ]
    },
    {
     "name": "stderr",
     "output_type": "stream",
     "text": [
      "/home/mehuldarak/anaconda3/envs/mace/lib/python3.13/site-packages/ase/filters.py:606: RuntimeWarning: logm result may be inaccurate, approximate err = 3.428836297874412e-13\n",
      "  pos[natoms:] = self.logm(pos[natoms:]) * self.exp_cell_factor\n"
     ]
    },
    {
     "name": "stdout",
     "output_type": "stream",
     "text": [
      "FIRE:   98 14:04:34    -3131.060617        0.161559\n"
     ]
    },
    {
     "name": "stderr",
     "output_type": "stream",
     "text": [
      "/home/mehuldarak/anaconda3/envs/mace/lib/python3.13/site-packages/ase/filters.py:606: RuntimeWarning: logm result may be inaccurate, approximate err = 3.368498701076416e-13\n",
      "  pos[natoms:] = self.logm(pos[natoms:]) * self.exp_cell_factor\n"
     ]
    },
    {
     "name": "stdout",
     "output_type": "stream",
     "text": [
      "FIRE:   99 14:04:35    -3131.061862        0.161496\n"
     ]
    },
    {
     "name": "stderr",
     "output_type": "stream",
     "text": [
      "/home/mehuldarak/anaconda3/envs/mace/lib/python3.13/site-packages/ase/filters.py:606: RuntimeWarning: logm result may be inaccurate, approximate err = 3.389507989320019e-13\n",
      "  pos[natoms:] = self.logm(pos[natoms:]) * self.exp_cell_factor\n"
     ]
    },
    {
     "name": "stdout",
     "output_type": "stream",
     "text": [
      "FIRE:  100 14:04:36    -3131.064849        0.161395\n"
     ]
    },
    {
     "name": "stderr",
     "output_type": "stream",
     "text": [
      "/home/mehuldarak/anaconda3/envs/mace/lib/python3.13/site-packages/ase/filters.py:606: RuntimeWarning: logm result may be inaccurate, approximate err = 3.4648181098571173e-13\n",
      "  pos[natoms:] = self.logm(pos[natoms:]) * self.exp_cell_factor\n"
     ]
    },
    {
     "name": "stdout",
     "output_type": "stream",
     "text": [
      "FIRE:  101 14:04:38    -3131.066840        0.161257\n"
     ]
    },
    {
     "name": "stderr",
     "output_type": "stream",
     "text": [
      "/home/mehuldarak/anaconda3/envs/mace/lib/python3.13/site-packages/ase/filters.py:606: RuntimeWarning: logm result may be inaccurate, approximate err = 3.382514178788162e-13\n",
      "  pos[natoms:] = self.logm(pos[natoms:]) * self.exp_cell_factor\n"
     ]
    },
    {
     "name": "stdout",
     "output_type": "stream",
     "text": [
      "FIRE:  102 14:04:39    -3131.069827        0.161101\n"
     ]
    },
    {
     "name": "stderr",
     "output_type": "stream",
     "text": [
      "/home/mehuldarak/anaconda3/envs/mace/lib/python3.13/site-packages/ase/filters.py:606: RuntimeWarning: logm result may be inaccurate, approximate err = 3.4217169764246767e-13\n",
      "  pos[natoms:] = self.logm(pos[natoms:]) * self.exp_cell_factor\n"
     ]
    },
    {
     "name": "stdout",
     "output_type": "stream",
     "text": [
      "FIRE:  103 14:04:40    -3131.074059        0.160958\n"
     ]
    },
    {
     "name": "stderr",
     "output_type": "stream",
     "text": [
      "/home/mehuldarak/anaconda3/envs/mace/lib/python3.13/site-packages/ase/filters.py:606: RuntimeWarning: logm result may be inaccurate, approximate err = 3.4278592599736734e-13\n",
      "  pos[natoms:] = self.logm(pos[natoms:]) * self.exp_cell_factor\n"
     ]
    },
    {
     "name": "stdout",
     "output_type": "stream",
     "text": [
      "FIRE:  104 14:04:42    -3131.078290        0.160826\n"
     ]
    },
    {
     "name": "stderr",
     "output_type": "stream",
     "text": [
      "/home/mehuldarak/anaconda3/envs/mace/lib/python3.13/site-packages/ase/filters.py:606: RuntimeWarning: logm result may be inaccurate, approximate err = 3.374107177335817e-13\n",
      "  pos[natoms:] = self.logm(pos[natoms:]) * self.exp_cell_factor\n"
     ]
    },
    {
     "name": "stdout",
     "output_type": "stream",
     "text": [
      "FIRE:  105 14:04:43    -3131.083517        0.160701\n"
     ]
    },
    {
     "name": "stderr",
     "output_type": "stream",
     "text": [
      "/home/mehuldarak/anaconda3/envs/mace/lib/python3.13/site-packages/ase/filters.py:606: RuntimeWarning: logm result may be inaccurate, approximate err = 3.4546976715385e-13\n",
      "  pos[natoms:] = self.logm(pos[natoms:]) * self.exp_cell_factor\n"
     ]
    },
    {
     "name": "stdout",
     "output_type": "stream",
     "text": [
      "FIRE:  106 14:04:44    -3131.088993        0.160576\n"
     ]
    },
    {
     "name": "stderr",
     "output_type": "stream",
     "text": [
      "/home/mehuldarak/anaconda3/envs/mace/lib/python3.13/site-packages/ase/filters.py:606: RuntimeWarning: logm result may be inaccurate, approximate err = 3.435543024666022e-13\n",
      "  pos[natoms:] = self.logm(pos[natoms:]) * self.exp_cell_factor\n"
     ]
    },
    {
     "name": "stdout",
     "output_type": "stream",
     "text": [
      "FIRE:  107 14:04:45    -3131.095465        0.160435\n"
     ]
    },
    {
     "name": "stderr",
     "output_type": "stream",
     "text": [
      "/home/mehuldarak/anaconda3/envs/mace/lib/python3.13/site-packages/ase/filters.py:606: RuntimeWarning: logm result may be inaccurate, approximate err = 3.4384869000679053e-13\n",
      "  pos[natoms:] = self.logm(pos[natoms:]) * self.exp_cell_factor\n"
     ]
    },
    {
     "name": "stdout",
     "output_type": "stream",
     "text": [
      "FIRE:  108 14:04:47    -3131.105670        0.183579\n"
     ]
    },
    {
     "name": "stderr",
     "output_type": "stream",
     "text": [
      "/home/mehuldarak/anaconda3/envs/mace/lib/python3.13/site-packages/ase/filters.py:606: RuntimeWarning: logm result may be inaccurate, approximate err = 3.475694483182827e-13\n",
      "  pos[natoms:] = self.logm(pos[natoms:]) * self.exp_cell_factor\n"
     ]
    },
    {
     "name": "stdout",
     "output_type": "stream",
     "text": [
      "FIRE:  109 14:04:48    -3131.118613        0.247390\n"
     ]
    },
    {
     "name": "stderr",
     "output_type": "stream",
     "text": [
      "/home/mehuldarak/anaconda3/envs/mace/lib/python3.13/site-packages/ase/filters.py:606: RuntimeWarning: logm result may be inaccurate, approximate err = 3.525137196607621e-13\n",
      "  pos[natoms:] = self.logm(pos[natoms:]) * self.exp_cell_factor\n"
     ]
    },
    {
     "name": "stdout",
     "output_type": "stream",
     "text": [
      "FIRE:  110 14:04:49    -3131.137281        0.383913\n"
     ]
    },
    {
     "name": "stderr",
     "output_type": "stream",
     "text": [
      "/home/mehuldarak/anaconda3/envs/mace/lib/python3.13/site-packages/ase/filters.py:606: RuntimeWarning: logm result may be inaccurate, approximate err = 3.4270046874792464e-13\n",
      "  pos[natoms:] = self.logm(pos[natoms:]) * self.exp_cell_factor\n"
     ]
    },
    {
     "name": "stdout",
     "output_type": "stream",
     "text": [
      "FIRE:  111 14:04:51    -3131.165906        0.359384\n"
     ]
    },
    {
     "name": "stderr",
     "output_type": "stream",
     "text": [
      "/home/mehuldarak/anaconda3/envs/mace/lib/python3.13/site-packages/ase/filters.py:606: RuntimeWarning: logm result may be inaccurate, approximate err = 3.5093466953709383e-13\n",
      "  pos[natoms:] = self.logm(pos[natoms:]) * self.exp_cell_factor\n"
     ]
    },
    {
     "name": "stdout",
     "output_type": "stream",
     "text": [
      "FIRE:  112 14:04:52    -3131.193535        0.208421\n"
     ]
    },
    {
     "name": "stderr",
     "output_type": "stream",
     "text": [
      "/home/mehuldarak/anaconda3/envs/mace/lib/python3.13/site-packages/ase/filters.py:606: RuntimeWarning: logm result may be inaccurate, approximate err = 3.4411275915217793e-13\n",
      "  pos[natoms:] = self.logm(pos[natoms:]) * self.exp_cell_factor\n"
     ]
    },
    {
     "name": "stdout",
     "output_type": "stream",
     "text": [
      "FIRE:  113 14:04:54    -3131.214692        0.232001\n"
     ]
    },
    {
     "name": "stderr",
     "output_type": "stream",
     "text": [
      "/home/mehuldarak/anaconda3/envs/mace/lib/python3.13/site-packages/ase/filters.py:606: RuntimeWarning: logm result may be inaccurate, approximate err = 3.379045146059194e-13\n",
      "  pos[natoms:] = self.logm(pos[natoms:]) * self.exp_cell_factor\n"
     ]
    },
    {
     "name": "stdout",
     "output_type": "stream",
     "text": [
      "FIRE:  114 14:04:55    -3131.236098        0.273647\n"
     ]
    },
    {
     "name": "stderr",
     "output_type": "stream",
     "text": [
      "/home/mehuldarak/anaconda3/envs/mace/lib/python3.13/site-packages/ase/filters.py:606: RuntimeWarning: logm result may be inaccurate, approximate err = 3.3945184666967214e-13\n",
      "  pos[natoms:] = self.logm(pos[natoms:]) * self.exp_cell_factor\n"
     ]
    },
    {
     "name": "stdout",
     "output_type": "stream",
     "text": [
      "FIRE:  115 14:04:56    -3131.261238        0.242017\n"
     ]
    },
    {
     "name": "stderr",
     "output_type": "stream",
     "text": [
      "/home/mehuldarak/anaconda3/envs/mace/lib/python3.13/site-packages/ase/filters.py:606: RuntimeWarning: logm result may be inaccurate, approximate err = 3.417901839295967e-13\n",
      "  pos[natoms:] = self.logm(pos[natoms:]) * self.exp_cell_factor\n"
     ]
    },
    {
     "name": "stdout",
     "output_type": "stream",
     "text": [
      "FIRE:  116 14:04:58    -3131.291107        0.418345\n"
     ]
    },
    {
     "name": "stderr",
     "output_type": "stream",
     "text": [
      "/home/mehuldarak/anaconda3/envs/mace/lib/python3.13/site-packages/ase/filters.py:606: RuntimeWarning: logm result may be inaccurate, approximate err = 3.4046287346081074e-13\n",
      "  pos[natoms:] = self.logm(pos[natoms:]) * self.exp_cell_factor\n"
     ]
    },
    {
     "name": "stdout",
     "output_type": "stream",
     "text": [
      "FIRE:  117 14:04:59    -3131.314754        0.670647\n"
     ]
    },
    {
     "name": "stderr",
     "output_type": "stream",
     "text": [
      "/home/mehuldarak/anaconda3/envs/mace/lib/python3.13/site-packages/ase/filters.py:606: RuntimeWarning: logm result may be inaccurate, approximate err = 3.38110711904043e-13\n",
      "  pos[natoms:] = self.logm(pos[natoms:]) * self.exp_cell_factor\n"
     ]
    },
    {
     "name": "stdout",
     "output_type": "stream",
     "text": [
      "FIRE:  118 14:05:00    -3131.331182        0.246908\n"
     ]
    },
    {
     "name": "stderr",
     "output_type": "stream",
     "text": [
      "/home/mehuldarak/anaconda3/envs/mace/lib/python3.13/site-packages/ase/filters.py:606: RuntimeWarning: logm result may be inaccurate, approximate err = 3.4732621992294997e-13\n",
      "  pos[natoms:] = self.logm(pos[natoms:]) * self.exp_cell_factor\n"
     ]
    },
    {
     "name": "stdout",
     "output_type": "stream",
     "text": [
      "FIRE:  119 14:05:01    -3131.329937        0.595626\n"
     ]
    },
    {
     "name": "stderr",
     "output_type": "stream",
     "text": [
      "/home/mehuldarak/anaconda3/envs/mace/lib/python3.13/site-packages/ase/filters.py:606: RuntimeWarning: logm result may be inaccurate, approximate err = 3.4755543247248113e-13\n",
      "  pos[natoms:] = self.logm(pos[natoms:]) * self.exp_cell_factor\n"
     ]
    },
    {
     "name": "stdout",
     "output_type": "stream",
     "text": [
      "FIRE:  120 14:05:03    -3131.333920        0.485615\n"
     ]
    },
    {
     "name": "stderr",
     "output_type": "stream",
     "text": [
      "/home/mehuldarak/anaconda3/envs/mace/lib/python3.13/site-packages/ase/filters.py:606: RuntimeWarning: logm result may be inaccurate, approximate err = 3.5963276893819584e-13\n",
      "  pos[natoms:] = self.logm(pos[natoms:]) * self.exp_cell_factor\n"
     ]
    },
    {
     "name": "stdout",
     "output_type": "stream",
     "text": [
      "FIRE:  121 14:05:04    -3131.338400        0.166899\n"
     ]
    },
    {
     "name": "stderr",
     "output_type": "stream",
     "text": [
      "/home/mehuldarak/anaconda3/envs/mace/lib/python3.13/site-packages/ase/filters.py:606: RuntimeWarning: logm result may be inaccurate, approximate err = 3.4215710164019563e-13\n",
      "  pos[natoms:] = self.logm(pos[natoms:]) * self.exp_cell_factor\n"
     ]
    },
    {
     "name": "stdout",
     "output_type": "stream",
     "text": [
      "FIRE:  122 14:05:05    -3131.340142        0.154154\n"
     ]
    },
    {
     "name": "stderr",
     "output_type": "stream",
     "text": [
      "/home/mehuldarak/anaconda3/envs/mace/lib/python3.13/site-packages/ase/filters.py:606: RuntimeWarning: logm result may be inaccurate, approximate err = 3.4961596704559705e-13\n",
      "  pos[natoms:] = self.logm(pos[natoms:]) * self.exp_cell_factor\n"
     ]
    },
    {
     "name": "stdout",
     "output_type": "stream",
     "text": [
      "FIRE:  123 14:05:07    -3131.340640        0.287287\n"
     ]
    },
    {
     "name": "stderr",
     "output_type": "stream",
     "text": [
      "/home/mehuldarak/anaconda3/envs/mace/lib/python3.13/site-packages/ase/filters.py:606: RuntimeWarning: logm result may be inaccurate, approximate err = 3.4949909190559015e-13\n",
      "  pos[natoms:] = self.logm(pos[natoms:]) * self.exp_cell_factor\n"
     ]
    },
    {
     "name": "stdout",
     "output_type": "stream",
     "text": [
      "FIRE:  124 14:05:08    -3131.341387        0.280090\n"
     ]
    },
    {
     "name": "stderr",
     "output_type": "stream",
     "text": [
      "/home/mehuldarak/anaconda3/envs/mace/lib/python3.13/site-packages/ase/filters.py:606: RuntimeWarning: logm result may be inaccurate, approximate err = 3.4530643379342653e-13\n",
      "  pos[natoms:] = self.logm(pos[natoms:]) * self.exp_cell_factor\n"
     ]
    },
    {
     "name": "stdout",
     "output_type": "stream",
     "text": [
      "FIRE:  125 14:05:09    -3131.341885        0.263473\n"
     ]
    },
    {
     "name": "stderr",
     "output_type": "stream",
     "text": [
      "/home/mehuldarak/anaconda3/envs/mace/lib/python3.13/site-packages/ase/filters.py:606: RuntimeWarning: logm result may be inaccurate, approximate err = 3.452092480651872e-13\n",
      "  pos[natoms:] = self.logm(pos[natoms:]) * self.exp_cell_factor\n"
     ]
    },
    {
     "name": "stdout",
     "output_type": "stream",
     "text": [
      "FIRE:  126 14:05:11    -3131.342382        0.231969\n"
     ]
    },
    {
     "name": "stderr",
     "output_type": "stream",
     "text": [
      "/home/mehuldarak/anaconda3/envs/mace/lib/python3.13/site-packages/ase/filters.py:606: RuntimeWarning: logm result may be inaccurate, approximate err = 3.4057821826217223e-13\n",
      "  pos[natoms:] = self.logm(pos[natoms:]) * self.exp_cell_factor\n"
     ]
    },
    {
     "name": "stdout",
     "output_type": "stream",
     "text": [
      "FIRE:  127 14:05:12    -3131.343876        0.180792\n"
     ]
    },
    {
     "name": "stderr",
     "output_type": "stream",
     "text": [
      "/home/mehuldarak/anaconda3/envs/mace/lib/python3.13/site-packages/ase/filters.py:606: RuntimeWarning: logm result may be inaccurate, approximate err = 3.4330320207866413e-13\n",
      "  pos[natoms:] = self.logm(pos[natoms:]) * self.exp_cell_factor\n"
     ]
    },
    {
     "name": "stdout",
     "output_type": "stream",
     "text": [
      "FIRE:  128 14:05:13    -3131.344374        0.154110\n"
     ]
    },
    {
     "name": "stderr",
     "output_type": "stream",
     "text": [
      "/home/mehuldarak/anaconda3/envs/mace/lib/python3.13/site-packages/ase/filters.py:606: RuntimeWarning: logm result may be inaccurate, approximate err = 3.508923470178892e-13\n",
      "  pos[natoms:] = self.logm(pos[natoms:]) * self.exp_cell_factor\n"
     ]
    },
    {
     "name": "stdout",
     "output_type": "stream",
     "text": [
      "FIRE:  129 14:05:14    -3131.345369        0.154149\n"
     ]
    },
    {
     "name": "stderr",
     "output_type": "stream",
     "text": [
      "/home/mehuldarak/anaconda3/envs/mace/lib/python3.13/site-packages/ase/filters.py:606: RuntimeWarning: logm result may be inaccurate, approximate err = 3.5455973232327033e-13\n",
      "  pos[natoms:] = self.logm(pos[natoms:]) * self.exp_cell_factor\n"
     ]
    },
    {
     "name": "stdout",
     "output_type": "stream",
     "text": [
      "FIRE:  130 14:05:16    -3131.346365        0.154185\n"
     ]
    },
    {
     "name": "stderr",
     "output_type": "stream",
     "text": [
      "/home/mehuldarak/anaconda3/envs/mace/lib/python3.13/site-packages/ase/filters.py:606: RuntimeWarning: logm result may be inaccurate, approximate err = 3.453396660794353e-13\n",
      "  pos[natoms:] = self.logm(pos[natoms:]) * self.exp_cell_factor\n"
     ]
    },
    {
     "name": "stdout",
     "output_type": "stream",
     "text": [
      "FIRE:  131 14:05:17    -3131.346863        0.154203\n"
     ]
    },
    {
     "name": "stderr",
     "output_type": "stream",
     "text": [
      "/home/mehuldarak/anaconda3/envs/mace/lib/python3.13/site-packages/ase/filters.py:606: RuntimeWarning: logm result may be inaccurate, approximate err = 3.4217948691736927e-13\n",
      "  pos[natoms:] = self.logm(pos[natoms:]) * self.exp_cell_factor\n"
     ]
    },
    {
     "name": "stdout",
     "output_type": "stream",
     "text": [
      "FIRE:  132 14:05:18    -3131.348107        0.174417\n"
     ]
    },
    {
     "name": "stderr",
     "output_type": "stream",
     "text": [
      "/home/mehuldarak/anaconda3/envs/mace/lib/python3.13/site-packages/ase/filters.py:606: RuntimeWarning: logm result may be inaccurate, approximate err = 3.42478539257484e-13\n",
      "  pos[natoms:] = self.logm(pos[natoms:]) * self.exp_cell_factor\n"
     ]
    },
    {
     "name": "stdout",
     "output_type": "stream",
     "text": [
      "FIRE:  133 14:05:20    -3131.349850        0.190088\n"
     ]
    },
    {
     "name": "stderr",
     "output_type": "stream",
     "text": [
      "/home/mehuldarak/anaconda3/envs/mace/lib/python3.13/site-packages/ase/filters.py:606: RuntimeWarning: logm result may be inaccurate, approximate err = 3.4338212672634983e-13\n",
      "  pos[natoms:] = self.logm(pos[natoms:]) * self.exp_cell_factor\n"
     ]
    },
    {
     "name": "stdout",
     "output_type": "stream",
     "text": [
      "FIRE:  134 14:05:21    -3131.351343        0.163616\n"
     ]
    },
    {
     "name": "stderr",
     "output_type": "stream",
     "text": [
      "/home/mehuldarak/anaconda3/envs/mace/lib/python3.13/site-packages/ase/filters.py:606: RuntimeWarning: logm result may be inaccurate, approximate err = 3.4041012646387313e-13\n",
      "  pos[natoms:] = self.logm(pos[natoms:]) * self.exp_cell_factor\n"
     ]
    },
    {
     "name": "stdout",
     "output_type": "stream",
     "text": [
      "FIRE:  135 14:05:22    -3131.354330        0.154083\n"
     ]
    },
    {
     "name": "stderr",
     "output_type": "stream",
     "text": [
      "/home/mehuldarak/anaconda3/envs/mace/lib/python3.13/site-packages/ase/filters.py:606: RuntimeWarning: logm result may be inaccurate, approximate err = 3.436050219086272e-13\n",
      "  pos[natoms:] = self.logm(pos[natoms:]) * self.exp_cell_factor\n"
     ]
    },
    {
     "name": "stdout",
     "output_type": "stream",
     "text": [
      "FIRE:  136 14:05:24    -3131.357566        0.153986\n"
     ]
    },
    {
     "name": "stderr",
     "output_type": "stream",
     "text": [
      "/home/mehuldarak/anaconda3/envs/mace/lib/python3.13/site-packages/ase/filters.py:606: RuntimeWarning: logm result may be inaccurate, approximate err = 3.4252126716558114e-13\n",
      "  pos[natoms:] = self.logm(pos[natoms:]) * self.exp_cell_factor\n"
     ]
    },
    {
     "name": "stdout",
     "output_type": "stream",
     "text": [
      "FIRE:  137 14:05:25    -3131.361051        0.153901\n"
     ]
    },
    {
     "name": "stderr",
     "output_type": "stream",
     "text": [
      "/home/mehuldarak/anaconda3/envs/mace/lib/python3.13/site-packages/ase/filters.py:606: RuntimeWarning: logm result may be inaccurate, approximate err = 3.4047017148857424e-13\n",
      "  pos[natoms:] = self.logm(pos[natoms:]) * self.exp_cell_factor\n"
     ]
    },
    {
     "name": "stdout",
     "output_type": "stream",
     "text": [
      "FIRE:  138 14:05:26    -3131.365033        0.159323\n"
     ]
    },
    {
     "name": "stderr",
     "output_type": "stream",
     "text": [
      "/home/mehuldarak/anaconda3/envs/mace/lib/python3.13/site-packages/ase/filters.py:606: RuntimeWarning: logm result may be inaccurate, approximate err = 3.411739712355789e-13\n",
      "  pos[natoms:] = self.logm(pos[natoms:]) * self.exp_cell_factor\n"
     ]
    },
    {
     "name": "stdout",
     "output_type": "stream",
     "text": [
      "FIRE:  139 14:05:28    -3131.370758        0.219017\n"
     ]
    },
    {
     "name": "stderr",
     "output_type": "stream",
     "text": [
      "/home/mehuldarak/anaconda3/envs/mace/lib/python3.13/site-packages/ase/filters.py:606: RuntimeWarning: logm result may be inaccurate, approximate err = 3.4503918879486663e-13\n",
      "  pos[natoms:] = self.logm(pos[natoms:]) * self.exp_cell_factor\n"
     ]
    },
    {
     "name": "stdout",
     "output_type": "stream",
     "text": [
      "FIRE:  140 14:05:29    -3131.378972        0.292441\n"
     ]
    },
    {
     "name": "stderr",
     "output_type": "stream",
     "text": [
      "/home/mehuldarak/anaconda3/envs/mace/lib/python3.13/site-packages/ase/filters.py:606: RuntimeWarning: logm result may be inaccurate, approximate err = 3.424256661541013e-13\n",
      "  pos[natoms:] = self.logm(pos[natoms:]) * self.exp_cell_factor\n"
     ]
    },
    {
     "name": "stdout",
     "output_type": "stream",
     "text": [
      "FIRE:  141 14:05:30    -3131.389177        0.458016\n"
     ]
    },
    {
     "name": "stderr",
     "output_type": "stream",
     "text": [
      "/home/mehuldarak/anaconda3/envs/mace/lib/python3.13/site-packages/ase/filters.py:606: RuntimeWarning: logm result may be inaccurate, approximate err = 3.506842291812985e-13\n",
      "  pos[natoms:] = self.logm(pos[natoms:]) * self.exp_cell_factor\n"
     ]
    },
    {
     "name": "stdout",
     "output_type": "stream",
     "text": [
      "FIRE:  142 14:05:32    -3131.412077        0.648897\n"
     ]
    },
    {
     "name": "stderr",
     "output_type": "stream",
     "text": [
      "/home/mehuldarak/anaconda3/envs/mace/lib/python3.13/site-packages/ase/filters.py:606: RuntimeWarning: logm result may be inaccurate, approximate err = 3.484453400802798e-13\n",
      "  pos[natoms:] = self.logm(pos[natoms:]) * self.exp_cell_factor\n"
     ]
    },
    {
     "name": "stdout",
     "output_type": "stream",
     "text": [
      "FIRE:  143 14:05:33    -3131.452151        0.740396\n"
     ]
    },
    {
     "name": "stderr",
     "output_type": "stream",
     "text": [
      "/home/mehuldarak/anaconda3/envs/mace/lib/python3.13/site-packages/ase/filters.py:606: RuntimeWarning: logm result may be inaccurate, approximate err = 3.430301640292596e-13\n",
      "  pos[natoms:] = self.logm(pos[natoms:]) * self.exp_cell_factor\n"
     ]
    },
    {
     "name": "stdout",
     "output_type": "stream",
     "text": [
      "FIRE:  144 14:05:34    -3131.515125        0.707196\n"
     ]
    },
    {
     "name": "stderr",
     "output_type": "stream",
     "text": [
      "/home/mehuldarak/anaconda3/envs/mace/lib/python3.13/site-packages/ase/filters.py:606: RuntimeWarning: logm result may be inaccurate, approximate err = 3.411792406888024e-13\n",
      "  pos[natoms:] = self.logm(pos[natoms:]) * self.exp_cell_factor\n"
     ]
    },
    {
     "name": "stdout",
     "output_type": "stream",
     "text": [
      "FIRE:  145 14:05:36    -3131.587060        0.486281\n"
     ]
    },
    {
     "name": "stderr",
     "output_type": "stream",
     "text": [
      "/home/mehuldarak/anaconda3/envs/mace/lib/python3.13/site-packages/ase/filters.py:606: RuntimeWarning: logm result may be inaccurate, approximate err = 3.521985643491505e-13\n",
      "  pos[natoms:] = self.logm(pos[natoms:]) * self.exp_cell_factor\n"
     ]
    },
    {
     "name": "stdout",
     "output_type": "stream",
     "text": [
      "FIRE:  146 14:05:37    -3131.651527        0.310838\n"
     ]
    },
    {
     "name": "stderr",
     "output_type": "stream",
     "text": [
      "/home/mehuldarak/anaconda3/envs/mace/lib/python3.13/site-packages/ase/filters.py:606: RuntimeWarning: logm result may be inaccurate, approximate err = 3.42042279509483e-13\n",
      "  pos[natoms:] = self.logm(pos[natoms:]) * self.exp_cell_factor\n"
     ]
    },
    {
     "name": "stdout",
     "output_type": "stream",
     "text": [
      "FIRE:  147 14:05:38    -3131.700811        0.327491\n"
     ]
    },
    {
     "name": "stderr",
     "output_type": "stream",
     "text": [
      "/home/mehuldarak/anaconda3/envs/mace/lib/python3.13/site-packages/ase/filters.py:606: RuntimeWarning: logm result may be inaccurate, approximate err = 3.4328149309574884e-13\n",
      "  pos[natoms:] = self.logm(pos[natoms:]) * self.exp_cell_factor\n"
     ]
    },
    {
     "name": "stdout",
     "output_type": "stream",
     "text": [
      "FIRE:  148 14:05:39    -3131.722218        0.497124\n"
     ]
    },
    {
     "name": "stderr",
     "output_type": "stream",
     "text": [
      "/home/mehuldarak/anaconda3/envs/mace/lib/python3.13/site-packages/ase/filters.py:606: RuntimeWarning: logm result may be inaccurate, approximate err = 3.4678364654931823e-13\n",
      "  pos[natoms:] = self.logm(pos[natoms:]) * self.exp_cell_factor\n"
     ]
    },
    {
     "name": "stdout",
     "output_type": "stream",
     "text": [
      "FIRE:  149 14:05:41    -3131.744370        0.446315\n"
     ]
    },
    {
     "name": "stderr",
     "output_type": "stream",
     "text": [
      "/home/mehuldarak/anaconda3/envs/mace/lib/python3.13/site-packages/ase/filters.py:606: RuntimeWarning: logm result may be inaccurate, approximate err = 3.473426934027627e-13\n",
      "  pos[natoms:] = self.logm(pos[natoms:]) * self.exp_cell_factor\n"
     ]
    },
    {
     "name": "stdout",
     "output_type": "stream",
     "text": [
      "FIRE:  150 14:05:42    -3131.780462        0.366583\n"
     ]
    },
    {
     "name": "stderr",
     "output_type": "stream",
     "text": [
      "/home/mehuldarak/anaconda3/envs/mace/lib/python3.13/site-packages/ase/filters.py:606: RuntimeWarning: logm result may be inaccurate, approximate err = 3.3728653095745467e-13\n",
      "  pos[natoms:] = self.logm(pos[natoms:]) * self.exp_cell_factor\n"
     ]
    },
    {
     "name": "stdout",
     "output_type": "stream",
     "text": [
      "FIRE:  151 14:05:43    -3131.830493        0.328831\n"
     ]
    },
    {
     "name": "stderr",
     "output_type": "stream",
     "text": [
      "/home/mehuldarak/anaconda3/envs/mace/lib/python3.13/site-packages/ase/filters.py:606: RuntimeWarning: logm result may be inaccurate, approximate err = 3.4456245211641773e-13\n",
      "  pos[natoms:] = self.logm(pos[natoms:]) * self.exp_cell_factor\n"
     ]
    },
    {
     "name": "stdout",
     "output_type": "stream",
     "text": [
      "FIRE:  152 14:05:45    -3131.881270        0.547312\n"
     ]
    },
    {
     "name": "stderr",
     "output_type": "stream",
     "text": [
      "/home/mehuldarak/anaconda3/envs/mace/lib/python3.13/site-packages/ase/filters.py:606: RuntimeWarning: logm result may be inaccurate, approximate err = 3.4165689171103185e-13\n",
      "  pos[natoms:] = self.logm(pos[natoms:]) * self.exp_cell_factor\n"
     ]
    },
    {
     "name": "stdout",
     "output_type": "stream",
     "text": [
      "FIRE:  153 14:05:46    -3131.899939        0.388065\n"
     ]
    },
    {
     "name": "stderr",
     "output_type": "stream",
     "text": [
      "/home/mehuldarak/anaconda3/envs/mace/lib/python3.13/site-packages/ase/filters.py:606: RuntimeWarning: logm result may be inaccurate, approximate err = 3.3985684339732063e-13\n",
      "  pos[natoms:] = self.logm(pos[natoms:]) * self.exp_cell_factor\n"
     ]
    },
    {
     "name": "stdout",
     "output_type": "stream",
     "text": [
      "FIRE:  154 14:05:47    -3131.916367        0.458547\n"
     ]
    },
    {
     "name": "stderr",
     "output_type": "stream",
     "text": [
      "/home/mehuldarak/anaconda3/envs/mace/lib/python3.13/site-packages/ase/filters.py:606: RuntimeWarning: logm result may be inaccurate, approximate err = 3.414633065428931e-13\n",
      "  pos[natoms:] = self.logm(pos[natoms:]) * self.exp_cell_factor\n"
     ]
    },
    {
     "name": "stdout",
     "output_type": "stream",
     "text": [
      "FIRE:  155 14:05:49    -3131.946733        0.624237\n"
     ]
    },
    {
     "name": "stderr",
     "output_type": "stream",
     "text": [
      "/home/mehuldarak/anaconda3/envs/mace/lib/python3.13/site-packages/ase/filters.py:606: RuntimeWarning: logm result may be inaccurate, approximate err = 3.4290413848138144e-13\n",
      "  pos[natoms:] = self.logm(pos[natoms:]) * self.exp_cell_factor\n"
     ]
    },
    {
     "name": "stdout",
     "output_type": "stream",
     "text": [
      "FIRE:  156 14:05:50    -3131.995769        0.666662\n"
     ]
    },
    {
     "name": "stderr",
     "output_type": "stream",
     "text": [
      "/home/mehuldarak/anaconda3/envs/mace/lib/python3.13/site-packages/ase/filters.py:606: RuntimeWarning: logm result may be inaccurate, approximate err = 3.3770121744784905e-13\n",
      "  pos[natoms:] = self.logm(pos[natoms:]) * self.exp_cell_factor\n"
     ]
    },
    {
     "name": "stdout",
     "output_type": "stream",
     "text": [
      "FIRE:  157 14:05:51    -3132.045550        0.532023\n"
     ]
    },
    {
     "name": "stderr",
     "output_type": "stream",
     "text": [
      "/home/mehuldarak/anaconda3/envs/mace/lib/python3.13/site-packages/ase/filters.py:606: RuntimeWarning: logm result may be inaccurate, approximate err = 3.4039919209170753e-13\n",
      "  pos[natoms:] = self.logm(pos[natoms:]) * self.exp_cell_factor\n"
     ]
    },
    {
     "name": "stdout",
     "output_type": "stream",
     "text": [
      "FIRE:  158 14:05:53    -3132.095830        0.415482\n"
     ]
    },
    {
     "name": "stderr",
     "output_type": "stream",
     "text": [
      "/home/mehuldarak/anaconda3/envs/mace/lib/python3.13/site-packages/ase/filters.py:606: RuntimeWarning: logm result may be inaccurate, approximate err = 3.4534012664232575e-13\n",
      "  pos[natoms:] = self.logm(pos[natoms:]) * self.exp_cell_factor\n"
     ]
    },
    {
     "name": "stdout",
     "output_type": "stream",
     "text": [
      "FIRE:  159 14:05:54    -3132.132171        0.316004\n"
     ]
    },
    {
     "name": "stderr",
     "output_type": "stream",
     "text": [
      "/home/mehuldarak/anaconda3/envs/mace/lib/python3.13/site-packages/ase/filters.py:606: RuntimeWarning: logm result may be inaccurate, approximate err = 3.4479007091835384e-13\n",
      "  pos[natoms:] = self.logm(pos[natoms:]) * self.exp_cell_factor\n"
     ]
    },
    {
     "name": "stdout",
     "output_type": "stream",
     "text": [
      "FIRE:  160 14:05:55    -3132.165276        0.313178\n"
     ]
    },
    {
     "name": "stderr",
     "output_type": "stream",
     "text": [
      "/home/mehuldarak/anaconda3/envs/mace/lib/python3.13/site-packages/ase/filters.py:606: RuntimeWarning: logm result may be inaccurate, approximate err = 3.452859200728146e-13\n",
      "  pos[natoms:] = self.logm(pos[natoms:]) * self.exp_cell_factor\n"
     ]
    },
    {
     "name": "stdout",
     "output_type": "stream",
     "text": [
      "FIRE:  161 14:05:56    -3132.194647        0.337803\n"
     ]
    },
    {
     "name": "stderr",
     "output_type": "stream",
     "text": [
      "/home/mehuldarak/anaconda3/envs/mace/lib/python3.13/site-packages/ase/filters.py:606: RuntimeWarning: logm result may be inaccurate, approximate err = 3.47648436917796e-13\n",
      "  pos[natoms:] = self.logm(pos[natoms:]) * self.exp_cell_factor\n"
     ]
    },
    {
     "name": "stdout",
     "output_type": "stream",
     "text": [
      "FIRE:  162 14:05:58    -3132.218044        0.400289\n"
     ]
    },
    {
     "name": "stderr",
     "output_type": "stream",
     "text": [
      "/home/mehuldarak/anaconda3/envs/mace/lib/python3.13/site-packages/ase/filters.py:606: RuntimeWarning: logm result may be inaccurate, approximate err = 3.421329602032528e-13\n",
      "  pos[natoms:] = self.logm(pos[natoms:]) * self.exp_cell_factor\n"
     ]
    },
    {
     "name": "stdout",
     "output_type": "stream",
     "text": [
      "FIRE:  163 14:05:59    -3132.239450        0.407189\n"
     ]
    },
    {
     "name": "stderr",
     "output_type": "stream",
     "text": [
      "/home/mehuldarak/anaconda3/envs/mace/lib/python3.13/site-packages/ase/filters.py:606: RuntimeWarning: logm result may be inaccurate, approximate err = 3.3833678609615456e-13\n",
      "  pos[natoms:] = self.logm(pos[natoms:]) * self.exp_cell_factor\n"
     ]
    },
    {
     "name": "stdout",
     "output_type": "stream",
     "text": [
      "FIRE:  164 14:06:00    -3132.266830        0.355234\n"
     ]
    },
    {
     "name": "stderr",
     "output_type": "stream",
     "text": [
      "/home/mehuldarak/anaconda3/envs/mace/lib/python3.13/site-packages/ase/filters.py:606: RuntimeWarning: logm result may be inaccurate, approximate err = 3.4671980934435004e-13\n",
      "  pos[natoms:] = self.logm(pos[natoms:]) * self.exp_cell_factor\n"
     ]
    },
    {
     "name": "stdout",
     "output_type": "stream",
     "text": [
      "FIRE:  165 14:06:02    -3132.305909        0.335434\n"
     ]
    },
    {
     "name": "stderr",
     "output_type": "stream",
     "text": [
      "/home/mehuldarak/anaconda3/envs/mace/lib/python3.13/site-packages/ase/filters.py:606: RuntimeWarning: logm result may be inaccurate, approximate err = 3.4858329275085765e-13\n",
      "  pos[natoms:] = self.logm(pos[natoms:]) * self.exp_cell_factor\n"
     ]
    },
    {
     "name": "stdout",
     "output_type": "stream",
     "text": [
      "FIRE:  166 14:06:03    -3132.347228        0.326002\n"
     ]
    },
    {
     "name": "stderr",
     "output_type": "stream",
     "text": [
      "/home/mehuldarak/anaconda3/envs/mace/lib/python3.13/site-packages/ase/filters.py:606: RuntimeWarning: logm result may be inaccurate, approximate err = 3.470531809931842e-13\n",
      "  pos[natoms:] = self.logm(pos[natoms:]) * self.exp_cell_factor\n"
     ]
    },
    {
     "name": "stdout",
     "output_type": "stream",
     "text": [
      "FIRE:  167 14:06:04    -3132.384564        0.646923\n"
     ]
    },
    {
     "name": "stderr",
     "output_type": "stream",
     "text": [
      "/home/mehuldarak/anaconda3/envs/mace/lib/python3.13/site-packages/ase/filters.py:606: RuntimeWarning: logm result may be inaccurate, approximate err = 3.454260770318489e-13\n",
      "  pos[natoms:] = self.logm(pos[natoms:]) * self.exp_cell_factor\n"
     ]
    },
    {
     "name": "stdout",
     "output_type": "stream",
     "text": [
      "FIRE:  168 14:06:06    -3132.417918        0.505522\n"
     ]
    },
    {
     "name": "stderr",
     "output_type": "stream",
     "text": [
      "/home/mehuldarak/anaconda3/envs/mace/lib/python3.13/site-packages/ase/filters.py:606: RuntimeWarning: logm result may be inaccurate, approximate err = 3.3841786488350994e-13\n",
      "  pos[natoms:] = self.logm(pos[natoms:]) * self.exp_cell_factor\n"
     ]
    },
    {
     "name": "stdout",
     "output_type": "stream",
     "text": [
      "FIRE:  169 14:06:07    -3132.435840        0.722633\n"
     ]
    },
    {
     "name": "stderr",
     "output_type": "stream",
     "text": [
      "/home/mehuldarak/anaconda3/envs/mace/lib/python3.13/site-packages/ase/filters.py:606: RuntimeWarning: logm result may be inaccurate, approximate err = 3.450416976781686e-13\n",
      "  pos[natoms:] = self.logm(pos[natoms:]) * self.exp_cell_factor\n"
     ]
    },
    {
     "name": "stdout",
     "output_type": "stream",
     "text": [
      "FIRE:  170 14:06:08    -3132.485373        0.625513\n"
     ]
    },
    {
     "name": "stderr",
     "output_type": "stream",
     "text": [
      "/home/mehuldarak/anaconda3/envs/mace/lib/python3.13/site-packages/ase/filters.py:606: RuntimeWarning: logm result may be inaccurate, approximate err = 3.4483702650573455e-13\n",
      "  pos[natoms:] = self.logm(pos[natoms:]) * self.exp_cell_factor\n"
     ]
    },
    {
     "name": "stdout",
     "output_type": "stream",
     "text": [
      "FIRE:  171 14:06:09    -3132.531670        0.409785\n"
     ]
    },
    {
     "name": "stderr",
     "output_type": "stream",
     "text": [
      "/home/mehuldarak/anaconda3/envs/mace/lib/python3.13/site-packages/ase/filters.py:606: RuntimeWarning: logm result may be inaccurate, approximate err = 3.455648330213784e-13\n",
      "  pos[natoms:] = self.logm(pos[natoms:]) * self.exp_cell_factor\n"
     ]
    },
    {
     "name": "stdout",
     "output_type": "stream",
     "text": [
      "FIRE:  172 14:06:11    -3132.557058        0.518558\n"
     ]
    },
    {
     "name": "stderr",
     "output_type": "stream",
     "text": [
      "/home/mehuldarak/anaconda3/envs/mace/lib/python3.13/site-packages/ase/filters.py:606: RuntimeWarning: logm result may be inaccurate, approximate err = 3.400971480048381e-13\n",
      "  pos[natoms:] = self.logm(pos[natoms:]) * self.exp_cell_factor\n"
     ]
    },
    {
     "name": "stdout",
     "output_type": "stream",
     "text": [
      "FIRE:  173 14:06:12    -3132.596386        0.314305\n"
     ]
    },
    {
     "name": "stderr",
     "output_type": "stream",
     "text": [
      "/home/mehuldarak/anaconda3/envs/mace/lib/python3.13/site-packages/ase/filters.py:606: RuntimeWarning: logm result may be inaccurate, approximate err = 3.481069011394489e-13\n",
      "  pos[natoms:] = self.logm(pos[natoms:]) * self.exp_cell_factor\n"
     ]
    },
    {
     "name": "stdout",
     "output_type": "stream",
     "text": [
      "FIRE:  174 14:06:14    -3132.620779        0.643113\n"
     ]
    },
    {
     "name": "stderr",
     "output_type": "stream",
     "text": [
      "/home/mehuldarak/anaconda3/envs/mace/lib/python3.13/site-packages/ase/filters.py:606: RuntimeWarning: logm result may be inaccurate, approximate err = 3.4048459464471176e-13\n",
      "  pos[natoms:] = self.logm(pos[natoms:]) * self.exp_cell_factor\n"
     ]
    },
    {
     "name": "stdout",
     "output_type": "stream",
     "text": [
      "FIRE:  175 14:06:15    -3132.655626        0.437319\n"
     ]
    },
    {
     "name": "stderr",
     "output_type": "stream",
     "text": [
      "/home/mehuldarak/anaconda3/envs/mace/lib/python3.13/site-packages/ase/filters.py:606: RuntimeWarning: logm result may be inaccurate, approximate err = 3.4779321277411643e-13\n",
      "  pos[natoms:] = self.logm(pos[natoms:]) * self.exp_cell_factor\n"
     ]
    },
    {
     "name": "stdout",
     "output_type": "stream",
     "text": [
      "FIRE:  176 14:06:16    -3132.686740        0.471476\n"
     ]
    },
    {
     "name": "stderr",
     "output_type": "stream",
     "text": [
      "/home/mehuldarak/anaconda3/envs/mace/lib/python3.13/site-packages/ase/filters.py:606: RuntimeWarning: logm result may be inaccurate, approximate err = 3.513198760547376e-13\n",
      "  pos[natoms:] = self.logm(pos[natoms:]) * self.exp_cell_factor\n"
     ]
    },
    {
     "name": "stdout",
     "output_type": "stream",
     "text": [
      "FIRE:  177 14:06:18    -3132.710137        0.476544\n"
     ]
    },
    {
     "name": "stderr",
     "output_type": "stream",
     "text": [
      "/home/mehuldarak/anaconda3/envs/mace/lib/python3.13/site-packages/ase/filters.py:606: RuntimeWarning: logm result may be inaccurate, approximate err = 3.446281648997249e-13\n",
      "  pos[natoms:] = self.logm(pos[natoms:]) * self.exp_cell_factor\n"
     ]
    },
    {
     "name": "stdout",
     "output_type": "stream",
     "text": [
      "FIRE:  178 14:06:19    -3132.716609        0.388410\n"
     ]
    },
    {
     "name": "stderr",
     "output_type": "stream",
     "text": [
      "/home/mehuldarak/anaconda3/envs/mace/lib/python3.13/site-packages/ase/filters.py:606: RuntimeWarning: logm result may be inaccurate, approximate err = 3.5434959861083657e-13\n",
      "  pos[natoms:] = self.logm(pos[natoms:]) * self.exp_cell_factor\n"
     ]
    },
    {
     "name": "stdout",
     "output_type": "stream",
     "text": [
      "FIRE:  179 14:06:20    -3132.725072        0.261693\n"
     ]
    },
    {
     "name": "stderr",
     "output_type": "stream",
     "text": [
      "/home/mehuldarak/anaconda3/envs/mace/lib/python3.13/site-packages/ase/filters.py:606: RuntimeWarning: logm result may be inaccurate, approximate err = 3.4330737908473916e-13\n",
      "  pos[natoms:] = self.logm(pos[natoms:]) * self.exp_cell_factor\n"
     ]
    },
    {
     "name": "stdout",
     "output_type": "stream",
     "text": [
      "FIRE:  180 14:06:21    -3132.732539        0.211437\n"
     ]
    },
    {
     "name": "stderr",
     "output_type": "stream",
     "text": [
      "/home/mehuldarak/anaconda3/envs/mace/lib/python3.13/site-packages/ase/filters.py:606: RuntimeWarning: logm result may be inaccurate, approximate err = 3.457455587233728e-13\n",
      "  pos[natoms:] = self.logm(pos[natoms:]) * self.exp_cell_factor\n"
     ]
    },
    {
     "name": "stdout",
     "output_type": "stream",
     "text": [
      "FIRE:  181 14:06:23    -3132.740753        0.229965\n"
     ]
    },
    {
     "name": "stderr",
     "output_type": "stream",
     "text": [
      "/home/mehuldarak/anaconda3/envs/mace/lib/python3.13/site-packages/ase/filters.py:606: RuntimeWarning: logm result may be inaccurate, approximate err = 3.4334839972617023e-13\n",
      "  pos[natoms:] = self.logm(pos[natoms:]) * self.exp_cell_factor\n"
     ]
    },
    {
     "name": "stdout",
     "output_type": "stream",
     "text": [
      "FIRE:  182 14:06:24    -3132.749216        0.198914\n"
     ]
    },
    {
     "name": "stderr",
     "output_type": "stream",
     "text": [
      "/home/mehuldarak/anaconda3/envs/mace/lib/python3.13/site-packages/ase/filters.py:606: RuntimeWarning: logm result may be inaccurate, approximate err = 3.5224516909749066e-13\n",
      "  pos[natoms:] = self.logm(pos[natoms:]) * self.exp_cell_factor\n"
     ]
    },
    {
     "name": "stdout",
     "output_type": "stream",
     "text": [
      "FIRE:  183 14:06:25    -3132.758675        0.191561\n"
     ]
    },
    {
     "name": "stderr",
     "output_type": "stream",
     "text": [
      "/home/mehuldarak/anaconda3/envs/mace/lib/python3.13/site-packages/ase/filters.py:606: RuntimeWarning: logm result may be inaccurate, approximate err = 3.4259479383231507e-13\n",
      "  pos[natoms:] = self.logm(pos[natoms:]) * self.exp_cell_factor\n"
     ]
    },
    {
     "name": "stdout",
     "output_type": "stream",
     "text": [
      "FIRE:  184 14:06:27    -3132.767386        0.207555\n"
     ]
    },
    {
     "name": "stderr",
     "output_type": "stream",
     "text": [
      "/home/mehuldarak/anaconda3/envs/mace/lib/python3.13/site-packages/ase/filters.py:606: RuntimeWarning: logm result may be inaccurate, approximate err = 3.425367906597965e-13\n",
      "  pos[natoms:] = self.logm(pos[natoms:]) * self.exp_cell_factor\n"
     ]
    },
    {
     "name": "stdout",
     "output_type": "stream",
     "text": [
      "FIRE:  185 14:06:28    -3132.777841        0.240214\n"
     ]
    },
    {
     "name": "stderr",
     "output_type": "stream",
     "text": [
      "/home/mehuldarak/anaconda3/envs/mace/lib/python3.13/site-packages/ase/filters.py:606: RuntimeWarning: logm result may be inaccurate, approximate err = 3.4662767590231933e-13\n",
      "  pos[natoms:] = self.logm(pos[natoms:]) * self.exp_cell_factor\n"
     ]
    },
    {
     "name": "stdout",
     "output_type": "stream",
     "text": [
      "FIRE:  186 14:06:29    -3132.791531        0.202028\n"
     ]
    },
    {
     "name": "stderr",
     "output_type": "stream",
     "text": [
      "/home/mehuldarak/anaconda3/envs/mace/lib/python3.13/site-packages/ase/filters.py:606: RuntimeWarning: logm result may be inaccurate, approximate err = 3.431032900242386e-13\n",
      "  pos[natoms:] = self.logm(pos[natoms:]) * self.exp_cell_factor\n"
     ]
    },
    {
     "name": "stdout",
     "output_type": "stream",
     "text": [
      "FIRE:  187 14:06:31    -3132.805221        0.197270\n"
     ]
    },
    {
     "name": "stderr",
     "output_type": "stream",
     "text": [
      "/home/mehuldarak/anaconda3/envs/mace/lib/python3.13/site-packages/ase/filters.py:606: RuntimeWarning: logm result may be inaccurate, approximate err = 3.4870281350812973e-13\n",
      "  pos[natoms:] = self.logm(pos[natoms:]) * self.exp_cell_factor\n"
     ]
    },
    {
     "name": "stdout",
     "output_type": "stream",
     "text": [
      "FIRE:  188 14:06:32    -3132.822893        0.161631\n"
     ]
    },
    {
     "name": "stderr",
     "output_type": "stream",
     "text": [
      "/home/mehuldarak/anaconda3/envs/mace/lib/python3.13/site-packages/ase/filters.py:606: RuntimeWarning: logm result may be inaccurate, approximate err = 3.43457053326084e-13\n",
      "  pos[natoms:] = self.logm(pos[natoms:]) * self.exp_cell_factor\n"
     ]
    },
    {
     "name": "stdout",
     "output_type": "stream",
     "text": [
      "FIRE:  189 14:06:33    -3132.841810        0.160720\n"
     ]
    },
    {
     "name": "stderr",
     "output_type": "stream",
     "text": [
      "/home/mehuldarak/anaconda3/envs/mace/lib/python3.13/site-packages/ase/filters.py:606: RuntimeWarning: logm result may be inaccurate, approximate err = 3.4375946482636877e-13\n",
      "  pos[natoms:] = self.logm(pos[natoms:]) * self.exp_cell_factor\n"
     ]
    },
    {
     "name": "stdout",
     "output_type": "stream",
     "text": [
      "FIRE:  190 14:06:35    -3132.862470        0.150498\n"
     ]
    },
    {
     "name": "stderr",
     "output_type": "stream",
     "text": [
      "/home/mehuldarak/anaconda3/envs/mace/lib/python3.13/site-packages/ase/filters.py:606: RuntimeWarning: logm result may be inaccurate, approximate err = 3.4174289858081315e-13\n",
      "  pos[natoms:] = self.logm(pos[natoms:]) * self.exp_cell_factor\n"
     ]
    },
    {
     "name": "stdout",
     "output_type": "stream",
     "text": [
      "FIRE:  191 14:06:36    -3132.882133        0.161386\n"
     ]
    },
    {
     "name": "stderr",
     "output_type": "stream",
     "text": [
      "/home/mehuldarak/anaconda3/envs/mace/lib/python3.13/site-packages/ase/filters.py:606: RuntimeWarning: logm result may be inaccurate, approximate err = 3.437773454697731e-13\n",
      "  pos[natoms:] = self.logm(pos[natoms:]) * self.exp_cell_factor\n"
     ]
    },
    {
     "name": "stdout",
     "output_type": "stream",
     "text": [
      "FIRE:  192 14:06:37    -3132.904535        0.140164\n"
     ]
    },
    {
     "name": "stderr",
     "output_type": "stream",
     "text": [
      "/home/mehuldarak/anaconda3/envs/mace/lib/python3.13/site-packages/ase/filters.py:606: RuntimeWarning: logm result may be inaccurate, approximate err = 3.4859324396886484e-13\n",
      "  pos[natoms:] = self.logm(pos[natoms:]) * self.exp_cell_factor\n"
     ]
    },
    {
     "name": "stdout",
     "output_type": "stream",
     "text": [
      "FIRE:  193 14:06:38    -3132.929426        0.169300\n"
     ]
    },
    {
     "name": "stderr",
     "output_type": "stream",
     "text": [
      "/home/mehuldarak/anaconda3/envs/mace/lib/python3.13/site-packages/ase/filters.py:606: RuntimeWarning: logm result may be inaccurate, approximate err = 3.532553353102408e-13\n",
      "  pos[natoms:] = self.logm(pos[natoms:]) * self.exp_cell_factor\n"
     ]
    },
    {
     "name": "stdout",
     "output_type": "stream",
     "text": [
      "FIRE:  194 14:06:40    -3132.955313        0.235406\n"
     ]
    },
    {
     "name": "stderr",
     "output_type": "stream",
     "text": [
      "/home/mehuldarak/anaconda3/envs/mace/lib/python3.13/site-packages/ase/filters.py:606: RuntimeWarning: logm result may be inaccurate, approximate err = 3.398703496245829e-13\n",
      "  pos[natoms:] = self.logm(pos[natoms:]) * self.exp_cell_factor\n"
     ]
    },
    {
     "name": "stdout",
     "output_type": "stream",
     "text": [
      "FIRE:  195 14:06:41    -3132.983191        0.393836\n"
     ]
    },
    {
     "name": "stderr",
     "output_type": "stream",
     "text": [
      "/home/mehuldarak/anaconda3/envs/mace/lib/python3.13/site-packages/ase/filters.py:606: RuntimeWarning: logm result may be inaccurate, approximate err = 3.5113782818798817e-13\n",
      "  pos[natoms:] = self.logm(pos[natoms:]) * self.exp_cell_factor\n"
     ]
    },
    {
     "name": "stdout",
     "output_type": "stream",
     "text": [
      "FIRE:  196 14:06:42    -3132.992151        0.675990\n"
     ]
    },
    {
     "name": "stderr",
     "output_type": "stream",
     "text": [
      "/home/mehuldarak/anaconda3/envs/mace/lib/python3.13/site-packages/ase/filters.py:606: RuntimeWarning: logm result may be inaccurate, approximate err = 3.47446412594407e-13\n",
      "  pos[natoms:] = self.logm(pos[natoms:]) * self.exp_cell_factor\n"
     ]
    },
    {
     "name": "stdout",
     "output_type": "stream",
     "text": [
      "FIRE:  197 14:06:44    -3133.023265        0.180877\n"
     ]
    },
    {
     "name": "stderr",
     "output_type": "stream",
     "text": [
      "/home/mehuldarak/anaconda3/envs/mace/lib/python3.13/site-packages/ase/filters.py:606: RuntimeWarning: logm result may be inaccurate, approximate err = 3.445624716168182e-13\n",
      "  pos[natoms:] = self.logm(pos[natoms:]) * self.exp_cell_factor\n"
     ]
    },
    {
     "name": "stdout",
     "output_type": "stream",
     "text": [
      "FIRE:  198 14:06:45    -3133.006339        0.725719\n"
     ]
    },
    {
     "name": "stderr",
     "output_type": "stream",
     "text": [
      "/home/mehuldarak/anaconda3/envs/mace/lib/python3.13/site-packages/ase/filters.py:606: RuntimeWarning: logm result may be inaccurate, approximate err = 3.483775326441176e-13\n",
      "  pos[natoms:] = self.logm(pos[natoms:]) * self.exp_cell_factor\n"
     ]
    },
    {
     "name": "stdout",
     "output_type": "stream",
     "text": [
      "FIRE:  199 14:06:46    -3133.016793        0.558733\n"
     ]
    },
    {
     "name": "stderr",
     "output_type": "stream",
     "text": [
      "/home/mehuldarak/anaconda3/envs/mace/lib/python3.13/site-packages/ase/filters.py:606: RuntimeWarning: logm result may be inaccurate, approximate err = 3.475604607325611e-13\n",
      "  pos[natoms:] = self.logm(pos[natoms:]) * self.exp_cell_factor\n"
     ]
    },
    {
     "name": "stdout",
     "output_type": "stream",
     "text": [
      "FIRE:  200 14:06:48    -3133.028492        0.224686\n"
     ]
    },
    {
     "name": "stderr",
     "output_type": "stream",
     "text": [
      "/home/mehuldarak/anaconda3/envs/mace/lib/python3.13/site-packages/ase/filters.py:606: RuntimeWarning: logm result may be inaccurate, approximate err = 3.43948049143996e-13\n",
      "  pos[natoms:] = self.logm(pos[natoms:]) * self.exp_cell_factor\n"
     ]
    },
    {
     "name": "stdout",
     "output_type": "stream",
     "text": [
      "FIRE:  201 14:06:49    -3133.031479        0.253137\n"
     ]
    },
    {
     "name": "stderr",
     "output_type": "stream",
     "text": [
      "/home/mehuldarak/anaconda3/envs/mace/lib/python3.13/site-packages/ase/filters.py:606: RuntimeWarning: logm result may be inaccurate, approximate err = 3.487493928268658e-13\n",
      "  pos[natoms:] = self.logm(pos[natoms:]) * self.exp_cell_factor\n"
     ]
    },
    {
     "name": "stdout",
     "output_type": "stream",
     "text": [
      "FIRE:  202 14:06:50    -3133.032226        0.239529\n"
     ]
    },
    {
     "name": "stderr",
     "output_type": "stream",
     "text": [
      "/home/mehuldarak/anaconda3/envs/mace/lib/python3.13/site-packages/ase/filters.py:606: RuntimeWarning: logm result may be inaccurate, approximate err = 3.368541899784609e-13\n",
      "  pos[natoms:] = self.logm(pos[natoms:]) * self.exp_cell_factor\n"
     ]
    },
    {
     "name": "stdout",
     "output_type": "stream",
     "text": [
      "FIRE:  203 14:06:52    -3133.031728        0.212197\n"
     ]
    },
    {
     "name": "stderr",
     "output_type": "stream",
     "text": [
      "/home/mehuldarak/anaconda3/envs/mace/lib/python3.13/site-packages/ase/filters.py:606: RuntimeWarning: logm result may be inaccurate, approximate err = 3.473456114641601e-13\n",
      "  pos[natoms:] = self.logm(pos[natoms:]) * self.exp_cell_factor\n"
     ]
    },
    {
     "name": "stdout",
     "output_type": "stream",
     "text": [
      "FIRE:  204 14:06:53    -3133.032972        0.169601\n"
     ]
    },
    {
     "name": "stderr",
     "output_type": "stream",
     "text": [
      "/home/mehuldarak/anaconda3/envs/mace/lib/python3.13/site-packages/ase/filters.py:606: RuntimeWarning: logm result may be inaccurate, approximate err = 3.4507917204306524e-13\n",
      "  pos[natoms:] = self.logm(pos[natoms:]) * self.exp_cell_factor\n"
     ]
    },
    {
     "name": "stdout",
     "output_type": "stream",
     "text": [
      "FIRE:  205 14:06:54    -3133.033470        0.135409\n"
     ]
    },
    {
     "name": "stderr",
     "output_type": "stream",
     "text": [
      "/home/mehuldarak/anaconda3/envs/mace/lib/python3.13/site-packages/ase/filters.py:606: RuntimeWarning: logm result may be inaccurate, approximate err = 3.4058355594118717e-13\n",
      "  pos[natoms:] = self.logm(pos[natoms:]) * self.exp_cell_factor\n"
     ]
    },
    {
     "name": "stdout",
     "output_type": "stream",
     "text": [
      "FIRE:  206 14:06:55    -3133.033968        0.135393\n"
     ]
    },
    {
     "name": "stderr",
     "output_type": "stream",
     "text": [
      "/home/mehuldarak/anaconda3/envs/mace/lib/python3.13/site-packages/ase/filters.py:606: RuntimeWarning: logm result may be inaccurate, approximate err = 3.4129102084833566e-13\n",
      "  pos[natoms:] = self.logm(pos[natoms:]) * self.exp_cell_factor\n"
     ]
    },
    {
     "name": "stdout",
     "output_type": "stream",
     "text": [
      "FIRE:  207 14:06:57    -3133.034964        0.135371\n"
     ]
    },
    {
     "name": "stderr",
     "output_type": "stream",
     "text": [
      "/home/mehuldarak/anaconda3/envs/mace/lib/python3.13/site-packages/ase/filters.py:606: RuntimeWarning: logm result may be inaccurate, approximate err = 3.376270077262154e-13\n",
      "  pos[natoms:] = self.logm(pos[natoms:]) * self.exp_cell_factor\n"
     ]
    },
    {
     "name": "stdout",
     "output_type": "stream",
     "text": [
      "FIRE:  208 14:06:58    -3133.035461        0.135349\n"
     ]
    },
    {
     "name": "stderr",
     "output_type": "stream",
     "text": [
      "/home/mehuldarak/anaconda3/envs/mace/lib/python3.13/site-packages/ase/filters.py:606: RuntimeWarning: logm result may be inaccurate, approximate err = 3.5116222501778535e-13\n",
      "  pos[natoms:] = self.logm(pos[natoms:]) * self.exp_cell_factor\n"
     ]
    },
    {
     "name": "stdout",
     "output_type": "stream",
     "text": [
      "FIRE:  209 14:07:00    -3133.036208        0.141766\n"
     ]
    },
    {
     "name": "stderr",
     "output_type": "stream",
     "text": [
      "/home/mehuldarak/anaconda3/envs/mace/lib/python3.13/site-packages/ase/filters.py:606: RuntimeWarning: logm result may be inaccurate, approximate err = 3.4432529702539725e-13\n",
      "  pos[natoms:] = self.logm(pos[natoms:]) * self.exp_cell_factor\n"
     ]
    },
    {
     "name": "stdout",
     "output_type": "stream",
     "text": [
      "FIRE:  210 14:07:01    -3133.037702        0.147835\n"
     ]
    },
    {
     "name": "stderr",
     "output_type": "stream",
     "text": [
      "/home/mehuldarak/anaconda3/envs/mace/lib/python3.13/site-packages/ase/filters.py:606: RuntimeWarning: logm result may be inaccurate, approximate err = 3.441099012999033e-13\n",
      "  pos[natoms:] = self.logm(pos[natoms:]) * self.exp_cell_factor\n"
     ]
    },
    {
     "name": "stdout",
     "output_type": "stream",
     "text": [
      "FIRE:  211 14:07:02    -3133.038697        0.135274\n"
     ]
    },
    {
     "name": "stderr",
     "output_type": "stream",
     "text": [
      "/home/mehuldarak/anaconda3/envs/mace/lib/python3.13/site-packages/ase/filters.py:606: RuntimeWarning: logm result may be inaccurate, approximate err = 3.429202094622613e-13\n",
      "  pos[natoms:] = self.logm(pos[natoms:]) * self.exp_cell_factor\n"
     ]
    },
    {
     "name": "stdout",
     "output_type": "stream",
     "text": [
      "FIRE:  212 14:07:04    -3133.040689        0.135245\n"
     ]
    },
    {
     "name": "stderr",
     "output_type": "stream",
     "text": [
      "/home/mehuldarak/anaconda3/envs/mace/lib/python3.13/site-packages/ase/filters.py:606: RuntimeWarning: logm result may be inaccurate, approximate err = 3.499945494844247e-13\n",
      "  pos[natoms:] = self.logm(pos[natoms:]) * self.exp_cell_factor\n"
     ]
    },
    {
     "name": "stdout",
     "output_type": "stream",
     "text": [
      "FIRE:  213 14:07:05    -3133.042431        0.135204\n"
     ]
    },
    {
     "name": "stderr",
     "output_type": "stream",
     "text": [
      "/home/mehuldarak/anaconda3/envs/mace/lib/python3.13/site-packages/ase/filters.py:606: RuntimeWarning: logm result may be inaccurate, approximate err = 3.510206965984951e-13\n",
      "  pos[natoms:] = self.logm(pos[natoms:]) * self.exp_cell_factor\n"
     ]
    },
    {
     "name": "stdout",
     "output_type": "stream",
     "text": [
      "FIRE:  214 14:07:06    -3133.044422        0.135135\n"
     ]
    },
    {
     "name": "stderr",
     "output_type": "stream",
     "text": [
      "/home/mehuldarak/anaconda3/envs/mace/lib/python3.13/site-packages/ase/filters.py:606: RuntimeWarning: logm result may be inaccurate, approximate err = 3.450752081970197e-13\n",
      "  pos[natoms:] = self.logm(pos[natoms:]) * self.exp_cell_factor\n"
     ]
    },
    {
     "name": "stdout",
     "output_type": "stream",
     "text": [
      "FIRE:  215 14:07:07    -3133.047409        0.135041\n"
     ]
    },
    {
     "name": "stderr",
     "output_type": "stream",
     "text": [
      "/home/mehuldarak/anaconda3/envs/mace/lib/python3.13/site-packages/ase/filters.py:606: RuntimeWarning: logm result may be inaccurate, approximate err = 3.4455795419070466e-13\n",
      "  pos[natoms:] = self.logm(pos[natoms:]) * self.exp_cell_factor\n"
     ]
    },
    {
     "name": "stdout",
     "output_type": "stream",
     "text": [
      "FIRE:  216 14:07:09    -3133.049649        0.134918\n"
     ]
    },
    {
     "name": "stderr",
     "output_type": "stream",
     "text": [
      "/home/mehuldarak/anaconda3/envs/mace/lib/python3.13/site-packages/ase/filters.py:606: RuntimeWarning: logm result may be inaccurate, approximate err = 3.410042691918641e-13\n",
      "  pos[natoms:] = self.logm(pos[natoms:]) * self.exp_cell_factor\n"
     ]
    },
    {
     "name": "stdout",
     "output_type": "stream",
     "text": [
      "FIRE:  217 14:07:10    -3133.053881        0.134778\n"
     ]
    },
    {
     "name": "stderr",
     "output_type": "stream",
     "text": [
      "/home/mehuldarak/anaconda3/envs/mace/lib/python3.13/site-packages/ase/filters.py:606: RuntimeWarning: logm result may be inaccurate, approximate err = 3.4293533543767433e-13\n",
      "  pos[natoms:] = self.logm(pos[natoms:]) * self.exp_cell_factor\n"
     ]
    },
    {
     "name": "stdout",
     "output_type": "stream",
     "text": [
      "FIRE:  218 14:07:11    -3133.057863        0.134636\n"
     ]
    },
    {
     "name": "stderr",
     "output_type": "stream",
     "text": [
      "/home/mehuldarak/anaconda3/envs/mace/lib/python3.13/site-packages/ase/filters.py:606: RuntimeWarning: logm result may be inaccurate, approximate err = 3.479060234449439e-13\n",
      "  pos[natoms:] = self.logm(pos[natoms:]) * self.exp_cell_factor\n"
     ]
    },
    {
     "name": "stdout",
     "output_type": "stream",
     "text": [
      "FIRE:  219 14:07:13    -3133.062841        0.134498\n"
     ]
    },
    {
     "name": "stderr",
     "output_type": "stream",
     "text": [
      "/home/mehuldarak/anaconda3/envs/mace/lib/python3.13/site-packages/ase/filters.py:606: RuntimeWarning: logm result may be inaccurate, approximate err = 3.4727192590993593e-13\n",
      "  pos[natoms:] = self.logm(pos[natoms:]) * self.exp_cell_factor\n"
     ]
    },
    {
     "name": "stdout",
     "output_type": "stream",
     "text": [
      "FIRE:  220 14:07:14    -3133.068317        0.134310\n"
     ]
    },
    {
     "name": "stderr",
     "output_type": "stream",
     "text": [
      "/home/mehuldarak/anaconda3/envs/mace/lib/python3.13/site-packages/ase/filters.py:606: RuntimeWarning: logm result may be inaccurate, approximate err = 3.4704395188214574e-13\n",
      "  pos[natoms:] = self.logm(pos[natoms:]) * self.exp_cell_factor\n"
     ]
    },
    {
     "name": "stdout",
     "output_type": "stream",
     "text": [
      "FIRE:  221 14:07:15    -3133.075785        0.134021\n"
     ]
    },
    {
     "name": "stderr",
     "output_type": "stream",
     "text": [
      "/home/mehuldarak/anaconda3/envs/mace/lib/python3.13/site-packages/ase/filters.py:606: RuntimeWarning: logm result may be inaccurate, approximate err = 3.401351507968918e-13\n",
      "  pos[natoms:] = self.logm(pos[natoms:]) * self.exp_cell_factor\n"
     ]
    },
    {
     "name": "stdout",
     "output_type": "stream",
     "text": [
      "FIRE:  222 14:07:17    -3133.084248        0.133674\n"
     ]
    },
    {
     "name": "stderr",
     "output_type": "stream",
     "text": [
      "/home/mehuldarak/anaconda3/envs/mace/lib/python3.13/site-packages/ase/filters.py:606: RuntimeWarning: logm result may be inaccurate, approximate err = 3.453633296652186e-13\n",
      "  pos[natoms:] = self.logm(pos[natoms:]) * self.exp_cell_factor\n"
     ]
    },
    {
     "name": "stdout",
     "output_type": "stream",
     "text": [
      "FIRE:  223 14:07:18    -3133.094702        0.133306\n"
     ]
    },
    {
     "name": "stderr",
     "output_type": "stream",
     "text": [
      "/home/mehuldarak/anaconda3/envs/mace/lib/python3.13/site-packages/ase/filters.py:606: RuntimeWarning: logm result may be inaccurate, approximate err = 3.480320045967208e-13\n",
      "  pos[natoms:] = self.logm(pos[natoms:]) * self.exp_cell_factor\n"
     ]
    },
    {
     "name": "stdout",
     "output_type": "stream",
     "text": [
      "FIRE:  224 14:07:19    -3133.107147        0.132810\n"
     ]
    },
    {
     "name": "stderr",
     "output_type": "stream",
     "text": [
      "/home/mehuldarak/anaconda3/envs/mace/lib/python3.13/site-packages/ase/filters.py:606: RuntimeWarning: logm result may be inaccurate, approximate err = 3.4186611825284145e-13\n",
      "  pos[natoms:] = self.logm(pos[natoms:]) * self.exp_cell_factor\n"
     ]
    },
    {
     "name": "stdout",
     "output_type": "stream",
     "text": [
      "FIRE:  225 14:07:21    -3133.122580        0.190062\n"
     ]
    },
    {
     "name": "stderr",
     "output_type": "stream",
     "text": [
      "/home/mehuldarak/anaconda3/envs/mace/lib/python3.13/site-packages/ase/filters.py:606: RuntimeWarning: logm result may be inaccurate, approximate err = 3.428562137832541e-13\n",
      "  pos[natoms:] = self.logm(pos[natoms:]) * self.exp_cell_factor\n"
     ]
    },
    {
     "name": "stdout",
     "output_type": "stream",
     "text": [
      "FIRE:  226 14:07:22    -3133.144484        0.205221\n"
     ]
    },
    {
     "name": "stderr",
     "output_type": "stream",
     "text": [
      "/home/mehuldarak/anaconda3/envs/mace/lib/python3.13/site-packages/ase/filters.py:606: RuntimeWarning: logm result may be inaccurate, approximate err = 3.479217926174083e-13\n",
      "  pos[natoms:] = self.logm(pos[natoms:]) * self.exp_cell_factor\n"
     ]
    },
    {
     "name": "stdout",
     "output_type": "stream",
     "text": [
      "FIRE:  227 14:07:23    -3133.170619        0.314730\n"
     ]
    },
    {
     "name": "stderr",
     "output_type": "stream",
     "text": [
      "/home/mehuldarak/anaconda3/envs/mace/lib/python3.13/site-packages/ase/filters.py:606: RuntimeWarning: logm result may be inaccurate, approximate err = 3.440828768088322e-13\n",
      "  pos[natoms:] = self.logm(pos[natoms:]) * self.exp_cell_factor\n"
     ]
    },
    {
     "name": "stdout",
     "output_type": "stream",
     "text": [
      "FIRE:  228 14:07:24    -3133.183064        0.537463\n"
     ]
    },
    {
     "name": "stderr",
     "output_type": "stream",
     "text": [
      "/home/mehuldarak/anaconda3/envs/mace/lib/python3.13/site-packages/ase/filters.py:606: RuntimeWarning: logm result may be inaccurate, approximate err = 3.390094215484447e-13\n",
      "  pos[natoms:] = self.logm(pos[natoms:]) * self.exp_cell_factor\n"
     ]
    },
    {
     "name": "stdout",
     "output_type": "stream",
     "text": [
      "FIRE:  229 14:07:26    -3133.191776        0.210614\n"
     ]
    },
    {
     "name": "stderr",
     "output_type": "stream",
     "text": [
      "/home/mehuldarak/anaconda3/envs/mace/lib/python3.13/site-packages/ase/filters.py:606: RuntimeWarning: logm result may be inaccurate, approximate err = 3.4818890306600116e-13\n",
      "  pos[natoms:] = self.logm(pos[natoms:]) * self.exp_cell_factor\n"
     ]
    },
    {
     "name": "stdout",
     "output_type": "stream",
     "text": [
      "FIRE:  230 14:07:27    -3133.192025        0.356625\n"
     ]
    },
    {
     "name": "stderr",
     "output_type": "stream",
     "text": [
      "/home/mehuldarak/anaconda3/envs/mace/lib/python3.13/site-packages/ase/filters.py:606: RuntimeWarning: logm result may be inaccurate, approximate err = 3.476614644606804e-13\n",
      "  pos[natoms:] = self.logm(pos[natoms:]) * self.exp_cell_factor\n"
     ]
    },
    {
     "name": "stdout",
     "output_type": "stream",
     "text": [
      "FIRE:  231 14:07:28    -3133.194265        0.305738\n"
     ]
    },
    {
     "name": "stderr",
     "output_type": "stream",
     "text": [
      "/home/mehuldarak/anaconda3/envs/mace/lib/python3.13/site-packages/ase/filters.py:606: RuntimeWarning: logm result may be inaccurate, approximate err = 3.4208110157156927e-13\n",
      "  pos[natoms:] = self.logm(pos[natoms:]) * self.exp_cell_factor\n"
     ]
    },
    {
     "name": "stdout",
     "output_type": "stream",
     "text": [
      "FIRE:  232 14:07:30    -3133.196008        0.202620\n"
     ]
    },
    {
     "name": "stderr",
     "output_type": "stream",
     "text": [
      "/home/mehuldarak/anaconda3/envs/mace/lib/python3.13/site-packages/ase/filters.py:606: RuntimeWarning: logm result may be inaccurate, approximate err = 3.430834434238087e-13\n",
      "  pos[natoms:] = self.logm(pos[natoms:]) * self.exp_cell_factor\n"
     ]
    },
    {
     "name": "stdout",
     "output_type": "stream",
     "text": [
      "FIRE:  233 14:07:31    -3133.198746        0.153434\n"
     ]
    },
    {
     "name": "stderr",
     "output_type": "stream",
     "text": [
      "/home/mehuldarak/anaconda3/envs/mace/lib/python3.13/site-packages/ase/filters.py:606: RuntimeWarning: logm result may be inaccurate, approximate err = 3.449469252037985e-13\n",
      "  pos[natoms:] = self.logm(pos[natoms:]) * self.exp_cell_factor\n"
     ]
    },
    {
     "name": "stdout",
     "output_type": "stream",
     "text": [
      "FIRE:  234 14:07:32    -3133.199492        0.209845\n"
     ]
    },
    {
     "name": "stderr",
     "output_type": "stream",
     "text": [
      "/home/mehuldarak/anaconda3/envs/mace/lib/python3.13/site-packages/ase/filters.py:606: RuntimeWarning: logm result may be inaccurate, approximate err = 3.431283072533966e-13\n",
      "  pos[natoms:] = self.logm(pos[natoms:]) * self.exp_cell_factor\n"
     ]
    },
    {
     "name": "stdout",
     "output_type": "stream",
     "text": [
      "FIRE:  235 14:07:34    -3133.199741        0.199738\n"
     ]
    },
    {
     "name": "stderr",
     "output_type": "stream",
     "text": [
      "/home/mehuldarak/anaconda3/envs/mace/lib/python3.13/site-packages/ase/filters.py:606: RuntimeWarning: logm result may be inaccurate, approximate err = 3.3882938981010217e-13\n",
      "  pos[natoms:] = self.logm(pos[natoms:]) * self.exp_cell_factor\n"
     ]
    },
    {
     "name": "stdout",
     "output_type": "stream",
     "text": [
      "FIRE:  236 14:07:35    -3133.199741        0.178326\n"
     ]
    },
    {
     "name": "stderr",
     "output_type": "stream",
     "text": [
      "/home/mehuldarak/anaconda3/envs/mace/lib/python3.13/site-packages/ase/filters.py:606: RuntimeWarning: logm result may be inaccurate, approximate err = 3.399779035766811e-13\n",
      "  pos[natoms:] = self.logm(pos[natoms:]) * self.exp_cell_factor\n"
     ]
    },
    {
     "name": "stdout",
     "output_type": "stream",
     "text": [
      "FIRE:  237 14:07:36    -3133.200239        0.145310\n"
     ]
    },
    {
     "name": "stderr",
     "output_type": "stream",
     "text": [
      "/home/mehuldarak/anaconda3/envs/mace/lib/python3.13/site-packages/ase/filters.py:606: RuntimeWarning: logm result may be inaccurate, approximate err = 3.447689996418613e-13\n",
      "  pos[natoms:] = self.logm(pos[natoms:]) * self.exp_cell_factor\n"
     ]
    },
    {
     "name": "stdout",
     "output_type": "stream",
     "text": [
      "FIRE:  238 14:07:38    -3133.200737        0.138219\n"
     ]
    },
    {
     "name": "stderr",
     "output_type": "stream",
     "text": [
      "/home/mehuldarak/anaconda3/envs/mace/lib/python3.13/site-packages/ase/filters.py:606: RuntimeWarning: logm result may be inaccurate, approximate err = 3.4204685237663035e-13\n",
      "  pos[natoms:] = self.logm(pos[natoms:]) * self.exp_cell_factor\n"
     ]
    },
    {
     "name": "stdout",
     "output_type": "stream",
     "text": [
      "FIRE:  239 14:07:39    -3133.201982        0.134494\n"
     ]
    },
    {
     "name": "stderr",
     "output_type": "stream",
     "text": [
      "/home/mehuldarak/anaconda3/envs/mace/lib/python3.13/site-packages/ase/filters.py:606: RuntimeWarning: logm result may be inaccurate, approximate err = 3.444756369712549e-13\n",
      "  pos[natoms:] = self.logm(pos[natoms:]) * self.exp_cell_factor\n"
     ]
    },
    {
     "name": "stdout",
     "output_type": "stream",
     "text": [
      "FIRE:  240 14:07:40    -3133.201733        0.129754\n"
     ]
    },
    {
     "name": "stderr",
     "output_type": "stream",
     "text": [
      "/home/mehuldarak/anaconda3/envs/mace/lib/python3.13/site-packages/ase/filters.py:606: RuntimeWarning: logm result may be inaccurate, approximate err = 3.3632392214258966e-13\n",
      "  pos[natoms:] = self.logm(pos[natoms:]) * self.exp_cell_factor\n"
     ]
    },
    {
     "name": "stdout",
     "output_type": "stream",
     "text": [
      "FIRE:  241 14:07:41    -3133.202977        0.129743\n"
     ]
    },
    {
     "name": "stderr",
     "output_type": "stream",
     "text": [
      "/home/mehuldarak/anaconda3/envs/mace/lib/python3.13/site-packages/ase/filters.py:606: RuntimeWarning: logm result may be inaccurate, approximate err = 3.4218980041370397e-13\n",
      "  pos[natoms:] = self.logm(pos[natoms:]) * self.exp_cell_factor\n"
     ]
    },
    {
     "name": "stdout",
     "output_type": "stream",
     "text": [
      "FIRE:  242 14:07:43    -3133.202977        0.129727\n"
     ]
    },
    {
     "name": "stderr",
     "output_type": "stream",
     "text": [
      "/home/mehuldarak/anaconda3/envs/mace/lib/python3.13/site-packages/ase/filters.py:606: RuntimeWarning: logm result may be inaccurate, approximate err = 3.443168939214024e-13\n",
      "  pos[natoms:] = self.logm(pos[natoms:]) * self.exp_cell_factor\n"
     ]
    },
    {
     "name": "stdout",
     "output_type": "stream",
     "text": [
      "FIRE:  243 14:07:44    -3133.203226        0.129707\n"
     ]
    },
    {
     "name": "stderr",
     "output_type": "stream",
     "text": [
      "/home/mehuldarak/anaconda3/envs/mace/lib/python3.13/site-packages/ase/filters.py:606: RuntimeWarning: logm result may be inaccurate, approximate err = 3.5226238689151417e-13\n",
      "  pos[natoms:] = self.logm(pos[natoms:]) * self.exp_cell_factor\n"
     ]
    },
    {
     "name": "stdout",
     "output_type": "stream",
     "text": [
      "FIRE:  244 14:07:46    -3133.204222        0.129686\n"
     ]
    },
    {
     "name": "stderr",
     "output_type": "stream",
     "text": [
      "/home/mehuldarak/anaconda3/envs/mace/lib/python3.13/site-packages/ase/filters.py:606: RuntimeWarning: logm result may be inaccurate, approximate err = 3.5019086139824817e-13\n",
      "  pos[natoms:] = self.logm(pos[natoms:]) * self.exp_cell_factor\n"
     ]
    },
    {
     "name": "stdout",
     "output_type": "stream",
     "text": [
      "FIRE:  245 14:07:47    -3133.204968        0.129654\n"
     ]
    },
    {
     "name": "stderr",
     "output_type": "stream",
     "text": [
      "/home/mehuldarak/anaconda3/envs/mace/lib/python3.13/site-packages/ase/filters.py:606: RuntimeWarning: logm result may be inaccurate, approximate err = 3.437031171872855e-13\n",
      "  pos[natoms:] = self.logm(pos[natoms:]) * self.exp_cell_factor\n"
     ]
    },
    {
     "name": "stdout",
     "output_type": "stream",
     "text": [
      "FIRE:  246 14:07:48    -3133.207209        0.129609\n"
     ]
    },
    {
     "name": "stderr",
     "output_type": "stream",
     "text": [
      "/home/mehuldarak/anaconda3/envs/mace/lib/python3.13/site-packages/ase/filters.py:606: RuntimeWarning: logm result may be inaccurate, approximate err = 3.4979220242145974e-13\n",
      "  pos[natoms:] = self.logm(pos[natoms:]) * self.exp_cell_factor\n"
     ]
    },
    {
     "name": "stdout",
     "output_type": "stream",
     "text": [
      "FIRE:  247 14:07:50    -3133.208453        0.129550\n"
     ]
    },
    {
     "name": "stderr",
     "output_type": "stream",
     "text": [
      "/home/mehuldarak/anaconda3/envs/mace/lib/python3.13/site-packages/ase/filters.py:606: RuntimeWarning: logm result may be inaccurate, approximate err = 3.4755758188470426e-13\n",
      "  pos[natoms:] = self.logm(pos[natoms:]) * self.exp_cell_factor\n"
     ]
    },
    {
     "name": "stdout",
     "output_type": "stream",
     "text": [
      "FIRE:  248 14:07:51    -3133.209449        0.129471\n"
     ]
    },
    {
     "name": "stderr",
     "output_type": "stream",
     "text": [
      "/home/mehuldarak/anaconda3/envs/mace/lib/python3.13/site-packages/ase/filters.py:606: RuntimeWarning: logm result may be inaccurate, approximate err = 3.4808008636962393e-13\n",
      "  pos[natoms:] = self.logm(pos[natoms:]) * self.exp_cell_factor\n"
     ]
    },
    {
     "name": "stdout",
     "output_type": "stream",
     "text": [
      "FIRE:  249 14:07:52    -3133.211689        0.129374\n"
     ]
    },
    {
     "name": "stderr",
     "output_type": "stream",
     "text": [
      "/home/mehuldarak/anaconda3/envs/mace/lib/python3.13/site-packages/ase/filters.py:606: RuntimeWarning: logm result may be inaccurate, approximate err = 3.4526375408775506e-13\n",
      "  pos[natoms:] = self.logm(pos[natoms:]) * self.exp_cell_factor\n"
     ]
    },
    {
     "name": "stdout",
     "output_type": "stream",
     "text": [
      "FIRE:  250 14:07:53    -3133.214178        0.129258\n"
     ]
    },
    {
     "name": "stderr",
     "output_type": "stream",
     "text": [
      "/home/mehuldarak/anaconda3/envs/mace/lib/python3.13/site-packages/ase/filters.py:606: RuntimeWarning: logm result may be inaccurate, approximate err = 3.4793113184326925e-13\n",
      "  pos[natoms:] = self.logm(pos[natoms:]) * self.exp_cell_factor\n"
     ]
    },
    {
     "name": "stdout",
     "output_type": "stream",
     "text": [
      "FIRE:  251 14:07:55    -3133.216169        0.129125\n"
     ]
    },
    {
     "name": "stderr",
     "output_type": "stream",
     "text": [
      "/home/mehuldarak/anaconda3/envs/mace/lib/python3.13/site-packages/ase/filters.py:606: RuntimeWarning: logm result may be inaccurate, approximate err = 3.462113192946191e-13\n",
      "  pos[natoms:] = self.logm(pos[natoms:]) * self.exp_cell_factor\n"
     ]
    },
    {
     "name": "stdout",
     "output_type": "stream",
     "text": [
      "FIRE:  252 14:07:56    -3133.219405        0.128970\n"
     ]
    },
    {
     "name": "stderr",
     "output_type": "stream",
     "text": [
      "/home/mehuldarak/anaconda3/envs/mace/lib/python3.13/site-packages/ase/filters.py:606: RuntimeWarning: logm result may be inaccurate, approximate err = 3.4319316204912117e-13\n",
      "  pos[natoms:] = self.logm(pos[natoms:]) * self.exp_cell_factor\n"
     ]
    },
    {
     "name": "stdout",
     "output_type": "stream",
     "text": [
      "FIRE:  253 14:07:57    -3133.222890        0.128782\n"
     ]
    },
    {
     "name": "stderr",
     "output_type": "stream",
     "text": [
      "/home/mehuldarak/anaconda3/envs/mace/lib/python3.13/site-packages/ase/filters.py:606: RuntimeWarning: logm result may be inaccurate, approximate err = 3.453908336418381e-13\n",
      "  pos[natoms:] = self.logm(pos[natoms:]) * self.exp_cell_factor\n"
     ]
    },
    {
     "name": "stdout",
     "output_type": "stream",
     "text": [
      "FIRE:  254 14:07:59    -3133.227370        0.128576\n"
     ]
    },
    {
     "name": "stderr",
     "output_type": "stream",
     "text": [
      "/home/mehuldarak/anaconda3/envs/mace/lib/python3.13/site-packages/ase/filters.py:606: RuntimeWarning: logm result may be inaccurate, approximate err = 3.4181448172820016e-13\n",
      "  pos[natoms:] = self.logm(pos[natoms:]) * self.exp_cell_factor\n"
     ]
    },
    {
     "name": "stdout",
     "output_type": "stream",
     "text": [
      "FIRE:  255 14:08:00    -3133.232846        0.128337\n"
     ]
    },
    {
     "name": "stderr",
     "output_type": "stream",
     "text": [
      "/home/mehuldarak/anaconda3/envs/mace/lib/python3.13/site-packages/ase/filters.py:606: RuntimeWarning: logm result may be inaccurate, approximate err = 3.4991926000611686e-13\n",
      "  pos[natoms:] = self.logm(pos[natoms:]) * self.exp_cell_factor\n"
     ]
    },
    {
     "name": "stdout",
     "output_type": "stream",
     "text": [
      "FIRE:  256 14:08:01    -3133.239318        0.128044\n"
     ]
    },
    {
     "name": "stderr",
     "output_type": "stream",
     "text": [
      "/home/mehuldarak/anaconda3/envs/mace/lib/python3.13/site-packages/ase/filters.py:606: RuntimeWarning: logm result may be inaccurate, approximate err = 3.4659830776668785e-13\n",
      "  pos[natoms:] = self.logm(pos[natoms:]) * self.exp_cell_factor\n"
     ]
    },
    {
     "name": "stdout",
     "output_type": "stream",
     "text": [
      "FIRE:  257 14:08:03    -3133.246038        0.127678\n"
     ]
    },
    {
     "name": "stderr",
     "output_type": "stream",
     "text": [
      "/home/mehuldarak/anaconda3/envs/mace/lib/python3.13/site-packages/ase/filters.py:606: RuntimeWarning: logm result may be inaccurate, approximate err = 3.487565594261398e-13\n",
      "  pos[natoms:] = self.logm(pos[natoms:]) * self.exp_cell_factor\n"
     ]
    },
    {
     "name": "stdout",
     "output_type": "stream",
     "text": [
      "FIRE:  258 14:08:04    -3133.254252        0.127222\n"
     ]
    },
    {
     "name": "stderr",
     "output_type": "stream",
     "text": [
      "/home/mehuldarak/anaconda3/envs/mace/lib/python3.13/site-packages/ase/filters.py:606: RuntimeWarning: logm result may be inaccurate, approximate err = 3.447544128707342e-13\n",
      "  pos[natoms:] = self.logm(pos[natoms:]) * self.exp_cell_factor\n"
     ]
    },
    {
     "name": "stdout",
     "output_type": "stream",
     "text": [
      "FIRE:  259 14:08:05    -3133.264956        0.126675\n"
     ]
    },
    {
     "name": "stderr",
     "output_type": "stream",
     "text": [
      "/home/mehuldarak/anaconda3/envs/mace/lib/python3.13/site-packages/ase/filters.py:606: RuntimeWarning: logm result may be inaccurate, approximate err = 3.441023505908604e-13\n",
      "  pos[natoms:] = self.logm(pos[natoms:]) * self.exp_cell_factor\n"
     ]
    },
    {
     "name": "stdout",
     "output_type": "stream",
     "text": [
      "FIRE:  260 14:08:07    -3133.275908        0.126058\n"
     ]
    },
    {
     "name": "stderr",
     "output_type": "stream",
     "text": [
      "/home/mehuldarak/anaconda3/envs/mace/lib/python3.13/site-packages/ase/filters.py:606: RuntimeWarning: logm result may be inaccurate, approximate err = 3.3802344798068863e-13\n",
      "  pos[natoms:] = self.logm(pos[natoms:]) * self.exp_cell_factor\n"
     ]
    },
    {
     "name": "stdout",
     "output_type": "stream",
     "text": [
      "FIRE:  261 14:08:08    -3133.288104        0.158366\n"
     ]
    },
    {
     "name": "stderr",
     "output_type": "stream",
     "text": [
      "/home/mehuldarak/anaconda3/envs/mace/lib/python3.13/site-packages/ase/filters.py:606: RuntimeWarning: logm result may be inaccurate, approximate err = 3.457238459413089e-13\n",
      "  pos[natoms:] = self.logm(pos[natoms:]) * self.exp_cell_factor\n"
     ]
    },
    {
     "name": "stdout",
     "output_type": "stream",
     "text": [
      "FIRE:  262 14:08:09    -3133.300550        0.252701\n"
     ]
    },
    {
     "name": "stderr",
     "output_type": "stream",
     "text": [
      "/home/mehuldarak/anaconda3/envs/mace/lib/python3.13/site-packages/ase/filters.py:606: RuntimeWarning: logm result may be inaccurate, approximate err = 3.471977567195094e-13\n",
      "  pos[natoms:] = self.logm(pos[natoms:]) * self.exp_cell_factor\n"
     ]
    },
    {
     "name": "stdout",
     "output_type": "stream",
     "text": [
      "FIRE:  263 14:08:10    -3133.310506        0.476614\n"
     ]
    },
    {
     "name": "stderr",
     "output_type": "stream",
     "text": [
      "/home/mehuldarak/anaconda3/envs/mace/lib/python3.13/site-packages/ase/filters.py:606: RuntimeWarning: logm result may be inaccurate, approximate err = 3.467460801090558e-13\n",
      "  pos[natoms:] = self.logm(pos[natoms:]) * self.exp_cell_factor\n"
     ]
    },
    {
     "name": "stdout",
     "output_type": "stream",
     "text": [
      "FIRE:  264 14:08:12    -3133.319218        0.183876\n"
     ]
    },
    {
     "name": "stderr",
     "output_type": "stream",
     "text": [
      "/home/mehuldarak/anaconda3/envs/mace/lib/python3.13/site-packages/ase/filters.py:606: RuntimeWarning: logm result may be inaccurate, approximate err = 3.3702641356464347e-13\n",
      "  pos[natoms:] = self.logm(pos[natoms:]) * self.exp_cell_factor\n"
     ]
    },
    {
     "name": "stdout",
     "output_type": "stream",
     "text": [
      "FIRE:  265 14:08:13    -3133.316231        0.504170\n"
     ]
    },
    {
     "name": "stderr",
     "output_type": "stream",
     "text": [
      "/home/mehuldarak/anaconda3/envs/mace/lib/python3.13/site-packages/ase/filters.py:606: RuntimeWarning: logm result may be inaccurate, approximate err = 3.413313675539808e-13\n",
      "  pos[natoms:] = self.logm(pos[natoms:]) * self.exp_cell_factor\n"
     ]
    },
    {
     "name": "stdout",
     "output_type": "stream",
     "text": [
      "FIRE:  266 14:08:14    -3133.318471        0.375691\n"
     ]
    },
    {
     "name": "stderr",
     "output_type": "stream",
     "text": [
      "/home/mehuldarak/anaconda3/envs/mace/lib/python3.13/site-packages/ase/filters.py:606: RuntimeWarning: logm result may be inaccurate, approximate err = 3.3672173423388543e-13\n",
      "  pos[natoms:] = self.logm(pos[natoms:]) * self.exp_cell_factor\n"
     ]
    },
    {
     "name": "stdout",
     "output_type": "stream",
     "text": [
      "FIRE:  267 14:08:16    -3133.321707        0.144970\n"
     ]
    },
    {
     "name": "stderr",
     "output_type": "stream",
     "text": [
      "/home/mehuldarak/anaconda3/envs/mace/lib/python3.13/site-packages/ase/filters.py:606: RuntimeWarning: logm result may be inaccurate, approximate err = 3.5329368172328656e-13\n",
      "  pos[natoms:] = self.logm(pos[natoms:]) * self.exp_cell_factor\n"
     ]
    },
    {
     "name": "stdout",
     "output_type": "stream",
     "text": [
      "FIRE:  268 14:08:17    -3133.322702        0.127786\n"
     ]
    },
    {
     "name": "stderr",
     "output_type": "stream",
     "text": [
      "/home/mehuldarak/anaconda3/envs/mace/lib/python3.13/site-packages/ase/filters.py:606: RuntimeWarning: logm result may be inaccurate, approximate err = 3.4551358397088547e-13\n",
      "  pos[natoms:] = self.logm(pos[natoms:]) * self.exp_cell_factor\n"
     ]
    },
    {
     "name": "stdout",
     "output_type": "stream",
     "text": [
      "FIRE:  269 14:08:18    -3133.322205        0.123207\n"
     ]
    },
    {
     "name": "stderr",
     "output_type": "stream",
     "text": [
      "/home/mehuldarak/anaconda3/envs/mace/lib/python3.13/site-packages/ase/filters.py:606: RuntimeWarning: logm result may be inaccurate, approximate err = 3.5004101815428503e-13\n",
      "  pos[natoms:] = self.logm(pos[natoms:]) * self.exp_cell_factor\n"
     ]
    },
    {
     "name": "stdout",
     "output_type": "stream",
     "text": [
      "FIRE:  270 14:08:20    -3133.322702        0.123205\n"
     ]
    },
    {
     "name": "stderr",
     "output_type": "stream",
     "text": [
      "/home/mehuldarak/anaconda3/envs/mace/lib/python3.13/site-packages/ase/filters.py:606: RuntimeWarning: logm result may be inaccurate, approximate err = 3.415332844865018e-13\n",
      "  pos[natoms:] = self.logm(pos[natoms:]) * self.exp_cell_factor\n"
     ]
    },
    {
     "name": "stdout",
     "output_type": "stream",
     "text": [
      "FIRE:  271 14:08:21    -3133.322951        0.123203\n"
     ]
    },
    {
     "name": "stderr",
     "output_type": "stream",
     "text": [
      "/home/mehuldarak/anaconda3/envs/mace/lib/python3.13/site-packages/ase/filters.py:606: RuntimeWarning: logm result may be inaccurate, approximate err = 3.467622235051054e-13\n",
      "  pos[natoms:] = self.logm(pos[natoms:]) * self.exp_cell_factor\n"
     ]
    },
    {
     "name": "stdout",
     "output_type": "stream",
     "text": [
      "FIRE:  272 14:08:23    -3133.322702        0.123201\n"
     ]
    },
    {
     "name": "stderr",
     "output_type": "stream",
     "text": [
      "/home/mehuldarak/anaconda3/envs/mace/lib/python3.13/site-packages/ase/filters.py:606: RuntimeWarning: logm result may be inaccurate, approximate err = 3.474681910752157e-13\n",
      "  pos[natoms:] = self.logm(pos[natoms:]) * self.exp_cell_factor\n"
     ]
    },
    {
     "name": "stdout",
     "output_type": "stream",
     "text": [
      "FIRE:  273 14:08:24    -3133.322702        0.123200\n"
     ]
    },
    {
     "name": "stderr",
     "output_type": "stream",
     "text": [
      "/home/mehuldarak/anaconda3/envs/mace/lib/python3.13/site-packages/ase/filters.py:606: RuntimeWarning: logm result may be inaccurate, approximate err = 3.377431259415478e-13\n",
      "  pos[natoms:] = self.logm(pos[natoms:]) * self.exp_cell_factor\n"
     ]
    },
    {
     "name": "stdout",
     "output_type": "stream",
     "text": [
      "FIRE:  274 14:08:25    -3133.323698        0.123200\n"
     ]
    },
    {
     "name": "stderr",
     "output_type": "stream",
     "text": [
      "/home/mehuldarak/anaconda3/envs/mace/lib/python3.13/site-packages/ase/filters.py:606: RuntimeWarning: logm result may be inaccurate, approximate err = 3.401411961868913e-13\n",
      "  pos[natoms:] = self.logm(pos[natoms:]) * self.exp_cell_factor\n"
     ]
    },
    {
     "name": "stdout",
     "output_type": "stream",
     "text": [
      "FIRE:  275 14:08:26    -3133.323698        0.123197\n"
     ]
    },
    {
     "name": "stderr",
     "output_type": "stream",
     "text": [
      "/home/mehuldarak/anaconda3/envs/mace/lib/python3.13/site-packages/ase/filters.py:606: RuntimeWarning: logm result may be inaccurate, approximate err = 3.4365965519323767e-13\n",
      "  pos[natoms:] = self.logm(pos[natoms:]) * self.exp_cell_factor\n"
     ]
    },
    {
     "name": "stdout",
     "output_type": "stream",
     "text": [
      "FIRE:  276 14:08:27    -3133.323947        0.123194\n"
     ]
    },
    {
     "name": "stderr",
     "output_type": "stream",
     "text": [
      "/home/mehuldarak/anaconda3/envs/mace/lib/python3.13/site-packages/ase/filters.py:606: RuntimeWarning: logm result may be inaccurate, approximate err = 3.450931300022682e-13\n",
      "  pos[natoms:] = self.logm(pos[natoms:]) * self.exp_cell_factor\n"
     ]
    },
    {
     "name": "stdout",
     "output_type": "stream",
     "text": [
      "FIRE:  277 14:08:29    -3133.323698        0.123184\n"
     ]
    },
    {
     "name": "stderr",
     "output_type": "stream",
     "text": [
      "/home/mehuldarak/anaconda3/envs/mace/lib/python3.13/site-packages/ase/filters.py:606: RuntimeWarning: logm result may be inaccurate, approximate err = 3.4828686918506397e-13\n",
      "  pos[natoms:] = self.logm(pos[natoms:]) * self.exp_cell_factor\n"
     ]
    },
    {
     "name": "stdout",
     "output_type": "stream",
     "text": [
      "FIRE:  278 14:08:30    -3133.324196        0.123168\n"
     ]
    },
    {
     "name": "stderr",
     "output_type": "stream",
     "text": [
      "/home/mehuldarak/anaconda3/envs/mace/lib/python3.13/site-packages/ase/filters.py:606: RuntimeWarning: logm result may be inaccurate, approximate err = 3.43148520573249e-13\n",
      "  pos[natoms:] = self.logm(pos[natoms:]) * self.exp_cell_factor\n"
     ]
    },
    {
     "name": "stdout",
     "output_type": "stream",
     "text": [
      "FIRE:  279 14:08:32    -3133.325191        0.123140\n"
     ]
    },
    {
     "name": "stderr",
     "output_type": "stream",
     "text": [
      "/home/mehuldarak/anaconda3/envs/mace/lib/python3.13/site-packages/ase/filters.py:606: RuntimeWarning: logm result may be inaccurate, approximate err = 3.425434017161932e-13\n",
      "  pos[natoms:] = self.logm(pos[natoms:]) * self.exp_cell_factor\n"
     ]
    },
    {
     "name": "stdout",
     "output_type": "stream",
     "text": [
      "FIRE:  280 14:08:33    -3133.325689        0.123103\n"
     ]
    },
    {
     "name": "stderr",
     "output_type": "stream",
     "text": [
      "/home/mehuldarak/anaconda3/envs/mace/lib/python3.13/site-packages/ase/filters.py:606: RuntimeWarning: logm result may be inaccurate, approximate err = 3.360554230550703e-13\n",
      "  pos[natoms:] = self.logm(pos[natoms:]) * self.exp_cell_factor\n"
     ]
    },
    {
     "name": "stdout",
     "output_type": "stream",
     "text": [
      "FIRE:  281 14:08:34    -3133.326436        0.123055\n"
     ]
    },
    {
     "name": "stderr",
     "output_type": "stream",
     "text": [
      "/home/mehuldarak/anaconda3/envs/mace/lib/python3.13/site-packages/ase/filters.py:606: RuntimeWarning: logm result may be inaccurate, approximate err = 3.474799766628194e-13\n",
      "  pos[natoms:] = self.logm(pos[natoms:]) * self.exp_cell_factor\n"
     ]
    },
    {
     "name": "stdout",
     "output_type": "stream",
     "text": [
      "FIRE:  282 14:08:36    -3133.327681        0.122995\n"
     ]
    },
    {
     "name": "stderr",
     "output_type": "stream",
     "text": [
      "/home/mehuldarak/anaconda3/envs/mace/lib/python3.13/site-packages/ase/filters.py:606: RuntimeWarning: logm result may be inaccurate, approximate err = 3.4569692855737153e-13\n",
      "  pos[natoms:] = self.logm(pos[natoms:]) * self.exp_cell_factor\n"
     ]
    },
    {
     "name": "stdout",
     "output_type": "stream",
     "text": [
      "FIRE:  283 14:08:37    -3133.329672        0.122923\n"
     ]
    },
    {
     "name": "stderr",
     "output_type": "stream",
     "text": [
      "/home/mehuldarak/anaconda3/envs/mace/lib/python3.13/site-packages/ase/filters.py:606: RuntimeWarning: logm result may be inaccurate, approximate err = 3.4995323338433705e-13\n",
      "  pos[natoms:] = self.logm(pos[natoms:]) * self.exp_cell_factor\n"
     ]
    },
    {
     "name": "stdout",
     "output_type": "stream",
     "text": [
      "FIRE:  284 14:08:38    -3133.330170        0.122844\n"
     ]
    },
    {
     "name": "stderr",
     "output_type": "stream",
     "text": [
      "/home/mehuldarak/anaconda3/envs/mace/lib/python3.13/site-packages/ase/filters.py:606: RuntimeWarning: logm result may be inaccurate, approximate err = 3.531893940484072e-13\n",
      "  pos[natoms:] = self.logm(pos[natoms:]) * self.exp_cell_factor\n"
     ]
    },
    {
     "name": "stdout",
     "output_type": "stream",
     "text": [
      "FIRE:  285 14:08:40    -3133.332161        0.122759\n"
     ]
    },
    {
     "name": "stderr",
     "output_type": "stream",
     "text": [
      "/home/mehuldarak/anaconda3/envs/mace/lib/python3.13/site-packages/ase/filters.py:606: RuntimeWarning: logm result may be inaccurate, approximate err = 3.4283018185816447e-13\n",
      "  pos[natoms:] = self.logm(pos[natoms:]) * self.exp_cell_factor\n"
     ]
    },
    {
     "name": "stdout",
     "output_type": "stream",
     "text": [
      "FIRE:  286 14:08:41    -3133.334650        0.122658\n"
     ]
    },
    {
     "name": "stderr",
     "output_type": "stream",
     "text": [
      "/home/mehuldarak/anaconda3/envs/mace/lib/python3.13/site-packages/ase/filters.py:606: RuntimeWarning: logm result may be inaccurate, approximate err = 3.3760052915907376e-13\n",
      "  pos[natoms:] = self.logm(pos[natoms:]) * self.exp_cell_factor\n"
     ]
    },
    {
     "name": "stdout",
     "output_type": "stream",
     "text": [
      "FIRE:  287 14:08:42    -3133.337139        0.122529\n"
     ]
    },
    {
     "name": "stderr",
     "output_type": "stream",
     "text": [
      "/home/mehuldarak/anaconda3/envs/mace/lib/python3.13/site-packages/ase/filters.py:606: RuntimeWarning: logm result may be inaccurate, approximate err = 3.4049010070084165e-13\n",
      "  pos[natoms:] = self.logm(pos[natoms:]) * self.exp_cell_factor\n"
     ]
    },
    {
     "name": "stdout",
     "output_type": "stream",
     "text": [
      "FIRE:  288 14:08:44    -3133.340624        0.122367\n"
     ]
    },
    {
     "name": "stderr",
     "output_type": "stream",
     "text": [
      "/home/mehuldarak/anaconda3/envs/mace/lib/python3.13/site-packages/ase/filters.py:606: RuntimeWarning: logm result may be inaccurate, approximate err = 3.442114190773369e-13\n",
      "  pos[natoms:] = self.logm(pos[natoms:]) * self.exp_cell_factor\n"
     ]
    },
    {
     "name": "stdout",
     "output_type": "stream",
     "text": [
      "FIRE:  289 14:08:45    -3133.344855        0.122153\n"
     ]
    },
    {
     "name": "stderr",
     "output_type": "stream",
     "text": [
      "/home/mehuldarak/anaconda3/envs/mace/lib/python3.13/site-packages/ase/filters.py:606: RuntimeWarning: logm result may be inaccurate, approximate err = 3.4140579791532684e-13\n",
      "  pos[natoms:] = self.logm(pos[natoms:]) * self.exp_cell_factor\n"
     ]
    },
    {
     "name": "stdout",
     "output_type": "stream",
     "text": [
      "FIRE:  290 14:08:46    -3133.349585        0.121876\n"
     ]
    },
    {
     "name": "stderr",
     "output_type": "stream",
     "text": [
      "/home/mehuldarak/anaconda3/envs/mace/lib/python3.13/site-packages/ase/filters.py:606: RuntimeWarning: logm result may be inaccurate, approximate err = 3.429502409007338e-13\n",
      "  pos[natoms:] = self.logm(pos[natoms:]) * self.exp_cell_factor\n"
     ]
    },
    {
     "name": "stdout",
     "output_type": "stream",
     "text": [
      "FIRE:  291 14:08:47    -3133.355558        0.121531\n"
     ]
    },
    {
     "name": "stderr",
     "output_type": "stream",
     "text": [
      "/home/mehuldarak/anaconda3/envs/mace/lib/python3.13/site-packages/ase/filters.py:606: RuntimeWarning: logm result may be inaccurate, approximate err = 3.3805941701433566e-13\n",
      "  pos[natoms:] = self.logm(pos[natoms:]) * self.exp_cell_factor\n"
     ]
    },
    {
     "name": "stdout",
     "output_type": "stream",
     "text": [
      "FIRE:  292 14:08:49    -3133.362777        0.121148\n"
     ]
    },
    {
     "name": "stderr",
     "output_type": "stream",
     "text": [
      "/home/mehuldarak/anaconda3/envs/mace/lib/python3.13/site-packages/ase/filters.py:606: RuntimeWarning: logm result may be inaccurate, approximate err = 3.416579822196115e-13\n",
      "  pos[natoms:] = self.logm(pos[natoms:]) * self.exp_cell_factor\n"
     ]
    },
    {
     "name": "stdout",
     "output_type": "stream",
     "text": [
      "FIRE:  293 14:08:50    -3133.371489        0.120695\n"
     ]
    },
    {
     "name": "stderr",
     "output_type": "stream",
     "text": [
      "/home/mehuldarak/anaconda3/envs/mace/lib/python3.13/site-packages/ase/filters.py:606: RuntimeWarning: logm result may be inaccurate, approximate err = 3.44115183104141e-13\n",
      "  pos[natoms:] = self.logm(pos[natoms:]) * self.exp_cell_factor\n"
     ]
    },
    {
     "name": "stdout",
     "output_type": "stream",
     "text": [
      "FIRE:  294 14:08:51    -3133.381196        0.131799\n"
     ]
    },
    {
     "name": "stderr",
     "output_type": "stream",
     "text": [
      "/home/mehuldarak/anaconda3/envs/mace/lib/python3.13/site-packages/ase/filters.py:606: RuntimeWarning: logm result may be inaccurate, approximate err = 3.458404878917252e-13\n",
      "  pos[natoms:] = self.logm(pos[natoms:]) * self.exp_cell_factor\n"
     ]
    },
    {
     "name": "stdout",
     "output_type": "stream",
     "text": [
      "FIRE:  295 14:08:53    -3133.392895        0.255825\n"
     ]
    },
    {
     "name": "stderr",
     "output_type": "stream",
     "text": [
      "/home/mehuldarak/anaconda3/envs/mace/lib/python3.13/site-packages/ase/filters.py:606: RuntimeWarning: logm result may be inaccurate, approximate err = 3.4598766704712925e-13\n",
      "  pos[natoms:] = self.logm(pos[natoms:]) * self.exp_cell_factor\n"
     ]
    },
    {
     "name": "stdout",
     "output_type": "stream",
     "text": [
      "FIRE:  296 14:08:54    -3133.403349        0.397320\n"
     ]
    },
    {
     "name": "stderr",
     "output_type": "stream",
     "text": [
      "/home/mehuldarak/anaconda3/envs/mace/lib/python3.13/site-packages/ase/filters.py:606: RuntimeWarning: logm result may be inaccurate, approximate err = 3.4129198241728224e-13\n",
      "  pos[natoms:] = self.logm(pos[natoms:]) * self.exp_cell_factor\n"
     ]
    },
    {
     "name": "stdout",
     "output_type": "stream",
     "text": [
      "FIRE:  297 14:08:55    -3133.414550        0.558482\n"
     ]
    },
    {
     "name": "stderr",
     "output_type": "stream",
     "text": [
      "/home/mehuldarak/anaconda3/envs/mace/lib/python3.13/site-packages/ase/filters.py:606: RuntimeWarning: logm result may be inaccurate, approximate err = 3.457364342978482e-13\n",
      "  pos[natoms:] = self.logm(pos[natoms:]) * self.exp_cell_factor\n"
     ]
    },
    {
     "name": "stdout",
     "output_type": "stream",
     "text": [
      "FIRE:  298 14:08:57    -3133.422764        0.177342\n"
     ]
    },
    {
     "name": "stderr",
     "output_type": "stream",
     "text": [
      "/home/mehuldarak/anaconda3/envs/mace/lib/python3.13/site-packages/ase/filters.py:606: RuntimeWarning: logm result may be inaccurate, approximate err = 3.482357709074989e-13\n",
      "  pos[natoms:] = self.logm(pos[natoms:]) * self.exp_cell_factor\n"
     ]
    },
    {
     "name": "stdout",
     "output_type": "stream",
     "text": [
      "FIRE:  299 14:08:58    -3133.420026        0.405517\n"
     ]
    },
    {
     "name": "stderr",
     "output_type": "stream",
     "text": [
      "/home/mehuldarak/anaconda3/envs/mace/lib/python3.13/site-packages/ase/filters.py:606: RuntimeWarning: logm result may be inaccurate, approximate err = 3.442672067447048e-13\n",
      "  pos[natoms:] = self.logm(pos[natoms:]) * self.exp_cell_factor\n"
     ]
    },
    {
     "name": "stdout",
     "output_type": "stream",
     "text": [
      "FIRE:  300 14:08:59    -3133.422017        0.338249\n"
     ]
    },
    {
     "name": "stderr",
     "output_type": "stream",
     "text": [
      "/home/mehuldarak/anaconda3/envs/mace/lib/python3.13/site-packages/ase/filters.py:606: RuntimeWarning: logm result may be inaccurate, approximate err = 3.395559701775724e-13\n",
      "  pos[natoms:] = self.logm(pos[natoms:]) * self.exp_cell_factor\n"
     ]
    },
    {
     "name": "stdout",
     "output_type": "stream",
     "text": [
      "FIRE:  301 14:09:01    -3133.424506        0.227165\n"
     ]
    },
    {
     "name": "stderr",
     "output_type": "stream",
     "text": [
      "/home/mehuldarak/anaconda3/envs/mace/lib/python3.13/site-packages/ase/filters.py:606: RuntimeWarning: logm result may be inaccurate, approximate err = 3.4382484716061795e-13\n",
      "  pos[natoms:] = self.logm(pos[natoms:]) * self.exp_cell_factor\n"
     ]
    },
    {
     "name": "stdout",
     "output_type": "stream",
     "text": [
      "FIRE:  302 14:09:02    -3133.425502        0.117369\n"
     ]
    },
    {
     "name": "stderr",
     "output_type": "stream",
     "text": [
      "/home/mehuldarak/anaconda3/envs/mace/lib/python3.13/site-packages/ase/filters.py:606: RuntimeWarning: logm result may be inaccurate, approximate err = 3.3975895013921263e-13\n",
      "  pos[natoms:] = self.logm(pos[natoms:]) * self.exp_cell_factor\n"
     ]
    },
    {
     "name": "stdout",
     "output_type": "stream",
     "text": [
      "FIRE:  303 14:09:03    -3133.425004        0.215623\n"
     ]
    },
    {
     "name": "stderr",
     "output_type": "stream",
     "text": [
      "/home/mehuldarak/anaconda3/envs/mace/lib/python3.13/site-packages/ase/filters.py:606: RuntimeWarning: logm result may be inaccurate, approximate err = 3.452624031107166e-13\n",
      "  pos[natoms:] = self.logm(pos[natoms:]) * self.exp_cell_factor\n"
     ]
    },
    {
     "name": "stdout",
     "output_type": "stream",
     "text": [
      "FIRE:  304 14:09:04    -3133.425253        0.201805\n"
     ]
    },
    {
     "name": "stderr",
     "output_type": "stream",
     "text": [
      "/home/mehuldarak/anaconda3/envs/mace/lib/python3.13/site-packages/ase/filters.py:606: RuntimeWarning: logm result may be inaccurate, approximate err = 3.35516634940141e-13\n",
      "  pos[natoms:] = self.logm(pos[natoms:]) * self.exp_cell_factor\n"
     ]
    },
    {
     "name": "stdout",
     "output_type": "stream",
     "text": [
      "FIRE:  305 14:09:06    -3133.425751        0.175971\n"
     ]
    },
    {
     "name": "stderr",
     "output_type": "stream",
     "text": [
      "/home/mehuldarak/anaconda3/envs/mace/lib/python3.13/site-packages/ase/filters.py:606: RuntimeWarning: logm result may be inaccurate, approximate err = 3.435858610867419e-13\n",
      "  pos[natoms:] = self.logm(pos[natoms:]) * self.exp_cell_factor\n"
     ]
    },
    {
     "name": "stdout",
     "output_type": "stream",
     "text": [
      "FIRE:  306 14:09:07    -3133.426249        0.140307\n"
     ]
    },
    {
     "name": "stderr",
     "output_type": "stream",
     "text": [
      "/home/mehuldarak/anaconda3/envs/mace/lib/python3.13/site-packages/ase/filters.py:606: RuntimeWarning: logm result may be inaccurate, approximate err = 3.4024494380065153e-13\n",
      "  pos[natoms:] = self.logm(pos[natoms:]) * self.exp_cell_factor\n"
     ]
    },
    {
     "name": "stdout",
     "output_type": "stream",
     "text": [
      "FIRE:  307 14:09:09    -3133.426746        0.117359\n"
     ]
    },
    {
     "name": "stderr",
     "output_type": "stream",
     "text": [
      "/home/mehuldarak/anaconda3/envs/mace/lib/python3.13/site-packages/ase/filters.py:606: RuntimeWarning: logm result may be inaccurate, approximate err = 3.501287152143331e-13\n",
      "  pos[natoms:] = self.logm(pos[natoms:]) * self.exp_cell_factor\n"
     ]
    },
    {
     "name": "stdout",
     "output_type": "stream",
     "text": [
      "FIRE:  308 14:09:10    -3133.426746        0.117337\n"
     ]
    },
    {
     "name": "stderr",
     "output_type": "stream",
     "text": [
      "/home/mehuldarak/anaconda3/envs/mace/lib/python3.13/site-packages/ase/filters.py:606: RuntimeWarning: logm result may be inaccurate, approximate err = 3.433013539586561e-13\n",
      "  pos[natoms:] = self.logm(pos[natoms:]) * self.exp_cell_factor\n"
     ]
    },
    {
     "name": "stdout",
     "output_type": "stream",
     "text": [
      "FIRE:  309 14:09:11    -3133.427244        0.117324\n"
     ]
    },
    {
     "name": "stderr",
     "output_type": "stream",
     "text": [
      "/home/mehuldarak/anaconda3/envs/mace/lib/python3.13/site-packages/ase/filters.py:606: RuntimeWarning: logm result may be inaccurate, approximate err = 3.3889642763756924e-13\n",
      "  pos[natoms:] = self.logm(pos[natoms:]) * self.exp_cell_factor\n"
     ]
    },
    {
     "name": "stdout",
     "output_type": "stream",
     "text": [
      "FIRE:  310 14:09:13    -3133.427244        0.117314\n"
     ]
    },
    {
     "name": "stderr",
     "output_type": "stream",
     "text": [
      "/home/mehuldarak/anaconda3/envs/mace/lib/python3.13/site-packages/ase/filters.py:606: RuntimeWarning: logm result may be inaccurate, approximate err = 3.418528577085953e-13\n",
      "  pos[natoms:] = self.logm(pos[natoms:]) * self.exp_cell_factor\n"
     ]
    },
    {
     "name": "stdout",
     "output_type": "stream",
     "text": [
      "FIRE:  311 14:09:14    -3133.426995        0.117305\n"
     ]
    },
    {
     "name": "stderr",
     "output_type": "stream",
     "text": [
      "/home/mehuldarak/anaconda3/envs/mace/lib/python3.13/site-packages/ase/filters.py:606: RuntimeWarning: logm result may be inaccurate, approximate err = 3.4360082783765515e-13\n",
      "  pos[natoms:] = self.logm(pos[natoms:]) * self.exp_cell_factor\n"
     ]
    },
    {
     "name": "stdout",
     "output_type": "stream",
     "text": [
      "FIRE:  312 14:09:15    -3133.427493        0.120893\n"
     ]
    },
    {
     "name": "stderr",
     "output_type": "stream",
     "text": [
      "/home/mehuldarak/anaconda3/envs/mace/lib/python3.13/site-packages/ase/filters.py:606: RuntimeWarning: logm result may be inaccurate, approximate err = 3.4796737559871436e-13\n",
      "  pos[natoms:] = self.logm(pos[natoms:]) * self.exp_cell_factor\n"
     ]
    },
    {
     "name": "stdout",
     "output_type": "stream",
     "text": [
      "FIRE:  313 14:09:16    -3133.428240        0.121411\n"
     ]
    },
    {
     "name": "stderr",
     "output_type": "stream",
     "text": [
      "/home/mehuldarak/anaconda3/envs/mace/lib/python3.13/site-packages/ase/filters.py:606: RuntimeWarning: logm result may be inaccurate, approximate err = 3.448258907524468e-13\n",
      "  pos[natoms:] = self.logm(pos[natoms:]) * self.exp_cell_factor\n"
     ]
    },
    {
     "name": "stdout",
     "output_type": "stream",
     "text": [
      "FIRE:  314 14:09:18    -3133.428987        0.117243\n"
     ]
    },
    {
     "name": "stderr",
     "output_type": "stream",
     "text": [
      "/home/mehuldarak/anaconda3/envs/mace/lib/python3.13/site-packages/ase/filters.py:606: RuntimeWarning: logm result may be inaccurate, approximate err = 3.4759534604058125e-13\n",
      "  pos[natoms:] = self.logm(pos[natoms:]) * self.exp_cell_factor\n"
     ]
    },
    {
     "name": "stdout",
     "output_type": "stream",
     "text": [
      "FIRE:  315 14:09:19    -3133.429235        0.117209\n"
     ]
    },
    {
     "name": "stderr",
     "output_type": "stream",
     "text": [
      "/home/mehuldarak/anaconda3/envs/mace/lib/python3.13/site-packages/ase/filters.py:606: RuntimeWarning: logm result may be inaccurate, approximate err = 3.5178662672459057e-13\n",
      "  pos[natoms:] = self.logm(pos[natoms:]) * self.exp_cell_factor\n"
     ]
    },
    {
     "name": "stdout",
     "output_type": "stream",
     "text": [
      "FIRE:  316 14:09:20    -3133.429733        0.117170\n"
     ]
    },
    {
     "name": "stderr",
     "output_type": "stream",
     "text": [
      "/home/mehuldarak/anaconda3/envs/mace/lib/python3.13/site-packages/ase/filters.py:606: RuntimeWarning: logm result may be inaccurate, approximate err = 3.4610636886080136e-13\n",
      "  pos[natoms:] = self.logm(pos[natoms:]) * self.exp_cell_factor\n"
     ]
    },
    {
     "name": "stdout",
     "output_type": "stream",
     "text": [
      "FIRE:  317 14:09:22    -3133.430978        0.117122\n"
     ]
    },
    {
     "name": "stderr",
     "output_type": "stream",
     "text": [
      "/home/mehuldarak/anaconda3/envs/mace/lib/python3.13/site-packages/ase/filters.py:606: RuntimeWarning: logm result may be inaccurate, approximate err = 3.4192947579148764e-13\n",
      "  pos[natoms:] = self.logm(pos[natoms:]) * self.exp_cell_factor\n"
     ]
    },
    {
     "name": "stdout",
     "output_type": "stream",
     "text": [
      "FIRE:  318 14:09:23    -3133.431227        0.117048\n"
     ]
    },
    {
     "name": "stderr",
     "output_type": "stream",
     "text": [
      "/home/mehuldarak/anaconda3/envs/mace/lib/python3.13/site-packages/ase/filters.py:606: RuntimeWarning: logm result may be inaccurate, approximate err = 3.435320049106097e-13\n",
      "  pos[natoms:] = self.logm(pos[natoms:]) * self.exp_cell_factor\n"
     ]
    },
    {
     "name": "stdout",
     "output_type": "stream",
     "text": [
      "FIRE:  319 14:09:24    -3133.433218        0.116946\n"
     ]
    },
    {
     "name": "stderr",
     "output_type": "stream",
     "text": [
      "/home/mehuldarak/anaconda3/envs/mace/lib/python3.13/site-packages/ase/filters.py:606: RuntimeWarning: logm result may be inaccurate, approximate err = 3.4298641431335674e-13\n",
      "  pos[natoms:] = self.logm(pos[natoms:]) * self.exp_cell_factor\n"
     ]
    },
    {
     "name": "stdout",
     "output_type": "stream",
     "text": [
      "FIRE:  320 14:09:26    -3133.435458        0.116834\n"
     ]
    },
    {
     "name": "stderr",
     "output_type": "stream",
     "text": [
      "/home/mehuldarak/anaconda3/envs/mace/lib/python3.13/site-packages/ase/filters.py:606: RuntimeWarning: logm result may be inaccurate, approximate err = 3.381663194685099e-13\n",
      "  pos[natoms:] = self.logm(pos[natoms:]) * self.exp_cell_factor\n"
     ]
    },
    {
     "name": "stdout",
     "output_type": "stream",
     "text": [
      "FIRE:  321 14:09:27    -3133.436205        0.116719\n"
     ]
    },
    {
     "name": "stderr",
     "output_type": "stream",
     "text": [
      "/home/mehuldarak/anaconda3/envs/mace/lib/python3.13/site-packages/ase/filters.py:606: RuntimeWarning: logm result may be inaccurate, approximate err = 3.507175074972958e-13\n",
      "  pos[natoms:] = self.logm(pos[natoms:]) * self.exp_cell_factor\n"
     ]
    },
    {
     "name": "stdout",
     "output_type": "stream",
     "text": [
      "FIRE:  322 14:09:28    -3133.438445        0.116580\n"
     ]
    },
    {
     "name": "stderr",
     "output_type": "stream",
     "text": [
      "/home/mehuldarak/anaconda3/envs/mace/lib/python3.13/site-packages/ase/filters.py:606: RuntimeWarning: logm result may be inaccurate, approximate err = 3.5007610759023816e-13\n",
      "  pos[natoms:] = self.logm(pos[natoms:]) * self.exp_cell_factor\n"
     ]
    },
    {
     "name": "stdout",
     "output_type": "stream",
     "text": [
      "FIRE:  323 14:09:30    -3133.442179        0.116431\n"
     ]
    },
    {
     "name": "stderr",
     "output_type": "stream",
     "text": [
      "/home/mehuldarak/anaconda3/envs/mace/lib/python3.13/site-packages/ase/filters.py:606: RuntimeWarning: logm result may be inaccurate, approximate err = 3.4154101439388545e-13\n",
      "  pos[natoms:] = self.logm(pos[natoms:]) * self.exp_cell_factor\n"
     ]
    },
    {
     "name": "stdout",
     "output_type": "stream",
     "text": [
      "FIRE:  324 14:09:31    -3133.445912        0.116220\n"
     ]
    },
    {
     "name": "stderr",
     "output_type": "stream",
     "text": [
      "/home/mehuldarak/anaconda3/envs/mace/lib/python3.13/site-packages/ase/filters.py:606: RuntimeWarning: logm result may be inaccurate, approximate err = 3.489078794572404e-13\n",
      "  pos[natoms:] = self.logm(pos[natoms:]) * self.exp_cell_factor\n"
     ]
    },
    {
     "name": "stdout",
     "output_type": "stream",
     "text": [
      "FIRE:  325 14:09:32    -3133.450144        0.115936\n"
     ]
    },
    {
     "name": "stderr",
     "output_type": "stream",
     "text": [
      "/home/mehuldarak/anaconda3/envs/mace/lib/python3.13/site-packages/ase/filters.py:606: RuntimeWarning: logm result may be inaccurate, approximate err = 3.4739396969054507e-13\n",
      "  pos[natoms:] = self.logm(pos[natoms:]) * self.exp_cell_factor\n"
     ]
    },
    {
     "name": "stdout",
     "output_type": "stream",
     "text": [
      "FIRE:  326 14:09:33    -3133.455122        0.115623\n"
     ]
    },
    {
     "name": "stderr",
     "output_type": "stream",
     "text": [
      "/home/mehuldarak/anaconda3/envs/mace/lib/python3.13/site-packages/ase/filters.py:606: RuntimeWarning: logm result may be inaccurate, approximate err = 3.4543015715033456e-13\n",
      "  pos[natoms:] = self.logm(pos[natoms:]) * self.exp_cell_factor\n"
     ]
    },
    {
     "name": "stdout",
     "output_type": "stream",
     "text": [
      "FIRE:  327 14:09:35    -3133.459602        0.115282\n"
     ]
    },
    {
     "name": "stderr",
     "output_type": "stream",
     "text": [
      "/home/mehuldarak/anaconda3/envs/mace/lib/python3.13/site-packages/ase/filters.py:606: RuntimeWarning: logm result may be inaccurate, approximate err = 3.470263114120634e-13\n",
      "  pos[natoms:] = self.logm(pos[natoms:]) * self.exp_cell_factor\n"
     ]
    },
    {
     "name": "stdout",
     "output_type": "stream",
     "text": [
      "FIRE:  328 14:09:36    -3133.466572        0.114815\n"
     ]
    },
    {
     "name": "stderr",
     "output_type": "stream",
     "text": [
      "/home/mehuldarak/anaconda3/envs/mace/lib/python3.13/site-packages/ase/filters.py:606: RuntimeWarning: logm result may be inaccurate, approximate err = 3.4302995749231424e-13\n",
      "  pos[natoms:] = self.logm(pos[natoms:]) * self.exp_cell_factor\n"
     ]
    },
    {
     "name": "stdout",
     "output_type": "stream",
     "text": [
      "FIRE:  329 14:09:37    -3133.476528        0.114304\n"
     ]
    },
    {
     "name": "stderr",
     "output_type": "stream",
     "text": [
      "/home/mehuldarak/anaconda3/envs/mace/lib/python3.13/site-packages/ase/filters.py:606: RuntimeWarning: logm result may be inaccurate, approximate err = 3.416245459113122e-13\n",
      "  pos[natoms:] = self.logm(pos[natoms:]) * self.exp_cell_factor\n"
     ]
    },
    {
     "name": "stdout",
     "output_type": "stream",
     "text": [
      "FIRE:  330 14:09:39    -3133.486733        0.129180\n"
     ]
    },
    {
     "name": "stderr",
     "output_type": "stream",
     "text": [
      "/home/mehuldarak/anaconda3/envs/mace/lib/python3.13/site-packages/ase/filters.py:606: RuntimeWarning: logm result may be inaccurate, approximate err = 3.390156297056658e-13\n",
      "  pos[natoms:] = self.logm(pos[natoms:]) * self.exp_cell_factor\n"
     ]
    },
    {
     "name": "stdout",
     "output_type": "stream",
     "text": [
      "FIRE:  331 14:09:40    -3133.498432        0.386673\n"
     ]
    },
    {
     "name": "stderr",
     "output_type": "stream",
     "text": [
      "/home/mehuldarak/anaconda3/envs/mace/lib/python3.13/site-packages/ase/filters.py:606: RuntimeWarning: logm result may be inaccurate, approximate err = 3.3229420041699424e-13\n",
      "  pos[natoms:] = self.logm(pos[natoms:]) * self.exp_cell_factor\n"
     ]
    },
    {
     "name": "stdout",
     "output_type": "stream",
     "text": [
      "FIRE:  332 14:09:41    -3133.501668        0.682466\n"
     ]
    },
    {
     "name": "stderr",
     "output_type": "stream",
     "text": [
      "/home/mehuldarak/anaconda3/envs/mace/lib/python3.13/site-packages/ase/filters.py:606: RuntimeWarning: logm result may be inaccurate, approximate err = 3.3988663829611666e-13\n",
      "  pos[natoms:] = self.logm(pos[natoms:]) * self.exp_cell_factor\n"
     ]
    },
    {
     "name": "stdout",
     "output_type": "stream",
     "text": [
      "FIRE:  333 14:09:43    -3133.513616        0.290579\n"
     ]
    },
    {
     "name": "stderr",
     "output_type": "stream",
     "text": [
      "/home/mehuldarak/anaconda3/envs/mace/lib/python3.13/site-packages/ase/filters.py:606: RuntimeWarning: logm result may be inaccurate, approximate err = 3.456241410350763e-13\n",
      "  pos[natoms:] = self.logm(pos[natoms:]) * self.exp_cell_factor\n"
     ]
    },
    {
     "name": "stdout",
     "output_type": "stream",
     "text": [
      "FIRE:  334 14:09:44    -3133.509882        0.562663\n"
     ]
    },
    {
     "name": "stderr",
     "output_type": "stream",
     "text": [
      "/home/mehuldarak/anaconda3/envs/mace/lib/python3.13/site-packages/ase/filters.py:606: RuntimeWarning: logm result may be inaccurate, approximate err = 3.4138702574945893e-13\n",
      "  pos[natoms:] = self.logm(pos[natoms:]) * self.exp_cell_factor\n"
     ]
    },
    {
     "name": "stdout",
     "output_type": "stream",
     "text": [
      "FIRE:  335 14:09:45    -3133.511873        0.410284\n"
     ]
    },
    {
     "name": "stderr",
     "output_type": "stream",
     "text": [
      "/home/mehuldarak/anaconda3/envs/mace/lib/python3.13/site-packages/ase/filters.py:606: RuntimeWarning: logm result may be inaccurate, approximate err = 3.3951643381037543e-13\n",
      "  pos[natoms:] = self.logm(pos[natoms:]) * self.exp_cell_factor\n"
     ]
    },
    {
     "name": "stdout",
     "output_type": "stream",
     "text": [
      "FIRE:  336 14:09:47    -3133.515856        0.248545\n"
     ]
    },
    {
     "name": "stderr",
     "output_type": "stream",
     "text": [
      "/home/mehuldarak/anaconda3/envs/mace/lib/python3.13/site-packages/ase/filters.py:606: RuntimeWarning: logm result may be inaccurate, approximate err = 3.4520841555944315e-13\n",
      "  pos[natoms:] = self.logm(pos[natoms:]) * self.exp_cell_factor\n"
     ]
    },
    {
     "name": "stdout",
     "output_type": "stream",
     "text": [
      "FIRE:  337 14:09:48    -3133.516851        0.111851\n"
     ]
    },
    {
     "name": "stderr",
     "output_type": "stream",
     "text": [
      "/home/mehuldarak/anaconda3/envs/mace/lib/python3.13/site-packages/ase/filters.py:606: RuntimeWarning: logm result may be inaccurate, approximate err = 3.3639262611349587e-13\n",
      "  pos[natoms:] = self.logm(pos[natoms:]) * self.exp_cell_factor\n"
     ]
    },
    {
     "name": "stdout",
     "output_type": "stream",
     "text": [
      "FIRE:  338 14:09:50    -3133.517100        0.111850\n"
     ]
    },
    {
     "name": "stderr",
     "output_type": "stream",
     "text": [
      "/home/mehuldarak/anaconda3/envs/mace/lib/python3.13/site-packages/ase/filters.py:606: RuntimeWarning: logm result may be inaccurate, approximate err = 3.489075878609204e-13\n",
      "  pos[natoms:] = self.logm(pos[natoms:]) * self.exp_cell_factor\n"
     ]
    },
    {
     "name": "stdout",
     "output_type": "stream",
     "text": [
      "FIRE:  339 14:09:51    -3133.517349        0.111850\n"
     ]
    },
    {
     "name": "stderr",
     "output_type": "stream",
     "text": [
      "/home/mehuldarak/anaconda3/envs/mace/lib/python3.13/site-packages/ase/filters.py:606: RuntimeWarning: logm result may be inaccurate, approximate err = 3.47252399103251e-13\n",
      "  pos[natoms:] = self.logm(pos[natoms:]) * self.exp_cell_factor\n"
     ]
    },
    {
     "name": "stdout",
     "output_type": "stream",
     "text": [
      "FIRE:  340 14:09:52    -3133.517100        0.111850\n"
     ]
    },
    {
     "name": "stderr",
     "output_type": "stream",
     "text": [
      "/home/mehuldarak/anaconda3/envs/mace/lib/python3.13/site-packages/ase/filters.py:606: RuntimeWarning: logm result may be inaccurate, approximate err = 3.3723507123407676e-13\n",
      "  pos[natoms:] = self.logm(pos[natoms:]) * self.exp_cell_factor\n"
     ]
    },
    {
     "name": "stdout",
     "output_type": "stream",
     "text": [
      "FIRE:  341 14:09:53    -3133.517598        0.111851\n"
     ]
    },
    {
     "name": "stderr",
     "output_type": "stream",
     "text": [
      "/home/mehuldarak/anaconda3/envs/mace/lib/python3.13/site-packages/ase/filters.py:606: RuntimeWarning: logm result may be inaccurate, approximate err = 3.493784451454622e-13\n",
      "  pos[natoms:] = self.logm(pos[natoms:]) * self.exp_cell_factor\n"
     ]
    },
    {
     "name": "stdout",
     "output_type": "stream",
     "text": [
      "FIRE:  342 14:09:55    -3133.517847        0.111851\n"
     ]
    },
    {
     "name": "stderr",
     "output_type": "stream",
     "text": [
      "/home/mehuldarak/anaconda3/envs/mace/lib/python3.13/site-packages/ase/filters.py:606: RuntimeWarning: logm result may be inaccurate, approximate err = 3.454809173658181e-13\n",
      "  pos[natoms:] = self.logm(pos[natoms:]) * self.exp_cell_factor\n"
     ]
    },
    {
     "name": "stdout",
     "output_type": "stream",
     "text": [
      "FIRE:  343 14:09:56    -3133.518096        0.111852\n"
     ]
    },
    {
     "name": "stderr",
     "output_type": "stream",
     "text": [
      "/home/mehuldarak/anaconda3/envs/mace/lib/python3.13/site-packages/ase/filters.py:606: RuntimeWarning: logm result may be inaccurate, approximate err = 3.38141546979131e-13\n",
      "  pos[natoms:] = self.logm(pos[natoms:]) * self.exp_cell_factor\n"
     ]
    },
    {
     "name": "stdout",
     "output_type": "stream",
     "text": [
      "FIRE:  344 14:09:57    -3133.517847        0.111853\n"
     ]
    },
    {
     "name": "stderr",
     "output_type": "stream",
     "text": [
      "/home/mehuldarak/anaconda3/envs/mace/lib/python3.13/site-packages/ase/filters.py:606: RuntimeWarning: logm result may be inaccurate, approximate err = 3.3618318199292644e-13\n",
      "  pos[natoms:] = self.logm(pos[natoms:]) * self.exp_cell_factor\n"
     ]
    },
    {
     "name": "stdout",
     "output_type": "stream",
     "text": [
      "FIRE:  345 14:09:59    -3133.517847        0.111852\n"
     ]
    },
    {
     "name": "stderr",
     "output_type": "stream",
     "text": [
      "/home/mehuldarak/anaconda3/envs/mace/lib/python3.13/site-packages/ase/filters.py:606: RuntimeWarning: logm result may be inaccurate, approximate err = 3.5235724713369185e-13\n",
      "  pos[natoms:] = self.logm(pos[natoms:]) * self.exp_cell_factor\n"
     ]
    },
    {
     "name": "stdout",
     "output_type": "stream",
     "text": [
      "FIRE:  346 14:10:00    -3133.518345        0.111851\n"
     ]
    },
    {
     "name": "stderr",
     "output_type": "stream",
     "text": [
      "/home/mehuldarak/anaconda3/envs/mace/lib/python3.13/site-packages/ase/filters.py:606: RuntimeWarning: logm result may be inaccurate, approximate err = 3.3803473184947515e-13\n",
      "  pos[natoms:] = self.logm(pos[natoms:]) * self.exp_cell_factor\n"
     ]
    },
    {
     "name": "stdout",
     "output_type": "stream",
     "text": [
      "FIRE:  347 14:10:01    -3133.518345        0.111841\n"
     ]
    },
    {
     "name": "stderr",
     "output_type": "stream",
     "text": [
      "/home/mehuldarak/anaconda3/envs/mace/lib/python3.13/site-packages/ase/filters.py:606: RuntimeWarning: logm result may be inaccurate, approximate err = 3.493716487208056e-13\n",
      "  pos[natoms:] = self.logm(pos[natoms:]) * self.exp_cell_factor\n"
     ]
    },
    {
     "name": "stdout",
     "output_type": "stream",
     "text": [
      "FIRE:  348 14:10:03    -3133.519092        0.111823\n"
     ]
    },
    {
     "name": "stderr",
     "output_type": "stream",
     "text": [
      "/home/mehuldarak/anaconda3/envs/mace/lib/python3.13/site-packages/ase/filters.py:606: RuntimeWarning: logm result may be inaccurate, approximate err = 3.440626300073676e-13\n",
      "  pos[natoms:] = self.logm(pos[natoms:]) * self.exp_cell_factor\n"
     ]
    },
    {
     "name": "stdout",
     "output_type": "stream",
     "text": [
      "FIRE:  349 14:10:04    -3133.519589        0.111788\n"
     ]
    },
    {
     "name": "stderr",
     "output_type": "stream",
     "text": [
      "/home/mehuldarak/anaconda3/envs/mace/lib/python3.13/site-packages/ase/filters.py:606: RuntimeWarning: logm result may be inaccurate, approximate err = 3.365819900100692e-13\n",
      "  pos[natoms:] = self.logm(pos[natoms:]) * self.exp_cell_factor\n"
     ]
    },
    {
     "name": "stdout",
     "output_type": "stream",
     "text": [
      "FIRE:  350 14:10:05    -3133.521332        0.111735\n"
     ]
    },
    {
     "name": "stderr",
     "output_type": "stream",
     "text": [
      "/home/mehuldarak/anaconda3/envs/mace/lib/python3.13/site-packages/ase/filters.py:606: RuntimeWarning: logm result may be inaccurate, approximate err = 3.456250657602116e-13\n",
      "  pos[natoms:] = self.logm(pos[natoms:]) * self.exp_cell_factor\n"
     ]
    },
    {
     "name": "stdout",
     "output_type": "stream",
     "text": [
      "FIRE:  351 14:10:07    -3133.521830        0.111669\n"
     ]
    },
    {
     "name": "stderr",
     "output_type": "stream",
     "text": [
      "/home/mehuldarak/anaconda3/envs/mace/lib/python3.13/site-packages/ase/filters.py:606: RuntimeWarning: logm result may be inaccurate, approximate err = 3.4291931001305905e-13\n",
      "  pos[natoms:] = self.logm(pos[natoms:]) * self.exp_cell_factor\n"
     ]
    },
    {
     "name": "stdout",
     "output_type": "stream",
     "text": [
      "FIRE:  352 14:10:08    -3133.523323        0.111591\n"
     ]
    },
    {
     "name": "stderr",
     "output_type": "stream",
     "text": [
      "/home/mehuldarak/anaconda3/envs/mace/lib/python3.13/site-packages/ase/filters.py:606: RuntimeWarning: logm result may be inaccurate, approximate err = 3.4787387516461755e-13\n",
      "  pos[natoms:] = self.logm(pos[natoms:]) * self.exp_cell_factor\n"
     ]
    },
    {
     "name": "stdout",
     "output_type": "stream",
     "text": [
      "FIRE:  353 14:10:09    -3133.523821        0.111501\n"
     ]
    },
    {
     "name": "stderr",
     "output_type": "stream",
     "text": [
      "/home/mehuldarak/anaconda3/envs/mace/lib/python3.13/site-packages/ase/filters.py:606: RuntimeWarning: logm result may be inaccurate, approximate err = 3.488557362356418e-13\n",
      "  pos[natoms:] = self.logm(pos[natoms:]) * self.exp_cell_factor\n"
     ]
    },
    {
     "name": "stdout",
     "output_type": "stream",
     "text": [
      "FIRE:  354 14:10:10    -3133.525812        0.111409\n"
     ]
    },
    {
     "name": "stderr",
     "output_type": "stream",
     "text": [
      "/home/mehuldarak/anaconda3/envs/mace/lib/python3.13/site-packages/ase/filters.py:606: RuntimeWarning: logm result may be inaccurate, approximate err = 3.4610640627597993e-13\n",
      "  pos[natoms:] = self.logm(pos[natoms:]) * self.exp_cell_factor\n"
     ]
    },
    {
     "name": "stdout",
     "output_type": "stream",
     "text": [
      "FIRE:  355 14:10:12    -3133.528799        0.111305\n"
     ]
    },
    {
     "name": "stderr",
     "output_type": "stream",
     "text": [
      "/home/mehuldarak/anaconda3/envs/mace/lib/python3.13/site-packages/ase/filters.py:606: RuntimeWarning: logm result may be inaccurate, approximate err = 3.3776453203223196e-13\n",
      "  pos[natoms:] = self.logm(pos[natoms:]) * self.exp_cell_factor\n"
     ]
    },
    {
     "name": "stdout",
     "output_type": "stream",
     "text": [
      "FIRE:  356 14:10:13    -3133.530790        0.111185\n"
     ]
    },
    {
     "name": "stderr",
     "output_type": "stream",
     "text": [
      "/home/mehuldarak/anaconda3/envs/mace/lib/python3.13/site-packages/ase/filters.py:606: RuntimeWarning: logm result may be inaccurate, approximate err = 3.39364927328344e-13\n",
      "  pos[natoms:] = self.logm(pos[natoms:]) * self.exp_cell_factor\n"
     ]
    },
    {
     "name": "stdout",
     "output_type": "stream",
     "text": [
      "FIRE:  357 14:10:14    -3133.533777        0.111047\n"
     ]
    },
    {
     "name": "stderr",
     "output_type": "stream",
     "text": [
      "/home/mehuldarak/anaconda3/envs/mace/lib/python3.13/site-packages/ase/filters.py:606: RuntimeWarning: logm result may be inaccurate, approximate err = 3.4068150722354006e-13\n",
      "  pos[natoms:] = self.logm(pos[natoms:]) * self.exp_cell_factor\n"
     ]
    },
    {
     "name": "stdout",
     "output_type": "stream",
     "text": [
      "FIRE:  358 14:10:16    -3133.537262        0.110868\n"
     ]
    },
    {
     "name": "stderr",
     "output_type": "stream",
     "text": [
      "/home/mehuldarak/anaconda3/envs/mace/lib/python3.13/site-packages/ase/filters.py:606: RuntimeWarning: logm result may be inaccurate, approximate err = 3.3849394396083484e-13\n",
      "  pos[natoms:] = self.logm(pos[natoms:]) * self.exp_cell_factor\n"
     ]
    },
    {
     "name": "stdout",
     "output_type": "stream",
     "text": [
      "FIRE:  359 14:10:17    -3133.541742        0.110617\n"
     ]
    },
    {
     "name": "stderr",
     "output_type": "stream",
     "text": [
      "/home/mehuldarak/anaconda3/envs/mace/lib/python3.13/site-packages/ase/filters.py:606: RuntimeWarning: logm result may be inaccurate, approximate err = 3.4640590133454974e-13\n",
      "  pos[natoms:] = self.logm(pos[natoms:]) * self.exp_cell_factor\n"
     ]
    },
    {
     "name": "stdout",
     "output_type": "stream",
     "text": [
      "FIRE:  360 14:10:18    -3133.547467        0.110306\n"
     ]
    },
    {
     "name": "stderr",
     "output_type": "stream",
     "text": [
      "/home/mehuldarak/anaconda3/envs/mace/lib/python3.13/site-packages/ase/filters.py:606: RuntimeWarning: logm result may be inaccurate, approximate err = 3.420158644014045e-13\n",
      "  pos[natoms:] = self.logm(pos[natoms:]) * self.exp_cell_factor\n"
     ]
    },
    {
     "name": "stdout",
     "output_type": "stream",
     "text": [
      "FIRE:  361 14:10:20    -3133.554686        0.109976\n"
     ]
    },
    {
     "name": "stderr",
     "output_type": "stream",
     "text": [
      "/home/mehuldarak/anaconda3/envs/mace/lib/python3.13/site-packages/ase/filters.py:606: RuntimeWarning: logm result may be inaccurate, approximate err = 3.423627337624614e-13\n",
      "  pos[natoms:] = self.logm(pos[natoms:]) * self.exp_cell_factor\n"
     ]
    },
    {
     "name": "stdout",
     "output_type": "stream",
     "text": [
      "FIRE:  362 14:10:21    -3133.563397        0.109573\n"
     ]
    },
    {
     "name": "stderr",
     "output_type": "stream",
     "text": [
      "/home/mehuldarak/anaconda3/envs/mace/lib/python3.13/site-packages/ase/filters.py:606: RuntimeWarning: logm result may be inaccurate, approximate err = 3.433035047212739e-13\n",
      "  pos[natoms:] = self.logm(pos[natoms:]) * self.exp_cell_factor\n"
     ]
    },
    {
     "name": "stdout",
     "output_type": "stream",
     "text": [
      "FIRE:  363 14:10:22    -3133.573105        0.109061\n"
     ]
    },
    {
     "name": "stderr",
     "output_type": "stream",
     "text": [
      "/home/mehuldarak/anaconda3/envs/mace/lib/python3.13/site-packages/ase/filters.py:606: RuntimeWarning: logm result may be inaccurate, approximate err = 3.4340384112055543e-13\n",
      "  pos[natoms:] = self.logm(pos[natoms:]) * self.exp_cell_factor\n"
     ]
    },
    {
     "name": "stdout",
     "output_type": "stream",
     "text": [
      "FIRE:  364 14:10:24    -3133.583061        0.230625\n"
     ]
    },
    {
     "name": "stderr",
     "output_type": "stream",
     "text": [
      "/home/mehuldarak/anaconda3/envs/mace/lib/python3.13/site-packages/ase/filters.py:606: RuntimeWarning: logm result may be inaccurate, approximate err = 3.4375577553732113e-13\n",
      "  pos[natoms:] = self.logm(pos[natoms:]) * self.exp_cell_factor\n"
     ]
    },
    {
     "name": "stdout",
     "output_type": "stream",
     "text": [
      "FIRE:  365 14:10:25    -3133.591275        0.451481\n"
     ]
    },
    {
     "name": "stderr",
     "output_type": "stream",
     "text": [
      "/home/mehuldarak/anaconda3/envs/mace/lib/python3.13/site-packages/ase/filters.py:606: RuntimeWarning: logm result may be inaccurate, approximate err = 3.392971039563479e-13\n",
      "  pos[natoms:] = self.logm(pos[natoms:]) * self.exp_cell_factor\n"
     ]
    },
    {
     "name": "stdout",
     "output_type": "stream",
     "text": [
      "FIRE:  366 14:10:26    -3133.597000        0.142924\n"
     ]
    },
    {
     "name": "stderr",
     "output_type": "stream",
     "text": [
      "/home/mehuldarak/anaconda3/envs/mace/lib/python3.13/site-packages/ase/filters.py:606: RuntimeWarning: logm result may be inaccurate, approximate err = 3.5566929635393774e-13\n",
      "  pos[natoms:] = self.logm(pos[natoms:]) * self.exp_cell_factor\n"
     ]
    },
    {
     "name": "stdout",
     "output_type": "stream",
     "text": [
      "FIRE:  367 14:10:28    -3133.595258        0.336984\n"
     ]
    },
    {
     "name": "stderr",
     "output_type": "stream",
     "text": [
      "/home/mehuldarak/anaconda3/envs/mace/lib/python3.13/site-packages/ase/filters.py:606: RuntimeWarning: logm result may be inaccurate, approximate err = 3.4569130813060397e-13\n",
      "  pos[natoms:] = self.logm(pos[natoms:]) * self.exp_cell_factor\n"
     ]
    },
    {
     "name": "stdout",
     "output_type": "stream",
     "text": [
      "FIRE:  368 14:10:29    -3133.596502        0.294403\n"
     ]
    },
    {
     "name": "stderr",
     "output_type": "stream",
     "text": [
      "/home/mehuldarak/anaconda3/envs/mace/lib/python3.13/site-packages/ase/filters.py:606: RuntimeWarning: logm result may be inaccurate, approximate err = 3.4855014295252837e-13\n",
      "  pos[natoms:] = self.logm(pos[natoms:]) * self.exp_cell_factor\n"
     ]
    },
    {
     "name": "stdout",
     "output_type": "stream",
     "text": [
      "FIRE:  369 14:10:30    -3133.598245        0.203450\n"
     ]
    },
    {
     "name": "stderr",
     "output_type": "stream",
     "text": [
      "/home/mehuldarak/anaconda3/envs/mace/lib/python3.13/site-packages/ase/filters.py:606: RuntimeWarning: logm result may be inaccurate, approximate err = 3.464695340766421e-13\n",
      "  pos[natoms:] = self.logm(pos[natoms:]) * self.exp_cell_factor\n"
     ]
    },
    {
     "name": "stdout",
     "output_type": "stream",
     "text": [
      "FIRE:  370 14:10:32    -3133.598742        0.107785\n"
     ]
    },
    {
     "name": "stderr",
     "output_type": "stream",
     "text": [
      "/home/mehuldarak/anaconda3/envs/mace/lib/python3.13/site-packages/ase/filters.py:606: RuntimeWarning: logm result may be inaccurate, approximate err = 3.3583525414787224e-13\n",
      "  pos[natoms:] = self.logm(pos[natoms:]) * self.exp_cell_factor\n"
     ]
    },
    {
     "name": "stdout",
     "output_type": "stream",
     "text": [
      "FIRE:  371 14:10:33    -3133.598742        0.173021\n"
     ]
    },
    {
     "name": "stderr",
     "output_type": "stream",
     "text": [
      "/home/mehuldarak/anaconda3/envs/mace/lib/python3.13/site-packages/ase/filters.py:606: RuntimeWarning: logm result may be inaccurate, approximate err = 3.4542425372122717e-13\n",
      "  pos[natoms:] = self.logm(pos[natoms:]) * self.exp_cell_factor\n"
     ]
    },
    {
     "name": "stdout",
     "output_type": "stream",
     "text": [
      "FIRE:  372 14:10:34    -3133.598991        0.164587\n"
     ]
    },
    {
     "name": "stderr",
     "output_type": "stream",
     "text": [
      "/home/mehuldarak/anaconda3/envs/mace/lib/python3.13/site-packages/ase/filters.py:606: RuntimeWarning: logm result may be inaccurate, approximate err = 3.37976037956867e-13\n",
      "  pos[natoms:] = self.logm(pos[natoms:]) * self.exp_cell_factor\n"
     ]
    },
    {
     "name": "stdout",
     "output_type": "stream",
     "text": [
      "FIRE:  373 14:10:35    -3133.598991        0.147765\n"
     ]
    },
    {
     "name": "stderr",
     "output_type": "stream",
     "text": [
      "/home/mehuldarak/anaconda3/envs/mace/lib/python3.13/site-packages/ase/filters.py:606: RuntimeWarning: logm result may be inaccurate, approximate err = 3.437054622732197e-13\n",
      "  pos[natoms:] = self.logm(pos[natoms:]) * self.exp_cell_factor\n"
     ]
    },
    {
     "name": "stdout",
     "output_type": "stream",
     "text": [
      "FIRE:  374 14:10:37    -3133.599240        0.122221\n"
     ]
    },
    {
     "name": "stderr",
     "output_type": "stream",
     "text": [
      "/home/mehuldarak/anaconda3/envs/mace/lib/python3.13/site-packages/ase/filters.py:606: RuntimeWarning: logm result may be inaccurate, approximate err = 3.4242008638677657e-13\n",
      "  pos[natoms:] = self.logm(pos[natoms:]) * self.exp_cell_factor\n"
     ]
    },
    {
     "name": "stdout",
     "output_type": "stream",
     "text": [
      "FIRE:  375 14:10:38    -3133.599240        0.107740\n"
     ]
    },
    {
     "name": "stderr",
     "output_type": "stream",
     "text": [
      "/home/mehuldarak/anaconda3/envs/mace/lib/python3.13/site-packages/ase/filters.py:606: RuntimeWarning: logm result may be inaccurate, approximate err = 3.3943434465326394e-13\n",
      "  pos[natoms:] = self.logm(pos[natoms:]) * self.exp_cell_factor\n"
     ]
    },
    {
     "name": "stdout",
     "output_type": "stream",
     "text": [
      "FIRE:  376 14:10:39    -3133.599489        0.107738\n"
     ]
    },
    {
     "name": "stderr",
     "output_type": "stream",
     "text": [
      "/home/mehuldarak/anaconda3/envs/mace/lib/python3.13/site-packages/ase/filters.py:606: RuntimeWarning: logm result may be inaccurate, approximate err = 3.4561144614752813e-13\n",
      "  pos[natoms:] = self.logm(pos[natoms:]) * self.exp_cell_factor\n"
     ]
    },
    {
     "name": "stdout",
     "output_type": "stream",
     "text": [
      "FIRE:  377 14:10:41    -3133.599240        0.107739\n"
     ]
    },
    {
     "name": "stderr",
     "output_type": "stream",
     "text": [
      "/home/mehuldarak/anaconda3/envs/mace/lib/python3.13/site-packages/ase/filters.py:606: RuntimeWarning: logm result may be inaccurate, approximate err = 3.3686996739288786e-13\n",
      "  pos[natoms:] = self.logm(pos[natoms:]) * self.exp_cell_factor\n"
     ]
    },
    {
     "name": "stdout",
     "output_type": "stream",
     "text": [
      "FIRE:  378 14:10:42    -3133.599987        0.107741\n"
     ]
    },
    {
     "name": "stderr",
     "output_type": "stream",
     "text": [
      "/home/mehuldarak/anaconda3/envs/mace/lib/python3.13/site-packages/ase/filters.py:606: RuntimeWarning: logm result may be inaccurate, approximate err = 3.454164046834795e-13\n",
      "  pos[natoms:] = self.logm(pos[natoms:]) * self.exp_cell_factor\n"
     ]
    },
    {
     "name": "stdout",
     "output_type": "stream",
     "text": [
      "FIRE:  379 14:10:44    -3133.599987        0.107742\n"
     ]
    },
    {
     "name": "stderr",
     "output_type": "stream",
     "text": [
      "/home/mehuldarak/anaconda3/envs/mace/lib/python3.13/site-packages/ase/filters.py:606: RuntimeWarning: logm result may be inaccurate, approximate err = 3.49748822536442e-13\n",
      "  pos[natoms:] = self.logm(pos[natoms:]) * self.exp_cell_factor\n"
     ]
    },
    {
     "name": "stdout",
     "output_type": "stream",
     "text": [
      "FIRE:  380 14:10:45    -3133.600236        0.107735\n"
     ]
    },
    {
     "name": "stderr",
     "output_type": "stream",
     "text": [
      "/home/mehuldarak/anaconda3/envs/mace/lib/python3.13/site-packages/ase/filters.py:606: RuntimeWarning: logm result may be inaccurate, approximate err = 3.3995068145784005e-13\n",
      "  pos[natoms:] = self.logm(pos[natoms:]) * self.exp_cell_factor\n"
     ]
    },
    {
     "name": "stdout",
     "output_type": "stream",
     "text": [
      "FIRE:  381 14:10:46    -3133.600485        0.107722\n"
     ]
    },
    {
     "name": "stderr",
     "output_type": "stream",
     "text": [
      "/home/mehuldarak/anaconda3/envs/mace/lib/python3.13/site-packages/ase/filters.py:606: RuntimeWarning: logm result may be inaccurate, approximate err = 3.4007787747514925e-13\n",
      "  pos[natoms:] = self.logm(pos[natoms:]) * self.exp_cell_factor\n"
     ]
    },
    {
     "name": "stdout",
     "output_type": "stream",
     "text": [
      "FIRE:  382 14:10:48    -3133.600983        0.107697\n"
     ]
    },
    {
     "name": "stderr",
     "output_type": "stream",
     "text": [
      "/home/mehuldarak/anaconda3/envs/mace/lib/python3.13/site-packages/ase/filters.py:606: RuntimeWarning: logm result may be inaccurate, approximate err = 3.4727525164773277e-13\n",
      "  pos[natoms:] = self.logm(pos[natoms:]) * self.exp_cell_factor\n"
     ]
    },
    {
     "name": "stdout",
     "output_type": "stream",
     "text": [
      "FIRE:  383 14:10:49    -3133.601978        0.107660\n"
     ]
    },
    {
     "name": "stderr",
     "output_type": "stream",
     "text": [
      "/home/mehuldarak/anaconda3/envs/mace/lib/python3.13/site-packages/ase/filters.py:606: RuntimeWarning: logm result may be inaccurate, approximate err = 3.4049312486468835e-13\n",
      "  pos[natoms:] = self.logm(pos[natoms:]) * self.exp_cell_factor\n"
     ]
    },
    {
     "name": "stdout",
     "output_type": "stream",
     "text": [
      "FIRE:  384 14:10:50    -3133.602476        0.107616\n"
     ]
    },
    {
     "name": "stderr",
     "output_type": "stream",
     "text": [
      "/home/mehuldarak/anaconda3/envs/mace/lib/python3.13/site-packages/ase/filters.py:606: RuntimeWarning: logm result may be inaccurate, approximate err = 3.471212502117244e-13\n",
      "  pos[natoms:] = self.logm(pos[natoms:]) * self.exp_cell_factor\n"
     ]
    },
    {
     "name": "stdout",
     "output_type": "stream",
     "text": [
      "FIRE:  385 14:10:52    -3133.602974        0.107571\n"
     ]
    },
    {
     "name": "stderr",
     "output_type": "stream",
     "text": [
      "/home/mehuldarak/anaconda3/envs/mace/lib/python3.13/site-packages/ase/filters.py:606: RuntimeWarning: logm result may be inaccurate, approximate err = 3.446906327470748e-13\n",
      "  pos[natoms:] = self.logm(pos[natoms:]) * self.exp_cell_factor\n"
     ]
    },
    {
     "name": "stdout",
     "output_type": "stream",
     "text": [
      "FIRE:  386 14:10:53    -3133.603970        0.107524\n"
     ]
    },
    {
     "name": "stderr",
     "output_type": "stream",
     "text": [
      "/home/mehuldarak/anaconda3/envs/mace/lib/python3.13/site-packages/ase/filters.py:606: RuntimeWarning: logm result may be inaccurate, approximate err = 3.4501793354093486e-13\n",
      "  pos[natoms:] = self.logm(pos[natoms:]) * self.exp_cell_factor\n"
     ]
    },
    {
     "name": "stdout",
     "output_type": "stream",
     "text": [
      "FIRE:  387 14:10:54    -3133.604965        0.107472\n"
     ]
    },
    {
     "name": "stderr",
     "output_type": "stream",
     "text": [
      "/home/mehuldarak/anaconda3/envs/mace/lib/python3.13/site-packages/ase/filters.py:606: RuntimeWarning: logm result may be inaccurate, approximate err = 3.456026765062278e-13\n",
      "  pos[natoms:] = self.logm(pos[natoms:]) * self.exp_cell_factor\n"
     ]
    },
    {
     "name": "stdout",
     "output_type": "stream",
     "text": [
      "FIRE:  388 14:10:56    -3133.606459        0.107417\n"
     ]
    },
    {
     "name": "stderr",
     "output_type": "stream",
     "text": [
      "/home/mehuldarak/anaconda3/envs/mace/lib/python3.13/site-packages/ase/filters.py:606: RuntimeWarning: logm result may be inaccurate, approximate err = 3.489440573702383e-13\n",
      "  pos[natoms:] = self.logm(pos[natoms:]) * self.exp_cell_factor\n"
     ]
    },
    {
     "name": "stdout",
     "output_type": "stream",
     "text": [
      "FIRE:  389 14:10:57    -3133.608450        0.107341\n"
     ]
    },
    {
     "name": "stderr",
     "output_type": "stream",
     "text": [
      "/home/mehuldarak/anaconda3/envs/mace/lib/python3.13/site-packages/ase/filters.py:606: RuntimeWarning: logm result may be inaccurate, approximate err = 3.4269437003697204e-13\n",
      "  pos[natoms:] = self.logm(pos[natoms:]) * self.exp_cell_factor\n"
     ]
    },
    {
     "name": "stdout",
     "output_type": "stream",
     "text": [
      "FIRE:  390 14:10:58    -3133.610441        0.107230\n"
     ]
    },
    {
     "name": "stderr",
     "output_type": "stream",
     "text": [
      "/home/mehuldarak/anaconda3/envs/mace/lib/python3.13/site-packages/ase/filters.py:606: RuntimeWarning: logm result may be inaccurate, approximate err = 3.43665337236301e-13\n",
      "  pos[natoms:] = self.logm(pos[natoms:]) * self.exp_cell_factor\n"
     ]
    },
    {
     "name": "stdout",
     "output_type": "stream",
     "text": [
      "FIRE:  391 14:11:00    -3133.612930        0.107086\n"
     ]
    },
    {
     "name": "stderr",
     "output_type": "stream",
     "text": [
      "/home/mehuldarak/anaconda3/envs/mace/lib/python3.13/site-packages/ase/filters.py:606: RuntimeWarning: logm result may be inaccurate, approximate err = 3.429499553538809e-13\n",
      "  pos[natoms:] = self.logm(pos[natoms:]) * self.exp_cell_factor\n"
     ]
    },
    {
     "name": "stdout",
     "output_type": "stream",
     "text": [
      "FIRE:  392 14:11:01    -3133.615917        0.106927\n"
     ]
    },
    {
     "name": "stderr",
     "output_type": "stream",
     "text": [
      "/home/mehuldarak/anaconda3/envs/mace/lib/python3.13/site-packages/ase/filters.py:606: RuntimeWarning: logm result may be inaccurate, approximate err = 3.486463793920865e-13\n",
      "  pos[natoms:] = self.logm(pos[natoms:]) * self.exp_cell_factor\n"
     ]
    },
    {
     "name": "stdout",
     "output_type": "stream",
     "text": [
      "FIRE:  393 14:11:02    -3133.620398        0.106762\n"
     ]
    },
    {
     "name": "stderr",
     "output_type": "stream",
     "text": [
      "/home/mehuldarak/anaconda3/envs/mace/lib/python3.13/site-packages/ase/filters.py:606: RuntimeWarning: logm result may be inaccurate, approximate err = 3.509249984313298e-13\n",
      "  pos[natoms:] = self.logm(pos[natoms:]) * self.exp_cell_factor\n"
     ]
    },
    {
     "name": "stdout",
     "output_type": "stream",
     "text": [
      "FIRE:  394 14:11:03    -3133.625127        0.106503\n"
     ]
    },
    {
     "name": "stderr",
     "output_type": "stream",
     "text": [
      "/home/mehuldarak/anaconda3/envs/mace/lib/python3.13/site-packages/ase/filters.py:606: RuntimeWarning: logm result may be inaccurate, approximate err = 3.4239311068269954e-13\n",
      "  pos[natoms:] = self.logm(pos[natoms:]) * self.exp_cell_factor\n"
     ]
    },
    {
     "name": "stdout",
     "output_type": "stream",
     "text": [
      "FIRE:  395 14:11:05    -3133.631350        0.106147\n"
     ]
    },
    {
     "name": "stderr",
     "output_type": "stream",
     "text": [
      "/home/mehuldarak/anaconda3/envs/mace/lib/python3.13/site-packages/ase/filters.py:606: RuntimeWarning: logm result may be inaccurate, approximate err = 3.4735340705687256e-13\n",
      "  pos[natoms:] = self.logm(pos[natoms:]) * self.exp_cell_factor\n"
     ]
    },
    {
     "name": "stdout",
     "output_type": "stream",
     "text": [
      "FIRE:  396 14:11:06    -3133.639564        0.124966\n"
     ]
    },
    {
     "name": "stderr",
     "output_type": "stream",
     "text": [
      "/home/mehuldarak/anaconda3/envs/mace/lib/python3.13/site-packages/ase/filters.py:606: RuntimeWarning: logm result may be inaccurate, approximate err = 3.4501281052010187e-13\n",
      "  pos[natoms:] = self.logm(pos[natoms:]) * self.exp_cell_factor\n"
     ]
    },
    {
     "name": "stdout",
     "output_type": "stream",
     "text": [
      "FIRE:  397 14:11:07    -3133.651760        0.157496\n"
     ]
    },
    {
     "name": "stderr",
     "output_type": "stream",
     "text": [
      "/home/mehuldarak/anaconda3/envs/mace/lib/python3.13/site-packages/ase/filters.py:606: RuntimeWarning: logm result may be inaccurate, approximate err = 3.397009193482699e-13\n",
      "  pos[natoms:] = self.logm(pos[natoms:]) * self.exp_cell_factor\n"
     ]
    },
    {
     "name": "stdout",
     "output_type": "stream",
     "text": [
      "FIRE:  398 14:11:09    -3133.664703        0.125316\n"
     ]
    },
    {
     "name": "stderr",
     "output_type": "stream",
     "text": [
      "/home/mehuldarak/anaconda3/envs/mace/lib/python3.13/site-packages/ase/filters.py:606: RuntimeWarning: logm result may be inaccurate, approximate err = 3.4624104874745756e-13\n",
      "  pos[natoms:] = self.logm(pos[natoms:]) * self.exp_cell_factor\n"
     ]
    },
    {
     "name": "stdout",
     "output_type": "stream",
     "text": [
      "FIRE:  399 14:11:10    -3133.675158        0.305838\n"
     ]
    },
    {
     "name": "stderr",
     "output_type": "stream",
     "text": [
      "/home/mehuldarak/anaconda3/envs/mace/lib/python3.13/site-packages/ase/filters.py:606: RuntimeWarning: logm result may be inaccurate, approximate err = 3.423169804215582e-13\n",
      "  pos[natoms:] = self.logm(pos[natoms:]) * self.exp_cell_factor\n"
     ]
    },
    {
     "name": "stdout",
     "output_type": "stream",
     "text": [
      "FIRE:  400 14:11:11    -3133.682127        0.463514\n"
     ]
    }
   ],
   "source": [
    "# Convert back, assign calculator + constraint\n",
    "structure_1 = AseAtomsAdaptor.get_atoms(result[\"final_structure\"])\n",
    "structure_1.set_calculator(calc)\n",
    "structure_1.set_constraint(FixAtoms(mask=freeze_mask))\n",
    "\n",
    "# Stage 2: FIRE\n",
    "opt2 = StructOptimizer(model=calc, optimizer_class=\"FIRE\", use_device=\"cuda\")\n",
    "result2 = opt2.relax(structure_1, fmax=0.05, steps=400, relax_cell=True, verbose=True)"
   ]
  },
  {
   "cell_type": "code",
   "execution_count": null,
   "id": "906396e6",
   "metadata": {},
   "outputs": [
    {
     "name": "stdout",
     "output_type": "stream",
     "text": [
      "✅ Relaxed structure saved to: /home/mehuldarak/summer/relax_final/cellrelaxed_LLZO_001_Zr_code93_sto__Li_111_slab_heavy.cif\n"
     ]
    },
    {
     "name": "stderr",
     "output_type": "stream",
     "text": [
      "/home/mehuldarak/anaconda3/envs/mace/lib/python3.13/site-packages/pymatgen/io/cif.py:1724: FutureWarning: We strongly discourage using implicit binary/text `mode`, and this would not be allowed after 2025-06-01. I.e. you should pass t/b in `mode`.\n",
      "  with zopen(filename, mode=mode) as file:\n"
     ]
    },
    {
     "ename": "",
     "evalue": "",
     "output_type": "error",
     "traceback": [
      "\u001b[1;31mThe Kernel crashed while executing code in the current cell or a previous cell. \n",
      "\u001b[1;31mPlease review the code in the cell(s) to identify a possible cause of the failure. \n",
      "\u001b[1;31mClick <a href='https://aka.ms/vscodeJupyterKernelCrash'>here</a> for more info. \n",
      "\u001b[1;31mView Jupyter <a href='command:jupyter.viewOutput'>log</a> for further details."
     ]
    }
   ],
   "source": [
    "# Save relaxed structure\n",
    "relaxed_structure = result[\"final_structure\"]\n",
    "relaxed_structure.to(filename=output_path)\n",
    "\n",
    "print(f\"✅ Relaxed structure saved to: {output_path}\")"
   ]
  }
 ],
 "metadata": {
  "kernelspec": {
   "display_name": "mace",
   "language": "python",
   "name": "python3"
  },
  "language_info": {
   "codemirror_mode": {
    "name": "ipython",
    "version": 3
   },
   "file_extension": ".py",
   "mimetype": "text/x-python",
   "name": "python",
   "nbconvert_exporter": "python",
   "pygments_lexer": "ipython3",
   "version": "3.13.5"
  }
 },
 "nbformat": 4,
 "nbformat_minor": 5
}
