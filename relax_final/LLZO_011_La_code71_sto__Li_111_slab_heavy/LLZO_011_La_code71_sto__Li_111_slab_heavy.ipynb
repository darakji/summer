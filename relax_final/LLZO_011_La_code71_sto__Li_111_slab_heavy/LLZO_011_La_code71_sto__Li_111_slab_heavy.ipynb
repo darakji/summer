{
 "cells": [
  {
   "cell_type": "markdown",
   "id": "d7833af9",
   "metadata": {},
   "source": [
    "This notebook follows from the tutorials of CHGNet to relax LLZO-Li slabs that have been made in `llzo_li_balanced_sliced` directory."
   ]
  },
  {
   "cell_type": "markdown",
   "id": "3d234e1d",
   "metadata": {},
   "source": [
    "\n",
    "LLZO‖Li Interface Relaxation Notebook\n",
    "========================================\n",
    "\n",
    "Each notebook handles only one structure.\n",
    "1. Purpose: (This keeps updating)\n",
    "- Relax a single LLZO‖Li (in this notebook LLZO_001_Zr_code93_sto__Li_110_slab_heavy) heterostructure using CHGNet\n",
    "- Perform multi-stage optimization (in this notebook, CG → FIRE)\n",
    "- Freeze bulk-like regions (15 Å at both ends)\n",
    "- after all this, Relax lattice vectors to relieve interface strain\n",
    "\n",
    "2. This notebook handles:\n",
    "- Structure: LLZO_110_Li_order17_off__Li_100_slab_heavy\n",
    "- Initial lattice height: 86.02 Å\n",
    "- Number of atoms: 738\n",
    "\n",
    "3. Method:\n",
    "- CHGNet (v0.4.0) + ASE interface\n",
    "- Stage 1: SciPyFminCG (no cell relaxation) → fmax target ~0.15 eV/Å\n",
    "- Stage 2: FIRE (with optional cell relaxation) → fmax target ~0.05 eV/Å\n",
    "- FrechetCellFilter used for combined force + stress minimization\n",
    "\n",
    "4. Constraints:\n",
    "- LLZO base: frozen bottom 14.25 Å\n",
    "- Li top: frozen top 14.25 Å\n",
    "- Only interfacial region relaxed\n",
    "- Cell relaxation via `relax_cell=True` and `relax_cell_atoms=\"unconstrained\"`\n",
    "\n",
    "5. Outputs: (This will be decided later)\n",
    "- relaxed_[structure_name].cif\n",
    "- relaxed_[structure_name].traj\n",
    "- (Optional) relaxation_log.pkl with energies, forces\n",
    "\n",
    "6. Visual checks:\n",
    "- Compare pre- and post-relaxation structures\n",
    "- Ensure no Li diffusion into LLZO (via z-analysis)\n",
    "- Confirm convergence (fmax < 0.05 eV/Å)\n",
    "\n",
    "Author: Mehul Darak\n",
    "\n",
    "Date: 15-07-2025\n"
   ]
  },
  {
   "cell_type": "code",
   "execution_count": 1,
   "id": "bcf59eaf",
   "metadata": {},
   "outputs": [],
   "source": [
    "structure_name = \"LLZO_011_La_code71_sto__Li_111_slab_heavy\""
   ]
  },
  {
   "cell_type": "code",
   "execution_count": 2,
   "id": "955e570d",
   "metadata": {},
   "outputs": [
    {
     "name": "stdout",
     "output_type": "stream",
     "text": [
      "- Structure: LLZO_011_La_code71_sto__Li_111_slab_heavy\n",
      "- Initial lattice height: 87.47 Å\n",
      "- Number of atoms: 1260\n"
     ]
    }
   ],
   "source": [
    "from pymatgen.core import Structure\n",
    "import os\n",
    "\n",
    "# Load structure\n",
    "structure_path = (f\"/home/mehuldarak/summer/llzo_li_balanced_sliced/{structure_name}.cif\")  # replace with your file\n",
    "structure = Structure.from_file(structure_path)\n",
    "\n",
    "# Extract info\n",
    "structure_name = os.path.basename(structure_path).replace(\".cif\", \"\")\n",
    "lattice_height = structure.lattice.c\n",
    "num_atoms = len(structure)\n",
    "\n",
    "# Print output\n",
    "print(f\"- Structure: {structure_name}\")\n",
    "print(f\"- Initial lattice height: {lattice_height:.2f} Å\")\n",
    "print(f\"- Number of atoms: {num_atoms}\")\n"
   ]
  },
  {
   "cell_type": "code",
   "execution_count": 3,
   "id": "1846f174",
   "metadata": {},
   "outputs": [
    {
     "name": "stdout",
     "output_type": "stream",
     "text": [
      "Li slab thickness: 26.34 Å\n",
      "Lowest Li slab atom: 46.13 Å\n",
      "LLZO top z: 42.13 Å\n",
      "Li penetration into LLZO: -4.00 Å\n"
     ]
    }
   ],
   "source": [
    "from pymatgen.core import Structure\n",
    "import numpy as np\n",
    "\n",
    "s = Structure.from_file(f\"/home/mehuldarak/summer/llzo_li_balanced_sliced/{structure_name}.cif\")\n",
    "\n",
    "# Get all atoms\n",
    "z_coords = np.array([site.z for site in s.sites])\n",
    "species = np.array([site.species_string for site in s.sites])\n",
    "\n",
    "# Estimate LLZO top (non-Li atoms)\n",
    "llzo_z = z_coords[species != \"Li\"]\n",
    "llzo_top = llzo_z.max()\n",
    "\n",
    "# Now isolate Li slab: Li atoms ABOVE LLZO\n",
    "li_slab_z = np.array([site.z for site in s.sites if site.species_string == \"Li\" and site.z > llzo_top])\n",
    "\n",
    "print(f\"Li slab thickness: {li_slab_z.ptp():.2f} Å\")\n",
    "print(f\"Lowest Li slab atom: {li_slab_z.min():.2f} Å\")\n",
    "print(f\"LLZO top z: {llzo_top:.2f} Å\")\n",
    "print(f\"Li penetration into LLZO: {llzo_top - li_slab_z.min():.2f} Å\")\n"
   ]
  },
  {
   "cell_type": "code",
   "execution_count": 4,
   "id": "ad50b778",
   "metadata": {},
   "outputs": [
    {
     "name": "stdout",
     "output_type": "stream",
     "text": [
      "LLZO slab thickness: 27.13 Å\n",
      "Li slab thickness:   26.34 Å\n",
      "LLZO top z:          42.13 Å\n",
      "Lowest Li atom z:    46.13 Å\n",
      "Li penetration into LLZO: -4.00 Å\n"
     ]
    }
   ],
   "source": [
    "from pymatgen.core import Structure\n",
    "import numpy as np\n",
    "\n",
    "# Load structure\n",
    "structure = Structure.from_file(f\"/home/mehuldarak/summer/llzo_li_balanced_sliced/{structure_name}.cif\")\n",
    "\n",
    "# Get z-coordinates and element types\n",
    "z_coords = np.array([site.z for site in structure.sites])\n",
    "species = np.array([site.species_string for site in structure.sites])\n",
    "\n",
    "# LLZO: non-Li atoms (La, Zr, O)\n",
    "llzo_z = z_coords[species != \"Li\"]\n",
    "llzo_top = llzo_z.max()\n",
    "llzo_bottom = llzo_z.min()\n",
    "llzo_thickness = llzo_top - llzo_bottom\n",
    "\n",
    "# Li slab: Li atoms ABOVE LLZO (i.e. in metallic Li layer)\n",
    "li_slab_z = np.array([\n",
    "    site.z for site in structure.sites\n",
    "    if site.species_string == \"Li\" and site.z > llzo_top\n",
    "])\n",
    "li_thickness = li_slab_z.ptp() if len(li_slab_z) > 0 else 0\n",
    "li_bottom = li_slab_z.min() if len(li_slab_z) > 0 else None\n",
    "\n",
    "# Penetration check\n",
    "penetration = llzo_top - li_bottom if li_bottom is not None else 0\n",
    "\n",
    "# Report\n",
    "print(f\"LLZO slab thickness: {llzo_thickness:.2f} Å\")\n",
    "print(f\"Li slab thickness:   {li_thickness:.2f} Å\")\n",
    "print(f\"LLZO top z:          {llzo_top:.2f} Å\")\n",
    "print(f\"Lowest Li atom z:    {li_bottom:.2f} Å\" if li_bottom else \"No Li slab atoms found\")\n",
    "print(f\"Li penetration into LLZO: {penetration:.2f} Å\")\n"
   ]
  },
  {
   "cell_type": "code",
   "execution_count": 5,
   "id": "9df87ad4",
   "metadata": {},
   "outputs": [
    {
     "name": "stdout",
     "output_type": "stream",
     "text": [
      "Freezing 970 atoms out of 1260\n",
      "CHGNet v0.3.0 initialized with 412,525 parameters\n",
      "CHGNet will run on cuda\n"
     ]
    },
    {
     "name": "stderr",
     "output_type": "stream",
     "text": [
      "/tmp/ipykernel_179411/3870098642.py:27: FutureWarning: Please use atoms.calc = calc\n",
      "  structure.set_calculator(calc)\n"
     ]
    }
   ],
   "source": [
    "from pymatgen.io.ase import AseAtomsAdaptor\n",
    "from ase.constraints import FixAtoms\n",
    "from chgnet.model.dynamics import CHGNetCalculator, StructOptimizer\n",
    "from ase.io import read, write\n",
    "import numpy as np\n",
    "\n",
    "# --- Load structure ---\n",
    "structure = read(f\"/home/mehuldarak/summer/llzo_li_balanced_sliced/{structure_name}.cif\")\n",
    "\n",
    "# --- Get z coordinates ---\n",
    "z_coords = structure.get_positions()[:, 2]\n",
    "z_min, z_max = z_coords.min(), z_coords.max()\n",
    "\n",
    "# --- Define freeze zones ---\n",
    "freeze_thickness_llzo = 0.75 * (llzo_thickness)  # in Å\n",
    "freeze_thickness_li = 0.75 * (llzo_thickness)  # in Å\n",
    "llzo_z_threshold = z_min + freeze_thickness_llzo\n",
    "li_z_threshold = z_max - freeze_thickness_li\n",
    "\n",
    "# --- Freeze LLZO base and Li top ---\n",
    "freeze_mask = (z_coords < llzo_z_threshold) | (z_coords > li_z_threshold)\n",
    "structure.set_constraint(FixAtoms(mask=freeze_mask))\n",
    "print(f\"Freezing {np.sum(freeze_mask)} atoms out of {len(structure)}\")\n",
    "\n",
    "# --- Attach CHGNet calculator ---\n",
    "calc = CHGNetCalculator(use_device=\"cuda\")\n",
    "structure.set_calculator(calc)"
   ]
  },
  {
   "cell_type": "code",
   "execution_count": null,
   "id": "7579efc8",
   "metadata": {},
   "outputs": [
    {
     "ename": "OutOfMemoryError",
     "evalue": "CUDA out of memory. Tried to allocate 248.00 MiB. GPU 0 has a total capacity of 47.53 GiB of which 6.62 MiB is free. Including non-PyTorch memory, this process has 47.44 GiB memory in use. Of the allocated memory 45.59 GiB is allocated by PyTorch, and 1.54 GiB is reserved by PyTorch but unallocated. If reserved but unallocated memory is large try setting PYTORCH_CUDA_ALLOC_CONF=expandable_segments:True to avoid fragmentation.  See documentation for Memory Management  (https://pytorch.org/docs/stable/notes/cuda.html#environment-variables)",
     "output_type": "error",
     "traceback": [
      "\u001b[31m---------------------------------------------------------------------------\u001b[39m",
      "\u001b[31mOutOfMemoryError\u001b[39m                          Traceback (most recent call last)",
      "\u001b[36mCell\u001b[39m\u001b[36m \u001b[39m\u001b[32mIn[6]\u001b[39m\u001b[32m, line 3\u001b[39m\n\u001b[32m      1\u001b[39m \u001b[38;5;66;03m# Stage 1: CG\u001b[39;00m\n\u001b[32m      2\u001b[39m opt1 = StructOptimizer(model=calc, optimizer_class=\u001b[33m\"\u001b[39m\u001b[33mSciPyFminCG\u001b[39m\u001b[33m\"\u001b[39m, use_device=\u001b[33m\"\u001b[39m\u001b[33mcuda\u001b[39m\u001b[33m\"\u001b[39m)\n\u001b[32m----> \u001b[39m\u001b[32m3\u001b[39m result1 = opt1.relax(structure, fmax=\u001b[32m0.15\u001b[39m, steps=\u001b[32m300\u001b[39m, relax_cell=\u001b[38;5;28;01mFalse\u001b[39;00m, verbose=\u001b[38;5;28;01mTrue\u001b[39;00m)\n",
      "\u001b[36mFile \u001b[39m\u001b[32m~/anaconda3/envs/mace/lib/python3.13/site-packages/chgnet/model/dynamics.py:327\u001b[39m, in \u001b[36mStructOptimizer.relax\u001b[39m\u001b[34m(self, atoms, fmax, steps, relax_cell, ase_filter, save_path, loginterval, crystal_feas_save_path, verbose, assign_magmoms, **kwargs)\u001b[39m\n\u001b[32m    324\u001b[39m     \u001b[38;5;28;01mif\u001b[39;00m crystal_feas_save_path:\n\u001b[32m    325\u001b[39m         optimizer.attach(cry_obs, interval=loginterval)\n\u001b[32m--> \u001b[39m\u001b[32m327\u001b[39m     optimizer.run(fmax=fmax, steps=steps)\n\u001b[32m    328\u001b[39m     obs()\n\u001b[32m    330\u001b[39m \u001b[38;5;28;01mif\u001b[39;00m save_path \u001b[38;5;129;01mis\u001b[39;00m \u001b[38;5;129;01mnot\u001b[39;00m \u001b[38;5;28;01mNone\u001b[39;00m:\n",
      "\u001b[36mFile \u001b[39m\u001b[32m~/anaconda3/envs/mace/lib/python3.13/site-packages/ase/optimize/sciopt.py:121\u001b[39m, in \u001b[36mSciPyOptimizer.run\u001b[39m\u001b[34m(self, fmax, steps)\u001b[39m\n\u001b[32m    118\u001b[39m \u001b[38;5;28;01mtry\u001b[39;00m:\n\u001b[32m    119\u001b[39m     \u001b[38;5;66;03m# As SciPy does not log the zeroth iteration, we do that manually\u001b[39;00m\n\u001b[32m    120\u001b[39m     \u001b[38;5;28;01mif\u001b[39;00m \u001b[38;5;28mself\u001b[39m.nsteps == \u001b[32m0\u001b[39m:\n\u001b[32m--> \u001b[39m\u001b[32m121\u001b[39m         \u001b[38;5;28mself\u001b[39m.log()\n\u001b[32m    122\u001b[39m         \u001b[38;5;28mself\u001b[39m.call_observers()\n\u001b[32m    124\u001b[39m     \u001b[38;5;28mself\u001b[39m.max_steps = steps + \u001b[38;5;28mself\u001b[39m.nsteps\n",
      "\u001b[36mFile \u001b[39m\u001b[32m~/anaconda3/envs/mace/lib/python3.13/site-packages/ase/optimize/optimize.py:427\u001b[39m, in \u001b[36mOptimizer.log\u001b[39m\u001b[34m(self, forces)\u001b[39m\n\u001b[32m    425\u001b[39m \u001b[38;5;28;01mdef\u001b[39;00m\u001b[38;5;250m \u001b[39m\u001b[34mlog\u001b[39m(\u001b[38;5;28mself\u001b[39m, forces=\u001b[38;5;28;01mNone\u001b[39;00m):\n\u001b[32m    426\u001b[39m     \u001b[38;5;28;01mif\u001b[39;00m forces \u001b[38;5;129;01mis\u001b[39;00m \u001b[38;5;28;01mNone\u001b[39;00m:\n\u001b[32m--> \u001b[39m\u001b[32m427\u001b[39m         forces = \u001b[38;5;28mself\u001b[39m.optimizable.get_forces()\n\u001b[32m    428\u001b[39m     fmax = sqrt((forces ** \u001b[32m2\u001b[39m).sum(axis=\u001b[32m1\u001b[39m).max())\n\u001b[32m    429\u001b[39m     e = \u001b[38;5;28mself\u001b[39m.optimizable.get_potential_energy()\n",
      "\u001b[36mFile \u001b[39m\u001b[32m~/anaconda3/envs/mace/lib/python3.13/site-packages/ase/optimize/optimize.py:37\u001b[39m, in \u001b[36mOptimizableAtoms.get_forces\u001b[39m\u001b[34m(self)\u001b[39m\n\u001b[32m     36\u001b[39m \u001b[38;5;28;01mdef\u001b[39;00m\u001b[38;5;250m \u001b[39m\u001b[34mget_forces\u001b[39m(\u001b[38;5;28mself\u001b[39m):\n\u001b[32m---> \u001b[39m\u001b[32m37\u001b[39m     \u001b[38;5;28;01mreturn\u001b[39;00m \u001b[38;5;28mself\u001b[39m.atoms.get_forces()\n",
      "\u001b[36mFile \u001b[39m\u001b[32m~/anaconda3/envs/mace/lib/python3.13/site-packages/ase/atoms.py:829\u001b[39m, in \u001b[36mAtoms.get_forces\u001b[39m\u001b[34m(self, apply_constraint, md)\u001b[39m\n\u001b[32m    827\u001b[39m \u001b[38;5;28;01mif\u001b[39;00m \u001b[38;5;28mself\u001b[39m._calc \u001b[38;5;129;01mis\u001b[39;00m \u001b[38;5;28;01mNone\u001b[39;00m:\n\u001b[32m    828\u001b[39m     \u001b[38;5;28;01mraise\u001b[39;00m \u001b[38;5;167;01mRuntimeError\u001b[39;00m(\u001b[33m'\u001b[39m\u001b[33mAtoms object has no calculator.\u001b[39m\u001b[33m'\u001b[39m)\n\u001b[32m--> \u001b[39m\u001b[32m829\u001b[39m forces = \u001b[38;5;28mself\u001b[39m._calc.get_forces(\u001b[38;5;28mself\u001b[39m)\n\u001b[32m    831\u001b[39m \u001b[38;5;28;01mif\u001b[39;00m apply_constraint:\n\u001b[32m    832\u001b[39m     \u001b[38;5;66;03m# We need a special md flag here because for MD we want\u001b[39;00m\n\u001b[32m    833\u001b[39m     \u001b[38;5;66;03m# to skip real constraints but include special \"constraints\"\u001b[39;00m\n\u001b[32m    834\u001b[39m     \u001b[38;5;66;03m# Like Hookean.\u001b[39;00m\n\u001b[32m    835\u001b[39m     \u001b[38;5;28;01mfor\u001b[39;00m constraint \u001b[38;5;129;01min\u001b[39;00m \u001b[38;5;28mself\u001b[39m.constraints:\n",
      "\u001b[36mFile \u001b[39m\u001b[32m~/anaconda3/envs/mace/lib/python3.13/site-packages/ase/calculators/abc.py:32\u001b[39m, in \u001b[36mGetPropertiesMixin.get_forces\u001b[39m\u001b[34m(self, atoms)\u001b[39m\n\u001b[32m     31\u001b[39m \u001b[38;5;28;01mdef\u001b[39;00m\u001b[38;5;250m \u001b[39m\u001b[34mget_forces\u001b[39m(\u001b[38;5;28mself\u001b[39m, atoms=\u001b[38;5;28;01mNone\u001b[39;00m):\n\u001b[32m---> \u001b[39m\u001b[32m32\u001b[39m     \u001b[38;5;28;01mreturn\u001b[39;00m \u001b[38;5;28mself\u001b[39m.get_property(\u001b[33m'\u001b[39m\u001b[33mforces\u001b[39m\u001b[33m'\u001b[39m, atoms)\n",
      "\u001b[36mFile \u001b[39m\u001b[32m~/anaconda3/envs/mace/lib/python3.13/site-packages/ase/calculators/calculator.py:515\u001b[39m, in \u001b[36mBaseCalculator.get_property\u001b[39m\u001b[34m(self, name, atoms, allow_calculation)\u001b[39m\n\u001b[32m    512\u001b[39m     \u001b[38;5;28;01mif\u001b[39;00m \u001b[38;5;28mself\u001b[39m.use_cache:\n\u001b[32m    513\u001b[39m         \u001b[38;5;28mself\u001b[39m.atoms = atoms.copy()\n\u001b[32m--> \u001b[39m\u001b[32m515\u001b[39m     \u001b[38;5;28mself\u001b[39m.calculate(atoms, [name], system_changes)\n\u001b[32m    517\u001b[39m \u001b[38;5;28;01mif\u001b[39;00m name \u001b[38;5;129;01mnot\u001b[39;00m \u001b[38;5;129;01min\u001b[39;00m \u001b[38;5;28mself\u001b[39m.results:\n\u001b[32m    518\u001b[39m     \u001b[38;5;66;03m# For some reason the calculator was not able to do what we want,\u001b[39;00m\n\u001b[32m    519\u001b[39m     \u001b[38;5;66;03m# and that is OK.\u001b[39;00m\n\u001b[32m    520\u001b[39m     \u001b[38;5;28;01mraise\u001b[39;00m PropertyNotImplementedError(\n\u001b[32m    521\u001b[39m         \u001b[33m'\u001b[39m\u001b[38;5;132;01m{}\u001b[39;00m\u001b[33m not present in this \u001b[39m\u001b[33m'\u001b[39m \u001b[33m'\u001b[39m\u001b[33mcalculation\u001b[39m\u001b[33m'\u001b[39m.format(name)\n\u001b[32m    522\u001b[39m     )\n",
      "\u001b[36mFile \u001b[39m\u001b[32m~/anaconda3/envs/mace/lib/python3.13/site-packages/chgnet/model/dynamics.py:158\u001b[39m, in \u001b[36mCHGNetCalculator.calculate\u001b[39m\u001b[34m(self, atoms, properties, system_changes, task)\u001b[39m\n\u001b[32m    156\u001b[39m structure = AseAtomsAdaptor.get_structure(atoms)\n\u001b[32m    157\u001b[39m graph = \u001b[38;5;28mself\u001b[39m.model.graph_converter(structure)\n\u001b[32m--> \u001b[39m\u001b[32m158\u001b[39m model_prediction = \u001b[38;5;28mself\u001b[39m.model.predict_graph(\n\u001b[32m    159\u001b[39m     graph.to(\u001b[38;5;28mself\u001b[39m.device),\n\u001b[32m    160\u001b[39m     task=task,\n\u001b[32m    161\u001b[39m     return_crystal_feas=\u001b[38;5;28;01mTrue\u001b[39;00m,\n\u001b[32m    162\u001b[39m     return_site_energies=\u001b[38;5;28mself\u001b[39m.return_site_energies,\n\u001b[32m    163\u001b[39m )\n\u001b[32m    165\u001b[39m \u001b[38;5;66;03m# Convert Result\u001b[39;00m\n\u001b[32m    166\u001b[39m extensive_factor = \u001b[38;5;28mlen\u001b[39m(structure) \u001b[38;5;28;01mif\u001b[39;00m \u001b[38;5;28mself\u001b[39m.model.is_intensive \u001b[38;5;28;01melse\u001b[39;00m \u001b[32m1\u001b[39m\n",
      "\u001b[36mFile \u001b[39m\u001b[32m~/anaconda3/envs/mace/lib/python3.13/site-packages/chgnet/model/model.py:640\u001b[39m, in \u001b[36mCHGNet.predict_graph\u001b[39m\u001b[34m(self, graph, task, return_site_energies, return_atom_feas, return_crystal_feas, batch_size)\u001b[39m\n\u001b[32m    638\u001b[39m n_steps = math.ceil(\u001b[38;5;28mlen\u001b[39m(graphs) / batch_size)\n\u001b[32m    639\u001b[39m \u001b[38;5;28;01mfor\u001b[39;00m step \u001b[38;5;129;01min\u001b[39;00m \u001b[38;5;28mrange\u001b[39m(n_steps):\n\u001b[32m--> \u001b[39m\u001b[32m640\u001b[39m     prediction = \u001b[38;5;28mself\u001b[39m.forward(\n\u001b[32m    641\u001b[39m         [\n\u001b[32m    642\u001b[39m             g.to(model_device)\n\u001b[32m    643\u001b[39m             \u001b[38;5;28;01mfor\u001b[39;00m g \u001b[38;5;129;01min\u001b[39;00m graphs[batch_size * step : batch_size * (step + \u001b[32m1\u001b[39m)]\n\u001b[32m    644\u001b[39m         ],\n\u001b[32m    645\u001b[39m         task=task,\n\u001b[32m    646\u001b[39m         return_site_energies=return_site_energies,\n\u001b[32m    647\u001b[39m         return_atom_feas=return_atom_feas,\n\u001b[32m    648\u001b[39m         return_crystal_feas=return_crystal_feas,\n\u001b[32m    649\u001b[39m     )\n\u001b[32m    650\u001b[39m     \u001b[38;5;28;01mfor\u001b[39;00m key \u001b[38;5;129;01min\u001b[39;00m {\n\u001b[32m    651\u001b[39m         \u001b[33m\"\u001b[39m\u001b[33me\u001b[39m\u001b[33m\"\u001b[39m,\n\u001b[32m    652\u001b[39m         \u001b[33m\"\u001b[39m\u001b[33mf\u001b[39m\u001b[33m\"\u001b[39m,\n\u001b[32m   (...)\u001b[39m\u001b[32m    657\u001b[39m         \u001b[33m\"\u001b[39m\u001b[33mcrystal_fea\u001b[39m\u001b[33m\"\u001b[39m,\n\u001b[32m    658\u001b[39m     } & {*prediction}:\n\u001b[32m    659\u001b[39m         \u001b[38;5;28;01mfor\u001b[39;00m idx, tensor \u001b[38;5;129;01min\u001b[39;00m \u001b[38;5;28menumerate\u001b[39m(prediction[key]):\n",
      "\u001b[36mFile \u001b[39m\u001b[32m~/anaconda3/envs/mace/lib/python3.13/site-packages/chgnet/model/model.py:369\u001b[39m, in \u001b[36mCHGNet.forward\u001b[39m\u001b[34m(self, graphs, task, return_site_energies, return_atom_feas, return_crystal_feas)\u001b[39m\n\u001b[32m    361\u001b[39m batched_graph = BatchedGraph.from_graphs(\n\u001b[32m    362\u001b[39m     graphs,\n\u001b[32m    363\u001b[39m     bond_basis_expansion=\u001b[38;5;28mself\u001b[39m.bond_basis_expansion,\n\u001b[32m    364\u001b[39m     angle_basis_expansion=\u001b[38;5;28mself\u001b[39m.angle_basis_expansion,\n\u001b[32m    365\u001b[39m     compute_stress=\u001b[33m\"\u001b[39m\u001b[33ms\u001b[39m\u001b[33m\"\u001b[39m \u001b[38;5;129;01min\u001b[39;00m task,\n\u001b[32m    366\u001b[39m )\n\u001b[32m    368\u001b[39m \u001b[38;5;66;03m# Pass to model\u001b[39;00m\n\u001b[32m--> \u001b[39m\u001b[32m369\u001b[39m prediction = \u001b[38;5;28mself\u001b[39m._compute(\n\u001b[32m    370\u001b[39m     batched_graph,\n\u001b[32m    371\u001b[39m     compute_force=\u001b[33m\"\u001b[39m\u001b[33mf\u001b[39m\u001b[33m\"\u001b[39m \u001b[38;5;129;01min\u001b[39;00m task,\n\u001b[32m    372\u001b[39m     compute_stress=\u001b[33m\"\u001b[39m\u001b[33ms\u001b[39m\u001b[33m\"\u001b[39m \u001b[38;5;129;01min\u001b[39;00m task,\n\u001b[32m    373\u001b[39m     compute_magmom=\u001b[33m\"\u001b[39m\u001b[33mm\u001b[39m\u001b[33m\"\u001b[39m \u001b[38;5;129;01min\u001b[39;00m task,\n\u001b[32m    374\u001b[39m     return_site_energies=return_site_energies,\n\u001b[32m    375\u001b[39m     return_atom_feas=return_atom_feas,\n\u001b[32m    376\u001b[39m     return_crystal_feas=return_crystal_feas,\n\u001b[32m    377\u001b[39m )\n\u001b[32m    378\u001b[39m prediction[\u001b[33m\"\u001b[39m\u001b[33me\u001b[39m\u001b[33m\"\u001b[39m] += comp_energy\n\u001b[32m    379\u001b[39m \u001b[38;5;28;01mif\u001b[39;00m return_site_energies \u001b[38;5;129;01mand\u001b[39;00m \u001b[38;5;28mself\u001b[39m.composition_model \u001b[38;5;129;01mis\u001b[39;00m \u001b[38;5;129;01mnot\u001b[39;00m \u001b[38;5;28;01mNone\u001b[39;00m:\n",
      "\u001b[36mFile \u001b[39m\u001b[32m~/anaconda3/envs/mace/lib/python3.13/site-packages/chgnet/model/model.py:521\u001b[39m, in \u001b[36mCHGNet._compute\u001b[39m\u001b[34m(self, g, compute_force, compute_stress, compute_magmom, return_site_energies, return_atom_feas, return_crystal_feas)\u001b[39m\n\u001b[32m    516\u001b[39m \u001b[38;5;66;03m# Compute force\u001b[39;00m\n\u001b[32m    517\u001b[39m \u001b[38;5;28;01mif\u001b[39;00m compute_force:\n\u001b[32m    518\u001b[39m     \u001b[38;5;66;03m# Need to retain_graph here, because energy is used in loss function,\u001b[39;00m\n\u001b[32m    519\u001b[39m     \u001b[38;5;66;03m# so its gradient need to be calculated later\u001b[39;00m\n\u001b[32m    520\u001b[39m     \u001b[38;5;66;03m# The graphs of force and stress need to be created for same reason.\u001b[39;00m\n\u001b[32m--> \u001b[39m\u001b[32m521\u001b[39m     force = torch.autograd.grad(\n\u001b[32m    522\u001b[39m         energy.sum(), g.atom_positions, create_graph=\u001b[38;5;28;01mTrue\u001b[39;00m, retain_graph=\u001b[38;5;28;01mTrue\u001b[39;00m\n\u001b[32m    523\u001b[39m     )\n\u001b[32m    524\u001b[39m     prediction[\u001b[33m\"\u001b[39m\u001b[33mf\u001b[39m\u001b[33m\"\u001b[39m] = [-\u001b[32m1\u001b[39m * force_dim \u001b[38;5;28;01mfor\u001b[39;00m force_dim \u001b[38;5;129;01min\u001b[39;00m force]\n\u001b[32m    526\u001b[39m \u001b[38;5;66;03m# Compute stress\u001b[39;00m\n",
      "\u001b[36mFile \u001b[39m\u001b[32m~/anaconda3/envs/mace/lib/python3.13/site-packages/torch/autograd/__init__.py:496\u001b[39m, in \u001b[36mgrad\u001b[39m\u001b[34m(outputs, inputs, grad_outputs, retain_graph, create_graph, only_inputs, allow_unused, is_grads_batched, materialize_grads)\u001b[39m\n\u001b[32m    492\u001b[39m     result = _vmap_internals._vmap(vjp, \u001b[32m0\u001b[39m, \u001b[32m0\u001b[39m, allow_none_pass_through=\u001b[38;5;28;01mTrue\u001b[39;00m)(\n\u001b[32m    493\u001b[39m         grad_outputs_\n\u001b[32m    494\u001b[39m     )\n\u001b[32m    495\u001b[39m \u001b[38;5;28;01melse\u001b[39;00m:\n\u001b[32m--> \u001b[39m\u001b[32m496\u001b[39m     result = _engine_run_backward(\n\u001b[32m    497\u001b[39m         outputs,\n\u001b[32m    498\u001b[39m         grad_outputs_,\n\u001b[32m    499\u001b[39m         retain_graph,\n\u001b[32m    500\u001b[39m         create_graph,\n\u001b[32m    501\u001b[39m         inputs,\n\u001b[32m    502\u001b[39m         allow_unused,\n\u001b[32m    503\u001b[39m         accumulate_grad=\u001b[38;5;28;01mFalse\u001b[39;00m,\n\u001b[32m    504\u001b[39m     )\n\u001b[32m    505\u001b[39m \u001b[38;5;28;01mif\u001b[39;00m materialize_grads:\n\u001b[32m    506\u001b[39m     \u001b[38;5;28;01mif\u001b[39;00m \u001b[38;5;28many\u001b[39m(\n\u001b[32m    507\u001b[39m         result[i] \u001b[38;5;129;01mis\u001b[39;00m \u001b[38;5;28;01mNone\u001b[39;00m \u001b[38;5;129;01mand\u001b[39;00m \u001b[38;5;129;01mnot\u001b[39;00m is_tensor_like(inputs[i])\n\u001b[32m    508\u001b[39m         \u001b[38;5;28;01mfor\u001b[39;00m i \u001b[38;5;129;01min\u001b[39;00m \u001b[38;5;28mrange\u001b[39m(\u001b[38;5;28mlen\u001b[39m(inputs))\n\u001b[32m    509\u001b[39m     ):\n",
      "\u001b[36mFile \u001b[39m\u001b[32m~/anaconda3/envs/mace/lib/python3.13/site-packages/torch/autograd/graph.py:825\u001b[39m, in \u001b[36m_engine_run_backward\u001b[39m\u001b[34m(t_outputs, *args, **kwargs)\u001b[39m\n\u001b[32m    823\u001b[39m     unregister_hooks = _register_logging_hooks_on_whole_graph(t_outputs)\n\u001b[32m    824\u001b[39m \u001b[38;5;28;01mtry\u001b[39;00m:\n\u001b[32m--> \u001b[39m\u001b[32m825\u001b[39m     \u001b[38;5;28;01mreturn\u001b[39;00m Variable._execution_engine.run_backward(  \u001b[38;5;66;03m# Calls into the C++ engine to run the backward pass\u001b[39;00m\n\u001b[32m    826\u001b[39m         t_outputs, *args, **kwargs\n\u001b[32m    827\u001b[39m     )  \u001b[38;5;66;03m# Calls into the C++ engine to run the backward pass\u001b[39;00m\n\u001b[32m    828\u001b[39m \u001b[38;5;28;01mfinally\u001b[39;00m:\n\u001b[32m    829\u001b[39m     \u001b[38;5;28;01mif\u001b[39;00m attach_logging_hooks:\n",
      "\u001b[31mOutOfMemoryError\u001b[39m: CUDA out of memory. Tried to allocate 248.00 MiB. GPU 0 has a total capacity of 47.53 GiB of which 6.62 MiB is free. Including non-PyTorch memory, this process has 47.44 GiB memory in use. Of the allocated memory 45.59 GiB is allocated by PyTorch, and 1.54 GiB is reserved by PyTorch but unallocated. If reserved but unallocated memory is large try setting PYTORCH_CUDA_ALLOC_CONF=expandable_segments:True to avoid fragmentation.  See documentation for Memory Management  (https://pytorch.org/docs/stable/notes/cuda.html#environment-variables)"
     ]
    },
    {
     "ename": "",
     "evalue": "",
     "output_type": "error",
     "traceback": [
      "\u001b[1;31mThe Kernel crashed while executing code in the current cell or a previous cell. \n",
      "\u001b[1;31mPlease review the code in the cell(s) to identify a possible cause of the failure. \n",
      "\u001b[1;31mClick <a href='https://aka.ms/vscodeJupyterKernelCrash'>here</a> for more info. \n",
      "\u001b[1;31mView Jupyter <a href='command:jupyter.viewOutput'>log</a> for further details."
     ]
    }
   ],
   "source": [
    "# Stage 1: CG\n",
    "opt1 = StructOptimizer(model=calc, optimizer_class=\"SciPyFminCG\", use_device=\"cuda\")\n",
    "result1 = opt1.relax(structure, fmax=0.15, steps=300, relax_cell=False, verbose=True)"
   ]
  },
  {
   "cell_type": "code",
   "execution_count": null,
   "id": "9900c903",
   "metadata": {},
   "outputs": [
    {
     "name": "stderr",
     "output_type": "stream",
     "text": [
      "/tmp/ipykernel_56255/3154571052.py:3: FutureWarning: Please use atoms.calc = calc\n",
      "  structure_1.set_calculator(calc)\n"
     ]
    },
    {
     "name": "stdout",
     "output_type": "stream",
     "text": [
      "      Step     Time          Energy          fmax\n",
      "FIRE:    0 20:48:52    -2692.110083        0.136644\n",
      "FIRE:    1 20:48:53    -2692.114134        0.134898\n",
      "FIRE:    2 20:48:53    -2692.121899        0.131163\n",
      "FIRE:    3 20:48:54    -2692.131689        0.127374\n",
      "FIRE:    4 20:48:54    -2692.143505        0.118269\n",
      "FIRE:    5 20:48:54    -2692.156503        0.111001\n",
      "FIRE:    6 20:48:55    -2692.169332        0.103045\n",
      "FIRE:    7 20:48:55    -2692.183511        0.093833\n",
      "FIRE:    8 20:48:56    -2692.198703        0.089371\n",
      "FIRE:    9 20:48:56    -2692.215414        0.088418\n",
      "FIRE:   10 20:48:56    -2692.234826        0.092469\n",
      "FIRE:   11 20:48:57    -2692.256939        0.100811\n",
      "FIRE:   12 20:48:57    -2692.283272        0.097430\n",
      "FIRE:   13 20:48:58    -2692.312812        0.083648\n",
      "FIRE:   14 20:48:58    -2692.347078        0.082827\n",
      "FIRE:   15 20:48:59    -2692.386071        0.076299\n",
      "FIRE:   16 20:48:59    -2692.431647        0.071338\n",
      "FIRE:   17 20:48:59    -2692.484819        0.076280\n",
      "FIRE:   18 20:49:00    -2692.535628        0.074962\n",
      "FIRE:   19 20:49:00    -2692.583399        0.062234\n",
      "FIRE:   20 20:49:01    -2692.627118        0.060507\n",
      "FIRE:   21 20:49:01    -2692.668812        0.068958\n",
      "FIRE:   22 20:49:01    -2692.710337        0.087348\n",
      "FIRE:   23 20:49:02    -2692.754394        0.104299\n",
      "FIRE:   24 20:49:02    -2692.800814        0.119953\n",
      "FIRE:   25 20:49:02    -2692.848753        0.141097\n",
      "FIRE:   26 20:49:03    -2692.897367        0.115358\n",
      "FIRE:   27 20:49:03    -2692.946320        0.130539\n",
      "FIRE:   28 20:49:04    -2692.995272        0.181497\n",
      "FIRE:   29 20:49:04    -2693.047262        0.225675\n",
      "FIRE:   30 20:49:04    -2693.096214        0.243800\n",
      "FIRE:   31 20:49:05    -2693.143816        0.250773\n",
      "FIRE:   32 20:49:05    -2693.195469        0.172656\n",
      "FIRE:   33 20:49:06    -2693.246615        0.133436\n",
      "FIRE:   34 20:49:06    -2693.296412        0.108509\n",
      "FIRE:   35 20:49:06    -2693.345364        0.127842\n",
      "FIRE:   36 20:49:07    -2693.394316        0.133414\n",
      "FIRE:   37 20:49:07    -2693.444618        0.113896\n",
      "FIRE:   38 20:49:08    -2693.492558        0.118590\n",
      "FIRE:   39 20:49:08    -2693.541003        0.121681\n",
      "FIRE:   40 20:49:09    -2693.592150        0.139421\n",
      "FIRE:   41 20:49:09    -2693.644478        0.142039\n",
      "FIRE:   42 20:49:09    -2693.696637        0.107066\n",
      "FIRE:   43 20:49:10    -2693.746264        0.087650\n",
      "FIRE:   44 20:49:10    -2693.793529        0.092087\n",
      "FIRE:   45 20:49:11    -2693.840624        0.085823\n",
      "FIRE:   46 20:49:11    -2693.882993        0.069628\n",
      "FIRE:   47 20:49:11    -2693.922492        0.077553\n",
      "FIRE:   48 20:49:12    -2693.961485        0.101313\n",
      "FIRE:   49 20:49:12    -2693.998959        0.127498\n",
      "FIRE:   50 20:49:13    -2694.037445        0.145150\n",
      "FIRE:   51 20:49:13    -2694.080152        0.155487\n",
      "FIRE:   52 20:49:13    -2694.125052        0.151119\n",
      "FIRE:   53 20:49:14    -2694.173667        0.138784\n",
      "FIRE:   54 20:49:14    -2694.222281        0.123556\n",
      "FIRE:   55 20:49:15    -2694.271571        0.147630\n",
      "FIRE:   56 20:49:15    -2694.321367        0.161353\n",
      "FIRE:   57 20:49:15    -2694.369138        0.142438\n",
      "FIRE:   58 20:49:16    -2694.413870        0.150526\n",
      "FIRE:   59 20:49:16    -2694.455901        0.144020\n",
      "FIRE:   60 20:49:17    -2694.496244        0.164887\n",
      "FIRE:   61 20:49:17    -2694.536419        0.155095\n",
      "FIRE:   62 20:49:18    -2694.575918        0.124027\n",
      "FIRE:   63 20:49:18    -2694.613898        0.105735\n",
      "FIRE:   64 20:49:18    -2694.653904        0.098924\n",
      "FIRE:   65 20:49:19    -2694.690027        0.110284\n",
      "FIRE:   66 20:49:19    -2694.718048        0.218239\n",
      "FIRE:   67 20:49:20    -2694.737460        0.454387\n",
      "FIRE:   68 20:49:20    -2694.767844        0.515683\n",
      "FIRE:   69 20:49:20    -2694.813589        0.298825\n",
      "FIRE:   70 20:49:21    -2694.857984        0.187738\n",
      "FIRE:   71 20:49:21    -2694.898664        0.182773\n",
      "FIRE:   72 20:49:22    -2694.940358        0.161332\n",
      "FIRE:   73 20:49:22    -2694.982221        0.175539\n",
      "FIRE:   74 20:49:22    -2695.024927        0.210901\n",
      "FIRE:   75 20:49:23    -2695.070672        0.164398\n",
      "FIRE:   76 20:49:23    -2695.111691        0.166729\n",
      "FIRE:   77 20:49:24    -2695.144607        0.141005\n",
      "FIRE:   78 20:49:24    -2695.163175        0.120629\n",
      "FIRE:   79 20:49:24    -2695.163512        0.230136\n",
      "FIRE:   80 20:49:25    -2695.223268        0.289263\n",
      "FIRE:   81 20:49:25    -2695.217360        0.785196\n",
      "FIRE:   82 20:49:26    -2695.261248        0.450130\n",
      "FIRE:   83 20:49:26    -2695.268506        0.283463\n",
      "FIRE:   84 20:49:26    -2695.275596        0.081783\n",
      "FIRE:   85 20:49:27    -2695.277115        0.263159\n",
      "FIRE:   86 20:49:27    -2695.277790        0.234187\n",
      "FIRE:   87 20:49:28    -2695.278972        0.181675\n",
      "FIRE:   88 20:49:28    -2695.280491        0.111195\n",
      "FIRE:   89 20:49:29    -2695.282010        0.058117\n",
      "FIRE:   90 20:49:29    -2695.283192        0.055628\n",
      "FIRE:   91 20:49:29    -2695.284373        0.104333\n",
      "FIRE:   92 20:49:30    -2695.285386        0.136855\n",
      "FIRE:   93 20:49:30    -2695.287412        0.144656\n",
      "FIRE:   94 20:49:31    -2695.289775        0.122116\n",
      "FIRE:   95 20:49:31    -2695.292982        0.067068\n",
      "FIRE:   96 20:49:31    -2695.295852        0.048604\n"
     ]
    }
   ],
   "source": [
    "# Convert back, assign calculator + constraint\n",
    "structure_1 = AseAtomsAdaptor.get_atoms(result1[\"final_structure\"])\n",
    "structure_1.set_calculator(calc)\n",
    "structure_1.set_constraint(FixAtoms(mask=freeze_mask))\n",
    "\n",
    "# Stage 2: FIRE\n",
    "opt2 = StructOptimizer(model=calc, optimizer_class=\"FIRE\", use_device=\"cuda\")\n",
    "result2 = opt2.relax(structure_1, fmax=0.05, steps=400, relax_cell=False, verbose=True)"
   ]
  },
  {
   "cell_type": "code",
   "execution_count": null,
   "id": "02e25f8e",
   "metadata": {},
   "outputs": [
    {
     "name": "stdout",
     "output_type": "stream",
     "text": [
      "✅ Final structure saved successfully.\n"
     ]
    }
   ],
   "source": [
    "from pymatgen.io.ase import AseAtomsAdaptor\n",
    "from ase.io import write\n",
    "\n",
    "# Extract final structure from result3 (FIRE)\n",
    "final_structure_pmg = result2[\"final_structure\"]  # assuming result2 = FIRE\n",
    "final_structure_ase = AseAtomsAdaptor.get_atoms(final_structure_pmg)\n",
    "\n",
    "# Save as CIF and ASE trajectory\n",
    "write(f\"relaxed_{structure_name}.cif\", final_structure_ase)\n",
    "write(f\"relaxed_{structure_name}.traj\", final_structure_ase)\n",
    "\n",
    "print(\"✅ Final structure saved successfully.\")"
   ]
  },
  {
   "cell_type": "code",
   "execution_count": null,
   "id": "179da561",
   "metadata": {},
   "outputs": [
    {
     "name": "stdout",
     "output_type": "stream",
     "text": [
      "Li slab thickness: 14.62 Å\n",
      "Lowest Li slab atom: 25.05 Å\n",
      "LLZO top z: 25.01 Å\n",
      "Li penetration into LLZO: -0.04 Å\n"
     ]
    }
   ],
   "source": [
    "from pymatgen.core import Structure\n",
    "import numpy as np\n",
    "\n",
    "s = Structure.from_file(f\"/home/mehuldarak/summer/relax_final/{structure_name}/relaxed_{structure_name}.cif\")\n",
    "\n",
    "# Get all atoms\n",
    "z_coords = np.array([site.z for site in s.sites])\n",
    "species = np.array([site.species_string for site in s.sites])\n",
    "\n",
    "# Estimate LLZO top (non-Li atoms)\n",
    "llzo_z = z_coords[species != \"Li\"]\n",
    "llzo_top = llzo_z.max()\n",
    "\n",
    "# Now isolate Li slab: Li atoms ABOVE LLZO\n",
    "li_slab_z = np.array([site.z for site in s.sites if site.species_string == \"Li\" and site.z > llzo_top])\n",
    "\n",
    "print(f\"Li slab thickness: {li_slab_z.ptp():.2f} Å\")\n",
    "print(f\"Lowest Li slab atom: {li_slab_z.min():.2f} Å\")\n",
    "print(f\"LLZO top z: {llzo_top:.2f} Å\")\n",
    "print(f\"Li penetration into LLZO: {llzo_top - li_slab_z.min():.2f} Å\")\n"
   ]
  },
  {
   "cell_type": "code",
   "execution_count": null,
   "id": "5d3853c1",
   "metadata": {},
   "outputs": [],
   "source": [
    "import os\n",
    "from chgnet.model import StructOptimizer\n",
    "from pymatgen.core import Structure\n",
    "from chgnet.model.dynamics import CHGNetCalculator\n",
    "\n",
    "structure_path = f\"/home/mehuldarak/summer/relax_final/{structure_name}/relaxed_{structure_name}.cif\"\n",
    "structure = Structure.from_file(structure_path)\n",
    "\n",
    "# Output path\n",
    "output_dir = f\"/home/mehuldarak/summer/relax_final\"\n",
    "os.makedirs(output_dir, exist_ok=True)\n",
    "output_path = os.path.join(output_dir, f\"cellrelaxed_{structure_name}.cif\")\n",
    "\n",
    "# Run CHGNet relaxation\n",
    "opt1 = StructOptimizer(model=calc, optimizer_class=\"SciPyFminCG\", use_device=\"cuda\")\n",
    "result = opt1.relax(\n",
    "    structure,\n",
    "    fmax=0.15,           # You can adjust depending on accuracy/speed tradeoff\n",
    "    steps=400,\n",
    "    relax_cell=True,\n",
    "    verbose=True\n",
    ")"
   ]
  },
  {
   "cell_type": "code",
   "execution_count": null,
   "id": "41fd0c4a",
   "metadata": {},
   "outputs": [],
   "source": [
    "# Convert back, assign calculator + constraint\n",
    "structure_1 = AseAtomsAdaptor.get_atoms(result[\"final_structure\"])\n",
    "structure_1.set_calculator(calc)\n",
    "structure_1.set_constraint(FixAtoms(mask=freeze_mask))\n",
    "\n",
    "# Stage 2: FIRE\n",
    "opt2 = StructOptimizer(model=calc, optimizer_class=\"FIRE\", use_device=\"cuda\")\n",
    "result2 = opt2.relax(structure_1, fmax=0.05, steps=400, relax_cell=True, verbose=True)"
   ]
  },
  {
   "cell_type": "code",
   "execution_count": null,
   "id": "c976904a",
   "metadata": {},
   "outputs": [],
   "source": [
    "# Save relaxed structure\n",
    "relaxed_structure = result[\"final_structure\"]\n",
    "relaxed_structure.to(filename=output_path)\n",
    "\n",
    "print(f\"✅ Relaxed structure saved to: {output_path}\")"
   ]
  }
 ],
 "metadata": {
  "kernelspec": {
   "display_name": "mace",
   "language": "python",
   "name": "python3"
  },
  "language_info": {
   "codemirror_mode": {
    "name": "ipython",
    "version": 3
   },
   "file_extension": ".py",
   "mimetype": "text/x-python",
   "name": "python",
   "nbconvert_exporter": "python",
   "pygments_lexer": "ipython3",
   "version": "3.13.5"
  }
 },
 "nbformat": 4,
 "nbformat_minor": 5
}
