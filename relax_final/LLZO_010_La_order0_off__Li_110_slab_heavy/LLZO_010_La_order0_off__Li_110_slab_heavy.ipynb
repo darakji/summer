{
 "cells": [
  {
   "cell_type": "markdown",
   "id": "d7833af9",
   "metadata": {},
   "source": [
    "This notebook follows from the tutorials of CHGNet to relax LLZO-Li slabs that have been made in `llzo_li_balanced_sliced` directory."
   ]
  },
  {
   "cell_type": "markdown",
   "id": "3d234e1d",
   "metadata": {},
   "source": [
    "\n",
    "LLZO‖Li Interface Relaxation Notebook\n",
    "========================================\n",
    "\n",
    "Each notebook handles only one structure.\n",
    "1. Purpose: (This keeps updating)\n",
    "- Relax a single LLZO‖Li (in this notebook LLZO_001_Zr_code93_sto__Li_110_slab_heavy) heterostructure using CHGNet\n",
    "- Perform multi-stage optimization (in this notebook, CG → FIRE)\n",
    "- Freeze bulk-like regions (15 Å at both ends)\n",
    "- after all this, Relax lattice vectors to relieve interface strain\n",
    "\n",
    "2. This notebook handles:\n",
    "- Structure: LLZO_110_Li_order17_off__Li_100_slab_heavy\n",
    "- Initial lattice height: 86.02 Å\n",
    "- Number of atoms: 738\n",
    "\n",
    "3. Method:\n",
    "- CHGNet (v0.4.0) + ASE interface\n",
    "- Stage 1: SciPyFminCG (no cell relaxation) → fmax target ~0.15 eV/Å\n",
    "- Stage 2: FIRE (with optional cell relaxation) → fmax target ~0.05 eV/Å\n",
    "- FrechetCellFilter used for combined force + stress minimization\n",
    "\n",
    "4. Constraints:\n",
    "- LLZO base: frozen bottom 14.25 Å\n",
    "- Li top: frozen top 14.25 Å\n",
    "- Only interfacial region relaxed\n",
    "- Cell relaxation via `relax_cell=True` and `relax_cell_atoms=\"unconstrained\"`\n",
    "\n",
    "5. Outputs: (This will be decided later)\n",
    "- relaxed_[structure_name].cif\n",
    "- relaxed_[structure_name].traj\n",
    "- (Optional) relaxation_log.pkl with energies, forces\n",
    "\n",
    "6. Visual checks:\n",
    "- Compare pre- and post-relaxation structures\n",
    "- Ensure no Li diffusion into LLZO (via z-analysis)\n",
    "- Confirm convergence (fmax < 0.05 eV/Å)\n",
    "\n",
    "Author: Mehul Darak\n",
    "\n",
    "Date: 15-07-2025\n"
   ]
  },
  {
   "cell_type": "code",
   "execution_count": 1,
   "id": "4e5b2c5f",
   "metadata": {},
   "outputs": [],
   "source": [
    "structure_name = \"LLZO_010_La_order0_off__Li_110_slab_heavy\""
   ]
  },
  {
   "cell_type": "code",
   "execution_count": 2,
   "id": "955e570d",
   "metadata": {},
   "outputs": [
    {
     "name": "stdout",
     "output_type": "stream",
     "text": [
      "- Structure: LLZO_010_La_order0_off__Li_110_slab_heavy\n",
      "- Initial lattice height: 72.43 Å\n",
      "- Number of atoms: 852\n"
     ]
    },
    {
     "name": "stderr",
     "output_type": "stream",
     "text": [
      "/home/mehuldarak/anaconda3/envs/mace/lib/python3.13/site-packages/pymatgen/io/cif.py:1290: UserWarning: Issues encountered while parsing CIF: 1 fractional coordinates rounded to ideal values to avoid issues with finite precision.\n",
      "  warnings.warn(\"Issues encountered while parsing CIF: \" + \"\\n\".join(self.warnings))\n"
     ]
    }
   ],
   "source": [
    "from pymatgen.core import Structure\n",
    "import os\n",
    "\n",
    "# Load structure\n",
    "structure_path = (f\"/home/mehuldarak/summer/llzo_li_balanced_sliced/{structure_name}.cif\")  # replace with your file\n",
    "structure = Structure.from_file(structure_path)\n",
    "\n",
    "# Extract info\n",
    "structure_name = os.path.basename(structure_path).replace(\".cif\", \"\")\n",
    "lattice_height = structure.lattice.c\n",
    "num_atoms = len(structure)\n",
    "\n",
    "# Print output\n",
    "print(f\"- Structure: {structure_name}\")\n",
    "print(f\"- Initial lattice height: {lattice_height:.2f} Å\")\n",
    "print(f\"- Number of atoms: {num_atoms}\")\n"
   ]
  },
  {
   "cell_type": "code",
   "execution_count": 3,
   "id": "1846f174",
   "metadata": {},
   "outputs": [
    {
     "name": "stdout",
     "output_type": "stream",
     "text": [
      "Li slab thickness: 18.63 Å\n",
      "Lowest Li slab atom: 38.81 Å\n",
      "LLZO top z: 34.81 Å\n",
      "Li penetration into LLZO: -4.00 Å\n"
     ]
    }
   ],
   "source": [
    "from pymatgen.core import Structure\n",
    "import numpy as np\n",
    "\n",
    "s = Structure.from_file(f\"/home/mehuldarak/summer/llzo_li_balanced_sliced/{structure_name}.cif\")\n",
    "\n",
    "# Get all atoms\n",
    "z_coords = np.array([site.z for site in s.sites])\n",
    "species = np.array([site.species_string for site in s.sites])\n",
    "\n",
    "# Estimate LLZO top (non-Li atoms)\n",
    "llzo_z = z_coords[species != \"Li\"]\n",
    "llzo_top = llzo_z.max()\n",
    "\n",
    "# Now isolate Li slab: Li atoms ABOVE LLZO\n",
    "li_slab_z = np.array([site.z for site in s.sites if site.species_string == \"Li\" and site.z > llzo_top])\n",
    "\n",
    "print(f\"Li slab thickness: {li_slab_z.ptp():.2f} Å\")\n",
    "print(f\"Lowest Li slab atom: {li_slab_z.min():.2f} Å\")\n",
    "print(f\"LLZO top z: {llzo_top:.2f} Å\")\n",
    "print(f\"Li penetration into LLZO: {llzo_top - li_slab_z.min():.2f} Å\")\n"
   ]
  },
  {
   "cell_type": "code",
   "execution_count": 4,
   "id": "ad50b778",
   "metadata": {},
   "outputs": [
    {
     "name": "stdout",
     "output_type": "stream",
     "text": [
      "LLZO slab thickness: 19.81 Å\n",
      "Li slab thickness:   18.63 Å\n",
      "LLZO top z:          34.81 Å\n",
      "Lowest Li atom z:    38.81 Å\n",
      "Li penetration into LLZO: -4.00 Å\n"
     ]
    }
   ],
   "source": [
    "from pymatgen.core import Structure\n",
    "import numpy as np\n",
    "\n",
    "# Load structure\n",
    "structure = Structure.from_file(f\"/home/mehuldarak/summer/llzo_li_balanced_sliced/{structure_name}.cif\")\n",
    "\n",
    "# Get z-coordinates and element types\n",
    "z_coords = np.array([site.z for site in structure.sites])\n",
    "species = np.array([site.species_string for site in structure.sites])\n",
    "\n",
    "# LLZO: non-Li atoms (La, Zr, O)\n",
    "llzo_z = z_coords[species != \"Li\"]\n",
    "llzo_top = llzo_z.max()\n",
    "llzo_bottom = llzo_z.min()\n",
    "llzo_thickness = llzo_top - llzo_bottom\n",
    "\n",
    "# Li slab: Li atoms ABOVE LLZO (i.e. in metallic Li layer)\n",
    "li_slab_z = np.array([\n",
    "    site.z for site in structure.sites\n",
    "    if site.species_string == \"Li\" and site.z > llzo_top\n",
    "])\n",
    "li_thickness = li_slab_z.ptp() if len(li_slab_z) > 0 else 0\n",
    "li_bottom = li_slab_z.min() if len(li_slab_z) > 0 else None\n",
    "\n",
    "# Penetration check\n",
    "penetration = llzo_top - li_bottom if li_bottom is not None else 0\n",
    "\n",
    "# Report\n",
    "print(f\"LLZO slab thickness: {llzo_thickness:.2f} Å\")\n",
    "print(f\"Li slab thickness:   {li_thickness:.2f} Å\")\n",
    "print(f\"LLZO top z:          {llzo_top:.2f} Å\")\n",
    "print(f\"Lowest Li atom z:    {li_bottom:.2f} Å\" if li_bottom else \"No Li slab atoms found\")\n",
    "print(f\"Li penetration into LLZO: {penetration:.2f} Å\")\n"
   ]
  },
  {
   "cell_type": "code",
   "execution_count": 5,
   "id": "9df87ad4",
   "metadata": {},
   "outputs": [
    {
     "name": "stdout",
     "output_type": "stream",
     "text": [
      "Freezing 643 atoms out of 852\n",
      "CHGNet v0.3.0 initialized with 412,525 parameters\n",
      "CHGNet will run on cuda\n"
     ]
    },
    {
     "name": "stderr",
     "output_type": "stream",
     "text": [
      "/tmp/ipykernel_160058/3870098642.py:27: FutureWarning: Please use atoms.calc = calc\n",
      "  structure.set_calculator(calc)\n"
     ]
    }
   ],
   "source": [
    "from pymatgen.io.ase import AseAtomsAdaptor\n",
    "from ase.constraints import FixAtoms\n",
    "from chgnet.model.dynamics import CHGNetCalculator, StructOptimizer\n",
    "from ase.io import read, write\n",
    "import numpy as np\n",
    "\n",
    "# --- Load structure ---\n",
    "structure = read(f\"/home/mehuldarak/summer/llzo_li_balanced_sliced/{structure_name}.cif\")\n",
    "\n",
    "# --- Get z coordinates ---\n",
    "z_coords = structure.get_positions()[:, 2]\n",
    "z_min, z_max = z_coords.min(), z_coords.max()\n",
    "\n",
    "# --- Define freeze zones ---\n",
    "freeze_thickness_llzo = 0.75 * (llzo_thickness)  # in Å\n",
    "freeze_thickness_li = 0.75 * (llzo_thickness)  # in Å\n",
    "llzo_z_threshold = z_min + freeze_thickness_llzo\n",
    "li_z_threshold = z_max - freeze_thickness_li\n",
    "\n",
    "# --- Freeze LLZO base and Li top ---\n",
    "freeze_mask = (z_coords < llzo_z_threshold) | (z_coords > li_z_threshold)\n",
    "structure.set_constraint(FixAtoms(mask=freeze_mask))\n",
    "print(f\"Freezing {np.sum(freeze_mask)} atoms out of {len(structure)}\")\n",
    "\n",
    "# --- Attach CHGNet calculator ---\n",
    "calc = CHGNetCalculator(use_device=\"cuda\")\n",
    "structure.set_calculator(calc)"
   ]
  },
  {
   "cell_type": "code",
   "execution_count": 6,
   "id": "7579efc8",
   "metadata": {},
   "outputs": [
    {
     "name": "stdout",
     "output_type": "stream",
     "text": [
      "             Step     Time          Energy          fmax\n",
      "SciPyFminCG:    0 15:16:04    -2037.618124        3.937120\n",
      "SciPyFminCG:    1 15:16:08    -2083.554943        7.340463\n",
      "SciPyFminCG:    2 15:16:09    -2095.593598       29.684860\n",
      "SciPyFminCG:    3 15:16:11    -2197.173117        6.174777\n",
      "SciPyFminCG:    4 15:16:13    -2272.684422        1.664348\n",
      "SciPyFminCG:    5 15:16:15    -2279.792845        1.546965\n",
      "SciPyFminCG:    6 15:16:17    -2287.023757        1.128501\n",
      "SciPyFminCG:    7 15:16:20    -2291.262119        1.609577\n",
      "SciPyFminCG:    8 15:16:25    -2299.689280        2.562275\n",
      "SciPyFminCG:    9 15:16:27    -2302.293440        3.705915\n",
      "SciPyFminCG:   10 15:16:29    -2304.027786        1.417907\n",
      "SciPyFminCG:   11 15:16:31    -2306.457253        1.623451\n",
      "SciPyFminCG:   12 15:16:33    -2308.830654        1.298604\n",
      "SciPyFminCG:   13 15:16:35    -2310.941608        1.162141\n",
      "SciPyFminCG:   14 15:16:37    -2312.791334        1.371848\n",
      "SciPyFminCG:   15 15:16:39    -2314.491148        1.016318\n",
      "SciPyFminCG:   16 15:16:41    -2315.953297        0.706791\n",
      "SciPyFminCG:   17 15:16:43    -2316.804422        0.944721\n",
      "SciPyFminCG:   18 15:16:45    -2317.835524        0.717509\n",
      "SciPyFminCG:   19 15:16:48    -2318.626319        0.751739\n",
      "SciPyFminCG:   20 15:16:51    -2319.761221        1.490784\n",
      "SciPyFminCG:   21 15:16:53    -2320.210957        2.893467\n",
      "SciPyFminCG:   22 15:16:55    -2321.225198        1.373515\n",
      "SciPyFminCG:   23 15:16:57    -2321.918693        0.976183\n",
      "SciPyFminCG:   24 15:16:59    -2322.448666        0.763390\n",
      "SciPyFminCG:   25 15:17:01    -2322.884182        0.697361\n",
      "SciPyFminCG:   26 15:17:03    -2323.232554        0.643942\n",
      "SciPyFminCG:   27 15:17:05    -2323.630085        0.642150\n",
      "SciPyFminCG:   28 15:17:07    -2323.922190        0.600165\n",
      "SciPyFminCG:   29 15:17:09    -2324.218763        0.576304\n",
      "SciPyFminCG:   30 15:17:12    -2324.476742        0.433005\n",
      "SciPyFminCG:   31 15:17:13    -2324.716641        0.616340\n",
      "SciPyFminCG:   32 15:17:16    -2325.002246        0.582967\n",
      "SciPyFminCG:   33 15:17:18    -2325.299429        0.560967\n",
      "SciPyFminCG:   34 15:17:21    -2325.707319        1.144576\n",
      "SciPyFminCG:   35 15:17:23    -2325.956766        1.068659\n",
      "SciPyFminCG:   36 15:17:25    -2326.522287        1.106333\n",
      "SciPyFminCG:   37 15:17:27    -2326.955366        1.319305\n",
      "SciPyFminCG:   38 15:17:29    -2327.510731        0.979040\n",
      "SciPyFminCG:   39 15:17:31    -2327.978748        0.793138\n",
      "SciPyFminCG:   40 15:17:33    -2328.392733        0.722357\n",
      "SciPyFminCG:   41 15:17:35    -2328.830687        0.695514\n",
      "SciPyFminCG:   42 15:17:37    -2329.217045        0.618964\n",
      "SciPyFminCG:   43 15:17:41    -2329.773425        1.007965\n",
      "SciPyFminCG:   44 15:17:43    -2329.990574        1.577010\n",
      "SciPyFminCG:   45 15:17:45    -2330.548782        1.197084\n",
      "SciPyFminCG:   46 15:17:47    -2331.214042        1.208118\n",
      "SciPyFminCG:   47 15:17:49    -2332.025760        1.118584\n",
      "SciPyFminCG:   48 15:17:51    -2332.704832        1.094367\n",
      "SciPyFminCG:   49 15:17:53    -2333.290870        0.791890\n",
      "SciPyFminCG:   50 15:17:56    -2334.049976        1.021697\n",
      "SciPyFminCG:   51 15:17:58    -2334.820662        1.340395\n",
      "SciPyFminCG:   52 15:18:00    -2335.698195        1.048105\n",
      "SciPyFminCG:   53 15:18:02    -2336.676278        0.875834\n",
      "SciPyFminCG:   54 15:18:05    -2337.284660        0.816680\n",
      "SciPyFminCG:   55 15:18:07    -2337.842259        1.061066\n",
      "SciPyFminCG:   56 15:18:09    -2338.327137        0.624717\n",
      "SciPyFminCG:   57 15:18:11    -2338.701917        1.189649\n",
      "SciPyFminCG:   58 15:18:13    -2339.123823        0.663607\n",
      "SciPyFminCG:   59 15:18:15    -2339.416334        0.683025\n",
      "SciPyFminCG:   60 15:18:17    -2339.686704        0.934359\n",
      "SciPyFminCG:   61 15:18:19    -2339.860788        0.792522\n",
      "SciPyFminCG:   62 15:18:21    -2340.038733        1.221054\n",
      "SciPyFminCG:   63 15:18:23    -2340.180113        0.626092\n",
      "SciPyFminCG:   64 15:18:25    -2340.327181        0.644093\n",
      "SciPyFminCG:   65 15:18:27    -2340.481562        0.856105\n",
      "SciPyFminCG:   66 15:18:29    -2340.572768        0.981924\n",
      "SciPyFminCG:   67 15:18:31    -2340.714352        0.799402\n",
      "SciPyFminCG:   68 15:18:34    -2340.825262        0.502175\n",
      "SciPyFminCG:   69 15:18:36    -2340.922359        0.896756\n",
      "SciPyFminCG:   70 15:18:38    -2341.068615        1.039886\n",
      "SciPyFminCG:   71 15:18:40    -2341.257122        0.688060\n",
      "SciPyFminCG:   72 15:18:43    -2341.440551        0.883612\n",
      "SciPyFminCG:   73 15:18:45    -2341.637589        0.769726\n",
      "SciPyFminCG:   74 15:18:47    -2341.811877        0.679250\n",
      "SciPyFminCG:   75 15:18:50    -2341.946960        1.077595\n",
      "SciPyFminCG:   76 15:18:52    -2342.098497        0.719995\n",
      "SciPyFminCG:   77 15:18:54    -2342.270957        0.961789\n",
      "SciPyFminCG:   78 15:18:56    -2342.573218        0.910623\n",
      "SciPyFminCG:   79 15:18:59    -2342.751772        1.039281\n",
      "SciPyFminCG:   80 15:19:01    -2342.971968        0.785672\n",
      "SciPyFminCG:   81 15:19:03    -2343.120661        0.545215\n",
      "SciPyFminCG:   82 15:19:05    -2343.255947        1.247308\n",
      "SciPyFminCG:   83 15:19:07    -2343.392859        0.789848\n",
      "SciPyFminCG:   84 15:19:09    -2343.511285        0.385533\n",
      "SciPyFminCG:   85 15:19:11    -2343.576490        0.853435\n",
      "SciPyFminCG:   86 15:19:14    -2343.637430        0.628248\n",
      "SciPyFminCG:   87 15:19:17    -2343.692479        0.591268\n",
      "SciPyFminCG:   88 15:19:19    -2343.736559        0.901395\n",
      "SciPyFminCG:   89 15:19:21    -2343.794655        0.417087\n",
      "SciPyFminCG:   90 15:19:23    -2343.853970        0.589067\n",
      "SciPyFminCG:   91 15:19:26    -2343.907393        0.644876\n",
      "SciPyFminCG:   92 15:19:28    -2343.980521        0.604137\n",
      "SciPyFminCG:   93 15:19:30    -2344.045321        0.594555\n",
      "SciPyFminCG:   94 15:19:33    -2344.108292        0.662710\n",
      "SciPyFminCG:   95 15:19:35    -2344.170856        0.686166\n",
      "SciPyFminCG:   96 15:19:37    -2344.237281        0.411431\n",
      "SciPyFminCG:   97 15:19:40    -2344.314674        0.595684\n",
      "SciPyFminCG:   98 15:19:42    -2344.399178        0.481145\n",
      "SciPyFminCG:   99 15:19:44    -2344.448336        0.671995\n",
      "SciPyFminCG:  100 15:19:46    -2344.512526        0.717255\n",
      "SciPyFminCG:  101 15:19:48    -2344.631561        0.584520\n",
      "SciPyFminCG:  102 15:19:50    -2344.704283        0.603236\n",
      "SciPyFminCG:  103 15:19:52    -2344.769285        0.425256\n",
      "SciPyFminCG:  104 15:19:55    -2344.817834        0.645016\n",
      "SciPyFminCG:  105 15:19:57    -2344.876336        0.578364\n",
      "SciPyFminCG:  106 15:19:59    -2344.941542        0.476885\n",
      "SciPyFminCG:  107 15:20:01    -2344.979934        0.843965\n",
      "SciPyFminCG:  108 15:20:03    -2345.011826        0.557008\n",
      "SciPyFminCG:  109 15:20:05    -2345.067078        0.283255\n",
      "SciPyFminCG:  110 15:20:07    -2345.108923        0.735811\n",
      "SciPyFminCG:  111 15:20:09    -2345.134518        0.471376\n",
      "SciPyFminCG:  112 15:20:12    -2345.162956        0.427270\n",
      "SciPyFminCG:  113 15:20:15    -2345.192614        0.453958\n",
      "SciPyFminCG:  114 15:20:18    -2345.215568        0.556989\n",
      "SciPyFminCG:  115 15:20:20    -2345.251928        0.407706\n",
      "SciPyFminCG:  116 15:20:22    -2345.283617        0.533210\n",
      "SciPyFminCG:  117 15:20:24    -2345.313274        0.640053\n",
      "SciPyFminCG:  118 15:20:26    -2345.342119        0.402580\n",
      "SciPyFminCG:  119 15:20:29    -2345.360807        0.708825\n",
      "SciPyFminCG:  120 15:20:31    -2345.382746        0.585678\n",
      "SciPyFminCG:  121 15:20:33    -2345.406512        0.518256\n",
      "SciPyFminCG:  122 15:20:36    -2345.422153        0.416694\n",
      "SciPyFminCG:  123 15:20:38    -2345.435154        0.425593\n",
      "SciPyFminCG:  124 15:20:41    -2345.450186        0.422386\n",
      "SciPyFminCG:  125 15:20:43    -2345.470499        0.427317\n",
      "SciPyFminCG:  126 15:20:46    -2345.496297        0.685674\n",
      "SciPyFminCG:  127 15:20:48    -2345.529408        0.459836\n",
      "SciPyFminCG:  128 15:20:50    -2345.561299        0.638692\n",
      "SciPyFminCG:  129 15:20:52    -2345.576534        0.288078\n",
      "SciPyFminCG:  130 15:20:54    -2345.596644        0.366181\n",
      "SciPyFminCG:  131 15:20:56    -2345.608629        0.236533\n",
      "SciPyFminCG:  132 15:20:58    -2345.619598        0.241188\n",
      "SciPyFminCG:  133 15:21:00    -2345.632396        0.328261\n",
      "SciPyFminCG:  134 15:21:04    -2345.639505        0.218636\n",
      "SciPyFminCG:  135 15:21:06    -2345.646818        0.200051\n",
      "SciPyFminCG:  136 15:21:09    -2345.652506        0.179796\n",
      "SciPyFminCG:  137 15:21:11    -2345.656569        0.243328\n",
      "SciPyFminCG:  138 15:21:13    -2345.659819        0.170270\n",
      "SciPyFminCG:  139 15:21:15    -2345.664694        0.141634\n"
     ]
    }
   ],
   "source": [
    "# Stage 1: CG\n",
    "opt1 = StructOptimizer(model=calc, optimizer_class=\"SciPyFminCG\", use_device=\"cuda\")\n",
    "result1 = opt1.relax(structure, fmax=0.15, steps=300, relax_cell=False, verbose=True)"
   ]
  },
  {
   "cell_type": "code",
   "execution_count": 7,
   "id": "9900c903",
   "metadata": {},
   "outputs": [
    {
     "name": "stderr",
     "output_type": "stream",
     "text": [
      "/tmp/ipykernel_160058/3154571052.py:3: FutureWarning: Please use atoms.calc = calc\n",
      "  structure_1.set_calculator(calc)\n"
     ]
    },
    {
     "name": "stdout",
     "output_type": "stream",
     "text": [
      "      Step     Time          Energy          fmax\n",
      "FIRE:    0 15:21:16    -2345.664694        0.141632\n",
      "FIRE:    1 15:21:17    -2345.666116        0.056007\n",
      "FIRE:    2 15:21:18    -2345.666928        0.135439\n",
      "FIRE:    3 15:21:19    -2345.667538        0.146577\n",
      "FIRE:    4 15:21:20    -2345.669975        0.058066\n",
      "FIRE:    5 15:21:21    -2345.670382        0.095549\n",
      "FIRE:    6 15:21:22    -2345.670382        0.102168\n",
      "FIRE:    7 15:21:23    -2345.672413        0.070581\n",
      "FIRE:    8 15:21:24    -2345.674444        0.108443\n",
      "FIRE:    9 15:21:25    -2345.675663        0.078101\n",
      "FIRE:   10 15:21:26    -2345.679319        0.107935\n",
      "FIRE:   11 15:21:27    -2345.682976        0.093329\n",
      "FIRE:   12 15:21:28    -2345.686226        0.112596\n",
      "FIRE:   13 15:21:29    -2345.691101        0.148431\n",
      "FIRE:   14 15:21:30    -2345.697398        0.129554\n",
      "FIRE:   15 15:21:31    -2345.703695        0.234234\n",
      "FIRE:   16 15:21:32    -2345.710196        0.367256\n",
      "FIRE:   17 15:21:33    -2345.714258        0.080097\n",
      "FIRE:   18 15:21:34    -2345.713446        0.254644\n",
      "FIRE:   19 15:21:35    -2345.714461        0.213113\n",
      "FIRE:   20 15:21:36    -2345.715477        0.126910\n",
      "FIRE:   21 15:21:37    -2345.716696        0.074499\n",
      "FIRE:   22 15:21:38    -2345.716899        0.135609\n",
      "FIRE:   23 15:21:39    -2345.716899        0.126809\n",
      "FIRE:   24 15:21:40    -2345.717102        0.108861\n",
      "FIRE:   25 15:21:41    -2345.717102        0.082223\n",
      "FIRE:   26 15:21:42    -2345.716899        0.072872\n",
      "FIRE:   27 15:21:43    -2345.716899        0.072687\n",
      "FIRE:   28 15:21:44    -2345.716696        0.072438\n",
      "FIRE:   29 15:21:45    -2345.717508        0.072174\n",
      "FIRE:   30 15:21:46    -2345.717508        0.071858\n",
      "FIRE:   31 15:21:47    -2345.718321        0.072387\n",
      "FIRE:   32 15:21:48    -2345.718524        0.070888\n",
      "FIRE:   33 15:21:49    -2345.719133        0.070335\n",
      "FIRE:   34 15:21:50    -2345.719337        0.069861\n",
      "FIRE:   35 15:21:51    -2345.720352        0.069821\n",
      "FIRE:   36 15:21:52    -2345.721165        0.070162\n",
      "FIRE:   37 15:21:53    -2345.721571        0.070351\n",
      "FIRE:   38 15:21:54    -2345.723602        0.071078\n",
      "FIRE:   39 15:21:55    -2345.724415        0.071425\n",
      "FIRE:   40 15:21:56    -2345.725837        0.070921\n",
      "FIRE:   41 15:21:57    -2345.728477        0.061485\n",
      "FIRE:   42 15:21:58    -2345.730306        0.057441\n",
      "FIRE:   43 15:21:59    -2345.732540        0.055345\n",
      "FIRE:   44 15:22:00    -2345.734978        0.048707\n"
     ]
    }
   ],
   "source": [
    "# Convert back, assign calculator + constraint\n",
    "structure_1 = AseAtomsAdaptor.get_atoms(result1[\"final_structure\"])\n",
    "structure_1.set_calculator(calc)\n",
    "structure_1.set_constraint(FixAtoms(mask=freeze_mask))\n",
    "\n",
    "# Stage 2: FIRE\n",
    "opt2 = StructOptimizer(model=calc, optimizer_class=\"FIRE\", use_device=\"cuda\")\n",
    "result2 = opt2.relax(structure_1, fmax=0.05, steps=400, relax_cell=False, verbose=True)"
   ]
  },
  {
   "cell_type": "code",
   "execution_count": 8,
   "id": "02e25f8e",
   "metadata": {},
   "outputs": [
    {
     "name": "stdout",
     "output_type": "stream",
     "text": [
      "✅ Final structure saved successfully.\n"
     ]
    }
   ],
   "source": [
    "from pymatgen.io.ase import AseAtomsAdaptor\n",
    "from ase.io import write\n",
    "\n",
    "# Extract final structure from result3 (FIRE)\n",
    "final_structure_pmg = result2[\"final_structure\"]  # assuming result2 = FIRE\n",
    "final_structure_ase = AseAtomsAdaptor.get_atoms(final_structure_pmg)\n",
    "\n",
    "# Save as CIF and ASE trajectory\n",
    "write(f\"relaxed_{structure_name}.cif\", final_structure_ase)\n",
    "write(f\"relaxed_{structure_name}.traj\", final_structure_ase)\n",
    "\n",
    "print(\"✅ Final structure saved successfully.\")"
   ]
  },
  {
   "cell_type": "code",
   "execution_count": 10,
   "id": "179da561",
   "metadata": {},
   "outputs": [
    {
     "name": "stdout",
     "output_type": "stream",
     "text": [
      "Li slab thickness: 22.92 Å\n",
      "Lowest Li slab atom: 34.52 Å\n",
      "LLZO top z: 34.27 Å\n",
      "Li penetration into LLZO: -0.25 Å\n"
     ]
    },
    {
     "name": "stderr",
     "output_type": "stream",
     "text": [
      "/home/mehuldarak/anaconda3/envs/mace/lib/python3.13/site-packages/pymatgen/io/cif.py:1290: UserWarning: Issues encountered while parsing CIF: 1 fractional coordinates rounded to ideal values to avoid issues with finite precision.\n",
      "  warnings.warn(\"Issues encountered while parsing CIF: \" + \"\\n\".join(self.warnings))\n"
     ]
    }
   ],
   "source": [
    "from pymatgen.core import Structure\n",
    "import numpy as np\n",
    "\n",
    "s = Structure.from_file(f\"/home/mehuldarak/summer/relax_final/{structure_name}/relaxed_{structure_name}.cif\")\n",
    "\n",
    "# Get all atoms\n",
    "z_coords = np.array([site.z for site in s.sites])\n",
    "species = np.array([site.species_string for site in s.sites])\n",
    "\n",
    "# Estimate LLZO top (non-Li atoms)\n",
    "llzo_z = z_coords[species != \"Li\"]\n",
    "llzo_top = llzo_z.max()\n",
    "\n",
    "# Now isolate Li slab: Li atoms ABOVE LLZO\n",
    "li_slab_z = np.array([site.z for site in s.sites if site.species_string == \"Li\" and site.z > llzo_top])\n",
    "\n",
    "print(f\"Li slab thickness: {li_slab_z.ptp():.2f} Å\")\n",
    "print(f\"Lowest Li slab atom: {li_slab_z.min():.2f} Å\")\n",
    "print(f\"LLZO top z: {llzo_top:.2f} Å\")\n",
    "print(f\"Li penetration into LLZO: {llzo_top - li_slab_z.min():.2f} Å\")\n"
   ]
  },
  {
   "cell_type": "code",
   "execution_count": 11,
   "id": "5d3853c1",
   "metadata": {},
   "outputs": [
    {
     "name": "stdout",
     "output_type": "stream",
     "text": [
      "             Step     Time          Energy          fmax\n",
      "SciPyFminCG:    0 15:35:43    -2345.735790        3.950539\n",
      "SciPyFminCG:    1 15:35:48    -2474.883860        8.111647\n",
      "SciPyFminCG:    2 15:35:49    -2558.822325        2.911888\n",
      "SciPyFminCG:    3 15:35:53    -2613.583225        5.159949\n",
      "SciPyFminCG:    4 15:35:54    -2619.583560        3.664029\n",
      "SciPyFminCG:    5 15:35:56    -2627.729382        1.541832\n",
      "SciPyFminCG:    6 15:35:59    -2631.814785        2.341406\n",
      "SciPyFminCG:    7 15:36:01    -2634.946074        1.323859\n",
      "SciPyFminCG:    8 15:36:03    -2637.082623        2.634157\n",
      "SciPyFminCG:    9 15:36:05    -2641.133698        1.479460\n",
      "SciPyFminCG:   10 15:36:07    -2643.614963        2.093117\n",
      "SciPyFminCG:   11 15:36:09    -2646.468976        2.807217\n",
      "SciPyFminCG:   12 15:36:10    -2656.332893        3.523578\n",
      "SciPyFminCG:   13 15:36:12    -2661.397802        1.569464\n",
      "SciPyFminCG:   14 15:36:14    -2665.597366        1.712444\n",
      "SciPyFminCG:   15 15:36:16    -2670.519676        2.570781\n",
      "SciPyFminCG:   16 15:36:18    -2674.480966        1.423351\n",
      "SciPyFminCG:   17 15:36:20    -2675.714996        1.456158\n",
      "SciPyFminCG:   18 15:36:22    -2678.097133        1.295585\n",
      "SciPyFminCG:   19 15:36:24    -2679.412416        1.001823\n",
      "SciPyFminCG:   20 15:36:26    -2680.434174        0.964300\n",
      "SciPyFminCG:   21 15:36:28    -2681.696846        1.011447\n",
      "SciPyFminCG:   22 15:36:30    -2683.405395        1.044762\n",
      "SciPyFminCG:   23 15:36:31    -2685.422502        1.416879\n",
      "SciPyFminCG:   24 15:36:33    -2688.027271        1.012772\n",
      "SciPyFminCG:   25 15:36:35    -2690.571711        1.429449\n",
      "SciPyFminCG:   26 15:36:37    -2692.606896        1.070370\n",
      "SciPyFminCG:   27 15:36:39    -2694.356275        1.113111\n",
      "SciPyFminCG:   28 15:36:41    -2696.516184        2.015957\n",
      "SciPyFminCG:   29 15:36:43    -2698.885117        1.338651\n",
      "SciPyFminCG:   30 15:36:45    -2701.327786        1.283788\n",
      "SciPyFminCG:   31 15:36:47    -2704.187894        2.238768\n",
      "SciPyFminCG:   32 15:36:49    -2706.372179        1.283316\n",
      "SciPyFminCG:   33 15:36:51    -2708.228405        1.351426\n",
      "SciPyFminCG:   34 15:36:53    -2710.020441        1.761969\n",
      "SciPyFminCG:   35 15:36:54    -2712.081425        1.191719\n",
      "SciPyFminCG:   36 15:36:56    -2713.819834        1.191115\n",
      "SciPyFminCG:   37 15:36:58    -2715.775798        1.123352\n",
      "SciPyFminCG:   38 15:37:00    -2717.878017        1.292752\n",
      "SciPyFminCG:   39 15:37:02    -2719.971096        1.810050\n",
      "SciPyFminCG:   40 15:37:04    -2722.179960        1.331146\n",
      "SciPyFminCG:   41 15:37:05    -2724.493641        1.404797\n",
      "SciPyFminCG:   42 15:37:07    -2726.500388        1.182353\n",
      "SciPyFminCG:   43 15:37:09    -2728.382818        2.637686\n",
      "SciPyFminCG:   44 15:37:11    -2730.445833        2.326069\n",
      "SciPyFminCG:   45 15:37:13    -2732.871440        1.629682\n",
      "SciPyFminCG:   46 15:37:15    -2735.450209        1.977783\n",
      "SciPyFminCG:   47 15:37:16    -2738.058635        1.721677\n",
      "SciPyFminCG:   48 15:37:18    -2740.722110        1.390030\n",
      "SciPyFminCG:   49 15:37:20    -2743.406914        1.741153\n",
      "SciPyFminCG:   50 15:37:22    -2746.034841        1.340989\n",
      "SciPyFminCG:   51 15:37:24    -2749.327824        1.854637\n",
      "SciPyFminCG:   52 15:37:26    -2752.688856        2.207794\n",
      "SciPyFminCG:   53 15:37:27    -2756.449654        2.291404\n",
      "SciPyFminCG:   54 15:37:29    -2760.218170        1.819324\n",
      "SciPyFminCG:   55 15:37:31    -2763.828243        2.090985\n",
      "SciPyFminCG:   56 15:37:33    -2766.772854        1.295749\n",
      "SciPyFminCG:   57 15:37:34    -2769.514332        1.555177\n",
      "SciPyFminCG:   58 15:37:36    -2772.290749        1.535086\n",
      "SciPyFminCG:   59 15:37:38    -2774.742153        1.220655\n",
      "SciPyFminCG:   60 15:37:40    -2776.857983        1.084013\n",
      "SciPyFminCG:   61 15:37:41    -2778.691661        1.326080\n",
      "SciPyFminCG:   62 15:37:43    -2780.228359        1.420842\n",
      "SciPyFminCG:   63 15:37:45    -2781.716103        1.453707\n",
      "SciPyFminCG:   64 15:37:47    -2783.072216        0.964223\n",
      "SciPyFminCG:   65 15:37:48    -2784.371859        1.149280\n",
      "SciPyFminCG:   66 15:37:50    -2785.428555        1.266536\n",
      "SciPyFminCG:   67 15:37:52    -2786.544159        0.993985\n",
      "SciPyFminCG:   68 15:37:53    -2787.652857        1.000872\n",
      "SciPyFminCG:   69 15:37:55    -2788.818432        1.092168\n",
      "SciPyFminCG:   70 15:37:57    -2789.962069        1.046394\n",
      "SciPyFminCG:   71 15:37:59    -2791.092502        1.111267\n",
      "SciPyFminCG:   72 15:38:00    -2792.284281        1.094744\n",
      "SciPyFminCG:   73 15:38:02    -2793.333258        1.506012\n",
      "SciPyFminCG:   74 15:38:04    -2794.545553        1.238373\n",
      "SciPyFminCG:   75 15:38:05    -2795.677814        0.992256\n",
      "SciPyFminCG:   76 15:38:07    -2796.994926        1.080695\n",
      "SciPyFminCG:   77 15:38:09    -2798.232410        1.143140\n",
      "SciPyFminCG:   78 15:38:11    -2799.744327        1.350794\n",
      "SciPyFminCG:   79 15:38:12    -2801.064486        1.398913\n",
      "SciPyFminCG:   80 15:38:14    -2802.336908        0.997225\n",
      "SciPyFminCG:   81 15:38:15    -2803.520359        1.290939\n",
      "SciPyFminCG:   82 15:38:17    -2804.868753        1.008830\n",
      "SciPyFminCG:   83 15:38:19    -2806.068048        1.344491\n",
      "SciPyFminCG:   84 15:38:21    -2807.282375        1.057750\n",
      "SciPyFminCG:   85 15:38:22    -2808.450388        0.924871\n",
      "SciPyFminCG:   86 15:38:24    -2809.572493        1.092443\n",
      "SciPyFminCG:   87 15:38:26    -2810.702723        1.289743\n",
      "SciPyFminCG:   88 15:38:27    -2811.852047        1.038396\n",
      "SciPyFminCG:   89 15:38:29    -2813.071249        1.013547\n",
      "SciPyFminCG:   90 15:38:31    -2814.228699        1.221509\n",
      "SciPyFminCG:   91 15:38:32    -2815.256144        1.101721\n",
      "SciPyFminCG:   92 15:38:34    -2816.066846        1.011839\n",
      "SciPyFminCG:   93 15:38:35    -2816.934425        0.918298\n",
      "SciPyFminCG:   94 15:38:37    -2817.959636        1.295923\n",
      "SciPyFminCG:   95 15:38:39    -2818.952548        0.941091\n",
      "SciPyFminCG:   96 15:38:40    -2820.031995        1.091549\n",
      "SciPyFminCG:   97 15:38:42    -2821.372670        1.085184\n",
      "SciPyFminCG:   98 15:38:44    -2822.758644        1.319821\n",
      "SciPyFminCG:   99 15:38:45    -2824.157009        1.340325\n",
      "SciPyFminCG:  100 15:38:47    -2825.871855        1.487697\n",
      "SciPyFminCG:  101 15:38:48    -2827.672829        1.019011\n",
      "SciPyFminCG:  102 15:38:50    -2829.220293        0.929517\n",
      "SciPyFminCG:  103 15:38:52    -2830.790915        1.455419\n",
      "SciPyFminCG:  104 15:38:53    -2832.720675        1.254107\n",
      "SciPyFminCG:  105 15:38:55    -2834.309578        0.876812\n",
      "SciPyFminCG:  106 15:38:56    -2835.547671        1.064866\n",
      "SciPyFminCG:  107 15:38:58    -2836.782515        0.812767\n",
      "SciPyFminCG:  108 15:39:00    -2837.671423        0.895367\n",
      "SciPyFminCG:  109 15:39:01    -2838.552409        0.834231\n",
      "SciPyFminCG:  110 15:39:03    -2839.437661        0.942794\n",
      "SciPyFminCG:  111 15:39:04    -2840.168532        0.756584\n",
      "SciPyFminCG:  112 15:39:06    -2841.094411        1.110086\n",
      "SciPyFminCG:  113 15:39:07    -2842.020696        0.835134\n",
      "SciPyFminCG:  114 15:39:09    -2842.928495        0.946454\n",
      "SciPyFminCG:  115 15:39:11    -2843.866562        1.249615\n",
      "SciPyFminCG:  116 15:39:12    -2844.874709        0.890823\n",
      "SciPyFminCG:  117 15:39:14    -2845.873512        1.073944\n",
      "SciPyFminCG:  118 15:39:15    -2846.843471        1.301398\n",
      "SciPyFminCG:  119 15:39:17    -2847.819726        1.609682\n",
      "SciPyFminCG:  120 15:39:18    -2848.678977        1.374835\n",
      "SciPyFminCG:  121 15:39:20    -2849.615418        1.361330\n",
      "SciPyFminCG:  122 15:39:22    -2850.564860        1.450782\n",
      "SciPyFminCG:  123 15:39:23    -2851.513083        1.150071\n",
      "SciPyFminCG:  124 15:39:24    -2852.169811        1.012159\n",
      "SciPyFminCG:  125 15:39:26    -2852.963247        1.074863\n",
      "SciPyFminCG:  126 15:39:28    -2853.842812        1.040506\n",
      "SciPyFminCG:  127 15:39:29    -2854.540775        0.892067\n",
      "SciPyFminCG:  128 15:39:31    -2855.171502        0.969285\n",
      "SciPyFminCG:  129 15:39:32    -2855.735601        0.953184\n",
      "SciPyFminCG:  130 15:39:34    -2856.438440        0.894827\n",
      "SciPyFminCG:  131 15:39:35    -2857.231470        1.020629\n",
      "SciPyFminCG:  132 15:39:37    -2857.988139        1.522771\n",
      "SciPyFminCG:  133 15:39:38    -2858.758012        1.088290\n",
      "SciPyFminCG:  134 15:39:40    -2859.463085        0.903474\n",
      "SciPyFminCG:  135 15:39:41    -2860.316648        0.925422\n",
      "SciPyFminCG:  136 15:39:43    -2861.308545        1.282733\n",
      "SciPyFminCG:  137 15:39:44    -2862.155202        0.860334\n",
      "SciPyFminCG:  138 15:39:46    -2862.857025        1.323573\n",
      "SciPyFminCG:  139 15:39:47    -2863.745121        2.112379\n",
      "SciPyFminCG:  140 15:39:49    -2864.813802        0.841643\n",
      "SciPyFminCG:  141 15:39:50    -2865.678131        1.287388\n",
      "SciPyFminCG:  142 15:39:52    -2866.560946        1.840712\n",
      "SciPyFminCG:  143 15:39:53    -2867.376117        1.464527\n",
      "SciPyFminCG:  144 15:39:55    -2868.174225        1.241295\n",
      "SciPyFminCG:  145 15:39:56    -2869.117167        0.935590\n",
      "SciPyFminCG:  146 15:39:58    -2869.726971        2.127082\n",
      "SciPyFminCG:  147 15:39:59    -2870.203520        0.710905\n",
      "SciPyFminCG:  148 15:40:00    -2870.658334        0.970775\n",
      "SciPyFminCG:  149 15:40:02    -2871.087959        1.088034\n",
      "SciPyFminCG:  150 15:40:04    -2871.532007        0.806513\n",
      "SciPyFminCG:  151 15:40:05    -2871.935632        0.928378\n",
      "SciPyFminCG:  152 15:40:06    -2872.307974        0.708441\n",
      "SciPyFminCG:  153 15:40:08    -2872.667315        0.894233\n",
      "SciPyFminCG:  154 15:40:09    -2873.047377        0.853716\n",
      "SciPyFminCG:  155 15:40:11    -2873.368732        1.119626\n",
      "SciPyFminCG:  156 15:40:13    -2873.722589        0.803655\n",
      "SciPyFminCG:  157 15:40:14    -2874.187357        0.816940\n",
      "SciPyFminCG:  158 15:40:16    -2874.681376        1.081071\n",
      "SciPyFminCG:  159 15:40:17    -2875.119533        1.424774\n",
      "SciPyFminCG:  160 15:40:19    -2875.545095        1.220446\n",
      "SciPyFminCG:  161 15:40:20    -2876.193698        1.226909\n",
      "SciPyFminCG:  162 15:40:22    -2876.694217        0.997605\n",
      "SciPyFminCG:  163 15:40:23    -2877.084231        0.756760\n",
      "SciPyFminCG:  164 15:40:24    -2877.412697        0.849469\n",
      "SciPyFminCG:  165 15:40:26    -2877.655847        0.736436\n",
      "SciPyFminCG:  166 15:40:27    -2877.904887        0.718488\n",
      "SciPyFminCG:  167 15:40:29    -2878.177694        0.883622\n",
      "SciPyFminCG:  168 15:40:30    -2878.478331        0.976432\n",
      "SciPyFminCG:  169 15:40:31    -2878.799280        1.028812\n",
      "SciPyFminCG:  170 15:40:33    -2879.288627        1.238352\n",
      "SciPyFminCG:  171 15:40:34    -2879.656297        1.300592\n",
      "SciPyFminCG:  172 15:40:36    -2879.994309        0.939758\n",
      "SciPyFminCG:  173 15:40:37    -2880.467405        1.209065\n",
      "SciPyFminCG:  174 15:40:39    -2880.730056        0.920840\n",
      "SciPyFminCG:  175 15:40:40    -2881.018707        0.989973\n",
      "SciPyFminCG:  176 15:40:42    -2881.309796        1.020256\n",
      "SciPyFminCG:  177 15:40:43    -2881.557415        0.692908\n",
      "SciPyFminCG:  178 15:40:44    -2881.846473        0.759820\n",
      "SciPyFminCG:  179 15:40:46    -2882.120296        0.787598\n",
      "SciPyFminCG:  180 15:40:47    -2882.484106        0.889584\n",
      "SciPyFminCG:  181 15:40:48    -2882.789008        0.736304\n",
      "SciPyFminCG:  182 15:40:50    -2883.124583        0.788693\n",
      "SciPyFminCG:  183 15:40:51    -2883.499769        1.046842\n",
      "SciPyFminCG:  184 15:40:53    -2884.004351        1.207423\n",
      "SciPyFminCG:  185 15:40:54    -2884.649500        1.080107\n",
      "SciPyFminCG:  186 15:40:55    -2885.450249        1.454265\n",
      "SciPyFminCG:  187 15:40:57    -2886.250794        1.639678\n",
      "SciPyFminCG:  188 15:40:58    -2887.227862        1.717337\n",
      "SciPyFminCG:  189 15:40:59    -2888.060503        1.251309\n",
      "SciPyFminCG:  190 15:41:01    -2888.941692        1.024374\n",
      "SciPyFminCG:  191 15:41:02    -2889.758895        1.326293\n",
      "SciPyFminCG:  192 15:41:04    -2890.455437        1.282011\n",
      "SciPyFminCG:  193 15:41:05    -2891.307172        1.156710\n",
      "SciPyFminCG:  194 15:41:06    -2892.211315        1.180271\n",
      "SciPyFminCG:  195 15:41:08    -2893.076051        1.317313\n",
      "SciPyFminCG:  196 15:41:09    -2893.883503        0.984610\n",
      "SciPyFminCG:  197 15:41:10    -2894.763474        1.272956\n",
      "SciPyFminCG:  198 15:41:12    -2895.696055        1.493315\n",
      "SciPyFminCG:  199 15:41:13    -2896.686124        1.356935\n",
      "SciPyFminCG:  200 15:41:14    -2897.567719        1.129796\n",
      "SciPyFminCG:  201 15:41:16    -2898.409704        1.114057\n",
      "SciPyFminCG:  202 15:41:17    -2899.312832        1.106468\n",
      "SciPyFminCG:  203 15:41:18    -2899.996983        0.890787\n",
      "SciPyFminCG:  204 15:41:20    -2900.703275        0.795927\n",
      "SciPyFminCG:  205 15:41:21    -2901.428255        0.870698\n",
      "SciPyFminCG:  206 15:41:22    -2901.974479        0.852348\n",
      "SciPyFminCG:  207 15:41:24    -2902.504045        1.194226\n",
      "SciPyFminCG:  208 15:41:25    -2902.998877        0.806808\n",
      "SciPyFminCG:  209 15:41:26    -2903.523365        1.005366\n",
      "SciPyFminCG:  210 15:41:28    -2904.145357        0.861676\n",
      "SciPyFminCG:  211 15:41:29    -2904.616625        1.139220\n",
      "SciPyFminCG:  212 15:41:30    -2905.036703        0.749563\n",
      "SciPyFminCG:  213 15:41:31    -2905.512440        0.875881\n",
      "SciPyFminCG:  214 15:41:33    -2905.972738        0.823921\n",
      "SciPyFminCG:  215 15:41:34    -2906.468382        0.909879\n",
      "SciPyFminCG:  216 15:41:35    -2906.917914        1.249167\n",
      "SciPyFminCG:  217 15:41:37    -2907.424730        1.102231\n",
      "SciPyFminCG:  218 15:41:38    -2907.822058        0.825050\n",
      "SciPyFminCG:  219 15:41:39    -2908.193384        0.951623\n",
      "SciPyFminCG:  220 15:41:41    -2908.682528        1.333084\n",
      "SciPyFminCG:  221 15:41:42    -2909.264706        1.791617\n",
      "SciPyFminCG:  222 15:41:43    -2909.776600        1.334463\n",
      "SciPyFminCG:  223 15:41:44    -2910.337449        1.837368\n",
      "SciPyFminCG:  224 15:41:46    -2911.121541        1.463585\n",
      "SciPyFminCG:  225 15:41:47    -2912.016137        1.212322\n",
      "SciPyFminCG:  226 15:41:48    -2912.674287        1.305837\n",
      "SciPyFminCG:  227 15:41:50    -2913.336093        0.906541\n",
      "SciPyFminCG:  228 15:41:51    -2914.059448        1.042822\n",
      "SciPyFminCG:  229 15:41:52    -2914.661127        1.582187\n",
      "SciPyFminCG:  230 15:41:53    -2915.303432        1.180559\n",
      "SciPyFminCG:  231 15:41:54    -2915.969911        0.845947\n",
      "SciPyFminCG:  232 15:41:56    -2916.577887        1.059643\n",
      "SciPyFminCG:  233 15:41:57    -2917.151330        0.855972\n",
      "SciPyFminCG:  234 15:41:58    -2917.732086        0.930248\n",
      "SciPyFminCG:  235 15:42:00    -2918.219401        0.848366\n",
      "SciPyFminCG:  236 15:42:01    -2918.774766        1.225230\n",
      "SciPyFminCG:  237 15:42:02    -2919.606797        1.666076\n",
      "SciPyFminCG:  238 15:42:03    -2920.485143        1.046593\n",
      "SciPyFminCG:  239 15:42:04    -2921.448601        1.428289\n",
      "SciPyFminCG:  240 15:42:06    -2922.635505        1.033958\n",
      "SciPyFminCG:  241 15:42:07    -2923.833581        1.656318\n",
      "SciPyFminCG:  242 15:42:08    -2924.798664        1.810234\n",
      "SciPyFminCG:  243 15:42:09    -2925.896596        1.164538\n",
      "SciPyFminCG:  244 15:42:11    -2926.757675        1.436117\n",
      "SciPyFminCG:  245 15:42:12    -2927.707117        1.610724\n",
      "SciPyFminCG:  246 15:42:13    -2928.826784        1.204475\n",
      "SciPyFminCG:  247 15:42:14    -2929.673035        1.040305\n",
      "SciPyFminCG:  248 15:42:15    -2930.401875        1.107556\n",
      "SciPyFminCG:  249 15:42:17    -2931.241015        1.319192\n",
      "SciPyFminCG:  250 15:42:18    -2931.979403        1.111150\n",
      "SciPyFminCG:  251 15:42:19    -2932.844341        1.149958\n",
      "SciPyFminCG:  252 15:42:20    -2933.730406        1.267852\n",
      "SciPyFminCG:  253 15:42:21    -2934.699348        1.287653\n",
      "SciPyFminCG:  254 15:42:23    -2935.834250        1.050933\n",
      "SciPyFminCG:  255 15:42:24    -2936.897650        0.999062\n",
      "SciPyFminCG:  256 15:42:25    -2937.877358        1.093220\n",
      "SciPyFminCG:  257 15:42:26    -2938.815628        1.246251\n",
      "SciPyFminCG:  258 15:42:27    -2939.702911        1.442425\n",
      "SciPyFminCG:  259 15:42:28    -2940.629399        1.193366\n",
      "SciPyFminCG:  260 15:42:29    -2941.632265        1.545283\n",
      "SciPyFminCG:  261 15:42:31    -2942.463890        1.475372\n",
      "SciPyFminCG:  262 15:42:32    -2943.411504        1.889166\n",
      "SciPyFminCG:  263 15:42:33    -2944.810275        1.984277\n",
      "SciPyFminCG:  264 15:42:34    -2946.277705        1.172655\n",
      "SciPyFminCG:  265 15:42:35    -2947.342323        1.495830\n",
      "SciPyFminCG:  266 15:42:37    -2948.408973        1.676475\n",
      "SciPyFminCG:  267 15:42:38    -2949.569469        1.209188\n",
      "SciPyFminCG:  268 15:42:39    -2950.591633        2.272942\n",
      "SciPyFminCG:  269 15:42:40    -2951.904682        1.538708\n",
      "SciPyFminCG:  270 15:42:41    -2953.397098        1.785167\n",
      "SciPyFminCG:  271 15:42:42    -2955.199493        1.675905\n",
      "SciPyFminCG:  272 15:42:43    -2956.964107        1.777211\n",
      "SciPyFminCG:  273 15:42:45    -2958.480898        1.250455\n",
      "SciPyFminCG:  274 15:42:46    -2959.934515        1.233131\n",
      "SciPyFminCG:  275 15:42:47    -2961.384069        1.186532\n",
      "SciPyFminCG:  276 15:42:48    -2962.629272        1.376724\n",
      "SciPyFminCG:  277 15:42:49    -2964.002246        1.209323\n",
      "SciPyFminCG:  278 15:42:50    -2965.146898        1.356529\n",
      "SciPyFminCG:  279 15:42:51    -2966.464417        0.906955\n",
      "SciPyFminCG:  280 15:42:52    -2967.315136        1.366249\n",
      "SciPyFminCG:  281 15:42:53    -2968.342581        1.232891\n",
      "SciPyFminCG:  282 15:42:54    -2969.274960        1.007599\n",
      "SciPyFminCG:  283 15:42:56    -2970.273356        1.273686\n",
      "SciPyFminCG:  284 15:42:57    -2971.451323        1.415171\n",
      "SciPyFminCG:  285 15:42:58    -2972.348153        1.170769\n",
      "SciPyFminCG:  286 15:42:59    -2973.293532        0.875188\n",
      "SciPyFminCG:  287 15:43:01    -2974.246428        2.677832\n",
      "SciPyFminCG:  288 15:43:02    -2974.921234        1.866868\n",
      "SciPyFminCG:  289 15:43:03    -2976.431119        0.875701\n",
      "SciPyFminCG:  290 15:43:04    -2978.262563        2.183843\n",
      "SciPyFminCG:  291 15:43:06    -2979.158987        1.373722\n",
      "SciPyFminCG:  292 15:43:06    -2979.794183        1.365612\n",
      "SciPyFminCG:  293 15:43:08    -2981.201283        0.994143\n",
      "SciPyFminCG:  294 15:43:09    -2982.590710        0.943874\n",
      "SciPyFminCG:  295 15:43:10    -2983.425179        1.099366\n",
      "SciPyFminCG:  296 15:43:12    -2984.463186        3.443128\n",
      "SciPyFminCG:  297 15:43:13    -2985.040489        1.763403\n",
      "SciPyFminCG:  298 15:43:14    -2985.746578        0.555437\n",
      "SciPyFminCG:  299 15:43:16    -2986.329569        1.457308\n",
      "SciPyFminCG:  300 15:43:17    -2986.650518        1.683047\n",
      "SciPyFminCG:  301 15:43:18    -2987.092941        0.861535\n",
      "SciPyFminCG:  302 15:43:20    -2987.704370        1.093654\n",
      "SciPyFminCG:  303 15:43:20    -2988.218702        0.874613\n",
      "SciPyFminCG:  304 15:43:22    -2988.957699        0.911234\n",
      "SciPyFminCG:  305 15:43:23    -2989.777339        0.485248\n",
      "SciPyFminCG:  306 15:43:24    -2990.130587        0.948009\n",
      "SciPyFminCG:  307 15:43:25    -2990.448489        0.968102\n",
      "SciPyFminCG:  308 15:43:26    -2991.023964        1.704044\n",
      "SciPyFminCG:  309 15:43:28    -2991.894184        1.265301\n",
      "SciPyFminCG:  310 15:43:29    -2992.586460        1.028960\n",
      "SciPyFminCG:  311 15:43:30    -2993.384771        0.551648\n",
      "SciPyFminCG:  312 15:43:31    -2993.911697        1.432213\n",
      "SciPyFminCG:  313 15:43:32    -2994.218225        0.901066\n",
      "SciPyFminCG:  314 15:43:33    -2994.566394        0.971417\n",
      "SciPyFminCG:  315 15:43:34    -2995.071382        1.159043\n",
      "SciPyFminCG:  316 15:43:35    -2995.287108        0.460561\n",
      "SciPyFminCG:  317 15:43:37    -2995.668795        0.998397\n",
      "SciPyFminCG:  318 15:43:38    -2996.082779        1.030755\n",
      "SciPyFminCG:  319 15:43:40    -2996.680395        1.176557\n",
      "SciPyFminCG:  320 15:43:41    -2997.314575        0.937711\n",
      "SciPyFminCG:  321 15:43:42    -2998.165295        1.096006\n",
      "SciPyFminCG:  322 15:43:43    -2998.931308        0.833340\n",
      "SciPyFminCG:  323 15:43:44    -2999.558988        0.577659\n",
      "SciPyFminCG:  324 15:43:46    -3000.102164        0.907640\n",
      "SciPyFminCG:  325 15:43:47    -3000.389191        0.705347\n",
      "SciPyFminCG:  326 15:43:49    -3001.015652        0.887444\n",
      "SciPyFminCG:  327 15:43:50    -3001.708334        0.617243\n",
      "SciPyFminCG:  328 15:43:51    -3002.250292        0.481411\n",
      "SciPyFminCG:  329 15:43:52    -3002.557631        0.328301\n",
      "SciPyFminCG:  330 15:43:53    -3002.815001        0.625857\n",
      "SciPyFminCG:  331 15:43:54    -3003.156060        0.625719\n",
      "SciPyFminCG:  332 15:43:55    -3003.529215        0.750794\n",
      "SciPyFminCG:  333 15:43:56    -3003.834726        0.669314\n",
      "SciPyFminCG:  334 15:43:58    -3004.278977        0.701238\n",
      "SciPyFminCG:  335 15:43:58    -3004.517861        0.579096\n",
      "SciPyFminCG:  336 15:44:00    -3004.870296        0.940728\n",
      "SciPyFminCG:  337 15:44:01    -3005.378941        0.954552\n",
      "SciPyFminCG:  338 15:44:02    -3006.133781        0.520139\n",
      "SciPyFminCG:  339 15:44:03    -3006.536797        0.522388\n",
      "SciPyFminCG:  340 15:44:04    -3006.855512        0.332474\n",
      "SciPyFminCG:  341 15:44:06    -3007.150663        0.804765\n",
      "SciPyFminCG:  342 15:44:07    -3007.537225        0.793972\n",
      "SciPyFminCG:  343 15:44:08    -3008.020680        0.933975\n",
      "SciPyFminCG:  344 15:44:09    -3008.506371        0.546971\n",
      "SciPyFminCG:  345 15:44:10    -3008.898213        0.601670\n",
      "SciPyFminCG:  346 15:44:11    -3009.296556        0.506566\n",
      "SciPyFminCG:  347 15:44:12    -3009.560629        0.557670\n",
      "SciPyFminCG:  348 15:44:13    -3009.858421        0.838195\n",
      "SciPyFminCG:  349 15:44:14    -3010.320345        0.575152\n",
      "SciPyFminCG:  350 15:44:16    -3010.778815        0.682734\n",
      "SciPyFminCG:  351 15:44:16    -3011.192190        0.423441\n",
      "SciPyFminCG:  352 15:44:18    -3011.567986        0.369618\n",
      "SciPyFminCG:  353 15:44:19    -3011.831449        0.984137\n",
      "SciPyFminCG:  354 15:44:20    -3012.107709        0.790092\n",
      "SciPyFminCG:  355 15:44:21    -3012.503818        0.962044\n",
      "SciPyFminCG:  356 15:44:22    -3012.807501        0.537562\n",
      "SciPyFminCG:  357 15:44:23    -3013.124997        0.783613\n",
      "SciPyFminCG:  358 15:44:25    -3013.563764        0.769625\n",
      "SciPyFminCG:  359 15:44:26    -3013.938137        0.681011\n",
      "SciPyFminCG:  360 15:44:27    -3014.363294        0.791933\n",
      "SciPyFminCG:  361 15:44:28    -3014.641992        0.475755\n",
      "SciPyFminCG:  362 15:44:29    -3015.120166        1.188084\n",
      "SciPyFminCG:  363 15:44:30    -3015.673093        0.949006\n",
      "SciPyFminCG:  364 15:44:31    -3016.222973        1.014913\n",
      "SciPyFminCG:  365 15:44:32    -3016.673927        0.610375\n",
      "SciPyFminCG:  366 15:44:33    -3017.106600        0.648109\n",
      "SciPyFminCG:  367 15:44:34    -3017.357265        0.338501\n",
      "SciPyFminCG:  368 15:44:35    -3017.544554        0.309358\n",
      "SciPyFminCG:  369 15:44:36    -3017.670496        0.291093\n",
      "SciPyFminCG:  370 15:44:38    -3017.941475        0.849155\n",
      "SciPyFminCG:  371 15:44:39    -3018.388367        1.104204\n",
      "SciPyFminCG:  372 15:44:40    -3019.050579        1.001048\n",
      "SciPyFminCG:  373 15:44:41    -3019.485283        0.946438\n",
      "SciPyFminCG:  374 15:44:42    -3020.139776        0.822789\n",
      "SciPyFminCG:  375 15:44:43    -3020.517197        0.550543\n",
      "SciPyFminCG:  376 15:44:44    -3020.835302        0.581288\n",
      "SciPyFminCG:  377 15:44:45    -3021.148127        0.724389\n",
      "SciPyFminCG:  378 15:44:46    -3021.479436        1.122690\n",
      "SciPyFminCG:  379 15:44:47    -3021.921046        0.963458\n",
      "SciPyFminCG:  380 15:44:48    -3022.594228        1.850352\n",
      "SciPyFminCG:  381 15:44:49    -3022.950319        0.733373\n",
      "SciPyFminCG:  382 15:44:50    -3023.414477        0.644079\n",
      "SciPyFminCG:  383 15:44:51    -3023.808555        0.962076\n",
      "SciPyFminCG:  384 15:44:52    -3024.104722        0.599765\n",
      "SciPyFminCG:  385 15:44:53    -3024.446797        0.513625\n",
      "SciPyFminCG:  386 15:44:54    -3024.739918        0.376320\n",
      "SciPyFminCG:  387 15:44:55    -3024.947926        0.513697\n",
      "SciPyFminCG:  388 15:44:56    -3025.246531        0.986623\n",
      "SciPyFminCG:  389 15:44:57    -3025.585356        0.952901\n",
      "SciPyFminCG:  390 15:44:58    -3026.200848        1.637886\n",
      "SciPyFminCG:  391 15:44:59    -3026.666021        2.316619\n",
      "SciPyFminCG:  392 15:45:00    -3027.312593        1.099619\n",
      "SciPyFminCG:  393 15:45:01    -3027.779391        1.270636\n",
      "SciPyFminCG:  394 15:45:02    -3028.181797        0.450739\n",
      "SciPyFminCG:  395 15:45:03    -3028.438760        0.499794\n",
      "SciPyFminCG:  396 15:45:04    -3028.619142        0.732667\n",
      "SciPyFminCG:  397 15:45:06    -3028.898855        1.275071\n",
      "SciPyFminCG:  398 15:45:07    -3029.187100        0.716898\n",
      "SciPyFminCG:  399 15:45:08    -3029.420297        0.849369\n",
      "SciPyFminCG:  400 15:45:09    -3029.660806        0.453597\n"
     ]
    }
   ],
   "source": [
    "import os\n",
    "from chgnet.model import StructOptimizer\n",
    "from pymatgen.core import Structure\n",
    "from chgnet.model.dynamics import CHGNetCalculator\n",
    "\n",
    "structure_path = f\"/home/mehuldarak/summer/relax_final/{structure_name}/relaxed_{structure_name}.cif\"\n",
    "structure = Structure.from_file(structure_path)\n",
    "\n",
    "# Output path\n",
    "output_dir = f\"/home/mehuldarak/summer/relax_final\"\n",
    "os.makedirs(output_dir, exist_ok=True)\n",
    "output_path = os.path.join(output_dir, f\"cellrelaxed_{structure_name}.cif\")\n",
    "\n",
    "# Run CHGNet relaxation\n",
    "opt1 = StructOptimizer(model=calc, optimizer_class=\"SciPyFminCG\", use_device=\"cuda\")\n",
    "result = opt1.relax(\n",
    "    structure,\n",
    "    fmax=0.15,           # You can adjust depending on accuracy/speed tradeoff\n",
    "    steps=400,\n",
    "    relax_cell=True,\n",
    "    verbose=True\n",
    ")\n"
   ]
  },
  {
   "cell_type": "code",
   "execution_count": 12,
   "id": "c6d06851",
   "metadata": {},
   "outputs": [
    {
     "name": "stderr",
     "output_type": "stream",
     "text": [
      "/tmp/ipykernel_160058/1077038773.py:3: FutureWarning: Please use atoms.calc = calc\n",
      "  structure_1.set_calculator(calc)\n"
     ]
    },
    {
     "name": "stdout",
     "output_type": "stream",
     "text": [
      "      Step     Time          Energy          fmax\n",
      "FIRE:    0 15:45:09    -3029.660806        0.256613\n",
      "FIRE:    1 15:45:10    -3029.668525        0.256675\n"
     ]
    },
    {
     "name": "stderr",
     "output_type": "stream",
     "text": [
      "/home/mehuldarak/anaconda3/envs/mace/lib/python3.13/site-packages/ase/filters.py:606: RuntimeWarning: logm result may be inaccurate, approximate err = 2.758725453636101e-13\n",
      "  pos[natoms:] = self.logm(pos[natoms:]) * self.exp_cell_factor\n"
     ]
    },
    {
     "name": "stdout",
     "output_type": "stream",
     "text": [
      "FIRE:    2 15:45:10    -3029.682541        0.256795\n"
     ]
    },
    {
     "name": "stderr",
     "output_type": "stream",
     "text": [
      "/home/mehuldarak/anaconda3/envs/mace/lib/python3.13/site-packages/ase/filters.py:606: RuntimeWarning: logm result may be inaccurate, approximate err = 2.69433849204627e-13\n",
      "  pos[natoms:] = self.logm(pos[natoms:]) * self.exp_cell_factor\n"
     ]
    },
    {
     "name": "stdout",
     "output_type": "stream",
     "text": [
      "FIRE:    3 15:45:11    -3029.700620        0.256940\n"
     ]
    },
    {
     "name": "stderr",
     "output_type": "stream",
     "text": [
      "/home/mehuldarak/anaconda3/envs/mace/lib/python3.13/site-packages/ase/filters.py:606: RuntimeWarning: logm result may be inaccurate, approximate err = 2.691547209029514e-13\n",
      "  pos[natoms:] = self.logm(pos[natoms:]) * self.exp_cell_factor\n"
     ]
    },
    {
     "name": "stdout",
     "output_type": "stream",
     "text": [
      "FIRE:    4 15:45:11    -3029.721542        0.257064\n"
     ]
    },
    {
     "name": "stderr",
     "output_type": "stream",
     "text": [
      "/home/mehuldarak/anaconda3/envs/mace/lib/python3.13/site-packages/ase/filters.py:606: RuntimeWarning: logm result may be inaccurate, approximate err = 2.7867191140360305e-13\n",
      "  pos[natoms:] = self.logm(pos[natoms:]) * self.exp_cell_factor\n"
     ]
    },
    {
     "name": "stdout",
     "output_type": "stream",
     "text": [
      "FIRE:    5 15:45:12    -3029.743684        0.257135\n"
     ]
    },
    {
     "name": "stderr",
     "output_type": "stream",
     "text": [
      "/home/mehuldarak/anaconda3/envs/mace/lib/python3.13/site-packages/ase/filters.py:606: RuntimeWarning: logm result may be inaccurate, approximate err = 2.699100996601458e-13\n",
      "  pos[natoms:] = self.logm(pos[natoms:]) * self.exp_cell_factor\n"
     ]
    },
    {
     "name": "stdout",
     "output_type": "stream",
     "text": [
      "FIRE:    6 15:45:12    -3029.766232        0.257130\n"
     ]
    },
    {
     "name": "stderr",
     "output_type": "stream",
     "text": [
      "/home/mehuldarak/anaconda3/envs/mace/lib/python3.13/site-packages/ase/filters.py:606: RuntimeWarning: logm result may be inaccurate, approximate err = 2.70405402690998e-13\n",
      "  pos[natoms:] = self.logm(pos[natoms:]) * self.exp_cell_factor\n"
     ]
    },
    {
     "name": "stdout",
     "output_type": "stream",
     "text": [
      "FIRE:    7 15:45:13    -3029.789389        0.257033\n"
     ]
    },
    {
     "name": "stderr",
     "output_type": "stream",
     "text": [
      "/home/mehuldarak/anaconda3/envs/mace/lib/python3.13/site-packages/ase/filters.py:606: RuntimeWarning: logm result may be inaccurate, approximate err = 2.7692726190965593e-13\n",
      "  pos[natoms:] = self.logm(pos[natoms:]) * self.exp_cell_factor\n"
     ]
    },
    {
     "name": "stdout",
     "output_type": "stream",
     "text": [
      "FIRE:    8 15:45:13    -3029.815187        0.256839\n"
     ]
    },
    {
     "name": "stderr",
     "output_type": "stream",
     "text": [
      "/home/mehuldarak/anaconda3/envs/mace/lib/python3.13/site-packages/ase/filters.py:606: RuntimeWarning: logm result may be inaccurate, approximate err = 2.706279314673719e-13\n",
      "  pos[natoms:] = self.logm(pos[natoms:]) * self.exp_cell_factor\n"
     ]
    },
    {
     "name": "stdout",
     "output_type": "stream",
     "text": [
      "FIRE:    9 15:45:14    -3029.843828        0.256544\n"
     ]
    },
    {
     "name": "stderr",
     "output_type": "stream",
     "text": [
      "/home/mehuldarak/anaconda3/envs/mace/lib/python3.13/site-packages/ase/filters.py:606: RuntimeWarning: logm result may be inaccurate, approximate err = 2.719174997589275e-13\n",
      "  pos[natoms:] = self.logm(pos[natoms:]) * self.exp_cell_factor\n"
     ]
    },
    {
     "name": "stdout",
     "output_type": "stream",
     "text": [
      "FIRE:   10 15:45:14    -3029.873486        0.256164\n"
     ]
    },
    {
     "name": "stderr",
     "output_type": "stream",
     "text": [
      "/home/mehuldarak/anaconda3/envs/mace/lib/python3.13/site-packages/ase/filters.py:606: RuntimeWarning: logm result may be inaccurate, approximate err = 2.78121201826519e-13\n",
      "  pos[natoms:] = self.logm(pos[natoms:]) * self.exp_cell_factor\n"
     ]
    },
    {
     "name": "stdout",
     "output_type": "stream",
     "text": [
      "FIRE:   11 15:45:14    -3029.904971        0.255729\n"
     ]
    },
    {
     "name": "stderr",
     "output_type": "stream",
     "text": [
      "/home/mehuldarak/anaconda3/envs/mace/lib/python3.13/site-packages/ase/filters.py:606: RuntimeWarning: logm result may be inaccurate, approximate err = 2.6992678628234607e-13\n",
      "  pos[natoms:] = self.logm(pos[natoms:]) * self.exp_cell_factor\n"
     ]
    },
    {
     "name": "stdout",
     "output_type": "stream",
     "text": [
      "FIRE:   12 15:45:15    -3029.941129        0.255294\n"
     ]
    },
    {
     "name": "stderr",
     "output_type": "stream",
     "text": [
      "/home/mehuldarak/anaconda3/envs/mace/lib/python3.13/site-packages/ase/filters.py:606: RuntimeWarning: logm result may be inaccurate, approximate err = 2.7890346664147475e-13\n",
      "  pos[natoms:] = self.logm(pos[natoms:]) * self.exp_cell_factor\n"
     ]
    },
    {
     "name": "stdout",
     "output_type": "stream",
     "text": [
      "FIRE:   13 15:45:15    -3029.981755        0.254803\n"
     ]
    },
    {
     "name": "stderr",
     "output_type": "stream",
     "text": [
      "/home/mehuldarak/anaconda3/envs/mace/lib/python3.13/site-packages/ase/filters.py:606: RuntimeWarning: logm result may be inaccurate, approximate err = 2.7502438517788666e-13\n",
      "  pos[natoms:] = self.logm(pos[natoms:]) * self.exp_cell_factor\n"
     ]
    },
    {
     "name": "stdout",
     "output_type": "stream",
     "text": [
      "FIRE:   14 15:45:16    -3030.028882        0.254128\n"
     ]
    },
    {
     "name": "stderr",
     "output_type": "stream",
     "text": [
      "/home/mehuldarak/anaconda3/envs/mace/lib/python3.13/site-packages/ase/filters.py:606: RuntimeWarning: logm result may be inaccurate, approximate err = 2.731414836464852e-13\n",
      "  pos[natoms:] = self.logm(pos[natoms:]) * self.exp_cell_factor\n"
     ]
    },
    {
     "name": "stdout",
     "output_type": "stream",
     "text": [
      "FIRE:   15 15:45:16    -3030.087181        0.253012\n"
     ]
    },
    {
     "name": "stderr",
     "output_type": "stream",
     "text": [
      "/home/mehuldarak/anaconda3/envs/mace/lib/python3.13/site-packages/ase/filters.py:606: RuntimeWarning: logm result may be inaccurate, approximate err = 2.7179572254815954e-13\n",
      "  pos[natoms:] = self.logm(pos[natoms:]) * self.exp_cell_factor\n"
     ]
    },
    {
     "name": "stdout",
     "output_type": "stream",
     "text": [
      "FIRE:   16 15:45:17    -3030.156856        0.251517\n"
     ]
    },
    {
     "name": "stderr",
     "output_type": "stream",
     "text": [
      "/home/mehuldarak/anaconda3/envs/mace/lib/python3.13/site-packages/ase/filters.py:606: RuntimeWarning: logm result may be inaccurate, approximate err = 2.726441063861536e-13\n",
      "  pos[natoms:] = self.logm(pos[natoms:]) * self.exp_cell_factor\n"
     ]
    },
    {
     "name": "stdout",
     "output_type": "stream",
     "text": [
      "FIRE:   17 15:45:18    -3030.228561        0.250224\n"
     ]
    },
    {
     "name": "stderr",
     "output_type": "stream",
     "text": [
      "/home/mehuldarak/anaconda3/envs/mace/lib/python3.13/site-packages/ase/filters.py:606: RuntimeWarning: logm result may be inaccurate, approximate err = 2.741504580971259e-13\n",
      "  pos[natoms:] = self.logm(pos[natoms:]) * self.exp_cell_factor\n"
     ]
    },
    {
     "name": "stdout",
     "output_type": "stream",
     "text": [
      "FIRE:   18 15:45:18    -3030.301486        0.249128\n"
     ]
    },
    {
     "name": "stderr",
     "output_type": "stream",
     "text": [
      "/home/mehuldarak/anaconda3/envs/mace/lib/python3.13/site-packages/ase/filters.py:606: RuntimeWarning: logm result may be inaccurate, approximate err = 2.7960166132857936e-13\n",
      "  pos[natoms:] = self.logm(pos[natoms:]) * self.exp_cell_factor\n"
     ]
    },
    {
     "name": "stdout",
     "output_type": "stream",
     "text": [
      "FIRE:   19 15:45:18    -3030.372786        0.247944\n"
     ]
    },
    {
     "name": "stderr",
     "output_type": "stream",
     "text": [
      "/home/mehuldarak/anaconda3/envs/mace/lib/python3.13/site-packages/ase/filters.py:606: RuntimeWarning: logm result may be inaccurate, approximate err = 2.7962319738507277e-13\n",
      "  pos[natoms:] = self.logm(pos[natoms:]) * self.exp_cell_factor\n"
     ]
    },
    {
     "name": "stdout",
     "output_type": "stream",
     "text": [
      "FIRE:   20 15:45:19    -3030.443679        0.246489\n"
     ]
    },
    {
     "name": "stderr",
     "output_type": "stream",
     "text": [
      "/home/mehuldarak/anaconda3/envs/mace/lib/python3.13/site-packages/ase/filters.py:606: RuntimeWarning: logm result may be inaccurate, approximate err = 2.75042202734657e-13\n",
      "  pos[natoms:] = self.logm(pos[natoms:]) * self.exp_cell_factor\n"
     ]
    },
    {
     "name": "stdout",
     "output_type": "stream",
     "text": [
      "FIRE:   21 15:45:19    -3030.512744        0.244915\n"
     ]
    },
    {
     "name": "stderr",
     "output_type": "stream",
     "text": [
      "/home/mehuldarak/anaconda3/envs/mace/lib/python3.13/site-packages/ase/filters.py:606: RuntimeWarning: logm result may be inaccurate, approximate err = 2.829039348994566e-13\n",
      "  pos[natoms:] = self.logm(pos[natoms:]) * self.exp_cell_factor\n"
     ]
    },
    {
     "name": "stdout",
     "output_type": "stream",
     "text": [
      "FIRE:   22 15:45:20    -3030.581200        0.243412\n"
     ]
    },
    {
     "name": "stderr",
     "output_type": "stream",
     "text": [
      "/home/mehuldarak/anaconda3/envs/mace/lib/python3.13/site-packages/ase/filters.py:606: RuntimeWarning: logm result may be inaccurate, approximate err = 2.9101677428535756e-13\n",
      "  pos[natoms:] = self.logm(pos[natoms:]) * self.exp_cell_factor\n"
     ]
    },
    {
     "name": "stdout",
     "output_type": "stream",
     "text": [
      "FIRE:   23 15:45:20    -3030.648437        0.241944\n"
     ]
    },
    {
     "name": "stderr",
     "output_type": "stream",
     "text": [
      "/home/mehuldarak/anaconda3/envs/mace/lib/python3.13/site-packages/ase/filters.py:606: RuntimeWarning: logm result may be inaccurate, approximate err = 2.765177947082337e-13\n",
      "  pos[natoms:] = self.logm(pos[natoms:]) * self.exp_cell_factor\n"
     ]
    },
    {
     "name": "stdout",
     "output_type": "stream",
     "text": [
      "FIRE:   24 15:45:21    -3030.715673        0.240417\n"
     ]
    },
    {
     "name": "stderr",
     "output_type": "stream",
     "text": [
      "/home/mehuldarak/anaconda3/envs/mace/lib/python3.13/site-packages/ase/filters.py:606: RuntimeWarning: logm result may be inaccurate, approximate err = 2.7818859125831257e-13\n",
      "  pos[natoms:] = self.logm(pos[natoms:]) * self.exp_cell_factor\n"
     ]
    },
    {
     "name": "stdout",
     "output_type": "stream",
     "text": [
      "FIRE:   25 15:45:22    -3030.782504        0.238849\n"
     ]
    },
    {
     "name": "stderr",
     "output_type": "stream",
     "text": [
      "/home/mehuldarak/anaconda3/envs/mace/lib/python3.13/site-packages/ase/filters.py:606: RuntimeWarning: logm result may be inaccurate, approximate err = 2.7697741034551557e-13\n",
      "  pos[natoms:] = self.logm(pos[natoms:]) * self.exp_cell_factor\n"
     ]
    },
    {
     "name": "stdout",
     "output_type": "stream",
     "text": [
      "FIRE:   26 15:45:22    -3030.849132        0.237316\n"
     ]
    },
    {
     "name": "stderr",
     "output_type": "stream",
     "text": [
      "/home/mehuldarak/anaconda3/envs/mace/lib/python3.13/site-packages/ase/filters.py:606: RuntimeWarning: logm result may be inaccurate, approximate err = 2.7982921986957556e-13\n",
      "  pos[natoms:] = self.logm(pos[natoms:]) * self.exp_cell_factor\n"
     ]
    },
    {
     "name": "stdout",
     "output_type": "stream",
     "text": [
      "FIRE:   27 15:45:22    -3030.915556        0.235854\n"
     ]
    },
    {
     "name": "stderr",
     "output_type": "stream",
     "text": [
      "/home/mehuldarak/anaconda3/envs/mace/lib/python3.13/site-packages/ase/filters.py:606: RuntimeWarning: logm result may be inaccurate, approximate err = 2.716136434468934e-13\n",
      "  pos[natoms:] = self.logm(pos[natoms:]) * self.exp_cell_factor\n"
     ]
    },
    {
     "name": "stdout",
     "output_type": "stream",
     "text": [
      "FIRE:   28 15:45:23    -3030.980762        0.234344\n"
     ]
    },
    {
     "name": "stderr",
     "output_type": "stream",
     "text": [
      "/home/mehuldarak/anaconda3/envs/mace/lib/python3.13/site-packages/ase/filters.py:606: RuntimeWarning: logm result may be inaccurate, approximate err = 2.7957826271890283e-13\n",
      "  pos[natoms:] = self.logm(pos[natoms:]) * self.exp_cell_factor\n"
     ]
    },
    {
     "name": "stdout",
     "output_type": "stream",
     "text": [
      "FIRE:   29 15:45:24    -3031.045967        0.232715\n"
     ]
    },
    {
     "name": "stderr",
     "output_type": "stream",
     "text": [
      "/home/mehuldarak/anaconda3/envs/mace/lib/python3.13/site-packages/ase/filters.py:606: RuntimeWarning: logm result may be inaccurate, approximate err = 2.727264416604509e-13\n",
      "  pos[natoms:] = self.logm(pos[natoms:]) * self.exp_cell_factor\n"
     ]
    },
    {
     "name": "stdout",
     "output_type": "stream",
     "text": [
      "FIRE:   30 15:45:24    -3031.110970        0.231043\n"
     ]
    },
    {
     "name": "stderr",
     "output_type": "stream",
     "text": [
      "/home/mehuldarak/anaconda3/envs/mace/lib/python3.13/site-packages/ase/filters.py:606: RuntimeWarning: logm result may be inaccurate, approximate err = 2.7234067633800797e-13\n",
      "  pos[natoms:] = self.logm(pos[natoms:]) * self.exp_cell_factor\n"
     ]
    },
    {
     "name": "stdout",
     "output_type": "stream",
     "text": [
      "FIRE:   31 15:45:24    -3031.175159        0.229421\n"
     ]
    },
    {
     "name": "stderr",
     "output_type": "stream",
     "text": [
      "/home/mehuldarak/anaconda3/envs/mace/lib/python3.13/site-packages/ase/filters.py:606: RuntimeWarning: logm result may be inaccurate, approximate err = 2.7134831941349906e-13\n",
      "  pos[natoms:] = self.logm(pos[natoms:]) * self.exp_cell_factor\n"
     ]
    },
    {
     "name": "stdout",
     "output_type": "stream",
     "text": [
      "FIRE:   32 15:45:25    -3031.239959        0.227849\n"
     ]
    },
    {
     "name": "stderr",
     "output_type": "stream",
     "text": [
      "/home/mehuldarak/anaconda3/envs/mace/lib/python3.13/site-packages/ase/filters.py:606: RuntimeWarning: logm result may be inaccurate, approximate err = 2.8242987292900225e-13\n",
      "  pos[natoms:] = self.logm(pos[natoms:]) * self.exp_cell_factor\n"
     ]
    },
    {
     "name": "stdout",
     "output_type": "stream",
     "text": [
      "FIRE:   33 15:45:26    -3031.303336        0.226276\n"
     ]
    },
    {
     "name": "stderr",
     "output_type": "stream",
     "text": [
      "/home/mehuldarak/anaconda3/envs/mace/lib/python3.13/site-packages/ase/filters.py:606: RuntimeWarning: logm result may be inaccurate, approximate err = 2.7060726371113684e-13\n",
      "  pos[natoms:] = self.logm(pos[natoms:]) * self.exp_cell_factor\n"
     ]
    },
    {
     "name": "stdout",
     "output_type": "stream",
     "text": [
      "FIRE:   34 15:45:26    -3031.366510        0.224719\n"
     ]
    },
    {
     "name": "stderr",
     "output_type": "stream",
     "text": [
      "/home/mehuldarak/anaconda3/envs/mace/lib/python3.13/site-packages/ase/filters.py:606: RuntimeWarning: logm result may be inaccurate, approximate err = 2.778438042584502e-13\n",
      "  pos[natoms:] = self.logm(pos[natoms:]) * self.exp_cell_factor\n"
     ]
    },
    {
     "name": "stdout",
     "output_type": "stream",
     "text": [
      "FIRE:   35 15:45:26    -3031.429278        0.223180\n"
     ]
    },
    {
     "name": "stderr",
     "output_type": "stream",
     "text": [
      "/home/mehuldarak/anaconda3/envs/mace/lib/python3.13/site-packages/ase/filters.py:606: RuntimeWarning: logm result may be inaccurate, approximate err = 2.771492095757367e-13\n",
      "  pos[natoms:] = self.logm(pos[natoms:]) * self.exp_cell_factor\n"
     ]
    },
    {
     "name": "stdout",
     "output_type": "stream",
     "text": [
      "FIRE:   36 15:45:27    -3031.491640        0.221713\n"
     ]
    },
    {
     "name": "stderr",
     "output_type": "stream",
     "text": [
      "/home/mehuldarak/anaconda3/envs/mace/lib/python3.13/site-packages/ase/filters.py:606: RuntimeWarning: logm result may be inaccurate, approximate err = 2.7132966509651e-13\n",
      "  pos[natoms:] = self.logm(pos[natoms:]) * self.exp_cell_factor\n"
     ]
    },
    {
     "name": "stdout",
     "output_type": "stream",
     "text": [
      "FIRE:   37 15:45:28    -3031.553596        0.220298\n"
     ]
    },
    {
     "name": "stderr",
     "output_type": "stream",
     "text": [
      "/home/mehuldarak/anaconda3/envs/mace/lib/python3.13/site-packages/ase/filters.py:606: RuntimeWarning: logm result may be inaccurate, approximate err = 2.7194697654053845e-13\n",
      "  pos[natoms:] = self.logm(pos[natoms:]) * self.exp_cell_factor\n"
     ]
    },
    {
     "name": "stdout",
     "output_type": "stream",
     "text": [
      "FIRE:   38 15:45:28    -3031.615145        0.218898\n"
     ]
    },
    {
     "name": "stderr",
     "output_type": "stream",
     "text": [
      "/home/mehuldarak/anaconda3/envs/mace/lib/python3.13/site-packages/ase/filters.py:606: RuntimeWarning: logm result may be inaccurate, approximate err = 2.761824065791094e-13\n",
      "  pos[natoms:] = self.logm(pos[natoms:]) * self.exp_cell_factor\n"
     ]
    },
    {
     "name": "stdout",
     "output_type": "stream",
     "text": [
      "FIRE:   39 15:45:28    -3031.675678        0.217447\n"
     ]
    },
    {
     "name": "stderr",
     "output_type": "stream",
     "text": [
      "/home/mehuldarak/anaconda3/envs/mace/lib/python3.13/site-packages/ase/filters.py:606: RuntimeWarning: logm result may be inaccurate, approximate err = 2.821405883981813e-13\n",
      "  pos[natoms:] = self.logm(pos[natoms:]) * self.exp_cell_factor\n"
     ]
    },
    {
     "name": "stdout",
     "output_type": "stream",
     "text": [
      "FIRE:   40 15:45:29    -3031.735602        0.215966\n"
     ]
    },
    {
     "name": "stderr",
     "output_type": "stream",
     "text": [
      "/home/mehuldarak/anaconda3/envs/mace/lib/python3.13/site-packages/ase/filters.py:606: RuntimeWarning: logm result may be inaccurate, approximate err = 2.8329532435110997e-13\n",
      "  pos[natoms:] = self.logm(pos[natoms:]) * self.exp_cell_factor\n"
     ]
    },
    {
     "name": "stdout",
     "output_type": "stream",
     "text": [
      "FIRE:   41 15:45:29    -3031.795527        0.214517\n"
     ]
    },
    {
     "name": "stderr",
     "output_type": "stream",
     "text": [
      "/home/mehuldarak/anaconda3/envs/mace/lib/python3.13/site-packages/ase/filters.py:606: RuntimeWarning: logm result may be inaccurate, approximate err = 2.718646631194876e-13\n",
      "  pos[natoms:] = self.logm(pos[natoms:]) * self.exp_cell_factor\n"
     ]
    },
    {
     "name": "stdout",
     "output_type": "stream",
     "text": [
      "FIRE:   42 15:45:30    -3031.855451        0.213095\n"
     ]
    },
    {
     "name": "stderr",
     "output_type": "stream",
     "text": [
      "/home/mehuldarak/anaconda3/envs/mace/lib/python3.13/site-packages/ase/filters.py:606: RuntimeWarning: logm result may be inaccurate, approximate err = 2.6849024748691195e-13\n",
      "  pos[natoms:] = self.logm(pos[natoms:]) * self.exp_cell_factor\n"
     ]
    },
    {
     "name": "stdout",
     "output_type": "stream",
     "text": [
      "FIRE:   43 15:45:30    -3031.914562        0.211690\n"
     ]
    },
    {
     "name": "stderr",
     "output_type": "stream",
     "text": [
      "/home/mehuldarak/anaconda3/envs/mace/lib/python3.13/site-packages/ase/filters.py:606: RuntimeWarning: logm result may be inaccurate, approximate err = 2.766498819067207e-13\n",
      "  pos[natoms:] = self.logm(pos[natoms:]) * self.exp_cell_factor\n"
     ]
    },
    {
     "name": "stdout",
     "output_type": "stream",
     "text": [
      "FIRE:   44 15:45:31    -3031.973674        0.210286\n"
     ]
    },
    {
     "name": "stderr",
     "output_type": "stream",
     "text": [
      "/home/mehuldarak/anaconda3/envs/mace/lib/python3.13/site-packages/ase/filters.py:606: RuntimeWarning: logm result may be inaccurate, approximate err = 2.7393755358173784e-13\n",
      "  pos[natoms:] = self.logm(pos[natoms:]) * self.exp_cell_factor\n"
     ]
    },
    {
     "name": "stdout",
     "output_type": "stream",
     "text": [
      "FIRE:   45 15:45:31    -3032.032989        0.208885\n"
     ]
    },
    {
     "name": "stderr",
     "output_type": "stream",
     "text": [
      "/home/mehuldarak/anaconda3/envs/mace/lib/python3.13/site-packages/ase/filters.py:606: RuntimeWarning: logm result may be inaccurate, approximate err = 2.6870169746566706e-13\n",
      "  pos[natoms:] = self.logm(pos[natoms:]) * self.exp_cell_factor\n"
     ]
    },
    {
     "name": "stdout",
     "output_type": "stream",
     "text": [
      "FIRE:   46 15:45:32    -3032.092303        0.207492\n"
     ]
    },
    {
     "name": "stderr",
     "output_type": "stream",
     "text": [
      "/home/mehuldarak/anaconda3/envs/mace/lib/python3.13/site-packages/ase/filters.py:606: RuntimeWarning: logm result may be inaccurate, approximate err = 2.8796495708791573e-13\n",
      "  pos[natoms:] = self.logm(pos[natoms:]) * self.exp_cell_factor\n"
     ]
    },
    {
     "name": "stdout",
     "output_type": "stream",
     "text": [
      "FIRE:   47 15:45:32    -3032.152634        0.206094\n"
     ]
    },
    {
     "name": "stderr",
     "output_type": "stream",
     "text": [
      "/home/mehuldarak/anaconda3/envs/mace/lib/python3.13/site-packages/ase/filters.py:606: RuntimeWarning: logm result may be inaccurate, approximate err = 2.7285119721063346e-13\n",
      "  pos[natoms:] = self.logm(pos[natoms:]) * self.exp_cell_factor\n"
     ]
    },
    {
     "name": "stdout",
     "output_type": "stream",
     "text": [
      "FIRE:   48 15:45:33    -3032.213573        0.204704\n"
     ]
    },
    {
     "name": "stderr",
     "output_type": "stream",
     "text": [
      "/home/mehuldarak/anaconda3/envs/mace/lib/python3.13/site-packages/ase/filters.py:606: RuntimeWarning: logm result may be inaccurate, approximate err = 2.733834132607165e-13\n",
      "  pos[natoms:] = self.logm(pos[natoms:]) * self.exp_cell_factor\n"
     ]
    },
    {
     "name": "stdout",
     "output_type": "stream",
     "text": [
      "FIRE:   49 15:45:33    -3032.275123        0.203304\n"
     ]
    },
    {
     "name": "stderr",
     "output_type": "stream",
     "text": [
      "/home/mehuldarak/anaconda3/envs/mace/lib/python3.13/site-packages/ase/filters.py:606: RuntimeWarning: logm result may be inaccurate, approximate err = 2.7275513783879747e-13\n",
      "  pos[natoms:] = self.logm(pos[natoms:]) * self.exp_cell_factor\n"
     ]
    },
    {
     "name": "stdout",
     "output_type": "stream",
     "text": [
      "FIRE:   50 15:45:34    -3032.335453        0.201947\n"
     ]
    },
    {
     "name": "stderr",
     "output_type": "stream",
     "text": [
      "/home/mehuldarak/anaconda3/envs/mace/lib/python3.13/site-packages/ase/filters.py:606: RuntimeWarning: logm result may be inaccurate, approximate err = 2.736212931544008e-13\n",
      "  pos[natoms:] = self.logm(pos[natoms:]) * self.exp_cell_factor\n"
     ]
    },
    {
     "name": "stdout",
     "output_type": "stream",
     "text": [
      "FIRE:   51 15:45:34    -3032.395377        0.200654\n"
     ]
    },
    {
     "name": "stderr",
     "output_type": "stream",
     "text": [
      "/home/mehuldarak/anaconda3/envs/mace/lib/python3.13/site-packages/ase/filters.py:606: RuntimeWarning: logm result may be inaccurate, approximate err = 2.760441141953242e-13\n",
      "  pos[natoms:] = self.logm(pos[natoms:]) * self.exp_cell_factor\n"
     ]
    },
    {
     "name": "stdout",
     "output_type": "stream",
     "text": [
      "FIRE:   52 15:45:35    -3032.454692        0.199388\n"
     ]
    },
    {
     "name": "stderr",
     "output_type": "stream",
     "text": [
      "/home/mehuldarak/anaconda3/envs/mace/lib/python3.13/site-packages/ase/filters.py:606: RuntimeWarning: logm result may be inaccurate, approximate err = 2.756584896219653e-13\n",
      "  pos[natoms:] = self.logm(pos[natoms:]) * self.exp_cell_factor\n"
     ]
    },
    {
     "name": "stdout",
     "output_type": "stream",
     "text": [
      "FIRE:   53 15:45:35    -3032.513397        0.198124\n"
     ]
    },
    {
     "name": "stderr",
     "output_type": "stream",
     "text": [
      "/home/mehuldarak/anaconda3/envs/mace/lib/python3.13/site-packages/ase/filters.py:606: RuntimeWarning: logm result may be inaccurate, approximate err = 2.6848536713894565e-13\n",
      "  pos[natoms:] = self.logm(pos[natoms:]) * self.exp_cell_factor\n"
     ]
    },
    {
     "name": "stdout",
     "output_type": "stream",
     "text": [
      "FIRE:   54 15:45:36    -3032.572103        0.196872\n"
     ]
    },
    {
     "name": "stderr",
     "output_type": "stream",
     "text": [
      "/home/mehuldarak/anaconda3/envs/mace/lib/python3.13/site-packages/ase/filters.py:606: RuntimeWarning: logm result may be inaccurate, approximate err = 2.7382823453387946e-13\n",
      "  pos[natoms:] = self.logm(pos[natoms:]) * self.exp_cell_factor\n"
     ]
    },
    {
     "name": "stdout",
     "output_type": "stream",
     "text": [
      "FIRE:   55 15:45:36    -3032.629995        0.195620\n"
     ]
    },
    {
     "name": "stderr",
     "output_type": "stream",
     "text": [
      "/home/mehuldarak/anaconda3/envs/mace/lib/python3.13/site-packages/ase/filters.py:606: RuntimeWarning: logm result may be inaccurate, approximate err = 2.833302576504911e-13\n",
      "  pos[natoms:] = self.logm(pos[natoms:]) * self.exp_cell_factor\n"
     ]
    },
    {
     "name": "stdout",
     "output_type": "stream",
     "text": [
      "FIRE:   56 15:45:37    -3032.686872        0.194363\n"
     ]
    },
    {
     "name": "stderr",
     "output_type": "stream",
     "text": [
      "/home/mehuldarak/anaconda3/envs/mace/lib/python3.13/site-packages/ase/filters.py:606: RuntimeWarning: logm result may be inaccurate, approximate err = 2.768368134325904e-13\n",
      "  pos[natoms:] = self.logm(pos[natoms:]) * self.exp_cell_factor\n"
     ]
    },
    {
     "name": "stdout",
     "output_type": "stream",
     "text": [
      "FIRE:   57 15:45:37    -3032.744562        0.193074\n"
     ]
    },
    {
     "name": "stderr",
     "output_type": "stream",
     "text": [
      "/home/mehuldarak/anaconda3/envs/mace/lib/python3.13/site-packages/ase/filters.py:606: RuntimeWarning: logm result may be inaccurate, approximate err = 2.756776505250672e-13\n",
      "  pos[natoms:] = self.logm(pos[natoms:]) * self.exp_cell_factor\n"
     ]
    },
    {
     "name": "stdout",
     "output_type": "stream",
     "text": [
      "FIRE:   58 15:45:38    -3032.802252        0.191808\n"
     ]
    },
    {
     "name": "stderr",
     "output_type": "stream",
     "text": [
      "/home/mehuldarak/anaconda3/envs/mace/lib/python3.13/site-packages/ase/filters.py:606: RuntimeWarning: logm result may be inaccurate, approximate err = 2.7437584402058723e-13\n",
      "  pos[natoms:] = self.logm(pos[natoms:]) * self.exp_cell_factor\n"
     ]
    },
    {
     "name": "stdout",
     "output_type": "stream",
     "text": [
      "FIRE:   59 15:45:38    -3032.859941        0.190624\n"
     ]
    },
    {
     "name": "stderr",
     "output_type": "stream",
     "text": [
      "/home/mehuldarak/anaconda3/envs/mace/lib/python3.13/site-packages/ase/filters.py:606: RuntimeWarning: logm result may be inaccurate, approximate err = 2.703750919981174e-13\n",
      "  pos[natoms:] = self.logm(pos[natoms:]) * self.exp_cell_factor\n"
     ]
    },
    {
     "name": "stdout",
     "output_type": "stream",
     "text": [
      "FIRE:   60 15:45:39    -3032.916412        0.189434\n"
     ]
    },
    {
     "name": "stderr",
     "output_type": "stream",
     "text": [
      "/home/mehuldarak/anaconda3/envs/mace/lib/python3.13/site-packages/ase/filters.py:606: RuntimeWarning: logm result may be inaccurate, approximate err = 2.7689974530210457e-13\n",
      "  pos[natoms:] = self.logm(pos[natoms:]) * self.exp_cell_factor\n"
     ]
    },
    {
     "name": "stdout",
     "output_type": "stream",
     "text": [
      "FIRE:   61 15:45:39    -3032.970039        0.188250\n"
     ]
    },
    {
     "name": "stderr",
     "output_type": "stream",
     "text": [
      "/home/mehuldarak/anaconda3/envs/mace/lib/python3.13/site-packages/ase/filters.py:606: RuntimeWarning: logm result may be inaccurate, approximate err = 2.6812179367976886e-13\n",
      "  pos[natoms:] = self.logm(pos[natoms:]) * self.exp_cell_factor\n"
     ]
    },
    {
     "name": "stdout",
     "output_type": "stream",
     "text": [
      "FIRE:   62 15:45:40    -3033.022244        0.187023\n"
     ]
    },
    {
     "name": "stderr",
     "output_type": "stream",
     "text": [
      "/home/mehuldarak/anaconda3/envs/mace/lib/python3.13/site-packages/ase/filters.py:606: RuntimeWarning: logm result may be inaccurate, approximate err = 2.73227663681153e-13\n",
      "  pos[natoms:] = self.logm(pos[natoms:]) * self.exp_cell_factor\n"
     ]
    },
    {
     "name": "stdout",
     "output_type": "stream",
     "text": [
      "FIRE:   63 15:45:40    -3033.073637        0.185750\n"
     ]
    },
    {
     "name": "stderr",
     "output_type": "stream",
     "text": [
      "/home/mehuldarak/anaconda3/envs/mace/lib/python3.13/site-packages/ase/filters.py:606: RuntimeWarning: logm result may be inaccurate, approximate err = 2.780537485580921e-13\n",
      "  pos[natoms:] = self.logm(pos[natoms:]) * self.exp_cell_factor\n"
     ]
    },
    {
     "name": "stdout",
     "output_type": "stream",
     "text": [
      "FIRE:   64 15:45:41    -3033.123405        0.184423\n"
     ]
    },
    {
     "name": "stderr",
     "output_type": "stream",
     "text": [
      "/home/mehuldarak/anaconda3/envs/mace/lib/python3.13/site-packages/ase/filters.py:606: RuntimeWarning: logm result may be inaccurate, approximate err = 2.7819000830033386e-13\n",
      "  pos[natoms:] = self.logm(pos[natoms:]) * self.exp_cell_factor\n"
     ]
    },
    {
     "name": "stdout",
     "output_type": "stream",
     "text": [
      "FIRE:   65 15:45:41    -3033.172359        0.183143\n"
     ]
    },
    {
     "name": "stderr",
     "output_type": "stream",
     "text": [
      "/home/mehuldarak/anaconda3/envs/mace/lib/python3.13/site-packages/ase/filters.py:606: RuntimeWarning: logm result may be inaccurate, approximate err = 2.7932042196820207e-13\n",
      "  pos[natoms:] = self.logm(pos[natoms:]) * self.exp_cell_factor\n"
     ]
    },
    {
     "name": "stdout",
     "output_type": "stream",
     "text": [
      "FIRE:   66 15:45:42    -3033.221111        0.181891\n"
     ]
    },
    {
     "name": "stderr",
     "output_type": "stream",
     "text": [
      "/home/mehuldarak/anaconda3/envs/mace/lib/python3.13/site-packages/ase/filters.py:606: RuntimeWarning: logm result may be inaccurate, approximate err = 2.81961056097461e-13\n",
      "  pos[natoms:] = self.logm(pos[natoms:]) * self.exp_cell_factor\n"
     ]
    },
    {
     "name": "stdout",
     "output_type": "stream",
     "text": [
      "FIRE:   67 15:45:42    -3033.269051        0.180674\n"
     ]
    },
    {
     "name": "stderr",
     "output_type": "stream",
     "text": [
      "/home/mehuldarak/anaconda3/envs/mace/lib/python3.13/site-packages/ase/filters.py:606: RuntimeWarning: logm result may be inaccurate, approximate err = 2.6958319520764983e-13\n",
      "  pos[natoms:] = self.logm(pos[natoms:]) * self.exp_cell_factor\n"
     ]
    },
    {
     "name": "stdout",
     "output_type": "stream",
     "text": [
      "FIRE:   68 15:45:43    -3033.315974        0.179449\n"
     ]
    },
    {
     "name": "stderr",
     "output_type": "stream",
     "text": [
      "/home/mehuldarak/anaconda3/envs/mace/lib/python3.13/site-packages/ase/filters.py:606: RuntimeWarning: logm result may be inaccurate, approximate err = 2.7829657764994224e-13\n",
      "  pos[natoms:] = self.logm(pos[natoms:]) * self.exp_cell_factor\n"
     ]
    },
    {
     "name": "stdout",
     "output_type": "stream",
     "text": [
      "FIRE:   69 15:45:43    -3033.362288        0.178181\n"
     ]
    },
    {
     "name": "stderr",
     "output_type": "stream",
     "text": [
      "/home/mehuldarak/anaconda3/envs/mace/lib/python3.13/site-packages/ase/filters.py:606: RuntimeWarning: logm result may be inaccurate, approximate err = 2.751457667744936e-13\n",
      "  pos[natoms:] = self.logm(pos[natoms:]) * self.exp_cell_factor\n"
     ]
    },
    {
     "name": "stdout",
     "output_type": "stream",
     "text": [
      "FIRE:   70 15:45:44    -3033.407790        0.176887\n"
     ]
    },
    {
     "name": "stderr",
     "output_type": "stream",
     "text": [
      "/home/mehuldarak/anaconda3/envs/mace/lib/python3.13/site-packages/ase/filters.py:606: RuntimeWarning: logm result may be inaccurate, approximate err = 2.7504737937055783e-13\n",
      "  pos[natoms:] = self.logm(pos[natoms:]) * self.exp_cell_factor\n"
     ]
    },
    {
     "name": "stdout",
     "output_type": "stream",
     "text": [
      "FIRE:   71 15:45:44    -3033.452479        0.175529\n"
     ]
    },
    {
     "name": "stderr",
     "output_type": "stream",
     "text": [
      "/home/mehuldarak/anaconda3/envs/mace/lib/python3.13/site-packages/ase/filters.py:606: RuntimeWarning: logm result may be inaccurate, approximate err = 2.7315042351556436e-13\n",
      "  pos[natoms:] = self.logm(pos[natoms:]) * self.exp_cell_factor\n"
     ]
    },
    {
     "name": "stdout",
     "output_type": "stream",
     "text": [
      "FIRE:   72 15:45:45    -3033.496559        0.174095\n"
     ]
    },
    {
     "name": "stderr",
     "output_type": "stream",
     "text": [
      "/home/mehuldarak/anaconda3/envs/mace/lib/python3.13/site-packages/ase/filters.py:606: RuntimeWarning: logm result may be inaccurate, approximate err = 2.791813865860232e-13\n",
      "  pos[natoms:] = self.logm(pos[natoms:]) * self.exp_cell_factor\n"
     ]
    },
    {
     "name": "stdout",
     "output_type": "stream",
     "text": [
      "FIRE:   73 15:45:45    -3033.540233        0.172638\n"
     ]
    },
    {
     "name": "stderr",
     "output_type": "stream",
     "text": [
      "/home/mehuldarak/anaconda3/envs/mace/lib/python3.13/site-packages/ase/filters.py:606: RuntimeWarning: logm result may be inaccurate, approximate err = 2.740996829528268e-13\n",
      "  pos[natoms:] = self.logm(pos[natoms:]) * self.exp_cell_factor\n"
     ]
    },
    {
     "name": "stdout",
     "output_type": "stream",
     "text": [
      "FIRE:   74 15:45:46    -3033.583094        0.171171\n"
     ]
    },
    {
     "name": "stderr",
     "output_type": "stream",
     "text": [
      "/home/mehuldarak/anaconda3/envs/mace/lib/python3.13/site-packages/ase/filters.py:606: RuntimeWarning: logm result may be inaccurate, approximate err = 2.750115092306467e-13\n",
      "  pos[natoms:] = self.logm(pos[natoms:]) * self.exp_cell_factor\n"
     ]
    },
    {
     "name": "stdout",
     "output_type": "stream",
     "text": [
      "FIRE:   75 15:45:46    -3033.626361        0.169714\n"
     ]
    },
    {
     "name": "stderr",
     "output_type": "stream",
     "text": [
      "/home/mehuldarak/anaconda3/envs/mace/lib/python3.13/site-packages/ase/filters.py:606: RuntimeWarning: logm result may be inaccurate, approximate err = 2.85113358217518e-13\n",
      "  pos[natoms:] = self.logm(pos[natoms:]) * self.exp_cell_factor\n"
     ]
    },
    {
     "name": "stdout",
     "output_type": "stream",
     "text": [
      "FIRE:   76 15:45:46    -3033.668816        0.168251\n"
     ]
    },
    {
     "name": "stderr",
     "output_type": "stream",
     "text": [
      "/home/mehuldarak/anaconda3/envs/mace/lib/python3.13/site-packages/ase/filters.py:606: RuntimeWarning: logm result may be inaccurate, approximate err = 2.752307753607916e-13\n",
      "  pos[natoms:] = self.logm(pos[natoms:]) * self.exp_cell_factor\n"
     ]
    },
    {
     "name": "stdout",
     "output_type": "stream",
     "text": [
      "FIRE:   77 15:45:47    -3033.711473        0.166788\n"
     ]
    },
    {
     "name": "stderr",
     "output_type": "stream",
     "text": [
      "/home/mehuldarak/anaconda3/envs/mace/lib/python3.13/site-packages/ase/filters.py:606: RuntimeWarning: logm result may be inaccurate, approximate err = 2.811570929121002e-13\n",
      "  pos[natoms:] = self.logm(pos[natoms:]) * self.exp_cell_factor\n"
     ]
    },
    {
     "name": "stdout",
     "output_type": "stream",
     "text": [
      "FIRE:   78 15:45:48    -3033.752913        0.165330\n"
     ]
    },
    {
     "name": "stderr",
     "output_type": "stream",
     "text": [
      "/home/mehuldarak/anaconda3/envs/mace/lib/python3.13/site-packages/ase/filters.py:606: RuntimeWarning: logm result may be inaccurate, approximate err = 2.82877554703224e-13\n",
      "  pos[natoms:] = self.logm(pos[natoms:]) * self.exp_cell_factor\n"
     ]
    },
    {
     "name": "stdout",
     "output_type": "stream",
     "text": [
      "FIRE:   79 15:45:48    -3033.793742        0.163876\n"
     ]
    },
    {
     "name": "stderr",
     "output_type": "stream",
     "text": [
      "/home/mehuldarak/anaconda3/envs/mace/lib/python3.13/site-packages/ase/filters.py:606: RuntimeWarning: logm result may be inaccurate, approximate err = 2.7379122464536584e-13\n",
      "  pos[natoms:] = self.logm(pos[natoms:]) * self.exp_cell_factor\n"
     ]
    },
    {
     "name": "stdout",
     "output_type": "stream",
     "text": [
      "FIRE:   80 15:45:48    -3033.834166        0.162434\n"
     ]
    },
    {
     "name": "stderr",
     "output_type": "stream",
     "text": [
      "/home/mehuldarak/anaconda3/envs/mace/lib/python3.13/site-packages/ase/filters.py:606: RuntimeWarning: logm result may be inaccurate, approximate err = 2.6628926824280727e-13\n",
      "  pos[natoms:] = self.logm(pos[natoms:]) * self.exp_cell_factor\n"
     ]
    },
    {
     "name": "stdout",
     "output_type": "stream",
     "text": [
      "FIRE:   81 15:45:49    -3033.873776        0.161004\n"
     ]
    },
    {
     "name": "stderr",
     "output_type": "stream",
     "text": [
      "/home/mehuldarak/anaconda3/envs/mace/lib/python3.13/site-packages/ase/filters.py:606: RuntimeWarning: logm result may be inaccurate, approximate err = 2.7359187573897165e-13\n",
      "  pos[natoms:] = self.logm(pos[natoms:]) * self.exp_cell_factor\n"
     ]
    },
    {
     "name": "stdout",
     "output_type": "stream",
     "text": [
      "FIRE:   82 15:45:50    -3033.914200        0.159588\n"
     ]
    },
    {
     "name": "stderr",
     "output_type": "stream",
     "text": [
      "/home/mehuldarak/anaconda3/envs/mace/lib/python3.13/site-packages/ase/filters.py:606: RuntimeWarning: logm result may be inaccurate, approximate err = 2.807516659846649e-13\n",
      "  pos[natoms:] = self.logm(pos[natoms:]) * self.exp_cell_factor\n"
     ]
    },
    {
     "name": "stdout",
     "output_type": "stream",
     "text": [
      "FIRE:   83 15:45:50    -3033.954420        0.158173\n"
     ]
    },
    {
     "name": "stderr",
     "output_type": "stream",
     "text": [
      "/home/mehuldarak/anaconda3/envs/mace/lib/python3.13/site-packages/ase/filters.py:606: RuntimeWarning: logm result may be inaccurate, approximate err = 2.826131296127107e-13\n",
      "  pos[natoms:] = self.logm(pos[natoms:]) * self.exp_cell_factor\n"
     ]
    },
    {
     "name": "stdout",
     "output_type": "stream",
     "text": [
      "FIRE:   84 15:45:50    -3033.994843        0.156715\n"
     ]
    },
    {
     "name": "stderr",
     "output_type": "stream",
     "text": [
      "/home/mehuldarak/anaconda3/envs/mace/lib/python3.13/site-packages/ase/filters.py:606: RuntimeWarning: logm result may be inaccurate, approximate err = 2.830241290968703e-13\n",
      "  pos[natoms:] = self.logm(pos[natoms:]) * self.exp_cell_factor\n"
     ]
    },
    {
     "name": "stdout",
     "output_type": "stream",
     "text": [
      "FIRE:   85 15:45:51    -3034.034657        0.155210\n"
     ]
    },
    {
     "name": "stderr",
     "output_type": "stream",
     "text": [
      "/home/mehuldarak/anaconda3/envs/mace/lib/python3.13/site-packages/ase/filters.py:606: RuntimeWarning: logm result may be inaccurate, approximate err = 2.759157588658039e-13\n",
      "  pos[natoms:] = self.logm(pos[natoms:]) * self.exp_cell_factor\n"
     ]
    },
    {
     "name": "stdout",
     "output_type": "stream",
     "text": [
      "FIRE:   86 15:45:52    -3034.074268        0.153694\n"
     ]
    },
    {
     "name": "stderr",
     "output_type": "stream",
     "text": [
      "/home/mehuldarak/anaconda3/envs/mace/lib/python3.13/site-packages/ase/filters.py:606: RuntimeWarning: logm result may be inaccurate, approximate err = 2.7577293702806945e-13\n",
      "  pos[natoms:] = self.logm(pos[natoms:]) * self.exp_cell_factor\n"
     ]
    },
    {
     "name": "stdout",
     "output_type": "stream",
     "text": [
      "FIRE:   87 15:45:52    -3034.113067        0.152169\n"
     ]
    },
    {
     "name": "stderr",
     "output_type": "stream",
     "text": [
      "/home/mehuldarak/anaconda3/envs/mace/lib/python3.13/site-packages/ase/filters.py:606: RuntimeWarning: logm result may be inaccurate, approximate err = 2.7986862680575155e-13\n",
      "  pos[natoms:] = self.logm(pos[natoms:]) * self.exp_cell_factor\n"
     ]
    },
    {
     "name": "stdout",
     "output_type": "stream",
     "text": [
      "FIRE:   88 15:45:52    -3034.151459        0.150658\n"
     ]
    },
    {
     "name": "stderr",
     "output_type": "stream",
     "text": [
      "/home/mehuldarak/anaconda3/envs/mace/lib/python3.13/site-packages/ase/filters.py:606: RuntimeWarning: logm result may be inaccurate, approximate err = 2.716565978925286e-13\n",
      "  pos[natoms:] = self.logm(pos[natoms:]) * self.exp_cell_factor\n"
     ]
    },
    {
     "name": "stdout",
     "output_type": "stream",
     "text": [
      "FIRE:   89 15:45:53    -3034.189038        0.149159\n"
     ]
    },
    {
     "name": "stderr",
     "output_type": "stream",
     "text": [
      "/home/mehuldarak/anaconda3/envs/mace/lib/python3.13/site-packages/ase/filters.py:606: RuntimeWarning: logm result may be inaccurate, approximate err = 2.883447711860685e-13\n",
      "  pos[natoms:] = self.logm(pos[natoms:]) * self.exp_cell_factor\n"
     ]
    },
    {
     "name": "stdout",
     "output_type": "stream",
     "text": [
      "FIRE:   90 15:45:54    -3034.226008        0.147705\n"
     ]
    },
    {
     "name": "stderr",
     "output_type": "stream",
     "text": [
      "/home/mehuldarak/anaconda3/envs/mace/lib/python3.13/site-packages/ase/filters.py:606: RuntimeWarning: logm result may be inaccurate, approximate err = 2.840597362676062e-13\n",
      "  pos[natoms:] = self.logm(pos[natoms:]) * self.exp_cell_factor\n"
     ]
    },
    {
     "name": "stdout",
     "output_type": "stream",
     "text": [
      "FIRE:   91 15:45:54    -3034.262369        0.146245\n"
     ]
    },
    {
     "name": "stderr",
     "output_type": "stream",
     "text": [
      "/home/mehuldarak/anaconda3/envs/mace/lib/python3.13/site-packages/ase/filters.py:606: RuntimeWarning: logm result may be inaccurate, approximate err = 2.8095379361431153e-13\n",
      "  pos[natoms:] = self.logm(pos[natoms:]) * self.exp_cell_factor\n"
     ]
    },
    {
     "name": "stdout",
     "output_type": "stream",
     "text": [
      "FIRE:   92 15:45:54    -3034.298527        0.144800\n"
     ]
    },
    {
     "name": "stderr",
     "output_type": "stream",
     "text": [
      "/home/mehuldarak/anaconda3/envs/mace/lib/python3.13/site-packages/ase/filters.py:606: RuntimeWarning: logm result may be inaccurate, approximate err = 2.763400753282981e-13\n",
      "  pos[natoms:] = self.logm(pos[natoms:]) * self.exp_cell_factor\n"
     ]
    },
    {
     "name": "stdout",
     "output_type": "stream",
     "text": [
      "FIRE:   93 15:45:55    -3034.334278        0.143374\n"
     ]
    },
    {
     "name": "stderr",
     "output_type": "stream",
     "text": [
      "/home/mehuldarak/anaconda3/envs/mace/lib/python3.13/site-packages/ase/filters.py:606: RuntimeWarning: logm result may be inaccurate, approximate err = 2.8880228190546147e-13\n",
      "  pos[natoms:] = self.logm(pos[natoms:]) * self.exp_cell_factor\n"
     ]
    },
    {
     "name": "stdout",
     "output_type": "stream",
     "text": [
      "FIRE:   94 15:45:55    -3034.370233        0.141944\n"
     ]
    },
    {
     "name": "stderr",
     "output_type": "stream",
     "text": [
      "/home/mehuldarak/anaconda3/envs/mace/lib/python3.13/site-packages/ase/filters.py:606: RuntimeWarning: logm result may be inaccurate, approximate err = 2.83548321640983e-13\n",
      "  pos[natoms:] = self.logm(pos[natoms:]) * self.exp_cell_factor\n"
     ]
    },
    {
     "name": "stdout",
     "output_type": "stream",
     "text": [
      "FIRE:   95 15:45:56    -3034.405171        0.140499\n"
     ]
    },
    {
     "name": "stderr",
     "output_type": "stream",
     "text": [
      "/home/mehuldarak/anaconda3/envs/mace/lib/python3.13/site-packages/ase/filters.py:606: RuntimeWarning: logm result may be inaccurate, approximate err = 2.852981211789769e-13\n",
      "  pos[natoms:] = self.logm(pos[natoms:]) * self.exp_cell_factor\n"
     ]
    },
    {
     "name": "stdout",
     "output_type": "stream",
     "text": [
      "FIRE:   96 15:45:56    -3034.440110        0.139057\n"
     ]
    },
    {
     "name": "stderr",
     "output_type": "stream",
     "text": [
      "/home/mehuldarak/anaconda3/envs/mace/lib/python3.13/site-packages/ase/filters.py:606: RuntimeWarning: logm result may be inaccurate, approximate err = 2.7905467430618073e-13\n",
      "  pos[natoms:] = self.logm(pos[natoms:]) * self.exp_cell_factor\n"
     ]
    },
    {
     "name": "stdout",
     "output_type": "stream",
     "text": [
      "FIRE:   97 15:45:57    -3034.474440        0.137595\n"
     ]
    },
    {
     "name": "stderr",
     "output_type": "stream",
     "text": [
      "/home/mehuldarak/anaconda3/envs/mace/lib/python3.13/site-packages/ase/filters.py:606: RuntimeWarning: logm result may be inaccurate, approximate err = 2.7200237192082286e-13\n",
      "  pos[natoms:] = self.logm(pos[natoms:]) * self.exp_cell_factor\n"
     ]
    },
    {
     "name": "stdout",
     "output_type": "stream",
     "text": [
      "FIRE:   98 15:45:57    -3034.508363        0.136127\n"
     ]
    },
    {
     "name": "stderr",
     "output_type": "stream",
     "text": [
      "/home/mehuldarak/anaconda3/envs/mace/lib/python3.13/site-packages/ase/filters.py:606: RuntimeWarning: logm result may be inaccurate, approximate err = 2.755233262797278e-13\n",
      "  pos[natoms:] = self.logm(pos[natoms:]) * self.exp_cell_factor\n"
     ]
    },
    {
     "name": "stdout",
     "output_type": "stream",
     "text": [
      "FIRE:   99 15:45:58    -3034.542286        0.134666\n"
     ]
    },
    {
     "name": "stderr",
     "output_type": "stream",
     "text": [
      "/home/mehuldarak/anaconda3/envs/mace/lib/python3.13/site-packages/ase/filters.py:606: RuntimeWarning: logm result may be inaccurate, approximate err = 2.8135906363468565e-13\n",
      "  pos[natoms:] = self.logm(pos[natoms:]) * self.exp_cell_factor\n"
     ]
    },
    {
     "name": "stdout",
     "output_type": "stream",
     "text": [
      "FIRE:  100 15:45:58    -3034.575193        0.133212\n"
     ]
    },
    {
     "name": "stderr",
     "output_type": "stream",
     "text": [
      "/home/mehuldarak/anaconda3/envs/mace/lib/python3.13/site-packages/ase/filters.py:606: RuntimeWarning: logm result may be inaccurate, approximate err = 2.8209356519085195e-13\n",
      "  pos[natoms:] = self.logm(pos[natoms:]) * self.exp_cell_factor\n"
     ]
    },
    {
     "name": "stdout",
     "output_type": "stream",
     "text": [
      "FIRE:  101 15:45:59    -3034.608101        0.131743\n"
     ]
    },
    {
     "name": "stderr",
     "output_type": "stream",
     "text": [
      "/home/mehuldarak/anaconda3/envs/mace/lib/python3.13/site-packages/ase/filters.py:606: RuntimeWarning: logm result may be inaccurate, approximate err = 2.788323382030219e-13\n",
      "  pos[natoms:] = self.logm(pos[natoms:]) * self.exp_cell_factor\n"
     ]
    },
    {
     "name": "stdout",
     "output_type": "stream",
     "text": [
      "FIRE:  102 15:45:59    -3034.640399        0.130261\n"
     ]
    },
    {
     "name": "stderr",
     "output_type": "stream",
     "text": [
      "/home/mehuldarak/anaconda3/envs/mace/lib/python3.13/site-packages/ase/filters.py:606: RuntimeWarning: logm result may be inaccurate, approximate err = 2.818128087779427e-13\n",
      "  pos[natoms:] = self.logm(pos[natoms:]) * self.exp_cell_factor\n"
     ]
    },
    {
     "name": "stdout",
     "output_type": "stream",
     "text": [
      "FIRE:  103 15:46:00    -3034.672494        0.128769\n"
     ]
    },
    {
     "name": "stderr",
     "output_type": "stream",
     "text": [
      "/home/mehuldarak/anaconda3/envs/mace/lib/python3.13/site-packages/ase/filters.py:606: RuntimeWarning: logm result may be inaccurate, approximate err = 2.780571703943483e-13\n",
      "  pos[natoms:] = self.logm(pos[natoms:]) * self.exp_cell_factor\n"
     ]
    },
    {
     "name": "stdout",
     "output_type": "stream",
     "text": [
      "FIRE:  104 15:46:00    -3034.704792        0.127279\n"
     ]
    },
    {
     "name": "stderr",
     "output_type": "stream",
     "text": [
      "/home/mehuldarak/anaconda3/envs/mace/lib/python3.13/site-packages/ase/filters.py:606: RuntimeWarning: logm result may be inaccurate, approximate err = 2.8164285137681803e-13\n",
      "  pos[natoms:] = self.logm(pos[natoms:]) * self.exp_cell_factor\n"
     ]
    },
    {
     "name": "stdout",
     "output_type": "stream",
     "text": [
      "FIRE:  105 15:46:01    -3034.735871        0.125795\n"
     ]
    },
    {
     "name": "stderr",
     "output_type": "stream",
     "text": [
      "/home/mehuldarak/anaconda3/envs/mace/lib/python3.13/site-packages/ase/filters.py:606: RuntimeWarning: logm result may be inaccurate, approximate err = 2.7886865785842815e-13\n",
      "  pos[natoms:] = self.logm(pos[natoms:]) * self.exp_cell_factor\n"
     ]
    },
    {
     "name": "stdout",
     "output_type": "stream",
     "text": [
      "FIRE:  106 15:46:01    -3034.766138        0.124323\n"
     ]
    },
    {
     "name": "stderr",
     "output_type": "stream",
     "text": [
      "/home/mehuldarak/anaconda3/envs/mace/lib/python3.13/site-packages/ase/filters.py:606: RuntimeWarning: logm result may be inaccurate, approximate err = 2.7963240261798323e-13\n",
      "  pos[natoms:] = self.logm(pos[natoms:]) * self.exp_cell_factor\n"
     ]
    },
    {
     "name": "stdout",
     "output_type": "stream",
     "text": [
      "FIRE:  107 15:46:01    -3034.796608        0.122878\n"
     ]
    },
    {
     "name": "stderr",
     "output_type": "stream",
     "text": [
      "/home/mehuldarak/anaconda3/envs/mace/lib/python3.13/site-packages/ase/filters.py:606: RuntimeWarning: logm result may be inaccurate, approximate err = 2.7999540638004087e-13\n",
      "  pos[natoms:] = self.logm(pos[natoms:]) * self.exp_cell_factor\n"
     ]
    },
    {
     "name": "stdout",
     "output_type": "stream",
     "text": [
      "FIRE:  108 15:46:02    -3034.826265        0.121450\n"
     ]
    },
    {
     "name": "stderr",
     "output_type": "stream",
     "text": [
      "/home/mehuldarak/anaconda3/envs/mace/lib/python3.13/site-packages/ase/filters.py:606: RuntimeWarning: logm result may be inaccurate, approximate err = 2.8110416109264853e-13\n",
      "  pos[natoms:] = self.logm(pos[natoms:]) * self.exp_cell_factor\n"
     ]
    },
    {
     "name": "stdout",
     "output_type": "stream",
     "text": [
      "FIRE:  109 15:46:03    -3034.855720        0.120029\n"
     ]
    },
    {
     "name": "stderr",
     "output_type": "stream",
     "text": [
      "/home/mehuldarak/anaconda3/envs/mace/lib/python3.13/site-packages/ase/filters.py:606: RuntimeWarning: logm result may be inaccurate, approximate err = 2.6698049330538226e-13\n",
      "  pos[natoms:] = self.logm(pos[natoms:]) * self.exp_cell_factor\n"
     ]
    },
    {
     "name": "stdout",
     "output_type": "stream",
     "text": [
      "FIRE:  110 15:46:03    -3034.884158        0.118618\n"
     ]
    },
    {
     "name": "stderr",
     "output_type": "stream",
     "text": [
      "/home/mehuldarak/anaconda3/envs/mace/lib/python3.13/site-packages/ase/filters.py:606: RuntimeWarning: logm result may be inaccurate, approximate err = 2.7974998667984844e-13\n",
      "  pos[natoms:] = self.logm(pos[natoms:]) * self.exp_cell_factor\n"
     ]
    },
    {
     "name": "stdout",
     "output_type": "stream",
     "text": [
      "FIRE:  111 15:46:03    -3034.913003        0.117226\n"
     ]
    },
    {
     "name": "stderr",
     "output_type": "stream",
     "text": [
      "/home/mehuldarak/anaconda3/envs/mace/lib/python3.13/site-packages/ase/filters.py:606: RuntimeWarning: logm result may be inaccurate, approximate err = 2.707270897452922e-13\n",
      "  pos[natoms:] = self.logm(pos[natoms:]) * self.exp_cell_factor\n"
     ]
    },
    {
     "name": "stdout",
     "output_type": "stream",
     "text": [
      "FIRE:  112 15:46:04    -3034.942051        0.115842\n"
     ]
    },
    {
     "name": "stderr",
     "output_type": "stream",
     "text": [
      "/home/mehuldarak/anaconda3/envs/mace/lib/python3.13/site-packages/ase/filters.py:606: RuntimeWarning: logm result may be inaccurate, approximate err = 2.726939893276097e-13\n",
      "  pos[natoms:] = self.logm(pos[natoms:]) * self.exp_cell_factor\n"
     ]
    },
    {
     "name": "stdout",
     "output_type": "stream",
     "text": [
      "FIRE:  113 15:46:04    -3034.969880        0.114454\n"
     ]
    },
    {
     "name": "stderr",
     "output_type": "stream",
     "text": [
      "/home/mehuldarak/anaconda3/envs/mace/lib/python3.13/site-packages/ase/filters.py:606: RuntimeWarning: logm result may be inaccurate, approximate err = 2.7656575804279177e-13\n",
      "  pos[natoms:] = self.logm(pos[natoms:]) * self.exp_cell_factor\n"
     ]
    },
    {
     "name": "stdout",
     "output_type": "stream",
     "text": [
      "FIRE:  114 15:46:05    -3034.997506        0.113065\n"
     ]
    },
    {
     "name": "stderr",
     "output_type": "stream",
     "text": [
      "/home/mehuldarak/anaconda3/envs/mace/lib/python3.13/site-packages/ase/filters.py:606: RuntimeWarning: logm result may be inaccurate, approximate err = 2.756886110699281e-13\n",
      "  pos[natoms:] = self.logm(pos[natoms:]) * self.exp_cell_factor\n"
     ]
    },
    {
     "name": "stdout",
     "output_type": "stream",
     "text": [
      "FIRE:  115 15:46:05    -3035.025538        0.111690\n"
     ]
    },
    {
     "name": "stderr",
     "output_type": "stream",
     "text": [
      "/home/mehuldarak/anaconda3/envs/mace/lib/python3.13/site-packages/ase/filters.py:606: RuntimeWarning: logm result may be inaccurate, approximate err = 2.765436475077484e-13\n",
      "  pos[natoms:] = self.logm(pos[natoms:]) * self.exp_cell_factor\n"
     ]
    },
    {
     "name": "stdout",
     "output_type": "stream",
     "text": [
      "FIRE:  116 15:46:06    -3035.052961        0.110332\n"
     ]
    },
    {
     "name": "stderr",
     "output_type": "stream",
     "text": [
      "/home/mehuldarak/anaconda3/envs/mace/lib/python3.13/site-packages/ase/filters.py:606: RuntimeWarning: logm result may be inaccurate, approximate err = 2.804509036926463e-13\n",
      "  pos[natoms:] = self.logm(pos[natoms:]) * self.exp_cell_factor\n"
     ]
    },
    {
     "name": "stdout",
     "output_type": "stream",
     "text": [
      "FIRE:  117 15:46:06    -3035.079775        0.108978\n"
     ]
    },
    {
     "name": "stderr",
     "output_type": "stream",
     "text": [
      "/home/mehuldarak/anaconda3/envs/mace/lib/python3.13/site-packages/ase/filters.py:606: RuntimeWarning: logm result may be inaccurate, approximate err = 2.8123884792906005e-13\n",
      "  pos[natoms:] = self.logm(pos[natoms:]) * self.exp_cell_factor\n"
     ]
    },
    {
     "name": "stdout",
     "output_type": "stream",
     "text": [
      "FIRE:  118 15:46:07    -3035.107198        0.107639\n"
     ]
    },
    {
     "name": "stderr",
     "output_type": "stream",
     "text": [
      "/home/mehuldarak/anaconda3/envs/mace/lib/python3.13/site-packages/ase/filters.py:606: RuntimeWarning: logm result may be inaccurate, approximate err = 2.873117172869993e-13\n",
      "  pos[natoms:] = self.logm(pos[natoms:]) * self.exp_cell_factor\n"
     ]
    },
    {
     "name": "stdout",
     "output_type": "stream",
     "text": [
      "FIRE:  119 15:46:07    -3035.133199        0.106304\n"
     ]
    },
    {
     "name": "stderr",
     "output_type": "stream",
     "text": [
      "/home/mehuldarak/anaconda3/envs/mace/lib/python3.13/site-packages/ase/filters.py:606: RuntimeWarning: logm result may be inaccurate, approximate err = 2.85340464677981e-13\n",
      "  pos[natoms:] = self.logm(pos[natoms:]) * self.exp_cell_factor\n"
     ]
    },
    {
     "name": "stdout",
     "output_type": "stream",
     "text": [
      "FIRE:  120 15:46:08    -3035.159200        0.104943\n"
     ]
    },
    {
     "name": "stderr",
     "output_type": "stream",
     "text": [
      "/home/mehuldarak/anaconda3/envs/mace/lib/python3.13/site-packages/ase/filters.py:606: RuntimeWarning: logm result may be inaccurate, approximate err = 2.871675652876468e-13\n",
      "  pos[natoms:] = self.logm(pos[natoms:]) * self.exp_cell_factor\n"
     ]
    },
    {
     "name": "stdout",
     "output_type": "stream",
     "text": [
      "FIRE:  121 15:46:08    -3035.184388        0.103546\n"
     ]
    },
    {
     "name": "stderr",
     "output_type": "stream",
     "text": [
      "/home/mehuldarak/anaconda3/envs/mace/lib/python3.13/site-packages/ase/filters.py:606: RuntimeWarning: logm result may be inaccurate, approximate err = 2.8106527314256743e-13\n",
      "  pos[natoms:] = self.logm(pos[natoms:]) * self.exp_cell_factor\n"
     ]
    },
    {
     "name": "stdout",
     "output_type": "stream",
     "text": [
      "FIRE:  122 15:46:09    -3035.208561        0.102132\n"
     ]
    },
    {
     "name": "stderr",
     "output_type": "stream",
     "text": [
      "/home/mehuldarak/anaconda3/envs/mace/lib/python3.13/site-packages/ase/filters.py:606: RuntimeWarning: logm result may be inaccurate, approximate err = 2.7635684595761383e-13\n",
      "  pos[natoms:] = self.logm(pos[natoms:]) * self.exp_cell_factor\n"
     ]
    },
    {
     "name": "stdout",
     "output_type": "stream",
     "text": [
      "FIRE:  123 15:46:09    -3035.232531        0.100720\n"
     ]
    },
    {
     "name": "stderr",
     "output_type": "stream",
     "text": [
      "/home/mehuldarak/anaconda3/envs/mace/lib/python3.13/site-packages/ase/filters.py:606: RuntimeWarning: logm result may be inaccurate, approximate err = 2.815960368032163e-13\n",
      "  pos[natoms:] = self.logm(pos[natoms:]) * self.exp_cell_factor\n"
     ]
    },
    {
     "name": "stdout",
     "output_type": "stream",
     "text": [
      "FIRE:  124 15:46:10    -3035.255281        0.099303\n"
     ]
    },
    {
     "name": "stderr",
     "output_type": "stream",
     "text": [
      "/home/mehuldarak/anaconda3/envs/mace/lib/python3.13/site-packages/ase/filters.py:606: RuntimeWarning: logm result may be inaccurate, approximate err = 2.7558741688485036e-13\n",
      "  pos[natoms:] = self.logm(pos[natoms:]) * self.exp_cell_factor\n"
     ]
    },
    {
     "name": "stdout",
     "output_type": "stream",
     "text": [
      "FIRE:  125 15:46:10    -3035.278235        0.097876\n"
     ]
    },
    {
     "name": "stderr",
     "output_type": "stream",
     "text": [
      "/home/mehuldarak/anaconda3/envs/mace/lib/python3.13/site-packages/ase/filters.py:606: RuntimeWarning: logm result may be inaccurate, approximate err = 2.790819502857143e-13\n",
      "  pos[natoms:] = self.logm(pos[natoms:]) * self.exp_cell_factor\n"
     ]
    },
    {
     "name": "stdout",
     "output_type": "stream",
     "text": [
      "FIRE:  126 15:46:11    -3035.300377        0.096454\n"
     ]
    },
    {
     "name": "stderr",
     "output_type": "stream",
     "text": [
      "/home/mehuldarak/anaconda3/envs/mace/lib/python3.13/site-packages/ase/filters.py:606: RuntimeWarning: logm result may be inaccurate, approximate err = 2.75615820609505e-13\n",
      "  pos[natoms:] = self.logm(pos[natoms:]) * self.exp_cell_factor\n"
     ]
    },
    {
     "name": "stdout",
     "output_type": "stream",
     "text": [
      "FIRE:  127 15:46:11    -3035.321300        0.095044\n"
     ]
    },
    {
     "name": "stderr",
     "output_type": "stream",
     "text": [
      "/home/mehuldarak/anaconda3/envs/mace/lib/python3.13/site-packages/ase/filters.py:606: RuntimeWarning: logm result may be inaccurate, approximate err = 2.77442579416243e-13\n",
      "  pos[natoms:] = self.logm(pos[natoms:]) * self.exp_cell_factor\n"
     ]
    },
    {
     "name": "stdout",
     "output_type": "stream",
     "text": [
      "FIRE:  128 15:46:12    -3035.342425        0.093644\n"
     ]
    },
    {
     "name": "stderr",
     "output_type": "stream",
     "text": [
      "/home/mehuldarak/anaconda3/envs/mace/lib/python3.13/site-packages/ase/filters.py:606: RuntimeWarning: logm result may be inaccurate, approximate err = 2.808511574501473e-13\n",
      "  pos[natoms:] = self.logm(pos[natoms:]) * self.exp_cell_factor\n"
     ]
    },
    {
     "name": "stdout",
     "output_type": "stream",
     "text": [
      "FIRE:  129 15:46:12    -3035.363754        0.092254\n"
     ]
    },
    {
     "name": "stderr",
     "output_type": "stream",
     "text": [
      "/home/mehuldarak/anaconda3/envs/mace/lib/python3.13/site-packages/ase/filters.py:606: RuntimeWarning: logm result may be inaccurate, approximate err = 2.827559541039835e-13\n",
      "  pos[natoms:] = self.logm(pos[natoms:]) * self.exp_cell_factor\n"
     ]
    },
    {
     "name": "stdout",
     "output_type": "stream",
     "text": [
      "FIRE:  130 15:46:12    -3035.384068        0.090893\n"
     ]
    },
    {
     "name": "stderr",
     "output_type": "stream",
     "text": [
      "/home/mehuldarak/anaconda3/envs/mace/lib/python3.13/site-packages/ase/filters.py:606: RuntimeWarning: logm result may be inaccurate, approximate err = 2.7705949401991553e-13\n",
      "  pos[natoms:] = self.logm(pos[natoms:]) * self.exp_cell_factor\n"
     ]
    },
    {
     "name": "stdout",
     "output_type": "stream",
     "text": [
      "FIRE:  131 15:46:13    -3035.404381        0.089562\n"
     ]
    },
    {
     "name": "stderr",
     "output_type": "stream",
     "text": [
      "/home/mehuldarak/anaconda3/envs/mace/lib/python3.13/site-packages/ase/filters.py:606: RuntimeWarning: logm result may be inaccurate, approximate err = 2.748788988615442e-13\n",
      "  pos[natoms:] = self.logm(pos[natoms:]) * self.exp_cell_factor\n"
     ]
    },
    {
     "name": "stdout",
     "output_type": "stream",
     "text": [
      "FIRE:  132 15:46:14    -3035.423678        0.088241\n"
     ]
    },
    {
     "name": "stderr",
     "output_type": "stream",
     "text": [
      "/home/mehuldarak/anaconda3/envs/mace/lib/python3.13/site-packages/ase/filters.py:606: RuntimeWarning: logm result may be inaccurate, approximate err = 2.821109604498122e-13\n",
      "  pos[natoms:] = self.logm(pos[natoms:]) * self.exp_cell_factor\n"
     ]
    },
    {
     "name": "stdout",
     "output_type": "stream",
     "text": [
      "FIRE:  133 15:46:14    -3035.442773        0.086909\n"
     ]
    },
    {
     "name": "stderr",
     "output_type": "stream",
     "text": [
      "/home/mehuldarak/anaconda3/envs/mace/lib/python3.13/site-packages/ase/filters.py:606: RuntimeWarning: logm result may be inaccurate, approximate err = 2.8313438689825875e-13\n",
      "  pos[natoms:] = self.logm(pos[natoms:]) * self.exp_cell_factor\n"
     ]
    },
    {
     "name": "stdout",
     "output_type": "stream",
     "text": [
      "FIRE:  134 15:46:14    -3035.460445        0.085580\n"
     ]
    },
    {
     "name": "stderr",
     "output_type": "stream",
     "text": [
      "/home/mehuldarak/anaconda3/envs/mace/lib/python3.13/site-packages/ase/filters.py:606: RuntimeWarning: logm result may be inaccurate, approximate err = 2.769998401575384e-13\n",
      "  pos[natoms:] = self.logm(pos[natoms:]) * self.exp_cell_factor\n"
     ]
    },
    {
     "name": "stdout",
     "output_type": "stream",
     "text": [
      "FIRE:  135 15:46:15    -3035.478321        0.084249\n"
     ]
    },
    {
     "name": "stderr",
     "output_type": "stream",
     "text": [
      "/home/mehuldarak/anaconda3/envs/mace/lib/python3.13/site-packages/ase/filters.py:606: RuntimeWarning: logm result may be inaccurate, approximate err = 2.8106835657313984e-13\n",
      "  pos[natoms:] = self.logm(pos[natoms:]) * self.exp_cell_factor\n"
     ]
    },
    {
     "name": "stdout",
     "output_type": "stream",
     "text": [
      "FIRE:  136 15:46:16    -3035.494572        0.082893\n"
     ]
    },
    {
     "name": "stderr",
     "output_type": "stream",
     "text": [
      "/home/mehuldarak/anaconda3/envs/mace/lib/python3.13/site-packages/ase/filters.py:606: RuntimeWarning: logm result may be inaccurate, approximate err = 2.8173796706585867e-13\n",
      "  pos[natoms:] = self.logm(pos[natoms:]) * self.exp_cell_factor\n"
     ]
    },
    {
     "name": "stdout",
     "output_type": "stream",
     "text": [
      "FIRE:  137 15:46:16    -3035.511432        0.081520\n"
     ]
    },
    {
     "name": "stderr",
     "output_type": "stream",
     "text": [
      "/home/mehuldarak/anaconda3/envs/mace/lib/python3.13/site-packages/ase/filters.py:606: RuntimeWarning: logm result may be inaccurate, approximate err = 2.7858550415057613e-13\n",
      "  pos[natoms:] = self.logm(pos[natoms:]) * self.exp_cell_factor\n"
     ]
    },
    {
     "name": "stdout",
     "output_type": "stream",
     "text": [
      "FIRE:  138 15:46:16    -3035.526464        0.080145\n"
     ]
    },
    {
     "name": "stderr",
     "output_type": "stream",
     "text": [
      "/home/mehuldarak/anaconda3/envs/mace/lib/python3.13/site-packages/ase/filters.py:606: RuntimeWarning: logm result may be inaccurate, approximate err = 2.79725330000463e-13\n",
      "  pos[natoms:] = self.logm(pos[natoms:]) * self.exp_cell_factor\n"
     ]
    },
    {
     "name": "stdout",
     "output_type": "stream",
     "text": [
      "FIRE:  139 15:46:17    -3035.541698        0.078758\n"
     ]
    },
    {
     "name": "stderr",
     "output_type": "stream",
     "text": [
      "/home/mehuldarak/anaconda3/envs/mace/lib/python3.13/site-packages/ase/filters.py:606: RuntimeWarning: logm result may be inaccurate, approximate err = 2.891710805034205e-13\n",
      "  pos[natoms:] = self.logm(pos[natoms:]) * self.exp_cell_factor\n"
     ]
    },
    {
     "name": "stdout",
     "output_type": "stream",
     "text": [
      "FIRE:  140 15:46:17    -3035.556730        0.077346\n"
     ]
    },
    {
     "name": "stderr",
     "output_type": "stream",
     "text": [
      "/home/mehuldarak/anaconda3/envs/mace/lib/python3.13/site-packages/ase/filters.py:606: RuntimeWarning: logm result may be inaccurate, approximate err = 2.818792770845765e-13\n",
      "  pos[natoms:] = self.logm(pos[natoms:]) * self.exp_cell_factor\n"
     ]
    },
    {
     "name": "stdout",
     "output_type": "stream",
     "text": [
      "FIRE:  141 15:46:18    -3035.571559        0.075915\n"
     ]
    },
    {
     "name": "stderr",
     "output_type": "stream",
     "text": [
      "/home/mehuldarak/anaconda3/envs/mace/lib/python3.13/site-packages/ase/filters.py:606: RuntimeWarning: logm result may be inaccurate, approximate err = 2.761973690812818e-13\n",
      "  pos[natoms:] = self.logm(pos[natoms:]) * self.exp_cell_factor\n"
     ]
    },
    {
     "name": "stdout",
     "output_type": "stream",
     "text": [
      "FIRE:  142 15:46:18    -3035.585575        0.074482\n"
     ]
    },
    {
     "name": "stderr",
     "output_type": "stream",
     "text": [
      "/home/mehuldarak/anaconda3/envs/mace/lib/python3.13/site-packages/ase/filters.py:606: RuntimeWarning: logm result may be inaccurate, approximate err = 2.806218923426923e-13\n",
      "  pos[natoms:] = self.logm(pos[natoms:]) * self.exp_cell_factor\n"
     ]
    },
    {
     "name": "stdout",
     "output_type": "stream",
     "text": [
      "FIRE:  143 15:46:19    -3035.600607        0.073047\n"
     ]
    },
    {
     "name": "stderr",
     "output_type": "stream",
     "text": [
      "/home/mehuldarak/anaconda3/envs/mace/lib/python3.13/site-packages/ase/filters.py:606: RuntimeWarning: logm result may be inaccurate, approximate err = 2.791682679464079e-13\n",
      "  pos[natoms:] = self.logm(pos[natoms:]) * self.exp_cell_factor\n"
     ]
    },
    {
     "name": "stdout",
     "output_type": "stream",
     "text": [
      "FIRE:  144 15:46:19    -3035.614420        0.071596\n"
     ]
    },
    {
     "name": "stderr",
     "output_type": "stream",
     "text": [
      "/home/mehuldarak/anaconda3/envs/mace/lib/python3.13/site-packages/ase/filters.py:606: RuntimeWarning: logm result may be inaccurate, approximate err = 2.910318933407485e-13\n",
      "  pos[natoms:] = self.logm(pos[natoms:]) * self.exp_cell_factor\n"
     ]
    },
    {
     "name": "stdout",
     "output_type": "stream",
     "text": [
      "FIRE:  145 15:46:20    -3035.628436        0.070132\n"
     ]
    },
    {
     "name": "stderr",
     "output_type": "stream",
     "text": [
      "/home/mehuldarak/anaconda3/envs/mace/lib/python3.13/site-packages/ase/filters.py:606: RuntimeWarning: logm result may be inaccurate, approximate err = 2.8449199095369723e-13\n",
      "  pos[natoms:] = self.logm(pos[natoms:]) * self.exp_cell_factor\n"
     ]
    },
    {
     "name": "stdout",
     "output_type": "stream",
     "text": [
      "FIRE:  146 15:46:20    -3035.642249        0.068666\n"
     ]
    },
    {
     "name": "stderr",
     "output_type": "stream",
     "text": [
      "/home/mehuldarak/anaconda3/envs/mace/lib/python3.13/site-packages/ase/filters.py:606: RuntimeWarning: logm result may be inaccurate, approximate err = 2.7471734638276614e-13\n",
      "  pos[natoms:] = self.logm(pos[natoms:]) * self.exp_cell_factor\n"
     ]
    },
    {
     "name": "stdout",
     "output_type": "stream",
     "text": [
      "FIRE:  147 15:46:21    -3035.655859        0.067186\n"
     ]
    },
    {
     "name": "stderr",
     "output_type": "stream",
     "text": [
      "/home/mehuldarak/anaconda3/envs/mace/lib/python3.13/site-packages/ase/filters.py:606: RuntimeWarning: logm result may be inaccurate, approximate err = 2.808311509571578e-13\n",
      "  pos[natoms:] = self.logm(pos[natoms:]) * self.exp_cell_factor\n"
     ]
    },
    {
     "name": "stdout",
     "output_type": "stream",
     "text": [
      "FIRE:  148 15:46:21    -3035.668656        0.065730\n"
     ]
    },
    {
     "name": "stderr",
     "output_type": "stream",
     "text": [
      "/home/mehuldarak/anaconda3/envs/mace/lib/python3.13/site-packages/ase/filters.py:606: RuntimeWarning: logm result may be inaccurate, approximate err = 2.7621599555943004e-13\n",
      "  pos[natoms:] = self.logm(pos[natoms:]) * self.exp_cell_factor\n"
     ]
    },
    {
     "name": "stdout",
     "output_type": "stream",
     "text": [
      "FIRE:  149 15:46:22    -3035.682266        0.064262\n"
     ]
    },
    {
     "name": "stderr",
     "output_type": "stream",
     "text": [
      "/home/mehuldarak/anaconda3/envs/mace/lib/python3.13/site-packages/ase/filters.py:606: RuntimeWarning: logm result may be inaccurate, approximate err = 2.79655305995432e-13\n",
      "  pos[natoms:] = self.logm(pos[natoms:]) * self.exp_cell_factor\n"
     ]
    },
    {
     "name": "stdout",
     "output_type": "stream",
     "text": [
      "FIRE:  150 15:46:22    -3035.694454        0.062821\n"
     ]
    },
    {
     "name": "stderr",
     "output_type": "stream",
     "text": [
      "/home/mehuldarak/anaconda3/envs/mace/lib/python3.13/site-packages/ase/filters.py:606: RuntimeWarning: logm result may be inaccurate, approximate err = 2.85767739495052e-13\n",
      "  pos[natoms:] = self.logm(pos[natoms:]) * self.exp_cell_factor\n"
     ]
    },
    {
     "name": "stdout",
     "output_type": "stream",
     "text": [
      "FIRE:  151 15:46:23    -3035.706642        0.061402\n"
     ]
    },
    {
     "name": "stderr",
     "output_type": "stream",
     "text": [
      "/home/mehuldarak/anaconda3/envs/mace/lib/python3.13/site-packages/ase/filters.py:606: RuntimeWarning: logm result may be inaccurate, approximate err = 2.8429345121542944e-13\n",
      "  pos[natoms:] = self.logm(pos[natoms:]) * self.exp_cell_factor\n"
     ]
    },
    {
     "name": "stdout",
     "output_type": "stream",
     "text": [
      "FIRE:  152 15:46:23    -3035.718018        0.059991\n"
     ]
    },
    {
     "name": "stderr",
     "output_type": "stream",
     "text": [
      "/home/mehuldarak/anaconda3/envs/mace/lib/python3.13/site-packages/ase/filters.py:606: RuntimeWarning: logm result may be inaccurate, approximate err = 2.7586792289589716e-13\n",
      "  pos[natoms:] = self.logm(pos[natoms:]) * self.exp_cell_factor\n"
     ]
    },
    {
     "name": "stdout",
     "output_type": "stream",
     "text": [
      "FIRE:  153 15:46:24    -3035.728987        0.058596\n"
     ]
    },
    {
     "name": "stderr",
     "output_type": "stream",
     "text": [
      "/home/mehuldarak/anaconda3/envs/mace/lib/python3.13/site-packages/ase/filters.py:606: RuntimeWarning: logm result may be inaccurate, approximate err = 2.7440926227460133e-13\n",
      "  pos[natoms:] = self.logm(pos[natoms:]) * self.exp_cell_factor\n"
     ]
    },
    {
     "name": "stdout",
     "output_type": "stream",
     "text": [
      "FIRE:  154 15:46:24    -3035.739753        0.057215\n"
     ]
    },
    {
     "name": "stderr",
     "output_type": "stream",
     "text": [
      "/home/mehuldarak/anaconda3/envs/mace/lib/python3.13/site-packages/ase/filters.py:606: RuntimeWarning: logm result may be inaccurate, approximate err = 2.78208995380647e-13\n",
      "  pos[natoms:] = self.logm(pos[natoms:]) * self.exp_cell_factor\n"
     ]
    },
    {
     "name": "stdout",
     "output_type": "stream",
     "text": [
      "FIRE:  155 15:46:25    -3035.750519        0.055852\n"
     ]
    },
    {
     "name": "stderr",
     "output_type": "stream",
     "text": [
      "/home/mehuldarak/anaconda3/envs/mace/lib/python3.13/site-packages/ase/filters.py:606: RuntimeWarning: logm result may be inaccurate, approximate err = 2.7922254735505213e-13\n",
      "  pos[natoms:] = self.logm(pos[natoms:]) * self.exp_cell_factor\n"
     ]
    },
    {
     "name": "stdout",
     "output_type": "stream",
     "text": [
      "FIRE:  156 15:46:25    -3035.760269        0.054483\n"
     ]
    },
    {
     "name": "stderr",
     "output_type": "stream",
     "text": [
      "/home/mehuldarak/anaconda3/envs/mace/lib/python3.13/site-packages/ase/filters.py:606: RuntimeWarning: logm result may be inaccurate, approximate err = 2.7808634756806026e-13\n",
      "  pos[natoms:] = self.logm(pos[natoms:]) * self.exp_cell_factor\n"
     ]
    },
    {
     "name": "stdout",
     "output_type": "stream",
     "text": [
      "FIRE:  157 15:46:26    -3035.769207        0.053102\n"
     ]
    },
    {
     "name": "stderr",
     "output_type": "stream",
     "text": [
      "/home/mehuldarak/anaconda3/envs/mace/lib/python3.13/site-packages/ase/filters.py:606: RuntimeWarning: logm result may be inaccurate, approximate err = 2.7820608462244004e-13\n",
      "  pos[natoms:] = self.logm(pos[natoms:]) * self.exp_cell_factor\n"
     ]
    },
    {
     "name": "stdout",
     "output_type": "stream",
     "text": [
      "FIRE:  158 15:46:26    -3035.777739        0.051712\n"
     ]
    },
    {
     "name": "stderr",
     "output_type": "stream",
     "text": [
      "/home/mehuldarak/anaconda3/envs/mace/lib/python3.13/site-packages/ase/filters.py:606: RuntimeWarning: logm result may be inaccurate, approximate err = 2.7541843690134455e-13\n",
      "  pos[natoms:] = self.logm(pos[natoms:]) * self.exp_cell_factor\n"
     ]
    },
    {
     "name": "stdout",
     "output_type": "stream",
     "text": [
      "FIRE:  159 15:46:26    -3035.785864        0.050299\n"
     ]
    },
    {
     "name": "stderr",
     "output_type": "stream",
     "text": [
      "/home/mehuldarak/anaconda3/envs/mace/lib/python3.13/site-packages/ase/filters.py:606: RuntimeWarning: logm result may be inaccurate, approximate err = 2.7665507480281955e-13\n",
      "  pos[natoms:] = self.logm(pos[natoms:]) * self.exp_cell_factor\n"
     ]
    },
    {
     "name": "stdout",
     "output_type": "stream",
     "text": [
      "FIRE:  160 15:46:27    -3035.793380        0.048910\n"
     ]
    }
   ],
   "source": [
    "# Convert back, assign calculator + constraint\n",
    "structure_1 = AseAtomsAdaptor.get_atoms(result[\"final_structure\"])\n",
    "structure_1.set_calculator(calc)\n",
    "structure_1.set_constraint(FixAtoms(mask=freeze_mask))\n",
    "\n",
    "# Stage 2: FIRE\n",
    "opt2 = StructOptimizer(model=calc, optimizer_class=\"FIRE\", use_device=\"cuda\")\n",
    "result2 = opt2.relax(structure_1, fmax=0.05, steps=400, relax_cell=True, verbose=True)"
   ]
  },
  {
   "cell_type": "code",
   "execution_count": null,
   "id": "b9c3704b",
   "metadata": {},
   "outputs": [
    {
     "name": "stdout",
     "output_type": "stream",
     "text": [
      "✅ Relaxed structure saved to: /home/mehuldarak/summer/relax_final/cellrelaxed_LLZO_010_La_order0_off__Li_110_slab_heavy.cif\n"
     ]
    },
    {
     "ename": "",
     "evalue": "",
     "output_type": "error",
     "traceback": [
      "\u001b[1;31mThe Kernel crashed while executing code in the current cell or a previous cell. \n",
      "\u001b[1;31mPlease review the code in the cell(s) to identify a possible cause of the failure. \n",
      "\u001b[1;31mClick <a href='https://aka.ms/vscodeJupyterKernelCrash'>here</a> for more info. \n",
      "\u001b[1;31mView Jupyter <a href='command:jupyter.viewOutput'>log</a> for further details."
     ]
    }
   ],
   "source": [
    "# Save relaxed structure\n",
    "relaxed_structure = result[\"final_structure\"]\n",
    "relaxed_structure.to(filename=output_path)\n",
    "\n",
    "print(f\"✅ Relaxed structure saved to: {output_path}\")"
   ]
  }
 ],
 "metadata": {
  "kernelspec": {
   "display_name": "mace",
   "language": "python",
   "name": "python3"
  },
  "language_info": {
   "codemirror_mode": {
    "name": "ipython",
    "version": 3
   },
   "file_extension": ".py",
   "mimetype": "text/x-python",
   "name": "python",
   "nbconvert_exporter": "python",
   "pygments_lexer": "ipython3",
   "version": "3.13.5"
  }
 },
 "nbformat": 4,
 "nbformat_minor": 5
}
