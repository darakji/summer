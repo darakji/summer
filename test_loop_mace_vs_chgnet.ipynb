{
 "cells": [
  {
   "cell_type": "markdown",
   "id": "8f90d956",
   "metadata": {},
   "source": [
    "This is a test loop of comparision b/w MACE and CHGNet labels using 5 data points."
   ]
  },
  {
   "cell_type": "code",
   "execution_count": 1,
   "id": "bee87fe6-2e2b-4ad6-b6b7-9c5d4743c6f1",
   "metadata": {},
   "outputs": [
    {
     "name": "stderr",
     "output_type": "stream",
     "text": [
      "/home/phanim/harshitrawat/miniconda3/envs/mace_0.3.8/lib/python3.10/site-packages/e3nn/o3/_wigner.py:10: FutureWarning: You are using `torch.load` with `weights_only=False` (the current default value), which uses the default pickle module implicitly. It is possible to construct malicious pickle data which will execute arbitrary code during unpickling (See https://github.com/pytorch/pytorch/blob/main/SECURITY.md#untrusted-models for more details). In a future release, the default value for `weights_only` will be flipped to `True`. This limits the functions that could be executed during unpickling. Arbitrary objects will no longer be allowed to be loaded via this mode unless they are explicitly allowlisted by the user via `torch.serialization.add_safe_globals`. We recommend you start setting `weights_only=True` for any use case where you don't have full control of the loaded file. Please open an issue on GitHub for any issues related to this experimental feature.\n",
      "  _Jd, _W3j_flat, _W3j_indices = torch.load(os.path.join(os.path.dirname(__file__), 'constants.pt'))\n"
     ]
    }
   ],
   "source": [
    "import os\n",
    "import json\n",
    "import numpy as np\n",
    "import pandas as pd\n",
    "from ase.io import read, write\n",
    "from mace.calculators import MACECalculator\n",
    "from chgnet.model.model import CHGNet\n",
    "from chgnet.model.dynamics import CHGNetCalculator\n",
    "import torch\n"
   ]
  },
  {
   "cell_type": "code",
   "execution_count": null,
   "id": "3aac7ffb-e21c-42d7-912e-b4bfdb20576f",
   "metadata": {},
   "outputs": [
    {
     "name": "stdout",
     "output_type": "stream",
     "text": [
      "✅ Wrote 5 structures to: /home/phanim/harshitrawat/summer/temp_1/mace_train_sample.extxyz\n"
     ]
    }
   ],
   "source": [
    "# === Paths ===\n",
    "json_path = \"/home/phanim/harshitrawat/summer/temp_1/mdinfo_chgnet_predictions_forces.json\"\n",
    "base_cif_dir = \"/home/phanim/harshitrawat/summer/md/mdcifs\"\n",
    "pert_cif_dir = \"/home/phanim/harshitrawat/summer/md/mdcifs_strained_perturbed\"\n",
    "out_path = \"/home/phanim/harshitrawat/summer/temp_1/mace_train_sample.extxyz\"\n",
    "\n",
    "# === Load JSON ===\n",
    "with open(json_path) as f:\n",
    "    data = json.load(f)\n",
    "\n",
    "atoms_list = []\n",
    "\n",
    "for entry in data:\n",
    "    if \"error\" in entry:\n",
    "        continue\n",
    "\n",
    "    fname = entry[\"file\"]\n",
    "    cif_path = os.path.join(pert_cif_dir if \"perturbed\" in fname else base_cif_dir, fname)\n",
    "\n",
    "    try:\n",
    "        atoms = read(cif_path)\n",
    "        forces = entry[\"forces_per_atom_eV_per_A\"]\n",
    "        if len(forces) != len(atoms):\n",
    "            print(f\"❌ force mismatch in {fname}\")\n",
    "            continue\n",
    "\n",
    "        atoms.arrays[\"REF_forces\"] = np.array(forces)\n",
    "        atoms.info[\"REF_energy\"] = entry[\"energy_eV\"]\n",
    "        atoms.info[\"file\"] = fname  # ✅ Fix: add original filename\n",
    "\n",
    "        atoms_list.append(atoms)\n",
    "    except Exception as e:\n",
    "        print(f\"❌ Failed on {fname}: {e}\")\n",
    "\n",
    "# === Write EXTXYZ ===\n",
    "if atoms_list:\n",
    "    os.makedirs(os.path.dirname(out_path), exist_ok=True)\n",
    "    write(out_path, atoms_list, format=\"extxyz\", write_info=True)\n",
    "    print(f\"✅ Wrote {len(atoms_list)} structures to: {out_path}\")\n",
    "else:\n",
    "    print(\"⚠️ No valid structures found\")\n"
   ]
  },
  {
   "cell_type": "code",
   "execution_count": null,
   "id": "ea52bb8c-30c9-4993-801e-ac6f5ed46ea0",
   "metadata": {},
   "outputs": [],
   "source": [
    "!mace_run_train \\\n",
    "  --name test_temp_1 \\\n",
    "  --model MACE \\\n",
    "  --train_file /home/phanim/harshitrawat/summer/temp_1/mace_train_sample.extxyz \\\n",
    "  --foundation_model /home/phanim/harshitrawat/summer/mace_models/universal/2024-01-07-mace-128-L2_epoch-199.model \\\n",
    "  --foundation_model_readout \\\n",
    "  --device cuda \\\n",
    "  --batch_size 1 \\\n",
    "  --valid_batch_size 1 \\\n",
    "  --r_max 5.0 \\\n",
    "  --default_dtype float64 \\\n",
    "  --max_num_epochs 5 \\\n",
    "  --forces_weight 100.0 \\\n",
    "  --energy_weight 1.0 \\\n",
    "  --valid_fraction 0.2 \\\n",
    "  --E0s \"{3: 0.0, 8: 0.0, 40: 0.0, 57: 0.0}\""
   ]
  },
  {
   "cell_type": "code",
   "execution_count": 3,
   "id": "794d14b9-8d99-46b9-843e-e39f9740fa6c",
   "metadata": {},
   "outputs": [
    {
     "name": "stderr",
     "output_type": "stream",
     "text": [
      "/home/phanim/harshitrawat/summer/mace/mace/calculators/mace.py:166: FutureWarning: You are using `torch.load` with `weights_only=False` (the current default value), which uses the default pickle module implicitly. It is possible to construct malicious pickle data which will execute arbitrary code during unpickling (See https://github.com/pytorch/pytorch/blob/main/SECURITY.md#untrusted-models for more details). In a future release, the default value for `weights_only` will be flipped to `True`. This limits the functions that could be executed during unpickling. Arbitrary objects will no longer be allowed to be loaded via this mode unless they are explicitly allowlisted by the user via `torch.serialization.add_safe_globals`. We recommend you start setting `weights_only=True` for any use case where you don't have full control of the loaded file. Please open an issue on GitHub for any issues related to this experimental feature.\n",
      "  torch.load(f=model_path, map_location=device)\n",
      "/home/phanim/harshitrawat/miniconda3/envs/mace_0.3.8/lib/python3.10/site-packages/torch/serialization.py:1328: UserWarning: 'torch.load' received a zip file that looks like a TorchScript archive dispatching to 'torch.jit.load' (call 'torch.jit.load' directly to silence this warning)\n",
      "  warnings.warn(\n"
     ]
    },
    {
     "name": "stdout",
     "output_type": "stream",
     "text": [
      "Using head Default out of ['Default']\n",
      "No dtype selected, switching to float64 to match model dtype.\n",
      "✅ Wrote 5 entries to: /home/phanim/harshitrawat/summer/temp_1/mace_predictions.jsonl\n"
     ]
    }
   ],
   "source": [
    "# === Config ===\n",
    "model_path = \"/home/phanim/harshitrawat/summer/test_temp_1_compiled.model\"\n",
    "input_extxyz = \"/home/phanim/harshitrawat/summer/temp_1/mace_train_sample.extxyz\"\n",
    "output_jsonl = \"/home/phanim/harshitrawat/summer/temp_1/mace_predictions.jsonl\"\n",
    "device = \"cuda\"\n",
    "\n",
    "# === Load model ===\n",
    "calc = MACECalculator(model_paths=model_path, device=device)\n",
    "\n",
    "# === Predict ===\n",
    "results = []\n",
    "\n",
    "for atoms in read(input_extxyz, index=\":\"):\n",
    "    atoms.calc = calc\n",
    "\n",
    "    fname = atoms.info.get(\"file\", \"unknown.cif\")\n",
    "    fname = os.path.basename(fname)\n",
    "\n",
    "    try:\n",
    "        energy = atoms.get_potential_energy()\n",
    "        forces = atoms.get_forces()\n",
    "\n",
    "        results.append({\n",
    "            \"file\": fname,\n",
    "            \"energy_eV_mace\": energy,\n",
    "            \"forces_per_atom_eV_per_A_mace\": forces.tolist(),\n",
    "        })\n",
    "\n",
    "    except Exception as e:\n",
    "        results.append({\n",
    "            \"file\": fname,\n",
    "            \"error\": str(e),\n",
    "        })\n",
    "\n",
    "# === Save as JSONL ===\n",
    "with open(output_jsonl, \"w\") as f:\n",
    "    for entry in results:\n",
    "        f.write(json.dumps(entry) + \"\\n\")\n",
    "\n",
    "print(f\"✅ Wrote {len(results)} entries to: {output_jsonl}\")\n"
   ]
  },
  {
   "cell_type": "code",
   "execution_count": 4,
   "id": "e9677220-ef47-43a7-89c6-b35a33922038",
   "metadata": {},
   "outputs": [
    {
     "name": "stdout",
     "output_type": "stream",
     "text": [
      "Energy MAE: 31.132116502408735 eV\n",
      "Forces MAE: 0.09049007920403924 eV/Å\n",
      "                                                file      dE_eV  forces_mae\n",
      "0  cellrelaxed_LLZO_001_Zr_code93_sto__Li_100_sla... -30.692820    0.081371\n",
      "1  cellrelaxed_LLZO_001_Zr_code93_sto__Li_100_sla... -30.850193    0.084471\n",
      "2  cellrelaxed_LLZO_001_Zr_code93_sto__Li_100_sla... -31.261529    0.091434\n",
      "3  cellrelaxed_LLZO_001_Zr_code93_sto__Li_100_sla... -31.502140    0.096671\n",
      "4  cellrelaxed_LLZO_001_Zr_code93_sto__Li_100_sla... -31.353900    0.098503\n"
     ]
    }
   ],
   "source": [
    "# === Paths ===\n",
    "mace_jsonl = \"/home/phanim/harshitrawat/summer/temp_1/mace_predictions.jsonl\"\n",
    "chgnet_json = \"/home/phanim/harshitrawat/summer/temp_1/mdinfo_chgnet_predictions_forces.json\"\n",
    "\n",
    "# === Load ===\n",
    "mace_df = pd.read_json(mace_jsonl, lines=True)\n",
    "chgnet_df = pd.read_json(chgnet_json)\n",
    "\n",
    "# Filter only successful predictions\n",
    "mace_df = mace_df[~mace_df[\"file\"].isna()]\n",
    "chgnet_df = chgnet_df[~chgnet_df[\"file\"].isna()]\n",
    "\n",
    "# Merge\n",
    "df = mace_df.merge(chgnet_df, on=\"file\", how=\"inner\", suffixes=(\"_mace\", \"_chg\"))\n",
    "\n",
    "# Compare energies\n",
    "df[\"dE_eV\"] = df[\"energy_eV_mace\"] - df[\"energy_eV\"]\n",
    "\n",
    "# Compare forces (L1 or L2 per-structure)\n",
    "def force_mae(row):\n",
    "    f1 = np.array(row[\"forces_per_atom_eV_per_A_mace\"])\n",
    "    f2 = np.array(row[\"forces_per_atom_eV_per_A\"])\n",
    "    return np.abs(f1 - f2).mean()\n",
    "\n",
    "df[\"forces_mae\"] = df.apply(force_mae, axis=1)\n",
    "\n",
    "print(\"Energy MAE:\", df[\"dE_eV\"].abs().mean(), \"eV\")\n",
    "print(\"Forces MAE:\", df[\"forces_mae\"].mean(), \"eV/Å\")\n",
    "print(df[[\"file\", \"dE_eV\", \"forces_mae\"]].head())\n"
   ]
  },
  {
   "cell_type": "code",
   "execution_count": 5,
   "id": "027d2a89-4084-4521-a20b-f9a5a6faa6f9",
   "metadata": {},
   "outputs": [
    {
     "data": {
      "image/png": "[encoded data removed]",
      "text/plain": [
       "<Figure size 640x480 with 1 Axes>"
      ]
     },
     "metadata": {},
     "output_type": "display_data"
    }
   ],
   "source": [
    "import matplotlib.pyplot as plt\n",
    "\n",
    "df[\"rel_energy_mace\"] = df[\"energy_eV_mace\"] - df[\"energy_eV_mace\"].mean()\n",
    "df[\"rel_energy_chg\"]  = df[\"energy_eV\"] - df[\"energy_eV\"].mean()\n",
    "\n",
    "plt.scatter(df[\"rel_energy_chg\"], df[\"rel_energy_mace\"], alpha=0.7)\n",
    "plt.xlabel(\"CHGNet (relative energy)\")\n",
    "plt.ylabel(\"MACE (relative energy)\")\n",
    "plt.title(\"Relative Energy Correlation\")\n",
    "plt.grid(True)\n",
    "plt.plot([-50, 50], [-50, 50], 'r--')  # ideal line\n",
    "plt.axis(\"equal\")\n",
    "plt.show()\n"
   ]
  },
  {
   "cell_type": "code",
   "execution_count": 6,
   "id": "fcf52cfa-0d70-442f-90d0-3565bf363a75",
   "metadata": {},
   "outputs": [
    {
     "name": "stdout",
     "output_type": "stream",
     "text": [
      "Aligned Energy MAE: 0.2884879424711471 eV\n"
     ]
    }
   ],
   "source": [
    "offset = (df[\"energy_eV_mace\"] - df[\"energy_eV\"]).mean()\n",
    "df[\"energy_eV_mace_aligned\"] = df[\"energy_eV_mace\"] - offset\n",
    "df[\"dE_eV_aligned\"] = df[\"energy_eV_mace_aligned\"] - df[\"energy_eV\"]\n",
    "\n",
    "print(\"Aligned Energy MAE:\", df[\"dE_eV_aligned\"].abs().mean(), \"eV\")\n"
   ]
  },
  {
   "cell_type": "code",
   "execution_count": null,
   "id": "e854b242",
   "metadata": {},
   "outputs": [],
   "source": [
    "# pip install pymatgen mp-api\n",
    "from pymatgen.ext.matproj import MPRester\n",
    "from pymatgen.core.composition import Composition\n",
    "from pymatgen.entries.compatibility import MaterialsProject2020Compatibility\n",
    "from pymatgen.analysis.phase_diagram import PhaseDiagram\n",
    "\n",
    "API_KEY = \"j3J85pX4nLw6asHG9E2lbbCHEKDKgrjc\"  # set env var MP_API_KEY instead if you prefer\n",
    "ELEMENTS = [\"Li\", \"O\", \"Zr\", \"La\"]\n",
    "\n",
    "# 1) Fetch entries in your chemistry from MP\n",
    "with MPRester(API_KEY) as mpr:\n",
    "    entries = mpr.get_entries_in_chemsys(ELEMENTS, inc_structure=False)\n",
    "\n",
    "# 2) Apply MP’s official compatibility scheme (GGA/GGA+U/r2SCAN mixing etc.)\n",
    "compat = MaterialsProject2020Compatibility()\n",
    "proc_entries = compat.process_entries(entries)\n",
    "\n",
    "# 3) Build a phase diagram and query MP’s per-element reference energies\n",
    "pd = PhaseDiagram(proc_entries)\n",
    "\n",
    "mp_e0s = {}\n",
    "for el in ELEMENTS:\n",
    "    mp_e0s[el] = float(pd.get_reference_energy_per_atom(Composition(el)))  # eV/atom\n",
    "\n",
    "print(\"MP reference energies (eV/atom):\", mp_e0s)\n"
   ]
  }
 ],
 "metadata": {
  "kernelspec": {
   "display_name": "mace_0.3.8",
   "language": "python",
   "name": "python3"
  },
  "language_info": {
   "codemirror_mode": {
    "name": "ipython",
    "version": 3
   },
   "file_extension": ".py",
   "mimetype": "text/x-python",
   "name": "python",
   "nbconvert_exporter": "python",
   "pygments_lexer": "ipython3",
   "version": "3.10.14"
  }
 },
 "nbformat": 4,
 "nbformat_minor": 5
}
