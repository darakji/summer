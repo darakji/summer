{
 "cells": [
  {
   "cell_type": "markdown",
   "id": "d7833af9",
   "metadata": {},
   "source": [
    "This notebook follows from the tutorials of CHGNet to relax LLZO-Li slabs that have been made in `llzo_li_balanced_sliced` directory."
   ]
  },
  {
   "cell_type": "markdown",
   "id": "3d234e1d",
   "metadata": {},
   "source": [
    "\n",
    "LLZO‖Li Interface Relaxation Notebook\n",
    "========================================\n",
    "\n",
    "Each notebook handles only one structure.\n",
    "1. Purpose: (This keeps updating)\n",
    "- Relax a single LLZO‖Li (in this notebook LLZO_001_Zr_code93_sto__Li_110_slab_heavy) heterostructure using CHGNet\n",
    "- Perform multi-stage optimization (in this notebook, CG → FIRE)\n",
    "- Freeze bulk-like regions (15 Å at both ends)\n",
    "- after all this, Relax lattice vectors to relieve interface strain\n",
    "\n",
    "2. This notebook handles:\n",
    "- Structure: LLZO_010_Li_order4_off__Li_100_slab_heavy\n",
    "- Initial lattice height: 66.24 Å\n",
    "- Number of atoms: 536\n",
    "\n",
    "3. Method:\n",
    "- CHGNet (v0.4.0) + ASE interface\n",
    "- Stage 1: SciPyFminCG (no cell relaxation) → fmax target ~0.15 eV/Å\n",
    "- Stage 2: FIRE (with optional cell relaxation) → fmax target ~0.05 eV/Å\n",
    "- FrechetCellFilter used for combined force + stress minimization\n",
    "\n",
    "4. Constraints:\n",
    "- LLZO base: frozen bottom 13.5 Å\n",
    "- Li top: frozen top 13.5 Å\n",
    "- Only interfacial region relaxed\n",
    "- Cell relaxation via `relax_cell=True` and `relax_cell_atoms=\"unconstrained\"`\n",
    "\n",
    "5. Outputs: (This will be decided later)\n",
    "- relaxed_[structure_name].cif\n",
    "- relaxed_[structure_name].traj\n",
    "- (Optional) relaxation_log.pkl with energies, forces\n",
    "\n",
    "6. Visual checks:\n",
    "- Compare pre- and post-relaxation structures\n",
    "- Ensure no Li diffusion into LLZO (via z-analysis)\n",
    "- Confirm convergence (fmax < 0.05 eV/Å)\n",
    "\n",
    "Author: Mehul Darak\n",
    "\n",
    "Date: 14-07-2025\n"
   ]
  },
  {
   "cell_type": "code",
   "execution_count": 2,
   "id": "955e570d",
   "metadata": {},
   "outputs": [
    {
     "name": "stdout",
     "output_type": "stream",
     "text": [
      "- Structure: LLZO_010_Li_order4_off__Li_100_slab_heavy\n",
      "- Initial lattice height: 66.24 Å\n",
      "- Number of atoms: 536\n"
     ]
    },
    {
     "name": "stderr",
     "output_type": "stream",
     "text": [
      "/home/mehuldarak/anaconda3/envs/mace/lib/python3.13/site-packages/pymatgen/io/cif.py:1290: UserWarning: Issues encountered while parsing CIF: 48 fractional coordinates rounded to ideal values to avoid issues with finite precision.\n",
      "  warnings.warn(\"Issues encountered while parsing CIF: \" + \"\\n\".join(self.warnings))\n"
     ]
    }
   ],
   "source": [
    "from pymatgen.core import Structure\n",
    "import os\n",
    "\n",
    "# Load structure\n",
    "structure_path = \"/home/mehuldarak/summer/llzo_li_balanced_sliced/LLZO_010_Li_order4_off__Li_100_slab_heavy.cif\"  # replace with your file\n",
    "structure = Structure.from_file(structure_path)\n",
    "\n",
    "# Extract info\n",
    "structure_name = os.path.basename(structure_path).replace(\".cif\", \"\")\n",
    "lattice_height = structure.lattice.c\n",
    "num_atoms = len(structure)\n",
    "\n",
    "# Print output\n",
    "print(f\"- Structure: {structure_name}\")\n",
    "print(f\"- Initial lattice height: {lattice_height:.2f} Å\")\n",
    "print(f\"- Number of atoms: {num_atoms}\")\n"
   ]
  },
  {
   "cell_type": "code",
   "execution_count": null,
   "id": "1846f174",
   "metadata": {},
   "outputs": [
    {
     "name": "stdout",
     "output_type": "stream",
     "text": [
      "Li slab thickness: 19.86 Å\n",
      "Lowest Li slab atom: 39.40 Å\n",
      "LLZO top z: 35.40 Å\n",
      "Li penetration into LLZO: -4.00 Å\n"
     ]
    }
   ],
   "source": [
    "from pymatgen.core import Structure\n",
    "import numpy as np\n",
    "\n",
    "s = Structure.from_file(\"/home/mehuldarak/summer/llzo_li_balanced_sliced/LLZO_010_Li_order4_off__Li_100_slab_heavy.cif\")\n",
    "\n",
    "# Get all atoms\n",
    "z_coords = np.array([site.z for site in s.sites])\n",
    "species = np.array([site.species_string for site in s.sites])\n",
    "\n",
    "# Estimate LLZO top (non-Li atoms)\n",
    "llzo_z = z_coords[species != \"Li\"]\n",
    "llzo_top = llzo_z.max()\n",
    "\n",
    "# Now isolate Li slab: Li atoms ABOVE LLZO\n",
    "li_slab_z = np.array([site.z for site in s.sites if site.species_string == \"Li\" and site.z > llzo_top])\n",
    "\n",
    "print(f\"Li slab thickness: {li_slab_z.ptp():.2f} Å\")\n",
    "print(f\"Lowest Li slab atom: {li_slab_z.min():.2f} Å\")\n",
    "print(f\"LLZO top z: {llzo_top:.2f} Å\")\n",
    "print(f\"Li penetration into LLZO: {llzo_top - li_slab_z.min():.2f} Å\")\n"
   ]
  },
  {
   "cell_type": "code",
   "execution_count": null,
   "id": "9df87ad4",
   "metadata": {},
   "outputs": [
    {
     "name": "stdout",
     "output_type": "stream",
     "text": [
      "Freezing 415 atoms out of 536\n",
      "CHGNet v0.3.0 initialized with 412,525 parameters\n",
      "CHGNet will run on cuda\n"
     ]
    },
    {
     "name": "stderr",
     "output_type": "stream",
     "text": [
      "/tmp/ipykernel_54570/706244439.py:26: FutureWarning: Please use atoms.calc = calc\n",
      "  structure.set_calculator(calc)\n"
     ]
    }
   ],
   "source": [
    "from pymatgen.io.ase import AseAtomsAdaptor\n",
    "from ase.constraints import FixAtoms\n",
    "from chgnet.model.dynamics import CHGNetCalculator, StructOptimizer\n",
    "from ase.io import read, write\n",
    "import numpy as np\n",
    "\n",
    "# --- Load structure ---\n",
    "structure = read(\"/home/mehuldarak/summer/llzo_li_balanced_sliced/LLZO_010_Li_order4_off__Li_100_slab_heavy.cif\")\n",
    "\n",
    "# --- Get z coordinates ---\n",
    "z_coords = structure.get_positions()[:, 2]\n",
    "z_min, z_max = z_coords.min(), z_coords.max()\n",
    "\n",
    "# --- Define freeze zones ---\n",
    "freeze_thickness_llzo = 0.75 * (freeze_thickness_llzo)  # in Å\n",
    "llzo_z_threshold = z_min + freeze_thickness\n",
    "li_z_threshold = z_max - freeze_thickness\n",
    "\n",
    "# --- Freeze LLZO base and Li top ---\n",
    "freeze_mask = (z_coords < llzo_z_threshold) | (z_coords > li_z_threshold)\n",
    "structure.set_constraint(FixAtoms(mask=freeze_mask))\n",
    "print(f\"Freezing {np.sum(freeze_mask)} atoms out of {len(structure)}\")\n",
    "\n",
    "# --- Attach CHGNet calculator ---\n",
    "calc = CHGNetCalculator(use_device=\"cuda\")\n",
    "structure.set_calculator(calc)\n",
    "\n"
   ]
  },
  {
   "cell_type": "code",
   "execution_count": 6,
   "id": "7579efc8",
   "metadata": {},
   "outputs": [
    {
     "name": "stdout",
     "output_type": "stream",
     "text": [
      "             Step     Time          Energy          fmax\n",
      "SciPyFminCG:    0 19:50:03    -2127.541367        0.753929\n",
      "SciPyFminCG:    1 19:50:04    -2130.280085        5.299298\n",
      "SciPyFminCG:    2 19:50:06    -2150.828201       10.744150\n",
      "SciPyFminCG:    3 19:50:07    -2153.393761        8.573008\n",
      "SciPyFminCG:    4 19:50:07    -2164.855713        4.229665\n",
      "SciPyFminCG:    5 19:50:08    -2170.750519        1.665468\n",
      "SciPyFminCG:    6 19:50:09    -2172.425110        2.088161\n",
      "SciPyFminCG:    7 19:50:10    -2173.947372        0.715406\n",
      "SciPyFminCG:    8 19:50:11    -2174.934185        2.318305\n",
      "SciPyFminCG:    9 19:50:12    -2175.629375        2.063509\n",
      "SciPyFminCG:   10 19:50:12    -2176.719444        1.863614\n",
      "SciPyFminCG:   11 19:50:13    -2177.181541        1.148508\n",
      "SciPyFminCG:   12 19:50:14    -2177.681465        1.074727\n",
      "SciPyFminCG:   13 19:50:14    -2178.075577        1.209065\n",
      "SciPyFminCG:   14 19:50:16    -2178.868401        2.191883\n",
      "SciPyFminCG:   15 19:50:16    -2179.873360        2.332675\n",
      "SciPyFminCG:   16 19:50:17    -2183.464325        2.834837\n",
      "SciPyFminCG:   17 19:50:18    -2188.685921        4.534561\n",
      "SciPyFminCG:   18 19:50:19    -2193.512638        6.529352\n",
      "SciPyFminCG:   19 19:50:20    -2199.116077        5.515460\n",
      "SciPyFminCG:   20 19:50:21    -2210.998978        4.856533\n",
      "SciPyFminCG:   21 19:50:21    -2221.095852        1.769283\n",
      "SciPyFminCG:   22 19:50:23    -2228.264236        4.244160\n",
      "SciPyFminCG:   23 19:50:24    -2232.400875        1.645938\n",
      "SciPyFminCG:   24 19:50:24    -2235.020618        1.235579\n",
      "SciPyFminCG:   25 19:50:25    -2237.130981        1.969812\n",
      "SciPyFminCG:   26 19:50:27    -2239.633667        1.604297\n",
      "SciPyFminCG:   27 19:50:27    -2242.294815        1.937909\n",
      "SciPyFminCG:   28 19:50:29    -2244.653095        1.283258\n",
      "SciPyFminCG:   29 19:50:30    -2246.519375        2.988987\n",
      "SciPyFminCG:   30 19:50:31    -2247.853783        1.937531\n",
      "SciPyFminCG:   31 19:50:31    -2248.922382        1.102379\n",
      "SciPyFminCG:   32 19:50:32    -2249.697826        1.911620\n",
      "SciPyFminCG:   33 19:50:33    -2250.250145        1.191285\n",
      "SciPyFminCG:   34 19:50:34    -2250.570648        0.562966\n",
      "SciPyFminCG:   35 19:50:35    -2251.049614        1.803477\n",
      "SciPyFminCG:   36 19:50:36    -2251.554905        0.623657\n",
      "SciPyFminCG:   37 19:50:37    -2251.983776        1.251558\n",
      "SciPyFminCG:   38 19:50:37    -2252.233994        0.449412\n",
      "SciPyFminCG:   39 19:50:38    -2252.458908        0.921040\n",
      "SciPyFminCG:   40 19:50:40    -2252.715260        0.587140\n",
      "SciPyFminCG:   41 19:50:41    -2253.214672        1.356375\n",
      "SciPyFminCG:   42 19:50:41    -2253.408916        1.039074\n",
      "SciPyFminCG:   43 19:50:42    -2253.760345        0.316876\n",
      "SciPyFminCG:   44 19:50:43    -2254.005451        0.691892\n",
      "SciPyFminCG:   45 19:50:44    -2254.133244        0.272412\n",
      "SciPyFminCG:   46 19:50:45    -2254.243145        0.258826\n",
      "SciPyFminCG:   47 19:50:46    -2254.375538        0.541602\n",
      "SciPyFminCG:   48 19:50:47    -2254.563648        0.393717\n",
      "SciPyFminCG:   49 19:50:48    -2254.647480        0.198384\n",
      "SciPyFminCG:   50 19:50:49    -2254.719299        0.299986\n",
      "SciPyFminCG:   51 19:50:50    -2254.761982        0.188023\n",
      "SciPyFminCG:   52 19:50:51    -2254.793419        0.271390\n",
      "SciPyFminCG:   53 19:50:52    -2254.823322        0.423202\n",
      "SciPyFminCG:   54 19:50:53    -2254.858082        0.148594\n"
     ]
    }
   ],
   "source": [
    "# Stage 1: CG\n",
    "opt1 = StructOptimizer(model=calc, optimizer_class=\"SciPyFminCG\", use_device=\"cuda\")\n",
    "result1 = opt1.relax(structure, fmax=0.15, steps=300, relax_cell=False, verbose=True)"
   ]
  },
  {
   "cell_type": "code",
   "execution_count": 7,
   "id": "9900c903",
   "metadata": {},
   "outputs": [
    {
     "name": "stderr",
     "output_type": "stream",
     "text": [
      "/tmp/ipykernel_54570/3154571052.py:3: FutureWarning: Please use atoms.calc = calc\n",
      "  structure_1.set_calculator(calc)\n"
     ]
    },
    {
     "name": "stdout",
     "output_type": "stream",
     "text": [
      "      Step     Time          Energy          fmax\n",
      "FIRE:    0 19:51:06    -2254.858082        0.148592\n",
      "FIRE:    1 19:51:06    -2254.860893        0.116538\n",
      "FIRE:    2 19:51:06    -2254.866005        0.085804\n",
      "FIRE:    3 19:51:06    -2254.871372        0.075637\n",
      "FIRE:    4 19:51:07    -2254.876995        0.074435\n",
      "FIRE:    5 19:51:07    -2254.882107        0.090921\n",
      "FIRE:    6 19:51:08    -2254.887218        0.085918\n",
      "FIRE:    7 19:51:08    -2254.892330        0.073052\n",
      "FIRE:    8 19:51:08    -2254.897697        0.076297\n",
      "FIRE:    9 19:51:09    -2254.903320        0.074244\n",
      "FIRE:   10 19:51:09    -2254.909199        0.072273\n",
      "FIRE:   11 19:51:09    -2254.916355        0.077621\n",
      "FIRE:   12 19:51:10    -2254.924534        0.085653\n",
      "FIRE:   13 19:51:10    -2254.934246        0.087056\n",
      "FIRE:   14 19:51:11    -2254.946259        0.090867\n",
      "FIRE:   15 19:51:11    -2254.961082        0.119570\n",
      "FIRE:   16 19:51:11    -2254.979485        0.116052\n",
      "FIRE:   17 19:51:12    -2255.000954        0.081164\n",
      "FIRE:   18 19:51:12    -2255.026001        0.093259\n",
      "FIRE:   19 19:51:12    -2255.058716        0.131591\n",
      "FIRE:   20 19:51:13    -2255.099609        0.125281\n",
      "FIRE:   21 19:51:13    -2255.140759        0.156561\n",
      "FIRE:   22 19:51:13    -2255.188042        0.182885\n",
      "FIRE:   23 19:51:14    -2255.241714        0.159313\n",
      "FIRE:   24 19:51:14    -2255.304077        0.162441\n",
      "FIRE:   25 19:51:15    -2255.365673        0.159257\n",
      "FIRE:   26 19:51:15    -2255.416279        0.196347\n",
      "FIRE:   27 19:51:15    -2255.448227        0.228602\n",
      "FIRE:   28 19:51:15    -2255.485542        0.239093\n",
      "FIRE:   29 19:51:16    -2255.533592        0.204052\n",
      "FIRE:   30 19:51:16    -2255.587009        0.203703\n",
      "FIRE:   31 19:51:17    -2255.646561        0.146770\n",
      "FIRE:   32 19:51:17    -2255.699467        0.131237\n",
      "FIRE:   33 19:51:17    -2255.748283        0.149175\n",
      "FIRE:   34 19:51:18    -2255.801189        0.168048\n",
      "FIRE:   35 19:51:18    -2255.851795        0.143699\n",
      "FIRE:   36 19:51:18    -2255.895500        0.132836\n",
      "FIRE:   37 19:51:19    -2255.926682        0.169628\n",
      "FIRE:   38 19:51:19    -2255.944572        0.264710\n",
      "FIRE:   39 19:51:20    -2255.963486        0.244139\n",
      "FIRE:   40 19:51:20    -2255.980354        0.225473\n",
      "FIRE:   41 19:51:20    -2256.015881        0.199537\n",
      "FIRE:   42 19:51:21    -2256.027637        0.084385\n",
      "FIRE:   43 19:51:21    -2256.031727        0.191126\n",
      "FIRE:   44 19:51:21    -2256.034794        0.128892\n",
      "FIRE:   45 19:51:22    -2256.038628        0.066878\n",
      "FIRE:   46 19:51:22    -2256.041183        0.081483\n",
      "FIRE:   47 19:51:22    -2256.042973        0.144302\n",
      "FIRE:   48 19:51:23    -2256.046040        0.144352\n",
      "FIRE:   49 19:51:23    -2256.050896        0.090212\n",
      "FIRE:   50 19:51:24    -2256.056263        0.056764\n",
      "FIRE:   51 19:51:24    -2256.060863        0.095100\n",
      "FIRE:   52 19:51:24    -2256.066231        0.120712\n",
      "FIRE:   53 19:51:24    -2256.073643        0.070786\n",
      "FIRE:   54 19:51:25    -2256.081566        0.083834\n",
      "FIRE:   55 19:51:25    -2256.090511        0.102140\n",
      "FIRE:   56 19:51:26    -2256.102268        0.064622\n",
      "FIRE:   57 19:51:26    -2256.115559        0.107376\n",
      "FIRE:   58 19:51:26    -2256.130383        0.081192\n",
      "FIRE:   59 19:51:27    -2256.144951        0.078063\n",
      "FIRE:   60 19:51:27    -2256.157475        0.134765\n",
      "FIRE:   61 19:51:27    -2256.166676        0.262193\n",
      "FIRE:   62 19:51:28    -2256.170765        0.090465\n",
      "FIRE:   63 19:51:28    -2256.172043        0.162708\n",
      "FIRE:   64 19:51:28    -2256.172810        0.133397\n",
      "FIRE:   65 19:51:29    -2256.173321        0.078711\n",
      "FIRE:   66 19:51:29    -2256.174088        0.068549\n",
      "FIRE:   67 19:51:30    -2256.174854        0.066918\n",
      "FIRE:   68 19:51:30    -2256.175365        0.099906\n",
      "FIRE:   69 19:51:30    -2256.176388        0.112197\n",
      "FIRE:   70 19:51:31    -2256.177410        0.092736\n",
      "FIRE:   71 19:51:31    -2256.178944        0.062751\n",
      "FIRE:   72 19:51:31    -2256.180477        0.060386\n",
      "FIRE:   73 19:51:32    -2256.182011        0.080510\n",
      "FIRE:   74 19:51:32    -2256.184055        0.081375\n",
      "FIRE:   75 19:51:33    -2256.186611        0.055430\n",
      "FIRE:   76 19:51:33    -2256.189423        0.058631\n",
      "FIRE:   77 19:51:33    -2256.192745        0.068815\n",
      "FIRE:   78 19:51:34    -2256.197090        0.052761\n",
      "FIRE:   79 19:51:34    -2256.201946        0.069975\n",
      "FIRE:   80 19:51:34    -2256.208080        0.052442\n",
      "FIRE:   81 19:51:35    -2256.214981        0.064108\n",
      "FIRE:   82 19:51:35    -2256.223415        0.064334\n",
      "FIRE:   83 19:51:35    -2256.233383        0.045148\n"
     ]
    }
   ],
   "source": [
    "# Convert back, assign calculator + constraint\n",
    "structure_1 = AseAtomsAdaptor.get_atoms(result1[\"final_structure\"])\n",
    "structure_1.set_calculator(calc)\n",
    "structure_1.set_constraint(FixAtoms(mask=freeze_mask))\n",
    "\n",
    "# Stage 2: FIRE\n",
    "opt2 = StructOptimizer(model=calc, optimizer_class=\"FIRE\", use_device=\"cuda\")\n",
    "result2 = opt2.relax(structure_1, fmax=0.05, steps=400, relax_cell=False, verbose=True)"
   ]
  },
  {
   "cell_type": "code",
   "execution_count": 8,
   "id": "02e25f8e",
   "metadata": {},
   "outputs": [
    {
     "name": "stdout",
     "output_type": "stream",
     "text": [
      "✅ Final structure saved successfully.\n"
     ]
    }
   ],
   "source": [
    "from pymatgen.io.ase import AseAtomsAdaptor\n",
    "from ase.io import write\n",
    "\n",
    "# Extract final structure from result3 (FIRE)\n",
    "final_structure_pmg = result2[\"final_structure\"]  # assuming result2 = FIRE\n",
    "final_structure_ase = AseAtomsAdaptor.get_atoms(final_structure_pmg)\n",
    "\n",
    "# Save as CIF and ASE trajectory\n",
    "write(f\"{structure_name}.cif\", final_structure_ase)\n",
    "write(f\"{structure_name}.traj\", final_structure_ase)\n",
    "\n",
    "print(\"✅ Final structure saved successfully.\")"
   ]
  },
  {
   "cell_type": "code",
   "execution_count": 14,
   "id": "179da561",
   "metadata": {},
   "outputs": [
    {
     "name": "stdout",
     "output_type": "stream",
     "text": [
      "Li slab thickness: 19.86 Å\n",
      "Lowest Li slab atom: 39.40 Å\n",
      "LLZO top z: 35.40 Å\n",
      "Li penetration into LLZO: -4.00 Å\n"
     ]
    }
   ],
   "source": [
    "from pymatgen.core import Structure\n",
    "import numpy as np\n",
    "\n",
    "s = Structure.from_file(\"/home/mehuldarak/summer/llzo_li_balanced_sliced/LLZO_001_Zr_code93_sto__Li_100_slab_heavy.cif\")\n",
    "\n",
    "# Get all atoms\n",
    "z_coords = np.array([site.z for site in s.sites])\n",
    "species = np.array([site.species_string for site in s.sites])\n",
    "\n",
    "# Estimate LLZO top (non-Li atoms)\n",
    "llzo_z = z_coords[species != \"Li\"]\n",
    "llzo_top = llzo_z.max()\n",
    "\n",
    "# Now isolate Li slab: Li atoms ABOVE LLZO\n",
    "li_slab_z = np.array([site.z for site in s.sites if site.species_string == \"Li\" and site.z > llzo_top])\n",
    "\n",
    "print(f\"Li slab thickness: {li_slab_z.ptp():.2f} Å\")\n",
    "print(f\"Lowest Li slab atom: {li_slab_z.min():.2f} Å\")\n",
    "print(f\"LLZO top z: {llzo_top:.2f} Å\")\n",
    "print(f\"Li penetration into LLZO: {llzo_top - li_slab_z.min():.2f} Å\")\n"
   ]
  }
 ],
 "metadata": {
  "kernelspec": {
   "display_name": "mace",
   "language": "python",
   "name": "python3"
  },
  "language_info": {
   "codemirror_mode": {
    "name": "ipython",
    "version": 3
   },
   "file_extension": ".py",
   "mimetype": "text/x-python",
   "name": "python",
   "nbconvert_exporter": "python",
   "pygments_lexer": "ipython3",
   "version": "3.13.5"
  }
 },
 "nbformat": 4,
 "nbformat_minor": 5
}
